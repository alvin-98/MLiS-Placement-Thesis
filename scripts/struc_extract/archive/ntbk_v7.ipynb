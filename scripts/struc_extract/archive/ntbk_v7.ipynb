{
 "cells": [
  {
   "cell_type": "code",
   "execution_count": 1,
   "id": "8e958171-f099-4301-9fa7-c6c012cad4f1",
   "metadata": {},
   "outputs": [],
   "source": [
    "import torch\n",
    "torch.cuda.empty_cache()\n",
    "\n",
    "import time\n",
    "import json\n",
    "from transformers import AutoTokenizer, AutoModelForCausalLM\n",
    "from pydantic import BaseModel, Field, RootModel\n",
    "from typing import Optional, Union, Literal, ForwardRef, List, Any\n",
    "from enum import Enum\n",
    "from guidance import models, system, user, assistant, json as gen_json, gen\n",
    "import torch, outlines\n",
    "from transformers import AutoModelForCausalLM, AutoTokenizer\n",
    "import json\n",
    "import torch\n",
    "from transformers import AutoTokenizer, AutoModelForCausalLM\n",
    "from pydantic import BaseModel, Field, RootModel\n",
    "from typing import Optional, Union\n",
    "from enum import Enum\n",
    "from guidance import models, system, user, assistant, json as gen_json\n",
    "import guidance\n",
    "from utils import timing_decorator"
   ]
  },
  {
   "cell_type": "code",
   "execution_count": 2,
   "id": "61020788-eeea-4d08-8416-f3658f754d54",
   "metadata": {},
   "outputs": [],
   "source": [
    "\n",
    "with open(\"../output/2025-airport-charges-terms-and-conditions/tinychargesmarkdown.md\", \"r\") as f:\n",
    "    markdown_content = f.read()\n"
   ]
  },
  {
   "cell_type": "code",
   "execution_count": 3,
   "id": "18612e87-e1a8-4861-9ad4-3b38207554ba",
   "metadata": {},
   "outputs": [
    {
     "data": {
      "application/vnd.jupyter.widget-view+json": {
       "model_id": "3fc41a62e08a4cadb3f535e0f98a9204",
       "version_major": 2,
       "version_minor": 0
      },
      "text/plain": [
       "Loading checkpoint shards:   0%|          | 0/16 [00:00<?, ?it/s]"
      ]
     },
     "metadata": {},
     "output_type": "display_data"
    }
   ],
   "source": [
    "\n",
    "MODEL_ID = \"Qwen/Qwen3-30B-A3B\"\n",
    "\n",
    "hf_model = AutoModelForCausalLM.from_pretrained(\n",
    "    MODEL_ID,\n",
    "    device_map=\"auto\",               \n",
    "    low_cpu_mem_usage=True,          \n",
    ")\n",
    "\n",
    "\n",
    "tok        = AutoTokenizer.from_pretrained(MODEL_ID)\n"
   ]
  },
  {
   "cell_type": "code",
   "execution_count": 4,
   "id": "0302e424-a63e-4fad-ad0e-799cc798c0f8",
   "metadata": {},
   "outputs": [
    {
     "name": "stderr",
     "output_type": "stream",
     "text": [
      "gpustat is not installed, run `pip install gpustat` to collect GPU stats.\n"
     ]
    }
   ],
   "source": [
    "\n",
    "model = guidance.models.Transformers(hf_model, tok)"
   ]
  },
  {
   "cell_type": "code",
   "execution_count": 5,
   "id": "e1cc4350-69c3-4f66-ba4e-1403b77e1aa4",
   "metadata": {},
   "outputs": [],
   "source": [
    "from pydantic import BaseModel, Field\n",
    "from typing import List, Any\n",
    "\n",
    "class DomainVariable(BaseModel):\n",
    "    \"\"\"Defines a single variable the LLM can use in the computation graph.\"\"\"\n",
    "    name: str = Field(..., description=\"The unique identifier for the variable.\")\n",
    "    description: str = Field(..., description=\"A detailed explanation of what this variable represents.\")\n",
    "    # Optional: You could add type hints, units, etc. for more advanced validation\n",
    "    unit: Optional[str] = Field(..., description=\"The unit of the variable\")\n",
    "    data_type : type = Field(..., description=\"The data type of the variable\")\n"
   ]
  },
  {
   "cell_type": "code",
   "execution_count": 6,
   "id": "9bfd994f-7310-4b5b-8946-72c0204efd63",
   "metadata": {},
   "outputs": [],
   "source": [
    "ALL_VARIABLES = {\n",
    "    \n",
    "    'transfer_passenger_count': DomainVariable(name='transfer_passenger_count', description='Total number of transferring passengers.', unit=None, data_type=float),\n",
    "    'airline_scheduling_season': DomainVariable(name='airline_scheduling_season', description='Whether summer/winter airline scheduling season.', unit=None, data_type=float),\n",
    "    'takeoff_aircraft_mtow_tonnes': DomainVariable(name='takeoff_aircraft_mtow_tonnes', description='The Maximum Take-Off Weight in tonnes.', unit='tonne', data_type=float),\n",
    "    'landing_aircraft_mtow_tonnes': DomainVariable(name='landing_aircraft_mtow_tonnes', description='The Maximum Landing Weight in tonnes.', unit='tonne', data_type=float),\n",
    "    \n",
    "    'parking_duration_hours': DomainVariable(\n",
    "        name='parking_duration_hours',\n",
    "        description='Total duration of parking in hours. Surcharges apply at 48 and 72 hours.',\n",
    "        unit='hours',\n",
    "        data_type=float\n",
    "    ),\n",
    "    'aircraft_stand_type': DomainVariable(\n",
    "        name='aircraft_stand_type',\n",
    "        description='The type of aircraft stand used for parking. E.g., \"Wide Contact\", \"Narrow Remote\", \"LAP\", \"Long Term Remote\".',\n",
    "        unit=None,\n",
    "        data_type=str\n",
    "    ),\n",
    "    'parking_location': DomainVariable(\n",
    "        name='parking_location',\n",
    "        description='The location of the parking stand, either \"EAP\" (East Aerodrome Parking) or \"WAP\" (West Aerodrome Parking).',\n",
    "        unit=None,\n",
    "        data_type=str\n",
    "    ),\n",
    "    'is_overnight_parking': DomainVariable(\n",
    "        name='is_overnight_parking',\n",
    "        description='True if the parking occurs during the free overnight period (2300-0600hrs).',\n",
    "        unit=None,\n",
    "        data_type=bool\n",
    "    )\n",
    "}\n",
    "# 2. Map charge types to the variable names they are allowed to use\n",
    "CHARGE_CATEGORY_VARIABLES = {\n",
    "    # --- Existing Categories ---\n",
    "    \"transfer_passenger_charge\": [\n",
    "        'transfer_passenger_count', \n",
    "        'airline_scheduling_season'\n",
    "    ],\n",
    "    \"runway_landing_charge\": [\n",
    "        'landing_aircraft_mtow_tonnes', \n",
    "        'airline_scheduling_season'\n",
    "    ],\n",
    "    \"runway_takeoff_charge\": [\n",
    "        'takeoff_aircraft_mtow_tonnes', \n",
    "        'airline_scheduling_season'\n",
    "    ],\n",
    "\n",
    "    # --- New Categories for Parking Charges ---\n",
    "    \"east_aerodrome_parking_charge\": [\n",
    "        'parking_duration_hours',\n",
    "        'aircraft_stand_type',\n",
    "        'is_overnight_parking'\n",
    "        # 'parking_location' is implicitly 'EAP' for this category\n",
    "    ],\n",
    "    \"west_aerodrome_parking_charge\": [\n",
    "        'parking_duration_hours',\n",
    "        'aircraft_stand_type',\n",
    "        'is_overnight_parking'\n",
    "        # 'parking_location' is implicitly 'WAP' for this category\n",
    "    ]\n",
    "}\n",
    "\n"
   ]
  },
  {
   "cell_type": "code",
   "execution_count": 7,
   "id": "7bb3f643-b891-4d32-a5ab-b143bd224d54",
   "metadata": {},
   "outputs": [
    {
     "name": "stdout",
     "output_type": "stream",
     "text": [
      "transfer_passenger_count\n"
     ]
    }
   ],
   "source": [
    "def create_dynamic_variable_enum(charge_category: str) -> type(Enum):\n",
    "    \"\"\"\n",
    "    Creates a new Enum class containing only the variables relevant\n",
    "    to the specified charge category.\n",
    "    \"\"\"\n",
    "    variable_names = CHARGE_CATEGORY_VARIABLES.get(charge_category)\n",
    "    if not variable_names:\n",
    "        raise ValueError(f\"Unknown charge category: {charge_category}\")\n",
    "    \n",
    "    # The dictionary for the Enum must have {MEMBER_NAME: value}\n",
    "    # We'll use uppercase for the member name for convention.\n",
    "    enum_dict = {name.upper(): name for name in variable_names}\n",
    "    \n",
    "    # Create the Enum class dynamically\n",
    "    return Enum(\"Var\", enum_dict)\n",
    "\n",
    "Var = create_dynamic_variable_enum(\"transfer_passenger_charge\")\n",
    "print(Var.TRANSFER_PASSENGER_COUNT.value)"
   ]
  },
  {
   "cell_type": "code",
   "execution_count": 8,
   "id": "a76f7bde-494c-4106-bb5b-3bb5518e7cbf",
   "metadata": {},
   "outputs": [
    {
     "data": {
      "text/plain": [
       "['transfer_passenger_count', 'airline_scheduling_season']"
      ]
     },
     "execution_count": 8,
     "metadata": {},
     "output_type": "execute_result"
    }
   ],
   "source": [
    "allowed_variables = [el.value for el in list(Var)]\n",
    "allowed_variables"
   ]
  },
  {
   "cell_type": "code",
   "execution_count": 9,
   "id": "e377eb17-3b9e-4dd9-a99f-361990a05925",
   "metadata": {},
   "outputs": [],
   "source": [
    "from pydantic import BaseModel, Field, RootModel\n",
    "from typing import Union, Literal\n",
    "from enum import Enum\n",
    "\n",
    "# Separate enums for clarity and type safety\n",
    "class MathOperator(str, Enum):\n",
    "    ADD = \"ADD\"\n",
    "    MULTIPLY = \"MULTIPLY\"\n",
    "    DIVIDE = \"DIVIDE\"\n",
    "\n",
    "class Comparator(str, Enum):\n",
    "    GREATER_THAN = \"GREATER_THAN\"\n",
    "    LESS_THAN = \"LESS_THAN\"\n",
    "    EQUAL_TO = \"EQUAL_TO\"\n",
    "\n",
    "class Units(str, Enum):\n",
    "    HOURS = \"HOURS\"\n",
    "    MINUTES = \"MINUTES\"\n",
    "    EUROS = \"EUROS\"\n",
    "    UNITLESS = \"UNITLESS\"\n",
    "    \n",
    "# --- Node Definitions ---\n",
    "\n",
    "class ValueNode(BaseModel):\n",
    "    type: Literal[\"VALUE\"] = \"VALUE\"\n",
    "    value: float\n",
    "    description: str\n",
    "    unit: Units\n",
    "\n",
    "class VariableNode(BaseModel):\n",
    "    type: Literal[\"VARIABLE\"] = \"VARIABLE\"\n",
    "    name: str \n",
    "    description: str\n",
    "    unit: Units\n",
    "\n",
    "class BinaryOpNode(BaseModel):\n",
    "    \"\"\"Node for mathematical operations that produce a number.\"\"\"\n",
    "    type: Literal[\"BINARY_OPERATION\"] = \"BINARY_OPERATION\"\n",
    "    operator: MathOperator\n",
    "    left: 'AnyNode'\n",
    "    right: 'AnyNode'\n",
    "\n",
    "class ComparisonNode(BaseModel):\n",
    "    \"\"\"Node for comparison operations that produce a boolean.\"\"\"\n",
    "    type: Literal[\"COMPARISON\"] = \"COMPARISON\"\n",
    "    operator: Comparator\n",
    "    left: 'AnyNode'\n",
    "    right: 'AnyNode'\n",
    "\n",
    "class ConditionalNode(BaseModel):\n",
    "    \"\"\"Node for if-then-else logic.\"\"\"\n",
    "    type: Literal[\"CONDITIONAL\"] = \"CONDITIONAL\"\n",
    "    condition: ComparisonNode # Condition must be a comparison\n",
    "    if_true: 'AnyNode'\n",
    "    if_false: 'AnyNode'\n",
    "\n",
    "# --- Recursive Setup ---\n",
    "\n",
    "AnyNode = Union[\n",
    "    ValueNode, \n",
    "    VariableNode, \n",
    "    BinaryOpNode, \n",
    "    ConditionalNode\n",
    "]\n",
    "\n",
    "# Use model_rebuild() to safely resolve all forward references\n",
    "BinaryOpNode.model_rebuild()\n",
    "ConditionalNode.model_rebuild()\n",
    "ComparisonNode.model_rebuild()\n",
    "\n",
    "class Node(RootModel):\n",
    "    root: BinaryOpNode"
   ]
  },
  {
   "cell_type": "code",
   "execution_count": 18,
   "id": "17f20a48-e4ff-4631-9282-01676c79a740",
   "metadata": {},
   "outputs": [],
   "source": [
    "\n",
    "class ReasoningSchema(BaseModel):\n",
    "    # 1. All document values you’ll pull out\n",
    "    identified_values: List[str] = Field(\n",
    "        ...,\n",
    "        description=\"The specific numeric or textual values extracted from the document that are needed for the charge calculation.\"\n",
    "    )\n",
    "    # 2. The symbolic variables you’ll map those values onto\n",
    "    identified_variables: List[str] = Field(\n",
    "        ...,\n",
    "        description=\"The list of variable names (from the allowed set) that correspond to the extracted values.\"\n",
    "    )\n",
    "    # 3. How you’ll combine them into an expression tree\n",
    "    synthesis_plan: str = Field(\n",
    "        ...,\n",
    "        description=\"A concise, step‐by‐step plan describing how the identified pieces are combined into the final computation graph.\"\n",
    "    )\n",
    "    # 4. Your final sanity‐check / rethink\n",
    "    rethink: str = Field(\n",
    "        ...,\n",
    "        description=\"Any final adjustments or checks made before jumping into the JSON generation.\"\n",
    "    )\n",
    "\n",
    "# Then, right before you call gen_json for the “thought”:\n",
    "# reasoning_schema = ReasoningSchema.schema()\n"
   ]
  },
  {
   "cell_type": "code",
   "execution_count": 19,
   "id": "4f9e75d4-47b6-41b3-820f-2b3dbcb825c8",
   "metadata": {},
   "outputs": [],
   "source": [
    "@guidance\n",
    "def create_graph_with_cot(llm, allowed_variables_prompt, document, query, output_schema):\n",
    "    \n",
    "    with system():\n",
    "        llm += f\"\"\"You are an expert system that converts textual calculation rules into structured JSON expression trees.\n",
    "        You MUST think step-by-step and reason before generating the final JSON.\n",
    "\n",
    "        **Reasoning Guidelines:**\n",
    "        1.  **Identify All Values From Document Required for Charge Calculation:** Find the value's that are required for computing the charge present in the user query.\n",
    "        2.  **Identify Variables:** List the symbolic variables needed for the calculation (e.g., parking_duration_hours) from the list below.\n",
    "        **Allowed Variables for this Task:**\n",
    "        ---\n",
    "        {allowed_variables_prompt}\n",
    "        ---\n",
    "        \n",
    "        3.  **Synthesize Plan:** Briefly describe how you will combine these pieces into a final expression tree.\n",
    "        4. **Rethink and Finalize Approach**: Before processing with generation, rethink your progress so far and make adjustments if necessary, then finalize and proceed to generate the expression tree.\n",
    "\n",
    "        Your reasoning starts when you encounter <think> token. After writing your reasoning, you MUST output `</think>` on a new line and then you WILL generate the JSON object.\n",
    "\n",
    "        \n",
    "        \"\"\"\n",
    "\n",
    "    with user():\n",
    "        llm += f\"\"\"\n",
    "        **Document:**\n",
    "        ---\n",
    "        {document}\n",
    "        ---\n",
    "\n",
    "        **Query:**\n",
    "        Based on the document, construct the computation graph for the following request:\n",
    "        \"{query}\"\n",
    "        \n",
    "        \"\"\"\n",
    "\n",
    "    with assistant():\n",
    "        llm += \"<think>\"\n",
    "        llm += \"I will now follow the reasoning guidelines step-by-step before generating the final JSON.\\n\"\n",
    "        llm += gen_json(\n",
    "            name=\"thought\", \n",
    "            schema=ReasoningSchema, \n",
    "            max_tokens=1000)\n",
    "\n",
    "        # After thinking, it generates the JSON.\n",
    "        llm += \"\\n\\nFinal JSON object:\\n\"\n",
    "        llm += gen_json(\n",
    "            name=\"result_graph\", \n",
    "            schema=output_schema,\n",
    "            max_tokens=1000 \n",
    "        )\n",
    "        \n",
    "    return llm"
   ]
  },
  {
   "cell_type": "code",
   "execution_count": 20,
   "id": "4d910e07-d59b-480d-b317-440939d7566d",
   "metadata": {},
   "outputs": [],
   "source": [
    "\n",
    "class ComputationGraphBuilder:\n",
    "    \"\"\"\n",
    "    Orchestrates the creation of a computation graph by preparing dynamic\n",
    "    constraints and prompting the LLM.\n",
    "    \"\"\"\n",
    "    \n",
    "    def __init__(self, model):\n",
    "        \"\"\"\n",
    "        Initializes the builder with a guidance model.\n",
    "        \"\"\"\n",
    "        self.model = model\n",
    "        # Set the default LLM for all guidance programs\n",
    "        # guidance.llm = self.model\n",
    "    @timing_decorator\n",
    "    def build(self, document_content: str, query: str, charge_category: str) -> dict:\n",
    "        \"\"\"\n",
    "        Generates a computation graph for a given query and document.\n",
    "\n",
    "        Args:\n",
    "            document_content: The text containing the rules.\n",
    "            query: A natural language question about what to calculate.\n",
    "            charge_category: The specific charge context used to filter variables.\n",
    "\n",
    "        Returns:\n",
    "            A dictionary representing the computation graph or an error.\n",
    "        \"\"\"\n",
    "        print(f\"--- Building graph for charge category: '{charge_category}' ---\")\n",
    "        \n",
    "        # 1. Dynamically create the filtered Enum for this specific task\n",
    "        try:\n",
    "            Var = create_dynamic_variable_enum(charge_category)\n",
    "        except ValueError as e:\n",
    "            print(f\"Error: {e}\")\n",
    "            return {\"error\": str(e)}\n",
    "\n",
    "        # 3. Create a formatted prompt string of allowed variables for the LLM\n",
    "        allowed_variables = [el.value for el in list(Var)]\n",
    "        allowed_variables_prompt = \"\\n\".join(\n",
    "            [f\"- **{v.name}**: {v.description}\" for name, v in ALL_VARIABLES.items() if name in allowed_variables]\n",
    "        )\n",
    "\n",
    "        try:\n",
    "            # 4. Execute the guidance program with all dynamic components\n",
    "            result_lm = self.model + create_graph_with_cot(\n",
    "                allowed_variables_prompt=allowed_variables_prompt,\n",
    "                document=document_content,\n",
    "                query=query,\n",
    "                output_schema=Node\n",
    "            )\n",
    "            \n",
    "            \n",
    "            # print(\"\\nSuccessfully generated graph:\")\n",
    "            # # Use model_dump_json for Pydantic v2\n",
    "            # print(pydantic_graph.model_dump_json(indent=2)) \n",
    "            return result_lm\n",
    "            \n",
    "        except Exception as e:\n",
    "            print(f\"\\nAn error occurred while building the graph for '{query}': {e}\")\n",
    "            return {\"error\": str(e)}"
   ]
  },
  {
   "cell_type": "code",
   "execution_count": 21,
   "id": "e0c2b98c-68d6-41f5-a262-3e0d42d7d11c",
   "metadata": {},
   "outputs": [],
   "source": [
    "import sympy\n",
    "from sympy import Symbol, Piecewise, sympify, Add, Mul, Pow\n",
    "\n",
    "def compose_expression(node: dict):\n",
    "    \"\"\"\n",
    "    Recursively parses a JSON graph into a SymPy expression,\n",
    "    preventing automatic simplification.\n",
    "\n",
    "    Args:\n",
    "        node: A dictionary representing a node in the computation graph.\n",
    "\n",
    "    Returns:\n",
    "        A non-evaluated sympy expression representing the computation.\n",
    "    \"\"\"\n",
    "\n",
    "    node_type = node.get('type')\n",
    "\n",
    "    if node_type == \"VALUE\":\n",
    "        return sympify(node['value'])\n",
    "\n",
    "    elif node_type == \"VARIABLE\":\n",
    "        return Symbol(node['name'])\n",
    "\n",
    "    elif node_type == \"BINARY_OPERATION\":\n",
    "        left = compose_expression(node['left'])\n",
    "        right = compose_expression(node['right'])\n",
    "        operator = node['operator']\n",
    "        \n",
    "        # Use class constructors with evaluate=False to prevent simplification\n",
    "        if operator == \"ADD\":\n",
    "            return Add(left, right, evaluate=False)\n",
    "        elif operator == \"MULTIPLY\":\n",
    "            return Mul(left, right, evaluate=False)\n",
    "        elif operator == \"DIVIDE\":\n",
    "            # Division (a/b) is represented as a * (b**-1)\n",
    "            power = Pow(right, -1, evaluate=False)\n",
    "            return Mul(left, power, evaluate=False)\n",
    "        else:\n",
    "            raise ValueError(f\"Unsupported binary operator: {operator}\")\n",
    "\n",
    "    elif node_type == \"COMPARISON\":\n",
    "        left = compose_expression(node['left'])\n",
    "        right = compose_expression(node['right'])\n",
    "        operator = node['operator']\n",
    "\n",
    "        if operator == \"GREATER_THAN\":\n",
    "            return left > right\n",
    "        else:\n",
    "            raise ValueError(f\"Unsupported comparison operator: {operator}\")\n",
    "\n",
    "    elif node_type == \"CONDITIONAL\":\n",
    "        condition = compose_expression(node['condition'])\n",
    "        if_true_expr = compose_expression(node['if_true'])\n",
    "        if_false_expr = compose_expression(node['if_false'])\n",
    "        \n",
    "        return Piecewise((if_true_expr, condition), (if_false_expr, True))\n",
    "\n",
    "    else:\n",
    "        raise ValueError(f\"Unknown node type: {node_type}\")"
   ]
  },
  {
   "cell_type": "code",
   "execution_count": 22,
   "id": "c32f9032-14c4-4108-8c7e-89cd4a826589",
   "metadata": {},
   "outputs": [],
   "source": [
    "import json\n",
    "import traceback\n",
    "\n",
    "\n",
    "def create_computation_graph(model, query, charge_category):\n",
    "    graph_builder = ComputationGraphBuilder(model=model)\n",
    "\n",
    "    start_time = time.perf_counter()\n",
    "    llm_structured_response = graph_builder.build(\n",
    "        document_content=markdown_content,\n",
    "        query=query,\n",
    "        charge_category=charge_category\n",
    "    )\n",
    "    end_time = time.perf_counter()\n",
    "    build_time = end_time - start_time\n",
    "\n",
    "    try:\n",
    "        llm_structured_thought = json.loads(llm_structured_response[\"thought\"])\n",
    "        computation_graph = json.loads(llm_structured_response[\"result_graph\"])\n",
    "    \n",
    "    except json.JSONDecodeError as e:\n",
    "        print(\"[JSON Decode Error]:\", e)\n",
    "        print(\"Raw JSON field value:\", llm_structured_response.get(\"thought\"), llm_structured_response.get(\"result_graph\"))\n",
    "        return None, None, build_time, llm_structured_response\n",
    "\n",
    "    except Exception as e:\n",
    "        print(\"[Unexpected Error]:\", e)\n",
    "        traceback.print_exc()  # Full traceback for debugging\n",
    "    \n",
    "        # Optionally log or report the error, then return fallback:\n",
    "        return None, None, build_time, {\n",
    "            \"error\": \"Unexpected failure while parsing LLM output.\",\n",
    "            \"raw_response\": llm_structured_response,\n",
    "            \"exception\": str(e)\n",
    "        }\n",
    "\n",
    "    return computation_graph, llm_structured_thought, build_time, llm_structured_response\n"
   ]
  },
  {
   "cell_type": "markdown",
   "id": "4c492dce-84e1-41a1-9440-f4e13cdbb02c",
   "metadata": {},
   "source": [
    "1. Changes:\n",
    "- Added a structured schema for our steps of reasoning to counter the problems with variable length reasoning. Tokens capped at 1k.\n",
    "2. Observations:\n",
    "- The reasoning produced is pretty good, although the model makes a mistakes in one of the steps where it thinks that the surcharge may not be required; it quickly corrects this in the final reconsideration step and evaluates the problem correctly.\n",
    "- The graph generated is perfection! :') \n",
    "3. Discussions:\n",
    "- Structured generation for the win! Guiding the model to think in a structured way, assuming 1k tokens is enough inference time compute (there is a paper, which says that any problem solvable by boolean circuits of size T, constant size transformers can solve it by generating O(T) INTERMEDIATE tokens, and if directly generating final answers, either requires a huge depth or cannot solve at all! (Source: Reasoning talk by google reasoning team lead Denny Zhou (https://youtu.be/ebnX5Ur1hBk?si=cfl9k0_CGLuxeN5y)\n",
    "- Above implies that if we simply scale the token budget for reasoning which is now in our control, we could potentially come up with such a computation graph for any problem? \n",
    "- To Note: We still may be bypassing the natural training of the model by using such structured generation! During SFT and RLFT, the models may be trained to generate their thinking between <think> </think> tokens, it still remains to be seen how they stop the thinking process, and whether is done naturally or ends when the model outputs </think>. Next, how is thinking something that can simply be turned off or on, example in qwen models.\n",
    "4. Next Steps:\n",
    "- See if other entities from the pdf are extractable.\n",
    "- Modify the smpy solver and to handle these additional nodes."
   ]
  },
  {
   "cell_type": "code",
   "execution_count": 13,
   "id": "b2d052b1-5335-45b9-8f8a-186a5d4cf185",
   "metadata": {},
   "outputs": [
    {
     "name": "stdout",
     "output_type": "stream",
     "text": [
      "--- Building graph for charge category: 'west_aerodrome_parking_charge' ---\n"
     ]
    },
    {
     "data": {
      "application/vnd.jupyter.widget-view+json": {
       "model_id": "3c95218022d349a6865958da64481d11",
       "version_major": 2,
       "version_minor": 0
      },
      "text/plain": [
       "StitchWidget(initial_height='auto', initial_width='100%', srcdoc='<!doctype html>\\n<html lang=\"en\">\\n<head>\\n …"
      ]
     },
     "metadata": {},
     "output_type": "display_data"
    },
    {
     "name": "stderr",
     "output_type": "stream",
     "text": [
      "IOPub message rate exceeded.\n",
      "The Jupyter server will temporarily stop sending output\n",
      "to the client in order to avoid crashing it.\n",
      "To change this limit, set the config variable\n",
      "`--ServerApp.iopub_msg_rate_limit`.\n",
      "\n",
      "Current values:\n",
      "ServerApp.iopub_msg_rate_limit=1000.0 (msgs/sec)\n",
      "ServerApp.rate_limit_window=3.0 (secs)\n",
      "\n"
     ]
    }
   ],
   "source": [
    "graph_builder = ComputationGraphBuilder(model=model)\n",
    "\n",
    "my_query = \"Calculate the total parking charge for a Long Term Remote stand type at West Aerodrome Parking with no overnight parking. The parking duration is a variable with unit hours.\"\n",
    "my_charge_category = \"west_aerodrome_parking_charge\"\n",
    "\n",
    "# 3. Call the build method to generate the graph\n",
    "start_time = time.perf_counter()\n",
    "expression_tree_dict = graph_builder.build(\n",
    "    document_content=markdown_content,\n",
    "    query=my_query,\n",
    "    charge_category=my_charge_category\n",
    ")\n",
    "end_time = time.perf_counter()\n",
    "execution_time = end_time - start_time\n",
    "# print(f\"Execution time for '{func.__name__}': {execution_time:.4f} seconds\")"
   ]
  },
  {
   "cell_type": "code",
   "execution_count": 14,
   "id": "42b4a459-f8df-4464-afce-6e1a59754be1",
   "metadata": {},
   "outputs": [
    {
     "data": {
      "text/plain": [
       "261.31297062599333"
      ]
     },
     "execution_count": 14,
     "metadata": {},
     "output_type": "execute_result"
    }
   ],
   "source": [
    "execution_time\n",
    "# print(expression_tree_dict['thought'])\n",
    "# loaded_json = json.loads(expression_tree_dict['result_graph'])\n",
    "# print(json.dumps(loaded_json, indent=4))"
   ]
  },
  {
   "cell_type": "code",
   "execution_count": 17,
   "id": "15bf8b83-5dc1-4751-a86b-97a45a5f07c8",
   "metadata": {},
   "outputs": [
    {
     "name": "stdout",
     "output_type": "stream",
     "text": [
      "{\n",
      "    \"identified_values\": [\n",
      "        \"parking_duration_hours\",\n",
      "        \"aircraft_stand_type\",\n",
      "        \"is_overnight_parking\"\n",
      "    ],\n",
      "    \"identified_variables\": [\n",
      "        \"parking_duration_hours\",\n",
      "        \"aircraft_stand_type\",\n",
      "        \"is_overnight_parking\"\n",
      "    ],\n",
      "    \"synthesis_plan\": \"The total parking charge depends on the stand type (West Aerodrome Parking Long Term Remote), parking duration, and whether it's overnight. The base rate is \\u20ac180.00 per day or part thereof. Since it's not overnight, we don't apply the free night-time charge. We need to calculate the number of days (ceiling of duration/24) and multiply by the base rate. No surcharges apply since the duration is not 48+ hours.\",\n",
      "    \"rethink\": \"I need to verify the exact charging rules for Long Term Remote in WAP. The document says it's charged per day or part thereof. Also, check if there are any surcharges for extended periods. The surcharge applies for 48-72 hours (100% surcharge) and 72+ hours (200% surcharge). However, since the duration is a variable, we need to calculate based on the actual hours. The base rate is \\u20ac180.00 per day. For durations over 48 hours, apply the surcharge. The calculation should be: if duration >= 72 hours, charge = (days * 180) * 3; if duration >=48 hours, charge = (days * 180) * 2; else charge = days * 180. Days is calculated as ceiling(duration / 24). Also, since it's not overnight, no free charge applies.\"\n",
      "}\n"
     ]
    }
   ],
   "source": [
    "# execution_time\n",
    "loaded_json = json.loads(expression_tree_dict['thought'])\n",
    "print(json.dumps(loaded_json, indent=4))\n",
    "# loaded_json = json.loads(expression_tree_dict['result_graph'])\n",
    "# print(json.dumps(loaded_json, indent=4))"
   ]
  },
  {
   "cell_type": "code",
   "execution_count": 25,
   "id": "e0584e79-1984-437b-a3a7-d094c59708d5",
   "metadata": {},
   "outputs": [
    {
     "name": "stdout",
     "output_type": "stream",
     "text": [
      "{\n",
      "    \"type\": \"BINARY_OPERATION\",\n",
      "    \"operator\": \"ADD\",\n",
      "    \"left\": {\n",
      "        \"type\": \"CONDITIONAL\",\n",
      "        \"condition\": {\n",
      "            \"type\": \"COMPARISON\",\n",
      "            \"operator\": \"GREATER_THAN\",\n",
      "            \"left\": {\n",
      "                \"type\": \"VARIABLE\",\n",
      "                \"name\": \"parking_duration_hours\",\n",
      "                \"description\": \"Total duration of parking in hours. Surcharges apply at 48 and 72 hours.\",\n",
      "                \"unit\": \"HOURS\"\n",
      "            },\n",
      "            \"right\": {\n",
      "                \"type\": \"VALUE\",\n",
      "                \"value\": 72,\n",
      "                \"description\": \"Threshold for 200% surcharge\",\n",
      "                \"unit\": \"HOURS\"\n",
      "            }\n",
      "        },\n",
      "        \"if_true\": {\n",
      "            \"type\": \"BINARY_OPERATION\",\n",
      "            \"operator\": \"MULTIPLY\",\n",
      "            \"left\": {\n",
      "                \"type\": \"BINARY_OPERATION\",\n",
      "                \"operator\": \"MULTIPLY\",\n",
      "                \"left\": {\n",
      "                    \"type\": \"BINARY_OPERATION\",\n",
      "                    \"operator\": \"DIVIDE\",\n",
      "                    \"left\": {\n",
      "                        \"type\": \"VARIABLE\",\n",
      "                        \"name\": \"parking_duration_hours\",\n",
      "                        \"description\": \"Total duration of parking in hours. Surcharges apply at 48 and 72 hours.\",\n",
      "                        \"unit\": \"HOURS\"\n",
      "                    },\n",
      "                    \"right\": {\n",
      "                        \"type\": \"VALUE\",\n",
      "                        \"value\": 24,\n",
      "                        \"description\": \"Hours per day\",\n",
      "                        \"unit\": \"HOURS\"\n",
      "                    }\n",
      "                },\n",
      "                \"right\": {\n",
      "                    \"type\": \"VALUE\",\n",
      "                    \"value\": 180,\n",
      "                    \"description\": \"Standard charge per day for Long Term Remote at WAP\",\n",
      "                    \"unit\": \"EUROS\"\n",
      "                }\n",
      "            },\n",
      "            \"right\": {\n",
      "                \"type\": \"VALUE\",\n",
      "                \"value\": 3,\n",
      "                \"description\": \"200% surcharge multiplier\",\n",
      "                \"unit\": \"UNITLESS\"\n",
      "            }\n",
      "        },\n",
      "        \"if_false\": {\n",
      "            \"type\": \"CONDITIONAL\",\n",
      "            \"condition\": {\n",
      "                \"type\": \"COMPARISON\",\n",
      "                \"operator\": \"GREATER_THAN\",\n",
      "                \"left\": {\n",
      "                    \"type\": \"VARIABLE\",\n",
      "                    \"name\": \"parking_duration_hours\",\n",
      "                    \"description\": \"Total duration of parking in hours. Surcharges apply at 48 and 72 hours.\",\n",
      "                    \"unit\": \"HOURS\"\n",
      "                },\n",
      "                \"right\": {\n",
      "                    \"type\": \"VALUE\",\n",
      "                    \"value\": 48,\n",
      "                    \"description\": \"Threshold for 100% surcharge\",\n",
      "                    \"unit\": \"HOURS\"\n",
      "                }\n",
      "            },\n",
      "            \"if_true\": {\n",
      "                \"type\": \"BINARY_OPERATION\",\n",
      "                \"operator\": \"MULTIPLY\",\n",
      "                \"left\": {\n",
      "                    \"type\": \"BINARY_OPERATION\",\n",
      "                    \"operator\": \"DIVIDE\",\n",
      "                    \"left\": {\n",
      "                        \"type\": \"VARIABLE\",\n",
      "                        \"name\": \"parking_duration_hours\",\n",
      "                        \"description\": \"Total duration of parking in hours. Surcharges apply at 48 and 72 hours.\",\n",
      "                        \"unit\": \"HOURS\"\n",
      "                    },\n",
      "                    \"right\": {\n",
      "                        \"type\": \"VALUE\",\n",
      "                        \"value\": 24,\n",
      "                        \"description\": \"Hours per day\",\n",
      "                        \"unit\": \"HOURS\"\n",
      "                    }\n",
      "                },\n",
      "                \"right\": {\n",
      "                    \"type\": \"BINARY_OPERATION\",\n",
      "                    \"operator\": \"MULTIPLY\",\n",
      "                    \"left\": {\n",
      "                        \"type\": \"VALUE\",\n",
      "                        \"value\": 180,\n",
      "                        \"description\": \"Standard charge per day for Long Term Remote at WAP\",\n",
      "                        \"unit\": \"EUROS\"\n",
      "                    },\n",
      "                    \"right\": {\n",
      "                        \"type\": \"VALUE\",\n",
      "                        \"value\": 2,\n",
      "                        \"description\": \"100% surcharge multiplier\",\n",
      "                        \"unit\": \"UNITLESS\"\n",
      "                    }\n",
      "                }\n",
      "            },\n",
      "            \"if_false\": {\n",
      "                \"type\": \"BINARY_OPERATION\",\n",
      "                \"operator\": \"MULTIPLY\",\n",
      "                \"left\": {\n",
      "                    \"type\": \"BINARY_OPERATION\",\n",
      "                    \"operator\": \"DIVIDE\",\n",
      "                    \"left\": {\n",
      "                        \"type\": \"VARIABLE\",\n",
      "                        \"name\": \"parking_duration_hours\",\n",
      "                        \"description\": \"Total duration of parking in hours. Surcharges apply at 48 and 72 hours.\",\n",
      "                        \"unit\": \"HOURS\"\n",
      "                    },\n",
      "                    \"right\": {\n",
      "                        \"type\": \"VALUE\",\n",
      "                        \"value\": 24,\n",
      "                        \"description\": \"Hours per day\",\n",
      "                        \"unit\": \"HOURS\"\n",
      "                    }\n",
      "                },\n",
      "                \"right\": {\n",
      "                    \"type\": \"VALUE\",\n",
      "                    \"value\": 180,\n",
      "                    \"description\": \"Standard charge per day for Long Term Remote at WAP\",\n",
      "                    \"unit\": \"EUROS\"\n",
      "                }\n",
      "            }\n",
      "        }\n",
      "    },\n",
      "    \"right\": {\n",
      "        \"type\": \"VALUE\",\n",
      "        \"value\": 0,\n",
      "        \"description\": \"No overnight charge applies\",\n",
      "        \"unit\": \"EUROS\"\n",
      "    }\n",
      "}\n"
     ]
    }
   ],
   "source": [
    "# execution_time\n",
    "# print(expression_tree_dict['thought'])\n",
    "loaded_json = json.loads(expression_tree_dict['result_graph'])\n",
    "print(json.dumps(loaded_json, indent=4))"
   ]
  },
  {
   "cell_type": "markdown",
   "id": "a2b6af12-7bdf-4baa-9e37-cb8c22620aef",
   "metadata": {},
   "source": [
    "1. Changes:\n",
    "- Expanding problem sets\n",
    "- Expanded equation composer functionality to include newer nodes"
   ]
  },
  {
   "cell_type": "code",
   "execution_count": 44,
   "id": "63dc55f7-ac9d-49a1-bbc9-130c41387bb7",
   "metadata": {},
   "outputs": [],
   "source": []
  },
  {
   "cell_type": "code",
   "execution_count": 45,
   "id": "6debc64c-ac7b-426a-bc8a-3acdfed2bff3",
   "metadata": {},
   "outputs": [
    {
     "name": "stdout",
     "output_type": "stream",
     "text": [
      "Sympy Expression: Piecewise((((parking_duration_hours/24)*180)*3, parking_duration_hours > 72), (Piecewise(((180*2)*(parking_duration_hours/24), parking_duration_hours > 48), ((parking_duration_hours/24)*180, True)), True)) + 0\n"
     ]
    }
   ],
   "source": [
    "\n",
    "\n",
    "# Print the resulting expression\n",
    "loaded_json = json.loads(expression_tree_dict['result_graph'])\n",
    "symbolic_expr = compose_expression(loaded_json)\n",
    "print(f\"Sympy Expression: {symbolic_expr}\")"
   ]
  },
  {
   "cell_type": "code",
   "execution_count": 46,
   "id": "728fccaf-9a82-4e40-866a-4b7a7c8c2f2b",
   "metadata": {},
   "outputs": [
    {
     "name": "stdout",
     "output_type": "stream",
     "text": [
      "The parking cost for 60 hours is: 900 EUR\n"
     ]
    }
   ],
   "source": [
    "from sympy import Symbol\n",
    "\n",
    "# Define the symbol that you want to replace\n",
    "variable_to_replace = Symbol('parking_duration_hours')\n",
    "\n",
    "# Define the value you want to substitute\n",
    "value_to_substitute = 60\n",
    "\n",
    "final_charge_cost = symbolic_expr.subs(variable_to_replace, value_to_substitute)\n",
    "print(f\"The parking cost for {value_to_substitute} hours is: {final_charge_cost} EUR\") "
   ]
  },
  {
   "cell_type": "markdown",
   "id": "229cb68c-2e72-46ba-9e62-dfdb6856362f",
   "metadata": {},
   "source": [
    "1. Changes:\n",
    "- Expanding problem sets\n",
    "- Expanded equation composer functionality to include newer nodes [DONE]\n",
    "- Functionalize creating computation graphs"
   ]
  },
  {
   "cell_type": "code",
   "execution_count": 56,
   "id": "93214133-bfbe-497f-8a74-c616fff2a70f",
   "metadata": {},
   "outputs": [],
   "source": []
  },
  {
   "cell_type": "markdown",
   "id": "ace2458d-6e59-499b-ad1f-f2e0dcbaa095",
   "metadata": {},
   "source": [
    "1. Changes:\n",
    "- Expanding problem sets\n",
    "- Expanded equation composer functionality to include newer nodes [DONE]\n",
    "- Functionalize creating computation graphs [DONE]"
   ]
  },
  {
   "cell_type": "code",
   "execution_count": 16,
   "id": "c38c740c-9c26-4eee-913b-08369951e622",
   "metadata": {},
   "outputs": [
    {
     "name": "stdout",
     "output_type": "stream",
     "text": [
      "--- Building graph for charge category: 'west_aerodrome_parking_charge' ---\n"
     ]
    },
    {
     "data": {
      "application/vnd.jupyter.widget-view+json": {
       "model_id": "36877db6cc4e4e1ca9d0bca4e8ad47f1",
       "version_major": 2,
       "version_minor": 0
      },
      "text/plain": [
       "StitchWidget(initial_height='auto', initial_width='100%', srcdoc='<!doctype html>\\n<html lang=\"en\">\\n<head>\\n …"
      ]
     },
     "metadata": {},
     "output_type": "display_data"
    },
    {
     "name": "stdout",
     "output_type": "stream",
     "text": [
      "\n",
      "An error occurred while building the graph for 'Calculate the total parking charge for a Narrow Remote stand type at West Aerodrome Parking with no overnight parking. The parking duration is a variable with unit hours.': CUDA out of memory. Tried to allocate 1.16 GiB. GPU 1 has a total capacity of 44.45 GiB of which 612.56 MiB is free. Process 236628 has 41.19 GiB memory in use. Including non-PyTorch memory, this process has 2.65 GiB memory in use. Of the allocated memory 1.58 GiB is allocated by PyTorch, and 780.21 MiB is reserved by PyTorch but unallocated. If reserved but unallocated memory is large try setting PYTORCH_CUDA_ALLOC_CONF=expandable_segments:True to avoid fragmentation.  See documentation for Memory Management  (https://pytorch.org/docs/stable/notes/cuda.html#environment-variables)\n",
      "Execution time for 'build': 85.2672 seconds\n"
     ]
    }
   ],
   "source": [
    "query = \"Calculate the total parking charge for a Narrow Remote stand type at West Aerodrome Parking with no overnight parking. The parking duration is a variable with unit hours.\"\n",
    "charge_category = \"west_aerodrome_parking_charge\"\n",
    "\n",
    "graph_builder = ComputationGraphBuilder(model=model)\n",
    "\n",
    "start_time = time.perf_counter()\n",
    "llm_structured_response = graph_builder.build(\n",
    "    document_content=markdown_content,\n",
    "    query=query,\n",
    "    charge_category=charge_category\n",
    ")\n",
    "end_time = time.perf_counter()\n",
    "build_time = end_time - start_time\n",
    "\n",
    "# computation_graph, llm_structured_thought, build_time = create_computation_graph(model, query, charge_category)\n"
   ]
  },
  {
   "cell_type": "code",
   "execution_count": null,
   "id": "49ce6c38-951b-4cc1-aa43-ef7c0887a313",
   "metadata": {},
   "outputs": [],
   "source": []
  },
  {
   "cell_type": "code",
   "execution_count": 52,
   "id": "ab9e8029-3428-4e68-8a01-fd6248848b03",
   "metadata": {},
   "outputs": [
    {
     "name": "stdout",
     "output_type": "stream",
     "text": [
      "{\n",
      "    \"identified_values\": [\n",
      "        \"parking_duration_hours\",\n",
      "        \"aircraft_stand_type\",\n",
      "        \"is_overnight_parking\"\n",
      "    ],\n",
      "    \"identified_variables\": [\n",
      "        \"parking_duration_hours\",\n",
      "        \"aircraft_stand_type\",\n",
      "        \"is_overnight_parking\"\n",
      "    ],\n",
      "    \"synthesis_plan\": \"The total parking charge calculation requires: 1. Determining the base rate for Narrow Remote stands at WAP 2. Calculating the number of 15-minute intervals in the parking duration 3. Applying surcharges if parking duration exceeds 48 or 72 hours 4. Considering overnight parking status (though this case specifies no overnight parking) The formula would be: Total Charge = (Base Rate \\u00d7 Number of Intervals) \\u00d7 (1 + Surcharges) The surcharge depends on duration: - No surcharge for <48 hours - 100% surcharge for 48-72 hours - 200% surcharge for >72 hours\",\n",
      "    \"rethink\": \"I need to make sure I correctly interpret the surcharge structure from the document. The WAP surcharge table shows 48-72 hours has 'Standard rate' (so 0% surcharge) and 72+ has 'Standard rate +200%'. This is different from EAP's 100% and 200% surcharges. I should adjust the surcharge logic accordingly.\"\n",
      "}\n",
      "{\n",
      "    \"type\": \"BINARY_OPERATION\",\n",
      "    \"operator\": \"MULTIPLY\",\n",
      "    \"left\": {\n",
      "        \"type\": \"BINARY_OPERATION\",\n",
      "        \"operator\": \"MULTIPLY\",\n",
      "        \"left\": {\n",
      "            \"type\": \"VARIABLE\",\n",
      "            \"name\": \"parking_duration_hours\",\n",
      "            \"description\": \"Total duration of parking in hours.\",\n",
      "            \"unit\": \"HOURS\"\n",
      "        },\n",
      "        \"right\": {\n",
      "            \"type\": \"BINARY_OPERATION\",\n",
      "            \"operator\": \"DIVIDE\",\n",
      "            \"left\": {\n",
      "                \"type\": \"VARIABLE\",\n",
      "                \"name\": \"aircraft_stand_type\",\n",
      "                \"description\": \"The type of aircraft stand used for parking. E.g., \\\"Wide Contact\\\", \\\"Narrow Remote\\\", \\\"LAP\\\", \\\"Long Term Remote\\\".\",\n",
      "                \"unit\": \"UNITLESS\"\n",
      "            },\n",
      "            \"right\": {\n",
      "                \"type\": \"VALUE\",\n",
      "                \"value\": 0.25,\n",
      "                \"description\": \"Conversion factor from hours to 15-minute intervals (1 hour = 4 intervals)\",\n",
      "                \"unit\": \"HOURS\"\n",
      "            }\n",
      "        },\n",
      "        \"right \": {\n",
      "            \"type\": \"CONDITIONAL\",\n",
      "            \"condition\": {\n",
      "                \"type\": \"COMPARISON\",\n",
      "                \"operator\": \"LESS_THAN\",\n",
      "                \"left\": {\n",
      "                    \"type\": \"VARIABLE\",\n",
      "                    \"name\": \"parking_duration_hours\",\n",
      "                    \"description\": \"Total duration of parking in hours.\",\n",
      "                    \"unit\": \"HOURS\"\n",
      "                },\n",
      "                \"right\": {\n",
      "                    \"type\": \"VALUE\",\n",
      "                    \"value\": 48,\n",
      "                    \"description\": \"Threshold for 48-hour surcharge\",\n",
      "                    \"unit\": \"HOURS\"\n",
      "                }\n",
      "            },\n",
      "            \"true_value\": {\n",
      "                \"type\": \"VALUE\",\n",
      "                \"value\": 1,\n",
      "                \"description\": \"No surcharge\",\n",
      "                \"unit\": \"UNITLESS\"\n",
      "            },\n",
      "            \"false_value\": {\n",
      "                \"type\": \"CONDITIONAL\",\n",
      "                \"condition\": {\n",
      "                    \"type\": \"COMPARISON\",\n",
      "                    \"operator\": \"LESS_THAN_EQUAL\",\n",
      "                    \"left\": {\n",
      "                        \"type\": \"VARIABLE\",\n",
      "                        \"name\": \"parking_duration_hours\",\n",
      "                        \"description\": \"Total duration of parking in hours.\",\n",
      "                        \"unit\": \"HOURS\"\n",
      "                    },\n",
      "                    \"right\": {\n",
      "                        \"type\": \"VALUE\",\n",
      "                        \"value\": 72,\n",
      "                        \"description\": \"Threshold for 72-hour surcharge\",\n",
      "                        \"unit\": \"HOURS\"\n",
      "                    }\n",
      "                },\n",
      "                \"true_value\": {\n",
      "                    \"type\": \"VALUE\",\n",
      "                    \"value\": 2,\n",
      "                    \"description\": \"100% surcharge\",\n",
      "                    \"unit\": \"UNITLESS\"\n",
      "                },\n",
      "                \"false_value\": {\n",
      "                    \"type\": \"VALUE\",\n",
      "                    \"value\": 3,\n",
      "                    \"description\": \"200% surcharge\",\n",
      "                    \"unit\": \"UNITLESS\"\n",
      "                }\n",
      "            }\n",
      "        }\n",
      "    },\n",
      "    \"right\": {\n",
      "        \"type\": \"VALUE\",\n",
      "        \"value\": 7.7,\n",
      "        \"description\": \"Standard charge per aircraft/stand type for Narrow Remote at WAP\",\n",
      "        \"unit\": \"EUROS\"\n",
      "    }\n",
      "}\n",
      "Sympy Expression: (parking_duration_hours*(aircraft_stand_type/0.25))*7.7\n"
     ]
    }
   ],
   "source": [
    "\n",
    "print(json.dumps(llm_structured_thought, indent=4))\n",
    "\n",
    "print(json.dumps(computation_graph, indent=4))\n",
    "\n",
    "symbolic_expr = compose_expression(computation_graph)\n",
    "print(f\"Sympy Expression: {symbolic_expr}\")"
   ]
  },
  {
   "cell_type": "code",
   "execution_count": 15,
   "id": "052232f6-3ece-40f2-a663-c44a261f6f12",
   "metadata": {},
   "outputs": [
    {
     "name": "stdout",
     "output_type": "stream",
     "text": [
      "hi\n"
     ]
    }
   ],
   "source": [
    "print('hi')"
   ]
  },
  {
   "cell_type": "code",
   "execution_count": 23,
   "id": "d1534f98-3379-4b5e-95c2-25620c702add",
   "metadata": {},
   "outputs": [
    {
     "name": "stdout",
     "output_type": "stream",
     "text": [
      "--- Building graph for charge category: 'west_aerodrome_parking_charge' ---\n"
     ]
    },
    {
     "data": {
      "application/vnd.jupyter.widget-view+json": {
       "model_id": "17d2f625d9e44aa2ad6d280bbde981a6",
       "version_major": 2,
       "version_minor": 0
      },
      "text/plain": [
       "StitchWidget(initial_height='auto', initial_width='100%', srcdoc='<!doctype html>\\n<html lang=\"en\">\\n<head>\\n …"
      ]
     },
     "metadata": {},
     "output_type": "display_data"
    }
   ],
   "source": [
    "query = \"Calculate the total parking charge for a Narrow Remote stand type at West Aerodrome Parking with no overnight parking. The parking duration is a variable with unit hours.\"\n",
    "charge_category = \"west_aerodrome_parking_charge\"\n",
    "\n",
    "result = create_computation_graph(model, query, charge_category)\n"
   ]
  },
  {
   "cell_type": "code",
   "execution_count": 30,
   "id": "4fdf427a-d030-4c90-9e91-cd2fe25e48dc",
   "metadata": {},
   "outputs": [
    {
     "name": "stdout",
     "output_type": "stream",
     "text": [
      "{\n",
      "    \"identified_values\": [\n",
      "        \"parking_duration_hours\",\n",
      "        \"aircraft_stand_type\",\n",
      "        \"is_overnight_parking\"\n",
      "    ],\n",
      "    \"identified_variables\": [\n",
      "        \"parking_duration_hours\",\n",
      "        \"aircraft_stand_type\",\n",
      "        \"is_overnight_parking\"\n",
      "    ],\n",
      "    \"synthesis_plan\": \"The total parking charge calculation requires: 1. Determining the base rate for Narrow Remote stands at WAP 2. Calculating the number of 15-minute intervals in the parking duration 3. Applying surcharges if parking duration exceeds 48 or 72 hours 4. Considering overnight parking status (though this case specifies no overnight parking) The formula would be: Total Charge = (Base Rate \\u00d7 Number of Intervals) \\u00d7 (1 + Surcharges) The surcharge depends on duration: - No surcharge for <48 hours - 100% surcharge for 48-72 hours - 200% surcharge for >72 hours\",\n",
      "    \"rethink\": \"I need to make sure I correctly interpret the surcharge structure from the document. The WAP surcharge table shows 48-72 hours has 'Standard rate' (so 0% surcharge) and 72+ has 'Standard rate +200%'. This is different from EAP's 100% and 200% surcharges. I should adjust the surcharge logic accordingly.\"\n",
      "}\n",
      "{\n",
      "    \"type\": \"BINARY_OPERATION\",\n",
      "    \"operator\": \"MULTIPLY\",\n",
      "    \"left\": {\n",
      "        \"type\": \"BINARY_OPERATION\",\n",
      "        \"operator\": \"MULTIPLY\",\n",
      "        \"left\": {\n",
      "            \"type\": \"VARIABLE\",\n",
      "            \"name\": \"parking_duration_hours\",\n",
      "            \"description\": \"Total duration of parking in hours.\",\n",
      "            \"unit\": \"HOURS\"\n",
      "        },\n",
      "        \"right\": {\n",
      "            \"type\": \"BINARY_OPERATION\",\n",
      "            \"operator\": \"DIVIDE\",\n",
      "            \"left\": {\n",
      "                \"type\": \"VARIABLE\",\n",
      "                \"name\": \"aircraft_stand_type\",\n",
      "                \"description\": \"The type of aircraft stand used for parking. E.g., \\\"Wide Contact\\\", \\\"Narrow Remote\\\", \\\"LAP\\\", \\\"Long Term Remote\\\".\",\n",
      "                \"unit\": \"UNITLESS\"\n",
      "            },\n",
      "            \"right\": {\n",
      "                \"type\": \"VALUE\",\n",
      "                \"value\": 0.25,\n",
      "                \"description\": \"Conversion factor from hours to 15-minute intervals (1 hour = 4 intervals)\",\n",
      "                \"unit\": \"HOURS\"\n",
      "            }\n",
      "        },\n",
      "        \"right \": {\n",
      "            \"type\": \"CONDITIONAL\",\n",
      "            \"condition\": {\n",
      "                \"type\": \"COMPARISON\",\n",
      "                \"operator\": \"LESS_THAN\",\n",
      "                \"left\": {\n",
      "                    \"type\": \"VARIABLE\",\n",
      "                    \"name\": \"parking_duration_hours\",\n",
      "                    \"description\": \"Total duration of parking in hours.\",\n",
      "                    \"unit\": \"HOURS\"\n",
      "                },\n",
      "                \"right\": {\n",
      "                    \"type\": \"VALUE\",\n",
      "                    \"value\": 48,\n",
      "                    \"description\": \"Threshold for 48-hour surcharge\",\n",
      "                    \"unit\": \"HOURS\"\n",
      "                }\n",
      "            },\n",
      "            \"true_value\": {\n",
      "                \"type\": \"VALUE\",\n",
      "                \"value\": 1,\n",
      "                \"description\": \"No surcharge\",\n",
      "                \"unit\": \"UNITLESS\"\n",
      "            },\n",
      "            \"false_value\": {\n",
      "                \"type\": \"CONDITIONAL\",\n",
      "                \"condition\": {\n",
      "                    \"type\": \"COMPARISON\",\n",
      "                    \"operator\": \"LESS_THAN_EQUAL\",\n",
      "                    \"left\": {\n",
      "                        \"type\": \"VARIABLE\",\n",
      "                        \"name\": \"parking_duration_hours\",\n",
      "                        \"description\": \"Total duration of parking in hours.\",\n",
      "                        \"unit\": \"HOURS\"\n",
      "                    },\n",
      "                    \"right\": {\n",
      "                        \"type\": \"VALUE\",\n",
      "                        \"value\": 72,\n",
      "                        \"description\": \"Threshold for 72-hour surcharge\",\n",
      "                        \"unit\": \"HOURS\"\n",
      "                    }\n",
      "                },\n",
      "                \"true_value\": {\n",
      "                    \"type\": \"VALUE\",\n",
      "                    \"value\": 2,\n",
      "                    \"description\": \"100% surcharge\",\n",
      "                    \"unit\": \"UNITLESS\"\n",
      "                },\n",
      "                \"false_value\": {\n",
      "                    \"type\": \"VALUE\",\n",
      "                    \"value\": 3,\n",
      "                    \"description\": \"200% surcharge\",\n",
      "                    \"unit\": \"UNITLESS\"\n",
      "                }\n",
      "            }\n",
      "        }\n",
      "    },\n",
      "    \"right\": {\n",
      "        \"type\": \"VALUE\",\n",
      "        \"value\": 7.7,\n",
      "        \"description\": \"Standard charge per aircraft/stand type for Narrow Remote at WAP\",\n",
      "        \"unit\": \"EUROS\"\n",
      "    }\n",
      "}\n",
      "Sympy Expression: (parking_duration_hours*(aircraft_stand_type/0.25))*7.7\n"
     ]
    }
   ],
   "source": [
    "llm_structured_thought = result[1]\n",
    "computation_graph = result[0]\n",
    "print(json.dumps(llm_structured_thought, indent=4))\n",
    "\n",
    "print(json.dumps(computation_graph, indent=4))\n",
    "\n",
    "symbolic_expr = compose_expression(computation_graph)\n",
    "print(f\"Sympy Expression: {symbolic_expr}\")"
   ]
  },
  {
   "cell_type": "code",
   "execution_count": 31,
   "id": "11712c2c-efb3-47d7-9360-933f2bd1cddc",
   "metadata": {},
   "outputs": [
    {
     "name": "stdout",
     "output_type": "stream",
     "text": [
      "--- Building graph for charge category: 'west_aerodrome_parking_charge' ---\n"
     ]
    },
    {
     "data": {
      "application/vnd.jupyter.widget-view+json": {
       "model_id": "7ac035341bd84094b1930c854ed01514",
       "version_major": 2,
       "version_minor": 0
      },
      "text/plain": [
       "StitchWidget(initial_height='auto', initial_width='100%', srcdoc='<!doctype html>\\n<html lang=\"en\">\\n<head>\\n …"
      ]
     },
     "metadata": {},
     "output_type": "display_data"
    },
    {
     "name": "stdout",
     "output_type": "stream",
     "text": [
      "Execution time for 'build': 289.4062 seconds\n",
      "[JSON Decode Error]: Expecting ',' delimiter: line 1 column 3208 (char 3207)\n",
      "Raw JSON field value: {\"identified_values\": [\"parking_duration_hours\", \"aircraft_stand_type\", \"is_overnight_parking\"], \"identified_variables\": [\"parking_duration_hours\", \"aircraft_stand_type\", \"is_overnight_parking\"], \"synthesis_plan\": \"The total parking charge depends on the stand type and parking duration. For West Aerodrome Parking (WAP), the standard charge per 15 minutes applies, with surcharges for durations over 48 and 72 hours. Since is_overnight_parking is False, we don't apply the free overnight charge. The calculation will: 1. Get the base rate for the stand type 2. Calculate the number of 15-minute intervals 3. Apply surcharges if duration >=48 or >=72 hours\", \"rethink\": \"I need to ensure that the surcharge logic correctly applies to WAP. The document says WAP surcharges are 100% for 48-72 hours and 200% for over 72 hours. Also, the parking duration is in hours, so I need to convert it to 15-minute intervals (divide by 0.25). The is_overnight_parking variable is set to False, so no adjustments for free overnight parking.\"} {\"type\": \"BINARY_OPERATION\", \"operator\": \"ADD\", \"left\": {\"type\": \"CONDITIONAL\", \"condition\": {\"type\": \"COMPARISON\", \"operator\": \"GREATER_THAN\", \"left\": {\"type\": \"VARIABLE\", \"name\": \"parking_duration_hours\", \"description\": \"Total duration of parking in hours. Surcharges apply at 48 and 72 hours.\", \"unit\": \"HOURS\"}, \"right\": {\"type\": \"VALUE\", \"value\": 48, \"description\": \"Threshold for 100% surcharge\", \"unit\": \"HOURS\"}}, \"if_true\": {\"type\": \"BINARY_OPERATION\", \"operator\": \"MULTIPLY\", \"left\": {\"type\": \"BINARY_OPERATION\", \"operator\": \"DIVIDE\", \"left\": {\"type\": \"VARIABLE\", \"name\": \"parking_duration_hours\", \"description\": \"Total duration of parking in hours. Surcharges apply at 48 and 72 hours.\", \"unit\": \"HOURS\"}, \"right\": {\"type\": \"VALUE\", \"value\": 0.25, \"description\": \"Convert hours to 15-minute intervals\", \"unit\": \"HOURS\"}}, \"right\": {\"type\": \"BINARY_OPERATION\", \"operator\": \"MULTIPLY\", \"left\": {\"type\": \"VALUE\", \"value\": 1.0, \"description\": \"Surcharges for 48-72 hours\", \"unit\": \"UNITLESS\"}, \"right\": {\"type\": \"VARIABLE\", \"name\": \"standard_rate\", \"description\": \"Standard charge per 15 minutes for the stand type\", \"unit\": \"EUROS\"}}}, \"if_false\": {\"type\": \"BINARY_OPERATION\", \"operator\": \"MULTIPLY\", \"left\": {\"type\": \"BINARY_OPERATION\", \"operator\": \"DIVIDE\", \"left\": {\"type\": \"VARIABLE\", \"name\": \"parking_duration_hours\", \"description\": \"Total duration of parking in hours. Surcharges apply at 48 and 72 hours.\", \"unit\": \"HOURS\"}, \"right\": {\"type\": \"VALUE\", \"value\": 0.25, \"description\": \"Convert hours to 15-minute intervals\", \"unit\": \"HOURS\"}}, \"right\": {\"type\": \"VARIABLE\", \"name\": \"standard_rate\", \"description\": \"Standard charge per 15 minutes for the stand type\", \"unit\": \"EUROS\"}}}, \"right\": {\"type\": \"CONDITIONAL\", \"condition\": {\"type\": \"COMPARISON\", \"operator\": \"GREATER_THAN\", \"left\": {\"type\": \"VARIABLE\", \"name\": \"parking_duration_hours\", \"description\": \"Total duration of parking in hours. Surcharges apply at 48 and 72 hours.\", \"unit\": \"HOURS\"}, \"right\": {\"type\": \"VALUE\", \"value\": 72, \"description\": \"Threshold for 200% surcharge\", \"unit\": \"HOURS\"}}, \"if_true\": {\"type\": \"BINARY_OPERATION\", \"operator\": \"MULTIPLY\", \"left\": {\"type\": \"BINARY_OPERATION\", \"operator\": \"DIVIDE\", \"left\": {\"type\": \"VARIABLE\", \"name\": \"parking_duration_hours\", \"description\": \"Total duration of parking in hours. Surcharges apply at 48 and 72 hours.\", \"unit\": \"HOURS\"}, \"right\": {\"type\": \"VALUE\", \"value\": 0.25, \"description\": \"Convert hours to 15-minute intervals\", \"unit\": \"HOURS\"}}, \"right\": {\"type\": \"BINARY_OPERATION\", \"operator\": \"MULTIPLY\", \"left\": {\"type\": \"VALUE\", \"value\": 2.0, \"description\": \"Surcharges for over 72 hours\", \"unit\": \"UNITLESS\"}, \"right\": {\"type\": \"VARIABLE\", \"name\": \"standard_rate\", \"description\": \"Standard charge per 15 minutes for the stand type\", \"unit\": \"EUROS\"}}}, \"if_false\": {\"type\": \"BINARY_OPERATION\", \"operator\": \"MULTIPLY\", \"left\": {\"type\": \"BINARY_OPERATION\", \"operator\": \"DIVIDE\", \"left\": {\"type\": \"VARIABLE\", \"name\": \"parking_duration_hours\", \"description\": \"Total duration of parking in hours. Surcharges apply at 48 and 72 hours.\", \"unit\": \"HOURS\"}, \"right\": {\"type\": \"VALUE\", \"value\": 0.25, \"description\": \"Convert hours to 15-minute intervals\", \"unit\": \"HOURS\"}\n"
     ]
    },
    {
     "name": "stderr",
     "output_type": "stream",
     "text": [
      "IOPub message rate exceeded.\n",
      "The Jupyter server will temporarily stop sending output\n",
      "to the client in order to avoid crashing it.\n",
      "To change this limit, set the config variable\n",
      "`--ServerApp.iopub_msg_rate_limit`.\n",
      "\n",
      "Current values:\n",
      "ServerApp.iopub_msg_rate_limit=1000.0 (msgs/sec)\n",
      "ServerApp.rate_limit_window=3.0 (secs)\n",
      "\n"
     ]
    }
   ],
   "source": [
    "query = \"Calculate the total parking charge for each stand type at West Aerodrome Parking with no overnight parking. The parking duration is a variable with unit hours.\"\n",
    "charge_category = \"west_aerodrome_parking_charge\"\n",
    "\n",
    "result = create_computation_graph(model, query, charge_category)\n"
   ]
  },
  {
   "cell_type": "code",
   "execution_count": 36,
   "id": "fa53fa90-2a67-4d37-836f-176ea6d14eae",
   "metadata": {},
   "outputs": [
    {
     "data": {
      "text/plain": [
       "{'identified_values': ['parking_duration_hours',\n",
       "  'aircraft_stand_type',\n",
       "  'is_overnight_parking'],\n",
       " 'identified_variables': ['parking_duration_hours',\n",
       "  'aircraft_stand_type',\n",
       "  'is_overnight_parking'],\n",
       " 'synthesis_plan': \"The total parking charge depends on the stand type and parking duration. For West Aerodrome Parking (WAP), the standard charge per 15 minutes applies, with surcharges for durations over 48 and 72 hours. Since is_overnight_parking is False, we don't apply the free overnight charge. The calculation will: 1. Get the base rate for the stand type 2. Calculate the number of 15-minute intervals 3. Apply surcharges if duration >=48 or >=72 hours\",\n",
       " 'rethink': 'I need to ensure that the surcharge logic correctly applies to WAP. The document says WAP surcharges are 100% for 48-72 hours and 200% for over 72 hours. Also, the parking duration is in hours, so I need to convert it to 15-minute intervals (divide by 0.25). The is_overnight_parking variable is set to False, so no adjustments for free overnight parking.'}"
      ]
     },
     "execution_count": 36,
     "metadata": {},
     "output_type": "execute_result"
    }
   ],
   "source": [
    "\n",
    "\n",
    "# print(json.dumps(llm_structured_thought, indent=4))\n",
    "\n",
    "json.loads(result[3]['thought'])"
   ]
  }
 ],
 "metadata": {
  "kernelspec": {
   "display_name": "Python 3 (ipykernel)",
   "language": "python",
   "name": "python3"
  },
  "language_info": {
   "codemirror_mode": {
    "name": "ipython",
    "version": 3
   },
   "file_extension": ".py",
   "mimetype": "text/x-python",
   "name": "python",
   "nbconvert_exporter": "python",
   "pygments_lexer": "ipython3",
   "version": "3.11.5"
  }
 },
 "nbformat": 4,
 "nbformat_minor": 5
}
