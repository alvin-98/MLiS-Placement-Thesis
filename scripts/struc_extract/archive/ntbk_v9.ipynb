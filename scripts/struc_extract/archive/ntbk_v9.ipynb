{
 "cells": [
  {
   "cell_type": "code",
   "execution_count": 1,
   "id": "8e958171-f099-4301-9fa7-c6c012cad4f1",
   "metadata": {},
   "outputs": [],
   "source": [
    "import torch\n",
    "torch.cuda.empty_cache()\n",
    "\n",
    "import time\n",
    "import json\n",
    "from transformers import AutoTokenizer, AutoModelForCausalLM\n",
    "from pydantic import BaseModel, Field, RootModel\n",
    "from typing import Optional, Union, Literal, ForwardRef, List, Any\n",
    "from enum import Enum\n",
    "from guidance import models, system, user, assistant, json as gen_json, gen\n",
    "import torch, outlines\n",
    "from transformers import AutoModelForCausalLM, AutoTokenizer\n",
    "import json\n",
    "import torch\n",
    "from transformers import AutoTokenizer, AutoModelForCausalLM\n",
    "from pydantic import BaseModel, Field, RootModel\n",
    "from typing import Optional, Union\n",
    "from enum import Enum\n",
    "from guidance import models, system, user, assistant, json as gen_json\n",
    "import guidance\n",
    "from utils import timing_decorator"
   ]
  },
  {
   "cell_type": "code",
   "execution_count": 2,
   "id": "61020788-eeea-4d08-8416-f3658f754d54",
   "metadata": {},
   "outputs": [],
   "source": [
    "\n",
    "with open(\"../output/2025-airport-charges-terms-and-conditions/tinychargesmarkdown.md\", \"r\") as f:\n",
    "    markdown_content = f.read()\n"
   ]
  },
  {
   "cell_type": "code",
   "execution_count": 3,
   "id": "18612e87-e1a8-4861-9ad4-3b38207554ba",
   "metadata": {},
   "outputs": [
    {
     "data": {
      "application/vnd.jupyter.widget-view+json": {
       "model_id": "5e4f3834f6dc490bb29fdc49d99065df",
       "version_major": 2,
       "version_minor": 0
      },
      "text/plain": [
       "Loading checkpoint shards:   0%|          | 0/16 [00:00<?, ?it/s]"
      ]
     },
     "metadata": {},
     "output_type": "display_data"
    }
   ],
   "source": [
    "\n",
    "MODEL_ID = \"Qwen/Qwen3-30B-A3B\"\n",
    "\n",
    "hf_model = AutoModelForCausalLM.from_pretrained(\n",
    "    MODEL_ID,\n",
    "    device_map=\"auto\",               \n",
    "    low_cpu_mem_usage=True,          \n",
    ")\n",
    "\n",
    "\n",
    "tok        = AutoTokenizer.from_pretrained(MODEL_ID)\n"
   ]
  },
  {
   "cell_type": "code",
   "execution_count": 4,
   "id": "0302e424-a63e-4fad-ad0e-799cc798c0f8",
   "metadata": {},
   "outputs": [
    {
     "name": "stderr",
     "output_type": "stream",
     "text": [
      "gpustat is not installed, run `pip install gpustat` to collect GPU stats.\n"
     ]
    }
   ],
   "source": [
    "\n",
    "model = guidance.models.Transformers(hf_model, tok)"
   ]
  },
  {
   "cell_type": "code",
   "execution_count": 5,
   "id": "e1cc4350-69c3-4f66-ba4e-1403b77e1aa4",
   "metadata": {},
   "outputs": [],
   "source": [
    "from pydantic import BaseModel, Field\n",
    "from typing import List, Any\n",
    "\n",
    "class DomainVariable(BaseModel):\n",
    "    \"\"\"Defines a single variable the LLM can use in the computation graph.\"\"\"\n",
    "    name: str = Field(..., description=\"The unique identifier for the variable.\")\n",
    "    description: str = Field(..., description=\"A detailed explanation of what this variable represents.\")\n",
    "    # Optional: You could add type hints, units, etc. for more advanced validation\n",
    "    unit: Optional[str] = Field(..., description=\"The unit of the variable\")\n",
    "    data_type : type = Field(..., description=\"The data type of the variable\")\n"
   ]
  },
  {
   "cell_type": "code",
   "execution_count": 6,
   "id": "9bfd994f-7310-4b5b-8946-72c0204efd63",
   "metadata": {},
   "outputs": [],
   "source": [
    "ALL_VARIABLES = {\n",
    "    \n",
    "    'transfer_passenger_count': DomainVariable(name='transfer_passenger_count', description='Total number of transferring passengers.', unit=None, data_type=float),\n",
    "    'airline_scheduling_season': DomainVariable(name='airline_scheduling_season', description='Whether summer/winter airline scheduling season.', unit=None, data_type=float),\n",
    "    'takeoff_aircraft_mtow_tonnes': DomainVariable(name='takeoff_aircraft_mtow_tonnes', description='The Maximum Take-Off Weight in tonnes.', unit='tonne', data_type=float),\n",
    "    'landing_aircraft_mtow_tonnes': DomainVariable(name='landing_aircraft_mtow_tonnes', description='The Maximum Landing Weight in tonnes.', unit='tonne', data_type=float),\n",
    "    \n",
    "    'parking_duration_hours': DomainVariable(\n",
    "        name='parking_duration_hours',\n",
    "        description='Total duration of parking in hours. Surcharges apply at 48 and 72 hours.',\n",
    "        unit='hours',\n",
    "        data_type=float\n",
    "    ),\n",
    "    'aircraft_stand_type': DomainVariable(\n",
    "        name='aircraft_stand_type',\n",
    "        description='The type of aircraft stand used for parking. E.g., \"Wide Contact\", \"Narrow Remote\", \"LAP\", \"Long Term Remote\".',\n",
    "        unit=None,\n",
    "        data_type=str\n",
    "    ),\n",
    "    'parking_location': DomainVariable(\n",
    "        name='parking_location',\n",
    "        description='The location of the parking stand, either \"EAP\" (East Aerodrome Parking) or \"WAP\" (West Aerodrome Parking).',\n",
    "        unit=None,\n",
    "        data_type=str\n",
    "    ),\n",
    "    'is_overnight_parking': DomainVariable(\n",
    "        name='is_overnight_parking',\n",
    "        description='True if the parking occurs during the free overnight period (2300-0600hrs).',\n",
    "        unit=None,\n",
    "        data_type=bool\n",
    "    )\n",
    "}\n",
    "# 2. Map charge types to the variable names they are allowed to use\n",
    "CHARGE_CATEGORY_VARIABLES = {\n",
    "    # --- Existing Categories ---\n",
    "    \"transfer_passenger_charge\": [\n",
    "        'transfer_passenger_count', \n",
    "        'airline_scheduling_season'\n",
    "    ],\n",
    "    \"runway_landing_charge\": [\n",
    "        'landing_aircraft_mtow_tonnes', \n",
    "        'airline_scheduling_season'\n",
    "    ],\n",
    "    \"runway_takeoff_charge\": [\n",
    "        'takeoff_aircraft_mtow_tonnes', \n",
    "        'airline_scheduling_season'\n",
    "    ],\n",
    "\n",
    "    # --- New Categories for Parking Charges ---\n",
    "    \"east_aerodrome_parking_charge\": [\n",
    "        'parking_duration_hours',\n",
    "        'aircraft_stand_type',\n",
    "        'is_overnight_parking'\n",
    "        # 'parking_location' is implicitly 'EAP' for this category\n",
    "    ],\n",
    "    \"west_aerodrome_parking_charge\": [\n",
    "        'parking_duration_hours',\n",
    "        'aircraft_stand_type',\n",
    "        'is_overnight_parking'\n",
    "        # 'parking_location' is implicitly 'WAP' for this category\n",
    "    ]\n",
    "}\n",
    "\n"
   ]
  },
  {
   "cell_type": "code",
   "execution_count": 7,
   "id": "7bb3f643-b891-4d32-a5ab-b143bd224d54",
   "metadata": {},
   "outputs": [
    {
     "name": "stdout",
     "output_type": "stream",
     "text": [
      "transfer_passenger_count\n"
     ]
    }
   ],
   "source": [
    "def create_dynamic_variable_enum(charge_category: str) -> type(Enum):\n",
    "    \"\"\"\n",
    "    Creates a new Enum class containing only the variables relevant\n",
    "    to the specified charge category.\n",
    "    \"\"\"\n",
    "    variable_names = CHARGE_CATEGORY_VARIABLES.get(charge_category)\n",
    "    if not variable_names:\n",
    "        raise ValueError(f\"Unknown charge category: {charge_category}\")\n",
    "    \n",
    "    # The dictionary for the Enum must have {MEMBER_NAME: value}\n",
    "    # We'll use uppercase for the member name for convention.\n",
    "    enum_dict = {name.upper(): name for name in variable_names}\n",
    "    \n",
    "    # Create the Enum class dynamically\n",
    "    return Enum(\"Var\", enum_dict)\n",
    "\n",
    "Var = create_dynamic_variable_enum(\"transfer_passenger_charge\")\n",
    "print(Var.TRANSFER_PASSENGER_COUNT.value)"
   ]
  },
  {
   "cell_type": "code",
   "execution_count": 8,
   "id": "a76f7bde-494c-4106-bb5b-3bb5518e7cbf",
   "metadata": {},
   "outputs": [
    {
     "data": {
      "text/plain": [
       "['transfer_passenger_count', 'airline_scheduling_season']"
      ]
     },
     "execution_count": 8,
     "metadata": {},
     "output_type": "execute_result"
    }
   ],
   "source": [
    "allowed_variables = [el.value for el in list(Var)]\n",
    "allowed_variables"
   ]
  },
  {
   "cell_type": "code",
   "execution_count": 9,
   "id": "e377eb17-3b9e-4dd9-a99f-361990a05925",
   "metadata": {},
   "outputs": [],
   "source": [
    "from pydantic import BaseModel, Field, RootModel\n",
    "from typing import Union, Literal\n",
    "from enum import Enum\n",
    "\n",
    "# Separate enums for clarity and type safety\n",
    "class MathOperator(str, Enum):\n",
    "    ADD = \"ADD\"\n",
    "    MULTIPLY = \"MULTIPLY\"\n",
    "    DIVIDE = \"DIVIDE\"\n",
    "\n",
    "class Comparator(str, Enum):\n",
    "    GREATER_THAN = \"GREATER_THAN\"\n",
    "    LESS_THAN = \"LESS_THAN\"\n",
    "    EQUAL_TO = \"EQUAL_TO\"\n",
    "\n",
    "class Units(str, Enum):\n",
    "    HOURS = \"HOURS\"\n",
    "    MINUTES = \"MINUTES\"\n",
    "    EUROS = \"EUROS\"\n",
    "    PERCENT = \"PERCENT\"\n",
    "    UNITLESS = \"UNITLESS\"\n",
    "    \n",
    "# --- Node Definitions ---\n",
    "\n",
    "class ValueNode(BaseModel):\n",
    "    type: Literal[\"VALUE\"] = \"VALUE\"\n",
    "    value: float\n",
    "    description: str\n",
    "    unit: Units\n",
    "\n",
    "class VariableNode(BaseModel):\n",
    "    type: Literal[\"VARIABLE\"] = \"VARIABLE\"\n",
    "    name: str \n",
    "    description: str\n",
    "    unit: Units\n",
    "\n",
    "class BinaryOpNode(BaseModel):\n",
    "    \"\"\"Node for mathematical operations that produce a number.\"\"\"\n",
    "    type: Literal[\"BINARY_OPERATION\"] = \"BINARY_OPERATION\"\n",
    "    operator: MathOperator\n",
    "    left: 'AnyNode'\n",
    "    right: 'AnyNode'\n",
    "\n",
    "class ComparisonNode(BaseModel):\n",
    "    \"\"\"Node for comparison operations that produce a boolean.\"\"\"\n",
    "    type: Literal[\"COMPARISON\"] = \"COMPARISON\"\n",
    "    operator: Comparator\n",
    "    left: 'AnyNode'\n",
    "    right: 'AnyNode'\n",
    "\n",
    "class ConditionalNode(BaseModel):\n",
    "    \"\"\"Node for if-then-else logic.\"\"\"\n",
    "    type: Literal[\"CONDITIONAL\"] = \"CONDITIONAL\"\n",
    "    condition: ComparisonNode # Condition must be a comparison\n",
    "    if_true: 'AnyNode'\n",
    "    if_false: 'AnyNode'\n",
    "\n",
    "# --- Recursive Setup ---\n",
    "\n",
    "AnyNode = Union[\n",
    "    ValueNode, \n",
    "    VariableNode, \n",
    "    BinaryOpNode, \n",
    "    ConditionalNode\n",
    "]\n",
    "\n",
    "# Use model_rebuild() to safely resolve all forward references\n",
    "BinaryOpNode.model_rebuild()\n",
    "ConditionalNode.model_rebuild()\n",
    "ComparisonNode.model_rebuild()\n",
    "\n",
    "class Node(RootModel):\n",
    "    root: BinaryOpNode"
   ]
  },
  {
   "cell_type": "code",
   "execution_count": 65,
   "id": "e33228fd-369c-4df3-9122-6c93d57d7053",
   "metadata": {},
   "outputs": [],
   "source": [
    "from pydantic import BaseModel, Field, field_validator\n",
    "from typing import List, Dict, Any, Optional\n",
    "from enum import Enum\n",
    "\n",
    "\n",
    "class ParameterStatus(str, Enum):\n",
    "    \"\"\"An enumeration for clear, explicit parameter statuses.\"\"\"\n",
    "    KNOWN = \"KNOWN\"\n",
    "    SYMBOLIC = \"SYMBOLIC\"\n",
    "\n",
    "class ParameterDetail(BaseModel):\n",
    "    \"\"\"A structured model to describe each parameter identified from the query.\"\"\"\n",
    "    name: str = Field(..., description=\"The name of the parameter.\")\n",
    "    status: ParameterStatus = Field(..., description=\"Whether the parameter's value is known from the query or is a symbolic variable.\")\n",
    "    value: Optional[Any] = Field(None, description=\"The actual value of the parameter, if its status is 'KNOWN'. Must be null if status is 'SYMBOLIC'.\")\n",
    "\n",
    "\n",
    "class ReasoningSchemaStep1(BaseModel):\n",
    "    query_parameters: List[ParameterDetail] = Field(\n",
    "        ...,\n",
    "        description=\"A structured list of all parameters identified from the query and their status.\"\n",
    "    )\n",
    "class ReasoningSchemaStep2(BaseModel):\n",
    "    \"\"\"\n",
    "    A simplified schema for Step 2 that captures all constants and rules as a simple list of descriptive strings.\n",
    "    \"\"\"\n",
    "    identified_constants_and_rules: List[str] = Field(\n",
    "        ...,\n",
    "        description=\"A comprehensive list of all facts, constants, and conditional rules extracted from the document that are necessary for the final calculation. Each string in the list should be a self-contained, clear statement. For example: 'The rate for a Narrow Satellite stand is €32.90 per 15 minutes' or 'A 100% surcharge is applied if parking duration is between 48 and 72 hours'.\"\n",
    "    )\n",
    "class ReasoningSchemaStep3(BaseModel):\n",
    "    synthesis_plan: str = Field(\n",
    "        ...,\n",
    "        description=\"A concise, step-by-step plan describing how the variables and constants are combined into the final computation graph.\"\n",
    "    )\n",
    "class ReasoningSchemaStep4(BaseModel):\n",
    "    rethink: str = Field(\n",
    "        ...,\n",
    "        description=\"Final check to ensure the plan correctly uses variables and constants and handles all logic from the document.\"\n",
    "    )\n"
   ]
  },
  {
   "cell_type": "code",
   "execution_count": 66,
   "id": "4f9e75d4-47b6-41b3-820f-2b3dbcb825c8",
   "metadata": {},
   "outputs": [],
   "source": [
    "@guidance\n",
    "def create_graph_with_cot(llm, allowed_variables_prompt, document, query, output_schema):\n",
    "    \n",
    "    with system():\n",
    "        llm += f\"\"\"You are an expert system that converts textual calculation rules into structured JSON expression trees.\n",
    "        You MUST think step-by-step and reason before generating the final JSON.\n",
    "        \n",
    "        **Reasoning Guidelines:**\n",
    "        1.  **Analyze Query Parameters:** Identify all relevant parameters from the user's query. For each parameter, create a structured object specifying its 'name', its 'status' ('KNOWN' if the value is given, or 'SYMBOLIC' if it's a variable), and its 'value' (or null if symbolic). For example: `[ {{\"name\": \"aircraft_stand_type\", \"status\": \"KNOWN\", \"value\": \"Wide Remote\"}}, {{\"name\": \"parking_duration_hours\", \"status\": \"SYMBOLIC\", \"value\": null}} ]`\n",
    "        **Allowed Variables for this Task:**\n",
    "        ---\n",
    "        {allowed_variables_prompt}\n",
    "        ---\n",
    "        2. **Identify All Relevant Information**: Review the document and extract every fact, constant, and conditional rule needed for the calculation. Each piece of information should be written as a clear, self-contained sentence and collected into a list of strings.\n",
    "        3.  **Synthesize Plan:** Briefly describe how you will combine these pieces into a final expression tree.\n",
    "        4. **Rethink and Finalize Approach**: Before processing with generation, rethink your progress so far and make adjustments if necessary, then finalize and proceed to generate the expression tree.\n",
    "\n",
    "        **Crucial Rule 1:** If a parameter from the 'Allowed Variables' list is given a specific value in the query, you MUST treat it as a fixed value to find constants. You MUST NOT include it as a `VARIABLE` node in the final JSON.\n",
    "        **Crucial Rule 2**: If a calculation path or value depends on the value of a symbolic variable, you MUST capture the rules for all possible values and represent this logic using CONDITIONAL nodes in the final expression tree. You MUST NOT assume a default value for the variable to simplify the logic.\n",
    "        \n",
    "        After writing your reasoning, you WILL generate the JSON object.\n",
    "\n",
    "\n",
    "        \"\"\"\n",
    "\n",
    "    with user():\n",
    "        llm += f\"\"\"\n",
    "        **Document:**\n",
    "        ---\n",
    "        {document}\n",
    "        ---\n",
    "\n",
    "        **Query:**\n",
    "        \n",
    "        Based on the document, construct the computation graph for the following request:\n",
    "        \n",
    "        \"{query}\"\n",
    "        \n",
    "        \"\"\"\n",
    "\n",
    "    with assistant():\n",
    "        llm += \"I will now follow the reasoning guidelines step-by-step before generating the final JSON.\\n\"\n",
    "        llm += \"Step1. Analyze Query Parameters:\\n\"\n",
    "        llm += gen_json(\n",
    "            name=\"thought1\", \n",
    "            schema=ReasoningSchemaStep1, \n",
    "            max_tokens=600)\n",
    "\n",
    "        llm += \"Step2. Identify All Relevant Information:\\n\"\n",
    "        llm += gen_json(\n",
    "            name=\"thought2\", \n",
    "            schema=ReasoningSchemaStep2, \n",
    "            max_tokens=600)\n",
    "\n",
    "        llm += \"Step3. Synthesize Plan:\\n\"\n",
    "        llm += gen_json(\n",
    "            name=\"thought3\", \n",
    "            schema=ReasoningSchemaStep3, \n",
    "            max_tokens=600)\n",
    "\n",
    "        llm += \"Step4. Rethink and Finalize Approach:\\n\"\n",
    "        llm += gen_json(\n",
    "            name=\"thought4\", \n",
    "            schema=ReasoningSchemaStep4, \n",
    "            max_tokens=600)\n",
    "\n",
    "        # After thinking, it generates the JSON.\n",
    "        llm += \"\\n\\nFinal JSON object:\\n\"\n",
    "        llm += gen_json(\n",
    "            name=\"result_graph\", \n",
    "            schema=output_schema,\n",
    "            max_tokens=2000 \n",
    "        )\n",
    "        \n",
    "    return llm"
   ]
  },
  {
   "cell_type": "code",
   "execution_count": 67,
   "id": "4d910e07-d59b-480d-b317-440939d7566d",
   "metadata": {},
   "outputs": [],
   "source": [
    "\n",
    "class ComputationGraphBuilder:\n",
    "    \"\"\"\n",
    "    Orchestrates the creation of a computation graph by preparing dynamic\n",
    "    constraints and prompting the LLM.\n",
    "    \"\"\"\n",
    "    \n",
    "    def __init__(self, model):\n",
    "        \"\"\"\n",
    "        Initializes the builder with a guidance model.\n",
    "        \"\"\"\n",
    "        self.model = model\n",
    "        # Set the default LLM for all guidance programs\n",
    "        # guidance.llm = self.model\n",
    "    @timing_decorator\n",
    "    def build(self, document_content: str, query: str, charge_category: str) -> dict:\n",
    "        \"\"\"\n",
    "        Generates a computation graph for a given query and document.\n",
    "\n",
    "        Args:\n",
    "            document_content: The text containing the rules.\n",
    "            query: A natural language question about what to calculate.\n",
    "            charge_category: The specific charge context used to filter variables.\n",
    "\n",
    "        Returns:\n",
    "            A dictionary representing the computation graph or an error.\n",
    "        \"\"\"\n",
    "        print(f\"--- Building graph for charge category: '{charge_category}' ---\")\n",
    "        \n",
    "        # 1. Dynamically create the filtered Enum for this specific task\n",
    "        try:\n",
    "            Var = create_dynamic_variable_enum(charge_category)\n",
    "        except ValueError as e:\n",
    "            print(f\"Error: {e}\")\n",
    "            return {\"error\": str(e)}\n",
    "\n",
    "        # 3. Create a formatted prompt string of allowed variables for the LLM\n",
    "        allowed_variables = [el.value for el in list(Var)]\n",
    "        allowed_variables_prompt = \"\\n\".join(\n",
    "            [f\"- **{v.name}**: {v.description}\" for name, v in ALL_VARIABLES.items() if name in allowed_variables]\n",
    "        )\n",
    "\n",
    "        try:\n",
    "            # 4. Execute the guidance program with all dynamic components\n",
    "            result_lm = self.model + create_graph_with_cot(\n",
    "                allowed_variables_prompt=allowed_variables_prompt,\n",
    "                document=document_content,\n",
    "                query=query,\n",
    "                output_schema=Node\n",
    "            )\n",
    "            \n",
    "            \n",
    "            # print(\"\\nSuccessfully generated graph:\")\n",
    "            # # Use model_dump_json for Pydantic v2\n",
    "            # print(pydantic_graph.model_dump_json(indent=2)) \n",
    "            return result_lm\n",
    "            \n",
    "        except Exception as e:\n",
    "            print(f\"\\nAn error occurred while building the graph for '{query}': {e}\")\n",
    "            return {\"error\": str(e)}"
   ]
  },
  {
   "cell_type": "code",
   "execution_count": 78,
   "id": "e0c2b98c-68d6-41f5-a262-3e0d42d7d11c",
   "metadata": {},
   "outputs": [],
   "source": [
    "import sympy\n",
    "from sympy import Symbol, Piecewise, sympify, Add, Mul, Pow\n",
    "\n",
    "def compose_expression(node: dict):\n",
    "    \"\"\"\n",
    "    Recursively parses a JSON graph into a SymPy expression,\n",
    "    preventing automatic simplification.\n",
    "\n",
    "    Args:\n",
    "        node: A dictionary representing a node in the computation graph.\n",
    "\n",
    "    Returns:\n",
    "        A non-evaluated sympy expression representing the computation.\n",
    "    \"\"\"\n",
    "\n",
    "    node_type = node.get('type')\n",
    "\n",
    "    if node_type == \"VALUE\":\n",
    "        return sympify(node['value'])\n",
    "\n",
    "    elif node_type == \"VARIABLE\":\n",
    "        return Symbol(node['name'])\n",
    "\n",
    "    elif node_type == \"BINARY_OPERATION\":\n",
    "        left = compose_expression(node['left'])\n",
    "        right = compose_expression(node['right'])\n",
    "        operator = node['operator']\n",
    "        \n",
    "        # Use class constructors with evaluate=False to prevent simplification\n",
    "        if operator == \"ADD\":\n",
    "            return Add(left, right, evaluate=False)\n",
    "        elif operator == \"MULTIPLY\":\n",
    "            return Mul(left, right, evaluate=False)\n",
    "        elif operator == \"DIVIDE\":\n",
    "            # Division (a/b) is represented as a * (b**-1)\n",
    "            power = Pow(right, -1, evaluate=False)\n",
    "            return Mul(left, power, evaluate=False)\n",
    "        else:\n",
    "            raise ValueError(f\"Unsupported binary operator: {operator}\")\n",
    "\n",
    "    elif node_type == \"COMPARISON\":\n",
    "        left = compose_expression(node['left'])\n",
    "        right = compose_expression(node['right'])\n",
    "        operator = node['operator']\n",
    "\n",
    "        if operator == \"GREATER_THAN\":\n",
    "            return left > right\n",
    "        if operator == \"LESS_THAN\":\n",
    "            return left < right\n",
    "        else:\n",
    "            raise ValueError(f\"Unsupported comparison operator: {operator}\")\n",
    "\n",
    "    elif node_type == \"CONDITIONAL\":\n",
    "        condition = compose_expression(node['condition'])\n",
    "        if_true_expr = compose_expression(node['if_true'])\n",
    "        if_false_expr = compose_expression(node['if_false'])\n",
    "        \n",
    "        return Piecewise((if_true_expr, condition), (if_false_expr, True))\n",
    "\n",
    "    else:\n",
    "        raise ValueError(f\"Unknown node type: {node_type}\")"
   ]
  },
  {
   "cell_type": "code",
   "execution_count": 69,
   "id": "c32f9032-14c4-4108-8c7e-89cd4a826589",
   "metadata": {},
   "outputs": [],
   "source": [
    "import json\n",
    "import traceback\n",
    "\n",
    "\n",
    "def create_computation_graph(model, query, charge_category):\n",
    "    graph_builder = ComputationGraphBuilder(model=model)\n",
    "\n",
    "    start_time = time.perf_counter()\n",
    "    llm_structured_response = graph_builder.build(\n",
    "        document_content=markdown_content,\n",
    "        query=query,\n",
    "        charge_category=charge_category\n",
    "    )\n",
    "    end_time = time.perf_counter()\n",
    "    build_time = end_time - start_time\n",
    "\n",
    "    return llm_structured_response, build_time\n",
    "    "
   ]
  },
  {
   "cell_type": "markdown",
   "id": "4c492dce-84e1-41a1-9440-f4e13cdbb02c",
   "metadata": {},
   "source": [
    "1. Changes:\n",
    "- Added a structured schema for our steps of reasoning to counter the problems with variable length reasoning. Tokens capped at 1k.\n",
    "2. Observations:\n",
    "- The reasoning produced is pretty good, although the model makes a mistakes in one of the steps where it thinks that the surcharge may not be required; it quickly corrects this in the final reconsideration step and evaluates the problem correctly.\n",
    "- The graph generated is perfection! :') \n",
    "3. Discussions:\n",
    "- Structured generation for the win! Guiding the model to think in a structured way, assuming 1k tokens is enough inference time compute (there is a paper, which says that any problem solvable by boolean circuits of size T, constant size transformers can solve it by generating O(T) INTERMEDIATE tokens, and if directly generating final answers, either requires a huge depth or cannot solve at all! (Source: Reasoning talk by google reasoning team lead Denny Zhou (https://youtu.be/ebnX5Ur1hBk?si=cfl9k0_CGLuxeN5y)\n",
    "- Above implies that if we simply scale the token budget for reasoning which is now in our control, we could potentially come up with such a computation graph for any problem? \n",
    "- To Note: We still may be bypassing the natural training of the model by using such structured generation! During SFT and RLFT, the models may be trained to generate their thinking between <think> </think> tokens, it still remains to be seen how they stop the thinking process, and whether is done naturally or ends when the model outputs </think>. Next, how is thinking something that can simply be turned off or on, example in qwen models.\n",
    "4. Next Steps:\n",
    "- See if other entities from the pdf are extractable.\n",
    "- Modify the smpy solver and to handle these additional nodes."
   ]
  },
  {
   "cell_type": "code",
   "execution_count": 13,
   "id": "b2d052b1-5335-45b9-8f8a-186a5d4cf185",
   "metadata": {},
   "outputs": [
    {
     "name": "stdout",
     "output_type": "stream",
     "text": [
      "--- Building graph for charge category: 'west_aerodrome_parking_charge' ---\n"
     ]
    },
    {
     "data": {
      "application/vnd.jupyter.widget-view+json": {
       "model_id": "3c95218022d349a6865958da64481d11",
       "version_major": 2,
       "version_minor": 0
      },
      "text/plain": [
       "StitchWidget(initial_height='auto', initial_width='100%', srcdoc='<!doctype html>\\n<html lang=\"en\">\\n<head>\\n …"
      ]
     },
     "metadata": {},
     "output_type": "display_data"
    },
    {
     "name": "stderr",
     "output_type": "stream",
     "text": [
      "IOPub message rate exceeded.\n",
      "The Jupyter server will temporarily stop sending output\n",
      "to the client in order to avoid crashing it.\n",
      "To change this limit, set the config variable\n",
      "`--ServerApp.iopub_msg_rate_limit`.\n",
      "\n",
      "Current values:\n",
      "ServerApp.iopub_msg_rate_limit=1000.0 (msgs/sec)\n",
      "ServerApp.rate_limit_window=3.0 (secs)\n",
      "\n"
     ]
    }
   ],
   "source": [
    "graph_builder = ComputationGraphBuilder(model=model)\n",
    "\n",
    "my_query = \"Calculate the total parking charge for a Long Term Remote stand type at West Aerodrome Parking with no overnight parking. The parking duration is a variable with unit hours.\"\n",
    "my_charge_category = \"west_aerodrome_parking_charge\"\n",
    "\n",
    "# 3. Call the build method to generate the graph\n",
    "start_time = time.perf_counter()\n",
    "expression_tree_dict = graph_builder.build(\n",
    "    document_content=markdown_content,\n",
    "    query=my_query,\n",
    "    charge_category=my_charge_category\n",
    ")\n",
    "end_time = time.perf_counter()\n",
    "execution_time = end_time - start_time\n",
    "# print(f\"Execution time for '{func.__name__}': {execution_time:.4f} seconds\")"
   ]
  },
  {
   "cell_type": "code",
   "execution_count": 14,
   "id": "42b4a459-f8df-4464-afce-6e1a59754be1",
   "metadata": {},
   "outputs": [
    {
     "data": {
      "text/plain": [
       "261.31297062599333"
      ]
     },
     "execution_count": 14,
     "metadata": {},
     "output_type": "execute_result"
    }
   ],
   "source": [
    "execution_time\n",
    "# print(expression_tree_dict['thought'])\n",
    "# loaded_json = json.loads(expression_tree_dict['result_graph'])\n",
    "# print(json.dumps(loaded_json, indent=4))"
   ]
  },
  {
   "cell_type": "code",
   "execution_count": 17,
   "id": "15bf8b83-5dc1-4751-a86b-97a45a5f07c8",
   "metadata": {},
   "outputs": [
    {
     "name": "stdout",
     "output_type": "stream",
     "text": [
      "{\n",
      "    \"identified_values\": [\n",
      "        \"parking_duration_hours\",\n",
      "        \"aircraft_stand_type\",\n",
      "        \"is_overnight_parking\"\n",
      "    ],\n",
      "    \"identified_variables\": [\n",
      "        \"parking_duration_hours\",\n",
      "        \"aircraft_stand_type\",\n",
      "        \"is_overnight_parking\"\n",
      "    ],\n",
      "    \"synthesis_plan\": \"The total parking charge depends on the stand type (West Aerodrome Parking Long Term Remote), parking duration, and whether it's overnight. The base rate is \\u20ac180.00 per day or part thereof. Since it's not overnight, we don't apply the free night-time charge. We need to calculate the number of days (ceiling of duration/24) and multiply by the base rate. No surcharges apply since the duration is not 48+ hours.\",\n",
      "    \"rethink\": \"I need to verify the exact charging rules for Long Term Remote in WAP. The document says it's charged per day or part thereof. Also, check if there are any surcharges for extended periods. The surcharge applies for 48-72 hours (100% surcharge) and 72+ hours (200% surcharge). However, since the duration is a variable, we need to calculate based on the actual hours. The base rate is \\u20ac180.00 per day. For durations over 48 hours, apply the surcharge. The calculation should be: if duration >= 72 hours, charge = (days * 180) * 3; if duration >=48 hours, charge = (days * 180) * 2; else charge = days * 180. Days is calculated as ceiling(duration / 24). Also, since it's not overnight, no free charge applies.\"\n",
      "}\n"
     ]
    }
   ],
   "source": [
    "# execution_time\n",
    "loaded_json = json.loads(expression_tree_dict['thought'])\n",
    "print(json.dumps(loaded_json, indent=4))\n",
    "# loaded_json = json.loads(expression_tree_dict['result_graph'])\n",
    "# print(json.dumps(loaded_json, indent=4))"
   ]
  },
  {
   "cell_type": "code",
   "execution_count": 25,
   "id": "e0584e79-1984-437b-a3a7-d094c59708d5",
   "metadata": {},
   "outputs": [
    {
     "name": "stdout",
     "output_type": "stream",
     "text": [
      "{\n",
      "    \"type\": \"BINARY_OPERATION\",\n",
      "    \"operator\": \"ADD\",\n",
      "    \"left\": {\n",
      "        \"type\": \"CONDITIONAL\",\n",
      "        \"condition\": {\n",
      "            \"type\": \"COMPARISON\",\n",
      "            \"operator\": \"GREATER_THAN\",\n",
      "            \"left\": {\n",
      "                \"type\": \"VARIABLE\",\n",
      "                \"name\": \"parking_duration_hours\",\n",
      "                \"description\": \"Total duration of parking in hours. Surcharges apply at 48 and 72 hours.\",\n",
      "                \"unit\": \"HOURS\"\n",
      "            },\n",
      "            \"right\": {\n",
      "                \"type\": \"VALUE\",\n",
      "                \"value\": 72,\n",
      "                \"description\": \"Threshold for 200% surcharge\",\n",
      "                \"unit\": \"HOURS\"\n",
      "            }\n",
      "        },\n",
      "        \"if_true\": {\n",
      "            \"type\": \"BINARY_OPERATION\",\n",
      "            \"operator\": \"MULTIPLY\",\n",
      "            \"left\": {\n",
      "                \"type\": \"BINARY_OPERATION\",\n",
      "                \"operator\": \"MULTIPLY\",\n",
      "                \"left\": {\n",
      "                    \"type\": \"BINARY_OPERATION\",\n",
      "                    \"operator\": \"DIVIDE\",\n",
      "                    \"left\": {\n",
      "                        \"type\": \"VARIABLE\",\n",
      "                        \"name\": \"parking_duration_hours\",\n",
      "                        \"description\": \"Total duration of parking in hours. Surcharges apply at 48 and 72 hours.\",\n",
      "                        \"unit\": \"HOURS\"\n",
      "                    },\n",
      "                    \"right\": {\n",
      "                        \"type\": \"VALUE\",\n",
      "                        \"value\": 24,\n",
      "                        \"description\": \"Hours per day\",\n",
      "                        \"unit\": \"HOURS\"\n",
      "                    }\n",
      "                },\n",
      "                \"right\": {\n",
      "                    \"type\": \"VALUE\",\n",
      "                    \"value\": 180,\n",
      "                    \"description\": \"Standard charge per day for Long Term Remote at WAP\",\n",
      "                    \"unit\": \"EUROS\"\n",
      "                }\n",
      "            },\n",
      "            \"right\": {\n",
      "                \"type\": \"VALUE\",\n",
      "                \"value\": 3,\n",
      "                \"description\": \"200% surcharge multiplier\",\n",
      "                \"unit\": \"UNITLESS\"\n",
      "            }\n",
      "        },\n",
      "        \"if_false\": {\n",
      "            \"type\": \"CONDITIONAL\",\n",
      "            \"condition\": {\n",
      "                \"type\": \"COMPARISON\",\n",
      "                \"operator\": \"GREATER_THAN\",\n",
      "                \"left\": {\n",
      "                    \"type\": \"VARIABLE\",\n",
      "                    \"name\": \"parking_duration_hours\",\n",
      "                    \"description\": \"Total duration of parking in hours. Surcharges apply at 48 and 72 hours.\",\n",
      "                    \"unit\": \"HOURS\"\n",
      "                },\n",
      "                \"right\": {\n",
      "                    \"type\": \"VALUE\",\n",
      "                    \"value\": 48,\n",
      "                    \"description\": \"Threshold for 100% surcharge\",\n",
      "                    \"unit\": \"HOURS\"\n",
      "                }\n",
      "            },\n",
      "            \"if_true\": {\n",
      "                \"type\": \"BINARY_OPERATION\",\n",
      "                \"operator\": \"MULTIPLY\",\n",
      "                \"left\": {\n",
      "                    \"type\": \"BINARY_OPERATION\",\n",
      "                    \"operator\": \"DIVIDE\",\n",
      "                    \"left\": {\n",
      "                        \"type\": \"VARIABLE\",\n",
      "                        \"name\": \"parking_duration_hours\",\n",
      "                        \"description\": \"Total duration of parking in hours. Surcharges apply at 48 and 72 hours.\",\n",
      "                        \"unit\": \"HOURS\"\n",
      "                    },\n",
      "                    \"right\": {\n",
      "                        \"type\": \"VALUE\",\n",
      "                        \"value\": 24,\n",
      "                        \"description\": \"Hours per day\",\n",
      "                        \"unit\": \"HOURS\"\n",
      "                    }\n",
      "                },\n",
      "                \"right\": {\n",
      "                    \"type\": \"BINARY_OPERATION\",\n",
      "                    \"operator\": \"MULTIPLY\",\n",
      "                    \"left\": {\n",
      "                        \"type\": \"VALUE\",\n",
      "                        \"value\": 180,\n",
      "                        \"description\": \"Standard charge per day for Long Term Remote at WAP\",\n",
      "                        \"unit\": \"EUROS\"\n",
      "                    },\n",
      "                    \"right\": {\n",
      "                        \"type\": \"VALUE\",\n",
      "                        \"value\": 2,\n",
      "                        \"description\": \"100% surcharge multiplier\",\n",
      "                        \"unit\": \"UNITLESS\"\n",
      "                    }\n",
      "                }\n",
      "            },\n",
      "            \"if_false\": {\n",
      "                \"type\": \"BINARY_OPERATION\",\n",
      "                \"operator\": \"MULTIPLY\",\n",
      "                \"left\": {\n",
      "                    \"type\": \"BINARY_OPERATION\",\n",
      "                    \"operator\": \"DIVIDE\",\n",
      "                    \"left\": {\n",
      "                        \"type\": \"VARIABLE\",\n",
      "                        \"name\": \"parking_duration_hours\",\n",
      "                        \"description\": \"Total duration of parking in hours. Surcharges apply at 48 and 72 hours.\",\n",
      "                        \"unit\": \"HOURS\"\n",
      "                    },\n",
      "                    \"right\": {\n",
      "                        \"type\": \"VALUE\",\n",
      "                        \"value\": 24,\n",
      "                        \"description\": \"Hours per day\",\n",
      "                        \"unit\": \"HOURS\"\n",
      "                    }\n",
      "                },\n",
      "                \"right\": {\n",
      "                    \"type\": \"VALUE\",\n",
      "                    \"value\": 180,\n",
      "                    \"description\": \"Standard charge per day for Long Term Remote at WAP\",\n",
      "                    \"unit\": \"EUROS\"\n",
      "                }\n",
      "            }\n",
      "        }\n",
      "    },\n",
      "    \"right\": {\n",
      "        \"type\": \"VALUE\",\n",
      "        \"value\": 0,\n",
      "        \"description\": \"No overnight charge applies\",\n",
      "        \"unit\": \"EUROS\"\n",
      "    }\n",
      "}\n"
     ]
    }
   ],
   "source": [
    "# execution_time\n",
    "# print(expression_tree_dict['thought'])\n",
    "loaded_json = json.loads(expression_tree_dict['result_graph'])\n",
    "print(json.dumps(loaded_json, indent=4))"
   ]
  },
  {
   "cell_type": "markdown",
   "id": "a2b6af12-7bdf-4baa-9e37-cb8c22620aef",
   "metadata": {},
   "source": [
    "1. Changes:\n",
    "- Expanding problem sets\n",
    "- Expanded equation composer functionality to include newer nodes"
   ]
  },
  {
   "cell_type": "code",
   "execution_count": 44,
   "id": "63dc55f7-ac9d-49a1-bbc9-130c41387bb7",
   "metadata": {},
   "outputs": [],
   "source": []
  },
  {
   "cell_type": "code",
   "execution_count": 45,
   "id": "6debc64c-ac7b-426a-bc8a-3acdfed2bff3",
   "metadata": {},
   "outputs": [
    {
     "name": "stdout",
     "output_type": "stream",
     "text": [
      "Sympy Expression: Piecewise((((parking_duration_hours/24)*180)*3, parking_duration_hours > 72), (Piecewise(((180*2)*(parking_duration_hours/24), parking_duration_hours > 48), ((parking_duration_hours/24)*180, True)), True)) + 0\n"
     ]
    }
   ],
   "source": [
    "\n",
    "\n",
    "# Print the resulting expression\n",
    "loaded_json = json.loads(expression_tree_dict['result_graph'])\n",
    "symbolic_expr = compose_expression(loaded_json)\n",
    "print(f\"Sympy Expression: {symbolic_expr}\")"
   ]
  },
  {
   "cell_type": "code",
   "execution_count": 46,
   "id": "728fccaf-9a82-4e40-866a-4b7a7c8c2f2b",
   "metadata": {},
   "outputs": [
    {
     "name": "stdout",
     "output_type": "stream",
     "text": [
      "The parking cost for 60 hours is: 900 EUR\n"
     ]
    }
   ],
   "source": [
    "from sympy import Symbol\n",
    "\n",
    "# Define the symbol that you want to replace\n",
    "variable_to_replace = Symbol('parking_duration_hours')\n",
    "\n",
    "# Define the value you want to substitute\n",
    "value_to_substitute = 60\n",
    "\n",
    "final_charge_cost = symbolic_expr.subs(variable_to_replace, value_to_substitute)\n",
    "print(f\"The parking cost for {value_to_substitute} hours is: {final_charge_cost} EUR\") "
   ]
  },
  {
   "cell_type": "markdown",
   "id": "229cb68c-2e72-46ba-9e62-dfdb6856362f",
   "metadata": {},
   "source": [
    "1. Changes:\n",
    "- Expanding problem sets\n",
    "- Expanded equation composer functionality to include newer nodes [DONE]\n",
    "- Functionalize creating computation graphs"
   ]
  },
  {
   "cell_type": "code",
   "execution_count": 56,
   "id": "93214133-bfbe-497f-8a74-c616fff2a70f",
   "metadata": {},
   "outputs": [],
   "source": [
    "\n",
    "\n",
    "# Print the resulting expression\n",
    "loaded_json = json.loads(expression_tree_dict['result_graph'])\n",
    "symbolic_expr = compose_expression(loaded_json)\n",
    "print(f\"Sympy Expression: {symbolic_expr}\")"
   ]
  },
  {
   "cell_type": "markdown",
   "id": "ace2458d-6e59-499b-ad1f-f2e0dcbaa095",
   "metadata": {},
   "source": [
    "1. Changes:\n",
    "- Expanding problem sets\n",
    "- Expanded equation composer functionality to include newer nodes [DONE]\n",
    "- Functionalize creating computation graphs [DONE]"
   ]
  },
  {
   "cell_type": "code",
   "execution_count": 16,
   "id": "c38c740c-9c26-4eee-913b-08369951e622",
   "metadata": {},
   "outputs": [
    {
     "name": "stdout",
     "output_type": "stream",
     "text": [
      "--- Building graph for charge category: 'west_aerodrome_parking_charge' ---\n"
     ]
    },
    {
     "data": {
      "application/vnd.jupyter.widget-view+json": {
       "model_id": "36877db6cc4e4e1ca9d0bca4e8ad47f1",
       "version_major": 2,
       "version_minor": 0
      },
      "text/plain": [
       "StitchWidget(initial_height='auto', initial_width='100%', srcdoc='<!doctype html>\\n<html lang=\"en\">\\n<head>\\n …"
      ]
     },
     "metadata": {},
     "output_type": "display_data"
    },
    {
     "name": "stdout",
     "output_type": "stream",
     "text": [
      "\n",
      "An error occurred while building the graph for 'Calculate the total parking charge for a Narrow Remote stand type at West Aerodrome Parking with no overnight parking. The parking duration is a variable with unit hours.': CUDA out of memory. Tried to allocate 1.16 GiB. GPU 1 has a total capacity of 44.45 GiB of which 612.56 MiB is free. Process 236628 has 41.19 GiB memory in use. Including non-PyTorch memory, this process has 2.65 GiB memory in use. Of the allocated memory 1.58 GiB is allocated by PyTorch, and 780.21 MiB is reserved by PyTorch but unallocated. If reserved but unallocated memory is large try setting PYTORCH_CUDA_ALLOC_CONF=expandable_segments:True to avoid fragmentation.  See documentation for Memory Management  (https://pytorch.org/docs/stable/notes/cuda.html#environment-variables)\n",
      "Execution time for 'build': 85.2672 seconds\n"
     ]
    }
   ],
   "source": [
    "query = \"Calculate the total parking charge for a Narrow Remote stand type at West Aerodrome Parking with no overnight parking. The parking duration is a variable with unit hours.\"\n",
    "charge_category = \"west_aerodrome_parking_charge\"\n",
    "\n",
    "graph_builder = ComputationGraphBuilder(model=model)\n",
    "\n",
    "start_time = time.perf_counter()\n",
    "llm_structured_response = graph_builder.build(\n",
    "    document_content=markdown_content,\n",
    "    query=query,\n",
    "    charge_category=charge_category\n",
    ")\n",
    "end_time = time.perf_counter()\n",
    "build_time = end_time - start_time\n",
    "\n",
    "# computation_graph, llm_structured_thought, build_time = create_computation_graph(model, query, charge_category)\n"
   ]
  },
  {
   "cell_type": "code",
   "execution_count": null,
   "id": "49ce6c38-951b-4cc1-aa43-ef7c0887a313",
   "metadata": {},
   "outputs": [],
   "source": []
  },
  {
   "cell_type": "code",
   "execution_count": 52,
   "id": "ab9e8029-3428-4e68-8a01-fd6248848b03",
   "metadata": {},
   "outputs": [
    {
     "name": "stdout",
     "output_type": "stream",
     "text": [
      "{\n",
      "    \"identified_values\": [\n",
      "        \"parking_duration_hours\",\n",
      "        \"aircraft_stand_type\",\n",
      "        \"is_overnight_parking\"\n",
      "    ],\n",
      "    \"identified_variables\": [\n",
      "        \"parking_duration_hours\",\n",
      "        \"aircraft_stand_type\",\n",
      "        \"is_overnight_parking\"\n",
      "    ],\n",
      "    \"synthesis_plan\": \"The total parking charge calculation requires: 1. Determining the base rate for Narrow Remote stands at WAP 2. Calculating the number of 15-minute intervals in the parking duration 3. Applying surcharges if parking duration exceeds 48 or 72 hours 4. Considering overnight parking status (though this case specifies no overnight parking) The formula would be: Total Charge = (Base Rate \\u00d7 Number of Intervals) \\u00d7 (1 + Surcharges) The surcharge depends on duration: - No surcharge for <48 hours - 100% surcharge for 48-72 hours - 200% surcharge for >72 hours\",\n",
      "    \"rethink\": \"I need to make sure I correctly interpret the surcharge structure from the document. The WAP surcharge table shows 48-72 hours has 'Standard rate' (so 0% surcharge) and 72+ has 'Standard rate +200%'. This is different from EAP's 100% and 200% surcharges. I should adjust the surcharge logic accordingly.\"\n",
      "}\n",
      "{\n",
      "    \"type\": \"BINARY_OPERATION\",\n",
      "    \"operator\": \"MULTIPLY\",\n",
      "    \"left\": {\n",
      "        \"type\": \"BINARY_OPERATION\",\n",
      "        \"operator\": \"MULTIPLY\",\n",
      "        \"left\": {\n",
      "            \"type\": \"VARIABLE\",\n",
      "            \"name\": \"parking_duration_hours\",\n",
      "            \"description\": \"Total duration of parking in hours.\",\n",
      "            \"unit\": \"HOURS\"\n",
      "        },\n",
      "        \"right\": {\n",
      "            \"type\": \"BINARY_OPERATION\",\n",
      "            \"operator\": \"DIVIDE\",\n",
      "            \"left\": {\n",
      "                \"type\": \"VARIABLE\",\n",
      "                \"name\": \"aircraft_stand_type\",\n",
      "                \"description\": \"The type of aircraft stand used for parking. E.g., \\\"Wide Contact\\\", \\\"Narrow Remote\\\", \\\"LAP\\\", \\\"Long Term Remote\\\".\",\n",
      "                \"unit\": \"UNITLESS\"\n",
      "            },\n",
      "            \"right\": {\n",
      "                \"type\": \"VALUE\",\n",
      "                \"value\": 0.25,\n",
      "                \"description\": \"Conversion factor from hours to 15-minute intervals (1 hour = 4 intervals)\",\n",
      "                \"unit\": \"HOURS\"\n",
      "            }\n",
      "        },\n",
      "        \"right \": {\n",
      "            \"type\": \"CONDITIONAL\",\n",
      "            \"condition\": {\n",
      "                \"type\": \"COMPARISON\",\n",
      "                \"operator\": \"LESS_THAN\",\n",
      "                \"left\": {\n",
      "                    \"type\": \"VARIABLE\",\n",
      "                    \"name\": \"parking_duration_hours\",\n",
      "                    \"description\": \"Total duration of parking in hours.\",\n",
      "                    \"unit\": \"HOURS\"\n",
      "                },\n",
      "                \"right\": {\n",
      "                    \"type\": \"VALUE\",\n",
      "                    \"value\": 48,\n",
      "                    \"description\": \"Threshold for 48-hour surcharge\",\n",
      "                    \"unit\": \"HOURS\"\n",
      "                }\n",
      "            },\n",
      "            \"true_value\": {\n",
      "                \"type\": \"VALUE\",\n",
      "                \"value\": 1,\n",
      "                \"description\": \"No surcharge\",\n",
      "                \"unit\": \"UNITLESS\"\n",
      "            },\n",
      "            \"false_value\": {\n",
      "                \"type\": \"CONDITIONAL\",\n",
      "                \"condition\": {\n",
      "                    \"type\": \"COMPARISON\",\n",
      "                    \"operator\": \"LESS_THAN_EQUAL\",\n",
      "                    \"left\": {\n",
      "                        \"type\": \"VARIABLE\",\n",
      "                        \"name\": \"parking_duration_hours\",\n",
      "                        \"description\": \"Total duration of parking in hours.\",\n",
      "                        \"unit\": \"HOURS\"\n",
      "                    },\n",
      "                    \"right\": {\n",
      "                        \"type\": \"VALUE\",\n",
      "                        \"value\": 72,\n",
      "                        \"description\": \"Threshold for 72-hour surcharge\",\n",
      "                        \"unit\": \"HOURS\"\n",
      "                    }\n",
      "                },\n",
      "                \"true_value\": {\n",
      "                    \"type\": \"VALUE\",\n",
      "                    \"value\": 2,\n",
      "                    \"description\": \"100% surcharge\",\n",
      "                    \"unit\": \"UNITLESS\"\n",
      "                },\n",
      "                \"false_value\": {\n",
      "                    \"type\": \"VALUE\",\n",
      "                    \"value\": 3,\n",
      "                    \"description\": \"200% surcharge\",\n",
      "                    \"unit\": \"UNITLESS\"\n",
      "                }\n",
      "            }\n",
      "        }\n",
      "    },\n",
      "    \"right\": {\n",
      "        \"type\": \"VALUE\",\n",
      "        \"value\": 7.7,\n",
      "        \"description\": \"Standard charge per aircraft/stand type for Narrow Remote at WAP\",\n",
      "        \"unit\": \"EUROS\"\n",
      "    }\n",
      "}\n",
      "Sympy Expression: (parking_duration_hours*(aircraft_stand_type/0.25))*7.7\n"
     ]
    }
   ],
   "source": [
    "\n",
    "print(json.dumps(llm_structured_thought, indent=4))\n",
    "\n",
    "print(json.dumps(computation_graph, indent=4))\n",
    "\n",
    "symbolic_expr = compose_expression(computation_graph)\n",
    "print(f\"Sympy Expression: {symbolic_expr}\")"
   ]
  },
  {
   "cell_type": "code",
   "execution_count": 59,
   "id": "052232f6-3ece-40f2-a663-c44a261f6f12",
   "metadata": {},
   "outputs": [
    {
     "name": "stdout",
     "output_type": "stream",
     "text": [
      "hi\n"
     ]
    }
   ],
   "source": [
    "print('hi')"
   ]
  },
  {
   "cell_type": "code",
   "execution_count": 71,
   "id": "d1534f98-3379-4b5e-95c2-25620c702add",
   "metadata": {},
   "outputs": [
    {
     "name": "stdout",
     "output_type": "stream",
     "text": [
      "--- Building graph for charge category: 'west_aerodrome_parking_charge' ---\n"
     ]
    },
    {
     "data": {
      "application/vnd.jupyter.widget-view+json": {
       "model_id": "7938016184514566b47cb53f6e14c919",
       "version_major": 2,
       "version_minor": 0
      },
      "text/plain": [
       "StitchWidget(initial_height='auto', initial_width='100%', srcdoc='<!doctype html>\\n<html lang=\"en\">\\n<head>\\n …"
      ]
     },
     "metadata": {},
     "output_type": "display_data"
    }
   ],
   "source": [
    "query = \"Calculate the total parking charge for a Narrow Remote stand type at West Aerodrome Parking with no overnight parking. The parking duration is a variable with unit hours.\"\n",
    "charge_category = \"west_aerodrome_parking_charge\"\n",
    "\n",
    "result = create_computation_graph(model, query, charge_category)\n"
   ]
  },
  {
   "cell_type": "code",
   "execution_count": 72,
   "id": "64d122bf-2d41-449e-8bd5-27ff66000026",
   "metadata": {},
   "outputs": [
    {
     "data": {
      "text/plain": [
       "({'type': 'BINARY_OPERATION',\n",
       "  'operator': 'MULTIPLY',\n",
       "  'left': {'type': 'VARIABLE',\n",
       "   'name': 'parking_duration_hours',\n",
       "   'description': 'Total duration of parking in hours.',\n",
       "   'unit': 'HOURS'},\n",
       "  'right': {'type': 'BINARY_OPERATION',\n",
       "   'operator': 'DIVIDE',\n",
       "   'left': {'type': 'VALUE',\n",
       "    'value': 4.0,\n",
       "    'description': 'Number of 15-minute intervals per hour.',\n",
       "    'unit': 'UNITLESS'},\n",
       "   'right': {'type': 'VALUE',\n",
       "    'value': 1.0,\n",
       "    'description': 'Conversion from hours to 15-minute intervals.',\n",
       "    'unit': 'UNITLESS'}}},\n",
       " {'fixed_parameters': {'aircraft_stand_type': 'Narrow Remote',\n",
       "   'parking_duration_hours': 'variable',\n",
       "   'is_overnight_parking': 'False'},\n",
       "  'symbolic_variables': ['parking_duration_hours'],\n",
       "  'constants_from_document': {'standard_charge_per_aircraft_stand_type': 7.7,\n",
       "   'surcharges': {'48_hours_up_to_72_hours': 0, '72_hours_and_over': 0}},\n",
       "  'synthesis_plan': 'The total parking charge is calculated by multiplying the standard charge per aircraft/stand type (€7.70) by the number of 15-minute intervals in the parking duration. Since there is no overnight parking, no surcharges apply. The parking duration is a variable, so the calculation will include a variable for the duration in hours.',\n",
       "  'rethink': \"The parking duration is a variable, so it should remain as a VARIABLE node. The standard charge for Narrow Remote at WAP is €7.70. Since the parking duration is not specified, we assume it's less than 48 hours, so no surcharges apply. The is_overnight_parking is False, so no free night-time charges.\"},\n",
       " 113.21478608500911,\n",
       " <guidance.models._transformers.Transformers at 0x14af3e296b90>)"
      ]
     },
     "execution_count": 72,
     "metadata": {},
     "output_type": "execute_result"
    }
   ],
   "source": [
    "result"
   ]
  },
  {
   "cell_type": "code",
   "execution_count": 15,
   "id": "d82d24f9-cbd4-4e4c-935a-374aad319d37",
   "metadata": {},
   "outputs": [
    {
     "name": "stdout",
     "output_type": "stream",
     "text": [
      "hi\n"
     ]
    }
   ],
   "source": [
    "print('hi')"
   ]
  },
  {
   "cell_type": "code",
   "execution_count": 16,
   "id": "4fdf427a-d030-4c90-9e91-cd2fe25e48dc",
   "metadata": {},
   "outputs": [
    {
     "name": "stdout",
     "output_type": "stream",
     "text": [
      "--- Building graph for charge category: 'west_aerodrome_parking_charge' ---\n"
     ]
    },
    {
     "data": {
      "application/vnd.jupyter.widget-view+json": {
       "model_id": "2349ca9b4430483eb435d8cea654b066",
       "version_major": 2,
       "version_minor": 0
      },
      "text/plain": [
       "StitchWidget(initial_height='auto', initial_width='100%', srcdoc='<!doctype html>\\n<html lang=\"en\">\\n<head>\\n …"
      ]
     },
     "metadata": {},
     "output_type": "display_data"
    },
    {
     "name": "stderr",
     "output_type": "stream",
     "text": [
      "IOPub message rate exceeded.\n",
      "The Jupyter server will temporarily stop sending output\n",
      "to the client in order to avoid crashing it.\n",
      "To change this limit, set the config variable\n",
      "`--ServerApp.iopub_msg_rate_limit`.\n",
      "\n",
      "Current values:\n",
      "ServerApp.iopub_msg_rate_limit=1000.0 (msgs/sec)\n",
      "ServerApp.rate_limit_window=3.0 (secs)\n",
      "\n"
     ]
    }
   ],
   "source": [
    "query = \"Calculate the total parking charge for a Narrow Remote stand type at West Aerodrome Parking with no overnight parking. The parking duration is a variable with unit hours.\"\n",
    "charge_category = \"west_aerodrome_parking_charge\"\n",
    "\n",
    "result = create_computation_graph(model, query, charge_category)\n"
   ]
  },
  {
   "cell_type": "code",
   "execution_count": 22,
   "id": "c6c3e64a-6a35-4864-80e7-a63811e7fab3",
   "metadata": {},
   "outputs": [
    {
     "data": {
      "text/plain": [
       "388.95055588299874"
      ]
     },
     "execution_count": 22,
     "metadata": {},
     "output_type": "execute_result"
    }
   ],
   "source": [
    "result[2]"
   ]
  },
  {
   "cell_type": "code",
   "execution_count": 18,
   "id": "11712c2c-efb3-47d7-9360-933f2bd1cddc",
   "metadata": {},
   "outputs": [
    {
     "data": {
      "text/plain": [
       "{'query_parameters': [{'name': 'aircraft_stand_type',\n",
       "   'status': 'KNOWN',\n",
       "   'value': 'Narrow Remote'},\n",
       "  {'name': 'parking_duration_hours', 'status': 'SYMBOLIC', 'value': None},\n",
       "  {'name': 'is_overnight_parking', 'status': 'KNOWN', 'value': 'False'}],\n",
       " 'constants_from_document': {'global_constants': [{'name': 'parking_surcharge_48_to_72_hours',\n",
       "    'value': 100},\n",
       "   {'name': 'parking_surcharge_72_hours_and_over', 'value': 200},\n",
       "   {'name': 'overnight_parking_free_period', 'value': '2300-0600hrs'}],\n",
       "  'conditional_constants': [{'name': 'standard_charge_wap_narrow_remote',\n",
       "    'value': 7.7},\n",
       "   {'name': 'surcharge_48_to_72_hours_wap', 'value': 100},\n",
       "   {'name': 'surcharge_72_hours_and_over_wap', 'value': 200}]},\n",
       " 'synthesis_plan': 'The total parking charge is calculated by first determining the standard charge per 15 minutes for the Narrow Remote stand at WAP. Then, based on the parking duration, apply the appropriate surcharge percentage. Since the duration is symbolic, we need to create conditional branches for different time ranges. The calculation will involve: 1. Calculating the number of 15-minute intervals in the parking duration. 2. Applying the surcharge based on the duration. 3. Multiplying the standard rate by the number of intervals and the surcharge factor.',\n",
       " 'rethink': 'I need to ensure that the surcharge percentages are correctly applied based on the duration. Also, since the duration is symbolic, the expression tree must include conditional logic for different time ranges. The calculation should account for the surcharge percentages and the standard rate for WAP Narrow Remote.'}"
      ]
     },
     "execution_count": 18,
     "metadata": {},
     "output_type": "execute_result"
    }
   ],
   "source": [
    "result[1]"
   ]
  },
  {
   "cell_type": "code",
   "execution_count": 23,
   "id": "fa53fa90-2a67-4d37-836f-176ea6d14eae",
   "metadata": {},
   "outputs": [
    {
     "name": "stdout",
     "output_type": "stream",
     "text": [
      "{\n",
      "    \"type\": \"BINARY_OPERATION\",\n",
      "    \"operator\": \"ADD\",\n",
      "    \"left\": {\n",
      "        \"type\": \"CONDITIONAL\",\n",
      "        \"condition\": {\n",
      "            \"type\": \"COMPARISON\",\n",
      "            \"operator\": \"LESS_THAN\",\n",
      "            \"left\": {\n",
      "                \"type\": \"VARIABLE\",\n",
      "                \"name\": \"parking_duration_hours\",\n",
      "                \"description\": \"Total duration of parking in hours. Surcharges apply at 48 and 72 hours.\",\n",
      "                \"unit\": \"HOURS\"\n",
      "            },\n",
      "            \"right\": {\n",
      "                \"type\": \"VALUE\",\n",
      "                \"value\": 48,\n",
      "                \"description\": \"Threshold for 48-hour surcharge.\",\n",
      "                \"unit\": \"HOURS\"\n",
      "            }\n",
      "        },\n",
      "        \"if_true\": {\n",
      "            \"type\": \"BINARY_OPERATION\",\n",
      "            \"operator\": \"MULTIPLY\",\n",
      "            \"left\": {\n",
      "                \"type\": \"BINARY_OPERATION\",\n",
      "                \"operator\": \"MULTIPLY\",\n",
      "                \"left\": {\n",
      "                    \"type\": \"VARIABLE\",\n",
      "                    \"name\": \"parking_duration_hours\",\n",
      "                    \"description\": \"Total duration of parking in hours. Surcharges apply at 48 and 72 hours.\",\n",
      "                    \"unit\": \"HOURS\"\n",
      "                },\n",
      "                \"right\": {\n",
      "                    \"type\": \"BINARY_OPERATION\",\n",
      "                    \"operator\": \"DIVIDE\",\n",
      "                    \"left\": {\n",
      "                        \"type\": \"VALUE\",\n",
      "                        \"value\": 1,\n",
      "                        \"description\": \"Conversion factor from hours to 15-minute intervals (1 hour = 4 intervals).\",\n",
      "                        \"unit\": \"HOURS\"\n",
      "                    },\n",
      "                    \"right\": {\n",
      "                        \"type\": \"VALUE\",\n",
      "                        \"value\": 0.25,\n",
      "                        \"description\": \"Conversion factor from hours to 15-minute intervals (1 hour = 4 intervals).\",\n",
      "                        \"unit\": \"HOURS\"\n",
      "                    }\n",
      "                }\n",
      "            },\n",
      "            \"right\": {\n",
      "                \"type\": \"VALUE\",\n",
      "                \"value\": 7.7,\n",
      "                \"description\": \"Standard charge per 15 minutes for Narrow Remote stand at West Aerodrome Parking.\",\n",
      "                \"unit\": \"EUROS\"\n",
      "            }\n",
      "        },\n",
      "        \"if_false\": {\n",
      "            \"type\": \"CONDITIONAL\",\n",
      "            \"condition\": {\n",
      "                \"type\": \"COMPARISON\",\n",
      "                \"operator\": \"LESS_THAN\",\n",
      "                \"left\": {\n",
      "                    \"type\": \"VARIABLE\",\n",
      "                    \"name\": \"parking_duration_hours\",\n",
      "                    \"description\": \"Total duration of parking in hours. Surcharges apply at 48 and 72 hours.\",\n",
      "                    \"unit\": \"HOURS\"\n",
      "                },\n",
      "                \"right\": {\n",
      "                    \"type\": \"VALUE\",\n",
      "                    \"value\": 72,\n",
      "                    \"description\": \"Threshold for 72-hour surcharge.\",\n",
      "                    \"unit\": \"HOURS\"\n",
      "                }\n",
      "            },\n",
      "            \"if_true\": {\n",
      "                \"type\": \"BINARY_OPERATION\",\n",
      "                \"operator\": \"MULTIPLY\",\n",
      "                \"left\": {\n",
      "                    \"type\": \"BINARY_OPERATION\",\n",
      "                    \"operator\": \"MULTIPLY\",\n",
      "                    \"left\": {\n",
      "                        \"type\": \"VARIABLE\",\n",
      "                        \"name\": \"parking_duration_hours\",\n",
      "                        \"description\": \"Total duration of parking in hours. Surcharges apply at 48 and 72 hours.\",\n",
      "                        \"unit\": \"HOURS\"\n",
      "                    },\n",
      "                    \"right\": {\n",
      "                        \"type\": \"BINARY_OPERATION\",\n",
      "                        \"operator\": \"DIVIDE\",\n",
      "                        \"left\": {\n",
      "                            \"type\": \"VALUE\",\n",
      "                            \"value\": 1,\n",
      "                            \"description\": \"Conversion factor from hours to 15-minute intervals (1 hour = 4 intervals).\",\n",
      "                            \"unit\": \"HOURS\"\n",
      "                        },\n",
      "                        \"right\": {\n",
      "                            \"type\": \"VALUE\",\n",
      "                            \"value\": 0.25,\n",
      "                            \"description\": \"Conversion factor from hours to 15-minute intervals (1 hour = 4 intervals).\",\n",
      "                            \"unit\": \"HOURS\"\n",
      "                        }\n",
      "                    }\n",
      "                },\n",
      "                \"right\": {\n",
      "                    \"type\": \"BINARY_OPERATION\",\n",
      "                    \"operator\": \"MULTIPLY\",\n",
      "                    \"left\": {\n",
      "                        \"type\": \"VALUE\",\n",
      "                        \"value\": 1.0,\n",
      "                        \"description\": \"Surcharge factor for 48-72 hours (100% surcharge).\",\n",
      "                        \"unit\": \"UNITLESS\"\n",
      "                    },\n",
      "                    \"right\": {\n",
      "                        \"type\": \"VALUE\",\n",
      "                        \"value\": 7.7,\n",
      "                        \"description\": \"Standard charge per 15 minutes for Narrow Remote stand at West Aerodrome Parking.\",\n",
      "                        \"unit\": \"EUROS\"\n",
      "                    }\n",
      "                }\n",
      "            },\n",
      "            \"if_false\": {\n",
      "                \"type\": \"BINARY_OPERATION\",\n",
      "                \"operator\": \"MULTIPLY\",\n",
      "                \"left\": {\n",
      "                    \"type\": \"BINARY_OPERATION\",\n",
      "                    \"operator\": \"MULTIPLY\",\n",
      "                    \"left\": {\n",
      "                        \"type\": \"VARIABLE\",\n",
      "                        \"name\": \"parking_duration_hours\",\n",
      "                        \"description\": \"Total duration of parking in hours. Surcharges apply at 48 and 72 hours.\",\n",
      "                        \"unit\": \"HOURS\"\n",
      "                    },\n",
      "                    \"right\": {\n",
      "                        \"type\": \"BINARY_OPERATION\",\n",
      "                        \"operator\": \"DIVIDE\",\n",
      "                        \"left\": {\n",
      "                            \"type\": \"VALUE\",\n",
      "                            \"value\": 1,\n",
      "                            \"description\": \"Conversion factor from hours to 15-minute intervals (1 hour = 4 intervals).\",\n",
      "                            \"unit\": \"HOURS\"\n",
      "                        },\n",
      "                        \"right\": {\n",
      "                            \"type\": \"VALUE\",\n",
      "                            \"value\": 0.25,\n",
      "                            \"description\": \"Conversion factor from hours to 15-minute intervals (1 hour = 4 intervals).\",\n",
      "                            \"unit\": \"HOURS\"\n",
      "                        }\n",
      "                    }\n",
      "                },\n",
      "                \"right\": {\n",
      "                    \"type\": \"BINARY_OPERATION\",\n",
      "                    \"operator\": \"MULTIPLY\",\n",
      "                    \"left\": {\n",
      "                        \"type\": \"VALUE\",\n",
      "                        \"value\": 2.0,\n",
      "                        \"description\": \"Surcharge factor for 72 hours and over (200% surcharge).\",\n",
      "                        \"unit\": \"UNITLESS\"\n",
      "                    },\n",
      "                    \"right\": {\n",
      "                        \"type\": \"VALUE\",\n",
      "                        \"value\": 7.7,\n",
      "                        \"description\": \"Standard charge per 15 minutes for Narrow Remote stand at West Aerodrome Parking.\",\n",
      "                        \"unit\": \"EUROS\"\n",
      "                    }\n",
      "                }\n",
      "            }\n",
      "        }\n",
      "    },\n",
      "    \"right\": {\n",
      "        \"type\": \"VALUE\",\n",
      "        \"value\": 0,\n",
      "        \"description\": \"Overnight parking is free, but the query specifies no overnight parking.\",\n",
      "        \"unit\": \"EUROS\"\n",
      "    }\n",
      "}\n"
     ]
    }
   ],
   "source": [
    "computation_graph = result[0]\n",
    "print(json.dumps(computation_graph, indent=4))"
   ]
  },
  {
   "cell_type": "code",
   "execution_count": 30,
   "id": "24d2a7f9-298e-49be-b77f-e24e92ff5343",
   "metadata": {},
   "outputs": [
    {
     "name": "stdout",
     "output_type": "stream",
     "text": [
      "--- Building graph for charge category: 'east_aerodrome_parking_charge' ---\n"
     ]
    },
    {
     "data": {
      "application/vnd.jupyter.widget-view+json": {
       "model_id": "7e7d7c3c36dc43aaad24988c2e826d93",
       "version_major": 2,
       "version_minor": 0
      },
      "text/plain": [
       "StitchWidget(initial_height='auto', initial_width='100%', srcdoc='<!doctype html>\\n<html lang=\"en\">\\n<head>\\n …"
      ]
     },
     "metadata": {},
     "output_type": "display_data"
    }
   ],
   "source": [
    "query = \"Calculate the total parking charge for a Narrow Satellite stand type at East Aerodrome Parking with no overnight parking. The parking duration is a variable with unit hours.\"\n",
    "charge_category = \"east_aerodrome_parking_charge\"\n",
    "\n",
    "result = create_computation_graph(model, query, charge_category)\n"
   ]
  },
  {
   "cell_type": "code",
   "execution_count": 33,
   "id": "57bb57bf-fc41-4a12-bb2d-d59cb892f55a",
   "metadata": {},
   "outputs": [
    {
     "name": "stdout",
     "output_type": "stream",
     "text": [
      "{\n",
      "    \"type\": \"BINARY_OPERATION\",\n",
      "    \"operator\": \"ADD\",\n",
      "    \"left\": {\n",
      "        \"type\": \"CONDITIONAL\",\n",
      "        \"condition\": {\n",
      "            \"type\": \"COMPARISON\",\n",
      "            \"operator\": \"LESS_THAN\",\n",
      "            \"left\": {\n",
      "                \"type\": \"VARIABLE\",\n",
      "                \"name\": \"parking_duration_hours\",\n",
      "                \"description\": \"Total duration of parking in hours. Surcharges apply at 48 and 72 hours.\",\n",
      "                \"unit\": \"HOURS\"\n",
      "            },\n",
      "            \"right\": {\n",
      "                \"type\": \"VALUE\",\n",
      "                \"value\": 48,\n",
      "                \"description\": \"Time thresholds for surcharges\",\n",
      "                \"unit\": \"HOURS\"\n",
      "            }\n",
      "        },\n",
      "        \"if_true\": {\n",
      "            \"type\": \"BINARY_OPERATION\",\n",
      "            \"operator\": \"MULTIPLY\",\n",
      "            \"left\": {\n",
      "                \"type\": \"VALUE\",\n",
      "                \"value\": 32.9,\n",
      "                \"description\": \"Standard charge per aircraft/stand type for Narrow Satellite at East Aerodrome Parking\",\n",
      "                \"unit\": \"EUROS\"\n",
      "            },\n",
      "            \"right\": {\n",
      "                \"type\": \"VALUE\",\n",
      "                \"value\": 1,\n",
      "                \"description\": \"No surcharge for duration less than 48 hours\",\n",
      "                \"unit\": \"UNITLESS\"\n",
      "            }\n",
      "        },\n",
      "        \"if_false\": {\n",
      "            \"type\": \"CONDITIONAL\",\n",
      "            \"condition\": {\n",
      "                \"type\": \"COMPARISON\",\n",
      "                \"operator\": \"LESS_THAN\",\n",
      "                \"left\": {\n",
      "                    \"type\": \"VARIABLE\",\n",
      "                    \"name\": \"parking_duration_hours\",\n",
      "                    \"description\": \"Total duration of parking in hours. Surcharges apply at 48 and 72 hours.\",\n",
      "                    \"unit\": \"HOURS\"\n",
      "                },\n",
      "                \"right\": {\n",
      "                    \"type\": \"VALUE\",\n",
      "                    \"value\": 72,\n",
      "                    \"description\": \"Time thresholds for surcharges\",\n",
      "                    \"unit\": \"HOURS\"\n",
      "                }\n",
      "            },\n",
      "            \"if_true\": {\n",
      "                \"type\": \"BINARY_OPERATION\",\n",
      "                \"operator\": \"MULTIPLY\",\n",
      "                \"left\": {\n",
      "                    \"type\": \"VALUE\",\n",
      "                    \"value\": 32.9,\n",
      "                    \"description\": \"Standard charge per aircraft/stand type for Narrow Satellite at East Aerodrome Parking\",\n",
      "                    \"unit\": \"EUROS\"\n",
      "                },\n",
      "                \"right\": {\n",
      "                    \"type\": \"VALUE\",\n",
      "                    \"value\": 2,\n",
      "                    \"description\": \"100% surcharge for duration between 48-72 hours\",\n",
      "                    \"unit\": \"UNITLESS\"\n",
      "                }\n",
      "            },\n",
      "            \"if_false\": {\n",
      "                \"type\": \"BINARY_OPERATION\",\n",
      "                \"operator\": \"MULTIPLY\",\n",
      "                \"left\": {\n",
      "                    \"type\": \"VALUE\",\n",
      "                    \"value\": 32.9,\n",
      "                    \"description\": \"Standard charge per aircraft/stand type for Narrow Satellite at East Aerodrome Parking\",\n",
      "                    \"unit\": \"EUROS\"\n",
      "                },\n",
      "                \"right\": {\n",
      "                    \"type\": \"VALUE\",\n",
      "                    \"value\": 3,\n",
      "                    \"description\": \"200% surcharge for duration over 72 hours\",\n",
      "                    \"unit\": \"UNITLESS\"\n",
      "                }\n",
      "            }\n",
      "        }\n",
      "    },\n",
      "    \"right\": {\n",
      "        \"type\": \"VALUE\",\n",
      "        \"value\": 0,\n",
      "        \"description\": \"No additional charges for non-light aircraft\",\n",
      "        \"unit\": \"EUROS\"\n",
      "    }\n",
      "}\n"
     ]
    }
   ],
   "source": [
    "computation_graph = result[0]\n",
    "print(json.dumps(computation_graph, indent=4))"
   ]
  },
  {
   "cell_type": "code",
   "execution_count": 31,
   "id": "d886bd38-ba1c-49b8-ba02-ac2229f65da7",
   "metadata": {},
   "outputs": [
    {
     "data": {
      "text/plain": [
       "{'query_parameters': [{'name': 'aircraft_stand_type',\n",
       "   'status': 'KNOWN',\n",
       "   'value': 'Narrow Satellite'},\n",
       "  {'name': 'parking_duration_hours', 'status': 'SYMBOLIC', 'value': None},\n",
       "  {'name': 'is_overnight_parking', 'status': 'KNOWN', 'value': 'False'}],\n",
       " 'constants_from_document': {'global_constants': [{'description': 'Standard charge per aircraft/stand type for Narrow Satellite at East Aerodrome Parking',\n",
       "    'value': 32.9,\n",
       "    'unit': 'EUROS'},\n",
       "   {'description': 'Minimum charge for light aircraft',\n",
       "    'value': 3.2,\n",
       "    'unit': 'EUROS'},\n",
       "   {'description': 'Surcharges for parking duration',\n",
       "    'value': 100,\n",
       "    'unit': 'EUROS'},\n",
       "   {'description': 'Surcharges for parking duration',\n",
       "    'value': 200,\n",
       "    'unit': 'EUROS'},\n",
       "   {'description': 'Time thresholds for surcharges',\n",
       "    'value': 48,\n",
       "    'unit': 'HOURS'},\n",
       "   {'description': 'Time thresholds for surcharges',\n",
       "    'value': 72,\n",
       "    'unit': 'HOURS'}],\n",
       "  'conditional_constants': []},\n",
       " 'synthesis_plan': 'The total parking charge is calculated by first determining the standard charge for the Narrow Satellite stand at East Aerodrome Parking. Since the parking duration is a variable, we need to create conditional logic to check if the duration is less than 48 hours, between 48-72 hours, or over 72 hours. For each of these cases, we apply the appropriate surcharge (0%, 100%, or 200%) to the standard charge. The final charge is the standard charge multiplied by (1 + surcharge percentage).',\n",
       " 'rethink': 'The calculation logic correctly accounts for the variable parking duration by using conditional checks. The surcharge percentages are correctly applied based on the duration thresholds. The is_overnight_parking parameter is set to False, so no adjustments for overnight parking are needed. The final expression tree will accurately represent this logic.'}"
      ]
     },
     "execution_count": 31,
     "metadata": {},
     "output_type": "execute_result"
    }
   ],
   "source": [
    "result[1]"
   ]
  },
  {
   "cell_type": "code",
   "execution_count": 32,
   "id": "3271a4dd-1832-410b-8a23-0a9adb3fcce9",
   "metadata": {},
   "outputs": [
    {
     "data": {
      "text/plain": [
       "253.98508896899875"
      ]
     },
     "execution_count": 32,
     "metadata": {},
     "output_type": "execute_result"
    }
   ],
   "source": [
    "result[2]"
   ]
  },
  {
   "cell_type": "code",
   "execution_count": 25,
   "id": "a39598fb-dd7d-4f7d-9217-b6b8c5cb5442",
   "metadata": {},
   "outputs": [
    {
     "name": "stdout",
     "output_type": "stream",
     "text": [
      "--- Building graph for charge category: 'east_aerodrome_parking_charge' ---\n"
     ]
    },
    {
     "data": {
      "application/vnd.jupyter.widget-view+json": {
       "model_id": "0c7505dc884147178579066f7d4279c1",
       "version_major": 2,
       "version_minor": 0
      },
      "text/plain": [
       "StitchWidget(initial_height='auto', initial_width='100%', srcdoc='<!doctype html>\\n<html lang=\"en\">\\n<head>\\n …"
      ]
     },
     "metadata": {},
     "output_type": "display_data"
    },
    {
     "name": "stdout",
     "output_type": "stream",
     "text": [
      "Execution time for 'build': 597.8819 seconds\n"
     ]
    },
    {
     "name": "stderr",
     "output_type": "stream",
     "text": [
      "IOPub message rate exceeded.\n",
      "The Jupyter server will temporarily stop sending output\n",
      "to the client in order to avoid crashing it.\n",
      "To change this limit, set the config variable\n",
      "`--ServerApp.iopub_msg_rate_limit`.\n",
      "\n",
      "Current values:\n",
      "ServerApp.iopub_msg_rate_limit=1000.0 (msgs/sec)\n",
      "ServerApp.rate_limit_window=3.0 (secs)\n",
      "\n"
     ]
    }
   ],
   "source": [
    "query = \"Calculate the total parking charge for a Narrow Satellite stand type at East Aerodrome Parking with no overnight parking. The parking duration is a variable with unit hours.\"\n",
    "charge_category = \"east_aerodrome_parking_charge\"\n",
    "\n",
    "result = create_computation_graph(model, query, charge_category)\n"
   ]
  },
  {
   "cell_type": "code",
   "execution_count": 27,
   "id": "cf99b780-0a3c-4db7-8445-731d84849fec",
   "metadata": {},
   "outputs": [
    {
     "data": {
      "text/plain": [
       "{'query_parameters': [{'name': 'aircraft_stand_type',\n",
       "   'status': 'KNOWN',\n",
       "   'value': 'Narrow Satellite'},\n",
       "  {'name': 'parking_duration_hours', 'status': 'SYMBOLIC', 'value': None},\n",
       "  {'name': 'is_overnight_parking', 'status': 'KNOWN', 'value': 'False'}],\n",
       " 'constants_from_document': {'global_constants': [{'description': 'Standard charge per aircraft/stand type for Narrow Satellite at East Aerodrome Parking',\n",
       "    'value': 32.9,\n",
       "    'unit': 'EUROS'},\n",
       "   {'description': 'Minimum charge for light aircraft',\n",
       "    'value': 3.2,\n",
       "    'unit': 'EUROS'},\n",
       "   {'description': 'Surcharges for parking duration',\n",
       "    'value': 100,\n",
       "    'unit': 'PERCENT'},\n",
       "   {'description': 'Surcharges for parking duration',\n",
       "    'value': 200,\n",
       "    'unit': 'PERCENT'},\n",
       "   {'description': 'Time thresholds for surcharges',\n",
       "    'value': 48,\n",
       "    'unit': 'HOURS'},\n",
       "   {'description': 'Time thresholds for surcharges',\n",
       "    'value': 72,\n",
       "    'unit': 'HOURS'}],\n",
       "  'lookup_constants': [{'condition': {'aircraft_stand_type': 'Narrow Satellite'},\n",
       "    'constant': {'description': 'Standard charge per aircraft/stand type for Narrow Satellite at East Aerodrome Parking',\n",
       "     'value': 32.9,\n",
       "     'unit': 'EUROS'}},\n",
       "   {'condition': {'aircraft_stand_type': 'Narrow Remote'},\n",
       "    'constant': {'description': 'Standard charge per aircraft/stand type for Narrow Remote at East Aerodrome Parking',\n",
       "     'value': 9.8,\n",
       "     'unit': 'EUROS'}},\n",
       "   {'condition': {'aircraft_stand_type': 'Wide Remote'},\n",
       "    'constant': {'description': 'Standard charge per aircraft/stand type for Wide Remote at East Aerodrome Parking',\n",
       "     'value': 12.3,\n",
       "     'unit': 'EUROS'}},\n",
       "   {'condition': {'aircraft_stand_type': 'Wide Contact'},\n",
       "    'constant': {'description': 'Standard charge per aircraft/stand type for Wide Contact at East Aerodrome Parking',\n",
       "     'value': 44.4,\n",
       "     'unit': 'EUROS'}},\n",
       "   {'condition': {'aircraft_stand_type': 'Light Aircraft Parking (LAP)'},\n",
       "    'constant': {'description': 'Standard charge per aircraft/stand type for Light Aircraft Parking (LAP) at East Aerodrome Parking',\n",
       "     'value': 3.5,\n",
       "     'unit': 'EUROS'}},\n",
       "   {'condition': {'aircraft_stand_type': 'Long Term Remote'},\n",
       "    'constant': {'description': 'Standard charge per aircraft/stand type for Long Term Remote at East Aerodrome Parking',\n",
       "     'value': 234.5,\n",
       "     'unit': 'EUROS'}},\n",
       "   {'condition': {'aircraft_stand_type': 'Wide Satellite'},\n",
       "    'constant': {'description': 'Standard charge per aircraft/stand type for Wide Satellite at East Aerodrome Parking',\n",
       "     'value': 42.0,\n",
       "     'unit': 'EUROS'}},\n",
       "   {'condition': {'aircraft_stand_type': 'Narrow Satellite'},\n",
       "    'constant': {'description': 'Standard charge per aircraft/stand type for Narrow Satellite at East Aerodrome Parking',\n",
       "     'value': 32.9,\n",
       "     'unit': 'EUROS'}},\n",
       "   {'condition': {'aircraft_stand_type': 'Narrow Remote'},\n",
       "    'constant': {'description': 'Standard charge per aircraft/stand type for Narrow Remote at West Aerodrome Parking',\n",
       "     'value': 7.7,\n",
       "     'unit': 'EUROS'}},\n",
       "   {'condition': {'aircraft_stand_type': 'Wide Remote'},\n",
       "    'constant': {'description': 'Standard charge per aircraft/stand type for Wide Remote at West Aerodrome Parking',\n",
       "     'value': 9.6,\n",
       "     'unit': 'EUROS'}},\n",
       "   {'condition': {'aircraft_stand_type': 'Long Term Remote'},\n",
       "    'constant': {'description': 'Standard charge per aircraft/stand type for Long Term Remote at West Aerodrome Parking',\n",
       "     'value': 180.0,\n",
       "     'unit': 'EUROS'}},\n",
       "   {'condition': {'aircraft_stand_type': 'Light Aircraft Parking (LAP)'},\n",
       "    'constant': {'description': 'Standard charge per aircraft/stand type for Light Aircraft Parking (LAP) at West Aerodrome Parking',\n",
       "     'value': 2.65,\n",
       "     'unit': 'EUROS'}}],\n",
       "  'conditional_rules': [{'description': 'If parking duration is less than 48 hours, no surcharge applies',\n",
       "    'variable': 'parking_duration_hours',\n",
       "    'logic': {'operator': '<', 'value': 48, 'condition': 'no_surcharge'},\n",
       "    'outcome': {'description': 'No surcharge applied',\n",
       "     'value': 0,\n",
       "     'unit': 'PERCENT'}},\n",
       "   {'description': 'If parking duration is between 48 and 72 hours, apply 100% surcharge',\n",
       "    'variable': 'parking_duration_hours',\n",
       "    'logic': {'operator': 'between',\n",
       "     'value': [48, 72],\n",
       "     'condition': '100_percent_surcharge'},\n",
       "    'outcome': {'description': '100% surcharge applied',\n",
       "     'value': 100,\n",
       "     'unit': 'PERCENT'}},\n",
       "   {'description': 'If parking duration is over 72 hours, apply 200% surcharge',\n",
       "    'variable': 'parking_duration_hours',\n",
       "    'logic': {'operator': '>',\n",
       "     'value': 72,\n",
       "     'condition': '200_percent_surcharge'},\n",
       "    'outcome': {'description': '200% surcharge applied',\n",
       "     'value': 200,\n",
       "     'unit': 'PERCENT'}},\n",
       "   {'description': 'If overnight parking, no surcharge applies',\n",
       "    'variable': 'is_overnight_parking',\n",
       "    'logic': {'operator': '==', 'value': True, 'condition': 'no_surcharge'},\n",
       "    'outcome': {'description': 'No surcharge applied',\n",
       "     'value': 0,\n",
       "     'unit': 'PERCENT'}},\n",
       "   {'description': 'If not overnight parking, apply surcharge based on duration',\n",
       "    'variable': 'is_overnight_parking',\n",
       "    'logic': {'operator': '==',\n",
       "     'value': False,\n",
       "     'condition': 'apply_surcharge'},\n",
       "    'outcome': {'description': 'Apply surcharge based on duration',\n",
       "     'value': 0,\n",
       "     'unit': 'PERCENT'}}],\n",
       "  'additional_notes': \"The parking duration is a variable with unit hours. The calculation should account for the surcharges based on the duration and whether it's overnight parking. The standard charge for Narrow Satellite at East Aerodrome Parking is 32.90 EUR. The surcharge percentages are 100% and 200% for durations between 48-72 hours and over 72 hours respectively. Overnight parking is free of charge.\"},\n",
       " 'synthesis_plan': \"The total parking charge is calculated by first determining the standard charge for the Narrow Satellite stand at East Aerodrome Parking, which is 32.90 EUR. Then, we check if the parking duration is less than 48 hours, in which case no surcharge applies. If the duration is between 48 and 72 hours, a 100% surcharge is added. If it's over 72 hours, a 200% surcharge is added. Additionally, if it's overnight parking, no surcharge applies. Since the query specifies no overnight parking, we only need to consider the duration-based surcharges. The final charge is the standard charge multiplied by (1 + surcharge percentage/100).\",\n",
       " 'rethink': \"The approach is correct. The standard charge is 32.90 EUR for Narrow Satellite at East Aerodrome Parking. The surcharge depends on the parking duration, which is a variable. Since the query specifies no overnight parking, we don't need to consider the overnight surcharge. The calculation will be based on the duration of parking, applying the appropriate surcharge percentage. The final charge is the standard charge multiplied by (1 + surcharge percentage/100).\",\n",
       " 'expression_tree': {'type': 'OPERATION',\n",
       "  'operator': '+',\n",
       "  'left': {'type': 'VARIABLE', 'name': 'standard_charge'},\n",
       "  'right': {'type': 'CONDITIONAL',\n",
       "   'condition': {'type': 'VARIABLE', 'name': 'parking_duration_hours'},\n",
       "   'cases': [{'type': 'CONDITION',\n",
       "     'operator': '<',\n",
       "     'value': 48,\n",
       "     'result': {'type': 'LITERAL', 'value': 0}},\n",
       "    {'type': 'CONDITION',\n",
       "     'operator': 'between',\n",
       "     'value': [48, 72],\n",
       "     'result': {'type': 'LITERAL', 'value': 100}},\n",
       "    {'type': 'CONDITION',\n",
       "     'operator': '>',\n",
       "     'value': 72,\n",
       "     'result': {'type': 'LITERAL', 'value': 200}}]}}}"
      ]
     },
     "execution_count": 27,
     "metadata": {},
     "output_type": "execute_result"
    }
   ],
   "source": [
    "result[1]"
   ]
  },
  {
   "cell_type": "code",
   "execution_count": 34,
   "id": "907c04ab-fd4f-4396-988c-c44b2e3eb5b7",
   "metadata": {},
   "outputs": [
    {
     "name": "stdout",
     "output_type": "stream",
     "text": [
      "--- Building graph for charge category: 'east_aerodrome_parking_charge' ---\n"
     ]
    },
    {
     "data": {
      "application/vnd.jupyter.widget-view+json": {
       "model_id": "04a44dfdc9cb48ec8cb9b31601620a41",
       "version_major": 2,
       "version_minor": 0
      },
      "text/plain": [
       "StitchWidget(initial_height='auto', initial_width='100%', srcdoc='<!doctype html>\\n<html lang=\"en\">\\n<head>\\n …"
      ]
     },
     "metadata": {},
     "output_type": "display_data"
    },
    {
     "name": "stdout",
     "output_type": "stream",
     "text": [
      "Execution time for 'build': 267.1873 seconds\n"
     ]
    },
    {
     "name": "stderr",
     "output_type": "stream",
     "text": [
      "IOPub message rate exceeded.\n",
      "The Jupyter server will temporarily stop sending output\n",
      "to the client in order to avoid crashing it.\n",
      "To change this limit, set the config variable\n",
      "`--ServerApp.iopub_msg_rate_limit`.\n",
      "\n",
      "Current values:\n",
      "ServerApp.iopub_msg_rate_limit=1000.0 (msgs/sec)\n",
      "ServerApp.rate_limit_window=3.0 (secs)\n",
      "\n"
     ]
    }
   ],
   "source": [
    "query = \"Calculate the total parking charge for a Narrow Satellite stand type at East Aerodrome Parking with no overnight parking. The parking duration is a variable with unit hours.\"\n",
    "charge_category = \"east_aerodrome_parking_charge\"\n",
    "\n",
    "result = create_computation_graph(model, query, charge_category)\n"
   ]
  },
  {
   "cell_type": "code",
   "execution_count": 39,
   "id": "5648ac38-4dfc-45c6-9a07-bae071bc4a15",
   "metadata": {},
   "outputs": [
    {
     "data": {
      "text/plain": [
       "267.1874566380284"
      ]
     },
     "execution_count": 39,
     "metadata": {},
     "output_type": "execute_result"
    }
   ],
   "source": [
    "result[1]"
   ]
  },
  {
   "cell_type": "code",
   "execution_count": 50,
   "id": "c60c22d4-81ef-4630-a25e-6139a7976dd5",
   "metadata": {},
   "outputs": [
    {
     "name": "stdout",
     "output_type": "stream",
     "text": [
      "{\n",
      "    \"query_parameters\": [\n",
      "        {\n",
      "            \"name\": \"aircraft_stand_type\",\n",
      "            \"status\": \"KNOWN\",\n",
      "            \"value\": \"Narrow Satellite\"\n",
      "        },\n",
      "        {\n",
      "            \"name\": \"parking_duration_hours\",\n",
      "            \"status\": \"SYMBOLIC\",\n",
      "            \"value\": null\n",
      "        },\n",
      "        {\n",
      "            \"name\": \"is_overnight_parking\",\n",
      "            \"status\": \"KNOWN\",\n",
      "            \"value\": \"False\"\n",
      "        }\n",
      "    ]\n",
      "}\n"
     ]
    }
   ],
   "source": [
    "print(json.dumps(json.loads(result[0][\"thought1\"]), indent=4))"
   ]
  },
  {
   "cell_type": "code",
   "execution_count": 51,
   "id": "c112cf49-3644-4662-83f6-b98d842acd1b",
   "metadata": {},
   "outputs": [
    {
     "name": "stdout",
     "output_type": "stream",
     "text": [
      "{\n",
      "    \"constants_from_document\": {\n",
      "        \"global_constants\": [\n",
      "            {\n",
      "                \"description\": \"Standard charge per aircraft/stand type for Narrow Satellite at East Aerodrome Parking\",\n",
      "                \"value\": 32.9,\n",
      "                \"unit\": \"EUROS\"\n",
      "            },\n",
      "            {\n",
      "                \"description\": \"Surcharges for parking duration\",\n",
      "                \"value\": 100,\n",
      "                \"unit\": \"PERCENT\"\n",
      "            },\n",
      "            {\n",
      "                \"description\": \"Surcharges for parking duration\",\n",
      "                \"value\": 200,\n",
      "                \"unit\": \"PERCENT\"\n",
      "            },\n",
      "            {\n",
      "                \"description\": \"Time thresholds for surcharges\",\n",
      "                \"value\": 48,\n",
      "                \"unit\": \"HOURS\"\n",
      "            },\n",
      "            {\n",
      "                \"description\": \"Time thresholds for surcharges\",\n",
      "                \"value\": 72,\n",
      "                \"unit\": \"HOURS\"\n",
      "            }\n",
      "        ],\n",
      "        \"lookup_constants\": [\n",
      "            {\n",
      "                \"condition\": {\n",
      "                    \"aircraft_stand_type\": \"Narrow Satellite\"\n",
      "                },\n",
      "                \"constant\": {\n",
      "                    \"description\": \"Standard charge per aircraft/stand type for Narrow Satellite at East Aerodrome Parking\",\n",
      "                    \"value\": 32.9,\n",
      "                    \"unit\": \"EUROS\"\n",
      "                }\n",
      "            }\n",
      "        ],\n",
      "        \"conditional_rules\": [\n",
      "            {\n",
      "                \"description\": \"If parking duration is between 48 and 72 hours, apply 100% surcharge\",\n",
      "                \"variable\": \"parking_duration_hours\",\n",
      "                \"logic\": {\n",
      "                    \"operator\": \"BETWEEN\",\n",
      "                    \"lower_bound\": 48,\n",
      "                    \"upper_bound\": 72,\n",
      "                    \"condition\": \"SURCHARGE_100\"\n",
      "                },\n",
      "                \"outcome\": {\n",
      "                    \"description\": \"Apply 100% surcharge\",\n",
      "                    \"value\": 100,\n",
      "                    \"unit\": \"PERCENT\"\n",
      "                }\n",
      "            },\n",
      "            {\n",
      "                \"description\": \"If parking duration is over 72 hours, apply 200% surcharge\",\n",
      "                \"variable\": \"parking_duration_hours\",\n",
      "                \"logic\": {\n",
      "                    \"operator\": \"GREATER_THAN\",\n",
      "                    \"value\": 72,\n",
      "                    \"condition\": \"SURCHARGE_200\"\n",
      "                },\n",
      "                \"outcome\": {\n",
      "                    \"description\": \"Apply 200% surcharge\",\n",
      "                    \"value\": 200,\n",
      "                    \"unit\": \"PERCENT\"\n",
      "                }\n",
      "            }\n",
      "        ]\n",
      "    }\n",
      "}\n"
     ]
    }
   ],
   "source": [
    "print(json.dumps(json.loads(result[0][\"thought2\"]), indent=4))"
   ]
  },
  {
   "cell_type": "code",
   "execution_count": 52,
   "id": "90d9e1c4-f53b-4988-96d6-166a1a5333de",
   "metadata": {},
   "outputs": [
    {
     "name": "stdout",
     "output_type": "stream",
     "text": [
      "{\n",
      "    \"synthesis_plan\": \"The total parking charge is calculated by first determining the standard charge for the Narrow Satellite stand at East Aerodrome Parking, which is \\u20ac32.90 per 15 minutes or part thereof. Since the parking duration is a variable, we need to apply surcharges based on the duration. If the duration is between 48 and 72 hours, a 100% surcharge is applied. If it's over 72 hours, a 200% surcharge is applied. The final charge is the standard charge multiplied by (1 + surcharge percentage).\"\n",
      "}\n"
     ]
    }
   ],
   "source": [
    "print(json.dumps(json.loads(result[0][\"thought3\"]), indent=4))"
   ]
  },
  {
   "cell_type": "code",
   "execution_count": 53,
   "id": "9a5e2746-d0d1-43b5-8a94-ab621a382b9e",
   "metadata": {},
   "outputs": [
    {
     "name": "stdout",
     "output_type": "stream",
     "text": [
      "{\n",
      "    \"rethink\": \"The approach correctly identifies the standard charge for the Narrow Satellite stand at East Aerodrome Parking. The surcharge logic is properly structured with conditional checks for the parking duration. The calculation formula is accurate, using the standard charge multiplied by (1 + surcharge percentage). No adjustments are needed to the approach.\"\n",
      "}\n"
     ]
    }
   ],
   "source": [
    "print(json.dumps(json.loads(result[0][\"thought4\"]), indent=4))"
   ]
  },
  {
   "cell_type": "code",
   "execution_count": 54,
   "id": "ebccf246-6058-46ef-aa40-53def6b48c94",
   "metadata": {},
   "outputs": [
    {
     "name": "stdout",
     "output_type": "stream",
     "text": [
      "{\n",
      "    \"type\": \"BINARY_OPERATION\",\n",
      "    \"operator\": \"MULTIPLY\",\n",
      "    \"left\": {\n",
      "        \"type\": \"BINARY_OPERATION\",\n",
      "        \"operator\": \"ADD\",\n",
      "        \"left\": {\n",
      "            \"type\": \"VALUE\",\n",
      "            \"value\": 1,\n",
      "            \"description\": \"Base multiplier for standard charge\",\n",
      "            \"unit\": \"UNITLESS\"\n",
      "        },\n",
      "        \"right\": {\n",
      "            \"type\": \"CONDITIONAL\",\n",
      "            \"condition\": {\n",
      "                \"type\": \"COMPARISON\",\n",
      "                \"operator\": \"EQUAL_TO\",\n",
      "                \"left\": {\n",
      "                    \"type\": \"VARIABLE\",\n",
      "                    \"name\": \"parking_duration_hours\",\n",
      "                    \"description\": \"Total duration of parking in hours\",\n",
      "                    \"unit\": \"HOURS\"\n",
      "                },\n",
      "                \"right\": {\n",
      "                    \"type\": \"VALUE\",\n",
      "                    \"value\": 48,\n",
      "                    \"description\": \"Time threshold for surcharge\",\n",
      "                    \"unit\": \"HOURS\"\n",
      "                }\n",
      "            },\n",
      "            \"if_true\": {\n",
      "                \"type\": \"VALUE\",\n",
      "                \"value\": 1,\n",
      "                \"description\": \"Surcharge multiplier for 48-72 hours\",\n",
      "                \"unit\": \"UNITLESS\"\n",
      "            },\n",
      "            \"if_false\": {\n",
      "                \"type\": \"CONDITIONAL\",\n",
      "                \"condition\": {\n",
      "                    \"type\": \"COMPARISON\",\n",
      "                    \"operator\": \"EQUAL_TO\",\n",
      "                    \"left\": {\n",
      "                        \"type\": \"VARIABLE\",\n",
      "                        \"name\": \"parking_duration_hours\",\n",
      "                        \"description\": \"Total duration of parking in hours\",\n",
      "                        \"unit\": \"HOURS\"\n",
      "                    },\n",
      "                    \"right\": {\n",
      "                        \"type\": \"VALUE\",\n",
      "                        \"value\": 72,\n",
      "                        \"description\": \"Time threshold for surcharge\",\n",
      "                        \"unit\": \"HOURS\"\n",
      "                    }\n",
      "                },\n",
      "                \"if_true\": {\n",
      "                    \"type\": \"VALUE\",\n",
      "                    \"value\": 2,\n",
      "                    \"description\": \"Surcharge multiplier for over 72 hours\",\n",
      "                    \"unit\": \"UNITLESS\"\n",
      "                },\n",
      "                \"if_false\": {\n",
      "                    \"type\": \"VALUE\",\n",
      "                    \"value\": 0,\n",
      "                    \"description\": \"No surcharge\",\n",
      "                    \"unit\": \"UNITLESS\"\n",
      "                }\n",
      "            }\n",
      "        }\n",
      "    },\n",
      "    \"right\": {\n",
      "        \"type\": \"VALUE\",\n",
      "        \"value\": 32.9,\n",
      "        \"description\": \"Standard charge per aircraft/stand type for Narrow Satellite at East Aerodrome Parking\",\n",
      "        \"unit\": \"EUROS\"\n",
      "    }\n",
      "}\n"
     ]
    }
   ],
   "source": [
    "print(json.dumps(json.loads(result[0][\"result_graph\"]), indent=4))"
   ]
  },
  {
   "cell_type": "code",
   "execution_count": 70,
   "id": "cddd29e5-1a7c-4e1a-b9c6-7657589ca788",
   "metadata": {},
   "outputs": [
    {
     "name": "stdout",
     "output_type": "stream",
     "text": [
      "--- Building graph for charge category: 'east_aerodrome_parking_charge' ---\n"
     ]
    },
    {
     "data": {
      "application/vnd.jupyter.widget-view+json": {
       "model_id": "2e99fb9881cf4aba90d9ffa2f5e623c2",
       "version_major": 2,
       "version_minor": 0
      },
      "text/plain": [
       "StitchWidget(initial_height='auto', initial_width='100%', srcdoc='<!doctype html>\\n<html lang=\"en\">\\n<head>\\n …"
      ]
     },
     "metadata": {},
     "output_type": "display_data"
    }
   ],
   "source": [
    "query = \"Calculate the total parking charge for a Narrow Satellite stand type at East Aerodrome Parking with no overnight parking. The parking duration is a variable with unit hours.\"\n",
    "charge_category = \"east_aerodrome_parking_charge\"\n",
    "\n",
    "result = create_computation_graph(model, query, charge_category)\n"
   ]
  },
  {
   "cell_type": "code",
   "execution_count": 71,
   "id": "cb364002-343c-4b2e-bd7a-d72c8dded581",
   "metadata": {},
   "outputs": [
    {
     "name": "stdout",
     "output_type": "stream",
     "text": [
      "{\n",
      "    \"query_parameters\": [\n",
      "        {\n",
      "            \"name\": \"aircraft_stand_type\",\n",
      "            \"status\": \"KNOWN\",\n",
      "            \"value\": \"Narrow Satellite\"\n",
      "        },\n",
      "        {\n",
      "            \"name\": \"parking_duration_hours\",\n",
      "            \"status\": \"SYMBOLIC\",\n",
      "            \"value\": null\n",
      "        },\n",
      "        {\n",
      "            \"name\": \"is_overnight_parking\",\n",
      "            \"status\": \"KNOWN\",\n",
      "            \"value\": false\n",
      "        }\n",
      "    ]\n",
      "}\n"
     ]
    }
   ],
   "source": [
    "print(json.dumps(json.loads(result[0][\"thought1\"]), indent=4))"
   ]
  },
  {
   "cell_type": "code",
   "execution_count": 72,
   "id": "e40a706e-298d-4d40-8c68-cb0868be9f3b",
   "metadata": {},
   "outputs": [
    {
     "name": "stdout",
     "output_type": "stream",
     "text": [
      "{\n",
      "    \"identified_constants_and_rules\": [\n",
      "        \"The standard charge per aircraft/stand type for Narrow Satellite at East Aerodrome Parking (EAP) is \\u20ac32.90 per 15 minutes or part thereof.\",\n",
      "        \"Parking surcharges apply for extended periods at EAP: 48 hours up to 72 hours (including night-time) attract a surcharge of Standard rate +100%, and 72 hours and over (including night-time) attract a surcharge of Standard rate +200%.\",\n",
      "        \"Overnight parking from 2300-0600hrs is free of charge. The query specifies no overnight parking (is_overnight_parking = false).\",\n",
      "        \"The parking duration is a variable with unit hours, meaning the calculation must account for all possible values of parking_duration_hours.\"\n",
      "    ]\n",
      "}\n"
     ]
    }
   ],
   "source": [
    "print(json.dumps(json.loads(result[0][\"thought2\"]), indent=4))"
   ]
  },
  {
   "cell_type": "code",
   "execution_count": 73,
   "id": "7bffc2fe-eff2-4522-af61-6356c65ae686",
   "metadata": {},
   "outputs": [
    {
     "name": "stdout",
     "output_type": "stream",
     "text": [
      "{\n",
      "    \"synthesis_plan\": \"The total parking charge calculation for a Narrow Satellite stand at EAP involves: 1. Determining the base rate (\\u20ac32.90 per 15 minutes or part thereof). 2. Calculating the number of 15-minute intervals in the parking duration. 3. Applying surcharges based on the duration: - If parking_duration_hours < 48: no surcharge. - If 48 \\u2264 parking_duration_hours < 72: add 100% surcharge. - If parking_duration_hours \\u2265 72: add 200% surcharge. 4. Since the duration is symbolic, the expression tree must include conditional logic for all possible duration ranges.\"\n",
      "}\n"
     ]
    }
   ],
   "source": [
    "print(json.dumps(json.loads(result[0][\"thought3\"]), indent=4))"
   ]
  },
  {
   "cell_type": "code",
   "execution_count": 74,
   "id": "f5c7c4ea-3d33-472f-8c5f-07fd2796b368",
   "metadata": {},
   "outputs": [
    {
     "name": "stdout",
     "output_type": "stream",
     "text": [
      "{\n",
      "    \"rethink\": \"The approach correctly identifies the base rate, the surcharge conditions based on duration, and the need for conditional logic due to the symbolic duration. The is_overnight_parking parameter is set to false, so no adjustment for free overnight parking is needed. The expression tree will accurately represent the calculation logic for any given parking duration.\"\n",
      "}\n"
     ]
    }
   ],
   "source": [
    "print(json.dumps(json.loads(result[0][\"thought4\"]), indent=4))"
   ]
  },
  {
   "cell_type": "code",
   "execution_count": 75,
   "id": "5c637787-89d3-4f87-bb7c-bb70ac809bb8",
   "metadata": {},
   "outputs": [
    {
     "name": "stdout",
     "output_type": "stream",
     "text": [
      "{\n",
      "    \"type\": \"BINARY_OPERATION\",\n",
      "    \"operator\": \"ADD\",\n",
      "    \"left\": {\n",
      "        \"type\": \"CONDITIONAL\",\n",
      "        \"condition\": {\n",
      "            \"type\": \"COMPARISON\",\n",
      "            \"operator\": \"LESS_THAN\",\n",
      "            \"left\": {\n",
      "                \"type\": \"VARIABLE\",\n",
      "                \"name\": \"parking_duration_hours\",\n",
      "                \"description\": \"Total duration of parking in hours. Surcharges apply at 48 and 72 hours.\",\n",
      "                \"unit\": \"HOURS\"\n",
      "            },\n",
      "            \"right\": {\n",
      "                \"type\": \"VALUE\",\n",
      "                \"value\": 48,\n",
      "                \"description\": \"Threshold for 48-hour surcharge.\",\n",
      "                \"unit\": \"HOURS\"\n",
      "            }\n",
      "        },\n",
      "        \"if_true\": {\n",
      "            \"type\": \"BINARY_OPERATION\",\n",
      "            \"operator\": \"MULTIPLY\",\n",
      "            \"left\": {\n",
      "                \"type\": \"VALUE\",\n",
      "                \"value\": 32.9,\n",
      "                \"description\": \"Standard charge per aircraft/stand type for Narrow Satellite at East Aerodrome Parking (EAP).\",\n",
      "                \"unit\": \"EUROS\"\n",
      "            },\n",
      "            \"right\": {\n",
      "                \"type\": \"BINARY_OPERATION\",\n",
      "                \"operator\": \"DIVIDE\",\n",
      "                \"left\": {\n",
      "                    \"type\": \"VARIABLE\",\n",
      "                    \"name\": \"parking_duration_hours\",\n",
      "                    \"description\": \"Total duration of parking in hours. Surcharges apply at 48 and 72 hours.\",\n",
      "                    \"unit\": \"HOURS\"\n",
      "                },\n",
      "                \"right\": {\n",
      "                    \"type\": \"VALUE\",\n",
      "                    \"value\": 0.25,\n",
      "                    \"description\": \"Conversion factor from hours to 15-minute intervals (1 hour = 4 intervals).\",\n",
      "                    \"unit\": \"HOURS\"\n",
      "                }\n",
      "            }\n",
      "        },\n",
      "        \"if_false\": {\n",
      "            \"type\": \"CONDITIONAL\",\n",
      "            \"condition\": {\n",
      "                \"type\": \"COMPARISON\",\n",
      "                \"operator\": \"LESS_THAN\",\n",
      "                \"left\": {\n",
      "                    \"type\": \"VARIABLE\",\n",
      "                    \"name\": \"parking_duration_hours\",\n",
      "                    \"description\": \"Total duration of parking in hours. Surcharges apply at 48 and 72 hours.\",\n",
      "                    \"unit\": \"HOURS\"\n",
      "                },\n",
      "                \"right\": {\n",
      "                    \"type\": \"VALUE\",\n",
      "                    \"value\": 72,\n",
      "                    \"description\": \"Threshold for 72-hour surcharge.\",\n",
      "                    \"unit\": \"HOURS\"\n",
      "                }\n",
      "            },\n",
      "            \"if_true\": {\n",
      "                \"type\": \"BINARY_OPERATION\",\n",
      "                \"operator\": \"MULTIPLY\",\n",
      "                \"left\": {\n",
      "                    \"type\": \"BINARY_OPERATION\",\n",
      "                    \"operator\": \"MULTIPLY\",\n",
      "                    \"left\": {\n",
      "                        \"type\": \"VALUE\",\n",
      "                        \"value\": 32.9,\n",
      "                        \"description\": \"Standard charge per aircraft/stand type for Narrow Satellite at East Aerodrome Parking (EAP).\",\n",
      "                        \"unit\": \"EUROS\"\n",
      "                    },\n",
      "                    \"right\": {\n",
      "                        \"type\": \"VALUE\",\n",
      "                        \"value\": 2,\n",
      "                        \"description\": \"Surcharge multiplier for 48-72 hour period (100% surcharge).\",\n",
      "                        \"unit\": \"UNITLESS\"\n",
      "                    }\n",
      "                },\n",
      "                \"right\": {\n",
      "                    \"type\": \"BINARY_OPERATION\",\n",
      "                    \"operator\": \"DIVIDE\",\n",
      "                    \"left\": {\n",
      "                        \"type\": \"VARIABLE\",\n",
      "                        \"name\": \"parking_duration_hours\",\n",
      "                        \"description\": \"Total duration of parking in hours. Surcharges apply at 48 and 72 hours.\",\n",
      "                        \"unit\": \"HOURS\"\n",
      "                    },\n",
      "                    \"right\": {\n",
      "                        \"type\": \"VALUE\",\n",
      "                        \"value\": 0.25,\n",
      "                        \"description\": \"Conversion factor from hours to 15-minute intervals (1 hour = 4 intervals).\",\n",
      "                        \"unit\": \"HOURS\"\n",
      "                    }\n",
      "                }\n",
      "            },\n",
      "            \"if_false\": {\n",
      "                \"type\": \"BINARY_OPERATION\",\n",
      "                \"operator\": \"MULTIPLY\",\n",
      "                \"left\": {\n",
      "                    \"type\": \"BINARY_OPERATION\",\n",
      "                    \"operator\": \"MULTIPLY\",\n",
      "                    \"left\": {\n",
      "                        \"type\": \"VALUE\",\n",
      "                        \"value\": 32.9,\n",
      "                        \"description\": \"Standard charge per aircraft/stand type for Narrow Satellite at East Aerodrome Parking (EAP).\",\n",
      "                        \"unit\": \"EUROS\"\n",
      "                    },\n",
      "                    \"right\": {\n",
      "                        \"type\": \"VALUE\",\n",
      "                        \"value\": 3,\n",
      "                        \"description\": \"Surcharge multiplier for 72+ hour period (200% surcharge).\",\n",
      "                        \"unit\": \"UNITLESS\"\n",
      "                    }\n",
      "                },\n",
      "                \"right\": {\n",
      "                    \"type\": \"BINARY_OPERATION\",\n",
      "                    \"operator\": \"DIVIDE\",\n",
      "                    \"left\": {\n",
      "                        \"type\": \"VARIABLE\",\n",
      "                        \"name\": \"parking_duration_hours\",\n",
      "                        \"description\": \"Total duration of parking in hours. Surcharges apply at 48 and 72 hours.\",\n",
      "                        \"unit\": \"HOURS\"\n",
      "                    },\n",
      "                    \"right\": {\n",
      "                        \"type\": \"VALUE\",\n",
      "                        \"value\": 0.25,\n",
      "                        \"description\": \"Conversion factor from hours to 15-minute intervals (1 hour = 4 intervals).\",\n",
      "                        \"unit\": \"HOURS\"\n",
      "                    }\n",
      "                }\n",
      "            }\n",
      "        }\n",
      "    },\n",
      "    \"right\": {\n",
      "        \"type\": \"VALUE\",\n",
      "        \"value\": 0,\n",
      "        \"description\": \"No additional charges for overnight parking (is_overnight_parking = false).\",\n",
      "        \"unit\": \"EUROS\"\n",
      "    }\n",
      "}\n"
     ]
    }
   ],
   "source": [
    "print(json.dumps(json.loads(result[0][\"result_graph\"]), indent=4))"
   ]
  },
  {
   "cell_type": "code",
   "execution_count": 76,
   "id": "34cbd0e8-a7e2-413c-ac7f-95997f8657e6",
   "metadata": {},
   "outputs": [
    {
     "data": {
      "text/plain": [
       "352.01867974799825"
      ]
     },
     "execution_count": 76,
     "metadata": {},
     "output_type": "execute_result"
    }
   ],
   "source": [
    "result[1]"
   ]
  },
  {
   "cell_type": "code",
   "execution_count": 79,
   "id": "8432868a-02e6-4fba-9221-4e8338791617",
   "metadata": {},
   "outputs": [
    {
     "name": "stdout",
     "output_type": "stream",
     "text": [
      "Sympy Expression: Piecewise((32.9*(parking_duration_hours/0.25), parking_duration_hours < 48), (Piecewise(((32.9*2)*(parking_duration_hours/0.25), parking_duration_hours < 72), ((32.9*3)*(parking_duration_hours/0.25), True)), True)) + 0\n"
     ]
    }
   ],
   "source": [
    "\n",
    "\n",
    "\n",
    "# Print the resulting expression\n",
    "loaded_json = json.loads(result[0]['result_graph'])\n",
    "symbolic_expr = compose_expression(loaded_json)\n",
    "print(f\"Sympy Expression: {symbolic_expr}\")"
   ]
  },
  {
   "cell_type": "code",
   "execution_count": null,
   "id": "20224065-5ef2-4083-b4d7-317531c27cf5",
   "metadata": {},
   "outputs": [],
   "source": []
  }
 ],
 "metadata": {
  "kernelspec": {
   "display_name": "Python 3 (ipykernel)",
   "language": "python",
   "name": "python3"
  },
  "language_info": {
   "codemirror_mode": {
    "name": "ipython",
    "version": 3
   },
   "file_extension": ".py",
   "mimetype": "text/x-python",
   "name": "python",
   "nbconvert_exporter": "python",
   "pygments_lexer": "ipython3",
   "version": "3.11.5"
  }
 },
 "nbformat": 4,
 "nbformat_minor": 5
}
