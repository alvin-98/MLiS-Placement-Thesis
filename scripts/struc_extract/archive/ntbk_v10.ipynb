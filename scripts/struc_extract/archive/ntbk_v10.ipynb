{
 "cells": [
  {
   "cell_type": "code",
   "execution_count": 16,
   "id": "8e958171-f099-4301-9fa7-c6c012cad4f1",
   "metadata": {},
   "outputs": [],
   "source": [
    "import torch\n",
    "torch.cuda.empty_cache()\n",
    "\n",
    "import time\n",
    "import json\n",
    "from transformers import AutoTokenizer, AutoModelForCausalLM\n",
    "from pydantic import BaseModel, Field, RootModel\n",
    "from typing import Optional, Union, Literal, ForwardRef, List, Any\n",
    "from enum import Enum\n",
    "from guidance import models, system, user, assistant, json as gen_json, gen\n",
    "import torch, outlines\n",
    "from transformers import AutoModelForCausalLM, AutoTokenizer\n",
    "import json\n",
    "import torch\n",
    "from transformers import AutoTokenizer, AutoModelForCausalLM\n",
    "from pydantic import BaseModel, Field, RootModel\n",
    "from typing import Optional, Union\n",
    "from enum import Enum\n",
    "from guidance import models, system, user, assistant, json as gen_json\n",
    "import guidance\n",
    "from utils import timing_decorator"
   ]
  },
  {
   "cell_type": "code",
   "execution_count": 17,
   "id": "61020788-eeea-4d08-8416-f3658f754d54",
   "metadata": {},
   "outputs": [],
   "source": [
    "\n",
    "with open(\"../output/2025-airport-charges-terms-and-conditions/tinychargesmarkdown.md\", \"r\") as f:\n",
    "    markdown_content = f.read()\n"
   ]
  },
  {
   "cell_type": "code",
   "execution_count": 18,
   "id": "18612e87-e1a8-4861-9ad4-3b38207554ba",
   "metadata": {},
   "outputs": [
    {
     "data": {
      "application/vnd.jupyter.widget-view+json": {
       "model_id": "a8f40e0cc97546e39b7bd2d507ec197d",
       "version_major": 2,
       "version_minor": 0
      },
      "text/plain": [
       "Loading checkpoint shards:   0%|          | 0/16 [00:00<?, ?it/s]"
      ]
     },
     "metadata": {},
     "output_type": "display_data"
    }
   ],
   "source": [
    "\n",
    "MODEL_ID = \"Qwen/Qwen3-30B-A3B\"\n",
    "\n",
    "hf_model = AutoModelForCausalLM.from_pretrained(\n",
    "    MODEL_ID,\n",
    "    device_map=\"auto\",               \n",
    "    low_cpu_mem_usage=True,          \n",
    ")\n",
    "\n",
    "\n",
    "tok        = AutoTokenizer.from_pretrained(MODEL_ID)\n"
   ]
  },
  {
   "cell_type": "code",
   "execution_count": 4,
   "id": "0302e424-a63e-4fad-ad0e-799cc798c0f8",
   "metadata": {},
   "outputs": [
    {
     "name": "stderr",
     "output_type": "stream",
     "text": [
      "gpustat is not installed, run `pip install gpustat` to collect GPU stats.\n"
     ]
    }
   ],
   "source": [
    "\n",
    "model = guidance.models.Transformers(hf_model, tok)"
   ]
  },
  {
   "cell_type": "code",
   "execution_count": 5,
   "id": "e1cc4350-69c3-4f66-ba4e-1403b77e1aa4",
   "metadata": {},
   "outputs": [],
   "source": [
    "from pydantic import BaseModel, Field\n",
    "from typing import List, Any\n",
    "\n",
    "class DomainVariable(BaseModel):\n",
    "    \"\"\"Defines a single variable the LLM can use in the computation graph.\"\"\"\n",
    "    name: str = Field(..., description=\"The unique identifier for the variable.\")\n",
    "    description: str = Field(..., description=\"A detailed explanation of what this variable represents.\")\n",
    "    # Optional: You could add type hints, units, etc. for more advanced validation\n",
    "    unit: Optional[str] = Field(..., description=\"The unit of the variable\")\n",
    "    data_type : type = Field(..., description=\"The data type of the variable\")\n"
   ]
  },
  {
   "cell_type": "code",
   "execution_count": 6,
   "id": "9bfd994f-7310-4b5b-8946-72c0204efd63",
   "metadata": {},
   "outputs": [],
   "source": [
    "ALL_VARIABLES = {\n",
    "    \n",
    "    'transfer_passenger_count': DomainVariable(name='transfer_passenger_count', description='Total number of transferring passengers.', unit=None, data_type=float),\n",
    "    'airline_scheduling_season': DomainVariable(name='airline_scheduling_season', description='Whether summer/winter airline scheduling season.', unit=None, data_type=float),\n",
    "    'takeoff_aircraft_mtow_tonnes': DomainVariable(name='takeoff_aircraft_mtow_tonnes', description='The Maximum Take-Off Weight in tonnes.', unit='tonne', data_type=float),\n",
    "    'landing_aircraft_mtow_tonnes': DomainVariable(name='landing_aircraft_mtow_tonnes', description='The Maximum Landing Weight in tonnes.', unit='tonne', data_type=float),\n",
    "    \n",
    "    'parking_duration_hours': DomainVariable(\n",
    "        name='parking_duration_hours',\n",
    "        description='Total duration of parking in hours. Surcharges apply at 48 and 72 hours.',\n",
    "        unit='hours',\n",
    "        data_type=float\n",
    "    ),\n",
    "    'aircraft_stand_type': DomainVariable(\n",
    "        name='aircraft_stand_type',\n",
    "        description='The type of aircraft stand used for parking. E.g., \"Wide Contact\", \"Narrow Remote\", \"LAP\", \"Long Term Remote\".',\n",
    "        unit=None,\n",
    "        data_type=str\n",
    "    ),\n",
    "    'parking_location': DomainVariable(\n",
    "        name='parking_location',\n",
    "        description='The location of the parking stand, either \"EAP\" (East Aerodrome Parking) or \"WAP\" (West Aerodrome Parking).',\n",
    "        unit=None,\n",
    "        data_type=str\n",
    "    ),\n",
    "    'is_overnight_parking': DomainVariable(\n",
    "        name='is_overnight_parking',\n",
    "        description='True if the parking occurs during the free overnight period (2300-0600hrs).',\n",
    "        unit=None,\n",
    "        data_type=bool\n",
    "    )\n",
    "}\n",
    "# 2. Map charge types to the variable names they are allowed to use\n",
    "CHARGE_CATEGORY_VARIABLES = {\n",
    "    # --- Existing Categories ---\n",
    "    \"transfer_passenger_charge\": [\n",
    "        'transfer_passenger_count', \n",
    "        'airline_scheduling_season'\n",
    "    ],\n",
    "    \"runway_landing_charge\": [\n",
    "        'landing_aircraft_mtow_tonnes', \n",
    "        'airline_scheduling_season'\n",
    "    ],\n",
    "    \"runway_takeoff_charge\": [\n",
    "        'takeoff_aircraft_mtow_tonnes', \n",
    "        'airline_scheduling_season'\n",
    "    ],\n",
    "\n",
    "    # --- New Categories for Parking Charges ---\n",
    "    \"east_aerodrome_parking_charge\": [\n",
    "        'parking_duration_hours',\n",
    "        'aircraft_stand_type',\n",
    "        'is_overnight_parking'\n",
    "        # 'parking_location' is implicitly 'EAP' for this category\n",
    "    ],\n",
    "    \"west_aerodrome_parking_charge\": [\n",
    "        'parking_duration_hours',\n",
    "        'aircraft_stand_type',\n",
    "        'is_overnight_parking'\n",
    "        # 'parking_location' is implicitly 'WAP' for this category\n",
    "    ]\n",
    "}\n",
    "\n"
   ]
  },
  {
   "cell_type": "code",
   "execution_count": 7,
   "id": "7bb3f643-b891-4d32-a5ab-b143bd224d54",
   "metadata": {},
   "outputs": [
    {
     "name": "stdout",
     "output_type": "stream",
     "text": [
      "transfer_passenger_count\n"
     ]
    }
   ],
   "source": [
    "def create_dynamic_variable_enum(charge_category: str) -> type(Enum):\n",
    "    \"\"\"\n",
    "    Creates a new Enum class containing only the variables relevant\n",
    "    to the specified charge category.\n",
    "    \"\"\"\n",
    "    variable_names = CHARGE_CATEGORY_VARIABLES.get(charge_category)\n",
    "    if not variable_names:\n",
    "        raise ValueError(f\"Unknown charge category: {charge_category}\")\n",
    "    \n",
    "    # The dictionary for the Enum must have {MEMBER_NAME: value}\n",
    "    # We'll use uppercase for the member name for convention.\n",
    "    enum_dict = {name.upper(): name for name in variable_names}\n",
    "    \n",
    "    # Create the Enum class dynamically\n",
    "    return Enum(\"Var\", enum_dict)\n",
    "\n",
    "Var = create_dynamic_variable_enum(\"transfer_passenger_charge\")\n",
    "print(Var.TRANSFER_PASSENGER_COUNT.value)"
   ]
  },
  {
   "cell_type": "code",
   "execution_count": 8,
   "id": "a76f7bde-494c-4106-bb5b-3bb5518e7cbf",
   "metadata": {},
   "outputs": [
    {
     "data": {
      "text/plain": [
       "['transfer_passenger_count', 'airline_scheduling_season']"
      ]
     },
     "execution_count": 8,
     "metadata": {},
     "output_type": "execute_result"
    }
   ],
   "source": [
    "allowed_variables = [el.value for el in list(Var)]\n",
    "allowed_variables"
   ]
  },
  {
   "cell_type": "code",
   "execution_count": 9,
   "id": "e377eb17-3b9e-4dd9-a99f-361990a05925",
   "metadata": {},
   "outputs": [],
   "source": [
    "from pydantic import BaseModel, Field, RootModel\n",
    "from typing import Union, Literal\n",
    "from enum import Enum\n",
    "\n",
    "# Separate enums for clarity and type safety\n",
    "class MathOperator(str, Enum):\n",
    "    ADD = \"ADD\"\n",
    "    MULTIPLY = \"MULTIPLY\"\n",
    "    DIVIDE = \"DIVIDE\"\n",
    "\n",
    "class Comparator(str, Enum):\n",
    "    GREATER_THAN = \"GREATER_THAN\"\n",
    "    LESS_THAN = \"LESS_THAN\"\n",
    "    EQUAL_TO = \"EQUAL_TO\"\n",
    "\n",
    "class Units(str, Enum):\n",
    "    HOURS = \"HOURS\"\n",
    "    MINUTES = \"MINUTES\"\n",
    "    EUROS = \"EUROS\"\n",
    "    PERCENT = \"PERCENT\"\n",
    "    UNITLESS = \"UNITLESS\"\n",
    "    \n",
    "# --- Node Definitions ---\n",
    "\n",
    "class ValueNode(BaseModel):\n",
    "    type: Literal[\"VALUE\"] = \"VALUE\"\n",
    "    value: float\n",
    "    description: str\n",
    "    unit: Units\n",
    "\n",
    "class VariableNode(BaseModel):\n",
    "    type: Literal[\"VARIABLE\"] = \"VARIABLE\"\n",
    "    name: str \n",
    "    description: str\n",
    "    unit: Units\n",
    "\n",
    "class BinaryOpNode(BaseModel):\n",
    "    \"\"\"Node for mathematical operations that produce a number.\"\"\"\n",
    "    type: Literal[\"BINARY_OPERATION\"] = \"BINARY_OPERATION\"\n",
    "    operator: MathOperator\n",
    "    left: 'AnyNode'\n",
    "    right: 'AnyNode'\n",
    "\n",
    "class ComparisonNode(BaseModel):\n",
    "    \"\"\"Node for comparison operations that produce a boolean.\"\"\"\n",
    "    type: Literal[\"COMPARISON\"] = \"COMPARISON\"\n",
    "    operator: Comparator\n",
    "    left: 'AnyNode'\n",
    "    right: 'AnyNode'\n",
    "\n",
    "class ConditionalNode(BaseModel):\n",
    "    \"\"\"Node for if-then-else logic.\"\"\"\n",
    "    type: Literal[\"CONDITIONAL\"] = \"CONDITIONAL\"\n",
    "    condition: ComparisonNode # Condition must be a comparison\n",
    "    if_true: 'AnyNode'\n",
    "    if_false: 'AnyNode'\n",
    "\n",
    "# --- Recursive Setup ---\n",
    "\n",
    "AnyNode = Union[\n",
    "    ValueNode, \n",
    "    VariableNode, \n",
    "    BinaryOpNode, \n",
    "    ConditionalNode\n",
    "]\n",
    "\n",
    "# Use model_rebuild() to safely resolve all forward references\n",
    "BinaryOpNode.model_rebuild()\n",
    "ConditionalNode.model_rebuild()\n",
    "ComparisonNode.model_rebuild()\n",
    "\n",
    "class Node(RootModel):\n",
    "    root: BinaryOpNode"
   ]
  },
  {
   "cell_type": "code",
   "execution_count": 10,
   "id": "e33228fd-369c-4df3-9122-6c93d57d7053",
   "metadata": {},
   "outputs": [],
   "source": [
    "from pydantic import BaseModel, Field, field_validator\n",
    "from typing import List, Dict, Any, Optional\n",
    "from enum import Enum\n",
    "\n",
    "\n",
    "class ParameterStatus(str, Enum):\n",
    "    \"\"\"An enumeration for clear, explicit parameter statuses.\"\"\"\n",
    "    KNOWN = \"KNOWN\"\n",
    "    SYMBOLIC = \"SYMBOLIC\"\n",
    "\n",
    "class ParameterDetail(BaseModel):\n",
    "    \"\"\"A structured model to describe each parameter identified from the query.\"\"\"\n",
    "    name: str = Field(..., description=\"The name of the parameter.\")\n",
    "    status: ParameterStatus = Field(..., description=\"Whether the parameter's value is known from the query or is a symbolic variable.\")\n",
    "    value: Optional[Any] = Field(None, description=\"The actual value of the parameter, if its status is 'KNOWN'. Must be null if status is 'SYMBOLIC'.\")\n",
    "\n",
    "\n",
    "class ReasoningSchemaStep1(BaseModel):\n",
    "    query_parameters: List[ParameterDetail] = Field(\n",
    "        ...,\n",
    "        description=\"A structured list of all parameters identified from the query and their status.\"\n",
    "    )\n",
    "class ReasoningSchemaStep2(BaseModel):\n",
    "    \"\"\"\n",
    "    A simplified schema for Step 2 that captures all constants and rules as a simple list of descriptive strings.\n",
    "    \"\"\"\n",
    "    identified_constants_and_rules: List[str] = Field(\n",
    "        ...,\n",
    "        description=\"A comprehensive list of all facts, constants, and conditional rules extracted from the document that are necessary for the final calculation. Each string in the list should be a self-contained, clear statement. For example: 'The rate for a Narrow Satellite stand is €32.90 per 15 minutes' or 'A 100% surcharge is applied if parking duration is between 48 and 72 hours'.\"\n",
    "    )\n",
    "class ReasoningSchemaStep3(BaseModel):\n",
    "    synthesis_plan: str = Field(\n",
    "        ...,\n",
    "        description=\"A concise, step-by-step plan describing how the variables and constants are combined into the final computation graph.\"\n",
    "    )\n",
    "class ReasoningSchemaStep4(BaseModel):\n",
    "    rethink: str = Field(\n",
    "        ...,\n",
    "        description=\"Final check to ensure the plan correctly uses variables and constants and handles all logic from the document.\"\n",
    "    )\n"
   ]
  },
  {
   "cell_type": "code",
   "execution_count": 11,
   "id": "4f9e75d4-47b6-41b3-820f-2b3dbcb825c8",
   "metadata": {},
   "outputs": [],
   "source": [
    "@guidance\n",
    "def create_graph_with_cot(llm, allowed_variables_prompt, document, query, output_schema):\n",
    "    \n",
    "    with system():\n",
    "        llm += f\"\"\"You are an expert system that converts textual calculation rules into structured JSON expression trees.\n",
    "        You MUST think step-by-step and reason before generating the final JSON.\n",
    "        \n",
    "        **Reasoning Guidelines:**\n",
    "        1.  **Analyze Query Parameters:** Identify all relevant parameters from the user's query. For each parameter, create a structured object specifying its 'name', its 'status' ('KNOWN' if the value is given, or 'SYMBOLIC' if it's a variable), and its 'value' (or null if symbolic). For example: `[ {{\"name\": \"aircraft_stand_type\", \"status\": \"KNOWN\", \"value\": \"Wide Remote\"}}, {{\"name\": \"parking_duration_hours\", \"status\": \"SYMBOLIC\", \"value\": null}} ]`\n",
    "        **Allowed Variables for this Task:**\n",
    "        ---\n",
    "        {allowed_variables_prompt}\n",
    "        ---\n",
    "        2. **Identify All Relevant Information**: Review the document and extract every fact, constant, and conditional rule needed for the calculation. Each piece of information should be written as a clear, self-contained sentence and collected into a list of strings.\n",
    "        3.  **Synthesize Plan:** Briefly describe how you will combine these pieces into a final expression tree.\n",
    "        4. **Rethink and Finalize Approach**: Before processing with generation, rethink your progress so far and make adjustments if necessary, then finalize and proceed to generate the expression tree.\n",
    "\n",
    "        **Crucial Rule 1:** If a parameter from the 'Allowed Variables' list is given a specific value in the query, you MUST treat it as a fixed value to find constants. You MUST NOT include it as a `VARIABLE` node in the final JSON.\n",
    "        **Crucial Rule 2**: If a calculation path or value depends on the value of a symbolic variable, you MUST capture the rules for all possible values and represent this logic using CONDITIONAL nodes in the final expression tree. You MUST NOT assume a default value for the variable to simplify the logic.\n",
    "        \n",
    "        After writing your reasoning, you WILL generate the JSON object.\n",
    "\n",
    "\n",
    "        \"\"\"\n",
    "\n",
    "    with user():\n",
    "        llm += f\"\"\"\n",
    "        **Document:**\n",
    "        ---\n",
    "        {document}\n",
    "        ---\n",
    "\n",
    "        **Query:**\n",
    "        \n",
    "        Based on the document, construct the computation graph for the following request:\n",
    "        \n",
    "        \"{query}\"\n",
    "        \n",
    "        \"\"\"\n",
    "\n",
    "    with assistant():\n",
    "        llm += \"I will now follow the reasoning guidelines step-by-step before generating the final JSON.\\n\"\n",
    "        llm += \"Step1. Analyze Query Parameters:\\n\"\n",
    "        llm += gen_json(\n",
    "            name=\"thought1\", \n",
    "            schema=ReasoningSchemaStep1, \n",
    "            max_tokens=600)\n",
    "\n",
    "        llm += \"Step2. Identify All Relevant Information:\\n\"\n",
    "        llm += gen_json(\n",
    "            name=\"thought2\", \n",
    "            schema=ReasoningSchemaStep2, \n",
    "            max_tokens=600)\n",
    "\n",
    "        llm += \"Step3. Synthesize Plan:\\n\"\n",
    "        llm += gen_json(\n",
    "            name=\"thought3\", \n",
    "            schema=ReasoningSchemaStep3, \n",
    "            max_tokens=600)\n",
    "\n",
    "        llm += \"Step4. Rethink and Finalize Approach:\\n\"\n",
    "        llm += gen_json(\n",
    "            name=\"thought4\", \n",
    "            schema=ReasoningSchemaStep4, \n",
    "            max_tokens=600)\n",
    "\n",
    "        # After thinking, it generates the JSON.\n",
    "        llm += \"\\n\\nFinal JSON object:\\n\"\n",
    "        llm += gen_json(\n",
    "            name=\"result_graph\", \n",
    "            schema=output_schema,\n",
    "            max_tokens=2000 \n",
    "        )\n",
    "        \n",
    "    return llm"
   ]
  },
  {
   "cell_type": "code",
   "execution_count": 12,
   "id": "4d910e07-d59b-480d-b317-440939d7566d",
   "metadata": {},
   "outputs": [],
   "source": [
    "\n",
    "class ComputationGraphBuilder:\n",
    "    \"\"\"\n",
    "    Orchestrates the creation of a computation graph by preparing dynamic\n",
    "    constraints and prompting the LLM.\n",
    "    \"\"\"\n",
    "    \n",
    "    def __init__(self, model):\n",
    "        \"\"\"\n",
    "        Initializes the builder with a guidance model.\n",
    "        \"\"\"\n",
    "        self.model = model\n",
    "        # Set the default LLM for all guidance programs\n",
    "        # guidance.llm = self.model\n",
    "    @timing_decorator\n",
    "    def build(self, document_content: str, query: str, charge_category: str) -> dict:\n",
    "        \"\"\"\n",
    "        Generates a computation graph for a given query and document.\n",
    "\n",
    "        Args:\n",
    "            document_content: The text containing the rules.\n",
    "            query: A natural language question about what to calculate.\n",
    "            charge_category: The specific charge context used to filter variables.\n",
    "\n",
    "        Returns:\n",
    "            A dictionary representing the computation graph or an error.\n",
    "        \"\"\"\n",
    "        print(f\"--- Building graph for charge category: '{charge_category}' ---\")\n",
    "        \n",
    "        # 1. Dynamically create the filtered Enum for this specific task\n",
    "        try:\n",
    "            Var = create_dynamic_variable_enum(charge_category)\n",
    "        except ValueError as e:\n",
    "            print(f\"Error: {e}\")\n",
    "            return {\"error\": str(e)}\n",
    "\n",
    "        # 3. Create a formatted prompt string of allowed variables for the LLM\n",
    "        allowed_variables = [el.value for el in list(Var)]\n",
    "        allowed_variables_prompt = \"\\n\".join(\n",
    "            [f\"- **{v.name}**: {v.description}\" for name, v in ALL_VARIABLES.items() if name in allowed_variables]\n",
    "        )\n",
    "\n",
    "        try:\n",
    "            # 4. Execute the guidance program with all dynamic components\n",
    "            result_lm = self.model + create_graph_with_cot(\n",
    "                allowed_variables_prompt=allowed_variables_prompt,\n",
    "                document=document_content,\n",
    "                query=query,\n",
    "                output_schema=Node\n",
    "            )\n",
    "            \n",
    "            \n",
    "            # print(\"\\nSuccessfully generated graph:\")\n",
    "            # # Use model_dump_json for Pydantic v2\n",
    "            # print(pydantic_graph.model_dump_json(indent=2)) \n",
    "            return result_lm\n",
    "            \n",
    "        except Exception as e:\n",
    "            print(f\"\\nAn error occurred while building the graph for '{query}': {e}\")\n",
    "            return {\"error\": str(e)}"
   ]
  },
  {
   "cell_type": "code",
   "execution_count": 13,
   "id": "e0c2b98c-68d6-41f5-a262-3e0d42d7d11c",
   "metadata": {},
   "outputs": [],
   "source": [
    "import sympy\n",
    "from sympy import Symbol, Piecewise, sympify, Add, Mul, Pow\n",
    "\n",
    "def compose_expression(node: dict):\n",
    "    \"\"\"\n",
    "    Recursively parses a JSON graph into a SymPy expression,\n",
    "    preventing automatic simplification.\n",
    "\n",
    "    Args:\n",
    "        node: A dictionary representing a node in the computation graph.\n",
    "\n",
    "    Returns:\n",
    "        A non-evaluated sympy expression representing the computation.\n",
    "    \"\"\"\n",
    "\n",
    "    node_type = node.get('type')\n",
    "\n",
    "    if node_type == \"VALUE\":\n",
    "        return sympify(node['value'])\n",
    "\n",
    "    elif node_type == \"VARIABLE\":\n",
    "        return Symbol(node['name'])\n",
    "\n",
    "    elif node_type == \"BINARY_OPERATION\":\n",
    "        left = compose_expression(node['left'])\n",
    "        right = compose_expression(node['right'])\n",
    "        operator = node['operator']\n",
    "        \n",
    "        # Use class constructors with evaluate=False to prevent simplification\n",
    "        if operator == \"ADD\":\n",
    "            return Add(left, right, evaluate=False)\n",
    "        elif operator == \"MULTIPLY\":\n",
    "            return Mul(left, right, evaluate=False)\n",
    "        elif operator == \"DIVIDE\":\n",
    "            # Division (a/b) is represented as a * (b**-1)\n",
    "            power = Pow(right, -1, evaluate=False)\n",
    "            return Mul(left, power, evaluate=False)\n",
    "        else:\n",
    "            raise ValueError(f\"Unsupported binary operator: {operator}\")\n",
    "\n",
    "    elif node_type == \"COMPARISON\":\n",
    "        left = compose_expression(node['left'])\n",
    "        right = compose_expression(node['right'])\n",
    "        operator = node['operator']\n",
    "\n",
    "        if operator == \"GREATER_THAN\":\n",
    "            return left > right\n",
    "        if operator == \"LESS_THAN\":\n",
    "            return left < right\n",
    "        else:\n",
    "            raise ValueError(f\"Unsupported comparison operator: {operator}\")\n",
    "\n",
    "    elif node_type == \"CONDITIONAL\":\n",
    "        condition = compose_expression(node['condition'])\n",
    "        if_true_expr = compose_expression(node['if_true'])\n",
    "        if_false_expr = compose_expression(node['if_false'])\n",
    "        \n",
    "        return Piecewise((if_true_expr, condition), (if_false_expr, True))\n",
    "\n",
    "    else:\n",
    "        raise ValueError(f\"Unknown node type: {node_type}\")"
   ]
  },
  {
   "cell_type": "code",
   "execution_count": 14,
   "id": "c32f9032-14c4-4108-8c7e-89cd4a826589",
   "metadata": {},
   "outputs": [],
   "source": [
    "import json\n",
    "import traceback\n",
    "\n",
    "\n",
    "def create_computation_graph(model, query, charge_category):\n",
    "    graph_builder = ComputationGraphBuilder(model=model)\n",
    "\n",
    "    start_time = time.perf_counter()\n",
    "    llm_structured_response = graph_builder.build(\n",
    "        document_content=markdown_content,\n",
    "        query=query,\n",
    "        charge_category=charge_category\n",
    "    )\n",
    "    end_time = time.perf_counter()\n",
    "    build_time = end_time - start_time\n",
    "\n",
    "    return llm_structured_response, build_time\n",
    "    "
   ]
  },
  {
   "cell_type": "code",
   "execution_count": 46,
   "id": "728fccaf-9a82-4e40-866a-4b7a7c8c2f2b",
   "metadata": {},
   "outputs": [
    {
     "name": "stdout",
     "output_type": "stream",
     "text": [
      "The parking cost for 60 hours is: 900 EUR\n"
     ]
    }
   ],
   "source": [
    "# from sympy import Symbol\n",
    "\n",
    "# # Define the symbol that you want to replace\n",
    "# variable_to_replace = Symbol('parking_duration_hours')\n",
    "\n",
    "# # Define the value you want to substitute\n",
    "# value_to_substitute = 60\n",
    "\n",
    "# final_charge_cost = symbolic_expr.subs(variable_to_replace, value_to_substitute)\n",
    "# print(f\"The parking cost for {value_to_substitute} hours is: {final_charge_cost} EUR\") "
   ]
  },
  {
   "cell_type": "code",
   "execution_count": 70,
   "id": "cddd29e5-1a7c-4e1a-b9c6-7657589ca788",
   "metadata": {},
   "outputs": [
    {
     "name": "stdout",
     "output_type": "stream",
     "text": [
      "--- Building graph for charge category: 'east_aerodrome_parking_charge' ---\n"
     ]
    },
    {
     "data": {
      "application/vnd.jupyter.widget-view+json": {
       "model_id": "2e99fb9881cf4aba90d9ffa2f5e623c2",
       "version_major": 2,
       "version_minor": 0
      },
      "text/plain": [
       "StitchWidget(initial_height='auto', initial_width='100%', srcdoc='<!doctype html>\\n<html lang=\"en\">\\n<head>\\n …"
      ]
     },
     "metadata": {},
     "output_type": "display_data"
    }
   ],
   "source": [
    "query = \"Calculate the total parking charge for a Narrow Satellite stand type at East Aerodrome Parking with no overnight parking. The parking duration is a variable with unit hours.\"\n",
    "charge_category = \"east_aerodrome_parking_charge\"\n",
    "\n",
    "result = create_computation_graph(model, query, charge_category)\n"
   ]
  },
  {
   "cell_type": "code",
   "execution_count": 71,
   "id": "cb364002-343c-4b2e-bd7a-d72c8dded581",
   "metadata": {},
   "outputs": [
    {
     "name": "stdout",
     "output_type": "stream",
     "text": [
      "{\n",
      "    \"query_parameters\": [\n",
      "        {\n",
      "            \"name\": \"aircraft_stand_type\",\n",
      "            \"status\": \"KNOWN\",\n",
      "            \"value\": \"Narrow Satellite\"\n",
      "        },\n",
      "        {\n",
      "            \"name\": \"parking_duration_hours\",\n",
      "            \"status\": \"SYMBOLIC\",\n",
      "            \"value\": null\n",
      "        },\n",
      "        {\n",
      "            \"name\": \"is_overnight_parking\",\n",
      "            \"status\": \"KNOWN\",\n",
      "            \"value\": false\n",
      "        }\n",
      "    ]\n",
      "}\n"
     ]
    }
   ],
   "source": [
    "print(json.dumps(json.loads(result[0][\"thought1\"]), indent=4))"
   ]
  },
  {
   "cell_type": "code",
   "execution_count": 72,
   "id": "e40a706e-298d-4d40-8c68-cb0868be9f3b",
   "metadata": {},
   "outputs": [
    {
     "name": "stdout",
     "output_type": "stream",
     "text": [
      "{\n",
      "    \"identified_constants_and_rules\": [\n",
      "        \"The standard charge per aircraft/stand type for Narrow Satellite at East Aerodrome Parking (EAP) is \\u20ac32.90 per 15 minutes or part thereof.\",\n",
      "        \"Parking surcharges apply for extended periods at EAP: 48 hours up to 72 hours (including night-time) attract a surcharge of Standard rate +100%, and 72 hours and over (including night-time) attract a surcharge of Standard rate +200%.\",\n",
      "        \"Overnight parking from 2300-0600hrs is free of charge. The query specifies no overnight parking (is_overnight_parking = false).\",\n",
      "        \"The parking duration is a variable with unit hours, meaning the calculation must account for all possible values of parking_duration_hours.\"\n",
      "    ]\n",
      "}\n"
     ]
    }
   ],
   "source": [
    "print(json.dumps(json.loads(result[0][\"thought2\"]), indent=4))"
   ]
  },
  {
   "cell_type": "code",
   "execution_count": 73,
   "id": "7bffc2fe-eff2-4522-af61-6356c65ae686",
   "metadata": {},
   "outputs": [
    {
     "name": "stdout",
     "output_type": "stream",
     "text": [
      "{\n",
      "    \"synthesis_plan\": \"The total parking charge calculation for a Narrow Satellite stand at EAP involves: 1. Determining the base rate (\\u20ac32.90 per 15 minutes or part thereof). 2. Calculating the number of 15-minute intervals in the parking duration. 3. Applying surcharges based on the duration: - If parking_duration_hours < 48: no surcharge. - If 48 \\u2264 parking_duration_hours < 72: add 100% surcharge. - If parking_duration_hours \\u2265 72: add 200% surcharge. 4. Since the duration is symbolic, the expression tree must include conditional logic for all possible duration ranges.\"\n",
      "}\n"
     ]
    }
   ],
   "source": [
    "print(json.dumps(json.loads(result[0][\"thought3\"]), indent=4))"
   ]
  },
  {
   "cell_type": "code",
   "execution_count": 74,
   "id": "f5c7c4ea-3d33-472f-8c5f-07fd2796b368",
   "metadata": {},
   "outputs": [
    {
     "name": "stdout",
     "output_type": "stream",
     "text": [
      "{\n",
      "    \"rethink\": \"The approach correctly identifies the base rate, the surcharge conditions based on duration, and the need for conditional logic due to the symbolic duration. The is_overnight_parking parameter is set to false, so no adjustment for free overnight parking is needed. The expression tree will accurately represent the calculation logic for any given parking duration.\"\n",
      "}\n"
     ]
    }
   ],
   "source": [
    "print(json.dumps(json.loads(result[0][\"thought4\"]), indent=4))"
   ]
  },
  {
   "cell_type": "code",
   "execution_count": 75,
   "id": "5c637787-89d3-4f87-bb7c-bb70ac809bb8",
   "metadata": {},
   "outputs": [
    {
     "name": "stdout",
     "output_type": "stream",
     "text": [
      "{\n",
      "    \"type\": \"BINARY_OPERATION\",\n",
      "    \"operator\": \"ADD\",\n",
      "    \"left\": {\n",
      "        \"type\": \"CONDITIONAL\",\n",
      "        \"condition\": {\n",
      "            \"type\": \"COMPARISON\",\n",
      "            \"operator\": \"LESS_THAN\",\n",
      "            \"left\": {\n",
      "                \"type\": \"VARIABLE\",\n",
      "                \"name\": \"parking_duration_hours\",\n",
      "                \"description\": \"Total duration of parking in hours. Surcharges apply at 48 and 72 hours.\",\n",
      "                \"unit\": \"HOURS\"\n",
      "            },\n",
      "            \"right\": {\n",
      "                \"type\": \"VALUE\",\n",
      "                \"value\": 48,\n",
      "                \"description\": \"Threshold for 48-hour surcharge.\",\n",
      "                \"unit\": \"HOURS\"\n",
      "            }\n",
      "        },\n",
      "        \"if_true\": {\n",
      "            \"type\": \"BINARY_OPERATION\",\n",
      "            \"operator\": \"MULTIPLY\",\n",
      "            \"left\": {\n",
      "                \"type\": \"VALUE\",\n",
      "                \"value\": 32.9,\n",
      "                \"description\": \"Standard charge per aircraft/stand type for Narrow Satellite at East Aerodrome Parking (EAP).\",\n",
      "                \"unit\": \"EUROS\"\n",
      "            },\n",
      "            \"right\": {\n",
      "                \"type\": \"BINARY_OPERATION\",\n",
      "                \"operator\": \"DIVIDE\",\n",
      "                \"left\": {\n",
      "                    \"type\": \"VARIABLE\",\n",
      "                    \"name\": \"parking_duration_hours\",\n",
      "                    \"description\": \"Total duration of parking in hours. Surcharges apply at 48 and 72 hours.\",\n",
      "                    \"unit\": \"HOURS\"\n",
      "                },\n",
      "                \"right\": {\n",
      "                    \"type\": \"VALUE\",\n",
      "                    \"value\": 0.25,\n",
      "                    \"description\": \"Conversion factor from hours to 15-minute intervals (1 hour = 4 intervals).\",\n",
      "                    \"unit\": \"HOURS\"\n",
      "                }\n",
      "            }\n",
      "        },\n",
      "        \"if_false\": {\n",
      "            \"type\": \"CONDITIONAL\",\n",
      "            \"condition\": {\n",
      "                \"type\": \"COMPARISON\",\n",
      "                \"operator\": \"LESS_THAN\",\n",
      "                \"left\": {\n",
      "                    \"type\": \"VARIABLE\",\n",
      "                    \"name\": \"parking_duration_hours\",\n",
      "                    \"description\": \"Total duration of parking in hours. Surcharges apply at 48 and 72 hours.\",\n",
      "                    \"unit\": \"HOURS\"\n",
      "                },\n",
      "                \"right\": {\n",
      "                    \"type\": \"VALUE\",\n",
      "                    \"value\": 72,\n",
      "                    \"description\": \"Threshold for 72-hour surcharge.\",\n",
      "                    \"unit\": \"HOURS\"\n",
      "                }\n",
      "            },\n",
      "            \"if_true\": {\n",
      "                \"type\": \"BINARY_OPERATION\",\n",
      "                \"operator\": \"MULTIPLY\",\n",
      "                \"left\": {\n",
      "                    \"type\": \"BINARY_OPERATION\",\n",
      "                    \"operator\": \"MULTIPLY\",\n",
      "                    \"left\": {\n",
      "                        \"type\": \"VALUE\",\n",
      "                        \"value\": 32.9,\n",
      "                        \"description\": \"Standard charge per aircraft/stand type for Narrow Satellite at East Aerodrome Parking (EAP).\",\n",
      "                        \"unit\": \"EUROS\"\n",
      "                    },\n",
      "                    \"right\": {\n",
      "                        \"type\": \"VALUE\",\n",
      "                        \"value\": 2,\n",
      "                        \"description\": \"Surcharge multiplier for 48-72 hour period (100% surcharge).\",\n",
      "                        \"unit\": \"UNITLESS\"\n",
      "                    }\n",
      "                },\n",
      "                \"right\": {\n",
      "                    \"type\": \"BINARY_OPERATION\",\n",
      "                    \"operator\": \"DIVIDE\",\n",
      "                    \"left\": {\n",
      "                        \"type\": \"VARIABLE\",\n",
      "                        \"name\": \"parking_duration_hours\",\n",
      "                        \"description\": \"Total duration of parking in hours. Surcharges apply at 48 and 72 hours.\",\n",
      "                        \"unit\": \"HOURS\"\n",
      "                    },\n",
      "                    \"right\": {\n",
      "                        \"type\": \"VALUE\",\n",
      "                        \"value\": 0.25,\n",
      "                        \"description\": \"Conversion factor from hours to 15-minute intervals (1 hour = 4 intervals).\",\n",
      "                        \"unit\": \"HOURS\"\n",
      "                    }\n",
      "                }\n",
      "            },\n",
      "            \"if_false\": {\n",
      "                \"type\": \"BINARY_OPERATION\",\n",
      "                \"operator\": \"MULTIPLY\",\n",
      "                \"left\": {\n",
      "                    \"type\": \"BINARY_OPERATION\",\n",
      "                    \"operator\": \"MULTIPLY\",\n",
      "                    \"left\": {\n",
      "                        \"type\": \"VALUE\",\n",
      "                        \"value\": 32.9,\n",
      "                        \"description\": \"Standard charge per aircraft/stand type for Narrow Satellite at East Aerodrome Parking (EAP).\",\n",
      "                        \"unit\": \"EUROS\"\n",
      "                    },\n",
      "                    \"right\": {\n",
      "                        \"type\": \"VALUE\",\n",
      "                        \"value\": 3,\n",
      "                        \"description\": \"Surcharge multiplier for 72+ hour period (200% surcharge).\",\n",
      "                        \"unit\": \"UNITLESS\"\n",
      "                    }\n",
      "                },\n",
      "                \"right\": {\n",
      "                    \"type\": \"BINARY_OPERATION\",\n",
      "                    \"operator\": \"DIVIDE\",\n",
      "                    \"left\": {\n",
      "                        \"type\": \"VARIABLE\",\n",
      "                        \"name\": \"parking_duration_hours\",\n",
      "                        \"description\": \"Total duration of parking in hours. Surcharges apply at 48 and 72 hours.\",\n",
      "                        \"unit\": \"HOURS\"\n",
      "                    },\n",
      "                    \"right\": {\n",
      "                        \"type\": \"VALUE\",\n",
      "                        \"value\": 0.25,\n",
      "                        \"description\": \"Conversion factor from hours to 15-minute intervals (1 hour = 4 intervals).\",\n",
      "                        \"unit\": \"HOURS\"\n",
      "                    }\n",
      "                }\n",
      "            }\n",
      "        }\n",
      "    },\n",
      "    \"right\": {\n",
      "        \"type\": \"VALUE\",\n",
      "        \"value\": 0,\n",
      "        \"description\": \"No additional charges for overnight parking (is_overnight_parking = false).\",\n",
      "        \"unit\": \"EUROS\"\n",
      "    }\n",
      "}\n"
     ]
    }
   ],
   "source": [
    "print(json.dumps(json.loads(result[0][\"result_graph\"]), indent=4))"
   ]
  },
  {
   "cell_type": "code",
   "execution_count": 76,
   "id": "34cbd0e8-a7e2-413c-ac7f-95997f8657e6",
   "metadata": {},
   "outputs": [
    {
     "data": {
      "text/plain": [
       "352.01867974799825"
      ]
     },
     "execution_count": 76,
     "metadata": {},
     "output_type": "execute_result"
    }
   ],
   "source": [
    "result[1]"
   ]
  },
  {
   "cell_type": "code",
   "execution_count": 79,
   "id": "8432868a-02e6-4fba-9221-4e8338791617",
   "metadata": {},
   "outputs": [
    {
     "name": "stdout",
     "output_type": "stream",
     "text": [
      "Sympy Expression: Piecewise((32.9*(parking_duration_hours/0.25), parking_duration_hours < 48), (Piecewise(((32.9*2)*(parking_duration_hours/0.25), parking_duration_hours < 72), ((32.9*3)*(parking_duration_hours/0.25), True)), True)) + 0\n"
     ]
    }
   ],
   "source": [
    "\n",
    "\n",
    "\n",
    "# Print the resulting expression\n",
    "loaded_json = json.loads(result[0]['result_graph'])\n",
    "symbolic_expr = compose_expression(loaded_json)\n",
    "print(f\"Sympy Expression: {symbolic_expr}\")"
   ]
  },
  {
   "cell_type": "markdown",
   "id": "b2e28adb-5d76-4be1-b45f-4084aa537299",
   "metadata": {},
   "source": [
    "\n",
    "# Changes: \n",
    "- Tried on a new problem\n",
    "\n",
    "# Observations: \n",
    "- The reasoning traces are decent, except that I may need to add a ceil function to account for cases when one may need to round up.\n",
    "- The graph produced is not perfect. It makes a potential mistake in computing surcharge, however, at this point, it is not clear whether this is a mistake as the document is quite confusing by itself. It does not clarify whether the surcharge is applicable for Long Term Remote, and whether that is on a per day basis.\n",
    "- The left hand side branch does not use the variable parking hours to compute the surcharge even in cases where the hours are > 24. One potential reason for this could be that I mentioned there is no overnight parking, which may have led it to assume that the hours would be less than 24.\n",
    "- The overnight parking charges also have ambiguity in their application. It is not clear, whether one has to discount the free period from the computed total fees or whether the surcharges are still applicable during that period, or it could be that aircrafts which strictly use the airport services starting and ending strictly during this period are exempt from any fees? \n",
    "\n",
    "# Discussion:\n",
    "- More testing is required to understand where the model may be making mistakes.\n",
    "- Larger models may perform better, as we currently only use the humble 32B A3B parameter MoE model.\n",
    "\n",
    "# Next Steps:\n",
    "- Continue testing"
   ]
  },
  {
   "cell_type": "code",
   "execution_count": 16,
   "id": "c624a0cb-21fb-4485-b164-78c9109c25df",
   "metadata": {},
   "outputs": [
    {
     "name": "stdout",
     "output_type": "stream",
     "text": [
      "--- Building graph for charge category: 'east_aerodrome_parking_charge' ---\n"
     ]
    },
    {
     "data": {
      "application/vnd.jupyter.widget-view+json": {
       "model_id": "8aacbd49772f4f3499128e06ae128e1e",
       "version_major": 2,
       "version_minor": 0
      },
      "text/plain": [
       "StitchWidget(initial_height='auto', initial_width='100%', srcdoc='<!doctype html>\\n<html lang=\"en\">\\n<head>\\n …"
      ]
     },
     "metadata": {},
     "output_type": "display_data"
    },
    {
     "name": "stdout",
     "output_type": "stream",
     "text": [
      "Execution time for 'build': 213.9923 seconds\n"
     ]
    },
    {
     "name": "stderr",
     "output_type": "stream",
     "text": [
      "IOPub message rate exceeded.\n",
      "The Jupyter server will temporarily stop sending output\n",
      "to the client in order to avoid crashing it.\n",
      "To change this limit, set the config variable\n",
      "`--ServerApp.iopub_msg_rate_limit`.\n",
      "\n",
      "Current values:\n",
      "ServerApp.iopub_msg_rate_limit=1000.0 (msgs/sec)\n",
      "ServerApp.rate_limit_window=3.0 (secs)\n",
      "\n"
     ]
    }
   ],
   "source": [
    "query = \"Calculate the total parking charge for a Long Term Remote stand type at East Aerodrome Parking with no overnight parking. The parking duration is a variable with unit hours.\"\n",
    "charge_category = \"east_aerodrome_parking_charge\"\n",
    "\n",
    "result = create_computation_graph(model, query, charge_category)\n"
   ]
  },
  {
   "cell_type": "code",
   "execution_count": 17,
   "id": "20224065-5ef2-4083-b4d7-317531c27cf5",
   "metadata": {},
   "outputs": [
    {
     "name": "stdout",
     "output_type": "stream",
     "text": [
      "{\n",
      "    \"query_parameters\": [\n",
      "        {\n",
      "            \"name\": \"aircraft_stand_type\",\n",
      "            \"status\": \"KNOWN\",\n",
      "            \"value\": \"Long Term Remote\"\n",
      "        },\n",
      "        {\n",
      "            \"name\": \"parking_duration_hours\",\n",
      "            \"status\": \"SYMBOLIC\",\n",
      "            \"value\": null\n",
      "        },\n",
      "        {\n",
      "            \"name\": \"is_overnight_parking\",\n",
      "            \"status\": \"KNOWN\",\n",
      "            \"value\": false\n",
      "        }\n",
      "    ]\n",
      "}\n"
     ]
    }
   ],
   "source": [
    "print(json.dumps(json.loads(result[0][\"thought1\"]), indent=4))"
   ]
  },
  {
   "cell_type": "code",
   "execution_count": 18,
   "id": "b20f1e76-162f-4dcd-92c8-70eecaf2fbb4",
   "metadata": {},
   "outputs": [
    {
     "name": "stdout",
     "output_type": "stream",
     "text": [
      "{\n",
      "    \"identified_constants_and_rules\": [\n",
      "        \"The standard charge per aircraft/stand type for Long Term Remote at East Aerodrome Parking (EAP) is \\u20ac234.50 per day or part thereof.\",\n",
      "        \"Aircraft parking for extended periods in EAP attract surcharges based on duration: 48-72 hours (including night-time) is standard rate +100%, 72 hours and over is standard rate +200%.\",\n",
      "        \"Overnight parking from 2300-0600hrs is free of charge.\",\n",
      "        \"The parking duration is a variable with unit hours.\",\n",
      "        \"The parking duration is not during overnight hours (is_overnight_parking = false).\",\n",
      "        \"The parking is at East Aerodrome Parking (EAP).\",\n",
      "        \"The stand type is Long Term Remote.\"\n",
      "    ]\n",
      "}\n"
     ]
    }
   ],
   "source": [
    "print(json.dumps(json.loads(result[0][\"thought2\"]), indent=4))"
   ]
  },
  {
   "cell_type": "code",
   "execution_count": 19,
   "id": "08b46aa2-339a-4ad4-9c72-3b560ac48d1f",
   "metadata": {},
   "outputs": [
    {
     "name": "stdout",
     "output_type": "stream",
     "text": [
      "{\n",
      "    \"synthesis_plan\": \"The total parking charge calculation will start with the standard rate for Long Term Remote at EAP (\\u20ac234.50/day). Since the duration is variable, we need to create conditional branches based on the duration in hours. The surcharge percentages depend on whether the duration is between 48-72 hours or over 72 hours. We'll convert the duration from hours to days (considering part thereof) and apply the appropriate surcharge. Since it's not overnight parking, we don't need to adjust for free night-time periods.\"\n",
      "}\n"
     ]
    }
   ],
   "source": [
    "print(json.dumps(json.loads(result[0][\"thought3\"]), indent=4))"
   ]
  },
  {
   "cell_type": "code",
   "execution_count": 20,
   "id": "eb5abbf4-8b90-43aa-a41c-1651cebb1948",
   "metadata": {},
   "outputs": [
    {
     "name": "stdout",
     "output_type": "stream",
     "text": [
      "{\n",
      "    \"rethink\": \"The approach correctly identifies the standard rate and the surcharge conditions based on duration. The conversion from hours to days needs to be handled as 'per day or part thereof' which means any fraction of a day counts as a full day. The surcharge conditions are correctly identified as dependent on the duration. The is_overnight_parking parameter is correctly set to false so no adjustments for free overnight periods are needed.\"\n",
      "}\n"
     ]
    }
   ],
   "source": [
    "print(json.dumps(json.loads(result[0][\"thought4\"]), indent=4))"
   ]
  },
  {
   "cell_type": "code",
   "execution_count": 21,
   "id": "1684586e-521c-4a60-ab4f-fb499b4324a2",
   "metadata": {},
   "outputs": [
    {
     "name": "stdout",
     "output_type": "stream",
     "text": [
      "{\n",
      "    \"type\": \"BINARY_OPERATION\",\n",
      "    \"operator\": \"ADD\",\n",
      "    \"left\": {\n",
      "        \"type\": \"CONDITIONAL\",\n",
      "        \"condition\": {\n",
      "            \"type\": \"COMPARISON\",\n",
      "            \"operator\": \"GREATER_THAN\",\n",
      "            \"left\": {\n",
      "                \"type\": \"VARIABLE\",\n",
      "                \"name\": \"parking_duration_hours\",\n",
      "                \"description\": \"Total duration of parking in hours. Surcharges apply at 48 and 72 hours.\",\n",
      "                \"unit\": \"HOURS\"\n",
      "            },\n",
      "            \"right\": {\n",
      "                \"type\": \"VALUE\",\n",
      "                \"value\": 72,\n",
      "                \"description\": \"Threshold for 200% surcharge\",\n",
      "                \"unit\": \"HOURS\"\n",
      "            }\n",
      "        },\n",
      "        \"if_true\": {\n",
      "            \"type\": \"BINARY_OPERATION\",\n",
      "            \"operator\": \"MULTIPLY\",\n",
      "            \"left\": {\n",
      "                \"type\": \"VALUE\",\n",
      "                \"value\": 234.5,\n",
      "                \"description\": \"Standard charge per day for Long Term Remote at East Aerodrome Parking\",\n",
      "                \"unit\": \"EUROS\"\n",
      "            },\n",
      "            \"right\": {\n",
      "                \"type\": \"VALUE\",\n",
      "                \"value\": 3,\n",
      "                \"description\": \"200% surcharge multiplier\",\n",
      "                \"unit\": \"PERCENT\"\n",
      "            }\n",
      "        },\n",
      "        \"if_false\": {\n",
      "            \"type\": \"CONDITIONAL\",\n",
      "            \"condition\": {\n",
      "                \"type\": \"COMPARISON\",\n",
      "                \"operator\": \"GREATER_THAN\",\n",
      "                \"left\": {\n",
      "                    \"type\": \"VARIABLE\",\n",
      "                    \"name\": \"parking_duration_hours\",\n",
      "                    \"description\": \"Total duration of parking in hours. Surcharges apply at 48 and 72 hours.\",\n",
      "                    \"unit\": \"HOURS\"\n",
      "                },\n",
      "                \"right\": {\n",
      "                    \"type\": \"VALUE\",\n",
      "                    \"value\": 48,\n",
      "                    \"description\": \"Threshold for 100% surcharge\",\n",
      "                    \"unit\": \"HOURS\"\n",
      "                }\n",
      "            },\n",
      "            \"if_true\": {\n",
      "                \"type\": \"BINARY_OPERATION\",\n",
      "                \"operator\": \"MULTIPLY\",\n",
      "                \"left\": {\n",
      "                    \"type\": \"VALUE\",\n",
      "                    \"value\": 234.5,\n",
      "                    \"description\": \"Standard charge per day for Long Term Remote at East Aerodrome Parking\",\n",
      "                    \"unit\": \"EUROS\"\n",
      "                },\n",
      "                \"right\": {\n",
      "                    \"type\": \"VALUE\",\n",
      "                    \"value\": 2,\n",
      "                    \"description\": \"100% surcharge multiplier\",\n",
      "                    \"unit\": \"PERCENT\"\n",
      "                }\n",
      "            },\n",
      "            \"if_false\": {\n",
      "                \"type\": \"VALUE\",\n",
      "                \"value\": 234.5,\n",
      "                \"description\": \"Standard charge per day for Long Term Remote at East Aerodrome Parking\",\n",
      "                \"unit\": \"EUROS\"\n",
      "            }\n",
      "        }\n",
      "    },\n",
      "    \"right\": {\n",
      "        \"type\": \"BINARY_OPERATION\",\n",
      "        \"operator\": \"MULTIPLY\",\n",
      "        \"left\": {\n",
      "            \"type\": \"VARIABLE\",\n",
      "            \"name\": \"parking_duration_hours\",\n",
      "            \"description\": \"Total duration of parking in hours. Surcharges apply at 48 and 72 hours.\",\n",
      "            \"unit\": \"HOURS\"\n",
      "        },\n",
      "        \"right\": {\n",
      "            \"type\": \"BINARY_OPERATION\",\n",
      "            \"operator\": \"DIVIDE\",\n",
      "            \"left\": {\n",
      "                \"type\": \"VALUE\",\n",
      "                \"value\": 234.5,\n",
      "                \"description\": \"Standard charge per day for Long Term Remote at East Aerodrome Parking\",\n",
      "                \"unit\": \"EUROS\"\n",
      "            },\n",
      "            \"right\": {\n",
      "                \"type\": \"VALUE\",\n",
      "                \"value\": 24,\n",
      "                \"description\": \"Hours per day\",\n",
      "                \"unit\": \"HOURS\"\n",
      "            }\n",
      "        }\n",
      "    }\n",
      "}\n"
     ]
    }
   ],
   "source": [
    "print(json.dumps(json.loads(result[0][\"result_graph\"]), indent=4))"
   ]
  },
  {
   "cell_type": "markdown",
   "id": "2fc6205d-b897-4a65-af60-1f22d9e46f32",
   "metadata": {},
   "source": [
    "\n",
    "# Changes: \n",
    "- Tried on a new problem\n",
    "\n",
    "# Observations: \n",
    "\n",
    "# Discussion:\n",
    "\n",
    "# Next Steps:\n"
   ]
  },
  {
   "cell_type": "code",
   "execution_count": 22,
   "id": "f0e2289f-dedf-46d5-8796-9047b424d2ef",
   "metadata": {},
   "outputs": [
    {
     "name": "stdout",
     "output_type": "stream",
     "text": [
      "--- Building graph for charge category: 'east_aerodrome_parking_charge' ---\n"
     ]
    },
    {
     "data": {
      "application/vnd.jupyter.widget-view+json": {
       "model_id": "75a233b705ad4e5998934e810a1af4ef",
       "version_major": 2,
       "version_minor": 0
      },
      "text/plain": [
       "StitchWidget(initial_height='auto', initial_width='100%', srcdoc='<!doctype html>\\n<html lang=\"en\">\\n<head>\\n …"
      ]
     },
     "metadata": {},
     "output_type": "display_data"
    },
    {
     "name": "stdout",
     "output_type": "stream",
     "text": [
      "Execution time for 'build': 298.1813 seconds\n"
     ]
    }
   ],
   "source": [
    "query = \"Calculate the total parking charge for a Wide Satellite stand type at East Aerodrome Parking with no overnight parking. The parking duration is a variable with unit hours.\"\n",
    "charge_category = \"east_aerodrome_parking_charge\"\n",
    "\n",
    "result = create_computation_graph(model, query, charge_category)\n"
   ]
  },
  {
   "cell_type": "code",
   "execution_count": 23,
   "id": "7ca0d418-ba93-402d-8f86-1e220a4bbf71",
   "metadata": {},
   "outputs": [
    {
     "name": "stdout",
     "output_type": "stream",
     "text": [
      "{\n",
      "    \"query_parameters\": [\n",
      "        {\n",
      "            \"name\": \"aircraft_stand_type\",\n",
      "            \"status\": \"KNOWN\",\n",
      "            \"value\": \"Wide Satellite\"\n",
      "        },\n",
      "        {\n",
      "            \"name\": \"parking_duration_hours\",\n",
      "            \"status\": \"SYMBOLIC\",\n",
      "            \"value\": null\n",
      "        },\n",
      "        {\n",
      "            \"name\": \"is_overnight_parking\",\n",
      "            \"status\": \"KNOWN\",\n",
      "            \"value\": false\n",
      "        }\n",
      "    ]\n",
      "}\n"
     ]
    }
   ],
   "source": [
    "print(json.dumps(json.loads(result[0][\"thought1\"]), indent=4))"
   ]
  },
  {
   "cell_type": "code",
   "execution_count": 24,
   "id": "f584f45c-a89b-482e-acc8-daf2d221fd1c",
   "metadata": {},
   "outputs": [
    {
     "name": "stdout",
     "output_type": "stream",
     "text": [
      "{\n",
      "    \"identified_constants_and_rules\": [\n",
      "        \"The standard charge per aircraft/stand type for Wide Satellite at East Aerodrome Parking (EAP) is \\u20ac42.00 per 15 minutes or part thereof.\",\n",
      "        \"Parking surcharges apply for extended periods at EAP: 48 hours up to 72 hours (including night-time) attract a surcharge of Standard rate +100%, and 72 hours and over (including night-time) attract Standard rate +200%.\",\n",
      "        \"Overnight parking from 2300-0600hrs is free of charge, but the query specifies no overnight parking (is_overnight_parking = false).\",\n",
      "        \"The parking duration is a variable with unit hours, meaning the calculation must account for all possible values of parking_duration_hours.\",\n",
      "        \"The parking charge is calculated based on the number of 15-minute intervals in the parking duration, with each interval charged at the standard rate or surcharged rate depending on duration.\",\n",
      "        \"The minimum charge for light aircraft is \\u20ac3.20, but this does not apply to Wide Satellite stands.\",\n",
      "        \"The parking duration is measured from the actual time of arrival (landed time) to the actual time of departure (airborne time) minus 30 minutes, but this detail is not needed as the duration is given as a variable.\"\n",
      "    ]\n",
      "}\n"
     ]
    }
   ],
   "source": [
    "print(json.dumps(json.loads(result[0][\"thought2\"]), indent=4))"
   ]
  },
  {
   "cell_type": "code",
   "execution_count": 25,
   "id": "be714675-1d24-47eb-86d8-72492706aa33",
   "metadata": {},
   "outputs": [
    {
     "name": "stdout",
     "output_type": "stream",
     "text": [
      "{\n",
      "    \"synthesis_plan\": \"The total parking charge for a Wide Satellite stand at EAP depends on the parking duration. The base rate is \\u20ac42.00 per 15 minutes or part thereof. For durations between 48 and 72 hours, the rate is doubled (100% surcharge), and for durations over 72 hours, the rate is tripled (200% surcharge). Since the parking duration is symbolic, the calculation must include conditional logic to handle all possible values of parking_duration_hours. The formula will calculate the number of 15-minute intervals, apply the appropriate rate based on duration, and sum the charges.\"\n",
      "}\n"
     ]
    }
   ],
   "source": [
    "print(json.dumps(json.loads(result[0][\"thought3\"]), indent=4))"
   ]
  },
  {
   "cell_type": "code",
   "execution_count": 26,
   "id": "ecfe3920-c23f-4a52-a5d3-5b9ecb144e95",
   "metadata": {},
   "outputs": [
    {
     "name": "stdout",
     "output_type": "stream",
     "text": [
      "{\n",
      "    \"rethink\": \"The approach correctly identifies the base rate, surcharge conditions, and the need for conditional logic due to the symbolic parking duration. The calculation must account for the number of 15-minute intervals, apply surcharges based on duration, and handle all possible values of parking_duration_hours. The final expression tree will include conditional nodes for the surcharge tiers and a calculation for the total charge.\"\n",
      "}\n"
     ]
    }
   ],
   "source": [
    "print(json.dumps(json.loads(result[0][\"thought4\"]), indent=4))"
   ]
  },
  {
   "cell_type": "code",
   "execution_count": 27,
   "id": "b1754fc2-5829-45c0-8758-b40084119f41",
   "metadata": {},
   "outputs": [
    {
     "name": "stdout",
     "output_type": "stream",
     "text": [
      "{\n",
      "    \"type\": \"BINARY_OPERATION\",\n",
      "    \"operator\": \"ADD\",\n",
      "    \"left\": {\n",
      "        \"type\": \"CONDITIONAL\",\n",
      "        \"condition\": {\n",
      "            \"type\": \"COMPARISON\",\n",
      "            \"operator\": \"LESS_THAN\",\n",
      "            \"left\": {\n",
      "                \"type\": \"VARIABLE\",\n",
      "                \"name\": \"parking_duration_hours\",\n",
      "                \"description\": \"Total duration of parking in hours. Surcharges apply at 48 and 72 hours.\",\n",
      "                \"unit\": \"HOURS\"\n",
      "            },\n",
      "            \"right\": {\n",
      "                \"type\": \"VALUE\",\n",
      "                \"value\": 48,\n",
      "                \"description\": \"Threshold for 100% surcharge on parking duration.\",\n",
      "                \"unit\": \"HOURS\"\n",
      "            }\n",
      "        },\n",
      "        \"if_true\": {\n",
      "            \"type\": \"BINARY_OPERATION\",\n",
      "            \"operator\": \"MULTIPLY\",\n",
      "            \"left\": {\n",
      "                \"type\": \"BINARY_OPERATION\",\n",
      "                \"operator\": \"DIVIDE\",\n",
      "                \"left\": {\n",
      "                    \"type\": \"VARIABLE\",\n",
      "                    \"name\": \"parking_duration_hours\",\n",
      "                    \"description\": \"Total duration of parking in hours. Surcharges apply at 48 and 72 hours.\",\n",
      "                    \"unit\": \"HOURS\"\n",
      "                },\n",
      "                \"right\": {\n",
      "                    \"type\": \"VALUE\",\n",
      "                    \"value\": 0.25,\n",
      "                    \"description\": \"Conversion factor from hours to 15-minute intervals (1 hour = 4 intervals).\",\n",
      "                    \"unit\": \"HOURS\"\n",
      "                }\n",
      "            },\n",
      "            \"right\": {\n",
      "                \"type\": \"VALUE\",\n",
      "                \"value\": 42.0,\n",
      "                \"description\": \"Standard charge per 15 minutes or part thereof for Wide Satellite stand at East Aerodrome Parking.\",\n",
      "                \"unit\": \"EUROS\"\n",
      "            }\n",
      "        },\n",
      "        \"if_false\": {\n",
      "            \"type\": \"CONDITIONAL\",\n",
      "            \"condition\": {\n",
      "                \"type\": \"COMPARISON\",\n",
      "                \"operator\": \"LESS_THAN\",\n",
      "                \"left\": {\n",
      "                    \"type\": \"VARIABLE\",\n",
      "                    \"name\": \"parking_duration_hours\",\n",
      "                    \"description\": \"Total duration of parking in hours. Surcharges apply at 48 and 72 hours.\",\n",
      "                    \"unit\": \"HOURS\"\n",
      "                },\n",
      "                \"right\": {\n",
      "                    \"type\": \"VALUE\",\n",
      "                    \"value\": 72,\n",
      "                    \"description\": \"Threshold for 200% surcharge on parking duration.\",\n",
      "                    \"unit\": \"HOURS\"\n",
      "                }\n",
      "            },\n",
      "            \"if_true\": {\n",
      "                \"type\": \"BINARY_OPERATION\",\n",
      "                \"operator\": \"MULTIPLY\",\n",
      "                \"left\": {\n",
      "                    \"type\": \"BINARY_OPERATION\",\n",
      "                    \"operator\": \"DIVIDE\",\n",
      "                    \"left\": {\n",
      "                        \"type\": \"VARIABLE\",\n",
      "                        \"name\": \"parking_duration_hours\",\n",
      "                        \"description\": \"Total duration of parking in hours. Surcharges apply at 48 and 72 hours.\",\n",
      "                        \"unit\": \"HOURS\"\n",
      "                    },\n",
      "                    \"right\": {\n",
      "                        \"type\": \"VALUE\",\n",
      "                        \"value\": 0.25,\n",
      "                        \"description\": \"Conversion factor from hours to 15-minute intervals (1 hour = 4 intervals).\",\n",
      "                        \"unit\": \"HOURS\"\n",
      "                    }\n",
      "                },\n",
      "                \"right\": {\n",
      "                    \"type\": \"BINARY_OPERATION\",\n",
      "                    \"operator\": \"MULTIPLY\",\n",
      "                    \"left\": {\n",
      "                        \"type\": \"VALUE\",\n",
      "                        \"value\": 42.0,\n",
      "                        \"description\": \"Standard charge per 15 minutes or part thereof for Wide Satellite stand at East Aerodrome Parking.\",\n",
      "                        \"unit\": \"EUROS\"\n",
      "                    },\n",
      "                    \"right\": {\n",
      "                        \"type\": \"VALUE\",\n",
      "                        \"value\": 2,\n",
      "                        \"description\": \"100% surcharge multiplier for parking durations between 48 and 72 hours.\",\n",
      "                        \"unit\": \"UNITLESS\"\n",
      "                    }\n",
      "                }\n",
      "            },\n",
      "            \"if_false\": {\n",
      "                \"type\": \"BINARY_OPERATION\",\n",
      "                \"operator\": \"MULTIPLY\",\n",
      "                \"left\": {\n",
      "                    \"type\": \"BINARY_OPERATION\",\n",
      "                    \"operator\": \"DIVIDE\",\n",
      "                    \"left\": {\n",
      "                        \"type\": \"VARIABLE\",\n",
      "                        \"name\": \"parking_duration_hours\",\n",
      "                        \"description\": \"Total duration of parking in hours. Surcharges apply at 48 and 72 hours.\",\n",
      "                        \"unit\": \"HOURS\"\n",
      "                    },\n",
      "                    \"right\": {\n",
      "                        \"type\": \"VALUE\",\n",
      "                        \"value\": 0.25,\n",
      "                        \"description\": \"Conversion factor from hours to 15-minute intervals (1 hour = 4 intervals).\",\n",
      "                        \"unit\": \"HOURS\"\n",
      "                    }\n",
      "                },\n",
      "                \"right\": {\n",
      "                    \"type\": \"BINARY_OPERATION\",\n",
      "                    \"operator\": \"MULTIPLY\",\n",
      "                    \"left\": {\n",
      "                        \"type\": \"VALUE\",\n",
      "                        \"value\": 42.0,\n",
      "                        \"description\": \"Standard charge per 15 minutes or part thereof for Wide Satellite stand at East Aerodrome Parking.\",\n",
      "                        \"unit\": \"EUROS\"\n",
      "                    },\n",
      "                    \"right\": {\n",
      "                        \"type\": \"VALUE\",\n",
      "                        \"value\": 3,\n",
      "                        \"description\": \"200% surcharge multiplier for parking durations over 72 hours.\",\n",
      "                        \"unit\": \"UNITLESS\"\n",
      "                    }\n",
      "                }\n",
      "            }\n",
      "        }\n",
      "    },\n",
      "    \"right\": {\n",
      "        \"type\": \"VALUE\",\n",
      "        \"value\": 0,\n",
      "        \"description\": \"Overnight parking is free, but the query specifies no overnight parking (is_overnight_parking = false).\",\n",
      "        \"unit\": \"EUROS\"\n",
      "    }\n",
      "}\n"
     ]
    }
   ],
   "source": [
    "print(json.dumps(json.loads(result[0][\"result_graph\"]), indent=4))"
   ]
  },
  {
   "cell_type": "code",
   "execution_count": null,
   "id": "cc372f46-4d17-4f02-9991-dec0be556319",
   "metadata": {},
   "outputs": [
    {
     "name": "stdout",
     "output_type": "stream",
     "text": [
      "--- Building graph for charge category: 'east_aerodrome_parking_charge' ---\n"
     ]
    },
    {
     "data": {
      "application/vnd.jupyter.widget-view+json": {
       "model_id": "8684fc70e7d34f23969473f09f3aad41",
       "version_major": 2,
       "version_minor": 0
      },
      "text/plain": [
       "StitchWidget(initial_height='auto', initial_width='100%', srcdoc='<!doctype html>\\n<html lang=\"en\">\\n<head>\\n …"
      ]
     },
     "metadata": {},
     "output_type": "display_data"
    },
    {
     "name": "stdout",
     "output_type": "stream",
     "text": [
      "Execution time for 'build': 839.8929 seconds\n"
     ]
    },
    {
     "name": "stderr",
     "output_type": "stream",
     "text": [
      "IOPub message rate exceeded.\n",
      "The Jupyter server will temporarily stop sending output\n",
      "to the client in order to avoid crashing it.\n",
      "To change this limit, set the config variable\n",
      "`--ServerApp.iopub_msg_rate_limit`.\n",
      "\n",
      "Current values:\n",
      "ServerApp.iopub_msg_rate_limit=1000.0 (msgs/sec)\n",
      "ServerApp.rate_limit_window=3.0 (secs)\n",
      "\n"
     ]
    }
   ],
   "source": [
    "query = \"Calculate the total parking charge for a Light Aircraft Parking (LAP) stand type at East Aerodrome Parking with no overnight parking. The parking duration is a variable with unit hours.\"\n",
    "charge_category = \"east_aerodrome_parking_charge\"\n",
    "\n",
    "result = create_computation_graph(model, query, charge_category)\n"
   ]
  },
  {
   "cell_type": "code",
   "execution_count": 20,
   "id": "8522ac6a-b707-46c5-a162-b308215dc1b8",
   "metadata": {},
   "outputs": [
    {
     "name": "stdout",
     "output_type": "stream",
     "text": [
      "{\n",
      "    \"query_parameters\": [\n",
      "        {\n",
      "            \"name\": \"aircraft_stand_type\",\n",
      "            \"status\": \"KNOWN\",\n",
      "            \"value\": \"Light Aircraft Parking (LAP)\"\n",
      "        },\n",
      "        {\n",
      "            \"name\": \"parking_duration_hours\",\n",
      "            \"status\": \"SYMBOLIC\",\n",
      "            \"value\": null\n",
      "        },\n",
      "        {\n",
      "            \"name\": \"is_overnight_parking\",\n",
      "            \"status\": \"KNOWN\",\n",
      "            \"value\": false\n",
      "        }\n",
      "    ]\n",
      "}\n"
     ]
    }
   ],
   "source": [
    "print(json.dumps(json.loads(result[0][\"thought1\"]), indent=4))"
   ]
  },
  {
   "cell_type": "code",
   "execution_count": 21,
   "id": "8db45b5d-9731-4568-8aaf-8b3a068e3252",
   "metadata": {},
   "outputs": [
    {
     "name": "stdout",
     "output_type": "stream",
     "text": [
      "{\n",
      "    \"identified_constants_and_rules\": [\n",
      "        \"The parking charge for Light Aircraft Parking (LAP) at East Aerodrome Parking (EAP) is \\u20ac3.50 per 15 minutes or part thereof.\",\n",
      "        \"The parking duration is a variable with unit hours.\",\n",
      "        \"Overnight parking from 2300-0600hrs is free of charge, but the query specifies no overnight parking.\",\n",
      "        \"Aircraft parking for extended periods in EAP attract surcharges: 48 hours up to 72 hours (including night-time) has a surcharge of Standard rate +100%, and 72 hours and over has Standard rate +200%.\",\n",
      "        \"The parking charge is calculated from the actual time of arrival to the actual time of departure minus 30 minutes.\",\n",
      "        \"The minimum charge of \\u20ac3.20 applies for light aircraft.\",\n",
      "        \"The parking duration is a variable, so we need to account for all possible values.\"\n",
      "    ]\n",
      "}\n"
     ]
    }
   ],
   "source": [
    "print(json.dumps(json.loads(result[0][\"thought2\"]), indent=4))"
   ]
  },
  {
   "cell_type": "code",
   "execution_count": 22,
   "id": "c794e731-248a-4100-ad00-ab913fb91ed5",
   "metadata": {},
   "outputs": [
    {
     "name": "stdout",
     "output_type": "stream",
     "text": [
      "{\n",
      "    \"synthesis_plan\": \"The total parking charge for LAP at EAP is calculated by first determining the base rate of \\u20ac3.50 per 15 minutes or part thereof. Since the parking duration is a variable, we need to calculate the number of 15-minute intervals. However, we must also consider the surcharges for durations over 48 and 72 hours. The calculation should include a conditional check for the duration: if it's less than 48 hours, use the base rate; if between 48-72 hours, apply 100% surcharge; if over 72 hours, apply 200% surcharge. Additionally, the minimum charge of \\u20ac3.20 must be considered, but since the base rate is already higher than this, it may not affect the calculation. The overnight parking is not applicable here as per the query.\"\n",
      "}\n"
     ]
    }
   ],
   "source": [
    "print(json.dumps(json.loads(result[0][\"thought3\"]), indent=4))"
   ]
  },
  {
   "cell_type": "code",
   "execution_count": 23,
   "id": "ecddce59-93ed-4be2-ada3-ec9252d3f1ef",
   "metadata": {},
   "outputs": [
    {
     "name": "stdout",
     "output_type": "stream",
     "text": [
      "{\n",
      "    \"rethink\": \"The approach is correct, but I need to ensure that the surcharge conditions are properly represented as conditional nodes in the expression tree. Also, the calculation of 15-minute intervals needs to be accurately represented. The minimum charge of \\u20ac3.20 is lower than the base rate, so it should be considered as a minimum floor in the calculation.\"\n",
      "}\n"
     ]
    }
   ],
   "source": [
    "print(json.dumps(json.loads(result[0][\"thought4\"]), indent=4))"
   ]
  },
  {
   "cell_type": "code",
   "execution_count": 25,
   "id": "1b3d3a2a-219d-4ee5-ab1d-f487b085cc71",
   "metadata": {},
   "outputs": [
    {
     "data": {
      "text/plain": [
       "'{\"type\": \"BINARY_OPERATION\", \"operator\": \"ADD\", \"left\": {\"type\": \"CONDITIONAL\", \"condition\": {\"type\": \"COMPARISON\", \"operator\": \"GREATER_THAN\", \"left\": {\"type\": \"VARIABLE\", \"name\": \"parking_duration_hours\", \"description\": \"Total duration of parking in hours. Surcharges apply at 48 and 72 hours.\", \"unit\": \"HOURS\"}, \"right\": {\"type\": \"VALUE\", \"value\": 72, \"description\": \"Threshold for 200% surcharge on parking duration.\", \"unit\": \"HOURS\"}}, \"if_true\": {\"type\": \"BINARY_OPERATION\", \"operator\": \"MULTIPLY\", \"left\": {\"type\": \"VALUE\", \"value\": 3.50, \"description\": \"Standard charge per 15 minutes or part thereof for Light Aircraft Parking (LAP) at East Aerodrome Parking (EAP).\", \"unit\": \"EUROS\"}, \"right\": {\"type\": \"BINARY_OPERATION\", \"operator\": \"DIVIDE\", \"left\": {\"type\": \"VARIABLE\", \"name\": \"parking_duration_hours\", \"description\": \"Total duration of parking in hours. Surcharges apply at 48 and 72 hours.\", \"unit\": \"HOURS\"}, \"right\": {\"type\": \"VALUE\", \"value\": 0.25, \"description\": \"Conversion factor from hours to 15-minute intervals (1 hour = 4 intervals).\", \"unit\": \"HOURS\"}}, \"description\": \"Calculate the base charge for parking duration with 200% surcharge applied.\"}, \"if_false\": {\"type\": \"CONDITIONAL\", \"condition\": {\"type\": \"COMPARISON\", \"operator\": \"GREATER_THAN\", \"left\": {\"type\": \"VARIABLE\", \"name\": \"parking_duration_hours\", \"description\": \"Total duration of parking in hours. Surcharges apply at 48 and 72 hours.\", \"unit\": \"HOURS\"}, \"right\": {\"type\": \"VALUE\", \"value\": 48, \"description\": \"Threshold for 100% surcharge on parking duration.\", \"unit\": \"HOURS\"}}, \"if_true\": {\"type\": \"BINARY_OPERATION\", \"operator\": \"MULTIPLY\", \"left\": {\"type\": \"VALUE\", \"value\": 3.50, \"description\": \"Standard charge per 15 minutes or part thereof for Light Aircraft Parking (LAP) at East Aerodrome Parking (EAP).\", \"unit\": \"EUROS\"}, \"right\": {\"type\": \"BINARY_OPERATION\", \"operator\": \"DIVIDE\", \"left\": {\"type\": \"VARIABLE\", \"name\": \"parking_duration_hours\", \"description\": \"Total duration of parking in hours. Surcharges apply at 48 and 72 hours.\", \"unit\": \"HOURS\"}, \"right\": {\"type\": \"VALUE\", \"value\": 0.25, \"description\": \"Conversion factor from hours to 15-minute intervals (1 hour = 4 intervals).\", \"unit\": \"HOURS\"}}, \"description\": \"Calculate the base charge for parking duration with 100% surcharge applied.\"}, \"if_false\": {\"type\": \"BINARY_OPERATION\", \"operator\": \"MULTIPLY\", \"left\": {\"type\": \"VALUE\", \"value\": 3.50, \"description\": \"Standard charge per 15 minutes or part thereof for Light Aircraft Parking (LAP) at East Aerodrome Parking (EAP).\", \"unit\": \"EUROS\"}, \"right\": {\"type\": \"BINARY_OPERATION\", \"operator\": \"DIVIDE\", \"left\": {\"type\": \"VARIABLE\", \"name\": \"parking_duration_hours\", \"description\": \"Total duration of parking in hours. Surcharges apply at 48 and 72 hours.\", \"unit\": \"HOURS\"}, \"right\": {\"type\": \"VALUE\", \"value\": 0.25, \"description\": \"Conversion factor from hours to 15-minute intervals (1 hour = 4 intervals).\", \"unit\": \"HOURS\"}}, \"description\": \"Calculate the base charge for parking duration without surcharge.\"}}, \"description\": \"Calculate the total parking charge for Light Aircraft Parking (LAP) at East Aerodrome Parking (EAP) with surcharges applied based on duration.\"}, \"right\": {\"type\": \"CONDITIONAL\", \"condition\": {\"type\": \"COMPARISON\", \"operator\": \"LESS_THAN\", \"left\": {\"type\": \"BINARY_OPERATION\", \"operator\": \"MULTIPLY\", \"left\": {\"type\": \"VALUE\", \"value\": 3.50, \"description\": \"Standard charge per 15 minutes or part thereof for Light Aircraft Parking (LAP) at East Aerodrome Parking (EAP).\", \"unit\": \"EUROS\"}, \"right\": {\"type\": \"BINARY_OPERATION\", \"operator\": \"DIVIDE\", \"left\": {\"type\": \"VARIABLE\", \"name\": \"parking_duration_hours\", \"description\": \"Total duration of parking in hours. Surcharges apply at 48 and 72 hours.\", \"unit\": \"HOURS\"}, \"right\": {\"type\": \"VALUE\", \"value\": 0.25, \"description\": \"Conversion factor from hours to 15-minute intervals (1 hour = 4 intervals).\", \"unit\": \"HOURS\"}}, \"right\\\\\": \\\\\"3.20\\\\\"}, \\\\\"if_true\\\\\": \\\\\"3.20\\\\\", \\\\\"if_false\\\\\": \\\\\"the calculated charge\\\\\"}, \\\\\"description\\\\\": \\\\\"Ensure the minimum charge of €3.20 is applied if the calculated charge is lower.\\\\\"}”}”}”}”}”}”}”}”}”}”}”}”}”}”}”}”}”}”}”}”}”}”}”}”}”}”}”}”}”}”}”}”}”}”}”}”}”}”}”}”}”}”}”}”}”}”}”}”}”}”}”}”}”}”}”}”}”}”}”}”}”}”}”}”}”}”}”}”}”}”}”}”}”}”}”}”}”}”}”}”}”}”}”}”}”}”}”}”}”}”}”}”}”}”}”}”}”}”}”}”}”}”}”}”}”}”}”}”}”}”}”}”}”}”}”}”}”}”}”}”}”}”}”}”}”}”}”}”}”}”}”}”}”}”}”}”}”}”}”}”}”}”}”}”}”}”}”}”}”}”}”}”}”}”}”}”}”}”}”}”}”}”}”}”}”}”}”}”}”}”}”}”}”}”}”}”}”}”}”}”}”}”}”}”}”}”}”}”}”}”}”}”}”}”}”}”}”}”}”}”}”}”}”}”}”}”}”}”}”}”}”}”}”}”}”}”}”}”}”}”}”}”}”}”}”}”}”}”}”}”}”}”}”}”}”}”}”}”}”}”}”}”}”}”}”}”}”}”}”}”}”}”}”}”}”}”}”}”}”}”}”}”}”}”}”}”}”}”}”}”}”}”}”}”}”}”}”}”}”}”}”}”}”}”}”}”}”}”}”}”}”}”}”}”}”}”}”}”}”}”}”}”}”}”}”}”}”}”}”}”}”}”}”}”}”}”}”}”}”}”}”}”}”}”}”}”}”}”}”}”}”}”}”}”}”}”}”}”}”}”}”}”}”}”}”}”}”}”}”}”}”}”}”}”}”}”}”}”}”}”}”}”}”}”}”}”}”}”}”}”}”}”}”}”}”}”}”}”}”}”}”}”}”}”}”}”}”}”}”}”}: '"
      ]
     },
     "execution_count": 25,
     "metadata": {},
     "output_type": "execute_result"
    }
   ],
   "source": [
    "result[0][\"result_graph\"]"
   ]
  },
  {
   "cell_type": "code",
   "execution_count": null,
   "id": "59758a08-a660-4b29-8a45-4be01e2f74cd",
   "metadata": {},
   "outputs": [],
   "source": []
  }
 ],
 "metadata": {
  "kernelspec": {
   "display_name": "Python 3 (ipykernel)",
   "language": "python",
   "name": "python3"
  },
  "language_info": {
   "codemirror_mode": {
    "name": "ipython",
    "version": 3
   },
   "file_extension": ".py",
   "mimetype": "text/x-python",
   "name": "python",
   "nbconvert_exporter": "python",
   "pygments_lexer": "ipython3",
   "version": "3.11.5"
  }
 },
 "nbformat": 4,
 "nbformat_minor": 5
}
