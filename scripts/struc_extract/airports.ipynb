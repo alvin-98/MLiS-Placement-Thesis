{
 "cells": [
  {
   "cell_type": "markdown",
   "id": "52504ca6",
   "metadata": {},
   "source": [
    "TODOs\n",
    "- Baseline timings for each model-opt combination (time-per-token not using guidance)\n",
    "- Same timings but with guidance\n",
    "- Look at a set of combinations of model and \"optimisation stategy\""
   ]
  },
  {
   "cell_type": "code",
   "execution_count": 1,
   "id": "8e958171-f099-4301-9fa7-c6c012cad4f1",
   "metadata": {},
   "outputs": [],
   "source": [
    "import torch\n",
    "torch.cuda.empty_cache()\n",
    "from mlisplacement.struc_extract import DomainVariable, MathOperator, Comparator, Units, ValueNode, VariableNode, BinaryOpNode, ComparisonNode, ConditionalNode, AnyNode, Node\n",
    "from mlisplacement.struc_extract import airports\n",
    "from mlisplacement.struc_extract import reasoning\n",
    "from mlisplacement.struc_extract import QwenChatTemplate\n",
    "from mlisplacement.utils import load_model, read_md, timing_decorator\n",
    "\n",
    "import time\n",
    "from transformers import AutoTokenizer, AutoModelForCausalLM\n",
    "from enum import Enum\n",
    "# from guidance import models, system, user, assistant, json as gen_json, gen\n",
    "import torch\n",
    "import json\n",
    "import torch\n",
    "from enum import Enum\n",
    "import guidance\n",
    "import os"
   ]
  },
  {
   "cell_type": "code",
   "execution_count": 2,
   "id": "56e18da6",
   "metadata": {},
   "outputs": [],
   "source": [
    "datadir = os.path.join(\"..\", \"..\", \"data\")\n",
    "filepath = os.path.join(datadir, \"struc_extract/output/2025-airport-charges-terms-and-conditions/tinychargesmarkdown.md\")\n",
    "# MODEL_ID = \"Qwen/Qwen3-30B-A3B\"\n",
    "# MODEL_ID = \"Qwen/Qwen3-30B-A3B-Instruct-2507\"\n",
    "MODEL_ID = \"meta-llama/Llama-3.2-1B-Instruct\" #This already has memory error\n",
    "# MODEL_ID = \"distilgpt2\""
   ]
  },
  {
   "cell_type": "code",
   "execution_count": 3,
   "id": "ac6f4d98",
   "metadata": {},
   "outputs": [
    {
     "name": "stderr",
     "output_type": "stream",
     "text": [
      "gpustat is not installed, run `pip install gpustat` to collect GPU stats.\n"
     ]
    }
   ],
   "source": [
    "hf_model, hf_tokenizer = load_model(MODEL_ID, low_cpu_mem_usage=True)\n",
    "tok = hf_tokenizer\n",
    "chat_template = QwenChatTemplate\n",
    "model = guidance.models.Transformers(hf_model, tok, chat_template=chat_template)"
   ]
  },
  {
   "cell_type": "code",
   "execution_count": null,
   "id": "0130a806",
   "metadata": {},
   "outputs": [],
   "source": [
    "Var = create_dynamic_variable_enum(\"transfer_passenger_charge\")\n",
    "print(Var.TRANSFER_PASSENGER_COUNT.value)"
   ]
  },
  {
   "cell_type": "code",
   "execution_count": null,
   "id": "a76f7bde-494c-4106-bb5b-3bb5518e7cbf",
   "metadata": {},
   "outputs": [],
   "source": [
    "allowed_variables = [el.value for el in list(Var)]\n",
    "allowed_variables"
   ]
  },
  {
   "cell_type": "code",
   "execution_count": null,
   "id": "4d910e07-d59b-480d-b317-440939d7566d",
   "metadata": {},
   "outputs": [],
   "source": [
    "# class ComputationGraphBuilder:\n",
    "#     \"\"\"\n",
    "#     Orchestrates the creation of a computation graph by preparing dynamic\n",
    "#     constraints and prompting the LLM.\n",
    "#     \"\"\"\n",
    "    \n",
    "#     def __init__(self, model):\n",
    "#         \"\"\"\n",
    "#         Initializes the builder with a guidance model.\n",
    "#         \"\"\"\n",
    "#         self.model = model\n",
    "#         # Set the default LLM for all guidance programs\n",
    "#         # guidance.llm = self.model\n",
    "#     @timing_decorator\n",
    "#     def build(self, document_content: str, query: str, charge_category: str) -> dict:\n",
    "#         \"\"\"\n",
    "#         Generates a computation graph for a given query and document.\n",
    "\n",
    "#         Args:\n",
    "#             document_content: The text containing the rules.\n",
    "#             query: A natural language question about what to calculate.\n",
    "#             charge_category: The specific charge context used to filter variables.\n",
    "\n",
    "#         Returns:\n",
    "#             A dictionary representing the computation graph or an error.\n",
    "#         \"\"\"\n",
    "#         print(f\"--- Building graph for charge category: '{charge_category}' ---\")\n",
    "        \n",
    "#         # 1. Dynamically create the filtered Enum for this specific task\n",
    "#         try:\n",
    "#             Var = create_dynamic_variable_enum(charge_category)\n",
    "#         except ValueError as e:\n",
    "#             print(f\"Error: {e}\")\n",
    "#             return {\"error\": str(e)}\n",
    "\n",
    "#         # 3. Create a formatted prompt string of allowed variables for the LLM\n",
    "#         allowed_variables = [el.value for el in list(Var)]\n",
    "#         allowed_variables_prompt = \"\\n\".join(\n",
    "#             [f\"- **{v.name}**: {v.description}\" for name, v in airports.ALL_VARIABLES.items() if name in allowed_variables]\n",
    "#         )\n",
    "\n",
    "#         try:\n",
    "#             # 4. Execute the guidance program with all dynamic components\n",
    "#             result_lm = self.model + create_graph_with_cot(\n",
    "#                 allowed_variables_prompt=allowed_variables_prompt,\n",
    "#                 document=document_content,\n",
    "#                 query=query,\n",
    "#                 output_schema=Node\n",
    "#             )\n",
    "            \n",
    "#             return result_lm\n",
    "            \n",
    "#         except Exception as e:\n",
    "#             print(f\"\\nAn error occurred while building the graph for '{query}': {e}\")\n",
    "#             return {\"error\": str(e)}"
   ]
  },
  {
   "cell_type": "code",
   "execution_count": null,
   "id": "e0c2b98c-68d6-41f5-a262-3e0d42d7d11c",
   "metadata": {},
   "outputs": [],
   "source": [
    "import sympy\n",
    "from sympy import Symbol, Piecewise, sympify, Add, Mul, Pow\n",
    "\n",
    "def compose_expression(node: dict):\n",
    "    \"\"\"\n",
    "    Recursively parses a JSON graph into a SymPy expression,\n",
    "    preventing automatic simplification.\n",
    "\n",
    "    Args:\n",
    "        node: A dictionary representing a node in the computation graph.\n",
    "\n",
    "    Returns:\n",
    "        A non-evaluated sympy expression representing the computation.\n",
    "    \"\"\"\n",
    "\n",
    "    node_type = node.get('type')\n",
    "\n",
    "    if node_type == \"VALUE\":\n",
    "        return sympify(node['value'])\n",
    "\n",
    "    elif node_type == \"VARIABLE\":\n",
    "        return Symbol(node['name'])\n",
    "\n",
    "    elif node_type == \"BINARY_OPERATION\":\n",
    "        left = compose_expression(node['left'])\n",
    "        right = compose_expression(node['right'])\n",
    "        operator = node['operator']\n",
    "        \n",
    "        # Use class constructors with evaluate=False to prevent simplification\n",
    "        if operator == \"ADD\":\n",
    "            return Add(left, right, evaluate=False)\n",
    "        elif operator == \"MULTIPLY\":\n",
    "            return Mul(left, right, evaluate=False)\n",
    "        elif operator == \"DIVIDE\":\n",
    "            # Division (a/b) is represented as a * (b**-1)\n",
    "            power = Pow(right, -1, evaluate=False)\n",
    "            return Mul(left, power, evaluate=False)\n",
    "        else:\n",
    "            raise ValueError(f\"Unsupported binary operator: {operator}\")\n",
    "\n",
    "    elif node_type == \"COMPARISON\":\n",
    "        left = compose_expression(node['left'])\n",
    "        right = compose_expression(node['right'])\n",
    "        operator = node['operator']\n",
    "\n",
    "        if operator == \"GREATER_THAN\":\n",
    "            return left > right\n",
    "        if operator == \"LESS_THAN\":\n",
    "            return left < right\n",
    "        else:\n",
    "            raise ValueError(f\"Unsupported comparison operator: {operator}\")\n",
    "\n",
    "    elif node_type == \"CONDITIONAL\":\n",
    "        condition = compose_expression(node['condition'])\n",
    "        if_true_expr = compose_expression(node['if_true'])\n",
    "        if_false_expr = compose_expression(node['if_false'])\n",
    "        \n",
    "        return Piecewise((if_true_expr, condition), (if_false_expr, True))\n",
    "\n",
    "    else:\n",
    "        raise ValueError(f\"Unknown node type: {node_type}\")"
   ]
  },
  {
   "cell_type": "code",
   "execution_count": null,
   "id": "c32f9032-14c4-4108-8c7e-89cd4a826589",
   "metadata": {},
   "outputs": [],
   "source": [
    "import json\n",
    "import traceback\n",
    "\n",
    "#TODO: Rename to generate or similar?\n",
    "# def create_computation_graph(model, query, charge_category, markdown_content):\n",
    "#     graph_builder = ComputationGraphBuilder(model=model)\n",
    "\n",
    "#     start_time = time.perf_counter()\n",
    "#     llm_structured_response = graph_builder.build(\n",
    "#         document_content=markdown_content,\n",
    "#         query=query,\n",
    "#         charge_category=charge_category\n",
    "#     )\n",
    "#     end_time = time.perf_counter()\n",
    "#     build_time = end_time - start_time\n",
    "\n",
    "#     return llm_structured_response, build_time\n",
    "\n",
    "def generate(model, query, charge_category, markdown_content):\n",
    "    graph_builder = ComputationGraphBuilder(model=model)\n",
    "\n",
    "    start_time = time.perf_counter()\n",
    "    llm_structured_response = graph_builder.build(\n",
    "        document_content=markdown_content,\n",
    "        query=query,\n",
    "        charge_category=charge_category\n",
    "    )\n",
    "    end_time = time.perf_counter()\n",
    "    build_time = end_time - start_time\n",
    "\n",
    "    return llm_structured_response, build_time\n",
    "\n",
    "    "
   ]
  },
  {
   "cell_type": "code",
   "execution_count": null,
   "id": "cddd29e5-1a7c-4e1a-b9c6-7657589ca788",
   "metadata": {},
   "outputs": [],
   "source": [
    "datadir = os.path.join(\"..\", \"..\", \"data\")\n",
    "filepath = os.path.join(datadir, \"struc_extract/output/2025-airport-charges-terms-and-conditions/tinychargesmarkdown.md\")\n",
    "# MODEL_ID = \"Qwen/Qwen3-30B-A3B\"\n",
    "# MODEL_ID = \"Qwen/Qwen3-30B-A3B-Instruct-2507\"\n",
    "MODEL_ID = \"meta-llama/Llama-3.2-1B-Instruct\" #This already has memory error\n",
    "# MODEL_ID = \"distilgpt2\"\n",
    "\n",
    "query = \"Calculate the total parking charge for a Narrow Satellite stand type at East Aerodrome Parking with no overnight parking. The parking duration is a variable with unit hours.\"\n",
    "charge_category = \"east_aerodrome_parking_charge\"\n",
    "\n",
    "res_model, build_time = generate(model, query, charge_category, markdown_content=input_md)\n"
   ]
  },
  {
   "cell_type": "code",
   "execution_count": null,
   "id": "430c3fba",
   "metadata": {},
   "outputs": [],
   "source": [
    "def export_data():\n",
    "    pass"
   ]
  },
  {
   "cell_type": "code",
   "execution_count": null,
   "id": "83b2d7d4",
   "metadata": {},
   "outputs": [],
   "source": [
    "\n",
    "# Print the resulting expression\n",
    "loaded_json = json.loads(res_model[0]['result_graph'])\n",
    "symbolic_expr = compose_expression(loaded_json)\n",
    "print(f\"Sympy Expression: {symbolic_expr}\")\n",
    "export_data()"
   ]
  },
  {
   "cell_type": "code",
   "execution_count": null,
   "id": "df016127",
   "metadata": {},
   "outputs": [],
   "source": [
    "result"
   ]
  },
  {
   "cell_type": "code",
   "execution_count": null,
   "id": "cb364002-343c-4b2e-bd7a-d72c8dded581",
   "metadata": {},
   "outputs": [],
   "source": [
    "print(json.dumps(json.loads(result[0][\"thought1\"]), indent=4))"
   ]
  },
  {
   "cell_type": "code",
   "execution_count": null,
   "id": "e40a706e-298d-4d40-8c68-cb0868be9f3b",
   "metadata": {},
   "outputs": [],
   "source": [
    "print(json.dumps(json.loads(result[0][\"thought2\"]), indent=4))"
   ]
  },
  {
   "cell_type": "code",
   "execution_count": null,
   "id": "7bffc2fe-eff2-4522-af61-6356c65ae686",
   "metadata": {},
   "outputs": [],
   "source": [
    "print(json.dumps(json.loads(result[0][\"thought3\"]), indent=4))"
   ]
  },
  {
   "cell_type": "code",
   "execution_count": null,
   "id": "f5c7c4ea-3d33-472f-8c5f-07fd2796b368",
   "metadata": {},
   "outputs": [],
   "source": [
    "print(json.dumps(json.loads(result[0][\"thought4\"]), indent=4))"
   ]
  },
  {
   "cell_type": "code",
   "execution_count": null,
   "id": "5c637787-89d3-4f87-bb7c-bb70ac809bb8",
   "metadata": {},
   "outputs": [],
   "source": [
    "print(json.dumps(json.loads(result[0][\"result_graph\"]), indent=4))"
   ]
  },
  {
   "cell_type": "code",
   "execution_count": null,
   "id": "34cbd0e8-a7e2-413c-ac7f-95997f8657e6",
   "metadata": {},
   "outputs": [],
   "source": [
    "result[1]"
   ]
  },
  {
   "cell_type": "code",
   "execution_count": null,
   "id": "8432868a-02e6-4fba-9221-4e8338791617",
   "metadata": {},
   "outputs": [],
   "source": [
    "\n",
    "\n",
    "\n",
    "# Print the resulting expression\n",
    "loaded_json = json.loads(result[0]['result_graph'])\n",
    "symbolic_expr = compose_expression(loaded_json)\n",
    "print(f\"Sympy Expression: {symbolic_expr}\")"
   ]
  },
  {
   "cell_type": "markdown",
   "id": "b2e28adb-5d76-4be1-b45f-4084aa537299",
   "metadata": {},
   "source": [
    "\n",
    "# Changes: \n",
    "- Tried on a new problem\n",
    "\n",
    "# Observations: \n",
    "- The reasoning traces are decent, except that I may need to add a ceil function to account for cases when one may need to round up.\n",
    "- The graph produced is not perfect. It makes a potential mistake in computing surcharge, however, at this point, it is not clear whether this is a mistake as the document is quite confusing by itself. It does not clarify whether the surcharge is applicable for Long Term Remote, and whether that is on a per day basis.\n",
    "- The left hand side branch does not use the variable parking hours to compute the surcharge even in cases where the hours are > 24. One potential reason for this could be that I mentioned there is no overnight parking, which may have led it to assume that the hours would be less than 24.\n",
    "- The overnight parking charges also have ambiguity in their application. It is not clear, whether one has to discount the free period from the computed total fees or whether the surcharges are still applicable during that period, or it could be that aircrafts which strictly use the airport services starting and ending strictly during this period are exempt from any fees? \n",
    "\n",
    "# Discussion:\n",
    "- More testing is required to understand where the model may be making mistakes.\n",
    "- Larger models may perform better, as we currently only use the humble 32B A3B parameter MoE model.\n",
    "\n",
    "# Next Steps:\n",
    "- Continue testing"
   ]
  },
  {
   "cell_type": "code",
   "execution_count": null,
   "id": "c624a0cb-21fb-4485-b164-78c9109c25df",
   "metadata": {},
   "outputs": [],
   "source": [
    "query = \"Calculate the total parking charge for a Long Term Remote stand type at East Aerodrome Parking with no overnight parking. The parking duration is a variable with unit hours.\"\n",
    "charge_category = \"east_aerodrome_parking_charge\"\n",
    "\n",
    "result = create_computation_graph(model, query, charge_category)\n"
   ]
  },
  {
   "cell_type": "code",
   "execution_count": null,
   "id": "20224065-5ef2-4083-b4d7-317531c27cf5",
   "metadata": {},
   "outputs": [],
   "source": [
    "print(json.dumps(json.loads(result[0][\"thought1\"]), indent=4))"
   ]
  },
  {
   "cell_type": "code",
   "execution_count": null,
   "id": "b20f1e76-162f-4dcd-92c8-70eecaf2fbb4",
   "metadata": {},
   "outputs": [],
   "source": [
    "print(json.dumps(json.loads(result[0][\"thought2\"]), indent=4))"
   ]
  },
  {
   "cell_type": "code",
   "execution_count": null,
   "id": "08b46aa2-339a-4ad4-9c72-3b560ac48d1f",
   "metadata": {},
   "outputs": [],
   "source": [
    "print(json.dumps(json.loads(result[0][\"thought3\"]), indent=4))"
   ]
  },
  {
   "cell_type": "code",
   "execution_count": null,
   "id": "eb5abbf4-8b90-43aa-a41c-1651cebb1948",
   "metadata": {},
   "outputs": [],
   "source": [
    "print(json.dumps(json.loads(result[0][\"thought4\"]), indent=4))"
   ]
  },
  {
   "cell_type": "code",
   "execution_count": null,
   "id": "1684586e-521c-4a60-ab4f-fb499b4324a2",
   "metadata": {},
   "outputs": [],
   "source": [
    "print(json.dumps(json.loads(result[0][\"result_graph\"]), indent=4))"
   ]
  },
  {
   "cell_type": "code",
   "execution_count": null,
   "id": "bc510fb8",
   "metadata": {},
   "outputs": [],
   "source": [
    "def export_results(model: guidance.models.Transformers, data_dir):\n",
    "    #TODO: Export to json"
   ]
  },
  {
   "cell_type": "markdown",
   "id": "2fc6205d-b897-4a65-af60-1f22d9e46f32",
   "metadata": {},
   "source": [
    "\n",
    "# Changes: \n",
    "- Tried on a new problem\n",
    "\n",
    "# Observations: \n",
    "\n",
    "# Discussion:\n",
    "\n",
    "# Next Steps:\n"
   ]
  },
  {
   "cell_type": "code",
   "execution_count": null,
   "id": "f0e2289f-dedf-46d5-8796-9047b424d2ef",
   "metadata": {},
   "outputs": [],
   "source": [
    "query = \"Calculate the total parking charge for a Wide Satellite stand type at East Aerodrome Parking with no overnight parking. The parking duration is a variable with unit hours.\"\n",
    "charge_category = \"east_aerodrome_parking_charge\"\n",
    "\n",
    "result = create_computation_graph(model, query, charge_category)\n"
   ]
  },
  {
   "cell_type": "code",
   "execution_count": null,
   "id": "7ca0d418-ba93-402d-8f86-1e220a4bbf71",
   "metadata": {},
   "outputs": [],
   "source": [
    "print(json.dumps(json.loads(result[0][\"thought1\"]), indent=4))"
   ]
  },
  {
   "cell_type": "code",
   "execution_count": null,
   "id": "f584f45c-a89b-482e-acc8-daf2d221fd1c",
   "metadata": {},
   "outputs": [],
   "source": [
    "print(json.dumps(json.loads(result[0][\"thought2\"]), indent=4))"
   ]
  },
  {
   "cell_type": "code",
   "execution_count": null,
   "id": "be714675-1d24-47eb-86d8-72492706aa33",
   "metadata": {},
   "outputs": [],
   "source": [
    "print(json.dumps(json.loads(result[0][\"thought3\"]), indent=4))"
   ]
  },
  {
   "cell_type": "code",
   "execution_count": null,
   "id": "ecfe3920-c23f-4a52-a5d3-5b9ecb144e95",
   "metadata": {},
   "outputs": [],
   "source": [
    "print(json.dumps(json.loads(result[0][\"thought4\"]), indent=4))"
   ]
  },
  {
   "cell_type": "code",
   "execution_count": null,
   "id": "b1754fc2-5829-45c0-8758-b40084119f41",
   "metadata": {},
   "outputs": [],
   "source": [
    "print(json.dumps(json.loads(result[0][\"result_graph\"]), indent=4))"
   ]
  },
  {
   "cell_type": "code",
   "execution_count": null,
   "id": "cc372f46-4d17-4f02-9991-dec0be556319",
   "metadata": {},
   "outputs": [],
   "source": [
    "query = \"Calculate the total parking charge for a Light Aircraft Parking (LAP) stand type at East Aerodrome Parking with no overnight parking. The parking duration is a variable with unit hours.\"\n",
    "charge_category = \"east_aerodrome_parking_charge\"\n",
    "\n",
    "result = create_computation_graph(model, query, charge_category)\n"
   ]
  },
  {
   "cell_type": "code",
   "execution_count": null,
   "id": "8522ac6a-b707-46c5-a162-b308215dc1b8",
   "metadata": {},
   "outputs": [],
   "source": [
    "print(json.dumps(json.loads(result[0][\"thought1\"]), indent=4))"
   ]
  },
  {
   "cell_type": "code",
   "execution_count": null,
   "id": "8db45b5d-9731-4568-8aaf-8b3a068e3252",
   "metadata": {},
   "outputs": [],
   "source": [
    "print(json.dumps(json.loads(result[0][\"thought2\"]), indent=4))"
   ]
  },
  {
   "cell_type": "code",
   "execution_count": null,
   "id": "c794e731-248a-4100-ad00-ab913fb91ed5",
   "metadata": {},
   "outputs": [],
   "source": [
    "print(json.dumps(json.loads(result[0][\"thought3\"]), indent=4))"
   ]
  },
  {
   "cell_type": "code",
   "execution_count": null,
   "id": "ecddce59-93ed-4be2-ada3-ec9252d3f1ef",
   "metadata": {},
   "outputs": [],
   "source": [
    "print(json.dumps(json.loads(result[0][\"thought4\"]), indent=4))"
   ]
  },
  {
   "cell_type": "code",
   "execution_count": null,
   "id": "1b3d3a2a-219d-4ee5-ab1d-f487b085cc71",
   "metadata": {},
   "outputs": [],
   "source": [
    "result[0][\"result_graph\"]"
   ]
  },
  {
   "cell_type": "code",
   "execution_count": null,
   "id": "59758a08-a660-4b29-8a45-4be01e2f74cd",
   "metadata": {},
   "outputs": [],
   "source": [
    "query = \"Calculate the total parking charge for a Light Aircraft Parking (LAP) stand type at East Aerodrome Parking with no overnight parking. The parking duration is a variable with unit hours.\"\n",
    "charge_category = \"east_aerodrome_parking_charge\"\n",
    "\n",
    "result = create_computation_graph(model, query, charge_category)\n"
   ]
  },
  {
   "cell_type": "code",
   "execution_count": null,
   "id": "a2bf399c-0bb8-4cbb-8d9a-ed7e50267da6",
   "metadata": {},
   "outputs": [],
   "source": [
    "print(json.dumps(json.loads(result[0][\"thought4\"]), indent=4))"
   ]
  },
  {
   "cell_type": "code",
   "execution_count": null,
   "id": "0fe27295-9b59-4ed3-857f-e153d0e0f92c",
   "metadata": {},
   "outputs": [],
   "source": [
    "print(json.dumps(json.loads(result[0][\"thought3\"]), indent=4))"
   ]
  },
  {
   "cell_type": "code",
   "execution_count": null,
   "id": "645fbdf7-dffd-4569-8d8b-70b214053c94",
   "metadata": {},
   "outputs": [],
   "source": [
    "print(json.dumps(json.loads(result[0][\"thought2\"]), indent=4))"
   ]
  },
  {
   "cell_type": "code",
   "execution_count": null,
   "id": "cb6cb952-b187-42e6-ad21-463df6fa7078",
   "metadata": {},
   "outputs": [],
   "source": [
    "print(json.dumps(json.loads(result[0][\"thought1\"]), indent=4))"
   ]
  },
  {
   "cell_type": "code",
   "execution_count": null,
   "id": "1c5f167a-bfa4-4d48-9e2f-7801103d9ae3",
   "metadata": {},
   "outputs": [],
   "source": [
    "print(json.dumps(json.loads(result[0][\"result_graph\"]), indent=4))"
   ]
  },
  {
   "cell_type": "code",
   "execution_count": null,
   "id": "b891215c-2ddb-40fd-9844-9b75dd72c510",
   "metadata": {},
   "outputs": [],
   "source": [
    "query = \"Calculate the total parking charge for a Light Aircraft Parking (LAP) stand type at East Aerodrome Parking with no overnight parking. The parking duration is a variable with unit hours.\"\n",
    "charge_category = \"east_aerodrome_parking_charge\"\n",
    "\n",
    "result = create_computation_graph(model, query, charge_category)"
   ]
  }
 ],
 "metadata": {
  "kernelspec": {
   "display_name": "mlisp",
   "language": "python",
   "name": "python3"
  },
  "language_info": {
   "codemirror_mode": {
    "name": "ipython",
    "version": 3
   },
   "file_extension": ".py",
   "mimetype": "text/x-python",
   "name": "python",
   "nbconvert_exporter": "python",
   "pygments_lexer": "ipython3",
   "version": "3.11.0"
  }
 },
 "nbformat": 4,
 "nbformat_minor": 5
}
