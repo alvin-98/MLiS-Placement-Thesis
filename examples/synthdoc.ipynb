{
 "cells": [
  {
   "cell_type": "markdown",
   "id": "080e9293",
   "metadata": {},
   "source": [
    "# Example 1: Formula Creation"
   ]
  },
  {
   "cell_type": "code",
   "execution_count": 1,
   "id": "aa23db81",
   "metadata": {},
   "outputs": [],
   "source": [
    "from mlisplacement.synthdoc.structs.airports import CHARGES as AIRPORTS_CHARGES\n",
    "from mlisplacement.synthdoc.structs.airports import VARIABLES as AIRPORTS_VARIABLES\n",
    "from mlisplacement.synthdoc.structs.azure import CHARGES as AZURE_CHARGES\n",
    "from mlisplacement.synthdoc.structs.azure import VARIABLES as AZURE_VARIABLES\n",
    "\n",
    "from mlisplacement.synthdoc.function_creation import create_charge_func, generate_output_structure"
   ]
  },
  {
   "cell_type": "code",
   "execution_count": 2,
   "id": "d4cc8397",
   "metadata": {},
   "outputs": [
    {
     "data": {
      "text/plain": [
       "{'cpu_usage': {'description': 'The CPU usage during processing.',\n",
       "  'dtype': float,\n",
       "  'values': (0, 100.0),\n",
       "  'units': 'percentage',\n",
       "  'alternative_names': ['CPU load', 'CPU utilization']},\n",
       " 'processing_time': {'description': 'The time taken for processing.',\n",
       "  'dtype': float,\n",
       "  'values': (0, 3600.0),\n",
       "  'units': 'seconds',\n",
       "  'alternative_names': ['processing duration', 'execution time']},\n",
       " 'cpu_count': {'description': 'The number of CPUs used for processing.',\n",
       "  'dtype': int,\n",
       "  'values': (0, 64),\n",
       "  'units': 'CPUs',\n",
       "  'alternative_names': ['CPU cores', 'processor count']},\n",
       " 'cpu_type': {'description': 'The type of CPU used for processing.',\n",
       "  'dtype': str,\n",
       "  'values': ['Intel', 'AMD', 'ARM'],\n",
       "  'units': 'CPU type',\n",
       "  'alternative_names': ['processor type', 'CPU model']}}"
      ]
     },
     "execution_count": 2,
     "metadata": {},
     "output_type": "execute_result"
    }
   ],
   "source": [
    "AZURE_VARIABLES"
   ]
  },
  {
   "cell_type": "code",
   "execution_count": 3,
   "id": "574f0951",
   "metadata": {},
   "outputs": [
    {
     "data": {
      "text/plain": [
       "{'cpu_compute': {'description': 'The charge associated with a CPU compute instance.',\n",
       "  'variables': ['cpu_usage', 'processing_time', 'cpu_count', 'cpu_type'],\n",
       "  'synonyms': ['CPU time', 'processing hours']}}"
      ]
     },
     "execution_count": 3,
     "metadata": {},
     "output_type": "execute_result"
    }
   ],
   "source": [
    "AZURE_CHARGES"
   ]
  },
  {
   "cell_type": "markdown",
   "id": "3f00a5ca",
   "metadata": {},
   "source": [
    "The following function creates a charge-function for a chosen charge"
   ]
  },
  {
   "cell_type": "code",
   "execution_count": 4,
   "id": "5cfd6f6f",
   "metadata": {},
   "outputs": [
    {
     "data": {
      "text/plain": [
       "('cpu_compute conditions by cpu_type and cpu_count:\\n\\nfor Intel the following charges apply:\\n  - if cpu_count in [0, 39), charge is 0 x cpu_count\\n  - if cpu_count in [39, 57), charge is 1 x cpu_count\\n  - if cpu_count in [57, 64), charge is 2 x cpu_count\\nfor AMD the following charges apply:\\n  - if cpu_count in [0, 39), charge is 0 x cpu_count\\n  - if cpu_count in [39, 57), charge is 2 x cpu_count\\n  - if cpu_count in [57, 64), charge is 4 x cpu_count\\nfor ARM the following charges apply:\\n  - if cpu_count in [0, 39), charge is 0 x cpu_count\\n  - if cpu_count in [39, 57), charge is 3 x cpu_count\\n  - if cpu_count in [57, 64), charge is 6 x cpu_count',\n",
       " \"def compute_charge(cpu_type, cpu_count):\\n    if cpu_type == 'Intel' and 0 <= cpu_count < 39: return 0 * cpu_count * 1\\n    elif cpu_type == 'Intel' and 39 <= cpu_count < 57: return 1 * cpu_count * 1\\n    elif cpu_type == 'Intel' and 57 <= cpu_count < 64: return 2 * cpu_count * 1\\n    elif cpu_type == 'AMD' and 0 <= cpu_count < 39: return 0 * cpu_count * 2\\n    elif cpu_type == 'AMD' and 39 <= cpu_count < 57: return 1 * cpu_count * 2\\n    elif cpu_type == 'AMD' and 57 <= cpu_count < 64: return 2 * cpu_count * 2\\n    elif cpu_type == 'ARM' and 0 <= cpu_count < 39: return 0 * cpu_count * 3\\n    elif cpu_type == 'ARM' and 39 <= cpu_count < 57: return 1 * cpu_count * 3\\n    elif cpu_type == 'ARM' and 57 <= cpu_count < 64: return 2 * cpu_count * 3\\n    else: raise ValueError(f'cpu_type or cpu_count is out of expected range')\",\n",
       " ['cpu_type', 'cpu_count'])"
      ]
     },
     "execution_count": 4,
     "metadata": {},
     "output_type": "execute_result"
    }
   ],
   "source": [
    "create_charge_func(\"cpu_compute\", AZURE_CHARGES, AZURE_VARIABLES)"
   ]
  },
  {
   "cell_type": "markdown",
   "id": "48477c4d",
   "metadata": {},
   "source": [
    "The following function creates a charge-function for all charges in the given structure."
   ]
  },
  {
   "cell_type": "code",
   "execution_count": 5,
   "id": "e3150376",
   "metadata": {},
   "outputs": [],
   "source": [
    "charges = generate_output_structure(AZURE_CHARGES, AZURE_VARIABLES)"
   ]
  },
  {
   "cell_type": "code",
   "execution_count": 6,
   "id": "4942aab2",
   "metadata": {},
   "outputs": [
    {
     "data": {
      "text/plain": [
       "{'cpu_compute': {'description': 'cpu_compute conditions by processor type and CPU load:\\n\\nfor Intel the following charges apply:\\n  - if CPU load in [0.0, 5.0), charge is 0.0 x CPU load\\n  - if CPU load in [5.0, 38.3), charge is 1.0 x CPU load\\n  - if CPU load in [38.3, 40.5), charge is 2.0 x CPU load\\n  - if CPU load in [40.5, 100.0), charge is 3.0 x CPU load\\nfor AMD the following charges apply:\\n  - if CPU load in [0.0, 5.0), charge is 0.0 x CPU load\\n  - if CPU load in [5.0, 38.3), charge is 1.1 x CPU load\\n  - if CPU load in [38.3, 40.5), charge is 2.2 x CPU load\\n  - if CPU load in [40.5, 100.0), charge is 3.3 x CPU load\\nfor ARM the following charges apply:\\n  - if CPU load in [0.0, 5.0), charge is 0.0 x CPU load\\n  - if CPU load in [5.0, 38.3), charge is 1.2 x CPU load\\n  - if CPU load in [38.3, 40.5), charge is 2.4 x CPU load\\n  - if CPU load in [40.5, 100.0), charge is 3.6 x CPU load',\n",
       "  'code': \"def compute_charge(cpu_type, cpu_usage):\\n    if cpu_type == 'Intel' and 0.0 <= cpu_usage < 5.0: return 0 * cpu_usage * 1.0\\n    elif cpu_type == 'Intel' and 5.0 <= cpu_usage < 38.3: return 1 * cpu_usage * 1.0\\n    elif cpu_type == 'Intel' and 38.3 <= cpu_usage < 40.5: return 2 * cpu_usage * 1.0\\n    elif cpu_type == 'Intel' and 40.5 <= cpu_usage < 100.0: return 3 * cpu_usage * 1.0\\n    elif cpu_type == 'AMD' and 0.0 <= cpu_usage < 5.0: return 0 * cpu_usage * 1.1\\n    elif cpu_type == 'AMD' and 5.0 <= cpu_usage < 38.3: return 1 * cpu_usage * 1.1\\n    elif cpu_type == 'AMD' and 38.3 <= cpu_usage < 40.5: return 2 * cpu_usage * 1.1\\n    elif cpu_type == 'AMD' and 40.5 <= cpu_usage < 100.0: return 3 * cpu_usage * 1.1\\n    elif cpu_type == 'ARM' and 0.0 <= cpu_usage < 5.0: return 0 * cpu_usage * 1.2\\n    elif cpu_type == 'ARM' and 5.0 <= cpu_usage < 38.3: return 1 * cpu_usage * 1.2\\n    elif cpu_type == 'ARM' and 38.3 <= cpu_usage < 40.5: return 2 * cpu_usage * 1.2\\n    elif cpu_type == 'ARM' and 40.5 <= cpu_usage < 100.0: return 3 * cpu_usage * 1.2\\n    else: raise ValueError(f'cpu_type or cpu_usage is out of expected range')\",\n",
       "  'variables_used': ['cpu_type', 'cpu_usage'],\n",
       "  'synonyms': ['CPU time', 'processing hours'],\n",
       "  'charge_description': 'The charge associated with a CPU compute instance.'}}"
      ]
     },
     "execution_count": 6,
     "metadata": {},
     "output_type": "execute_result"
    }
   ],
   "source": [
    "charges"
   ]
  },
  {
   "cell_type": "markdown",
   "id": "ba855633",
   "metadata": {},
   "source": [
    "# Example 2: Generate Document from Structured Charges"
   ]
  },
  {
   "cell_type": "code",
   "execution_count": 7,
   "id": "be3a54e6",
   "metadata": {},
   "outputs": [],
   "source": [
    "from mlisplacement.synthdoc.llm_gen import LLMClient, generate_document_from_json"
   ]
  },
  {
   "cell_type": "code",
   "execution_count": 8,
   "id": "c6091c6d",
   "metadata": {},
   "outputs": [
    {
     "name": "stderr",
     "output_type": "stream",
     "text": [
      "Device set to use cuda:0\n"
     ]
    }
   ],
   "source": [
    "model = LLMClient(\n",
    "    model_name=\"meta-llama/Llama-3.2-1B-Instruct\", # Example model, replace with your choice/one for which you have access\n",
    ")"
   ]
  },
  {
   "cell_type": "code",
   "execution_count": 12,
   "id": "e77e6d66",
   "metadata": {},
   "outputs": [
    {
     "name": "stderr",
     "output_type": "stream",
     "text": [
      "You seem to be using the pipelines sequentially on GPU. In order to maximize efficiency please use a dataset\n"
     ]
    }
   ],
   "source": [
    "doc, answers, names = generate_document_from_json(\n",
    "    client=model,\n",
    "    charges_dict=charges)"
   ]
  },
  {
   "cell_type": "code",
   "execution_count": 13,
   "id": "a0f524fe",
   "metadata": {},
   "outputs": [
    {
     "data": {
      "text/plain": [
       "'# Blue Horizon Airport Charging Policy Document\\n\\n<table>\\n  <tr>\\n    <th>Category</th>\\n    <th>Service</th>\\n    <th>Rate</th>\\n    <th>Frequency</th>\\n  </tr>\\n  <tr>\\n    <td>General Admission</td>\\n    <td>Upon arrival and departure</td>\\n    <td>$X.XX per person</td>\\n    <td>Every day</td>\\n  </tr>\\n  <tr>\\n    <td>Security Checkpoint</td>\\n    <td>Before boarding</td>\\n    <td>$X.XX per person</td>\\n    <td>Every day</td>\\n  </tr>\\n  <tr>\\n    <td>Baggage Handling\\n\\n## <table>\\n  <tr>\\n    <th>Section</th>\\n    <th>Charge\\n\\n<table border=\"1\" cellpadding=\"8\" cellspacing=\"0\" style=\"border-collapse: collapse; text-align: center; font-family: Arial, sans-serif; width: 100%;\">\\n  <caption style=\"font-weight: bold; font-size: 1.2em; margin-bottom: 10px;\">Processor Load Charges by CPU Type</caption>\\n  <thead>\\n    <tr>\\n      <th><strong>CPU Load (%)</th>\\n      <th><strong>Processor Type</th>\\n      <th><strong>Cargo Rate</th>\\n      <th><strong>Private Rate</th>\\n      <th><strong>Military Rate</th>\\n    </tr>\\n  </thead>\\n  <tbody>\\n    <tr>\\n      <td>0.0 - 5.0</td>\\n      <td>0.0 x CPU load</td>\\n      <td>0.0 x CPU load</td>\\n      <td>0.0 x CPU load</td>\\n      <td>0.0 x CPU load</td>\\n    </tr>\\n    <tr>\\n      <td>5.0 - 38.3</td>\\n      <td>1.0 x CPU load</td>\\n      <td>1.1 x CPU load</td>\\n      <td>1.2 x CPU load</td>\\n      <td>1.3 x CPU load</td>\\n    </tr>\\n    <tr>\\n      <td>38.3 - 40.5</td>\\n      <td>2.0 x CPU load</td>\\n      <td>2.2 x CPU load</td>\\n      <td>2.4 x CPU load</td>\\n      <td>2.6 x CPU load</td>\\n    </tr>\\n    <tr>\\n      <td>40.5 - 100.0</td>\\n      <td>3.0 x CPU load</td>\\n      <td>3.3 x CPU load</td>\\n      <td>3.6 x CPU load</td>\\n      <td>3.9 x CPU load</td>\\n    </tr>\\n  </tbody>\\n</table>\\n\\n<table>\\n  <tr>\\n    <th>Service</th>\\n    <th>Rate</th>\\n    <th>Duration</th>\\n    <th>Payment Methods</th>\\n    <th>Cancellation Policy</th>\\n  </tr>\\n  <tr>\\n    <td>Baggage Handling</td>\\n    <td>USD $X.XX per pound</td>\\n    <td>One 24-hour notice</td>\\n    <td>Online, phone, or in-person at the airport terminal</td>\\n    <td>7 days prior to baggage pickup</td>\\n  </tr>\\n  <tr>\\n    <td>Food and Beverages</td>\\n    <td>USD $Y.X\\n\\n**Policy Effective Date:** August 14, 2025\\n\\n'"
      ]
     },
     "execution_count": 13,
     "metadata": {},
     "output_type": "execute_result"
    }
   ],
   "source": [
    "doc"
   ]
  },
  {
   "cell_type": "code",
   "execution_count": 14,
   "id": "f4f3431b",
   "metadata": {},
   "outputs": [
    {
     "data": {
      "text/plain": [
       "[\"def compute_charge(cpu_type, cpu_usage):\\n    if cpu_type == 'Intel' and 0.0 <= cpu_usage < 5.0: return 0 * cpu_usage * 1.0\\n    elif cpu_type == 'Intel' and 5.0 <= cpu_usage < 38.3: return 1 * cpu_usage * 1.0\\n    elif cpu_type == 'Intel' and 38.3 <= cpu_usage < 40.5: return 2 * cpu_usage * 1.0\\n    elif cpu_type == 'Intel' and 40.5 <= cpu_usage < 100.0: return 3 * cpu_usage * 1.0\\n    elif cpu_type == 'AMD' and 0.0 <= cpu_usage < 5.0: return 0 * cpu_usage * 1.1\\n    elif cpu_type == 'AMD' and 5.0 <= cpu_usage < 38.3: return 1 * cpu_usage * 1.1\\n    elif cpu_type == 'AMD' and 38.3 <= cpu_usage < 40.5: return 2 * cpu_usage * 1.1\\n    elif cpu_type == 'AMD' and 40.5 <= cpu_usage < 100.0: return 3 * cpu_usage * 1.1\\n    elif cpu_type == 'ARM' and 0.0 <= cpu_usage < 5.0: return 0 * cpu_usage * 1.2\\n    elif cpu_type == 'ARM' and 5.0 <= cpu_usage < 38.3: return 1 * cpu_usage * 1.2\\n    elif cpu_type == 'ARM' and 38.3 <= cpu_usage < 40.5: return 2 * cpu_usage * 1.2\\n    elif cpu_type == 'ARM' and 40.5 <= cpu_usage < 100.0: return 3 * cpu_usage * 1.2\\n    else: raise ValueError(f'cpu_type or cpu_usage is out of expected range')\"]"
      ]
     },
     "execution_count": 14,
     "metadata": {},
     "output_type": "execute_result"
    }
   ],
   "source": [
    "answers"
   ]
  },
  {
   "cell_type": "code",
   "execution_count": 15,
   "id": "3f17cb09",
   "metadata": {},
   "outputs": [
    {
     "data": {
      "text/plain": [
       "['cpu_compute']"
      ]
     },
     "execution_count": 15,
     "metadata": {},
     "output_type": "execute_result"
    }
   ],
   "source": [
    "names"
   ]
  }
 ],
 "metadata": {
  "kernelspec": {
   "display_name": "mlisp",
   "language": "python",
   "name": "python3"
  },
  "language_info": {
   "codemirror_mode": {
    "name": "ipython",
    "version": 3
   },
   "file_extension": ".py",
   "mimetype": "text/x-python",
   "name": "python",
   "nbconvert_exporter": "python",
   "pygments_lexer": "ipython3",
   "version": "3.11.0"
  }
 },
 "nbformat": 4,
 "nbformat_minor": 5
}
