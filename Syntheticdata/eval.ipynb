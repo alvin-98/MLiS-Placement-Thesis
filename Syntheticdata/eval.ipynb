{
 "cells": [
  {
   "cell_type": "code",
   "execution_count": 40,
   "id": "7579a37a",
   "metadata": {},
   "outputs": [
    {
     "name": "stdout",
     "output_type": "stream",
     "text": [
      "                                            func_def  \\\n",
      "0  def calculate_total_fee(qc_value: float, tonna...   \n",
      "1  def calculate_total_fee(qc_value: float, tonna...   \n",
      "\n",
      "                          func_call_1                       func_call_2  \\\n",
      "0  calculate_total_fee(1, 2, 'night')  calculate_total_fee(2, 4, 'day')   \n",
      "1  calculate_total_fee(1, 2, 'night')  calculate_total_fee(2, 4, 'day')   \n",
      "\n",
      "   ground_truth_1  ground_truth_2  output1  output2  output3  \n",
      "0            16.0           163.0     16.0     60.0    False  \n",
      "1           162.0           100.0    162.0    100.0     True  \n"
     ]
    }
   ],
   "source": [
    "import pandas as pd\n",
    "\n",
    "data = {\n",
    "    'func_def': [\n",
    "        '''def calculate_total_fee(qc_value: float, tonnage: float, time_period: str = 'day') -> float:\n",
    "    fees = {\n",
    "        0.0: {'day': 5.00, 'night': 4.00},\n",
    "        1.0: {'day': 10.00, 'night': 8.00},\n",
    "        2.0: {'day': 15.00, 'night': 12.00},\n",
    "    }\n",
    "    if qc_value not in fees:\n",
    "        raise ValueError(f\"QC value {qc_value} not found.\")\n",
    "    if time_period not in ['day', 'night']:\n",
    "        raise ValueError(\"time_period must be 'day' or 'night'\")\n",
    "    return fees[qc_value][time_period] * tonnage''',\n",
    "        '''def calculate_total_fee(qc_value: float, tonnage: float, time_period: str = 'day') -> float:\n",
    "    fees = {\n",
    "        0.0: {'day': 8.00, 'night': 43.00},\n",
    "        1.0: {'day': 20.00, 'night': 81.00},\n",
    "        2.0: {'day': 25.00, 'night': 22.00},\n",
    "    }\n",
    "\n",
    "    if qc_value not in fees:\n",
    "        raise ValueError(f\"QC value {qc_value} not found.\")\n",
    "    if time_period not in ['day', 'night']:\n",
    "        raise ValueError(\"time_period must be 'day' or 'night'\")\n",
    "\n",
    "    return fees[qc_value][time_period] * tonnage'''\n",
    "    ],\n",
    "    'func_call_1': [\n",
    "        \"calculate_total_fee(1, 2, 'night')\",\n",
    "        \"calculate_total_fee(1, 2, 'night')\"\n",
    "    ],\n",
    "    'func_call_2': [\n",
    "        \"calculate_total_fee(2, 4, 'day')\",\n",
    "        \"calculate_total_fee(2, 4, 'day')\"\n",
    "    ],\n",
    "    'ground_truth_1': [\n",
    "        16.0,\n",
    "        162.0\n",
    "    ],\n",
    "    'ground_truth_2': [\n",
    "        163.0,\n",
    "        100.0\n",
    "    ]\n",
    "}\n",
    "\n",
    "df = pd.DataFrame(data)\n",
    "outputs = []\n",
    "outputs2=[]\n",
    "for i, row in df.iterrows():\n",
    "    local_vars = {}\n",
    "    exec(row['func_def'], {}, local_vars)\n",
    "    output = eval(row['func_call_1'], {}, local_vars)\n",
    "    outputs.append(output)\n",
    "    output2 = eval(row['func_call_2'], {}, local_vars)\n",
    "    outputs2.append(output2)\n",
    "\n",
    "df['output1'] = outputs\n",
    "df['output2'] = outputs2\n",
    "\n",
    "correct = []\n",
    "for i, row in df.iterrows():\n",
    "    correct.append(row['output1']==row['ground_truth_1'] and row['output2']==row['ground_truth_2'])\n",
    "df['output3'] = correct   \n",
    "print(df)\n",
    "    \n",
    "df.to_csv('dummydata.csv')\n",
    "\n"
   ]
  },
  {
   "cell_type": "code",
   "execution_count": null,
   "id": "e9951b28",
   "metadata": {},
   "outputs": [],
   "source": []
  }
 ],
 "metadata": {
  "kernelspec": {
   "display_name": "nlp",
   "language": "python",
   "name": "python3"
  },
  "language_info": {
   "codemirror_mode": {
    "name": "ipython",
    "version": 3
   },
   "file_extension": ".py",
   "mimetype": "text/x-python",
   "name": "python",
   "nbconvert_exporter": "python",
   "pygments_lexer": "ipython3",
   "version": "3.10.16"
  }
 },
 "nbformat": 4,
 "nbformat_minor": 5
}
