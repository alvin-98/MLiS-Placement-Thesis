{
 "cells": [
  {
   "cell_type": "code",
   "execution_count": 1,
   "id": "78c53487-f5de-408e-a851-3c942e73b706",
   "metadata": {},
   "outputs": [
    {
     "name": "stdout",
     "output_type": "stream",
     "text": [
      "CUDA_HOME: /gpfs01/software/easybuild-ada-uon/software/CUDA/12.4.0\n",
      "PATH: /gpfs01/software/easybuild-ada-uon/software/CUDA/12.4.0/bin:/gpfs01/home/ppxac9/.cache/uv/archive-v0/Y1QAVUHYmhwum3_WJG_hu/bin:/gpfs01/home/ppxac9/MLiS-Placement-Thesis/pipeline/optimizing_inference/sgLang/.venv/bin:/gpfs01/software/easybuild-ada-uon/software/CUDA/12.4.0/nvvm/bin:/gpfs01/software/easybuild-ada-uon/software/CUDA/12.4.0/bin:/gpfs01/software/easybuild-ada-uon/software/Clang/16.0.6-GCCcore-12.3.0/bin:/gpfs01/software/easybuild-ada-uon/software/Z3/4.12.2-GCCcore-12.3.0/bin:/gpfs01/software/easybuild-ada-uon/software/ncurses/6.4-GCCcore-12.3.0/bin:/gpfs01/software/easybuild-ada-uon/software/libxml2/2.11.4-GCCcore-12.3.0/bin:/gpfs01/software/easybuild-ada-uon/software/XZ/5.4.2-GCCcore-12.3.0/bin:/gpfs01/software/easybuild-ada-uon/software/GCCcore/12.3.0/bin:/gpfs01/software/easybuild-ada-uon/software/hwloc/2.9.1-GCCcore-12.3.0/sbin:/gpfs01/software/easybuild-ada-uon/software/hwloc/2.9.1-GCCcore-12.3.0/bin:/gpfs01/software/easybuild-ada-uon/software/numactl/2.0.16-GCCcore-12.3.0/bin:/gpfs01/software/easybuild-ada-uon/software/binutils/2.40-GCCcore-12.3.0/bin:/opt/slurm/23.02.6/bin:/opt/slurm/23.02.6/sbin:/gpfs01/home/ppxac9/MLiS-Placement-Thesis/pipeline/optimizing_inference/sgLang/.venv/bin:/gpfs01/home/ppxac9/.windsurf-server/bin/b8f002c02d165600299a109bf21d02d139c52644/bin/remote-cli:/gpfs01/home/ppxac9/.local/bin:/gpfs01/home/ppxac9/bin:/usr/share/Modules/bin:/usr/local/bin:/usr/bin:/usr/local/sbin:/usr/sbin:/usr/lpp/mmfs/bin:/gpfs01/home/ppxac9/.windsurf-server/extensions/ms-python.debugpy-2025.6.0-linux-x64/bundled/scripts/noConfigScripts\n",
      "LD_LIBRARY_PATH: /gpfs01/software/easybuild-ada-uon/software/CUDA/12.4.0/lib:/gpfs01/software/easybuild-ada-uon/software/CUDA/12.4.0/extras/CUPTI/lib64:/gpfs01/software/easybuild-ada-uon/software/CUDA/12.4.0/nvvm/lib64:/gpfs01/software/easybuild-ada-uon/software/CUDA/12.4.0/nvvm/lib64:/gpfs01/software/easybuild-ada-uon/software/CUDA/12.4.0/extras/CUPTI/lib64:/gpfs01/software/easybuild-ada-uon/software/CUDA/12.4.0/lib:/gpfs01/software/easybuild-ada-uon/software/Clang/16.0.6-GCCcore-12.3.0/lib/x86_64-unknown-linux-gnu:/gpfs01/software/easybuild-ada-uon/software/Clang/16.0.6-GCCcore-12.3.0/lib:/gpfs01/software/easybuild-ada-uon/software/Z3/4.12.2-GCCcore-12.3.0/lib:/gpfs01/software/easybuild-ada-uon/software/GMP/6.2.1-GCCcore-12.3.0/lib:/gpfs01/software/easybuild-ada-uon/software/ncurses/6.4-GCCcore-12.3.0/lib:/gpfs01/software/easybuild-ada-uon/software/libxml2/2.11.4-GCCcore-12.3.0/lib:/gpfs01/software/easybuild-ada-uon/software/zlib/1.2.13-GCCcore-12.3.0/lib:/gpfs01/software/easybuild-ada-uon/software/XZ/5.4.2-GCCcore-12.3.0/lib:/gpfs01/software/easybuild-ada-uon/software/GCCcore/12.3.0/lib64:/gpfs01/software/easybuild-ada-uon/software/hwloc/2.9.1-GCCcore-12.3.0/lib:/gpfs01/software/easybuild-ada-uon/software/libpciaccess/0.17-GCCcore-12.3.0/lib:/gpfs01/software/easybuild-ada-uon/software/numactl/2.0.16-GCCcore-12.3.0/lib:/gpfs01/software/easybuild-ada-uon/software/binutils/2.40-GCCcore-12.3.0/lib:/opt/slurm/23.02.6/lib\n",
      "CC: clang\n",
      "CXX: clang++\n",
      "TRITON_BUILD_WITH_CLANG_LLD: 1\n",
      "nvcc version:\n",
      "nvcc: NVIDIA (R) Cuda compiler driver\n",
      "Copyright (c) 2005-2024 NVIDIA Corporation\n",
      "Built on Tue_Feb_27_16:19:38_PST_2024\n",
      "Cuda compilation tools, release 12.4, V12.4.99\n",
      "Build cuda_12.4.r12.4/compiler.33961263_0\n",
      "clang version:\n",
      "clang version 16.0.6\n",
      "Target: x86_64-unknown-linux-gnu\n",
      "Thread model: posix\n",
      "InstalledDir: /gpfs01/software/easybuild-ada-uon/software/Clang/16.0.6-GCCcore-12.3.0/bin\n"
     ]
    },
    {
     "name": "stderr",
     "output_type": "stream",
     "text": [
      "W0820 01:30:08.435000 4095974 torch/utils/cpp_extension.py:2425] TORCH_CUDA_ARCH_LIST is not set, all archs for visible cards are included for compilation. \n",
      "W0820 01:30:08.435000 4095974 torch/utils/cpp_extension.py:2425] If this is not desired, please set os.environ['TORCH_CUDA_ARCH_LIST'] to specific architectures.\n",
      "W0820 01:30:14.924000 4096104 .venv/lib/python3.12/site-packages/torch/utils/cpp_extension.py:2425] TORCH_CUDA_ARCH_LIST is not set, all archs for visible cards are included for compilation. \n",
      "W0820 01:30:14.924000 4096104 .venv/lib/python3.12/site-packages/torch/utils/cpp_extension.py:2425] If this is not desired, please set os.environ['TORCH_CUDA_ARCH_LIST'] to specific architectures.\n",
      "W0820 01:30:15.296000 4096107 .venv/lib/python3.12/site-packages/torch/utils/cpp_extension.py:2425] TORCH_CUDA_ARCH_LIST is not set, all archs for visible cards are included for compilation. \n",
      "W0820 01:30:15.296000 4096107 .venv/lib/python3.12/site-packages/torch/utils/cpp_extension.py:2425] If this is not desired, please set os.environ['TORCH_CUDA_ARCH_LIST'] to specific architectures.\n"
     ]
    },
    {
     "name": "stdout",
     "output_type": "stream",
     "text": [
      "[Gloo] Rank 1 is connected to 1 peer ranks. Expected number of connected peer ranks is : 1\n",
      "[Gloo] Rank 0 is connected to 1 peer ranks. Expected number of connected peer ranks is : 1\n",
      "[Gloo] Rank 1 is connected to 1 peer ranks. Expected number of connected peer ranks is : 1\n",
      "[Gloo] Rank 0 is connected to 1 peer ranks. Expected number of connected peer ranks is : 1\n",
      "[Gloo] Rank 0 is connected to 0 peer ranks. Expected number of connected peer ranks is : 0\n",
      "[Gloo] Rank 0 is connected to 0 peer ranks. Expected number of connected peer ranks is : 0\n",
      "[Gloo] Rank 1 is connected to 1 peer ranks. Expected number of connected peer ranks is : 1\n",
      "[Gloo] Rank 0 is connected to 1 peer ranks. Expected number of connected peer ranks is : 1\n",
      "[Gloo] Rank 0 is connected to 0 peer ranks. Expected number of connected peer ranks is : 0\n",
      "[Gloo] Rank 0 is connected to 0 peer ranks. Expected number of connected peer ranks is : 0\n",
      "[Gloo] Rank 0 is connected to 1 peer ranks. Expected number of connected peer ranks is : 1\n",
      "[Gloo] Rank 1 is connected to 1 peer ranks. Expected number of connected peer ranks is : 1\n"
     ]
    },
    {
     "name": "stderr",
     "output_type": "stream",
     "text": [
      "Loading safetensors checkpoint shards:   0% Completed | 0/16 [00:00<?, ?it/s]\n",
      "Loading safetensors checkpoint shards:   6% Completed | 1/16 [00:00<00:14,  1.01it/s]\n",
      "Loading safetensors checkpoint shards:  12% Completed | 2/16 [00:02<00:14,  1.00s/it]\n",
      "Loading safetensors checkpoint shards:  19% Completed | 3/16 [00:02<00:12,  1.02it/s]\n",
      "Loading safetensors checkpoint shards:  25% Completed | 4/16 [00:04<00:12,  1.04s/it]\n",
      "Loading safetensors checkpoint shards:  31% Completed | 5/16 [00:04<00:10,  1.02it/s]\n",
      "Loading safetensors checkpoint shards:  38% Completed | 6/16 [00:05<00:09,  1.08it/s]\n",
      "Loading safetensors checkpoint shards:  44% Completed | 7/16 [00:06<00:07,  1.13it/s]\n",
      "Loading safetensors checkpoint shards:  50% Completed | 8/16 [00:07<00:06,  1.17it/s]\n",
      "Loading safetensors checkpoint shards:  56% Completed | 9/16 [00:08<00:05,  1.19it/s]\n",
      "Loading safetensors checkpoint shards:  62% Completed | 10/16 [00:09<00:05,  1.20it/s]\n",
      "Loading safetensors checkpoint shards:  69% Completed | 11/16 [00:09<00:04,  1.22it/s]\n",
      "Loading safetensors checkpoint shards:  75% Completed | 12/16 [00:10<00:03,  1.23it/s]\n",
      "Loading safetensors checkpoint shards:  81% Completed | 13/16 [00:11<00:02,  1.22it/s]\n",
      "Loading safetensors checkpoint shards:  88% Completed | 14/16 [00:12<00:01,  1.22it/s]\n",
      "Loading safetensors checkpoint shards:  94% Completed | 15/16 [00:13<00:00,  1.22it/s]\n",
      "Loading safetensors checkpoint shards: 100% Completed | 16/16 [00:13<00:00,  1.58it/s]\n",
      "Loading safetensors checkpoint shards: 100% Completed | 16/16 [00:13<00:00,  1.21it/s]\n",
      "\n",
      "Capturing batches (bs=160 avail_mem=4.64 GB):   0%|          | 0/23 [00:00<?, ?it/s]/tmp/tmpjm1d9h84/__triton_launcher.c:223:22: warning: passing 'unsigned char *' to parameter of type 'char *' converts between pointers to integer types where one is of the unique plain 'char' type and the other is not [-Wpointer-sign]\n",
      "    PyFloat_Pack2(f, (unsigned char*)&result, 1);\n",
      "                     ^~~~~~~~~~~~~~~~~~~~~~~\n",
      "/gpfs01/home/ppxac9/.local/share/uv/python/cpython-3.12.11-linux-x86_64-gnu/include/python3.12/cpython/floatobject.h:21:47: note: passing argument to parameter 'p' here\n",
      "PyAPI_FUNC(int) PyFloat_Pack2(double x, char *p, int le);\n",
      "                                              ^\n",
      "/tmp/tmpyka16mx_/__triton_launcher.c:223:22: warning: passing 'unsigned char *' to parameter of type 'char *' converts between pointers to integer types where one is of the unique plain 'char' type and the other is not [-Wpointer-sign]\n",
      "    PyFloat_Pack2(f, (unsigned char*)&result, 1);\n",
      "                     ^~~~~~~~~~~~~~~~~~~~~~~\n",
      "/gpfs01/home/ppxac9/.local/share/uv/python/cpython-3.12.11-linux-x86_64-gnu/include/python3.12/cpython/floatobject.h:21:47: note: passing argument to parameter 'p' here\n",
      "PyAPI_FUNC(int) PyFloat_Pack2(double x, char *p, int le);\n",
      "                                              ^\n",
      "1 warning generated.\n",
      "1 warning generated.\n",
      "/tmp/tmpapby1mze/__triton_launcher.c:223:22: warning: passing 'unsigned char *' to parameter of type 'char *' converts between pointers to integer types where one is of the unique plain 'char' type and the other is not [-Wpointer-sign]\n",
      "    PyFloat_Pack2(f, (unsigned char*)&result, 1);\n",
      "                     ^~~~~~~~~~~~~~~~~~~~~~~\n",
      "/gpfs01/home/ppxac9/.local/share/uv/python/cpython-3.12.11-linux-x86_64-gnu/include/python3.12/cpython/floatobject.h:21:47: note: passing argument to parameter 'p' here\n",
      "PyAPI_FUNC(int) PyFloat_Pack2(double x, char *p, int le);\n",
      "                                              ^\n",
      "/tmp/tmpyhxx8sig/__triton_launcher.c:223:22: warning: passing 'unsigned char *' to parameter of type 'char *' converts between pointers to integer types where one is of the unique plain 'char' type and the other is not [-Wpointer-sign]\n",
      "    PyFloat_Pack2(f, (unsigned char*)&result, 1);\n",
      "                     ^~~~~~~~~~~~~~~~~~~~~~~\n",
      "/gpfs01/home/ppxac9/.local/share/uv/python/cpython-3.12.11-linux-x86_64-gnu/include/python3.12/cpython/floatobject.h:21:47: note: passing argument to parameter 'p' here\n",
      "PyAPI_FUNC(int) PyFloat_Pack2(double x, char *p, int le);\n",
      "                                              ^\n",
      "1 warning generated.\n",
      "1 warning generated.\n",
      "/tmp/tmpc_7ggqkz/__triton_launcher.c:223:22: warning: passing 'unsigned char *' to parameter of type 'char *' converts between pointers to integer types where one is of the unique plain 'char' type and the other is not [-Wpointer-sign]\n",
      "    PyFloat_Pack2(f, (unsigned char*)&result, 1);\n",
      "                     ^~~~~~~~~~~~~~~~~~~~~~~\n",
      "/gpfs01/home/ppxac9/.local/share/uv/python/cpython-3.12.11-linux-x86_64-gnu/include/python3.12/cpython/floatobject.h:21:47: note: passing argument to parameter 'p' here\n",
      "PyAPI_FUNC(int) PyFloat_Pack2(double x, char *p, int le);\n",
      "                                              ^\n",
      "/tmp/tmpc8f07ri8/__triton_launcher.c:223:22: warning: passing 'unsigned char *' to parameter of type 'char *' converts between pointers to integer types where one is of the unique plain 'char' type and the other is not [-Wpointer-sign]\n",
      "    PyFloat_Pack2(f, (unsigned char*)&result, 1);\n",
      "                     ^~~~~~~~~~~~~~~~~~~~~~~\n",
      "/gpfs01/home/ppxac9/.local/share/uv/python/cpython-3.12.11-linux-x86_64-gnu/include/python3.12/cpython/floatobject.h:21:47: note: passing argument to parameter 'p' here\n",
      "PyAPI_FUNC(int) PyFloat_Pack2(double x, char *p, int le);\n",
      "                                              ^\n",
      "1 warning generated.\n",
      "1 warning generated.\n",
      "Capturing batches (bs=1 avail_mem=4.01 GB): 100%|██████████| 23/23 [00:31<00:00,  1.38s/it] \n"
     ]
    }
   ],
   "source": [
    "import os\n",
    "import shutil\n",
    "import nest_asyncio\n",
    "import asyncio\n",
    "import json\n",
    "from pydantic import BaseModel, Field\n",
    "import sglang as sgl\n",
    "nest_asyncio.apply()\n",
    "# Set CUDA environment from module show output\n",
    "os.environ[\"CUDA_HOME\"] = \"/gpfs01/software/easybuild-ada-uon/software/CUDA/12.4.0\"\n",
    "os.environ[\"PATH\"] = f\"/gpfs01/software/easybuild-ada-uon/software/CUDA/12.4.0/bin:{os.environ.get('PATH', '')}\"\n",
    "os.environ[\"LD_LIBRARY_PATH\"] = f\"/gpfs01/software/easybuild-ada-uon/software/CUDA/12.4.0/lib:/gpfs01/software/easybuild-ada-uon/software/CUDA/12.4.0/extras/CUPTI/lib64:/gpfs01/software/easybuild-ada-uon/software/CUDA/12.4.0/nvvm/lib64:{os.environ.get('LD_LIBRARY_PATH', '')}\"\n",
    "os.environ[\"OUTLINES_CACHE_DIR\"] = f\"/tmp/sglang_cache_{os.getpid()}\"  # Unique cache dir for Jupyter\n",
    "os.environ[\"SGL_DISABLE_TP_MEMORY_INBALANCE_CHECK\"] = \"True\"  # For mixed GPU memory\n",
    "\n",
    "# Clear caches\n",
    "shutil.rmtree(os.path.expanduser(\"~/.cache/flashinfer\"), ignore_errors=True)\n",
    "shutil.rmtree(os.path.expanduser(\"~/.triton\"), ignore_errors=True)\n",
    "shutil.rmtree(os.path.expanduser(\"~/.cache/triton\"), ignore_errors=True)\n",
    "\n",
    "# Verify environment\n",
    "print(\"CUDA_HOME:\", os.environ.get(\"CUDA_HOME\"))\n",
    "print(\"PATH:\", os.environ.get(\"PATH\"))\n",
    "print(\"LD_LIBRARY_PATH:\", os.environ.get(\"LD_LIBRARY_PATH\"))\n",
    "print(\"CC:\", os.environ.get(\"CC\"))\n",
    "print(\"CXX:\", os.environ.get(\"CXX\"))\n",
    "print(\"TRITON_BUILD_WITH_CLANG_LLD:\", os.environ.get(\"TRITON_BUILD_WITH_CLANG_LLD\"))\n",
    "print(\"nvcc version:\")\n",
    "os.system(\"nvcc --version\")\n",
    "print(\"clang version:\")\n",
    "os.system(\"clang --version\")\n",
    "\n",
    "import sglang as sgl\n",
    "\n",
    "llm = sgl.Engine(\n",
    "    model_path=\"Qwen/Qwen3-30B-A3B-Instruct-2507\", grammar_backend=\"llguidance\", tp_size=2, \n",
    ")"
   ]
  },
  {
   "cell_type": "code",
   "execution_count": 2,
   "id": "cafbd2e3",
   "metadata": {},
   "outputs": [
    {
     "name": "stderr",
     "output_type": "stream",
     "text": [
      "/tmp/tmp6e91z74h/__triton_launcher.c:223:22: warning: passing 'unsigned char *' to parameter of type 'char *' converts between pointers to integer types where one is of the unique plain 'char' type and the other is not [-Wpointer-sign]\n",
      "    PyFloat_Pack2(f, (unsigned char*)&result, 1);\n",
      "                     ^~~~~~~~~~~~~~~~~~~~~~~\n",
      "/gpfs01/home/ppxac9/.local/share/uv/python/cpython-3.12.11-linux-x86_64-gnu/include/python3.12/cpython/floatobject.h:21:47: note: passing argument to parameter 'p' here\n",
      "PyAPI_FUNC(int) PyFloat_Pack2(double x, char *p, int le);\n",
      "                                              ^\n",
      "/tmp/tmpsrfe7pus/__triton_launcher.c:223:22: warning: passing 'unsigned char *' to parameter of type 'char *' converts between pointers to integer types where one is of the unique plain 'char' type and the other is not [-Wpointer-sign]\n",
      "    PyFloat_Pack2(f, (unsigned char*)&result, 1);\n",
      "                     ^~~~~~~~~~~~~~~~~~~~~~~\n",
      "/gpfs01/home/ppxac9/.local/share/uv/python/cpython-3.12.11-linux-x86_64-gnu/include/python3.12/cpython/floatobject.h:21:47: note: passing argument to parameter 'p' here\n",
      "PyAPI_FUNC(int) PyFloat_Pack2(double x, char *p, int le);\n",
      "                                              ^\n",
      "1 warning generated.\n",
      "1 warning generated.\n",
      "/tmp/tmpogl68jjc/__triton_launcher.c:223:22: warning: passing 'unsigned char *' to parameter of type 'char *' converts between pointers to integer types where one is of the unique plain 'char' type and the other is not [-Wpointer-sign]\n",
      "    PyFloat_Pack2(f, (unsigned char*)&result, 1);\n",
      "                     ^~~~~~~~~~~~~~~~~~~~~~~\n",
      "/gpfs01/home/ppxac9/.local/share/uv/python/cpython-3.12.11-linux-x86_64-gnu/include/python3.12/cpython/floatobject.h:21:47: note: passing argument to parameter 'p' here\n",
      "PyAPI_FUNC(int) PyFloat_Pack2(double x, char *p, int le);\n",
      "                                              ^\n",
      "1 warning generated.\n",
      "/tmp/tmp131fp1ty/__triton_launcher.c:223:22: warning: passing 'unsigned char *' to parameter of type 'char *' converts between pointers to integer types where one is of the unique plain 'char' type and the other is not [-Wpointer-sign]\n",
      "    PyFloat_Pack2(f, (unsigned char*)&result, 1);\n",
      "                     ^~~~~~~~~~~~~~~~~~~~~~~\n",
      "/gpfs01/home/ppxac9/.local/share/uv/python/cpython-3.12.11-linux-x86_64-gnu/include/python3.12/cpython/floatobject.h:21:47: note: passing argument to parameter 'p' here\n",
      "PyAPI_FUNC(int) PyFloat_Pack2(double x, char *p, int le);\n",
      "                                              ^\n",
      "1 warning generated.\n"
     ]
    },
    {
     "name": "stdout",
     "output_type": "stream",
     "text": [
      "===============================\n",
      "Prompt: Give me the information of the capital of China in the JSON format.\n",
      "Validated output: {\"name\":\"Beijing\",\"population\":21890000}\n",
      "===============================\n",
      "Prompt: Give me the information of the capital of France in the JSON format.\n",
      "Validated output: {\"name\":\"Paris\",\"population\":2161000}\n",
      "===============================\n",
      "Prompt: Give me the information of the capital of Ireland in the JSON format.\n",
      "Validated output: {\"name\":\"Dublin\",\"population\":550000}\n"
     ]
    }
   ],
   "source": [
    "import json\n",
    "from pydantic import BaseModel, Field\n",
    "\n",
    "\n",
    "prompts = [\n",
    "    \"Give me the information of the capital of China in the JSON format.\",\n",
    "    \"Give me the information of the capital of France in the JSON format.\",\n",
    "    \"Give me the information of the capital of Ireland in the JSON format.\",\n",
    "]\n",
    "\n",
    "\n",
    "# Define the schema using Pydantic\n",
    "class CapitalInfo(BaseModel):\n",
    "    name: str = Field(..., pattern=r\"^\\w+$\", description=\"Name of the capital city\")\n",
    "    population: int = Field(..., description=\"Population of the capital city\")\n",
    "\n",
    "\n",
    "sampling_params = {\n",
    "    \"temperature\": 0.1,\n",
    "    \"top_p\": 0.95,\n",
    "    \"json_schema\": json.dumps(CapitalInfo.model_json_schema()),\n",
    "    \"max_new_tokens\": 1024\n",
    "}\n",
    "\n",
    "outputs = llm.generate(prompts, sampling_params)\n",
    "\n",
    "for prompt, output in zip(prompts, outputs):\n",
    "    print(\"===============================\")\n",
    "    print(f\"Prompt: {prompt}\")  # validate the output by the pydantic model\n",
    "    capital_info = CapitalInfo.model_validate_json(output[\"text\"])\n",
    "    print(f\"Validated output: {capital_info.model_dump_json()}\")\n",
    "\n",
    "# async def generate_outputs():\n",
    "#     return await llm.generate(prompts, sampling_params)\n",
    "\n",
    "# # Run generation in the existing event loop\n",
    "# outputs = asyncio.get_event_loop().run_until_complete(generate_outputs())\n",
    "\n",
    "# # Validate and print results\n",
    "# for prompt, output in zip(prompts, outputs):\n",
    "#     print(\"===============================\")\n",
    "#     print(f\"Prompt: {prompt}\")\n",
    "#     capital_info = CapitalInfo.model_validate_json(output[\"text\"])\n",
    "#     print(f\"Validated output: {capital_info.model_dump_json()}\")"
   ]
  },
  {
   "cell_type": "code",
   "execution_count": 3,
   "id": "9f15ff76-c0a8-401b-849b-5bcee249cda0",
   "metadata": {},
   "outputs": [
    {
     "data": {
      "text/plain": [
       "'{\\n  \"name\": \"Dublin\",\\n  \"population\": 550000,\\n  \"area\": 115,\\n  \"currency\": \"Euro\",\\n  \"language\": \"English\",\\n  \"timezone\": \"UTC+0\",\\n  \"country\": \"Ireland\"\\n}'"
      ]
     },
     "execution_count": 3,
     "metadata": {},
     "output_type": "execute_result"
    }
   ],
   "source": [
    "output['text']"
   ]
  },
  {
   "cell_type": "code",
   "execution_count": 3,
   "id": "9e26fa89-47d9-4f6f-bc75-41cf2b6fcc21",
   "metadata": {},
   "outputs": [
    {
     "ename": "ModuleNotFoundError",
     "evalue": "No module named 'utils'",
     "output_type": "error",
     "traceback": [
      "\u001b[31m---------------------------------------------------------------------------\u001b[39m",
      "\u001b[31mModuleNotFoundError\u001b[39m                       Traceback (most recent call last)",
      "\u001b[36mCell\u001b[39m\u001b[36m \u001b[39m\u001b[32mIn[3]\u001b[39m\u001b[32m, line 21\u001b[39m\n\u001b[32m     19\u001b[39m \u001b[38;5;28;01mfrom\u001b[39;00m\u001b[38;5;250m \u001b[39m\u001b[34;01mguidance\u001b[39;00m\u001b[38;5;250m \u001b[39m\u001b[38;5;28;01mimport\u001b[39;00m models, system, user, assistant, json \u001b[38;5;28;01mas\u001b[39;00m gen_json\n\u001b[32m     20\u001b[39m \u001b[38;5;28;01mimport\u001b[39;00m\u001b[38;5;250m \u001b[39m\u001b[34;01mguidance\u001b[39;00m\n\u001b[32m---> \u001b[39m\u001b[32m21\u001b[39m \u001b[38;5;28;01mfrom\u001b[39;00m\u001b[38;5;250m \u001b[39m\u001b[34;01mutils\u001b[39;00m\u001b[38;5;250m \u001b[39m\u001b[38;5;28;01mimport\u001b[39;00m timing_decorator\n",
      "\u001b[31mModuleNotFoundError\u001b[39m: No module named 'utils'"
     ]
    }
   ],
   "source": [
    "import torch\n",
    "torch.cuda.empty_cache()\n",
    "\n",
    "import time\n",
    "import json\n",
    "from transformers import AutoTokenizer, AutoModelForCausalLM\n",
    "from pydantic import BaseModel, Field, RootModel\n",
    "from typing import Optional, Union, Literal, ForwardRef, List, Any\n",
    "from enum import Enum\n",
    "from guidance import models, system, user, assistant, json as gen_json, gen\n",
    "import torch\n",
    "from transformers import AutoModelForCausalLM, AutoTokenizer\n",
    "import json\n",
    "import torch\n",
    "from transformers import AutoTokenizer, AutoModelForCausalLM\n",
    "from pydantic import BaseModel, Field, RootModel\n",
    "from typing import Optional, Union\n",
    "from enum import Enum\n",
    "from guidance import models, system, user, assistant, json as gen_json\n",
    "import guidance\n",
    "from utils import timing_decorator"
   ]
  },
  {
   "cell_type": "code",
   "execution_count": 6,
   "id": "e9591a38-45b5-4d48-98ce-5cb5c3d9939c",
   "metadata": {},
   "outputs": [
    {
     "ename": "NameError",
     "evalue": "name 'Enum' is not defined",
     "output_type": "error",
     "traceback": [
      "\u001b[31m---------------------------------------------------------------------------\u001b[39m",
      "\u001b[31mNameError\u001b[39m                                 Traceback (most recent call last)",
      "\u001b[36mCell\u001b[39m\u001b[36m \u001b[39m\u001b[32mIn[6]\u001b[39m\u001b[32m, line 1\u001b[39m\n\u001b[32m----> \u001b[39m\u001b[32m1\u001b[39m \u001b[38;5;28;01mdef\u001b[39;00m\u001b[38;5;250m \u001b[39m\u001b[34mcreate_dynamic_variable_enum\u001b[39m(charge_category: \u001b[38;5;28mstr\u001b[39m, charge_category_variables: \u001b[38;5;28mdict\u001b[39m) -> \u001b[38;5;28mtype\u001b[39m(\u001b[43mEnum\u001b[49m):\n\u001b[32m      2\u001b[39m \u001b[38;5;250m    \u001b[39m\u001b[33;03m\"\"\"\u001b[39;00m\n\u001b[32m      3\u001b[39m \u001b[33;03m    Creates a new Enum class containing only the variables relevant\u001b[39;00m\n\u001b[32m      4\u001b[39m \u001b[33;03m    to the specified charge category.\u001b[39;00m\n\u001b[32m      5\u001b[39m \u001b[33;03m    \"\"\"\u001b[39;00m\n\u001b[32m      6\u001b[39m     variable_names = charge_category_variables.get(charge_category)\n",
      "\u001b[31mNameError\u001b[39m: name 'Enum' is not defined"
     ]
    }
   ],
   "source": [
    "def create_dynamic_variable_enum(charge_category: str, charge_category_variables: dict) -> type(Enum):\n",
    "    \"\"\"\n",
    "    Creates a new Enum class containing only the variables relevant\n",
    "    to the specified charge category.\n",
    "    \"\"\"\n",
    "    variable_names = charge_category_variables.get(charge_category)\n",
    "    if not variable_names:\n",
    "        raise ValueError(f\"Unknown charge category: {charge_category}\")\n",
    "    \n",
    "    # The dictionary for the Enum must have {MEMBER_NAME: value}\n",
    "    # We'll use uppercase for the member name for convention.\n",
    "    enum_dict = {name.upper(): name for name in variable_names}\n",
    "    \n",
    "    # Create the Enum class dynamically\n",
    "    return Enum(\"Var\", enum_dict)\n",
    "\n",
    "Var = create_dynamic_variable_enum(\"transfer_passenger_charge\", CHARGE_CATEGORY_VARIABLES)\n",
    "print(Var.TRANSFER_PASSENGER_COUNT.value)"
   ]
  },
  {
   "cell_type": "code",
   "execution_count": null,
   "id": "28d61e9a-7dd0-4d31-8e58-c1cbccd778d2",
   "metadata": {},
   "outputs": [],
   "source": []
  }
 ],
 "metadata": {
  "kernelspec": {
   "display_name": ".venv",
   "language": "python",
   "name": "python3"
  },
  "language_info": {
   "codemirror_mode": {
    "name": "ipython",
    "version": 3
   },
   "file_extension": ".py",
   "mimetype": "text/x-python",
   "name": "python",
   "nbconvert_exporter": "python",
   "pygments_lexer": "ipython3",
   "version": "3.12.11"
  }
 },
 "nbformat": 4,
 "nbformat_minor": 5
}
