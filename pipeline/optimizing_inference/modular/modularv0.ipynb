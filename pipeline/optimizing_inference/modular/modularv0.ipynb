{
 "cells": [
  {
   "cell_type": "code",
   "execution_count": 5,
   "id": "d13f42cf-66aa-43aa-a689-0b8a383059ab",
   "metadata": {},
   "outputs": [
    {
     "name": "stdout",
     "output_type": "stream",
     "text": [
      "\u001b[2K  \u001b[31mx\u001b[0m No solution found when resolving dependencies:                                  \u001b[0m\n",
      "\u001b[31m  `-> \u001b[0mBecause max[serve]==25.3.0 has no wheels with a matching platform\n",
      "\u001b[31m      \u001b[0mtag (e.g., `\u001b[36mmanylinux_2_28_x86_64\u001b[39m`) and modular==25.3.0 depends on\n",
      "\u001b[31m      \u001b[0mmax[serve]==25.3.0, we can conclude that modular==25.3.0 cannot be used.\n",
      "\u001b[31m      \u001b[0mAnd because only the following versions of modular are available:\n",
      "\u001b[31m      \u001b[0m    modular==25.3.0\n",
      "\u001b[31m      \u001b[0m    modular==25.4.0\n",
      "\u001b[31m      \u001b[0mwe can conclude that modular<25.4.0 cannot be used. (1)\n",
      "\n",
      "\u001b[31m      \u001b[0mBecause max[serve]==25.4.0 has no wheels with a matching platform\n",
      "\u001b[31m      \u001b[0mtag (e.g., `\u001b[36mmanylinux_2_28_x86_64\u001b[39m`) and modular==25.4.0 depends on\n",
      "\u001b[31m      \u001b[0mmax[serve]==25.4.0, we can conclude that modular==25.4.0 cannot be used.\n",
      "\u001b[31m      \u001b[0mAnd because we know from (1) that modular<25.4.0 cannot be used, we can\n",
      "\u001b[31m      \u001b[0mconclude that all versions of modular cannot be used.\n",
      "\u001b[31m      \u001b[0mAnd because you require modular, we can conclude that your requirements\n",
      "\u001b[31m      \u001b[0mare unsatisfiable.\n",
      "\n",
      "\u001b[31m      \u001b[0m\u001b[36m\u001b[1mhint\u001b[0m\u001b[39m\u001b[1m:\u001b[0m `\u001b[36mmodular\u001b[39m` was found on \u001b[36mhttps://modular.gateway.scarf.sh/simple\u001b[39m,\n",
      "\u001b[31m      \u001b[0mbut not at the requested version (\u001b[36mall of:\n",
      "\u001b[31m      \u001b[0m    modular<25.3.0\n",
      "\u001b[31m      \u001b[0m    modular>25.3.0,<25.4.0\n",
      "\u001b[31m      \u001b[0m    modular>25.4.0\n",
      "\u001b[31m      \u001b[0m\u001b[39m). A compatible version may be available on a subsequent index (e.g.,\n",
      "\u001b[31m      \u001b[0m\u001b[36mhttps://pypi.org/simple\u001b[39m). By default, uv will only consider versions\n",
      "\u001b[31m      \u001b[0mthat are published on the first index that contains a given package, to\n",
      "\u001b[31m      \u001b[0mavoid dependency confusion attacks. If all indexes are equally trusted,\n",
      "\u001b[31m      \u001b[0muse `\u001b[32m--index-strategy unsafe-best-match\u001b[39m` to consider all versions from\n",
      "\u001b[31m      \u001b[0mall indexes, regardless of the order in which they were defined.\n",
      "\n",
      "\u001b[31m      \u001b[0m\u001b[36m\u001b[1mhint\u001b[0m\u001b[39m\u001b[1m:\u001b[0m Wheels are available for `\u001b[36mmax\u001b[39m` (\u001b[36mv25.3.0\u001b[39m) on the following\n",
      "\u001b[31m      \u001b[0mplatforms: `\u001b[36mmanylinux_2_34_aarch64\u001b[39m`, `\u001b[36mmanylinux_2_34_x86_64\u001b[39m`,\n",
      "\u001b[31m      \u001b[0m`\u001b[36mmacosx_13_0_arm64\u001b[39m`\n"
     ]
    }
   ],
   "source": [
    "!uv pip install modular \\\n",
    "  --extra-index-url https://download.pytorch.org/whl/cpu \\\n",
    "  --extra-index-url https://modular.gateway.scarf.sh/simple/"
   ]
  },
  {
   "cell_type": "code",
   "execution_count": 3,
   "id": "c69725d5-811b-4016-a491-c4a23bd8d6aa",
   "metadata": {},
   "outputs": [
    {
     "name": "stdout",
     "output_type": "stream",
     "text": [
      "Using CPython 3.11.11 interpreter at: \u001b[36m/gpfs01/home/ppxac9/.conda/envs/envname/bin/python\u001b[39m\n",
      "Creating virtual environment at: \u001b[36m.venv\u001b[39m\n",
      "Activate with: \u001b[32msource .venv/bin/activate\u001b[39m\n"
     ]
    }
   ],
   "source": [
    "!uv venv && source .venv/bin/activate"
   ]
  },
  {
   "cell_type": "code",
   "execution_count": 4,
   "id": "251a8265-6689-433c-a4ff-772dee6225b5",
   "metadata": {},
   "outputs": [],
   "source": [
    "!source .venv/bin/activate"
   ]
  },
  {
   "cell_type": "code",
   "execution_count": null,
   "id": "66cc48e0-f560-4042-88a1-a440a60aa014",
   "metadata": {},
   "outputs": [],
   "source": []
  }
 ],
 "metadata": {
  "kernelspec": {
   "display_name": "Python 3 (ipykernel)",
   "language": "python",
   "name": "python3"
  },
  "language_info": {
   "codemirror_mode": {
    "name": "ipython",
    "version": 3
   },
   "file_extension": ".py",
   "mimetype": "text/x-python",
   "name": "python",
   "nbconvert_exporter": "python",
   "pygments_lexer": "ipython3",
   "version": "3.11.5"
  }
 },
 "nbformat": 4,
 "nbformat_minor": 5
}
