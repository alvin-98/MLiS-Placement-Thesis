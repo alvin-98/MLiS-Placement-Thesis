{
 "cells": [
  {
   "cell_type": "code",
   "execution_count": 1,
   "id": "3c1cf45a-dab5-44bc-9e92-ecc2f4e19133",
   "metadata": {},
   "outputs": [],
   "source": [
    "import torch\n",
    "torch.cuda.empty_cache()\n"
   ]
  },
  {
   "cell_type": "code",
   "execution_count": 16,
   "id": "b5b4ad6b-75d4-46cd-b4e1-6f31db30870a",
   "metadata": {},
   "outputs": [],
   "source": [
    "import time\n",
    "import json\n",
    "from transformers import AutoTokenizer, AutoModelForCausalLM\n",
    "from pydantic import BaseModel, Field, RootModel\n",
    "from typing import Optional, Union, Literal, ForwardRef\n",
    "from enum import Enum\n",
    "from guidance import models, system, user, assistant, json as gen_json, gen\n",
    "import torch, outlines\n",
    "from transformers import AutoModelForCausalLM, AutoTokenizer\n",
    "import json\n",
    "import torch\n",
    "from transformers import AutoTokenizer, AutoModelForCausalLM\n",
    "from pydantic import BaseModel, Field, RootModel\n",
    "from typing import Optional, Union\n",
    "from enum import Enum\n",
    "from guidance import models, system, user, assistant, json as gen_json\n",
    "import guidance\n",
    "from utils import timing_decorator"
   ]
  },
  {
   "cell_type": "code",
   "execution_count": 3,
   "id": "7293c3ec-fc5f-4861-a8e6-22299419e138",
   "metadata": {},
   "outputs": [],
   "source": [
    "\n",
    "with open(\"../output/2025-airport-charges-terms-and-conditions/tinychargesmarkdown.md\", \"r\") as f:\n",
    "    markdown_content = f.read()\n"
   ]
  },
  {
   "cell_type": "code",
   "execution_count": 4,
   "id": "688a5297-ecc2-42c1-87d8-5ed5de533877",
   "metadata": {},
   "outputs": [
    {
     "data": {
      "application/vnd.jupyter.widget-view+json": {
       "model_id": "f192fffc2c54436abe5d3f2c9f973fcb",
       "version_major": 2,
       "version_minor": 0
      },
      "text/plain": [
       "Fetching 16 files:   0%|          | 0/16 [00:00<?, ?it/s]"
      ]
     },
     "metadata": {},
     "output_type": "display_data"
    },
    {
     "data": {
      "application/vnd.jupyter.widget-view+json": {
       "model_id": "a201623fba6f4b198f507607cbe125ab",
       "version_major": 2,
       "version_minor": 0
      },
      "text/plain": [
       "Loading checkpoint shards:   0%|          | 0/16 [00:00<?, ?it/s]"
      ]
     },
     "metadata": {},
     "output_type": "display_data"
    }
   ],
   "source": [
    "\n",
    "MODEL_ID = \"Qwen/Qwen3-30B-A3B\"\n",
    "\n",
    "hf_model = AutoModelForCausalLM.from_pretrained(\n",
    "    MODEL_ID,\n",
    "    device_map=\"auto\",               \n",
    "    low_cpu_mem_usage=True,          \n",
    ")\n",
    "\n",
    "\n",
    "tok        = AutoTokenizer.from_pretrained(MODEL_ID)\n"
   ]
  },
  {
   "cell_type": "code",
   "execution_count": 5,
   "id": "0f1767ce-5622-4114-a094-0f0ae89b19b7",
   "metadata": {},
   "outputs": [
    {
     "name": "stderr",
     "output_type": "stream",
     "text": [
      "gpustat is not installed, run `pip install gpustat` to collect GPU stats.\n"
     ]
    }
   ],
   "source": [
    "\n",
    "model = guidance.models.Transformers(hf_model, tok)"
   ]
  },
  {
   "cell_type": "code",
   "execution_count": null,
   "id": "848dd267-4d84-4096-b08b-6701ff5aba7a",
   "metadata": {},
   "outputs": [],
   "source": []
  },
  {
   "cell_type": "code",
   "execution_count": 6,
   "id": "9f0af146-464a-4302-9222-0606f9b51e78",
   "metadata": {},
   "outputs": [],
   "source": [
    "from pydantic import BaseModel, Field\n",
    "from typing import List, Any\n",
    "\n",
    "class DomainVariable(BaseModel):\n",
    "    \"\"\"Defines a single variable the LLM can use in the computation graph.\"\"\"\n",
    "    name: str = Field(..., description=\"The unique identifier for the variable.\")\n",
    "    description: str = Field(..., description=\"A detailed explanation of what this variable represents.\")\n",
    "    # Optional: You could add type hints, units, etc. for more advanced validation\n",
    "    unit: Optional[str] = Field(..., description=\"The unit of the variable\")\n",
    "    data_type : type = Field(..., description=\"The data type of the variable\")\n"
   ]
  },
  {
   "cell_type": "code",
   "execution_count": 10,
   "id": "2d8a9a8c-a528-4d67-8e20-3cc8f3334f64",
   "metadata": {},
   "outputs": [],
   "source": [
    "# 1. Master registry of ALL possible variables\n",
    "ALL_VARIABLES = {\n",
    "    'transfer_passenger_count': DomainVariable(name='transfer_passenger_count', description='Total number of transferring passengers.', unit = None, data_type=float),\n",
    "    'airline_scheduling_season': DomainVariable(name='airline_scheduling_season', description='Whether summer / winter airline scheduling season.', unit = None, data_type=float),\n",
    "    'takeoff_aircraft_mtow_tonnes': DomainVariable(name='takeoff_aircraft_mtow_tonnes', description='The Maximum Take-Off Weight in tonnes.', unit = 'tonne', data_type=float),\n",
    "    'landing_aircraft_mtow_tonnes': DomainVariable(name='landing_aircraft_mtow_tonnes', description='The Maximum Landing Weight in tonnes.', unit = 'tonne', data_type=float)\n",
    "    \n",
    "}\n",
    "\n",
    "# 2. Map charge types to the variable names they are allowed to use\n",
    "CHARGE_CATEGORY_VARIABLES = {\n",
    "    \"transfer_passenger_charge\": [\n",
    "        'transfer_passenger_count', \n",
    "        'airline_scheduling_season'\n",
    "    ],\n",
    "    \"runway_landing_charge\": [\n",
    "        'landing_aircraft_mtow_tonnes', \n",
    "        'airline_scheduling_season'\n",
    "    ],\n",
    "    \"runway_takeoff_charge\": [\n",
    "        'takeoff_aircraft_mtow_tonnes', \n",
    "        'airline_scheduling_season'\n",
    "    ],\n",
    "}"
   ]
  },
  {
   "cell_type": "code",
   "execution_count": 10,
   "id": "0b58be65-2a26-4ddc-9c5c-e0b2a736c04c",
   "metadata": {},
   "outputs": [
    {
     "name": "stdout",
     "output_type": "stream",
     "text": [
      "transfer_passenger_count\n"
     ]
    }
   ],
   "source": [
    "def create_dynamic_variable_enum(charge_category: str) -> type(Enum):\n",
    "    \"\"\"\n",
    "    Creates a new Enum class containing only the variables relevant\n",
    "    to the specified charge category.\n",
    "    \"\"\"\n",
    "    variable_names = CHARGE_CATEGORY_VARIABLES.get(charge_category)\n",
    "    if not variable_names:\n",
    "        raise ValueError(f\"Unknown charge category: {charge_category}\")\n",
    "    \n",
    "    # The dictionary for the Enum must have {MEMBER_NAME: value}\n",
    "    # We'll use uppercase for the member name for convention.\n",
    "    enum_dict = {name.upper(): name for name in variable_names}\n",
    "    \n",
    "    # Create the Enum class dynamically\n",
    "    return Enum(\"Var\", enum_dict)\n",
    "\n",
    "Var = create_dynamic_variable_enum(\"transfer_passenger_charge\")\n",
    "print(Var.TRANSFER_PASSENGER_COUNT.value)"
   ]
  },
  {
   "cell_type": "code",
   "execution_count": 11,
   "id": "96ee55c2-4d13-48c2-a721-838000646933",
   "metadata": {},
   "outputs": [
    {
     "data": {
      "text/plain": [
       "['transfer_passenger_count', 'airline_scheduling_season']"
      ]
     },
     "execution_count": 11,
     "metadata": {},
     "output_type": "execute_result"
    }
   ],
   "source": [
    "allowed_variables = [el.value for el in list(Var)]\n",
    "allowed_variables"
   ]
  },
  {
   "cell_type": "code",
   "execution_count": 22,
   "id": "f4bdff9c-7dfa-4be3-a188-2af86720b5a8",
   "metadata": {},
   "outputs": [],
   "source": [
    "class VariableNode(BaseModel):\n",
    "    \"\"\"A leaf node representing a symbolic input variable.\"\"\"\n",
    "    type: Literal[\"VARIABLE\"] = \"VARIABLE\"\n",
    "    # The 'name' will be constrained to a dynamic Enum of allowed variables\n",
    "    name: Var \n",
    "    description: str = Field(..., description=\"Explanation of what input this variable represents.\")\n",
    "\n",
    "class Op(str, Enum):\n",
    "    ADD = \"ADD\"\n",
    "    MULTIPLY = \"MULTIPLY\"\n",
    "\n",
    "class ValueNode(BaseModel):\n",
    "    \"\"\"A leaf node representing a fixed numeric constant.\"\"\"\n",
    "    type: Literal[\"VALUE\"] = \"VALUE\"\n",
    "    value: float\n",
    "    description: str = Field(description=\"Explanation of what this value represents\")\n",
    "    # unit: \n",
    "\n",
    "class OpNode(BaseModel):\n",
    "    \"\"\"An operation node with two children\"\"\"\n",
    "    type: Literal[\"OPERATION\"] = \"OPERATION\"\n",
    "    operator: Op\n",
    "    # The 'left' and 'right' fields will be added dynamically\n",
    "\n",
    "# the Union for the recursive fields\n",
    "AnyNode = Union[OpNode, ValueNode, VariableNode]\n",
    "\n",
    "# Dynamically update the OpNode to add the recursive fields\n",
    "OpNode.model_fields.update({\n",
    "    'left': (AnyNode, Field(..., discriminator='type')),\n",
    "    'right': (AnyNode, Field(..., discriminator='type')),\n",
    "})\n",
    "\n",
    "# The root of the expression tree must be an operation.\n",
    "class Node(RootModel):\n",
    "    \"\"\"The root of the expression tree, which must be an OpNode.\"\"\"\n",
    "    root: OpNode\n"
   ]
  },
  {
   "cell_type": "code",
   "execution_count": 39,
   "id": "c62b7adf-12a8-4d08-a8a4-0423820e101a",
   "metadata": {},
   "outputs": [],
   "source": [
    "\n",
    "@guidance\n",
    "def create_expression_tree(llm, allowed_variables_prompt, document, query, output_schema):\n",
    "    \n",
    "    with system():\n",
    "        llm = llm + f\"\"\"You are a world-class algorithm for building expression trees from text. Your goal is to construct a JSON object that represents the calculation logic for a 'charge' based on a document and a set of conditions.\n",
    "        \n",
    "You MUST follow the provided JSON schema exactly. The graph has three types of nodes:\n",
    "1.  `OpNode`: For mathematical operations. The `operator` must be 'ADD' or 'MULTIPLY'.\n",
    "2.  `ValueNode`: Use this as a LEAF NODE AND ONLY for FIXED NUMERIC CONSTANTS found directly in the document (e.g., a fee of £3.90, a rate of 1.5%).\n",
    "3.  `VariableNode`: Use this as a LEAF NODE AND ONLY for SYMBOLIC INPUTS required by the formula. The `name` of the variable MUST be chosen from the 'Allowed Variables' list below.\n",
    "\n",
    "\n",
    "**Allowed Variables for this Task:**\n",
    "---\n",
    "{allowed_variables_prompt}\n",
    "---\n",
    "\"\"\" + \"\"\"\n",
    "\n",
    "Here is an example of valid expression trees:\n",
    "1. Simple multiplication: {\"type\": \"OPERATION\", \"operator\": \"MULTIPLY\", \"left\": {\"type\": \"VALUE\", \"value\": 3.9, \"description\": \"Transfer passenger charge per passenger\"}, \"right\": {\"type\": \"VARIABLE\", \"description\": \"Number of transfer passengers\"}}\n",
    "\"\"\"\n",
    "\n",
    "    with user():\n",
    "        llm += f\"\"\"Here is the document:\n",
    "---\n",
    "{document}\n",
    "---\n",
    "\n",
    "**Query:**\n",
    "Based on the document, construct the computation graph for the following request:\n",
    "\"{query}\"\n",
    "\"\"\"\n",
    "    with assistant():\n",
    "        llm += gen_json(\n",
    "            name=\"expression_tree\", \n",
    "            schema=output_schema,\n",
    "            max_tokens=200,\n",
    "        )\n",
    "\n",
    "    return llm\n"
   ]
  },
  {
   "cell_type": "code",
   "execution_count": 34,
   "id": "37a121db-53c8-4b59-b27c-05cd948a6073",
   "metadata": {},
   "outputs": [
    {
     "data": {
      "text/plain": [
       "'- **transfer_passenger_count**: Total number of transferring passengers.\\n- **airline_scheduling_season**: Whether summer / winter airline scheduling season.'"
      ]
     },
     "execution_count": 34,
     "metadata": {},
     "output_type": "execute_result"
    }
   ],
   "source": [
    "# allowed_variables_prompt = \"\\n\".join(\n",
    "#             [f\"- **{v.name}**: {v.description}\" for name, v in ALL_VARIABLES.items() if name in allowed_variables]\n",
    "# )\n",
    "\n",
    "# allowed_variables_prompt"
   ]
  },
  {
   "cell_type": "code",
   "execution_count": 68,
   "id": "5fa1587a-a2e3-481c-9fe5-703df5fb8ae1",
   "metadata": {},
   "outputs": [],
   "source": [
    "\n",
    "class ComputationGraphBuilder:\n",
    "    \"\"\"\n",
    "    Orchestrates the creation of a computation graph by preparing dynamic\n",
    "    constraints and prompting the LLM.\n",
    "    \"\"\"\n",
    "    \n",
    "    def __init__(self, model):\n",
    "        \"\"\"\n",
    "        Initializes the builder with a guidance model.\n",
    "        \"\"\"\n",
    "        self.model = model\n",
    "        # Set the default LLM for all guidance programs\n",
    "        # guidance.llm = self.model\n",
    "    @timing_decorator\n",
    "    def build(self, document_content: str, query: str, charge_category: str) -> dict:\n",
    "        \"\"\"\n",
    "        Generates a computation graph for a given query and document.\n",
    "\n",
    "        Args:\n",
    "            document_content: The text containing the rules.\n",
    "            query: A natural language question about what to calculate.\n",
    "            charge_category: The specific charge context used to filter variables.\n",
    "\n",
    "        Returns:\n",
    "            A dictionary representing the computation graph or an error.\n",
    "        \"\"\"\n",
    "        print(f\"--- Building graph for charge category: '{charge_category}' ---\")\n",
    "        \n",
    "        # 1. Dynamically create the filtered Enum for this specific task\n",
    "        try:\n",
    "            Var = create_dynamic_variable_enum(charge_category)\n",
    "        except ValueError as e:\n",
    "            print(f\"Error: {e}\")\n",
    "            return {\"error\": str(e)}\n",
    "\n",
    "        # 3. Create a formatted prompt string of allowed variables for the LLM\n",
    "        allowed_variables = [el.value for el in list(Var)]\n",
    "        allowed_variables_prompt = \"\\n\".join(\n",
    "            [f\"- **{v.name}**: {v.description}\" for name, v in ALL_VARIABLES.items() if name in allowed_variables]\n",
    "        )\n",
    "\n",
    "        try:\n",
    "            # 4. Execute the guidance program with all dynamic components\n",
    "            result_lm = self.model + create_expression_tree(\n",
    "                allowed_variables_prompt=allowed_variables_prompt,\n",
    "                document=document_content,\n",
    "                query=query,\n",
    "                output_schema=Node\n",
    "            )\n",
    "            \n",
    "            pydantic_graph = result_lm[\"expression_tree\"]\n",
    "            # print(\"\\nSuccessfully generated graph:\")\n",
    "            # # Use model_dump_json for Pydantic v2\n",
    "            # print(pydantic_graph.model_dump_json(indent=2)) \n",
    "            return pydantic_graph\n",
    "            \n",
    "        except Exception as e:\n",
    "            print(f\"\\nAn error occurred while building the graph for '{query}': {e}\")\n",
    "            return {\"error\": str(e)}"
   ]
  },
  {
   "cell_type": "code",
   "execution_count": 45,
   "id": "2011aa8d-cf8b-4541-91bf-58b926cd5526",
   "metadata": {},
   "outputs": [
    {
     "name": "stdout",
     "output_type": "stream",
     "text": [
      "--- Building graph for charge category: 'transfer_passenger_charge' ---\n"
     ]
    },
    {
     "data": {
      "application/vnd.jupyter.widget-view+json": {
       "model_id": "b9d68ff70aed48dab151a0c0a4e52677",
       "version_major": 2,
       "version_minor": 0
      },
      "text/plain": [
       "StitchWidget(initial_height='auto', initial_width='100%', srcdoc='<!doctype html>\\n<html lang=\"en\">\\n<head>\\n …"
      ]
     },
     "metadata": {},
     "output_type": "display_data"
    }
   ],
   "source": [
    "# 1. Instantiate the builder\n",
    "graph_builder = ComputationGraphBuilder(model=model)\n",
    "\n",
    "# 2. Define a query and its context\n",
    "my_query = \"Calculate the total transfer passenger charge for the summer scheduling season.\"\n",
    "my_charge_category = \"transfer_passenger_charge\"\n",
    "\n",
    "# 3. Call the build method to generate the graph\n",
    "expression_tree_dict = graph_builder.build(\n",
    "    document_content=markdown_content,\n",
    "    query=my_query,\n",
    "    charge_category=my_charge_category\n",
    ")"
   ]
  },
  {
   "cell_type": "code",
   "execution_count": 46,
   "id": "9df930ce-1cce-4aa4-9cf3-5be01c15b3eb",
   "metadata": {},
   "outputs": [
    {
     "data": {
      "text/plain": [
       "'{\"type\": \"OPERATION\", \"operator\": \"MULTIPLY\", \"left\": {\"type\": \"VALUE\", \"value\": 3.9, \"description\": \"Transfer passenger charge per passenger\"}, \"right\": {\"type\": \"VARIABLE\", \"name\": \"transfer_passenger_count\", \"description\": \"Number of transfer passengers\"}, \"description\": \"Total transfer passenger charge for summer scheduling season.\"}'"
      ]
     },
     "execution_count": 46,
     "metadata": {},
     "output_type": "execute_result"
    }
   ],
   "source": [
    "expression_tree_dict"
   ]
  },
  {
   "cell_type": "code",
   "execution_count": 49,
   "id": "050c1d61-1447-425a-b110-a4ae619b0928",
   "metadata": {},
   "outputs": [],
   "source": [
    "loaded_json = json.loads(expression_tree_dict)"
   ]
  },
  {
   "cell_type": "code",
   "execution_count": 51,
   "id": "61864de3-0a8a-406e-b288-92772fb33273",
   "metadata": {},
   "outputs": [
    {
     "data": {
      "text/plain": [
       "{'type': 'OPERATION',\n",
       " 'operator': 'MULTIPLY',\n",
       " 'left': {'type': 'VALUE',\n",
       "  'value': 3.9,\n",
       "  'description': 'Transfer passenger charge per passenger'},\n",
       " 'right': {'type': 'VARIABLE',\n",
       "  'name': 'transfer_passenger_count',\n",
       "  'description': 'Number of transfer passengers'},\n",
       " 'description': 'Total transfer passenger charge for summer scheduling season.'}"
      ]
     },
     "execution_count": 51,
     "metadata": {},
     "output_type": "execute_result"
    }
   ],
   "source": [
    "loaded_json"
   ]
  },
  {
   "cell_type": "code",
   "execution_count": 53,
   "id": "561a8fd9-b4a2-4479-a0e4-47aa8724dfa1",
   "metadata": {},
   "outputs": [
    {
     "name": "stdout",
     "output_type": "stream",
     "text": [
      "{\n",
      "    \"type\": \"OPERATION\",\n",
      "    \"operator\": \"MULTIPLY\",\n",
      "    \"left\": {\n",
      "        \"type\": \"VALUE\",\n",
      "        \"value\": 3.9,\n",
      "        \"description\": \"Transfer passenger charge per passenger\"\n",
      "    },\n",
      "    \"right\": {\n",
      "        \"type\": \"VARIABLE\",\n",
      "        \"name\": \"transfer_passenger_count\",\n",
      "        \"description\": \"Number of transfer passengers\"\n",
      "    },\n",
      "    \"description\": \"Total transfer passenger charge for summer scheduling season.\"\n",
      "}\n"
     ]
    }
   ],
   "source": [
    "print(json.dumps(loaded_json, indent=4))"
   ]
  },
  {
   "cell_type": "code",
   "execution_count": 56,
   "id": "3354d7f7-3969-498f-a77c-8d33deb60501",
   "metadata": {},
   "outputs": [],
   "source": [
    "result = Node.model_validate_json(expression_tree_dict)"
   ]
  },
  {
   "cell_type": "code",
   "execution_count": 58,
   "id": "3d34d259-a92a-4e0a-a8e1-d874c8e59c1c",
   "metadata": {},
   "outputs": [
    {
     "name": "stdout",
     "output_type": "stream",
     "text": [
      "{\n",
      "        \"type\": \"OPERATION\",\n",
      "        \"operator\": \"MULTIPLY\"\n",
      "}\n"
     ]
    }
   ],
   "source": [
    "print(result.model_dump_json(indent=8))"
   ]
  },
  {
   "cell_type": "code",
   "execution_count": 59,
   "id": "0d293717-0f4d-4e5b-a04e-85079ab9b4b1",
   "metadata": {},
   "outputs": [],
   "source": [
    "import sympy\n",
    "\n",
    "def json_to_sympy_expr(node: dict):\n",
    "    \"\"\"\n",
    "    Recursively converts a JSON expression tree node into a Sympy expression.\n",
    "    \"\"\"\n",
    "    node_type = node.get('type')\n",
    "\n",
    "    if node_type == 'OPERATION':\n",
    "        left_expr = json_to_sympy_expr(node['left'])\n",
    "        right_expr = json_to_sympy_expr(node['right'])\n",
    "        \n",
    "        if node['operator'] == 'MULTIPLY':\n",
    "            return left_expr * right_expr\n",
    "        elif node['operator'] == 'ADD':\n",
    "            return left_expr + right_expr\n",
    "        else:\n",
    "            raise ValueError(f\"Unsupported operator: {node.get('operator')}\")\n",
    "\n",
    "    elif node_type == 'VALUE':\n",
    "        return sympy.Number(node['value'])\n",
    "\n",
    "    elif node_type == 'VARIABLE':\n",
    "        return sympy.Symbol(node['name'])\n",
    "        \n",
    "    raise ValueError(f\"Unknown node type: {node_type}\")"
   ]
  },
  {
   "cell_type": "code",
   "execution_count": 61,
   "id": "6c24ee56-13b7-48ed-8457-3a1f2c07ae06",
   "metadata": {},
   "outputs": [
    {
     "data": {
      "text/plain": [
       "{'type': 'OPERATION',\n",
       " 'operator': 'MULTIPLY',\n",
       " 'left': {'type': 'VALUE',\n",
       "  'value': 3.9,\n",
       "  'description': 'Transfer passenger charge per passenger'},\n",
       " 'right': {'type': 'VARIABLE',\n",
       "  'name': 'transfer_passenger_count',\n",
       "  'description': 'Number of transfer passengers'},\n",
       " 'description': 'Total transfer passenger charge for summer scheduling season.'}"
      ]
     },
     "execution_count": 61,
     "metadata": {},
     "output_type": "execute_result"
    }
   ],
   "source": [
    "loaded_json"
   ]
  },
  {
   "cell_type": "code",
   "execution_count": 62,
   "id": "f13cfe77-4b70-46cb-88c4-3b47dc4c5eb0",
   "metadata": {},
   "outputs": [
    {
     "name": "stdout",
     "output_type": "stream",
     "text": [
      "Generated Sympy Expression: 3.9*transfer_passenger_count\n",
      "Result of substituting {'transfer_passenger_count': 30}: 117.000000000000\n"
     ]
    }
   ],
   "source": [
    "expression = json_to_sympy_expr(loaded_json)\n",
    "print(f\"Generated Sympy Expression: {expression}\")\n",
    "\n",
    "# 3. Evaluate the expression by substituting values for the variables\n",
    "variables = {'transfer_passenger_count': 30}\n",
    "result = expression.subs(variables)\n",
    "\n",
    "print(f\"Result of substituting {variables}: {result}\")"
   ]
  },
  {
   "cell_type": "code",
   "execution_count": 65,
   "id": "76dbdc6d-b72e-4bbb-af47-ce289a761496",
   "metadata": {},
   "outputs": [
    {
     "name": "stdout",
     "output_type": "stream",
     "text": [
      "--- Building graph for charge category: 'transfer_passenger_charge' ---\n"
     ]
    },
    {
     "data": {
      "application/vnd.jupyter.widget-view+json": {
       "model_id": "3d19e06676e149dba8a57a7b845aeb2d",
       "version_major": 2,
       "version_minor": 0
      },
      "text/plain": [
       "StitchWidget(initial_height='auto', initial_width='100%', srcdoc='<!doctype html>\\n<html lang=\"en\">\\n<head>\\n …"
      ]
     },
     "metadata": {},
     "output_type": "display_data"
    }
   ],
   "source": [
    "\n",
    "my_query = \"Calculate the total transfer passenger charge for the winter scheduling season.\"\n",
    "my_charge_category = \"transfer_passenger_charge\"\n",
    "\n",
    "# 3. Call the build method to generate the graph\n",
    "expression_tree_dict = graph_builder.build(\n",
    "    document_content=markdown_content,\n",
    "    query=my_query,\n",
    "    charge_category=my_charge_category\n",
    ")"
   ]
  },
  {
   "cell_type": "code",
   "execution_count": 66,
   "id": "4080a776-956a-49c7-aaf7-1875351d6b2c",
   "metadata": {},
   "outputs": [
    {
     "data": {
      "text/plain": [
       "{'type': 'OPERATION',\n",
       " 'operator': 'MULTIPLY',\n",
       " 'left': {'type': 'VALUE',\n",
       "  'value': 2.8,\n",
       "  'description': 'Transfer passenger charge per passenger'},\n",
       " 'right': {'type': 'VARIABLE',\n",
       "  'name': 'transfer_passenger_count',\n",
       "  'description': 'Number of transfer passengers'},\n",
       " 'description': 'Total transfer passenger charge for winter scheduling season.'}"
      ]
     },
     "execution_count": 66,
     "metadata": {},
     "output_type": "execute_result"
    }
   ],
   "source": [
    "loaded_json = json.loads(expression_tree_dict)\n",
    "loaded_json"
   ]
  },
  {
   "cell_type": "code",
   "execution_count": 67,
   "id": "11477a8e-f800-456c-986c-b7a48b0c2f0a",
   "metadata": {},
   "outputs": [
    {
     "name": "stdout",
     "output_type": "stream",
     "text": [
      "{\n",
      "    \"type\": \"OPERATION\",\n",
      "    \"operator\": \"MULTIPLY\",\n",
      "    \"left\": {\n",
      "        \"type\": \"VALUE\",\n",
      "        \"value\": 2.8,\n",
      "        \"description\": \"Transfer passenger charge per passenger\"\n",
      "    },\n",
      "    \"right\": {\n",
      "        \"type\": \"VARIABLE\",\n",
      "        \"name\": \"transfer_passenger_count\",\n",
      "        \"description\": \"Number of transfer passengers\"\n",
      "    },\n",
      "    \"description\": \"Total transfer passenger charge for winter scheduling season.\"\n",
      "}\n"
     ]
    }
   ],
   "source": [
    "print(json.dumps(loaded_json, indent=4))"
   ]
  },
  {
   "cell_type": "code",
   "execution_count": null,
   "id": "6fa67504-b885-4a76-b967-df4a66aaaab5",
   "metadata": {},
   "outputs": [],
   "source": [
    "\n",
    "my_query = \"Calculate the total transfer passenger charge for the winter scheduling season.\"\n",
    "my_charge_category = \"transfer_passenger_charge\"\n",
    "\n",
    "# 3. Call the build method to generate the graph\n",
    "start_time = time.perf_counter()\n",
    "expression_tree_dict = graph_builder.build(\n",
    "    document_content=markdown_content,\n",
    "    query=my_query,\n",
    "    charge_category=my_charge_category\n",
    ")\n",
    "end_time = time.perf_counter()\n",
    "execution_time = end_time - start_time\n",
    "# print(f\"Execution time for '{func.__name__}': {execution_time:.4f} seconds\")"
   ]
  },
  {
   "cell_type": "code",
   "execution_count": 73,
   "id": "fa892f24-37cb-400b-978e-64e5cc82a104",
   "metadata": {},
   "outputs": [
    {
     "data": {
      "text/plain": [
       "232.55998749099672"
      ]
     },
     "execution_count": 73,
     "metadata": {},
     "output_type": "execute_result"
    }
   ],
   "source": [
    "execution_time"
   ]
  },
  {
   "cell_type": "code",
   "execution_count": 9,
   "id": "0bda70c6-64ab-48ac-86ab-17844fe73de1",
   "metadata": {},
   "outputs": [],
   "source": [
    "ALL_VARIABLES = {\n",
    "    \n",
    "    'transfer_passenger_count': DomainVariable(name='transfer_passenger_count', description='Total number of transferring passengers.', unit=None, data_type=float),\n",
    "    'airline_scheduling_season': DomainVariable(name='airline_scheduling_season', description='Whether summer/winter airline scheduling season.', unit=None, data_type=float),\n",
    "    'takeoff_aircraft_mtow_tonnes': DomainVariable(name='takeoff_aircraft_mtow_tonnes', description='The Maximum Take-Off Weight in tonnes.', unit='tonne', data_type=float),\n",
    "    'landing_aircraft_mtow_tonnes': DomainVariable(name='landing_aircraft_mtow_tonnes', description='The Maximum Landing Weight in tonnes.', unit='tonne', data_type=float),\n",
    "    \n",
    "    'parking_duration_hours': DomainVariable(\n",
    "        name='parking_duration_hours',\n",
    "        description='Total duration of parking in hours. Surcharges apply at 48 and 72 hours.',\n",
    "        unit='hours',\n",
    "        data_type=float\n",
    "    ),\n",
    "    'aircraft_stand_type': DomainVariable(\n",
    "        name='aircraft_stand_type',\n",
    "        description='The type of aircraft stand used for parking. E.g., \"Wide Contact\", \"Narrow Remote\", \"LAP\", \"Long Term Remote\".',\n",
    "        unit=None,\n",
    "        data_type=str\n",
    "    ),\n",
    "    'parking_location': DomainVariable(\n",
    "        name='parking_location',\n",
    "        description='The location of the parking stand, either \"EAP\" (East Aerodrome Parking) or \"WAP\" (West Aerodrome Parking).',\n",
    "        unit=None,\n",
    "        data_type=str\n",
    "    ),\n",
    "    'is_overnight_parking': DomainVariable(\n",
    "        name='is_overnight_parking',\n",
    "        description='True if the parking occurs during the free overnight period (2300-0600hrs).',\n",
    "        unit=None,\n",
    "        data_type=bool\n",
    "    )\n",
    "}\n",
    "# 2. Map charge types to the variable names they are allowed to use\n",
    "CHARGE_CATEGORY_VARIABLES = {\n",
    "    # --- Existing Categories ---\n",
    "    \"transfer_passenger_charge\": [\n",
    "        'transfer_passenger_count', \n",
    "        'airline_scheduling_season'\n",
    "    ],\n",
    "    \"runway_landing_charge\": [\n",
    "        'landing_aircraft_mtow_tonnes', \n",
    "        'airline_scheduling_season'\n",
    "    ],\n",
    "    \"runway_takeoff_charge\": [\n",
    "        'takeoff_aircraft_mtow_tonnes', \n",
    "        'airline_scheduling_season'\n",
    "    ],\n",
    "\n",
    "    # --- New Categories for Parking Charges ---\n",
    "    \"east_aerodrome_parking_charge\": [\n",
    "        'parking_duration_hours',\n",
    "        'aircraft_stand_type',\n",
    "        'is_overnight_parking'\n",
    "        # 'parking_location' is implicitly 'EAP' for this category\n",
    "    ],\n",
    "    \"west_aerodrome_parking_charge\": [\n",
    "        'parking_duration_hours',\n",
    "        'aircraft_stand_type',\n",
    "        'is_overnight_parking'\n",
    "        # 'parking_location' is implicitly 'WAP' for this category\n",
    "    ]\n",
    "}\n",
    "\n"
   ]
  },
  {
   "cell_type": "code",
   "execution_count": 7,
   "id": "34ef94eb-3268-4384-8d87-1fa89829b412",
   "metadata": {},
   "outputs": [],
   "source": [
    "from pydantic import BaseModel, Field, RootModel\n",
    "from typing import Union, Literal\n",
    "from enum import Enum\n",
    "\n",
    "# Separate enums for clarity and type safety\n",
    "class MathOperator(str, Enum):\n",
    "    ADD = \"ADD\"\n",
    "    MULTIPLY = \"MULTIPLY\"\n",
    "    DIVIDE = \"DIVIDE\"\n",
    "\n",
    "class Comparator(str, Enum):\n",
    "    GREATER_THAN = \"GREATER_THAN\"\n",
    "    LESS_THAN = \"LESS_THAN\"\n",
    "    EQUAL_TO = \"EQUAL_TO\"\n",
    "\n",
    "# --- Node Definitions ---\n",
    "\n",
    "class ValueNode(BaseModel):\n",
    "    type: Literal[\"VALUE\"] = \"VALUE\"\n",
    "    value: float\n",
    "    description: str\n",
    "\n",
    "class VariableNode(BaseModel):\n",
    "    type: Literal[\"VARIABLE\"] = \"VARIABLE\"\n",
    "    name: str \n",
    "    description: str\n",
    "\n",
    "class BinaryOpNode(BaseModel):\n",
    "    \"\"\"Node for mathematical operations that produce a number.\"\"\"\n",
    "    type: Literal[\"BINARY_OPERATION\"] = \"BINARY_OPERATION\"\n",
    "    operator: MathOperator\n",
    "    left: 'AnyNode'\n",
    "    right: 'AnyNode'\n",
    "\n",
    "class ComparisonNode(BaseModel):\n",
    "    \"\"\"Node for comparison operations that produce a boolean.\"\"\"\n",
    "    type: Literal[\"COMPARISON\"] = \"COMPARISON\"\n",
    "    operator: Comparator\n",
    "    left: 'AnyNode'\n",
    "    right: 'AnyNode'\n",
    "\n",
    "class ConditionalNode(BaseModel):\n",
    "    \"\"\"Node for if-then-else logic.\"\"\"\n",
    "    type: Literal[\"CONDITIONAL\"] = \"CONDITIONAL\"\n",
    "    condition: ComparisonNode # Condition must be a comparison\n",
    "    if_true: 'AnyNode'\n",
    "    if_false: 'AnyNode'\n",
    "\n",
    "# --- Recursive Setup ---\n",
    "\n",
    "AnyNode = Union[\n",
    "    ValueNode, \n",
    "    VariableNode, \n",
    "    BinaryOpNode, \n",
    "    ConditionalNode\n",
    "]\n",
    "\n",
    "# Use model_rebuild() to safely resolve all forward references\n",
    "BinaryOpNode.model_rebuild()\n",
    "ConditionalNode.model_rebuild()\n",
    "ComparisonNode.model_rebuild()\n",
    "\n",
    "class Node(RootModel):\n",
    "    root: BinaryOpNode"
   ]
  },
  {
   "cell_type": "code",
   "execution_count": 12,
   "id": "cb8d7c2d-e0fe-4514-848d-c7aaad33b1c8",
   "metadata": {},
   "outputs": [],
   "source": [
    "@guidance\n",
    "def create_graph_with_cot(llm, allowed_variables_prompt, document, query, output_schema):\n",
    "    \n",
    "    with system():\n",
    "        llm += f\"\"\"You are an expert system that converts textual calculation rules into structured JSON expression trees.\n",
    "        You MUST think step-by-step and reason before generating the final JSON.\n",
    "\n",
    "        **Reasoning Guidelines:**\n",
    "        1.  **Identify All Values From Document Required for Charge Calculation:** Find the value's that are required for computing the charge present in the user query.\n",
    "        2.  **Identify Variables:** List the symbolic variables needed for the calculation (e.g., parking_duration_hours) from the list below.\n",
    "        **Allowed Variables for this Task:**\n",
    "        ---\n",
    "        {allowed_variables_prompt}\n",
    "        ---\n",
    "        3.  **Make Sure Units for the Variables and Values are Correctly Assigned and Matched:** The units for the variable as described by the user and the value you obtain from the document may be different, you will then need to add depth to the json expression tree to make sure they match.\n",
    "        4.  **Synthesize Plan:** Briefly describe how you will combine these pieces into a final expression tree.\n",
    "        5. **Rethink and Finalize Approach**: Before processing with generation, rethink your progress so far and make adjustments if necessary, then finalize and proceed to generate the expression tree.\n",
    "\n",
    "        After writing your reasoning, you will generate the JSON object.\n",
    "\n",
    "        \n",
    "        \"\"\"\n",
    "\n",
    "    with user():\n",
    "        llm += f\"\"\"\n",
    "        **Document:**\n",
    "        ---\n",
    "        {document}\n",
    "        ---\n",
    "\n",
    "        **Query:**\n",
    "        Based on the document, construct the computation graph for the following request:\n",
    "        \"{query}\"\n",
    "        \"\"\"\n",
    "\n",
    "    with assistant():\n",
    "        # This is the new Chain of Thought part. The model must \"think\" first.\n",
    "        llm += \"My step-by-step thinking process:\\n\"\n",
    "        llm += gen(\"thought\", stop=\"\\n\\n\", max_tokens=1000)\n",
    "        \n",
    "        # After thinking, it generates the JSON.\n",
    "        llm += \"\\n\\nFinal JSON object:\\n\"\n",
    "        llm += gen_json(\n",
    "            name=\"result_graph\", \n",
    "            schema=output_schema,\n",
    "            max_tokens=1000 \n",
    "        )\n",
    "        \n",
    "    return llm"
   ]
  },
  {
   "cell_type": "code",
   "execution_count": 13,
   "id": "e02d294d-81dc-4b19-b714-78af00f4aae9",
   "metadata": {},
   "outputs": [],
   "source": [
    "\n",
    "class ComputationGraphBuilder:\n",
    "    \"\"\"\n",
    "    Orchestrates the creation of a computation graph by preparing dynamic\n",
    "    constraints and prompting the LLM.\n",
    "    \"\"\"\n",
    "    \n",
    "    def __init__(self, model):\n",
    "        \"\"\"\n",
    "        Initializes the builder with a guidance model.\n",
    "        \"\"\"\n",
    "        self.model = model\n",
    "        # Set the default LLM for all guidance programs\n",
    "        # guidance.llm = self.model\n",
    "    @timing_decorator\n",
    "    def build(self, document_content: str, query: str, charge_category: str) -> dict:\n",
    "        \"\"\"\n",
    "        Generates a computation graph for a given query and document.\n",
    "\n",
    "        Args:\n",
    "            document_content: The text containing the rules.\n",
    "            query: A natural language question about what to calculate.\n",
    "            charge_category: The specific charge context used to filter variables.\n",
    "\n",
    "        Returns:\n",
    "            A dictionary representing the computation graph or an error.\n",
    "        \"\"\"\n",
    "        print(f\"--- Building graph for charge category: '{charge_category}' ---\")\n",
    "        \n",
    "        # 1. Dynamically create the filtered Enum for this specific task\n",
    "        try:\n",
    "            Var = create_dynamic_variable_enum(charge_category)\n",
    "        except ValueError as e:\n",
    "            print(f\"Error: {e}\")\n",
    "            return {\"error\": str(e)}\n",
    "\n",
    "        # 3. Create a formatted prompt string of allowed variables for the LLM\n",
    "        allowed_variables = [el.value for el in list(Var)]\n",
    "        allowed_variables_prompt = \"\\n\".join(\n",
    "            [f\"- **{v.name}**: {v.description}\" for name, v in ALL_VARIABLES.items() if name in allowed_variables]\n",
    "        )\n",
    "\n",
    "        try:\n",
    "            # 4. Execute the guidance program with all dynamic components\n",
    "            result_lm = self.model + create_graph_with_cot(\n",
    "                allowed_variables_prompt=allowed_variables_prompt,\n",
    "                document=document_content,\n",
    "                query=query,\n",
    "                output_schema=Node\n",
    "            )\n",
    "            \n",
    "            \n",
    "            # print(\"\\nSuccessfully generated graph:\")\n",
    "            # # Use model_dump_json for Pydantic v2\n",
    "            # print(pydantic_graph.model_dump_json(indent=2)) \n",
    "            return result_lm\n",
    "            \n",
    "        except Exception as e:\n",
    "            print(f\"\\nAn error occurred while building the graph for '{query}': {e}\")\n",
    "            return {\"error\": str(e)}"
   ]
  },
  {
   "cell_type": "code",
   "execution_count": 17,
   "id": "be9ef5d8-0aa6-4931-a1d6-a35474b7d6dd",
   "metadata": {},
   "outputs": [
    {
     "name": "stdout",
     "output_type": "stream",
     "text": [
      "--- Building graph for charge category: 'west_aerodrome_parking_charge' ---\n"
     ]
    },
    {
     "data": {
      "application/vnd.jupyter.widget-view+json": {
       "model_id": "da3764c8fce64cef8294b082e77801ed",
       "version_major": 2,
       "version_minor": 0
      },
      "text/plain": [
       "StitchWidget(initial_height='auto', initial_width='100%', srcdoc='<!doctype html>\\n<html lang=\"en\">\\n<head>\\n …"
      ]
     },
     "metadata": {},
     "output_type": "display_data"
    },
    {
     "name": "stderr",
     "output_type": "stream",
     "text": [
      "IOPub message rate exceeded.\n",
      "The Jupyter server will temporarily stop sending output\n",
      "to the client in order to avoid crashing it.\n",
      "To change this limit, set the config variable\n",
      "`--ServerApp.iopub_msg_rate_limit`.\n",
      "\n",
      "Current values:\n",
      "ServerApp.iopub_msg_rate_limit=1000.0 (msgs/sec)\n",
      "ServerApp.rate_limit_window=3.0 (secs)\n",
      "\n"
     ]
    }
   ],
   "source": [
    "graph_builder = ComputationGraphBuilder(model=model)\n",
    "\n",
    "my_query = \"Calculate the total parking charge for a wide remote aircraft stand type at West Aerodrome Parking with no overnight parking. The parking duration is a variable with unit hours.\"\n",
    "my_charge_category = \"west_aerodrome_parking_charge\"\n",
    "\n",
    "# 3. Call the build method to generate the graph\n",
    "start_time = time.perf_counter()\n",
    "expression_tree_dict = graph_builder.build(\n",
    "    document_content=markdown_content,\n",
    "    query=my_query,\n",
    "    charge_category=my_charge_category\n",
    ")\n",
    "end_time = time.perf_counter()\n",
    "execution_time = end_time - start_time\n",
    "# print(f\"Execution time for '{func.__name__}': {execution_time:.4f} seconds\")"
   ]
  },
  {
   "cell_type": "code",
   "execution_count": 20,
   "id": "b3bfbf34-518c-4afd-9f73-7d6607d0df84",
   "metadata": {},
   "outputs": [
    {
     "data": {
      "text/plain": [
       "\"\\nOkay, let's tackle this query. The user wants to calculate the total parking charge for a wide remote aircraft stand at West Aerodrome Parking (WAP), with no overnight parking, and the parking duration is a variable in hours.\""
      ]
     },
     "execution_count": 20,
     "metadata": {},
     "output_type": "execute_result"
    }
   ],
   "source": [
    "expression_tree_dict['thought']"
   ]
  },
  {
   "cell_type": "code",
   "execution_count": 21,
   "id": "05bcef7b-fa5a-43e1-a8d4-c5ecd24f4f78",
   "metadata": {},
   "outputs": [
    {
     "data": {
      "text/plain": [
       "'{\"type\": \"BINARY_OPERATION\", \"operator\": \"ADD\", \"left\": {\"type\": \"CONDITIONAL\", \"condition\": {\"type\": \"COMPARISON\", \"operator\": \"GREATER_THAN\", \"left\": {\"type\": \"VARIABLE\", \"name\": \"parking_duration_hours\", \"description\": \"Total duration of parking in hours. Surcharges apply at 48 and 72 hours.\"}, \"right\": {\"type\": \"VALUE\", \"value\": 72, \"description\": \"72 hours\"}}, \"if_true\": {\"type\": \"BINARY_OPERATION\", \"operator\": \"MULTIPLY\", \"left\": {\"type\": \"VARIABLE\", \"name\": \"parking_duration_hours\", \"description\": \"Total duration of parking in hours. Surcharges apply at 48 and 72 hours.\"}, \"right\": {\"type\": \"VALUE\", \"value\": 234.50, \"description\": \"Standard rate +200%\"}}, \"if_false\": {\"type\": \"CONDITIONAL\", \"condition\": {\"type\": \"COMPARISON\", \"operator\": \"GREATER_THAN\", \"left\": {\"type\": \"VARIABLE\", \"name\": \"parking_duration_hours\", \"description\": \"Total duration of parking in hours. Surcharges apply at 48 and 72 hours.\"}, \"right\": {\"type\": \"VALUE\", \"value\": 48, \"description\": \"48 hours\"}}, \"if_true\": {\"type\": \"BINARY_OPERATION\", \"operator\": \"MULTIPLY\", \"left\": {\"type\": \"VARIABLE\", \"name\": \"parking_duration_hours\", \"description\": \"Total duration of parking in hours. Surcharges apply at 48 and 72 hours.\"}, \"right\": {\"type\": \"VALUE\", \"value\": 9.60, \"description\": \"Standard Charge per Aircraft/Stand type\"}}, \"if_false\": {\"type\": \"BINARY_OPERATION\", \"operator\": \"MULTIPLY\", \"left\": {\"type\": \"VARIABLE\", \"name\": \"parking_duration_hours\", \"description\": \"Total duration of parking in hours. Surcharges apply at 48 and 72 hours.\"}, \"right\": {\"type\": \"VALUE\", \"value\": 9.60, \"description\": \"Standard Charge per Aircraft/Stand type\"}}}}, \"right\": {\"type\": \"VALUE\", \"value\": 0, \"description\": \"No overnight parking surcharge\"}}'"
      ]
     },
     "execution_count": 21,
     "metadata": {},
     "output_type": "execute_result"
    }
   ],
   "source": [
    "expression_tree_dict['result_graph']"
   ]
  },
  {
   "cell_type": "code",
   "execution_count": 23,
   "id": "6427d128-f1b9-4aa1-9b74-181fc6c12832",
   "metadata": {},
   "outputs": [
    {
     "data": {
      "text/plain": [
       "{'type': 'BINARY_OPERATION',\n",
       " 'operator': 'ADD',\n",
       " 'left': {'type': 'CONDITIONAL',\n",
       "  'condition': {'type': 'COMPARISON',\n",
       "   'operator': 'GREATER_THAN',\n",
       "   'left': {'type': 'VARIABLE',\n",
       "    'name': 'parking_duration_hours',\n",
       "    'description': 'Total duration of parking in hours. Surcharges apply at 48 and 72 hours.'},\n",
       "   'right': {'type': 'VALUE', 'value': 72, 'description': '72 hours'}},\n",
       "  'if_true': {'type': 'BINARY_OPERATION',\n",
       "   'operator': 'MULTIPLY',\n",
       "   'left': {'type': 'VARIABLE',\n",
       "    'name': 'parking_duration_hours',\n",
       "    'description': 'Total duration of parking in hours. Surcharges apply at 48 and 72 hours.'},\n",
       "   'right': {'type': 'VALUE',\n",
       "    'value': 234.5,\n",
       "    'description': 'Standard rate +200%'}},\n",
       "  'if_false': {'type': 'CONDITIONAL',\n",
       "   'condition': {'type': 'COMPARISON',\n",
       "    'operator': 'GREATER_THAN',\n",
       "    'left': {'type': 'VARIABLE',\n",
       "     'name': 'parking_duration_hours',\n",
       "     'description': 'Total duration of parking in hours. Surcharges apply at 48 and 72 hours.'},\n",
       "    'right': {'type': 'VALUE', 'value': 48, 'description': '48 hours'}},\n",
       "   'if_true': {'type': 'BINARY_OPERATION',\n",
       "    'operator': 'MULTIPLY',\n",
       "    'left': {'type': 'VARIABLE',\n",
       "     'name': 'parking_duration_hours',\n",
       "     'description': 'Total duration of parking in hours. Surcharges apply at 48 and 72 hours.'},\n",
       "    'right': {'type': 'VALUE',\n",
       "     'value': 9.6,\n",
       "     'description': 'Standard Charge per Aircraft/Stand type'}},\n",
       "   'if_false': {'type': 'BINARY_OPERATION',\n",
       "    'operator': 'MULTIPLY',\n",
       "    'left': {'type': 'VARIABLE',\n",
       "     'name': 'parking_duration_hours',\n",
       "     'description': 'Total duration of parking in hours. Surcharges apply at 48 and 72 hours.'},\n",
       "    'right': {'type': 'VALUE',\n",
       "     'value': 9.6,\n",
       "     'description': 'Standard Charge per Aircraft/Stand type'}}}},\n",
       " 'right': {'type': 'VALUE',\n",
       "  'value': 0,\n",
       "  'description': 'No overnight parking surcharge'}}"
      ]
     },
     "execution_count": 23,
     "metadata": {},
     "output_type": "execute_result"
    }
   ],
   "source": [
    "loaded_json = json.loads(expression_tree_dict['result_graph'])\n",
    "loaded_json"
   ]
  },
  {
   "cell_type": "code",
   "execution_count": 24,
   "id": "d453daf2-44f1-4eb9-ac66-58db812fdaee",
   "metadata": {},
   "outputs": [
    {
     "name": "stdout",
     "output_type": "stream",
     "text": [
      "{\n",
      "    \"type\": \"BINARY_OPERATION\",\n",
      "    \"operator\": \"ADD\",\n",
      "    \"left\": {\n",
      "        \"type\": \"CONDITIONAL\",\n",
      "        \"condition\": {\n",
      "            \"type\": \"COMPARISON\",\n",
      "            \"operator\": \"GREATER_THAN\",\n",
      "            \"left\": {\n",
      "                \"type\": \"VARIABLE\",\n",
      "                \"name\": \"parking_duration_hours\",\n",
      "                \"description\": \"Total duration of parking in hours. Surcharges apply at 48 and 72 hours.\"\n",
      "            },\n",
      "            \"right\": {\n",
      "                \"type\": \"VALUE\",\n",
      "                \"value\": 72,\n",
      "                \"description\": \"72 hours\"\n",
      "            }\n",
      "        },\n",
      "        \"if_true\": {\n",
      "            \"type\": \"BINARY_OPERATION\",\n",
      "            \"operator\": \"MULTIPLY\",\n",
      "            \"left\": {\n",
      "                \"type\": \"VARIABLE\",\n",
      "                \"name\": \"parking_duration_hours\",\n",
      "                \"description\": \"Total duration of parking in hours. Surcharges apply at 48 and 72 hours.\"\n",
      "            },\n",
      "            \"right\": {\n",
      "                \"type\": \"VALUE\",\n",
      "                \"value\": 234.5,\n",
      "                \"description\": \"Standard rate +200%\"\n",
      "            }\n",
      "        },\n",
      "        \"if_false\": {\n",
      "            \"type\": \"CONDITIONAL\",\n",
      "            \"condition\": {\n",
      "                \"type\": \"COMPARISON\",\n",
      "                \"operator\": \"GREATER_THAN\",\n",
      "                \"left\": {\n",
      "                    \"type\": \"VARIABLE\",\n",
      "                    \"name\": \"parking_duration_hours\",\n",
      "                    \"description\": \"Total duration of parking in hours. Surcharges apply at 48 and 72 hours.\"\n",
      "                },\n",
      "                \"right\": {\n",
      "                    \"type\": \"VALUE\",\n",
      "                    \"value\": 48,\n",
      "                    \"description\": \"48 hours\"\n",
      "                }\n",
      "            },\n",
      "            \"if_true\": {\n",
      "                \"type\": \"BINARY_OPERATION\",\n",
      "                \"operator\": \"MULTIPLY\",\n",
      "                \"left\": {\n",
      "                    \"type\": \"VARIABLE\",\n",
      "                    \"name\": \"parking_duration_hours\",\n",
      "                    \"description\": \"Total duration of parking in hours. Surcharges apply at 48 and 72 hours.\"\n",
      "                },\n",
      "                \"right\": {\n",
      "                    \"type\": \"VALUE\",\n",
      "                    \"value\": 9.6,\n",
      "                    \"description\": \"Standard Charge per Aircraft/Stand type\"\n",
      "                }\n",
      "            },\n",
      "            \"if_false\": {\n",
      "                \"type\": \"BINARY_OPERATION\",\n",
      "                \"operator\": \"MULTIPLY\",\n",
      "                \"left\": {\n",
      "                    \"type\": \"VARIABLE\",\n",
      "                    \"name\": \"parking_duration_hours\",\n",
      "                    \"description\": \"Total duration of parking in hours. Surcharges apply at 48 and 72 hours.\"\n",
      "                },\n",
      "                \"right\": {\n",
      "                    \"type\": \"VALUE\",\n",
      "                    \"value\": 9.6,\n",
      "                    \"description\": \"Standard Charge per Aircraft/Stand type\"\n",
      "                }\n",
      "            }\n",
      "        }\n",
      "    },\n",
      "    \"right\": {\n",
      "        \"type\": \"VALUE\",\n",
      "        \"value\": 0,\n",
      "        \"description\": \"No overnight parking surcharge\"\n",
      "    }\n",
      "}\n"
     ]
    }
   ],
   "source": [
    "print(json.dumps(loaded_json, indent=4))"
   ]
  },
  {
   "cell_type": "code",
   "execution_count": 19,
   "id": "dc3c4a26-8521-4e9f-8e0c-ad52b7d88658",
   "metadata": {},
   "outputs": [
    {
     "data": {
      "text/plain": [
       "127.9932743278332"
      ]
     },
     "execution_count": 19,
     "metadata": {},
     "output_type": "execute_result"
    }
   ],
   "source": [
    "execution_time"
   ]
  }
 ],
 "metadata": {
  "kernelspec": {
   "display_name": "Python 3 (ipykernel)",
   "language": "python",
   "name": "python3"
  },
  "language_info": {
   "codemirror_mode": {
    "name": "ipython",
    "version": 3
   },
   "file_extension": ".py",
   "mimetype": "text/x-python",
   "name": "python",
   "nbconvert_exporter": "python",
   "pygments_lexer": "ipython3",
   "version": "3.11.5"
  }
 },
 "nbformat": 4,
 "nbformat_minor": 5
}
