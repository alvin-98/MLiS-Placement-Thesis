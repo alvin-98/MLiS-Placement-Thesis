{
 "cells": [
  {
   "cell_type": "markdown",
   "id": "bf199f17",
   "metadata": {},
   "source": [
    "NOTES\n",
    "\n",
    "1. Serve the model using vLLM like so - vllm serve Qwen/Qwen3-30B-A3B-Instruct-2507 --tensor-parallel-size 4 --port 8000 \n",
    "2. "
   ]
  },
  {
   "cell_type": "code",
   "execution_count": 1,
   "id": "9208a35d",
   "metadata": {},
   "outputs": [],
   "source": [
    "import os\n",
    "from pydantic import BaseModel\n",
    "import guidance"
   ]
  },
  {
   "cell_type": "code",
   "execution_count": 2,
   "id": "f37bd7b7",
   "metadata": {},
   "outputs": [],
   "source": [
    "# from pydantic import BaseModel, Field, conint\n",
    "# from typing import Literal\n",
    "\n",
    "# class Person(BaseModel):\n",
    "#     name: str\n",
    "#     age: conint(ge=0, le=150)\n",
    "#     country: Literal[\"UK\", \"IN\"]\n",
    "\n",
    "# schema: dict = Person.model_json_schema()   # Pydantic v2\n",
    "# # schema_v1: dict = Person.schema()        # Pydantic v1\n",
    "# schema"
   ]
  },
  {
   "cell_type": "code",
   "execution_count": 3,
   "id": "f2f7705d",
   "metadata": {},
   "outputs": [],
   "source": [
    "# # vllm hosted model using LiteLLM\n",
    "\n",
    "# litellm_desc = {\n",
    "#     \"model_name\": \"Qwen/Qwen3-30B-A3B-Instruct-2507\",\n",
    "#     \"litellm_params\": {  # params for litellm completion/embedding call\n",
    "#         \"model\": \"hosted_vllm/Qwen/Qwen3-30B-A3B-Instruct-2507\",\n",
    "#         \"api_key\": os.environ.get(\"VLLM_API_KEY\", \"NO_KEY\"), # set your vLLM API key if needed\n",
    "#         \"api_base\": \"http://localhost:8000/v1\", # change to your vLLM API base URL\n",
    "#     },\n",
    "# }\n",
    "# base_lm = guidance.models.experimental.LiteLLM(model_description=litellm_desc, echo=True)"
   ]
  },
  {
   "cell_type": "code",
   "execution_count": null,
   "id": "d9a64119",
   "metadata": {},
   "outputs": [],
   "source": [
    "# using sglang hosted model\n",
    "# need to add the experimental sglang from nightly version of guidance - https://github.com/guidance-ai/guidance/blob/main/guidance/models/experimental/_sglang.py\n",
    "\n",
    "# base_lm = guidance.models.experimental.SglangModel(model=\"Qwen/Qwen3-4B-Instruct-2507\", base_url=\"http://127.0.0.1:40000/v1\" ,echo=True, api_key = os.environ.get(\"OPENAI_API_KEY\", \"NO_KEY\"))"
   ]
  },
  {
   "cell_type": "code",
   "execution_count": null,
   "id": "af344fea",
   "metadata": {},
   "outputs": [
    {
     "data": {
      "application/vnd.jupyter.widget-view+json": {
       "model_id": "a396d96c55734341ad08b0499cb0f09c",
       "version_major": 2,
       "version_minor": 0
      },
      "text/plain": [
       "StitchWidget(initial_height='auto', initial_width='100%', srcdoc='<!doctype html>\\n<html lang=\"en\">\\n<head>\\n …"
      ]
     },
     "metadata": {},
     "output_type": "display_data"
    },
    {
     "name": "stdout",
     "output_type": "stream",
     "text": [
      "Capital: Paris, Population: 2,161,000\n"
     ]
    }
   ],
   "source": [
    "# def run_gen_test(lm):\n",
    "#     with guidance.user():\n",
    "#         lm += \"What is the capital of France? and its population?\"\n",
    "#         lm += \"Format your answer as follows: Capital: <capital>, Population: <population>\"\n",
    "\n",
    "#     with guidance.assistant():\n",
    "#         lm += guidance.gen(max_tokens=1024, temperature=0.7, name=\"answer\")\n",
    "#         print(lm[\"answer\"])\n",
    "\n",
    "# run_gen_test(base_lm)"
   ]
  },
  {
   "cell_type": "code",
   "execution_count": null,
   "id": "1ada56a9",
   "metadata": {},
   "outputs": [],
   "source": []
  },
  {
   "cell_type": "code",
   "execution_count": 5,
   "id": "441f722c",
   "metadata": {},
   "outputs": [],
   "source": [
    "# %%bash\n",
    "\n",
    "# module purge\n",
    "# module load gcc-uoneasy/12.3.0\n",
    "# module load CUDA/12.4.0\n",
    "# export CC=gcc\n",
    "# export CXX=g++\n",
    "# # Remove TRITON_BUILD_WITH_CLANG_LLD=1 as it's Clang-specific; GCC may not need it\n",
    "# rm -rf ~/.triton ~/.cache/triton\n",
    "# export VLLM_WORKER_MULTIPROC_METHOD=spawn\n",
    "# module load anaconda-uoneasy/2023.09-0\n",
    "# source /gpfs01/home/ppxac9/.zshrc\n",
    "# conda activate envname"
   ]
  },
  {
   "cell_type": "code",
   "execution_count": 2,
   "id": "8e958171-f099-4301-9fa7-c6c012cad4f1",
   "metadata": {},
   "outputs": [],
   "source": [
    "import torch\n",
    "torch.cuda.empty_cache()\n",
    "\n",
    "import time\n",
    "import json\n",
    "from transformers import AutoTokenizer, AutoModelForCausalLM\n",
    "from pydantic import BaseModel, Field, RootModel\n",
    "from typing import Optional, Union, Literal, ForwardRef, List, Any\n",
    "from enum import Enum\n",
    "from guidance import models, system, user, assistant, json as gen_json, gen\n",
    "import torch\n",
    "from transformers import AutoModelForCausalLM, AutoTokenizer\n",
    "import json\n",
    "import torch\n",
    "from transformers import AutoTokenizer, AutoModelForCausalLM\n",
    "from pydantic import BaseModel, Field, RootModel\n",
    "from typing import Optional, Union\n",
    "from enum import Enum\n",
    "from guidance import models, system, user, assistant, json as gen_json\n",
    "import guidance\n",
    "from utils import timing_decorator"
   ]
  },
  {
   "cell_type": "code",
   "execution_count": null,
   "id": "eefc8c54",
   "metadata": {},
   "outputs": [],
   "source": []
  },
  {
   "cell_type": "code",
   "execution_count": 3,
   "id": "61020788-eeea-4d08-8416-f3658f754d54",
   "metadata": {},
   "outputs": [],
   "source": [
    "\n",
    "# with open(\"../output/2025-airport-charges-terms-and-conditions/tinychargesmarkdown.md\", \"r\") as f:\n",
    "#     markdown_content = f.read()\n",
    "# with open(\"../output/2025-airport-charges-terms-and-conditions/2025-airport-charges-terms-and-conditions.md\", \"r\") as f:\n",
    "#     markdown_content = f.read()    \n"
   ]
  },
  {
   "cell_type": "code",
   "execution_count": 4,
   "id": "e6630d98-68f2-4e0e-aae1-200df638fe4a",
   "metadata": {},
   "outputs": [],
   "source": [
    "# import os\n",
    "# os.environ[\"CUDA_VISIBLE_DEVICES\"] = \"3,4,5,6\""
   ]
  },
  {
   "cell_type": "code",
   "execution_count": 5,
   "id": "18612e87-e1a8-4861-9ad4-3b38207554ba",
   "metadata": {},
   "outputs": [],
   "source": [
    "\n",
    "# # MODEL_ID = \"Qwen/Qwen3-30B-A3B\"\n",
    "# MODEL_ID = \"Qwen/Qwen3-30B-A3B-Instruct-2507\"\n",
    "# hf_model = AutoModelForCausalLM.from_pretrained(\n",
    "#     MODEL_ID,\n",
    "#     device_map=\"auto\",       \n",
    "#     low_cpu_mem_usage=True,          \n",
    "# )\n",
    "\n",
    "\n",
    "# tok        = AutoTokenizer.from_pretrained(MODEL_ID)\n"
   ]
  },
  {
   "cell_type": "code",
   "execution_count": 6,
   "id": "1577363e-4e81-46f0-9015-89e97f664a70",
   "metadata": {},
   "outputs": [],
   "source": [
    "# from guidance.chat import ChatTemplate\n",
    "# class QwenChatTemplate(ChatTemplate):\n",
    "#     template_str = tok.chat_template\n",
    "#     def get_role_start(self, role_name):\n",
    "#         # adjust tokens if you use a derivative model with different tags\n",
    "#         if role_name == \"system\":\n",
    "#             return \"<|im_start|>system\\n\"\n",
    "#         elif role_name == \"user\":\n",
    "#             return \"<|im_start|>user\\n\"\n",
    "#         elif role_name == \"assistant\":\n",
    "#             return \"<|im_start|>assistant\\n\"\n",
    "#         else:\n",
    "#             raise UnsupportedRoleException(role_name, self)\n",
    "\n",
    "#     def get_role_end(self, role_name=None):\n",
    "#         # same token for every role in Qwen‑3\n",
    "#         return \"<|im_end|>\\n\""
   ]
  },
  {
   "cell_type": "code",
   "execution_count": 7,
   "id": "0302e424-a63e-4fad-ad0e-799cc798c0f8",
   "metadata": {},
   "outputs": [],
   "source": [
    "\n",
    "# model = guidance.models.Transformers(hf_model, tok, chat_template=QwenChatTemplate, echo=False)"
   ]
  },
  {
   "cell_type": "code",
   "execution_count": 8,
   "id": "e1cc4350-69c3-4f66-ba4e-1403b77e1aa4",
   "metadata": {},
   "outputs": [],
   "source": [
    "from pydantic import BaseModel, Field\n",
    "from typing import List, Any\n",
    "\n",
    "class DomainVariable(BaseModel):\n",
    "    \"\"\"Defines a single variable the LLM can use in the computation graph.\"\"\"\n",
    "    name: str = Field(..., description=\"The unique identifier for the variable.\")\n",
    "    description: str = Field(..., description=\"A detailed explanation of what this variable represents.\")\n",
    "    # Optional: You could add type hints, units, etc. for more advanced validation\n",
    "    unit: Optional[str] = Field(..., description=\"The unit of the variable\")\n",
    "    data_type : type = Field(..., description=\"The data type of the variable\")\n"
   ]
  },
  {
   "cell_type": "code",
   "execution_count": 9,
   "id": "9bfd994f-7310-4b5b-8946-72c0204efd63",
   "metadata": {},
   "outputs": [],
   "source": [
    "# ALL_VARIABLES = {\n",
    "    \n",
    "#     'transfer_passenger_count': DomainVariable(name='transfer_passenger_count', description='Total number of transferring passengers.', unit=None, data_type=float),\n",
    "#     'airline_scheduling_season': DomainVariable(name='airline_scheduling_season', description='Whether summer/winter airline scheduling season.', unit=None, data_type=float),\n",
    "#     'takeoff_aircraft_mtow_tonnes': DomainVariable(name='takeoff_aircraft_mtow_tonnes', description='The Maximum Take-Off Weight in tonnes.', unit='tonne', data_type=float),\n",
    "#     'landing_aircraft_mtow_tonnes': DomainVariable(name='landing_aircraft_mtow_tonnes', description='The Maximum Landing Weight in tonnes.', unit='tonne', data_type=float),\n",
    "    \n",
    "#     'parking_duration_hours': DomainVariable(\n",
    "#         name='parking_duration_hours',\n",
    "#         description='Total duration of parking in hours. Surcharges apply at 48 and 72 hours.',\n",
    "#         unit='hours',\n",
    "#         data_type=float\n",
    "#     ),\n",
    "#     'aircraft_stand_type': DomainVariable(\n",
    "#         name='aircraft_stand_type',\n",
    "#         description='The type of aircraft stand used for parking. E.g., \"Wide Contact\", \"Narrow Remote\", \"LAP\", \"Long Term Remote\".',\n",
    "#         unit=None,\n",
    "#         data_type=str\n",
    "#     ),\n",
    "#     'parking_location': DomainVariable(\n",
    "#         name='parking_location',\n",
    "#         description='The location of the parking stand, either \"EAP\" (East Aerodrome Parking) or \"WAP\" (West Aerodrome Parking).',\n",
    "#         unit=None,\n",
    "#         data_type=str\n",
    "#     ),\n",
    "#     'is_overnight_parking': DomainVariable(\n",
    "#         name='is_overnight_parking',\n",
    "#         description='True if the parking occurs during the free overnight period (2300-0600hrs).',\n",
    "#         unit=None,\n",
    "#         data_type=bool\n",
    "#     )\n",
    "# }\n",
    "# # 2. Map charge types to the variable names they are allowed to use\n",
    "# CHARGE_CATEGORY_VARIABLES = {\n",
    "#     # --- Existing Categories ---\n",
    "#     \"transfer_passenger_charge\": [\n",
    "#         'transfer_passenger_count', \n",
    "#         'airline_scheduling_season'\n",
    "#     ],\n",
    "#     \"runway_landing_charge\": [\n",
    "#         'landing_aircraft_mtow_tonnes', \n",
    "#         'airline_scheduling_season'\n",
    "#     ],\n",
    "#     \"runway_takeoff_charge\": [\n",
    "#         'takeoff_aircraft_mtow_tonnes', \n",
    "#         'airline_scheduling_season'\n",
    "#     ],\n",
    "\n",
    "#     # --- New Categories for Parking Charges ---\n",
    "#     \"east_aerodrome_parking_charge\": [\n",
    "#         'parking_duration_hours',\n",
    "#         'aircraft_stand_type',\n",
    "#         'is_overnight_parking'\n",
    "#         # 'parking_location' is implicitly 'EAP' for this category\n",
    "#     ],\n",
    "#     \"west_aerodrome_parking_charge\": [\n",
    "#         'parking_duration_hours',\n",
    "#         'aircraft_stand_type',\n",
    "#         'is_overnight_parking'\n",
    "#         # 'parking_location' is implicitly 'WAP' for this category\n",
    "#     ]\n",
    "# }\n",
    "\n"
   ]
  },
  {
   "cell_type": "code",
   "execution_count": 10,
   "id": "7bb3f643-b891-4d32-a5ab-b143bd224d54",
   "metadata": {},
   "outputs": [],
   "source": [
    "def create_dynamic_variable_enum(charge_category: str, charge_category_variables: dict) -> type(Enum):\n",
    "    \"\"\"\n",
    "    Creates a new Enum class containing only the variables relevant\n",
    "    to the specified charge category.\n",
    "    \"\"\"\n",
    "    variable_names = charge_category_variables.get(charge_category)\n",
    "    if not variable_names:\n",
    "        raise ValueError(f\"Unknown charge category: {charge_category}\")\n",
    "    \n",
    "    # The dictionary for the Enum must have {MEMBER_NAME: value}\n",
    "    # We'll use uppercase for the member name for convention.\n",
    "    enum_dict = {name.upper(): name for name in variable_names}\n",
    "    \n",
    "    # Create the Enum class dynamically\n",
    "    return Enum(\"Var\", enum_dict)\n",
    "\n",
    "# Var = create_dynamic_variable_enum(\"transfer_passenger_charge\", CHARGE_CATEGORY_VARIABLES)\n",
    "# print(Var.TRANSFER_PASSENGER_COUNT.value)"
   ]
  },
  {
   "cell_type": "code",
   "execution_count": 13,
   "id": "a76f7bde-494c-4106-bb5b-3bb5518e7cbf",
   "metadata": {},
   "outputs": [],
   "source": [
    "# allowed_variables = [el.value for el in list(Var)]\n",
    "# allowed_variables"
   ]
  },
  {
   "cell_type": "code",
   "execution_count": 11,
   "id": "846e72ef",
   "metadata": {},
   "outputs": [],
   "source": [
    "from enum import Enum\n",
    "\n",
    "class Units(str, Enum):\n",
    "    # General\n",
    "    UNITLESS = \"UNITLESS\"\n",
    "    PERCENT = \"PERCENT\"\n",
    "\n",
    "    # Time\n",
    "    NANOSECONDS = \"NANOSECONDS\"\n",
    "    MICROSECONDS = \"MICROSECONDS\"\n",
    "    MILLISECONDS = \"MILLISECONDS\"\n",
    "    SECONDS = \"SECONDS\"\n",
    "    MINUTES = \"MINUTES\"\n",
    "    HOURS = \"HOURS\"\n",
    "    DAYS = \"DAYS\"\n",
    "    WEEKS = \"WEEKS\"\n",
    "\n",
    "    # Length\n",
    "    MILLIMETERS = \"MILLIMETERS\"\n",
    "    CENTIMETERS = \"CENTIMETERS\"\n",
    "    METERS = \"METERS\"\n",
    "    KILOMETERS = \"KILOMETERS\"\n",
    "    INCHES = \"INCHES\"\n",
    "    FEET = \"FEET\"\n",
    "    YARDS = \"YARDS\"\n",
    "    MILES = \"MILES\"\n",
    "\n",
    "    # Mass\n",
    "    MILLIGRAMS = \"MILLIGRAMS\"\n",
    "    GRAMS = \"GRAMS\"\n",
    "    KILOGRAMS = \"KILOGRAMS\"\n",
    "    TONNES = \"TONNES\"\n",
    "\n",
    "    # Speed / Acceleration\n",
    "    METERS_PER_SECOND = \"METERS_PER_SECOND\"\n",
    "    KILOMETERS_PER_HOUR = \"KILOMETERS_PER_HOUR\"\n",
    "    MILES_PER_HOUR = \"MILES_PER_HOUR\"\n",
    "    METERS_PER_SECOND_SQUARED = \"METERS_PER_SECOND_SQUARED\"\n",
    "\n",
    "    # Data size\n",
    "    BYTES = \"BYTES\"\n",
    "    KILOBYTES = \"KILOBYTES\"\n",
    "    MEGABYTES = \"MEGABYTES\"\n",
    "    GIGABYTES = \"GIGABYTES\"\n",
    "    TERABYTES = \"TERABYTES\"\n",
    "    BITS = \"BITS\"\n",
    "\n",
    "    # Data rates\n",
    "    BITS_PER_SECOND = \"BITS_PER_SECOND\"\n",
    "    KILOBITS_PER_SECOND = \"KILOBITS_PER_SECOND\"\n",
    "    MEGABITS_PER_SECOND = \"MEGABITS_PER_SECOND\"\n",
    "    GIGABITS_PER_SECOND = \"GIGABITS_PER_SECOND\"\n",
    "    BYTES_PER_SECOND = \"BYTES_PER_SECOND\"\n",
    "\n",
    "    # Currencies (suggest using ISO codes)\n",
    "    EUROS = \"EUROS\"\n",
    "    USD = \"USD\"\n",
    "    GBP = \"GBP\"\n",
    "    JPY = \"JPY\"\n",
    "\n",
    "    # ML / LLM specific\n",
    "    TOKENS = \"TOKENS\"\n",
    "    TOKENS_PER_SECOND = \"TOKENS_PER_SECOND\"\n",
    "    SAMPLES = \"SAMPLES\"\n",
    "    SAMPLES_PER_SECOND = \"SAMPLES_PER_SECOND\"\n",
    "    REQUESTS_PER_SECOND = \"REQUESTS_PER_SECOND\"\n",
    "    FLOPS = \"FLOPS\"\n",
    "    GFLOPS = \"GFLOPS\"\n",
    "    TFLOPS = \"TFLOPS\""
   ]
  },
  {
   "cell_type": "code",
   "execution_count": 12,
   "id": "8443f36d",
   "metadata": {},
   "outputs": [],
   "source": [
    "from enum import Enum\n",
    "\n",
    "class MathOperator(str, Enum):\n",
    "    ADD = \"ADD\"\n",
    "    SUBTRACT = \"SUBTRACT\"\n",
    "    MULTIPLY = \"MULTIPLY\"\n",
    "    DIVIDE = \"DIVIDE\"\n",
    "    FLOOR_DIVIDE = \"FLOOR_DIVIDE\"\n",
    "    MOD = \"MOD\"\n",
    "    POWER = \"POWER\"\n",
    "    ROOT = \"ROOT\"\n",
    "    SQRT = \"SQRT\"\n",
    "    FLOOR = \"FLOOR\"\n",
    "    CEILING = \"CEILING\"\n",
    "    MIN = \"MIN\"\n",
    "    MAX = \"MAX\"\n",
    "    \n",
    "\n",
    "class Comparator(str, Enum):\n",
    "    EQUAL_TO = \"EQUAL_TO\"\n",
    "    NOT_EQUAL_TO = \"NOT_EQUAL_TO\"\n",
    "    LESS_THAN = \"LESS_THAN\"\n",
    "    LESS_THAN_OR_EQUAL_TO = \"LESS_THAN_OR_EQUAL_TO\"\n",
    "    GREATER_THAN = \"GREATER_THAN\"\n",
    "    GREATER_THAN_OR_EQUAL_TO = \"GREATER_THAN_OR_EQUAL_TO\"\n",
    "    "
   ]
  },
  {
   "cell_type": "code",
   "execution_count": 13,
   "id": "e377eb17-3b9e-4dd9-a99f-361990a05925",
   "metadata": {},
   "outputs": [],
   "source": [
    "from pydantic import BaseModel, Field, RootModel\n",
    "from typing import Union, Literal\n",
    "from enum import Enum\n",
    "\n",
    "# Separate enums for clarity and type safety\n",
    "# class MathOperator(str, Enum):\n",
    "#     ADD = \"ADD\"\n",
    "#     MULTIPLY = \"MULTIPLY\"\n",
    "#     DIVIDE = \"DIVIDE\"\n",
    "#     CEIL = \"CEIL\"\n",
    "    \n",
    "# class Comparator(str, Enum):\n",
    "#     GREATER_THAN = \"GREATER_THAN\"\n",
    "#     LESS_THAN = \"LESS_THAN\"\n",
    "#     EQUAL_TO = \"EQUAL_TO\"\n",
    "\n",
    "# class Units(str, Enum):\n",
    "#     HOURS = \"HOURS\"\n",
    "#     MINUTES = \"MINUTES\"\n",
    "#     EUROS = \"EUROS\"\n",
    "#     PERCENT = \"PERCENT\"\n",
    "#     UNITLESS = \"UNITLESS\"\n",
    "    \n",
    "# --- Node Definitions ---\n",
    "\n",
    "class ValueNode(BaseModel):\n",
    "    type: Literal[\"VALUE\"] = \"VALUE\"\n",
    "    value: float\n",
    "    description: str\n",
    "    unit: Units\n",
    "\n",
    "class CategoricalValueNode(BaseModel):\n",
    "    type: Literal[\"CATEGORICAL_VALUE\"] = \"CATEGORICAL_VALUE\"\n",
    "    value: str\n",
    "    description: str\n",
    "\n",
    "class VariableNode(BaseModel):\n",
    "    type: Literal[\"VARIABLE\"] = \"VARIABLE\"\n",
    "    name: str \n",
    "    description: str\n",
    "    unit: Units\n",
    "\n",
    "class BinaryOpNode(BaseModel):\n",
    "    \"\"\"Node for mathematical operations that produce a number.\"\"\"\n",
    "    type: Literal[\"BINARY_OPERATION\"] = \"BINARY_OPERATION\"\n",
    "    operator: MathOperator\n",
    "    left: 'AnyNode'\n",
    "    right: 'AnyNode'\n",
    "\n",
    "class ComparisonNode(BaseModel):\n",
    "    \"\"\"Node for comparison operations that produce a boolean.\"\"\"\n",
    "    type: Literal[\"COMPARISON\"] = \"COMPARISON\"\n",
    "    operator: Comparator\n",
    "    left: 'AnyNode'\n",
    "    right: 'AnyNode'\n",
    "\n",
    "class ConditionalNode(BaseModel):\n",
    "    \"\"\"Node for if-then-else logic.\"\"\"\n",
    "    type: Literal[\"CONDITIONAL\"] = \"CONDITIONAL\"\n",
    "    condition: ComparisonNode # Condition must be a comparison\n",
    "    if_true: 'AnyNode'\n",
    "    if_false: 'AnyNode'\n",
    "\n",
    "# --- Recursive Setup ---\n",
    "\n",
    "AnyNode = Union[\n",
    "    ValueNode,\n",
    "    CategoricalValueNode, \n",
    "    VariableNode, \n",
    "    BinaryOpNode, \n",
    "    ConditionalNode\n",
    "]\n",
    "\n",
    "# Use model_rebuild() to safely resolve all forward references\n",
    "BinaryOpNode.model_rebuild()\n",
    "ConditionalNode.model_rebuild()\n",
    "ComparisonNode.model_rebuild()\n",
    "\n",
    "class Node(RootModel):\n",
    "    root: BinaryOpNode"
   ]
  },
  {
   "cell_type": "code",
   "execution_count": 14,
   "id": "e33228fd-369c-4df3-9122-6c93d57d7053",
   "metadata": {},
   "outputs": [],
   "source": [
    "from pydantic import BaseModel, Field, field_validator\n",
    "from typing import List, Dict, Any, Optional\n",
    "from enum import Enum\n",
    "\n",
    "\n",
    "class ParameterStatus(str, Enum):\n",
    "    \"\"\"An enumeration for clear, explicit parameter statuses.\"\"\"\n",
    "    KNOWN = \"KNOWN\"\n",
    "    SYMBOLIC = \"SYMBOLIC\"\n",
    "\n",
    "class VariableType(str, Enum):\n",
    "    \"\"\"An enumeration for clear, explicit parameter statuses.\"\"\"\n",
    "    CATEGORICAL = \"CATEGORICAL\"\n",
    "    NUMERIC = \"NUMERIC\"\n",
    "\n",
    "class ParameterDetail(BaseModel):\n",
    "    \"\"\"A structured model to describe each parameter identified from the query.\"\"\"\n",
    "    name: str = Field(..., description=\"The name of the parameter.\")\n",
    "    status: ParameterStatus = Field(..., description=\"Whether the parameter's value is known from the query or is a symbolic variable.\")\n",
    "    type_of_variable: VariableType = Field(..., description=\"whether the variable is numeric or categorical\")\n",
    "    # value: Optional[Any] = Field(None, description=\"The actual value of the parameter, if its status is 'KNOWN'. Must be null if status is 'SYMBOLIC'.\")\n",
    "    \n",
    "\n",
    "\n",
    "class ReasoningSchemaStep1(BaseModel):\n",
    "    query_parameters: List[ParameterDetail] = Field(\n",
    "        ...,\n",
    "        description=\"A structured list of all parameters identified from the query and their status.\"\n",
    "    )\n",
    "class ReasoningSchemaStep2(BaseModel):\n",
    "    \"\"\"\n",
    "    A simplified schema for Step 2 that captures all constants and rules as a simple list of descriptive strings.\n",
    "    \"\"\"\n",
    "    identified_constants_and_rules: List[str] = Field(\n",
    "        ...,\n",
    "        description=\"A comprehensive list of all facts, constants, and conditional rules extracted from the document that are necessary for the final calculation. Each string in the list should be a self-contained, clear statement. For example: 'The rate for a Narrow Satellite stand is €32.90 per 15 minutes' or 'A 100% surcharge is applied if parking duration is between 48 and 72 hours'.\"\n",
    "    )\n",
    "class ReasoningSchemaStep3(BaseModel):\n",
    "    synthesis_plan: str = Field(\n",
    "        ...,\n",
    "        description=\"A concise, step-by-step plan describing how the variables and constants are combined into the final computation graph.\"\n",
    "    )\n",
    "class ReasoningSchemaStep4(BaseModel):\n",
    "    rethink: str = Field(\n",
    "        ...,\n",
    "        description=\"Final check to ensure the plan correctly uses variables and constants and handles all logic from the document.\"\n",
    "    )\n"
   ]
  },
  {
   "cell_type": "code",
   "execution_count": 15,
   "id": "4f9e75d4-47b6-41b3-820f-2b3dbcb825c8",
   "metadata": {},
   "outputs": [],
   "source": [
    "@guidance\n",
    "def create_graph_with_cot(llm, allowed_variables_prompt, thought1, document, query, output_schema):\n",
    "    \n",
    "    with system():\n",
    "        llm += f\"\"\"You are an expert system that converts textual calculation rules into structured JSON expression trees.\n",
    "        You MUST think step-by-step and reason before generating the final JSON.\n",
    "        \n",
    "        **Reasoning Guidelines:**\n",
    "        1.  **Analyze Query Parameters:** Identify all relevant parameters from the user's query. For each parameter, create a structured object specifying its 'name', its 'status' ('KNOWN' if the value is given, or 'SYMBOLIC' if it's a variable), its 'type_of_variable' ('NUMERIC' if the value is a number or 'CATEGORICAL' if the value is categories), and its 'value' (or null if symbolic). For example: `[ {{\"name\": \"aircraft_stand_type\", \"status\": \"KNOWN\", \"type_of_variable\": \"CATEGORICAL\", \"value\": \"Wide Remote\"}}, {{\"name\": \"parking_duration_hours\", \"status\": \"SYMBOLIC\", \"type_of_variable\": \"NUMERIC\", \"value\": null}} ]`\n",
    "        **Allowed Variables for this Task:**\n",
    "        ---\n",
    "        {allowed_variables_prompt}\n",
    "        ---\n",
    "        2. **Identify All Relevant Information**: Review the document and extract every fact, constant, and conditional rule needed for the calculation. Each piece of information should be written as a clear, self-contained sentence and collected into a list of strings.\n",
    "        3.  **Synthesize Plan:** Briefly describe how you will combine these pieces into a final expression tree.\n",
    "        4. **Rethink and Finalize Approach**: Before processing with generation, rethink your progress so far and make adjustments if necessary, then finalize and proceed to generate the expression tree.\n",
    "\n",
    "        **Crucial Rule 1:** If a parameter from the 'Allowed Variables' list is given a specific value in the query, you MUST treat it as a fixed value to find constants. You MUST NOT include it as a `VARIABLE` node in the final JSON.\n",
    "        **Crucial Rule 2**: If a calculation path or value depends on the value of a symbolic variable, you MUST capture the rules for all possible values and represent this logic using CONDITIONAL nodes in the final expression tree. You MUST NOT assume a default value for the variable to simplify the logic.\n",
    "        **Crucial Rule 3 (Categorical Variables)**: Variables whose domain is categorical (e.g., string-valued like 'flight_type', 'stand_type') must be handled explicitly.\n",
    "            - If the query supplies a category, treat it as fixed (per Rule 1).\n",
    "            - If the query does not supply a category, mark the variable as 'SYMBOLIC' in Step 1 and ensure the final expression covers all category-dependent branches stated in the document using `CONDITIONAL` nodes. Do NOT assume a default category. Always use `CATEGORICAL_VALUE_NODE` for category constants.\n",
    "            - Ensure every variable in the Allowed Variables list appears in Step 1 with a status of KNOWN or SYMBOLIC.\n",
    "            - Encoding guidance: when checking a categorical branch, use a `COMPARISON` node with operator `EQUAL_TO`, `left` as a `VARIABLE` node for the categorical variable, and `right` as a `CATEGORICAL_VALUE_NODE` whose `value` is the category string (e.g., \"International\").\n",
    "\n",
    "        **Crucial Rule 4 (Numeric vs Categorical Comparisons)**:\n",
    "            - Numeric variables must be compared against numeric `VALUE` nodes whose `value` is a number.\n",
    "            - Categorical variables must be compared against `CATEGORICAL_VALUE_NODE` nodes whose `value` is the category string.\n",
    "            - Do NOT compare a categorical variable to a numeric `VALUE` node, and do NOT compare a numeric variable to a `CATEGORICAL_VALUE_NODE`.\n",
    "            \n",
    "        After writing your reasoning, you WILL generate the JSON object.\n",
    "\n",
    "\n",
    "        \"\"\"\n",
    "\n",
    "    with user():\n",
    "        llm += f\"\"\"\n",
    "        **Document:**\n",
    "        ---\n",
    "        {document}\n",
    "        ---\n",
    "\n",
    "        **Query:**\n",
    "        \n",
    "        Based on the document, construct the computation graph for the following request:\n",
    "        \n",
    "        \"{query}\"\n",
    "\n",
    "        ---\n",
    "\n",
    "        **Initiate Process:**\n",
    "\n",
    "        You will now follow the reasoning guidelines step-by-step before generating the final JSON.\\n\n",
    "        Step1. Analyze Query Parameters:\\n\n",
    "\n",
    "        {thought1}\n",
    "        \"\"\"\n",
    "\n",
    "    # with assistant():\n",
    "    #     # llm += \"I will now follow the reasoning guidelines step-by-step before generating the final JSON.\\n\"\n",
    "    #     # llm += \"Step1. Analyze Query Parameters:\\n\"\n",
    "    #     llm += guidance.json(\n",
    "    #         name=\"thought1\", \n",
    "    #         schema=ReasoningSchemaStep1, \n",
    "    #         max_tokens=1000)\n",
    "    \n",
    "    with user():\n",
    "        llm += \"Step2. Identify All Relevant Information:\\n\"\n",
    "\n",
    "    with assistant():\n",
    "        # llm += \"Step2. Identify All Relevant Information:\\n\"\n",
    "        llm += guidance.json(\n",
    "            name=\"thought2\", \n",
    "            schema=ReasoningSchemaStep2, \n",
    "            max_tokens=1000)\n",
    "\n",
    "    with user():\n",
    "        llm += \"Step3. Synthesize Plan:\\n\"\n",
    "\n",
    "    with assistant():\n",
    "        # llm += \"Step3. Synthesize Plan:\\n\"\n",
    "        llm += guidance.json(\n",
    "            name=\"thought3\", \n",
    "            schema=ReasoningSchemaStep3, \n",
    "            max_tokens=1000)\n",
    "\n",
    "    with user():\n",
    "        llm += \"Step4. Rethink and Finalize Approach:\\n\"\n",
    "\n",
    "    with assistant():\n",
    "        # llm += \"Step4. Rethink and Finalize Approach:\\n\"\n",
    "        llm += guidance.json(\n",
    "            name=\"thought4\", \n",
    "            schema=ReasoningSchemaStep4, \n",
    "            max_tokens=1000)\n",
    "\n",
    "    with user():\n",
    "        llm += \"Step5. Generate the JSON object:\\n\"\n",
    "        # After thinking, it generates the JSON.\n",
    "        # llm += \"\\n\\nFinal JSON object:\\n\"\n",
    "        \n",
    "    with assistant():\n",
    "        llm += gen_json(\n",
    "            name=\"result_graph\", \n",
    "            schema=output_schema,\n",
    "            max_tokens=8000 \n",
    "        )\n",
    "        \n",
    "    return llm"
   ]
  },
  {
   "cell_type": "code",
   "execution_count": 16,
   "id": "4d910e07-d59b-480d-b317-440939d7566d",
   "metadata": {},
   "outputs": [],
   "source": [
    "\n",
    "class ComputationGraphBuilder:\n",
    "    \"\"\"\n",
    "    Orchestrates the creation of a computation graph by preparing dynamic\n",
    "    constraints and prompting the LLM.\n",
    "    \"\"\"\n",
    "    \n",
    "    def __init__(self, model):\n",
    "        \"\"\"\n",
    "        Initializes the builder with a guidance model.\n",
    "        \"\"\"\n",
    "        self.model = model\n",
    "        # Set the default LLM for all guidance programs\n",
    "        # guidance.llm = self.model\n",
    "    @timing_decorator\n",
    "    def build(self, document_content: str, query: str, charge_category: str, charge_category_variables: dict, all_variables: dict) -> dict:\n",
    "        \"\"\"\n",
    "        Generates a computation graph for a given query and document.\n",
    "\n",
    "        Args:\n",
    "            document_content: The text containing the rules.\n",
    "            query: A natural language question about what to calculate.\n",
    "            charge_category: The specific charge context used to filter variables.\n",
    "\n",
    "        Returns:\n",
    "            A dictionary representing the computation graph or an error.\n",
    "        \"\"\"\n",
    "        print(f\"--- Building graph for charge category: '{charge_category}' ---\")\n",
    "        \n",
    "        # 1. Dynamically create the filtered Enum for this specific task\n",
    "        try:\n",
    "            Var = create_dynamic_variable_enum(charge_category, charge_category_variables)\n",
    "        except ValueError as e:\n",
    "            print(f\"Error: {e}\")\n",
    "            return {\"error\": str(e)}\n",
    "\n",
    "        def _var_type(v):\n",
    "            try:\n",
    "                return \"CATEGORICAL\" if v.data_type is str else \"NUMERIC\"\n",
    "            except Exception:\n",
    "                return \"UNKNOWN\"\n",
    "        # 3. Create a formatted prompt string of allowed variables for the LLM\n",
    "        allowed_variables = [el.value for el in list(Var)]\n",
    "        allowed_variables_prompt = \"\\n\".join(\n",
    "            [\n",
    "                f\"- **{v.name}** | type: {_var_type(v)} | unit: {v.unit} — {v.description}\"\n",
    "                for name, v in all_variables.items() if name in allowed_variables\n",
    "            ]\n",
    "        )\n",
    "\n",
    "        allowed_variables_t1_struct = \"\\n\".join(\n",
    "            [\n",
    "                f\"\"\"variable name={v.name}, \\n type_of_variable={_var_type(v)}, \\n status=SYMBOLIC, \\n description={v.description}\"\"\"\n",
    "                for name, v in all_variables.items() if name in allowed_variables\n",
    "            ]\n",
    "        )\n",
    "        # {ParameterDetail(name=v.name, status=\"SYMBOLIC\", type_of_variable=_var_type(v)) for name, v in all_variables.items() if name in allowed_variables}\n",
    "        \n",
    "\n",
    "        try:\n",
    "            # 4. Execute the guidance program with all dynamic components\n",
    "            result_lm = self.model + create_graph_with_cot(\n",
    "                allowed_variables_prompt=allowed_variables_prompt,\n",
    "                thought1 = allowed_variables_t1_struct,\n",
    "                document=document_content,\n",
    "                query=query,\n",
    "                output_schema=Node\n",
    "            )\n",
    "            \n",
    "            \n",
    "            # print(\"\\nSuccessfully generated graph:\")\n",
    "            # # Use model_dump_json for Pydantic v2\n",
    "            # print(pydantic_graph.model_dump_json(indent=2)) \n",
    "            return result_lm\n",
    "            \n",
    "        except Exception as e:\n",
    "            print(f\"\\nAn error occurred while building the graph for '{query}': {e}\")\n",
    "            return {\"error\": str(e)}"
   ]
  },
  {
   "cell_type": "code",
   "execution_count": 17,
   "id": "e0c2b98c-68d6-41f5-a262-3e0d42d7d11c",
   "metadata": {},
   "outputs": [],
   "source": [
    "import sympy\n",
    "import re, keyword\n",
    "from sympy import (\n",
    "    Symbol, Piecewise, sympify, Add, Mul, Pow,\n",
    "    Min, Max, floor, ceiling, Rational, Mod\n",
    ")\n",
    "\n",
    "def _sanitize_symbol_name(val: object) -> str:\n",
    "    # name = re.sub(r\"\\W+\", \"_\", str(val)).strip(\"_\")\n",
    "    name = re.sub(r\"[^A-Za-z0-9]+\", \"\", str(val))\n",
    "    if not name:\n",
    "        name = \"_VAL\"\n",
    "    # Must start with letter or underscore\n",
    "    if not re.match(r\"[A-Za-z_]\\w*$\", name):\n",
    "        name = \"_\" + name\n",
    "    # Avoid reserved/boolean-like names\n",
    "    if keyword.iskeyword(name) or name in {\"None\", \"True\", \"False\", \"true\", \"false\", \"none\"}:\n",
    "        name = \"_\" + name\n",
    "    return name.lower()\n",
    "\n",
    "def compose_expression(node: dict):\n",
    "    \"\"\"\n",
    "    Recursively parses a JSON graph into a SymPy expression,\n",
    "    preventing automatic simplification.\n",
    "\n",
    "    Args:\n",
    "        node: A dictionary representing a node in the computation graph.\n",
    "\n",
    "    Returns:\n",
    "        A non-evaluated sympy expression representing the computation.\n",
    "    \"\"\"\n",
    "\n",
    "    node_type = node.get('type')\n",
    "\n",
    "    if node_type == \"VALUE\":\n",
    "        return sympify(node['value'])\n",
    "    \n",
    "    elif node_type == \"CATEGORICAL_VALUE\":\n",
    "        \n",
    "        sanitized = _sanitize_symbol_name(node['value'])\n",
    "        return Symbol(sanitized)\n",
    "        # return sympify(sanitized)\n",
    "\n",
    "    elif node_type == \"VARIABLE\":\n",
    "        return Symbol(node['name'])\n",
    "\n",
    "    elif node_type == \"BINARY_OPERATION\":\n",
    "        left = compose_expression(node['left'])\n",
    "        right = compose_expression(node['right'])\n",
    "        operator = node['operator']\n",
    "        \n",
    "        # Use class constructors with evaluate=False to prevent simplification\n",
    "        if operator == \"ADD\":\n",
    "            return Add(left, right, evaluate=False)\n",
    "        elif operator == \"MULTIPLY\":\n",
    "            return Mul(left, right, evaluate=False)\n",
    "        elif operator == \"SUBTRACT\":\n",
    "            return Add(left, Mul(-1, right, evaluate=False), evaluate=False)\n",
    "        elif operator == \"FLOOR_DIVIDE\":\n",
    "            q = Mul(left, Pow(right, -1, evaluate=False), evaluate=False)\n",
    "            return floor(q, evaluate=False)\n",
    "        elif operator == \"MOD\":\n",
    "            return Mod(left, right, evaluate=False)\n",
    "        elif operator == \"POWER\":\n",
    "            return Pow(left, right, evaluate=False)\n",
    "        elif operator == \"ROOT\":\n",
    "            inv = Pow(right, -1, evaluate=False)\n",
    "            return Pow(left, inv, evaluate=False)\n",
    "        elif operator == \"SQRT\":\n",
    "            return Pow(left, Rational(1, 2), evaluate=False)\n",
    "        elif operator == \"FLOOR\":\n",
    "            return floor(left, evaluate=False)\n",
    "        elif operator == \"CEILING\":\n",
    "            return ceiling(left, evaluate=False)\n",
    "        elif operator == \"MIN\":\n",
    "            return Min(left, right, evaluate=False)\n",
    "        elif operator == \"MAX\":\n",
    "            return Max(left, right, evaluate=False)\n",
    "        elif operator == \"DIVIDE\":\n",
    "            # Division (a/b) is represented as a * (b**-1)\n",
    "            power = Pow(right, -1, evaluate=False)\n",
    "            return Mul(left, power, evaluate=False)\n",
    "        else:\n",
    "            raise ValueError(f\"Unsupported binary operator: {operator}\")\n",
    "\n",
    "    elif node_type == \"COMPARISON\":\n",
    "        left = compose_expression(node['left'])\n",
    "        right = compose_expression(node['right'])\n",
    "        operator = node['operator']\n",
    "\n",
    "        if operator == \"GREATER_THAN\":\n",
    "            return left > right\n",
    "        elif operator == \"LESS_THAN\":\n",
    "            return left < right\n",
    "        elif operator == \"EQUAL_TO\":\n",
    "            return sympy.Eq(left, right, evaluate=False)\n",
    "        elif operator == \"NOT_EQUAL_TO\":\n",
    "            return sympy.Ne(left, right, evaluate=False)\n",
    "        elif operator == \"LESS_THAN_OR_EQUAL_TO\":\n",
    "            return sympy.Le(left, right, evaluate=False)\n",
    "        elif operator == \"GREATER_THAN_OR_EQUAL_TO\":\n",
    "            return sympy.Ge(left, right, evaluate=False)\n",
    "        else:\n",
    "            raise ValueError(f\"Unsupported comparison operator: {operator}\")\n",
    "\n",
    "    elif node_type == \"CONDITIONAL\":\n",
    "        condition = compose_expression(node['condition'])\n",
    "        if_true_expr = compose_expression(node['if_true'])\n",
    "        if_false_expr = compose_expression(node['if_false'])\n",
    "        \n",
    "        return Piecewise((if_true_expr, condition), (if_false_expr, True))\n",
    "\n",
    "    else:\n",
    "        raise ValueError(f\"Unknown node type: {node_type}\")"
   ]
  },
  {
   "cell_type": "code",
   "execution_count": 18,
   "id": "c32f9032-14c4-4108-8c7e-89cd4a826589",
   "metadata": {},
   "outputs": [],
   "source": [
    "import json\n",
    "import traceback\n",
    "\n",
    "\n",
    "def create_computation_graph(model, query, charge_category, markdown_content, charge_category_variables, all_variables):\n",
    "    graph_builder = ComputationGraphBuilder(model=model)\n",
    "\n",
    "    start_time = time.perf_counter()\n",
    "    llm_structured_response = graph_builder.build(\n",
    "        document_content=markdown_content,\n",
    "        query=query,\n",
    "        charge_category=charge_category,\n",
    "        charge_category_variables=charge_category_variables,\n",
    "        all_variables=all_variables\n",
    "    )\n",
    "    end_time = time.perf_counter()\n",
    "    build_time = end_time - start_time\n",
    "\n",
    "    return llm_structured_response, build_time\n",
    "    "
   ]
  },
  {
   "cell_type": "markdown",
   "id": "0be5dfa1",
   "metadata": {},
   "source": [
    "# Tyler's Evals Trial 1"
   ]
  },
  {
   "cell_type": "markdown",
   "id": "7b4e4d3e",
   "metadata": {},
   "source": [
    "## Pre-Processing"
   ]
  },
  {
   "cell_type": "code",
   "execution_count": 19,
   "id": "4ca201a7",
   "metadata": {},
   "outputs": [],
   "source": [
    "from json import JSONDecodeError\n",
    "\n",
    "def generate(path):\n",
    "    computed_records = {}\n",
    "    with open(path, \"r\", encoding=\"utf-8\") as f:\n",
    "        records = [json.loads(line) for line in f if line.strip()]\n",
    "    \n",
    "    for record_id, record in enumerate(records):\n",
    "        if record_id >= 5:\n",
    "            continue\n",
    "        content, charges = record\n",
    "        markdown_content = content\n",
    "        charge_category_variables = {k: v['variables_used'] for k, v in charges.items()}\n",
    "        computed_records[str(record_id)] = {}\n",
    "        import builtins\n",
    "        def to_built_in_type(type_str: str):\n",
    "            t = getattr(builtins, type_str, None)\n",
    "            if isinstance(t, type):\n",
    "                return t\n",
    "            raise ValueError(f\"{type_str} is not a valid built-in type\")\n",
    "\n",
    "        charge_variables = {}\n",
    "        all_variables = {}\n",
    "        for charge, variables in charge_category_variables.items():\n",
    "            charge_variables[charge] = list(variables.keys())\n",
    "            for var, details in variables.items():\n",
    "                all_variables[var] = DomainVariable(name=var,\n",
    "                    description=details['description'],\n",
    "                    unit=details['unit'],\n",
    "                    data_type=to_built_in_type(details['dtype']))\n",
    "\n",
    "        for charge_category in list(charge_variables.keys()):\n",
    "            \n",
    "            query = f\"Calculate the total {charge_category}. Charge description - {charges[charge_category]['charge_description']}\"    \n",
    "            print(query, charge_category, charge_variables, all_variables)\n",
    "            result, execution_time = create_computation_graph(base_lm, query, charge_category, markdown_content, charge_variables, all_variables)\n",
    "            \n",
    "            try:\n",
    "                payload = {charge_category: {\n",
    "                    'query': query,\n",
    "                    'thought2':json.loads(result.get(\"thought2\")),\n",
    "                    'thought3':json.loads(result.get(\"thought3\")),\n",
    "                    'thought4':json.loads(result.get(\"thought4\")),\n",
    "                    'computation_graph':json.loads(result.get(\"result_graph\")),\n",
    "                    'execution_time': execution_time,\n",
    "                    'status': 'SUCCESS'\n",
    "                }\n",
    "                }\n",
    "                computed_records[str(record_id)][charge_category] = payload\n",
    "            except JSONDecodeError:\n",
    "                payload = {charge_category: {\n",
    "                    'query': query,\n",
    "                    'thought2':result.get(\"thought2\"),\n",
    "                    'thought3':result.get(\"thought3\"),\n",
    "                    'thought4':result.get(\"thought4\"),\n",
    "                    'computation_graph':result.get(\"result_graph\"),\n",
    "                    'execution_time': execution_time,\n",
    "                    'status': 'ERROR'\n",
    "                }\n",
    "                }\n",
    "\n",
    "            \n",
    "    return computed_records"
   ]
  },
  {
   "cell_type": "code",
   "execution_count": 20,
   "id": "7e6f3e97",
   "metadata": {},
   "outputs": [],
   "source": [
    "from sympy import lambdify, Symbol\n",
    "\n",
    "def evaluate(computation_graph, charge_variable, ground_truth_code):\n",
    "    symbolic_expr = compose_expression(computation_graph)\n",
    "    \n",
    "    charge, variables = charge_variable\n",
    "    symbolic_vars = tuple([Symbol(var) for var in variables])\n",
    "    \n",
    "    symbolic_func = lambdify(symbolic_vars, symbolic_expr, 'sympy')\n",
    "\n",
    "    ns = {}\n",
    "    exec(ground_truth_code, ns)                 # defines compute_charge in ns\n",
    "    ground_truth_func = ns['compute_charge']\n",
    "\n",
    "    return symbolic_func, ground_truth_func\n"
   ]
  },
  {
   "cell_type": "code",
   "execution_count": null,
   "id": "bbb82cf8",
   "metadata": {},
   "outputs": [
    {
     "name": "stdout",
     "output_type": "stream",
     "text": [
      "Calculate the total compute_vm_fee. Charge description - Charge for running virtual machines based on vCPU, memory, OS, and commitment. compute_vm_fee {'compute_vm_fee': ['os_type', 'usage_hours'], 'gpu_compute_fee': ['gpu_type'], 'managed_disk_fee': ['managed_disk_count'], 'data_egress_fee': ['region'], 'data_ingress_fee': ['region', 'data_ingress_gb'], 'storage_transaction_fee': ['redundancy', 'storage_transactions_millions'], 'public_ip_fee': ['region', 'public_ip_count'], 'load_balancer_fee': ['load_balancer_rules'], 'aks_cluster_fee': ['region'], 'function_app_fee': ['region', 'function_exec_ms'], 'sql_database_fee': ['region', 'backup_retention_days'], 'snapshot_storage_fee': ['redundancy'], 'app_service_fee': ['service_tier', 'app_service_instances']} {'os_type': DomainVariable(name='os_type', description='Operating system for the compute workload', unit='os', data_type=<class 'str'>), 'usage_hours': DomainVariable(name='usage_hours', description='Total runtime in hours over the billing window', unit='hours', data_type=<class 'float'>), 'gpu_type': DomainVariable(name='gpu_type', description='Type of GPU accelerator', unit='gpu type', data_type=<class 'str'>), 'managed_disk_count': DomainVariable(name='managed_disk_count', description='Count of managed disks attached', unit='disks', data_type=<class 'int'>), 'region': DomainVariable(name='region', description='Azure region where resources are deployed', unit='region', data_type=<class 'str'>), 'data_ingress_gb': DomainVariable(name='data_ingress_gb', description='Inbound data transferred to Azure', unit='GB', data_type=<class 'float'>), 'redundancy': DomainVariable(name='redundancy', description='Storage redundancy configuration', unit='redundancy', data_type=<class 'str'>), 'storage_transactions_millions': DomainVariable(name='storage_transactions_millions', description='Number of storage account operations in millions', unit='million tx', data_type=<class 'float'>), 'public_ip_count': DomainVariable(name='public_ip_count', description='Number of public IP addresses allocated', unit='IPs', data_type=<class 'int'>), 'load_balancer_rules': DomainVariable(name='load_balancer_rules', description='Configured load balancer rules', unit='rules', data_type=<class 'int'>), 'function_exec_ms': DomainVariable(name='function_exec_ms', description='Average or billed execution time per invocation', unit='ms', data_type=<class 'float'>), 'backup_retention_days': DomainVariable(name='backup_retention_days', description='Backup retention period for databases', unit='days', data_type=<class 'int'>), 'service_tier': DomainVariable(name='service_tier', description='Service tier for managed services', unit='tier', data_type=<class 'str'>), 'app_service_instances': DomainVariable(name='app_service_instances', description='Count of App Service instances', unit='instances', data_type=<class 'int'>)}\n",
      "--- Building graph for charge category: 'compute_vm_fee' ---\n"
     ]
    },
    {
     "data": {
      "application/vnd.jupyter.widget-view+json": {
       "model_id": "d2d481a7251841b4bc70889fb4f91146",
       "version_major": 2,
       "version_minor": 0
      },
      "text/plain": [
       "StitchWidget(initial_height='auto', initial_width='100%', srcdoc='<!doctype html>\\n<html lang=\"en\">\\n<head>\\n …"
      ]
     },
     "metadata": {},
     "output_type": "display_data"
    },
    {
     "name": "stdout",
     "output_type": "stream",
     "text": [
      "Execution time for 'build': 25.4051 seconds\n",
      "Calculate the total gpu_compute_fee. Charge description - Charge for GPU-enabled compute usage. gpu_compute_fee {'compute_vm_fee': ['os_type', 'usage_hours'], 'gpu_compute_fee': ['gpu_type'], 'managed_disk_fee': ['managed_disk_count'], 'data_egress_fee': ['region'], 'data_ingress_fee': ['region', 'data_ingress_gb'], 'storage_transaction_fee': ['redundancy', 'storage_transactions_millions'], 'public_ip_fee': ['region', 'public_ip_count'], 'load_balancer_fee': ['load_balancer_rules'], 'aks_cluster_fee': ['region'], 'function_app_fee': ['region', 'function_exec_ms'], 'sql_database_fee': ['region', 'backup_retention_days'], 'snapshot_storage_fee': ['redundancy'], 'app_service_fee': ['service_tier', 'app_service_instances']} {'os_type': DomainVariable(name='os_type', description='Operating system for the compute workload', unit='os', data_type=<class 'str'>), 'usage_hours': DomainVariable(name='usage_hours', description='Total runtime in hours over the billing window', unit='hours', data_type=<class 'float'>), 'gpu_type': DomainVariable(name='gpu_type', description='Type of GPU accelerator', unit='gpu type', data_type=<class 'str'>), 'managed_disk_count': DomainVariable(name='managed_disk_count', description='Count of managed disks attached', unit='disks', data_type=<class 'int'>), 'region': DomainVariable(name='region', description='Azure region where resources are deployed', unit='region', data_type=<class 'str'>), 'data_ingress_gb': DomainVariable(name='data_ingress_gb', description='Inbound data transferred to Azure', unit='GB', data_type=<class 'float'>), 'redundancy': DomainVariable(name='redundancy', description='Storage redundancy configuration', unit='redundancy', data_type=<class 'str'>), 'storage_transactions_millions': DomainVariable(name='storage_transactions_millions', description='Number of storage account operations in millions', unit='million tx', data_type=<class 'float'>), 'public_ip_count': DomainVariable(name='public_ip_count', description='Number of public IP addresses allocated', unit='IPs', data_type=<class 'int'>), 'load_balancer_rules': DomainVariable(name='load_balancer_rules', description='Configured load balancer rules', unit='rules', data_type=<class 'int'>), 'function_exec_ms': DomainVariable(name='function_exec_ms', description='Average or billed execution time per invocation', unit='ms', data_type=<class 'float'>), 'backup_retention_days': DomainVariable(name='backup_retention_days', description='Backup retention period for databases', unit='days', data_type=<class 'int'>), 'service_tier': DomainVariable(name='service_tier', description='Service tier for managed services', unit='tier', data_type=<class 'str'>), 'app_service_instances': DomainVariable(name='app_service_instances', description='Count of App Service instances', unit='instances', data_type=<class 'int'>)}\n",
      "--- Building graph for charge category: 'gpu_compute_fee' ---\n",
      "Execution time for 'build': 24.3451 seconds\n",
      "Calculate the total managed_disk_fee. Charge description - Charge for managed disks based on type, size, and count. managed_disk_fee {'compute_vm_fee': ['os_type', 'usage_hours'], 'gpu_compute_fee': ['gpu_type'], 'managed_disk_fee': ['managed_disk_count'], 'data_egress_fee': ['region'], 'data_ingress_fee': ['region', 'data_ingress_gb'], 'storage_transaction_fee': ['redundancy', 'storage_transactions_millions'], 'public_ip_fee': ['region', 'public_ip_count'], 'load_balancer_fee': ['load_balancer_rules'], 'aks_cluster_fee': ['region'], 'function_app_fee': ['region', 'function_exec_ms'], 'sql_database_fee': ['region', 'backup_retention_days'], 'snapshot_storage_fee': ['redundancy'], 'app_service_fee': ['service_tier', 'app_service_instances']} {'os_type': DomainVariable(name='os_type', description='Operating system for the compute workload', unit='os', data_type=<class 'str'>), 'usage_hours': DomainVariable(name='usage_hours', description='Total runtime in hours over the billing window', unit='hours', data_type=<class 'float'>), 'gpu_type': DomainVariable(name='gpu_type', description='Type of GPU accelerator', unit='gpu type', data_type=<class 'str'>), 'managed_disk_count': DomainVariable(name='managed_disk_count', description='Count of managed disks attached', unit='disks', data_type=<class 'int'>), 'region': DomainVariable(name='region', description='Azure region where resources are deployed', unit='region', data_type=<class 'str'>), 'data_ingress_gb': DomainVariable(name='data_ingress_gb', description='Inbound data transferred to Azure', unit='GB', data_type=<class 'float'>), 'redundancy': DomainVariable(name='redundancy', description='Storage redundancy configuration', unit='redundancy', data_type=<class 'str'>), 'storage_transactions_millions': DomainVariable(name='storage_transactions_millions', description='Number of storage account operations in millions', unit='million tx', data_type=<class 'float'>), 'public_ip_count': DomainVariable(name='public_ip_count', description='Number of public IP addresses allocated', unit='IPs', data_type=<class 'int'>), 'load_balancer_rules': DomainVariable(name='load_balancer_rules', description='Configured load balancer rules', unit='rules', data_type=<class 'int'>), 'function_exec_ms': DomainVariable(name='function_exec_ms', description='Average or billed execution time per invocation', unit='ms', data_type=<class 'float'>), 'backup_retention_days': DomainVariable(name='backup_retention_days', description='Backup retention period for databases', unit='days', data_type=<class 'int'>), 'service_tier': DomainVariable(name='service_tier', description='Service tier for managed services', unit='tier', data_type=<class 'str'>), 'app_service_instances': DomainVariable(name='app_service_instances', description='Count of App Service instances', unit='instances', data_type=<class 'int'>)}\n",
      "--- Building graph for charge category: 'managed_disk_fee' ---\n",
      "Execution time for 'build': 19.9451 seconds\n",
      "Calculate the total data_egress_fee. Charge description - Charge for data leaving Azure regions. data_egress_fee {'compute_vm_fee': ['os_type', 'usage_hours'], 'gpu_compute_fee': ['gpu_type'], 'managed_disk_fee': ['managed_disk_count'], 'data_egress_fee': ['region'], 'data_ingress_fee': ['region', 'data_ingress_gb'], 'storage_transaction_fee': ['redundancy', 'storage_transactions_millions'], 'public_ip_fee': ['region', 'public_ip_count'], 'load_balancer_fee': ['load_balancer_rules'], 'aks_cluster_fee': ['region'], 'function_app_fee': ['region', 'function_exec_ms'], 'sql_database_fee': ['region', 'backup_retention_days'], 'snapshot_storage_fee': ['redundancy'], 'app_service_fee': ['service_tier', 'app_service_instances']} {'os_type': DomainVariable(name='os_type', description='Operating system for the compute workload', unit='os', data_type=<class 'str'>), 'usage_hours': DomainVariable(name='usage_hours', description='Total runtime in hours over the billing window', unit='hours', data_type=<class 'float'>), 'gpu_type': DomainVariable(name='gpu_type', description='Type of GPU accelerator', unit='gpu type', data_type=<class 'str'>), 'managed_disk_count': DomainVariable(name='managed_disk_count', description='Count of managed disks attached', unit='disks', data_type=<class 'int'>), 'region': DomainVariable(name='region', description='Azure region where resources are deployed', unit='region', data_type=<class 'str'>), 'data_ingress_gb': DomainVariable(name='data_ingress_gb', description='Inbound data transferred to Azure', unit='GB', data_type=<class 'float'>), 'redundancy': DomainVariable(name='redundancy', description='Storage redundancy configuration', unit='redundancy', data_type=<class 'str'>), 'storage_transactions_millions': DomainVariable(name='storage_transactions_millions', description='Number of storage account operations in millions', unit='million tx', data_type=<class 'float'>), 'public_ip_count': DomainVariable(name='public_ip_count', description='Number of public IP addresses allocated', unit='IPs', data_type=<class 'int'>), 'load_balancer_rules': DomainVariable(name='load_balancer_rules', description='Configured load balancer rules', unit='rules', data_type=<class 'int'>), 'function_exec_ms': DomainVariable(name='function_exec_ms', description='Average or billed execution time per invocation', unit='ms', data_type=<class 'float'>), 'backup_retention_days': DomainVariable(name='backup_retention_days', description='Backup retention period for databases', unit='days', data_type=<class 'int'>), 'service_tier': DomainVariable(name='service_tier', description='Service tier for managed services', unit='tier', data_type=<class 'str'>), 'app_service_instances': DomainVariable(name='app_service_instances', description='Count of App Service instances', unit='instances', data_type=<class 'int'>)}\n",
      "--- Building graph for charge category: 'data_egress_fee' ---\n",
      "Execution time for 'build': 1164.7197 seconds\n",
      "Calculate the total data_ingress_fee. Charge description - Charge for data entering Azure regions where applicable. data_ingress_fee {'compute_vm_fee': ['os_type', 'usage_hours'], 'gpu_compute_fee': ['gpu_type'], 'managed_disk_fee': ['managed_disk_count'], 'data_egress_fee': ['region'], 'data_ingress_fee': ['region', 'data_ingress_gb'], 'storage_transaction_fee': ['redundancy', 'storage_transactions_millions'], 'public_ip_fee': ['region', 'public_ip_count'], 'load_balancer_fee': ['load_balancer_rules'], 'aks_cluster_fee': ['region'], 'function_app_fee': ['region', 'function_exec_ms'], 'sql_database_fee': ['region', 'backup_retention_days'], 'snapshot_storage_fee': ['redundancy'], 'app_service_fee': ['service_tier', 'app_service_instances']} {'os_type': DomainVariable(name='os_type', description='Operating system for the compute workload', unit='os', data_type=<class 'str'>), 'usage_hours': DomainVariable(name='usage_hours', description='Total runtime in hours over the billing window', unit='hours', data_type=<class 'float'>), 'gpu_type': DomainVariable(name='gpu_type', description='Type of GPU accelerator', unit='gpu type', data_type=<class 'str'>), 'managed_disk_count': DomainVariable(name='managed_disk_count', description='Count of managed disks attached', unit='disks', data_type=<class 'int'>), 'region': DomainVariable(name='region', description='Azure region where resources are deployed', unit='region', data_type=<class 'str'>), 'data_ingress_gb': DomainVariable(name='data_ingress_gb', description='Inbound data transferred to Azure', unit='GB', data_type=<class 'float'>), 'redundancy': DomainVariable(name='redundancy', description='Storage redundancy configuration', unit='redundancy', data_type=<class 'str'>), 'storage_transactions_millions': DomainVariable(name='storage_transactions_millions', description='Number of storage account operations in millions', unit='million tx', data_type=<class 'float'>), 'public_ip_count': DomainVariable(name='public_ip_count', description='Number of public IP addresses allocated', unit='IPs', data_type=<class 'int'>), 'load_balancer_rules': DomainVariable(name='load_balancer_rules', description='Configured load balancer rules', unit='rules', data_type=<class 'int'>), 'function_exec_ms': DomainVariable(name='function_exec_ms', description='Average or billed execution time per invocation', unit='ms', data_type=<class 'float'>), 'backup_retention_days': DomainVariable(name='backup_retention_days', description='Backup retention period for databases', unit='days', data_type=<class 'int'>), 'service_tier': DomainVariable(name='service_tier', description='Service tier for managed services', unit='tier', data_type=<class 'str'>), 'app_service_instances': DomainVariable(name='app_service_instances', description='Count of App Service instances', unit='instances', data_type=<class 'int'>)}\n",
      "--- Building graph for charge category: 'data_ingress_fee' ---\n",
      "Execution time for 'build': 42.7231 seconds\n",
      "Calculate the total storage_transaction_fee. Charge description - Charge for storage account transactions and redundancy level. storage_transaction_fee {'compute_vm_fee': ['os_type', 'usage_hours'], 'gpu_compute_fee': ['gpu_type'], 'managed_disk_fee': ['managed_disk_count'], 'data_egress_fee': ['region'], 'data_ingress_fee': ['region', 'data_ingress_gb'], 'storage_transaction_fee': ['redundancy', 'storage_transactions_millions'], 'public_ip_fee': ['region', 'public_ip_count'], 'load_balancer_fee': ['load_balancer_rules'], 'aks_cluster_fee': ['region'], 'function_app_fee': ['region', 'function_exec_ms'], 'sql_database_fee': ['region', 'backup_retention_days'], 'snapshot_storage_fee': ['redundancy'], 'app_service_fee': ['service_tier', 'app_service_instances']} {'os_type': DomainVariable(name='os_type', description='Operating system for the compute workload', unit='os', data_type=<class 'str'>), 'usage_hours': DomainVariable(name='usage_hours', description='Total runtime in hours over the billing window', unit='hours', data_type=<class 'float'>), 'gpu_type': DomainVariable(name='gpu_type', description='Type of GPU accelerator', unit='gpu type', data_type=<class 'str'>), 'managed_disk_count': DomainVariable(name='managed_disk_count', description='Count of managed disks attached', unit='disks', data_type=<class 'int'>), 'region': DomainVariable(name='region', description='Azure region where resources are deployed', unit='region', data_type=<class 'str'>), 'data_ingress_gb': DomainVariable(name='data_ingress_gb', description='Inbound data transferred to Azure', unit='GB', data_type=<class 'float'>), 'redundancy': DomainVariable(name='redundancy', description='Storage redundancy configuration', unit='redundancy', data_type=<class 'str'>), 'storage_transactions_millions': DomainVariable(name='storage_transactions_millions', description='Number of storage account operations in millions', unit='million tx', data_type=<class 'float'>), 'public_ip_count': DomainVariable(name='public_ip_count', description='Number of public IP addresses allocated', unit='IPs', data_type=<class 'int'>), 'load_balancer_rules': DomainVariable(name='load_balancer_rules', description='Configured load balancer rules', unit='rules', data_type=<class 'int'>), 'function_exec_ms': DomainVariable(name='function_exec_ms', description='Average or billed execution time per invocation', unit='ms', data_type=<class 'float'>), 'backup_retention_days': DomainVariable(name='backup_retention_days', description='Backup retention period for databases', unit='days', data_type=<class 'int'>), 'service_tier': DomainVariable(name='service_tier', description='Service tier for managed services', unit='tier', data_type=<class 'str'>), 'app_service_instances': DomainVariable(name='app_service_instances', description='Count of App Service instances', unit='instances', data_type=<class 'int'>)}\n",
      "--- Building graph for charge category: 'storage_transaction_fee' ---\n",
      "Execution time for 'build': 184.4198 seconds\n",
      "Calculate the total public_ip_fee. Charge description - Charge for public IP addresses allocated. public_ip_fee {'compute_vm_fee': ['os_type', 'usage_hours'], 'gpu_compute_fee': ['gpu_type'], 'managed_disk_fee': ['managed_disk_count'], 'data_egress_fee': ['region'], 'data_ingress_fee': ['region', 'data_ingress_gb'], 'storage_transaction_fee': ['redundancy', 'storage_transactions_millions'], 'public_ip_fee': ['region', 'public_ip_count'], 'load_balancer_fee': ['load_balancer_rules'], 'aks_cluster_fee': ['region'], 'function_app_fee': ['region', 'function_exec_ms'], 'sql_database_fee': ['region', 'backup_retention_days'], 'snapshot_storage_fee': ['redundancy'], 'app_service_fee': ['service_tier', 'app_service_instances']} {'os_type': DomainVariable(name='os_type', description='Operating system for the compute workload', unit='os', data_type=<class 'str'>), 'usage_hours': DomainVariable(name='usage_hours', description='Total runtime in hours over the billing window', unit='hours', data_type=<class 'float'>), 'gpu_type': DomainVariable(name='gpu_type', description='Type of GPU accelerator', unit='gpu type', data_type=<class 'str'>), 'managed_disk_count': DomainVariable(name='managed_disk_count', description='Count of managed disks attached', unit='disks', data_type=<class 'int'>), 'region': DomainVariable(name='region', description='Azure region where resources are deployed', unit='region', data_type=<class 'str'>), 'data_ingress_gb': DomainVariable(name='data_ingress_gb', description='Inbound data transferred to Azure', unit='GB', data_type=<class 'float'>), 'redundancy': DomainVariable(name='redundancy', description='Storage redundancy configuration', unit='redundancy', data_type=<class 'str'>), 'storage_transactions_millions': DomainVariable(name='storage_transactions_millions', description='Number of storage account operations in millions', unit='million tx', data_type=<class 'float'>), 'public_ip_count': DomainVariable(name='public_ip_count', description='Number of public IP addresses allocated', unit='IPs', data_type=<class 'int'>), 'load_balancer_rules': DomainVariable(name='load_balancer_rules', description='Configured load balancer rules', unit='rules', data_type=<class 'int'>), 'function_exec_ms': DomainVariable(name='function_exec_ms', description='Average or billed execution time per invocation', unit='ms', data_type=<class 'float'>), 'backup_retention_days': DomainVariable(name='backup_retention_days', description='Backup retention period for databases', unit='days', data_type=<class 'int'>), 'service_tier': DomainVariable(name='service_tier', description='Service tier for managed services', unit='tier', data_type=<class 'str'>), 'app_service_instances': DomainVariable(name='app_service_instances', description='Count of App Service instances', unit='instances', data_type=<class 'int'>)}\n",
      "--- Building graph for charge category: 'public_ip_fee' ---\n",
      "Execution time for 'build': 136.1402 seconds\n",
      "Calculate the total load_balancer_fee. Charge description - Charge for load balancer rules and tier. load_balancer_fee {'compute_vm_fee': ['os_type', 'usage_hours'], 'gpu_compute_fee': ['gpu_type'], 'managed_disk_fee': ['managed_disk_count'], 'data_egress_fee': ['region'], 'data_ingress_fee': ['region', 'data_ingress_gb'], 'storage_transaction_fee': ['redundancy', 'storage_transactions_millions'], 'public_ip_fee': ['region', 'public_ip_count'], 'load_balancer_fee': ['load_balancer_rules'], 'aks_cluster_fee': ['region'], 'function_app_fee': ['region', 'function_exec_ms'], 'sql_database_fee': ['region', 'backup_retention_days'], 'snapshot_storage_fee': ['redundancy'], 'app_service_fee': ['service_tier', 'app_service_instances']} {'os_type': DomainVariable(name='os_type', description='Operating system for the compute workload', unit='os', data_type=<class 'str'>), 'usage_hours': DomainVariable(name='usage_hours', description='Total runtime in hours over the billing window', unit='hours', data_type=<class 'float'>), 'gpu_type': DomainVariable(name='gpu_type', description='Type of GPU accelerator', unit='gpu type', data_type=<class 'str'>), 'managed_disk_count': DomainVariable(name='managed_disk_count', description='Count of managed disks attached', unit='disks', data_type=<class 'int'>), 'region': DomainVariable(name='region', description='Azure region where resources are deployed', unit='region', data_type=<class 'str'>), 'data_ingress_gb': DomainVariable(name='data_ingress_gb', description='Inbound data transferred to Azure', unit='GB', data_type=<class 'float'>), 'redundancy': DomainVariable(name='redundancy', description='Storage redundancy configuration', unit='redundancy', data_type=<class 'str'>), 'storage_transactions_millions': DomainVariable(name='storage_transactions_millions', description='Number of storage account operations in millions', unit='million tx', data_type=<class 'float'>), 'public_ip_count': DomainVariable(name='public_ip_count', description='Number of public IP addresses allocated', unit='IPs', data_type=<class 'int'>), 'load_balancer_rules': DomainVariable(name='load_balancer_rules', description='Configured load balancer rules', unit='rules', data_type=<class 'int'>), 'function_exec_ms': DomainVariable(name='function_exec_ms', description='Average or billed execution time per invocation', unit='ms', data_type=<class 'float'>), 'backup_retention_days': DomainVariable(name='backup_retention_days', description='Backup retention period for databases', unit='days', data_type=<class 'int'>), 'service_tier': DomainVariable(name='service_tier', description='Service tier for managed services', unit='tier', data_type=<class 'str'>), 'app_service_instances': DomainVariable(name='app_service_instances', description='Count of App Service instances', unit='instances', data_type=<class 'int'>)}\n",
      "--- Building graph for charge category: 'load_balancer_fee' ---\n",
      "Execution time for 'build': 8.0467 seconds\n",
      "Calculate the total aks_cluster_fee. Charge description - Charge for AKS clusters based on node count and type. aks_cluster_fee {'compute_vm_fee': ['os_type', 'usage_hours'], 'gpu_compute_fee': ['gpu_type'], 'managed_disk_fee': ['managed_disk_count'], 'data_egress_fee': ['region'], 'data_ingress_fee': ['region', 'data_ingress_gb'], 'storage_transaction_fee': ['redundancy', 'storage_transactions_millions'], 'public_ip_fee': ['region', 'public_ip_count'], 'load_balancer_fee': ['load_balancer_rules'], 'aks_cluster_fee': ['region'], 'function_app_fee': ['region', 'function_exec_ms'], 'sql_database_fee': ['region', 'backup_retention_days'], 'snapshot_storage_fee': ['redundancy'], 'app_service_fee': ['service_tier', 'app_service_instances']} {'os_type': DomainVariable(name='os_type', description='Operating system for the compute workload', unit='os', data_type=<class 'str'>), 'usage_hours': DomainVariable(name='usage_hours', description='Total runtime in hours over the billing window', unit='hours', data_type=<class 'float'>), 'gpu_type': DomainVariable(name='gpu_type', description='Type of GPU accelerator', unit='gpu type', data_type=<class 'str'>), 'managed_disk_count': DomainVariable(name='managed_disk_count', description='Count of managed disks attached', unit='disks', data_type=<class 'int'>), 'region': DomainVariable(name='region', description='Azure region where resources are deployed', unit='region', data_type=<class 'str'>), 'data_ingress_gb': DomainVariable(name='data_ingress_gb', description='Inbound data transferred to Azure', unit='GB', data_type=<class 'float'>), 'redundancy': DomainVariable(name='redundancy', description='Storage redundancy configuration', unit='redundancy', data_type=<class 'str'>), 'storage_transactions_millions': DomainVariable(name='storage_transactions_millions', description='Number of storage account operations in millions', unit='million tx', data_type=<class 'float'>), 'public_ip_count': DomainVariable(name='public_ip_count', description='Number of public IP addresses allocated', unit='IPs', data_type=<class 'int'>), 'load_balancer_rules': DomainVariable(name='load_balancer_rules', description='Configured load balancer rules', unit='rules', data_type=<class 'int'>), 'function_exec_ms': DomainVariable(name='function_exec_ms', description='Average or billed execution time per invocation', unit='ms', data_type=<class 'float'>), 'backup_retention_days': DomainVariable(name='backup_retention_days', description='Backup retention period for databases', unit='days', data_type=<class 'int'>), 'service_tier': DomainVariable(name='service_tier', description='Service tier for managed services', unit='tier', data_type=<class 'str'>), 'app_service_instances': DomainVariable(name='app_service_instances', description='Count of App Service instances', unit='instances', data_type=<class 'int'>)}\n",
      "--- Building graph for charge category: 'aks_cluster_fee' ---\n",
      "Execution time for 'build': 32.2410 seconds\n",
      "Calculate the total function_app_fee. Charge description - Charge for serverless executions and execution time. function_app_fee {'compute_vm_fee': ['os_type', 'usage_hours'], 'gpu_compute_fee': ['gpu_type'], 'managed_disk_fee': ['managed_disk_count'], 'data_egress_fee': ['region'], 'data_ingress_fee': ['region', 'data_ingress_gb'], 'storage_transaction_fee': ['redundancy', 'storage_transactions_millions'], 'public_ip_fee': ['region', 'public_ip_count'], 'load_balancer_fee': ['load_balancer_rules'], 'aks_cluster_fee': ['region'], 'function_app_fee': ['region', 'function_exec_ms'], 'sql_database_fee': ['region', 'backup_retention_days'], 'snapshot_storage_fee': ['redundancy'], 'app_service_fee': ['service_tier', 'app_service_instances']} {'os_type': DomainVariable(name='os_type', description='Operating system for the compute workload', unit='os', data_type=<class 'str'>), 'usage_hours': DomainVariable(name='usage_hours', description='Total runtime in hours over the billing window', unit='hours', data_type=<class 'float'>), 'gpu_type': DomainVariable(name='gpu_type', description='Type of GPU accelerator', unit='gpu type', data_type=<class 'str'>), 'managed_disk_count': DomainVariable(name='managed_disk_count', description='Count of managed disks attached', unit='disks', data_type=<class 'int'>), 'region': DomainVariable(name='region', description='Azure region where resources are deployed', unit='region', data_type=<class 'str'>), 'data_ingress_gb': DomainVariable(name='data_ingress_gb', description='Inbound data transferred to Azure', unit='GB', data_type=<class 'float'>), 'redundancy': DomainVariable(name='redundancy', description='Storage redundancy configuration', unit='redundancy', data_type=<class 'str'>), 'storage_transactions_millions': DomainVariable(name='storage_transactions_millions', description='Number of storage account operations in millions', unit='million tx', data_type=<class 'float'>), 'public_ip_count': DomainVariable(name='public_ip_count', description='Number of public IP addresses allocated', unit='IPs', data_type=<class 'int'>), 'load_balancer_rules': DomainVariable(name='load_balancer_rules', description='Configured load balancer rules', unit='rules', data_type=<class 'int'>), 'function_exec_ms': DomainVariable(name='function_exec_ms', description='Average or billed execution time per invocation', unit='ms', data_type=<class 'float'>), 'backup_retention_days': DomainVariable(name='backup_retention_days', description='Backup retention period for databases', unit='days', data_type=<class 'int'>), 'service_tier': DomainVariable(name='service_tier', description='Service tier for managed services', unit='tier', data_type=<class 'str'>), 'app_service_instances': DomainVariable(name='app_service_instances', description='Count of App Service instances', unit='instances', data_type=<class 'int'>)}\n",
      "--- Building graph for charge category: 'function_app_fee' ---\n",
      "Execution time for 'build': 18.2547 seconds\n",
      "Calculate the total sql_database_fee. Charge description - Charge for Azure SQL based on vCores, storage, and retention. sql_database_fee {'compute_vm_fee': ['os_type', 'usage_hours'], 'gpu_compute_fee': ['gpu_type'], 'managed_disk_fee': ['managed_disk_count'], 'data_egress_fee': ['region'], 'data_ingress_fee': ['region', 'data_ingress_gb'], 'storage_transaction_fee': ['redundancy', 'storage_transactions_millions'], 'public_ip_fee': ['region', 'public_ip_count'], 'load_balancer_fee': ['load_balancer_rules'], 'aks_cluster_fee': ['region'], 'function_app_fee': ['region', 'function_exec_ms'], 'sql_database_fee': ['region', 'backup_retention_days'], 'snapshot_storage_fee': ['redundancy'], 'app_service_fee': ['service_tier', 'app_service_instances']} {'os_type': DomainVariable(name='os_type', description='Operating system for the compute workload', unit='os', data_type=<class 'str'>), 'usage_hours': DomainVariable(name='usage_hours', description='Total runtime in hours over the billing window', unit='hours', data_type=<class 'float'>), 'gpu_type': DomainVariable(name='gpu_type', description='Type of GPU accelerator', unit='gpu type', data_type=<class 'str'>), 'managed_disk_count': DomainVariable(name='managed_disk_count', description='Count of managed disks attached', unit='disks', data_type=<class 'int'>), 'region': DomainVariable(name='region', description='Azure region where resources are deployed', unit='region', data_type=<class 'str'>), 'data_ingress_gb': DomainVariable(name='data_ingress_gb', description='Inbound data transferred to Azure', unit='GB', data_type=<class 'float'>), 'redundancy': DomainVariable(name='redundancy', description='Storage redundancy configuration', unit='redundancy', data_type=<class 'str'>), 'storage_transactions_millions': DomainVariable(name='storage_transactions_millions', description='Number of storage account operations in millions', unit='million tx', data_type=<class 'float'>), 'public_ip_count': DomainVariable(name='public_ip_count', description='Number of public IP addresses allocated', unit='IPs', data_type=<class 'int'>), 'load_balancer_rules': DomainVariable(name='load_balancer_rules', description='Configured load balancer rules', unit='rules', data_type=<class 'int'>), 'function_exec_ms': DomainVariable(name='function_exec_ms', description='Average or billed execution time per invocation', unit='ms', data_type=<class 'float'>), 'backup_retention_days': DomainVariable(name='backup_retention_days', description='Backup retention period for databases', unit='days', data_type=<class 'int'>), 'service_tier': DomainVariable(name='service_tier', description='Service tier for managed services', unit='tier', data_type=<class 'str'>), 'app_service_instances': DomainVariable(name='app_service_instances', description='Count of App Service instances', unit='instances', data_type=<class 'int'>)}\n",
      "--- Building graph for charge category: 'sql_database_fee' ---\n",
      "Execution time for 'build': 21.0623 seconds\n",
      "Calculate the total snapshot_storage_fee. Charge description - Charge for snapshot storage volume and redundancy. snapshot_storage_fee {'compute_vm_fee': ['os_type', 'usage_hours'], 'gpu_compute_fee': ['gpu_type'], 'managed_disk_fee': ['managed_disk_count'], 'data_egress_fee': ['region'], 'data_ingress_fee': ['region', 'data_ingress_gb'], 'storage_transaction_fee': ['redundancy', 'storage_transactions_millions'], 'public_ip_fee': ['region', 'public_ip_count'], 'load_balancer_fee': ['load_balancer_rules'], 'aks_cluster_fee': ['region'], 'function_app_fee': ['region', 'function_exec_ms'], 'sql_database_fee': ['region', 'backup_retention_days'], 'snapshot_storage_fee': ['redundancy'], 'app_service_fee': ['service_tier', 'app_service_instances']} {'os_type': DomainVariable(name='os_type', description='Operating system for the compute workload', unit='os', data_type=<class 'str'>), 'usage_hours': DomainVariable(name='usage_hours', description='Total runtime in hours over the billing window', unit='hours', data_type=<class 'float'>), 'gpu_type': DomainVariable(name='gpu_type', description='Type of GPU accelerator', unit='gpu type', data_type=<class 'str'>), 'managed_disk_count': DomainVariable(name='managed_disk_count', description='Count of managed disks attached', unit='disks', data_type=<class 'int'>), 'region': DomainVariable(name='region', description='Azure region where resources are deployed', unit='region', data_type=<class 'str'>), 'data_ingress_gb': DomainVariable(name='data_ingress_gb', description='Inbound data transferred to Azure', unit='GB', data_type=<class 'float'>), 'redundancy': DomainVariable(name='redundancy', description='Storage redundancy configuration', unit='redundancy', data_type=<class 'str'>), 'storage_transactions_millions': DomainVariable(name='storage_transactions_millions', description='Number of storage account operations in millions', unit='million tx', data_type=<class 'float'>), 'public_ip_count': DomainVariable(name='public_ip_count', description='Number of public IP addresses allocated', unit='IPs', data_type=<class 'int'>), 'load_balancer_rules': DomainVariable(name='load_balancer_rules', description='Configured load balancer rules', unit='rules', data_type=<class 'int'>), 'function_exec_ms': DomainVariable(name='function_exec_ms', description='Average or billed execution time per invocation', unit='ms', data_type=<class 'float'>), 'backup_retention_days': DomainVariable(name='backup_retention_days', description='Backup retention period for databases', unit='days', data_type=<class 'int'>), 'service_tier': DomainVariable(name='service_tier', description='Service tier for managed services', unit='tier', data_type=<class 'str'>), 'app_service_instances': DomainVariable(name='app_service_instances', description='Count of App Service instances', unit='instances', data_type=<class 'int'>)}\n",
      "--- Building graph for charge category: 'snapshot_storage_fee' ---\n",
      "Execution time for 'build': 22.1305 seconds\n",
      "Calculate the total app_service_fee. Charge description - Charge for App Service instances and tier. app_service_fee {'compute_vm_fee': ['os_type', 'usage_hours'], 'gpu_compute_fee': ['gpu_type'], 'managed_disk_fee': ['managed_disk_count'], 'data_egress_fee': ['region'], 'data_ingress_fee': ['region', 'data_ingress_gb'], 'storage_transaction_fee': ['redundancy', 'storage_transactions_millions'], 'public_ip_fee': ['region', 'public_ip_count'], 'load_balancer_fee': ['load_balancer_rules'], 'aks_cluster_fee': ['region'], 'function_app_fee': ['region', 'function_exec_ms'], 'sql_database_fee': ['region', 'backup_retention_days'], 'snapshot_storage_fee': ['redundancy'], 'app_service_fee': ['service_tier', 'app_service_instances']} {'os_type': DomainVariable(name='os_type', description='Operating system for the compute workload', unit='os', data_type=<class 'str'>), 'usage_hours': DomainVariable(name='usage_hours', description='Total runtime in hours over the billing window', unit='hours', data_type=<class 'float'>), 'gpu_type': DomainVariable(name='gpu_type', description='Type of GPU accelerator', unit='gpu type', data_type=<class 'str'>), 'managed_disk_count': DomainVariable(name='managed_disk_count', description='Count of managed disks attached', unit='disks', data_type=<class 'int'>), 'region': DomainVariable(name='region', description='Azure region where resources are deployed', unit='region', data_type=<class 'str'>), 'data_ingress_gb': DomainVariable(name='data_ingress_gb', description='Inbound data transferred to Azure', unit='GB', data_type=<class 'float'>), 'redundancy': DomainVariable(name='redundancy', description='Storage redundancy configuration', unit='redundancy', data_type=<class 'str'>), 'storage_transactions_millions': DomainVariable(name='storage_transactions_millions', description='Number of storage account operations in millions', unit='million tx', data_type=<class 'float'>), 'public_ip_count': DomainVariable(name='public_ip_count', description='Number of public IP addresses allocated', unit='IPs', data_type=<class 'int'>), 'load_balancer_rules': DomainVariable(name='load_balancer_rules', description='Configured load balancer rules', unit='rules', data_type=<class 'int'>), 'function_exec_ms': DomainVariable(name='function_exec_ms', description='Average or billed execution time per invocation', unit='ms', data_type=<class 'float'>), 'backup_retention_days': DomainVariable(name='backup_retention_days', description='Backup retention period for databases', unit='days', data_type=<class 'int'>), 'service_tier': DomainVariable(name='service_tier', description='Service tier for managed services', unit='tier', data_type=<class 'str'>), 'app_service_instances': DomainVariable(name='app_service_instances', description='Count of App Service instances', unit='instances', data_type=<class 'int'>)}\n",
      "--- Building graph for charge category: 'app_service_fee' ---\n",
      "Execution time for 'build': 27.0608 seconds\n",
      "Calculate the total compute_vm_fee. Charge description - Charge for running virtual machines based on vCPU, memory, OS, and commitment. compute_vm_fee {'compute_vm_fee': ['commitment_term'], 'gpu_compute_fee': ['gpu_count'], 'managed_disk_fee': ['region', 'managed_disk_count'], 'data_egress_fee': ['data_egress_gb'], 'data_ingress_fee': ['region', 'data_ingress_gb'], 'storage_transaction_fee': ['region', 'storage_transactions_millions'], 'public_ip_fee': ['public_ip_count'], 'load_balancer_fee': ['region'], 'aks_cluster_fee': ['vm_family', 'kubernetes_node_count'], 'function_app_fee': ['function_exec_ms'], 'sql_database_fee': ['service_tier'], 'snapshot_storage_fee': ['snapshot_gb'], 'app_service_fee': ['service_tier', 'app_service_instances']} {'commitment_term': DomainVariable(name='commitment_term', description='Savings commitment for compute resources', unit='term', data_type=<class 'str'>), 'gpu_count': DomainVariable(name='gpu_count', description='Number of GPUs attached to the instance', unit='GPUs', data_type=<class 'int'>), 'region': DomainVariable(name='region', description='Azure region where resources are deployed', unit='region', data_type=<class 'str'>), 'managed_disk_count': DomainVariable(name='managed_disk_count', description='Count of managed disks attached', unit='disks', data_type=<class 'int'>), 'data_egress_gb': DomainVariable(name='data_egress_gb', description='Outbound data transferred from Azure', unit='GB', data_type=<class 'float'>), 'data_ingress_gb': DomainVariable(name='data_ingress_gb', description='Inbound data transferred to Azure', unit='GB', data_type=<class 'float'>), 'storage_transactions_millions': DomainVariable(name='storage_transactions_millions', description='Number of storage account operations in millions', unit='million tx', data_type=<class 'float'>), 'public_ip_count': DomainVariable(name='public_ip_count', description='Number of public IP addresses allocated', unit='IPs', data_type=<class 'int'>), 'vm_family': DomainVariable(name='vm_family', description='Virtual machine family that defines CPU and memory profile', unit='family', data_type=<class 'str'>), 'kubernetes_node_count': DomainVariable(name='kubernetes_node_count', description='Number of AKS nodes in the cluster', unit='nodes', data_type=<class 'int'>), 'function_exec_ms': DomainVariable(name='function_exec_ms', description='Average or billed execution time per invocation', unit='ms', data_type=<class 'float'>), 'service_tier': DomainVariable(name='service_tier', description='Service tier for managed services', unit='tier', data_type=<class 'str'>), 'snapshot_gb': DomainVariable(name='snapshot_gb', description='Total snapshot storage size', unit='GB', data_type=<class 'float'>), 'app_service_instances': DomainVariable(name='app_service_instances', description='Count of App Service instances', unit='instances', data_type=<class 'int'>)}\n",
      "--- Building graph for charge category: 'compute_vm_fee' ---\n",
      "Execution time for 'build': 18.0940 seconds\n",
      "Calculate the total gpu_compute_fee. Charge description - Charge for GPU-enabled compute usage. gpu_compute_fee {'compute_vm_fee': ['commitment_term'], 'gpu_compute_fee': ['gpu_count'], 'managed_disk_fee': ['region', 'managed_disk_count'], 'data_egress_fee': ['data_egress_gb'], 'data_ingress_fee': ['region', 'data_ingress_gb'], 'storage_transaction_fee': ['region', 'storage_transactions_millions'], 'public_ip_fee': ['public_ip_count'], 'load_balancer_fee': ['region'], 'aks_cluster_fee': ['vm_family', 'kubernetes_node_count'], 'function_app_fee': ['function_exec_ms'], 'sql_database_fee': ['service_tier'], 'snapshot_storage_fee': ['snapshot_gb'], 'app_service_fee': ['service_tier', 'app_service_instances']} {'commitment_term': DomainVariable(name='commitment_term', description='Savings commitment for compute resources', unit='term', data_type=<class 'str'>), 'gpu_count': DomainVariable(name='gpu_count', description='Number of GPUs attached to the instance', unit='GPUs', data_type=<class 'int'>), 'region': DomainVariable(name='region', description='Azure region where resources are deployed', unit='region', data_type=<class 'str'>), 'managed_disk_count': DomainVariable(name='managed_disk_count', description='Count of managed disks attached', unit='disks', data_type=<class 'int'>), 'data_egress_gb': DomainVariable(name='data_egress_gb', description='Outbound data transferred from Azure', unit='GB', data_type=<class 'float'>), 'data_ingress_gb': DomainVariable(name='data_ingress_gb', description='Inbound data transferred to Azure', unit='GB', data_type=<class 'float'>), 'storage_transactions_millions': DomainVariable(name='storage_transactions_millions', description='Number of storage account operations in millions', unit='million tx', data_type=<class 'float'>), 'public_ip_count': DomainVariable(name='public_ip_count', description='Number of public IP addresses allocated', unit='IPs', data_type=<class 'int'>), 'vm_family': DomainVariable(name='vm_family', description='Virtual machine family that defines CPU and memory profile', unit='family', data_type=<class 'str'>), 'kubernetes_node_count': DomainVariable(name='kubernetes_node_count', description='Number of AKS nodes in the cluster', unit='nodes', data_type=<class 'int'>), 'function_exec_ms': DomainVariable(name='function_exec_ms', description='Average or billed execution time per invocation', unit='ms', data_type=<class 'float'>), 'service_tier': DomainVariable(name='service_tier', description='Service tier for managed services', unit='tier', data_type=<class 'str'>), 'snapshot_gb': DomainVariable(name='snapshot_gb', description='Total snapshot storage size', unit='GB', data_type=<class 'float'>), 'app_service_instances': DomainVariable(name='app_service_instances', description='Count of App Service instances', unit='instances', data_type=<class 'int'>)}\n",
      "--- Building graph for charge category: 'gpu_compute_fee' ---\n",
      "Execution time for 'build': 25.8791 seconds\n",
      "Calculate the total managed_disk_fee. Charge description - Charge for managed disks based on type, size, and count. managed_disk_fee {'compute_vm_fee': ['commitment_term'], 'gpu_compute_fee': ['gpu_count'], 'managed_disk_fee': ['region', 'managed_disk_count'], 'data_egress_fee': ['data_egress_gb'], 'data_ingress_fee': ['region', 'data_ingress_gb'], 'storage_transaction_fee': ['region', 'storage_transactions_millions'], 'public_ip_fee': ['public_ip_count'], 'load_balancer_fee': ['region'], 'aks_cluster_fee': ['vm_family', 'kubernetes_node_count'], 'function_app_fee': ['function_exec_ms'], 'sql_database_fee': ['service_tier'], 'snapshot_storage_fee': ['snapshot_gb'], 'app_service_fee': ['service_tier', 'app_service_instances']} {'commitment_term': DomainVariable(name='commitment_term', description='Savings commitment for compute resources', unit='term', data_type=<class 'str'>), 'gpu_count': DomainVariable(name='gpu_count', description='Number of GPUs attached to the instance', unit='GPUs', data_type=<class 'int'>), 'region': DomainVariable(name='region', description='Azure region where resources are deployed', unit='region', data_type=<class 'str'>), 'managed_disk_count': DomainVariable(name='managed_disk_count', description='Count of managed disks attached', unit='disks', data_type=<class 'int'>), 'data_egress_gb': DomainVariable(name='data_egress_gb', description='Outbound data transferred from Azure', unit='GB', data_type=<class 'float'>), 'data_ingress_gb': DomainVariable(name='data_ingress_gb', description='Inbound data transferred to Azure', unit='GB', data_type=<class 'float'>), 'storage_transactions_millions': DomainVariable(name='storage_transactions_millions', description='Number of storage account operations in millions', unit='million tx', data_type=<class 'float'>), 'public_ip_count': DomainVariable(name='public_ip_count', description='Number of public IP addresses allocated', unit='IPs', data_type=<class 'int'>), 'vm_family': DomainVariable(name='vm_family', description='Virtual machine family that defines CPU and memory profile', unit='family', data_type=<class 'str'>), 'kubernetes_node_count': DomainVariable(name='kubernetes_node_count', description='Number of AKS nodes in the cluster', unit='nodes', data_type=<class 'int'>), 'function_exec_ms': DomainVariable(name='function_exec_ms', description='Average or billed execution time per invocation', unit='ms', data_type=<class 'float'>), 'service_tier': DomainVariable(name='service_tier', description='Service tier for managed services', unit='tier', data_type=<class 'str'>), 'snapshot_gb': DomainVariable(name='snapshot_gb', description='Total snapshot storage size', unit='GB', data_type=<class 'float'>), 'app_service_instances': DomainVariable(name='app_service_instances', description='Count of App Service instances', unit='instances', data_type=<class 'int'>)}\n",
      "--- Building graph for charge category: 'managed_disk_fee' ---\n",
      "Execution time for 'build': 17.2896 seconds\n",
      "Calculate the total data_egress_fee. Charge description - Charge for data leaving Azure regions. data_egress_fee {'compute_vm_fee': ['commitment_term'], 'gpu_compute_fee': ['gpu_count'], 'managed_disk_fee': ['region', 'managed_disk_count'], 'data_egress_fee': ['data_egress_gb'], 'data_ingress_fee': ['region', 'data_ingress_gb'], 'storage_transaction_fee': ['region', 'storage_transactions_millions'], 'public_ip_fee': ['public_ip_count'], 'load_balancer_fee': ['region'], 'aks_cluster_fee': ['vm_family', 'kubernetes_node_count'], 'function_app_fee': ['function_exec_ms'], 'sql_database_fee': ['service_tier'], 'snapshot_storage_fee': ['snapshot_gb'], 'app_service_fee': ['service_tier', 'app_service_instances']} {'commitment_term': DomainVariable(name='commitment_term', description='Savings commitment for compute resources', unit='term', data_type=<class 'str'>), 'gpu_count': DomainVariable(name='gpu_count', description='Number of GPUs attached to the instance', unit='GPUs', data_type=<class 'int'>), 'region': DomainVariable(name='region', description='Azure region where resources are deployed', unit='region', data_type=<class 'str'>), 'managed_disk_count': DomainVariable(name='managed_disk_count', description='Count of managed disks attached', unit='disks', data_type=<class 'int'>), 'data_egress_gb': DomainVariable(name='data_egress_gb', description='Outbound data transferred from Azure', unit='GB', data_type=<class 'float'>), 'data_ingress_gb': DomainVariable(name='data_ingress_gb', description='Inbound data transferred to Azure', unit='GB', data_type=<class 'float'>), 'storage_transactions_millions': DomainVariable(name='storage_transactions_millions', description='Number of storage account operations in millions', unit='million tx', data_type=<class 'float'>), 'public_ip_count': DomainVariable(name='public_ip_count', description='Number of public IP addresses allocated', unit='IPs', data_type=<class 'int'>), 'vm_family': DomainVariable(name='vm_family', description='Virtual machine family that defines CPU and memory profile', unit='family', data_type=<class 'str'>), 'kubernetes_node_count': DomainVariable(name='kubernetes_node_count', description='Number of AKS nodes in the cluster', unit='nodes', data_type=<class 'int'>), 'function_exec_ms': DomainVariable(name='function_exec_ms', description='Average or billed execution time per invocation', unit='ms', data_type=<class 'float'>), 'service_tier': DomainVariable(name='service_tier', description='Service tier for managed services', unit='tier', data_type=<class 'str'>), 'snapshot_gb': DomainVariable(name='snapshot_gb', description='Total snapshot storage size', unit='GB', data_type=<class 'float'>), 'app_service_instances': DomainVariable(name='app_service_instances', description='Count of App Service instances', unit='instances', data_type=<class 'int'>)}\n",
      "--- Building graph for charge category: 'data_egress_fee' ---\n",
      "Execution time for 'build': 1163.0158 seconds\n",
      "Calculate the total data_ingress_fee. Charge description - Charge for data entering Azure regions where applicable. data_ingress_fee {'compute_vm_fee': ['commitment_term'], 'gpu_compute_fee': ['gpu_count'], 'managed_disk_fee': ['region', 'managed_disk_count'], 'data_egress_fee': ['data_egress_gb'], 'data_ingress_fee': ['region', 'data_ingress_gb'], 'storage_transaction_fee': ['region', 'storage_transactions_millions'], 'public_ip_fee': ['public_ip_count'], 'load_balancer_fee': ['region'], 'aks_cluster_fee': ['vm_family', 'kubernetes_node_count'], 'function_app_fee': ['function_exec_ms'], 'sql_database_fee': ['service_tier'], 'snapshot_storage_fee': ['snapshot_gb'], 'app_service_fee': ['service_tier', 'app_service_instances']} {'commitment_term': DomainVariable(name='commitment_term', description='Savings commitment for compute resources', unit='term', data_type=<class 'str'>), 'gpu_count': DomainVariable(name='gpu_count', description='Number of GPUs attached to the instance', unit='GPUs', data_type=<class 'int'>), 'region': DomainVariable(name='region', description='Azure region where resources are deployed', unit='region', data_type=<class 'str'>), 'managed_disk_count': DomainVariable(name='managed_disk_count', description='Count of managed disks attached', unit='disks', data_type=<class 'int'>), 'data_egress_gb': DomainVariable(name='data_egress_gb', description='Outbound data transferred from Azure', unit='GB', data_type=<class 'float'>), 'data_ingress_gb': DomainVariable(name='data_ingress_gb', description='Inbound data transferred to Azure', unit='GB', data_type=<class 'float'>), 'storage_transactions_millions': DomainVariable(name='storage_transactions_millions', description='Number of storage account operations in millions', unit='million tx', data_type=<class 'float'>), 'public_ip_count': DomainVariable(name='public_ip_count', description='Number of public IP addresses allocated', unit='IPs', data_type=<class 'int'>), 'vm_family': DomainVariable(name='vm_family', description='Virtual machine family that defines CPU and memory profile', unit='family', data_type=<class 'str'>), 'kubernetes_node_count': DomainVariable(name='kubernetes_node_count', description='Number of AKS nodes in the cluster', unit='nodes', data_type=<class 'int'>), 'function_exec_ms': DomainVariable(name='function_exec_ms', description='Average or billed execution time per invocation', unit='ms', data_type=<class 'float'>), 'service_tier': DomainVariable(name='service_tier', description='Service tier for managed services', unit='tier', data_type=<class 'str'>), 'snapshot_gb': DomainVariable(name='snapshot_gb', description='Total snapshot storage size', unit='GB', data_type=<class 'float'>), 'app_service_instances': DomainVariable(name='app_service_instances', description='Count of App Service instances', unit='instances', data_type=<class 'int'>)}\n",
      "--- Building graph for charge category: 'data_ingress_fee' ---\n",
      "Execution time for 'build': 40.7768 seconds\n",
      "Calculate the total storage_transaction_fee. Charge description - Charge for storage account transactions and redundancy level. storage_transaction_fee {'compute_vm_fee': ['commitment_term'], 'gpu_compute_fee': ['gpu_count'], 'managed_disk_fee': ['region', 'managed_disk_count'], 'data_egress_fee': ['data_egress_gb'], 'data_ingress_fee': ['region', 'data_ingress_gb'], 'storage_transaction_fee': ['region', 'storage_transactions_millions'], 'public_ip_fee': ['public_ip_count'], 'load_balancer_fee': ['region'], 'aks_cluster_fee': ['vm_family', 'kubernetes_node_count'], 'function_app_fee': ['function_exec_ms'], 'sql_database_fee': ['service_tier'], 'snapshot_storage_fee': ['snapshot_gb'], 'app_service_fee': ['service_tier', 'app_service_instances']} {'commitment_term': DomainVariable(name='commitment_term', description='Savings commitment for compute resources', unit='term', data_type=<class 'str'>), 'gpu_count': DomainVariable(name='gpu_count', description='Number of GPUs attached to the instance', unit='GPUs', data_type=<class 'int'>), 'region': DomainVariable(name='region', description='Azure region where resources are deployed', unit='region', data_type=<class 'str'>), 'managed_disk_count': DomainVariable(name='managed_disk_count', description='Count of managed disks attached', unit='disks', data_type=<class 'int'>), 'data_egress_gb': DomainVariable(name='data_egress_gb', description='Outbound data transferred from Azure', unit='GB', data_type=<class 'float'>), 'data_ingress_gb': DomainVariable(name='data_ingress_gb', description='Inbound data transferred to Azure', unit='GB', data_type=<class 'float'>), 'storage_transactions_millions': DomainVariable(name='storage_transactions_millions', description='Number of storage account operations in millions', unit='million tx', data_type=<class 'float'>), 'public_ip_count': DomainVariable(name='public_ip_count', description='Number of public IP addresses allocated', unit='IPs', data_type=<class 'int'>), 'vm_family': DomainVariable(name='vm_family', description='Virtual machine family that defines CPU and memory profile', unit='family', data_type=<class 'str'>), 'kubernetes_node_count': DomainVariable(name='kubernetes_node_count', description='Number of AKS nodes in the cluster', unit='nodes', data_type=<class 'int'>), 'function_exec_ms': DomainVariable(name='function_exec_ms', description='Average or billed execution time per invocation', unit='ms', data_type=<class 'float'>), 'service_tier': DomainVariable(name='service_tier', description='Service tier for managed services', unit='tier', data_type=<class 'str'>), 'snapshot_gb': DomainVariable(name='snapshot_gb', description='Total snapshot storage size', unit='GB', data_type=<class 'float'>), 'app_service_instances': DomainVariable(name='app_service_instances', description='Count of App Service instances', unit='instances', data_type=<class 'int'>)}\n",
      "--- Building graph for charge category: 'storage_transaction_fee' ---\n",
      "Execution time for 'build': 1056.2520 seconds\n",
      "Calculate the total public_ip_fee. Charge description - Charge for public IP addresses allocated. public_ip_fee {'compute_vm_fee': ['commitment_term'], 'gpu_compute_fee': ['gpu_count'], 'managed_disk_fee': ['region', 'managed_disk_count'], 'data_egress_fee': ['data_egress_gb'], 'data_ingress_fee': ['region', 'data_ingress_gb'], 'storage_transaction_fee': ['region', 'storage_transactions_millions'], 'public_ip_fee': ['public_ip_count'], 'load_balancer_fee': ['region'], 'aks_cluster_fee': ['vm_family', 'kubernetes_node_count'], 'function_app_fee': ['function_exec_ms'], 'sql_database_fee': ['service_tier'], 'snapshot_storage_fee': ['snapshot_gb'], 'app_service_fee': ['service_tier', 'app_service_instances']} {'commitment_term': DomainVariable(name='commitment_term', description='Savings commitment for compute resources', unit='term', data_type=<class 'str'>), 'gpu_count': DomainVariable(name='gpu_count', description='Number of GPUs attached to the instance', unit='GPUs', data_type=<class 'int'>), 'region': DomainVariable(name='region', description='Azure region where resources are deployed', unit='region', data_type=<class 'str'>), 'managed_disk_count': DomainVariable(name='managed_disk_count', description='Count of managed disks attached', unit='disks', data_type=<class 'int'>), 'data_egress_gb': DomainVariable(name='data_egress_gb', description='Outbound data transferred from Azure', unit='GB', data_type=<class 'float'>), 'data_ingress_gb': DomainVariable(name='data_ingress_gb', description='Inbound data transferred to Azure', unit='GB', data_type=<class 'float'>), 'storage_transactions_millions': DomainVariable(name='storage_transactions_millions', description='Number of storage account operations in millions', unit='million tx', data_type=<class 'float'>), 'public_ip_count': DomainVariable(name='public_ip_count', description='Number of public IP addresses allocated', unit='IPs', data_type=<class 'int'>), 'vm_family': DomainVariable(name='vm_family', description='Virtual machine family that defines CPU and memory profile', unit='family', data_type=<class 'str'>), 'kubernetes_node_count': DomainVariable(name='kubernetes_node_count', description='Number of AKS nodes in the cluster', unit='nodes', data_type=<class 'int'>), 'function_exec_ms': DomainVariable(name='function_exec_ms', description='Average or billed execution time per invocation', unit='ms', data_type=<class 'float'>), 'service_tier': DomainVariable(name='service_tier', description='Service tier for managed services', unit='tier', data_type=<class 'str'>), 'snapshot_gb': DomainVariable(name='snapshot_gb', description='Total snapshot storage size', unit='GB', data_type=<class 'float'>), 'app_service_instances': DomainVariable(name='app_service_instances', description='Count of App Service instances', unit='instances', data_type=<class 'int'>)}\n",
      "--- Building graph for charge category: 'public_ip_fee' ---\n",
      "Execution time for 'build': 1091.3591 seconds\n",
      "Calculate the total load_balancer_fee. Charge description - Charge for load balancer rules and tier. load_balancer_fee {'compute_vm_fee': ['commitment_term'], 'gpu_compute_fee': ['gpu_count'], 'managed_disk_fee': ['region', 'managed_disk_count'], 'data_egress_fee': ['data_egress_gb'], 'data_ingress_fee': ['region', 'data_ingress_gb'], 'storage_transaction_fee': ['region', 'storage_transactions_millions'], 'public_ip_fee': ['public_ip_count'], 'load_balancer_fee': ['region'], 'aks_cluster_fee': ['vm_family', 'kubernetes_node_count'], 'function_app_fee': ['function_exec_ms'], 'sql_database_fee': ['service_tier'], 'snapshot_storage_fee': ['snapshot_gb'], 'app_service_fee': ['service_tier', 'app_service_instances']} {'commitment_term': DomainVariable(name='commitment_term', description='Savings commitment for compute resources', unit='term', data_type=<class 'str'>), 'gpu_count': DomainVariable(name='gpu_count', description='Number of GPUs attached to the instance', unit='GPUs', data_type=<class 'int'>), 'region': DomainVariable(name='region', description='Azure region where resources are deployed', unit='region', data_type=<class 'str'>), 'managed_disk_count': DomainVariable(name='managed_disk_count', description='Count of managed disks attached', unit='disks', data_type=<class 'int'>), 'data_egress_gb': DomainVariable(name='data_egress_gb', description='Outbound data transferred from Azure', unit='GB', data_type=<class 'float'>), 'data_ingress_gb': DomainVariable(name='data_ingress_gb', description='Inbound data transferred to Azure', unit='GB', data_type=<class 'float'>), 'storage_transactions_millions': DomainVariable(name='storage_transactions_millions', description='Number of storage account operations in millions', unit='million tx', data_type=<class 'float'>), 'public_ip_count': DomainVariable(name='public_ip_count', description='Number of public IP addresses allocated', unit='IPs', data_type=<class 'int'>), 'vm_family': DomainVariable(name='vm_family', description='Virtual machine family that defines CPU and memory profile', unit='family', data_type=<class 'str'>), 'kubernetes_node_count': DomainVariable(name='kubernetes_node_count', description='Number of AKS nodes in the cluster', unit='nodes', data_type=<class 'int'>), 'function_exec_ms': DomainVariable(name='function_exec_ms', description='Average or billed execution time per invocation', unit='ms', data_type=<class 'float'>), 'service_tier': DomainVariable(name='service_tier', description='Service tier for managed services', unit='tier', data_type=<class 'str'>), 'snapshot_gb': DomainVariable(name='snapshot_gb', description='Total snapshot storage size', unit='GB', data_type=<class 'float'>), 'app_service_instances': DomainVariable(name='app_service_instances', description='Count of App Service instances', unit='instances', data_type=<class 'int'>)}\n",
      "--- Building graph for charge category: 'load_balancer_fee' ---\n",
      "Execution time for 'build': 37.0154 seconds\n",
      "Calculate the total aks_cluster_fee. Charge description - Charge for AKS clusters based on node count and type. aks_cluster_fee {'compute_vm_fee': ['commitment_term'], 'gpu_compute_fee': ['gpu_count'], 'managed_disk_fee': ['region', 'managed_disk_count'], 'data_egress_fee': ['data_egress_gb'], 'data_ingress_fee': ['region', 'data_ingress_gb'], 'storage_transaction_fee': ['region', 'storage_transactions_millions'], 'public_ip_fee': ['public_ip_count'], 'load_balancer_fee': ['region'], 'aks_cluster_fee': ['vm_family', 'kubernetes_node_count'], 'function_app_fee': ['function_exec_ms'], 'sql_database_fee': ['service_tier'], 'snapshot_storage_fee': ['snapshot_gb'], 'app_service_fee': ['service_tier', 'app_service_instances']} {'commitment_term': DomainVariable(name='commitment_term', description='Savings commitment for compute resources', unit='term', data_type=<class 'str'>), 'gpu_count': DomainVariable(name='gpu_count', description='Number of GPUs attached to the instance', unit='GPUs', data_type=<class 'int'>), 'region': DomainVariable(name='region', description='Azure region where resources are deployed', unit='region', data_type=<class 'str'>), 'managed_disk_count': DomainVariable(name='managed_disk_count', description='Count of managed disks attached', unit='disks', data_type=<class 'int'>), 'data_egress_gb': DomainVariable(name='data_egress_gb', description='Outbound data transferred from Azure', unit='GB', data_type=<class 'float'>), 'data_ingress_gb': DomainVariable(name='data_ingress_gb', description='Inbound data transferred to Azure', unit='GB', data_type=<class 'float'>), 'storage_transactions_millions': DomainVariable(name='storage_transactions_millions', description='Number of storage account operations in millions', unit='million tx', data_type=<class 'float'>), 'public_ip_count': DomainVariable(name='public_ip_count', description='Number of public IP addresses allocated', unit='IPs', data_type=<class 'int'>), 'vm_family': DomainVariable(name='vm_family', description='Virtual machine family that defines CPU and memory profile', unit='family', data_type=<class 'str'>), 'kubernetes_node_count': DomainVariable(name='kubernetes_node_count', description='Number of AKS nodes in the cluster', unit='nodes', data_type=<class 'int'>), 'function_exec_ms': DomainVariable(name='function_exec_ms', description='Average or billed execution time per invocation', unit='ms', data_type=<class 'float'>), 'service_tier': DomainVariable(name='service_tier', description='Service tier for managed services', unit='tier', data_type=<class 'str'>), 'snapshot_gb': DomainVariable(name='snapshot_gb', description='Total snapshot storage size', unit='GB', data_type=<class 'float'>), 'app_service_instances': DomainVariable(name='app_service_instances', description='Count of App Service instances', unit='instances', data_type=<class 'int'>)}\n",
      "--- Building graph for charge category: 'aks_cluster_fee' ---\n",
      "Execution time for 'build': 111.3172 seconds\n",
      "Calculate the total function_app_fee. Charge description - Charge for serverless executions and execution time. function_app_fee {'compute_vm_fee': ['commitment_term'], 'gpu_compute_fee': ['gpu_count'], 'managed_disk_fee': ['region', 'managed_disk_count'], 'data_egress_fee': ['data_egress_gb'], 'data_ingress_fee': ['region', 'data_ingress_gb'], 'storage_transaction_fee': ['region', 'storage_transactions_millions'], 'public_ip_fee': ['public_ip_count'], 'load_balancer_fee': ['region'], 'aks_cluster_fee': ['vm_family', 'kubernetes_node_count'], 'function_app_fee': ['function_exec_ms'], 'sql_database_fee': ['service_tier'], 'snapshot_storage_fee': ['snapshot_gb'], 'app_service_fee': ['service_tier', 'app_service_instances']} {'commitment_term': DomainVariable(name='commitment_term', description='Savings commitment for compute resources', unit='term', data_type=<class 'str'>), 'gpu_count': DomainVariable(name='gpu_count', description='Number of GPUs attached to the instance', unit='GPUs', data_type=<class 'int'>), 'region': DomainVariable(name='region', description='Azure region where resources are deployed', unit='region', data_type=<class 'str'>), 'managed_disk_count': DomainVariable(name='managed_disk_count', description='Count of managed disks attached', unit='disks', data_type=<class 'int'>), 'data_egress_gb': DomainVariable(name='data_egress_gb', description='Outbound data transferred from Azure', unit='GB', data_type=<class 'float'>), 'data_ingress_gb': DomainVariable(name='data_ingress_gb', description='Inbound data transferred to Azure', unit='GB', data_type=<class 'float'>), 'storage_transactions_millions': DomainVariable(name='storage_transactions_millions', description='Number of storage account operations in millions', unit='million tx', data_type=<class 'float'>), 'public_ip_count': DomainVariable(name='public_ip_count', description='Number of public IP addresses allocated', unit='IPs', data_type=<class 'int'>), 'vm_family': DomainVariable(name='vm_family', description='Virtual machine family that defines CPU and memory profile', unit='family', data_type=<class 'str'>), 'kubernetes_node_count': DomainVariable(name='kubernetes_node_count', description='Number of AKS nodes in the cluster', unit='nodes', data_type=<class 'int'>), 'function_exec_ms': DomainVariable(name='function_exec_ms', description='Average or billed execution time per invocation', unit='ms', data_type=<class 'float'>), 'service_tier': DomainVariable(name='service_tier', description='Service tier for managed services', unit='tier', data_type=<class 'str'>), 'snapshot_gb': DomainVariable(name='snapshot_gb', description='Total snapshot storage size', unit='GB', data_type=<class 'float'>), 'app_service_instances': DomainVariable(name='app_service_instances', description='Count of App Service instances', unit='instances', data_type=<class 'int'>)}\n",
      "--- Building graph for charge category: 'function_app_fee' ---\n",
      "Execution time for 'build': 27.6465 seconds\n",
      "Calculate the total sql_database_fee. Charge description - Charge for Azure SQL based on vCores, storage, and retention. sql_database_fee {'compute_vm_fee': ['commitment_term'], 'gpu_compute_fee': ['gpu_count'], 'managed_disk_fee': ['region', 'managed_disk_count'], 'data_egress_fee': ['data_egress_gb'], 'data_ingress_fee': ['region', 'data_ingress_gb'], 'storage_transaction_fee': ['region', 'storage_transactions_millions'], 'public_ip_fee': ['public_ip_count'], 'load_balancer_fee': ['region'], 'aks_cluster_fee': ['vm_family', 'kubernetes_node_count'], 'function_app_fee': ['function_exec_ms'], 'sql_database_fee': ['service_tier'], 'snapshot_storage_fee': ['snapshot_gb'], 'app_service_fee': ['service_tier', 'app_service_instances']} {'commitment_term': DomainVariable(name='commitment_term', description='Savings commitment for compute resources', unit='term', data_type=<class 'str'>), 'gpu_count': DomainVariable(name='gpu_count', description='Number of GPUs attached to the instance', unit='GPUs', data_type=<class 'int'>), 'region': DomainVariable(name='region', description='Azure region where resources are deployed', unit='region', data_type=<class 'str'>), 'managed_disk_count': DomainVariable(name='managed_disk_count', description='Count of managed disks attached', unit='disks', data_type=<class 'int'>), 'data_egress_gb': DomainVariable(name='data_egress_gb', description='Outbound data transferred from Azure', unit='GB', data_type=<class 'float'>), 'data_ingress_gb': DomainVariable(name='data_ingress_gb', description='Inbound data transferred to Azure', unit='GB', data_type=<class 'float'>), 'storage_transactions_millions': DomainVariable(name='storage_transactions_millions', description='Number of storage account operations in millions', unit='million tx', data_type=<class 'float'>), 'public_ip_count': DomainVariable(name='public_ip_count', description='Number of public IP addresses allocated', unit='IPs', data_type=<class 'int'>), 'vm_family': DomainVariable(name='vm_family', description='Virtual machine family that defines CPU and memory profile', unit='family', data_type=<class 'str'>), 'kubernetes_node_count': DomainVariable(name='kubernetes_node_count', description='Number of AKS nodes in the cluster', unit='nodes', data_type=<class 'int'>), 'function_exec_ms': DomainVariable(name='function_exec_ms', description='Average or billed execution time per invocation', unit='ms', data_type=<class 'float'>), 'service_tier': DomainVariable(name='service_tier', description='Service tier for managed services', unit='tier', data_type=<class 'str'>), 'snapshot_gb': DomainVariable(name='snapshot_gb', description='Total snapshot storage size', unit='GB', data_type=<class 'float'>), 'app_service_instances': DomainVariable(name='app_service_instances', description='Count of App Service instances', unit='instances', data_type=<class 'int'>)}\n",
      "--- Building graph for charge category: 'sql_database_fee' ---\n",
      "Execution time for 'build': 23.8085 seconds\n",
      "Calculate the total snapshot_storage_fee. Charge description - Charge for snapshot storage volume and redundancy. snapshot_storage_fee {'compute_vm_fee': ['commitment_term'], 'gpu_compute_fee': ['gpu_count'], 'managed_disk_fee': ['region', 'managed_disk_count'], 'data_egress_fee': ['data_egress_gb'], 'data_ingress_fee': ['region', 'data_ingress_gb'], 'storage_transaction_fee': ['region', 'storage_transactions_millions'], 'public_ip_fee': ['public_ip_count'], 'load_balancer_fee': ['region'], 'aks_cluster_fee': ['vm_family', 'kubernetes_node_count'], 'function_app_fee': ['function_exec_ms'], 'sql_database_fee': ['service_tier'], 'snapshot_storage_fee': ['snapshot_gb'], 'app_service_fee': ['service_tier', 'app_service_instances']} {'commitment_term': DomainVariable(name='commitment_term', description='Savings commitment for compute resources', unit='term', data_type=<class 'str'>), 'gpu_count': DomainVariable(name='gpu_count', description='Number of GPUs attached to the instance', unit='GPUs', data_type=<class 'int'>), 'region': DomainVariable(name='region', description='Azure region where resources are deployed', unit='region', data_type=<class 'str'>), 'managed_disk_count': DomainVariable(name='managed_disk_count', description='Count of managed disks attached', unit='disks', data_type=<class 'int'>), 'data_egress_gb': DomainVariable(name='data_egress_gb', description='Outbound data transferred from Azure', unit='GB', data_type=<class 'float'>), 'data_ingress_gb': DomainVariable(name='data_ingress_gb', description='Inbound data transferred to Azure', unit='GB', data_type=<class 'float'>), 'storage_transactions_millions': DomainVariable(name='storage_transactions_millions', description='Number of storage account operations in millions', unit='million tx', data_type=<class 'float'>), 'public_ip_count': DomainVariable(name='public_ip_count', description='Number of public IP addresses allocated', unit='IPs', data_type=<class 'int'>), 'vm_family': DomainVariable(name='vm_family', description='Virtual machine family that defines CPU and memory profile', unit='family', data_type=<class 'str'>), 'kubernetes_node_count': DomainVariable(name='kubernetes_node_count', description='Number of AKS nodes in the cluster', unit='nodes', data_type=<class 'int'>), 'function_exec_ms': DomainVariable(name='function_exec_ms', description='Average or billed execution time per invocation', unit='ms', data_type=<class 'float'>), 'service_tier': DomainVariable(name='service_tier', description='Service tier for managed services', unit='tier', data_type=<class 'str'>), 'snapshot_gb': DomainVariable(name='snapshot_gb', description='Total snapshot storage size', unit='GB', data_type=<class 'float'>), 'app_service_instances': DomainVariable(name='app_service_instances', description='Count of App Service instances', unit='instances', data_type=<class 'int'>)}\n",
      "--- Building graph for charge category: 'snapshot_storage_fee' ---\n",
      "Execution time for 'build': 19.5919 seconds\n",
      "Calculate the total app_service_fee. Charge description - Charge for App Service instances and tier. app_service_fee {'compute_vm_fee': ['commitment_term'], 'gpu_compute_fee': ['gpu_count'], 'managed_disk_fee': ['region', 'managed_disk_count'], 'data_egress_fee': ['data_egress_gb'], 'data_ingress_fee': ['region', 'data_ingress_gb'], 'storage_transaction_fee': ['region', 'storage_transactions_millions'], 'public_ip_fee': ['public_ip_count'], 'load_balancer_fee': ['region'], 'aks_cluster_fee': ['vm_family', 'kubernetes_node_count'], 'function_app_fee': ['function_exec_ms'], 'sql_database_fee': ['service_tier'], 'snapshot_storage_fee': ['snapshot_gb'], 'app_service_fee': ['service_tier', 'app_service_instances']} {'commitment_term': DomainVariable(name='commitment_term', description='Savings commitment for compute resources', unit='term', data_type=<class 'str'>), 'gpu_count': DomainVariable(name='gpu_count', description='Number of GPUs attached to the instance', unit='GPUs', data_type=<class 'int'>), 'region': DomainVariable(name='region', description='Azure region where resources are deployed', unit='region', data_type=<class 'str'>), 'managed_disk_count': DomainVariable(name='managed_disk_count', description='Count of managed disks attached', unit='disks', data_type=<class 'int'>), 'data_egress_gb': DomainVariable(name='data_egress_gb', description='Outbound data transferred from Azure', unit='GB', data_type=<class 'float'>), 'data_ingress_gb': DomainVariable(name='data_ingress_gb', description='Inbound data transferred to Azure', unit='GB', data_type=<class 'float'>), 'storage_transactions_millions': DomainVariable(name='storage_transactions_millions', description='Number of storage account operations in millions', unit='million tx', data_type=<class 'float'>), 'public_ip_count': DomainVariable(name='public_ip_count', description='Number of public IP addresses allocated', unit='IPs', data_type=<class 'int'>), 'vm_family': DomainVariable(name='vm_family', description='Virtual machine family that defines CPU and memory profile', unit='family', data_type=<class 'str'>), 'kubernetes_node_count': DomainVariable(name='kubernetes_node_count', description='Number of AKS nodes in the cluster', unit='nodes', data_type=<class 'int'>), 'function_exec_ms': DomainVariable(name='function_exec_ms', description='Average or billed execution time per invocation', unit='ms', data_type=<class 'float'>), 'service_tier': DomainVariable(name='service_tier', description='Service tier for managed services', unit='tier', data_type=<class 'str'>), 'snapshot_gb': DomainVariable(name='snapshot_gb', description='Total snapshot storage size', unit='GB', data_type=<class 'float'>), 'app_service_instances': DomainVariable(name='app_service_instances', description='Count of App Service instances', unit='instances', data_type=<class 'int'>)}\n",
      "--- Building graph for charge category: 'app_service_fee' ---\n",
      "Execution time for 'build': 366.2691 seconds\n",
      "Calculate the total compute_vm_fee. Charge description - Charge for running virtual machines based on vCPU, memory, OS, and commitment. compute_vm_fee {'compute_vm_fee': ['usage_hours'], 'gpu_compute_fee': ['region', 'usage_hours'], 'managed_disk_fee': ['disk_size_gb'], 'data_egress_fee': ['region'], 'data_ingress_fee': ['region', 'data_ingress_gb'], 'storage_transaction_fee': ['region'], 'public_ip_fee': ['region', 'public_ip_count'], 'load_balancer_fee': ['service_tier', 'load_balancer_rules'], 'aks_cluster_fee': ['region', 'kubernetes_node_count'], 'function_app_fee': ['region', 'function_executions'], 'sql_database_fee': ['service_tier', 'sql_vcores'], 'snapshot_storage_fee': ['redundancy', 'snapshot_gb'], 'app_service_fee': ['region', 'app_service_instances']} {'usage_hours': DomainVariable(name='usage_hours', description='Total runtime in hours over the billing window', unit='hours', data_type=<class 'float'>), 'region': DomainVariable(name='region', description='Azure region where resources are deployed', unit='region', data_type=<class 'str'>), 'disk_size_gb': DomainVariable(name='disk_size_gb', description='Size of each managed disk', unit='GB', data_type=<class 'int'>), 'data_ingress_gb': DomainVariable(name='data_ingress_gb', description='Inbound data transferred to Azure', unit='GB', data_type=<class 'float'>), 'public_ip_count': DomainVariable(name='public_ip_count', description='Number of public IP addresses allocated', unit='IPs', data_type=<class 'int'>), 'service_tier': DomainVariable(name='service_tier', description='Service tier for managed services', unit='tier', data_type=<class 'str'>), 'load_balancer_rules': DomainVariable(name='load_balancer_rules', description='Configured load balancer rules', unit='rules', data_type=<class 'int'>), 'kubernetes_node_count': DomainVariable(name='kubernetes_node_count', description='Number of AKS nodes in the cluster', unit='nodes', data_type=<class 'int'>), 'function_executions': DomainVariable(name='function_executions', description='Number of serverless function calls', unit='invocations', data_type=<class 'int'>), 'sql_vcores': DomainVariable(name='sql_vcores', description='vCore count for Azure SQL', unit='vCores', data_type=<class 'int'>), 'redundancy': DomainVariable(name='redundancy', description='Storage redundancy configuration', unit='redundancy', data_type=<class 'str'>), 'snapshot_gb': DomainVariable(name='snapshot_gb', description='Total snapshot storage size', unit='GB', data_type=<class 'float'>), 'app_service_instances': DomainVariable(name='app_service_instances', description='Count of App Service instances', unit='instances', data_type=<class 'int'>)}\n",
      "--- Building graph for charge category: 'compute_vm_fee' ---\n",
      "Execution time for 'build': 12.3849 seconds\n",
      "Calculate the total gpu_compute_fee. Charge description - Charge for GPU-enabled compute usage. gpu_compute_fee {'compute_vm_fee': ['usage_hours'], 'gpu_compute_fee': ['region', 'usage_hours'], 'managed_disk_fee': ['disk_size_gb'], 'data_egress_fee': ['region'], 'data_ingress_fee': ['region', 'data_ingress_gb'], 'storage_transaction_fee': ['region'], 'public_ip_fee': ['region', 'public_ip_count'], 'load_balancer_fee': ['service_tier', 'load_balancer_rules'], 'aks_cluster_fee': ['region', 'kubernetes_node_count'], 'function_app_fee': ['region', 'function_executions'], 'sql_database_fee': ['service_tier', 'sql_vcores'], 'snapshot_storage_fee': ['redundancy', 'snapshot_gb'], 'app_service_fee': ['region', 'app_service_instances']} {'usage_hours': DomainVariable(name='usage_hours', description='Total runtime in hours over the billing window', unit='hours', data_type=<class 'float'>), 'region': DomainVariable(name='region', description='Azure region where resources are deployed', unit='region', data_type=<class 'str'>), 'disk_size_gb': DomainVariable(name='disk_size_gb', description='Size of each managed disk', unit='GB', data_type=<class 'int'>), 'data_ingress_gb': DomainVariable(name='data_ingress_gb', description='Inbound data transferred to Azure', unit='GB', data_type=<class 'float'>), 'public_ip_count': DomainVariable(name='public_ip_count', description='Number of public IP addresses allocated', unit='IPs', data_type=<class 'int'>), 'service_tier': DomainVariable(name='service_tier', description='Service tier for managed services', unit='tier', data_type=<class 'str'>), 'load_balancer_rules': DomainVariable(name='load_balancer_rules', description='Configured load balancer rules', unit='rules', data_type=<class 'int'>), 'kubernetes_node_count': DomainVariable(name='kubernetes_node_count', description='Number of AKS nodes in the cluster', unit='nodes', data_type=<class 'int'>), 'function_executions': DomainVariable(name='function_executions', description='Number of serverless function calls', unit='invocations', data_type=<class 'int'>), 'sql_vcores': DomainVariable(name='sql_vcores', description='vCore count for Azure SQL', unit='vCores', data_type=<class 'int'>), 'redundancy': DomainVariable(name='redundancy', description='Storage redundancy configuration', unit='redundancy', data_type=<class 'str'>), 'snapshot_gb': DomainVariable(name='snapshot_gb', description='Total snapshot storage size', unit='GB', data_type=<class 'float'>), 'app_service_instances': DomainVariable(name='app_service_instances', description='Count of App Service instances', unit='instances', data_type=<class 'int'>)}\n",
      "--- Building graph for charge category: 'gpu_compute_fee' ---\n",
      "Execution time for 'build': 994.4035 seconds\n",
      "Calculate the total managed_disk_fee. Charge description - Charge for managed disks based on type, size, and count. managed_disk_fee {'compute_vm_fee': ['usage_hours'], 'gpu_compute_fee': ['region', 'usage_hours'], 'managed_disk_fee': ['disk_size_gb'], 'data_egress_fee': ['region'], 'data_ingress_fee': ['region', 'data_ingress_gb'], 'storage_transaction_fee': ['region'], 'public_ip_fee': ['region', 'public_ip_count'], 'load_balancer_fee': ['service_tier', 'load_balancer_rules'], 'aks_cluster_fee': ['region', 'kubernetes_node_count'], 'function_app_fee': ['region', 'function_executions'], 'sql_database_fee': ['service_tier', 'sql_vcores'], 'snapshot_storage_fee': ['redundancy', 'snapshot_gb'], 'app_service_fee': ['region', 'app_service_instances']} {'usage_hours': DomainVariable(name='usage_hours', description='Total runtime in hours over the billing window', unit='hours', data_type=<class 'float'>), 'region': DomainVariable(name='region', description='Azure region where resources are deployed', unit='region', data_type=<class 'str'>), 'disk_size_gb': DomainVariable(name='disk_size_gb', description='Size of each managed disk', unit='GB', data_type=<class 'int'>), 'data_ingress_gb': DomainVariable(name='data_ingress_gb', description='Inbound data transferred to Azure', unit='GB', data_type=<class 'float'>), 'public_ip_count': DomainVariable(name='public_ip_count', description='Number of public IP addresses allocated', unit='IPs', data_type=<class 'int'>), 'service_tier': DomainVariable(name='service_tier', description='Service tier for managed services', unit='tier', data_type=<class 'str'>), 'load_balancer_rules': DomainVariable(name='load_balancer_rules', description='Configured load balancer rules', unit='rules', data_type=<class 'int'>), 'kubernetes_node_count': DomainVariable(name='kubernetes_node_count', description='Number of AKS nodes in the cluster', unit='nodes', data_type=<class 'int'>), 'function_executions': DomainVariable(name='function_executions', description='Number of serverless function calls', unit='invocations', data_type=<class 'int'>), 'sql_vcores': DomainVariable(name='sql_vcores', description='vCore count for Azure SQL', unit='vCores', data_type=<class 'int'>), 'redundancy': DomainVariable(name='redundancy', description='Storage redundancy configuration', unit='redundancy', data_type=<class 'str'>), 'snapshot_gb': DomainVariable(name='snapshot_gb', description='Total snapshot storage size', unit='GB', data_type=<class 'float'>), 'app_service_instances': DomainVariable(name='app_service_instances', description='Count of App Service instances', unit='instances', data_type=<class 'int'>)}\n",
      "--- Building graph for charge category: 'managed_disk_fee' ---\n",
      "Execution time for 'build': 20.2773 seconds\n",
      "Calculate the total data_egress_fee. Charge description - Charge for data leaving Azure regions. data_egress_fee {'compute_vm_fee': ['usage_hours'], 'gpu_compute_fee': ['region', 'usage_hours'], 'managed_disk_fee': ['disk_size_gb'], 'data_egress_fee': ['region'], 'data_ingress_fee': ['region', 'data_ingress_gb'], 'storage_transaction_fee': ['region'], 'public_ip_fee': ['region', 'public_ip_count'], 'load_balancer_fee': ['service_tier', 'load_balancer_rules'], 'aks_cluster_fee': ['region', 'kubernetes_node_count'], 'function_app_fee': ['region', 'function_executions'], 'sql_database_fee': ['service_tier', 'sql_vcores'], 'snapshot_storage_fee': ['redundancy', 'snapshot_gb'], 'app_service_fee': ['region', 'app_service_instances']} {'usage_hours': DomainVariable(name='usage_hours', description='Total runtime in hours over the billing window', unit='hours', data_type=<class 'float'>), 'region': DomainVariable(name='region', description='Azure region where resources are deployed', unit='region', data_type=<class 'str'>), 'disk_size_gb': DomainVariable(name='disk_size_gb', description='Size of each managed disk', unit='GB', data_type=<class 'int'>), 'data_ingress_gb': DomainVariable(name='data_ingress_gb', description='Inbound data transferred to Azure', unit='GB', data_type=<class 'float'>), 'public_ip_count': DomainVariable(name='public_ip_count', description='Number of public IP addresses allocated', unit='IPs', data_type=<class 'int'>), 'service_tier': DomainVariable(name='service_tier', description='Service tier for managed services', unit='tier', data_type=<class 'str'>), 'load_balancer_rules': DomainVariable(name='load_balancer_rules', description='Configured load balancer rules', unit='rules', data_type=<class 'int'>), 'kubernetes_node_count': DomainVariable(name='kubernetes_node_count', description='Number of AKS nodes in the cluster', unit='nodes', data_type=<class 'int'>), 'function_executions': DomainVariable(name='function_executions', description='Number of serverless function calls', unit='invocations', data_type=<class 'int'>), 'sql_vcores': DomainVariable(name='sql_vcores', description='vCore count for Azure SQL', unit='vCores', data_type=<class 'int'>), 'redundancy': DomainVariable(name='redundancy', description='Storage redundancy configuration', unit='redundancy', data_type=<class 'str'>), 'snapshot_gb': DomainVariable(name='snapshot_gb', description='Total snapshot storage size', unit='GB', data_type=<class 'float'>), 'app_service_instances': DomainVariable(name='app_service_instances', description='Count of App Service instances', unit='instances', data_type=<class 'int'>)}\n",
      "--- Building graph for charge category: 'data_egress_fee' ---\n",
      "Execution time for 'build': 24.7534 seconds\n",
      "Calculate the total data_ingress_fee. Charge description - Charge for data entering Azure regions where applicable. data_ingress_fee {'compute_vm_fee': ['usage_hours'], 'gpu_compute_fee': ['region', 'usage_hours'], 'managed_disk_fee': ['disk_size_gb'], 'data_egress_fee': ['region'], 'data_ingress_fee': ['region', 'data_ingress_gb'], 'storage_transaction_fee': ['region'], 'public_ip_fee': ['region', 'public_ip_count'], 'load_balancer_fee': ['service_tier', 'load_balancer_rules'], 'aks_cluster_fee': ['region', 'kubernetes_node_count'], 'function_app_fee': ['region', 'function_executions'], 'sql_database_fee': ['service_tier', 'sql_vcores'], 'snapshot_storage_fee': ['redundancy', 'snapshot_gb'], 'app_service_fee': ['region', 'app_service_instances']} {'usage_hours': DomainVariable(name='usage_hours', description='Total runtime in hours over the billing window', unit='hours', data_type=<class 'float'>), 'region': DomainVariable(name='region', description='Azure region where resources are deployed', unit='region', data_type=<class 'str'>), 'disk_size_gb': DomainVariable(name='disk_size_gb', description='Size of each managed disk', unit='GB', data_type=<class 'int'>), 'data_ingress_gb': DomainVariable(name='data_ingress_gb', description='Inbound data transferred to Azure', unit='GB', data_type=<class 'float'>), 'public_ip_count': DomainVariable(name='public_ip_count', description='Number of public IP addresses allocated', unit='IPs', data_type=<class 'int'>), 'service_tier': DomainVariable(name='service_tier', description='Service tier for managed services', unit='tier', data_type=<class 'str'>), 'load_balancer_rules': DomainVariable(name='load_balancer_rules', description='Configured load balancer rules', unit='rules', data_type=<class 'int'>), 'kubernetes_node_count': DomainVariable(name='kubernetes_node_count', description='Number of AKS nodes in the cluster', unit='nodes', data_type=<class 'int'>), 'function_executions': DomainVariable(name='function_executions', description='Number of serverless function calls', unit='invocations', data_type=<class 'int'>), 'sql_vcores': DomainVariable(name='sql_vcores', description='vCore count for Azure SQL', unit='vCores', data_type=<class 'int'>), 'redundancy': DomainVariable(name='redundancy', description='Storage redundancy configuration', unit='redundancy', data_type=<class 'str'>), 'snapshot_gb': DomainVariable(name='snapshot_gb', description='Total snapshot storage size', unit='GB', data_type=<class 'float'>), 'app_service_instances': DomainVariable(name='app_service_instances', description='Count of App Service instances', unit='instances', data_type=<class 'int'>)}\n",
      "--- Building graph for charge category: 'data_ingress_fee' ---\n",
      "Execution time for 'build': 351.1999 seconds\n",
      "Calculate the total storage_transaction_fee. Charge description - Charge for storage account transactions and redundancy level. storage_transaction_fee {'compute_vm_fee': ['usage_hours'], 'gpu_compute_fee': ['region', 'usage_hours'], 'managed_disk_fee': ['disk_size_gb'], 'data_egress_fee': ['region'], 'data_ingress_fee': ['region', 'data_ingress_gb'], 'storage_transaction_fee': ['region'], 'public_ip_fee': ['region', 'public_ip_count'], 'load_balancer_fee': ['service_tier', 'load_balancer_rules'], 'aks_cluster_fee': ['region', 'kubernetes_node_count'], 'function_app_fee': ['region', 'function_executions'], 'sql_database_fee': ['service_tier', 'sql_vcores'], 'snapshot_storage_fee': ['redundancy', 'snapshot_gb'], 'app_service_fee': ['region', 'app_service_instances']} {'usage_hours': DomainVariable(name='usage_hours', description='Total runtime in hours over the billing window', unit='hours', data_type=<class 'float'>), 'region': DomainVariable(name='region', description='Azure region where resources are deployed', unit='region', data_type=<class 'str'>), 'disk_size_gb': DomainVariable(name='disk_size_gb', description='Size of each managed disk', unit='GB', data_type=<class 'int'>), 'data_ingress_gb': DomainVariable(name='data_ingress_gb', description='Inbound data transferred to Azure', unit='GB', data_type=<class 'float'>), 'public_ip_count': DomainVariable(name='public_ip_count', description='Number of public IP addresses allocated', unit='IPs', data_type=<class 'int'>), 'service_tier': DomainVariable(name='service_tier', description='Service tier for managed services', unit='tier', data_type=<class 'str'>), 'load_balancer_rules': DomainVariable(name='load_balancer_rules', description='Configured load balancer rules', unit='rules', data_type=<class 'int'>), 'kubernetes_node_count': DomainVariable(name='kubernetes_node_count', description='Number of AKS nodes in the cluster', unit='nodes', data_type=<class 'int'>), 'function_executions': DomainVariable(name='function_executions', description='Number of serverless function calls', unit='invocations', data_type=<class 'int'>), 'sql_vcores': DomainVariable(name='sql_vcores', description='vCore count for Azure SQL', unit='vCores', data_type=<class 'int'>), 'redundancy': DomainVariable(name='redundancy', description='Storage redundancy configuration', unit='redundancy', data_type=<class 'str'>), 'snapshot_gb': DomainVariable(name='snapshot_gb', description='Total snapshot storage size', unit='GB', data_type=<class 'float'>), 'app_service_instances': DomainVariable(name='app_service_instances', description='Count of App Service instances', unit='instances', data_type=<class 'int'>)}\n",
      "--- Building graph for charge category: 'storage_transaction_fee' ---\n",
      "Execution time for 'build': 30.1924 seconds\n",
      "Calculate the total public_ip_fee. Charge description - Charge for public IP addresses allocated. public_ip_fee {'compute_vm_fee': ['usage_hours'], 'gpu_compute_fee': ['region', 'usage_hours'], 'managed_disk_fee': ['disk_size_gb'], 'data_egress_fee': ['region'], 'data_ingress_fee': ['region', 'data_ingress_gb'], 'storage_transaction_fee': ['region'], 'public_ip_fee': ['region', 'public_ip_count'], 'load_balancer_fee': ['service_tier', 'load_balancer_rules'], 'aks_cluster_fee': ['region', 'kubernetes_node_count'], 'function_app_fee': ['region', 'function_executions'], 'sql_database_fee': ['service_tier', 'sql_vcores'], 'snapshot_storage_fee': ['redundancy', 'snapshot_gb'], 'app_service_fee': ['region', 'app_service_instances']} {'usage_hours': DomainVariable(name='usage_hours', description='Total runtime in hours over the billing window', unit='hours', data_type=<class 'float'>), 'region': DomainVariable(name='region', description='Azure region where resources are deployed', unit='region', data_type=<class 'str'>), 'disk_size_gb': DomainVariable(name='disk_size_gb', description='Size of each managed disk', unit='GB', data_type=<class 'int'>), 'data_ingress_gb': DomainVariable(name='data_ingress_gb', description='Inbound data transferred to Azure', unit='GB', data_type=<class 'float'>), 'public_ip_count': DomainVariable(name='public_ip_count', description='Number of public IP addresses allocated', unit='IPs', data_type=<class 'int'>), 'service_tier': DomainVariable(name='service_tier', description='Service tier for managed services', unit='tier', data_type=<class 'str'>), 'load_balancer_rules': DomainVariable(name='load_balancer_rules', description='Configured load balancer rules', unit='rules', data_type=<class 'int'>), 'kubernetes_node_count': DomainVariable(name='kubernetes_node_count', description='Number of AKS nodes in the cluster', unit='nodes', data_type=<class 'int'>), 'function_executions': DomainVariable(name='function_executions', description='Number of serverless function calls', unit='invocations', data_type=<class 'int'>), 'sql_vcores': DomainVariable(name='sql_vcores', description='vCore count for Azure SQL', unit='vCores', data_type=<class 'int'>), 'redundancy': DomainVariable(name='redundancy', description='Storage redundancy configuration', unit='redundancy', data_type=<class 'str'>), 'snapshot_gb': DomainVariable(name='snapshot_gb', description='Total snapshot storage size', unit='GB', data_type=<class 'float'>), 'app_service_instances': DomainVariable(name='app_service_instances', description='Count of App Service instances', unit='instances', data_type=<class 'int'>)}\n",
      "--- Building graph for charge category: 'public_ip_fee' ---\n",
      "Execution time for 'build': 92.3033 seconds\n",
      "Calculate the total load_balancer_fee. Charge description - Charge for load balancer rules and tier. load_balancer_fee {'compute_vm_fee': ['usage_hours'], 'gpu_compute_fee': ['region', 'usage_hours'], 'managed_disk_fee': ['disk_size_gb'], 'data_egress_fee': ['region'], 'data_ingress_fee': ['region', 'data_ingress_gb'], 'storage_transaction_fee': ['region'], 'public_ip_fee': ['region', 'public_ip_count'], 'load_balancer_fee': ['service_tier', 'load_balancer_rules'], 'aks_cluster_fee': ['region', 'kubernetes_node_count'], 'function_app_fee': ['region', 'function_executions'], 'sql_database_fee': ['service_tier', 'sql_vcores'], 'snapshot_storage_fee': ['redundancy', 'snapshot_gb'], 'app_service_fee': ['region', 'app_service_instances']} {'usage_hours': DomainVariable(name='usage_hours', description='Total runtime in hours over the billing window', unit='hours', data_type=<class 'float'>), 'region': DomainVariable(name='region', description='Azure region where resources are deployed', unit='region', data_type=<class 'str'>), 'disk_size_gb': DomainVariable(name='disk_size_gb', description='Size of each managed disk', unit='GB', data_type=<class 'int'>), 'data_ingress_gb': DomainVariable(name='data_ingress_gb', description='Inbound data transferred to Azure', unit='GB', data_type=<class 'float'>), 'public_ip_count': DomainVariable(name='public_ip_count', description='Number of public IP addresses allocated', unit='IPs', data_type=<class 'int'>), 'service_tier': DomainVariable(name='service_tier', description='Service tier for managed services', unit='tier', data_type=<class 'str'>), 'load_balancer_rules': DomainVariable(name='load_balancer_rules', description='Configured load balancer rules', unit='rules', data_type=<class 'int'>), 'kubernetes_node_count': DomainVariable(name='kubernetes_node_count', description='Number of AKS nodes in the cluster', unit='nodes', data_type=<class 'int'>), 'function_executions': DomainVariable(name='function_executions', description='Number of serverless function calls', unit='invocations', data_type=<class 'int'>), 'sql_vcores': DomainVariable(name='sql_vcores', description='vCore count for Azure SQL', unit='vCores', data_type=<class 'int'>), 'redundancy': DomainVariable(name='redundancy', description='Storage redundancy configuration', unit='redundancy', data_type=<class 'str'>), 'snapshot_gb': DomainVariable(name='snapshot_gb', description='Total snapshot storage size', unit='GB', data_type=<class 'float'>), 'app_service_instances': DomainVariable(name='app_service_instances', description='Count of App Service instances', unit='instances', data_type=<class 'int'>)}\n",
      "--- Building graph for charge category: 'load_balancer_fee' ---\n",
      "Execution time for 'build': 9.0765 seconds\n",
      "Calculate the total aks_cluster_fee. Charge description - Charge for AKS clusters based on node count and type. aks_cluster_fee {'compute_vm_fee': ['usage_hours'], 'gpu_compute_fee': ['region', 'usage_hours'], 'managed_disk_fee': ['disk_size_gb'], 'data_egress_fee': ['region'], 'data_ingress_fee': ['region', 'data_ingress_gb'], 'storage_transaction_fee': ['region'], 'public_ip_fee': ['region', 'public_ip_count'], 'load_balancer_fee': ['service_tier', 'load_balancer_rules'], 'aks_cluster_fee': ['region', 'kubernetes_node_count'], 'function_app_fee': ['region', 'function_executions'], 'sql_database_fee': ['service_tier', 'sql_vcores'], 'snapshot_storage_fee': ['redundancy', 'snapshot_gb'], 'app_service_fee': ['region', 'app_service_instances']} {'usage_hours': DomainVariable(name='usage_hours', description='Total runtime in hours over the billing window', unit='hours', data_type=<class 'float'>), 'region': DomainVariable(name='region', description='Azure region where resources are deployed', unit='region', data_type=<class 'str'>), 'disk_size_gb': DomainVariable(name='disk_size_gb', description='Size of each managed disk', unit='GB', data_type=<class 'int'>), 'data_ingress_gb': DomainVariable(name='data_ingress_gb', description='Inbound data transferred to Azure', unit='GB', data_type=<class 'float'>), 'public_ip_count': DomainVariable(name='public_ip_count', description='Number of public IP addresses allocated', unit='IPs', data_type=<class 'int'>), 'service_tier': DomainVariable(name='service_tier', description='Service tier for managed services', unit='tier', data_type=<class 'str'>), 'load_balancer_rules': DomainVariable(name='load_balancer_rules', description='Configured load balancer rules', unit='rules', data_type=<class 'int'>), 'kubernetes_node_count': DomainVariable(name='kubernetes_node_count', description='Number of AKS nodes in the cluster', unit='nodes', data_type=<class 'int'>), 'function_executions': DomainVariable(name='function_executions', description='Number of serverless function calls', unit='invocations', data_type=<class 'int'>), 'sql_vcores': DomainVariable(name='sql_vcores', description='vCore count for Azure SQL', unit='vCores', data_type=<class 'int'>), 'redundancy': DomainVariable(name='redundancy', description='Storage redundancy configuration', unit='redundancy', data_type=<class 'str'>), 'snapshot_gb': DomainVariable(name='snapshot_gb', description='Total snapshot storage size', unit='GB', data_type=<class 'float'>), 'app_service_instances': DomainVariable(name='app_service_instances', description='Count of App Service instances', unit='instances', data_type=<class 'int'>)}\n",
      "--- Building graph for charge category: 'aks_cluster_fee' ---\n",
      "Execution time for 'build': 739.0688 seconds\n",
      "Calculate the total function_app_fee. Charge description - Charge for serverless executions and execution time. function_app_fee {'compute_vm_fee': ['usage_hours'], 'gpu_compute_fee': ['region', 'usage_hours'], 'managed_disk_fee': ['disk_size_gb'], 'data_egress_fee': ['region'], 'data_ingress_fee': ['region', 'data_ingress_gb'], 'storage_transaction_fee': ['region'], 'public_ip_fee': ['region', 'public_ip_count'], 'load_balancer_fee': ['service_tier', 'load_balancer_rules'], 'aks_cluster_fee': ['region', 'kubernetes_node_count'], 'function_app_fee': ['region', 'function_executions'], 'sql_database_fee': ['service_tier', 'sql_vcores'], 'snapshot_storage_fee': ['redundancy', 'snapshot_gb'], 'app_service_fee': ['region', 'app_service_instances']} {'usage_hours': DomainVariable(name='usage_hours', description='Total runtime in hours over the billing window', unit='hours', data_type=<class 'float'>), 'region': DomainVariable(name='region', description='Azure region where resources are deployed', unit='region', data_type=<class 'str'>), 'disk_size_gb': DomainVariable(name='disk_size_gb', description='Size of each managed disk', unit='GB', data_type=<class 'int'>), 'data_ingress_gb': DomainVariable(name='data_ingress_gb', description='Inbound data transferred to Azure', unit='GB', data_type=<class 'float'>), 'public_ip_count': DomainVariable(name='public_ip_count', description='Number of public IP addresses allocated', unit='IPs', data_type=<class 'int'>), 'service_tier': DomainVariable(name='service_tier', description='Service tier for managed services', unit='tier', data_type=<class 'str'>), 'load_balancer_rules': DomainVariable(name='load_balancer_rules', description='Configured load balancer rules', unit='rules', data_type=<class 'int'>), 'kubernetes_node_count': DomainVariable(name='kubernetes_node_count', description='Number of AKS nodes in the cluster', unit='nodes', data_type=<class 'int'>), 'function_executions': DomainVariable(name='function_executions', description='Number of serverless function calls', unit='invocations', data_type=<class 'int'>), 'sql_vcores': DomainVariable(name='sql_vcores', description='vCore count for Azure SQL', unit='vCores', data_type=<class 'int'>), 'redundancy': DomainVariable(name='redundancy', description='Storage redundancy configuration', unit='redundancy', data_type=<class 'str'>), 'snapshot_gb': DomainVariable(name='snapshot_gb', description='Total snapshot storage size', unit='GB', data_type=<class 'float'>), 'app_service_instances': DomainVariable(name='app_service_instances', description='Count of App Service instances', unit='instances', data_type=<class 'int'>)}\n",
      "--- Building graph for charge category: 'function_app_fee' ---\n",
      "Execution time for 'build': 27.6736 seconds\n",
      "Calculate the total sql_database_fee. Charge description - Charge for Azure SQL based on vCores, storage, and retention. sql_database_fee {'compute_vm_fee': ['usage_hours'], 'gpu_compute_fee': ['region', 'usage_hours'], 'managed_disk_fee': ['disk_size_gb'], 'data_egress_fee': ['region'], 'data_ingress_fee': ['region', 'data_ingress_gb'], 'storage_transaction_fee': ['region'], 'public_ip_fee': ['region', 'public_ip_count'], 'load_balancer_fee': ['service_tier', 'load_balancer_rules'], 'aks_cluster_fee': ['region', 'kubernetes_node_count'], 'function_app_fee': ['region', 'function_executions'], 'sql_database_fee': ['service_tier', 'sql_vcores'], 'snapshot_storage_fee': ['redundancy', 'snapshot_gb'], 'app_service_fee': ['region', 'app_service_instances']} {'usage_hours': DomainVariable(name='usage_hours', description='Total runtime in hours over the billing window', unit='hours', data_type=<class 'float'>), 'region': DomainVariable(name='region', description='Azure region where resources are deployed', unit='region', data_type=<class 'str'>), 'disk_size_gb': DomainVariable(name='disk_size_gb', description='Size of each managed disk', unit='GB', data_type=<class 'int'>), 'data_ingress_gb': DomainVariable(name='data_ingress_gb', description='Inbound data transferred to Azure', unit='GB', data_type=<class 'float'>), 'public_ip_count': DomainVariable(name='public_ip_count', description='Number of public IP addresses allocated', unit='IPs', data_type=<class 'int'>), 'service_tier': DomainVariable(name='service_tier', description='Service tier for managed services', unit='tier', data_type=<class 'str'>), 'load_balancer_rules': DomainVariable(name='load_balancer_rules', description='Configured load balancer rules', unit='rules', data_type=<class 'int'>), 'kubernetes_node_count': DomainVariable(name='kubernetes_node_count', description='Number of AKS nodes in the cluster', unit='nodes', data_type=<class 'int'>), 'function_executions': DomainVariable(name='function_executions', description='Number of serverless function calls', unit='invocations', data_type=<class 'int'>), 'sql_vcores': DomainVariable(name='sql_vcores', description='vCore count for Azure SQL', unit='vCores', data_type=<class 'int'>), 'redundancy': DomainVariable(name='redundancy', description='Storage redundancy configuration', unit='redundancy', data_type=<class 'str'>), 'snapshot_gb': DomainVariable(name='snapshot_gb', description='Total snapshot storage size', unit='GB', data_type=<class 'float'>), 'app_service_instances': DomainVariable(name='app_service_instances', description='Count of App Service instances', unit='instances', data_type=<class 'int'>)}\n",
      "--- Building graph for charge category: 'sql_database_fee' ---\n",
      "Execution time for 'build': 628.0350 seconds\n",
      "Calculate the total snapshot_storage_fee. Charge description - Charge for snapshot storage volume and redundancy. snapshot_storage_fee {'compute_vm_fee': ['usage_hours'], 'gpu_compute_fee': ['region', 'usage_hours'], 'managed_disk_fee': ['disk_size_gb'], 'data_egress_fee': ['region'], 'data_ingress_fee': ['region', 'data_ingress_gb'], 'storage_transaction_fee': ['region'], 'public_ip_fee': ['region', 'public_ip_count'], 'load_balancer_fee': ['service_tier', 'load_balancer_rules'], 'aks_cluster_fee': ['region', 'kubernetes_node_count'], 'function_app_fee': ['region', 'function_executions'], 'sql_database_fee': ['service_tier', 'sql_vcores'], 'snapshot_storage_fee': ['redundancy', 'snapshot_gb'], 'app_service_fee': ['region', 'app_service_instances']} {'usage_hours': DomainVariable(name='usage_hours', description='Total runtime in hours over the billing window', unit='hours', data_type=<class 'float'>), 'region': DomainVariable(name='region', description='Azure region where resources are deployed', unit='region', data_type=<class 'str'>), 'disk_size_gb': DomainVariable(name='disk_size_gb', description='Size of each managed disk', unit='GB', data_type=<class 'int'>), 'data_ingress_gb': DomainVariable(name='data_ingress_gb', description='Inbound data transferred to Azure', unit='GB', data_type=<class 'float'>), 'public_ip_count': DomainVariable(name='public_ip_count', description='Number of public IP addresses allocated', unit='IPs', data_type=<class 'int'>), 'service_tier': DomainVariable(name='service_tier', description='Service tier for managed services', unit='tier', data_type=<class 'str'>), 'load_balancer_rules': DomainVariable(name='load_balancer_rules', description='Configured load balancer rules', unit='rules', data_type=<class 'int'>), 'kubernetes_node_count': DomainVariable(name='kubernetes_node_count', description='Number of AKS nodes in the cluster', unit='nodes', data_type=<class 'int'>), 'function_executions': DomainVariable(name='function_executions', description='Number of serverless function calls', unit='invocations', data_type=<class 'int'>), 'sql_vcores': DomainVariable(name='sql_vcores', description='vCore count for Azure SQL', unit='vCores', data_type=<class 'int'>), 'redundancy': DomainVariable(name='redundancy', description='Storage redundancy configuration', unit='redundancy', data_type=<class 'str'>), 'snapshot_gb': DomainVariable(name='snapshot_gb', description='Total snapshot storage size', unit='GB', data_type=<class 'float'>), 'app_service_instances': DomainVariable(name='app_service_instances', description='Count of App Service instances', unit='instances', data_type=<class 'int'>)}\n",
      "--- Building graph for charge category: 'snapshot_storage_fee' ---\n",
      "Execution time for 'build': 15.7718 seconds\n",
      "Calculate the total app_service_fee. Charge description - Charge for App Service instances and tier. app_service_fee {'compute_vm_fee': ['usage_hours'], 'gpu_compute_fee': ['region', 'usage_hours'], 'managed_disk_fee': ['disk_size_gb'], 'data_egress_fee': ['region'], 'data_ingress_fee': ['region', 'data_ingress_gb'], 'storage_transaction_fee': ['region'], 'public_ip_fee': ['region', 'public_ip_count'], 'load_balancer_fee': ['service_tier', 'load_balancer_rules'], 'aks_cluster_fee': ['region', 'kubernetes_node_count'], 'function_app_fee': ['region', 'function_executions'], 'sql_database_fee': ['service_tier', 'sql_vcores'], 'snapshot_storage_fee': ['redundancy', 'snapshot_gb'], 'app_service_fee': ['region', 'app_service_instances']} {'usage_hours': DomainVariable(name='usage_hours', description='Total runtime in hours over the billing window', unit='hours', data_type=<class 'float'>), 'region': DomainVariable(name='region', description='Azure region where resources are deployed', unit='region', data_type=<class 'str'>), 'disk_size_gb': DomainVariable(name='disk_size_gb', description='Size of each managed disk', unit='GB', data_type=<class 'int'>), 'data_ingress_gb': DomainVariable(name='data_ingress_gb', description='Inbound data transferred to Azure', unit='GB', data_type=<class 'float'>), 'public_ip_count': DomainVariable(name='public_ip_count', description='Number of public IP addresses allocated', unit='IPs', data_type=<class 'int'>), 'service_tier': DomainVariable(name='service_tier', description='Service tier for managed services', unit='tier', data_type=<class 'str'>), 'load_balancer_rules': DomainVariable(name='load_balancer_rules', description='Configured load balancer rules', unit='rules', data_type=<class 'int'>), 'kubernetes_node_count': DomainVariable(name='kubernetes_node_count', description='Number of AKS nodes in the cluster', unit='nodes', data_type=<class 'int'>), 'function_executions': DomainVariable(name='function_executions', description='Number of serverless function calls', unit='invocations', data_type=<class 'int'>), 'sql_vcores': DomainVariable(name='sql_vcores', description='vCore count for Azure SQL', unit='vCores', data_type=<class 'int'>), 'redundancy': DomainVariable(name='redundancy', description='Storage redundancy configuration', unit='redundancy', data_type=<class 'str'>), 'snapshot_gb': DomainVariable(name='snapshot_gb', description='Total snapshot storage size', unit='GB', data_type=<class 'float'>), 'app_service_instances': DomainVariable(name='app_service_instances', description='Count of App Service instances', unit='instances', data_type=<class 'int'>)}\n",
      "--- Building graph for charge category: 'app_service_fee' ---\n",
      "Execution time for 'build': 13.3339 seconds\n",
      "Calculate the total compute_vm_fee. Charge description - Charge for running virtual machines based on vCPU, memory, OS, and commitment. compute_vm_fee {'compute_vm_fee': ['os_type', 'memory_gb'], 'gpu_compute_fee': ['gpu_count'], 'managed_disk_fee': ['disk_type', 'managed_disk_count'], 'data_egress_fee': ['region', 'data_egress_gb'], 'data_ingress_fee': ['region', 'data_ingress_gb'], 'storage_transaction_fee': ['redundancy'], 'public_ip_fee': ['region', 'public_ip_count'], 'load_balancer_fee': ['service_tier'], 'aks_cluster_fee': ['kubernetes_node_type'], 'function_app_fee': ['region', 'function_executions'], 'sql_database_fee': ['service_tier', 'sql_vcores'], 'snapshot_storage_fee': ['region'], 'app_service_fee': ['region']} {'os_type': DomainVariable(name='os_type', description='Operating system for the compute workload', unit='os', data_type=<class 'str'>), 'memory_gb': DomainVariable(name='memory_gb', description='Amount of memory allocated to the instance', unit='GiB', data_type=<class 'float'>), 'gpu_count': DomainVariable(name='gpu_count', description='Number of GPUs attached to the instance', unit='GPUs', data_type=<class 'int'>), 'disk_type': DomainVariable(name='disk_type', description='Managed disk performance tier', unit='disk type', data_type=<class 'str'>), 'managed_disk_count': DomainVariable(name='managed_disk_count', description='Count of managed disks attached', unit='disks', data_type=<class 'int'>), 'region': DomainVariable(name='region', description='Azure region where resources are deployed', unit='region', data_type=<class 'str'>), 'data_egress_gb': DomainVariable(name='data_egress_gb', description='Outbound data transferred from Azure', unit='GB', data_type=<class 'float'>), 'data_ingress_gb': DomainVariable(name='data_ingress_gb', description='Inbound data transferred to Azure', unit='GB', data_type=<class 'float'>), 'redundancy': DomainVariable(name='redundancy', description='Storage redundancy configuration', unit='redundancy', data_type=<class 'str'>), 'public_ip_count': DomainVariable(name='public_ip_count', description='Number of public IP addresses allocated', unit='IPs', data_type=<class 'int'>), 'service_tier': DomainVariable(name='service_tier', description='Service tier for managed services', unit='tier', data_type=<class 'str'>), 'kubernetes_node_type': DomainVariable(name='kubernetes_node_type', description='AKS node pool type', unit='node type', data_type=<class 'str'>), 'function_executions': DomainVariable(name='function_executions', description='Number of serverless function calls', unit='invocations', data_type=<class 'int'>), 'sql_vcores': DomainVariable(name='sql_vcores', description='vCore count for Azure SQL', unit='vCores', data_type=<class 'int'>)}\n",
      "--- Building graph for charge category: 'compute_vm_fee' ---\n",
      "Execution time for 'build': 41.1275 seconds\n",
      "Calculate the total gpu_compute_fee. Charge description - Charge for GPU-enabled compute usage. gpu_compute_fee {'compute_vm_fee': ['os_type', 'memory_gb'], 'gpu_compute_fee': ['gpu_count'], 'managed_disk_fee': ['disk_type', 'managed_disk_count'], 'data_egress_fee': ['region', 'data_egress_gb'], 'data_ingress_fee': ['region', 'data_ingress_gb'], 'storage_transaction_fee': ['redundancy'], 'public_ip_fee': ['region', 'public_ip_count'], 'load_balancer_fee': ['service_tier'], 'aks_cluster_fee': ['kubernetes_node_type'], 'function_app_fee': ['region', 'function_executions'], 'sql_database_fee': ['service_tier', 'sql_vcores'], 'snapshot_storage_fee': ['region'], 'app_service_fee': ['region']} {'os_type': DomainVariable(name='os_type', description='Operating system for the compute workload', unit='os', data_type=<class 'str'>), 'memory_gb': DomainVariable(name='memory_gb', description='Amount of memory allocated to the instance', unit='GiB', data_type=<class 'float'>), 'gpu_count': DomainVariable(name='gpu_count', description='Number of GPUs attached to the instance', unit='GPUs', data_type=<class 'int'>), 'disk_type': DomainVariable(name='disk_type', description='Managed disk performance tier', unit='disk type', data_type=<class 'str'>), 'managed_disk_count': DomainVariable(name='managed_disk_count', description='Count of managed disks attached', unit='disks', data_type=<class 'int'>), 'region': DomainVariable(name='region', description='Azure region where resources are deployed', unit='region', data_type=<class 'str'>), 'data_egress_gb': DomainVariable(name='data_egress_gb', description='Outbound data transferred from Azure', unit='GB', data_type=<class 'float'>), 'data_ingress_gb': DomainVariable(name='data_ingress_gb', description='Inbound data transferred to Azure', unit='GB', data_type=<class 'float'>), 'redundancy': DomainVariable(name='redundancy', description='Storage redundancy configuration', unit='redundancy', data_type=<class 'str'>), 'public_ip_count': DomainVariable(name='public_ip_count', description='Number of public IP addresses allocated', unit='IPs', data_type=<class 'int'>), 'service_tier': DomainVariable(name='service_tier', description='Service tier for managed services', unit='tier', data_type=<class 'str'>), 'kubernetes_node_type': DomainVariable(name='kubernetes_node_type', description='AKS node pool type', unit='node type', data_type=<class 'str'>), 'function_executions': DomainVariable(name='function_executions', description='Number of serverless function calls', unit='invocations', data_type=<class 'int'>), 'sql_vcores': DomainVariable(name='sql_vcores', description='vCore count for Azure SQL', unit='vCores', data_type=<class 'int'>)}\n",
      "--- Building graph for charge category: 'gpu_compute_fee' ---\n",
      "Execution time for 'build': 9.5674 seconds\n",
      "Calculate the total managed_disk_fee. Charge description - Charge for managed disks based on type, size, and count. managed_disk_fee {'compute_vm_fee': ['os_type', 'memory_gb'], 'gpu_compute_fee': ['gpu_count'], 'managed_disk_fee': ['disk_type', 'managed_disk_count'], 'data_egress_fee': ['region', 'data_egress_gb'], 'data_ingress_fee': ['region', 'data_ingress_gb'], 'storage_transaction_fee': ['redundancy'], 'public_ip_fee': ['region', 'public_ip_count'], 'load_balancer_fee': ['service_tier'], 'aks_cluster_fee': ['kubernetes_node_type'], 'function_app_fee': ['region', 'function_executions'], 'sql_database_fee': ['service_tier', 'sql_vcores'], 'snapshot_storage_fee': ['region'], 'app_service_fee': ['region']} {'os_type': DomainVariable(name='os_type', description='Operating system for the compute workload', unit='os', data_type=<class 'str'>), 'memory_gb': DomainVariable(name='memory_gb', description='Amount of memory allocated to the instance', unit='GiB', data_type=<class 'float'>), 'gpu_count': DomainVariable(name='gpu_count', description='Number of GPUs attached to the instance', unit='GPUs', data_type=<class 'int'>), 'disk_type': DomainVariable(name='disk_type', description='Managed disk performance tier', unit='disk type', data_type=<class 'str'>), 'managed_disk_count': DomainVariable(name='managed_disk_count', description='Count of managed disks attached', unit='disks', data_type=<class 'int'>), 'region': DomainVariable(name='region', description='Azure region where resources are deployed', unit='region', data_type=<class 'str'>), 'data_egress_gb': DomainVariable(name='data_egress_gb', description='Outbound data transferred from Azure', unit='GB', data_type=<class 'float'>), 'data_ingress_gb': DomainVariable(name='data_ingress_gb', description='Inbound data transferred to Azure', unit='GB', data_type=<class 'float'>), 'redundancy': DomainVariable(name='redundancy', description='Storage redundancy configuration', unit='redundancy', data_type=<class 'str'>), 'public_ip_count': DomainVariable(name='public_ip_count', description='Number of public IP addresses allocated', unit='IPs', data_type=<class 'int'>), 'service_tier': DomainVariable(name='service_tier', description='Service tier for managed services', unit='tier', data_type=<class 'str'>), 'kubernetes_node_type': DomainVariable(name='kubernetes_node_type', description='AKS node pool type', unit='node type', data_type=<class 'str'>), 'function_executions': DomainVariable(name='function_executions', description='Number of serverless function calls', unit='invocations', data_type=<class 'int'>), 'sql_vcores': DomainVariable(name='sql_vcores', description='vCore count for Azure SQL', unit='vCores', data_type=<class 'int'>)}\n",
      "--- Building graph for charge category: 'managed_disk_fee' ---\n",
      "Execution time for 'build': 121.5646 seconds\n",
      "Calculate the total data_egress_fee. Charge description - Charge for data leaving Azure regions. data_egress_fee {'compute_vm_fee': ['os_type', 'memory_gb'], 'gpu_compute_fee': ['gpu_count'], 'managed_disk_fee': ['disk_type', 'managed_disk_count'], 'data_egress_fee': ['region', 'data_egress_gb'], 'data_ingress_fee': ['region', 'data_ingress_gb'], 'storage_transaction_fee': ['redundancy'], 'public_ip_fee': ['region', 'public_ip_count'], 'load_balancer_fee': ['service_tier'], 'aks_cluster_fee': ['kubernetes_node_type'], 'function_app_fee': ['region', 'function_executions'], 'sql_database_fee': ['service_tier', 'sql_vcores'], 'snapshot_storage_fee': ['region'], 'app_service_fee': ['region']} {'os_type': DomainVariable(name='os_type', description='Operating system for the compute workload', unit='os', data_type=<class 'str'>), 'memory_gb': DomainVariable(name='memory_gb', description='Amount of memory allocated to the instance', unit='GiB', data_type=<class 'float'>), 'gpu_count': DomainVariable(name='gpu_count', description='Number of GPUs attached to the instance', unit='GPUs', data_type=<class 'int'>), 'disk_type': DomainVariable(name='disk_type', description='Managed disk performance tier', unit='disk type', data_type=<class 'str'>), 'managed_disk_count': DomainVariable(name='managed_disk_count', description='Count of managed disks attached', unit='disks', data_type=<class 'int'>), 'region': DomainVariable(name='region', description='Azure region where resources are deployed', unit='region', data_type=<class 'str'>), 'data_egress_gb': DomainVariable(name='data_egress_gb', description='Outbound data transferred from Azure', unit='GB', data_type=<class 'float'>), 'data_ingress_gb': DomainVariable(name='data_ingress_gb', description='Inbound data transferred to Azure', unit='GB', data_type=<class 'float'>), 'redundancy': DomainVariable(name='redundancy', description='Storage redundancy configuration', unit='redundancy', data_type=<class 'str'>), 'public_ip_count': DomainVariable(name='public_ip_count', description='Number of public IP addresses allocated', unit='IPs', data_type=<class 'int'>), 'service_tier': DomainVariable(name='service_tier', description='Service tier for managed services', unit='tier', data_type=<class 'str'>), 'kubernetes_node_type': DomainVariable(name='kubernetes_node_type', description='AKS node pool type', unit='node type', data_type=<class 'str'>), 'function_executions': DomainVariable(name='function_executions', description='Number of serverless function calls', unit='invocations', data_type=<class 'int'>), 'sql_vcores': DomainVariable(name='sql_vcores', description='vCore count for Azure SQL', unit='vCores', data_type=<class 'int'>)}\n",
      "--- Building graph for charge category: 'data_egress_fee' ---\n",
      "Execution time for 'build': 882.8489 seconds\n",
      "Calculate the total data_ingress_fee. Charge description - Charge for data entering Azure regions where applicable. data_ingress_fee {'compute_vm_fee': ['os_type', 'memory_gb'], 'gpu_compute_fee': ['gpu_count'], 'managed_disk_fee': ['disk_type', 'managed_disk_count'], 'data_egress_fee': ['region', 'data_egress_gb'], 'data_ingress_fee': ['region', 'data_ingress_gb'], 'storage_transaction_fee': ['redundancy'], 'public_ip_fee': ['region', 'public_ip_count'], 'load_balancer_fee': ['service_tier'], 'aks_cluster_fee': ['kubernetes_node_type'], 'function_app_fee': ['region', 'function_executions'], 'sql_database_fee': ['service_tier', 'sql_vcores'], 'snapshot_storage_fee': ['region'], 'app_service_fee': ['region']} {'os_type': DomainVariable(name='os_type', description='Operating system for the compute workload', unit='os', data_type=<class 'str'>), 'memory_gb': DomainVariable(name='memory_gb', description='Amount of memory allocated to the instance', unit='GiB', data_type=<class 'float'>), 'gpu_count': DomainVariable(name='gpu_count', description='Number of GPUs attached to the instance', unit='GPUs', data_type=<class 'int'>), 'disk_type': DomainVariable(name='disk_type', description='Managed disk performance tier', unit='disk type', data_type=<class 'str'>), 'managed_disk_count': DomainVariable(name='managed_disk_count', description='Count of managed disks attached', unit='disks', data_type=<class 'int'>), 'region': DomainVariable(name='region', description='Azure region where resources are deployed', unit='region', data_type=<class 'str'>), 'data_egress_gb': DomainVariable(name='data_egress_gb', description='Outbound data transferred from Azure', unit='GB', data_type=<class 'float'>), 'data_ingress_gb': DomainVariable(name='data_ingress_gb', description='Inbound data transferred to Azure', unit='GB', data_type=<class 'float'>), 'redundancy': DomainVariable(name='redundancy', description='Storage redundancy configuration', unit='redundancy', data_type=<class 'str'>), 'public_ip_count': DomainVariable(name='public_ip_count', description='Number of public IP addresses allocated', unit='IPs', data_type=<class 'int'>), 'service_tier': DomainVariable(name='service_tier', description='Service tier for managed services', unit='tier', data_type=<class 'str'>), 'kubernetes_node_type': DomainVariable(name='kubernetes_node_type', description='AKS node pool type', unit='node type', data_type=<class 'str'>), 'function_executions': DomainVariable(name='function_executions', description='Number of serverless function calls', unit='invocations', data_type=<class 'int'>), 'sql_vcores': DomainVariable(name='sql_vcores', description='vCore count for Azure SQL', unit='vCores', data_type=<class 'int'>)}\n",
      "--- Building graph for charge category: 'data_ingress_fee' ---\n",
      "Execution time for 'build': 13.9089 seconds\n",
      "Calculate the total storage_transaction_fee. Charge description - Charge for storage account transactions and redundancy level. storage_transaction_fee {'compute_vm_fee': ['os_type', 'memory_gb'], 'gpu_compute_fee': ['gpu_count'], 'managed_disk_fee': ['disk_type', 'managed_disk_count'], 'data_egress_fee': ['region', 'data_egress_gb'], 'data_ingress_fee': ['region', 'data_ingress_gb'], 'storage_transaction_fee': ['redundancy'], 'public_ip_fee': ['region', 'public_ip_count'], 'load_balancer_fee': ['service_tier'], 'aks_cluster_fee': ['kubernetes_node_type'], 'function_app_fee': ['region', 'function_executions'], 'sql_database_fee': ['service_tier', 'sql_vcores'], 'snapshot_storage_fee': ['region'], 'app_service_fee': ['region']} {'os_type': DomainVariable(name='os_type', description='Operating system for the compute workload', unit='os', data_type=<class 'str'>), 'memory_gb': DomainVariable(name='memory_gb', description='Amount of memory allocated to the instance', unit='GiB', data_type=<class 'float'>), 'gpu_count': DomainVariable(name='gpu_count', description='Number of GPUs attached to the instance', unit='GPUs', data_type=<class 'int'>), 'disk_type': DomainVariable(name='disk_type', description='Managed disk performance tier', unit='disk type', data_type=<class 'str'>), 'managed_disk_count': DomainVariable(name='managed_disk_count', description='Count of managed disks attached', unit='disks', data_type=<class 'int'>), 'region': DomainVariable(name='region', description='Azure region where resources are deployed', unit='region', data_type=<class 'str'>), 'data_egress_gb': DomainVariable(name='data_egress_gb', description='Outbound data transferred from Azure', unit='GB', data_type=<class 'float'>), 'data_ingress_gb': DomainVariable(name='data_ingress_gb', description='Inbound data transferred to Azure', unit='GB', data_type=<class 'float'>), 'redundancy': DomainVariable(name='redundancy', description='Storage redundancy configuration', unit='redundancy', data_type=<class 'str'>), 'public_ip_count': DomainVariable(name='public_ip_count', description='Number of public IP addresses allocated', unit='IPs', data_type=<class 'int'>), 'service_tier': DomainVariable(name='service_tier', description='Service tier for managed services', unit='tier', data_type=<class 'str'>), 'kubernetes_node_type': DomainVariable(name='kubernetes_node_type', description='AKS node pool type', unit='node type', data_type=<class 'str'>), 'function_executions': DomainVariable(name='function_executions', description='Number of serverless function calls', unit='invocations', data_type=<class 'int'>), 'sql_vcores': DomainVariable(name='sql_vcores', description='vCore count for Azure SQL', unit='vCores', data_type=<class 'int'>)}\n",
      "--- Building graph for charge category: 'storage_transaction_fee' ---\n",
      "Execution time for 'build': 18.7988 seconds\n",
      "Calculate the total public_ip_fee. Charge description - Charge for public IP addresses allocated. public_ip_fee {'compute_vm_fee': ['os_type', 'memory_gb'], 'gpu_compute_fee': ['gpu_count'], 'managed_disk_fee': ['disk_type', 'managed_disk_count'], 'data_egress_fee': ['region', 'data_egress_gb'], 'data_ingress_fee': ['region', 'data_ingress_gb'], 'storage_transaction_fee': ['redundancy'], 'public_ip_fee': ['region', 'public_ip_count'], 'load_balancer_fee': ['service_tier'], 'aks_cluster_fee': ['kubernetes_node_type'], 'function_app_fee': ['region', 'function_executions'], 'sql_database_fee': ['service_tier', 'sql_vcores'], 'snapshot_storage_fee': ['region'], 'app_service_fee': ['region']} {'os_type': DomainVariable(name='os_type', description='Operating system for the compute workload', unit='os', data_type=<class 'str'>), 'memory_gb': DomainVariable(name='memory_gb', description='Amount of memory allocated to the instance', unit='GiB', data_type=<class 'float'>), 'gpu_count': DomainVariable(name='gpu_count', description='Number of GPUs attached to the instance', unit='GPUs', data_type=<class 'int'>), 'disk_type': DomainVariable(name='disk_type', description='Managed disk performance tier', unit='disk type', data_type=<class 'str'>), 'managed_disk_count': DomainVariable(name='managed_disk_count', description='Count of managed disks attached', unit='disks', data_type=<class 'int'>), 'region': DomainVariable(name='region', description='Azure region where resources are deployed', unit='region', data_type=<class 'str'>), 'data_egress_gb': DomainVariable(name='data_egress_gb', description='Outbound data transferred from Azure', unit='GB', data_type=<class 'float'>), 'data_ingress_gb': DomainVariable(name='data_ingress_gb', description='Inbound data transferred to Azure', unit='GB', data_type=<class 'float'>), 'redundancy': DomainVariable(name='redundancy', description='Storage redundancy configuration', unit='redundancy', data_type=<class 'str'>), 'public_ip_count': DomainVariable(name='public_ip_count', description='Number of public IP addresses allocated', unit='IPs', data_type=<class 'int'>), 'service_tier': DomainVariable(name='service_tier', description='Service tier for managed services', unit='tier', data_type=<class 'str'>), 'kubernetes_node_type': DomainVariable(name='kubernetes_node_type', description='AKS node pool type', unit='node type', data_type=<class 'str'>), 'function_executions': DomainVariable(name='function_executions', description='Number of serverless function calls', unit='invocations', data_type=<class 'int'>), 'sql_vcores': DomainVariable(name='sql_vcores', description='vCore count for Azure SQL', unit='vCores', data_type=<class 'int'>)}\n",
      "--- Building graph for charge category: 'public_ip_fee' ---\n",
      "Execution time for 'build': 841.3465 seconds\n",
      "Calculate the total load_balancer_fee. Charge description - Charge for load balancer rules and tier. load_balancer_fee {'compute_vm_fee': ['os_type', 'memory_gb'], 'gpu_compute_fee': ['gpu_count'], 'managed_disk_fee': ['disk_type', 'managed_disk_count'], 'data_egress_fee': ['region', 'data_egress_gb'], 'data_ingress_fee': ['region', 'data_ingress_gb'], 'storage_transaction_fee': ['redundancy'], 'public_ip_fee': ['region', 'public_ip_count'], 'load_balancer_fee': ['service_tier'], 'aks_cluster_fee': ['kubernetes_node_type'], 'function_app_fee': ['region', 'function_executions'], 'sql_database_fee': ['service_tier', 'sql_vcores'], 'snapshot_storage_fee': ['region'], 'app_service_fee': ['region']} {'os_type': DomainVariable(name='os_type', description='Operating system for the compute workload', unit='os', data_type=<class 'str'>), 'memory_gb': DomainVariable(name='memory_gb', description='Amount of memory allocated to the instance', unit='GiB', data_type=<class 'float'>), 'gpu_count': DomainVariable(name='gpu_count', description='Number of GPUs attached to the instance', unit='GPUs', data_type=<class 'int'>), 'disk_type': DomainVariable(name='disk_type', description='Managed disk performance tier', unit='disk type', data_type=<class 'str'>), 'managed_disk_count': DomainVariable(name='managed_disk_count', description='Count of managed disks attached', unit='disks', data_type=<class 'int'>), 'region': DomainVariable(name='region', description='Azure region where resources are deployed', unit='region', data_type=<class 'str'>), 'data_egress_gb': DomainVariable(name='data_egress_gb', description='Outbound data transferred from Azure', unit='GB', data_type=<class 'float'>), 'data_ingress_gb': DomainVariable(name='data_ingress_gb', description='Inbound data transferred to Azure', unit='GB', data_type=<class 'float'>), 'redundancy': DomainVariable(name='redundancy', description='Storage redundancy configuration', unit='redundancy', data_type=<class 'str'>), 'public_ip_count': DomainVariable(name='public_ip_count', description='Number of public IP addresses allocated', unit='IPs', data_type=<class 'int'>), 'service_tier': DomainVariable(name='service_tier', description='Service tier for managed services', unit='tier', data_type=<class 'str'>), 'kubernetes_node_type': DomainVariable(name='kubernetes_node_type', description='AKS node pool type', unit='node type', data_type=<class 'str'>), 'function_executions': DomainVariable(name='function_executions', description='Number of serverless function calls', unit='invocations', data_type=<class 'int'>), 'sql_vcores': DomainVariable(name='sql_vcores', description='vCore count for Azure SQL', unit='vCores', data_type=<class 'int'>)}\n",
      "--- Building graph for charge category: 'load_balancer_fee' ---\n",
      "Execution time for 'build': 17.9220 seconds\n",
      "Calculate the total aks_cluster_fee. Charge description - Charge for AKS clusters based on node count and type. aks_cluster_fee {'compute_vm_fee': ['os_type', 'memory_gb'], 'gpu_compute_fee': ['gpu_count'], 'managed_disk_fee': ['disk_type', 'managed_disk_count'], 'data_egress_fee': ['region', 'data_egress_gb'], 'data_ingress_fee': ['region', 'data_ingress_gb'], 'storage_transaction_fee': ['redundancy'], 'public_ip_fee': ['region', 'public_ip_count'], 'load_balancer_fee': ['service_tier'], 'aks_cluster_fee': ['kubernetes_node_type'], 'function_app_fee': ['region', 'function_executions'], 'sql_database_fee': ['service_tier', 'sql_vcores'], 'snapshot_storage_fee': ['region'], 'app_service_fee': ['region']} {'os_type': DomainVariable(name='os_type', description='Operating system for the compute workload', unit='os', data_type=<class 'str'>), 'memory_gb': DomainVariable(name='memory_gb', description='Amount of memory allocated to the instance', unit='GiB', data_type=<class 'float'>), 'gpu_count': DomainVariable(name='gpu_count', description='Number of GPUs attached to the instance', unit='GPUs', data_type=<class 'int'>), 'disk_type': DomainVariable(name='disk_type', description='Managed disk performance tier', unit='disk type', data_type=<class 'str'>), 'managed_disk_count': DomainVariable(name='managed_disk_count', description='Count of managed disks attached', unit='disks', data_type=<class 'int'>), 'region': DomainVariable(name='region', description='Azure region where resources are deployed', unit='region', data_type=<class 'str'>), 'data_egress_gb': DomainVariable(name='data_egress_gb', description='Outbound data transferred from Azure', unit='GB', data_type=<class 'float'>), 'data_ingress_gb': DomainVariable(name='data_ingress_gb', description='Inbound data transferred to Azure', unit='GB', data_type=<class 'float'>), 'redundancy': DomainVariable(name='redundancy', description='Storage redundancy configuration', unit='redundancy', data_type=<class 'str'>), 'public_ip_count': DomainVariable(name='public_ip_count', description='Number of public IP addresses allocated', unit='IPs', data_type=<class 'int'>), 'service_tier': DomainVariable(name='service_tier', description='Service tier for managed services', unit='tier', data_type=<class 'str'>), 'kubernetes_node_type': DomainVariable(name='kubernetes_node_type', description='AKS node pool type', unit='node type', data_type=<class 'str'>), 'function_executions': DomainVariable(name='function_executions', description='Number of serverless function calls', unit='invocations', data_type=<class 'int'>), 'sql_vcores': DomainVariable(name='sql_vcores', description='vCore count for Azure SQL', unit='vCores', data_type=<class 'int'>)}\n",
      "--- Building graph for charge category: 'aks_cluster_fee' ---\n",
      "Execution time for 'build': 930.5709 seconds\n",
      "Calculate the total function_app_fee. Charge description - Charge for serverless executions and execution time. function_app_fee {'compute_vm_fee': ['os_type', 'memory_gb'], 'gpu_compute_fee': ['gpu_count'], 'managed_disk_fee': ['disk_type', 'managed_disk_count'], 'data_egress_fee': ['region', 'data_egress_gb'], 'data_ingress_fee': ['region', 'data_ingress_gb'], 'storage_transaction_fee': ['redundancy'], 'public_ip_fee': ['region', 'public_ip_count'], 'load_balancer_fee': ['service_tier'], 'aks_cluster_fee': ['kubernetes_node_type'], 'function_app_fee': ['region', 'function_executions'], 'sql_database_fee': ['service_tier', 'sql_vcores'], 'snapshot_storage_fee': ['region'], 'app_service_fee': ['region']} {'os_type': DomainVariable(name='os_type', description='Operating system for the compute workload', unit='os', data_type=<class 'str'>), 'memory_gb': DomainVariable(name='memory_gb', description='Amount of memory allocated to the instance', unit='GiB', data_type=<class 'float'>), 'gpu_count': DomainVariable(name='gpu_count', description='Number of GPUs attached to the instance', unit='GPUs', data_type=<class 'int'>), 'disk_type': DomainVariable(name='disk_type', description='Managed disk performance tier', unit='disk type', data_type=<class 'str'>), 'managed_disk_count': DomainVariable(name='managed_disk_count', description='Count of managed disks attached', unit='disks', data_type=<class 'int'>), 'region': DomainVariable(name='region', description='Azure region where resources are deployed', unit='region', data_type=<class 'str'>), 'data_egress_gb': DomainVariable(name='data_egress_gb', description='Outbound data transferred from Azure', unit='GB', data_type=<class 'float'>), 'data_ingress_gb': DomainVariable(name='data_ingress_gb', description='Inbound data transferred to Azure', unit='GB', data_type=<class 'float'>), 'redundancy': DomainVariable(name='redundancy', description='Storage redundancy configuration', unit='redundancy', data_type=<class 'str'>), 'public_ip_count': DomainVariable(name='public_ip_count', description='Number of public IP addresses allocated', unit='IPs', data_type=<class 'int'>), 'service_tier': DomainVariable(name='service_tier', description='Service tier for managed services', unit='tier', data_type=<class 'str'>), 'kubernetes_node_type': DomainVariable(name='kubernetes_node_type', description='AKS node pool type', unit='node type', data_type=<class 'str'>), 'function_executions': DomainVariable(name='function_executions', description='Number of serverless function calls', unit='invocations', data_type=<class 'int'>), 'sql_vcores': DomainVariable(name='sql_vcores', description='vCore count for Azure SQL', unit='vCores', data_type=<class 'int'>)}\n",
      "--- Building graph for charge category: 'function_app_fee' ---\n",
      "Execution time for 'build': 32.0532 seconds\n",
      "Calculate the total sql_database_fee. Charge description - Charge for Azure SQL based on vCores, storage, and retention. sql_database_fee {'compute_vm_fee': ['os_type', 'memory_gb'], 'gpu_compute_fee': ['gpu_count'], 'managed_disk_fee': ['disk_type', 'managed_disk_count'], 'data_egress_fee': ['region', 'data_egress_gb'], 'data_ingress_fee': ['region', 'data_ingress_gb'], 'storage_transaction_fee': ['redundancy'], 'public_ip_fee': ['region', 'public_ip_count'], 'load_balancer_fee': ['service_tier'], 'aks_cluster_fee': ['kubernetes_node_type'], 'function_app_fee': ['region', 'function_executions'], 'sql_database_fee': ['service_tier', 'sql_vcores'], 'snapshot_storage_fee': ['region'], 'app_service_fee': ['region']} {'os_type': DomainVariable(name='os_type', description='Operating system for the compute workload', unit='os', data_type=<class 'str'>), 'memory_gb': DomainVariable(name='memory_gb', description='Amount of memory allocated to the instance', unit='GiB', data_type=<class 'float'>), 'gpu_count': DomainVariable(name='gpu_count', description='Number of GPUs attached to the instance', unit='GPUs', data_type=<class 'int'>), 'disk_type': DomainVariable(name='disk_type', description='Managed disk performance tier', unit='disk type', data_type=<class 'str'>), 'managed_disk_count': DomainVariable(name='managed_disk_count', description='Count of managed disks attached', unit='disks', data_type=<class 'int'>), 'region': DomainVariable(name='region', description='Azure region where resources are deployed', unit='region', data_type=<class 'str'>), 'data_egress_gb': DomainVariable(name='data_egress_gb', description='Outbound data transferred from Azure', unit='GB', data_type=<class 'float'>), 'data_ingress_gb': DomainVariable(name='data_ingress_gb', description='Inbound data transferred to Azure', unit='GB', data_type=<class 'float'>), 'redundancy': DomainVariable(name='redundancy', description='Storage redundancy configuration', unit='redundancy', data_type=<class 'str'>), 'public_ip_count': DomainVariable(name='public_ip_count', description='Number of public IP addresses allocated', unit='IPs', data_type=<class 'int'>), 'service_tier': DomainVariable(name='service_tier', description='Service tier for managed services', unit='tier', data_type=<class 'str'>), 'kubernetes_node_type': DomainVariable(name='kubernetes_node_type', description='AKS node pool type', unit='node type', data_type=<class 'str'>), 'function_executions': DomainVariable(name='function_executions', description='Number of serverless function calls', unit='invocations', data_type=<class 'int'>), 'sql_vcores': DomainVariable(name='sql_vcores', description='vCore count for Azure SQL', unit='vCores', data_type=<class 'int'>)}\n",
      "--- Building graph for charge category: 'sql_database_fee' ---\n",
      "Execution time for 'build': 51.4634 seconds\n",
      "Calculate the total snapshot_storage_fee. Charge description - Charge for snapshot storage volume and redundancy. snapshot_storage_fee {'compute_vm_fee': ['os_type', 'memory_gb'], 'gpu_compute_fee': ['gpu_count'], 'managed_disk_fee': ['disk_type', 'managed_disk_count'], 'data_egress_fee': ['region', 'data_egress_gb'], 'data_ingress_fee': ['region', 'data_ingress_gb'], 'storage_transaction_fee': ['redundancy'], 'public_ip_fee': ['region', 'public_ip_count'], 'load_balancer_fee': ['service_tier'], 'aks_cluster_fee': ['kubernetes_node_type'], 'function_app_fee': ['region', 'function_executions'], 'sql_database_fee': ['service_tier', 'sql_vcores'], 'snapshot_storage_fee': ['region'], 'app_service_fee': ['region']} {'os_type': DomainVariable(name='os_type', description='Operating system for the compute workload', unit='os', data_type=<class 'str'>), 'memory_gb': DomainVariable(name='memory_gb', description='Amount of memory allocated to the instance', unit='GiB', data_type=<class 'float'>), 'gpu_count': DomainVariable(name='gpu_count', description='Number of GPUs attached to the instance', unit='GPUs', data_type=<class 'int'>), 'disk_type': DomainVariable(name='disk_type', description='Managed disk performance tier', unit='disk type', data_type=<class 'str'>), 'managed_disk_count': DomainVariable(name='managed_disk_count', description='Count of managed disks attached', unit='disks', data_type=<class 'int'>), 'region': DomainVariable(name='region', description='Azure region where resources are deployed', unit='region', data_type=<class 'str'>), 'data_egress_gb': DomainVariable(name='data_egress_gb', description='Outbound data transferred from Azure', unit='GB', data_type=<class 'float'>), 'data_ingress_gb': DomainVariable(name='data_ingress_gb', description='Inbound data transferred to Azure', unit='GB', data_type=<class 'float'>), 'redundancy': DomainVariable(name='redundancy', description='Storage redundancy configuration', unit='redundancy', data_type=<class 'str'>), 'public_ip_count': DomainVariable(name='public_ip_count', description='Number of public IP addresses allocated', unit='IPs', data_type=<class 'int'>), 'service_tier': DomainVariable(name='service_tier', description='Service tier for managed services', unit='tier', data_type=<class 'str'>), 'kubernetes_node_type': DomainVariable(name='kubernetes_node_type', description='AKS node pool type', unit='node type', data_type=<class 'str'>), 'function_executions': DomainVariable(name='function_executions', description='Number of serverless function calls', unit='invocations', data_type=<class 'int'>), 'sql_vcores': DomainVariable(name='sql_vcores', description='vCore count for Azure SQL', unit='vCores', data_type=<class 'int'>)}\n",
      "--- Building graph for charge category: 'snapshot_storage_fee' ---\n",
      "Execution time for 'build': 27.0255 seconds\n",
      "Calculate the total app_service_fee. Charge description - Charge for App Service instances and tier. app_service_fee {'compute_vm_fee': ['os_type', 'memory_gb'], 'gpu_compute_fee': ['gpu_count'], 'managed_disk_fee': ['disk_type', 'managed_disk_count'], 'data_egress_fee': ['region', 'data_egress_gb'], 'data_ingress_fee': ['region', 'data_ingress_gb'], 'storage_transaction_fee': ['redundancy'], 'public_ip_fee': ['region', 'public_ip_count'], 'load_balancer_fee': ['service_tier'], 'aks_cluster_fee': ['kubernetes_node_type'], 'function_app_fee': ['region', 'function_executions'], 'sql_database_fee': ['service_tier', 'sql_vcores'], 'snapshot_storage_fee': ['region'], 'app_service_fee': ['region']} {'os_type': DomainVariable(name='os_type', description='Operating system for the compute workload', unit='os', data_type=<class 'str'>), 'memory_gb': DomainVariable(name='memory_gb', description='Amount of memory allocated to the instance', unit='GiB', data_type=<class 'float'>), 'gpu_count': DomainVariable(name='gpu_count', description='Number of GPUs attached to the instance', unit='GPUs', data_type=<class 'int'>), 'disk_type': DomainVariable(name='disk_type', description='Managed disk performance tier', unit='disk type', data_type=<class 'str'>), 'managed_disk_count': DomainVariable(name='managed_disk_count', description='Count of managed disks attached', unit='disks', data_type=<class 'int'>), 'region': DomainVariable(name='region', description='Azure region where resources are deployed', unit='region', data_type=<class 'str'>), 'data_egress_gb': DomainVariable(name='data_egress_gb', description='Outbound data transferred from Azure', unit='GB', data_type=<class 'float'>), 'data_ingress_gb': DomainVariable(name='data_ingress_gb', description='Inbound data transferred to Azure', unit='GB', data_type=<class 'float'>), 'redundancy': DomainVariable(name='redundancy', description='Storage redundancy configuration', unit='redundancy', data_type=<class 'str'>), 'public_ip_count': DomainVariable(name='public_ip_count', description='Number of public IP addresses allocated', unit='IPs', data_type=<class 'int'>), 'service_tier': DomainVariable(name='service_tier', description='Service tier for managed services', unit='tier', data_type=<class 'str'>), 'kubernetes_node_type': DomainVariable(name='kubernetes_node_type', description='AKS node pool type', unit='node type', data_type=<class 'str'>), 'function_executions': DomainVariable(name='function_executions', description='Number of serverless function calls', unit='invocations', data_type=<class 'int'>), 'sql_vcores': DomainVariable(name='sql_vcores', description='vCore count for Azure SQL', unit='vCores', data_type=<class 'int'>)}\n",
      "--- Building graph for charge category: 'app_service_fee' ---\n",
      "Execution time for 'build': 26.8900 seconds\n",
      "Calculate the total compute_vm_fee. Charge description - Charge for running virtual machines based on vCPU, memory, OS, and commitment. compute_vm_fee {'compute_vm_fee': ['spot_instance'], 'gpu_compute_fee': ['os_type', 'gpu_count'], 'managed_disk_fee': ['managed_disk_count'], 'data_egress_fee': ['region'], 'data_ingress_fee': ['region'], 'storage_transaction_fee': ['redundancy', 'storage_transactions_millions'], 'public_ip_fee': ['region'], 'load_balancer_fee': ['region', 'load_balancer_rules'], 'aks_cluster_fee': ['region', 'kubernetes_node_count'], 'function_app_fee': ['region', 'function_exec_ms'], 'sql_database_fee': ['sql_storage_gb'], 'snapshot_storage_fee': ['redundancy'], 'app_service_fee': ['app_service_instances']} {'spot_instance': DomainVariable(name='spot_instance', description='Whether the compute uses spot capacity', unit='flag', data_type=<class 'str'>), 'os_type': DomainVariable(name='os_type', description='Operating system for the compute workload', unit='os', data_type=<class 'str'>), 'gpu_count': DomainVariable(name='gpu_count', description='Number of GPUs attached to the instance', unit='GPUs', data_type=<class 'int'>), 'managed_disk_count': DomainVariable(name='managed_disk_count', description='Count of managed disks attached', unit='disks', data_type=<class 'int'>), 'region': DomainVariable(name='region', description='Azure region where resources are deployed', unit='region', data_type=<class 'str'>), 'redundancy': DomainVariable(name='redundancy', description='Storage redundancy configuration', unit='redundancy', data_type=<class 'str'>), 'storage_transactions_millions': DomainVariable(name='storage_transactions_millions', description='Number of storage account operations in millions', unit='million tx', data_type=<class 'float'>), 'load_balancer_rules': DomainVariable(name='load_balancer_rules', description='Configured load balancer rules', unit='rules', data_type=<class 'int'>), 'kubernetes_node_count': DomainVariable(name='kubernetes_node_count', description='Number of AKS nodes in the cluster', unit='nodes', data_type=<class 'int'>), 'function_exec_ms': DomainVariable(name='function_exec_ms', description='Average or billed execution time per invocation', unit='ms', data_type=<class 'float'>), 'sql_storage_gb': DomainVariable(name='sql_storage_gb', description='Allocated storage for Azure SQL', unit='GB', data_type=<class 'int'>), 'app_service_instances': DomainVariable(name='app_service_instances', description='Count of App Service instances', unit='instances', data_type=<class 'int'>)}\n",
      "--- Building graph for charge category: 'compute_vm_fee' ---\n",
      "Execution time for 'build': 7.9833 seconds\n",
      "Calculate the total gpu_compute_fee. Charge description - Charge for GPU-enabled compute usage. gpu_compute_fee {'compute_vm_fee': ['spot_instance'], 'gpu_compute_fee': ['os_type', 'gpu_count'], 'managed_disk_fee': ['managed_disk_count'], 'data_egress_fee': ['region'], 'data_ingress_fee': ['region'], 'storage_transaction_fee': ['redundancy', 'storage_transactions_millions'], 'public_ip_fee': ['region'], 'load_balancer_fee': ['region', 'load_balancer_rules'], 'aks_cluster_fee': ['region', 'kubernetes_node_count'], 'function_app_fee': ['region', 'function_exec_ms'], 'sql_database_fee': ['sql_storage_gb'], 'snapshot_storage_fee': ['redundancy'], 'app_service_fee': ['app_service_instances']} {'spot_instance': DomainVariable(name='spot_instance', description='Whether the compute uses spot capacity', unit='flag', data_type=<class 'str'>), 'os_type': DomainVariable(name='os_type', description='Operating system for the compute workload', unit='os', data_type=<class 'str'>), 'gpu_count': DomainVariable(name='gpu_count', description='Number of GPUs attached to the instance', unit='GPUs', data_type=<class 'int'>), 'managed_disk_count': DomainVariable(name='managed_disk_count', description='Count of managed disks attached', unit='disks', data_type=<class 'int'>), 'region': DomainVariable(name='region', description='Azure region where resources are deployed', unit='region', data_type=<class 'str'>), 'redundancy': DomainVariable(name='redundancy', description='Storage redundancy configuration', unit='redundancy', data_type=<class 'str'>), 'storage_transactions_millions': DomainVariable(name='storage_transactions_millions', description='Number of storage account operations in millions', unit='million tx', data_type=<class 'float'>), 'load_balancer_rules': DomainVariable(name='load_balancer_rules', description='Configured load balancer rules', unit='rules', data_type=<class 'int'>), 'kubernetes_node_count': DomainVariable(name='kubernetes_node_count', description='Number of AKS nodes in the cluster', unit='nodes', data_type=<class 'int'>), 'function_exec_ms': DomainVariable(name='function_exec_ms', description='Average or billed execution time per invocation', unit='ms', data_type=<class 'float'>), 'sql_storage_gb': DomainVariable(name='sql_storage_gb', description='Allocated storage for Azure SQL', unit='GB', data_type=<class 'int'>), 'app_service_instances': DomainVariable(name='app_service_instances', description='Count of App Service instances', unit='instances', data_type=<class 'int'>)}\n",
      "--- Building graph for charge category: 'gpu_compute_fee' ---\n",
      "Execution time for 'build': 16.4340 seconds\n",
      "Calculate the total managed_disk_fee. Charge description - Charge for managed disks based on type, size, and count. managed_disk_fee {'compute_vm_fee': ['spot_instance'], 'gpu_compute_fee': ['os_type', 'gpu_count'], 'managed_disk_fee': ['managed_disk_count'], 'data_egress_fee': ['region'], 'data_ingress_fee': ['region'], 'storage_transaction_fee': ['redundancy', 'storage_transactions_millions'], 'public_ip_fee': ['region'], 'load_balancer_fee': ['region', 'load_balancer_rules'], 'aks_cluster_fee': ['region', 'kubernetes_node_count'], 'function_app_fee': ['region', 'function_exec_ms'], 'sql_database_fee': ['sql_storage_gb'], 'snapshot_storage_fee': ['redundancy'], 'app_service_fee': ['app_service_instances']} {'spot_instance': DomainVariable(name='spot_instance', description='Whether the compute uses spot capacity', unit='flag', data_type=<class 'str'>), 'os_type': DomainVariable(name='os_type', description='Operating system for the compute workload', unit='os', data_type=<class 'str'>), 'gpu_count': DomainVariable(name='gpu_count', description='Number of GPUs attached to the instance', unit='GPUs', data_type=<class 'int'>), 'managed_disk_count': DomainVariable(name='managed_disk_count', description='Count of managed disks attached', unit='disks', data_type=<class 'int'>), 'region': DomainVariable(name='region', description='Azure region where resources are deployed', unit='region', data_type=<class 'str'>), 'redundancy': DomainVariable(name='redundancy', description='Storage redundancy configuration', unit='redundancy', data_type=<class 'str'>), 'storage_transactions_millions': DomainVariable(name='storage_transactions_millions', description='Number of storage account operations in millions', unit='million tx', data_type=<class 'float'>), 'load_balancer_rules': DomainVariable(name='load_balancer_rules', description='Configured load balancer rules', unit='rules', data_type=<class 'int'>), 'kubernetes_node_count': DomainVariable(name='kubernetes_node_count', description='Number of AKS nodes in the cluster', unit='nodes', data_type=<class 'int'>), 'function_exec_ms': DomainVariable(name='function_exec_ms', description='Average or billed execution time per invocation', unit='ms', data_type=<class 'float'>), 'sql_storage_gb': DomainVariable(name='sql_storage_gb', description='Allocated storage for Azure SQL', unit='GB', data_type=<class 'int'>), 'app_service_instances': DomainVariable(name='app_service_instances', description='Count of App Service instances', unit='instances', data_type=<class 'int'>)}\n",
      "--- Building graph for charge category: 'managed_disk_fee' ---\n",
      "Execution time for 'build': 14.1922 seconds\n",
      "Calculate the total data_egress_fee. Charge description - Charge for data leaving Azure regions. data_egress_fee {'compute_vm_fee': ['spot_instance'], 'gpu_compute_fee': ['os_type', 'gpu_count'], 'managed_disk_fee': ['managed_disk_count'], 'data_egress_fee': ['region'], 'data_ingress_fee': ['region'], 'storage_transaction_fee': ['redundancy', 'storage_transactions_millions'], 'public_ip_fee': ['region'], 'load_balancer_fee': ['region', 'load_balancer_rules'], 'aks_cluster_fee': ['region', 'kubernetes_node_count'], 'function_app_fee': ['region', 'function_exec_ms'], 'sql_database_fee': ['sql_storage_gb'], 'snapshot_storage_fee': ['redundancy'], 'app_service_fee': ['app_service_instances']} {'spot_instance': DomainVariable(name='spot_instance', description='Whether the compute uses spot capacity', unit='flag', data_type=<class 'str'>), 'os_type': DomainVariable(name='os_type', description='Operating system for the compute workload', unit='os', data_type=<class 'str'>), 'gpu_count': DomainVariable(name='gpu_count', description='Number of GPUs attached to the instance', unit='GPUs', data_type=<class 'int'>), 'managed_disk_count': DomainVariable(name='managed_disk_count', description='Count of managed disks attached', unit='disks', data_type=<class 'int'>), 'region': DomainVariable(name='region', description='Azure region where resources are deployed', unit='region', data_type=<class 'str'>), 'redundancy': DomainVariable(name='redundancy', description='Storage redundancy configuration', unit='redundancy', data_type=<class 'str'>), 'storage_transactions_millions': DomainVariable(name='storage_transactions_millions', description='Number of storage account operations in millions', unit='million tx', data_type=<class 'float'>), 'load_balancer_rules': DomainVariable(name='load_balancer_rules', description='Configured load balancer rules', unit='rules', data_type=<class 'int'>), 'kubernetes_node_count': DomainVariable(name='kubernetes_node_count', description='Number of AKS nodes in the cluster', unit='nodes', data_type=<class 'int'>), 'function_exec_ms': DomainVariable(name='function_exec_ms', description='Average or billed execution time per invocation', unit='ms', data_type=<class 'float'>), 'sql_storage_gb': DomainVariable(name='sql_storage_gb', description='Allocated storage for Azure SQL', unit='GB', data_type=<class 'int'>), 'app_service_instances': DomainVariable(name='app_service_instances', description='Count of App Service instances', unit='instances', data_type=<class 'int'>)}\n",
      "--- Building graph for charge category: 'data_egress_fee' ---\n",
      "Execution time for 'build': 30.5976 seconds\n",
      "Calculate the total data_ingress_fee. Charge description - Charge for data entering Azure regions where applicable. data_ingress_fee {'compute_vm_fee': ['spot_instance'], 'gpu_compute_fee': ['os_type', 'gpu_count'], 'managed_disk_fee': ['managed_disk_count'], 'data_egress_fee': ['region'], 'data_ingress_fee': ['region'], 'storage_transaction_fee': ['redundancy', 'storage_transactions_millions'], 'public_ip_fee': ['region'], 'load_balancer_fee': ['region', 'load_balancer_rules'], 'aks_cluster_fee': ['region', 'kubernetes_node_count'], 'function_app_fee': ['region', 'function_exec_ms'], 'sql_database_fee': ['sql_storage_gb'], 'snapshot_storage_fee': ['redundancy'], 'app_service_fee': ['app_service_instances']} {'spot_instance': DomainVariable(name='spot_instance', description='Whether the compute uses spot capacity', unit='flag', data_type=<class 'str'>), 'os_type': DomainVariable(name='os_type', description='Operating system for the compute workload', unit='os', data_type=<class 'str'>), 'gpu_count': DomainVariable(name='gpu_count', description='Number of GPUs attached to the instance', unit='GPUs', data_type=<class 'int'>), 'managed_disk_count': DomainVariable(name='managed_disk_count', description='Count of managed disks attached', unit='disks', data_type=<class 'int'>), 'region': DomainVariable(name='region', description='Azure region where resources are deployed', unit='region', data_type=<class 'str'>), 'redundancy': DomainVariable(name='redundancy', description='Storage redundancy configuration', unit='redundancy', data_type=<class 'str'>), 'storage_transactions_millions': DomainVariable(name='storage_transactions_millions', description='Number of storage account operations in millions', unit='million tx', data_type=<class 'float'>), 'load_balancer_rules': DomainVariable(name='load_balancer_rules', description='Configured load balancer rules', unit='rules', data_type=<class 'int'>), 'kubernetes_node_count': DomainVariable(name='kubernetes_node_count', description='Number of AKS nodes in the cluster', unit='nodes', data_type=<class 'int'>), 'function_exec_ms': DomainVariable(name='function_exec_ms', description='Average or billed execution time per invocation', unit='ms', data_type=<class 'float'>), 'sql_storage_gb': DomainVariable(name='sql_storage_gb', description='Allocated storage for Azure SQL', unit='GB', data_type=<class 'int'>), 'app_service_instances': DomainVariable(name='app_service_instances', description='Count of App Service instances', unit='instances', data_type=<class 'int'>)}\n",
      "--- Building graph for charge category: 'data_ingress_fee' ---\n",
      "Execution time for 'build': 27.4110 seconds\n",
      "Calculate the total storage_transaction_fee. Charge description - Charge for storage account transactions and redundancy level. storage_transaction_fee {'compute_vm_fee': ['spot_instance'], 'gpu_compute_fee': ['os_type', 'gpu_count'], 'managed_disk_fee': ['managed_disk_count'], 'data_egress_fee': ['region'], 'data_ingress_fee': ['region'], 'storage_transaction_fee': ['redundancy', 'storage_transactions_millions'], 'public_ip_fee': ['region'], 'load_balancer_fee': ['region', 'load_balancer_rules'], 'aks_cluster_fee': ['region', 'kubernetes_node_count'], 'function_app_fee': ['region', 'function_exec_ms'], 'sql_database_fee': ['sql_storage_gb'], 'snapshot_storage_fee': ['redundancy'], 'app_service_fee': ['app_service_instances']} {'spot_instance': DomainVariable(name='spot_instance', description='Whether the compute uses spot capacity', unit='flag', data_type=<class 'str'>), 'os_type': DomainVariable(name='os_type', description='Operating system for the compute workload', unit='os', data_type=<class 'str'>), 'gpu_count': DomainVariable(name='gpu_count', description='Number of GPUs attached to the instance', unit='GPUs', data_type=<class 'int'>), 'managed_disk_count': DomainVariable(name='managed_disk_count', description='Count of managed disks attached', unit='disks', data_type=<class 'int'>), 'region': DomainVariable(name='region', description='Azure region where resources are deployed', unit='region', data_type=<class 'str'>), 'redundancy': DomainVariable(name='redundancy', description='Storage redundancy configuration', unit='redundancy', data_type=<class 'str'>), 'storage_transactions_millions': DomainVariable(name='storage_transactions_millions', description='Number of storage account operations in millions', unit='million tx', data_type=<class 'float'>), 'load_balancer_rules': DomainVariable(name='load_balancer_rules', description='Configured load balancer rules', unit='rules', data_type=<class 'int'>), 'kubernetes_node_count': DomainVariable(name='kubernetes_node_count', description='Number of AKS nodes in the cluster', unit='nodes', data_type=<class 'int'>), 'function_exec_ms': DomainVariable(name='function_exec_ms', description='Average or billed execution time per invocation', unit='ms', data_type=<class 'float'>), 'sql_storage_gb': DomainVariable(name='sql_storage_gb', description='Allocated storage for Azure SQL', unit='GB', data_type=<class 'int'>), 'app_service_instances': DomainVariable(name='app_service_instances', description='Count of App Service instances', unit='instances', data_type=<class 'int'>)}\n",
      "--- Building graph for charge category: 'storage_transaction_fee' ---\n",
      "Execution time for 'build': 216.6691 seconds\n",
      "Calculate the total public_ip_fee. Charge description - Charge for public IP addresses allocated. public_ip_fee {'compute_vm_fee': ['spot_instance'], 'gpu_compute_fee': ['os_type', 'gpu_count'], 'managed_disk_fee': ['managed_disk_count'], 'data_egress_fee': ['region'], 'data_ingress_fee': ['region'], 'storage_transaction_fee': ['redundancy', 'storage_transactions_millions'], 'public_ip_fee': ['region'], 'load_balancer_fee': ['region', 'load_balancer_rules'], 'aks_cluster_fee': ['region', 'kubernetes_node_count'], 'function_app_fee': ['region', 'function_exec_ms'], 'sql_database_fee': ['sql_storage_gb'], 'snapshot_storage_fee': ['redundancy'], 'app_service_fee': ['app_service_instances']} {'spot_instance': DomainVariable(name='spot_instance', description='Whether the compute uses spot capacity', unit='flag', data_type=<class 'str'>), 'os_type': DomainVariable(name='os_type', description='Operating system for the compute workload', unit='os', data_type=<class 'str'>), 'gpu_count': DomainVariable(name='gpu_count', description='Number of GPUs attached to the instance', unit='GPUs', data_type=<class 'int'>), 'managed_disk_count': DomainVariable(name='managed_disk_count', description='Count of managed disks attached', unit='disks', data_type=<class 'int'>), 'region': DomainVariable(name='region', description='Azure region where resources are deployed', unit='region', data_type=<class 'str'>), 'redundancy': DomainVariable(name='redundancy', description='Storage redundancy configuration', unit='redundancy', data_type=<class 'str'>), 'storage_transactions_millions': DomainVariable(name='storage_transactions_millions', description='Number of storage account operations in millions', unit='million tx', data_type=<class 'float'>), 'load_balancer_rules': DomainVariable(name='load_balancer_rules', description='Configured load balancer rules', unit='rules', data_type=<class 'int'>), 'kubernetes_node_count': DomainVariable(name='kubernetes_node_count', description='Number of AKS nodes in the cluster', unit='nodes', data_type=<class 'int'>), 'function_exec_ms': DomainVariable(name='function_exec_ms', description='Average or billed execution time per invocation', unit='ms', data_type=<class 'float'>), 'sql_storage_gb': DomainVariable(name='sql_storage_gb', description='Allocated storage for Azure SQL', unit='GB', data_type=<class 'int'>), 'app_service_instances': DomainVariable(name='app_service_instances', description='Count of App Service instances', unit='instances', data_type=<class 'int'>)}\n",
      "--- Building graph for charge category: 'public_ip_fee' ---\n",
      "Execution time for 'build': 30.1064 seconds\n",
      "Calculate the total load_balancer_fee. Charge description - Charge for load balancer rules and tier. load_balancer_fee {'compute_vm_fee': ['spot_instance'], 'gpu_compute_fee': ['os_type', 'gpu_count'], 'managed_disk_fee': ['managed_disk_count'], 'data_egress_fee': ['region'], 'data_ingress_fee': ['region'], 'storage_transaction_fee': ['redundancy', 'storage_transactions_millions'], 'public_ip_fee': ['region'], 'load_balancer_fee': ['region', 'load_balancer_rules'], 'aks_cluster_fee': ['region', 'kubernetes_node_count'], 'function_app_fee': ['region', 'function_exec_ms'], 'sql_database_fee': ['sql_storage_gb'], 'snapshot_storage_fee': ['redundancy'], 'app_service_fee': ['app_service_instances']} {'spot_instance': DomainVariable(name='spot_instance', description='Whether the compute uses spot capacity', unit='flag', data_type=<class 'str'>), 'os_type': DomainVariable(name='os_type', description='Operating system for the compute workload', unit='os', data_type=<class 'str'>), 'gpu_count': DomainVariable(name='gpu_count', description='Number of GPUs attached to the instance', unit='GPUs', data_type=<class 'int'>), 'managed_disk_count': DomainVariable(name='managed_disk_count', description='Count of managed disks attached', unit='disks', data_type=<class 'int'>), 'region': DomainVariable(name='region', description='Azure region where resources are deployed', unit='region', data_type=<class 'str'>), 'redundancy': DomainVariable(name='redundancy', description='Storage redundancy configuration', unit='redundancy', data_type=<class 'str'>), 'storage_transactions_millions': DomainVariable(name='storage_transactions_millions', description='Number of storage account operations in millions', unit='million tx', data_type=<class 'float'>), 'load_balancer_rules': DomainVariable(name='load_balancer_rules', description='Configured load balancer rules', unit='rules', data_type=<class 'int'>), 'kubernetes_node_count': DomainVariable(name='kubernetes_node_count', description='Number of AKS nodes in the cluster', unit='nodes', data_type=<class 'int'>), 'function_exec_ms': DomainVariable(name='function_exec_ms', description='Average or billed execution time per invocation', unit='ms', data_type=<class 'float'>), 'sql_storage_gb': DomainVariable(name='sql_storage_gb', description='Allocated storage for Azure SQL', unit='GB', data_type=<class 'int'>), 'app_service_instances': DomainVariable(name='app_service_instances', description='Count of App Service instances', unit='instances', data_type=<class 'int'>)}\n",
      "--- Building graph for charge category: 'load_balancer_fee' ---\n",
      "Execution time for 'build': 932.3293 seconds\n",
      "Calculate the total aks_cluster_fee. Charge description - Charge for AKS clusters based on node count and type. aks_cluster_fee {'compute_vm_fee': ['spot_instance'], 'gpu_compute_fee': ['os_type', 'gpu_count'], 'managed_disk_fee': ['managed_disk_count'], 'data_egress_fee': ['region'], 'data_ingress_fee': ['region'], 'storage_transaction_fee': ['redundancy', 'storage_transactions_millions'], 'public_ip_fee': ['region'], 'load_balancer_fee': ['region', 'load_balancer_rules'], 'aks_cluster_fee': ['region', 'kubernetes_node_count'], 'function_app_fee': ['region', 'function_exec_ms'], 'sql_database_fee': ['sql_storage_gb'], 'snapshot_storage_fee': ['redundancy'], 'app_service_fee': ['app_service_instances']} {'spot_instance': DomainVariable(name='spot_instance', description='Whether the compute uses spot capacity', unit='flag', data_type=<class 'str'>), 'os_type': DomainVariable(name='os_type', description='Operating system for the compute workload', unit='os', data_type=<class 'str'>), 'gpu_count': DomainVariable(name='gpu_count', description='Number of GPUs attached to the instance', unit='GPUs', data_type=<class 'int'>), 'managed_disk_count': DomainVariable(name='managed_disk_count', description='Count of managed disks attached', unit='disks', data_type=<class 'int'>), 'region': DomainVariable(name='region', description='Azure region where resources are deployed', unit='region', data_type=<class 'str'>), 'redundancy': DomainVariable(name='redundancy', description='Storage redundancy configuration', unit='redundancy', data_type=<class 'str'>), 'storage_transactions_millions': DomainVariable(name='storage_transactions_millions', description='Number of storage account operations in millions', unit='million tx', data_type=<class 'float'>), 'load_balancer_rules': DomainVariable(name='load_balancer_rules', description='Configured load balancer rules', unit='rules', data_type=<class 'int'>), 'kubernetes_node_count': DomainVariable(name='kubernetes_node_count', description='Number of AKS nodes in the cluster', unit='nodes', data_type=<class 'int'>), 'function_exec_ms': DomainVariable(name='function_exec_ms', description='Average or billed execution time per invocation', unit='ms', data_type=<class 'float'>), 'sql_storage_gb': DomainVariable(name='sql_storage_gb', description='Allocated storage for Azure SQL', unit='GB', data_type=<class 'int'>), 'app_service_instances': DomainVariable(name='app_service_instances', description='Count of App Service instances', unit='instances', data_type=<class 'int'>)}\n",
      "--- Building graph for charge category: 'aks_cluster_fee' ---\n",
      "Execution time for 'build': 147.8118 seconds\n",
      "Calculate the total function_app_fee. Charge description - Charge for serverless executions and execution time. function_app_fee {'compute_vm_fee': ['spot_instance'], 'gpu_compute_fee': ['os_type', 'gpu_count'], 'managed_disk_fee': ['managed_disk_count'], 'data_egress_fee': ['region'], 'data_ingress_fee': ['region'], 'storage_transaction_fee': ['redundancy', 'storage_transactions_millions'], 'public_ip_fee': ['region'], 'load_balancer_fee': ['region', 'load_balancer_rules'], 'aks_cluster_fee': ['region', 'kubernetes_node_count'], 'function_app_fee': ['region', 'function_exec_ms'], 'sql_database_fee': ['sql_storage_gb'], 'snapshot_storage_fee': ['redundancy'], 'app_service_fee': ['app_service_instances']} {'spot_instance': DomainVariable(name='spot_instance', description='Whether the compute uses spot capacity', unit='flag', data_type=<class 'str'>), 'os_type': DomainVariable(name='os_type', description='Operating system for the compute workload', unit='os', data_type=<class 'str'>), 'gpu_count': DomainVariable(name='gpu_count', description='Number of GPUs attached to the instance', unit='GPUs', data_type=<class 'int'>), 'managed_disk_count': DomainVariable(name='managed_disk_count', description='Count of managed disks attached', unit='disks', data_type=<class 'int'>), 'region': DomainVariable(name='region', description='Azure region where resources are deployed', unit='region', data_type=<class 'str'>), 'redundancy': DomainVariable(name='redundancy', description='Storage redundancy configuration', unit='redundancy', data_type=<class 'str'>), 'storage_transactions_millions': DomainVariable(name='storage_transactions_millions', description='Number of storage account operations in millions', unit='million tx', data_type=<class 'float'>), 'load_balancer_rules': DomainVariable(name='load_balancer_rules', description='Configured load balancer rules', unit='rules', data_type=<class 'int'>), 'kubernetes_node_count': DomainVariable(name='kubernetes_node_count', description='Number of AKS nodes in the cluster', unit='nodes', data_type=<class 'int'>), 'function_exec_ms': DomainVariable(name='function_exec_ms', description='Average or billed execution time per invocation', unit='ms', data_type=<class 'float'>), 'sql_storage_gb': DomainVariable(name='sql_storage_gb', description='Allocated storage for Azure SQL', unit='GB', data_type=<class 'int'>), 'app_service_instances': DomainVariable(name='app_service_instances', description='Count of App Service instances', unit='instances', data_type=<class 'int'>)}\n",
      "--- Building graph for charge category: 'function_app_fee' ---\n",
      "Execution time for 'build': 76.1945 seconds\n",
      "Calculate the total sql_database_fee. Charge description - Charge for Azure SQL based on vCores, storage, and retention. sql_database_fee {'compute_vm_fee': ['spot_instance'], 'gpu_compute_fee': ['os_type', 'gpu_count'], 'managed_disk_fee': ['managed_disk_count'], 'data_egress_fee': ['region'], 'data_ingress_fee': ['region'], 'storage_transaction_fee': ['redundancy', 'storage_transactions_millions'], 'public_ip_fee': ['region'], 'load_balancer_fee': ['region', 'load_balancer_rules'], 'aks_cluster_fee': ['region', 'kubernetes_node_count'], 'function_app_fee': ['region', 'function_exec_ms'], 'sql_database_fee': ['sql_storage_gb'], 'snapshot_storage_fee': ['redundancy'], 'app_service_fee': ['app_service_instances']} {'spot_instance': DomainVariable(name='spot_instance', description='Whether the compute uses spot capacity', unit='flag', data_type=<class 'str'>), 'os_type': DomainVariable(name='os_type', description='Operating system for the compute workload', unit='os', data_type=<class 'str'>), 'gpu_count': DomainVariable(name='gpu_count', description='Number of GPUs attached to the instance', unit='GPUs', data_type=<class 'int'>), 'managed_disk_count': DomainVariable(name='managed_disk_count', description='Count of managed disks attached', unit='disks', data_type=<class 'int'>), 'region': DomainVariable(name='region', description='Azure region where resources are deployed', unit='region', data_type=<class 'str'>), 'redundancy': DomainVariable(name='redundancy', description='Storage redundancy configuration', unit='redundancy', data_type=<class 'str'>), 'storage_transactions_millions': DomainVariable(name='storage_transactions_millions', description='Number of storage account operations in millions', unit='million tx', data_type=<class 'float'>), 'load_balancer_rules': DomainVariable(name='load_balancer_rules', description='Configured load balancer rules', unit='rules', data_type=<class 'int'>), 'kubernetes_node_count': DomainVariable(name='kubernetes_node_count', description='Number of AKS nodes in the cluster', unit='nodes', data_type=<class 'int'>), 'function_exec_ms': DomainVariable(name='function_exec_ms', description='Average or billed execution time per invocation', unit='ms', data_type=<class 'float'>), 'sql_storage_gb': DomainVariable(name='sql_storage_gb', description='Allocated storage for Azure SQL', unit='GB', data_type=<class 'int'>), 'app_service_instances': DomainVariable(name='app_service_instances', description='Count of App Service instances', unit='instances', data_type=<class 'int'>)}\n",
      "--- Building graph for charge category: 'sql_database_fee' ---\n",
      "Execution time for 'build': 10.0087 seconds\n",
      "Calculate the total snapshot_storage_fee. Charge description - Charge for snapshot storage volume and redundancy. snapshot_storage_fee {'compute_vm_fee': ['spot_instance'], 'gpu_compute_fee': ['os_type', 'gpu_count'], 'managed_disk_fee': ['managed_disk_count'], 'data_egress_fee': ['region'], 'data_ingress_fee': ['region'], 'storage_transaction_fee': ['redundancy', 'storage_transactions_millions'], 'public_ip_fee': ['region'], 'load_balancer_fee': ['region', 'load_balancer_rules'], 'aks_cluster_fee': ['region', 'kubernetes_node_count'], 'function_app_fee': ['region', 'function_exec_ms'], 'sql_database_fee': ['sql_storage_gb'], 'snapshot_storage_fee': ['redundancy'], 'app_service_fee': ['app_service_instances']} {'spot_instance': DomainVariable(name='spot_instance', description='Whether the compute uses spot capacity', unit='flag', data_type=<class 'str'>), 'os_type': DomainVariable(name='os_type', description='Operating system for the compute workload', unit='os', data_type=<class 'str'>), 'gpu_count': DomainVariable(name='gpu_count', description='Number of GPUs attached to the instance', unit='GPUs', data_type=<class 'int'>), 'managed_disk_count': DomainVariable(name='managed_disk_count', description='Count of managed disks attached', unit='disks', data_type=<class 'int'>), 'region': DomainVariable(name='region', description='Azure region where resources are deployed', unit='region', data_type=<class 'str'>), 'redundancy': DomainVariable(name='redundancy', description='Storage redundancy configuration', unit='redundancy', data_type=<class 'str'>), 'storage_transactions_millions': DomainVariable(name='storage_transactions_millions', description='Number of storage account operations in millions', unit='million tx', data_type=<class 'float'>), 'load_balancer_rules': DomainVariable(name='load_balancer_rules', description='Configured load balancer rules', unit='rules', data_type=<class 'int'>), 'kubernetes_node_count': DomainVariable(name='kubernetes_node_count', description='Number of AKS nodes in the cluster', unit='nodes', data_type=<class 'int'>), 'function_exec_ms': DomainVariable(name='function_exec_ms', description='Average or billed execution time per invocation', unit='ms', data_type=<class 'float'>), 'sql_storage_gb': DomainVariable(name='sql_storage_gb', description='Allocated storage for Azure SQL', unit='GB', data_type=<class 'int'>), 'app_service_instances': DomainVariable(name='app_service_instances', description='Count of App Service instances', unit='instances', data_type=<class 'int'>)}\n",
      "--- Building graph for charge category: 'snapshot_storage_fee' ---\n",
      "Execution time for 'build': 15.6194 seconds\n",
      "Calculate the total app_service_fee. Charge description - Charge for App Service instances and tier. app_service_fee {'compute_vm_fee': ['spot_instance'], 'gpu_compute_fee': ['os_type', 'gpu_count'], 'managed_disk_fee': ['managed_disk_count'], 'data_egress_fee': ['region'], 'data_ingress_fee': ['region'], 'storage_transaction_fee': ['redundancy', 'storage_transactions_millions'], 'public_ip_fee': ['region'], 'load_balancer_fee': ['region', 'load_balancer_rules'], 'aks_cluster_fee': ['region', 'kubernetes_node_count'], 'function_app_fee': ['region', 'function_exec_ms'], 'sql_database_fee': ['sql_storage_gb'], 'snapshot_storage_fee': ['redundancy'], 'app_service_fee': ['app_service_instances']} {'spot_instance': DomainVariable(name='spot_instance', description='Whether the compute uses spot capacity', unit='flag', data_type=<class 'str'>), 'os_type': DomainVariable(name='os_type', description='Operating system for the compute workload', unit='os', data_type=<class 'str'>), 'gpu_count': DomainVariable(name='gpu_count', description='Number of GPUs attached to the instance', unit='GPUs', data_type=<class 'int'>), 'managed_disk_count': DomainVariable(name='managed_disk_count', description='Count of managed disks attached', unit='disks', data_type=<class 'int'>), 'region': DomainVariable(name='region', description='Azure region where resources are deployed', unit='region', data_type=<class 'str'>), 'redundancy': DomainVariable(name='redundancy', description='Storage redundancy configuration', unit='redundancy', data_type=<class 'str'>), 'storage_transactions_millions': DomainVariable(name='storage_transactions_millions', description='Number of storage account operations in millions', unit='million tx', data_type=<class 'float'>), 'load_balancer_rules': DomainVariable(name='load_balancer_rules', description='Configured load balancer rules', unit='rules', data_type=<class 'int'>), 'kubernetes_node_count': DomainVariable(name='kubernetes_node_count', description='Number of AKS nodes in the cluster', unit='nodes', data_type=<class 'int'>), 'function_exec_ms': DomainVariable(name='function_exec_ms', description='Average or billed execution time per invocation', unit='ms', data_type=<class 'float'>), 'sql_storage_gb': DomainVariable(name='sql_storage_gb', description='Allocated storage for Azure SQL', unit='GB', data_type=<class 'int'>), 'app_service_instances': DomainVariable(name='app_service_instances', description='Count of App Service instances', unit='instances', data_type=<class 'int'>)}\n",
      "--- Building graph for charge category: 'app_service_fee' ---\n"
     ]
    }
   ],
   "source": [
    "# path = \"/gpfs01/home/ppxac9/MLiS-Placement-Thesis/LLM_generated_data/synthetic_dataset/datapoints_8B.jsonl\"\n",
    "# # path = \"/gpfs01/home/ppxac9/MLiS-Placement-Thesis/LLM_generated_data/synthetic_dataset/datapoints_70B_4bit.jsonl\"\n",
    "# result = generate(path)"
   ]
  },
  {
   "cell_type": "code",
   "execution_count": null,
   "id": "0654bfba",
   "metadata": {},
   "outputs": [],
   "source": [
    "# import pickle\n",
    "# with open('result_8b_4b_1.pkl', 'wb') as f:\n",
    "#     pickle.dump(result, f)\n"
   ]
  },
  {
   "cell_type": "code",
   "execution_count": 21,
   "id": "f4f24f21",
   "metadata": {},
   "outputs": [],
   "source": [
    "from json import JSONDecodeError\n",
    "\n",
    "def generate_missing(path, _missing_charge, _doc_id):\n",
    "    computed_records = {}\n",
    "    with open(path, \"r\", encoding=\"utf-8\") as f:\n",
    "        records = [json.loads(line) for line in f if line.strip()]\n",
    "    \n",
    "    for record_id, record in enumerate(records):\n",
    "        if record_id != _doc_id:\n",
    "            continue\n",
    "        content, charges = record\n",
    "        markdown_content = content\n",
    "        charge_category_variables = {k: v['variables_used'] for k, v in charges.items()}\n",
    "        computed_records[str(record_id)] = {}\n",
    "        import builtins\n",
    "        def to_built_in_type(type_str: str):\n",
    "            t = getattr(builtins, type_str, None)\n",
    "            if isinstance(t, type):\n",
    "                return t\n",
    "            raise ValueError(f\"{type_str} is not a valid built-in type\")\n",
    "\n",
    "        charge_variables = {}\n",
    "        all_variables = {}\n",
    "        for charge, variables in charge_category_variables.items():\n",
    "            charge_variables[charge] = list(variables.keys())\n",
    "            for var, details in variables.items():\n",
    "                all_variables[var] = DomainVariable(name=var,\n",
    "                    description=details['description'],\n",
    "                    unit=details['unit'],\n",
    "                    data_type=to_built_in_type(details['dtype']))\n",
    "\n",
    "        for charge_category in list(charge_variables.keys()):\n",
    "            if charge_category != _missing_charge:\n",
    "                continue\n",
    "            query = f\"Calculate the total {charge_category}. Charge description - {charges[charge_category]['charge_description']}\"    \n",
    "            print(query, charge_category, charge_variables, all_variables)\n",
    "            result, execution_time = create_computation_graph(base_lm, query, charge_category, markdown_content, charge_variables, all_variables)\n",
    "            \n",
    "            try:\n",
    "                payload = {charge_category: {\n",
    "                    'query': query,\n",
    "                    'thought2':json.loads(result.get(\"thought2\")),\n",
    "                    'thought3':json.loads(result.get(\"thought3\")),\n",
    "                    'thought4':json.loads(result.get(\"thought4\")),\n",
    "                    'computation_graph':json.loads(result.get(\"result_graph\")),\n",
    "                    'execution_time': execution_time,\n",
    "                    'status': 'SUCCESS'\n",
    "                }\n",
    "                }\n",
    "                computed_records[str(record_id)][charge_category] = payload\n",
    "            except JSONDecodeError:\n",
    "                payload = {charge_category: {\n",
    "                    'query': query,\n",
    "                    'thought2':result.get(\"thought2\"),\n",
    "                    'thought3':result.get(\"thought3\"),\n",
    "                    'thought4':result.get(\"thought4\"),\n",
    "                    'computation_graph':result.get(\"result_graph\"),\n",
    "                    'execution_time': execution_time,\n",
    "                    'status': 'ERROR'\n",
    "                }\n",
    "                }\n",
    "\n",
    "            \n",
    "    return computed_records"
   ]
  },
  {
   "cell_type": "code",
   "execution_count": null,
   "id": "1d1cfb10",
   "metadata": {},
   "outputs": [
    {
     "name": "stdout",
     "output_type": "stream",
     "text": [
      "Calculate the total load_balancer_fee. Charge description - Charge for load balancer rules and tier. load_balancer_fee {'compute_vm_fee': ['spot_instance'], 'gpu_compute_fee': ['os_type', 'gpu_count'], 'managed_disk_fee': ['managed_disk_count'], 'data_egress_fee': ['region'], 'data_ingress_fee': ['region'], 'storage_transaction_fee': ['redundancy', 'storage_transactions_millions'], 'public_ip_fee': ['region'], 'load_balancer_fee': ['region', 'load_balancer_rules'], 'aks_cluster_fee': ['region', 'kubernetes_node_count'], 'function_app_fee': ['region', 'function_exec_ms'], 'sql_database_fee': ['sql_storage_gb'], 'snapshot_storage_fee': ['redundancy'], 'app_service_fee': ['app_service_instances']} {'spot_instance': DomainVariable(name='spot_instance', description='Whether the compute uses spot capacity', unit='flag', data_type=<class 'str'>), 'os_type': DomainVariable(name='os_type', description='Operating system for the compute workload', unit='os', data_type=<class 'str'>), 'gpu_count': DomainVariable(name='gpu_count', description='Number of GPUs attached to the instance', unit='GPUs', data_type=<class 'int'>), 'managed_disk_count': DomainVariable(name='managed_disk_count', description='Count of managed disks attached', unit='disks', data_type=<class 'int'>), 'region': DomainVariable(name='region', description='Azure region where resources are deployed', unit='region', data_type=<class 'str'>), 'redundancy': DomainVariable(name='redundancy', description='Storage redundancy configuration', unit='redundancy', data_type=<class 'str'>), 'storage_transactions_millions': DomainVariable(name='storage_transactions_millions', description='Number of storage account operations in millions', unit='million tx', data_type=<class 'float'>), 'load_balancer_rules': DomainVariable(name='load_balancer_rules', description='Configured load balancer rules', unit='rules', data_type=<class 'int'>), 'kubernetes_node_count': DomainVariable(name='kubernetes_node_count', description='Number of AKS nodes in the cluster', unit='nodes', data_type=<class 'int'>), 'function_exec_ms': DomainVariable(name='function_exec_ms', description='Average or billed execution time per invocation', unit='ms', data_type=<class 'float'>), 'sql_storage_gb': DomainVariable(name='sql_storage_gb', description='Allocated storage for Azure SQL', unit='GB', data_type=<class 'int'>), 'app_service_instances': DomainVariable(name='app_service_instances', description='Count of App Service instances', unit='instances', data_type=<class 'int'>)}\n",
      "--- Building graph for charge category: 'load_balancer_fee' ---\n"
     ]
    },
    {
     "data": {
      "application/vnd.jupyter.widget-view+json": {
       "model_id": "7c2927d7cded414bac1dc1102156e275",
       "version_major": 2,
       "version_minor": 0
      },
      "text/plain": [
       "StitchWidget(initial_height='auto', initial_width='100%', srcdoc='<!doctype html>\\n<html lang=\"en\">\\n<head>\\n …"
      ]
     },
     "metadata": {},
     "output_type": "display_data"
    },
    {
     "name": "stdout",
     "output_type": "stream",
     "text": [
      "Execution time for 'build': 22.0633 seconds\n"
     ]
    }
   ],
   "source": [
    "# path = \"/gpfs01/home/ppxac9/MLiS-Placement-Thesis/LLM_generated_data/synthetic_dataset/datapoints_8B.jsonl\"\n",
    "# missing_result = generate_missing(path, 'compute_vm_fee', 0)"
   ]
  },
  {
   "cell_type": "code",
   "execution_count": 72,
   "id": "825cfb0f",
   "metadata": {},
   "outputs": [],
   "source": [
    "result['4']['load_balancer_fee'] =  missing_result['4']['load_balancer_fee']"
   ]
  },
  {
   "cell_type": "code",
   "execution_count": 22,
   "id": "1a2d9200",
   "metadata": {},
   "outputs": [],
   "source": [
    "import pickle \n",
    "\n",
    "# with open('result_8b_0_6b_2.pkl', 'wb') as f:\n",
    "#     pickle.dump(result, f)\n",
    "\n",
    "# with open('result_4.pkl', 'wb') as f:\n",
    "#     pickle.dump(result, f)\n",
    "\n",
    "with open('result_8b_4b_1.pkl', 'rb') as f:\n",
    "    result = pickle.load(f)"
   ]
  },
  {
   "cell_type": "markdown",
   "id": "7051a50d",
   "metadata": {},
   "source": [
    "# Testing"
   ]
  },
  {
   "cell_type": "code",
   "execution_count": 27,
   "id": "2220f222",
   "metadata": {},
   "outputs": [],
   "source": [
    "\n",
    "def get_symbolic_groundtruth_functions(path, result_path):\n",
    "    master_function_list = {}\n",
    "    error_list = {}\n",
    "    missing_list = []\n",
    "    with open(path, \"r\", encoding=\"utf-8\") as f:\n",
    "            records = [json.loads(line) for line in f if line.strip()]\n",
    "    with open(result_path, 'rb') as f:\n",
    "        result = pickle.load(f)\n",
    "    for record_id, record in enumerate(records):\n",
    "        content, charges = record\n",
    "        markdown_content = content\n",
    "        charge_category_variables = {k: v['variables_used'] for k, v in charges.items()}\n",
    "        master_function_list[record_id] = {}\n",
    "        error_list[record_id] = {}\n",
    "        import builtins\n",
    "        def to_built_in_type(type_str: str):\n",
    "            t = getattr(builtins, type_str, None)\n",
    "            if isinstance(t, type):\n",
    "                return t\n",
    "            raise ValueError(f\"{type_str} is not a valid built-in type\")\n",
    "\n",
    "        charge_variables = {}\n",
    "        all_variables = {}\n",
    "        for charge, variables in charge_category_variables.items():\n",
    "            charge_variables[charge] = list(variables.keys())\n",
    "            for var, details in variables.items():\n",
    "                all_variables[var] = DomainVariable(name=var,\n",
    "                    description=details['description'],\n",
    "                    unit=details['unit'],\n",
    "                    data_type=to_built_in_type(details['dtype']))\n",
    "            try:\n",
    "                graph = result[str(record_id)][charge][charge]['computation_graph']\n",
    "                code_str = charges[charge]['code']\n",
    "            except KeyError as e:\n",
    "                print(record_id, charge, result[str(record_id)].keys(), )\n",
    "                missing_list.append((record_id, charge))\n",
    "            try:\n",
    "                symbolic_func, ground_truth_func = evaluate(graph, (charge, charge_variables[charge]), code_str)\n",
    "                master_function_list[record_id][charge] = (symbolic_func, ground_truth_func, graph)\n",
    "            except Exception  as e:\n",
    "                error_list[record_id][charge] = [graph, e]\n",
    "            \n",
    "    return master_function_list, error_list, missing_list"
   ]
  },
  {
   "cell_type": "code",
   "execution_count": 29,
   "id": "3d892ffe",
   "metadata": {},
   "outputs": [
    {
     "name": "stdout",
     "output_type": "stream",
     "text": [
      "0 data_egress_fee dict_keys(['compute_vm_fee', 'gpu_compute_fee', 'managed_disk_fee', 'data_ingress_fee', 'storage_transaction_fee', 'public_ip_fee', 'load_balancer_fee', 'aks_cluster_fee', 'function_app_fee', 'sql_database_fee', 'snapshot_storage_fee', 'app_service_fee'])\n",
      "1 data_egress_fee dict_keys(['compute_vm_fee', 'gpu_compute_fee', 'managed_disk_fee', 'data_ingress_fee', 'load_balancer_fee', 'aks_cluster_fee', 'function_app_fee', 'sql_database_fee', 'snapshot_storage_fee', 'app_service_fee'])\n",
      "1 storage_transaction_fee dict_keys(['compute_vm_fee', 'gpu_compute_fee', 'managed_disk_fee', 'data_ingress_fee', 'load_balancer_fee', 'aks_cluster_fee', 'function_app_fee', 'sql_database_fee', 'snapshot_storage_fee', 'app_service_fee'])\n",
      "1 public_ip_fee dict_keys(['compute_vm_fee', 'gpu_compute_fee', 'managed_disk_fee', 'data_ingress_fee', 'load_balancer_fee', 'aks_cluster_fee', 'function_app_fee', 'sql_database_fee', 'snapshot_storage_fee', 'app_service_fee'])\n",
      "2 gpu_compute_fee dict_keys(['compute_vm_fee', 'managed_disk_fee', 'data_egress_fee', 'storage_transaction_fee', 'public_ip_fee', 'load_balancer_fee', 'function_app_fee', 'snapshot_storage_fee', 'app_service_fee'])\n",
      "2 data_ingress_fee dict_keys(['compute_vm_fee', 'managed_disk_fee', 'data_egress_fee', 'storage_transaction_fee', 'public_ip_fee', 'load_balancer_fee', 'function_app_fee', 'snapshot_storage_fee', 'app_service_fee'])\n",
      "2 aks_cluster_fee dict_keys(['compute_vm_fee', 'managed_disk_fee', 'data_egress_fee', 'storage_transaction_fee', 'public_ip_fee', 'load_balancer_fee', 'function_app_fee', 'snapshot_storage_fee', 'app_service_fee'])\n",
      "2 sql_database_fee dict_keys(['compute_vm_fee', 'managed_disk_fee', 'data_egress_fee', 'storage_transaction_fee', 'public_ip_fee', 'load_balancer_fee', 'function_app_fee', 'snapshot_storage_fee', 'app_service_fee'])\n",
      "3 data_egress_fee dict_keys(['compute_vm_fee', 'gpu_compute_fee', 'managed_disk_fee', 'data_ingress_fee', 'storage_transaction_fee', 'load_balancer_fee', 'function_app_fee', 'sql_database_fee', 'snapshot_storage_fee', 'app_service_fee'])\n",
      "3 public_ip_fee dict_keys(['compute_vm_fee', 'gpu_compute_fee', 'managed_disk_fee', 'data_ingress_fee', 'storage_transaction_fee', 'load_balancer_fee', 'function_app_fee', 'sql_database_fee', 'snapshot_storage_fee', 'app_service_fee'])\n",
      "3 aks_cluster_fee dict_keys(['compute_vm_fee', 'gpu_compute_fee', 'managed_disk_fee', 'data_ingress_fee', 'storage_transaction_fee', 'load_balancer_fee', 'function_app_fee', 'sql_database_fee', 'snapshot_storage_fee', 'app_service_fee'])\n",
      "4 load_balancer_fee dict_keys(['compute_vm_fee', 'gpu_compute_fee', 'managed_disk_fee', 'data_egress_fee', 'data_ingress_fee', 'storage_transaction_fee', 'public_ip_fee', 'aks_cluster_fee', 'function_app_fee', 'sql_database_fee', 'snapshot_storage_fee', 'app_service_fee'])\n"
     ]
    }
   ],
   "source": [
    "path = \"/gpfs01/home/ppxac9/MLiS-Placement-Thesis/LLM_generated_data/synthetic_dataset/datapoints_8B.jsonl\"\n",
    "result_path='result_8b_4b_1.pkl'\n",
    "functions, errors, missing_list = get_symbolic_groundtruth_functions(path, result_path)"
   ]
  },
  {
   "cell_type": "code",
   "execution_count": 84,
   "id": "1bb4e8d3",
   "metadata": {},
   "outputs": [
    {
     "data": {
      "text/plain": [
       "dict_keys(['aks_cluster_fee'])"
      ]
     },
     "execution_count": 84,
     "metadata": {},
     "output_type": "execute_result"
    }
   ],
   "source": [
    "errors[4].keys()"
   ]
  },
  {
   "cell_type": "code",
   "execution_count": 30,
   "id": "280b0d54",
   "metadata": {},
   "outputs": [
    {
     "data": {
      "text/plain": [
       "[(0, 'data_egress_fee'),\n",
       " (1, 'data_egress_fee'),\n",
       " (1, 'storage_transaction_fee'),\n",
       " (1, 'public_ip_fee'),\n",
       " (2, 'gpu_compute_fee'),\n",
       " (2, 'data_ingress_fee'),\n",
       " (2, 'aks_cluster_fee'),\n",
       " (2, 'sql_database_fee'),\n",
       " (3, 'data_egress_fee'),\n",
       " (3, 'public_ip_fee'),\n",
       " (3, 'aks_cluster_fee'),\n",
       " (4, 'load_balancer_fee')]"
      ]
     },
     "execution_count": 30,
     "metadata": {},
     "output_type": "execute_result"
    }
   ],
   "source": [
    "missing_list"
   ]
  },
  {
   "cell_type": "code",
   "execution_count": null,
   "id": "fc08f301",
   "metadata": {},
   "outputs": [],
   "source": [
    "# with open(path, \"r\", encoding=\"utf-8\") as f:\n",
    "#     records = [json.loads(line) for line in f if line.strip()]\n"
   ]
  },
  {
   "cell_type": "code",
   "execution_count": 75,
   "id": "404f7e09",
   "metadata": {},
   "outputs": [
    {
     "name": "stdout",
     "output_type": "stream",
     "text": [
      "0 storage_transaction_fee 368.7 120.0\n",
      "0 storage_transaction_fee 0.0 596.0\n",
      "0 storage_transaction_fee 0.0 1275.0\n",
      "0 storage_transaction_fee 405.57 38.5\n",
      "0 storage_transaction_fee 0.0 629.2\n",
      "0 storage_transaction_fee 0.0 1254.0\n",
      "0 storage_transaction_fee 442.44 102.0\n",
      "0 storage_transaction_fee 0.0 823.1999999999999\n",
      "0 storage_transaction_fee 0.0 1501.2\n",
      "0 storage_transaction_fee 479.31 241.8\n",
      "0 storage_transaction_fee 0.0 730.6\n",
      "0 storage_transaction_fee 0.0 1556.1000000000001\n",
      "0 public_ip_fee 1089.0 33\n",
      "0 public_ip_fee 17298.0 186\n",
      "0 public_ip_fee 6498.0 114\n",
      "0 public_ip_fee 17956.0 268\n",
      "0 public_ip_fee 0.0 0\n",
      "0 public_ip_fee 24576.0 384\n",
      "0 public_ip_fee 9216.0 192\n",
      "0 public_ip_fee 45000.0 600\n",
      "0 public_ip_fee 2645.0 115\n",
      "0 public_ip_fee 44890.0 670\n",
      "0 public_ip_fee 54.0 18\n",
      "0 public_ip_fee 44652.0 732\n",
      "0 load_balancer_fee 362 181\n",
      "0 load_balancer_fee 18 18\n",
      "0 function_app_fee 84326.0 84326.0\n",
      "0 function_app_fee 715552.0 715552.0\n",
      "0 function_app_fee 8297.0 9126.7\n",
      "0 function_app_fee 441192.0 485311.2\n",
      "0 function_app_fee 43666.0 52399.2\n",
      "0 function_app_fee 260208.0 312249.6\n",
      "0 function_app_fee 71973.0 93564.90000000001\n",
      "0 function_app_fee 952162.0 1237810.6\n",
      "0 function_app_fee 63696.0 89174.4\n",
      "0 function_app_fee 331400.0 463959.99999999994\n",
      "0 function_app_fee 60724.0 91086.0\n",
      "0 function_app_fee 385652.0 578478.0\n",
      "0 sql_database_fee 11.0 11\n",
      "0 sql_database_fee 134.0 134\n",
      "0 sql_database_fee 1017.0 1017\n",
      "0 sql_database_fee 2.0 4\n",
      "0 sql_database_fee 164.0 328\n",
      "0 sql_database_fee 759.0 1518\n",
      "0 sql_database_fee 31.0 93\n",
      "0 sql_database_fee 86.0 258\n",
      "0 sql_database_fee 624.0 1872\n",
      "0 sql_database_fee 26.0 104\n",
      "0 sql_database_fee 88.0 352\n",
      "0 sql_database_fee 597.0 2388\n",
      "0 sql_database_fee 12.0 60\n",
      "0 sql_database_fee 208.0 1040\n",
      "0 sql_database_fee 777.0 3885\n",
      "0 sql_database_fee 11.0 66\n",
      "0 sql_database_fee 72.0 432\n",
      "0 sql_database_fee 786.0 4716\n",
      "0 snapshot_storage_fee 1.0 1\n",
      "0 snapshot_storage_fee 2.0 2\n",
      "0 snapshot_storage_fee 3.0 3\n",
      "0 snapshot_storage_fee 4.0 4\n",
      "0 app_service_fee 2 2\n",
      "0 app_service_fee 29 58\n",
      "0 app_service_fee 95 285\n",
      "0 app_service_fee 197 788\n",
      "0 app_service_fee 10 10\n",
      "0 app_service_fee 100 200\n",
      "0 app_service_fee 190 570\n",
      "0 app_service_fee 294 1176\n",
      "0 app_service_fee 0 0\n",
      "0 app_service_fee 192 384\n",
      "0 app_service_fee 285 855\n",
      "0 app_service_fee 384 1536\n",
      "0 app_service_fee 16 16\n",
      "0 app_service_fee 236 472\n",
      "0 app_service_fee 380 1140\n",
      "0 app_service_fee 392 1568\n",
      "1 load_balancer_fee 1.0 1\n",
      "1 load_balancer_fee 2.0 2\n",
      "1 load_balancer_fee 3.0 3\n",
      "1 load_balancer_fee 4.0 4\n",
      "1 load_balancer_fee 5.0 5\n",
      "1 load_balancer_fee 6.0 6\n",
      "1 aks_cluster_fee 668 668\n",
      "1 aks_cluster_fee 738 738\n",
      "1 aks_cluster_fee 1366 1366\n",
      "1 aks_cluster_fee 1576 1576\n",
      "1 aks_cluster_fee 2559 2559\n",
      "1 aks_cluster_fee 2040 2040\n",
      "1 aks_cluster_fee 3812 3812\n",
      "1 aks_cluster_fee 184 184\n",
      "1 aks_cluster_fee 4710 4710\n",
      "1 aks_cluster_fee 6320 6320\n",
      "1 function_app_fee 139378.0 139378\n",
      "1 function_app_fee 171226.0 342452\n",
      "1 function_app_fee 440456.0 1321368\n",
      "1 function_app_fee 533183.0 2132732\n",
      "1 sql_database_fee 1.0 1\n",
      "1 sql_database_fee 2.0 2\n",
      "1 sql_database_fee 3.0 3\n",
      "1 sql_database_fee 4.0 4\n",
      "1 snapshot_storage_fee 10199.0 10199\n",
      "1 snapshot_storage_fee 71086.0 71086\n",
      "1 snapshot_storage_fee 172215.0 172215\n",
      "1 snapshot_storage_fee 344280.0 344280\n",
      "1 app_service_fee 900 30\n",
      "1 app_service_fee 26450 230\n",
      "1 app_service_fee 96123 537\n",
      "1 app_service_fee 155236 788\n",
      "1 app_service_fee 5618 106\n",
      "1 app_service_fee 32400 360\n",
      "1 app_service_fee 140454 918\n",
      "1 app_service_fee 282752 1504\n",
      "1 app_service_fee 3468 102\n",
      "1 app_service_fee 75264 672\n",
      "1 app_service_fee 173889 1251\n",
      "1 app_service_fee 415152 2232\n",
      "1 app_service_fee 1936 88\n",
      "1 app_service_fee 72200 760\n",
      "1 app_service_fee 346800 2040\n",
      "1 app_service_fee 553536 2976\n",
      "2 compute_vm_fee 2556.0 639\n",
      "2 compute_vm_fee 1496.0 748\n",
      "2 compute_vm_fee 1228.0 921\n",
      "2 compute_vm_fee 1008.0 1008\n",
      "2 managed_disk_fee 22955.0 22955\n",
      "2 managed_disk_fee 12638.0 12638\n",
      "2 managed_disk_fee 9654.0 9654\n",
      "2 app_service_fee 101*uksouth 101\n",
      "2 app_service_fee 198*uksouth 396\n",
      "2 app_service_fee 109*ukwest 218\n",
      "2 app_service_fee 176*ukwest 704\n",
      "2 app_service_fee 111*westeurope 333\n",
      "2 app_service_fee 141*westeurope 846\n",
      "2 app_service_fee 44*northeurope 176\n",
      "2 app_service_fee 177*northeurope 1416\n",
      "2 app_service_fee 22*eastus 110\n",
      "2 app_service_fee 120*eastus 1200\n",
      "2 app_service_fee 43*westus2 258\n",
      "2 app_service_fee 131*westus2 1572\n",
      "3 compute_vm_fee 320.0 320.0\n",
      "3 compute_vm_fee 2132.0 2132.0\n",
      "3 compute_vm_fee 5325.0 5325.0\n",
      "3 compute_vm_fee 8172.0 8172.0\n",
      "3 compute_vm_fee 162.8 162.8\n",
      "3 compute_vm_fee 998.8000000000001 998.8000000000001\n",
      "3 compute_vm_fee 5563.799999999999 5563.8\n",
      "3 compute_vm_fee 8769.2 8769.2\n",
      "3 managed_disk_fee 0.0 1\n",
      "3 managed_disk_fee 0.0 42\n",
      "3 managed_disk_fee 0.0 135\n",
      "3 managed_disk_fee 0.0 248\n",
      "3 managed_disk_fee 0 22\n",
      "3 managed_disk_fee 0 108\n",
      "3 managed_disk_fee 0 270\n",
      "3 managed_disk_fee 0 432\n",
      "3 managed_disk_fee 0 33\n",
      "3 managed_disk_fee 0 252\n",
      "3 managed_disk_fee 0 414\n",
      "3 managed_disk_fee 0 684\n",
      "3 managed_disk_fee 0 32\n",
      "3 managed_disk_fee 0 240\n",
      "3 managed_disk_fee 0 540\n",
      "3 managed_disk_fee 0 864\n",
      "3 data_ingress_fee 11739.699999999999 16771.0\n",
      "3 data_ingress_fee 97070.4 138672.0\n",
      "3 data_ingress_fee 7199.499999999999 11313.500000000002\n",
      "3 data_ingress_fee 57598.799999999996 90512.40000000001\n",
      "3 data_ingress_fee 23552.899999999998 40376.4\n",
      "3 data_ingress_fee 104907.59999999999 179841.6\n",
      "3 data_ingress_fee 10581.9 19652.100000000002\n",
      "3 data_ingress_fee 80336.2 149195.80000000002\n",
      "3 data_ingress_fee 19548.899999999998 39097.799999999996\n",
      "3 data_ingress_fee 107793.0 215586.0\n",
      "3 data_ingress_fee 24501.399999999998 52503.0\n",
      "3 data_ingress_fee 117126.79999999999 250986.0\n",
      "3 storage_transaction_fee -1 1\n",
      "3 storage_transaction_fee -2 2\n",
      "3 storage_transaction_fee -3 3\n",
      "3 storage_transaction_fee -4 4\n",
      "3 load_balancer_fee -1 1\n",
      "3 load_balancer_fee -2 2\n",
      "3 load_balancer_fee -3 3\n",
      "3 load_balancer_fee -4 4\n",
      "3 function_app_fee 165914191 165914191\n",
      "3 function_app_fee 524914805 1049829610\n",
      "3 function_app_fee 643079721 1929239163\n",
      "3 function_app_fee 904806884 3619227536\n",
      "3 function_app_fee 54445534 54445534\n",
      "3 function_app_fee 1105388298 2210776596\n",
      "3 function_app_fee 1265148576 3795445728\n",
      "3 function_app_fee 1691854262 6767417048\n",
      "3 function_app_fee 421319322 421319322\n",
      "3 function_app_fee 1679450724 3358901448\n",
      "3 function_app_fee 1864265754 5592797262\n",
      "3 function_app_fee 2688084390 10752337560\n",
      "3 function_app_fee 131680480 131680480\n",
      "3 function_app_fee 2231288164 4462576328\n",
      "3 function_app_fee 2711444608 8134333824\n",
      "3 function_app_fee 3667322924 14669291696\n",
      "3 function_app_fee 997218380 997218380\n",
      "3 function_app_fee 2665956130 5331912260\n",
      "3 function_app_fee 2967723385 8903170155\n",
      "3 function_app_fee 4348770730 17395082920\n",
      "3 function_app_fee 1480317144 1480317144\n",
      "3 function_app_fee 3285488196 6570976392\n",
      "3 function_app_fee 3790016646 11370049938\n",
      "3 function_app_fee 5839803402 23359213608\n",
      "3 sql_database_fee 4*hours 4\n",
      "3 sql_database_fee 132*hours 132\n",
      "3 sql_database_fee 0 0\n",
      "3 sql_database_fee 376*hours 376\n",
      "3 sql_database_fee 15*hours 15\n",
      "3 sql_database_fee 552*hours 552\n",
      "3 sql_database_fee 8*hours 8\n",
      "3 sql_database_fee 760*hours 760\n",
      "3 snapshot_storage_fee snapshot_storage_volume_gb 1\n",
      "3 snapshot_storage_fee 2*snapshot_storage_volume_gb 2\n",
      "3 snapshot_storage_fee 3*snapshot_storage_volume_gb 3\n",
      "3 snapshot_storage_fee 4*snapshot_storage_volume_gb 4\n",
      "3 snapshot_storage_fee 5*snapshot_storage_volume_gb 5\n",
      "3 snapshot_storage_fee 6*snapshot_storage_volume_gb 6\n",
      "3 app_service_fee -1 1\n",
      "3 app_service_fee -2 2\n",
      "3 app_service_fee -3 3\n",
      "3 app_service_fee -4 4\n",
      "3 app_service_fee 0 5\n",
      "3 app_service_fee -6 6\n",
      "4 compute_vm_fee 1 1\n",
      "4 compute_vm_fee 2 2\n",
      "4 gpu_compute_fee 6 6\n",
      "4 gpu_compute_fee 0 0\n",
      "4 managed_disk_fee 59 59\n",
      "4 managed_disk_fee 80 80\n",
      "4 managed_disk_fee 30 30\n",
      "4 managed_disk_fee 12 12\n",
      "4 storage_transaction_fee 491.0 491.0\n",
      "4 storage_transaction_fee 786.0 786.0\n",
      "4 storage_transaction_fee 609.0 609.0\n",
      "4 storage_transaction_fee 480.0 480.0\n",
      "4 storage_transaction_fee 533.5 533.5\n",
      "4 storage_transaction_fee 954.8000000000001 954.8000000000001\n",
      "4 storage_transaction_fee 531.3 531.3000000000001\n",
      "4 storage_transaction_fee 391.6 391.6\n",
      "4 storage_transaction_fee 589.1999999999999 589.1999999999999\n",
      "4 storage_transaction_fee 928.8 928.8\n",
      "4 storage_transaction_fee 507.6 507.59999999999997\n",
      "4 storage_transaction_fee 172.79999999999998 172.79999999999998\n",
      "4 storage_transaction_fee 638.3000000000001 638.3000000000001\n",
      "4 storage_transaction_fee 1193.4 1193.4\n",
      "4 storage_transaction_fee 1014.0 1014.0\n",
      "4 storage_transaction_fee 358.8 358.8\n",
      "4 sql_database_fee 1119 1119\n",
      "4 sql_database_fee 15528 15528\n",
      "4 snapshot_storage_fee 1 1\n",
      "4 snapshot_storage_fee 2 2\n",
      "4 snapshot_storage_fee 3 3\n",
      "4 snapshot_storage_fee 4 4\n",
      "4 app_service_fee 44 44\n",
      "4 app_service_fee 292 292\n",
      "4 app_service_fee 585 585\n"
     ]
    }
   ],
   "source": [
    "with open(path, \"r\", encoding=\"utf-8\") as f:\n",
    "    records = [json.loads(line) for line in f if line.strip()]\n",
    "\n",
    "master_evals = {}\n",
    "count_c = 0\n",
    "count_w = 0\n",
    "for record_id, record in enumerate(records):\n",
    "    \n",
    "    content, charges = record\n",
    "    charge_category_variables = {k: v['variables_used'] for k, v in charges.items()}\n",
    "    master_evals[record_id] = {}\n",
    "    charge_variables = {}\n",
    "    all_variables = {}\n",
    "    for charge, variables in charge_category_variables.items():\n",
    "        master_evals[record_id][charge] = []\n",
    "        # print(record_id, charge)\n",
    "        if charge not in functions[record_id].keys():\n",
    "            continue\n",
    "        generated_func, ground_truth_func, graph = functions[record_id][charge]\n",
    "        code_str = charges[charge]['code']\n",
    "        tests = create_tests(code_str)\n",
    "        ground_truth_func_evals = {}\n",
    "        generated_func_test_evals = {}\n",
    "        for condition_no, test in enumerate(tests):\n",
    "            ground_truth_func_evals[condition_no] = [coerce_literals(test) for test in cartesian_combine_lists(*test)]\n",
    "            generated_func_test_evals[condition_no] = symbolize_records([coerce_literals(test) for test in cartesian_combine_lists(*test)])\n",
    "\n",
    "        ground_truth_computed_result = []\n",
    "        symbolic_func_computed_result = []\n",
    "        for i, condition in ground_truth_func_evals.items():\n",
    "            for test in condition:\n",
    "                try:\n",
    "                    result = ground_truth_func(**test)\n",
    "                except Exception as e:\n",
    "                    count_w += 1\n",
    "                    # print('!!!', 'ground truth', e)\n",
    "                    continue\n",
    "                # if charge == 'function_app_fee' and record_id == 4:\n",
    "                #     print(test, result)\n",
    "                ground_truth_computed_result.append(result)\n",
    "\n",
    "        for i, condition in generated_func_test_evals.items():\n",
    "            for test in condition:\n",
    "                try:\n",
    "                    result = generated_func(**test)\n",
    "                except Exception as e:\n",
    "                    count_w += 1\n",
    "                    # print('!!!', e)\n",
    "                    continue\n",
    "                # if charge == 'function_app_fee' and record_id == 4:\n",
    "                #     print(\">\",test, result)\n",
    "                symbolic_func_computed_result.append(result)\n",
    "        exception_list = [(0, 'compute_vm_fee'), \n",
    "                        (0, 'data_ingress_fee'), \n",
    "                        (1, 'storage_transaction_fee'),\n",
    "                        (1, 'data_ingress_fee'),\n",
    "                        (1, 'compute_vm_fee'),\n",
    "                        (1, 'gpu_compute_fee'),\n",
    "                        (1, 'public_ip_fee'),\n",
    "                        (2, 'public_ip_fee'),\n",
    "                        (2, 'function_app_fee'),\n",
    "                        (4, 'data_ingress_fee'),\n",
    "                        (2, 'data_egress_fee'),\n",
    "                        (2, 'aks_cluster_fee'),\n",
    "                        (4, 'function_app_fee')]\n",
    "        for symr, gtr in zip(symbolic_func_computed_result, ground_truth_computed_result):\n",
    "            if isinstance(symr, float):\n",
    "                master_evals[record_id][charge].append([symr, gtr, round(symr, 6) == round(gtr, 6)])\n",
    "            else:\n",
    "                master_evals[record_id][charge].append([symr, gtr, symr == gtr])\n",
    "            if (record_id, charge) not in exception_list:    \n",
    "                # print(record_id, charge)\n",
    "                if isinstance(symr, float):\n",
    "                    if round(symr, 6) != round(gtr, 6):\n",
    "                        print(record_id, charge, symr, gtr)\n",
    "                        count_w += 1\n",
    "                elif symr != gtr:\n",
    "                    print(record_id, charge, symr, gtr)\n",
    "                    count_w += 1\n",
    "\n",
    "                if isinstance(symr, float):\n",
    "                    if round(symr, 6) == round(gtr, 6):\n",
    "                        print(record_id, charge, symr, gtr)\n",
    "                        count_c += 1\n",
    "                elif symr == gtr:\n",
    "                    print(record_id, charge, symr, gtr)\n",
    "                    count_c += 1\n"
   ]
  },
  {
   "cell_type": "code",
   "execution_count": 76,
   "id": "32afca73",
   "metadata": {},
   "outputs": [
    {
     "data": {
      "text/plain": [
       "(92, 320)"
      ]
     },
     "execution_count": 76,
     "metadata": {},
     "output_type": "execute_result"
    }
   ],
   "source": [
    "count_c, count_w"
   ]
  },
  {
   "cell_type": "code",
   "execution_count": 78,
   "id": "fe3e0c0e",
   "metadata": {},
   "outputs": [
    {
     "data": {
      "text/plain": [
       "dict_keys(['managed_disk_fee', 'data_egress_fee', 'public_ip_fee', 'sql_database_fee', 'snapshot_storage_fee'])"
      ]
     },
     "execution_count": 78,
     "metadata": {},
     "output_type": "execute_result"
    }
   ],
   "source": [
    "functions[0].keys()"
   ]
  },
  {
   "cell_type": "code",
   "execution_count": 136,
   "id": "1daa48f8",
   "metadata": {},
   "outputs": [
    {
     "data": {
      "text/plain": [
       "<function _lambdifygenerated(region, function_exec_ms)>"
      ]
     },
     "execution_count": 136,
     "metadata": {},
     "output_type": "execute_result"
    }
   ],
   "source": [
    "functions[4]['function_app_fee'][0]"
   ]
  },
  {
   "cell_type": "code",
   "execution_count": null,
   "id": "87c6d55f",
   "metadata": {},
   "outputs": [
    {
     "data": {
      "text/latex": [
       "$\\displaystyle storage_{volume} \\left(\\begin{cases} 1 & \\text{for}\\: lrs = redundancy \\\\\\begin{cases} 2 & \\text{for}\\: gzrs = redundancy \\\\\\begin{cases} 3 & \\text{for}\\: grs = redundancy \\\\\\begin{cases} 4 & \\text{for}\\: redundancy = zrs \\\\0 & \\text{otherwise} \\end{cases} & \\text{otherwise} \\end{cases} & \\text{otherwise} \\end{cases} & \\text{otherwise} \\end{cases}\\right)$"
      ],
      "text/plain": [
       "storage_volume*Piecewise((1, Eq(lrs, redundancy)), (Piecewise((2, Eq(gzrs, redundancy)), (Piecewise((3, Eq(grs, redundancy)), (Piecewise((4, Eq(redundancy, zrs)), (0, True)), True)), True)), True))"
      ]
     },
     "execution_count": 141,
     "metadata": {},
     "output_type": "execute_result"
    }
   ],
   "source": [
    "import pickle \n",
    "\n",
    "# with open('result_4.pkl', 'wb') as f:\n",
    "#     pickle.dump(result, f)\n",
    "\n",
    "# with open('result_4.pkl', 'rb') as f:\n",
    "#     result = pickle.load(f)\n",
    "# compose_expression(result['4']['snapshot_storage_fee']['snapshot_storage_fee']['computation_graph'])"
   ]
  },
  {
   "cell_type": "code",
   "execution_count": 64,
   "id": "b4b047b1",
   "metadata": {},
   "outputs": [
    {
     "data": {
      "text/plain": [
       "{'type': 'BINARY_OPERATION',\n",
       " 'operator': 'MULTIPLY',\n",
       " 'left': {'type': 'VARIABLE',\n",
       "  'name': 'data_ingress_gb',\n",
       "  'description': 'Inbound data transferred to Azure',\n",
       "  'unit': 'GBP'},\n",
       " 'right': {'type': 'CONDITIONAL',\n",
       "  'condition': {'type': 'COMPARISON',\n",
       "   'operator': 'EQUAL_TO',\n",
       "   'left': {'type': 'VARIABLE',\n",
       "    'name': 'region',\n",
       "    'description': 'Azure region where resources are deployed',\n",
       "    'unit': 'CENTIMETERS'},\n",
       "   'right': {'type': 'CATEGORICAL_VALUE',\n",
       "    'value': 'UK South',\n",
       "    'description': 'Region with 1.0 × GB ingress fee'}},\n",
       "  'if_true': {'type': 'VALUE',\n",
       "   'value': 1.0,\n",
       "   'description': 'Multiplier for UK South region',\n",
       "   'unit': 'EUROS'},\n",
       "  'if_false': {'type': 'CONDITIONAL',\n",
       "   'condition': {'type': 'COMPARISON',\n",
       "    'operator': 'EQUAL_TO',\n",
       "    'left': {'type': 'VARIABLE',\n",
       "     'name': 'region',\n",
       "     'description': 'Azure region where resources are deployed',\n",
       "     'unit': 'CENTIMETERS'},\n",
       "    'right': {'type': 'CATEGORICAL_VALUE',\n",
       "     'value': 'UK West',\n",
       "     'description': 'Region with 2.0 × GB ingress fee'}},\n",
       "   'if_true': {'type': 'VALUE',\n",
       "    'value': 2.0,\n",
       "    'description': 'Multiplier for UK West region',\n",
       "    'unit': 'EUROS'},\n",
       "   'if_false': {'type': 'CONDITIONAL',\n",
       "    'condition': {'type': 'COMPARISON',\n",
       "     'operator': 'EQUAL_TO',\n",
       "     'left': {'type': 'VARIABLE',\n",
       "      'name': 'region',\n",
       "      'description': 'Azure region where resources are deployed',\n",
       "      'unit': 'CENTIMETERS'},\n",
       "     'right': {'type': 'CATEGORICAL_VALUE',\n",
       "      'value': 'West Europe',\n",
       "      'description': 'Region with 3.0 × GB ingress fee'}},\n",
       "    'if_true': {'type': 'VALUE',\n",
       "     'value': 3.0,\n",
       "     'description': 'Multiplier for West Europe region',\n",
       "     'unit': 'EUROS'},\n",
       "    'if_false': {'type': 'CONDITIONAL',\n",
       "     'condition': {'type': 'COMPARISON',\n",
       "      'operator': 'EQUAL_TO',\n",
       "      'left': {'type': 'VARIABLE',\n",
       "       'name': 'region',\n",
       "       'description': 'Azure region where resources are deployed',\n",
       "       'unit': 'CENTIMETERS'},\n",
       "      'right': {'type': 'CATEGORICAL_VALUE',\n",
       "       'value': 'North Europe',\n",
       "       'description': 'Region with 4.0 × GB ingress fee'}},\n",
       "     'if_true': {'type': 'VALUE',\n",
       "      'value': 4.0,\n",
       "      'description': 'Multiplier for North Europe region',\n",
       "      'unit': 'EUROS'},\n",
       "     'if_false': {'type': 'CONDITIONAL',\n",
       "      'condition': {'type': 'COMPARISON',\n",
       "       'operator': 'EQUAL_TO',\n",
       "       'left': {'type': 'VARIABLE',\n",
       "        'name': 'region',\n",
       "        'description': 'Azure region where resources are deployed',\n",
       "        'unit': 'CENTIMETERS'},\n",
       "       'right': {'type': 'CATEGORICAL_VALUE',\n",
       "        'value': 'East US',\n",
       "        'description': 'Region with 5.0 × GB ingress fee'}},\n",
       "      'if_true': {'type': 'VALUE',\n",
       "       'value': 5.0,\n",
       "       'description': 'Multiplier for East US region',\n",
       "       'unit': 'EUROS'},\n",
       "      'if_false': {'type': 'CONDITIONAL',\n",
       "       'condition': {'type': 'COMPARISON',\n",
       "        'operator': 'EQUAL_TO',\n",
       "        'left': {'type': 'VARIABLE',\n",
       "         'name': 'region',\n",
       "         'description': 'Azure region where resources are deployed',\n",
       "         'unit': 'CENTIMETERS'},\n",
       "        'right': {'type': 'CATEGORICAL_VALUE',\n",
       "         'value': 'West US 2',\n",
       "         'description': 'Region with 6.0 × GB ingress fee'}},\n",
       "       'if_true': {'type': 'VALUE',\n",
       "        'value': 6.0,\n",
       "        'description': 'Multiplier for West US 2 region',\n",
       "        'unit': 'EUROS'},\n",
       "       'if_false': {'type': 'VALUE',\n",
       "        'value': 0.0,\n",
       "        'description': 'No applicable region (should not occur per policy)',\n",
       "        'unit': 'EUROS'}}}}}}}}"
      ]
     },
     "execution_count": 64,
     "metadata": {},
     "output_type": "execute_result"
    }
   ],
   "source": [
    "functions[1]['data_ingress_fee'][2]"
   ]
  },
  {
   "cell_type": "code",
   "execution_count": 65,
   "id": "1573ee07",
   "metadata": {},
   "outputs": [
    {
     "data": {
      "text/plain": [
       "\"def compute_charge(region, data_ingress_gb):\\n    if region == 'uk_south' and 0.0 <= data_ingress_gb < 5869.6: return 1 * data_ingress_gb * 1.0\\n    elif region == 'uk_south' and 5869.6 <= data_ingress_gb < 36747.3: return 2 * data_ingress_gb * 1.0\\n    elif region == 'uk_south' and 36747.3 <= data_ingress_gb < 94677.5: return 3 * data_ingress_gb * 1.0\\n    elif region == 'uk_south' and 94677.5 <= data_ingress_gb < 100000.0: return 4 * data_ingress_gb * 1.0\\n    elif region == 'uk_west' and 0.0 <= data_ingress_gb < 5869.6: return 1 * data_ingress_gb * 1.1\\n    elif region == 'uk_west' and 5869.6 <= data_ingress_gb < 36747.3: return 2 * data_ingress_gb * 1.1\\n    elif region == 'uk_west' and 36747.3 <= data_ingress_gb < 94677.5: return 3 * data_ingress_gb * 1.1\\n    elif region == 'uk_west' and 94677.5 <= data_ingress_gb < 100000.0: return 4 * data_ingress_gb * 1.1\\n    elif region == 'westeurope' and 0.0 <= data_ingress_gb < 5869.6: return 1 * data_ingress_gb * 1.2\\n    elif region == 'westeurope' and 5869.6 <= data_ingress_gb < 36747.3: return 2 * data_ingress_gb * 1.2\\n    elif region == 'westeurope' and 36747.3 <= data_ingress_gb < 94677.5: return 3 * data_ingress_gb * 1.2\\n    elif region == 'westeurope' and 94677.5 <= data_ingress_gb < 100000.0: return 4 * data_ingress_gb * 1.2\\n    elif region == 'northeurope' and 0.0 <= data_ingress_gb < 5869.6: return 1 * data_ingress_gb * 1.3\\n    elif region == 'northeurope' and 5869.6 <= data_ingress_gb < 36747.3: return 2 * data_ingress_gb * 1.3\\n    elif region == 'northeurope' and 36747.3 <= data_ingress_gb < 94677.5: return 3 * data_ingress_gb * 1.3\\n    elif region == 'northeurope' and 94677.5 <= data_ingress_gb < 100000.0: return 4 * data_ingress_gb * 1.3\\n    elif region == 'eastus' and 0.0 <= data_ingress_gb < 5869.6: return 1 * data_ingress_gb * 1.4\\n    elif region == 'eastus' and 5869.6 <= data_ingress_gb < 36747.3: return 2 * data_ingress_gb * 1.4\\n    elif region == 'eastus' and 36747.3 <= data_ingress_gb < 94677.5: return 3 * data_ingress_gb * 1.4\\n    elif region == 'eastus' and 94677.5 <= data_ingress_gb < 100000.0: return 4 * data_ingress_gb * 1.4\\n    elif region == 'westus2' and 0.0 <= data_ingress_gb < 5869.6: return 1 * data_ingress_gb * 1.5\\n    elif region == 'westus2' and 5869.6 <= data_ingress_gb < 36747.3: return 2 * data_ingress_gb * 1.5\\n    elif region == 'westus2' and 36747.3 <= data_ingress_gb < 94677.5: return 3 * data_ingress_gb * 1.5\\n    elif region == 'westus2' and 94677.5 <= data_ingress_gb < 100000.0: return 4 * data_ingress_gb * 1.5\\n    else: raise ValueError(f'region or data_ingress_gb is out of expected range')\""
      ]
     },
     "execution_count": 65,
     "metadata": {},
     "output_type": "execute_result"
    }
   ],
   "source": [
    "records[1][1]['data_ingress_fee']['code']"
   ]
  },
  {
   "cell_type": "code",
   "execution_count": null,
   "id": "5d31ce86",
   "metadata": {},
   "outputs": [
    {
     "data": {
      "text/plain": [
       "'# Microsoft Azure Cloud Pricing Policy Document\\n\\nMicrosoft Azure Pricing Policy\\n\\nThis document provides an overview of the fee structure and pricing policies for Microsoft Azure cloud services, effective as of the current date. It outlines the terms and conditions that govern the pricing of Azure services in the United Kingdom (GBP) and is intended to provide clarity on the costs associated with utilizing Azure products and services. By utilizing Azure, customers agree to be bound by the terms and conditions outlined in this policy.\\n\\n## **Compute VM Pricing: Hourly and Monthly Charges for Virtual Machine Instances**\\n\\n<table border=\"1\" cellspacing=\"0\" cellpadding=\"6\">\\n  <thead>\\n    <tr>\\n      <th>Spot Flag</th>\\n      <th>Charge</th>\\n    </tr>\\n  </thead>\\n  <tbody>\\n    <tr>\\n      <td>True</td>\\n      <td>£1</td>\\n    </tr>\\n    <tr>\\n      <td>False</td>\\n      <td>£2</td>\\n    </tr>\\n  </tbody>\\n</table>\\n\\n## **GPU Compute Fee Pricing**\\n\\nThis section outlines the pricing for GPU-accelerated compute services in\\n\\n<table border=\"1\" cellspacing=\"0\" cellpadding=\"6\">\\n  <thead>\\n    <tr>\\n      <th>GPU Units</th>\\n      <th>Linux</th>\\n      <th>Windows</th>\\n    </tr>\\n  </thead>\\n  <tbody>\\n    <tr>\\n      <td>0 - 7</td>\\n      <td>$2 per GPU</td>\\n      <td>$4 per GPU</td>\\n    </tr>\\n  </tbody>\\n</table>\\n\\n## Managed Disk Fees\\n------------------\\n\\nPricing for Managed Disks in Microsoft Azure, including Standard and Premium\\n\\n**Persistent Disk Pricing**\\n\\nThe Persistent Disk Pricing charge is a fee associated with the usage of persistent disks in Microsoft Azure. This charge is calculated based on the number of disks provisioned by the customer.\\n\\nThe charge is calculated as follows: \\n\\n- For 5 disks or fewer, the charge is 4 times the number of disks, in GBP.\\n- For 26 disks, the charge is 3 times the number of disks, in GBP.\\n- For 56 disks, the charge is 2 times the number of disks, in GBP.\\n- For 64 disks or more, the charge is 1 times the number of disks, in GBP.\\n\\n< table >\\n  < tr >\\n    < th > Disk Count </ th >\\n    < th > Charge Multiplier </ th >\\n  </ tr >\\n  < tr >\\n    < td > 0-5 </ td >\\n    < td > 4 </ td >\\n  </ tr >\\n  < tr >\\n    < td > 5-26 </ td >\\n    < td > 3 </ td >\\n  </ tr >\\n  < tr >\\n    < td > 26-56 </ td >\\n    < td > 2 </ td >\\n  </ tr >\\n  < tr >\\n    < td > 56-64 </ td >\\n    < td > 1 </ td >\\n  </ tr >\\n  < tr >\\n    < td > 64+ </ td >\\n    < td > 1 </ td >\\n  </ tr >\\n</ table >\\n\\n## **Data Egress Fees: Charges for Data Downloaded from Microsoft Azure Services**\\n\\n<table border=\"1\" cellspacing=\"0\" cellpadding=\"6\">\\n  <thead>\\n    <tr>\\n      <th>Location</th>\\n      <th>Charge (GBP)</th>\\n    </tr>\\n  </thead>\\n  <tbody>\\n    <tr>\\n      <td>eastus</td>\\n      <td>£1.00</td>\\n    </tr>\\n    <tr>\\n      <td>northeurope</td>\\n      <td>£2.00</td>\\n    </tr>\\n    <tr>\\n      <td>westus2</td>\\n      <td>£3.00</td>\\n    </tr>\\n    <tr>\\n      <td>westeurope</td>\\n      <td>£4.00</td>\\n    </tr>\\n    <tr>\\n      <td>uk_south</td>\\n      <td>£5.00</td>\\n    </tr>\\n    <tr>\\n      <td>uk_west</td>\\n      <td>£6.00</td>\\n    </tr>\\n  </tbody>\\n</table>\\n\\n## Data Ingress Fee: Charges for Data Transferred Inbound to Azure Resources and Services.\\n\\n<table border=\"1\" cellspacing=\"0\" cellpadding=\"6\">\\n  <thead>\\n    <tr>\\n      <th>Geo Region</th>\\n      <th>Charge (GBP)</th>\\n    </tr>\\n  </thead>\\n  <tbody>\\n    <tr>\\n      <td>West US 2</td>\\n      <td>£0.74</td>\\n    </tr>\\n    <tr>\\n      <td>North Europe</td>\\n      <td>£1.48</td>\\n    </tr>\\n    <tr>\\n      <td>East US</td>\\n      <td>£2.22</td>\\n    </tr>\\n    <tr>\\n      <td>West Europe</td>\\n      <td>£2.96</td>\\n    </tr>\\n    <tr>\\n      <td>UK West</td>\\n      <td>£3.70</td>\\n    </tr>\\n    <tr>\\n      <td>UK South</td>\\n      <td>£4.44</td>\\n    </tr>\\n  </tbody>\\n</table>\\n\\n## **Storage Transaction Fees: Charges for Operations on Azure Storage Resources**\\n\\n<table border=\"1\" cellspacing=\"0\" cellpadding=\"6\">\\n  <thead>\\n    <tr>\\n      <th>Storage Operations (M)</th>\\n      <th>LRS</th>\\n      <th>ZRS</th>\\n      <th>GRS</th>\\n      <th>GZRS</th>\\n    </tr>\\n  </thead>\\n  <tbody>\\n    <tr>\\n      <td>0 – 134.99</td>\\n      <td>$4.00 per million</td>\\n      <td>$4.40 per million</td>\\n      <td>$4.80 per million</td>\\n      <td>$5.20 per million</td>\\n    </tr>\\n    <tr>\\n      <td>135 – 372.79</td>\\n      <td>$3.00 per million</td>\\n      <td>$3.30 per million</td>\\n      <td>$3.60 per million</td>\\n      <td>$3.90 per million</td>\\n    </tr>\\n    <tr>\\n      <td>372.8 – 479.49</td>\\n      <td>$2.00 per million</td>\\n      <td>$2.20 per million</td>\\n      <td>$2.40 per million</td>\\n      <td>$2.60 per million</td>\\n    </tr>\\n    <tr>\\n      <td>479.5 – 500</td>\\n      <td>$1.00 per million</td>\\n      <td>$1.10 per million</td>\\n      <td>$1.20 per million</td>\\n      <td>$1.30 per million</td>\\n    </tr>\\n  </tbody>\\n</table>\\n\\n## Public IP Fee: Pricing for Public IP Addresses in Azure\\n\\n**Regional Pricing Charge**\\n\\nThis charge applies to customers based on the geographic region in which their Azure resources are deployed. The charge is calculated based on the geo_region attribute of the resource.\\n\\nThe charge is calculated as follows:\\n\\n- For resources deployed in the westus2 region, the charge is £1.\\n- For resources deployed in the westeurope region, the charge is £2.\\n- For resources deployed in the eastus region, the charge is £3.\\n- For resources deployed in the northeurope region, the charge is £4.\\n- For resources deployed in the uk_west region, the charge is £5.\\n- For resources deployed in the uk_south region, the charge is £6.\\n\\n**Pricing Breakdown**\\n\\nThe Regional Pricing Charge is a per-resource charge and applies to all Azure resources deployed in the specified regions. The charge is used to support the operation and maintenance of Azure infrastructure in these regions, including data storage, network connectivity, and security. By applying this charge, customers can help offset the costs associated with deploying and running their applications in these regions.\\n\\n## **Load Balancer Pricing**\\n\\nThis section outlines the costs associated with using Azure Load Balancer services.\\n\\n<table border=\"1\" cellspacing=\"0\" cellpadding=\"6\">\\n  <thead>\\n    <tr>\\n      <th>Location</th>\\n      <th>Load Balancer Fee (per rule)</th>\\n    </tr>\\n  </thead>\\n  <tbody>\\n    <tr>\\n      <td>UK South</td>\\n      <td>£1 for 0-165 rules, £2 for 166-199 rules</td>\\n    </tr>\\n    <tr>\\n      <td>UK West</td>\\n      <td>£2 for 0-165 rules, £4 for 166-199 rules</td>\\n    </tr>\\n    <tr>\\n      <td>West Europe</td>\\n      <td>£3 for 0-165 rules, £6 for 166-199 rules</td>\\n    </tr>\\n    <tr>\\n      <td>North Europe</td>\\n      <td>£4 for 0-165 rules, £8 for 166-199 rules</td>\\n    </tr>\\n    <tr>\\n      <td>East US</td>\\n      <td>£5 for 0-165 rules, £10 for 166-199 rules</td>\\n    </tr>\\n    <tr>\\n      <td>West US 2</td>\\n      <td>£6 for 0-165 rules, £12 for 166-199 rules</td>\\n    </tr>\\n  </tbody>\\n</table>\\n\\n## **AKS Cluster Pricing**\\n\\nThis section outlines the charges associated with Azure Kubernetes Service (AKS)\\n\\n<table border=\"1\" cellspacing=\"0\" cellpadding=\"6\">\\n  <thead>\\n    <tr>\\n      <th>Azure Kubernetes Service (AKS) Nodes</th>\\n      <th>UK South</th>\\n      <th>UK West</th>\\n      <th>West Europe</th>\\n      <th>North Europe</th>\\n      <th>East US</th>\\n      <th>West US 2</th>\\n    </tr>\\n  </thead>\\n  <tbody>\\n    <tr>\\n      <td>0 - 314</td>\\n      <td>£1 per node</td>\\n      <td>£2 per node</td>\\n      <td>£3 per node</td>\\n      <td>£4 per node</td>\\n      <td>£5 per node</td>\\n      <td>£6 per node</td>\\n    </tr>\\n    <tr>\\n      <td>315 - 834</td>\\n      <td>£2 per node</td>\\n      <td>£4 per node</td>\\n      <td>£6 per node</td>\\n      <td>£8 per node</td>\\n      <td>£10 per node</td>\\n      <td>£12 per node</td>\\n    </tr>\\n    <tr>\\n      <td>835 - 1000</td>\\n      <td>£3 per node</td>\\n      <td>£6 per node</td>\\n      <td>£9 per node</td>\\n      <td>£12 per node</td>\\n      <td>£15 per node</td>\\n      <td>£18 per node</td>\\n    </tr>\\n  </tbody>\\n</table>\\n\\n## **Function App Pricing: Charges for Running and Scaling Azure Functions**\\n\\nFunction App Fee\\n\\nThe Function App Fee is a charge applied to Function Apps in Microsoft Azure. This fee is based on the duration of the function execution in milliseconds, and the geographic region where the function is executed. The charge is calculated as the product of the duration of the function execution and a rate that varies by geographic region.\\n\\nThe Function App Fee is applicable to all Function Apps in Microsoft Azure, and is used to recover the costs associated with providing the Function App service. The fee is charged in GBP and is calculated as follows:\\n\\n<table>\\n  <tr>\\n    <th>Geo Region</th>\\n    <th>Duration (ms)</th>\\n    <th>Rate</th>\\n    <th>Charge</th>\\n  </tr>\\n  <tr>\\n    <td>uk_south</td>\\n    <td>[0.1, 37603.9)</td>\\n    <td>4.0</td>\\n    <td>4.0 × duration_ms</td>\\n  </tr>\\n  <tr>\\n    <td>uk_south</td>\\n    <td>[37603.9, 436119.4)</td>\\n    <td>3.0</td>\\n    <td>3.0 × duration_ms</td>\\n  </tr>\\n  <tr>\\n    <td>uk_south</td>\\n    <td>[436119.4, 592816.2)</td>\\n    <td>2.0</td>\\n    <td>2.0 × duration_ms</td>\\n  </tr>\\n  <tr>\\n    <td>uk_south</td>\\n    <td>[592816.2, 600000.0)</td>\\n    <td>1.0</td>\\n    <td>1.0 × duration_ms</td>\\n  </tr>\\n  <tr>\\n    <td>uk_west</td>\\n    <td>[0.1, 37603.9)</td>\\n    <td>4.4</td>\\n    <td>4.4 × duration_ms</td>\\n  </tr>\\n  <tr>\\n    <td>uk_west</td>\\n    <td>[37603.9, 436119.4)</td>\\n    <td>3.3</td>\\n    <td>3.3 × duration_ms</td>\\n  </tr>\\n  <\\n\\n## **Azure SQL Database Pricing: Database Services and Compute Costs**\\n\\n<table border=\"1\" cellspacing=\"0\" cellpadding=\"6\">\\n  <thead>\\n    <tr>\\n      <th>Database Storage (GB)</th>\\n      <th>Charge (GBP)</th>\\n    </tr>\\n  </thead>\\n  <tbody>\\n    <tr>\\n      <td>0 - 7389</td>\\n      <td>1 x GB</td>\\n    </tr>\\n    <tr>\\n      <td>7390 - 8192</td>\\n      <td>2 x GB</td>\\n    </tr>\\n  </tbody>\\n</table>\\n\\n## **Azure Snapshot Storage Fee: Charges for Storing and Retrieving Azure Disk Snapshots**\\n\\n<table border=\"1\" cellspacing=\"0\" cellpadding=\"6\">\\n  <thead>\\n    <tr>\\n      <th>Replication Type</th>\\n      <th>Charge</th>\\n    </tr>\\n  </thead>\\n  <tbody>\\n    <tr>\\n      <td>LRS</td>\\n      <td>1</td>\\n    </tr>\\n    <tr>\\n      <td>GZRS</td>\\n      <td>2</td>\\n    </tr>\\n    <tr>\\n      <td>GRS</td>\\n      <td>3</td>\\n    </tr>\\n    <tr>\\n      <td>ZRS</td>\\n      <td>4</td>\\n    </tr>\\n  </tbody>\\n</table>\\n\\n## **App Service Pricing: Compute, Storage, and Network Resources by Plan and Instance Size**\\n\\n<table border=\"1\" cellspacing=\"0\" cellpadding=\"6\">\\n  <thead>\\n    <tr>\\n      <th>Web App Instances</th>\\n      <th>Charge (GBP)</th>\\n    </tr>\\n  </thead>\\n  <tbody>\\n    <tr>\\n      <td>0 – 110</td>\\n      <td>£1 per instance</td>\\n    </tr>\\n    <tr>\\n      <td>110 – 185</td>\\n      <td>£2 per instance</td>\\n    </tr>\\n    <tr>\\n      <td>186 – 200</td>\\n      <td>£3 per instance</td>\\n    </tr>\\n  </tbody>\\n</table>\\n\\nUpon review of these Microsoft Azure cloud pricing policies, please note that prices are subject to change and may be adjusted as necessary. Customers should regularly review the Azure pricing page for the most up-to-date information. For any questions or concerns regarding these policies or pricing, please contact Microsoft Azure support via the Azure portal or through online support channels.\\n\\n**Policy Effective Date:** August 20, 2025\\n\\n'"
      ]
     },
     "execution_count": 138,
     "metadata": {},
     "output_type": "execute_result"
    }
   ],
   "source": [
    "records[4][0]"
   ]
  },
  {
   "cell_type": "code",
   "execution_count": 61,
   "id": "4cbdc30f",
   "metadata": {},
   "outputs": [
    {
     "data": {
      "text/plain": [
       "{'gpu_count': {'unit': 'GPUs',\n",
       "  'description': 'Number of GPUs attached to the instance',\n",
       "  'dtype': 'int'}}"
      ]
     },
     "execution_count": 61,
     "metadata": {},
     "output_type": "execute_result"
    }
   ],
   "source": [
    "records[1][1]['gpu_compute_fee']['variables_used']"
   ]
  },
  {
   "cell_type": "code",
   "execution_count": 128,
   "id": "c5e0f969",
   "metadata": {},
   "outputs": [
    {
     "data": {
      "text/plain": [
       "\"def compute_charge(region, data_egress_gb):\\n    if region == 'uk_south' and 16366.2 <= data_egress_gb < 100000.0: return 1 * data_egress_gb * 1.0\\n    elif region == 'uk_south' and 0.0 <= data_egress_gb < 16366.2: return 2 * data_egress_gb * 1.0\\n    elif region == 'uk_west' and 16366.2 <= data_egress_gb < 100000.0: return 1 * data_egress_gb * 1.1\\n    elif region == 'uk_west' and 0.0 <= data_egress_gb < 16366.2: return 2 * data_egress_gb * 1.1\\n    elif region == 'westeurope' and 16366.2 <= data_egress_gb < 100000.0: return 1 * data_egress_gb * 1.2\\n    elif region == 'westeurope' and 0.0 <= data_egress_gb < 16366.2: return 2 * data_egress_gb * 1.2\\n    elif region == 'northeurope' and 16366.2 <= data_egress_gb < 100000.0: return 1 * data_egress_gb * 1.3\\n    elif region == 'northeurope' and 0.0 <= data_egress_gb < 16366.2: return 2 * data_egress_gb * 1.3\\n    elif region == 'eastus' and 16366.2 <= data_egress_gb < 100000.0: return 1 * data_egress_gb * 1.4\\n    elif region == 'eastus' and 0.0 <= data_egress_gb < 16366.2: return 2 * data_egress_gb * 1.4\\n    elif region == 'westus2' and 16366.2 <= data_egress_gb < 100000.0: return 1 * data_egress_gb * 1.5\\n    elif region == 'westus2' and 0.0 <= data_egress_gb < 16366.2: return 2 * data_egress_gb * 1.5\\n    else: raise ValueError(f'region or data_egress_gb is out of expected range')\""
      ]
     },
     "execution_count": 128,
     "metadata": {},
     "output_type": "execute_result"
    }
   ],
   "source": [
    "records[3][1]['data_egress_fee']['code']"
   ]
  },
  {
   "cell_type": "code",
   "execution_count": 126,
   "id": "ac7526e1",
   "metadata": {},
   "outputs": [
    {
     "data": {
      "text/plain": [
       "{'rethink': 'The plan is sound and fully compliant with the rules. The region is symbolic, so all six regions must be handled explicitly using conditional logic. The data_egress_gb is also symbolic, so the tiered pricing logic must be applied conditionally based on its value relative to 16,366.2 GB. The structure will use a top-level CATEGORICAL_VALUE_NODE for region comparison, with each branch leading to a nested NUMERIC_CONDITIONAL for the data volume threshold. The base and discounted rates for each region are fixed and derived directly from the document. The expression must be structured to compute the correct fee for any combination of region and data volume. No assumptions are made about defaults. All values are correctly encoded: region comparisons use CATEGORICAL_VALUE_NODE, numeric comparisons use VALUE nodes with numeric values. The final output will be a single JSON expression tree that evaluates to the total data_egress_fee in GBP. No simplifications or omissions are made. The approach is finalized and ready for JSON generation.'}"
      ]
     },
     "execution_count": 126,
     "metadata": {},
     "output_type": "execute_result"
    }
   ],
   "source": [
    "result['3']['data_egress_fee']['data_egress_fee']['thought4']"
   ]
  },
  {
   "cell_type": "code",
   "execution_count": 32,
   "id": "bf4a93d4",
   "metadata": {},
   "outputs": [],
   "source": [
    "import ast\n",
    "\n",
    "def extract_if_conditions(code_str):\n",
    "    \"\"\"\n",
    "    Extracts conditions from if-else statements in a Python function string.\n",
    "    \n",
    "    Args:\n",
    "    code_str (str): The source code of the function as a string.\n",
    "    \n",
    "    Returns:\n",
    "    list[str]: A list of condition strings (e.g., \"x > 0\" or \"else\").\n",
    "    \"\"\"\n",
    "    try:\n",
    "        tree = ast.parse(code_str)\n",
    "    except SyntaxError as e:\n",
    "        raise ValueError(f\"Invalid Python code: {e}\")\n",
    "    \n",
    "    class IfConditionVisitor(ast.NodeVisitor):\n",
    "        def __init__(self):\n",
    "            self.conditions = []\n",
    "        \n",
    "        def visit_If(self, node):\n",
    "            current = node\n",
    "            while True:\n",
    "                self.conditions.append(ast.unparse(current.test).strip())\n",
    "                \n",
    "                # Visit statements in the body for nested structures\n",
    "                for stmt in current.body:\n",
    "                    self.visit(stmt)\n",
    "                \n",
    "                if current.orelse:\n",
    "                    if len(current.orelse) == 1 and isinstance(current.orelse[0], ast.If):\n",
    "                        # Handle elif by continuing the loop\n",
    "                        current = current.orelse[0]\n",
    "                        continue\n",
    "                    else:\n",
    "                        # Handle else\n",
    "                        self.conditions.append(\"else\")\n",
    "                        # Visit statements in the else body\n",
    "                        for stmt in current.orelse:\n",
    "                            self.visit(stmt)\n",
    "                \n",
    "                # End of chain\n",
    "                break\n",
    "    \n",
    "    visitor = IfConditionVisitor()\n",
    "    visitor.visit(tree)\n",
    "    \n",
    "    return visitor.conditions"
   ]
  },
  {
   "cell_type": "code",
   "execution_count": 33,
   "id": "5c14d7c0",
   "metadata": {},
   "outputs": [],
   "source": [
    "import re\n",
    "\n",
    "def create_tests(ground_truth_code_string):\n",
    "    binray_conditionals = ['and']\n",
    "    numeric_conditionals = ['>=', \"<=\", \"==\", '<', '>']\n",
    "    ops_pat = '|'.join(map(re.escape, numeric_conditionals))\n",
    "    test_cases = []\n",
    "\n",
    "    if_conditions = extract_if_conditions(ground_truth_code_string)\n",
    "    \n",
    "    for condition in if_conditions:\n",
    "        condition_level_test = []\n",
    "        expressions = [t.strip() for t in re.split(rf'\\s*({'|'.join(binray_conditionals)})\\b\\s*', condition, flags=re.IGNORECASE)]\n",
    "    \n",
    "        for expression in expressions:\n",
    "            \n",
    "            if expression == 'else':\n",
    "                continue    \n",
    "            if expression == 'and':\n",
    "                continue\n",
    "            expression_components = [t.strip() for t in re.split(rf'\\s*({ops_pat})\\s*', expression)]\n",
    "            # print(expression_components)\n",
    "            test = parse_expression(expression_components)\n",
    "            condition_level_test.append(test)\n",
    "        if condition_level_test != []:\n",
    "            test_cases.append(condition_level_test)\n",
    "    return test_cases"
   ]
  },
  {
   "cell_type": "code",
   "execution_count": 34,
   "id": "4fa7d892",
   "metadata": {},
   "outputs": [],
   "source": [
    "import random\n",
    "import math\n",
    "\n",
    "def sample_values(tokens, n=5, seed=None, domain=None, integer=False):\n",
    "    \"\"\"\n",
    "    tokens:\n",
    "      - 5 tokens: [L, op1, var, op2, R]\n",
    "      - 3 tokens: [var, op, value] OR [value, op, var]\n",
    "    operators: <, <=, >, >=, ==\n",
    "    Returns n samples satisfying the constraint. Floats by default; ints if integer=True.\n",
    "    For single-sided constraints (3 tokens), pass domain=(lo, hi) to bound the other side.\n",
    "    \"\"\"\n",
    "    if seed is not None:\n",
    "        random.seed(seed)\n",
    "\n",
    "    def is_number(s):\n",
    "        try:\n",
    "            float(s)\n",
    "            return True\n",
    "        except Exception:\n",
    "            return False\n",
    "\n",
    "    # Collect bounds as (value, inclusive) or None\n",
    "    lower = None   # (lo_val, lo_inclusive)\n",
    "    upper = None   # (hi_val, hi_inclusive)\n",
    "    eq_value = None\n",
    "\n",
    "    if len(tokens) == 5:\n",
    "        L, op1, var, op2, R = tokens\n",
    "        a = float(L)\n",
    "        b = float(R)\n",
    "\n",
    "        # Left comparison: L op1 var  -> constraint on var\n",
    "        if op1 == '<':\n",
    "            # L < var  => var > L  (lower, open)\n",
    "            lower = (a, False)\n",
    "        elif op1 == '<=':\n",
    "            # L <= var => var >= L (lower, closed)\n",
    "            lower = (a, True)\n",
    "        elif op1 == '>':\n",
    "            # L > var  => var < L  (upper, open)\n",
    "            upper = (a, False)\n",
    "        elif op1 == '>=':\n",
    "            # L >= var => var <= L (upper, closed)\n",
    "            upper = (a, True)\n",
    "        elif op1 == '==':\n",
    "            eq_value = a\n",
    "        else:\n",
    "            raise ValueError(f\"Unsupported operator: {op1}\")\n",
    "\n",
    "        # Right comparison: var op2 R -> constraint on var\n",
    "        if op2 == '<':\n",
    "            # var < R  (upper, open)\n",
    "            upper = (b, False) if upper is None else min(upper, (b, False), key=lambda t:(t[0], t[1]==False))\n",
    "        elif op2 == '<=':\n",
    "            # var <= R (upper, closed)\n",
    "            upper = (b, True) if upper is None else min(upper, (b, True), key=lambda t:(t[0], t[1]==False))\n",
    "        elif op2 == '>':\n",
    "            # var > R  (lower, open)\n",
    "            lower = (b, False) if lower is None else max(lower, (b, False), key=lambda t:(t[0], t[1]==True))\n",
    "        elif op2 == '>=':\n",
    "            # var >= R (lower, closed)\n",
    "            lower = (b, True) if lower is None else max(lower, (b, True), key=lambda t:(t[0], t[1]==True))\n",
    "        elif op2 == '==':\n",
    "            if eq_value is not None and abs(eq_value - b) > 0:\n",
    "                # contradictory equals\n",
    "                return []\n",
    "            eq_value = b\n",
    "        else:\n",
    "            raise ValueError(f\"Unsupported operator: {op2}\")\n",
    "\n",
    "    elif len(tokens) == 3:\n",
    "        x, op, y = tokens\n",
    "\n",
    "        # Normalize to \"var ? value\" direction\n",
    "        if is_number(x) and not is_number(y):\n",
    "            # pattern: value op var  -> flip to var flip(op) value\n",
    "            val = float(x)\n",
    "            var = y\n",
    "            flip = {'<': '>', '<=': '>=', '>': '<', '>=': '<=', '==': '=='}\n",
    "            op = flip.get(op)\n",
    "            if op is None:\n",
    "                raise ValueError(\"Unsupported operator\")\n",
    "        elif not is_number(x) and is_number(y):\n",
    "            # pattern: var op value (already normalized)\n",
    "            var = x\n",
    "            val = float(y)\n",
    "        else:\n",
    "            raise ValueError(\"Ambiguous tokens: need exactly one numeric and one variable\")\n",
    "\n",
    "        # Single-sided constraint -> set a bound\n",
    "        if op == '<':\n",
    "            upper = (val, False)\n",
    "        elif op == '<=':\n",
    "            upper = (val, True)\n",
    "        elif op == '>':\n",
    "            lower = (val, False)\n",
    "        elif op == '>=':\n",
    "            lower = (val, True)\n",
    "        elif op == '==':\n",
    "            eq_value = val\n",
    "        else:\n",
    "            raise ValueError(f\"Unsupported operator: {op}\")\n",
    "    else:\n",
    "        raise ValueError(\"Unexpected number of tokens\")\n",
    "\n",
    "    # Handle equality (must also satisfy other bounds if present)\n",
    "    if eq_value is not None:\n",
    "        v = float(eq_value)\n",
    "        if lower is not None:\n",
    "            lo, lo_inc = lower\n",
    "            if not (v > lo or (lo_inc and v == lo)):\n",
    "                return []\n",
    "        if upper is not None:\n",
    "            hi, hi_inc = upper\n",
    "            if not (v < hi or (hi_inc and v == hi)):\n",
    "                return []\n",
    "        if integer:\n",
    "            if abs(v - round(v)) > 1e-12:\n",
    "                return []  # equality to a non-integer but integer requested\n",
    "            v = int(round(v))\n",
    "        return [v for _ in range(n)]\n",
    "\n",
    "    # Fill missing side from domain (if needed)\n",
    "    if lower is None or upper is None:\n",
    "        if domain is None:\n",
    "            raise ValueError(\"Single-sided constraint: please provide domain=(lo, hi)\")\n",
    "        dom_lo, dom_hi = map(float, domain)\n",
    "        if lower is None:\n",
    "            lower = (dom_lo, True)\n",
    "        if upper is None:\n",
    "            upper = (dom_hi, True)\n",
    "\n",
    "    lo, lo_inc = lower\n",
    "    hi, hi_inc = upper\n",
    "\n",
    "    # Empty interval check\n",
    "    if hi < lo or (hi == lo and (not lo_inc or not hi_inc)):\n",
    "        return []\n",
    "\n",
    "    if integer:\n",
    "        # Convert to integer inclusive bounds\n",
    "        lo_i = (math.floor(lo) + 1) if not lo_inc else math.ceil(lo)\n",
    "        hi_i = (math.ceil(hi) - 1) if not hi_inc else math.floor(hi)\n",
    "        if lo_i > hi_i:\n",
    "            return []\n",
    "        return [random.randint(lo_i, hi_i) for _ in range(n)]\n",
    "\n",
    "    # Float sampling; nudge for open bounds\n",
    "    eps = 1e-12 * max(1.0, abs(lo), abs(hi))\n",
    "    lo_f = lo if lo_inc else lo + eps\n",
    "    hi_f = hi if hi_inc else hi - eps\n",
    "    if hi_f < lo_f:\n",
    "        return []\n",
    "\n",
    "    return [random.uniform(lo_f, hi_f) for _ in range(n)]"
   ]
  },
  {
   "cell_type": "code",
   "execution_count": 35,
   "id": "fccdb004",
   "metadata": {},
   "outputs": [],
   "source": [
    "import itertools\n",
    "\n",
    "def cartesian_combine_lists(*lists_of_dicts):\n",
    "    \"\"\"\n",
    "    Each arg is a list[dict]. Returns list[dict] for the Cartesian product.\n",
    "    If any list is empty -> returns [].\n",
    "    \"\"\"\n",
    "    out = []\n",
    "    for prod in itertools.product(*lists_of_dicts):\n",
    "        d = {}\n",
    "        for part in prod:\n",
    "            d.update(part)  # later lists override earlier on key conflicts\n",
    "        out.append(d)\n",
    "    return out"
   ]
  },
  {
   "cell_type": "code",
   "execution_count": 36,
   "id": "c4130052",
   "metadata": {},
   "outputs": [],
   "source": [
    "import ast\n",
    "\n",
    "def coerce_literals(rec):\n",
    "    out = {}\n",
    "    for k, v in rec.items():\n",
    "        if isinstance(v, str):\n",
    "            try:\n",
    "                v = ast.literal_eval(v)  # \"'linux'\" -> \"linux\", \"598.4\" -> 598.4\n",
    "            except Exception:\n",
    "                pass\n",
    "        out[k] = v\n",
    "    return out\n",
    "\n",
    "# results = [compute_charge(**coerce_literals(rec)) for rec in records]"
   ]
  },
  {
   "cell_type": "code",
   "execution_count": 37,
   "id": "decaef77",
   "metadata": {},
   "outputs": [],
   "source": [
    "from sympy import Symbol\n",
    "\n",
    "def symbolize_records(records, only_keys=None, skip_numeric_like=True, in_place=False):\n",
    "    \"\"\"\n",
    "    records: list of dicts\n",
    "    only_keys: set/iterable of keys to convert; if None => convert all str values\n",
    "    skip_numeric_like: don't convert strings that parse as numbers (e.g. \"123.4\")\n",
    "    in_place: mutate input list if True; otherwise return a new list\n",
    "    \"\"\"\n",
    "    def is_numlike(s):\n",
    "        try:\n",
    "            float(s)\n",
    "            return True\n",
    "        except Exception:\n",
    "            return False\n",
    "\n",
    "    target = records if in_place else [dict(r) for r in records]\n",
    "    for rec in target:\n",
    "        for k, v in list(rec.items()):\n",
    "            if isinstance(v, str) and (only_keys is None or k in only_keys):\n",
    "                if skip_numeric_like and is_numlike(v):\n",
    "                    continue\n",
    "                rec[k] = Symbol(_sanitize_symbol_name(v))\n",
    "    return target"
   ]
  },
  {
   "cell_type": "code",
   "execution_count": 38,
   "id": "41d7390b",
   "metadata": {},
   "outputs": [],
   "source": [
    "from typing import List\n",
    "\n",
    "def parse_expression(expression: List):\n",
    "    if '==' in expression:\n",
    "        return [{expression[0]: expression[2]}]\n",
    "    else:\n",
    "        values = sample_values(expression, n=1, integer=True)\n",
    "\n",
    "        if len(expression) == 5:\n",
    "            cases = [{expression[2]: v} for v in values]\n",
    "            return cases\n",
    "        elif len(expression) == 3:\n",
    "            cases = [{expression[0]: v} for v in values]\n",
    "            return cases\n",
    "        else:\n",
    "            raise('Unexpected Expression Length')"
   ]
  },
  {
   "cell_type": "code",
   "execution_count": 64,
   "id": "c4867de1",
   "metadata": {},
   "outputs": [
    {
     "name": "stdout",
     "output_type": "stream",
     "text": [
      "440.00000000000006\n"
     ]
    },
    {
     "ename": "NameError",
     "evalue": "name 'symbolic_func' is not defined",
     "output_type": "error",
     "traceback": [
      "\u001b[31m---------------------------------------------------------------------------\u001b[39m",
      "\u001b[31mNameError\u001b[39m                                 Traceback (most recent call last)",
      "\u001b[36mCell\u001b[39m\u001b[36m \u001b[39m\u001b[32mIn[64]\u001b[39m\u001b[32m, line 2\u001b[39m\n\u001b[32m      1\u001b[39m \u001b[38;5;28mprint\u001b[39m(ground_truth_func(\u001b[33m'\u001b[39m\u001b[33mwindows\u001b[39m\u001b[33m'\u001b[39m, \u001b[32m100.0\u001b[39m))\n\u001b[32m----> \u001b[39m\u001b[32m2\u001b[39m \u001b[38;5;28mprint\u001b[39m(\u001b[43msymbolic_func\u001b[49m(Symbol(\u001b[33m'\u001b[39m\u001b[33mWindows\u001b[39m\u001b[33m'\u001b[39m), \u001b[32m100.0\u001b[39m))\n",
      "\u001b[31mNameError\u001b[39m: name 'symbolic_func' is not defined"
     ]
    }
   ],
   "source": [
    "print(ground_truth_func('windows', 100.0))\n",
    "print(symbolic_func(Symbol('Windows'), 100.0))\n"
   ]
  },
  {
   "cell_type": "code",
   "execution_count": null,
   "id": "897c0d75",
   "metadata": {},
   "outputs": [],
   "source": []
  },
  {
   "cell_type": "code",
   "execution_count": 65,
   "id": "9840baa0",
   "metadata": {},
   "outputs": [],
   "source": [
    "tests = create_tests(code_str)\n",
    "\n",
    "final_test_list = {}\n",
    "final_test_list_symbolic = {}\n",
    "for condition_no, test in enumerate(tests):\n",
    "    \n",
    "    final_test_list[condition_no] = [coerce_literals(test) for test in cartesian_combine_lists(*test)]\n",
    "    final_test_list_symbolic[condition_no] = symbolize_records([coerce_literals(test) for test in cartesian_combine_lists(*test)])"
   ]
  },
  {
   "cell_type": "code",
   "execution_count": 66,
   "id": "a0bbcc49",
   "metadata": {},
   "outputs": [
    {
     "ename": "NameError",
     "evalue": "name 'symbolic_func' is not defined",
     "output_type": "error",
     "traceback": [
      "\u001b[31m---------------------------------------------------------------------------\u001b[39m",
      "\u001b[31mNameError\u001b[39m                                 Traceback (most recent call last)",
      "\u001b[36mCell\u001b[39m\u001b[36m \u001b[39m\u001b[32mIn[66]\u001b[39m\u001b[32m, line 10\u001b[39m\n\u001b[32m      8\u001b[39m \u001b[38;5;28;01mfor\u001b[39;00m i, condition \u001b[38;5;129;01min\u001b[39;00m final_test_list_symbolic.items():\n\u001b[32m      9\u001b[39m     \u001b[38;5;28;01mfor\u001b[39;00m test \u001b[38;5;129;01min\u001b[39;00m condition:\n\u001b[32m---> \u001b[39m\u001b[32m10\u001b[39m         symbolic_func_result.append(\u001b[43msymbolic_func\u001b[49m(**test))\n",
      "\u001b[31mNameError\u001b[39m: name 'symbolic_func' is not defined"
     ]
    }
   ],
   "source": [
    "ground_truth_result = []\n",
    "symbolic_func_result = []\n",
    "for i, condition in final_test_list.items():\n",
    "    for test in condition:\n",
    "        ground_truth_result.append(ground_truth_func(**test))\n",
    "        \n",
    "\n",
    "for i, condition in final_test_list_symbolic.items():\n",
    "    for test in condition:\n",
    "        symbolic_func_result.append(symbolic_func(**test))\n",
    "        \n"
   ]
  },
  {
   "cell_type": "code",
   "execution_count": 67,
   "id": "d3f5f7d8",
   "metadata": {},
   "outputs": [],
   "source": [
    "for symr, gtr in zip(symbolic_func_result, ground_truth_result):\n",
    "    print(symr, gtr, symr == gtr)"
   ]
  },
  {
   "cell_type": "code",
   "execution_count": 32,
   "id": "ebeea863",
   "metadata": {},
   "outputs": [
    {
     "data": {
      "text/plain": [
       "{0: [{'os_type': Linux, 'usage_hours': 665.3248833178142}],\n",
       " 1: [{'os_type': Linux, 'usage_hours': 432.13550835119906}],\n",
       " 2: [{'os_type': Linux, 'usage_hours': 350.7458075164126}],\n",
       " 3: [{'os_type': Linux, 'usage_hours': 171.49853195365063}],\n",
       " 4: [{'os_type': Windows, 'usage_hours': 690.057889740819}],\n",
       " 5: [{'os_type': Windows, 'usage_hours': 554.5396517677665}],\n",
       " 6: [{'os_type': Windows, 'usage_hours': 403.4211129037155}],\n",
       " 7: [{'os_type': Windows, 'usage_hours': 113.57826201135656}]}"
      ]
     },
     "execution_count": 32,
     "metadata": {},
     "output_type": "execute_result"
    }
   ],
   "source": [
    "final_test_list_symbolic"
   ]
  },
  {
   "cell_type": "code",
   "execution_count": 43,
   "id": "21c849d2",
   "metadata": {},
   "outputs": [
    {
     "data": {
      "text/latex": [
       "$\\displaystyle usage_{hours} \\left(\\begin{cases} \\begin{cases} 4.0 & \\text{for}\\: usage_{hours} < 216.5 \\\\\\begin{cases} 3.0 & \\text{for}\\: usage_{hours} < 408.7 \\\\\\begin{cases} 2.0 & \\text{for}\\: usage_{hours} < 598.4 \\\\1.0 & \\text{otherwise} \\end{cases} & \\text{otherwise} \\end{cases} & \\text{otherwise} \\end{cases} & \\text{for}\\: Linux = os_{type} \\\\\\begin{cases} \\begin{cases} 4.8 & \\text{for}\\: usage_{hours} < 216.5 \\\\\\begin{cases} 3.9 & \\text{for}\\: usage_{hours} < 408.7 \\\\\\begin{cases} 2.2 & \\text{for}\\: usage_{hours} < 598.4 \\\\1.1 & \\text{otherwise} \\end{cases} & \\text{otherwise} \\end{cases} & \\text{otherwise} \\end{cases} & \\text{for}\\: Windows = os_{type} \\\\0.0 & \\text{otherwise} \\end{cases} & \\text{otherwise} \\end{cases}\\right)$"
      ],
      "text/plain": [
       "usage_hours*Piecewise((Piecewise((4.0, usage_hours < 216.5), (Piecewise((3.0, usage_hours < 408.7), (Piecewise((2.0, usage_hours < 598.4), (1.0, True)), True)), True)), Eq(Linux, os_type)), (Piecewise((Piecewise((4.8, usage_hours < 216.5), (Piecewise((3.9, usage_hours < 408.7), (Piecewise((2.2, usage_hours < 598.4), (1.1, True)), True)), True)), Eq(Windows, os_type)), (0.0, True)), True))"
      ]
     },
     "execution_count": 43,
     "metadata": {},
     "output_type": "execute_result"
    }
   ],
   "source": [
    "compose_expression(result['0']['compute_vm_fee']['compute_vm_fee']['computation_graph'])"
   ]
  },
  {
   "cell_type": "code",
   "execution_count": 53,
   "id": "53087566",
   "metadata": {},
   "outputs": [
    {
     "data": {
      "text/plain": [
       "\"def compute_charge(os_type, usage_hours):\\n    if os_type == 'linux' and 598.4 <= usage_hours < 744.0: return 1 * usage_hours * 1.0\\n    elif os_type == 'linux' and 408.7 <= usage_hours < 598.4: return 2 * usage_hours * 1.0\\n    elif os_type == 'linux' and 216.5 <= usage_hours < 408.7: return 3 * usage_hours * 1.0\\n    elif os_type == 'linux' and 0.0 <= usage_hours < 216.5: return 4 * usage_hours * 1.0\\n    elif os_type == 'windows' and 598.4 <= usage_hours < 744.0: return 1 * usage_hours * 1.1\\n    elif os_type == 'windows' and 408.7 <= usage_hours < 598.4: return 2 * usage_hours * 1.1\\n    elif os_type == 'windows' and 216.5 <= usage_hours < 408.7: return 3 * usage_hours * 1.1\\n    elif os_type == 'windows' and 0.0 <= usage_hours < 216.5: return 4 * usage_hours * 1.1\\n    else: raise ValueError(f'os_type or usage_hours is out of expected range')\""
      ]
     },
     "execution_count": 53,
     "metadata": {},
     "output_type": "execute_result"
    }
   ],
   "source": [
    "records[0][1]['compute_vm_fee']['code']"
   ]
  },
  {
   "cell_type": "code",
   "execution_count": null,
   "id": "be729455",
   "metadata": {},
   "outputs": [],
   "source": []
  },
  {
   "cell_type": "code",
   "execution_count": null,
   "id": "28d158b3",
   "metadata": {},
   "outputs": [],
   "source": []
  },
  {
   "cell_type": "code",
   "execution_count": null,
   "id": "c66bd98c",
   "metadata": {},
   "outputs": [],
   "source": []
  },
  {
   "cell_type": "code",
   "execution_count": null,
   "id": "0c457bd0",
   "metadata": {},
   "outputs": [],
   "source": [
    "# import builtins\n",
    "# def to_built_in_type(type_str: str):\n",
    "#     t = getattr(builtins, type_str, None)\n",
    "#     if isinstance(t, type):\n",
    "#         return t\n",
    "#     raise ValueError(f\"{type_str} is not a valid built-in type\")"
   ]
  },
  {
   "cell_type": "code",
   "execution_count": null,
   "id": "895393b4",
   "metadata": {},
   "outputs": [],
   "source": [
    "# charge_variables = {}\n",
    "# all_variables = {}\n",
    "# for charge, variables in charge_category_variables.items():\n",
    "#     charge_variables[charge] = list(variables.keys())\n",
    "#     for var, details in variables.items():\n",
    "#         all_variables[var] = DomainVariable(name=var,\n",
    "#             description=details['description'],\n",
    "#             unit=details['unit'],\n",
    "#             data_type=to_built_in_type(details['dtype']))\n",
    "    \n",
    "    "
   ]
  },
  {
   "cell_type": "code",
   "execution_count": null,
   "id": "2cd35a27",
   "metadata": {},
   "outputs": [
    {
     "data": {
      "text/plain": [
       "{'compute_vm_fee': ['os_type', 'usage_hours'],\n",
       " 'gpu_compute_fee': ['gpu_type'],\n",
       " 'managed_disk_fee': ['managed_disk_count'],\n",
       " 'data_egress_fee': ['region'],\n",
       " 'data_ingress_fee': ['region', 'data_ingress_gb'],\n",
       " 'storage_transaction_fee': ['redundancy', 'storage_transactions_millions'],\n",
       " 'public_ip_fee': ['region', 'public_ip_count'],\n",
       " 'load_balancer_fee': ['load_balancer_rules'],\n",
       " 'aks_cluster_fee': ['region'],\n",
       " 'function_app_fee': ['region', 'function_exec_ms'],\n",
       " 'sql_database_fee': ['region', 'backup_retention_days'],\n",
       " 'snapshot_storage_fee': ['redundancy'],\n",
       " 'app_service_fee': ['service_tier', 'app_service_instances']}"
      ]
     },
     "execution_count": 126,
     "metadata": {},
     "output_type": "execute_result"
    }
   ],
   "source": [
    "# charge_variables"
   ]
  },
  {
   "cell_type": "code",
   "execution_count": null,
   "id": "347bee44",
   "metadata": {},
   "outputs": [
    {
     "data": {
      "text/plain": [
       "{'os_type': DomainVariable(name='os_type', description='Operating system for the compute workload', unit='os', data_type=<class 'str'>),\n",
       " 'usage_hours': DomainVariable(name='usage_hours', description='Total runtime in hours over the billing window', unit='hours', data_type=<class 'float'>),\n",
       " 'gpu_type': DomainVariable(name='gpu_type', description='Type of GPU accelerator', unit='gpu type', data_type=<class 'str'>),\n",
       " 'managed_disk_count': DomainVariable(name='managed_disk_count', description='Count of managed disks attached', unit='disks', data_type=<class 'int'>),\n",
       " 'region': DomainVariable(name='region', description='Azure region where resources are deployed', unit='region', data_type=<class 'str'>),\n",
       " 'data_ingress_gb': DomainVariable(name='data_ingress_gb', description='Inbound data transferred to Azure', unit='GB', data_type=<class 'float'>),\n",
       " 'redundancy': DomainVariable(name='redundancy', description='Storage redundancy configuration', unit='redundancy', data_type=<class 'str'>),\n",
       " 'storage_transactions_millions': DomainVariable(name='storage_transactions_millions', description='Number of storage account operations in millions', unit='million tx', data_type=<class 'float'>),\n",
       " 'public_ip_count': DomainVariable(name='public_ip_count', description='Number of public IP addresses allocated', unit='IPs', data_type=<class 'int'>),\n",
       " 'load_balancer_rules': DomainVariable(name='load_balancer_rules', description='Configured load balancer rules', unit='rules', data_type=<class 'int'>),\n",
       " 'function_exec_ms': DomainVariable(name='function_exec_ms', description='Average or billed execution time per invocation', unit='ms', data_type=<class 'float'>),\n",
       " 'backup_retention_days': DomainVariable(name='backup_retention_days', description='Backup retention period for databases', unit='days', data_type=<class 'int'>),\n",
       " 'service_tier': DomainVariable(name='service_tier', description='Service tier for managed services', unit='tier', data_type=<class 'str'>),\n",
       " 'app_service_instances': DomainVariable(name='app_service_instances', description='Count of App Service instances', unit='instances', data_type=<class 'int'>)}"
      ]
     },
     "execution_count": 127,
     "metadata": {},
     "output_type": "execute_result"
    }
   ],
   "source": [
    "# all_variables"
   ]
  },
  {
   "cell_type": "markdown",
   "id": "64357ebb",
   "metadata": {},
   "source": [
    "## Computation Graph Creation [OLD]"
   ]
  },
  {
   "cell_type": "code",
   "execution_count": null,
   "id": "40bd1c82",
   "metadata": {},
   "outputs": [
    {
     "data": {
      "text/plain": [
       "'compute_vm_fee'"
      ]
     },
     "execution_count": 128,
     "metadata": {},
     "output_type": "execute_result"
    }
   ],
   "source": [
    "# list(charge_variables.keys())[0]"
   ]
  },
  {
   "cell_type": "code",
   "execution_count": null,
   "id": "0c6d0460",
   "metadata": {},
   "outputs": [
    {
     "data": {
      "text/plain": [
       "'Charge for running virtual machines based on vCPU, memory, OS, and commitment.'"
      ]
     },
     "execution_count": 129,
     "metadata": {},
     "output_type": "execute_result"
    }
   ],
   "source": [
    "# charges[list(charge_variables.keys())[0]]['charge_description']"
   ]
  },
  {
   "cell_type": "code",
   "execution_count": null,
   "id": "8f5cae4d",
   "metadata": {},
   "outputs": [
    {
     "name": "stdout",
     "output_type": "stream",
     "text": [
      "--- Building graph for charge category: 'compute_vm_fee' ---\n"
     ]
    },
    {
     "data": {
      "application/vnd.jupyter.widget-view+json": {
       "model_id": "297bb878330148cfae43d3a47f7f938d",
       "version_major": 2,
       "version_minor": 0
      },
      "text/plain": [
       "StitchWidget(initial_height='auto', initial_width='100%', srcdoc='<!doctype html>\\n<html lang=\"en\">\\n<head>\\n …"
      ]
     },
     "metadata": {},
     "output_type": "display_data"
    },
    {
     "name": "stdout",
     "output_type": "stream",
     "text": [
      "Execution time for 'build': 116.5014 seconds\n"
     ]
    }
   ],
   "source": [
    "# query = f\"Calculate the total {list(charge_variables.keys())[0]}. Charge description - {charges[list(charge_variables.keys())[0]]['charge_description']}\"\n",
    "# charge_category = list(charge_variables.keys())[0]\n",
    "# markdown_content = content\n",
    "# result = create_computation_graph(base_lm, query, charge_category, markdown_content, charge_variables, all_variables)\n"
   ]
  },
  {
   "cell_type": "markdown",
   "id": "87e60bc3",
   "metadata": {},
   "source": [
    "## Lookthrough [OLD]"
   ]
  },
  {
   "cell_type": "code",
   "execution_count": null,
   "id": "5c93a72c",
   "metadata": {},
   "outputs": [
    {
     "name": "stdout",
     "output_type": "stream",
     "text": [
      "{\n",
      "    \"query_parameters\": [\n",
      "        {\n",
      "            \"name\": \"os_type\",\n",
      "            \"status\": \"SYMBOLIC\",\n",
      "            \"type_of_variable\": \"CATEGORICAL\",\n",
      "            \"value\": null\n",
      "        },\n",
      "        {\n",
      "            \"name\": \"usage_hours\",\n",
      "            \"status\": \"SYMBOLIC\",\n",
      "            \"type_of_variable\": \"NUMERIC\",\n",
      "            \"value\": null\n",
      "        }\n",
      "    ]\n",
      "}\n"
     ]
    }
   ],
   "source": [
    "# print(json.dumps(json.loads(result[0][\"thought1\"]), indent=4))"
   ]
  },
  {
   "cell_type": "code",
   "execution_count": null,
   "id": "b01d18da",
   "metadata": {},
   "outputs": [
    {
     "name": "stdout",
     "output_type": "stream",
     "text": [
      "{\n",
      "    \"identified_constants_and_rules\": [\n",
      "        \"The compute VM pricing is based on the operating system (OS) and the number of usage hours.\",\n",
      "        \"For Linux VMs, the hourly rate depends on the usage hours as follows: $4.00 per hour for 0 \\u2013 216.5 hours, $3.00 per hour for 216.5 \\u2013 408.7 hours, $2.00 per hour for 408.7 \\u2013 598.4 hours, and $1.00 per hour for 598.4 \\u2013 744.0 hours.\",\n",
      "        \"For Windows VMs, the hourly rate depends on the usage hours as follows: $4.80 per hour for 0 \\u2013 216.5 hours, $3.90 per hour for 216.5 \\u2013 408.7 hours, $2.20 per hour for 408.7 \\u2013 598.4 hours, and $1.10 per hour for 598.4 \\u2013 744.0 hours.\",\n",
      "        \"The compute_vm_fee is calculated as the product of the usage_hours and the applicable hourly rate based on the OS and the usage_hours range.\",\n",
      "        \"The hourly rates are tiered and non-overlapping, with each tier applying to a specific range of usage_hours.\",\n",
      "        \"The total compute_vm_fee is determined by selecting the correct hourly rate based on the OS and the usage_hours, then multiplying that rate by the usage_hours.\"\n",
      "    ]\n",
      "}\n"
     ]
    }
   ],
   "source": [
    "# print(json.dumps(json.loads(result[0][\"thought2\"]), indent=4))"
   ]
  },
  {
   "cell_type": "code",
   "execution_count": null,
   "id": "8554b9ad",
   "metadata": {},
   "outputs": [
    {
     "name": "stdout",
     "output_type": "stream",
     "text": [
      "{\n",
      "    \"synthesis_plan\": \"To compute the total compute_vm_fee, we need to determine the applicable hourly rate based on the OS type (Linux or Windows) and the usage_hours. Since both os_type and usage_hours are symbolic (not provided with specific values), we must create a conditional expression tree that handles all possible combinations. The logic will first check the OS type using a CONDITIONAL node. For each OS (Linux and Windows), we will evaluate the usage_hours against the tiered ranges (0\\u2013216.5, 216.5\\u2013408.7, 408.7\\u2013598.4, 598.4\\u2013744.0) using nested CONDITIONAL nodes. Each range will return the corresponding hourly rate. The final result is the product of the selected hourly rate and the usage_hours. The expression tree will use COMPARISON nodes with appropriate operators (LESS_THAN_EQUAL, GREATER_THAN) and VALUE nodes for numeric thresholds. CATEGORICAL_VALUE_NODE will be used for OS comparisons.\"\n",
      "}\n"
     ]
    }
   ],
   "source": [
    "# print(json.dumps(json.loads(result[0][\"thought3\"]), indent=4))"
   ]
  },
  {
   "cell_type": "code",
   "execution_count": null,
   "id": "dd9ee1c5",
   "metadata": {},
   "outputs": [
    {
     "name": "stdout",
     "output_type": "stream",
     "text": [
      "{\n",
      "    \"rethink\": \"The plan is sound and aligns with all crucial rules. Both 'os_type' and 'usage_hours' are symbolic, so we must not assume default values. The logic must cover all OS types (Linux/Windows) and all usage hour tiers. The tiered pricing is non-overlapping and cumulative, so we use a cascading conditional structure: first check OS, then check usage_hours against the increasing thresholds. The comparison for numeric ranges uses proper VALUE nodes (with numeric values), and categorical comparisons use CATEGORICAL_VALUE_NODE. The final multiplication is applied only after selecting the correct rate. No assumptions about defaults are made. The expression tree will correctly represent the full conditional logic required for any input. Finalization complete.\"\n",
      "}\n"
     ]
    }
   ],
   "source": [
    "# print(json.dumps(json.loads(result[0][\"thought4\"]), indent=4))"
   ]
  },
  {
   "cell_type": "code",
   "execution_count": null,
   "id": "20c63993",
   "metadata": {},
   "outputs": [
    {
     "name": "stdout",
     "output_type": "stream",
     "text": [
      "{\n",
      "    \"type\": \"BINARY_OPERATION\",\n",
      "    \"operator\": \"MULTIPLY\",\n",
      "    \"left\": {\n",
      "        \"type\": \"VARIABLE\",\n",
      "        \"name\": \"usage_hours\",\n",
      "        \"description\": \"Total runtime in hours over the billing window\",\n",
      "        \"unit\": \"HOURS\"\n",
      "    },\n",
      "    \"right\": {\n",
      "        \"type\": \"CONDITIONAL\",\n",
      "        \"condition\": {\n",
      "            \"type\": \"COMPARISON\",\n",
      "            \"operator\": \"EQUAL_TO\",\n",
      "            \"left\": {\n",
      "                \"type\": \"VARIABLE\",\n",
      "                \"name\": \"os_type\",\n",
      "                \"description\": \"Operating system for the compute workload\",\n",
      "                \"unit\": \"COUNT\"\n",
      "            },\n",
      "            \"right\": {\n",
      "                \"type\": \"CATEGORICAL_VALUE\",\n",
      "                \"value\": \"Linux\",\n",
      "                \"description\": \"Operating system type: Linux\"\n",
      "            }\n",
      "        },\n",
      "        \"if_true\": {\n",
      "            \"type\": \"CONDITIONAL\",\n",
      "            \"condition\": {\n",
      "                \"type\": \"COMPARISON\",\n",
      "                \"operator\": \"LESS_THAN\",\n",
      "                \"left\": {\n",
      "                    \"type\": \"VARIABLE\",\n",
      "                    \"name\": \"usage_hours\",\n",
      "                    \"description\": \"Total runtime in hours over the billing window\",\n",
      "                    \"unit\": \"HOURS\"\n",
      "                },\n",
      "                \"right\": {\n",
      "                    \"type\": \"VALUE\",\n",
      "                    \"value\": 216.5,\n",
      "                    \"description\": \"Upper bound of first tier for Linux VMs\",\n",
      "                    \"unit\": \"HOURS\"\n",
      "                }\n",
      "            },\n",
      "            \"if_true\": {\n",
      "                \"type\": \"VALUE\",\n",
      "                \"value\": 4.0,\n",
      "                \"description\": \"Hourly rate for Linux VMs in first tier (0\\u2013216.5 hours)\",\n",
      "                \"unit\": \"EUROS\"\n",
      "            },\n",
      "            \"if_false\": {\n",
      "                \"type\": \"CONDITIONAL\",\n",
      "                \"condition\": {\n",
      "                    \"type\": \"COMPARISON\",\n",
      "                    \"operator\": \"LESS_THAN\",\n",
      "                    \"left\": {\n",
      "                        \"type\": \"VARIABLE\",\n",
      "                        \"name\": \"usage_hours\",\n",
      "                        \"description\": \"Total runtime in hours over the billing window\",\n",
      "                        \"unit\": \"HOURS\"\n",
      "                    },\n",
      "                    \"right\": {\n",
      "                        \"type\": \"VALUE\",\n",
      "                        \"value\": 408.7,\n",
      "                        \"description\": \"Upper bound of second tier for Linux VMs\",\n",
      "                        \"unit\": \"HOURS\"\n",
      "                    }\n",
      "                },\n",
      "                \"if_true\": {\n",
      "                    \"type\": \"VALUE\",\n",
      "                    \"value\": 3.0,\n",
      "                    \"description\": \"Hourly rate for Linux VMs in second tier (216.5\\u2013408.7 hours)\",\n",
      "                    \"unit\": \"EUROS\"\n",
      "                },\n",
      "                \"if_false\": {\n",
      "                    \"type\": \"CONDITIONAL\",\n",
      "                    \"condition\": {\n",
      "                        \"type\": \"COMPARISON\",\n",
      "                        \"operator\": \"LESS_THAN\",\n",
      "                        \"left\": {\n",
      "                            \"type\": \"VARIABLE\",\n",
      "                            \"name\": \"usage_hours\",\n",
      "                            \"description\": \"Total runtime in hours over the billing window\",\n",
      "                            \"unit\": \"HOURS\"\n",
      "                        },\n",
      "                        \"right\": {\n",
      "                            \"type\": \"VALUE\",\n",
      "                            \"value\": 598.4,\n",
      "                            \"description\": \"Upper bound of third tier for Linux VMs\",\n",
      "                            \"unit\": \"HOURS\"\n",
      "                        }\n",
      "                    },\n",
      "                    \"if_true\": {\n",
      "                        \"type\": \"VALUE\",\n",
      "                        \"value\": 2.0,\n",
      "                        \"description\": \"Hourly rate for Linux VMs in third tier (408.7\\u2013598.4 hours)\",\n",
      "                        \"unit\": \"EUROS\"\n",
      "                    },\n",
      "                    \"if_false\": {\n",
      "                        \"type\": \"VALUE\",\n",
      "                        \"value\": 1.0,\n",
      "                        \"description\": \"Hourly rate for Linux VMs in fourth tier (598.4\\u2013744.0 hours)\",\n",
      "                        \"unit\": \"EUROS\"\n",
      "                    }\n",
      "                }\n",
      "            }\n",
      "        },\n",
      "        \"if_false\": {\n",
      "            \"type\": \"CONDITIONAL\",\n",
      "            \"condition\": {\n",
      "                \"type\": \"COMPARISON\",\n",
      "                \"operator\": \"EQUAL_TO\",\n",
      "                \"left\": {\n",
      "                    \"type\": \"VARIABLE\",\n",
      "                    \"name\": \"os_type\",\n",
      "                    \"description\": \"Operating system for the compute workload\",\n",
      "                    \"unit\": \"UNITLESS\"\n",
      "                },\n",
      "                \"right\": {\n",
      "                    \"type\": \"CATEGORICAL_VALUE\",\n",
      "                    \"value\": \"Windows\",\n",
      "                    \"description\": \"Operating system type: Windows\"\n",
      "                }\n",
      "            },\n",
      "            \"if_true\": {\n",
      "                \"type\": \"CONDITIONAL\",\n",
      "                \"condition\": {\n",
      "                    \"type\": \"COMPARISON\",\n",
      "                    \"operator\": \"LESS_THAN\",\n",
      "                    \"left\": {\n",
      "                        \"type\": \"VARIABLE\",\n",
      "                        \"name\": \"usage_hours\",\n",
      "                        \"description\": \"Total runtime in hours over the billing window\",\n",
      "                        \"unit\": \"HOURS\"\n",
      "                    },\n",
      "                    \"right\": {\n",
      "                        \"type\": \"VALUE\",\n",
      "                        \"value\": 216.5,\n",
      "                        \"description\": \"Upper bound of first tier for Windows VMs\",\n",
      "                        \"unit\": \"HOURS\"\n",
      "                    }\n",
      "                },\n",
      "                \"if_true\": {\n",
      "                    \"type\": \"VALUE\",\n",
      "                    \"value\": 4.8,\n",
      "                    \"description\": \"Hourly rate for Windows VMs in first tier (0\\u2013216.5 hours)\",\n",
      "                    \"unit\": \"EUROS\"\n",
      "                },\n",
      "                \"if_false\": {\n",
      "                    \"type\": \"CONDITIONAL\",\n",
      "                    \"condition\": {\n",
      "                        \"type\": \"COMPARISON\",\n",
      "                        \"operator\": \"LESS_THAN\",\n",
      "                        \"left\": {\n",
      "                            \"type\": \"VARIABLE\",\n",
      "                            \"name\": \"usage_hours\",\n",
      "                            \"description\": \"Total runtime in hours over the billing window\",\n",
      "                            \"unit\": \"HOURS\"\n",
      "                        },\n",
      "                        \"right\": {\n",
      "                            \"type\": \"VALUE\",\n",
      "                            \"value\": 408.7,\n",
      "                            \"description\": \"Upper bound of second tier for Windows VMs\",\n",
      "                            \"unit\": \"HOURS\"\n",
      "                        }\n",
      "                    },\n",
      "                    \"if_true\": {\n",
      "                        \"type\": \"VALUE\",\n",
      "                        \"value\": 3.9,\n",
      "                        \"description\": \"Hourly rate for Windows VMs in second tier (216.5\\u2013408.7 hours)\",\n",
      "                        \"unit\": \"EUROS\"\n",
      "                    },\n",
      "                    \"if_false\": {\n",
      "                        \"type\": \"CONDITIONAL\",\n",
      "                        \"condition\": {\n",
      "                            \"type\": \"COMPARISON\",\n",
      "                            \"operator\": \"LESS_THAN\",\n",
      "                            \"left\": {\n",
      "                                \"type\": \"VARIABLE\",\n",
      "                                \"name\": \"usage_hours\",\n",
      "                                \"description\": \"Total runtime in hours over the billing window\",\n",
      "                                \"unit\": \"HOURS\"\n",
      "                            },\n",
      "                            \"right\": {\n",
      "                                \"type\": \"VALUE\",\n",
      "                                \"value\": 598.4,\n",
      "                                \"description\": \"Upper bound of third tier for Windows VMs\",\n",
      "                                \"unit\": \"HOURS\"\n",
      "                            }\n",
      "                        },\n",
      "                        \"if_true\": {\n",
      "                            \"type\": \"VALUE\",\n",
      "                            \"value\": 2.2,\n",
      "                            \"description\": \"Hourly rate for Windows VMs in third tier (408.7\\u2013598.4 hours)\",\n",
      "                            \"unit\": \"EUROS\"\n",
      "                        },\n",
      "                        \"if_false\": {\n",
      "                            \"type\": \"VALUE\",\n",
      "                            \"value\": 1.1,\n",
      "                            \"description\": \"Hourly rate for Windows VMs in fourth tier (598.4\\u2013744.0 hours)\",\n",
      "                            \"unit\": \"EUROS\"\n",
      "                        }\n",
      "                    }\n",
      "                }\n",
      "            },\n",
      "            \"if_false\": {\n",
      "                \"type\": \"VALUE\",\n",
      "                \"value\": 0.0,\n",
      "                \"description\": \"Default rate when OS type is neither Linux nor Windows (should not occur in valid input)\",\n",
      "                \"unit\": \"EUROS\"\n",
      "            }\n",
      "        }\n",
      "    }\n",
      "}\n"
     ]
    }
   ],
   "source": [
    "# print(json.dumps(json.loads(result[0][\"result_graph\"]), indent=4))"
   ]
  },
  {
   "cell_type": "code",
   "execution_count": null,
   "id": "3516a8ef",
   "metadata": {},
   "outputs": [
    {
     "data": {
      "text/plain": [
       "dict_keys(['compute_vm_fee', 'gpu_compute_fee', 'managed_disk_fee', 'data_egress_fee', 'data_ingress_fee', 'storage_transaction_fee', 'public_ip_fee', 'load_balancer_fee', 'aks_cluster_fee', 'function_app_fee', 'sql_database_fee', 'snapshot_storage_fee', 'app_service_fee'])"
      ]
     },
     "execution_count": 49,
     "metadata": {},
     "output_type": "execute_result"
    }
   ],
   "source": []
  },
  {
   "cell_type": "code",
   "execution_count": 154,
   "id": "937ed307",
   "metadata": {},
   "outputs": [],
   "source": [
    "symbolic_expr = compose_expression(json.loads(result[0][\"result_graph\"]))\n",
    "\n",
    "# Define the symbol that you want to replace\n",
    "# variable_to_replace = Symbol('os_type')\n",
    "\n",
    "# # Define the value you want to substitute\n",
    "# value_to_substitute = 60\n",
    "\n",
    "# final_charge_cost = symbolic_expr.subs(variable_to_replace, value_to_substitute)\n",
    "# print(f\"The parking cost for {value_to_substitute} hours is: {final_charge_cost} EUR\") "
   ]
  },
  {
   "cell_type": "code",
   "execution_count": 156,
   "id": "a30540ee",
   "metadata": {},
   "outputs": [
    {
     "data": {
      "text/latex": [
       "$\\displaystyle usage_{hours} \\left(\\begin{cases} \\begin{cases} 4.0 & \\text{for}\\: usage_{hours} < 216.5 \\\\\\begin{cases} 3.0 & \\text{for}\\: usage_{hours} < 408.7 \\\\\\begin{cases} 2.0 & \\text{for}\\: usage_{hours} < 598.4 \\\\1.0 & \\text{otherwise} \\end{cases} & \\text{otherwise} \\end{cases} & \\text{otherwise} \\end{cases} & \\text{for}\\: Linux = os_{type} \\\\\\begin{cases} \\begin{cases} 4.8 & \\text{for}\\: usage_{hours} < 216.5 \\\\\\begin{cases} 3.9 & \\text{for}\\: usage_{hours} < 408.7 \\\\\\begin{cases} 2.2 & \\text{for}\\: usage_{hours} < 598.4 \\\\1.1 & \\text{otherwise} \\end{cases} & \\text{otherwise} \\end{cases} & \\text{otherwise} \\end{cases} & \\text{for}\\: Windows = os_{type} \\\\0.0 & \\text{otherwise} \\end{cases} & \\text{otherwise} \\end{cases}\\right)$"
      ],
      "text/plain": [
       "usage_hours*Piecewise((Piecewise((4.0, usage_hours < 216.5), (Piecewise((3.0, usage_hours < 408.7), (Piecewise((2.0, usage_hours < 598.4), (1.0, True)), True)), True)), Eq(Linux, os_type)), (Piecewise((Piecewise((4.8, usage_hours < 216.5), (Piecewise((3.9, usage_hours < 408.7), (Piecewise((2.2, usage_hours < 598.4), (1.1, True)), True)), True)), Eq(Windows, os_type)), (0.0, True)), True))"
      ]
     },
     "execution_count": 156,
     "metadata": {},
     "output_type": "execute_result"
    }
   ],
   "source": [
    "symbolic_expr"
   ]
  },
  {
   "cell_type": "code",
   "execution_count": 162,
   "id": "10b03162",
   "metadata": {},
   "outputs": [
    {
     "name": "stdout",
     "output_type": "stream",
     "text": [
      "858.0\n"
     ]
    }
   ],
   "source": [
    "from sympy import lambdify, Symbol\n",
    "os_type     = Symbol('os_type')\n",
    "usage_hours = Symbol('usage_hours')\n",
    "\n",
    "\n",
    "f = lambdify((os_type, usage_hours), symbolic_expr, 'sympy')\n",
    "\n",
    "print(f(Symbol('Windows'), 220.0))\n"
   ]
  },
  {
   "cell_type": "code",
   "execution_count": null,
   "id": "138339f7",
   "metadata": {},
   "outputs": [],
   "source": []
  },
  {
   "cell_type": "code",
   "execution_count": 163,
   "id": "b33b4a69",
   "metadata": {},
   "outputs": [
    {
     "data": {
      "text/plain": [
       "\"def compute_charge(os_type, usage_hours):\\n    if os_type == 'linux' and 598.4 <= usage_hours < 744.0: return 1 * usage_hours * 1.0\\n    elif os_type == 'linux' and 408.7 <= usage_hours < 598.4: return 2 * usage_hours * 1.0\\n    elif os_type == 'linux' and 216.5 <= usage_hours < 408.7: return 3 * usage_hours * 1.0\\n    elif os_type == 'linux' and 0.0 <= usage_hours < 216.5: return 4 * usage_hours * 1.0\\n    elif os_type == 'windows' and 598.4 <= usage_hours < 744.0: return 1 * usage_hours * 1.1\\n    elif os_type == 'windows' and 408.7 <= usage_hours < 598.4: return 2 * usage_hours * 1.1\\n    elif os_type == 'windows' and 216.5 <= usage_hours < 408.7: return 3 * usage_hours * 1.1\\n    elif os_type == 'windows' and 0.0 <= usage_hours < 216.5: return 4 * usage_hours * 1.1\\n    else: raise ValueError(f'os_type or usage_hours is out of expected range')\""
      ]
     },
     "execution_count": 163,
     "metadata": {},
     "output_type": "execute_result"
    }
   ],
   "source": [
    "code_str"
   ]
  },
  {
   "cell_type": "code",
   "execution_count": 144,
   "id": "4b83350d",
   "metadata": {},
   "outputs": [
    {
     "name": "stdout",
     "output_type": "stream",
     "text": [
      "900.0\n",
      "726.0000000000001\n"
     ]
    }
   ],
   "source": [
    "code_str = charges[list(charge_variables.keys())[0]]['code']\n",
    "\n",
    "ns = {}\n",
    "exec(code_str, ns)                 # defines compute_charge in ns\n",
    "compute_charge = ns['compute_charge']\n",
    "\n",
    "# use it\n",
    "print(compute_charge('linux', 300.0))      # example\n",
    "print(compute_charge('windows', 220.0)) "
   ]
  },
  {
   "cell_type": "code",
   "execution_count": null,
   "id": "b680889b",
   "metadata": {},
   "outputs": [],
   "source": []
  },
  {
   "cell_type": "code",
   "execution_count": null,
   "id": "34b59920",
   "metadata": {},
   "outputs": [
    {
     "data": {
      "text/plain": [
       "{'compute_vm_fee': ['os_type', 'usage_hours'],\n",
       " 'gpu_compute_fee': ['gpu_type'],\n",
       " 'managed_disk_fee': ['managed_disk_count'],\n",
       " 'data_egress_fee': ['region'],\n",
       " 'data_ingress_fee': ['region', 'data_ingress_gb'],\n",
       " 'storage_transaction_fee': ['redundancy', 'storage_transactions_millions'],\n",
       " 'public_ip_fee': ['region', 'public_ip_count'],\n",
       " 'load_balancer_fee': ['load_balancer_rules'],\n",
       " 'aks_cluster_fee': ['region'],\n",
       " 'function_app_fee': ['region', 'function_exec_ms'],\n",
       " 'sql_database_fee': ['region', 'backup_retention_days'],\n",
       " 'snapshot_storage_fee': ['redundancy'],\n",
       " 'app_service_fee': ['service_tier', 'app_service_instances']}"
      ]
     },
     "execution_count": 108,
     "metadata": {},
     "output_type": "execute_result"
    }
   ],
   "source": [
    "charge_variables"
   ]
  },
  {
   "cell_type": "code",
   "execution_count": null,
   "id": "f86b2626",
   "metadata": {},
   "outputs": [
    {
     "data": {
      "text/plain": [
       "['os_type', 'usage_hours']"
      ]
     },
     "execution_count": 106,
     "metadata": {},
     "output_type": "execute_result"
    }
   ],
   "source": [
    "charge_variables['compute_vm_fee']"
   ]
  },
  {
   "cell_type": "code",
   "execution_count": null,
   "id": "7ff95ea2",
   "metadata": {},
   "outputs": [],
   "source": []
  },
  {
   "cell_type": "markdown",
   "id": "e13c68fd",
   "metadata": {},
   "source": [
    "# Archive"
   ]
  },
  {
   "cell_type": "code",
   "execution_count": 20,
   "id": "cddd29e5-1a7c-4e1a-b9c6-7657589ca788",
   "metadata": {},
   "outputs": [
    {
     "name": "stdout",
     "output_type": "stream",
     "text": [
      "--- Building graph for charge category: 'east_aerodrome_parking_charge' ---\n"
     ]
    },
    {
     "name": "stderr",
     "output_type": "stream",
     "text": [
      "/gpfs01/home/ppxac9/MLiS-Placement-Thesis/pipeline/.venv/lib/python3.11/site-packages/guidance/models/_transformers.py:522: UserWarning: Cache is too small. Resetting cache (no method implemented to resize cache for type <class 'transformers.cache_utils.DynamicCache'>).\n",
      "  warnings.warn(\n"
     ]
    },
    {
     "ename": "KeyboardInterrupt",
     "evalue": "",
     "output_type": "error",
     "traceback": [
      "\u001b[31m---------------------------------------------------------------------------\u001b[39m",
      "\u001b[31mKeyboardInterrupt\u001b[39m                         Traceback (most recent call last)",
      "\u001b[36mCell\u001b[39m\u001b[36m \u001b[39m\u001b[32mIn[20]\u001b[39m\u001b[32m, line 4\u001b[39m\n\u001b[32m      1\u001b[39m query = \u001b[33m\"\u001b[39m\u001b[33mCalculate the total parking charge for a Narrow Satellite stand type at East Aerodrome Parking with no overnight parking. The parking duration is a variable with unit hours.\u001b[39m\u001b[33m\"\u001b[39m\n\u001b[32m      2\u001b[39m charge_category = \u001b[33m\"\u001b[39m\u001b[33meast_aerodrome_parking_charge\u001b[39m\u001b[33m\"\u001b[39m\n\u001b[32m----> \u001b[39m\u001b[32m4\u001b[39m result = \u001b[43mcreate_computation_graph\u001b[49m\u001b[43m(\u001b[49m\u001b[43mmodel\u001b[49m\u001b[43m,\u001b[49m\u001b[43m \u001b[49m\u001b[43mquery\u001b[49m\u001b[43m,\u001b[49m\u001b[43m \u001b[49m\u001b[43mcharge_category\u001b[49m\u001b[43m,\u001b[49m\u001b[43m \u001b[49m\u001b[43mmarkdown_content\u001b[49m\u001b[43m,\u001b[49m\u001b[43m \u001b[49m\u001b[43mCHARGE_CATEGORY_VARIABLES\u001b[49m\u001b[43m,\u001b[49m\u001b[43m \u001b[49m\u001b[43mALL_VARIABLES\u001b[49m\u001b[43m)\u001b[49m\n",
      "\u001b[36mCell\u001b[39m\u001b[36m \u001b[39m\u001b[32mIn[19]\u001b[39m\u001b[32m, line 9\u001b[39m, in \u001b[36mcreate_computation_graph\u001b[39m\u001b[34m(model, query, charge_category, markdown_content, charge_category_variables, all_variables)\u001b[39m\n\u001b[32m      6\u001b[39m graph_builder = ComputationGraphBuilder(model=model)\n\u001b[32m      8\u001b[39m start_time = time.perf_counter()\n\u001b[32m----> \u001b[39m\u001b[32m9\u001b[39m llm_structured_response = \u001b[43mgraph_builder\u001b[49m\u001b[43m.\u001b[49m\u001b[43mbuild\u001b[49m\u001b[43m(\u001b[49m\n\u001b[32m     10\u001b[39m \u001b[43m    \u001b[49m\u001b[43mdocument_content\u001b[49m\u001b[43m=\u001b[49m\u001b[43mmarkdown_content\u001b[49m\u001b[43m,\u001b[49m\n\u001b[32m     11\u001b[39m \u001b[43m    \u001b[49m\u001b[43mquery\u001b[49m\u001b[43m=\u001b[49m\u001b[43mquery\u001b[49m\u001b[43m,\u001b[49m\n\u001b[32m     12\u001b[39m \u001b[43m    \u001b[49m\u001b[43mcharge_category\u001b[49m\u001b[43m=\u001b[49m\u001b[43mcharge_category\u001b[49m\u001b[43m,\u001b[49m\n\u001b[32m     13\u001b[39m \u001b[43m    \u001b[49m\u001b[43mcharge_category_variables\u001b[49m\u001b[43m=\u001b[49m\u001b[43mcharge_category_variables\u001b[49m\u001b[43m,\u001b[49m\n\u001b[32m     14\u001b[39m \u001b[43m    \u001b[49m\u001b[43mall_variables\u001b[49m\u001b[43m=\u001b[49m\u001b[43mall_variables\u001b[49m\n\u001b[32m     15\u001b[39m \u001b[43m\u001b[49m\u001b[43m)\u001b[49m\n\u001b[32m     16\u001b[39m end_time = time.perf_counter()\n\u001b[32m     17\u001b[39m build_time = end_time - start_time\n",
      "\u001b[36mFile \u001b[39m\u001b[32m~/MLiS-Placement-Thesis/pipeline/experiments/utils.py:11\u001b[39m, in \u001b[36mtiming_decorator.<locals>.wrapper\u001b[39m\u001b[34m(*args, **kwargs)\u001b[39m\n\u001b[32m      8\u001b[39m \u001b[38;5;129m@functools\u001b[39m.wraps(func)\n\u001b[32m      9\u001b[39m \u001b[38;5;28;01mdef\u001b[39;00m\u001b[38;5;250m \u001b[39m\u001b[34mwrapper\u001b[39m(*args, **kwargs):\n\u001b[32m     10\u001b[39m     start_time = time.perf_counter()  \u001b[38;5;66;03m# Start the clock\u001b[39;00m\n\u001b[32m---> \u001b[39m\u001b[32m11\u001b[39m     result = \u001b[43mfunc\u001b[49m\u001b[43m(\u001b[49m\u001b[43m*\u001b[49m\u001b[43margs\u001b[49m\u001b[43m,\u001b[49m\u001b[43m \u001b[49m\u001b[43m*\u001b[49m\u001b[43m*\u001b[49m\u001b[43mkwargs\u001b[49m\u001b[43m)\u001b[49m    \u001b[38;5;66;03m# Call the original function\u001b[39;00m\n\u001b[32m     12\u001b[39m     end_time = time.perf_counter()    \u001b[38;5;66;03m# Stop the clock\u001b[39;00m\n\u001b[32m     14\u001b[39m     execution_time = end_time - start_time\n",
      "\u001b[36mCell\u001b[39m\u001b[36m \u001b[39m\u001b[32mIn[17]\u001b[39m\u001b[32m, line 44\u001b[39m, in \u001b[36mComputationGraphBuilder.build\u001b[39m\u001b[34m(self, document_content, query, charge_category, charge_category_variables, all_variables)\u001b[39m\n\u001b[32m     38\u001b[39m allowed_variables_prompt = \u001b[33m\"\u001b[39m\u001b[38;5;130;01m\\n\u001b[39;00m\u001b[33m\"\u001b[39m.join(\n\u001b[32m     39\u001b[39m     [\u001b[33mf\u001b[39m\u001b[33m\"\u001b[39m\u001b[33m- **\u001b[39m\u001b[38;5;132;01m{\u001b[39;00mv.name\u001b[38;5;132;01m}\u001b[39;00m\u001b[33m**: \u001b[39m\u001b[38;5;132;01m{\u001b[39;00mv.description\u001b[38;5;132;01m}\u001b[39;00m\u001b[33m\"\u001b[39m \u001b[38;5;28;01mfor\u001b[39;00m name, v \u001b[38;5;129;01min\u001b[39;00m all_variables.items() \u001b[38;5;28;01mif\u001b[39;00m name \u001b[38;5;129;01min\u001b[39;00m allowed_variables]\n\u001b[32m     40\u001b[39m )\n\u001b[32m     42\u001b[39m \u001b[38;5;28;01mtry\u001b[39;00m:\n\u001b[32m     43\u001b[39m     \u001b[38;5;66;03m# 4. Execute the guidance program with all dynamic components\u001b[39;00m\n\u001b[32m---> \u001b[39m\u001b[32m44\u001b[39m     result_lm = \u001b[38;5;28;43mself\u001b[39;49m\u001b[43m.\u001b[49m\u001b[43mmodel\u001b[49m\u001b[43m \u001b[49m\u001b[43m+\u001b[49m\u001b[43m \u001b[49m\u001b[43mcreate_graph_with_cot\u001b[49m\u001b[43m(\u001b[49m\n\u001b[32m     45\u001b[39m \u001b[43m        \u001b[49m\u001b[43mallowed_variables_prompt\u001b[49m\u001b[43m=\u001b[49m\u001b[43mallowed_variables_prompt\u001b[49m\u001b[43m,\u001b[49m\n\u001b[32m     46\u001b[39m \u001b[43m        \u001b[49m\u001b[43mdocument\u001b[49m\u001b[43m=\u001b[49m\u001b[43mdocument_content\u001b[49m\u001b[43m,\u001b[49m\n\u001b[32m     47\u001b[39m \u001b[43m        \u001b[49m\u001b[43mquery\u001b[49m\u001b[43m=\u001b[49m\u001b[43mquery\u001b[49m\u001b[43m,\u001b[49m\n\u001b[32m     48\u001b[39m \u001b[43m        \u001b[49m\u001b[43moutput_schema\u001b[49m\u001b[43m=\u001b[49m\u001b[43mNode\u001b[49m\n\u001b[32m     49\u001b[39m \u001b[43m    \u001b[49m\u001b[43m)\u001b[49m\n\u001b[32m     52\u001b[39m     \u001b[38;5;66;03m# print(\"\\nSuccessfully generated graph:\")\u001b[39;00m\n\u001b[32m     53\u001b[39m     \u001b[38;5;66;03m# # Use model_dump_json for Pydantic v2\u001b[39;00m\n\u001b[32m     54\u001b[39m     \u001b[38;5;66;03m# print(pydantic_graph.model_dump_json(indent=2)) \u001b[39;00m\n\u001b[32m     55\u001b[39m     \u001b[38;5;28;01mreturn\u001b[39;00m result_lm\n",
      "\u001b[36mFile \u001b[39m\u001b[32m~/MLiS-Placement-Thesis/pipeline/.venv/lib/python3.11/site-packages/guidance/models/_base/_model.py:108\u001b[39m, in \u001b[36mModel.__add__\u001b[39m\u001b[34m(self, other)\u001b[39m\n\u001b[32m    106\u001b[39m     other = _parse_tags(other)\n\u001b[32m    107\u001b[39m \u001b[38;5;28;01mif\u001b[39;00m \u001b[38;5;28misinstance\u001b[39m(other, Function):\n\u001b[32m--> \u001b[39m\u001b[32m108\u001b[39m     \u001b[38;5;28;01mreturn\u001b[39;00m \u001b[43mother\u001b[49m\u001b[43m(\u001b[49m\u001b[38;5;28;43mself\u001b[39;49m\u001b[43m)\u001b[49m\n\u001b[32m    109\u001b[39m \u001b[38;5;28;01mif\u001b[39;00m \u001b[38;5;28misinstance\u001b[39m(other, ASTNode):\n\u001b[32m    110\u001b[39m     \u001b[38;5;28mself\u001b[39m = \u001b[38;5;28mself\u001b[39m._apply_node(other)\n",
      "\u001b[36mFile \u001b[39m\u001b[32m~/MLiS-Placement-Thesis/pipeline/.venv/lib/python3.11/site-packages/guidance/_ast.py:108\u001b[39m, in \u001b[36mFunction.__call__\u001b[39m\u001b[34m(self, model)\u001b[39m\n\u001b[32m    107\u001b[39m \u001b[38;5;28;01mdef\u001b[39;00m\u001b[38;5;250m \u001b[39m\u001b[34m__call__\u001b[39m(\u001b[38;5;28mself\u001b[39m, model):\n\u001b[32m--> \u001b[39m\u001b[32m108\u001b[39m     model = \u001b[38;5;28;43mself\u001b[39;49m\u001b[43m.\u001b[49m\u001b[43mf\u001b[49m\u001b[43m(\u001b[49m\u001b[43mmodel\u001b[49m\u001b[43m,\u001b[49m\u001b[43m \u001b[49m\u001b[43m*\u001b[49m\u001b[38;5;28;43mself\u001b[39;49m\u001b[43m.\u001b[49m\u001b[43margs\u001b[49m\u001b[43m,\u001b[49m\u001b[43m \u001b[49m\u001b[43m*\u001b[49m\u001b[43m*\u001b[49m\u001b[38;5;28;43mself\u001b[39;49m\u001b[43m.\u001b[49m\u001b[43mkwargs\u001b[49m\u001b[43m)\u001b[49m\n\u001b[32m    109\u001b[39m     \u001b[38;5;28;01mif\u001b[39;00m model \u001b[38;5;129;01mis\u001b[39;00m \u001b[38;5;28;01mNone\u001b[39;00m:\n\u001b[32m    110\u001b[39m         \u001b[38;5;28;01mraise\u001b[39;00m \u001b[38;5;167;01mException\u001b[39;00m(\n\u001b[32m    111\u001b[39m             \u001b[33mf\u001b[39m\u001b[33m\"\u001b[39m\u001b[33mThe guidance function `\u001b[39m\u001b[38;5;132;01m{\u001b[39;00m\u001b[38;5;28mself\u001b[39m.f.\u001b[34m__name__\u001b[39m\u001b[38;5;132;01m}\u001b[39;00m\u001b[33m` did not return a model object! You need to return an updated model object at the end of your guidance function.\u001b[39m\u001b[33m\"\u001b[39m\n\u001b[32m    112\u001b[39m         )\n",
      "\u001b[36mCell\u001b[39m\u001b[36m \u001b[39m\u001b[32mIn[16]\u001b[39m\u001b[32m, line 50\u001b[39m, in \u001b[36mcreate_graph_with_cot\u001b[39m\u001b[34m(llm, allowed_variables_prompt, document, query, output_schema)\u001b[39m\n\u001b[32m     44\u001b[39m llm += gen_json(\n\u001b[32m     45\u001b[39m     name=\u001b[33m\"\u001b[39m\u001b[33mthought1\u001b[39m\u001b[33m\"\u001b[39m, \n\u001b[32m     46\u001b[39m     schema=ReasoningSchemaStep1, \n\u001b[32m     47\u001b[39m     max_tokens=\u001b[32m600\u001b[39m)\n\u001b[32m     49\u001b[39m llm += \u001b[33m\"\u001b[39m\u001b[33mStep2. Identify All Relevant Information:\u001b[39m\u001b[38;5;130;01m\\n\u001b[39;00m\u001b[33m\"\u001b[39m\n\u001b[32m---> \u001b[39m\u001b[32m50\u001b[39m \u001b[43mllm\u001b[49m\u001b[43m \u001b[49m\u001b[43m+\u001b[49m\u001b[43m=\u001b[49m\u001b[43m \u001b[49m\u001b[43mgen_json\u001b[49m\u001b[43m(\u001b[49m\n\u001b[32m     51\u001b[39m \u001b[43m    \u001b[49m\u001b[43mname\u001b[49m\u001b[43m=\u001b[49m\u001b[33;43m\"\u001b[39;49m\u001b[33;43mthought2\u001b[39;49m\u001b[33;43m\"\u001b[39;49m\u001b[43m,\u001b[49m\u001b[43m \u001b[49m\n\u001b[32m     52\u001b[39m \u001b[43m    \u001b[49m\u001b[43mschema\u001b[49m\u001b[43m=\u001b[49m\u001b[43mReasoningSchemaStep2\u001b[49m\u001b[43m,\u001b[49m\u001b[43m \u001b[49m\n\u001b[32m     53\u001b[39m \u001b[43m    \u001b[49m\u001b[43mmax_tokens\u001b[49m\u001b[43m=\u001b[49m\u001b[32;43m600\u001b[39;49m\u001b[43m)\u001b[49m\n\u001b[32m     55\u001b[39m llm += \u001b[33m\"\u001b[39m\u001b[33mStep3. Synthesize Plan:\u001b[39m\u001b[38;5;130;01m\\n\u001b[39;00m\u001b[33m\"\u001b[39m\n\u001b[32m     56\u001b[39m llm += gen_json(\n\u001b[32m     57\u001b[39m     name=\u001b[33m\"\u001b[39m\u001b[33mthought3\u001b[39m\u001b[33m\"\u001b[39m, \n\u001b[32m     58\u001b[39m     schema=ReasoningSchemaStep3, \n\u001b[32m     59\u001b[39m     max_tokens=\u001b[32m600\u001b[39m)\n",
      "\u001b[36mFile \u001b[39m\u001b[32m~/MLiS-Placement-Thesis/pipeline/.venv/lib/python3.11/site-packages/guidance/models/_base/_model.py:110\u001b[39m, in \u001b[36mModel.__add__\u001b[39m\u001b[34m(self, other)\u001b[39m\n\u001b[32m    108\u001b[39m     \u001b[38;5;28;01mreturn\u001b[39;00m other(\u001b[38;5;28mself\u001b[39m)\n\u001b[32m    109\u001b[39m \u001b[38;5;28;01mif\u001b[39;00m \u001b[38;5;28misinstance\u001b[39m(other, ASTNode):\n\u001b[32m--> \u001b[39m\u001b[32m110\u001b[39m     \u001b[38;5;28mself\u001b[39m = \u001b[38;5;28;43mself\u001b[39;49m\u001b[43m.\u001b[49m\u001b[43m_apply_node\u001b[49m\u001b[43m(\u001b[49m\u001b[43mother\u001b[49m\u001b[43m)\u001b[49m\n\u001b[32m    111\u001b[39m     \u001b[38;5;28mself\u001b[39m = \u001b[38;5;28mself\u001b[39m._update_open_block_captures()\n\u001b[32m    112\u001b[39m     \u001b[38;5;28;01mreturn\u001b[39;00m \u001b[38;5;28mself\u001b[39m\n",
      "\u001b[36mFile \u001b[39m\u001b[32m~/MLiS-Placement-Thesis/pipeline/.venv/lib/python3.11/site-packages/guidance/models/_base/_model.py:139\u001b[39m, in \u001b[36mModel._apply_node\u001b[39m\u001b[34m(self, node)\u001b[39m\n\u001b[32m    136\u001b[39m     \u001b[38;5;28mself\u001b[39m._update_trace_node(\u001b[38;5;28mself\u001b[39m._id, \u001b[38;5;28mself\u001b[39m._parent_id, StatelessGuidanceInput(value=node), \u001b[38;5;28mself\u001b[39m.echo)\n\u001b[32m    138\u001b[39m \u001b[38;5;66;03m# NOTE: passing a copy of the sampling parameters to avoid modifying the original\u001b[39;00m\n\u001b[32m--> \u001b[39m\u001b[32m139\u001b[39m \u001b[43m\u001b[49m\u001b[38;5;28;43;01mfor\u001b[39;49;00m\u001b[43m \u001b[49m\u001b[43mi\u001b[49m\u001b[43m,\u001b[49m\u001b[43m \u001b[49m\u001b[43moutput_attr\u001b[49m\u001b[43m \u001b[49m\u001b[38;5;129;43;01min\u001b[39;49;00m\u001b[43m \u001b[49m\u001b[38;5;28;43menumerate\u001b[39;49m\u001b[43m(\u001b[49m\u001b[38;5;28;43mself\u001b[39;49m\u001b[43m.\u001b[49m\u001b[43m_interpreter\u001b[49m\u001b[43m.\u001b[49m\u001b[43mrun\u001b[49m\u001b[43m(\u001b[49m\u001b[43mnode\u001b[49m\u001b[43m,\u001b[49m\u001b[43m \u001b[49m\u001b[43msampling_params\u001b[49m\u001b[43m=\u001b[49m\u001b[38;5;28;43mself\u001b[39;49m\u001b[43m.\u001b[49m\u001b[43msampling_params\u001b[49m\u001b[43m.\u001b[49m\u001b[43mcopy\u001b[49m\u001b[43m(\u001b[49m\u001b[43m)\u001b[49m\u001b[43m)\u001b[49m\u001b[43m)\u001b[49m\u001b[43m:\u001b[49m\n\u001b[32m    140\u001b[39m \u001b[43m    \u001b[49m\u001b[38;5;28;43;01mif\u001b[39;49;00m\u001b[43m \u001b[49m\u001b[43mi\u001b[49m\u001b[43m \u001b[49m\u001b[43m!=\u001b[49m\u001b[43m \u001b[49m\u001b[32;43m0\u001b[39;49m\u001b[43m:\u001b[49m\n\u001b[32m    141\u001b[39m \u001b[43m        \u001b[49m\u001b[38;5;66;43;03m# On the first iteration, we already have a fresh trace node\u001b[39;49;00m\n\u001b[32m    142\u001b[39m \u001b[43m        \u001b[49m\u001b[38;5;66;43;03m# TODO: should be allowed to associate multiple output_attrs with a single input node?\u001b[39;49;00m\n\u001b[32m    143\u001b[39m \u001b[43m        \u001b[49m\u001b[38;5;66;43;03m# TODO: put this responsibility on the client in the case that it breaks a single input\u001b[39;49;00m\n\u001b[32m    144\u001b[39m \u001b[43m        \u001b[49m\u001b[38;5;66;43;03m# node into multiple input nodes to be handled sequentially?\u001b[39;49;00m\n\u001b[32m    145\u001b[39m \u001b[43m        \u001b[49m\u001b[38;5;28;43mself\u001b[39;49m\u001b[43m.\u001b[49m\u001b[43m_parent_id\u001b[49m\u001b[43m \u001b[49m\u001b[43m=\u001b[49m\u001b[43m \u001b[49m\u001b[38;5;28;43mself\u001b[39;49m\u001b[43m.\u001b[49m\u001b[43m_id\u001b[49m\n",
      "\u001b[36mFile \u001b[39m\u001b[32m~/MLiS-Placement-Thesis/pipeline/.venv/lib/python3.11/site-packages/guidance/models/_base/_interpreter.py:36\u001b[39m, in \u001b[36mInterpreter.run\u001b[39m\u001b[34m(self, node, **kwargs)\u001b[39m\n\u001b[32m     35\u001b[39m \u001b[38;5;28;01mdef\u001b[39;00m\u001b[38;5;250m \u001b[39m\u001b[34mrun\u001b[39m(\u001b[38;5;28mself\u001b[39m, node: ASTNode, **kwargs) -> Iterator[OutputAttr]:\n\u001b[32m---> \u001b[39m\u001b[32m36\u001b[39m     \u001b[38;5;28;01myield from\u001b[39;00m node.simplify()._run(\u001b[38;5;28mself\u001b[39m, **kwargs)\n",
      "\u001b[36mFile \u001b[39m\u001b[32m~/MLiS-Placement-Thesis/pipeline/.venv/lib/python3.11/site-packages/guidance/models/_engine/_interpreter.py:75\u001b[39m, in \u001b[36mEngineInterpreter.grammar\u001b[39m\u001b[34m(self, node, **kwargs)\u001b[39m\n\u001b[32m     73\u001b[39m \u001b[38;5;28;01mwhile\u001b[39;00m \u001b[38;5;28;01mTrue\u001b[39;00m:\n\u001b[32m     74\u001b[39m     \u001b[38;5;28;01mtry\u001b[39;00m:\n\u001b[32m---> \u001b[39m\u001b[32m75\u001b[39m         chunk = \u001b[38;5;28mnext\u001b[39m(engine_gen)\n\u001b[32m     76\u001b[39m     \u001b[38;5;28;01mexcept\u001b[39;00m \u001b[38;5;167;01mStopIteration\u001b[39;00m \u001b[38;5;28;01mas\u001b[39;00m e:\n\u001b[32m     77\u001b[39m         \u001b[38;5;28;01mif\u001b[39;00m \u001b[38;5;129;01mnot\u001b[39;00m \u001b[38;5;28misinstance\u001b[39m(e.value, TokenUsage):\n",
      "\u001b[36mFile \u001b[39m\u001b[32m~/MLiS-Placement-Thesis/pipeline/.venv/lib/python3.11/site-packages/guidance/models/_engine/_engine.py:179\u001b[39m, in \u001b[36mEngine.__call__\u001b[39m\u001b[34m(self, state, grammar, ensure_bos_token, sampling_params)\u001b[39m\n\u001b[32m    177\u001b[39m \u001b[38;5;28;01melse\u001b[39;00m:\n\u001b[32m    178\u001b[39m     t1 = time.time()\n\u001b[32m--> \u001b[39m\u001b[32m179\u001b[39m     logits_output = \u001b[38;5;28;43mself\u001b[39;49m\u001b[43m.\u001b[49m\u001b[43mget_logits\u001b[49m\u001b[43m(\u001b[49m\n\u001b[32m    180\u001b[39m \u001b[43m        \u001b[49m\u001b[43mtoken_ids\u001b[49m\u001b[43m=\u001b[49m\u001b[43mtokens\u001b[49m\u001b[43m,\u001b[49m\u001b[43m \u001b[49m\u001b[43minclude_all_uncached_tokens\u001b[49m\u001b[43m=\u001b[49m\u001b[38;5;28;43mself\u001b[39;49m\u001b[43m.\u001b[49m\u001b[43m_enable_token_probabilities\u001b[49m\n\u001b[32m    181\u001b[39m \u001b[43m    \u001b[49m\u001b[43m)\u001b[49m\n\u001b[32m    182\u001b[39m     logits = logits_output[\u001b[33m\"\u001b[39m\u001b[33mlogits\u001b[39m\u001b[33m\"\u001b[39m]\n\u001b[32m    183\u001b[39m     usage.input_tokens += logits_output[\u001b[33m\"\u001b[39m\u001b[33mn_tokens\u001b[39m\u001b[33m\"\u001b[39m]\n",
      "\u001b[36mFile \u001b[39m\u001b[32m~/MLiS-Placement-Thesis/pipeline/.venv/lib/python3.11/site-packages/guidance/models/_transformers.py:562\u001b[39m, in \u001b[36mTransformersEngine.get_logits\u001b[39m\u001b[34m(self, token_ids, include_all_uncached_tokens)\u001b[39m\n\u001b[32m    559\u001b[39m \u001b[38;5;28;01mwith\u001b[39;00m torch.no_grad():\n\u001b[32m    560\u001b[39m     \u001b[38;5;66;03m# Not all models support batched tokens for some reason\u001b[39;00m\n\u001b[32m    561\u001b[39m     \u001b[38;5;28;01mtry\u001b[39;00m:\n\u001b[32m--> \u001b[39m\u001b[32m562\u001b[39m         model_out = \u001b[38;5;28;43mself\u001b[39;49m\u001b[43m.\u001b[49m\u001b[43mmodel_obj\u001b[49m\u001b[43m(\u001b[49m\n\u001b[32m    563\u001b[39m \u001b[43m            \u001b[49m\u001b[43minput_ids\u001b[49m\u001b[43m=\u001b[49m\u001b[43mtorch\u001b[49m\u001b[43m.\u001b[49m\u001b[43mtensor\u001b[49m\u001b[43m(\u001b[49m\u001b[43mnew_token_ids\u001b[49m\u001b[43m)\u001b[49m\u001b[43m.\u001b[49m\u001b[43munsqueeze\u001b[49m\u001b[43m(\u001b[49m\u001b[32;43m0\u001b[39;49m\u001b[43m)\u001b[49m\u001b[43m.\u001b[49m\u001b[43mto\u001b[49m\u001b[43m(\u001b[49m\u001b[38;5;28;43mself\u001b[39;49m\u001b[43m.\u001b[49m\u001b[43mdevice\u001b[49m\u001b[43m)\u001b[49m\u001b[43m,\u001b[49m\n\u001b[32m    564\u001b[39m \u001b[43m            \u001b[49m\u001b[43mpast_key_values\u001b[49m\u001b[43m=\u001b[49m\u001b[38;5;28;43mself\u001b[39;49m\u001b[43m.\u001b[49m\u001b[43m_past_key_values\u001b[49m\u001b[43m,\u001b[49m\n\u001b[32m    565\u001b[39m \u001b[43m            \u001b[49m\u001b[43muse_cache\u001b[49m\u001b[43m=\u001b[49m\u001b[38;5;28;43;01mTrue\u001b[39;49;00m\u001b[43m,\u001b[49m\n\u001b[32m    566\u001b[39m \u001b[43m            \u001b[49m\u001b[43mposition_ids\u001b[49m\u001b[43m=\u001b[49m\u001b[43mtorch\u001b[49m\u001b[43m.\u001b[49m\u001b[43marange\u001b[49m\u001b[43m(\u001b[49m\u001b[43mpast_length\u001b[49m\u001b[43m,\u001b[49m\u001b[43m \u001b[49m\u001b[43mpast_length\u001b[49m\u001b[43m \u001b[49m\u001b[43m+\u001b[49m\u001b[43m \u001b[49m\u001b[38;5;28;43mlen\u001b[39;49m\u001b[43m(\u001b[49m\u001b[43mnew_token_ids\u001b[49m\u001b[43m)\u001b[49m\u001b[43m)\u001b[49m\n\u001b[32m    567\u001b[39m \u001b[43m            \u001b[49m\u001b[43m.\u001b[49m\u001b[43munsqueeze\u001b[49m\u001b[43m(\u001b[49m\u001b[32;43m0\u001b[39;49m\u001b[43m)\u001b[49m\n\u001b[32m    568\u001b[39m \u001b[43m            \u001b[49m\u001b[43m.\u001b[49m\u001b[43mto\u001b[49m\u001b[43m(\u001b[49m\u001b[38;5;28;43mself\u001b[39;49m\u001b[43m.\u001b[49m\u001b[43mdevice\u001b[49m\u001b[43m)\u001b[49m\u001b[43m,\u001b[49m\n\u001b[32m    569\u001b[39m \u001b[43m            \u001b[49m\u001b[43mattention_mask\u001b[49m\u001b[43m=\u001b[49m\u001b[43mtorch\u001b[49m\u001b[43m.\u001b[49m\u001b[43mones\u001b[49m\u001b[43m(\u001b[49m\u001b[32;43m1\u001b[39;49m\u001b[43m,\u001b[49m\u001b[43m \u001b[49m\u001b[43mpast_length\u001b[49m\u001b[43m \u001b[49m\u001b[43m+\u001b[49m\u001b[43m \u001b[49m\u001b[38;5;28;43mlen\u001b[39;49m\u001b[43m(\u001b[49m\u001b[43mnew_token_ids\u001b[49m\u001b[43m)\u001b[49m\u001b[43m)\u001b[49m\u001b[43m.\u001b[49m\u001b[43mto\u001b[49m\u001b[43m(\u001b[49m\u001b[38;5;28;43mself\u001b[39;49m\u001b[43m.\u001b[49m\u001b[43mdevice\u001b[49m\u001b[43m)\u001b[49m\u001b[43m,\u001b[49m\n\u001b[32m    570\u001b[39m \u001b[43m            \u001b[49m\u001b[43mreturn_dict\u001b[49m\u001b[43m=\u001b[49m\u001b[38;5;28;43;01mTrue\u001b[39;49;00m\u001b[43m,\u001b[49m\n\u001b[32m    571\u001b[39m \u001b[43m            \u001b[49m\u001b[43moutput_attentions\u001b[49m\u001b[43m=\u001b[49m\u001b[38;5;28;43;01mFalse\u001b[39;49;00m\u001b[43m,\u001b[49m\n\u001b[32m    572\u001b[39m \u001b[43m            \u001b[49m\u001b[43moutput_hidden_states\u001b[49m\u001b[43m=\u001b[49m\u001b[38;5;28;43;01mFalse\u001b[39;49;00m\u001b[43m,\u001b[49m\n\u001b[32m    573\u001b[39m \u001b[43m        \u001b[49m\u001b[43m)\u001b[49m\n\u001b[32m    574\u001b[39m         \u001b[38;5;66;03m# Need to add special truncating logic here for weird models that have a different output size than tokenizer vocab\u001b[39;00m\n\u001b[32m    575\u001b[39m         logits_for_each_batch.append(model_out.logits[\u001b[32m0\u001b[39m, :, : \u001b[38;5;28mself\u001b[39m.tokenizer._vocab_size].float().cpu().numpy())\n",
      "\u001b[36mFile \u001b[39m\u001b[32m~/MLiS-Placement-Thesis/pipeline/.venv/lib/python3.11/site-packages/torch/nn/modules/module.py:1751\u001b[39m, in \u001b[36mModule._wrapped_call_impl\u001b[39m\u001b[34m(self, *args, **kwargs)\u001b[39m\n\u001b[32m   1749\u001b[39m     \u001b[38;5;28;01mreturn\u001b[39;00m \u001b[38;5;28mself\u001b[39m._compiled_call_impl(*args, **kwargs)  \u001b[38;5;66;03m# type: ignore[misc]\u001b[39;00m\n\u001b[32m   1750\u001b[39m \u001b[38;5;28;01melse\u001b[39;00m:\n\u001b[32m-> \u001b[39m\u001b[32m1751\u001b[39m     \u001b[38;5;28;01mreturn\u001b[39;00m \u001b[38;5;28;43mself\u001b[39;49m\u001b[43m.\u001b[49m\u001b[43m_call_impl\u001b[49m\u001b[43m(\u001b[49m\u001b[43m*\u001b[49m\u001b[43margs\u001b[49m\u001b[43m,\u001b[49m\u001b[43m \u001b[49m\u001b[43m*\u001b[49m\u001b[43m*\u001b[49m\u001b[43mkwargs\u001b[49m\u001b[43m)\u001b[49m\n",
      "\u001b[36mFile \u001b[39m\u001b[32m~/MLiS-Placement-Thesis/pipeline/.venv/lib/python3.11/site-packages/torch/nn/modules/module.py:1762\u001b[39m, in \u001b[36mModule._call_impl\u001b[39m\u001b[34m(self, *args, **kwargs)\u001b[39m\n\u001b[32m   1757\u001b[39m \u001b[38;5;66;03m# If we don't have any hooks, we want to skip the rest of the logic in\u001b[39;00m\n\u001b[32m   1758\u001b[39m \u001b[38;5;66;03m# this function, and just call forward.\u001b[39;00m\n\u001b[32m   1759\u001b[39m \u001b[38;5;28;01mif\u001b[39;00m \u001b[38;5;129;01mnot\u001b[39;00m (\u001b[38;5;28mself\u001b[39m._backward_hooks \u001b[38;5;129;01mor\u001b[39;00m \u001b[38;5;28mself\u001b[39m._backward_pre_hooks \u001b[38;5;129;01mor\u001b[39;00m \u001b[38;5;28mself\u001b[39m._forward_hooks \u001b[38;5;129;01mor\u001b[39;00m \u001b[38;5;28mself\u001b[39m._forward_pre_hooks\n\u001b[32m   1760\u001b[39m         \u001b[38;5;129;01mor\u001b[39;00m _global_backward_pre_hooks \u001b[38;5;129;01mor\u001b[39;00m _global_backward_hooks\n\u001b[32m   1761\u001b[39m         \u001b[38;5;129;01mor\u001b[39;00m _global_forward_hooks \u001b[38;5;129;01mor\u001b[39;00m _global_forward_pre_hooks):\n\u001b[32m-> \u001b[39m\u001b[32m1762\u001b[39m     \u001b[38;5;28;01mreturn\u001b[39;00m \u001b[43mforward_call\u001b[49m\u001b[43m(\u001b[49m\u001b[43m*\u001b[49m\u001b[43margs\u001b[49m\u001b[43m,\u001b[49m\u001b[43m \u001b[49m\u001b[43m*\u001b[49m\u001b[43m*\u001b[49m\u001b[43mkwargs\u001b[49m\u001b[43m)\u001b[49m\n\u001b[32m   1764\u001b[39m result = \u001b[38;5;28;01mNone\u001b[39;00m\n\u001b[32m   1765\u001b[39m called_always_called_hooks = \u001b[38;5;28mset\u001b[39m()\n",
      "\u001b[36mFile \u001b[39m\u001b[32m~/MLiS-Placement-Thesis/pipeline/.venv/lib/python3.11/site-packages/accelerate/hooks.py:175\u001b[39m, in \u001b[36madd_hook_to_module.<locals>.new_forward\u001b[39m\u001b[34m(module, *args, **kwargs)\u001b[39m\n\u001b[32m    173\u001b[39m         output = module._old_forward(*args, **kwargs)\n\u001b[32m    174\u001b[39m \u001b[38;5;28;01melse\u001b[39;00m:\n\u001b[32m--> \u001b[39m\u001b[32m175\u001b[39m     output = \u001b[43mmodule\u001b[49m\u001b[43m.\u001b[49m\u001b[43m_old_forward\u001b[49m\u001b[43m(\u001b[49m\u001b[43m*\u001b[49m\u001b[43margs\u001b[49m\u001b[43m,\u001b[49m\u001b[43m \u001b[49m\u001b[43m*\u001b[49m\u001b[43m*\u001b[49m\u001b[43mkwargs\u001b[49m\u001b[43m)\u001b[49m\n\u001b[32m    176\u001b[39m \u001b[38;5;28;01mreturn\u001b[39;00m module._hf_hook.post_forward(module, output)\n",
      "\u001b[36mFile \u001b[39m\u001b[32m~/MLiS-Placement-Thesis/pipeline/.venv/lib/python3.11/site-packages/transformers/utils/generic.py:961\u001b[39m, in \u001b[36mcan_return_tuple.<locals>.wrapper\u001b[39m\u001b[34m(self, *args, **kwargs)\u001b[39m\n\u001b[32m    959\u001b[39m \u001b[38;5;28;01mif\u001b[39;00m return_dict_passed \u001b[38;5;129;01mis\u001b[39;00m \u001b[38;5;129;01mnot\u001b[39;00m \u001b[38;5;28;01mNone\u001b[39;00m:\n\u001b[32m    960\u001b[39m     return_dict = return_dict_passed\n\u001b[32m--> \u001b[39m\u001b[32m961\u001b[39m output = \u001b[43mfunc\u001b[49m\u001b[43m(\u001b[49m\u001b[38;5;28;43mself\u001b[39;49m\u001b[43m,\u001b[49m\u001b[43m \u001b[49m\u001b[43m*\u001b[49m\u001b[43margs\u001b[49m\u001b[43m,\u001b[49m\u001b[43m \u001b[49m\u001b[43m*\u001b[49m\u001b[43m*\u001b[49m\u001b[43mkwargs\u001b[49m\u001b[43m)\u001b[49m\n\u001b[32m    962\u001b[39m \u001b[38;5;28;01mif\u001b[39;00m \u001b[38;5;129;01mnot\u001b[39;00m return_dict \u001b[38;5;129;01mand\u001b[39;00m \u001b[38;5;129;01mnot\u001b[39;00m \u001b[38;5;28misinstance\u001b[39m(output, \u001b[38;5;28mtuple\u001b[39m):\n\u001b[32m    963\u001b[39m     output = output.to_tuple()\n",
      "\u001b[36mFile \u001b[39m\u001b[32m~/MLiS-Placement-Thesis/pipeline/.venv/lib/python3.11/site-packages/transformers/models/qwen3_moe/modeling_qwen3_moe.py:651\u001b[39m, in \u001b[36mQwen3MoeForCausalLM.forward\u001b[39m\u001b[34m(self, input_ids, attention_mask, position_ids, past_key_values, inputs_embeds, labels, use_cache, output_router_logits, cache_position, logits_to_keep, **kwargs)\u001b[39m\n\u001b[32m    646\u001b[39m output_router_logits = (\n\u001b[32m    647\u001b[39m     output_router_logits \u001b[38;5;28;01mif\u001b[39;00m output_router_logits \u001b[38;5;129;01mis\u001b[39;00m \u001b[38;5;129;01mnot\u001b[39;00m \u001b[38;5;28;01mNone\u001b[39;00m \u001b[38;5;28;01melse\u001b[39;00m \u001b[38;5;28mself\u001b[39m.config.output_router_logits\n\u001b[32m    648\u001b[39m )\n\u001b[32m    650\u001b[39m \u001b[38;5;66;03m# decoder outputs consists of (dec_features, layer_state, dec_hidden, dec_attn)\u001b[39;00m\n\u001b[32m--> \u001b[39m\u001b[32m651\u001b[39m outputs: MoeModelOutputWithPast = \u001b[38;5;28;43mself\u001b[39;49m\u001b[43m.\u001b[49m\u001b[43mmodel\u001b[49m\u001b[43m(\u001b[49m\n\u001b[32m    652\u001b[39m \u001b[43m    \u001b[49m\u001b[43minput_ids\u001b[49m\u001b[43m=\u001b[49m\u001b[43minput_ids\u001b[49m\u001b[43m,\u001b[49m\n\u001b[32m    653\u001b[39m \u001b[43m    \u001b[49m\u001b[43mattention_mask\u001b[49m\u001b[43m=\u001b[49m\u001b[43mattention_mask\u001b[49m\u001b[43m,\u001b[49m\n\u001b[32m    654\u001b[39m \u001b[43m    \u001b[49m\u001b[43mposition_ids\u001b[49m\u001b[43m=\u001b[49m\u001b[43mposition_ids\u001b[49m\u001b[43m,\u001b[49m\n\u001b[32m    655\u001b[39m \u001b[43m    \u001b[49m\u001b[43mpast_key_values\u001b[49m\u001b[43m=\u001b[49m\u001b[43mpast_key_values\u001b[49m\u001b[43m,\u001b[49m\n\u001b[32m    656\u001b[39m \u001b[43m    \u001b[49m\u001b[43minputs_embeds\u001b[49m\u001b[43m=\u001b[49m\u001b[43minputs_embeds\u001b[49m\u001b[43m,\u001b[49m\n\u001b[32m    657\u001b[39m \u001b[43m    \u001b[49m\u001b[43muse_cache\u001b[49m\u001b[43m=\u001b[49m\u001b[43muse_cache\u001b[49m\u001b[43m,\u001b[49m\n\u001b[32m    658\u001b[39m \u001b[43m    \u001b[49m\u001b[43moutput_router_logits\u001b[49m\u001b[43m=\u001b[49m\u001b[43moutput_router_logits\u001b[49m\u001b[43m,\u001b[49m\n\u001b[32m    659\u001b[39m \u001b[43m    \u001b[49m\u001b[43mcache_position\u001b[49m\u001b[43m=\u001b[49m\u001b[43mcache_position\u001b[49m\u001b[43m,\u001b[49m\n\u001b[32m    660\u001b[39m \u001b[43m    \u001b[49m\u001b[43m*\u001b[49m\u001b[43m*\u001b[49m\u001b[43mkwargs\u001b[49m\u001b[43m,\u001b[49m\n\u001b[32m    661\u001b[39m \u001b[43m\u001b[49m\u001b[43m)\u001b[49m\n\u001b[32m    663\u001b[39m hidden_states = outputs.last_hidden_state\n\u001b[32m    664\u001b[39m \u001b[38;5;66;03m# Only compute necessary logits, and do not upcast them to float if we are not computing the loss\u001b[39;00m\n",
      "\u001b[36mFile \u001b[39m\u001b[32m~/MLiS-Placement-Thesis/pipeline/.venv/lib/python3.11/site-packages/torch/nn/modules/module.py:1751\u001b[39m, in \u001b[36mModule._wrapped_call_impl\u001b[39m\u001b[34m(self, *args, **kwargs)\u001b[39m\n\u001b[32m   1749\u001b[39m     \u001b[38;5;28;01mreturn\u001b[39;00m \u001b[38;5;28mself\u001b[39m._compiled_call_impl(*args, **kwargs)  \u001b[38;5;66;03m# type: ignore[misc]\u001b[39;00m\n\u001b[32m   1750\u001b[39m \u001b[38;5;28;01melse\u001b[39;00m:\n\u001b[32m-> \u001b[39m\u001b[32m1751\u001b[39m     \u001b[38;5;28;01mreturn\u001b[39;00m \u001b[38;5;28;43mself\u001b[39;49m\u001b[43m.\u001b[49m\u001b[43m_call_impl\u001b[49m\u001b[43m(\u001b[49m\u001b[43m*\u001b[49m\u001b[43margs\u001b[49m\u001b[43m,\u001b[49m\u001b[43m \u001b[49m\u001b[43m*\u001b[49m\u001b[43m*\u001b[49m\u001b[43mkwargs\u001b[49m\u001b[43m)\u001b[49m\n",
      "\u001b[36mFile \u001b[39m\u001b[32m~/MLiS-Placement-Thesis/pipeline/.venv/lib/python3.11/site-packages/torch/nn/modules/module.py:1762\u001b[39m, in \u001b[36mModule._call_impl\u001b[39m\u001b[34m(self, *args, **kwargs)\u001b[39m\n\u001b[32m   1757\u001b[39m \u001b[38;5;66;03m# If we don't have any hooks, we want to skip the rest of the logic in\u001b[39;00m\n\u001b[32m   1758\u001b[39m \u001b[38;5;66;03m# this function, and just call forward.\u001b[39;00m\n\u001b[32m   1759\u001b[39m \u001b[38;5;28;01mif\u001b[39;00m \u001b[38;5;129;01mnot\u001b[39;00m (\u001b[38;5;28mself\u001b[39m._backward_hooks \u001b[38;5;129;01mor\u001b[39;00m \u001b[38;5;28mself\u001b[39m._backward_pre_hooks \u001b[38;5;129;01mor\u001b[39;00m \u001b[38;5;28mself\u001b[39m._forward_hooks \u001b[38;5;129;01mor\u001b[39;00m \u001b[38;5;28mself\u001b[39m._forward_pre_hooks\n\u001b[32m   1760\u001b[39m         \u001b[38;5;129;01mor\u001b[39;00m _global_backward_pre_hooks \u001b[38;5;129;01mor\u001b[39;00m _global_backward_hooks\n\u001b[32m   1761\u001b[39m         \u001b[38;5;129;01mor\u001b[39;00m _global_forward_hooks \u001b[38;5;129;01mor\u001b[39;00m _global_forward_pre_hooks):\n\u001b[32m-> \u001b[39m\u001b[32m1762\u001b[39m     \u001b[38;5;28;01mreturn\u001b[39;00m \u001b[43mforward_call\u001b[49m\u001b[43m(\u001b[49m\u001b[43m*\u001b[49m\u001b[43margs\u001b[49m\u001b[43m,\u001b[49m\u001b[43m \u001b[49m\u001b[43m*\u001b[49m\u001b[43m*\u001b[49m\u001b[43mkwargs\u001b[49m\u001b[43m)\u001b[49m\n\u001b[32m   1764\u001b[39m result = \u001b[38;5;28;01mNone\u001b[39;00m\n\u001b[32m   1765\u001b[39m called_always_called_hooks = \u001b[38;5;28mset\u001b[39m()\n",
      "\u001b[36mFile \u001b[39m\u001b[32m~/MLiS-Placement-Thesis/pipeline/.venv/lib/python3.11/site-packages/transformers/utils/generic.py:1069\u001b[39m, in \u001b[36mcheck_model_inputs.<locals>.wrapper\u001b[39m\u001b[34m(self, *args, **kwargs)\u001b[39m\n\u001b[32m   1066\u001b[39m                 module.forward = make_capture_wrapper(module, original_forward, key, specs.index)\n\u001b[32m   1067\u001b[39m                 monkey_patched_layers.append((module, original_forward))\n\u001b[32m-> \u001b[39m\u001b[32m1069\u001b[39m outputs = \u001b[43mfunc\u001b[49m\u001b[43m(\u001b[49m\u001b[38;5;28;43mself\u001b[39;49m\u001b[43m,\u001b[49m\u001b[43m \u001b[49m\u001b[43m*\u001b[49m\u001b[43margs\u001b[49m\u001b[43m,\u001b[49m\u001b[43m \u001b[49m\u001b[43m*\u001b[49m\u001b[43m*\u001b[49m\u001b[43mkwargs\u001b[49m\u001b[43m)\u001b[49m\n\u001b[32m   1070\u001b[39m \u001b[38;5;66;03m# Restore original forward methods\u001b[39;00m\n\u001b[32m   1071\u001b[39m \u001b[38;5;28;01mfor\u001b[39;00m module, original_forward \u001b[38;5;129;01min\u001b[39;00m monkey_patched_layers:\n",
      "\u001b[36mFile \u001b[39m\u001b[32m~/MLiS-Placement-Thesis/pipeline/.venv/lib/python3.11/site-packages/transformers/models/qwen3_moe/modeling_qwen3_moe.py:482\u001b[39m, in \u001b[36mQwen3MoeModel.forward\u001b[39m\u001b[34m(self, input_ids, attention_mask, position_ids, past_key_values, inputs_embeds, use_cache, cache_position, **kwargs)\u001b[39m\n\u001b[32m    479\u001b[39m position_embeddings = \u001b[38;5;28mself\u001b[39m.rotary_emb(hidden_states, position_ids)\n\u001b[32m    481\u001b[39m \u001b[38;5;28;01mfor\u001b[39;00m decoder_layer \u001b[38;5;129;01min\u001b[39;00m \u001b[38;5;28mself\u001b[39m.layers[: \u001b[38;5;28mself\u001b[39m.config.num_hidden_layers]:\n\u001b[32m--> \u001b[39m\u001b[32m482\u001b[39m     hidden_states = \u001b[43mdecoder_layer\u001b[49m\u001b[43m(\u001b[49m\n\u001b[32m    483\u001b[39m \u001b[43m        \u001b[49m\u001b[43mhidden_states\u001b[49m\u001b[43m,\u001b[49m\n\u001b[32m    484\u001b[39m \u001b[43m        \u001b[49m\u001b[43mposition_embeddings\u001b[49m\u001b[43m=\u001b[49m\u001b[43mposition_embeddings\u001b[49m\u001b[43m,\u001b[49m\n\u001b[32m    485\u001b[39m \u001b[43m        \u001b[49m\u001b[43mattention_mask\u001b[49m\u001b[43m=\u001b[49m\u001b[43mcausal_mask\u001b[49m\u001b[43m,\u001b[49m\n\u001b[32m    486\u001b[39m \u001b[43m        \u001b[49m\u001b[43mposition_ids\u001b[49m\u001b[43m=\u001b[49m\u001b[43mposition_ids\u001b[49m\u001b[43m,\u001b[49m\n\u001b[32m    487\u001b[39m \u001b[43m        \u001b[49m\u001b[43mpast_key_value\u001b[49m\u001b[43m=\u001b[49m\u001b[43mpast_key_values\u001b[49m\u001b[43m,\u001b[49m\n\u001b[32m    488\u001b[39m \u001b[43m        \u001b[49m\u001b[43muse_cache\u001b[49m\u001b[43m=\u001b[49m\u001b[43muse_cache\u001b[49m\u001b[43m,\u001b[49m\n\u001b[32m    489\u001b[39m \u001b[43m        \u001b[49m\u001b[43mcache_position\u001b[49m\u001b[43m=\u001b[49m\u001b[43mcache_position\u001b[49m\u001b[43m,\u001b[49m\n\u001b[32m    490\u001b[39m \u001b[43m        \u001b[49m\u001b[43m*\u001b[49m\u001b[43m*\u001b[49m\u001b[43mkwargs\u001b[49m\u001b[43m,\u001b[49m\n\u001b[32m    491\u001b[39m \u001b[43m    \u001b[49m\u001b[43m)\u001b[49m\n\u001b[32m    493\u001b[39m hidden_states = \u001b[38;5;28mself\u001b[39m.norm(hidden_states)\n\u001b[32m    495\u001b[39m \u001b[38;5;28;01mreturn\u001b[39;00m MoeModelOutputWithPast(  \u001b[38;5;66;03m# only diff with Mistral is the output type, we need MoE\u001b[39;00m\n\u001b[32m    496\u001b[39m     last_hidden_state=hidden_states,\n\u001b[32m    497\u001b[39m     past_key_values=past_key_values,\n\u001b[32m    498\u001b[39m )\n",
      "\u001b[36mFile \u001b[39m\u001b[32m~/MLiS-Placement-Thesis/pipeline/.venv/lib/python3.11/site-packages/transformers/modeling_layers.py:94\u001b[39m, in \u001b[36mGradientCheckpointingLayer.__call__\u001b[39m\u001b[34m(self, *args, **kwargs)\u001b[39m\n\u001b[32m     91\u001b[39m         logger.warning(message)\n\u001b[32m     93\u001b[39m     \u001b[38;5;28;01mreturn\u001b[39;00m \u001b[38;5;28mself\u001b[39m._gradient_checkpointing_func(partial(\u001b[38;5;28msuper\u001b[39m().\u001b[34m__call__\u001b[39m, **kwargs), *args)\n\u001b[32m---> \u001b[39m\u001b[32m94\u001b[39m \u001b[38;5;28;01mreturn\u001b[39;00m \u001b[38;5;28;43msuper\u001b[39;49m\u001b[43m(\u001b[49m\u001b[43m)\u001b[49m\u001b[43m.\u001b[49m\u001b[34;43m__call__\u001b[39;49m\u001b[43m(\u001b[49m\u001b[43m*\u001b[49m\u001b[43margs\u001b[49m\u001b[43m,\u001b[49m\u001b[43m \u001b[49m\u001b[43m*\u001b[49m\u001b[43m*\u001b[49m\u001b[43mkwargs\u001b[49m\u001b[43m)\u001b[49m\n",
      "\u001b[36mFile \u001b[39m\u001b[32m~/MLiS-Placement-Thesis/pipeline/.venv/lib/python3.11/site-packages/torch/nn/modules/module.py:1751\u001b[39m, in \u001b[36mModule._wrapped_call_impl\u001b[39m\u001b[34m(self, *args, **kwargs)\u001b[39m\n\u001b[32m   1749\u001b[39m     \u001b[38;5;28;01mreturn\u001b[39;00m \u001b[38;5;28mself\u001b[39m._compiled_call_impl(*args, **kwargs)  \u001b[38;5;66;03m# type: ignore[misc]\u001b[39;00m\n\u001b[32m   1750\u001b[39m \u001b[38;5;28;01melse\u001b[39;00m:\n\u001b[32m-> \u001b[39m\u001b[32m1751\u001b[39m     \u001b[38;5;28;01mreturn\u001b[39;00m \u001b[38;5;28;43mself\u001b[39;49m\u001b[43m.\u001b[49m\u001b[43m_call_impl\u001b[49m\u001b[43m(\u001b[49m\u001b[43m*\u001b[49m\u001b[43margs\u001b[49m\u001b[43m,\u001b[49m\u001b[43m \u001b[49m\u001b[43m*\u001b[49m\u001b[43m*\u001b[49m\u001b[43mkwargs\u001b[49m\u001b[43m)\u001b[49m\n",
      "\u001b[36mFile \u001b[39m\u001b[32m~/MLiS-Placement-Thesis/pipeline/.venv/lib/python3.11/site-packages/torch/nn/modules/module.py:1762\u001b[39m, in \u001b[36mModule._call_impl\u001b[39m\u001b[34m(self, *args, **kwargs)\u001b[39m\n\u001b[32m   1757\u001b[39m \u001b[38;5;66;03m# If we don't have any hooks, we want to skip the rest of the logic in\u001b[39;00m\n\u001b[32m   1758\u001b[39m \u001b[38;5;66;03m# this function, and just call forward.\u001b[39;00m\n\u001b[32m   1759\u001b[39m \u001b[38;5;28;01mif\u001b[39;00m \u001b[38;5;129;01mnot\u001b[39;00m (\u001b[38;5;28mself\u001b[39m._backward_hooks \u001b[38;5;129;01mor\u001b[39;00m \u001b[38;5;28mself\u001b[39m._backward_pre_hooks \u001b[38;5;129;01mor\u001b[39;00m \u001b[38;5;28mself\u001b[39m._forward_hooks \u001b[38;5;129;01mor\u001b[39;00m \u001b[38;5;28mself\u001b[39m._forward_pre_hooks\n\u001b[32m   1760\u001b[39m         \u001b[38;5;129;01mor\u001b[39;00m _global_backward_pre_hooks \u001b[38;5;129;01mor\u001b[39;00m _global_backward_hooks\n\u001b[32m   1761\u001b[39m         \u001b[38;5;129;01mor\u001b[39;00m _global_forward_hooks \u001b[38;5;129;01mor\u001b[39;00m _global_forward_pre_hooks):\n\u001b[32m-> \u001b[39m\u001b[32m1762\u001b[39m     \u001b[38;5;28;01mreturn\u001b[39;00m \u001b[43mforward_call\u001b[49m\u001b[43m(\u001b[49m\u001b[43m*\u001b[49m\u001b[43margs\u001b[49m\u001b[43m,\u001b[49m\u001b[43m \u001b[49m\u001b[43m*\u001b[49m\u001b[43m*\u001b[49m\u001b[43mkwargs\u001b[49m\u001b[43m)\u001b[49m\n\u001b[32m   1764\u001b[39m result = \u001b[38;5;28;01mNone\u001b[39;00m\n\u001b[32m   1765\u001b[39m called_always_called_hooks = \u001b[38;5;28mset\u001b[39m()\n",
      "\u001b[36mFile \u001b[39m\u001b[32m~/MLiS-Placement-Thesis/pipeline/.venv/lib/python3.11/site-packages/accelerate/hooks.py:175\u001b[39m, in \u001b[36madd_hook_to_module.<locals>.new_forward\u001b[39m\u001b[34m(module, *args, **kwargs)\u001b[39m\n\u001b[32m    173\u001b[39m         output = module._old_forward(*args, **kwargs)\n\u001b[32m    174\u001b[39m \u001b[38;5;28;01melse\u001b[39;00m:\n\u001b[32m--> \u001b[39m\u001b[32m175\u001b[39m     output = \u001b[43mmodule\u001b[49m\u001b[43m.\u001b[49m\u001b[43m_old_forward\u001b[49m\u001b[43m(\u001b[49m\u001b[43m*\u001b[49m\u001b[43margs\u001b[49m\u001b[43m,\u001b[49m\u001b[43m \u001b[49m\u001b[43m*\u001b[49m\u001b[43m*\u001b[49m\u001b[43mkwargs\u001b[49m\u001b[43m)\u001b[49m\n\u001b[32m    176\u001b[39m \u001b[38;5;28;01mreturn\u001b[39;00m module._hf_hook.post_forward(module, output)\n",
      "\u001b[36mFile \u001b[39m\u001b[32m~/MLiS-Placement-Thesis/pipeline/.venv/lib/python3.11/site-packages/transformers/models/qwen3_moe/modeling_qwen3_moe.py:356\u001b[39m, in \u001b[36mQwen3MoeDecoderLayer.forward\u001b[39m\u001b[34m(self, hidden_states, position_embeddings, attention_mask, position_ids, past_key_value, cache_position, **kwargs)\u001b[39m\n\u001b[32m    354\u001b[39m residual = hidden_states\n\u001b[32m    355\u001b[39m hidden_states = \u001b[38;5;28mself\u001b[39m.post_attention_layernorm(hidden_states)\n\u001b[32m--> \u001b[39m\u001b[32m356\u001b[39m hidden_states = \u001b[38;5;28;43mself\u001b[39;49m\u001b[43m.\u001b[49m\u001b[43mmlp\u001b[49m\u001b[43m(\u001b[49m\u001b[43mhidden_states\u001b[49m\u001b[43m)\u001b[49m\n\u001b[32m    357\u001b[39m \u001b[38;5;66;03m# For the MoE layers, we need to unpack\u001b[39;00m\n\u001b[32m    358\u001b[39m \u001b[38;5;28;01mif\u001b[39;00m \u001b[38;5;28misinstance\u001b[39m(hidden_states, \u001b[38;5;28mtuple\u001b[39m):\n",
      "\u001b[36mFile \u001b[39m\u001b[32m~/MLiS-Placement-Thesis/pipeline/.venv/lib/python3.11/site-packages/torch/nn/modules/module.py:1751\u001b[39m, in \u001b[36mModule._wrapped_call_impl\u001b[39m\u001b[34m(self, *args, **kwargs)\u001b[39m\n\u001b[32m   1749\u001b[39m     \u001b[38;5;28;01mreturn\u001b[39;00m \u001b[38;5;28mself\u001b[39m._compiled_call_impl(*args, **kwargs)  \u001b[38;5;66;03m# type: ignore[misc]\u001b[39;00m\n\u001b[32m   1750\u001b[39m \u001b[38;5;28;01melse\u001b[39;00m:\n\u001b[32m-> \u001b[39m\u001b[32m1751\u001b[39m     \u001b[38;5;28;01mreturn\u001b[39;00m \u001b[38;5;28;43mself\u001b[39;49m\u001b[43m.\u001b[49m\u001b[43m_call_impl\u001b[49m\u001b[43m(\u001b[49m\u001b[43m*\u001b[49m\u001b[43margs\u001b[49m\u001b[43m,\u001b[49m\u001b[43m \u001b[49m\u001b[43m*\u001b[49m\u001b[43m*\u001b[49m\u001b[43mkwargs\u001b[49m\u001b[43m)\u001b[49m\n",
      "\u001b[36mFile \u001b[39m\u001b[32m~/MLiS-Placement-Thesis/pipeline/.venv/lib/python3.11/site-packages/torch/nn/modules/module.py:1762\u001b[39m, in \u001b[36mModule._call_impl\u001b[39m\u001b[34m(self, *args, **kwargs)\u001b[39m\n\u001b[32m   1757\u001b[39m \u001b[38;5;66;03m# If we don't have any hooks, we want to skip the rest of the logic in\u001b[39;00m\n\u001b[32m   1758\u001b[39m \u001b[38;5;66;03m# this function, and just call forward.\u001b[39;00m\n\u001b[32m   1759\u001b[39m \u001b[38;5;28;01mif\u001b[39;00m \u001b[38;5;129;01mnot\u001b[39;00m (\u001b[38;5;28mself\u001b[39m._backward_hooks \u001b[38;5;129;01mor\u001b[39;00m \u001b[38;5;28mself\u001b[39m._backward_pre_hooks \u001b[38;5;129;01mor\u001b[39;00m \u001b[38;5;28mself\u001b[39m._forward_hooks \u001b[38;5;129;01mor\u001b[39;00m \u001b[38;5;28mself\u001b[39m._forward_pre_hooks\n\u001b[32m   1760\u001b[39m         \u001b[38;5;129;01mor\u001b[39;00m _global_backward_pre_hooks \u001b[38;5;129;01mor\u001b[39;00m _global_backward_hooks\n\u001b[32m   1761\u001b[39m         \u001b[38;5;129;01mor\u001b[39;00m _global_forward_hooks \u001b[38;5;129;01mor\u001b[39;00m _global_forward_pre_hooks):\n\u001b[32m-> \u001b[39m\u001b[32m1762\u001b[39m     \u001b[38;5;28;01mreturn\u001b[39;00m \u001b[43mforward_call\u001b[49m\u001b[43m(\u001b[49m\u001b[43m*\u001b[49m\u001b[43margs\u001b[49m\u001b[43m,\u001b[49m\u001b[43m \u001b[49m\u001b[43m*\u001b[49m\u001b[43m*\u001b[49m\u001b[43mkwargs\u001b[49m\u001b[43m)\u001b[49m\n\u001b[32m   1764\u001b[39m result = \u001b[38;5;28;01mNone\u001b[39;00m\n\u001b[32m   1765\u001b[39m called_always_called_hooks = \u001b[38;5;28mset\u001b[39m()\n",
      "\u001b[36mFile \u001b[39m\u001b[32m~/MLiS-Placement-Thesis/pipeline/.venv/lib/python3.11/site-packages/accelerate/hooks.py:175\u001b[39m, in \u001b[36madd_hook_to_module.<locals>.new_forward\u001b[39m\u001b[34m(module, *args, **kwargs)\u001b[39m\n\u001b[32m    173\u001b[39m         output = module._old_forward(*args, **kwargs)\n\u001b[32m    174\u001b[39m \u001b[38;5;28;01melse\u001b[39;00m:\n\u001b[32m--> \u001b[39m\u001b[32m175\u001b[39m     output = \u001b[43mmodule\u001b[49m\u001b[43m.\u001b[49m\u001b[43m_old_forward\u001b[49m\u001b[43m(\u001b[49m\u001b[43m*\u001b[49m\u001b[43margs\u001b[49m\u001b[43m,\u001b[49m\u001b[43m \u001b[49m\u001b[43m*\u001b[49m\u001b[43m*\u001b[49m\u001b[43mkwargs\u001b[49m\u001b[43m)\u001b[49m\n\u001b[32m    176\u001b[39m \u001b[38;5;28;01mreturn\u001b[39;00m module._hf_hook.post_forward(module, output)\n",
      "\u001b[36mFile \u001b[39m\u001b[32m~/MLiS-Placement-Thesis/pipeline/.venv/lib/python3.11/site-packages/transformers/models/qwen3_moe/modeling_qwen3_moe.py:247\u001b[39m, in \u001b[36mQwen3MoeSparseMoeBlock.forward\u001b[39m\u001b[34m(self, hidden_states)\u001b[39m\n\u001b[32m    244\u001b[39m expert_mask = torch.nn.functional.one_hot(selected_experts, num_classes=\u001b[38;5;28mself\u001b[39m.num_experts).permute(\u001b[32m2\u001b[39m, \u001b[32m1\u001b[39m, \u001b[32m0\u001b[39m)\n\u001b[32m    246\u001b[39m \u001b[38;5;66;03m# Loop over all available experts in the model and perform the computation on each expert\u001b[39;00m\n\u001b[32m--> \u001b[39m\u001b[32m247\u001b[39m expert_hitted = \u001b[43mtorch\u001b[49m\u001b[43m.\u001b[49m\u001b[43mgreater\u001b[49m\u001b[43m(\u001b[49m\u001b[43mexpert_mask\u001b[49m\u001b[43m.\u001b[49m\u001b[43msum\u001b[49m\u001b[43m(\u001b[49m\u001b[43mdim\u001b[49m\u001b[43m=\u001b[49m\u001b[43m(\u001b[49m\u001b[43m-\u001b[49m\u001b[32;43m1\u001b[39;49m\u001b[43m,\u001b[49m\u001b[43m \u001b[49m\u001b[43m-\u001b[49m\u001b[32;43m2\u001b[39;49m\u001b[43m)\u001b[49m\u001b[43m)\u001b[49m\u001b[43m,\u001b[49m\u001b[43m \u001b[49m\u001b[32;43m0\u001b[39;49m\u001b[43m)\u001b[49m\u001b[43m.\u001b[49m\u001b[43mnonzero\u001b[49m\u001b[43m(\u001b[49m\u001b[43m)\u001b[49m\n\u001b[32m    248\u001b[39m \u001b[38;5;28;01mfor\u001b[39;00m expert_idx \u001b[38;5;129;01min\u001b[39;00m expert_hitted:\n\u001b[32m    249\u001b[39m     expert_layer = \u001b[38;5;28mself\u001b[39m.experts[expert_idx]\n",
      "\u001b[31mKeyboardInterrupt\u001b[39m: "
     ]
    }
   ],
   "source": [
    "query = \"Calculate the total parking charge for a Narrow Satellite stand type at East Aerodrome Parking with no overnight parking. The parking duration is a variable with unit hours.\"\n",
    "charge_category = \"east_aerodrome_parking_charge\"\n",
    "\n",
    "result = create_computation_graph(model, query, charge_category, markdown_content, CHARGE_CATEGORY_VARIABLES, ALL_VARIABLES)\n",
    "\n"
   ]
  },
  {
   "cell_type": "code",
   "execution_count": 71,
   "id": "cb364002-343c-4b2e-bd7a-d72c8dded581",
   "metadata": {},
   "outputs": [
    {
     "name": "stdout",
     "output_type": "stream",
     "text": [
      "{\n",
      "    \"query_parameters\": [\n",
      "        {\n",
      "            \"name\": \"aircraft_stand_type\",\n",
      "            \"status\": \"KNOWN\",\n",
      "            \"value\": \"Narrow Satellite\"\n",
      "        },\n",
      "        {\n",
      "            \"name\": \"parking_duration_hours\",\n",
      "            \"status\": \"SYMBOLIC\",\n",
      "            \"value\": null\n",
      "        },\n",
      "        {\n",
      "            \"name\": \"is_overnight_parking\",\n",
      "            \"status\": \"KNOWN\",\n",
      "            \"value\": false\n",
      "        }\n",
      "    ]\n",
      "}\n"
     ]
    }
   ],
   "source": [
    "print(json.dumps(json.loads(result[0][\"thought1\"]), indent=4))"
   ]
  },
  {
   "cell_type": "code",
   "execution_count": 72,
   "id": "e40a706e-298d-4d40-8c68-cb0868be9f3b",
   "metadata": {},
   "outputs": [
    {
     "name": "stdout",
     "output_type": "stream",
     "text": [
      "{\n",
      "    \"identified_constants_and_rules\": [\n",
      "        \"The standard charge per aircraft/stand type for Narrow Satellite at East Aerodrome Parking (EAP) is \\u20ac32.90 per 15 minutes or part thereof.\",\n",
      "        \"Parking surcharges apply for extended periods at EAP: 48 hours up to 72 hours (including night-time) attract a surcharge of Standard rate +100%, and 72 hours and over (including night-time) attract a surcharge of Standard rate +200%.\",\n",
      "        \"Overnight parking from 2300-0600hrs is free of charge. The query specifies no overnight parking (is_overnight_parking = false).\",\n",
      "        \"The parking duration is a variable with unit hours, meaning the calculation must account for all possible values of parking_duration_hours.\"\n",
      "    ]\n",
      "}\n"
     ]
    }
   ],
   "source": [
    "print(json.dumps(json.loads(result[0][\"thought2\"]), indent=4))"
   ]
  },
  {
   "cell_type": "code",
   "execution_count": 73,
   "id": "7bffc2fe-eff2-4522-af61-6356c65ae686",
   "metadata": {},
   "outputs": [
    {
     "name": "stdout",
     "output_type": "stream",
     "text": [
      "{\n",
      "    \"synthesis_plan\": \"The total parking charge calculation for a Narrow Satellite stand at EAP involves: 1. Determining the base rate (\\u20ac32.90 per 15 minutes or part thereof). 2. Calculating the number of 15-minute intervals in the parking duration. 3. Applying surcharges based on the duration: - If parking_duration_hours < 48: no surcharge. - If 48 \\u2264 parking_duration_hours < 72: add 100% surcharge. - If parking_duration_hours \\u2265 72: add 200% surcharge. 4. Since the duration is symbolic, the expression tree must include conditional logic for all possible duration ranges.\"\n",
      "}\n"
     ]
    }
   ],
   "source": [
    "print(json.dumps(json.loads(result[0][\"thought3\"]), indent=4))"
   ]
  },
  {
   "cell_type": "code",
   "execution_count": 74,
   "id": "f5c7c4ea-3d33-472f-8c5f-07fd2796b368",
   "metadata": {},
   "outputs": [
    {
     "name": "stdout",
     "output_type": "stream",
     "text": [
      "{\n",
      "    \"rethink\": \"The approach correctly identifies the base rate, the surcharge conditions based on duration, and the need for conditional logic due to the symbolic duration. The is_overnight_parking parameter is set to false, so no adjustment for free overnight parking is needed. The expression tree will accurately represent the calculation logic for any given parking duration.\"\n",
      "}\n"
     ]
    }
   ],
   "source": [
    "print(json.dumps(json.loads(result[0][\"thought4\"]), indent=4))"
   ]
  },
  {
   "cell_type": "code",
   "execution_count": 75,
   "id": "5c637787-89d3-4f87-bb7c-bb70ac809bb8",
   "metadata": {},
   "outputs": [
    {
     "name": "stdout",
     "output_type": "stream",
     "text": [
      "{\n",
      "    \"type\": \"BINARY_OPERATION\",\n",
      "    \"operator\": \"ADD\",\n",
      "    \"left\": {\n",
      "        \"type\": \"CONDITIONAL\",\n",
      "        \"condition\": {\n",
      "            \"type\": \"COMPARISON\",\n",
      "            \"operator\": \"LESS_THAN\",\n",
      "            \"left\": {\n",
      "                \"type\": \"VARIABLE\",\n",
      "                \"name\": \"parking_duration_hours\",\n",
      "                \"description\": \"Total duration of parking in hours. Surcharges apply at 48 and 72 hours.\",\n",
      "                \"unit\": \"HOURS\"\n",
      "            },\n",
      "            \"right\": {\n",
      "                \"type\": \"VALUE\",\n",
      "                \"value\": 48,\n",
      "                \"description\": \"Threshold for 48-hour surcharge.\",\n",
      "                \"unit\": \"HOURS\"\n",
      "            }\n",
      "        },\n",
      "        \"if_true\": {\n",
      "            \"type\": \"BINARY_OPERATION\",\n",
      "            \"operator\": \"MULTIPLY\",\n",
      "            \"left\": {\n",
      "                \"type\": \"VALUE\",\n",
      "                \"value\": 32.9,\n",
      "                \"description\": \"Standard charge per aircraft/stand type for Narrow Satellite at East Aerodrome Parking (EAP).\",\n",
      "                \"unit\": \"EUROS\"\n",
      "            },\n",
      "            \"right\": {\n",
      "                \"type\": \"BINARY_OPERATION\",\n",
      "                \"operator\": \"DIVIDE\",\n",
      "                \"left\": {\n",
      "                    \"type\": \"VARIABLE\",\n",
      "                    \"name\": \"parking_duration_hours\",\n",
      "                    \"description\": \"Total duration of parking in hours. Surcharges apply at 48 and 72 hours.\",\n",
      "                    \"unit\": \"HOURS\"\n",
      "                },\n",
      "                \"right\": {\n",
      "                    \"type\": \"VALUE\",\n",
      "                    \"value\": 0.25,\n",
      "                    \"description\": \"Conversion factor from hours to 15-minute intervals (1 hour = 4 intervals).\",\n",
      "                    \"unit\": \"HOURS\"\n",
      "                }\n",
      "            }\n",
      "        },\n",
      "        \"if_false\": {\n",
      "            \"type\": \"CONDITIONAL\",\n",
      "            \"condition\": {\n",
      "                \"type\": \"COMPARISON\",\n",
      "                \"operator\": \"LESS_THAN\",\n",
      "                \"left\": {\n",
      "                    \"type\": \"VARIABLE\",\n",
      "                    \"name\": \"parking_duration_hours\",\n",
      "                    \"description\": \"Total duration of parking in hours. Surcharges apply at 48 and 72 hours.\",\n",
      "                    \"unit\": \"HOURS\"\n",
      "                },\n",
      "                \"right\": {\n",
      "                    \"type\": \"VALUE\",\n",
      "                    \"value\": 72,\n",
      "                    \"description\": \"Threshold for 72-hour surcharge.\",\n",
      "                    \"unit\": \"HOURS\"\n",
      "                }\n",
      "            },\n",
      "            \"if_true\": {\n",
      "                \"type\": \"BINARY_OPERATION\",\n",
      "                \"operator\": \"MULTIPLY\",\n",
      "                \"left\": {\n",
      "                    \"type\": \"BINARY_OPERATION\",\n",
      "                    \"operator\": \"MULTIPLY\",\n",
      "                    \"left\": {\n",
      "                        \"type\": \"VALUE\",\n",
      "                        \"value\": 32.9,\n",
      "                        \"description\": \"Standard charge per aircraft/stand type for Narrow Satellite at East Aerodrome Parking (EAP).\",\n",
      "                        \"unit\": \"EUROS\"\n",
      "                    },\n",
      "                    \"right\": {\n",
      "                        \"type\": \"VALUE\",\n",
      "                        \"value\": 2,\n",
      "                        \"description\": \"Surcharge multiplier for 48-72 hour period (100% surcharge).\",\n",
      "                        \"unit\": \"UNITLESS\"\n",
      "                    }\n",
      "                },\n",
      "                \"right\": {\n",
      "                    \"type\": \"BINARY_OPERATION\",\n",
      "                    \"operator\": \"DIVIDE\",\n",
      "                    \"left\": {\n",
      "                        \"type\": \"VARIABLE\",\n",
      "                        \"name\": \"parking_duration_hours\",\n",
      "                        \"description\": \"Total duration of parking in hours. Surcharges apply at 48 and 72 hours.\",\n",
      "                        \"unit\": \"HOURS\"\n",
      "                    },\n",
      "                    \"right\": {\n",
      "                        \"type\": \"VALUE\",\n",
      "                        \"value\": 0.25,\n",
      "                        \"description\": \"Conversion factor from hours to 15-minute intervals (1 hour = 4 intervals).\",\n",
      "                        \"unit\": \"HOURS\"\n",
      "                    }\n",
      "                }\n",
      "            },\n",
      "            \"if_false\": {\n",
      "                \"type\": \"BINARY_OPERATION\",\n",
      "                \"operator\": \"MULTIPLY\",\n",
      "                \"left\": {\n",
      "                    \"type\": \"BINARY_OPERATION\",\n",
      "                    \"operator\": \"MULTIPLY\",\n",
      "                    \"left\": {\n",
      "                        \"type\": \"VALUE\",\n",
      "                        \"value\": 32.9,\n",
      "                        \"description\": \"Standard charge per aircraft/stand type for Narrow Satellite at East Aerodrome Parking (EAP).\",\n",
      "                        \"unit\": \"EUROS\"\n",
      "                    },\n",
      "                    \"right\": {\n",
      "                        \"type\": \"VALUE\",\n",
      "                        \"value\": 3,\n",
      "                        \"description\": \"Surcharge multiplier for 72+ hour period (200% surcharge).\",\n",
      "                        \"unit\": \"UNITLESS\"\n",
      "                    }\n",
      "                },\n",
      "                \"right\": {\n",
      "                    \"type\": \"BINARY_OPERATION\",\n",
      "                    \"operator\": \"DIVIDE\",\n",
      "                    \"left\": {\n",
      "                        \"type\": \"VARIABLE\",\n",
      "                        \"name\": \"parking_duration_hours\",\n",
      "                        \"description\": \"Total duration of parking in hours. Surcharges apply at 48 and 72 hours.\",\n",
      "                        \"unit\": \"HOURS\"\n",
      "                    },\n",
      "                    \"right\": {\n",
      "                        \"type\": \"VALUE\",\n",
      "                        \"value\": 0.25,\n",
      "                        \"description\": \"Conversion factor from hours to 15-minute intervals (1 hour = 4 intervals).\",\n",
      "                        \"unit\": \"HOURS\"\n",
      "                    }\n",
      "                }\n",
      "            }\n",
      "        }\n",
      "    },\n",
      "    \"right\": {\n",
      "        \"type\": \"VALUE\",\n",
      "        \"value\": 0,\n",
      "        \"description\": \"No additional charges for overnight parking (is_overnight_parking = false).\",\n",
      "        \"unit\": \"EUROS\"\n",
      "    }\n",
      "}\n"
     ]
    }
   ],
   "source": [
    "print(json.dumps(json.loads(result[0][\"result_graph\"]), indent=4))"
   ]
  },
  {
   "cell_type": "code",
   "execution_count": 76,
   "id": "34cbd0e8-a7e2-413c-ac7f-95997f8657e6",
   "metadata": {},
   "outputs": [
    {
     "data": {
      "text/plain": [
       "352.01867974799825"
      ]
     },
     "execution_count": 76,
     "metadata": {},
     "output_type": "execute_result"
    }
   ],
   "source": [
    "result[1]"
   ]
  },
  {
   "cell_type": "code",
   "execution_count": 79,
   "id": "8432868a-02e6-4fba-9221-4e8338791617",
   "metadata": {},
   "outputs": [
    {
     "name": "stdout",
     "output_type": "stream",
     "text": [
      "Sympy Expression: Piecewise((32.9*(parking_duration_hours/0.25), parking_duration_hours < 48), (Piecewise(((32.9*2)*(parking_duration_hours/0.25), parking_duration_hours < 72), ((32.9*3)*(parking_duration_hours/0.25), True)), True)) + 0\n"
     ]
    }
   ],
   "source": [
    "\n",
    "\n",
    "\n",
    "# Print the resulting expression\n",
    "loaded_json = json.loads(result[0]['result_graph'])\n",
    "symbolic_expr = compose_expression(loaded_json)\n",
    "print(f\"Sympy Expression: {symbolic_expr}\")"
   ]
  },
  {
   "cell_type": "markdown",
   "id": "b2e28adb-5d76-4be1-b45f-4084aa537299",
   "metadata": {},
   "source": [
    "\n",
    "## Changes: \n",
    "- Tried on a new problem\n",
    "\n",
    "## Observations: \n",
    "- The reasoning traces are decent, except that I may need to add a ceil function to account for cases when one may need to round up.\n",
    "- The graph produced is not perfect. It makes a potential mistake in computing surcharge, however, at this point, it is not clear whether this is a mistake as the document is quite confusing by itself. It does not clarify whether the surcharge is applicable for Long Term Remote, and whether that is on a per day basis.\n",
    "- The left hand side branch does not use the variable parking hours to compute the surcharge even in cases where the hours are > 24. One potential reason for this could be that I mentioned there is no overnight parking, which may have led it to assume that the hours would be less than 24.\n",
    "- The overnight parking charges also have ambiguity in their application. It is not clear, whether one has to discount the free period from the computed total fees or whether the surcharges are still applicable during that period, or it could be that aircrafts which strictly use the airport services starting and ending strictly during this period are exempt from any fees? \n",
    "\n",
    "## Discussion:\n",
    "- More testing is required to understand where the model may be making mistakes.\n",
    "- Larger models may perform better, as we currently only use the humble 32B A3B parameter MoE model.\n",
    "\n",
    "## Next Steps:\n",
    "- Continue testing"
   ]
  },
  {
   "cell_type": "code",
   "execution_count": 16,
   "id": "c624a0cb-21fb-4485-b164-78c9109c25df",
   "metadata": {},
   "outputs": [
    {
     "name": "stdout",
     "output_type": "stream",
     "text": [
      "--- Building graph for charge category: 'east_aerodrome_parking_charge' ---\n"
     ]
    },
    {
     "data": {
      "application/vnd.jupyter.widget-view+json": {
       "model_id": "8aacbd49772f4f3499128e06ae128e1e",
       "version_major": 2,
       "version_minor": 0
      },
      "text/plain": [
       "StitchWidget(initial_height='auto', initial_width='100%', srcdoc='<!doctype html>\\n<html lang=\"en\">\\n<head>\\n …"
      ]
     },
     "metadata": {},
     "output_type": "display_data"
    },
    {
     "name": "stdout",
     "output_type": "stream",
     "text": [
      "Execution time for 'build': 213.9923 seconds\n"
     ]
    },
    {
     "name": "stderr",
     "output_type": "stream",
     "text": [
      "IOPub message rate exceeded.\n",
      "The Jupyter server will temporarily stop sending output\n",
      "to the client in order to avoid crashing it.\n",
      "To change this limit, set the config variable\n",
      "`--ServerApp.iopub_msg_rate_limit`.\n",
      "\n",
      "Current values:\n",
      "ServerApp.iopub_msg_rate_limit=1000.0 (msgs/sec)\n",
      "ServerApp.rate_limit_window=3.0 (secs)\n",
      "\n"
     ]
    }
   ],
   "source": [
    "query = \"Calculate the total parking charge for a Long Term Remote stand type at East Aerodrome Parking with no overnight parking. The parking duration is a variable with unit hours.\"\n",
    "charge_category = \"east_aerodrome_parking_charge\"\n",
    "\n",
    "result = create_computation_graph(model, query, charge_category)\n"
   ]
  },
  {
   "cell_type": "code",
   "execution_count": 17,
   "id": "20224065-5ef2-4083-b4d7-317531c27cf5",
   "metadata": {},
   "outputs": [
    {
     "name": "stdout",
     "output_type": "stream",
     "text": [
      "{\n",
      "    \"query_parameters\": [\n",
      "        {\n",
      "            \"name\": \"aircraft_stand_type\",\n",
      "            \"status\": \"KNOWN\",\n",
      "            \"value\": \"Long Term Remote\"\n",
      "        },\n",
      "        {\n",
      "            \"name\": \"parking_duration_hours\",\n",
      "            \"status\": \"SYMBOLIC\",\n",
      "            \"value\": null\n",
      "        },\n",
      "        {\n",
      "            \"name\": \"is_overnight_parking\",\n",
      "            \"status\": \"KNOWN\",\n",
      "            \"value\": false\n",
      "        }\n",
      "    ]\n",
      "}\n"
     ]
    }
   ],
   "source": [
    "print(json.dumps(json.loads(result[0][\"thought1\"]), indent=4))"
   ]
  },
  {
   "cell_type": "code",
   "execution_count": 18,
   "id": "b20f1e76-162f-4dcd-92c8-70eecaf2fbb4",
   "metadata": {},
   "outputs": [
    {
     "name": "stdout",
     "output_type": "stream",
     "text": [
      "{\n",
      "    \"identified_constants_and_rules\": [\n",
      "        \"The standard charge per aircraft/stand type for Long Term Remote at East Aerodrome Parking (EAP) is \\u20ac234.50 per day or part thereof.\",\n",
      "        \"Aircraft parking for extended periods in EAP attract surcharges based on duration: 48-72 hours (including night-time) is standard rate +100%, 72 hours and over is standard rate +200%.\",\n",
      "        \"Overnight parking from 2300-0600hrs is free of charge.\",\n",
      "        \"The parking duration is a variable with unit hours.\",\n",
      "        \"The parking duration is not during overnight hours (is_overnight_parking = false).\",\n",
      "        \"The parking is at East Aerodrome Parking (EAP).\",\n",
      "        \"The stand type is Long Term Remote.\"\n",
      "    ]\n",
      "}\n"
     ]
    }
   ],
   "source": [
    "print(json.dumps(json.loads(result[0][\"thought2\"]), indent=4))"
   ]
  },
  {
   "cell_type": "code",
   "execution_count": 19,
   "id": "08b46aa2-339a-4ad4-9c72-3b560ac48d1f",
   "metadata": {},
   "outputs": [
    {
     "name": "stdout",
     "output_type": "stream",
     "text": [
      "{\n",
      "    \"synthesis_plan\": \"The total parking charge calculation will start with the standard rate for Long Term Remote at EAP (\\u20ac234.50/day). Since the duration is variable, we need to create conditional branches based on the duration in hours. The surcharge percentages depend on whether the duration is between 48-72 hours or over 72 hours. We'll convert the duration from hours to days (considering part thereof) and apply the appropriate surcharge. Since it's not overnight parking, we don't need to adjust for free night-time periods.\"\n",
      "}\n"
     ]
    }
   ],
   "source": [
    "print(json.dumps(json.loads(result[0][\"thought3\"]), indent=4))"
   ]
  },
  {
   "cell_type": "code",
   "execution_count": 20,
   "id": "eb5abbf4-8b90-43aa-a41c-1651cebb1948",
   "metadata": {},
   "outputs": [
    {
     "name": "stdout",
     "output_type": "stream",
     "text": [
      "{\n",
      "    \"rethink\": \"The approach correctly identifies the standard rate and the surcharge conditions based on duration. The conversion from hours to days needs to be handled as 'per day or part thereof' which means any fraction of a day counts as a full day. The surcharge conditions are correctly identified as dependent on the duration. The is_overnight_parking parameter is correctly set to false so no adjustments for free overnight periods are needed.\"\n",
      "}\n"
     ]
    }
   ],
   "source": [
    "print(json.dumps(json.loads(result[0][\"thought4\"]), indent=4))"
   ]
  },
  {
   "cell_type": "code",
   "execution_count": 21,
   "id": "1684586e-521c-4a60-ab4f-fb499b4324a2",
   "metadata": {},
   "outputs": [
    {
     "name": "stdout",
     "output_type": "stream",
     "text": [
      "{\n",
      "    \"type\": \"BINARY_OPERATION\",\n",
      "    \"operator\": \"ADD\",\n",
      "    \"left\": {\n",
      "        \"type\": \"CONDITIONAL\",\n",
      "        \"condition\": {\n",
      "            \"type\": \"COMPARISON\",\n",
      "            \"operator\": \"GREATER_THAN\",\n",
      "            \"left\": {\n",
      "                \"type\": \"VARIABLE\",\n",
      "                \"name\": \"parking_duration_hours\",\n",
      "                \"description\": \"Total duration of parking in hours. Surcharges apply at 48 and 72 hours.\",\n",
      "                \"unit\": \"HOURS\"\n",
      "            },\n",
      "            \"right\": {\n",
      "                \"type\": \"VALUE\",\n",
      "                \"value\": 72,\n",
      "                \"description\": \"Threshold for 200% surcharge\",\n",
      "                \"unit\": \"HOURS\"\n",
      "            }\n",
      "        },\n",
      "        \"if_true\": {\n",
      "            \"type\": \"BINARY_OPERATION\",\n",
      "            \"operator\": \"MULTIPLY\",\n",
      "            \"left\": {\n",
      "                \"type\": \"VALUE\",\n",
      "                \"value\": 234.5,\n",
      "                \"description\": \"Standard charge per day for Long Term Remote at East Aerodrome Parking\",\n",
      "                \"unit\": \"EUROS\"\n",
      "            },\n",
      "            \"right\": {\n",
      "                \"type\": \"VALUE\",\n",
      "                \"value\": 3,\n",
      "                \"description\": \"200% surcharge multiplier\",\n",
      "                \"unit\": \"PERCENT\"\n",
      "            }\n",
      "        },\n",
      "        \"if_false\": {\n",
      "            \"type\": \"CONDITIONAL\",\n",
      "            \"condition\": {\n",
      "                \"type\": \"COMPARISON\",\n",
      "                \"operator\": \"GREATER_THAN\",\n",
      "                \"left\": {\n",
      "                    \"type\": \"VARIABLE\",\n",
      "                    \"name\": \"parking_duration_hours\",\n",
      "                    \"description\": \"Total duration of parking in hours. Surcharges apply at 48 and 72 hours.\",\n",
      "                    \"unit\": \"HOURS\"\n",
      "                },\n",
      "                \"right\": {\n",
      "                    \"type\": \"VALUE\",\n",
      "                    \"value\": 48,\n",
      "                    \"description\": \"Threshold for 100% surcharge\",\n",
      "                    \"unit\": \"HOURS\"\n",
      "                }\n",
      "            },\n",
      "            \"if_true\": {\n",
      "                \"type\": \"BINARY_OPERATION\",\n",
      "                \"operator\": \"MULTIPLY\",\n",
      "                \"left\": {\n",
      "                    \"type\": \"VALUE\",\n",
      "                    \"value\": 234.5,\n",
      "                    \"description\": \"Standard charge per day for Long Term Remote at East Aerodrome Parking\",\n",
      "                    \"unit\": \"EUROS\"\n",
      "                },\n",
      "                \"right\": {\n",
      "                    \"type\": \"VALUE\",\n",
      "                    \"value\": 2,\n",
      "                    \"description\": \"100% surcharge multiplier\",\n",
      "                    \"unit\": \"PERCENT\"\n",
      "                }\n",
      "            },\n",
      "            \"if_false\": {\n",
      "                \"type\": \"VALUE\",\n",
      "                \"value\": 234.5,\n",
      "                \"description\": \"Standard charge per day for Long Term Remote at East Aerodrome Parking\",\n",
      "                \"unit\": \"EUROS\"\n",
      "            }\n",
      "        }\n",
      "    },\n",
      "    \"right\": {\n",
      "        \"type\": \"BINARY_OPERATION\",\n",
      "        \"operator\": \"MULTIPLY\",\n",
      "        \"left\": {\n",
      "            \"type\": \"VARIABLE\",\n",
      "            \"name\": \"parking_duration_hours\",\n",
      "            \"description\": \"Total duration of parking in hours. Surcharges apply at 48 and 72 hours.\",\n",
      "            \"unit\": \"HOURS\"\n",
      "        },\n",
      "        \"right\": {\n",
      "            \"type\": \"BINARY_OPERATION\",\n",
      "            \"operator\": \"DIVIDE\",\n",
      "            \"left\": {\n",
      "                \"type\": \"VALUE\",\n",
      "                \"value\": 234.5,\n",
      "                \"description\": \"Standard charge per day for Long Term Remote at East Aerodrome Parking\",\n",
      "                \"unit\": \"EUROS\"\n",
      "            },\n",
      "            \"right\": {\n",
      "                \"type\": \"VALUE\",\n",
      "                \"value\": 24,\n",
      "                \"description\": \"Hours per day\",\n",
      "                \"unit\": \"HOURS\"\n",
      "            }\n",
      "        }\n",
      "    }\n",
      "}\n"
     ]
    }
   ],
   "source": [
    "print(json.dumps(json.loads(result[0][\"result_graph\"]), indent=4))"
   ]
  },
  {
   "cell_type": "markdown",
   "id": "2fc6205d-b897-4a65-af60-1f22d9e46f32",
   "metadata": {},
   "source": [
    "\n",
    "## Changes: \n",
    "- Tried on a new problem\n",
    "\n",
    "## Observations: \n",
    "\n",
    "## Discussion:\n",
    "\n",
    "## Next Steps:\n"
   ]
  },
  {
   "cell_type": "code",
   "execution_count": 22,
   "id": "f0e2289f-dedf-46d5-8796-9047b424d2ef",
   "metadata": {},
   "outputs": [
    {
     "name": "stdout",
     "output_type": "stream",
     "text": [
      "--- Building graph for charge category: 'east_aerodrome_parking_charge' ---\n"
     ]
    },
    {
     "data": {
      "application/vnd.jupyter.widget-view+json": {
       "model_id": "75a233b705ad4e5998934e810a1af4ef",
       "version_major": 2,
       "version_minor": 0
      },
      "text/plain": [
       "StitchWidget(initial_height='auto', initial_width='100%', srcdoc='<!doctype html>\\n<html lang=\"en\">\\n<head>\\n …"
      ]
     },
     "metadata": {},
     "output_type": "display_data"
    },
    {
     "name": "stdout",
     "output_type": "stream",
     "text": [
      "Execution time for 'build': 298.1813 seconds\n"
     ]
    }
   ],
   "source": [
    "query = \"Calculate the total parking charge for a Wide Satellite stand type at East Aerodrome Parking with no overnight parking. The parking duration is a variable with unit hours.\"\n",
    "charge_category = \"east_aerodrome_parking_charge\"\n",
    "\n",
    "result = create_computation_graph(model, query, charge_category)\n"
   ]
  },
  {
   "cell_type": "code",
   "execution_count": 23,
   "id": "7ca0d418-ba93-402d-8f86-1e220a4bbf71",
   "metadata": {},
   "outputs": [
    {
     "name": "stdout",
     "output_type": "stream",
     "text": [
      "{\n",
      "    \"query_parameters\": [\n",
      "        {\n",
      "            \"name\": \"aircraft_stand_type\",\n",
      "            \"status\": \"KNOWN\",\n",
      "            \"value\": \"Wide Satellite\"\n",
      "        },\n",
      "        {\n",
      "            \"name\": \"parking_duration_hours\",\n",
      "            \"status\": \"SYMBOLIC\",\n",
      "            \"value\": null\n",
      "        },\n",
      "        {\n",
      "            \"name\": \"is_overnight_parking\",\n",
      "            \"status\": \"KNOWN\",\n",
      "            \"value\": false\n",
      "        }\n",
      "    ]\n",
      "}\n"
     ]
    }
   ],
   "source": [
    "print(json.dumps(json.loads(result[0][\"thought1\"]), indent=4))"
   ]
  },
  {
   "cell_type": "code",
   "execution_count": 24,
   "id": "f584f45c-a89b-482e-acc8-daf2d221fd1c",
   "metadata": {},
   "outputs": [
    {
     "name": "stdout",
     "output_type": "stream",
     "text": [
      "{\n",
      "    \"identified_constants_and_rules\": [\n",
      "        \"The standard charge per aircraft/stand type for Wide Satellite at East Aerodrome Parking (EAP) is \\u20ac42.00 per 15 minutes or part thereof.\",\n",
      "        \"Parking surcharges apply for extended periods at EAP: 48 hours up to 72 hours (including night-time) attract a surcharge of Standard rate +100%, and 72 hours and over (including night-time) attract Standard rate +200%.\",\n",
      "        \"Overnight parking from 2300-0600hrs is free of charge, but the query specifies no overnight parking (is_overnight_parking = false).\",\n",
      "        \"The parking duration is a variable with unit hours, meaning the calculation must account for all possible values of parking_duration_hours.\",\n",
      "        \"The parking charge is calculated based on the number of 15-minute intervals in the parking duration, with each interval charged at the standard rate or surcharged rate depending on duration.\",\n",
      "        \"The minimum charge for light aircraft is \\u20ac3.20, but this does not apply to Wide Satellite stands.\",\n",
      "        \"The parking duration is measured from the actual time of arrival (landed time) to the actual time of departure (airborne time) minus 30 minutes, but this detail is not needed as the duration is given as a variable.\"\n",
      "    ]\n",
      "}\n"
     ]
    }
   ],
   "source": [
    "print(json.dumps(json.loads(result[0][\"thought2\"]), indent=4))"
   ]
  },
  {
   "cell_type": "code",
   "execution_count": 25,
   "id": "be714675-1d24-47eb-86d8-72492706aa33",
   "metadata": {},
   "outputs": [
    {
     "name": "stdout",
     "output_type": "stream",
     "text": [
      "{\n",
      "    \"synthesis_plan\": \"The total parking charge for a Wide Satellite stand at EAP depends on the parking duration. The base rate is \\u20ac42.00 per 15 minutes or part thereof. For durations between 48 and 72 hours, the rate is doubled (100% surcharge), and for durations over 72 hours, the rate is tripled (200% surcharge). Since the parking duration is symbolic, the calculation must include conditional logic to handle all possible values of parking_duration_hours. The formula will calculate the number of 15-minute intervals, apply the appropriate rate based on duration, and sum the charges.\"\n",
      "}\n"
     ]
    }
   ],
   "source": [
    "print(json.dumps(json.loads(result[0][\"thought3\"]), indent=4))"
   ]
  },
  {
   "cell_type": "code",
   "execution_count": 26,
   "id": "ecfe3920-c23f-4a52-a5d3-5b9ecb144e95",
   "metadata": {},
   "outputs": [
    {
     "name": "stdout",
     "output_type": "stream",
     "text": [
      "{\n",
      "    \"rethink\": \"The approach correctly identifies the base rate, surcharge conditions, and the need for conditional logic due to the symbolic parking duration. The calculation must account for the number of 15-minute intervals, apply surcharges based on duration, and handle all possible values of parking_duration_hours. The final expression tree will include conditional nodes for the surcharge tiers and a calculation for the total charge.\"\n",
      "}\n"
     ]
    }
   ],
   "source": [
    "print(json.dumps(json.loads(result[0][\"thought4\"]), indent=4))"
   ]
  },
  {
   "cell_type": "code",
   "execution_count": 27,
   "id": "b1754fc2-5829-45c0-8758-b40084119f41",
   "metadata": {},
   "outputs": [
    {
     "name": "stdout",
     "output_type": "stream",
     "text": [
      "{\n",
      "    \"type\": \"BINARY_OPERATION\",\n",
      "    \"operator\": \"ADD\",\n",
      "    \"left\": {\n",
      "        \"type\": \"CONDITIONAL\",\n",
      "        \"condition\": {\n",
      "            \"type\": \"COMPARISON\",\n",
      "            \"operator\": \"LESS_THAN\",\n",
      "            \"left\": {\n",
      "                \"type\": \"VARIABLE\",\n",
      "                \"name\": \"parking_duration_hours\",\n",
      "                \"description\": \"Total duration of parking in hours. Surcharges apply at 48 and 72 hours.\",\n",
      "                \"unit\": \"HOURS\"\n",
      "            },\n",
      "            \"right\": {\n",
      "                \"type\": \"VALUE\",\n",
      "                \"value\": 48,\n",
      "                \"description\": \"Threshold for 100% surcharge on parking duration.\",\n",
      "                \"unit\": \"HOURS\"\n",
      "            }\n",
      "        },\n",
      "        \"if_true\": {\n",
      "            \"type\": \"BINARY_OPERATION\",\n",
      "            \"operator\": \"MULTIPLY\",\n",
      "            \"left\": {\n",
      "                \"type\": \"BINARY_OPERATION\",\n",
      "                \"operator\": \"DIVIDE\",\n",
      "                \"left\": {\n",
      "                    \"type\": \"VARIABLE\",\n",
      "                    \"name\": \"parking_duration_hours\",\n",
      "                    \"description\": \"Total duration of parking in hours. Surcharges apply at 48 and 72 hours.\",\n",
      "                    \"unit\": \"HOURS\"\n",
      "                },\n",
      "                \"right\": {\n",
      "                    \"type\": \"VALUE\",\n",
      "                    \"value\": 0.25,\n",
      "                    \"description\": \"Conversion factor from hours to 15-minute intervals (1 hour = 4 intervals).\",\n",
      "                    \"unit\": \"HOURS\"\n",
      "                }\n",
      "            },\n",
      "            \"right\": {\n",
      "                \"type\": \"VALUE\",\n",
      "                \"value\": 42.0,\n",
      "                \"description\": \"Standard charge per 15 minutes or part thereof for Wide Satellite stand at East Aerodrome Parking.\",\n",
      "                \"unit\": \"EUROS\"\n",
      "            }\n",
      "        },\n",
      "        \"if_false\": {\n",
      "            \"type\": \"CONDITIONAL\",\n",
      "            \"condition\": {\n",
      "                \"type\": \"COMPARISON\",\n",
      "                \"operator\": \"LESS_THAN\",\n",
      "                \"left\": {\n",
      "                    \"type\": \"VARIABLE\",\n",
      "                    \"name\": \"parking_duration_hours\",\n",
      "                    \"description\": \"Total duration of parking in hours. Surcharges apply at 48 and 72 hours.\",\n",
      "                    \"unit\": \"HOURS\"\n",
      "                },\n",
      "                \"right\": {\n",
      "                    \"type\": \"VALUE\",\n",
      "                    \"value\": 72,\n",
      "                    \"description\": \"Threshold for 200% surcharge on parking duration.\",\n",
      "                    \"unit\": \"HOURS\"\n",
      "                }\n",
      "            },\n",
      "            \"if_true\": {\n",
      "                \"type\": \"BINARY_OPERATION\",\n",
      "                \"operator\": \"MULTIPLY\",\n",
      "                \"left\": {\n",
      "                    \"type\": \"BINARY_OPERATION\",\n",
      "                    \"operator\": \"DIVIDE\",\n",
      "                    \"left\": {\n",
      "                        \"type\": \"VARIABLE\",\n",
      "                        \"name\": \"parking_duration_hours\",\n",
      "                        \"description\": \"Total duration of parking in hours. Surcharges apply at 48 and 72 hours.\",\n",
      "                        \"unit\": \"HOURS\"\n",
      "                    },\n",
      "                    \"right\": {\n",
      "                        \"type\": \"VALUE\",\n",
      "                        \"value\": 0.25,\n",
      "                        \"description\": \"Conversion factor from hours to 15-minute intervals (1 hour = 4 intervals).\",\n",
      "                        \"unit\": \"HOURS\"\n",
      "                    }\n",
      "                },\n",
      "                \"right\": {\n",
      "                    \"type\": \"BINARY_OPERATION\",\n",
      "                    \"operator\": \"MULTIPLY\",\n",
      "                    \"left\": {\n",
      "                        \"type\": \"VALUE\",\n",
      "                        \"value\": 42.0,\n",
      "                        \"description\": \"Standard charge per 15 minutes or part thereof for Wide Satellite stand at East Aerodrome Parking.\",\n",
      "                        \"unit\": \"EUROS\"\n",
      "                    },\n",
      "                    \"right\": {\n",
      "                        \"type\": \"VALUE\",\n",
      "                        \"value\": 2,\n",
      "                        \"description\": \"100% surcharge multiplier for parking durations between 48 and 72 hours.\",\n",
      "                        \"unit\": \"UNITLESS\"\n",
      "                    }\n",
      "                }\n",
      "            },\n",
      "            \"if_false\": {\n",
      "                \"type\": \"BINARY_OPERATION\",\n",
      "                \"operator\": \"MULTIPLY\",\n",
      "                \"left\": {\n",
      "                    \"type\": \"BINARY_OPERATION\",\n",
      "                    \"operator\": \"DIVIDE\",\n",
      "                    \"left\": {\n",
      "                        \"type\": \"VARIABLE\",\n",
      "                        \"name\": \"parking_duration_hours\",\n",
      "                        \"description\": \"Total duration of parking in hours. Surcharges apply at 48 and 72 hours.\",\n",
      "                        \"unit\": \"HOURS\"\n",
      "                    },\n",
      "                    \"right\": {\n",
      "                        \"type\": \"VALUE\",\n",
      "                        \"value\": 0.25,\n",
      "                        \"description\": \"Conversion factor from hours to 15-minute intervals (1 hour = 4 intervals).\",\n",
      "                        \"unit\": \"HOURS\"\n",
      "                    }\n",
      "                },\n",
      "                \"right\": {\n",
      "                    \"type\": \"BINARY_OPERATION\",\n",
      "                    \"operator\": \"MULTIPLY\",\n",
      "                    \"left\": {\n",
      "                        \"type\": \"VALUE\",\n",
      "                        \"value\": 42.0,\n",
      "                        \"description\": \"Standard charge per 15 minutes or part thereof for Wide Satellite stand at East Aerodrome Parking.\",\n",
      "                        \"unit\": \"EUROS\"\n",
      "                    },\n",
      "                    \"right\": {\n",
      "                        \"type\": \"VALUE\",\n",
      "                        \"value\": 3,\n",
      "                        \"description\": \"200% surcharge multiplier for parking durations over 72 hours.\",\n",
      "                        \"unit\": \"UNITLESS\"\n",
      "                    }\n",
      "                }\n",
      "            }\n",
      "        }\n",
      "    },\n",
      "    \"right\": {\n",
      "        \"type\": \"VALUE\",\n",
      "        \"value\": 0,\n",
      "        \"description\": \"Overnight parking is free, but the query specifies no overnight parking (is_overnight_parking = false).\",\n",
      "        \"unit\": \"EUROS\"\n",
      "    }\n",
      "}\n"
     ]
    }
   ],
   "source": [
    "print(json.dumps(json.loads(result[0][\"result_graph\"]), indent=4))"
   ]
  },
  {
   "cell_type": "code",
   "execution_count": null,
   "id": "cc372f46-4d17-4f02-9991-dec0be556319",
   "metadata": {},
   "outputs": [
    {
     "name": "stdout",
     "output_type": "stream",
     "text": [
      "--- Building graph for charge category: 'east_aerodrome_parking_charge' ---\n"
     ]
    },
    {
     "data": {
      "application/vnd.jupyter.widget-view+json": {
       "model_id": "8684fc70e7d34f23969473f09f3aad41",
       "version_major": 2,
       "version_minor": 0
      },
      "text/plain": [
       "StitchWidget(initial_height='auto', initial_width='100%', srcdoc='<!doctype html>\\n<html lang=\"en\">\\n<head>\\n …"
      ]
     },
     "metadata": {},
     "output_type": "display_data"
    },
    {
     "name": "stdout",
     "output_type": "stream",
     "text": [
      "Execution time for 'build': 839.8929 seconds\n"
     ]
    },
    {
     "name": "stderr",
     "output_type": "stream",
     "text": [
      "IOPub message rate exceeded.\n",
      "The Jupyter server will temporarily stop sending output\n",
      "to the client in order to avoid crashing it.\n",
      "To change this limit, set the config variable\n",
      "`--ServerApp.iopub_msg_rate_limit`.\n",
      "\n",
      "Current values:\n",
      "ServerApp.iopub_msg_rate_limit=1000.0 (msgs/sec)\n",
      "ServerApp.rate_limit_window=3.0 (secs)\n",
      "\n"
     ]
    }
   ],
   "source": [
    "query = \"Calculate the total parking charge for a Light Aircraft Parking (LAP) stand type at East Aerodrome Parking with no overnight parking. The parking duration is a variable with unit hours.\"\n",
    "charge_category = \"east_aerodrome_parking_charge\"\n",
    "\n",
    "result = create_computation_graph(model, query, charge_category)\n"
   ]
  },
  {
   "cell_type": "code",
   "execution_count": 20,
   "id": "8522ac6a-b707-46c5-a162-b308215dc1b8",
   "metadata": {},
   "outputs": [
    {
     "name": "stdout",
     "output_type": "stream",
     "text": [
      "{\n",
      "    \"query_parameters\": [\n",
      "        {\n",
      "            \"name\": \"aircraft_stand_type\",\n",
      "            \"status\": \"KNOWN\",\n",
      "            \"value\": \"Light Aircraft Parking (LAP)\"\n",
      "        },\n",
      "        {\n",
      "            \"name\": \"parking_duration_hours\",\n",
      "            \"status\": \"SYMBOLIC\",\n",
      "            \"value\": null\n",
      "        },\n",
      "        {\n",
      "            \"name\": \"is_overnight_parking\",\n",
      "            \"status\": \"KNOWN\",\n",
      "            \"value\": false\n",
      "        }\n",
      "    ]\n",
      "}\n"
     ]
    }
   ],
   "source": [
    "print(json.dumps(json.loads(result[0][\"thought1\"]), indent=4))"
   ]
  },
  {
   "cell_type": "code",
   "execution_count": 21,
   "id": "8db45b5d-9731-4568-8aaf-8b3a068e3252",
   "metadata": {},
   "outputs": [
    {
     "name": "stdout",
     "output_type": "stream",
     "text": [
      "{\n",
      "    \"identified_constants_and_rules\": [\n",
      "        \"The parking charge for Light Aircraft Parking (LAP) at East Aerodrome Parking (EAP) is \\u20ac3.50 per 15 minutes or part thereof.\",\n",
      "        \"The parking duration is a variable with unit hours.\",\n",
      "        \"Overnight parking from 2300-0600hrs is free of charge, but the query specifies no overnight parking.\",\n",
      "        \"Aircraft parking for extended periods in EAP attract surcharges: 48 hours up to 72 hours (including night-time) has a surcharge of Standard rate +100%, and 72 hours and over has Standard rate +200%.\",\n",
      "        \"The parking charge is calculated from the actual time of arrival to the actual time of departure minus 30 minutes.\",\n",
      "        \"The minimum charge of \\u20ac3.20 applies for light aircraft.\",\n",
      "        \"The parking duration is a variable, so we need to account for all possible values.\"\n",
      "    ]\n",
      "}\n"
     ]
    }
   ],
   "source": [
    "print(json.dumps(json.loads(result[0][\"thought2\"]), indent=4))"
   ]
  },
  {
   "cell_type": "code",
   "execution_count": 22,
   "id": "c794e731-248a-4100-ad00-ab913fb91ed5",
   "metadata": {},
   "outputs": [
    {
     "name": "stdout",
     "output_type": "stream",
     "text": [
      "{\n",
      "    \"synthesis_plan\": \"The total parking charge for LAP at EAP is calculated by first determining the base rate of \\u20ac3.50 per 15 minutes or part thereof. Since the parking duration is a variable, we need to calculate the number of 15-minute intervals. However, we must also consider the surcharges for durations over 48 and 72 hours. The calculation should include a conditional check for the duration: if it's less than 48 hours, use the base rate; if between 48-72 hours, apply 100% surcharge; if over 72 hours, apply 200% surcharge. Additionally, the minimum charge of \\u20ac3.20 must be considered, but since the base rate is already higher than this, it may not affect the calculation. The overnight parking is not applicable here as per the query.\"\n",
      "}\n"
     ]
    }
   ],
   "source": [
    "print(json.dumps(json.loads(result[0][\"thought3\"]), indent=4))"
   ]
  },
  {
   "cell_type": "code",
   "execution_count": 23,
   "id": "ecddce59-93ed-4be2-ada3-ec9252d3f1ef",
   "metadata": {},
   "outputs": [
    {
     "name": "stdout",
     "output_type": "stream",
     "text": [
      "{\n",
      "    \"rethink\": \"The approach is correct, but I need to ensure that the surcharge conditions are properly represented as conditional nodes in the expression tree. Also, the calculation of 15-minute intervals needs to be accurately represented. The minimum charge of \\u20ac3.20 is lower than the base rate, so it should be considered as a minimum floor in the calculation.\"\n",
      "}\n"
     ]
    }
   ],
   "source": [
    "print(json.dumps(json.loads(result[0][\"thought4\"]), indent=4))"
   ]
  },
  {
   "cell_type": "code",
   "execution_count": 25,
   "id": "1b3d3a2a-219d-4ee5-ab1d-f487b085cc71",
   "metadata": {},
   "outputs": [
    {
     "data": {
      "text/plain": [
       "'{\"type\": \"BINARY_OPERATION\", \"operator\": \"ADD\", \"left\": {\"type\": \"CONDITIONAL\", \"condition\": {\"type\": \"COMPARISON\", \"operator\": \"GREATER_THAN\", \"left\": {\"type\": \"VARIABLE\", \"name\": \"parking_duration_hours\", \"description\": \"Total duration of parking in hours. Surcharges apply at 48 and 72 hours.\", \"unit\": \"HOURS\"}, \"right\": {\"type\": \"VALUE\", \"value\": 72, \"description\": \"Threshold for 200% surcharge on parking duration.\", \"unit\": \"HOURS\"}}, \"if_true\": {\"type\": \"BINARY_OPERATION\", \"operator\": \"MULTIPLY\", \"left\": {\"type\": \"VALUE\", \"value\": 3.50, \"description\": \"Standard charge per 15 minutes or part thereof for Light Aircraft Parking (LAP) at East Aerodrome Parking (EAP).\", \"unit\": \"EUROS\"}, \"right\": {\"type\": \"BINARY_OPERATION\", \"operator\": \"DIVIDE\", \"left\": {\"type\": \"VARIABLE\", \"name\": \"parking_duration_hours\", \"description\": \"Total duration of parking in hours. Surcharges apply at 48 and 72 hours.\", \"unit\": \"HOURS\"}, \"right\": {\"type\": \"VALUE\", \"value\": 0.25, \"description\": \"Conversion factor from hours to 15-minute intervals (1 hour = 4 intervals).\", \"unit\": \"HOURS\"}}, \"description\": \"Calculate the base charge for parking duration with 200% surcharge applied.\"}, \"if_false\": {\"type\": \"CONDITIONAL\", \"condition\": {\"type\": \"COMPARISON\", \"operator\": \"GREATER_THAN\", \"left\": {\"type\": \"VARIABLE\", \"name\": \"parking_duration_hours\", \"description\": \"Total duration of parking in hours. Surcharges apply at 48 and 72 hours.\", \"unit\": \"HOURS\"}, \"right\": {\"type\": \"VALUE\", \"value\": 48, \"description\": \"Threshold for 100% surcharge on parking duration.\", \"unit\": \"HOURS\"}}, \"if_true\": {\"type\": \"BINARY_OPERATION\", \"operator\": \"MULTIPLY\", \"left\": {\"type\": \"VALUE\", \"value\": 3.50, \"description\": \"Standard charge per 15 minutes or part thereof for Light Aircraft Parking (LAP) at East Aerodrome Parking (EAP).\", \"unit\": \"EUROS\"}, \"right\": {\"type\": \"BINARY_OPERATION\", \"operator\": \"DIVIDE\", \"left\": {\"type\": \"VARIABLE\", \"name\": \"parking_duration_hours\", \"description\": \"Total duration of parking in hours. Surcharges apply at 48 and 72 hours.\", \"unit\": \"HOURS\"}, \"right\": {\"type\": \"VALUE\", \"value\": 0.25, \"description\": \"Conversion factor from hours to 15-minute intervals (1 hour = 4 intervals).\", \"unit\": \"HOURS\"}}, \"description\": \"Calculate the base charge for parking duration with 100% surcharge applied.\"}, \"if_false\": {\"type\": \"BINARY_OPERATION\", \"operator\": \"MULTIPLY\", \"left\": {\"type\": \"VALUE\", \"value\": 3.50, \"description\": \"Standard charge per 15 minutes or part thereof for Light Aircraft Parking (LAP) at East Aerodrome Parking (EAP).\", \"unit\": \"EUROS\"}, \"right\": {\"type\": \"BINARY_OPERATION\", \"operator\": \"DIVIDE\", \"left\": {\"type\": \"VARIABLE\", \"name\": \"parking_duration_hours\", \"description\": \"Total duration of parking in hours. Surcharges apply at 48 and 72 hours.\", \"unit\": \"HOURS\"}, \"right\": {\"type\": \"VALUE\", \"value\": 0.25, \"description\": \"Conversion factor from hours to 15-minute intervals (1 hour = 4 intervals).\", \"unit\": \"HOURS\"}}, \"description\": \"Calculate the base charge for parking duration without surcharge.\"}}, \"description\": \"Calculate the total parking charge for Light Aircraft Parking (LAP) at East Aerodrome Parking (EAP) with surcharges applied based on duration.\"}, \"right\": {\"type\": \"CONDITIONAL\", \"condition\": {\"type\": \"COMPARISON\", \"operator\": \"LESS_THAN\", \"left\": {\"type\": \"BINARY_OPERATION\", \"operator\": \"MULTIPLY\", \"left\": {\"type\": \"VALUE\", \"value\": 3.50, \"description\": \"Standard charge per 15 minutes or part thereof for Light Aircraft Parking (LAP) at East Aerodrome Parking (EAP).\", \"unit\": \"EUROS\"}, \"right\": {\"type\": \"BINARY_OPERATION\", \"operator\": \"DIVIDE\", \"left\": {\"type\": \"VARIABLE\", \"name\": \"parking_duration_hours\", \"description\": \"Total duration of parking in hours. Surcharges apply at 48 and 72 hours.\", \"unit\": \"HOURS\"}, \"right\": {\"type\": \"VALUE\", \"value\": 0.25, \"description\": \"Conversion factor from hours to 15-minute intervals (1 hour = 4 intervals).\", \"unit\": \"HOURS\"}}, \"right\\\\\": \\\\\"3.20\\\\\"}, \\\\\"if_true\\\\\": \\\\\"3.20\\\\\", \\\\\"if_false\\\\\": \\\\\"the calculated charge\\\\\"}, \\\\\"description\\\\\": \\\\\"Ensure the minimum charge of €3.20 is applied if the calculated charge is lower.\\\\\"}”}”}”}”}”}”}”}”}”}”}”}”}”}”}”}”}”}”}”}”}”}”}”}”}”}”}”}”}”}”}”}”}”}”}”}”}”}”}”}”}”}”}”}”}”}”}”}”}”}”}”}”}”}”}”}”}”}”}”}”}”}”}”}”}”}”}”}”}”}”}”}”}”}”}”}”}”}”}”}”}”}”}”}”}”}”}”}”}”}”}”}”}”}”}”}”}”}”}”}”}”}”}”}”}”}”}”}”}”}”}”}”}”}”}”}”}”}”}”}”}”}”}”}”}”}”}”}”}”}”}”}”}”}”}”}”}”}”}”}”}”}”}”}”}”}”}”}”}”}”}”}”}”}”}”}”}”}”}”}”}”}”}”}”}”}”}”}”}”}”}”}”}”}”}”}”}”}”}”}”}”}”}”}”}”}”}”}”}”}”}”}”}”}”}”}”}”}”}”}”}”}”}”}”}”}”}”}”}”}”}”}”}”}”}”}”}”}”}”}”}”}”}”}”}”}”}”}”}”}”}”}”}”}”}”}”}”}”}”}”}”}”}”}”}”}”}”}”}”}”}”}”}”}”}”}”}”}”}”}”}”}”}”}”}”}”}”}”}”}”}”}”}”}”}”}”}”}”}”}”}”}”}”}”}”}”}”}”}”}”}”}”}”}”}”}”}”}”}”}”}”}”}”}”}”}”}”}”}”}”}”}”}”}”}”}”}”}”}”}”}”}”}”}”}”}”}”}”}”}”}”}”}”}”}”}”}”}”}”}”}”}”}”}”}”}”}”}”}”}”}”}”}”}”}”}”}”}”}”}”}”}”}”}”}”}”}”}”}”}”}”}”}”}”}”}”}”}”}”}”}”}”}”}”}”}”}”}”}”}”}: '"
      ]
     },
     "execution_count": 25,
     "metadata": {},
     "output_type": "execute_result"
    }
   ],
   "source": [
    "result[0][\"result_graph\"]"
   ]
  },
  {
   "cell_type": "code",
   "execution_count": 50,
   "id": "59758a08-a660-4b29-8a45-4be01e2f74cd",
   "metadata": {},
   "outputs": [
    {
     "name": "stdout",
     "output_type": "stream",
     "text": [
      "--- Building graph for charge category: 'east_aerodrome_parking_charge' ---\n"
     ]
    },
    {
     "data": {
      "application/vnd.jupyter.widget-view+json": {
       "model_id": "03cbddef239f4cfda4e12d21d6401d1a",
       "version_major": 2,
       "version_minor": 0
      },
      "text/plain": [
       "StitchWidget(initial_height='auto', initial_width='100%', srcdoc='<!doctype html>\\n<html lang=\"en\">\\n<head>\\n …"
      ]
     },
     "metadata": {},
     "output_type": "display_data"
    },
    {
     "name": "stdout",
     "output_type": "stream",
     "text": [
      "Execution time for 'build': 404.2457 seconds\n"
     ]
    },
    {
     "name": "stderr",
     "output_type": "stream",
     "text": [
      "IOPub message rate exceeded.\n",
      "The Jupyter server will temporarily stop sending output\n",
      "to the client in order to avoid crashing it.\n",
      "To change this limit, set the config variable\n",
      "`--ServerApp.iopub_msg_rate_limit`.\n",
      "\n",
      "Current values:\n",
      "ServerApp.iopub_msg_rate_limit=1000.0 (msgs/sec)\n",
      "ServerApp.rate_limit_window=3.0 (secs)\n",
      "\n"
     ]
    }
   ],
   "source": [
    "query = \"Calculate the total parking charge for a Light Aircraft Parking (LAP) stand type at East Aerodrome Parking with no overnight parking. The parking duration is a variable with unit hours.\"\n",
    "charge_category = \"east_aerodrome_parking_charge\"\n",
    "\n",
    "result = create_computation_graph(model, query, charge_category)\n"
   ]
  },
  {
   "cell_type": "code",
   "execution_count": 53,
   "id": "a2bf399c-0bb8-4cbb-8d9a-ed7e50267da6",
   "metadata": {},
   "outputs": [
    {
     "name": "stdout",
     "output_type": "stream",
     "text": [
      "{\n",
      "    \"rethink\": \"The query specifies that the parking duration is a variable with unit hours, and we must account for all possible values. The surcharge rules are based on duration thresholds (48 and 72 hours), so we must use conditional logic to handle these cases. The base rate is \\u20ac3.50 per 15 minutes, and since the charge is per 15 minutes or part thereof, we must round up the duration to the next 15-minute interval. The minimum charge of \\u20ac3.20 is already covered by the base rate, so it does not need to be explicitly applied. The 'no overnight parking' condition means we do not apply the free overnight period, so the full duration is charged. The final expression tree must include:\\n- A function to convert hours to 15-minute intervals (ceiling division by 0.25)\\n- Conditional logic for surcharges based on duration thresholds\\n- Multiplication of the base rate by the number of intervals and the surcharge factor\\nAll of this must be structured as a JSON expression tree with proper node types.\"\n",
      "}\n"
     ]
    }
   ],
   "source": [
    "print(json.dumps(json.loads(result[0][\"thought4\"]), indent=4))"
   ]
  },
  {
   "cell_type": "code",
   "execution_count": 54,
   "id": "0fe27295-9b59-4ed3-857f-e153d0e0f92c",
   "metadata": {},
   "outputs": [
    {
     "name": "stdout",
     "output_type": "stream",
     "text": [
      "{\n",
      "    \"synthesis_plan\": \"1. Start with the base rate for LAP at EAP: \\u20ac3.50 per 15 minutes or part thereof.\\n2. Convert the variable parking_duration_hours into number of 15-minute intervals (each interval counts as 1 unit).\\n3. Apply a minimum charge of \\u20ac3.20, but since the base rate is already \\u20ac3.50, this is automatically satisfied.\\n4. Since the query specifies 'no overnight parking', we do not subtract any free time.\\n5. Check if the parking duration exceeds 48 or 72 hours, and apply surcharges accordingly:\\n   - If parking_duration_hours \\u2264 48: no surcharge\\n   - If 48 < parking_duration_hours \\u2264 72: surcharge of +100% (i.e., double the rate)\\n   - If parking_duration_hours > 72: surcharge of +200% (i.e., triple the rate)\\n6. The final charge is the base rate multiplied by the number of 15-minute intervals, adjusted by the applicable surcharge factor.\\n7. Represent this logic using a conditional expression tree with branching on the value of parking_duration_hours.\"\n",
      "}\n"
     ]
    }
   ],
   "source": [
    "print(json.dumps(json.loads(result[0][\"thought3\"]), indent=4))"
   ]
  },
  {
   "cell_type": "code",
   "execution_count": 55,
   "id": "645fbdf7-dffd-4569-8d8b-70b214053c94",
   "metadata": {},
   "outputs": [
    {
     "name": "stdout",
     "output_type": "stream",
     "text": [
      "{\n",
      "    \"identified_constants_and_rules\": [\n",
      "        \"The standard charge for Light Aircraft Parking (LAP) at East Aerodrome Parking (EAP) is \\u20ac3.50 per 15 minutes or part thereof.\",\n",
      "        \"Overnight parking from 2300-0600hrs is free of charge.\",\n",
      "        \"Parking charges are calculated from the actual time of arrival (landed time) to the actual time of departure (airborne time) minus 30 minutes.\",\n",
      "        \"For extended parking periods, surcharges apply: 48 hours up to 72 hours (including night-time) \\u2192 Standard rate +100%; 72 hours and over \\u2192 Standard rate +200%.\",\n",
      "        \"However, since the query specifies 'no overnight parking', the overnight free period does not apply.\",\n",
      "        \"The parking duration is a variable in hours, and the charge is per 15 minutes or part thereof.\",\n",
      "        \"A minimum charge of \\u20ac3.20 applies for light aircraft.\",\n",
      "        \"Surcharges outlined in Table 1 apply for light aircraft parked in the designated parking zone and/or in any other EAP area.\",\n",
      "        \"The query specifies 'no overnight parking', so the free overnight period is not applicable.\",\n",
      "        \"The parking duration is a variable, so we must account for all possible durations using conditional logic.\"\n",
      "    ]\n",
      "}\n"
     ]
    }
   ],
   "source": [
    "print(json.dumps(json.loads(result[0][\"thought2\"]), indent=4))"
   ]
  },
  {
   "cell_type": "code",
   "execution_count": 56,
   "id": "cb6cb952-b187-42e6-ad21-463df6fa7078",
   "metadata": {},
   "outputs": [
    {
     "name": "stdout",
     "output_type": "stream",
     "text": [
      "{\n",
      "    \"query_parameters\": [\n",
      "        {\n",
      "            \"name\": \"aircraft_stand_type\",\n",
      "            \"status\": \"KNOWN\",\n",
      "            \"value\": \"Light Aircraft Parking (LAP)\"\n",
      "        },\n",
      "        {\n",
      "            \"name\": \"parking_duration_hours\",\n",
      "            \"status\": \"SYMBOLIC\",\n",
      "            \"value\": null\n",
      "        },\n",
      "        {\n",
      "            \"name\": \"is_overnight_parking\",\n",
      "            \"status\": \"KNOWN\",\n",
      "            \"value\": false\n",
      "        },\n",
      "        {\n",
      "            \"name\": \"sector\",\n",
      "            \"status\": \"KNOWN\",\n",
      "            \"value\": \"East Aerodrome Parking (EAP)\"\n",
      "        }\n",
      "    ]\n",
      "}\n"
     ]
    }
   ],
   "source": [
    "print(json.dumps(json.loads(result[0][\"thought1\"]), indent=4))"
   ]
  },
  {
   "cell_type": "code",
   "execution_count": 57,
   "id": "1c5f167a-bfa4-4d48-9e2f-7801103d9ae3",
   "metadata": {},
   "outputs": [
    {
     "name": "stdout",
     "output_type": "stream",
     "text": [
      "{\n",
      "    \"type\": \"BINARY_OPERATION\",\n",
      "    \"operator\": \"ADD\",\n",
      "    \"left\": {\n",
      "        \"type\": \"CONDITIONAL\",\n",
      "        \"condition\": {\n",
      "            \"type\": \"COMPARISON\",\n",
      "            \"operator\": \"LESS_THAN\",\n",
      "            \"left\": {\n",
      "                \"type\": \"VARIABLE\",\n",
      "                \"name\": \"parking_duration_hours\",\n",
      "                \"description\": \"Total duration of parking in hours.\",\n",
      "                \"unit\": \"HOURS\"\n",
      "            },\n",
      "            \"right\": {\n",
      "                \"type\": \"VALUE\",\n",
      "                \"value\": 48,\n",
      "                \"description\": \"Threshold for first surcharge.\",\n",
      "                \"unit\": \"HOURS\"\n",
      "            }\n",
      "        },\n",
      "        \"if_true\": {\n",
      "            \"type\": \"BINARY_OPERATION\",\n",
      "            \"operator\": \"MULTIPLY\",\n",
      "            \"left\": {\n",
      "                \"type\": \"VALUE\",\n",
      "                \"value\": 3.5,\n",
      "                \"description\": \"Standard charge per 15 minutes for LAP at EAP.\",\n",
      "                \"unit\": \"EUROS\"\n",
      "            },\n",
      "            \"right\": {\n",
      "                \"type\": \"BINARY_OPERATION\",\n",
      "                \"operator\": \"DIVIDE\",\n",
      "                \"left\": {\n",
      "                    \"type\": \"BINARY_OPERATION\",\n",
      "                    \"operator\": \"ADD\",\n",
      "                    \"left\": {\n",
      "                        \"type\": \"VARIABLE\",\n",
      "                        \"name\": \"parking_duration_hours\",\n",
      "                        \"description\": \"Total duration of parking in hours.\",\n",
      "                        \"unit\": \"HOURS\"\n",
      "                    },\n",
      "                    \"right\": {\n",
      "                        \"type\": \"VALUE\",\n",
      "                        \"value\": 0.25,\n",
      "                        \"description\": \"15 minutes in hours.\",\n",
      "                        \"unit\": \"HOURS\"\n",
      "                    }\n",
      "                },\n",
      "                \"right\": {\n",
      "                    \"type\": \"VALUE\",\n",
      "                    \"value\": 0.25,\n",
      "                    \"description\": \"15 minutes in hours.\",\n",
      "                    \"unit\": \"HOURS\"\n",
      "                }\n",
      "            }\n",
      "        },\n",
      "        \"if_false\": {\n",
      "            \"type\": \"CONDITIONAL\",\n",
      "            \"condition\": {\n",
      "                \"type\": \"COMPARISON\",\n",
      "                \"operator\": \"LESS_THAN\",\n",
      "                \"left\": {\n",
      "                    \"type\": \"VARIABLE\",\n",
      "                    \"name\": \"parking_duration_hours\",\n",
      "                    \"description\": \"Total duration of parking in hours.\",\n",
      "                    \"unit\": \"HOURS\"\n",
      "                },\n",
      "                \"right\": {\n",
      "                    \"type\": \"VALUE\",\n",
      "                    \"value\": 72,\n",
      "                    \"description\": \"Threshold for second surcharge.\",\n",
      "                    \"unit\": \"HOURS\"\n",
      "                }\n",
      "            },\n",
      "            \"if_true\": {\n",
      "                \"type\": \"BINARY_OPERATION\",\n",
      "                \"operator\": \"MULTIPLY\",\n",
      "                \"left\": {\n",
      "                    \"type\": \"VALUE\",\n",
      "                    \"value\": 3.5,\n",
      "                    \"description\": \"Standard charge per 15 minutes for LAP at EAP.\",\n",
      "                    \"unit\": \"EUROS\"\n",
      "                },\n",
      "                \"right\": {\n",
      "                    \"type\": \"BINARY_OPERATION\",\n",
      "                    \"operator\": \"DIVIDE\",\n",
      "                    \"left\": {\n",
      "                        \"type\": \"BINARY_OPERATION\",\n",
      "                        \"operator\": \"ADD\",\n",
      "                        \"left\": {\n",
      "                            \"type\": \"VARIABLE\",\n",
      "                            \"name\": \"parking_duration_hours\",\n",
      "                            \"description\": \"Total duration of parking in hours.\",\n",
      "                            \"unit\": \"HOURS\"\n",
      "                        },\n",
      "                        \"right\": {\n",
      "                            \"type\": \"VALUE\",\n",
      "                            \"value\": 0.25,\n",
      "                            \"description\": \"15 minutes in hours.\",\n",
      "                            \"unit\": \"HOURS\"\n",
      "                        }\n",
      "                    },\n",
      "                    \"right\": {\n",
      "                        \"type\": \"VALUE\",\n",
      "                        \"value\": 0.25,\n",
      "                        \"description\": \"15 minutes in hours.\",\n",
      "                        \"unit\": \"HOURS\"\n",
      "                    }\n",
      "                },\n",
      "                \"right_multiplier\": {\n",
      "                    \"type\": \"VALUE\",\n",
      "                    \"value\": 2,\n",
      "                    \"description\": \"Surcharges: 48 to 72 hours \\u2192 +100% (double the rate).\",\n",
      "                    \"unit\": \"UNIT\"\n",
      "                }\n",
      "            },\n",
      "            \"if_false\": {\n",
      "                \"type\": \"BINARY_OPERATION\",\n",
      "                \"operator\": \"MULTIPLY\",\n",
      "                \"left\": {\n",
      "                    \"type\": \"VALUE\",\n",
      "                    \"value\": 3.5,\n",
      "                    \"description\": \"Standard charge per 15 minutes for LAP at EAP.\",\n",
      "                    \"unit\": \"EUROS\"\n",
      "                },\n",
      "                \"right\": {\n",
      "                    \"type\": \"BINARY_OPERATION\",\n",
      "                    \"operator\": \"DIVIDE\",\n",
      "                    \"left\": {\n",
      "                        \"type\": \"BINARY_OPERATION\",\n",
      "                        \"operator\": \"ADD\",\n",
      "                        \"left\": {\n",
      "                            \"type\": \"VARIABLE\",\n",
      "                            \"name\": \"parking_duration_hours\",\n",
      "                            \"description\": \"Total duration of parking in hours.\",\n",
      "                            \"unit\": \"HOURS\"\n",
      "                        },\n",
      "                        \"right\": {\n",
      "                            \"type\": \"VALUE\",\n",
      "                            \"value\": 0.25,\n",
      "                            \"description\": \"15 minutes in hours.\",\n",
      "                            \"unit\": \"HOURS\"\n",
      "                        }\n",
      "                    },\n",
      "                    \"right\": {\n",
      "                        \"type\": \"VALUE\",\n",
      "                        \"value\": 0.25,\n",
      "                        \"description\": \"15 minutes in hours.\",\n",
      "                        \"unit\": \"HOURS\"\n",
      "                    }\n",
      "                },\n",
      "                \"right_multiplier\": {\n",
      "                    \"type\": \"VALUE\",\n",
      "                    \"value\": 3,\n",
      "                    \"description\": \"Surcharges: over 72 hours \\u2192 +200% (triple the rate).\",\n",
      "                    \"unit\": \"UNIT\"\n",
      "                }\n",
      "            }\n",
      "        }\n",
      "    },\n",
      "    \"right\": {\n",
      "        \"type\": \"VALUE\",\n",
      "        \"value\": 0,\n",
      "        \"description\": \"No additional charges beyond the base and surcharge.\",\n",
      "        \"unit\": \"EUROS\"\n",
      "    }\n",
      "}\n"
     ]
    }
   ],
   "source": [
    "print(json.dumps(json.loads(result[0][\"result_graph\"]), indent=4))"
   ]
  },
  {
   "cell_type": "code",
   "execution_count": null,
   "id": "b891215c-2ddb-40fd-9844-9b75dd72c510",
   "metadata": {},
   "outputs": [],
   "source": [
    "query = \"Calculate the total parking charge for a Light Aircraft Parking (LAP) stand type at East Aerodrome Parking with no overnight parking. The parking duration is a variable with unit hours.\"\n",
    "charge_category = \"east_aerodrome_parking_charge\"\n",
    "\n",
    "result = create_computation_graph(model, query, charge_category)\n"
   ]
  },
  {
   "cell_type": "code",
   "execution_count": null,
   "id": "b1dfa68c-cec6-464a-835c-a2d0056f9d49",
   "metadata": {},
   "outputs": [],
   "source": []
  },
  {
   "cell_type": "code",
   "execution_count": null,
   "id": "d58da993-cd69-48d0-ba02-2dbd036cf8e1",
   "metadata": {},
   "outputs": [],
   "source": []
  },
  {
   "cell_type": "code",
   "execution_count": null,
   "id": "35085749",
   "metadata": {},
   "outputs": [],
   "source": []
  }
 ],
 "metadata": {
  "kernelspec": {
   "display_name": ".venv",
   "language": "python",
   "name": "python3"
  },
  "language_info": {
   "codemirror_mode": {
    "name": "ipython",
    "version": 3
   },
   "file_extension": ".py",
   "mimetype": "text/x-python",
   "name": "python",
   "nbconvert_exporter": "python",
   "pygments_lexer": "ipython3",
   "version": "3.12.11"
  }
 },
 "nbformat": 4,
 "nbformat_minor": 5
}
