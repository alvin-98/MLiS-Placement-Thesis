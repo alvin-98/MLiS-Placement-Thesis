{
 "cells": [
  {
   "cell_type": "code",
   "execution_count": 16,
   "id": "3c1cf45a-dab5-44bc-9e92-ecc2f4e19133",
   "metadata": {},
   "outputs": [],
   "source": [
    "import torch\n",
    "torch.cuda.empty_cache()\n"
   ]
  },
  {
   "cell_type": "code",
   "execution_count": 2,
   "id": "b5b4ad6b-75d4-46cd-b4e1-6f31db30870a",
   "metadata": {},
   "outputs": [],
   "source": [
    "\n",
    "import json\n",
    "from transformers import AutoTokenizer, AutoModelForCausalLM\n",
    "from pydantic import BaseModel, Field, RootModel\n",
    "from typing import Optional, Union, Literal, ForwardRef\n",
    "from enum import Enum\n",
    "from guidance import models, system, user, assistant, json as gen_json\n",
    "import torch, outlines\n",
    "from transformers import AutoModelForCausalLM, AutoTokenizer\n",
    "import json\n",
    "import torch\n",
    "from transformers import AutoTokenizer, AutoModelForCausalLM\n",
    "from pydantic import BaseModel, Field, RootModel\n",
    "from typing import Optional, Union\n",
    "from enum import Enum\n",
    "from guidance import models, system, user, assistant, json as gen_json\n",
    "import guidance"
   ]
  },
  {
   "cell_type": "code",
   "execution_count": 3,
   "id": "7293c3ec-fc5f-4861-a8e6-22299419e138",
   "metadata": {},
   "outputs": [],
   "source": [
    "\n",
    "with open(\"../output/2025-airport-charges-terms-and-conditions/tinychargesmarkdown.md\", \"r\") as f:\n",
    "    markdown_content = f.read()\n"
   ]
  },
  {
   "cell_type": "code",
   "execution_count": 4,
   "id": "83f104f8-0c9c-4886-9b0f-1687d0660c6a",
   "metadata": {},
   "outputs": [],
   "source": [
    "\n",
    "transfer_passenger_count = 30\n",
    "\n",
    "condition = [\n",
    "    {\"charge_name\": \"transfer passenger charge\", \"transfer_passenger_count\": transfer_passenger_count, \"period\": \"summer airline scheduling season\", \"rate\": \"?\"},\n",
    "    # {\"charge_name\": \"transfer passenger charge\", \"transfer_passenger_count\": transfer_passenger_count, \"period\": \"winter airline scheduling season\", \"rate\": \"?\"},\n",
    "    # {\"charge_name\": \"runway landing and takeoff charge\", \"period\": \"summer airline scheduling season\", \"atm\": \"landing\", \"per tonne MTOW\": 1, \"rate\": \"?\"},\n",
    "    # {\"charge_name\": \"runway landing and takeoff charge\", \"period\": \"summer airline scheduling season\", \"atm\": \"takeoff\", \"per tonne MTOW\": 1, \"rate\": \"?\"},\n",
    "    # {\"charge_name\": \"runway landing and takeoff charge\", \"period\": \"winter airline scheduling season\", \"atm\": \"landing\", \"per tonne MTOW\": 1, \"rate\": \"?\"},\n",
    "    # {\"charge_name\": \"runway landing and takeoff charge\", \"period\": \"winter airline scheduling season\", \"atm\": \"takeoff\", \"per tonne MTOW\": 1, \"rate\": \"?\"}\n",
    "]\n"
   ]
  },
  {
   "cell_type": "code",
   "execution_count": 5,
   "id": "688a5297-ecc2-42c1-87d8-5ed5de533877",
   "metadata": {},
   "outputs": [
    {
     "data": {
      "application/vnd.jupyter.widget-view+json": {
       "model_id": "26380bf28ad54ac8b5ba52206497e60b",
       "version_major": 2,
       "version_minor": 0
      },
      "text/plain": [
       "Loading checkpoint shards:   0%|          | 0/16 [00:00<?, ?it/s]"
      ]
     },
     "metadata": {},
     "output_type": "display_data"
    }
   ],
   "source": [
    "\n",
    "MODEL_ID = \"Qwen/Qwen3-30B-A3B\"\n",
    "\n",
    "hf_model = AutoModelForCausalLM.from_pretrained(\n",
    "    MODEL_ID,\n",
    "    device_map=\"auto\",               \n",
    "    low_cpu_mem_usage=True,          \n",
    ")\n",
    "\n",
    "\n",
    "tok        = AutoTokenizer.from_pretrained(MODEL_ID)\n"
   ]
  },
  {
   "cell_type": "code",
   "execution_count": 6,
   "id": "0f1767ce-5622-4114-a094-0f0ae89b19b7",
   "metadata": {},
   "outputs": [
    {
     "name": "stderr",
     "output_type": "stream",
     "text": [
      "gpustat is not installed, run `pip install gpustat` to collect GPU stats.\n"
     ]
    }
   ],
   "source": [
    "\n",
    "model = guidance.models.Transformers(hf_model, tok)"
   ]
  },
  {
   "cell_type": "code",
   "execution_count": 7,
   "id": "c992bee4-9072-418d-a550-92424ad6ba0b",
   "metadata": {},
   "outputs": [],
   "source": [
    "\n",
    "\n",
    "class Op(str, Enum):\n",
    "    ADD = \"ADD\"\n",
    "    MULTIPLY = \"MULTIPLY\"\n",
    "\n",
    "class ValueNode(BaseModel):\n",
    "    \"\"\"A leaf node with a numeric value\"\"\"\n",
    "    type: Literal[\"VALUE\"] = \"VALUE\"\n",
    "    value: float\n",
    "    description: str = Field(description=\"Explanation of what this value represents\")\n",
    "    # unit: \n",
    "\n",
    "class OpNode(BaseModel):\n",
    "    \"\"\"An operation node with two children\"\"\"\n",
    "    type: Literal[\"OPERATION\"] = \"OPERATION\"\n",
    "    operator: Op\n",
    "    # The 'left' and 'right' fields will be added dynamically\n",
    "\n",
    "# the Union for the recursive fields\n",
    "AnyNode = Union[OpNode, ValueNode]\n",
    "\n",
    "# Dynamically update the OpNode to add the recursive fields\n",
    "OpNode.model_fields.update({\n",
    "    'left': (AnyNode, Field(..., discriminator='type')),\n",
    "    'right': (AnyNode, Field(..., discriminator='type')),\n",
    "})\n",
    "\n",
    "# The root of the expression tree must be an operation.\n",
    "class Node(RootModel):\n",
    "    \"\"\"The root of the expression tree, which must be an OpNode.\"\"\"\n",
    "    root: OpNode\n"
   ]
  },
  {
   "cell_type": "code",
   "execution_count": 8,
   "id": "f0ce5a30-7005-4dcc-bca0-9425c1b8a794",
   "metadata": {},
   "outputs": [],
   "source": [
    "\n",
    "@guidance\n",
    "def create_expression_tree(llm, markdown_content, cond, pydantic_class):\n",
    "    \n",
    "    with system():\n",
    "        llm = llm + \"\"\"You are a world-class algorithm for building expression trees from text. Your goal is to construct a JSON object that represents the calculation logic for a 'rate' based on a document and a set of conditions.\n",
    "        \n",
    "You MUST follow the Node schema exactly. It requires either:\n",
    "1. A ValueNode with 'type': 'VALUE' and a 'value' field containing a number, OR\n",
    "2. An OpNode with 'type': 'OPERATION', an 'operator' which must be 'ADD' or 'MULTIPLY', and 'left'/'right' fields containing other nodes.\n",
    "\n",
    "Here are examples of valid expression trees:\n",
    "1. Simple value: {\"type\": \"VALUE\", \"value\": 3.9, \"description\": \"Transfer passenger charge rate in pounds\"}\n",
    "2. Simple multiplication: {\"type\": \"OPERATION\", \"operator\": \"MULTIPLY\", \"left\": {\"type\": \"VALUE\", \"value\": 3.9, \"description\": \"Transfer passenger charge per passenger\"}, \"right\": {\"type\": \"VALUE\", \"value\": 30.0, \"description\": \"Number of transfer passengers\"}}\"\"\"\n",
    "\n",
    "    with user():\n",
    "        llm += f\"\"\"Here is the document:\n",
    "---\n",
    "{markdown_content}\n",
    "---\n",
    "\n",
    "Given the following condition:\n",
    "{cond}\n",
    "\n",
    "Construct the expression tree for the rate based on the document and condition.\"\"\"\n",
    "\n",
    "    with assistant():\n",
    "        llm += gen_json(\n",
    "            name=\"expression_tree\", \n",
    "            schema=pydantic_class,\n",
    "            max_tokens=200,\n",
    "        )\n",
    "\n",
    "    return llm\n"
   ]
  },
  {
   "cell_type": "code",
   "execution_count": 9,
   "id": "1f5729f6-f68e-48da-b1d3-197d46cabc46",
   "metadata": {},
   "outputs": [
    {
     "name": "stdout",
     "output_type": "stream",
     "text": [
      "--- Condition: {'charge_name': 'transfer passenger charge', 'transfer_passenger_count': 30, 'period': 'summer airline scheduling season', 'rate': '?'} ---\n"
     ]
    },
    {
     "data": {
      "application/vnd.jupyter.widget-view+json": {
       "model_id": "d9496b7052c247bdbf519fe25c78347e",
       "version_major": 2,
       "version_minor": 0
      },
      "text/plain": [
       "StitchWidget(initial_height='auto', initial_width='100%', srcdoc='<!doctype html>\\n<html lang=\"en\">\\n<head>\\n …"
      ]
     },
     "metadata": {},
     "output_type": "display_data"
    }
   ],
   "source": [
    "for cond in condition:\n",
    "    print(f\"--- Condition: {cond} ---\")\n",
    "    try:\n",
    "        result_lm = model + create_expression_tree(markdown_content=markdown_content, cond=cond, pydantic_class = Node)\n",
    "        expression_tree = result_lm[\"expression_tree\"]\n",
    "        \n",
    "\n",
    "    except Exception as e:\n",
    "        print(f\"An error occurred: {e}\")\n",
    "        cond[\"rate\"] = None\n",
    "\n"
   ]
  },
  {
   "cell_type": "code",
   "execution_count": 10,
   "id": "bcf78dbc-fbd3-45a3-ae55-792756f054d3",
   "metadata": {},
   "outputs": [
    {
     "data": {
      "text/plain": [
       "'{\"type\": \"OPERATION\", \"operator\": \"MULTIPLY\", \"left\": {\"type\": \"VALUE\", \"value\": 3.9, \"description\": \"Transfer passenger charge rate in pounds\"}, \"right\": {\"type\": \"VALUE\", \"value\": 30.0, \"description\": \"Number of transfer passengers\"}}'"
      ]
     },
     "execution_count": 10,
     "metadata": {},
     "output_type": "execute_result"
    }
   ],
   "source": [
    "expression_tree"
   ]
  },
  {
   "cell_type": "code",
   "execution_count": 11,
   "id": "a0ab7745-a1c1-4e1e-895a-75e5bb8ceb56",
   "metadata": {},
   "outputs": [],
   "source": [
    "loaded_json = json.loads(expression_tree)"
   ]
  },
  {
   "cell_type": "code",
   "execution_count": 12,
   "id": "4bfb0b14-1067-4735-8134-36624750dfc6",
   "metadata": {},
   "outputs": [
    {
     "data": {
      "text/plain": [
       "{'type': 'OPERATION',\n",
       " 'operator': 'MULTIPLY',\n",
       " 'left': {'type': 'VALUE',\n",
       "  'value': 3.9,\n",
       "  'description': 'Transfer passenger charge rate in pounds'},\n",
       " 'right': {'type': 'VALUE',\n",
       "  'value': 30.0,\n",
       "  'description': 'Number of transfer passengers'}}"
      ]
     },
     "execution_count": 12,
     "metadata": {},
     "output_type": "execute_result"
    }
   ],
   "source": [
    "loaded_json"
   ]
  },
  {
   "cell_type": "code",
   "execution_count": 13,
   "id": "d0909fc0-86e8-45b4-8686-3559d7144a27",
   "metadata": {},
   "outputs": [
    {
     "name": "stdout",
     "output_type": "stream",
     "text": [
      "{\n",
      "    \"type\": \"OPERATION\",\n",
      "    \"operator\": \"MULTIPLY\",\n",
      "    \"left\": {\n",
      "        \"type\": \"VALUE\",\n",
      "        \"value\": 3.9,\n",
      "        \"description\": \"Transfer passenger charge rate in pounds\"\n",
      "    },\n",
      "    \"right\": {\n",
      "        \"type\": \"VALUE\",\n",
      "        \"value\": 30.0,\n",
      "        \"description\": \"Number of transfer passengers\"\n",
      "    }\n",
      "}\n"
     ]
    }
   ],
   "source": [
    "print(json.dumps(loaded_json, indent=4))"
   ]
  },
  {
   "cell_type": "code",
   "execution_count": 14,
   "id": "88b11784-be55-4231-b317-e95b1ae67393",
   "metadata": {},
   "outputs": [],
   "source": [
    "result = Node.model_validate_json(expression_tree)"
   ]
  },
  {
   "cell_type": "code",
   "execution_count": 15,
   "id": "6ea78e2d-ead1-4157-af46-40ad1f5cfe49",
   "metadata": {},
   "outputs": [
    {
     "name": "stdout",
     "output_type": "stream",
     "text": [
      "{\n",
      "        \"type\": \"OPERATION\",\n",
      "        \"operator\": \"MULTIPLY\"\n",
      "}\n"
     ]
    }
   ],
   "source": [
    "print(result.model_dump_json(indent=8))"
   ]
  },
  {
   "cell_type": "code",
   "execution_count": null,
   "id": "85b46a0c-17fb-4c16-a517-11a7c3f09709",
   "metadata": {},
   "outputs": [],
   "source": []
  },
  {
   "cell_type": "code",
   "execution_count": null,
   "id": "7d644b79-83f4-428b-9c17-8746d511c8d1",
   "metadata": {},
   "outputs": [],
   "source": []
  }
 ],
 "metadata": {
  "kernelspec": {
   "display_name": "Python 3 (ipykernel)",
   "language": "python",
   "name": "python3"
  },
  "language_info": {
   "codemirror_mode": {
    "name": "ipython",
    "version": 3
   },
   "file_extension": ".py",
   "mimetype": "text/x-python",
   "name": "python",
   "nbconvert_exporter": "python",
   "pygments_lexer": "ipython3",
   "version": "3.11.5"
  }
 },
 "nbformat": 4,
 "nbformat_minor": 5
}
