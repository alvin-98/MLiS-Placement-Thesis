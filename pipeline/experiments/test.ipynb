{
 "cells": [
  {
   "cell_type": "code",
   "execution_count": null,
   "id": "e14cb176",
   "metadata": {},
   "outputs": [
    {
     "ename": "NameError",
     "evalue": "name 'Optional' is not defined",
     "output_type": "error",
     "traceback": [
      "\u001b[31m---------------------------------------------------------------------------\u001b[39m",
      "\u001b[31mNameError\u001b[39m                                 Traceback (most recent call last)",
      "\u001b[36mCell\u001b[39m\u001b[36m \u001b[39m\u001b[32mIn[4]\u001b[39m\u001b[32m, line 8\u001b[39m\n\u001b[32m      5\u001b[39m \u001b[38;5;28;01mfrom\u001b[39;00m\u001b[38;5;250m \u001b[39m\u001b[34;01mpydantic\u001b[39;00m\u001b[38;5;250m \u001b[39m\u001b[38;5;28;01mimport\u001b[39;00m BaseModel, Field\n\u001b[32m      6\u001b[39m \u001b[38;5;28;01mfrom\u001b[39;00m\u001b[38;5;250m \u001b[39m\u001b[34;01mtyping\u001b[39;00m\u001b[38;5;250m \u001b[39m\u001b[38;5;28;01mimport\u001b[39;00m List, Any\n\u001b[32m----> \u001b[39m\u001b[32m8\u001b[39m \u001b[38;5;28;43;01mclass\u001b[39;49;00m\u001b[38;5;250;43m \u001b[39;49m\u001b[34;43;01mDomainVariable\u001b[39;49;00m\u001b[43m(\u001b[49m\u001b[43mBaseModel\u001b[49m\u001b[43m)\u001b[49m\u001b[43m:\u001b[49m\n\u001b[32m      9\u001b[39m \u001b[38;5;250;43m    \u001b[39;49m\u001b[33;43;03m\"\"\"Defines a single variable the LLM can use in the computation graph.\"\"\"\u001b[39;49;00m\n\u001b[32m     10\u001b[39m \u001b[43m    \u001b[49m\u001b[43mname\u001b[49m\u001b[43m:\u001b[49m\u001b[43m \u001b[49m\u001b[38;5;28;43mstr\u001b[39;49m\u001b[43m \u001b[49m\u001b[43m=\u001b[49m\u001b[43m \u001b[49m\u001b[43mField\u001b[49m\u001b[43m(\u001b[49m\u001b[43m.\u001b[49m\u001b[43m.\u001b[49m\u001b[43m.\u001b[49m\u001b[43m,\u001b[49m\u001b[43m \u001b[49m\u001b[43mdescription\u001b[49m\u001b[43m=\u001b[49m\u001b[33;43m\"\u001b[39;49m\u001b[33;43mThe unique identifier for the variable.\u001b[39;49m\u001b[33;43m\"\u001b[39;49m\u001b[43m)\u001b[49m\n",
      "\u001b[36mCell\u001b[39m\u001b[36m \u001b[39m\u001b[32mIn[4]\u001b[39m\u001b[32m, line 13\u001b[39m, in \u001b[36mDomainVariable\u001b[39m\u001b[34m()\u001b[39m\n\u001b[32m     11\u001b[39m description: \u001b[38;5;28mstr\u001b[39m = Field(..., description=\u001b[33m\"\u001b[39m\u001b[33mA detailed explanation of what this variable represents.\u001b[39m\u001b[33m\"\u001b[39m)\n\u001b[32m     12\u001b[39m \u001b[38;5;66;03m# Optional: You could add type hints, units, etc. for more advanced validation\u001b[39;00m\n\u001b[32m---> \u001b[39m\u001b[32m13\u001b[39m unit: \u001b[43mOptional\u001b[49m[\u001b[38;5;28mstr\u001b[39m] = Field(..., description=\u001b[33m\"\u001b[39m\u001b[33mThe unit of the variable\u001b[39m\u001b[33m\"\u001b[39m)\n\u001b[32m     14\u001b[39m data_type : \u001b[38;5;28mtype\u001b[39m = Field(..., description=\u001b[33m\"\u001b[39m\u001b[33mThe data type of the variable\u001b[39m\u001b[33m\"\u001b[39m)\n",
      "\u001b[31mNameError\u001b[39m: name 'Optional' is not defined"
     ]
    }
   ],
   "source": [
    "import json\n",
    "path = \"/gpfs01/home/ppxac9/MLiS-Placement-Thesis/LLM_generated_data/synthetic_dataset/datapoints_8B.jsonl\"\n",
    "with open(path, \"r\", encoding=\"utf-8\") as f:\n",
    "        records = [json.loads(line) for line in f if line.strip()]\n",
    "from pydantic import BaseModel, Field\n",
    "from typing import List, Any, Optional\n",
    "\n",
    "class DomainVariable(BaseModel):\n",
    "    \"\"\"Defines a single variable the LLM can use in the computation graph.\"\"\"\n",
    "    name: str = Field(..., description=\"The unique identifier for the variable.\")\n",
    "    description: str = Field(..., description=\"A detailed explanation of what this variable represents.\")\n",
    "    # Optional: You could add type hints, units, etc. for more advanced validation\n",
    "    unit: Optional[str] = Field(..., description=\"The unit of the variable\")\n",
    "    data_type : type = Field(..., description=\"The data type of the variable\")\n",
    "\n",
    "for record_id, record in enumerate(records):\n",
    "    if record_id >= 5:\n",
    "        continue\n",
    "    content, charges = record\n",
    "    markdown_content = content\n",
    "    charge_category_variables = {k: v['variables_used'] for k, v in charges.items()}\n",
    "    # computed_records[str(record_id)] = {}\n",
    "    import builtins\n",
    "    def to_built_in_type(type_str: str):\n",
    "        t = getattr(builtins, type_str, None)\n",
    "        if isinstance(t, type):\n",
    "            return t\n",
    "        raise ValueError(f\"{type_str} is not a valid built-in type\")\n",
    "\n",
    "    charge_variables = {}\n",
    "    all_variables = {}\n",
    "    for charge, variables in charge_category_variables.items():\n",
    "        charge_variables[charge] = list(variables.keys())\n",
    "        for var, details in variables.items():\n",
    "            all_variables[var] = DomainVariable(name=var,\n",
    "                description=details['description'],\n",
    "                unit=details['unit'],\n",
    "                data_type=to_built_in_type(details['dtype']))\n",
    "\n",
    "    for charge_category in list(charge_variables.keys()):\n",
    "        print(record_id, charge_category)"
   ]
  },
  {
   "cell_type": "code",
   "execution_count": null,
   "id": "305bd9e7",
   "metadata": {},
   "outputs": [],
   "source": []
  }
 ],
 "metadata": {
  "kernelspec": {
   "display_name": ".venv",
   "language": "python",
   "name": "python3"
  },
  "language_info": {
   "codemirror_mode": {
    "name": "ipython",
    "version": 3
   },
   "file_extension": ".py",
   "mimetype": "text/x-python",
   "name": "python",
   "nbconvert_exporter": "python",
   "pygments_lexer": "ipython3",
   "version": "3.12.11"
  }
 },
 "nbformat": 4,
 "nbformat_minor": 5
}
