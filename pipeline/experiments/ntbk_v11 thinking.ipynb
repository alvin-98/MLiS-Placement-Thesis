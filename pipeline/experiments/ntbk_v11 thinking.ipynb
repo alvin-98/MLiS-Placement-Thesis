{
 "cells": [
  {
   "cell_type": "markdown",
   "id": "bf199f17",
   "metadata": {},
   "source": [
    "NOTES\n",
    "\n",
    "1. Serve the model using vLLM like so - vllm serve Qwen/Qwen3-30B-A3B-Instruct-2507 --tensor-parallel-size 4 --port 8000 \n",
    "\n",
    "\n",
    "2. Serve sglang model and then modify _openai_base.py like so \n",
    "add this in the for chunk in chunks portion after -\n",
    "choice = chunk.choices[0]\n",
    "<br>\n",
    "delta = choice.delta\n",
    "<br>\n",
    "rc = getattr(delta, \"reasoning_content\", None)\n",
    "if rc:\n",
    "    reasoning_buf += rc\n",
    "\n",
    "\n",
    "3. Then after that for loop and before this statement \n",
    "(usage.total_latency_ms += (time.time() - _t0) * 1000 \n",
    "<br>\n",
    "self.state.add_usage(usage)) \n",
    "<br>    \n",
    "add -\n",
    "<br>\n",
    "if reasoning_buf:\n",
    "    yield self.state.apply_capture(\n",
    "        name=\"reasoning\",\n",
    "        value=reasoning_buf,\n",
    "        log_prob=1,      # unknown; best-effort default\n",
    "        is_append=False,\n",
    "    )"
   ]
  },
  {
   "cell_type": "code",
   "execution_count": 1,
   "id": "9208a35d",
   "metadata": {},
   "outputs": [],
   "source": [
    "import os\n",
    "from pydantic import BaseModel\n",
    "import guidance"
   ]
  },
  {
   "cell_type": "code",
   "execution_count": 2,
   "id": "f37bd7b7",
   "metadata": {},
   "outputs": [],
   "source": [
    "# from pydantic import BaseModel, Field, conint\n",
    "# from typing import Literal\n",
    "\n",
    "# class Person(BaseModel):\n",
    "#     name: str\n",
    "#     age: conint(ge=0, le=150)\n",
    "#     country: Literal[\"UK\", \"IN\"]\n",
    "\n",
    "# schema: dict = Person.model_json_schema()   # Pydantic v2\n",
    "# # schema_v1: dict = Person.schema()        # Pydantic v1\n",
    "# schema"
   ]
  },
  {
   "cell_type": "code",
   "execution_count": 3,
   "id": "f2f7705d",
   "metadata": {},
   "outputs": [],
   "source": [
    "# # vllm hosted model using LiteLLM\n",
    "\n",
    "# litellm_desc = {\n",
    "#     \"model_name\": \"Qwen/Qwen3-30B-A3B-Instruct-2507\",\n",
    "#     \"litellm_params\": {  # params for litellm completion/embedding call\n",
    "#         \"model\": \"hosted_vllm/Qwen/Qwen3-30B-A3B-Instruct-2507\",\n",
    "#         \"api_key\": os.environ.get(\"VLLM_API_KEY\", \"NO_KEY\"), # set your vLLM API key if needed\n",
    "#         \"api_base\": \"http://localhost:8000/v1\", # change to your vLLM API base URL\n",
    "#     },\n",
    "# }\n",
    "# base_lm = guidance.models.experimental.LiteLLM(model_description=litellm_desc, echo=True)"
   ]
  },
  {
   "cell_type": "code",
   "execution_count": 2,
   "id": "d7584159",
   "metadata": {},
   "outputs": [
    {
     "name": "stdout",
     "output_type": "stream",
     "text": [
      "REASONING: Okay, the user asked \"1+3?\" which seems straightforward. Let me think about this.\n",
      "\n",
      "First, I should confirm the basic arithmetic. 1 plus 3 equals 4. But maybe the user is testing if I can handle simple math. Or perhaps they made a typo. Let me check if there's any hidden meaning. Sometimes people use symbols like \"1+3\" to refer to something else, but in this case, it's probably literal.\n",
      "\n",
      "The user might be a child learning addition, or maybe someone checking if the AI works. Since it's a very simple question, I should answer directly without overcomplicating. But I should make sure there's no misunderstanding. Let me calculate again: 1 + 3. Starting from 1, adding 3 more: 1, 2, 3, 4. Yep, 4.\n",
      "\n",
      "Wait, could it be a trick question? Like in a different base? For example, in base 4, 1+3 would be 10, but the user didn't specify. But usually, unless stated, we assume base 10. So probably 4 is the answer.\n",
      "\n",
      "Also, the question mark at the end might indicate uncertainty, so the user wants confirmation. So I'll state the answer clearly. Let me keep it simple and friendly. \"The answer is 4!\" That should cover it.\n",
      "\n",
      "ANSWER: The answer to 1 + 3 is **4**. 😊\n"
     ]
    }
   ],
   "source": [
    "from openai import OpenAI\n",
    "client = OpenAI(base_url=\"http://127.0.0.1:30000/v1\", api_key=\"None\")\n",
    "r = client.chat.completions.create(\n",
    "    model=\"Qwen/Qwen3-30B-A3B-Thinking-2507\",\n",
    "    messages=[{\"role\":\"user\",\"content\":\"1+3?\"}],\n",
    "    # extra_body={\"separate_reasoning\": True},  # key bit\n",
    ")\n",
    "print(\"REASONING:\", r.choices[0].message.reasoning_content)\n",
    "print(\"ANSWER:\", r.choices[0].message.content)\n"
   ]
  },
  {
   "cell_type": "code",
   "execution_count": 2,
   "id": "d9a64119",
   "metadata": {},
   "outputs": [],
   "source": [
    "# using sglang hosted model\n",
    "# need to add the experimental sglang from nightly version of guidance - https://github.com/guidance-ai/guidance/blob/main/guidance/models/experimental/_sglang.py\n",
    "\n",
    "base_lm = guidance.models.experimental.SglangModel(model=\"Qwen/Qwen3-30B-A3B-Thinking-2507\", base_url=\"http://127.0.0.1:30000/v1\" ,echo=True, api_key = os.environ.get(\"OPENAI_API_KEY\", \"NO_KEY\"))"
   ]
  },
  {
   "cell_type": "code",
   "execution_count": 3,
   "id": "af344fea",
   "metadata": {},
   "outputs": [
    {
     "data": {
      "application/vnd.jupyter.widget-view+json": {
       "model_id": "671ef889c7264cb092d5f524fd6cb044",
       "version_major": 2,
       "version_minor": 0
      },
      "text/plain": [
       "StitchWidget(initial_height='auto', initial_width='100%', srcdoc='<!doctype html>\\n<html lang=\"en\">\\n<head>\\n …"
      ]
     },
     "metadata": {},
     "output_type": "display_data"
    },
    {
     "name": "stdout",
     "output_type": "stream",
     "text": [
      "Reasoning:\n",
      " Hmm, the user is asking for the capital of France and its population. This seems like a straightforward geography question, but I should be careful about the population figure since it can vary depending on the source and whether it's for the city or the metropolitan area.\n",
      "\n",
      "I know Paris is the capital of France - that's basic knowledge. For population, I recall that the city proper has about 2.1 million people, but the metropolitan area (which includes suburbs) is much larger - around 12.9 million. The user didn't specify which one, so I should provide the most commonly cited figure for the city itself.\n",
      "\n",
      "Let me verify the latest data... Yes, according to recent estimates from INSEE (France's national statistics office), Paris city proper has 2,140,526 residents as of 2023. The metropolitan area is indeed about 12.9 million.\n",
      "\n",
      "The user specifically asked for formatting: \"Capital: <capital>, Population: <population>\". They want it very structured. I'll go with the city population since that's what \"capital\" typically refers to in such contexts, not the metro area.\n",
      "\n",
      "I should make sure to use the exact format they requested - no extra words, just the capital and population numbers as specified. The user seems to want a clean, minimal response, probably for some kind of automated system or quick reference.\n",
      "\n",
      "Also noting they said \"France\" not \"the French Republic\" or anything formal, so I'll keep it simple. No need for historical context about why Paris is the capital or anything like that - just the facts they asked for.\n",
      "\n",
      "Double-checking: capital is definitely Paris, not Lyon or something. And population figure is current as of 2023 estimates. Some sources might say 2.14 million or round to 2.1 million - I'll use the precise figure I have.\n",
      "\n",
      "Okay, formatting exactly as requested: \"Capital: Paris, Population: 2140526\" but wait - should I include commas in the number? The example didn't have them, so probably just the raw number. But looking at their instruction, they said \"<population>\" so I'll use the numerical value without commas.\n",
      "\n",
      "Wait, actually in the population field I should write the number as is - 2140526. But let me confirm that's the latest. Yes, INSEE 2023 census is 2,140,526 so 2140526 without commas.\n",
      "\n",
      "Final decision: Capital: Paris, Population: 2140526\n",
      "\n",
      "\n",
      "\n",
      "Capital: Paris, Population: 2140526\n"
     ]
    }
   ],
   "source": [
    "@guidance\n",
    "def run_gen_test(lm):\n",
    "    with guidance.user():\n",
    "        lm += \"What is the capital of France? and its population?\"\n",
    "        lm += \"Format your answer as follows: Capital: <capital>, Population: <population>\"\n",
    "\n",
    "    with guidance.assistant():\n",
    "        lm += guidance.gen(max_tokens=1024, temperature=0.7, name=\"answer\")\n",
    "        print(\"Reasoning:\\n\", lm.get(\"reasoning\", \"\"))\n",
    "        print(lm[\"answer\"])\n",
    "    return lm\n",
    "\n",
    "lm = base_lm + run_gen_test()"
   ]
  },
  {
   "cell_type": "code",
   "execution_count": null,
   "id": "ce2a0854",
   "metadata": {},
   "outputs": [
    {
     "data": {
      "text/plain": [
       "{'echo': True,\n",
       " '_interpreter': <guidance.models.experimental._sglang.SglangInterpreter at 0x153e86668980>,\n",
       " '_active_blocks': {<guidance.library._block.Block at 0x153e866687a0>: 154},\n",
       " 'sampling_params': {},\n",
       " '_parent': <guidance.models.experimental._sglang.SglangModel at 0x153e86b84da0>,\n",
       " '_parent_id': 19,\n",
       " '_id': 20,\n",
       " '_trace_nodes': {10:[]:[TokenOutput:':':True:13.835430145263672:Token(token=':', bytes=b':', prob=1.0, masked=False):[Token(token=':', bytes=b':', prob=1.0, masked=False), Token(token='：', bytes=b'\\xef\\xbc\\x9a', prob=1.813248599208411e-16, masked=False), Token(token=' ', bytes=b' ', prob=1.5167425099519682e-16, masked=False), Token(token='.', bytes=b'.', prob=7.969440121294002e-18, masked=False), Token(token=':\\n', bytes=b':\\n', prob=2.496819144761755e-18, masked=False)]],\n",
       "  11:[]:[TokenOutput:' ':True:5.9604644775390625:Token(token=' ', bytes=b' ', prob=1.0, masked=False):[Token(token=' ', bytes=b' ', prob=1.0, masked=False), Token(token='2', bytes=b'2', prob=1.0811948903122706e-15, masked=False), Token(token=' <', bytes=b' <', prob=6.096953565773017e-18, masked=False), Token(token=' $', bytes=b' $', prob=2.9299110657563356e-19, masked=False), Token(token=' [', bytes=b' [', prob=1.4344181917251547e-19, masked=False)]],\n",
       "  12:[]:[TokenOutput:'2':True:5.157709121704102:Token(token='2', bytes=b'2', prob=1.0, masked=False):[Token(token='2', bytes=b'2', prob=1.0, masked=False), Token(token='1', bytes=b'1', prob=4.769769215178333e-12, masked=False), Token(token='3', bytes=b'3', prob=3.773237513467582e-15, masked=False), Token(token='4', bytes=b'4', prob=1.847298793073998e-15, masked=False), Token(token='7', bytes=b'7', prob=1.5452306410079084e-15, masked=False)]],\n",
       "  13:[]:[TokenOutput:'1':True:6.975650787353516:Token(token='1', bytes=b'1', prob=1.0, masked=False):[Token(token='1', bytes=b'1', prob=1.0, masked=False), Token(token='2', bytes=b'2', prob=5.59707859684181e-13, masked=False), Token(token='0', bytes=b'0', prob=7.851830873744747e-14, masked=False), Token(token='4', bytes=b'4', prob=7.707131998332783e-15, masked=False), Token(token='7', bytes=b'7', prob=3.1562300609636094e-15, masked=False)]],\n",
       "  14:[]:[TokenOutput:'4':True:6.8950653076171875:Token(token='4', bytes=b'4', prob=1.0, masked=False):[Token(token='4', bytes=b'4', prob=1.0, masked=False), Token(token='6', bytes=b'6', prob=3.9162725357499443e-13, masked=False), Token(token='3', bytes=b'3', prob=3.9162725357499443e-13, masked=False), Token(token='5', bytes=b'5', prob=3.9162725357499443e-13, masked=False), Token(token='7', bytes=b'7', prob=1.3415465751621786e-13, masked=False)]],\n",
       "  15:[]:[TokenOutput:'0':True:6.985902786254883:Token(token='0', bytes=b'0', prob=1.0, masked=False):[Token(token='0', bytes=b'0', prob=1.0, masked=False), Token(token='2', bytes=b'2', prob=2.6897047665722002e-14, masked=False), Token(token='1', bytes=b'1', prob=1.1014939697575418e-14, masked=False), Token(token='3', bytes=b'3', prob=9.213754413577718e-15, masked=False), Token(token='9', bytes=b'9', prob=3.1562420998003876e-15, masked=False)]],\n",
       "  16:[]:[TokenOutput:'5':True:6.907463073730469:Token(token='5', bytes=b'5', prob=1.0, masked=False):[Token(token='5', bytes=b'5', prob=1.0, masked=False), Token(token='3', bytes=b'3', prob=1.8819812220197475e-14, masked=False), Token(token='0', bytes=b'0', prob=1.3168186204126534e-14, masked=False), Token(token='6', bytes=b'6', prob=9.213789557684249e-15, masked=False), Token(token='4', bytes=b'4', prob=7.707131998332783e-15, masked=False)]],\n",
       "  17:[]:[TokenOutput:'2':True:7.121562957763672:Token(token='2', bytes=b'2', prob=1.0, masked=False):[Token(token='2', bytes=b'2', prob=1.0, masked=False), Token(token='3', bytes=b'3', prob=6.691244465551495e-13, masked=False), Token(token='0', bytes=b'0', prob=4.681850808540568e-13, masked=False), Token(token='4', bytes=b'4', prob=1.2269673581968127e-13, masked=False), Token(token='1', bytes=b'1', prob=1.2269673581968127e-13, masked=False)]],\n",
       "  18:[]:[TokenOutput:'6':True:6.989002227783203:Token(token='6', bytes=b'6', prob=1.0, masked=False):[Token(token='6', bytes=b'6', prob=1.0, masked=False), Token(token='7', bytes=b'7', prob=1.9173184588055696e-13, masked=False), Token(token='5', bytes=b'5', prob=2.6897047665722002e-14, masked=False), Token(token='8', bytes=b'8', prob=5.39266535002457e-15, masked=False), Token(token='9', bytes=b'9', prob=1.5452247470432241e-15, masked=False)]],\n",
       "  19:[]:[CaptureOutput:'reasoning':'Hmm, the user is asking for the capital of France and its population. This seems like a straightforward geography question, but I should be careful about the population figure since it can vary depending on the source and whether it\\'s for the city or the metropolitan area.\\n\\nI know Paris is the capital of France - that\\'s basic knowledge. For population, I recall that the city proper has about 2.1 million people, but the metropolitan area (which includes suburbs) is much larger - around 12.9 million. The user didn\\'t specify which one, so I should provide the most commonly cited figure for the city itself.\\n\\nLet me verify the latest data... Yes, according to recent estimates from INSEE (France\\'s national statistics office), Paris city proper has 2,140,526 residents as of 2023. The metropolitan area is indeed about 12.9 million.\\n\\nThe user specifically asked for formatting: \"Capital: <capital>, Population: <population>\". They want it very structured. I\\'ll go with the city population since that\\'s what \"capital\" typically refers to in such contexts, not the metro area.\\n\\nI should make sure to use the exact format they requested - no extra words, just the capital and population numbers as specified. The user seems to want a clean, minimal response, probably for some kind of automated system or quick reference.\\n\\nAlso noting they said \"France\" not \"the French Republic\" or anything formal, so I\\'ll keep it simple. No need for historical context about why Paris is the capital or anything like that - just the facts they asked for.\\n\\nDouble-checking: capital is definitely Paris, not Lyon or something. And population figure is current as of 2023 estimates. Some sources might say 2.14 million or round to 2.1 million - I\\'ll use the precise figure I have.\\n\\nOkay, formatting exactly as requested: \"Capital: Paris, Population: 2140526\" but wait - should I include commas in the number? The example didn\\'t have them, so probably just the raw number. But looking at their instruction, they said \"<population>\" so I\\'ll use the numerical value without commas.\\n\\nWait, actually in the population field I should write the number as is - 2140526. But let me confirm that\\'s the latest. Yes, INSEE 2023 census is 2,140,526 so 2140526 without commas.\\n\\nFinal decision: Capital: Paris, Population: 2140526\\n':1.0],\n",
       "  20:[]:[CaptureOutput:'answer':'\\n\\nCapital: Paris, Population: 2140526':1.0],\n",
       "  4:[RoleCloserInput:'user', RoleOpenerInput:'assistant', StatelessGuidanceInput({{G|23358287022608|G}})]:[TextOutput:'<|im_start|>assistant\\n':True, TokenOutput:'\\n\\n':True:15.163898468017578:Token(token='\\n\\n', bytes=b'\\n\\n', prob=1.0, masked=False):[Token(token='\\n\\n', bytes=b'\\n\\n', prob=1.0, masked=False), Token(token=':', bytes=b':', prob=6.8168703857357195e-12, masked=False), Token(token=' \\n\\n', bytes=b' \\n\\n', prob=4.3623746792822405e-12, masked=False), Token(token='  \\n', bytes=b'  \\n', prob=9.563009064628429e-13, masked=False), Token(token='  \\n\\n', bytes=b'  \\n\\n', prob=4.281973707663627e-13, masked=False)]],\n",
       "  5:[]:[TokenOutput:'Capital':True:5.619049072265625:Token(token='Capital', bytes=b'Capital', prob=1.0, masked=False):[Token(token='Capital', bytes=b'Capital', prob=1.0, masked=False), Token(token='Cap', bytes=b'Cap', prob=5.8092402895132266e-11, masked=False), Token(token='Captain', bytes=b'Captain', prob=5.59707859684181e-13, masked=False), Token(token=' Capital', bytes=b' Capital', prob=2.689694507246191e-14, masked=False), Token(token=' capital', bytes=b' capital', prob=3.1562300609636094e-15, masked=False)]],\n",
       "  6:[]:[TokenOutput:':':True:6.713390350341797:Token(token=':', bytes=b':', prob=1.0, masked=False):[Token(token=':', bytes=b':', prob=1.0, masked=False), Token(token='：', bytes=b'\\xef\\xbc\\x9a', prob=5.099947897782541e-18, masked=False), Token(token=':\\n', bytes=b':\\n', prob=4.2660103437212464e-18, masked=False), Token(token=' :', bytes=b' :', prob=2.49682866840153e-18, masked=False), Token(token='::', bytes=b'::', prob=1.747019525570259e-18, masked=False)]],\n",
       "  7:[]:[TokenOutput:' Paris':True:6.908655166625977:Token(token=' Paris', bytes=b' Paris', prob=1.0, masked=False):[Token(token=' Paris', bytes=b' Paris', prob=1.0, masked=False), Token(token='巴黎', bytes=b'\\xe5\\xb7\\xb4\\xe9\\xbb\\x8e', prob=1.9173148021934881e-13, masked=False), Token(token='Paris', bytes=b'Paris', prob=4.595552951215992e-14, masked=False), Token(token=' paris', bytes=b' paris', prob=6.096907054709217e-18, masked=False), Token(token=' France', bytes=b' France', prob=1.714824262486071e-19, masked=False)]],\n",
       "  8:[]:[TokenOutput:',':True:6.852865219116211:Token(token=',', bytes=b',', prob=1.0, masked=False):[Token(token=',', bytes=b',', prob=1.0, masked=False), Token(token=' Population', bytes=b' Population', prob=2.1277701057898723e-17, masked=False), Token(token='\\n', bytes=b'\\n', prob=1.0417081198217425e-17, masked=False), Token(token=',\\n', bytes=b',\\n', prob=3.568450900579842e-18, masked=False), Token(token=';', bytes=b';', prob=1.0225108146492954e-18, masked=False)]],\n",
       "  9:[]:[TokenOutput:' Population':True:6.997585296630859:Token(token=' Population', bytes=b' Population', prob=1.0, masked=False):[Token(token=' Population', bytes=b' Population', prob=1.0, masked=False), Token(token=' Pop', bytes=b' Pop', prob=2.2498873686028008e-14, masked=False), Token(token='Population', bytes=b'Population', prob=7.565099732133645e-16, masked=False), Token(token='_population', bytes=b'_population', prob=6.328039277550002e-16, masked=False), Token(token=' population', bytes=b' population', prob=1.0417081198217425e-17, masked=False)]]}}"
      ]
     },
     "execution_count": 4,
     "metadata": {},
     "output_type": "execute_result"
    }
   ],
   "source": [
    "# lm.__dict__"
   ]
  },
  {
   "cell_type": "code",
   "execution_count": null,
   "id": "1ada56a9",
   "metadata": {},
   "outputs": [],
   "source": []
  },
  {
   "cell_type": "code",
   "execution_count": 4,
   "id": "441f722c",
   "metadata": {},
   "outputs": [],
   "source": [
    "# %%bash\n",
    "\n",
    "# module purge\n",
    "# module load gcc-uoneasy/12.3.0\n",
    "# module load CUDA/12.4.0\n",
    "# export CC=gcc\n",
    "# export CXX=g++\n",
    "# # Remove TRITON_BUILD_WITH_CLANG_LLD=1 as it's Clang-specific; GCC may not need it\n",
    "# rm -rf ~/.triton ~/.cache/triton\n",
    "# export VLLM_WORKER_MULTIPROC_METHOD=spawn\n",
    "# module load anaconda-uoneasy/2023.09-0\n",
    "# source /gpfs01/home/ppxac9/.zshrc\n",
    "# conda activate envname"
   ]
  },
  {
   "cell_type": "code",
   "execution_count": 8,
   "id": "8e958171-f099-4301-9fa7-c6c012cad4f1",
   "metadata": {},
   "outputs": [],
   "source": [
    "import torch\n",
    "torch.cuda.empty_cache()\n",
    "\n",
    "import time\n",
    "import json\n",
    "from transformers import AutoTokenizer, AutoModelForCausalLM\n",
    "from pydantic import BaseModel, Field, RootModel\n",
    "from typing import Optional, Union, Literal, ForwardRef, List, Any\n",
    "from enum import Enum\n",
    "from guidance import models, system, user, assistant, json as gen_json, gen\n",
    "import torch\n",
    "from transformers import AutoModelForCausalLM, AutoTokenizer\n",
    "import json\n",
    "import torch\n",
    "from transformers import AutoTokenizer, AutoModelForCausalLM\n",
    "from pydantic import BaseModel, Field, RootModel\n",
    "from typing import Optional, Union\n",
    "from enum import Enum\n",
    "from guidance import models, system, user, assistant, json as gen_json\n",
    "import guidance\n",
    "from utils import timing_decorator"
   ]
  },
  {
   "cell_type": "code",
   "execution_count": null,
   "id": "eefc8c54",
   "metadata": {},
   "outputs": [],
   "source": []
  },
  {
   "cell_type": "code",
   "execution_count": 3,
   "id": "61020788-eeea-4d08-8416-f3658f754d54",
   "metadata": {},
   "outputs": [],
   "source": [
    "\n",
    "# with open(\"../output/2025-airport-charges-terms-and-conditions/tinychargesmarkdown.md\", \"r\") as f:\n",
    "#     markdown_content = f.read()\n",
    "# with open(\"../output/2025-airport-charges-terms-and-conditions/2025-airport-charges-terms-and-conditions.md\", \"r\") as f:\n",
    "#     markdown_content = f.read()    \n"
   ]
  },
  {
   "cell_type": "code",
   "execution_count": 4,
   "id": "e6630d98-68f2-4e0e-aae1-200df638fe4a",
   "metadata": {},
   "outputs": [],
   "source": [
    "# import os\n",
    "# os.environ[\"CUDA_VISIBLE_DEVICES\"] = \"3,4,5,6\""
   ]
  },
  {
   "cell_type": "code",
   "execution_count": 5,
   "id": "18612e87-e1a8-4861-9ad4-3b38207554ba",
   "metadata": {},
   "outputs": [],
   "source": [
    "\n",
    "# # MODEL_ID = \"Qwen/Qwen3-30B-A3B\"\n",
    "# MODEL_ID = \"Qwen/Qwen3-30B-A3B-Instruct-2507\"\n",
    "# hf_model = AutoModelForCausalLM.from_pretrained(\n",
    "#     MODEL_ID,\n",
    "#     device_map=\"auto\",       \n",
    "#     low_cpu_mem_usage=True,          \n",
    "# )\n",
    "\n",
    "\n",
    "# tok        = AutoTokenizer.from_pretrained(MODEL_ID)\n"
   ]
  },
  {
   "cell_type": "code",
   "execution_count": 6,
   "id": "1577363e-4e81-46f0-9015-89e97f664a70",
   "metadata": {},
   "outputs": [],
   "source": [
    "# from guidance.chat import ChatTemplate\n",
    "# class QwenChatTemplate(ChatTemplate):\n",
    "#     template_str = tok.chat_template\n",
    "#     def get_role_start(self, role_name):\n",
    "#         # adjust tokens if you use a derivative model with different tags\n",
    "#         if role_name == \"system\":\n",
    "#             return \"<|im_start|>system\\n\"\n",
    "#         elif role_name == \"user\":\n",
    "#             return \"<|im_start|>user\\n\"\n",
    "#         elif role_name == \"assistant\":\n",
    "#             return \"<|im_start|>assistant\\n\"\n",
    "#         else:\n",
    "#             raise UnsupportedRoleException(role_name, self)\n",
    "\n",
    "#     def get_role_end(self, role_name=None):\n",
    "#         # same token for every role in Qwen‑3\n",
    "#         return \"<|im_end|>\\n\""
   ]
  },
  {
   "cell_type": "code",
   "execution_count": 7,
   "id": "0302e424-a63e-4fad-ad0e-799cc798c0f8",
   "metadata": {},
   "outputs": [],
   "source": [
    "\n",
    "# model = guidance.models.Transformers(hf_model, tok, chat_template=QwenChatTemplate, echo=False)"
   ]
  },
  {
   "cell_type": "code",
   "execution_count": 9,
   "id": "e1cc4350-69c3-4f66-ba4e-1403b77e1aa4",
   "metadata": {},
   "outputs": [],
   "source": [
    "from pydantic import BaseModel, Field\n",
    "from typing import List, Any\n",
    "\n",
    "class DomainVariable(BaseModel):\n",
    "    \"\"\"Defines a single variable the LLM can use in the computation graph.\"\"\"\n",
    "    name: str = Field(..., description=\"The unique identifier for the variable.\")\n",
    "    description: str = Field(..., description=\"A detailed explanation of what this variable represents.\")\n",
    "    # Optional: You could add type hints, units, etc. for more advanced validation\n",
    "    unit: Optional[str] = Field(..., description=\"The unit of the variable\")\n",
    "    data_type : type = Field(..., description=\"The data type of the variable\")\n"
   ]
  },
  {
   "cell_type": "code",
   "execution_count": 10,
   "id": "9bfd994f-7310-4b5b-8946-72c0204efd63",
   "metadata": {},
   "outputs": [],
   "source": [
    "# ALL_VARIABLES = {\n",
    "    \n",
    "#     'transfer_passenger_count': DomainVariable(name='transfer_passenger_count', description='Total number of transferring passengers.', unit=None, data_type=float),\n",
    "#     'airline_scheduling_season': DomainVariable(name='airline_scheduling_season', description='Whether summer/winter airline scheduling season.', unit=None, data_type=float),\n",
    "#     'takeoff_aircraft_mtow_tonnes': DomainVariable(name='takeoff_aircraft_mtow_tonnes', description='The Maximum Take-Off Weight in tonnes.', unit='tonne', data_type=float),\n",
    "#     'landing_aircraft_mtow_tonnes': DomainVariable(name='landing_aircraft_mtow_tonnes', description='The Maximum Landing Weight in tonnes.', unit='tonne', data_type=float),\n",
    "    \n",
    "#     'parking_duration_hours': DomainVariable(\n",
    "#         name='parking_duration_hours',\n",
    "#         description='Total duration of parking in hours. Surcharges apply at 48 and 72 hours.',\n",
    "#         unit='hours',\n",
    "#         data_type=float\n",
    "#     ),\n",
    "#     'aircraft_stand_type': DomainVariable(\n",
    "#         name='aircraft_stand_type',\n",
    "#         description='The type of aircraft stand used for parking. E.g., \"Wide Contact\", \"Narrow Remote\", \"LAP\", \"Long Term Remote\".',\n",
    "#         unit=None,\n",
    "#         data_type=str\n",
    "#     ),\n",
    "#     'parking_location': DomainVariable(\n",
    "#         name='parking_location',\n",
    "#         description='The location of the parking stand, either \"EAP\" (East Aerodrome Parking) or \"WAP\" (West Aerodrome Parking).',\n",
    "#         unit=None,\n",
    "#         data_type=str\n",
    "#     ),\n",
    "#     'is_overnight_parking': DomainVariable(\n",
    "#         name='is_overnight_parking',\n",
    "#         description='True if the parking occurs during the free overnight period (2300-0600hrs).',\n",
    "#         unit=None,\n",
    "#         data_type=bool\n",
    "#     )\n",
    "# }\n",
    "# # 2. Map charge types to the variable names they are allowed to use\n",
    "# CHARGE_CATEGORY_VARIABLES = {\n",
    "#     # --- Existing Categories ---\n",
    "#     \"transfer_passenger_charge\": [\n",
    "#         'transfer_passenger_count', \n",
    "#         'airline_scheduling_season'\n",
    "#     ],\n",
    "#     \"runway_landing_charge\": [\n",
    "#         'landing_aircraft_mtow_tonnes', \n",
    "#         'airline_scheduling_season'\n",
    "#     ],\n",
    "#     \"runway_takeoff_charge\": [\n",
    "#         'takeoff_aircraft_mtow_tonnes', \n",
    "#         'airline_scheduling_season'\n",
    "#     ],\n",
    "\n",
    "#     # --- New Categories for Parking Charges ---\n",
    "#     \"east_aerodrome_parking_charge\": [\n",
    "#         'parking_duration_hours',\n",
    "#         'aircraft_stand_type',\n",
    "#         'is_overnight_parking'\n",
    "#         # 'parking_location' is implicitly 'EAP' for this category\n",
    "#     ],\n",
    "#     \"west_aerodrome_parking_charge\": [\n",
    "#         'parking_duration_hours',\n",
    "#         'aircraft_stand_type',\n",
    "#         'is_overnight_parking'\n",
    "#         # 'parking_location' is implicitly 'WAP' for this category\n",
    "#     ]\n",
    "# }\n",
    "\n"
   ]
  },
  {
   "cell_type": "code",
   "execution_count": 11,
   "id": "7bb3f643-b891-4d32-a5ab-b143bd224d54",
   "metadata": {},
   "outputs": [],
   "source": [
    "def create_dynamic_variable_enum(charge_category: str, charge_category_variables: dict) -> type(Enum):\n",
    "    \"\"\"\n",
    "    Creates a new Enum class containing only the variables relevant\n",
    "    to the specified charge category.\n",
    "    \"\"\"\n",
    "    variable_names = charge_category_variables.get(charge_category)\n",
    "    if not variable_names:\n",
    "        raise ValueError(f\"Unknown charge category: {charge_category}\")\n",
    "    \n",
    "    # The dictionary for the Enum must have {MEMBER_NAME: value}\n",
    "    # We'll use uppercase for the member name for convention.\n",
    "    enum_dict = {name.upper(): name for name in variable_names}\n",
    "    \n",
    "    # Create the Enum class dynamically\n",
    "    return Enum(\"Var\", enum_dict)\n",
    "\n",
    "# Var = create_dynamic_variable_enum(\"transfer_passenger_charge\", CHARGE_CATEGORY_VARIABLES)\n",
    "# print(Var.TRANSFER_PASSENGER_COUNT.value)"
   ]
  },
  {
   "cell_type": "code",
   "execution_count": 12,
   "id": "a76f7bde-494c-4106-bb5b-3bb5518e7cbf",
   "metadata": {},
   "outputs": [],
   "source": [
    "# allowed_variables = [el.value for el in list(Var)]\n",
    "# allowed_variables"
   ]
  },
  {
   "cell_type": "code",
   "execution_count": 13,
   "id": "846e72ef",
   "metadata": {},
   "outputs": [],
   "source": [
    "from enum import Enum\n",
    "\n",
    "class Units(str, Enum):\n",
    "    # General\n",
    "    UNITLESS = \"UNITLESS\"\n",
    "    PERCENT = \"PERCENT\"\n",
    "\n",
    "    # Time\n",
    "    NANOSECONDS = \"NANOSECONDS\"\n",
    "    MICROSECONDS = \"MICROSECONDS\"\n",
    "    MILLISECONDS = \"MILLISECONDS\"\n",
    "    SECONDS = \"SECONDS\"\n",
    "    MINUTES = \"MINUTES\"\n",
    "    HOURS = \"HOURS\"\n",
    "    DAYS = \"DAYS\"\n",
    "    WEEKS = \"WEEKS\"\n",
    "\n",
    "    # Length\n",
    "    MILLIMETERS = \"MILLIMETERS\"\n",
    "    CENTIMETERS = \"CENTIMETERS\"\n",
    "    METERS = \"METERS\"\n",
    "    KILOMETERS = \"KILOMETERS\"\n",
    "    INCHES = \"INCHES\"\n",
    "    FEET = \"FEET\"\n",
    "    YARDS = \"YARDS\"\n",
    "    MILES = \"MILES\"\n",
    "\n",
    "    # Mass\n",
    "    MILLIGRAMS = \"MILLIGRAMS\"\n",
    "    GRAMS = \"GRAMS\"\n",
    "    KILOGRAMS = \"KILOGRAMS\"\n",
    "    TONNES = \"TONNES\"\n",
    "\n",
    "    # Speed / Acceleration\n",
    "    METERS_PER_SECOND = \"METERS_PER_SECOND\"\n",
    "    KILOMETERS_PER_HOUR = \"KILOMETERS_PER_HOUR\"\n",
    "    MILES_PER_HOUR = \"MILES_PER_HOUR\"\n",
    "    METERS_PER_SECOND_SQUARED = \"METERS_PER_SECOND_SQUARED\"\n",
    "\n",
    "    # Data size\n",
    "    BYTES = \"BYTES\"\n",
    "    KILOBYTES = \"KILOBYTES\"\n",
    "    MEGABYTES = \"MEGABYTES\"\n",
    "    GIGABYTES = \"GIGABYTES\"\n",
    "    TERABYTES = \"TERABYTES\"\n",
    "    BITS = \"BITS\"\n",
    "\n",
    "    # Data rates\n",
    "    BITS_PER_SECOND = \"BITS_PER_SECOND\"\n",
    "    KILOBITS_PER_SECOND = \"KILOBITS_PER_SECOND\"\n",
    "    MEGABITS_PER_SECOND = \"MEGABITS_PER_SECOND\"\n",
    "    GIGABITS_PER_SECOND = \"GIGABITS_PER_SECOND\"\n",
    "    BYTES_PER_SECOND = \"BYTES_PER_SECOND\"\n",
    "\n",
    "    # Currencies (suggest using ISO codes)\n",
    "    EUROS = \"EUROS\"\n",
    "    USD = \"USD\"\n",
    "    GBP = \"GBP\"\n",
    "    JPY = \"JPY\"\n",
    "\n",
    "    # ML / LLM specific\n",
    "    TOKENS = \"TOKENS\"\n",
    "    TOKENS_PER_SECOND = \"TOKENS_PER_SECOND\"\n",
    "    SAMPLES = \"SAMPLES\"\n",
    "    SAMPLES_PER_SECOND = \"SAMPLES_PER_SECOND\"\n",
    "    REQUESTS_PER_SECOND = \"REQUESTS_PER_SECOND\"\n",
    "    FLOPS = \"FLOPS\"\n",
    "    GFLOPS = \"GFLOPS\"\n",
    "    TFLOPS = \"TFLOPS\""
   ]
  },
  {
   "cell_type": "code",
   "execution_count": 14,
   "id": "8443f36d",
   "metadata": {},
   "outputs": [],
   "source": [
    "from enum import Enum\n",
    "\n",
    "class MathOperator(str, Enum):\n",
    "    ADD = \"ADD\"\n",
    "    SUBTRACT = \"SUBTRACT\"\n",
    "    MULTIPLY = \"MULTIPLY\"\n",
    "    DIVIDE = \"DIVIDE\"\n",
    "    FLOOR_DIVIDE = \"FLOOR_DIVIDE\"\n",
    "    MOD = \"MOD\"\n",
    "    POWER = \"POWER\"\n",
    "    ROOT = \"ROOT\"\n",
    "    SQRT = \"SQRT\"\n",
    "    FLOOR = \"FLOOR\"\n",
    "    CEILING = \"CEILING\"\n",
    "    MIN = \"MIN\"\n",
    "    MAX = \"MAX\"\n",
    "    \n",
    "\n",
    "class Comparator(str, Enum):\n",
    "    EQUAL_TO = \"EQUAL_TO\"\n",
    "    NOT_EQUAL_TO = \"NOT_EQUAL_TO\"\n",
    "    LESS_THAN = \"LESS_THAN\"\n",
    "    LESS_THAN_OR_EQUAL_TO = \"LESS_THAN_OR_EQUAL_TO\"\n",
    "    GREATER_THAN = \"GREATER_THAN\"\n",
    "    GREATER_THAN_OR_EQUAL_TO = \"GREATER_THAN_OR_EQUAL_TO\"\n",
    "    "
   ]
  },
  {
   "cell_type": "code",
   "execution_count": 15,
   "id": "e377eb17-3b9e-4dd9-a99f-361990a05925",
   "metadata": {},
   "outputs": [],
   "source": [
    "from pydantic import BaseModel, Field, RootModel\n",
    "from typing import Union, Literal\n",
    "from enum import Enum\n",
    "\n",
    "# Separate enums for clarity and type safety\n",
    "# class MathOperator(str, Enum):\n",
    "#     ADD = \"ADD\"\n",
    "#     MULTIPLY = \"MULTIPLY\"\n",
    "#     DIVIDE = \"DIVIDE\"\n",
    "#     CEIL = \"CEIL\"\n",
    "    \n",
    "# class Comparator(str, Enum):\n",
    "#     GREATER_THAN = \"GREATER_THAN\"\n",
    "#     LESS_THAN = \"LESS_THAN\"\n",
    "#     EQUAL_TO = \"EQUAL_TO\"\n",
    "\n",
    "# class Units(str, Enum):\n",
    "#     HOURS = \"HOURS\"\n",
    "#     MINUTES = \"MINUTES\"\n",
    "#     EUROS = \"EUROS\"\n",
    "#     PERCENT = \"PERCENT\"\n",
    "#     UNITLESS = \"UNITLESS\"\n",
    "    \n",
    "# --- Node Definitions ---\n",
    "\n",
    "class ValueNode(BaseModel):\n",
    "    type: Literal[\"VALUE\"] = \"VALUE\"\n",
    "    value: float\n",
    "    description: str\n",
    "    unit: Units\n",
    "\n",
    "class CategoricalValueNode(BaseModel):\n",
    "    type: Literal[\"CATEGORICAL_VALUE\"] = \"CATEGORICAL_VALUE\"\n",
    "    value: str\n",
    "    description: str\n",
    "\n",
    "class VariableNode(BaseModel):\n",
    "    type: Literal[\"VARIABLE\"] = \"VARIABLE\"\n",
    "    name: str \n",
    "    description: str\n",
    "    unit: Units\n",
    "\n",
    "class BinaryOpNode(BaseModel):\n",
    "    \"\"\"Node for mathematical operations that produce a number.\"\"\"\n",
    "    type: Literal[\"BINARY_OPERATION\"] = \"BINARY_OPERATION\"\n",
    "    operator: MathOperator\n",
    "    left: 'AnyNode'\n",
    "    right: 'AnyNode'\n",
    "\n",
    "class ComparisonNode(BaseModel):\n",
    "    \"\"\"Node for comparison operations that produce a boolean.\"\"\"\n",
    "    type: Literal[\"COMPARISON\"] = \"COMPARISON\"\n",
    "    operator: Comparator\n",
    "    left: 'AnyNode'\n",
    "    right: 'AnyNode'\n",
    "\n",
    "class ConditionalNode(BaseModel):\n",
    "    \"\"\"Node for if-then-else logic.\"\"\"\n",
    "    type: Literal[\"CONDITIONAL\"] = \"CONDITIONAL\"\n",
    "    condition: ComparisonNode # Condition must be a comparison\n",
    "    if_true: 'AnyNode'\n",
    "    if_false: 'AnyNode'\n",
    "\n",
    "# --- Recursive Setup ---\n",
    "\n",
    "AnyNode = Union[\n",
    "    ValueNode,\n",
    "    CategoricalValueNode, \n",
    "    VariableNode, \n",
    "    BinaryOpNode, \n",
    "    ConditionalNode\n",
    "]\n",
    "\n",
    "# Use model_rebuild() to safely resolve all forward references\n",
    "BinaryOpNode.model_rebuild()\n",
    "ConditionalNode.model_rebuild()\n",
    "ComparisonNode.model_rebuild()\n",
    "\n",
    "class Node(RootModel):\n",
    "    root: BinaryOpNode"
   ]
  },
  {
   "cell_type": "code",
   "execution_count": null,
   "id": "e33228fd-369c-4df3-9122-6c93d57d7053",
   "metadata": {},
   "outputs": [],
   "source": [
    "# from pydantic import BaseModel, Field, field_validator\n",
    "# from typing import List, Dict, Any, Optional\n",
    "# from enum import Enum\n",
    "\n",
    "\n",
    "# class ParameterStatus(str, Enum):\n",
    "#     \"\"\"An enumeration for clear, explicit parameter statuses.\"\"\"\n",
    "#     KNOWN = \"KNOWN\"\n",
    "#     SYMBOLIC = \"SYMBOLIC\"\n",
    "\n",
    "# class VariableType(str, Enum):\n",
    "#     \"\"\"An enumeration for clear, explicit parameter statuses.\"\"\"\n",
    "#     CATEGORICAL = \"CATEGORICAL\"\n",
    "#     NUMERIC = \"NUMERIC\"\n",
    "\n",
    "# class ParameterDetail(BaseModel):\n",
    "#     \"\"\"A structured model to describe each parameter identified from the query.\"\"\"\n",
    "#     name: str = Field(..., description=\"The name of the parameter.\")\n",
    "#     status: ParameterStatus = Field(..., description=\"Whether the parameter's value is known from the query or is a symbolic variable.\")\n",
    "#     type_of_variable: VariableType = Field(..., description=\"whether the variable is numeric or categorical\")\n",
    "#     # value: Optional[Any] = Field(None, description=\"The actual value of the parameter, if its status is 'KNOWN'. Must be null if status is 'SYMBOLIC'.\")\n",
    "    \n",
    "\n",
    "\n",
    "# class ReasoningSchemaStep1(BaseModel):\n",
    "#     query_parameters: List[ParameterDetail] = Field(\n",
    "#         ...,\n",
    "#         description=\"A structured list of all parameters identified from the query and their status.\"\n",
    "#     )\n",
    "# class ReasoningSchemaStep2(BaseModel):\n",
    "#     \"\"\"\n",
    "#     A simplified schema for Step 2 that captures all constants and rules as a simple list of descriptive strings.\n",
    "#     \"\"\"\n",
    "#     identified_constants_and_rules: List[str] = Field(\n",
    "#         ...,\n",
    "#         description=\"A comprehensive list of all facts, constants, and conditional rules extracted from the document that are necessary for the final calculation. Each string in the list should be a self-contained, clear statement. For example: 'The rate for a Narrow Satellite stand is €32.90 per 15 minutes' or 'A 100% surcharge is applied if parking duration is between 48 and 72 hours'.\"\n",
    "#     )\n",
    "# class ReasoningSchemaStep3(BaseModel):\n",
    "#     synthesis_plan: str = Field(\n",
    "#         ...,\n",
    "#         description=\"A concise, step-by-step plan describing how the variables and constants are combined into the final computation graph.\"\n",
    "#     )\n",
    "# class ReasoningSchemaStep4(BaseModel):\n",
    "#     rethink: str = Field(\n",
    "#         ...,\n",
    "#         description=\"Final check to ensure the plan correctly uses variables and constants and handles all logic from the document.\"\n",
    "#     )\n"
   ]
  },
  {
   "cell_type": "code",
   "execution_count": 18,
   "id": "4f9e75d4-47b6-41b3-820f-2b3dbcb825c8",
   "metadata": {},
   "outputs": [],
   "source": [
    "@guidance\n",
    "def create_graph_with_cot(llm, allowed_variables_prompt, thought1, document, query, output_schema):\n",
    "    \n",
    "    with system():\n",
    "        llm += f\"\"\"You are an expert system that converts textual calculation rules into structured JSON expression trees.\n",
    "        You MUST think step-by-step and reason before generating the final JSON.\n",
    "        \n",
    "        **Reasoning Guidelines:**\n",
    "        1.  **Analyze Query Parameters:** Identify all relevant parameters from the user's query. For each parameter, create a structured object specifying its 'name', its 'status' ('KNOWN' if the value is given, or 'SYMBOLIC' if it's a variable), its 'type_of_variable' ('NUMERIC' if the value is a number or 'CATEGORICAL' if the value is categories), and its 'value' (or null if symbolic). For example: `[ {{\"name\": \"aircraft_stand_type\", \"status\": \"KNOWN\", \"type_of_variable\": \"CATEGORICAL\", \"value\": \"Wide Remote\"}}, {{\"name\": \"parking_duration_hours\", \"status\": \"SYMBOLIC\", \"type_of_variable\": \"NUMERIC\", \"value\": null}} ]`\n",
    "        **Allowed Variables for this Task:**\n",
    "        ---\n",
    "        {allowed_variables_prompt}\n",
    "        ---\n",
    "        2. **Identify All Relevant Information**: Review the document and extract every fact, constant, and conditional rule needed for the calculation. Each piece of information should be written as a clear, self-contained sentence and collected into a list of strings.\n",
    "        3.  **Synthesize Plan:** Briefly describe how you will combine these pieces into a final expression tree.\n",
    "        4. **Rethink and Finalize Approach**: Before processing with generation, rethink your progress so far and make adjustments if necessary, then finalize and proceed to generate the expression tree.\n",
    "\n",
    "        **Crucial Rule 1:** If a parameter from the 'Allowed Variables' list is given a specific value in the query, you MUST treat it as a fixed value to find constants. You MUST NOT include it as a `VARIABLE` node in the final JSON.\n",
    "        **Crucial Rule 2**: If a calculation path or value depends on the value of a symbolic variable, you MUST capture the rules for all possible values and represent this logic using CONDITIONAL nodes in the final expression tree. You MUST NOT assume a default value for the variable to simplify the logic.\n",
    "        **Crucial Rule 3 (Categorical Variables)**: Variables whose domain is categorical (e.g., string-valued like 'flight_type', 'stand_type') must be handled explicitly.\n",
    "            - If the query supplies a category, treat it as fixed (per Rule 1).\n",
    "            - If the query does not supply a category, mark the variable as 'SYMBOLIC' in Step 1 and ensure the final expression covers all category-dependent branches stated in the document using `CONDITIONAL` nodes. Do NOT assume a default category. Always use `CATEGORICAL_VALUE_NODE` for category constants.\n",
    "            - Ensure every variable in the Allowed Variables list appears in Step 1 with a status of KNOWN or SYMBOLIC.\n",
    "            - Encoding guidance: when checking a categorical branch, use a `COMPARISON` node with operator `EQUAL_TO`, `left` as a `VARIABLE` node for the categorical variable, and `right` as a `CATEGORICAL_VALUE_NODE` whose `value` is the category string (e.g., \"International\").\n",
    "\n",
    "        **Crucial Rule 4 (Numeric vs Categorical Comparisons)**:\n",
    "            - Numeric variables must be compared against numeric `VALUE` nodes whose `value` is a number.\n",
    "            - Categorical variables must be compared against `CATEGORICAL_VALUE_NODE` nodes whose `value` is the category string.\n",
    "            - Do NOT compare a categorical variable to a numeric `VALUE` node, and do NOT compare a numeric variable to a `CATEGORICAL_VALUE_NODE`.\n",
    "            \n",
    "        After writing your reasoning, you WILL generate the JSON object.\n",
    "\n",
    "\n",
    "        \"\"\"\n",
    "\n",
    "    with user():\n",
    "        llm += f\"\"\"\n",
    "        **Document:**\n",
    "        ---\n",
    "        {document}\n",
    "        ---\n",
    "\n",
    "        **Query:**\n",
    "        \n",
    "        Based on the document, construct the computation graph for the following request:\n",
    "        \n",
    "        \"{query}\"\n",
    "\n",
    "        ---\n",
    "\n",
    "        **Initiate Process:**\n",
    "\n",
    "        You will now follow the reasoning guidelines step-by-step before generating the final JSON.\\n\n",
    "        Step1. Analyze Query Parameters:\\n\n",
    "\n",
    "        {thought1}\n",
    "        \"\"\"\n",
    "\n",
    "    # with assistant():\n",
    "    #     # llm += \"I will now follow the reasoning guidelines step-by-step before generating the final JSON.\\n\"\n",
    "    #     # llm += \"Step1. Analyze Query Parameters:\\n\"\n",
    "    #     llm += guidance.json(\n",
    "    #         name=\"thought1\", \n",
    "    #         schema=ReasoningSchemaStep1, \n",
    "    #         max_tokens=1000)\n",
    "    \n",
    "    # with user():\n",
    "    #     llm += \"Step2. Identify All Relevant Information:\\n\"\n",
    "\n",
    "    # with assistant():\n",
    "    #     # llm += \"Step2. Identify All Relevant Information:\\n\"\n",
    "    #     llm += guidance.json(\n",
    "    #         name=\"thought2\", \n",
    "    #         schema=ReasoningSchemaStep2, \n",
    "    #         max_tokens=1000)\n",
    "\n",
    "    # with user():\n",
    "    #     llm += \"Step3. Synthesize Plan:\\n\"\n",
    "\n",
    "    # with assistant():\n",
    "    #     # llm += \"Step3. Synthesize Plan:\\n\"\n",
    "    #     llm += guidance.json(\n",
    "    #         name=\"thought3\", \n",
    "    #         schema=ReasoningSchemaStep3, \n",
    "    #         max_tokens=1000)\n",
    "\n",
    "    # with user():\n",
    "    #     llm += \"Step4. Rethink and Finalize Approach:\\n\"\n",
    "\n",
    "    # with assistant():\n",
    "    #     # llm += \"Step4. Rethink and Finalize Approach:\\n\"\n",
    "    #     llm += guidance.json(\n",
    "    #         name=\"thought4\", \n",
    "    #         schema=ReasoningSchemaStep4, \n",
    "    #         max_tokens=1000)\n",
    "\n",
    "    # with user():\n",
    "    #     llm += \"Step5. Generate the JSON object:\\n\"\n",
    "    #     # After thinking, it generates the JSON.\n",
    "    #     # llm += \"\\n\\nFinal JSON object:\\n\"\n",
    "        \n",
    "    with assistant():\n",
    "        llm += gen_json(\n",
    "            name=\"result_graph\", \n",
    "            schema=output_schema,\n",
    "            max_tokens=8000 \n",
    "        )\n",
    "        \n",
    "    return llm"
   ]
  },
  {
   "cell_type": "code",
   "execution_count": 19,
   "id": "4d910e07-d59b-480d-b317-440939d7566d",
   "metadata": {},
   "outputs": [],
   "source": [
    "\n",
    "class ComputationGraphBuilder:\n",
    "    \"\"\"\n",
    "    Orchestrates the creation of a computation graph by preparing dynamic\n",
    "    constraints and prompting the LLM.\n",
    "    \"\"\"\n",
    "    \n",
    "    def __init__(self, model):\n",
    "        \"\"\"\n",
    "        Initializes the builder with a guidance model.\n",
    "        \"\"\"\n",
    "        self.model = model\n",
    "        # Set the default LLM for all guidance programs\n",
    "        # guidance.llm = self.model\n",
    "    @timing_decorator\n",
    "    def build(self, document_content: str, query: str, charge_category: str, charge_category_variables: dict, all_variables: dict) -> dict:\n",
    "        \"\"\"\n",
    "        Generates a computation graph for a given query and document.\n",
    "\n",
    "        Args:\n",
    "            document_content: The text containing the rules.\n",
    "            query: A natural language question about what to calculate.\n",
    "            charge_category: The specific charge context used to filter variables.\n",
    "\n",
    "        Returns:\n",
    "            A dictionary representing the computation graph or an error.\n",
    "        \"\"\"\n",
    "        print(f\"--- Building graph for charge category: '{charge_category}' ---\")\n",
    "        \n",
    "        # 1. Dynamically create the filtered Enum for this specific task\n",
    "        try:\n",
    "            Var = create_dynamic_variable_enum(charge_category, charge_category_variables)\n",
    "        except ValueError as e:\n",
    "            print(f\"Error: {e}\")\n",
    "            return {\"error\": str(e)}\n",
    "\n",
    "        def _var_type(v):\n",
    "            try:\n",
    "                return \"CATEGORICAL\" if v.data_type is str else \"NUMERIC\"\n",
    "            except Exception:\n",
    "                return \"UNKNOWN\"\n",
    "        # 3. Create a formatted prompt string of allowed variables for the LLM\n",
    "        allowed_variables = [el.value for el in list(Var)]\n",
    "        allowed_variables_prompt = \"\\n\".join(\n",
    "            [\n",
    "                f\"- **{v.name}** | type: {_var_type(v)} | unit: {v.unit} — {v.description}\"\n",
    "                for name, v in all_variables.items() if name in allowed_variables\n",
    "            ]\n",
    "        )\n",
    "\n",
    "        allowed_variables_t1_struct = \"\\n\".join(\n",
    "            [\n",
    "                f\"\"\"variable name={v.name}, \\n type_of_variable={_var_type(v)}, \\n status=SYMBOLIC, \\n description={v.description}\"\"\"\n",
    "                for name, v in all_variables.items() if name in allowed_variables\n",
    "            ]\n",
    "        )\n",
    "        # {ParameterDetail(name=v.name, status=\"SYMBOLIC\", type_of_variable=_var_type(v)) for name, v in all_variables.items() if name in allowed_variables}\n",
    "        \n",
    "\n",
    "        try:\n",
    "            # 4. Execute the guidance program with all dynamic components\n",
    "            result_lm = self.model + create_graph_with_cot(\n",
    "                allowed_variables_prompt=allowed_variables_prompt,\n",
    "                thought1 = allowed_variables_t1_struct,\n",
    "                document=document_content,\n",
    "                query=query,\n",
    "                output_schema=Node\n",
    "            )\n",
    "            \n",
    "            \n",
    "            # print(\"\\nSuccessfully generated graph:\")\n",
    "            # # Use model_dump_json for Pydantic v2\n",
    "            # print(pydantic_graph.model_dump_json(indent=2)) \n",
    "            return result_lm\n",
    "            \n",
    "        except Exception as e:\n",
    "            print(f\"\\nAn error occurred while building the graph for '{query}': {e}\")\n",
    "            return {\"error\": str(e)}"
   ]
  },
  {
   "cell_type": "code",
   "execution_count": 20,
   "id": "e0c2b98c-68d6-41f5-a262-3e0d42d7d11c",
   "metadata": {},
   "outputs": [],
   "source": [
    "import sympy\n",
    "import re, keyword\n",
    "from sympy import (\n",
    "    Symbol, Piecewise, sympify, Add, Mul, Pow,\n",
    "    Min, Max, floor, ceiling, Rational, Mod\n",
    ")\n",
    "\n",
    "def _sanitize_symbol_name(val: object) -> str:\n",
    "    # name = re.sub(r\"\\W+\", \"_\", str(val)).strip(\"_\")\n",
    "    name = re.sub(r\"[^A-Za-z0-9]+\", \"\", str(val))\n",
    "    if not name:\n",
    "        name = \"_VAL\"\n",
    "    # Must start with letter or underscore\n",
    "    if not re.match(r\"[A-Za-z_]\\w*$\", name):\n",
    "        name = \"_\" + name\n",
    "    # Avoid reserved/boolean-like names\n",
    "    if keyword.iskeyword(name) or name in {\"None\", \"True\", \"False\", \"true\", \"false\", \"none\"}:\n",
    "        name = \"_\" + name\n",
    "    return name.lower()\n",
    "\n",
    "def compose_expression(node: dict):\n",
    "    \"\"\"\n",
    "    Recursively parses a JSON graph into a SymPy expression,\n",
    "    preventing automatic simplification.\n",
    "\n",
    "    Args:\n",
    "        node: A dictionary representing a node in the computation graph.\n",
    "\n",
    "    Returns:\n",
    "        A non-evaluated sympy expression representing the computation.\n",
    "    \"\"\"\n",
    "\n",
    "    node_type = node.get('type')\n",
    "\n",
    "    if node_type == \"VALUE\":\n",
    "        return sympify(node['value'])\n",
    "    \n",
    "    elif node_type == \"CATEGORICAL_VALUE\":\n",
    "        \n",
    "        sanitized = _sanitize_symbol_name(node['value'])\n",
    "        return Symbol(sanitized)\n",
    "        # return sympify(sanitized)\n",
    "\n",
    "    elif node_type == \"VARIABLE\":\n",
    "        return Symbol(node['name'])\n",
    "\n",
    "    elif node_type == \"BINARY_OPERATION\":\n",
    "        left = compose_expression(node['left'])\n",
    "        right = compose_expression(node['right'])\n",
    "        operator = node['operator']\n",
    "        \n",
    "        # Use class constructors with evaluate=False to prevent simplification\n",
    "        if operator == \"ADD\":\n",
    "            return Add(left, right, evaluate=False)\n",
    "        elif operator == \"MULTIPLY\":\n",
    "            return Mul(left, right, evaluate=False)\n",
    "        elif operator == \"SUBTRACT\":\n",
    "            return Add(left, Mul(-1, right, evaluate=False), evaluate=False)\n",
    "        elif operator == \"FLOOR_DIVIDE\":\n",
    "            q = Mul(left, Pow(right, -1, evaluate=False), evaluate=False)\n",
    "            return floor(q, evaluate=False)\n",
    "        elif operator == \"MOD\":\n",
    "            return Mod(left, right, evaluate=False)\n",
    "        elif operator == \"POWER\":\n",
    "            return Pow(left, right, evaluate=False)\n",
    "        elif operator == \"ROOT\":\n",
    "            inv = Pow(right, -1, evaluate=False)\n",
    "            return Pow(left, inv, evaluate=False)\n",
    "        elif operator == \"SQRT\":\n",
    "            return Pow(left, Rational(1, 2), evaluate=False)\n",
    "        elif operator == \"FLOOR\":\n",
    "            return floor(left, evaluate=False)\n",
    "        elif operator == \"CEILING\":\n",
    "            return ceiling(left, evaluate=False)\n",
    "        elif operator == \"MIN\":\n",
    "            return Min(left, right, evaluate=False)\n",
    "        elif operator == \"MAX\":\n",
    "            return Max(left, right, evaluate=False)\n",
    "        elif operator == \"DIVIDE\":\n",
    "            # Division (a/b) is represented as a * (b**-1)\n",
    "            power = Pow(right, -1, evaluate=False)\n",
    "            return Mul(left, power, evaluate=False)\n",
    "        else:\n",
    "            raise ValueError(f\"Unsupported binary operator: {operator}\")\n",
    "\n",
    "    elif node_type == \"COMPARISON\":\n",
    "        left = compose_expression(node['left'])\n",
    "        right = compose_expression(node['right'])\n",
    "        operator = node['operator']\n",
    "\n",
    "        if operator == \"GREATER_THAN\":\n",
    "            return left > right\n",
    "        elif operator == \"LESS_THAN\":\n",
    "            return left < right\n",
    "        elif operator == \"EQUAL_TO\":\n",
    "            return sympy.Eq(left, right, evaluate=False)\n",
    "        elif operator == \"NOT_EQUAL_TO\":\n",
    "            return sympy.Ne(left, right, evaluate=False)\n",
    "        elif operator == \"LESS_THAN_OR_EQUAL_TO\":\n",
    "            return sympy.Le(left, right, evaluate=False)\n",
    "        elif operator == \"GREATER_THAN_OR_EQUAL_TO\":\n",
    "            return sympy.Ge(left, right, evaluate=False)\n",
    "        else:\n",
    "            raise ValueError(f\"Unsupported comparison operator: {operator}\")\n",
    "\n",
    "    elif node_type == \"CONDITIONAL\":\n",
    "        condition = compose_expression(node['condition'])\n",
    "        if_true_expr = compose_expression(node['if_true'])\n",
    "        if_false_expr = compose_expression(node['if_false'])\n",
    "        \n",
    "        return Piecewise((if_true_expr, condition), (if_false_expr, True))\n",
    "\n",
    "    else:\n",
    "        raise ValueError(f\"Unknown node type: {node_type}\")"
   ]
  },
  {
   "cell_type": "code",
   "execution_count": 21,
   "id": "c32f9032-14c4-4108-8c7e-89cd4a826589",
   "metadata": {},
   "outputs": [],
   "source": [
    "import json\n",
    "import traceback\n",
    "\n",
    "\n",
    "def create_computation_graph(model, query, charge_category, markdown_content, charge_category_variables, all_variables):\n",
    "    graph_builder = ComputationGraphBuilder(model=model)\n",
    "\n",
    "    start_time = time.perf_counter()\n",
    "    llm_structured_response = graph_builder.build(\n",
    "        document_content=markdown_content,\n",
    "        query=query,\n",
    "        charge_category=charge_category,\n",
    "        charge_category_variables=charge_category_variables,\n",
    "        all_variables=all_variables\n",
    "    )\n",
    "    end_time = time.perf_counter()\n",
    "    build_time = end_time - start_time\n",
    "\n",
    "    return llm_structured_response, build_time\n",
    "    "
   ]
  },
  {
   "cell_type": "markdown",
   "id": "0be5dfa1",
   "metadata": {},
   "source": [
    "# Tyler's Evals Trial 1"
   ]
  },
  {
   "cell_type": "markdown",
   "id": "7b4e4d3e",
   "metadata": {},
   "source": [
    "## Pre-Processing"
   ]
  },
  {
   "cell_type": "code",
   "execution_count": 35,
   "id": "4ca201a7",
   "metadata": {},
   "outputs": [],
   "source": [
    "from json import JSONDecodeError\n",
    "\n",
    "def generate(path):\n",
    "    computed_records = {}\n",
    "    with open(path, \"r\", encoding=\"utf-8\") as f:\n",
    "        records = [json.loads(line) for line in f if line.strip()]\n",
    "    \n",
    "    for record_id, record in enumerate(records):\n",
    "        if record_id >= 5:\n",
    "            continue\n",
    "        content, charges = record\n",
    "        markdown_content = content\n",
    "        charge_category_variables = {k: v['variables_used'] for k, v in charges.items()}\n",
    "        computed_records[str(record_id)] = {}\n",
    "        import builtins\n",
    "        def to_built_in_type(type_str: str):\n",
    "            t = getattr(builtins, type_str, None)\n",
    "            if isinstance(t, type):\n",
    "                return t\n",
    "            raise ValueError(f\"{type_str} is not a valid built-in type\")\n",
    "\n",
    "        charge_variables = {}\n",
    "        all_variables = {}\n",
    "        for charge, variables in charge_category_variables.items():\n",
    "            charge_variables[charge] = list(variables.keys())\n",
    "            for var, details in variables.items():\n",
    "                all_variables[var] = DomainVariable(name=var,\n",
    "                    description=details['description'],\n",
    "                    unit=details['unit'],\n",
    "                    data_type=to_built_in_type(details['dtype']))\n",
    "\n",
    "        for charge_category in list(charge_variables.keys()):\n",
    "            query = f\"Calculate the total {charge_category}. Charge description - {charges[charge_category]['charge_description']}\"    \n",
    "            print(query, charge_category, charge_variables, all_variables)\n",
    "            result, execution_time = create_computation_graph(base_lm, query, charge_category, markdown_content, charge_variables, all_variables)\n",
    "            \n",
    "            try:\n",
    "                payload = {charge_category: {\n",
    "                    'query': query,\n",
    "                    # 'thought2':json.loads(result.get(\"thought2\")),\n",
    "                    # 'thought3':json.loads(result.get(\"thought3\")),\n",
    "                    # 'thought4':json.loads(result.get(\"thought4\")),\n",
    "                    'reasoning': result.get('reasoning'),\n",
    "                    'computation_graph':json.loads(result.get(\"result_graph\")),\n",
    "                    'execution_time': execution_time,\n",
    "                    'status': 'SUCCESS'\n",
    "                }\n",
    "                }\n",
    "                computed_records[str(record_id)][charge_category] = payload\n",
    "            except JSONDecodeError:\n",
    "                payload = {charge_category: {\n",
    "                    'query': query,\n",
    "                    # 'thought2':result.get(\"thought2\", None),\n",
    "                    # 'thought3':result.get(\"thought3\", None),\n",
    "                    # 'thought4':result.get(\"thought4\", None),\n",
    "                    'reasoning': result.get('reasoning', None),\n",
    "                    'computation_graph':result.get(\"result_graph\", None),\n",
    "                    'execution_time': execution_time,\n",
    "                    'status': 'ERROR'\n",
    "                }\n",
    "                }\n",
    "            except Exception as e:\n",
    "                payload = {charge_category: {\n",
    "                    'query': query,\n",
    "                    # 'thought2':None,\n",
    "                    # 'thought3':None,\n",
    "                    # 'thought4':None,\n",
    "                    'reasoning': None,\n",
    "                    'computation_graph':None,\n",
    "                    'execution_time': execution_time,\n",
    "                    'status': f'ERROR - {e}'\n",
    "                }\n",
    "                }\n",
    "\n",
    "            \n",
    "    return computed_records"
   ]
  },
  {
   "cell_type": "code",
   "execution_count": 36,
   "id": "7e6f3e97",
   "metadata": {},
   "outputs": [],
   "source": [
    "from sympy import lambdify, Symbol\n",
    "\n",
    "def evaluate(computation_graph, charge_variable, ground_truth_code):\n",
    "    symbolic_expr = compose_expression(computation_graph)\n",
    "    \n",
    "    charge, variables = charge_variable\n",
    "    symbolic_vars = tuple([Symbol(var) for var in variables])\n",
    "    \n",
    "    symbolic_func = lambdify(symbolic_vars, symbolic_expr, 'sympy')\n",
    "\n",
    "    ns = {}\n",
    "    exec(ground_truth_code, ns)                 # defines compute_charge in ns\n",
    "    ground_truth_func = ns['compute_charge']\n",
    "\n",
    "    return symbolic_func, ground_truth_func\n"
   ]
  },
  {
   "cell_type": "code",
   "execution_count": 37,
   "id": "bbb82cf8",
   "metadata": {},
   "outputs": [
    {
     "name": "stdout",
     "output_type": "stream",
     "text": [
      "Calculate the total compute_vm_fee. Charge description - Charge for running virtual machines based on vCPU, memory, OS, and commitment. compute_vm_fee {'compute_vm_fee': ['os_type', 'usage_hours'], 'gpu_compute_fee': ['gpu_type'], 'managed_disk_fee': ['managed_disk_count'], 'data_egress_fee': ['region'], 'data_ingress_fee': ['region', 'data_ingress_gb'], 'storage_transaction_fee': ['redundancy', 'storage_transactions_millions'], 'public_ip_fee': ['region', 'public_ip_count'], 'load_balancer_fee': ['load_balancer_rules'], 'aks_cluster_fee': ['region'], 'function_app_fee': ['region', 'function_exec_ms'], 'sql_database_fee': ['region', 'backup_retention_days'], 'snapshot_storage_fee': ['redundancy'], 'app_service_fee': ['service_tier', 'app_service_instances']} {'os_type': DomainVariable(name='os_type', description='Operating system for the compute workload', unit='os', data_type=<class 'str'>), 'usage_hours': DomainVariable(name='usage_hours', description='Total runtime in hours over the billing window', unit='hours', data_type=<class 'float'>), 'gpu_type': DomainVariable(name='gpu_type', description='Type of GPU accelerator', unit='gpu type', data_type=<class 'str'>), 'managed_disk_count': DomainVariable(name='managed_disk_count', description='Count of managed disks attached', unit='disks', data_type=<class 'int'>), 'region': DomainVariable(name='region', description='Azure region where resources are deployed', unit='region', data_type=<class 'str'>), 'data_ingress_gb': DomainVariable(name='data_ingress_gb', description='Inbound data transferred to Azure', unit='GB', data_type=<class 'float'>), 'redundancy': DomainVariable(name='redundancy', description='Storage redundancy configuration', unit='redundancy', data_type=<class 'str'>), 'storage_transactions_millions': DomainVariable(name='storage_transactions_millions', description='Number of storage account operations in millions', unit='million tx', data_type=<class 'float'>), 'public_ip_count': DomainVariable(name='public_ip_count', description='Number of public IP addresses allocated', unit='IPs', data_type=<class 'int'>), 'load_balancer_rules': DomainVariable(name='load_balancer_rules', description='Configured load balancer rules', unit='rules', data_type=<class 'int'>), 'function_exec_ms': DomainVariable(name='function_exec_ms', description='Average or billed execution time per invocation', unit='ms', data_type=<class 'float'>), 'backup_retention_days': DomainVariable(name='backup_retention_days', description='Backup retention period for databases', unit='days', data_type=<class 'int'>), 'service_tier': DomainVariable(name='service_tier', description='Service tier for managed services', unit='tier', data_type=<class 'str'>), 'app_service_instances': DomainVariable(name='app_service_instances', description='Count of App Service instances', unit='instances', data_type=<class 'int'>)}\n",
      "--- Building graph for charge category: 'compute_vm_fee' ---\n"
     ]
    },
    {
     "data": {
      "application/vnd.jupyter.widget-view+json": {
       "model_id": "e11d2c4afa9549e38bcad526658cb97e",
       "version_major": 2,
       "version_minor": 0
      },
      "text/plain": [
       "StitchWidget(initial_height='auto', initial_width='100%', srcdoc='<!doctype html>\\n<html lang=\"en\">\\n<head>\\n …"
      ]
     },
     "metadata": {},
     "output_type": "display_data"
    },
    {
     "name": "stdout",
     "output_type": "stream",
     "text": [
      "Execution time for 'build': 543.3702 seconds\n",
      "Calculate the total gpu_compute_fee. Charge description - Charge for GPU-enabled compute usage. gpu_compute_fee {'compute_vm_fee': ['os_type', 'usage_hours'], 'gpu_compute_fee': ['gpu_type'], 'managed_disk_fee': ['managed_disk_count'], 'data_egress_fee': ['region'], 'data_ingress_fee': ['region', 'data_ingress_gb'], 'storage_transaction_fee': ['redundancy', 'storage_transactions_millions'], 'public_ip_fee': ['region', 'public_ip_count'], 'load_balancer_fee': ['load_balancer_rules'], 'aks_cluster_fee': ['region'], 'function_app_fee': ['region', 'function_exec_ms'], 'sql_database_fee': ['region', 'backup_retention_days'], 'snapshot_storage_fee': ['redundancy'], 'app_service_fee': ['service_tier', 'app_service_instances']} {'os_type': DomainVariable(name='os_type', description='Operating system for the compute workload', unit='os', data_type=<class 'str'>), 'usage_hours': DomainVariable(name='usage_hours', description='Total runtime in hours over the billing window', unit='hours', data_type=<class 'float'>), 'gpu_type': DomainVariable(name='gpu_type', description='Type of GPU accelerator', unit='gpu type', data_type=<class 'str'>), 'managed_disk_count': DomainVariable(name='managed_disk_count', description='Count of managed disks attached', unit='disks', data_type=<class 'int'>), 'region': DomainVariable(name='region', description='Azure region where resources are deployed', unit='region', data_type=<class 'str'>), 'data_ingress_gb': DomainVariable(name='data_ingress_gb', description='Inbound data transferred to Azure', unit='GB', data_type=<class 'float'>), 'redundancy': DomainVariable(name='redundancy', description='Storage redundancy configuration', unit='redundancy', data_type=<class 'str'>), 'storage_transactions_millions': DomainVariable(name='storage_transactions_millions', description='Number of storage account operations in millions', unit='million tx', data_type=<class 'float'>), 'public_ip_count': DomainVariable(name='public_ip_count', description='Number of public IP addresses allocated', unit='IPs', data_type=<class 'int'>), 'load_balancer_rules': DomainVariable(name='load_balancer_rules', description='Configured load balancer rules', unit='rules', data_type=<class 'int'>), 'function_exec_ms': DomainVariable(name='function_exec_ms', description='Average or billed execution time per invocation', unit='ms', data_type=<class 'float'>), 'backup_retention_days': DomainVariable(name='backup_retention_days', description='Backup retention period for databases', unit='days', data_type=<class 'int'>), 'service_tier': DomainVariable(name='service_tier', description='Service tier for managed services', unit='tier', data_type=<class 'str'>), 'app_service_instances': DomainVariable(name='app_service_instances', description='Count of App Service instances', unit='instances', data_type=<class 'int'>)}\n",
      "--- Building graph for charge category: 'gpu_compute_fee' ---\n",
      "Execution time for 'build': 358.4810 seconds\n",
      "Calculate the total managed_disk_fee. Charge description - Charge for managed disks based on type, size, and count. managed_disk_fee {'compute_vm_fee': ['os_type', 'usage_hours'], 'gpu_compute_fee': ['gpu_type'], 'managed_disk_fee': ['managed_disk_count'], 'data_egress_fee': ['region'], 'data_ingress_fee': ['region', 'data_ingress_gb'], 'storage_transaction_fee': ['redundancy', 'storage_transactions_millions'], 'public_ip_fee': ['region', 'public_ip_count'], 'load_balancer_fee': ['load_balancer_rules'], 'aks_cluster_fee': ['region'], 'function_app_fee': ['region', 'function_exec_ms'], 'sql_database_fee': ['region', 'backup_retention_days'], 'snapshot_storage_fee': ['redundancy'], 'app_service_fee': ['service_tier', 'app_service_instances']} {'os_type': DomainVariable(name='os_type', description='Operating system for the compute workload', unit='os', data_type=<class 'str'>), 'usage_hours': DomainVariable(name='usage_hours', description='Total runtime in hours over the billing window', unit='hours', data_type=<class 'float'>), 'gpu_type': DomainVariable(name='gpu_type', description='Type of GPU accelerator', unit='gpu type', data_type=<class 'str'>), 'managed_disk_count': DomainVariable(name='managed_disk_count', description='Count of managed disks attached', unit='disks', data_type=<class 'int'>), 'region': DomainVariable(name='region', description='Azure region where resources are deployed', unit='region', data_type=<class 'str'>), 'data_ingress_gb': DomainVariable(name='data_ingress_gb', description='Inbound data transferred to Azure', unit='GB', data_type=<class 'float'>), 'redundancy': DomainVariable(name='redundancy', description='Storage redundancy configuration', unit='redundancy', data_type=<class 'str'>), 'storage_transactions_millions': DomainVariable(name='storage_transactions_millions', description='Number of storage account operations in millions', unit='million tx', data_type=<class 'float'>), 'public_ip_count': DomainVariable(name='public_ip_count', description='Number of public IP addresses allocated', unit='IPs', data_type=<class 'int'>), 'load_balancer_rules': DomainVariable(name='load_balancer_rules', description='Configured load balancer rules', unit='rules', data_type=<class 'int'>), 'function_exec_ms': DomainVariable(name='function_exec_ms', description='Average or billed execution time per invocation', unit='ms', data_type=<class 'float'>), 'backup_retention_days': DomainVariable(name='backup_retention_days', description='Backup retention period for databases', unit='days', data_type=<class 'int'>), 'service_tier': DomainVariable(name='service_tier', description='Service tier for managed services', unit='tier', data_type=<class 'str'>), 'app_service_instances': DomainVariable(name='app_service_instances', description='Count of App Service instances', unit='instances', data_type=<class 'int'>)}\n",
      "--- Building graph for charge category: 'managed_disk_fee' ---\n",
      "Execution time for 'build': 357.1308 seconds\n",
      "Calculate the total data_egress_fee. Charge description - Charge for data leaving Azure regions. data_egress_fee {'compute_vm_fee': ['os_type', 'usage_hours'], 'gpu_compute_fee': ['gpu_type'], 'managed_disk_fee': ['managed_disk_count'], 'data_egress_fee': ['region'], 'data_ingress_fee': ['region', 'data_ingress_gb'], 'storage_transaction_fee': ['redundancy', 'storage_transactions_millions'], 'public_ip_fee': ['region', 'public_ip_count'], 'load_balancer_fee': ['load_balancer_rules'], 'aks_cluster_fee': ['region'], 'function_app_fee': ['region', 'function_exec_ms'], 'sql_database_fee': ['region', 'backup_retention_days'], 'snapshot_storage_fee': ['redundancy'], 'app_service_fee': ['service_tier', 'app_service_instances']} {'os_type': DomainVariable(name='os_type', description='Operating system for the compute workload', unit='os', data_type=<class 'str'>), 'usage_hours': DomainVariable(name='usage_hours', description='Total runtime in hours over the billing window', unit='hours', data_type=<class 'float'>), 'gpu_type': DomainVariable(name='gpu_type', description='Type of GPU accelerator', unit='gpu type', data_type=<class 'str'>), 'managed_disk_count': DomainVariable(name='managed_disk_count', description='Count of managed disks attached', unit='disks', data_type=<class 'int'>), 'region': DomainVariable(name='region', description='Azure region where resources are deployed', unit='region', data_type=<class 'str'>), 'data_ingress_gb': DomainVariable(name='data_ingress_gb', description='Inbound data transferred to Azure', unit='GB', data_type=<class 'float'>), 'redundancy': DomainVariable(name='redundancy', description='Storage redundancy configuration', unit='redundancy', data_type=<class 'str'>), 'storage_transactions_millions': DomainVariable(name='storage_transactions_millions', description='Number of storage account operations in millions', unit='million tx', data_type=<class 'float'>), 'public_ip_count': DomainVariable(name='public_ip_count', description='Number of public IP addresses allocated', unit='IPs', data_type=<class 'int'>), 'load_balancer_rules': DomainVariable(name='load_balancer_rules', description='Configured load balancer rules', unit='rules', data_type=<class 'int'>), 'function_exec_ms': DomainVariable(name='function_exec_ms', description='Average or billed execution time per invocation', unit='ms', data_type=<class 'float'>), 'backup_retention_days': DomainVariable(name='backup_retention_days', description='Backup retention period for databases', unit='days', data_type=<class 'int'>), 'service_tier': DomainVariable(name='service_tier', description='Service tier for managed services', unit='tier', data_type=<class 'str'>), 'app_service_instances': DomainVariable(name='app_service_instances', description='Count of App Service instances', unit='instances', data_type=<class 'int'>)}\n",
      "--- Building graph for charge category: 'data_egress_fee' ---\n",
      "Execution time for 'build': 490.7437 seconds\n",
      "Calculate the total data_ingress_fee. Charge description - Charge for data entering Azure regions where applicable. data_ingress_fee {'compute_vm_fee': ['os_type', 'usage_hours'], 'gpu_compute_fee': ['gpu_type'], 'managed_disk_fee': ['managed_disk_count'], 'data_egress_fee': ['region'], 'data_ingress_fee': ['region', 'data_ingress_gb'], 'storage_transaction_fee': ['redundancy', 'storage_transactions_millions'], 'public_ip_fee': ['region', 'public_ip_count'], 'load_balancer_fee': ['load_balancer_rules'], 'aks_cluster_fee': ['region'], 'function_app_fee': ['region', 'function_exec_ms'], 'sql_database_fee': ['region', 'backup_retention_days'], 'snapshot_storage_fee': ['redundancy'], 'app_service_fee': ['service_tier', 'app_service_instances']} {'os_type': DomainVariable(name='os_type', description='Operating system for the compute workload', unit='os', data_type=<class 'str'>), 'usage_hours': DomainVariable(name='usage_hours', description='Total runtime in hours over the billing window', unit='hours', data_type=<class 'float'>), 'gpu_type': DomainVariable(name='gpu_type', description='Type of GPU accelerator', unit='gpu type', data_type=<class 'str'>), 'managed_disk_count': DomainVariable(name='managed_disk_count', description='Count of managed disks attached', unit='disks', data_type=<class 'int'>), 'region': DomainVariable(name='region', description='Azure region where resources are deployed', unit='region', data_type=<class 'str'>), 'data_ingress_gb': DomainVariable(name='data_ingress_gb', description='Inbound data transferred to Azure', unit='GB', data_type=<class 'float'>), 'redundancy': DomainVariable(name='redundancy', description='Storage redundancy configuration', unit='redundancy', data_type=<class 'str'>), 'storage_transactions_millions': DomainVariable(name='storage_transactions_millions', description='Number of storage account operations in millions', unit='million tx', data_type=<class 'float'>), 'public_ip_count': DomainVariable(name='public_ip_count', description='Number of public IP addresses allocated', unit='IPs', data_type=<class 'int'>), 'load_balancer_rules': DomainVariable(name='load_balancer_rules', description='Configured load balancer rules', unit='rules', data_type=<class 'int'>), 'function_exec_ms': DomainVariable(name='function_exec_ms', description='Average or billed execution time per invocation', unit='ms', data_type=<class 'float'>), 'backup_retention_days': DomainVariable(name='backup_retention_days', description='Backup retention period for databases', unit='days', data_type=<class 'int'>), 'service_tier': DomainVariable(name='service_tier', description='Service tier for managed services', unit='tier', data_type=<class 'str'>), 'app_service_instances': DomainVariable(name='app_service_instances', description='Count of App Service instances', unit='instances', data_type=<class 'int'>)}\n",
      "--- Building graph for charge category: 'data_ingress_fee' ---\n",
      "Execution time for 'build': 190.9679 seconds\n",
      "Calculate the total storage_transaction_fee. Charge description - Charge for storage account transactions and redundancy level. storage_transaction_fee {'compute_vm_fee': ['os_type', 'usage_hours'], 'gpu_compute_fee': ['gpu_type'], 'managed_disk_fee': ['managed_disk_count'], 'data_egress_fee': ['region'], 'data_ingress_fee': ['region', 'data_ingress_gb'], 'storage_transaction_fee': ['redundancy', 'storage_transactions_millions'], 'public_ip_fee': ['region', 'public_ip_count'], 'load_balancer_fee': ['load_balancer_rules'], 'aks_cluster_fee': ['region'], 'function_app_fee': ['region', 'function_exec_ms'], 'sql_database_fee': ['region', 'backup_retention_days'], 'snapshot_storage_fee': ['redundancy'], 'app_service_fee': ['service_tier', 'app_service_instances']} {'os_type': DomainVariable(name='os_type', description='Operating system for the compute workload', unit='os', data_type=<class 'str'>), 'usage_hours': DomainVariable(name='usage_hours', description='Total runtime in hours over the billing window', unit='hours', data_type=<class 'float'>), 'gpu_type': DomainVariable(name='gpu_type', description='Type of GPU accelerator', unit='gpu type', data_type=<class 'str'>), 'managed_disk_count': DomainVariable(name='managed_disk_count', description='Count of managed disks attached', unit='disks', data_type=<class 'int'>), 'region': DomainVariable(name='region', description='Azure region where resources are deployed', unit='region', data_type=<class 'str'>), 'data_ingress_gb': DomainVariable(name='data_ingress_gb', description='Inbound data transferred to Azure', unit='GB', data_type=<class 'float'>), 'redundancy': DomainVariable(name='redundancy', description='Storage redundancy configuration', unit='redundancy', data_type=<class 'str'>), 'storage_transactions_millions': DomainVariable(name='storage_transactions_millions', description='Number of storage account operations in millions', unit='million tx', data_type=<class 'float'>), 'public_ip_count': DomainVariable(name='public_ip_count', description='Number of public IP addresses allocated', unit='IPs', data_type=<class 'int'>), 'load_balancer_rules': DomainVariable(name='load_balancer_rules', description='Configured load balancer rules', unit='rules', data_type=<class 'int'>), 'function_exec_ms': DomainVariable(name='function_exec_ms', description='Average or billed execution time per invocation', unit='ms', data_type=<class 'float'>), 'backup_retention_days': DomainVariable(name='backup_retention_days', description='Backup retention period for databases', unit='days', data_type=<class 'int'>), 'service_tier': DomainVariable(name='service_tier', description='Service tier for managed services', unit='tier', data_type=<class 'str'>), 'app_service_instances': DomainVariable(name='app_service_instances', description='Count of App Service instances', unit='instances', data_type=<class 'int'>)}\n",
      "--- Building graph for charge category: 'storage_transaction_fee' ---\n",
      "Execution time for 'build': 543.7595 seconds\n",
      "Calculate the total public_ip_fee. Charge description - Charge for public IP addresses allocated. public_ip_fee {'compute_vm_fee': ['os_type', 'usage_hours'], 'gpu_compute_fee': ['gpu_type'], 'managed_disk_fee': ['managed_disk_count'], 'data_egress_fee': ['region'], 'data_ingress_fee': ['region', 'data_ingress_gb'], 'storage_transaction_fee': ['redundancy', 'storage_transactions_millions'], 'public_ip_fee': ['region', 'public_ip_count'], 'load_balancer_fee': ['load_balancer_rules'], 'aks_cluster_fee': ['region'], 'function_app_fee': ['region', 'function_exec_ms'], 'sql_database_fee': ['region', 'backup_retention_days'], 'snapshot_storage_fee': ['redundancy'], 'app_service_fee': ['service_tier', 'app_service_instances']} {'os_type': DomainVariable(name='os_type', description='Operating system for the compute workload', unit='os', data_type=<class 'str'>), 'usage_hours': DomainVariable(name='usage_hours', description='Total runtime in hours over the billing window', unit='hours', data_type=<class 'float'>), 'gpu_type': DomainVariable(name='gpu_type', description='Type of GPU accelerator', unit='gpu type', data_type=<class 'str'>), 'managed_disk_count': DomainVariable(name='managed_disk_count', description='Count of managed disks attached', unit='disks', data_type=<class 'int'>), 'region': DomainVariable(name='region', description='Azure region where resources are deployed', unit='region', data_type=<class 'str'>), 'data_ingress_gb': DomainVariable(name='data_ingress_gb', description='Inbound data transferred to Azure', unit='GB', data_type=<class 'float'>), 'redundancy': DomainVariable(name='redundancy', description='Storage redundancy configuration', unit='redundancy', data_type=<class 'str'>), 'storage_transactions_millions': DomainVariable(name='storage_transactions_millions', description='Number of storage account operations in millions', unit='million tx', data_type=<class 'float'>), 'public_ip_count': DomainVariable(name='public_ip_count', description='Number of public IP addresses allocated', unit='IPs', data_type=<class 'int'>), 'load_balancer_rules': DomainVariable(name='load_balancer_rules', description='Configured load balancer rules', unit='rules', data_type=<class 'int'>), 'function_exec_ms': DomainVariable(name='function_exec_ms', description='Average or billed execution time per invocation', unit='ms', data_type=<class 'float'>), 'backup_retention_days': DomainVariable(name='backup_retention_days', description='Backup retention period for databases', unit='days', data_type=<class 'int'>), 'service_tier': DomainVariable(name='service_tier', description='Service tier for managed services', unit='tier', data_type=<class 'str'>), 'app_service_instances': DomainVariable(name='app_service_instances', description='Count of App Service instances', unit='instances', data_type=<class 'int'>)}\n",
      "--- Building graph for charge category: 'public_ip_fee' ---\n",
      "Execution time for 'build': 562.7989 seconds\n",
      "Calculate the total load_balancer_fee. Charge description - Charge for load balancer rules and tier. load_balancer_fee {'compute_vm_fee': ['os_type', 'usage_hours'], 'gpu_compute_fee': ['gpu_type'], 'managed_disk_fee': ['managed_disk_count'], 'data_egress_fee': ['region'], 'data_ingress_fee': ['region', 'data_ingress_gb'], 'storage_transaction_fee': ['redundancy', 'storage_transactions_millions'], 'public_ip_fee': ['region', 'public_ip_count'], 'load_balancer_fee': ['load_balancer_rules'], 'aks_cluster_fee': ['region'], 'function_app_fee': ['region', 'function_exec_ms'], 'sql_database_fee': ['region', 'backup_retention_days'], 'snapshot_storage_fee': ['redundancy'], 'app_service_fee': ['service_tier', 'app_service_instances']} {'os_type': DomainVariable(name='os_type', description='Operating system for the compute workload', unit='os', data_type=<class 'str'>), 'usage_hours': DomainVariable(name='usage_hours', description='Total runtime in hours over the billing window', unit='hours', data_type=<class 'float'>), 'gpu_type': DomainVariable(name='gpu_type', description='Type of GPU accelerator', unit='gpu type', data_type=<class 'str'>), 'managed_disk_count': DomainVariable(name='managed_disk_count', description='Count of managed disks attached', unit='disks', data_type=<class 'int'>), 'region': DomainVariable(name='region', description='Azure region where resources are deployed', unit='region', data_type=<class 'str'>), 'data_ingress_gb': DomainVariable(name='data_ingress_gb', description='Inbound data transferred to Azure', unit='GB', data_type=<class 'float'>), 'redundancy': DomainVariable(name='redundancy', description='Storage redundancy configuration', unit='redundancy', data_type=<class 'str'>), 'storage_transactions_millions': DomainVariable(name='storage_transactions_millions', description='Number of storage account operations in millions', unit='million tx', data_type=<class 'float'>), 'public_ip_count': DomainVariable(name='public_ip_count', description='Number of public IP addresses allocated', unit='IPs', data_type=<class 'int'>), 'load_balancer_rules': DomainVariable(name='load_balancer_rules', description='Configured load balancer rules', unit='rules', data_type=<class 'int'>), 'function_exec_ms': DomainVariable(name='function_exec_ms', description='Average or billed execution time per invocation', unit='ms', data_type=<class 'float'>), 'backup_retention_days': DomainVariable(name='backup_retention_days', description='Backup retention period for databases', unit='days', data_type=<class 'int'>), 'service_tier': DomainVariable(name='service_tier', description='Service tier for managed services', unit='tier', data_type=<class 'str'>), 'app_service_instances': DomainVariable(name='app_service_instances', description='Count of App Service instances', unit='instances', data_type=<class 'int'>)}\n",
      "--- Building graph for charge category: 'load_balancer_fee' ---\n",
      "Execution time for 'build': 111.6345 seconds\n",
      "Calculate the total aks_cluster_fee. Charge description - Charge for AKS clusters based on node count and type. aks_cluster_fee {'compute_vm_fee': ['os_type', 'usage_hours'], 'gpu_compute_fee': ['gpu_type'], 'managed_disk_fee': ['managed_disk_count'], 'data_egress_fee': ['region'], 'data_ingress_fee': ['region', 'data_ingress_gb'], 'storage_transaction_fee': ['redundancy', 'storage_transactions_millions'], 'public_ip_fee': ['region', 'public_ip_count'], 'load_balancer_fee': ['load_balancer_rules'], 'aks_cluster_fee': ['region'], 'function_app_fee': ['region', 'function_exec_ms'], 'sql_database_fee': ['region', 'backup_retention_days'], 'snapshot_storage_fee': ['redundancy'], 'app_service_fee': ['service_tier', 'app_service_instances']} {'os_type': DomainVariable(name='os_type', description='Operating system for the compute workload', unit='os', data_type=<class 'str'>), 'usage_hours': DomainVariable(name='usage_hours', description='Total runtime in hours over the billing window', unit='hours', data_type=<class 'float'>), 'gpu_type': DomainVariable(name='gpu_type', description='Type of GPU accelerator', unit='gpu type', data_type=<class 'str'>), 'managed_disk_count': DomainVariable(name='managed_disk_count', description='Count of managed disks attached', unit='disks', data_type=<class 'int'>), 'region': DomainVariable(name='region', description='Azure region where resources are deployed', unit='region', data_type=<class 'str'>), 'data_ingress_gb': DomainVariable(name='data_ingress_gb', description='Inbound data transferred to Azure', unit='GB', data_type=<class 'float'>), 'redundancy': DomainVariable(name='redundancy', description='Storage redundancy configuration', unit='redundancy', data_type=<class 'str'>), 'storage_transactions_millions': DomainVariable(name='storage_transactions_millions', description='Number of storage account operations in millions', unit='million tx', data_type=<class 'float'>), 'public_ip_count': DomainVariable(name='public_ip_count', description='Number of public IP addresses allocated', unit='IPs', data_type=<class 'int'>), 'load_balancer_rules': DomainVariable(name='load_balancer_rules', description='Configured load balancer rules', unit='rules', data_type=<class 'int'>), 'function_exec_ms': DomainVariable(name='function_exec_ms', description='Average or billed execution time per invocation', unit='ms', data_type=<class 'float'>), 'backup_retention_days': DomainVariable(name='backup_retention_days', description='Backup retention period for databases', unit='days', data_type=<class 'int'>), 'service_tier': DomainVariable(name='service_tier', description='Service tier for managed services', unit='tier', data_type=<class 'str'>), 'app_service_instances': DomainVariable(name='app_service_instances', description='Count of App Service instances', unit='instances', data_type=<class 'int'>)}\n",
      "--- Building graph for charge category: 'aks_cluster_fee' ---\n",
      "Execution time for 'build': 216.0071 seconds\n",
      "Calculate the total function_app_fee. Charge description - Charge for serverless executions and execution time. function_app_fee {'compute_vm_fee': ['os_type', 'usage_hours'], 'gpu_compute_fee': ['gpu_type'], 'managed_disk_fee': ['managed_disk_count'], 'data_egress_fee': ['region'], 'data_ingress_fee': ['region', 'data_ingress_gb'], 'storage_transaction_fee': ['redundancy', 'storage_transactions_millions'], 'public_ip_fee': ['region', 'public_ip_count'], 'load_balancer_fee': ['load_balancer_rules'], 'aks_cluster_fee': ['region'], 'function_app_fee': ['region', 'function_exec_ms'], 'sql_database_fee': ['region', 'backup_retention_days'], 'snapshot_storage_fee': ['redundancy'], 'app_service_fee': ['service_tier', 'app_service_instances']} {'os_type': DomainVariable(name='os_type', description='Operating system for the compute workload', unit='os', data_type=<class 'str'>), 'usage_hours': DomainVariable(name='usage_hours', description='Total runtime in hours over the billing window', unit='hours', data_type=<class 'float'>), 'gpu_type': DomainVariable(name='gpu_type', description='Type of GPU accelerator', unit='gpu type', data_type=<class 'str'>), 'managed_disk_count': DomainVariable(name='managed_disk_count', description='Count of managed disks attached', unit='disks', data_type=<class 'int'>), 'region': DomainVariable(name='region', description='Azure region where resources are deployed', unit='region', data_type=<class 'str'>), 'data_ingress_gb': DomainVariable(name='data_ingress_gb', description='Inbound data transferred to Azure', unit='GB', data_type=<class 'float'>), 'redundancy': DomainVariable(name='redundancy', description='Storage redundancy configuration', unit='redundancy', data_type=<class 'str'>), 'storage_transactions_millions': DomainVariable(name='storage_transactions_millions', description='Number of storage account operations in millions', unit='million tx', data_type=<class 'float'>), 'public_ip_count': DomainVariable(name='public_ip_count', description='Number of public IP addresses allocated', unit='IPs', data_type=<class 'int'>), 'load_balancer_rules': DomainVariable(name='load_balancer_rules', description='Configured load balancer rules', unit='rules', data_type=<class 'int'>), 'function_exec_ms': DomainVariable(name='function_exec_ms', description='Average or billed execution time per invocation', unit='ms', data_type=<class 'float'>), 'backup_retention_days': DomainVariable(name='backup_retention_days', description='Backup retention period for databases', unit='days', data_type=<class 'int'>), 'service_tier': DomainVariable(name='service_tier', description='Service tier for managed services', unit='tier', data_type=<class 'str'>), 'app_service_instances': DomainVariable(name='app_service_instances', description='Count of App Service instances', unit='instances', data_type=<class 'int'>)}\n",
      "--- Building graph for charge category: 'function_app_fee' ---\n",
      "Execution time for 'build': 543.5259 seconds\n",
      "Calculate the total sql_database_fee. Charge description - Charge for Azure SQL based on vCores, storage, and retention. sql_database_fee {'compute_vm_fee': ['os_type', 'usage_hours'], 'gpu_compute_fee': ['gpu_type'], 'managed_disk_fee': ['managed_disk_count'], 'data_egress_fee': ['region'], 'data_ingress_fee': ['region', 'data_ingress_gb'], 'storage_transaction_fee': ['redundancy', 'storage_transactions_millions'], 'public_ip_fee': ['region', 'public_ip_count'], 'load_balancer_fee': ['load_balancer_rules'], 'aks_cluster_fee': ['region'], 'function_app_fee': ['region', 'function_exec_ms'], 'sql_database_fee': ['region', 'backup_retention_days'], 'snapshot_storage_fee': ['redundancy'], 'app_service_fee': ['service_tier', 'app_service_instances']} {'os_type': DomainVariable(name='os_type', description='Operating system for the compute workload', unit='os', data_type=<class 'str'>), 'usage_hours': DomainVariable(name='usage_hours', description='Total runtime in hours over the billing window', unit='hours', data_type=<class 'float'>), 'gpu_type': DomainVariable(name='gpu_type', description='Type of GPU accelerator', unit='gpu type', data_type=<class 'str'>), 'managed_disk_count': DomainVariable(name='managed_disk_count', description='Count of managed disks attached', unit='disks', data_type=<class 'int'>), 'region': DomainVariable(name='region', description='Azure region where resources are deployed', unit='region', data_type=<class 'str'>), 'data_ingress_gb': DomainVariable(name='data_ingress_gb', description='Inbound data transferred to Azure', unit='GB', data_type=<class 'float'>), 'redundancy': DomainVariable(name='redundancy', description='Storage redundancy configuration', unit='redundancy', data_type=<class 'str'>), 'storage_transactions_millions': DomainVariable(name='storage_transactions_millions', description='Number of storage account operations in millions', unit='million tx', data_type=<class 'float'>), 'public_ip_count': DomainVariable(name='public_ip_count', description='Number of public IP addresses allocated', unit='IPs', data_type=<class 'int'>), 'load_balancer_rules': DomainVariable(name='load_balancer_rules', description='Configured load balancer rules', unit='rules', data_type=<class 'int'>), 'function_exec_ms': DomainVariable(name='function_exec_ms', description='Average or billed execution time per invocation', unit='ms', data_type=<class 'float'>), 'backup_retention_days': DomainVariable(name='backup_retention_days', description='Backup retention period for databases', unit='days', data_type=<class 'int'>), 'service_tier': DomainVariable(name='service_tier', description='Service tier for managed services', unit='tier', data_type=<class 'str'>), 'app_service_instances': DomainVariable(name='app_service_instances', description='Count of App Service instances', unit='instances', data_type=<class 'int'>)}\n",
      "--- Building graph for charge category: 'sql_database_fee' ---\n",
      "Execution time for 'build': 545.4938 seconds\n",
      "Calculate the total snapshot_storage_fee. Charge description - Charge for snapshot storage volume and redundancy. snapshot_storage_fee {'compute_vm_fee': ['os_type', 'usage_hours'], 'gpu_compute_fee': ['gpu_type'], 'managed_disk_fee': ['managed_disk_count'], 'data_egress_fee': ['region'], 'data_ingress_fee': ['region', 'data_ingress_gb'], 'storage_transaction_fee': ['redundancy', 'storage_transactions_millions'], 'public_ip_fee': ['region', 'public_ip_count'], 'load_balancer_fee': ['load_balancer_rules'], 'aks_cluster_fee': ['region'], 'function_app_fee': ['region', 'function_exec_ms'], 'sql_database_fee': ['region', 'backup_retention_days'], 'snapshot_storage_fee': ['redundancy'], 'app_service_fee': ['service_tier', 'app_service_instances']} {'os_type': DomainVariable(name='os_type', description='Operating system for the compute workload', unit='os', data_type=<class 'str'>), 'usage_hours': DomainVariable(name='usage_hours', description='Total runtime in hours over the billing window', unit='hours', data_type=<class 'float'>), 'gpu_type': DomainVariable(name='gpu_type', description='Type of GPU accelerator', unit='gpu type', data_type=<class 'str'>), 'managed_disk_count': DomainVariable(name='managed_disk_count', description='Count of managed disks attached', unit='disks', data_type=<class 'int'>), 'region': DomainVariable(name='region', description='Azure region where resources are deployed', unit='region', data_type=<class 'str'>), 'data_ingress_gb': DomainVariable(name='data_ingress_gb', description='Inbound data transferred to Azure', unit='GB', data_type=<class 'float'>), 'redundancy': DomainVariable(name='redundancy', description='Storage redundancy configuration', unit='redundancy', data_type=<class 'str'>), 'storage_transactions_millions': DomainVariable(name='storage_transactions_millions', description='Number of storage account operations in millions', unit='million tx', data_type=<class 'float'>), 'public_ip_count': DomainVariable(name='public_ip_count', description='Number of public IP addresses allocated', unit='IPs', data_type=<class 'int'>), 'load_balancer_rules': DomainVariable(name='load_balancer_rules', description='Configured load balancer rules', unit='rules', data_type=<class 'int'>), 'function_exec_ms': DomainVariable(name='function_exec_ms', description='Average or billed execution time per invocation', unit='ms', data_type=<class 'float'>), 'backup_retention_days': DomainVariable(name='backup_retention_days', description='Backup retention period for databases', unit='days', data_type=<class 'int'>), 'service_tier': DomainVariable(name='service_tier', description='Service tier for managed services', unit='tier', data_type=<class 'str'>), 'app_service_instances': DomainVariable(name='app_service_instances', description='Count of App Service instances', unit='instances', data_type=<class 'int'>)}\n",
      "--- Building graph for charge category: 'snapshot_storage_fee' ---\n",
      "Execution time for 'build': 532.4054 seconds\n",
      "Calculate the total app_service_fee. Charge description - Charge for App Service instances and tier. app_service_fee {'compute_vm_fee': ['os_type', 'usage_hours'], 'gpu_compute_fee': ['gpu_type'], 'managed_disk_fee': ['managed_disk_count'], 'data_egress_fee': ['region'], 'data_ingress_fee': ['region', 'data_ingress_gb'], 'storage_transaction_fee': ['redundancy', 'storage_transactions_millions'], 'public_ip_fee': ['region', 'public_ip_count'], 'load_balancer_fee': ['load_balancer_rules'], 'aks_cluster_fee': ['region'], 'function_app_fee': ['region', 'function_exec_ms'], 'sql_database_fee': ['region', 'backup_retention_days'], 'snapshot_storage_fee': ['redundancy'], 'app_service_fee': ['service_tier', 'app_service_instances']} {'os_type': DomainVariable(name='os_type', description='Operating system for the compute workload', unit='os', data_type=<class 'str'>), 'usage_hours': DomainVariable(name='usage_hours', description='Total runtime in hours over the billing window', unit='hours', data_type=<class 'float'>), 'gpu_type': DomainVariable(name='gpu_type', description='Type of GPU accelerator', unit='gpu type', data_type=<class 'str'>), 'managed_disk_count': DomainVariable(name='managed_disk_count', description='Count of managed disks attached', unit='disks', data_type=<class 'int'>), 'region': DomainVariable(name='region', description='Azure region where resources are deployed', unit='region', data_type=<class 'str'>), 'data_ingress_gb': DomainVariable(name='data_ingress_gb', description='Inbound data transferred to Azure', unit='GB', data_type=<class 'float'>), 'redundancy': DomainVariable(name='redundancy', description='Storage redundancy configuration', unit='redundancy', data_type=<class 'str'>), 'storage_transactions_millions': DomainVariable(name='storage_transactions_millions', description='Number of storage account operations in millions', unit='million tx', data_type=<class 'float'>), 'public_ip_count': DomainVariable(name='public_ip_count', description='Number of public IP addresses allocated', unit='IPs', data_type=<class 'int'>), 'load_balancer_rules': DomainVariable(name='load_balancer_rules', description='Configured load balancer rules', unit='rules', data_type=<class 'int'>), 'function_exec_ms': DomainVariable(name='function_exec_ms', description='Average or billed execution time per invocation', unit='ms', data_type=<class 'float'>), 'backup_retention_days': DomainVariable(name='backup_retention_days', description='Backup retention period for databases', unit='days', data_type=<class 'int'>), 'service_tier': DomainVariable(name='service_tier', description='Service tier for managed services', unit='tier', data_type=<class 'str'>), 'app_service_instances': DomainVariable(name='app_service_instances', description='Count of App Service instances', unit='instances', data_type=<class 'int'>)}\n",
      "--- Building graph for charge category: 'app_service_fee' ---\n",
      "Execution time for 'build': 532.7345 seconds\n",
      "Calculate the total compute_vm_fee. Charge description - Charge for running virtual machines based on vCPU, memory, OS, and commitment. compute_vm_fee {'compute_vm_fee': ['commitment_term'], 'gpu_compute_fee': ['gpu_count'], 'managed_disk_fee': ['region', 'managed_disk_count'], 'data_egress_fee': ['data_egress_gb'], 'data_ingress_fee': ['region', 'data_ingress_gb'], 'storage_transaction_fee': ['region', 'storage_transactions_millions'], 'public_ip_fee': ['public_ip_count'], 'load_balancer_fee': ['region'], 'aks_cluster_fee': ['vm_family', 'kubernetes_node_count'], 'function_app_fee': ['function_exec_ms'], 'sql_database_fee': ['service_tier'], 'snapshot_storage_fee': ['snapshot_gb'], 'app_service_fee': ['service_tier', 'app_service_instances']} {'commitment_term': DomainVariable(name='commitment_term', description='Savings commitment for compute resources', unit='term', data_type=<class 'str'>), 'gpu_count': DomainVariable(name='gpu_count', description='Number of GPUs attached to the instance', unit='GPUs', data_type=<class 'int'>), 'region': DomainVariable(name='region', description='Azure region where resources are deployed', unit='region', data_type=<class 'str'>), 'managed_disk_count': DomainVariable(name='managed_disk_count', description='Count of managed disks attached', unit='disks', data_type=<class 'int'>), 'data_egress_gb': DomainVariable(name='data_egress_gb', description='Outbound data transferred from Azure', unit='GB', data_type=<class 'float'>), 'data_ingress_gb': DomainVariable(name='data_ingress_gb', description='Inbound data transferred to Azure', unit='GB', data_type=<class 'float'>), 'storage_transactions_millions': DomainVariable(name='storage_transactions_millions', description='Number of storage account operations in millions', unit='million tx', data_type=<class 'float'>), 'public_ip_count': DomainVariable(name='public_ip_count', description='Number of public IP addresses allocated', unit='IPs', data_type=<class 'int'>), 'vm_family': DomainVariable(name='vm_family', description='Virtual machine family that defines CPU and memory profile', unit='family', data_type=<class 'str'>), 'kubernetes_node_count': DomainVariable(name='kubernetes_node_count', description='Number of AKS nodes in the cluster', unit='nodes', data_type=<class 'int'>), 'function_exec_ms': DomainVariable(name='function_exec_ms', description='Average or billed execution time per invocation', unit='ms', data_type=<class 'float'>), 'service_tier': DomainVariable(name='service_tier', description='Service tier for managed services', unit='tier', data_type=<class 'str'>), 'snapshot_gb': DomainVariable(name='snapshot_gb', description='Total snapshot storage size', unit='GB', data_type=<class 'float'>), 'app_service_instances': DomainVariable(name='app_service_instances', description='Count of App Service instances', unit='instances', data_type=<class 'int'>)}\n",
      "--- Building graph for charge category: 'compute_vm_fee' ---\n",
      "Execution time for 'build': 529.7806 seconds\n",
      "Calculate the total gpu_compute_fee. Charge description - Charge for GPU-enabled compute usage. gpu_compute_fee {'compute_vm_fee': ['commitment_term'], 'gpu_compute_fee': ['gpu_count'], 'managed_disk_fee': ['region', 'managed_disk_count'], 'data_egress_fee': ['data_egress_gb'], 'data_ingress_fee': ['region', 'data_ingress_gb'], 'storage_transaction_fee': ['region', 'storage_transactions_millions'], 'public_ip_fee': ['public_ip_count'], 'load_balancer_fee': ['region'], 'aks_cluster_fee': ['vm_family', 'kubernetes_node_count'], 'function_app_fee': ['function_exec_ms'], 'sql_database_fee': ['service_tier'], 'snapshot_storage_fee': ['snapshot_gb'], 'app_service_fee': ['service_tier', 'app_service_instances']} {'commitment_term': DomainVariable(name='commitment_term', description='Savings commitment for compute resources', unit='term', data_type=<class 'str'>), 'gpu_count': DomainVariable(name='gpu_count', description='Number of GPUs attached to the instance', unit='GPUs', data_type=<class 'int'>), 'region': DomainVariable(name='region', description='Azure region where resources are deployed', unit='region', data_type=<class 'str'>), 'managed_disk_count': DomainVariable(name='managed_disk_count', description='Count of managed disks attached', unit='disks', data_type=<class 'int'>), 'data_egress_gb': DomainVariable(name='data_egress_gb', description='Outbound data transferred from Azure', unit='GB', data_type=<class 'float'>), 'data_ingress_gb': DomainVariable(name='data_ingress_gb', description='Inbound data transferred to Azure', unit='GB', data_type=<class 'float'>), 'storage_transactions_millions': DomainVariable(name='storage_transactions_millions', description='Number of storage account operations in millions', unit='million tx', data_type=<class 'float'>), 'public_ip_count': DomainVariable(name='public_ip_count', description='Number of public IP addresses allocated', unit='IPs', data_type=<class 'int'>), 'vm_family': DomainVariable(name='vm_family', description='Virtual machine family that defines CPU and memory profile', unit='family', data_type=<class 'str'>), 'kubernetes_node_count': DomainVariable(name='kubernetes_node_count', description='Number of AKS nodes in the cluster', unit='nodes', data_type=<class 'int'>), 'function_exec_ms': DomainVariable(name='function_exec_ms', description='Average or billed execution time per invocation', unit='ms', data_type=<class 'float'>), 'service_tier': DomainVariable(name='service_tier', description='Service tier for managed services', unit='tier', data_type=<class 'str'>), 'snapshot_gb': DomainVariable(name='snapshot_gb', description='Total snapshot storage size', unit='GB', data_type=<class 'float'>), 'app_service_instances': DomainVariable(name='app_service_instances', description='Count of App Service instances', unit='instances', data_type=<class 'int'>)}\n",
      "--- Building graph for charge category: 'gpu_compute_fee' ---\n",
      "Execution time for 'build': 320.2908 seconds\n",
      "Calculate the total managed_disk_fee. Charge description - Charge for managed disks based on type, size, and count. managed_disk_fee {'compute_vm_fee': ['commitment_term'], 'gpu_compute_fee': ['gpu_count'], 'managed_disk_fee': ['region', 'managed_disk_count'], 'data_egress_fee': ['data_egress_gb'], 'data_ingress_fee': ['region', 'data_ingress_gb'], 'storage_transaction_fee': ['region', 'storage_transactions_millions'], 'public_ip_fee': ['public_ip_count'], 'load_balancer_fee': ['region'], 'aks_cluster_fee': ['vm_family', 'kubernetes_node_count'], 'function_app_fee': ['function_exec_ms'], 'sql_database_fee': ['service_tier'], 'snapshot_storage_fee': ['snapshot_gb'], 'app_service_fee': ['service_tier', 'app_service_instances']} {'commitment_term': DomainVariable(name='commitment_term', description='Savings commitment for compute resources', unit='term', data_type=<class 'str'>), 'gpu_count': DomainVariable(name='gpu_count', description='Number of GPUs attached to the instance', unit='GPUs', data_type=<class 'int'>), 'region': DomainVariable(name='region', description='Azure region where resources are deployed', unit='region', data_type=<class 'str'>), 'managed_disk_count': DomainVariable(name='managed_disk_count', description='Count of managed disks attached', unit='disks', data_type=<class 'int'>), 'data_egress_gb': DomainVariable(name='data_egress_gb', description='Outbound data transferred from Azure', unit='GB', data_type=<class 'float'>), 'data_ingress_gb': DomainVariable(name='data_ingress_gb', description='Inbound data transferred to Azure', unit='GB', data_type=<class 'float'>), 'storage_transactions_millions': DomainVariable(name='storage_transactions_millions', description='Number of storage account operations in millions', unit='million tx', data_type=<class 'float'>), 'public_ip_count': DomainVariable(name='public_ip_count', description='Number of public IP addresses allocated', unit='IPs', data_type=<class 'int'>), 'vm_family': DomainVariable(name='vm_family', description='Virtual machine family that defines CPU and memory profile', unit='family', data_type=<class 'str'>), 'kubernetes_node_count': DomainVariable(name='kubernetes_node_count', description='Number of AKS nodes in the cluster', unit='nodes', data_type=<class 'int'>), 'function_exec_ms': DomainVariable(name='function_exec_ms', description='Average or billed execution time per invocation', unit='ms', data_type=<class 'float'>), 'service_tier': DomainVariable(name='service_tier', description='Service tier for managed services', unit='tier', data_type=<class 'str'>), 'snapshot_gb': DomainVariable(name='snapshot_gb', description='Total snapshot storage size', unit='GB', data_type=<class 'float'>), 'app_service_instances': DomainVariable(name='app_service_instances', description='Count of App Service instances', unit='instances', data_type=<class 'int'>)}\n",
      "--- Building graph for charge category: 'managed_disk_fee' ---\n",
      "Execution time for 'build': 530.8916 seconds\n",
      "Calculate the total data_egress_fee. Charge description - Charge for data leaving Azure regions. data_egress_fee {'compute_vm_fee': ['commitment_term'], 'gpu_compute_fee': ['gpu_count'], 'managed_disk_fee': ['region', 'managed_disk_count'], 'data_egress_fee': ['data_egress_gb'], 'data_ingress_fee': ['region', 'data_ingress_gb'], 'storage_transaction_fee': ['region', 'storage_transactions_millions'], 'public_ip_fee': ['public_ip_count'], 'load_balancer_fee': ['region'], 'aks_cluster_fee': ['vm_family', 'kubernetes_node_count'], 'function_app_fee': ['function_exec_ms'], 'sql_database_fee': ['service_tier'], 'snapshot_storage_fee': ['snapshot_gb'], 'app_service_fee': ['service_tier', 'app_service_instances']} {'commitment_term': DomainVariable(name='commitment_term', description='Savings commitment for compute resources', unit='term', data_type=<class 'str'>), 'gpu_count': DomainVariable(name='gpu_count', description='Number of GPUs attached to the instance', unit='GPUs', data_type=<class 'int'>), 'region': DomainVariable(name='region', description='Azure region where resources are deployed', unit='region', data_type=<class 'str'>), 'managed_disk_count': DomainVariable(name='managed_disk_count', description='Count of managed disks attached', unit='disks', data_type=<class 'int'>), 'data_egress_gb': DomainVariable(name='data_egress_gb', description='Outbound data transferred from Azure', unit='GB', data_type=<class 'float'>), 'data_ingress_gb': DomainVariable(name='data_ingress_gb', description='Inbound data transferred to Azure', unit='GB', data_type=<class 'float'>), 'storage_transactions_millions': DomainVariable(name='storage_transactions_millions', description='Number of storage account operations in millions', unit='million tx', data_type=<class 'float'>), 'public_ip_count': DomainVariable(name='public_ip_count', description='Number of public IP addresses allocated', unit='IPs', data_type=<class 'int'>), 'vm_family': DomainVariable(name='vm_family', description='Virtual machine family that defines CPU and memory profile', unit='family', data_type=<class 'str'>), 'kubernetes_node_count': DomainVariable(name='kubernetes_node_count', description='Number of AKS nodes in the cluster', unit='nodes', data_type=<class 'int'>), 'function_exec_ms': DomainVariable(name='function_exec_ms', description='Average or billed execution time per invocation', unit='ms', data_type=<class 'float'>), 'service_tier': DomainVariable(name='service_tier', description='Service tier for managed services', unit='tier', data_type=<class 'str'>), 'snapshot_gb': DomainVariable(name='snapshot_gb', description='Total snapshot storage size', unit='GB', data_type=<class 'float'>), 'app_service_instances': DomainVariable(name='app_service_instances', description='Count of App Service instances', unit='instances', data_type=<class 'int'>)}\n",
      "--- Building graph for charge category: 'data_egress_fee' ---\n",
      "Execution time for 'build': 300.5410 seconds\n",
      "Calculate the total data_ingress_fee. Charge description - Charge for data entering Azure regions where applicable. data_ingress_fee {'compute_vm_fee': ['commitment_term'], 'gpu_compute_fee': ['gpu_count'], 'managed_disk_fee': ['region', 'managed_disk_count'], 'data_egress_fee': ['data_egress_gb'], 'data_ingress_fee': ['region', 'data_ingress_gb'], 'storage_transaction_fee': ['region', 'storage_transactions_millions'], 'public_ip_fee': ['public_ip_count'], 'load_balancer_fee': ['region'], 'aks_cluster_fee': ['vm_family', 'kubernetes_node_count'], 'function_app_fee': ['function_exec_ms'], 'sql_database_fee': ['service_tier'], 'snapshot_storage_fee': ['snapshot_gb'], 'app_service_fee': ['service_tier', 'app_service_instances']} {'commitment_term': DomainVariable(name='commitment_term', description='Savings commitment for compute resources', unit='term', data_type=<class 'str'>), 'gpu_count': DomainVariable(name='gpu_count', description='Number of GPUs attached to the instance', unit='GPUs', data_type=<class 'int'>), 'region': DomainVariable(name='region', description='Azure region where resources are deployed', unit='region', data_type=<class 'str'>), 'managed_disk_count': DomainVariable(name='managed_disk_count', description='Count of managed disks attached', unit='disks', data_type=<class 'int'>), 'data_egress_gb': DomainVariable(name='data_egress_gb', description='Outbound data transferred from Azure', unit='GB', data_type=<class 'float'>), 'data_ingress_gb': DomainVariable(name='data_ingress_gb', description='Inbound data transferred to Azure', unit='GB', data_type=<class 'float'>), 'storage_transactions_millions': DomainVariable(name='storage_transactions_millions', description='Number of storage account operations in millions', unit='million tx', data_type=<class 'float'>), 'public_ip_count': DomainVariable(name='public_ip_count', description='Number of public IP addresses allocated', unit='IPs', data_type=<class 'int'>), 'vm_family': DomainVariable(name='vm_family', description='Virtual machine family that defines CPU and memory profile', unit='family', data_type=<class 'str'>), 'kubernetes_node_count': DomainVariable(name='kubernetes_node_count', description='Number of AKS nodes in the cluster', unit='nodes', data_type=<class 'int'>), 'function_exec_ms': DomainVariable(name='function_exec_ms', description='Average or billed execution time per invocation', unit='ms', data_type=<class 'float'>), 'service_tier': DomainVariable(name='service_tier', description='Service tier for managed services', unit='tier', data_type=<class 'str'>), 'snapshot_gb': DomainVariable(name='snapshot_gb', description='Total snapshot storage size', unit='GB', data_type=<class 'float'>), 'app_service_instances': DomainVariable(name='app_service_instances', description='Count of App Service instances', unit='instances', data_type=<class 'int'>)}\n",
      "--- Building graph for charge category: 'data_ingress_fee' ---\n",
      "Execution time for 'build': 137.3520 seconds\n",
      "Calculate the total storage_transaction_fee. Charge description - Charge for storage account transactions and redundancy level. storage_transaction_fee {'compute_vm_fee': ['commitment_term'], 'gpu_compute_fee': ['gpu_count'], 'managed_disk_fee': ['region', 'managed_disk_count'], 'data_egress_fee': ['data_egress_gb'], 'data_ingress_fee': ['region', 'data_ingress_gb'], 'storage_transaction_fee': ['region', 'storage_transactions_millions'], 'public_ip_fee': ['public_ip_count'], 'load_balancer_fee': ['region'], 'aks_cluster_fee': ['vm_family', 'kubernetes_node_count'], 'function_app_fee': ['function_exec_ms'], 'sql_database_fee': ['service_tier'], 'snapshot_storage_fee': ['snapshot_gb'], 'app_service_fee': ['service_tier', 'app_service_instances']} {'commitment_term': DomainVariable(name='commitment_term', description='Savings commitment for compute resources', unit='term', data_type=<class 'str'>), 'gpu_count': DomainVariable(name='gpu_count', description='Number of GPUs attached to the instance', unit='GPUs', data_type=<class 'int'>), 'region': DomainVariable(name='region', description='Azure region where resources are deployed', unit='region', data_type=<class 'str'>), 'managed_disk_count': DomainVariable(name='managed_disk_count', description='Count of managed disks attached', unit='disks', data_type=<class 'int'>), 'data_egress_gb': DomainVariable(name='data_egress_gb', description='Outbound data transferred from Azure', unit='GB', data_type=<class 'float'>), 'data_ingress_gb': DomainVariable(name='data_ingress_gb', description='Inbound data transferred to Azure', unit='GB', data_type=<class 'float'>), 'storage_transactions_millions': DomainVariable(name='storage_transactions_millions', description='Number of storage account operations in millions', unit='million tx', data_type=<class 'float'>), 'public_ip_count': DomainVariable(name='public_ip_count', description='Number of public IP addresses allocated', unit='IPs', data_type=<class 'int'>), 'vm_family': DomainVariable(name='vm_family', description='Virtual machine family that defines CPU and memory profile', unit='family', data_type=<class 'str'>), 'kubernetes_node_count': DomainVariable(name='kubernetes_node_count', description='Number of AKS nodes in the cluster', unit='nodes', data_type=<class 'int'>), 'function_exec_ms': DomainVariable(name='function_exec_ms', description='Average or billed execution time per invocation', unit='ms', data_type=<class 'float'>), 'service_tier': DomainVariable(name='service_tier', description='Service tier for managed services', unit='tier', data_type=<class 'str'>), 'snapshot_gb': DomainVariable(name='snapshot_gb', description='Total snapshot storage size', unit='GB', data_type=<class 'float'>), 'app_service_instances': DomainVariable(name='app_service_instances', description='Count of App Service instances', unit='instances', data_type=<class 'int'>)}\n",
      "--- Building graph for charge category: 'storage_transaction_fee' ---\n",
      "Execution time for 'build': 449.0217 seconds\n",
      "Calculate the total public_ip_fee. Charge description - Charge for public IP addresses allocated. public_ip_fee {'compute_vm_fee': ['commitment_term'], 'gpu_compute_fee': ['gpu_count'], 'managed_disk_fee': ['region', 'managed_disk_count'], 'data_egress_fee': ['data_egress_gb'], 'data_ingress_fee': ['region', 'data_ingress_gb'], 'storage_transaction_fee': ['region', 'storage_transactions_millions'], 'public_ip_fee': ['public_ip_count'], 'load_balancer_fee': ['region'], 'aks_cluster_fee': ['vm_family', 'kubernetes_node_count'], 'function_app_fee': ['function_exec_ms'], 'sql_database_fee': ['service_tier'], 'snapshot_storage_fee': ['snapshot_gb'], 'app_service_fee': ['service_tier', 'app_service_instances']} {'commitment_term': DomainVariable(name='commitment_term', description='Savings commitment for compute resources', unit='term', data_type=<class 'str'>), 'gpu_count': DomainVariable(name='gpu_count', description='Number of GPUs attached to the instance', unit='GPUs', data_type=<class 'int'>), 'region': DomainVariable(name='region', description='Azure region where resources are deployed', unit='region', data_type=<class 'str'>), 'managed_disk_count': DomainVariable(name='managed_disk_count', description='Count of managed disks attached', unit='disks', data_type=<class 'int'>), 'data_egress_gb': DomainVariable(name='data_egress_gb', description='Outbound data transferred from Azure', unit='GB', data_type=<class 'float'>), 'data_ingress_gb': DomainVariable(name='data_ingress_gb', description='Inbound data transferred to Azure', unit='GB', data_type=<class 'float'>), 'storage_transactions_millions': DomainVariable(name='storage_transactions_millions', description='Number of storage account operations in millions', unit='million tx', data_type=<class 'float'>), 'public_ip_count': DomainVariable(name='public_ip_count', description='Number of public IP addresses allocated', unit='IPs', data_type=<class 'int'>), 'vm_family': DomainVariable(name='vm_family', description='Virtual machine family that defines CPU and memory profile', unit='family', data_type=<class 'str'>), 'kubernetes_node_count': DomainVariable(name='kubernetes_node_count', description='Number of AKS nodes in the cluster', unit='nodes', data_type=<class 'int'>), 'function_exec_ms': DomainVariable(name='function_exec_ms', description='Average or billed execution time per invocation', unit='ms', data_type=<class 'float'>), 'service_tier': DomainVariable(name='service_tier', description='Service tier for managed services', unit='tier', data_type=<class 'str'>), 'snapshot_gb': DomainVariable(name='snapshot_gb', description='Total snapshot storage size', unit='GB', data_type=<class 'float'>), 'app_service_instances': DomainVariable(name='app_service_instances', description='Count of App Service instances', unit='instances', data_type=<class 'int'>)}\n",
      "--- Building graph for charge category: 'public_ip_fee' ---\n",
      "Execution time for 'build': 185.6231 seconds\n",
      "Calculate the total load_balancer_fee. Charge description - Charge for load balancer rules and tier. load_balancer_fee {'compute_vm_fee': ['commitment_term'], 'gpu_compute_fee': ['gpu_count'], 'managed_disk_fee': ['region', 'managed_disk_count'], 'data_egress_fee': ['data_egress_gb'], 'data_ingress_fee': ['region', 'data_ingress_gb'], 'storage_transaction_fee': ['region', 'storage_transactions_millions'], 'public_ip_fee': ['public_ip_count'], 'load_balancer_fee': ['region'], 'aks_cluster_fee': ['vm_family', 'kubernetes_node_count'], 'function_app_fee': ['function_exec_ms'], 'sql_database_fee': ['service_tier'], 'snapshot_storage_fee': ['snapshot_gb'], 'app_service_fee': ['service_tier', 'app_service_instances']} {'commitment_term': DomainVariable(name='commitment_term', description='Savings commitment for compute resources', unit='term', data_type=<class 'str'>), 'gpu_count': DomainVariable(name='gpu_count', description='Number of GPUs attached to the instance', unit='GPUs', data_type=<class 'int'>), 'region': DomainVariable(name='region', description='Azure region where resources are deployed', unit='region', data_type=<class 'str'>), 'managed_disk_count': DomainVariable(name='managed_disk_count', description='Count of managed disks attached', unit='disks', data_type=<class 'int'>), 'data_egress_gb': DomainVariable(name='data_egress_gb', description='Outbound data transferred from Azure', unit='GB', data_type=<class 'float'>), 'data_ingress_gb': DomainVariable(name='data_ingress_gb', description='Inbound data transferred to Azure', unit='GB', data_type=<class 'float'>), 'storage_transactions_millions': DomainVariable(name='storage_transactions_millions', description='Number of storage account operations in millions', unit='million tx', data_type=<class 'float'>), 'public_ip_count': DomainVariable(name='public_ip_count', description='Number of public IP addresses allocated', unit='IPs', data_type=<class 'int'>), 'vm_family': DomainVariable(name='vm_family', description='Virtual machine family that defines CPU and memory profile', unit='family', data_type=<class 'str'>), 'kubernetes_node_count': DomainVariable(name='kubernetes_node_count', description='Number of AKS nodes in the cluster', unit='nodes', data_type=<class 'int'>), 'function_exec_ms': DomainVariable(name='function_exec_ms', description='Average or billed execution time per invocation', unit='ms', data_type=<class 'float'>), 'service_tier': DomainVariable(name='service_tier', description='Service tier for managed services', unit='tier', data_type=<class 'str'>), 'snapshot_gb': DomainVariable(name='snapshot_gb', description='Total snapshot storage size', unit='GB', data_type=<class 'float'>), 'app_service_instances': DomainVariable(name='app_service_instances', description='Count of App Service instances', unit='instances', data_type=<class 'int'>)}\n",
      "--- Building graph for charge category: 'load_balancer_fee' ---\n",
      "Execution time for 'build': 556.5249 seconds\n",
      "Calculate the total aks_cluster_fee. Charge description - Charge for AKS clusters based on node count and type. aks_cluster_fee {'compute_vm_fee': ['commitment_term'], 'gpu_compute_fee': ['gpu_count'], 'managed_disk_fee': ['region', 'managed_disk_count'], 'data_egress_fee': ['data_egress_gb'], 'data_ingress_fee': ['region', 'data_ingress_gb'], 'storage_transaction_fee': ['region', 'storage_transactions_millions'], 'public_ip_fee': ['public_ip_count'], 'load_balancer_fee': ['region'], 'aks_cluster_fee': ['vm_family', 'kubernetes_node_count'], 'function_app_fee': ['function_exec_ms'], 'sql_database_fee': ['service_tier'], 'snapshot_storage_fee': ['snapshot_gb'], 'app_service_fee': ['service_tier', 'app_service_instances']} {'commitment_term': DomainVariable(name='commitment_term', description='Savings commitment for compute resources', unit='term', data_type=<class 'str'>), 'gpu_count': DomainVariable(name='gpu_count', description='Number of GPUs attached to the instance', unit='GPUs', data_type=<class 'int'>), 'region': DomainVariable(name='region', description='Azure region where resources are deployed', unit='region', data_type=<class 'str'>), 'managed_disk_count': DomainVariable(name='managed_disk_count', description='Count of managed disks attached', unit='disks', data_type=<class 'int'>), 'data_egress_gb': DomainVariable(name='data_egress_gb', description='Outbound data transferred from Azure', unit='GB', data_type=<class 'float'>), 'data_ingress_gb': DomainVariable(name='data_ingress_gb', description='Inbound data transferred to Azure', unit='GB', data_type=<class 'float'>), 'storage_transactions_millions': DomainVariable(name='storage_transactions_millions', description='Number of storage account operations in millions', unit='million tx', data_type=<class 'float'>), 'public_ip_count': DomainVariable(name='public_ip_count', description='Number of public IP addresses allocated', unit='IPs', data_type=<class 'int'>), 'vm_family': DomainVariable(name='vm_family', description='Virtual machine family that defines CPU and memory profile', unit='family', data_type=<class 'str'>), 'kubernetes_node_count': DomainVariable(name='kubernetes_node_count', description='Number of AKS nodes in the cluster', unit='nodes', data_type=<class 'int'>), 'function_exec_ms': DomainVariable(name='function_exec_ms', description='Average or billed execution time per invocation', unit='ms', data_type=<class 'float'>), 'service_tier': DomainVariable(name='service_tier', description='Service tier for managed services', unit='tier', data_type=<class 'str'>), 'snapshot_gb': DomainVariable(name='snapshot_gb', description='Total snapshot storage size', unit='GB', data_type=<class 'float'>), 'app_service_instances': DomainVariable(name='app_service_instances', description='Count of App Service instances', unit='instances', data_type=<class 'int'>)}\n",
      "--- Building graph for charge category: 'aks_cluster_fee' ---\n",
      "Execution time for 'build': 519.3925 seconds\n",
      "Calculate the total function_app_fee. Charge description - Charge for serverless executions and execution time. function_app_fee {'compute_vm_fee': ['commitment_term'], 'gpu_compute_fee': ['gpu_count'], 'managed_disk_fee': ['region', 'managed_disk_count'], 'data_egress_fee': ['data_egress_gb'], 'data_ingress_fee': ['region', 'data_ingress_gb'], 'storage_transaction_fee': ['region', 'storage_transactions_millions'], 'public_ip_fee': ['public_ip_count'], 'load_balancer_fee': ['region'], 'aks_cluster_fee': ['vm_family', 'kubernetes_node_count'], 'function_app_fee': ['function_exec_ms'], 'sql_database_fee': ['service_tier'], 'snapshot_storage_fee': ['snapshot_gb'], 'app_service_fee': ['service_tier', 'app_service_instances']} {'commitment_term': DomainVariable(name='commitment_term', description='Savings commitment for compute resources', unit='term', data_type=<class 'str'>), 'gpu_count': DomainVariable(name='gpu_count', description='Number of GPUs attached to the instance', unit='GPUs', data_type=<class 'int'>), 'region': DomainVariable(name='region', description='Azure region where resources are deployed', unit='region', data_type=<class 'str'>), 'managed_disk_count': DomainVariable(name='managed_disk_count', description='Count of managed disks attached', unit='disks', data_type=<class 'int'>), 'data_egress_gb': DomainVariable(name='data_egress_gb', description='Outbound data transferred from Azure', unit='GB', data_type=<class 'float'>), 'data_ingress_gb': DomainVariable(name='data_ingress_gb', description='Inbound data transferred to Azure', unit='GB', data_type=<class 'float'>), 'storage_transactions_millions': DomainVariable(name='storage_transactions_millions', description='Number of storage account operations in millions', unit='million tx', data_type=<class 'float'>), 'public_ip_count': DomainVariable(name='public_ip_count', description='Number of public IP addresses allocated', unit='IPs', data_type=<class 'int'>), 'vm_family': DomainVariable(name='vm_family', description='Virtual machine family that defines CPU and memory profile', unit='family', data_type=<class 'str'>), 'kubernetes_node_count': DomainVariable(name='kubernetes_node_count', description='Number of AKS nodes in the cluster', unit='nodes', data_type=<class 'int'>), 'function_exec_ms': DomainVariable(name='function_exec_ms', description='Average or billed execution time per invocation', unit='ms', data_type=<class 'float'>), 'service_tier': DomainVariable(name='service_tier', description='Service tier for managed services', unit='tier', data_type=<class 'str'>), 'snapshot_gb': DomainVariable(name='snapshot_gb', description='Total snapshot storage size', unit='GB', data_type=<class 'float'>), 'app_service_instances': DomainVariable(name='app_service_instances', description='Count of App Service instances', unit='instances', data_type=<class 'int'>)}\n",
      "--- Building graph for charge category: 'function_app_fee' ---\n",
      "Execution time for 'build': 313.6534 seconds\n",
      "Calculate the total sql_database_fee. Charge description - Charge for Azure SQL based on vCores, storage, and retention. sql_database_fee {'compute_vm_fee': ['commitment_term'], 'gpu_compute_fee': ['gpu_count'], 'managed_disk_fee': ['region', 'managed_disk_count'], 'data_egress_fee': ['data_egress_gb'], 'data_ingress_fee': ['region', 'data_ingress_gb'], 'storage_transaction_fee': ['region', 'storage_transactions_millions'], 'public_ip_fee': ['public_ip_count'], 'load_balancer_fee': ['region'], 'aks_cluster_fee': ['vm_family', 'kubernetes_node_count'], 'function_app_fee': ['function_exec_ms'], 'sql_database_fee': ['service_tier'], 'snapshot_storage_fee': ['snapshot_gb'], 'app_service_fee': ['service_tier', 'app_service_instances']} {'commitment_term': DomainVariable(name='commitment_term', description='Savings commitment for compute resources', unit='term', data_type=<class 'str'>), 'gpu_count': DomainVariable(name='gpu_count', description='Number of GPUs attached to the instance', unit='GPUs', data_type=<class 'int'>), 'region': DomainVariable(name='region', description='Azure region where resources are deployed', unit='region', data_type=<class 'str'>), 'managed_disk_count': DomainVariable(name='managed_disk_count', description='Count of managed disks attached', unit='disks', data_type=<class 'int'>), 'data_egress_gb': DomainVariable(name='data_egress_gb', description='Outbound data transferred from Azure', unit='GB', data_type=<class 'float'>), 'data_ingress_gb': DomainVariable(name='data_ingress_gb', description='Inbound data transferred to Azure', unit='GB', data_type=<class 'float'>), 'storage_transactions_millions': DomainVariable(name='storage_transactions_millions', description='Number of storage account operations in millions', unit='million tx', data_type=<class 'float'>), 'public_ip_count': DomainVariable(name='public_ip_count', description='Number of public IP addresses allocated', unit='IPs', data_type=<class 'int'>), 'vm_family': DomainVariable(name='vm_family', description='Virtual machine family that defines CPU and memory profile', unit='family', data_type=<class 'str'>), 'kubernetes_node_count': DomainVariable(name='kubernetes_node_count', description='Number of AKS nodes in the cluster', unit='nodes', data_type=<class 'int'>), 'function_exec_ms': DomainVariable(name='function_exec_ms', description='Average or billed execution time per invocation', unit='ms', data_type=<class 'float'>), 'service_tier': DomainVariable(name='service_tier', description='Service tier for managed services', unit='tier', data_type=<class 'str'>), 'snapshot_gb': DomainVariable(name='snapshot_gb', description='Total snapshot storage size', unit='GB', data_type=<class 'float'>), 'app_service_instances': DomainVariable(name='app_service_instances', description='Count of App Service instances', unit='instances', data_type=<class 'int'>)}\n",
      "--- Building graph for charge category: 'sql_database_fee' ---\n",
      "Execution time for 'build': 530.2000 seconds\n",
      "Calculate the total snapshot_storage_fee. Charge description - Charge for snapshot storage volume and redundancy. snapshot_storage_fee {'compute_vm_fee': ['commitment_term'], 'gpu_compute_fee': ['gpu_count'], 'managed_disk_fee': ['region', 'managed_disk_count'], 'data_egress_fee': ['data_egress_gb'], 'data_ingress_fee': ['region', 'data_ingress_gb'], 'storage_transaction_fee': ['region', 'storage_transactions_millions'], 'public_ip_fee': ['public_ip_count'], 'load_balancer_fee': ['region'], 'aks_cluster_fee': ['vm_family', 'kubernetes_node_count'], 'function_app_fee': ['function_exec_ms'], 'sql_database_fee': ['service_tier'], 'snapshot_storage_fee': ['snapshot_gb'], 'app_service_fee': ['service_tier', 'app_service_instances']} {'commitment_term': DomainVariable(name='commitment_term', description='Savings commitment for compute resources', unit='term', data_type=<class 'str'>), 'gpu_count': DomainVariable(name='gpu_count', description='Number of GPUs attached to the instance', unit='GPUs', data_type=<class 'int'>), 'region': DomainVariable(name='region', description='Azure region where resources are deployed', unit='region', data_type=<class 'str'>), 'managed_disk_count': DomainVariable(name='managed_disk_count', description='Count of managed disks attached', unit='disks', data_type=<class 'int'>), 'data_egress_gb': DomainVariable(name='data_egress_gb', description='Outbound data transferred from Azure', unit='GB', data_type=<class 'float'>), 'data_ingress_gb': DomainVariable(name='data_ingress_gb', description='Inbound data transferred to Azure', unit='GB', data_type=<class 'float'>), 'storage_transactions_millions': DomainVariable(name='storage_transactions_millions', description='Number of storage account operations in millions', unit='million tx', data_type=<class 'float'>), 'public_ip_count': DomainVariable(name='public_ip_count', description='Number of public IP addresses allocated', unit='IPs', data_type=<class 'int'>), 'vm_family': DomainVariable(name='vm_family', description='Virtual machine family that defines CPU and memory profile', unit='family', data_type=<class 'str'>), 'kubernetes_node_count': DomainVariable(name='kubernetes_node_count', description='Number of AKS nodes in the cluster', unit='nodes', data_type=<class 'int'>), 'function_exec_ms': DomainVariable(name='function_exec_ms', description='Average or billed execution time per invocation', unit='ms', data_type=<class 'float'>), 'service_tier': DomainVariable(name='service_tier', description='Service tier for managed services', unit='tier', data_type=<class 'str'>), 'snapshot_gb': DomainVariable(name='snapshot_gb', description='Total snapshot storage size', unit='GB', data_type=<class 'float'>), 'app_service_instances': DomainVariable(name='app_service_instances', description='Count of App Service instances', unit='instances', data_type=<class 'int'>)}\n",
      "--- Building graph for charge category: 'snapshot_storage_fee' ---\n",
      "Execution time for 'build': 333.3168 seconds\n",
      "Calculate the total app_service_fee. Charge description - Charge for App Service instances and tier. app_service_fee {'compute_vm_fee': ['commitment_term'], 'gpu_compute_fee': ['gpu_count'], 'managed_disk_fee': ['region', 'managed_disk_count'], 'data_egress_fee': ['data_egress_gb'], 'data_ingress_fee': ['region', 'data_ingress_gb'], 'storage_transaction_fee': ['region', 'storage_transactions_millions'], 'public_ip_fee': ['public_ip_count'], 'load_balancer_fee': ['region'], 'aks_cluster_fee': ['vm_family', 'kubernetes_node_count'], 'function_app_fee': ['function_exec_ms'], 'sql_database_fee': ['service_tier'], 'snapshot_storage_fee': ['snapshot_gb'], 'app_service_fee': ['service_tier', 'app_service_instances']} {'commitment_term': DomainVariable(name='commitment_term', description='Savings commitment for compute resources', unit='term', data_type=<class 'str'>), 'gpu_count': DomainVariable(name='gpu_count', description='Number of GPUs attached to the instance', unit='GPUs', data_type=<class 'int'>), 'region': DomainVariable(name='region', description='Azure region where resources are deployed', unit='region', data_type=<class 'str'>), 'managed_disk_count': DomainVariable(name='managed_disk_count', description='Count of managed disks attached', unit='disks', data_type=<class 'int'>), 'data_egress_gb': DomainVariable(name='data_egress_gb', description='Outbound data transferred from Azure', unit='GB', data_type=<class 'float'>), 'data_ingress_gb': DomainVariable(name='data_ingress_gb', description='Inbound data transferred to Azure', unit='GB', data_type=<class 'float'>), 'storage_transactions_millions': DomainVariable(name='storage_transactions_millions', description='Number of storage account operations in millions', unit='million tx', data_type=<class 'float'>), 'public_ip_count': DomainVariable(name='public_ip_count', description='Number of public IP addresses allocated', unit='IPs', data_type=<class 'int'>), 'vm_family': DomainVariable(name='vm_family', description='Virtual machine family that defines CPU and memory profile', unit='family', data_type=<class 'str'>), 'kubernetes_node_count': DomainVariable(name='kubernetes_node_count', description='Number of AKS nodes in the cluster', unit='nodes', data_type=<class 'int'>), 'function_exec_ms': DomainVariable(name='function_exec_ms', description='Average or billed execution time per invocation', unit='ms', data_type=<class 'float'>), 'service_tier': DomainVariable(name='service_tier', description='Service tier for managed services', unit='tier', data_type=<class 'str'>), 'snapshot_gb': DomainVariable(name='snapshot_gb', description='Total snapshot storage size', unit='GB', data_type=<class 'float'>), 'app_service_instances': DomainVariable(name='app_service_instances', description='Count of App Service instances', unit='instances', data_type=<class 'int'>)}\n",
      "--- Building graph for charge category: 'app_service_fee' ---\n",
      "Execution time for 'build': 510.4217 seconds\n",
      "Calculate the total compute_vm_fee. Charge description - Charge for running virtual machines based on vCPU, memory, OS, and commitment. compute_vm_fee {'compute_vm_fee': ['usage_hours'], 'gpu_compute_fee': ['region', 'usage_hours'], 'managed_disk_fee': ['disk_size_gb'], 'data_egress_fee': ['region'], 'data_ingress_fee': ['region', 'data_ingress_gb'], 'storage_transaction_fee': ['region'], 'public_ip_fee': ['region', 'public_ip_count'], 'load_balancer_fee': ['service_tier', 'load_balancer_rules'], 'aks_cluster_fee': ['region', 'kubernetes_node_count'], 'function_app_fee': ['region', 'function_executions'], 'sql_database_fee': ['service_tier', 'sql_vcores'], 'snapshot_storage_fee': ['redundancy', 'snapshot_gb'], 'app_service_fee': ['region', 'app_service_instances']} {'usage_hours': DomainVariable(name='usage_hours', description='Total runtime in hours over the billing window', unit='hours', data_type=<class 'float'>), 'region': DomainVariable(name='region', description='Azure region where resources are deployed', unit='region', data_type=<class 'str'>), 'disk_size_gb': DomainVariable(name='disk_size_gb', description='Size of each managed disk', unit='GB', data_type=<class 'int'>), 'data_ingress_gb': DomainVariable(name='data_ingress_gb', description='Inbound data transferred to Azure', unit='GB', data_type=<class 'float'>), 'public_ip_count': DomainVariable(name='public_ip_count', description='Number of public IP addresses allocated', unit='IPs', data_type=<class 'int'>), 'service_tier': DomainVariable(name='service_tier', description='Service tier for managed services', unit='tier', data_type=<class 'str'>), 'load_balancer_rules': DomainVariable(name='load_balancer_rules', description='Configured load balancer rules', unit='rules', data_type=<class 'int'>), 'kubernetes_node_count': DomainVariable(name='kubernetes_node_count', description='Number of AKS nodes in the cluster', unit='nodes', data_type=<class 'int'>), 'function_executions': DomainVariable(name='function_executions', description='Number of serverless function calls', unit='invocations', data_type=<class 'int'>), 'sql_vcores': DomainVariable(name='sql_vcores', description='vCore count for Azure SQL', unit='vCores', data_type=<class 'int'>), 'redundancy': DomainVariable(name='redundancy', description='Storage redundancy configuration', unit='redundancy', data_type=<class 'str'>), 'snapshot_gb': DomainVariable(name='snapshot_gb', description='Total snapshot storage size', unit='GB', data_type=<class 'float'>), 'app_service_instances': DomainVariable(name='app_service_instances', description='Count of App Service instances', unit='instances', data_type=<class 'int'>)}\n",
      "--- Building graph for charge category: 'compute_vm_fee' ---\n",
      "Execution time for 'build': 480.7134 seconds\n",
      "Calculate the total gpu_compute_fee. Charge description - Charge for GPU-enabled compute usage. gpu_compute_fee {'compute_vm_fee': ['usage_hours'], 'gpu_compute_fee': ['region', 'usage_hours'], 'managed_disk_fee': ['disk_size_gb'], 'data_egress_fee': ['region'], 'data_ingress_fee': ['region', 'data_ingress_gb'], 'storage_transaction_fee': ['region'], 'public_ip_fee': ['region', 'public_ip_count'], 'load_balancer_fee': ['service_tier', 'load_balancer_rules'], 'aks_cluster_fee': ['region', 'kubernetes_node_count'], 'function_app_fee': ['region', 'function_executions'], 'sql_database_fee': ['service_tier', 'sql_vcores'], 'snapshot_storage_fee': ['redundancy', 'snapshot_gb'], 'app_service_fee': ['region', 'app_service_instances']} {'usage_hours': DomainVariable(name='usage_hours', description='Total runtime in hours over the billing window', unit='hours', data_type=<class 'float'>), 'region': DomainVariable(name='region', description='Azure region where resources are deployed', unit='region', data_type=<class 'str'>), 'disk_size_gb': DomainVariable(name='disk_size_gb', description='Size of each managed disk', unit='GB', data_type=<class 'int'>), 'data_ingress_gb': DomainVariable(name='data_ingress_gb', description='Inbound data transferred to Azure', unit='GB', data_type=<class 'float'>), 'public_ip_count': DomainVariable(name='public_ip_count', description='Number of public IP addresses allocated', unit='IPs', data_type=<class 'int'>), 'service_tier': DomainVariable(name='service_tier', description='Service tier for managed services', unit='tier', data_type=<class 'str'>), 'load_balancer_rules': DomainVariable(name='load_balancer_rules', description='Configured load balancer rules', unit='rules', data_type=<class 'int'>), 'kubernetes_node_count': DomainVariable(name='kubernetes_node_count', description='Number of AKS nodes in the cluster', unit='nodes', data_type=<class 'int'>), 'function_executions': DomainVariable(name='function_executions', description='Number of serverless function calls', unit='invocations', data_type=<class 'int'>), 'sql_vcores': DomainVariable(name='sql_vcores', description='vCore count for Azure SQL', unit='vCores', data_type=<class 'int'>), 'redundancy': DomainVariable(name='redundancy', description='Storage redundancy configuration', unit='redundancy', data_type=<class 'str'>), 'snapshot_gb': DomainVariable(name='snapshot_gb', description='Total snapshot storage size', unit='GB', data_type=<class 'float'>), 'app_service_instances': DomainVariable(name='app_service_instances', description='Count of App Service instances', unit='instances', data_type=<class 'int'>)}\n",
      "--- Building graph for charge category: 'gpu_compute_fee' ---\n",
      "Execution time for 'build': 481.8508 seconds\n",
      "Calculate the total managed_disk_fee. Charge description - Charge for managed disks based on type, size, and count. managed_disk_fee {'compute_vm_fee': ['usage_hours'], 'gpu_compute_fee': ['region', 'usage_hours'], 'managed_disk_fee': ['disk_size_gb'], 'data_egress_fee': ['region'], 'data_ingress_fee': ['region', 'data_ingress_gb'], 'storage_transaction_fee': ['region'], 'public_ip_fee': ['region', 'public_ip_count'], 'load_balancer_fee': ['service_tier', 'load_balancer_rules'], 'aks_cluster_fee': ['region', 'kubernetes_node_count'], 'function_app_fee': ['region', 'function_executions'], 'sql_database_fee': ['service_tier', 'sql_vcores'], 'snapshot_storage_fee': ['redundancy', 'snapshot_gb'], 'app_service_fee': ['region', 'app_service_instances']} {'usage_hours': DomainVariable(name='usage_hours', description='Total runtime in hours over the billing window', unit='hours', data_type=<class 'float'>), 'region': DomainVariable(name='region', description='Azure region where resources are deployed', unit='region', data_type=<class 'str'>), 'disk_size_gb': DomainVariable(name='disk_size_gb', description='Size of each managed disk', unit='GB', data_type=<class 'int'>), 'data_ingress_gb': DomainVariable(name='data_ingress_gb', description='Inbound data transferred to Azure', unit='GB', data_type=<class 'float'>), 'public_ip_count': DomainVariable(name='public_ip_count', description='Number of public IP addresses allocated', unit='IPs', data_type=<class 'int'>), 'service_tier': DomainVariable(name='service_tier', description='Service tier for managed services', unit='tier', data_type=<class 'str'>), 'load_balancer_rules': DomainVariable(name='load_balancer_rules', description='Configured load balancer rules', unit='rules', data_type=<class 'int'>), 'kubernetes_node_count': DomainVariable(name='kubernetes_node_count', description='Number of AKS nodes in the cluster', unit='nodes', data_type=<class 'int'>), 'function_executions': DomainVariable(name='function_executions', description='Number of serverless function calls', unit='invocations', data_type=<class 'int'>), 'sql_vcores': DomainVariable(name='sql_vcores', description='vCore count for Azure SQL', unit='vCores', data_type=<class 'int'>), 'redundancy': DomainVariable(name='redundancy', description='Storage redundancy configuration', unit='redundancy', data_type=<class 'str'>), 'snapshot_gb': DomainVariable(name='snapshot_gb', description='Total snapshot storage size', unit='GB', data_type=<class 'float'>), 'app_service_instances': DomainVariable(name='app_service_instances', description='Count of App Service instances', unit='instances', data_type=<class 'int'>)}\n",
      "--- Building graph for charge category: 'managed_disk_fee' ---\n",
      "Execution time for 'build': 477.9247 seconds\n",
      "Calculate the total data_egress_fee. Charge description - Charge for data leaving Azure regions. data_egress_fee {'compute_vm_fee': ['usage_hours'], 'gpu_compute_fee': ['region', 'usage_hours'], 'managed_disk_fee': ['disk_size_gb'], 'data_egress_fee': ['region'], 'data_ingress_fee': ['region', 'data_ingress_gb'], 'storage_transaction_fee': ['region'], 'public_ip_fee': ['region', 'public_ip_count'], 'load_balancer_fee': ['service_tier', 'load_balancer_rules'], 'aks_cluster_fee': ['region', 'kubernetes_node_count'], 'function_app_fee': ['region', 'function_executions'], 'sql_database_fee': ['service_tier', 'sql_vcores'], 'snapshot_storage_fee': ['redundancy', 'snapshot_gb'], 'app_service_fee': ['region', 'app_service_instances']} {'usage_hours': DomainVariable(name='usage_hours', description='Total runtime in hours over the billing window', unit='hours', data_type=<class 'float'>), 'region': DomainVariable(name='region', description='Azure region where resources are deployed', unit='region', data_type=<class 'str'>), 'disk_size_gb': DomainVariable(name='disk_size_gb', description='Size of each managed disk', unit='GB', data_type=<class 'int'>), 'data_ingress_gb': DomainVariable(name='data_ingress_gb', description='Inbound data transferred to Azure', unit='GB', data_type=<class 'float'>), 'public_ip_count': DomainVariable(name='public_ip_count', description='Number of public IP addresses allocated', unit='IPs', data_type=<class 'int'>), 'service_tier': DomainVariable(name='service_tier', description='Service tier for managed services', unit='tier', data_type=<class 'str'>), 'load_balancer_rules': DomainVariable(name='load_balancer_rules', description='Configured load balancer rules', unit='rules', data_type=<class 'int'>), 'kubernetes_node_count': DomainVariable(name='kubernetes_node_count', description='Number of AKS nodes in the cluster', unit='nodes', data_type=<class 'int'>), 'function_executions': DomainVariable(name='function_executions', description='Number of serverless function calls', unit='invocations', data_type=<class 'int'>), 'sql_vcores': DomainVariable(name='sql_vcores', description='vCore count for Azure SQL', unit='vCores', data_type=<class 'int'>), 'redundancy': DomainVariable(name='redundancy', description='Storage redundancy configuration', unit='redundancy', data_type=<class 'str'>), 'snapshot_gb': DomainVariable(name='snapshot_gb', description='Total snapshot storage size', unit='GB', data_type=<class 'float'>), 'app_service_instances': DomainVariable(name='app_service_instances', description='Count of App Service instances', unit='instances', data_type=<class 'int'>)}\n",
      "--- Building graph for charge category: 'data_egress_fee' ---\n",
      "Execution time for 'build': 480.8827 seconds\n",
      "Calculate the total data_ingress_fee. Charge description - Charge for data entering Azure regions where applicable. data_ingress_fee {'compute_vm_fee': ['usage_hours'], 'gpu_compute_fee': ['region', 'usage_hours'], 'managed_disk_fee': ['disk_size_gb'], 'data_egress_fee': ['region'], 'data_ingress_fee': ['region', 'data_ingress_gb'], 'storage_transaction_fee': ['region'], 'public_ip_fee': ['region', 'public_ip_count'], 'load_balancer_fee': ['service_tier', 'load_balancer_rules'], 'aks_cluster_fee': ['region', 'kubernetes_node_count'], 'function_app_fee': ['region', 'function_executions'], 'sql_database_fee': ['service_tier', 'sql_vcores'], 'snapshot_storage_fee': ['redundancy', 'snapshot_gb'], 'app_service_fee': ['region', 'app_service_instances']} {'usage_hours': DomainVariable(name='usage_hours', description='Total runtime in hours over the billing window', unit='hours', data_type=<class 'float'>), 'region': DomainVariable(name='region', description='Azure region where resources are deployed', unit='region', data_type=<class 'str'>), 'disk_size_gb': DomainVariable(name='disk_size_gb', description='Size of each managed disk', unit='GB', data_type=<class 'int'>), 'data_ingress_gb': DomainVariable(name='data_ingress_gb', description='Inbound data transferred to Azure', unit='GB', data_type=<class 'float'>), 'public_ip_count': DomainVariable(name='public_ip_count', description='Number of public IP addresses allocated', unit='IPs', data_type=<class 'int'>), 'service_tier': DomainVariable(name='service_tier', description='Service tier for managed services', unit='tier', data_type=<class 'str'>), 'load_balancer_rules': DomainVariable(name='load_balancer_rules', description='Configured load balancer rules', unit='rules', data_type=<class 'int'>), 'kubernetes_node_count': DomainVariable(name='kubernetes_node_count', description='Number of AKS nodes in the cluster', unit='nodes', data_type=<class 'int'>), 'function_executions': DomainVariable(name='function_executions', description='Number of serverless function calls', unit='invocations', data_type=<class 'int'>), 'sql_vcores': DomainVariable(name='sql_vcores', description='vCore count for Azure SQL', unit='vCores', data_type=<class 'int'>), 'redundancy': DomainVariable(name='redundancy', description='Storage redundancy configuration', unit='redundancy', data_type=<class 'str'>), 'snapshot_gb': DomainVariable(name='snapshot_gb', description='Total snapshot storage size', unit='GB', data_type=<class 'float'>), 'app_service_instances': DomainVariable(name='app_service_instances', description='Count of App Service instances', unit='instances', data_type=<class 'int'>)}\n",
      "--- Building graph for charge category: 'data_ingress_fee' ---\n",
      "Execution time for 'build': 481.1572 seconds\n",
      "Calculate the total storage_transaction_fee. Charge description - Charge for storage account transactions and redundancy level. storage_transaction_fee {'compute_vm_fee': ['usage_hours'], 'gpu_compute_fee': ['region', 'usage_hours'], 'managed_disk_fee': ['disk_size_gb'], 'data_egress_fee': ['region'], 'data_ingress_fee': ['region', 'data_ingress_gb'], 'storage_transaction_fee': ['region'], 'public_ip_fee': ['region', 'public_ip_count'], 'load_balancer_fee': ['service_tier', 'load_balancer_rules'], 'aks_cluster_fee': ['region', 'kubernetes_node_count'], 'function_app_fee': ['region', 'function_executions'], 'sql_database_fee': ['service_tier', 'sql_vcores'], 'snapshot_storage_fee': ['redundancy', 'snapshot_gb'], 'app_service_fee': ['region', 'app_service_instances']} {'usage_hours': DomainVariable(name='usage_hours', description='Total runtime in hours over the billing window', unit='hours', data_type=<class 'float'>), 'region': DomainVariable(name='region', description='Azure region where resources are deployed', unit='region', data_type=<class 'str'>), 'disk_size_gb': DomainVariable(name='disk_size_gb', description='Size of each managed disk', unit='GB', data_type=<class 'int'>), 'data_ingress_gb': DomainVariable(name='data_ingress_gb', description='Inbound data transferred to Azure', unit='GB', data_type=<class 'float'>), 'public_ip_count': DomainVariable(name='public_ip_count', description='Number of public IP addresses allocated', unit='IPs', data_type=<class 'int'>), 'service_tier': DomainVariable(name='service_tier', description='Service tier for managed services', unit='tier', data_type=<class 'str'>), 'load_balancer_rules': DomainVariable(name='load_balancer_rules', description='Configured load balancer rules', unit='rules', data_type=<class 'int'>), 'kubernetes_node_count': DomainVariable(name='kubernetes_node_count', description='Number of AKS nodes in the cluster', unit='nodes', data_type=<class 'int'>), 'function_executions': DomainVariable(name='function_executions', description='Number of serverless function calls', unit='invocations', data_type=<class 'int'>), 'sql_vcores': DomainVariable(name='sql_vcores', description='vCore count for Azure SQL', unit='vCores', data_type=<class 'int'>), 'redundancy': DomainVariable(name='redundancy', description='Storage redundancy configuration', unit='redundancy', data_type=<class 'str'>), 'snapshot_gb': DomainVariable(name='snapshot_gb', description='Total snapshot storage size', unit='GB', data_type=<class 'float'>), 'app_service_instances': DomainVariable(name='app_service_instances', description='Count of App Service instances', unit='instances', data_type=<class 'int'>)}\n",
      "--- Building graph for charge category: 'storage_transaction_fee' ---\n",
      "Execution time for 'build': 421.6799 seconds\n",
      "Calculate the total public_ip_fee. Charge description - Charge for public IP addresses allocated. public_ip_fee {'compute_vm_fee': ['usage_hours'], 'gpu_compute_fee': ['region', 'usage_hours'], 'managed_disk_fee': ['disk_size_gb'], 'data_egress_fee': ['region'], 'data_ingress_fee': ['region', 'data_ingress_gb'], 'storage_transaction_fee': ['region'], 'public_ip_fee': ['region', 'public_ip_count'], 'load_balancer_fee': ['service_tier', 'load_balancer_rules'], 'aks_cluster_fee': ['region', 'kubernetes_node_count'], 'function_app_fee': ['region', 'function_executions'], 'sql_database_fee': ['service_tier', 'sql_vcores'], 'snapshot_storage_fee': ['redundancy', 'snapshot_gb'], 'app_service_fee': ['region', 'app_service_instances']} {'usage_hours': DomainVariable(name='usage_hours', description='Total runtime in hours over the billing window', unit='hours', data_type=<class 'float'>), 'region': DomainVariable(name='region', description='Azure region where resources are deployed', unit='region', data_type=<class 'str'>), 'disk_size_gb': DomainVariable(name='disk_size_gb', description='Size of each managed disk', unit='GB', data_type=<class 'int'>), 'data_ingress_gb': DomainVariable(name='data_ingress_gb', description='Inbound data transferred to Azure', unit='GB', data_type=<class 'float'>), 'public_ip_count': DomainVariable(name='public_ip_count', description='Number of public IP addresses allocated', unit='IPs', data_type=<class 'int'>), 'service_tier': DomainVariable(name='service_tier', description='Service tier for managed services', unit='tier', data_type=<class 'str'>), 'load_balancer_rules': DomainVariable(name='load_balancer_rules', description='Configured load balancer rules', unit='rules', data_type=<class 'int'>), 'kubernetes_node_count': DomainVariable(name='kubernetes_node_count', description='Number of AKS nodes in the cluster', unit='nodes', data_type=<class 'int'>), 'function_executions': DomainVariable(name='function_executions', description='Number of serverless function calls', unit='invocations', data_type=<class 'int'>), 'sql_vcores': DomainVariable(name='sql_vcores', description='vCore count for Azure SQL', unit='vCores', data_type=<class 'int'>), 'redundancy': DomainVariable(name='redundancy', description='Storage redundancy configuration', unit='redundancy', data_type=<class 'str'>), 'snapshot_gb': DomainVariable(name='snapshot_gb', description='Total snapshot storage size', unit='GB', data_type=<class 'float'>), 'app_service_instances': DomainVariable(name='app_service_instances', description='Count of App Service instances', unit='instances', data_type=<class 'int'>)}\n",
      "--- Building graph for charge category: 'public_ip_fee' ---\n",
      "Execution time for 'build': 481.7480 seconds\n",
      "Calculate the total load_balancer_fee. Charge description - Charge for load balancer rules and tier. load_balancer_fee {'compute_vm_fee': ['usage_hours'], 'gpu_compute_fee': ['region', 'usage_hours'], 'managed_disk_fee': ['disk_size_gb'], 'data_egress_fee': ['region'], 'data_ingress_fee': ['region', 'data_ingress_gb'], 'storage_transaction_fee': ['region'], 'public_ip_fee': ['region', 'public_ip_count'], 'load_balancer_fee': ['service_tier', 'load_balancer_rules'], 'aks_cluster_fee': ['region', 'kubernetes_node_count'], 'function_app_fee': ['region', 'function_executions'], 'sql_database_fee': ['service_tier', 'sql_vcores'], 'snapshot_storage_fee': ['redundancy', 'snapshot_gb'], 'app_service_fee': ['region', 'app_service_instances']} {'usage_hours': DomainVariable(name='usage_hours', description='Total runtime in hours over the billing window', unit='hours', data_type=<class 'float'>), 'region': DomainVariable(name='region', description='Azure region where resources are deployed', unit='region', data_type=<class 'str'>), 'disk_size_gb': DomainVariable(name='disk_size_gb', description='Size of each managed disk', unit='GB', data_type=<class 'int'>), 'data_ingress_gb': DomainVariable(name='data_ingress_gb', description='Inbound data transferred to Azure', unit='GB', data_type=<class 'float'>), 'public_ip_count': DomainVariable(name='public_ip_count', description='Number of public IP addresses allocated', unit='IPs', data_type=<class 'int'>), 'service_tier': DomainVariable(name='service_tier', description='Service tier for managed services', unit='tier', data_type=<class 'str'>), 'load_balancer_rules': DomainVariable(name='load_balancer_rules', description='Configured load balancer rules', unit='rules', data_type=<class 'int'>), 'kubernetes_node_count': DomainVariable(name='kubernetes_node_count', description='Number of AKS nodes in the cluster', unit='nodes', data_type=<class 'int'>), 'function_executions': DomainVariable(name='function_executions', description='Number of serverless function calls', unit='invocations', data_type=<class 'int'>), 'sql_vcores': DomainVariable(name='sql_vcores', description='vCore count for Azure SQL', unit='vCores', data_type=<class 'int'>), 'redundancy': DomainVariable(name='redundancy', description='Storage redundancy configuration', unit='redundancy', data_type=<class 'str'>), 'snapshot_gb': DomainVariable(name='snapshot_gb', description='Total snapshot storage size', unit='GB', data_type=<class 'float'>), 'app_service_instances': DomainVariable(name='app_service_instances', description='Count of App Service instances', unit='instances', data_type=<class 'int'>)}\n",
      "--- Building graph for charge category: 'load_balancer_fee' ---\n",
      "Execution time for 'build': 481.7925 seconds\n",
      "Calculate the total aks_cluster_fee. Charge description - Charge for AKS clusters based on node count and type. aks_cluster_fee {'compute_vm_fee': ['usage_hours'], 'gpu_compute_fee': ['region', 'usage_hours'], 'managed_disk_fee': ['disk_size_gb'], 'data_egress_fee': ['region'], 'data_ingress_fee': ['region', 'data_ingress_gb'], 'storage_transaction_fee': ['region'], 'public_ip_fee': ['region', 'public_ip_count'], 'load_balancer_fee': ['service_tier', 'load_balancer_rules'], 'aks_cluster_fee': ['region', 'kubernetes_node_count'], 'function_app_fee': ['region', 'function_executions'], 'sql_database_fee': ['service_tier', 'sql_vcores'], 'snapshot_storage_fee': ['redundancy', 'snapshot_gb'], 'app_service_fee': ['region', 'app_service_instances']} {'usage_hours': DomainVariable(name='usage_hours', description='Total runtime in hours over the billing window', unit='hours', data_type=<class 'float'>), 'region': DomainVariable(name='region', description='Azure region where resources are deployed', unit='region', data_type=<class 'str'>), 'disk_size_gb': DomainVariable(name='disk_size_gb', description='Size of each managed disk', unit='GB', data_type=<class 'int'>), 'data_ingress_gb': DomainVariable(name='data_ingress_gb', description='Inbound data transferred to Azure', unit='GB', data_type=<class 'float'>), 'public_ip_count': DomainVariable(name='public_ip_count', description='Number of public IP addresses allocated', unit='IPs', data_type=<class 'int'>), 'service_tier': DomainVariable(name='service_tier', description='Service tier for managed services', unit='tier', data_type=<class 'str'>), 'load_balancer_rules': DomainVariable(name='load_balancer_rules', description='Configured load balancer rules', unit='rules', data_type=<class 'int'>), 'kubernetes_node_count': DomainVariable(name='kubernetes_node_count', description='Number of AKS nodes in the cluster', unit='nodes', data_type=<class 'int'>), 'function_executions': DomainVariable(name='function_executions', description='Number of serverless function calls', unit='invocations', data_type=<class 'int'>), 'sql_vcores': DomainVariable(name='sql_vcores', description='vCore count for Azure SQL', unit='vCores', data_type=<class 'int'>), 'redundancy': DomainVariable(name='redundancy', description='Storage redundancy configuration', unit='redundancy', data_type=<class 'str'>), 'snapshot_gb': DomainVariable(name='snapshot_gb', description='Total snapshot storage size', unit='GB', data_type=<class 'float'>), 'app_service_instances': DomainVariable(name='app_service_instances', description='Count of App Service instances', unit='instances', data_type=<class 'int'>)}\n",
      "--- Building graph for charge category: 'aks_cluster_fee' ---\n",
      "Execution time for 'build': 483.1457 seconds\n",
      "Calculate the total function_app_fee. Charge description - Charge for serverless executions and execution time. function_app_fee {'compute_vm_fee': ['usage_hours'], 'gpu_compute_fee': ['region', 'usage_hours'], 'managed_disk_fee': ['disk_size_gb'], 'data_egress_fee': ['region'], 'data_ingress_fee': ['region', 'data_ingress_gb'], 'storage_transaction_fee': ['region'], 'public_ip_fee': ['region', 'public_ip_count'], 'load_balancer_fee': ['service_tier', 'load_balancer_rules'], 'aks_cluster_fee': ['region', 'kubernetes_node_count'], 'function_app_fee': ['region', 'function_executions'], 'sql_database_fee': ['service_tier', 'sql_vcores'], 'snapshot_storage_fee': ['redundancy', 'snapshot_gb'], 'app_service_fee': ['region', 'app_service_instances']} {'usage_hours': DomainVariable(name='usage_hours', description='Total runtime in hours over the billing window', unit='hours', data_type=<class 'float'>), 'region': DomainVariable(name='region', description='Azure region where resources are deployed', unit='region', data_type=<class 'str'>), 'disk_size_gb': DomainVariable(name='disk_size_gb', description='Size of each managed disk', unit='GB', data_type=<class 'int'>), 'data_ingress_gb': DomainVariable(name='data_ingress_gb', description='Inbound data transferred to Azure', unit='GB', data_type=<class 'float'>), 'public_ip_count': DomainVariable(name='public_ip_count', description='Number of public IP addresses allocated', unit='IPs', data_type=<class 'int'>), 'service_tier': DomainVariable(name='service_tier', description='Service tier for managed services', unit='tier', data_type=<class 'str'>), 'load_balancer_rules': DomainVariable(name='load_balancer_rules', description='Configured load balancer rules', unit='rules', data_type=<class 'int'>), 'kubernetes_node_count': DomainVariable(name='kubernetes_node_count', description='Number of AKS nodes in the cluster', unit='nodes', data_type=<class 'int'>), 'function_executions': DomainVariable(name='function_executions', description='Number of serverless function calls', unit='invocations', data_type=<class 'int'>), 'sql_vcores': DomainVariable(name='sql_vcores', description='vCore count for Azure SQL', unit='vCores', data_type=<class 'int'>), 'redundancy': DomainVariable(name='redundancy', description='Storage redundancy configuration', unit='redundancy', data_type=<class 'str'>), 'snapshot_gb': DomainVariable(name='snapshot_gb', description='Total snapshot storage size', unit='GB', data_type=<class 'float'>), 'app_service_instances': DomainVariable(name='app_service_instances', description='Count of App Service instances', unit='instances', data_type=<class 'int'>)}\n",
      "--- Building graph for charge category: 'function_app_fee' ---\n",
      "Execution time for 'build': 194.5205 seconds\n",
      "Calculate the total sql_database_fee. Charge description - Charge for Azure SQL based on vCores, storage, and retention. sql_database_fee {'compute_vm_fee': ['usage_hours'], 'gpu_compute_fee': ['region', 'usage_hours'], 'managed_disk_fee': ['disk_size_gb'], 'data_egress_fee': ['region'], 'data_ingress_fee': ['region', 'data_ingress_gb'], 'storage_transaction_fee': ['region'], 'public_ip_fee': ['region', 'public_ip_count'], 'load_balancer_fee': ['service_tier', 'load_balancer_rules'], 'aks_cluster_fee': ['region', 'kubernetes_node_count'], 'function_app_fee': ['region', 'function_executions'], 'sql_database_fee': ['service_tier', 'sql_vcores'], 'snapshot_storage_fee': ['redundancy', 'snapshot_gb'], 'app_service_fee': ['region', 'app_service_instances']} {'usage_hours': DomainVariable(name='usage_hours', description='Total runtime in hours over the billing window', unit='hours', data_type=<class 'float'>), 'region': DomainVariable(name='region', description='Azure region where resources are deployed', unit='region', data_type=<class 'str'>), 'disk_size_gb': DomainVariable(name='disk_size_gb', description='Size of each managed disk', unit='GB', data_type=<class 'int'>), 'data_ingress_gb': DomainVariable(name='data_ingress_gb', description='Inbound data transferred to Azure', unit='GB', data_type=<class 'float'>), 'public_ip_count': DomainVariable(name='public_ip_count', description='Number of public IP addresses allocated', unit='IPs', data_type=<class 'int'>), 'service_tier': DomainVariable(name='service_tier', description='Service tier for managed services', unit='tier', data_type=<class 'str'>), 'load_balancer_rules': DomainVariable(name='load_balancer_rules', description='Configured load balancer rules', unit='rules', data_type=<class 'int'>), 'kubernetes_node_count': DomainVariable(name='kubernetes_node_count', description='Number of AKS nodes in the cluster', unit='nodes', data_type=<class 'int'>), 'function_executions': DomainVariable(name='function_executions', description='Number of serverless function calls', unit='invocations', data_type=<class 'int'>), 'sql_vcores': DomainVariable(name='sql_vcores', description='vCore count for Azure SQL', unit='vCores', data_type=<class 'int'>), 'redundancy': DomainVariable(name='redundancy', description='Storage redundancy configuration', unit='redundancy', data_type=<class 'str'>), 'snapshot_gb': DomainVariable(name='snapshot_gb', description='Total snapshot storage size', unit='GB', data_type=<class 'float'>), 'app_service_instances': DomainVariable(name='app_service_instances', description='Count of App Service instances', unit='instances', data_type=<class 'int'>)}\n",
      "--- Building graph for charge category: 'sql_database_fee' ---\n",
      "Execution time for 'build': 400.8729 seconds\n",
      "Calculate the total snapshot_storage_fee. Charge description - Charge for snapshot storage volume and redundancy. snapshot_storage_fee {'compute_vm_fee': ['usage_hours'], 'gpu_compute_fee': ['region', 'usage_hours'], 'managed_disk_fee': ['disk_size_gb'], 'data_egress_fee': ['region'], 'data_ingress_fee': ['region', 'data_ingress_gb'], 'storage_transaction_fee': ['region'], 'public_ip_fee': ['region', 'public_ip_count'], 'load_balancer_fee': ['service_tier', 'load_balancer_rules'], 'aks_cluster_fee': ['region', 'kubernetes_node_count'], 'function_app_fee': ['region', 'function_executions'], 'sql_database_fee': ['service_tier', 'sql_vcores'], 'snapshot_storage_fee': ['redundancy', 'snapshot_gb'], 'app_service_fee': ['region', 'app_service_instances']} {'usage_hours': DomainVariable(name='usage_hours', description='Total runtime in hours over the billing window', unit='hours', data_type=<class 'float'>), 'region': DomainVariable(name='region', description='Azure region where resources are deployed', unit='region', data_type=<class 'str'>), 'disk_size_gb': DomainVariable(name='disk_size_gb', description='Size of each managed disk', unit='GB', data_type=<class 'int'>), 'data_ingress_gb': DomainVariable(name='data_ingress_gb', description='Inbound data transferred to Azure', unit='GB', data_type=<class 'float'>), 'public_ip_count': DomainVariable(name='public_ip_count', description='Number of public IP addresses allocated', unit='IPs', data_type=<class 'int'>), 'service_tier': DomainVariable(name='service_tier', description='Service tier for managed services', unit='tier', data_type=<class 'str'>), 'load_balancer_rules': DomainVariable(name='load_balancer_rules', description='Configured load balancer rules', unit='rules', data_type=<class 'int'>), 'kubernetes_node_count': DomainVariable(name='kubernetes_node_count', description='Number of AKS nodes in the cluster', unit='nodes', data_type=<class 'int'>), 'function_executions': DomainVariable(name='function_executions', description='Number of serverless function calls', unit='invocations', data_type=<class 'int'>), 'sql_vcores': DomainVariable(name='sql_vcores', description='vCore count for Azure SQL', unit='vCores', data_type=<class 'int'>), 'redundancy': DomainVariable(name='redundancy', description='Storage redundancy configuration', unit='redundancy', data_type=<class 'str'>), 'snapshot_gb': DomainVariable(name='snapshot_gb', description='Total snapshot storage size', unit='GB', data_type=<class 'float'>), 'app_service_instances': DomainVariable(name='app_service_instances', description='Count of App Service instances', unit='instances', data_type=<class 'int'>)}\n",
      "--- Building graph for charge category: 'snapshot_storage_fee' ---\n",
      "Execution time for 'build': 479.0061 seconds\n",
      "Calculate the total app_service_fee. Charge description - Charge for App Service instances and tier. app_service_fee {'compute_vm_fee': ['usage_hours'], 'gpu_compute_fee': ['region', 'usage_hours'], 'managed_disk_fee': ['disk_size_gb'], 'data_egress_fee': ['region'], 'data_ingress_fee': ['region', 'data_ingress_gb'], 'storage_transaction_fee': ['region'], 'public_ip_fee': ['region', 'public_ip_count'], 'load_balancer_fee': ['service_tier', 'load_balancer_rules'], 'aks_cluster_fee': ['region', 'kubernetes_node_count'], 'function_app_fee': ['region', 'function_executions'], 'sql_database_fee': ['service_tier', 'sql_vcores'], 'snapshot_storage_fee': ['redundancy', 'snapshot_gb'], 'app_service_fee': ['region', 'app_service_instances']} {'usage_hours': DomainVariable(name='usage_hours', description='Total runtime in hours over the billing window', unit='hours', data_type=<class 'float'>), 'region': DomainVariable(name='region', description='Azure region where resources are deployed', unit='region', data_type=<class 'str'>), 'disk_size_gb': DomainVariable(name='disk_size_gb', description='Size of each managed disk', unit='GB', data_type=<class 'int'>), 'data_ingress_gb': DomainVariable(name='data_ingress_gb', description='Inbound data transferred to Azure', unit='GB', data_type=<class 'float'>), 'public_ip_count': DomainVariable(name='public_ip_count', description='Number of public IP addresses allocated', unit='IPs', data_type=<class 'int'>), 'service_tier': DomainVariable(name='service_tier', description='Service tier for managed services', unit='tier', data_type=<class 'str'>), 'load_balancer_rules': DomainVariable(name='load_balancer_rules', description='Configured load balancer rules', unit='rules', data_type=<class 'int'>), 'kubernetes_node_count': DomainVariable(name='kubernetes_node_count', description='Number of AKS nodes in the cluster', unit='nodes', data_type=<class 'int'>), 'function_executions': DomainVariable(name='function_executions', description='Number of serverless function calls', unit='invocations', data_type=<class 'int'>), 'sql_vcores': DomainVariable(name='sql_vcores', description='vCore count for Azure SQL', unit='vCores', data_type=<class 'int'>), 'redundancy': DomainVariable(name='redundancy', description='Storage redundancy configuration', unit='redundancy', data_type=<class 'str'>), 'snapshot_gb': DomainVariable(name='snapshot_gb', description='Total snapshot storage size', unit='GB', data_type=<class 'float'>), 'app_service_instances': DomainVariable(name='app_service_instances', description='Count of App Service instances', unit='instances', data_type=<class 'int'>)}\n",
      "--- Building graph for charge category: 'app_service_fee' ---\n",
      "Execution time for 'build': 477.4700 seconds\n",
      "Calculate the total compute_vm_fee. Charge description - Charge for running virtual machines based on vCPU, memory, OS, and commitment. compute_vm_fee {'compute_vm_fee': ['os_type', 'memory_gb'], 'gpu_compute_fee': ['gpu_count'], 'managed_disk_fee': ['disk_type', 'managed_disk_count'], 'data_egress_fee': ['region', 'data_egress_gb'], 'data_ingress_fee': ['region', 'data_ingress_gb'], 'storage_transaction_fee': ['redundancy'], 'public_ip_fee': ['region', 'public_ip_count'], 'load_balancer_fee': ['service_tier'], 'aks_cluster_fee': ['kubernetes_node_type'], 'function_app_fee': ['region', 'function_executions'], 'sql_database_fee': ['service_tier', 'sql_vcores'], 'snapshot_storage_fee': ['region'], 'app_service_fee': ['region']} {'os_type': DomainVariable(name='os_type', description='Operating system for the compute workload', unit='os', data_type=<class 'str'>), 'memory_gb': DomainVariable(name='memory_gb', description='Amount of memory allocated to the instance', unit='GiB', data_type=<class 'float'>), 'gpu_count': DomainVariable(name='gpu_count', description='Number of GPUs attached to the instance', unit='GPUs', data_type=<class 'int'>), 'disk_type': DomainVariable(name='disk_type', description='Managed disk performance tier', unit='disk type', data_type=<class 'str'>), 'managed_disk_count': DomainVariable(name='managed_disk_count', description='Count of managed disks attached', unit='disks', data_type=<class 'int'>), 'region': DomainVariable(name='region', description='Azure region where resources are deployed', unit='region', data_type=<class 'str'>), 'data_egress_gb': DomainVariable(name='data_egress_gb', description='Outbound data transferred from Azure', unit='GB', data_type=<class 'float'>), 'data_ingress_gb': DomainVariable(name='data_ingress_gb', description='Inbound data transferred to Azure', unit='GB', data_type=<class 'float'>), 'redundancy': DomainVariable(name='redundancy', description='Storage redundancy configuration', unit='redundancy', data_type=<class 'str'>), 'public_ip_count': DomainVariable(name='public_ip_count', description='Number of public IP addresses allocated', unit='IPs', data_type=<class 'int'>), 'service_tier': DomainVariable(name='service_tier', description='Service tier for managed services', unit='tier', data_type=<class 'str'>), 'kubernetes_node_type': DomainVariable(name='kubernetes_node_type', description='AKS node pool type', unit='node type', data_type=<class 'str'>), 'function_executions': DomainVariable(name='function_executions', description='Number of serverless function calls', unit='invocations', data_type=<class 'int'>), 'sql_vcores': DomainVariable(name='sql_vcores', description='vCore count for Azure SQL', unit='vCores', data_type=<class 'int'>)}\n",
      "--- Building graph for charge category: 'compute_vm_fee' ---\n",
      "Execution time for 'build': 309.7237 seconds\n",
      "Calculate the total gpu_compute_fee. Charge description - Charge for GPU-enabled compute usage. gpu_compute_fee {'compute_vm_fee': ['os_type', 'memory_gb'], 'gpu_compute_fee': ['gpu_count'], 'managed_disk_fee': ['disk_type', 'managed_disk_count'], 'data_egress_fee': ['region', 'data_egress_gb'], 'data_ingress_fee': ['region', 'data_ingress_gb'], 'storage_transaction_fee': ['redundancy'], 'public_ip_fee': ['region', 'public_ip_count'], 'load_balancer_fee': ['service_tier'], 'aks_cluster_fee': ['kubernetes_node_type'], 'function_app_fee': ['region', 'function_executions'], 'sql_database_fee': ['service_tier', 'sql_vcores'], 'snapshot_storage_fee': ['region'], 'app_service_fee': ['region']} {'os_type': DomainVariable(name='os_type', description='Operating system for the compute workload', unit='os', data_type=<class 'str'>), 'memory_gb': DomainVariable(name='memory_gb', description='Amount of memory allocated to the instance', unit='GiB', data_type=<class 'float'>), 'gpu_count': DomainVariable(name='gpu_count', description='Number of GPUs attached to the instance', unit='GPUs', data_type=<class 'int'>), 'disk_type': DomainVariable(name='disk_type', description='Managed disk performance tier', unit='disk type', data_type=<class 'str'>), 'managed_disk_count': DomainVariable(name='managed_disk_count', description='Count of managed disks attached', unit='disks', data_type=<class 'int'>), 'region': DomainVariable(name='region', description='Azure region where resources are deployed', unit='region', data_type=<class 'str'>), 'data_egress_gb': DomainVariable(name='data_egress_gb', description='Outbound data transferred from Azure', unit='GB', data_type=<class 'float'>), 'data_ingress_gb': DomainVariable(name='data_ingress_gb', description='Inbound data transferred to Azure', unit='GB', data_type=<class 'float'>), 'redundancy': DomainVariable(name='redundancy', description='Storage redundancy configuration', unit='redundancy', data_type=<class 'str'>), 'public_ip_count': DomainVariable(name='public_ip_count', description='Number of public IP addresses allocated', unit='IPs', data_type=<class 'int'>), 'service_tier': DomainVariable(name='service_tier', description='Service tier for managed services', unit='tier', data_type=<class 'str'>), 'kubernetes_node_type': DomainVariable(name='kubernetes_node_type', description='AKS node pool type', unit='node type', data_type=<class 'str'>), 'function_executions': DomainVariable(name='function_executions', description='Number of serverless function calls', unit='invocations', data_type=<class 'int'>), 'sql_vcores': DomainVariable(name='sql_vcores', description='vCore count for Azure SQL', unit='vCores', data_type=<class 'int'>)}\n",
      "--- Building graph for charge category: 'gpu_compute_fee' ---\n",
      "Execution time for 'build': 275.2136 seconds\n",
      "Calculate the total managed_disk_fee. Charge description - Charge for managed disks based on type, size, and count. managed_disk_fee {'compute_vm_fee': ['os_type', 'memory_gb'], 'gpu_compute_fee': ['gpu_count'], 'managed_disk_fee': ['disk_type', 'managed_disk_count'], 'data_egress_fee': ['region', 'data_egress_gb'], 'data_ingress_fee': ['region', 'data_ingress_gb'], 'storage_transaction_fee': ['redundancy'], 'public_ip_fee': ['region', 'public_ip_count'], 'load_balancer_fee': ['service_tier'], 'aks_cluster_fee': ['kubernetes_node_type'], 'function_app_fee': ['region', 'function_executions'], 'sql_database_fee': ['service_tier', 'sql_vcores'], 'snapshot_storage_fee': ['region'], 'app_service_fee': ['region']} {'os_type': DomainVariable(name='os_type', description='Operating system for the compute workload', unit='os', data_type=<class 'str'>), 'memory_gb': DomainVariable(name='memory_gb', description='Amount of memory allocated to the instance', unit='GiB', data_type=<class 'float'>), 'gpu_count': DomainVariable(name='gpu_count', description='Number of GPUs attached to the instance', unit='GPUs', data_type=<class 'int'>), 'disk_type': DomainVariable(name='disk_type', description='Managed disk performance tier', unit='disk type', data_type=<class 'str'>), 'managed_disk_count': DomainVariable(name='managed_disk_count', description='Count of managed disks attached', unit='disks', data_type=<class 'int'>), 'region': DomainVariable(name='region', description='Azure region where resources are deployed', unit='region', data_type=<class 'str'>), 'data_egress_gb': DomainVariable(name='data_egress_gb', description='Outbound data transferred from Azure', unit='GB', data_type=<class 'float'>), 'data_ingress_gb': DomainVariable(name='data_ingress_gb', description='Inbound data transferred to Azure', unit='GB', data_type=<class 'float'>), 'redundancy': DomainVariable(name='redundancy', description='Storage redundancy configuration', unit='redundancy', data_type=<class 'str'>), 'public_ip_count': DomainVariable(name='public_ip_count', description='Number of public IP addresses allocated', unit='IPs', data_type=<class 'int'>), 'service_tier': DomainVariable(name='service_tier', description='Service tier for managed services', unit='tier', data_type=<class 'str'>), 'kubernetes_node_type': DomainVariable(name='kubernetes_node_type', description='AKS node pool type', unit='node type', data_type=<class 'str'>), 'function_executions': DomainVariable(name='function_executions', description='Number of serverless function calls', unit='invocations', data_type=<class 'int'>), 'sql_vcores': DomainVariable(name='sql_vcores', description='vCore count for Azure SQL', unit='vCores', data_type=<class 'int'>)}\n",
      "--- Building graph for charge category: 'managed_disk_fee' ---\n",
      "Execution time for 'build': 536.4923 seconds\n",
      "Calculate the total data_egress_fee. Charge description - Charge for data leaving Azure regions. data_egress_fee {'compute_vm_fee': ['os_type', 'memory_gb'], 'gpu_compute_fee': ['gpu_count'], 'managed_disk_fee': ['disk_type', 'managed_disk_count'], 'data_egress_fee': ['region', 'data_egress_gb'], 'data_ingress_fee': ['region', 'data_ingress_gb'], 'storage_transaction_fee': ['redundancy'], 'public_ip_fee': ['region', 'public_ip_count'], 'load_balancer_fee': ['service_tier'], 'aks_cluster_fee': ['kubernetes_node_type'], 'function_app_fee': ['region', 'function_executions'], 'sql_database_fee': ['service_tier', 'sql_vcores'], 'snapshot_storage_fee': ['region'], 'app_service_fee': ['region']} {'os_type': DomainVariable(name='os_type', description='Operating system for the compute workload', unit='os', data_type=<class 'str'>), 'memory_gb': DomainVariable(name='memory_gb', description='Amount of memory allocated to the instance', unit='GiB', data_type=<class 'float'>), 'gpu_count': DomainVariable(name='gpu_count', description='Number of GPUs attached to the instance', unit='GPUs', data_type=<class 'int'>), 'disk_type': DomainVariable(name='disk_type', description='Managed disk performance tier', unit='disk type', data_type=<class 'str'>), 'managed_disk_count': DomainVariable(name='managed_disk_count', description='Count of managed disks attached', unit='disks', data_type=<class 'int'>), 'region': DomainVariable(name='region', description='Azure region where resources are deployed', unit='region', data_type=<class 'str'>), 'data_egress_gb': DomainVariable(name='data_egress_gb', description='Outbound data transferred from Azure', unit='GB', data_type=<class 'float'>), 'data_ingress_gb': DomainVariable(name='data_ingress_gb', description='Inbound data transferred to Azure', unit='GB', data_type=<class 'float'>), 'redundancy': DomainVariable(name='redundancy', description='Storage redundancy configuration', unit='redundancy', data_type=<class 'str'>), 'public_ip_count': DomainVariable(name='public_ip_count', description='Number of public IP addresses allocated', unit='IPs', data_type=<class 'int'>), 'service_tier': DomainVariable(name='service_tier', description='Service tier for managed services', unit='tier', data_type=<class 'str'>), 'kubernetes_node_type': DomainVariable(name='kubernetes_node_type', description='AKS node pool type', unit='node type', data_type=<class 'str'>), 'function_executions': DomainVariable(name='function_executions', description='Number of serverless function calls', unit='invocations', data_type=<class 'int'>), 'sql_vcores': DomainVariable(name='sql_vcores', description='vCore count for Azure SQL', unit='vCores', data_type=<class 'int'>)}\n",
      "--- Building graph for charge category: 'data_egress_fee' ---\n",
      "Execution time for 'build': 489.7603 seconds\n",
      "Calculate the total data_ingress_fee. Charge description - Charge for data entering Azure regions where applicable. data_ingress_fee {'compute_vm_fee': ['os_type', 'memory_gb'], 'gpu_compute_fee': ['gpu_count'], 'managed_disk_fee': ['disk_type', 'managed_disk_count'], 'data_egress_fee': ['region', 'data_egress_gb'], 'data_ingress_fee': ['region', 'data_ingress_gb'], 'storage_transaction_fee': ['redundancy'], 'public_ip_fee': ['region', 'public_ip_count'], 'load_balancer_fee': ['service_tier'], 'aks_cluster_fee': ['kubernetes_node_type'], 'function_app_fee': ['region', 'function_executions'], 'sql_database_fee': ['service_tier', 'sql_vcores'], 'snapshot_storage_fee': ['region'], 'app_service_fee': ['region']} {'os_type': DomainVariable(name='os_type', description='Operating system for the compute workload', unit='os', data_type=<class 'str'>), 'memory_gb': DomainVariable(name='memory_gb', description='Amount of memory allocated to the instance', unit='GiB', data_type=<class 'float'>), 'gpu_count': DomainVariable(name='gpu_count', description='Number of GPUs attached to the instance', unit='GPUs', data_type=<class 'int'>), 'disk_type': DomainVariable(name='disk_type', description='Managed disk performance tier', unit='disk type', data_type=<class 'str'>), 'managed_disk_count': DomainVariable(name='managed_disk_count', description='Count of managed disks attached', unit='disks', data_type=<class 'int'>), 'region': DomainVariable(name='region', description='Azure region where resources are deployed', unit='region', data_type=<class 'str'>), 'data_egress_gb': DomainVariable(name='data_egress_gb', description='Outbound data transferred from Azure', unit='GB', data_type=<class 'float'>), 'data_ingress_gb': DomainVariable(name='data_ingress_gb', description='Inbound data transferred to Azure', unit='GB', data_type=<class 'float'>), 'redundancy': DomainVariable(name='redundancy', description='Storage redundancy configuration', unit='redundancy', data_type=<class 'str'>), 'public_ip_count': DomainVariable(name='public_ip_count', description='Number of public IP addresses allocated', unit='IPs', data_type=<class 'int'>), 'service_tier': DomainVariable(name='service_tier', description='Service tier for managed services', unit='tier', data_type=<class 'str'>), 'kubernetes_node_type': DomainVariable(name='kubernetes_node_type', description='AKS node pool type', unit='node type', data_type=<class 'str'>), 'function_executions': DomainVariable(name='function_executions', description='Number of serverless function calls', unit='invocations', data_type=<class 'int'>), 'sql_vcores': DomainVariable(name='sql_vcores', description='vCore count for Azure SQL', unit='vCores', data_type=<class 'int'>)}\n",
      "--- Building graph for charge category: 'data_ingress_fee' ---\n",
      "Execution time for 'build': 520.9813 seconds\n",
      "Calculate the total storage_transaction_fee. Charge description - Charge for storage account transactions and redundancy level. storage_transaction_fee {'compute_vm_fee': ['os_type', 'memory_gb'], 'gpu_compute_fee': ['gpu_count'], 'managed_disk_fee': ['disk_type', 'managed_disk_count'], 'data_egress_fee': ['region', 'data_egress_gb'], 'data_ingress_fee': ['region', 'data_ingress_gb'], 'storage_transaction_fee': ['redundancy'], 'public_ip_fee': ['region', 'public_ip_count'], 'load_balancer_fee': ['service_tier'], 'aks_cluster_fee': ['kubernetes_node_type'], 'function_app_fee': ['region', 'function_executions'], 'sql_database_fee': ['service_tier', 'sql_vcores'], 'snapshot_storage_fee': ['region'], 'app_service_fee': ['region']} {'os_type': DomainVariable(name='os_type', description='Operating system for the compute workload', unit='os', data_type=<class 'str'>), 'memory_gb': DomainVariable(name='memory_gb', description='Amount of memory allocated to the instance', unit='GiB', data_type=<class 'float'>), 'gpu_count': DomainVariable(name='gpu_count', description='Number of GPUs attached to the instance', unit='GPUs', data_type=<class 'int'>), 'disk_type': DomainVariable(name='disk_type', description='Managed disk performance tier', unit='disk type', data_type=<class 'str'>), 'managed_disk_count': DomainVariable(name='managed_disk_count', description='Count of managed disks attached', unit='disks', data_type=<class 'int'>), 'region': DomainVariable(name='region', description='Azure region where resources are deployed', unit='region', data_type=<class 'str'>), 'data_egress_gb': DomainVariable(name='data_egress_gb', description='Outbound data transferred from Azure', unit='GB', data_type=<class 'float'>), 'data_ingress_gb': DomainVariable(name='data_ingress_gb', description='Inbound data transferred to Azure', unit='GB', data_type=<class 'float'>), 'redundancy': DomainVariable(name='redundancy', description='Storage redundancy configuration', unit='redundancy', data_type=<class 'str'>), 'public_ip_count': DomainVariable(name='public_ip_count', description='Number of public IP addresses allocated', unit='IPs', data_type=<class 'int'>), 'service_tier': DomainVariable(name='service_tier', description='Service tier for managed services', unit='tier', data_type=<class 'str'>), 'kubernetes_node_type': DomainVariable(name='kubernetes_node_type', description='AKS node pool type', unit='node type', data_type=<class 'str'>), 'function_executions': DomainVariable(name='function_executions', description='Number of serverless function calls', unit='invocations', data_type=<class 'int'>), 'sql_vcores': DomainVariable(name='sql_vcores', description='vCore count for Azure SQL', unit='vCores', data_type=<class 'int'>)}\n",
      "--- Building graph for charge category: 'storage_transaction_fee' ---\n",
      "Execution time for 'build': 503.4176 seconds\n",
      "Calculate the total public_ip_fee. Charge description - Charge for public IP addresses allocated. public_ip_fee {'compute_vm_fee': ['os_type', 'memory_gb'], 'gpu_compute_fee': ['gpu_count'], 'managed_disk_fee': ['disk_type', 'managed_disk_count'], 'data_egress_fee': ['region', 'data_egress_gb'], 'data_ingress_fee': ['region', 'data_ingress_gb'], 'storage_transaction_fee': ['redundancy'], 'public_ip_fee': ['region', 'public_ip_count'], 'load_balancer_fee': ['service_tier'], 'aks_cluster_fee': ['kubernetes_node_type'], 'function_app_fee': ['region', 'function_executions'], 'sql_database_fee': ['service_tier', 'sql_vcores'], 'snapshot_storage_fee': ['region'], 'app_service_fee': ['region']} {'os_type': DomainVariable(name='os_type', description='Operating system for the compute workload', unit='os', data_type=<class 'str'>), 'memory_gb': DomainVariable(name='memory_gb', description='Amount of memory allocated to the instance', unit='GiB', data_type=<class 'float'>), 'gpu_count': DomainVariable(name='gpu_count', description='Number of GPUs attached to the instance', unit='GPUs', data_type=<class 'int'>), 'disk_type': DomainVariable(name='disk_type', description='Managed disk performance tier', unit='disk type', data_type=<class 'str'>), 'managed_disk_count': DomainVariable(name='managed_disk_count', description='Count of managed disks attached', unit='disks', data_type=<class 'int'>), 'region': DomainVariable(name='region', description='Azure region where resources are deployed', unit='region', data_type=<class 'str'>), 'data_egress_gb': DomainVariable(name='data_egress_gb', description='Outbound data transferred from Azure', unit='GB', data_type=<class 'float'>), 'data_ingress_gb': DomainVariable(name='data_ingress_gb', description='Inbound data transferred to Azure', unit='GB', data_type=<class 'float'>), 'redundancy': DomainVariable(name='redundancy', description='Storage redundancy configuration', unit='redundancy', data_type=<class 'str'>), 'public_ip_count': DomainVariable(name='public_ip_count', description='Number of public IP addresses allocated', unit='IPs', data_type=<class 'int'>), 'service_tier': DomainVariable(name='service_tier', description='Service tier for managed services', unit='tier', data_type=<class 'str'>), 'kubernetes_node_type': DomainVariable(name='kubernetes_node_type', description='AKS node pool type', unit='node type', data_type=<class 'str'>), 'function_executions': DomainVariable(name='function_executions', description='Number of serverless function calls', unit='invocations', data_type=<class 'int'>), 'sql_vcores': DomainVariable(name='sql_vcores', description='vCore count for Azure SQL', unit='vCores', data_type=<class 'int'>)}\n",
      "--- Building graph for charge category: 'public_ip_fee' ---\n",
      "Execution time for 'build': 495.4487 seconds\n",
      "Calculate the total load_balancer_fee. Charge description - Charge for load balancer rules and tier. load_balancer_fee {'compute_vm_fee': ['os_type', 'memory_gb'], 'gpu_compute_fee': ['gpu_count'], 'managed_disk_fee': ['disk_type', 'managed_disk_count'], 'data_egress_fee': ['region', 'data_egress_gb'], 'data_ingress_fee': ['region', 'data_ingress_gb'], 'storage_transaction_fee': ['redundancy'], 'public_ip_fee': ['region', 'public_ip_count'], 'load_balancer_fee': ['service_tier'], 'aks_cluster_fee': ['kubernetes_node_type'], 'function_app_fee': ['region', 'function_executions'], 'sql_database_fee': ['service_tier', 'sql_vcores'], 'snapshot_storage_fee': ['region'], 'app_service_fee': ['region']} {'os_type': DomainVariable(name='os_type', description='Operating system for the compute workload', unit='os', data_type=<class 'str'>), 'memory_gb': DomainVariable(name='memory_gb', description='Amount of memory allocated to the instance', unit='GiB', data_type=<class 'float'>), 'gpu_count': DomainVariable(name='gpu_count', description='Number of GPUs attached to the instance', unit='GPUs', data_type=<class 'int'>), 'disk_type': DomainVariable(name='disk_type', description='Managed disk performance tier', unit='disk type', data_type=<class 'str'>), 'managed_disk_count': DomainVariable(name='managed_disk_count', description='Count of managed disks attached', unit='disks', data_type=<class 'int'>), 'region': DomainVariable(name='region', description='Azure region where resources are deployed', unit='region', data_type=<class 'str'>), 'data_egress_gb': DomainVariable(name='data_egress_gb', description='Outbound data transferred from Azure', unit='GB', data_type=<class 'float'>), 'data_ingress_gb': DomainVariable(name='data_ingress_gb', description='Inbound data transferred to Azure', unit='GB', data_type=<class 'float'>), 'redundancy': DomainVariable(name='redundancy', description='Storage redundancy configuration', unit='redundancy', data_type=<class 'str'>), 'public_ip_count': DomainVariable(name='public_ip_count', description='Number of public IP addresses allocated', unit='IPs', data_type=<class 'int'>), 'service_tier': DomainVariable(name='service_tier', description='Service tier for managed services', unit='tier', data_type=<class 'str'>), 'kubernetes_node_type': DomainVariable(name='kubernetes_node_type', description='AKS node pool type', unit='node type', data_type=<class 'str'>), 'function_executions': DomainVariable(name='function_executions', description='Number of serverless function calls', unit='invocations', data_type=<class 'int'>), 'sql_vcores': DomainVariable(name='sql_vcores', description='vCore count for Azure SQL', unit='vCores', data_type=<class 'int'>)}\n",
      "--- Building graph for charge category: 'load_balancer_fee' ---\n",
      "Execution time for 'build': 92.5550 seconds\n",
      "Calculate the total aks_cluster_fee. Charge description - Charge for AKS clusters based on node count and type. aks_cluster_fee {'compute_vm_fee': ['os_type', 'memory_gb'], 'gpu_compute_fee': ['gpu_count'], 'managed_disk_fee': ['disk_type', 'managed_disk_count'], 'data_egress_fee': ['region', 'data_egress_gb'], 'data_ingress_fee': ['region', 'data_ingress_gb'], 'storage_transaction_fee': ['redundancy'], 'public_ip_fee': ['region', 'public_ip_count'], 'load_balancer_fee': ['service_tier'], 'aks_cluster_fee': ['kubernetes_node_type'], 'function_app_fee': ['region', 'function_executions'], 'sql_database_fee': ['service_tier', 'sql_vcores'], 'snapshot_storage_fee': ['region'], 'app_service_fee': ['region']} {'os_type': DomainVariable(name='os_type', description='Operating system for the compute workload', unit='os', data_type=<class 'str'>), 'memory_gb': DomainVariable(name='memory_gb', description='Amount of memory allocated to the instance', unit='GiB', data_type=<class 'float'>), 'gpu_count': DomainVariable(name='gpu_count', description='Number of GPUs attached to the instance', unit='GPUs', data_type=<class 'int'>), 'disk_type': DomainVariable(name='disk_type', description='Managed disk performance tier', unit='disk type', data_type=<class 'str'>), 'managed_disk_count': DomainVariable(name='managed_disk_count', description='Count of managed disks attached', unit='disks', data_type=<class 'int'>), 'region': DomainVariable(name='region', description='Azure region where resources are deployed', unit='region', data_type=<class 'str'>), 'data_egress_gb': DomainVariable(name='data_egress_gb', description='Outbound data transferred from Azure', unit='GB', data_type=<class 'float'>), 'data_ingress_gb': DomainVariable(name='data_ingress_gb', description='Inbound data transferred to Azure', unit='GB', data_type=<class 'float'>), 'redundancy': DomainVariable(name='redundancy', description='Storage redundancy configuration', unit='redundancy', data_type=<class 'str'>), 'public_ip_count': DomainVariable(name='public_ip_count', description='Number of public IP addresses allocated', unit='IPs', data_type=<class 'int'>), 'service_tier': DomainVariable(name='service_tier', description='Service tier for managed services', unit='tier', data_type=<class 'str'>), 'kubernetes_node_type': DomainVariable(name='kubernetes_node_type', description='AKS node pool type', unit='node type', data_type=<class 'str'>), 'function_executions': DomainVariable(name='function_executions', description='Number of serverless function calls', unit='invocations', data_type=<class 'int'>), 'sql_vcores': DomainVariable(name='sql_vcores', description='vCore count for Azure SQL', unit='vCores', data_type=<class 'int'>)}\n",
      "--- Building graph for charge category: 'aks_cluster_fee' ---\n",
      "Execution time for 'build': 486.1966 seconds\n",
      "Calculate the total function_app_fee. Charge description - Charge for serverless executions and execution time. function_app_fee {'compute_vm_fee': ['os_type', 'memory_gb'], 'gpu_compute_fee': ['gpu_count'], 'managed_disk_fee': ['disk_type', 'managed_disk_count'], 'data_egress_fee': ['region', 'data_egress_gb'], 'data_ingress_fee': ['region', 'data_ingress_gb'], 'storage_transaction_fee': ['redundancy'], 'public_ip_fee': ['region', 'public_ip_count'], 'load_balancer_fee': ['service_tier'], 'aks_cluster_fee': ['kubernetes_node_type'], 'function_app_fee': ['region', 'function_executions'], 'sql_database_fee': ['service_tier', 'sql_vcores'], 'snapshot_storage_fee': ['region'], 'app_service_fee': ['region']} {'os_type': DomainVariable(name='os_type', description='Operating system for the compute workload', unit='os', data_type=<class 'str'>), 'memory_gb': DomainVariable(name='memory_gb', description='Amount of memory allocated to the instance', unit='GiB', data_type=<class 'float'>), 'gpu_count': DomainVariable(name='gpu_count', description='Number of GPUs attached to the instance', unit='GPUs', data_type=<class 'int'>), 'disk_type': DomainVariable(name='disk_type', description='Managed disk performance tier', unit='disk type', data_type=<class 'str'>), 'managed_disk_count': DomainVariable(name='managed_disk_count', description='Count of managed disks attached', unit='disks', data_type=<class 'int'>), 'region': DomainVariable(name='region', description='Azure region where resources are deployed', unit='region', data_type=<class 'str'>), 'data_egress_gb': DomainVariable(name='data_egress_gb', description='Outbound data transferred from Azure', unit='GB', data_type=<class 'float'>), 'data_ingress_gb': DomainVariable(name='data_ingress_gb', description='Inbound data transferred to Azure', unit='GB', data_type=<class 'float'>), 'redundancy': DomainVariable(name='redundancy', description='Storage redundancy configuration', unit='redundancy', data_type=<class 'str'>), 'public_ip_count': DomainVariable(name='public_ip_count', description='Number of public IP addresses allocated', unit='IPs', data_type=<class 'int'>), 'service_tier': DomainVariable(name='service_tier', description='Service tier for managed services', unit='tier', data_type=<class 'str'>), 'kubernetes_node_type': DomainVariable(name='kubernetes_node_type', description='AKS node pool type', unit='node type', data_type=<class 'str'>), 'function_executions': DomainVariable(name='function_executions', description='Number of serverless function calls', unit='invocations', data_type=<class 'int'>), 'sql_vcores': DomainVariable(name='sql_vcores', description='vCore count for Azure SQL', unit='vCores', data_type=<class 'int'>)}\n",
      "--- Building graph for charge category: 'function_app_fee' ---\n",
      "Execution time for 'build': 494.7440 seconds\n",
      "Calculate the total sql_database_fee. Charge description - Charge for Azure SQL based on vCores, storage, and retention. sql_database_fee {'compute_vm_fee': ['os_type', 'memory_gb'], 'gpu_compute_fee': ['gpu_count'], 'managed_disk_fee': ['disk_type', 'managed_disk_count'], 'data_egress_fee': ['region', 'data_egress_gb'], 'data_ingress_fee': ['region', 'data_ingress_gb'], 'storage_transaction_fee': ['redundancy'], 'public_ip_fee': ['region', 'public_ip_count'], 'load_balancer_fee': ['service_tier'], 'aks_cluster_fee': ['kubernetes_node_type'], 'function_app_fee': ['region', 'function_executions'], 'sql_database_fee': ['service_tier', 'sql_vcores'], 'snapshot_storage_fee': ['region'], 'app_service_fee': ['region']} {'os_type': DomainVariable(name='os_type', description='Operating system for the compute workload', unit='os', data_type=<class 'str'>), 'memory_gb': DomainVariable(name='memory_gb', description='Amount of memory allocated to the instance', unit='GiB', data_type=<class 'float'>), 'gpu_count': DomainVariable(name='gpu_count', description='Number of GPUs attached to the instance', unit='GPUs', data_type=<class 'int'>), 'disk_type': DomainVariable(name='disk_type', description='Managed disk performance tier', unit='disk type', data_type=<class 'str'>), 'managed_disk_count': DomainVariable(name='managed_disk_count', description='Count of managed disks attached', unit='disks', data_type=<class 'int'>), 'region': DomainVariable(name='region', description='Azure region where resources are deployed', unit='region', data_type=<class 'str'>), 'data_egress_gb': DomainVariable(name='data_egress_gb', description='Outbound data transferred from Azure', unit='GB', data_type=<class 'float'>), 'data_ingress_gb': DomainVariable(name='data_ingress_gb', description='Inbound data transferred to Azure', unit='GB', data_type=<class 'float'>), 'redundancy': DomainVariable(name='redundancy', description='Storage redundancy configuration', unit='redundancy', data_type=<class 'str'>), 'public_ip_count': DomainVariable(name='public_ip_count', description='Number of public IP addresses allocated', unit='IPs', data_type=<class 'int'>), 'service_tier': DomainVariable(name='service_tier', description='Service tier for managed services', unit='tier', data_type=<class 'str'>), 'kubernetes_node_type': DomainVariable(name='kubernetes_node_type', description='AKS node pool type', unit='node type', data_type=<class 'str'>), 'function_executions': DomainVariable(name='function_executions', description='Number of serverless function calls', unit='invocations', data_type=<class 'int'>), 'sql_vcores': DomainVariable(name='sql_vcores', description='vCore count for Azure SQL', unit='vCores', data_type=<class 'int'>)}\n",
      "--- Building graph for charge category: 'sql_database_fee' ---\n",
      "Execution time for 'build': 509.2213 seconds\n",
      "Calculate the total snapshot_storage_fee. Charge description - Charge for snapshot storage volume and redundancy. snapshot_storage_fee {'compute_vm_fee': ['os_type', 'memory_gb'], 'gpu_compute_fee': ['gpu_count'], 'managed_disk_fee': ['disk_type', 'managed_disk_count'], 'data_egress_fee': ['region', 'data_egress_gb'], 'data_ingress_fee': ['region', 'data_ingress_gb'], 'storage_transaction_fee': ['redundancy'], 'public_ip_fee': ['region', 'public_ip_count'], 'load_balancer_fee': ['service_tier'], 'aks_cluster_fee': ['kubernetes_node_type'], 'function_app_fee': ['region', 'function_executions'], 'sql_database_fee': ['service_tier', 'sql_vcores'], 'snapshot_storage_fee': ['region'], 'app_service_fee': ['region']} {'os_type': DomainVariable(name='os_type', description='Operating system for the compute workload', unit='os', data_type=<class 'str'>), 'memory_gb': DomainVariable(name='memory_gb', description='Amount of memory allocated to the instance', unit='GiB', data_type=<class 'float'>), 'gpu_count': DomainVariable(name='gpu_count', description='Number of GPUs attached to the instance', unit='GPUs', data_type=<class 'int'>), 'disk_type': DomainVariable(name='disk_type', description='Managed disk performance tier', unit='disk type', data_type=<class 'str'>), 'managed_disk_count': DomainVariable(name='managed_disk_count', description='Count of managed disks attached', unit='disks', data_type=<class 'int'>), 'region': DomainVariable(name='region', description='Azure region where resources are deployed', unit='region', data_type=<class 'str'>), 'data_egress_gb': DomainVariable(name='data_egress_gb', description='Outbound data transferred from Azure', unit='GB', data_type=<class 'float'>), 'data_ingress_gb': DomainVariable(name='data_ingress_gb', description='Inbound data transferred to Azure', unit='GB', data_type=<class 'float'>), 'redundancy': DomainVariable(name='redundancy', description='Storage redundancy configuration', unit='redundancy', data_type=<class 'str'>), 'public_ip_count': DomainVariable(name='public_ip_count', description='Number of public IP addresses allocated', unit='IPs', data_type=<class 'int'>), 'service_tier': DomainVariable(name='service_tier', description='Service tier for managed services', unit='tier', data_type=<class 'str'>), 'kubernetes_node_type': DomainVariable(name='kubernetes_node_type', description='AKS node pool type', unit='node type', data_type=<class 'str'>), 'function_executions': DomainVariable(name='function_executions', description='Number of serverless function calls', unit='invocations', data_type=<class 'int'>), 'sql_vcores': DomainVariable(name='sql_vcores', description='vCore count for Azure SQL', unit='vCores', data_type=<class 'int'>)}\n",
      "--- Building graph for charge category: 'snapshot_storage_fee' ---\n",
      "Execution time for 'build': 183.7113 seconds\n",
      "Calculate the total app_service_fee. Charge description - Charge for App Service instances and tier. app_service_fee {'compute_vm_fee': ['os_type', 'memory_gb'], 'gpu_compute_fee': ['gpu_count'], 'managed_disk_fee': ['disk_type', 'managed_disk_count'], 'data_egress_fee': ['region', 'data_egress_gb'], 'data_ingress_fee': ['region', 'data_ingress_gb'], 'storage_transaction_fee': ['redundancy'], 'public_ip_fee': ['region', 'public_ip_count'], 'load_balancer_fee': ['service_tier'], 'aks_cluster_fee': ['kubernetes_node_type'], 'function_app_fee': ['region', 'function_executions'], 'sql_database_fee': ['service_tier', 'sql_vcores'], 'snapshot_storage_fee': ['region'], 'app_service_fee': ['region']} {'os_type': DomainVariable(name='os_type', description='Operating system for the compute workload', unit='os', data_type=<class 'str'>), 'memory_gb': DomainVariable(name='memory_gb', description='Amount of memory allocated to the instance', unit='GiB', data_type=<class 'float'>), 'gpu_count': DomainVariable(name='gpu_count', description='Number of GPUs attached to the instance', unit='GPUs', data_type=<class 'int'>), 'disk_type': DomainVariable(name='disk_type', description='Managed disk performance tier', unit='disk type', data_type=<class 'str'>), 'managed_disk_count': DomainVariable(name='managed_disk_count', description='Count of managed disks attached', unit='disks', data_type=<class 'int'>), 'region': DomainVariable(name='region', description='Azure region where resources are deployed', unit='region', data_type=<class 'str'>), 'data_egress_gb': DomainVariable(name='data_egress_gb', description='Outbound data transferred from Azure', unit='GB', data_type=<class 'float'>), 'data_ingress_gb': DomainVariable(name='data_ingress_gb', description='Inbound data transferred to Azure', unit='GB', data_type=<class 'float'>), 'redundancy': DomainVariable(name='redundancy', description='Storage redundancy configuration', unit='redundancy', data_type=<class 'str'>), 'public_ip_count': DomainVariable(name='public_ip_count', description='Number of public IP addresses allocated', unit='IPs', data_type=<class 'int'>), 'service_tier': DomainVariable(name='service_tier', description='Service tier for managed services', unit='tier', data_type=<class 'str'>), 'kubernetes_node_type': DomainVariable(name='kubernetes_node_type', description='AKS node pool type', unit='node type', data_type=<class 'str'>), 'function_executions': DomainVariable(name='function_executions', description='Number of serverless function calls', unit='invocations', data_type=<class 'int'>), 'sql_vcores': DomainVariable(name='sql_vcores', description='vCore count for Azure SQL', unit='vCores', data_type=<class 'int'>)}\n",
      "--- Building graph for charge category: 'app_service_fee' ---\n",
      "Execution time for 'build': 146.0079 seconds\n",
      "Calculate the total compute_vm_fee. Charge description - Charge for running virtual machines based on vCPU, memory, OS, and commitment. compute_vm_fee {'compute_vm_fee': ['spot_instance'], 'gpu_compute_fee': ['os_type', 'gpu_count'], 'managed_disk_fee': ['managed_disk_count'], 'data_egress_fee': ['region'], 'data_ingress_fee': ['region'], 'storage_transaction_fee': ['redundancy', 'storage_transactions_millions'], 'public_ip_fee': ['region'], 'load_balancer_fee': ['region', 'load_balancer_rules'], 'aks_cluster_fee': ['region', 'kubernetes_node_count'], 'function_app_fee': ['region', 'function_exec_ms'], 'sql_database_fee': ['sql_storage_gb'], 'snapshot_storage_fee': ['redundancy'], 'app_service_fee': ['app_service_instances']} {'spot_instance': DomainVariable(name='spot_instance', description='Whether the compute uses spot capacity', unit='flag', data_type=<class 'str'>), 'os_type': DomainVariable(name='os_type', description='Operating system for the compute workload', unit='os', data_type=<class 'str'>), 'gpu_count': DomainVariable(name='gpu_count', description='Number of GPUs attached to the instance', unit='GPUs', data_type=<class 'int'>), 'managed_disk_count': DomainVariable(name='managed_disk_count', description='Count of managed disks attached', unit='disks', data_type=<class 'int'>), 'region': DomainVariable(name='region', description='Azure region where resources are deployed', unit='region', data_type=<class 'str'>), 'redundancy': DomainVariable(name='redundancy', description='Storage redundancy configuration', unit='redundancy', data_type=<class 'str'>), 'storage_transactions_millions': DomainVariable(name='storage_transactions_millions', description='Number of storage account operations in millions', unit='million tx', data_type=<class 'float'>), 'load_balancer_rules': DomainVariable(name='load_balancer_rules', description='Configured load balancer rules', unit='rules', data_type=<class 'int'>), 'kubernetes_node_count': DomainVariable(name='kubernetes_node_count', description='Number of AKS nodes in the cluster', unit='nodes', data_type=<class 'int'>), 'function_exec_ms': DomainVariable(name='function_exec_ms', description='Average or billed execution time per invocation', unit='ms', data_type=<class 'float'>), 'sql_storage_gb': DomainVariable(name='sql_storage_gb', description='Allocated storage for Azure SQL', unit='GB', data_type=<class 'int'>), 'app_service_instances': DomainVariable(name='app_service_instances', description='Count of App Service instances', unit='instances', data_type=<class 'int'>)}\n",
      "--- Building graph for charge category: 'compute_vm_fee' ---\n",
      "Execution time for 'build': 538.0552 seconds\n",
      "Calculate the total gpu_compute_fee. Charge description - Charge for GPU-enabled compute usage. gpu_compute_fee {'compute_vm_fee': ['spot_instance'], 'gpu_compute_fee': ['os_type', 'gpu_count'], 'managed_disk_fee': ['managed_disk_count'], 'data_egress_fee': ['region'], 'data_ingress_fee': ['region'], 'storage_transaction_fee': ['redundancy', 'storage_transactions_millions'], 'public_ip_fee': ['region'], 'load_balancer_fee': ['region', 'load_balancer_rules'], 'aks_cluster_fee': ['region', 'kubernetes_node_count'], 'function_app_fee': ['region', 'function_exec_ms'], 'sql_database_fee': ['sql_storage_gb'], 'snapshot_storage_fee': ['redundancy'], 'app_service_fee': ['app_service_instances']} {'spot_instance': DomainVariable(name='spot_instance', description='Whether the compute uses spot capacity', unit='flag', data_type=<class 'str'>), 'os_type': DomainVariable(name='os_type', description='Operating system for the compute workload', unit='os', data_type=<class 'str'>), 'gpu_count': DomainVariable(name='gpu_count', description='Number of GPUs attached to the instance', unit='GPUs', data_type=<class 'int'>), 'managed_disk_count': DomainVariable(name='managed_disk_count', description='Count of managed disks attached', unit='disks', data_type=<class 'int'>), 'region': DomainVariable(name='region', description='Azure region where resources are deployed', unit='region', data_type=<class 'str'>), 'redundancy': DomainVariable(name='redundancy', description='Storage redundancy configuration', unit='redundancy', data_type=<class 'str'>), 'storage_transactions_millions': DomainVariable(name='storage_transactions_millions', description='Number of storage account operations in millions', unit='million tx', data_type=<class 'float'>), 'load_balancer_rules': DomainVariable(name='load_balancer_rules', description='Configured load balancer rules', unit='rules', data_type=<class 'int'>), 'kubernetes_node_count': DomainVariable(name='kubernetes_node_count', description='Number of AKS nodes in the cluster', unit='nodes', data_type=<class 'int'>), 'function_exec_ms': DomainVariable(name='function_exec_ms', description='Average or billed execution time per invocation', unit='ms', data_type=<class 'float'>), 'sql_storage_gb': DomainVariable(name='sql_storage_gb', description='Allocated storage for Azure SQL', unit='GB', data_type=<class 'int'>), 'app_service_instances': DomainVariable(name='app_service_instances', description='Count of App Service instances', unit='instances', data_type=<class 'int'>)}\n",
      "--- Building graph for charge category: 'gpu_compute_fee' ---\n",
      "Execution time for 'build': 403.5983 seconds\n",
      "Calculate the total managed_disk_fee. Charge description - Charge for managed disks based on type, size, and count. managed_disk_fee {'compute_vm_fee': ['spot_instance'], 'gpu_compute_fee': ['os_type', 'gpu_count'], 'managed_disk_fee': ['managed_disk_count'], 'data_egress_fee': ['region'], 'data_ingress_fee': ['region'], 'storage_transaction_fee': ['redundancy', 'storage_transactions_millions'], 'public_ip_fee': ['region'], 'load_balancer_fee': ['region', 'load_balancer_rules'], 'aks_cluster_fee': ['region', 'kubernetes_node_count'], 'function_app_fee': ['region', 'function_exec_ms'], 'sql_database_fee': ['sql_storage_gb'], 'snapshot_storage_fee': ['redundancy'], 'app_service_fee': ['app_service_instances']} {'spot_instance': DomainVariable(name='spot_instance', description='Whether the compute uses spot capacity', unit='flag', data_type=<class 'str'>), 'os_type': DomainVariable(name='os_type', description='Operating system for the compute workload', unit='os', data_type=<class 'str'>), 'gpu_count': DomainVariable(name='gpu_count', description='Number of GPUs attached to the instance', unit='GPUs', data_type=<class 'int'>), 'managed_disk_count': DomainVariable(name='managed_disk_count', description='Count of managed disks attached', unit='disks', data_type=<class 'int'>), 'region': DomainVariable(name='region', description='Azure region where resources are deployed', unit='region', data_type=<class 'str'>), 'redundancy': DomainVariable(name='redundancy', description='Storage redundancy configuration', unit='redundancy', data_type=<class 'str'>), 'storage_transactions_millions': DomainVariable(name='storage_transactions_millions', description='Number of storage account operations in millions', unit='million tx', data_type=<class 'float'>), 'load_balancer_rules': DomainVariable(name='load_balancer_rules', description='Configured load balancer rules', unit='rules', data_type=<class 'int'>), 'kubernetes_node_count': DomainVariable(name='kubernetes_node_count', description='Number of AKS nodes in the cluster', unit='nodes', data_type=<class 'int'>), 'function_exec_ms': DomainVariable(name='function_exec_ms', description='Average or billed execution time per invocation', unit='ms', data_type=<class 'float'>), 'sql_storage_gb': DomainVariable(name='sql_storage_gb', description='Allocated storage for Azure SQL', unit='GB', data_type=<class 'int'>), 'app_service_instances': DomainVariable(name='app_service_instances', description='Count of App Service instances', unit='instances', data_type=<class 'int'>)}\n",
      "--- Building graph for charge category: 'managed_disk_fee' ---\n",
      "Execution time for 'build': 502.7246 seconds\n",
      "Calculate the total data_egress_fee. Charge description - Charge for data leaving Azure regions. data_egress_fee {'compute_vm_fee': ['spot_instance'], 'gpu_compute_fee': ['os_type', 'gpu_count'], 'managed_disk_fee': ['managed_disk_count'], 'data_egress_fee': ['region'], 'data_ingress_fee': ['region'], 'storage_transaction_fee': ['redundancy', 'storage_transactions_millions'], 'public_ip_fee': ['region'], 'load_balancer_fee': ['region', 'load_balancer_rules'], 'aks_cluster_fee': ['region', 'kubernetes_node_count'], 'function_app_fee': ['region', 'function_exec_ms'], 'sql_database_fee': ['sql_storage_gb'], 'snapshot_storage_fee': ['redundancy'], 'app_service_fee': ['app_service_instances']} {'spot_instance': DomainVariable(name='spot_instance', description='Whether the compute uses spot capacity', unit='flag', data_type=<class 'str'>), 'os_type': DomainVariable(name='os_type', description='Operating system for the compute workload', unit='os', data_type=<class 'str'>), 'gpu_count': DomainVariable(name='gpu_count', description='Number of GPUs attached to the instance', unit='GPUs', data_type=<class 'int'>), 'managed_disk_count': DomainVariable(name='managed_disk_count', description='Count of managed disks attached', unit='disks', data_type=<class 'int'>), 'region': DomainVariable(name='region', description='Azure region where resources are deployed', unit='region', data_type=<class 'str'>), 'redundancy': DomainVariable(name='redundancy', description='Storage redundancy configuration', unit='redundancy', data_type=<class 'str'>), 'storage_transactions_millions': DomainVariable(name='storage_transactions_millions', description='Number of storage account operations in millions', unit='million tx', data_type=<class 'float'>), 'load_balancer_rules': DomainVariable(name='load_balancer_rules', description='Configured load balancer rules', unit='rules', data_type=<class 'int'>), 'kubernetes_node_count': DomainVariable(name='kubernetes_node_count', description='Number of AKS nodes in the cluster', unit='nodes', data_type=<class 'int'>), 'function_exec_ms': DomainVariable(name='function_exec_ms', description='Average or billed execution time per invocation', unit='ms', data_type=<class 'float'>), 'sql_storage_gb': DomainVariable(name='sql_storage_gb', description='Allocated storage for Azure SQL', unit='GB', data_type=<class 'int'>), 'app_service_instances': DomainVariable(name='app_service_instances', description='Count of App Service instances', unit='instances', data_type=<class 'int'>)}\n",
      "--- Building graph for charge category: 'data_egress_fee' ---\n",
      "Execution time for 'build': 152.3520 seconds\n",
      "Calculate the total data_ingress_fee. Charge description - Charge for data entering Azure regions where applicable. data_ingress_fee {'compute_vm_fee': ['spot_instance'], 'gpu_compute_fee': ['os_type', 'gpu_count'], 'managed_disk_fee': ['managed_disk_count'], 'data_egress_fee': ['region'], 'data_ingress_fee': ['region'], 'storage_transaction_fee': ['redundancy', 'storage_transactions_millions'], 'public_ip_fee': ['region'], 'load_balancer_fee': ['region', 'load_balancer_rules'], 'aks_cluster_fee': ['region', 'kubernetes_node_count'], 'function_app_fee': ['region', 'function_exec_ms'], 'sql_database_fee': ['sql_storage_gb'], 'snapshot_storage_fee': ['redundancy'], 'app_service_fee': ['app_service_instances']} {'spot_instance': DomainVariable(name='spot_instance', description='Whether the compute uses spot capacity', unit='flag', data_type=<class 'str'>), 'os_type': DomainVariable(name='os_type', description='Operating system for the compute workload', unit='os', data_type=<class 'str'>), 'gpu_count': DomainVariable(name='gpu_count', description='Number of GPUs attached to the instance', unit='GPUs', data_type=<class 'int'>), 'managed_disk_count': DomainVariable(name='managed_disk_count', description='Count of managed disks attached', unit='disks', data_type=<class 'int'>), 'region': DomainVariable(name='region', description='Azure region where resources are deployed', unit='region', data_type=<class 'str'>), 'redundancy': DomainVariable(name='redundancy', description='Storage redundancy configuration', unit='redundancy', data_type=<class 'str'>), 'storage_transactions_millions': DomainVariable(name='storage_transactions_millions', description='Number of storage account operations in millions', unit='million tx', data_type=<class 'float'>), 'load_balancer_rules': DomainVariable(name='load_balancer_rules', description='Configured load balancer rules', unit='rules', data_type=<class 'int'>), 'kubernetes_node_count': DomainVariable(name='kubernetes_node_count', description='Number of AKS nodes in the cluster', unit='nodes', data_type=<class 'int'>), 'function_exec_ms': DomainVariable(name='function_exec_ms', description='Average or billed execution time per invocation', unit='ms', data_type=<class 'float'>), 'sql_storage_gb': DomainVariable(name='sql_storage_gb', description='Allocated storage for Azure SQL', unit='GB', data_type=<class 'int'>), 'app_service_instances': DomainVariable(name='app_service_instances', description='Count of App Service instances', unit='instances', data_type=<class 'int'>)}\n",
      "--- Building graph for charge category: 'data_ingress_fee' ---\n",
      "Execution time for 'build': 247.8205 seconds\n",
      "Calculate the total storage_transaction_fee. Charge description - Charge for storage account transactions and redundancy level. storage_transaction_fee {'compute_vm_fee': ['spot_instance'], 'gpu_compute_fee': ['os_type', 'gpu_count'], 'managed_disk_fee': ['managed_disk_count'], 'data_egress_fee': ['region'], 'data_ingress_fee': ['region'], 'storage_transaction_fee': ['redundancy', 'storage_transactions_millions'], 'public_ip_fee': ['region'], 'load_balancer_fee': ['region', 'load_balancer_rules'], 'aks_cluster_fee': ['region', 'kubernetes_node_count'], 'function_app_fee': ['region', 'function_exec_ms'], 'sql_database_fee': ['sql_storage_gb'], 'snapshot_storage_fee': ['redundancy'], 'app_service_fee': ['app_service_instances']} {'spot_instance': DomainVariable(name='spot_instance', description='Whether the compute uses spot capacity', unit='flag', data_type=<class 'str'>), 'os_type': DomainVariable(name='os_type', description='Operating system for the compute workload', unit='os', data_type=<class 'str'>), 'gpu_count': DomainVariable(name='gpu_count', description='Number of GPUs attached to the instance', unit='GPUs', data_type=<class 'int'>), 'managed_disk_count': DomainVariable(name='managed_disk_count', description='Count of managed disks attached', unit='disks', data_type=<class 'int'>), 'region': DomainVariable(name='region', description='Azure region where resources are deployed', unit='region', data_type=<class 'str'>), 'redundancy': DomainVariable(name='redundancy', description='Storage redundancy configuration', unit='redundancy', data_type=<class 'str'>), 'storage_transactions_millions': DomainVariable(name='storage_transactions_millions', description='Number of storage account operations in millions', unit='million tx', data_type=<class 'float'>), 'load_balancer_rules': DomainVariable(name='load_balancer_rules', description='Configured load balancer rules', unit='rules', data_type=<class 'int'>), 'kubernetes_node_count': DomainVariable(name='kubernetes_node_count', description='Number of AKS nodes in the cluster', unit='nodes', data_type=<class 'int'>), 'function_exec_ms': DomainVariable(name='function_exec_ms', description='Average or billed execution time per invocation', unit='ms', data_type=<class 'float'>), 'sql_storage_gb': DomainVariable(name='sql_storage_gb', description='Allocated storage for Azure SQL', unit='GB', data_type=<class 'int'>), 'app_service_instances': DomainVariable(name='app_service_instances', description='Count of App Service instances', unit='instances', data_type=<class 'int'>)}\n",
      "--- Building graph for charge category: 'storage_transaction_fee' ---\n",
      "Execution time for 'build': 498.2997 seconds\n",
      "Calculate the total public_ip_fee. Charge description - Charge for public IP addresses allocated. public_ip_fee {'compute_vm_fee': ['spot_instance'], 'gpu_compute_fee': ['os_type', 'gpu_count'], 'managed_disk_fee': ['managed_disk_count'], 'data_egress_fee': ['region'], 'data_ingress_fee': ['region'], 'storage_transaction_fee': ['redundancy', 'storage_transactions_millions'], 'public_ip_fee': ['region'], 'load_balancer_fee': ['region', 'load_balancer_rules'], 'aks_cluster_fee': ['region', 'kubernetes_node_count'], 'function_app_fee': ['region', 'function_exec_ms'], 'sql_database_fee': ['sql_storage_gb'], 'snapshot_storage_fee': ['redundancy'], 'app_service_fee': ['app_service_instances']} {'spot_instance': DomainVariable(name='spot_instance', description='Whether the compute uses spot capacity', unit='flag', data_type=<class 'str'>), 'os_type': DomainVariable(name='os_type', description='Operating system for the compute workload', unit='os', data_type=<class 'str'>), 'gpu_count': DomainVariable(name='gpu_count', description='Number of GPUs attached to the instance', unit='GPUs', data_type=<class 'int'>), 'managed_disk_count': DomainVariable(name='managed_disk_count', description='Count of managed disks attached', unit='disks', data_type=<class 'int'>), 'region': DomainVariable(name='region', description='Azure region where resources are deployed', unit='region', data_type=<class 'str'>), 'redundancy': DomainVariable(name='redundancy', description='Storage redundancy configuration', unit='redundancy', data_type=<class 'str'>), 'storage_transactions_millions': DomainVariable(name='storage_transactions_millions', description='Number of storage account operations in millions', unit='million tx', data_type=<class 'float'>), 'load_balancer_rules': DomainVariable(name='load_balancer_rules', description='Configured load balancer rules', unit='rules', data_type=<class 'int'>), 'kubernetes_node_count': DomainVariable(name='kubernetes_node_count', description='Number of AKS nodes in the cluster', unit='nodes', data_type=<class 'int'>), 'function_exec_ms': DomainVariable(name='function_exec_ms', description='Average or billed execution time per invocation', unit='ms', data_type=<class 'float'>), 'sql_storage_gb': DomainVariable(name='sql_storage_gb', description='Allocated storage for Azure SQL', unit='GB', data_type=<class 'int'>), 'app_service_instances': DomainVariable(name='app_service_instances', description='Count of App Service instances', unit='instances', data_type=<class 'int'>)}\n",
      "--- Building graph for charge category: 'public_ip_fee' ---\n",
      "Execution time for 'build': 503.1412 seconds\n",
      "Calculate the total load_balancer_fee. Charge description - Charge for load balancer rules and tier. load_balancer_fee {'compute_vm_fee': ['spot_instance'], 'gpu_compute_fee': ['os_type', 'gpu_count'], 'managed_disk_fee': ['managed_disk_count'], 'data_egress_fee': ['region'], 'data_ingress_fee': ['region'], 'storage_transaction_fee': ['redundancy', 'storage_transactions_millions'], 'public_ip_fee': ['region'], 'load_balancer_fee': ['region', 'load_balancer_rules'], 'aks_cluster_fee': ['region', 'kubernetes_node_count'], 'function_app_fee': ['region', 'function_exec_ms'], 'sql_database_fee': ['sql_storage_gb'], 'snapshot_storage_fee': ['redundancy'], 'app_service_fee': ['app_service_instances']} {'spot_instance': DomainVariable(name='spot_instance', description='Whether the compute uses spot capacity', unit='flag', data_type=<class 'str'>), 'os_type': DomainVariable(name='os_type', description='Operating system for the compute workload', unit='os', data_type=<class 'str'>), 'gpu_count': DomainVariable(name='gpu_count', description='Number of GPUs attached to the instance', unit='GPUs', data_type=<class 'int'>), 'managed_disk_count': DomainVariable(name='managed_disk_count', description='Count of managed disks attached', unit='disks', data_type=<class 'int'>), 'region': DomainVariable(name='region', description='Azure region where resources are deployed', unit='region', data_type=<class 'str'>), 'redundancy': DomainVariable(name='redundancy', description='Storage redundancy configuration', unit='redundancy', data_type=<class 'str'>), 'storage_transactions_millions': DomainVariable(name='storage_transactions_millions', description='Number of storage account operations in millions', unit='million tx', data_type=<class 'float'>), 'load_balancer_rules': DomainVariable(name='load_balancer_rules', description='Configured load balancer rules', unit='rules', data_type=<class 'int'>), 'kubernetes_node_count': DomainVariable(name='kubernetes_node_count', description='Number of AKS nodes in the cluster', unit='nodes', data_type=<class 'int'>), 'function_exec_ms': DomainVariable(name='function_exec_ms', description='Average or billed execution time per invocation', unit='ms', data_type=<class 'float'>), 'sql_storage_gb': DomainVariable(name='sql_storage_gb', description='Allocated storage for Azure SQL', unit='GB', data_type=<class 'int'>), 'app_service_instances': DomainVariable(name='app_service_instances', description='Count of App Service instances', unit='instances', data_type=<class 'int'>)}\n",
      "--- Building graph for charge category: 'load_balancer_fee' ---\n",
      "Execution time for 'build': 518.7630 seconds\n",
      "Calculate the total aks_cluster_fee. Charge description - Charge for AKS clusters based on node count and type. aks_cluster_fee {'compute_vm_fee': ['spot_instance'], 'gpu_compute_fee': ['os_type', 'gpu_count'], 'managed_disk_fee': ['managed_disk_count'], 'data_egress_fee': ['region'], 'data_ingress_fee': ['region'], 'storage_transaction_fee': ['redundancy', 'storage_transactions_millions'], 'public_ip_fee': ['region'], 'load_balancer_fee': ['region', 'load_balancer_rules'], 'aks_cluster_fee': ['region', 'kubernetes_node_count'], 'function_app_fee': ['region', 'function_exec_ms'], 'sql_database_fee': ['sql_storage_gb'], 'snapshot_storage_fee': ['redundancy'], 'app_service_fee': ['app_service_instances']} {'spot_instance': DomainVariable(name='spot_instance', description='Whether the compute uses spot capacity', unit='flag', data_type=<class 'str'>), 'os_type': DomainVariable(name='os_type', description='Operating system for the compute workload', unit='os', data_type=<class 'str'>), 'gpu_count': DomainVariable(name='gpu_count', description='Number of GPUs attached to the instance', unit='GPUs', data_type=<class 'int'>), 'managed_disk_count': DomainVariable(name='managed_disk_count', description='Count of managed disks attached', unit='disks', data_type=<class 'int'>), 'region': DomainVariable(name='region', description='Azure region where resources are deployed', unit='region', data_type=<class 'str'>), 'redundancy': DomainVariable(name='redundancy', description='Storage redundancy configuration', unit='redundancy', data_type=<class 'str'>), 'storage_transactions_millions': DomainVariable(name='storage_transactions_millions', description='Number of storage account operations in millions', unit='million tx', data_type=<class 'float'>), 'load_balancer_rules': DomainVariable(name='load_balancer_rules', description='Configured load balancer rules', unit='rules', data_type=<class 'int'>), 'kubernetes_node_count': DomainVariable(name='kubernetes_node_count', description='Number of AKS nodes in the cluster', unit='nodes', data_type=<class 'int'>), 'function_exec_ms': DomainVariable(name='function_exec_ms', description='Average or billed execution time per invocation', unit='ms', data_type=<class 'float'>), 'sql_storage_gb': DomainVariable(name='sql_storage_gb', description='Allocated storage for Azure SQL', unit='GB', data_type=<class 'int'>), 'app_service_instances': DomainVariable(name='app_service_instances', description='Count of App Service instances', unit='instances', data_type=<class 'int'>)}\n",
      "--- Building graph for charge category: 'aks_cluster_fee' ---\n",
      "Execution time for 'build': 496.6993 seconds\n",
      "Calculate the total function_app_fee. Charge description - Charge for serverless executions and execution time. function_app_fee {'compute_vm_fee': ['spot_instance'], 'gpu_compute_fee': ['os_type', 'gpu_count'], 'managed_disk_fee': ['managed_disk_count'], 'data_egress_fee': ['region'], 'data_ingress_fee': ['region'], 'storage_transaction_fee': ['redundancy', 'storage_transactions_millions'], 'public_ip_fee': ['region'], 'load_balancer_fee': ['region', 'load_balancer_rules'], 'aks_cluster_fee': ['region', 'kubernetes_node_count'], 'function_app_fee': ['region', 'function_exec_ms'], 'sql_database_fee': ['sql_storage_gb'], 'snapshot_storage_fee': ['redundancy'], 'app_service_fee': ['app_service_instances']} {'spot_instance': DomainVariable(name='spot_instance', description='Whether the compute uses spot capacity', unit='flag', data_type=<class 'str'>), 'os_type': DomainVariable(name='os_type', description='Operating system for the compute workload', unit='os', data_type=<class 'str'>), 'gpu_count': DomainVariable(name='gpu_count', description='Number of GPUs attached to the instance', unit='GPUs', data_type=<class 'int'>), 'managed_disk_count': DomainVariable(name='managed_disk_count', description='Count of managed disks attached', unit='disks', data_type=<class 'int'>), 'region': DomainVariable(name='region', description='Azure region where resources are deployed', unit='region', data_type=<class 'str'>), 'redundancy': DomainVariable(name='redundancy', description='Storage redundancy configuration', unit='redundancy', data_type=<class 'str'>), 'storage_transactions_millions': DomainVariable(name='storage_transactions_millions', description='Number of storage account operations in millions', unit='million tx', data_type=<class 'float'>), 'load_balancer_rules': DomainVariable(name='load_balancer_rules', description='Configured load balancer rules', unit='rules', data_type=<class 'int'>), 'kubernetes_node_count': DomainVariable(name='kubernetes_node_count', description='Number of AKS nodes in the cluster', unit='nodes', data_type=<class 'int'>), 'function_exec_ms': DomainVariable(name='function_exec_ms', description='Average or billed execution time per invocation', unit='ms', data_type=<class 'float'>), 'sql_storage_gb': DomainVariable(name='sql_storage_gb', description='Allocated storage for Azure SQL', unit='GB', data_type=<class 'int'>), 'app_service_instances': DomainVariable(name='app_service_instances', description='Count of App Service instances', unit='instances', data_type=<class 'int'>)}\n",
      "--- Building graph for charge category: 'function_app_fee' ---\n",
      "Execution time for 'build': 488.0929 seconds\n",
      "Calculate the total sql_database_fee. Charge description - Charge for Azure SQL based on vCores, storage, and retention. sql_database_fee {'compute_vm_fee': ['spot_instance'], 'gpu_compute_fee': ['os_type', 'gpu_count'], 'managed_disk_fee': ['managed_disk_count'], 'data_egress_fee': ['region'], 'data_ingress_fee': ['region'], 'storage_transaction_fee': ['redundancy', 'storage_transactions_millions'], 'public_ip_fee': ['region'], 'load_balancer_fee': ['region', 'load_balancer_rules'], 'aks_cluster_fee': ['region', 'kubernetes_node_count'], 'function_app_fee': ['region', 'function_exec_ms'], 'sql_database_fee': ['sql_storage_gb'], 'snapshot_storage_fee': ['redundancy'], 'app_service_fee': ['app_service_instances']} {'spot_instance': DomainVariable(name='spot_instance', description='Whether the compute uses spot capacity', unit='flag', data_type=<class 'str'>), 'os_type': DomainVariable(name='os_type', description='Operating system for the compute workload', unit='os', data_type=<class 'str'>), 'gpu_count': DomainVariable(name='gpu_count', description='Number of GPUs attached to the instance', unit='GPUs', data_type=<class 'int'>), 'managed_disk_count': DomainVariable(name='managed_disk_count', description='Count of managed disks attached', unit='disks', data_type=<class 'int'>), 'region': DomainVariable(name='region', description='Azure region where resources are deployed', unit='region', data_type=<class 'str'>), 'redundancy': DomainVariable(name='redundancy', description='Storage redundancy configuration', unit='redundancy', data_type=<class 'str'>), 'storage_transactions_millions': DomainVariable(name='storage_transactions_millions', description='Number of storage account operations in millions', unit='million tx', data_type=<class 'float'>), 'load_balancer_rules': DomainVariable(name='load_balancer_rules', description='Configured load balancer rules', unit='rules', data_type=<class 'int'>), 'kubernetes_node_count': DomainVariable(name='kubernetes_node_count', description='Number of AKS nodes in the cluster', unit='nodes', data_type=<class 'int'>), 'function_exec_ms': DomainVariable(name='function_exec_ms', description='Average or billed execution time per invocation', unit='ms', data_type=<class 'float'>), 'sql_storage_gb': DomainVariable(name='sql_storage_gb', description='Allocated storage for Azure SQL', unit='GB', data_type=<class 'int'>), 'app_service_instances': DomainVariable(name='app_service_instances', description='Count of App Service instances', unit='instances', data_type=<class 'int'>)}\n",
      "--- Building graph for charge category: 'sql_database_fee' ---\n",
      "Execution time for 'build': 484.9642 seconds\n",
      "Calculate the total snapshot_storage_fee. Charge description - Charge for snapshot storage volume and redundancy. snapshot_storage_fee {'compute_vm_fee': ['spot_instance'], 'gpu_compute_fee': ['os_type', 'gpu_count'], 'managed_disk_fee': ['managed_disk_count'], 'data_egress_fee': ['region'], 'data_ingress_fee': ['region'], 'storage_transaction_fee': ['redundancy', 'storage_transactions_millions'], 'public_ip_fee': ['region'], 'load_balancer_fee': ['region', 'load_balancer_rules'], 'aks_cluster_fee': ['region', 'kubernetes_node_count'], 'function_app_fee': ['region', 'function_exec_ms'], 'sql_database_fee': ['sql_storage_gb'], 'snapshot_storage_fee': ['redundancy'], 'app_service_fee': ['app_service_instances']} {'spot_instance': DomainVariable(name='spot_instance', description='Whether the compute uses spot capacity', unit='flag', data_type=<class 'str'>), 'os_type': DomainVariable(name='os_type', description='Operating system for the compute workload', unit='os', data_type=<class 'str'>), 'gpu_count': DomainVariable(name='gpu_count', description='Number of GPUs attached to the instance', unit='GPUs', data_type=<class 'int'>), 'managed_disk_count': DomainVariable(name='managed_disk_count', description='Count of managed disks attached', unit='disks', data_type=<class 'int'>), 'region': DomainVariable(name='region', description='Azure region where resources are deployed', unit='region', data_type=<class 'str'>), 'redundancy': DomainVariable(name='redundancy', description='Storage redundancy configuration', unit='redundancy', data_type=<class 'str'>), 'storage_transactions_millions': DomainVariable(name='storage_transactions_millions', description='Number of storage account operations in millions', unit='million tx', data_type=<class 'float'>), 'load_balancer_rules': DomainVariable(name='load_balancer_rules', description='Configured load balancer rules', unit='rules', data_type=<class 'int'>), 'kubernetes_node_count': DomainVariable(name='kubernetes_node_count', description='Number of AKS nodes in the cluster', unit='nodes', data_type=<class 'int'>), 'function_exec_ms': DomainVariable(name='function_exec_ms', description='Average or billed execution time per invocation', unit='ms', data_type=<class 'float'>), 'sql_storage_gb': DomainVariable(name='sql_storage_gb', description='Allocated storage for Azure SQL', unit='GB', data_type=<class 'int'>), 'app_service_instances': DomainVariable(name='app_service_instances', description='Count of App Service instances', unit='instances', data_type=<class 'int'>)}\n",
      "--- Building graph for charge category: 'snapshot_storage_fee' ---\n",
      "Execution time for 'build': 407.1765 seconds\n",
      "Calculate the total app_service_fee. Charge description - Charge for App Service instances and tier. app_service_fee {'compute_vm_fee': ['spot_instance'], 'gpu_compute_fee': ['os_type', 'gpu_count'], 'managed_disk_fee': ['managed_disk_count'], 'data_egress_fee': ['region'], 'data_ingress_fee': ['region'], 'storage_transaction_fee': ['redundancy', 'storage_transactions_millions'], 'public_ip_fee': ['region'], 'load_balancer_fee': ['region', 'load_balancer_rules'], 'aks_cluster_fee': ['region', 'kubernetes_node_count'], 'function_app_fee': ['region', 'function_exec_ms'], 'sql_database_fee': ['sql_storage_gb'], 'snapshot_storage_fee': ['redundancy'], 'app_service_fee': ['app_service_instances']} {'spot_instance': DomainVariable(name='spot_instance', description='Whether the compute uses spot capacity', unit='flag', data_type=<class 'str'>), 'os_type': DomainVariable(name='os_type', description='Operating system for the compute workload', unit='os', data_type=<class 'str'>), 'gpu_count': DomainVariable(name='gpu_count', description='Number of GPUs attached to the instance', unit='GPUs', data_type=<class 'int'>), 'managed_disk_count': DomainVariable(name='managed_disk_count', description='Count of managed disks attached', unit='disks', data_type=<class 'int'>), 'region': DomainVariable(name='region', description='Azure region where resources are deployed', unit='region', data_type=<class 'str'>), 'redundancy': DomainVariable(name='redundancy', description='Storage redundancy configuration', unit='redundancy', data_type=<class 'str'>), 'storage_transactions_millions': DomainVariable(name='storage_transactions_millions', description='Number of storage account operations in millions', unit='million tx', data_type=<class 'float'>), 'load_balancer_rules': DomainVariable(name='load_balancer_rules', description='Configured load balancer rules', unit='rules', data_type=<class 'int'>), 'kubernetes_node_count': DomainVariable(name='kubernetes_node_count', description='Number of AKS nodes in the cluster', unit='nodes', data_type=<class 'int'>), 'function_exec_ms': DomainVariable(name='function_exec_ms', description='Average or billed execution time per invocation', unit='ms', data_type=<class 'float'>), 'sql_storage_gb': DomainVariable(name='sql_storage_gb', description='Allocated storage for Azure SQL', unit='GB', data_type=<class 'int'>), 'app_service_instances': DomainVariable(name='app_service_instances', description='Count of App Service instances', unit='instances', data_type=<class 'int'>)}\n",
      "--- Building graph for charge category: 'app_service_fee' ---\n",
      "Execution time for 'build': 495.3962 seconds\n"
     ]
    }
   ],
   "source": [
    "path = \"/gpfs01/home/ppxac9/MLiS-Placement-Thesis/LLM_generated_data/synthetic_dataset/datapoints_8B.jsonl\"\n",
    "# path = \"/gpfs01/home/ppxac9/MLiS-Placement-Thesis/LLM_generated_data/synthetic_dataset/datapoints_70B_4bit.jsonl\"\n",
    "result = generate(path)"
   ]
  },
  {
   "cell_type": "code",
   "execution_count": 34,
   "id": "2b3a3bd0",
   "metadata": {},
   "outputs": [
    {
     "data": {
      "text/plain": [
       "'Okay, let\\'s tackle this step by step. The user wants me to create a JSON expression tree for calculating the compute_vm_fee based on the Azure pricing document provided.\\n\\nFirst, I need to check the allowed variables. The document specifies that os_type is CATEGORICAL and usage_hours is NUMERIC. Looking at the query, both are marked as SYMBOLIC since the user hasn\\'t provided specific values for them. So in Step 1, I should list them with status SYMBOLIC.\\n\\nNext, I\\'ll analyze the Compute VM Pricing section. The table shows different rates based on billable hours and OS type. There are four hourly rate ranges for both Linux and Windows. The key here is that the OS type (os_type) determines which column to use (Linux or Windows), and usage_hours determines which rate tier applies.\\n\\nI need to break this down. For os_type, since it\\'s categorical and symbolic, I\\'ll have to handle both possibilities (Linux and Windows) using CONDITIONAL nodes. The document lists Linux and Windows, so those are the two categories. For usage_hours, it\\'s numeric and symbolic, so the ranges will be compared with the usage_hours variable.\\n\\nThe billable hours ranges are given as:\\n- 0 – 216.5: $4.00 (Linux), $4.80 (Windows)\\n- 216.5 – 408.7: $3.00 (Linux), $3.90 (Windows)\\n- 408.7 – 598.4: $2.00 (Linux), $2.20 (Windows)\\n- 598.4 – 744.0: $1.00 (Linux), $1.10 (Windows)\\n\\nWait, the upper limit for the last row is 744.0, which is a full month (24*31=744). So the ranges are inclusive of the lower bound and exclusive of the upper? Or inclusive both? The table says \"0 – 216.5\", so I\\'ll assume inclusive of lower, exclusive of upper. But need to confirm. However, the document doesn\\'t specify, so I\\'ll proceed as per standard ranges.\\n\\nThe calculation should first check the OS type. If os_type is Linux, then use the Linux rates; if Windows, use the Windows rates. Then, for the selected OS, check which hour range usage_hours falls into and multiply by usage_hours.\\n\\nSo the plan is:\\n1. Check os_type. If equal to \"Linux\", proceed to Linux rates; else (Windows), proceed to Windows rates.\\n2. For the selected OS, check usage_hours against the ranges and return the corresponding hourly rate.\\n3. Multiply the hourly rate by usage_hours to get the total fee.\\n\\nWait, but the document says \"Charge description - Charge for running virtual machines based on vCPU, memory, OS, and commitment.\" However, in the provided tables, the rates are only based on OS and hours, not vCPU or memory. The user\\'s query says \"based on vCPU, memory, OS, and commitment,\" but the document doesn\\'t mention those. Hmm. Wait, maybe the document\\'s Compute VM Pricing table is simplified, and the actual pricing might depend on other factors. But the user\\'s query says to use the document. Since the document\\'s table only has OS and hours, perhaps those are the only factors here. The mention of vCPU and memory might be from a different part of the document not shown here. But the problem states to use the given document, so I\\'ll proceed with the table provided.\\n\\nTherefore, the two variables are os_type (categorical) and usage_hours (numeric), and the fee is based on those.\\n\\nNow, for the expression tree:\\n\\n- First, a conditional based on os_type. The possible values are \"Linux\" and \"Windows\" (assuming those are the only options from the table). So, the CONDITIONAL node will have os_type compared to \"Linux\" and \"Windows\".\\n\\n- For each case, a nested conditional for usage_hours. For example, if os_type is Linux, then check if usage_hours is between 0-216.5, etc.\\n\\nBut the user\\'s query says to use the document, which lists the ranges. So for each OS, there are four ranges.\\n\\nWait, the table columns are \"Billable Hours\" and then Linux and Windows. The Billable Hours are the ranges. So for each OS, the rate is determined by which range the usage_hours falls into.\\n\\nSo the structure would be:\\n\\nIf os_type == \"Linux\":\\n    If usage_hours <= 216.5: rate = 4.00\\n    Else if usage_hours <= 408.7: rate = 3.00\\n    Else if usage_hours <= 598.4: rate = 2.00\\n    Else: rate = 1.00\\n\\nElse (Windows):\\n    If usage_hours <= 216.5: rate = 4.80\\n    Else if usage_hours <= 408.7: rate = 3.90\\n    Else if usage_hours <= 598.4: rate = 2.20\\n    Else: rate = 1.10\\n\\nThen total fee = rate * usage_hours\\n\\nBut need to handle the ranges correctly. The table says \"0 – 216.5\", which I\\'ll assume is 0 <= usage_hours <= 216.5, but sometimes ranges are exclusive. However, since it\\'s a continuous range, it\\'s more likely inclusive. For example, usage_hours=216.5 would be in the next range. Wait, the next range starts at 216.5, so it\\'s probably 0 ≤ h < 216.5, 216.5 ≤ h < 408.7, etc. But the problem doesn\\'t specify, so I\\'ll proceed with the ranges as given, using comparisons like h <= 216.5 for the first range.\\n\\nWait, for the first range, \"0 – 216.5\", so usage_hours from 0 up to and including 216.5. But the next range starts at 216.5, so it\\'s probably inclusive of the lower bound and exclusive of upper. Hmm. But the document uses \"–\" which in ranges often means inclusive. However, in pricing tables, it\\'s common that the upper bound is exclusive. For example, 0-216.5 means up to but not including 216.5. But the document says \"0 – 216.5\" followed by \"216.5 – 408.7\", so 216.5 is the start of the next range. So perhaps the first range is 0 ≤ h < 216.5, second is 216.5 ≤ h < 408.7, etc. But without explicit info, I\\'ll have to assume that the ranges are inclusive, and the upper bound is the next start. Wait, the first row is 0 – 216.5, second is 216.5 – 408.7. So the boundary is at 216.5. So usage_hours=216.5 would fall into the second range. Therefore, the first range is h < 216.5, second is 216.5 ≤ h < 408.7, etc.\\n\\nBut how to model this. In the expression tree, for the first range, it\\'s usage_hours < 216.5. Second range: 216.5 ≤ usage_hours < 408.7. So the condition for the first range would be usage_hours < 216.5, then next is usage_hours >= 216.5 and < 408.7, etc.\\n\\nHowever, the document\\'s table uses \"0 – 216.5\", so to be safe, I\\'ll model the ranges as inclusive of both ends. But in reality, the next range starts at the same point, so it\\'s likely exclusive upper. But the user\\'s instruction says to use the document as is. Let\\'s proceed with the exact numbers given.\\n\\nSo for the Linux rates:\\n\\n- If usage_hours <= 216.5: $4.00\\n- Else if usage_hours <= 408.7: $3.00\\n- Else if usage_hours <= 598.4: $2.00\\n- Else: $1.00\\n\\nWait, but the table says \"0 – 216.5\" which might mean up to 216.5, so usage_hours <= 216.5. Then \"216.5 – 408.7\" would be usage_hours > 216.5 and <=408.7? Or perhaps the ranges are inclusive. But in practice, these are continuous, so the upper bound is exclusive. However, since the document doesn\\'t specify, I\\'ll have to go with the way the ranges are listed. If the first range is 0-216.5, then the next starts at 216.5, so the first range is up to 216.5, inclusive. So usage_hours <=216.5 for first rate.\\n\\nBut in the table, the rate changes at 216.5. So perhaps the condition is usage_hours <=216.5 for the first rate, and so on.\\n\\nSo in the expression, for Linux:\\n\\n- If usage_hours <= 216.5 → 4.00\\n- Else if usage_hours <= 408.7 → 3.00\\n- Else if usage_hours <= 598.4 → 2.00\\n- Else → 1.00\\n\\nSimilarly for Windows.\\n\\nNow, for the expression tree, each condition is a COMPARISON node. The outer conditional checks os_type against \"Linux\" (using EQUAL_TO), then the inner conditionals check usage_hours against the numerical values.\\n\\nNeed to make sure that the numerical values are represented as VALUE nodes with type NUMERIC, and the categorical as CATEGORICAL_VALUE_NODE.\\n\\nAlso, the total fee is rate * usage_hours.\\n\\nSo putting it all together:\\n\\n- Start with a CONDITIONAL node for os_type.\\n  - Left: os_type (VARIABLE node)\\n  - Right: \"Linux\" (CATEGORICAL_VALUE_NODE)\\n  - Operator: EQUAL_TO\\n  - If true: use the Linux rates (another CONDITIONAL tree)\\n  - If false: use the Windows rates (another CONDITIONAL tree)\\n\\nFor the Linux branch, the inner CONDITIONAL for usage_hours:\\n\\n- First condition: usage_hours <= 216.5 → value 4.00\\n- Else if: <=408.7 → 3.00\\n- Else if: <=598.4 → 2.00\\n- Else → 1.00\\n\\nSame for Windows with their rates.\\n\\nThen multiply the resulting rate by usage_hours.\\n\\nBut need to structure this as a tree. Each of the inner CONDITIONALs will be a nested conditional with multiple branches.\\n\\nImportant to note: the document lists the ranges in order, so the conditions should be checked in order. So the first condition checks the lower bound, and if true, returns the rate; else, checks the next, etc.\\n\\nSo the expression tree will have a top-level CONDITIONAL for os_type, then two branches, each with a nested CONDITIONAL for the usage_hours ranges.\\n\\nNow, checking the allowed variables: os_type (categorical, symbolic) and usage_hours (numeric, symbolic). So in Step 1, we\\'ll have both as SYMBOLIC.\\n\\nStep 1: Parameters\\n\\n- os_type: status SYMBOLIC, type CATEGORICAL\\n- usage_hours: status SYMBOLIC, type NUMERIC\\n\\nStep 2: Extract all relevant facts.\\n\\nFrom the Compute VM Pricing table:\\n\\n- For Linux:\\n  - 0–216.5: $4.00/hour\\n  - 216.5–408.7: $3.00/hour\\n  - 408.7–598.4: $2.00/hour\\n  - 598.4–744.0: $1.00/hour\\n- For Windows:\\n  - 0–216.5: $4.80/hour\\n  - 216.5–408.7: $3.90/hour\\n  - 408.7–598.4: $2.20/hour\\n  - 598.4–744.0: $1.10/hour\\n\\nThese are the constants needed.\\n\\nStep 3: Synthesize Plan.\\n\\nThe total compute_vm_fee = (rate based on os_type and usage_hours) * usage_hours.\\n\\nThe rate depends on os_type and usage_hours. So the expression tree will first determine the rate via conditionals, then multiply by usage_hours.\\n\\nStep 4: Rethink.\\n\\nDouble-check that all variables are accounted for. os_type and usage_hours are symbolic, so the tree must handle all possibilities. The document lists two OS types (Linux, Windows), so the CONDITIONAL for os_type should cover both. For each OS, the hour ranges are covered by the nested conditionals.\\n\\nNeed to make sure that the ranges are correctly represented as comparisons. For example, for the first Linux rate, usage_hours <= 216.5. The upper limit of the range is 216.5, so the condition is usage_hours <= 216.5. However, if the next range starts at 216.5, then this might mean that 216.5 falls into the next range, but according to the document\\'s table, the first range includes up to 216.5. Wait, the table says \"0 – 216.5\" and \"216.5 – 408.7\". So the first range is up to and including 216.5, and the next starts at 216.5. But that would mean 216.5 is in both, which is not possible. Therefore, it\\'s more likely that the first range is up to but not including 216.5, so usage_hours < 216.5, and the next starts at 216.5. But the problem is that the document uses \"–\" which can be ambiguous.\\n\\nGiven that the document is from Microsoft Azure, I recall that in Azure pricing, the ranges are typically inclusive of the lower bound and exclusive of the upper. For example, a range of 0-216.5 means 0 ≤ h < 216.5. So usage_hours of 216.5 would be in the next range.\\n\\nTherefore, the conditions should be:\\n\\nFor Linux:\\n\\n- If usage_hours < 216.5 → 4.00\\n- Else if usage_hours < 408.7 → 3.00\\n- Else if usage_hours < 598.4 → 2.00\\n- Else → 1.00\\n\\nBut the document lists the ranges as 0 – 216.5, so to be consistent with how the ranges are presented, perhaps the condition is usage_hours <= 216.5. However, this is a common point of confusion. Given the problem statement says to use the document as is, and the document uses the ranges as listed, I\\'ll proceed with the conditions as usage_hours <= the upper limit of the range. So for the first range, usage_hours <= 216.5.\\n\\nBut this could lead to overlap. However, in the absence of specific info, the user\\'s instruction says to follow the document. So the table\\'s first row says 0-216.5 with $4.00, so the condition is usage_hours <=216.5.\\n\\nSo the conditions will be:\\n\\nFor Linux:\\n- usage_hours <= 216.5 → 4.00\\n- usage_hours <= 408.7 → 3.00\\n- usage_hours <= 598.4 → 2.00\\n- else → 1.00\\n\\nBut since the ranges are sequential, the first condition that matches is used. So for example, if usage_hours is 200, it\\'s <=216.5, so 4.00. If it\\'s 220, it\\'s <=408.7, so 3.00, etc.\\n\\nThat\\'s the standard way these tables are interpreted, so I\\'ll go with that.\\n\\nNow, for the JSON structure.\\n\\nThe top-level node will be a multiplication node (MULTIPLY), where the left child is the rate (from the conditionals), and the right child is usage_hours.\\n\\nThe rate is determined by a CONDITIONAL node (for os_type), which has two branches: Linux and Windows.\\n\\nEach branch (Linux and Windows) is a CONDITIONAL node for the usage_hours ranges.\\n\\nFor the Linux branch, the CONDITIONAL has four conditions, but in practice, it\\'s a chain of if-else conditions. So it\\'s a single CONDITIONAL node with three conditions (since the last branch is the else).\\n\\nIn the JSON structure, the CONDITIONAL node will have:\\n\\n- condition: a COMPARISON node for the first condition\\n- true_node: the value for that condition (if true)\\n- false_node: another CONDITIONAL node for the next condition\\n\\nBut in the JSON format specified, I think each CONDITIONAL node has a condition, true_value, and false_value. So for the Linux rate, it would be:\\n\\nCONDITIONAL\\n  condition: usage_hours <= 216.5\\n  true_value: 4.00\\n  false_value: (another CONDITIONAL for the next range)\\n\\nAnd so on.\\n\\nSimilarly for Windows.\\n\\nPutting this all together.\\n\\nThe final JSON should have:\\n\\n- A top-level node that\\'s a multiplication of the rate and usage_hours.\\n- The rate is a CONDITIONAL based on os_type.\\n- The os_type CONDITIONAL checks os_type == \"Linux\", then the rest follows.\\n\\nNow, in the JSON structure, the nodes should be defined with their types.\\n\\nEach node type:\\n\\n- VARIABLE: for os_type and usage_hours\\n- CATEGORICAL_VALUE_NODE: for the category strings like \"Linux\"\\n- VALUE_NODE: for numeric values like 216.5, 4.00, etc.\\n- COMPARISON: for the comparisons (e.g., <= between usage_hours and 216.5)\\n- CONDITIONAL: for the branching\\n- MULTIPLY: for the final multiplication\\n\\nWait, the user\\'s example shows that the expression tree uses specific node types. From the guidelines, examples include COMPARISON with operator EQUAL_TO, and VALUE nodes for numbers.\\n\\nSo, for the usage_hours comparison:\\n\\n- COMPARISON with operator LESS_THAN_OR_EQUAL_TO (assuming the range is inclusive)\\n- left: usage_hours (VARIABLE)\\n- right: 216.5 (VALUE_NODE with value 216.5)\\n\\nSimilarly for other comparisons.\\n\\nNow, building the JSON.\\n\\nFirst, the parameters:\\n\\n- os_type: SYMBOLIC, CATEGORICAL\\n- usage_hours: SYMBOLIC, NUMERIC\\n\\nThen, the relevant facts from the table. But in the JSON, the expression tree is generated, so the facts are encoded into the tree structure.\\n\\nSo the expression tree will include the rates and the ranges as VALUE nodes.\\n\\nNow, let\\'s outline the JSON structure.\\n\\nThe root node is a MULTIPLY node.\\n\\nLeft child: a CONDITIONAL node that determines the rate.\\n\\nRight child: usage_hours (VARIABLE).\\n\\nThe CONDITIONAL node for os_type:\\n\\n- condition: COMPARISON (os_type EQUAL_TO \"Linux\")\\n- true_node: the Linux rate CONDITIONAL\\n- false_node: the Windows rate CONDITIONAL\\n\\nThe Linux rate CONDITIONAL:\\n\\n- condition: COMPARISON (usage_hours <= 216.5)\\n- true_node: VALUE 4.00\\n- false_node: another CONDITIONAL for usage_hours <=408.7\\n\\nAnd so on for the next ranges.\\n\\nSimilarly for Windows, with their respective rates.\\n\\nSo, for example, the Linux rate CONDITIONAL would have four branches (but encoded as nested CONDITIONALS).\\n\\nNow, the JSON structure needs to correctly represent the hierarchy.\\n\\nLet\\'s map it out.\\n\\nRoot: MULTIPLY\\n  left: CONDITIONAL (os_type)\\n    condition: COMPARISON (os_type == \"Linux\")\\n    true: CONDITIONAL (Linux rates)\\n    false: CONDITIONAL (Windows rates)\\n  right: VARIABLE (usage_hours)\\n\\nThe Linux rates CONDITIONAL:\\n\\n- condition: COMPARISON (usage_hours <= 216.5)\\n  true: 4.00\\n  false: CONDITIONAL (next condition)\\n    condition: COMPARISON (usage_hours <= 408.7)\\n    true: 3.00\\n    false: CONDITIONAL (next)\\n      condition: COMPARISON (usage_hours <= 598.4)\\n      true: 2.00\\n      false: 1.00\\n\\nSimilarly for Windows.\\n\\nNow, checking the numeric values: 216.5, 408.7, 598.4, 744.0 are all NUMERIC, so they should be VALUE nodes with type NUMERIC.\\n\\nThe rate values (4.00, 3.00, etc.) are NUMERIC, so they\\'re VALUE nodes.\\n\\nThe OS types are string values, so \"Linux\" and \"Windows\" should be CATEGORICAL_VALUE_NODE.\\n\\nNow, ensuring compliance with the rules:\\n\\n- os_type is CATEGORICAL, so comparisons use CATEGORICAL_VALUE_NODE.\\n- usage_hours is NUMERIC, so comparisons with VALUE nodes of type NUMERIC.\\n\\nNo issues here.\\n\\nThe document lists two OS types, so the CONDITIONAL for os_type covers both. There\\'s no default, so it\\'s handled properly.\\n\\nNo variables are incorrectly treated as KNOWN; both are SYMBOLIC.\\n\\nNow, for the JSON, I need to structure each node.\\n\\nFirst, the parameters for Step 1:\\n\\n[\\n  {\\n    \"name\": \"os_type\",\\n    \"status\": \"SYMBOLIC\",\\n    \"type_of_variable\": \"CATEGORICAL\",\\n    \"value\": null\\n  },\\n  {\\n    \"name\": \"usage_hours\",\\n    \"status\": \"SYMBOLIC\",\\n    \"type_of_variable\": \"NUMERIC\",\\n    \"value\": null\\n  }\\n]\\n\\nThat\\'s Step 1.\\n\\nThen, the expression tree.\\n\\nThe root node:\\n\\n{\\n  \"node_type\": \"MULTIPLY\",\\n  \"left\": {\\n    \"node_type\": \"CONDITIONAL\",\\n    \"condition\": {\\n      \"node_type\": \"COMPARISON\",\\n      \"operator\": \"EQUAL_TO\",\\n      \"left\": {\\n        \"node_type\": \"VARIABLE\",\\n        \"name\": \"os_type\"\\n      },\\n      \"right\": {\\n        \"node_type\": \"CATEGORICAL_VALUE_NODE\",\\n        \"value\": \"Linux\"\\n      }\\n    },\\n    \"true_node\": {\\n      \"node_type\": \"CONDITIONAL\",\\n      \"condition\": {\\n        \"node_type\": \"COMPARISON\",\\n        \"operator\": \"LESS_THAN_OR_EQUAL_TO\",\\n        \"left\": {\\n          \"node_type\": \"VARIABLE\",\\n          \"name\": \"usage_hours\"\\n        },\\n        \"right\": {\\n          \"node_type\": \"VALUE_NODE\",\\n          \"value\": 216.5\\n        }\\n      },\\n      \"true_node\": {\\n        \"node_type\": \"VALUE_NODE\",\\n        \"value\": 4.00\\n      },\\n      \"false_node\": {\\n        \"node_type\": \"CONDITIONAL\",\\n        \"condition\": {\\n          \"node_type\": \"COMPARISON\",\\n          \"operator\": \"LESS_THAN_OR_EQUAL_TO\",\\n          \"left\": {\\n            \"node_type\": \"VARIABLE\",\\n            \"name\": \"usage_hours\"\\n          },\\n          \"right\": {\\n            \"node_type\": \"VALUE_NODE\",\\n            \"value\": 408.7\\n          }\\n        },\\n        \"true_node\": {\\n          \"node_type\": \"VALUE_NODE\",\\n          \"value\": 3.00\\n        },\\n        \"false_node\": {\\n          \"node_type\": \"CONDITIONAL\",\\n          \"condition\": {\\n            \"node_type\": \"COMPARISON\",\\n            \"operator\": \"LESS_THAN_OR_EQUAL_TO\",\\n            \"left\": {\\n              \"node_type\": \"VARIABLE\",\\n              \"name\": \"usage_hours\"\\n            },\\n            \"right\": {\\n              \"node_type\": \"VALUE_NODE\",\\n              \"value\": 598.4\\n            }\\n          },\\n          \"true_node\": {\\n            \"node_type\": \"VALUE_NODE\",\\n            \"value\": 2.00\\n          },\\n          \"false_node\": {\\n            \"node_type\": \"VALUE_NODE\",\\n            \"value\": 1.00\\n          }\\n        }\\n      }\\n    },\\n    \"false_node\": {\\n      \"node_type\": \"CONDITIONAL\",\\n      \"condition\": {\\n        \"node_type\": \"COMPARISON\",\\n        \"operator\": \"LESS_THAN_OR_EQUAL_TO\",\\n        \"left\": {\\n          \"node_type\": \"VARIABLE\",\\n          \"name\": \"usage_hours\"\\n        },\\n        \"right\": {\\n          \"node_type\": \"VALUE_NODE\",\\n          \"value\": 216.5\\n        }\\n      },\\n      \"true_node\": {\\n        \"node_type\": \"VALUE_NODE\",\\n        \"value\": 4.80\\n      },\\n      \"false_node\": {\\n        \"node_type\": \"CONDITIONAL\",\\n        \"condition\": {\\n          \"node_type\": \"COMPARISON\",\\n          \"operator\": \"LESS_THAN_OR_EQUAL_TO\",\\n          \"left\": {\\n            \"node_type\": \"VARIABLE\",\\n            \"name\": \"usage_hours\"\\n          },\\n          \"right\": {\\n            \"node_type\": \"VALUE_NODE\",\\n            \"value\": 408.7\\n          }\\n        },\\n        \"true_node\": {\\n          \"node_type\": \"VALUE_NODE\",\\n          \"value\": 3.90\\n        },\\n        \"false_node\": {\\n          \"node_type\": \"CONDITIONAL\",\\n          \"condition\": {\\n            \"node_type\": \"COMPARISON\",\\n            \"operator\": \"LESS_THAN_OR_EQUAL_TO\",\\n            \"left\": {\\n              \"node_type\": \"VARIABLE\",\\n              \"name\": \"usage_hours\"\\n            },\\n            \"right\": {\\n              \"node_type\": \"VALUE_NODE\",\\n              \"value\": 598.4\\n            }\\n          },\\n          \"true_node\": {\\n            \"node_type\": \"VALUE_NODE\",\\n            \"value\": 2.20\\n          },\\n          \"false_node\": {\\n            \"node_type\": \"VALUE_NODE\",\\n            \"value\": 1.10\\n          }\\n        }\\n      }\\n    }\\n  },\\n  \"right\": {\\n    \"node_type\": \"VARIABLE\",\\n    \"name\": \"usage_hours\"\\n  }\\n}\\n\\nWait, but the root node\\'s right child is usage_hours, so it\\'s MULTIPLY(left, usage_hours).\\n\\nBut in the JSON structure, the MULTIPLY node should have left and right fields.\\n\\nYes.\\n\\nNow, need to check all operators. For the comparisons, the document\\'s ranges are 0–216.5, so the condition is usage_hours <= 216.5, so operator is LESS_THAN_OR_EQUAL_TO.\\n\\nSimilarly for the others.\\n\\nAlso, note that the upper limit of the last range is 744.0, but the condition for the last branch is just else, so no need to check for >598.4, since the previous conditions have covered up to 598.4.\\n\\nAlso, the values like 4.00 are NUMERIC, so they should be represented as numbers (4.00 is fine as 4.0).\\n\\nIn JSON, numbers are fine as real numbers.\\n\\nNow, verify that all nodes are correctly structured.\\n\\nAnother check: the os_type condition uses EQUAL_TO with the CATEGORICAL_VALUE_NODE \"Linux\". The false branch is for Windows. But the document lists \"Linux\" and \"Windows\" as the only OS types. So the false branch assumes it\\'s Windows, which is correct.\\n\\nNo other OS types are mentioned, so this is sufficient.\\n\\nNow, all variables are properly handled as SYMBOLIC, and the tree covers all possibilities.\\n\\nI think that\\'s it. The JSON structure should be as above.\\n\\nWait, but the user\\'s example showed that the rate is per hour, so the total fee is rate * usage_hours, which is correct.\\n\\nYes.\\n\\nSo the final JSON will have the structure as described.\\n'"
      ]
     },
     "execution_count": 34,
     "metadata": {},
     "output_type": "execute_result"
    }
   ],
   "source": [
    "result['0']['compute_vm_fee']['compute_vm_fee']['reasoning']"
   ]
  },
  {
   "cell_type": "code",
   "execution_count": 38,
   "id": "0654bfba",
   "metadata": {},
   "outputs": [],
   "source": [
    "import pickle\n",
    "with open('result_8b_30bthink_1.pkl', 'wb') as f:\n",
    "    pickle.dump(result, f)\n",
    "\n",
    "# with open('result_70b_5.pkl', 'rb') as f:\n",
    "#     result = pickle.load(f)\n"
   ]
  },
  {
   "cell_type": "code",
   "execution_count": 46,
   "id": "f4f24f21",
   "metadata": {},
   "outputs": [],
   "source": [
    "from json import JSONDecodeError\n",
    "\n",
    "def generate_missing(path, _missing_charge, _doc_id):\n",
    "    computed_records = {}\n",
    "    with open(path, \"r\", encoding=\"utf-8\") as f:\n",
    "        records = [json.loads(line) for line in f if line.strip()]\n",
    "    \n",
    "    for record_id, record in enumerate(records):\n",
    "        if record_id != _doc_id:\n",
    "            continue\n",
    "        content, charges = record\n",
    "        markdown_content = content\n",
    "        charge_category_variables = {k: v['variables_used'] for k, v in charges.items()}\n",
    "        computed_records[str(record_id)] = {}\n",
    "        import builtins\n",
    "        def to_built_in_type(type_str: str):\n",
    "            t = getattr(builtins, type_str, None)\n",
    "            if isinstance(t, type):\n",
    "                return t\n",
    "            raise ValueError(f\"{type_str} is not a valid built-in type\")\n",
    "\n",
    "        charge_variables = {}\n",
    "        all_variables = {}\n",
    "        for charge, variables in charge_category_variables.items():\n",
    "            charge_variables[charge] = list(variables.keys())\n",
    "            for var, details in variables.items():\n",
    "                all_variables[var] = DomainVariable(name=var,\n",
    "                    description=details['description'],\n",
    "                    unit=details['unit'],\n",
    "                    data_type=to_built_in_type(details['dtype']))\n",
    "\n",
    "        for charge_category in list(charge_variables.keys()):\n",
    "            if charge_category != _missing_charge:\n",
    "                continue\n",
    "            query = f\"Calculate the total {charge_category}. Charge description - {charges[charge_category]['charge_description']}\"    \n",
    "            print(query, charge_category, charge_variables, all_variables)\n",
    "            result, execution_time = create_computation_graph(base_lm, query, charge_category, markdown_content, charge_variables, all_variables)\n",
    "            \n",
    "            try:\n",
    "                payload = {charge_category: {\n",
    "                    'query': query,\n",
    "                    'thought2':json.loads(result.get(\"thought2\")),\n",
    "                    'thought3':json.loads(result.get(\"thought3\")),\n",
    "                    'thought4':json.loads(result.get(\"thought4\")),\n",
    "                    'computation_graph':json.loads(result.get(\"result_graph\")),\n",
    "                    'execution_time': execution_time,\n",
    "                    'status': 'SUCCESS'\n",
    "                }\n",
    "                }\n",
    "                print(payload)\n",
    "                computed_records[str(record_id)][charge_category] = payload\n",
    "            except JSONDecodeError:\n",
    "                payload = {charge_category: {\n",
    "                    'query': query,\n",
    "                    'thought2':result.get(\"thought2\"),\n",
    "                    'thought3':result.get(\"thought3\"),\n",
    "                    'thought4':result.get(\"thought4\"),\n",
    "                    'computation_graph':result.get(\"result_graph\"),\n",
    "                    'execution_time': execution_time,\n",
    "                    'status': 'ERROR'\n",
    "                }\n",
    "                }\n",
    "\n",
    "            \n",
    "    return computed_records"
   ]
  },
  {
   "cell_type": "code",
   "execution_count": null,
   "id": "1d1cfb10",
   "metadata": {},
   "outputs": [
    {
     "name": "stdout",
     "output_type": "stream",
     "text": [
      "Calculate the total compute_vm_fee. Charge description - Charge for running virtual machines based on vCPU, memory, OS, and commitment. compute_vm_fee {'compute_vm_fee': ['os_type', 'usage_hours'], 'gpu_compute_fee': ['gpu_type'], 'managed_disk_fee': ['managed_disk_count'], 'data_egress_fee': ['region'], 'data_ingress_fee': ['region', 'data_ingress_gb'], 'storage_transaction_fee': ['redundancy', 'storage_transactions_millions'], 'public_ip_fee': ['region', 'public_ip_count'], 'load_balancer_fee': ['load_balancer_rules'], 'aks_cluster_fee': ['region'], 'function_app_fee': ['region', 'function_exec_ms'], 'sql_database_fee': ['region', 'backup_retention_days'], 'snapshot_storage_fee': ['redundancy'], 'app_service_fee': ['service_tier', 'app_service_instances']} {'os_type': DomainVariable(name='os_type', description='Operating system for the compute workload', unit='os', data_type=<class 'str'>), 'usage_hours': DomainVariable(name='usage_hours', description='Total runtime in hours over the billing window', unit='hours', data_type=<class 'float'>), 'gpu_type': DomainVariable(name='gpu_type', description='Type of GPU accelerator', unit='gpu type', data_type=<class 'str'>), 'managed_disk_count': DomainVariable(name='managed_disk_count', description='Count of managed disks attached', unit='disks', data_type=<class 'int'>), 'region': DomainVariable(name='region', description='Azure region where resources are deployed', unit='region', data_type=<class 'str'>), 'data_ingress_gb': DomainVariable(name='data_ingress_gb', description='Inbound data transferred to Azure', unit='GB', data_type=<class 'float'>), 'redundancy': DomainVariable(name='redundancy', description='Storage redundancy configuration', unit='redundancy', data_type=<class 'str'>), 'storage_transactions_millions': DomainVariable(name='storage_transactions_millions', description='Number of storage account operations in millions', unit='million tx', data_type=<class 'float'>), 'public_ip_count': DomainVariable(name='public_ip_count', description='Number of public IP addresses allocated', unit='IPs', data_type=<class 'int'>), 'load_balancer_rules': DomainVariable(name='load_balancer_rules', description='Configured load balancer rules', unit='rules', data_type=<class 'int'>), 'function_exec_ms': DomainVariable(name='function_exec_ms', description='Average or billed execution time per invocation', unit='ms', data_type=<class 'float'>), 'backup_retention_days': DomainVariable(name='backup_retention_days', description='Backup retention period for databases', unit='days', data_type=<class 'int'>), 'service_tier': DomainVariable(name='service_tier', description='Service tier for managed services', unit='tier', data_type=<class 'str'>), 'app_service_instances': DomainVariable(name='app_service_instances', description='Count of App Service instances', unit='instances', data_type=<class 'int'>)}\n",
      "--- Building graph for charge category: 'compute_vm_fee' ---\n"
     ]
    },
    {
     "data": {
      "application/vnd.jupyter.widget-view+json": {
       "model_id": "c6025d38adc442c9b2d7c1377c98d47d",
       "version_major": 2,
       "version_minor": 0
      },
      "text/plain": [
       "StitchWidget(initial_height='auto', initial_width='100%', srcdoc='<!doctype html>\\n<html lang=\"en\">\\n<head>\\n …"
      ]
     },
     "metadata": {},
     "output_type": "display_data"
    }
   ],
   "source": [
    "path = \"/gpfs01/home/ppxac9/MLiS-Placement-Thesis/LLM_generated_data/synthetic_dataset/datapoints_8B.jsonl\"\n",
    "# path = \"/gpfs01/home/ppxac9/MLiS-Placement-Thesis/LLM_generated_data/synthetic_dataset/datapoints_70B_4bit.jsonl\"\n",
    "missing_result = generate_missing(path, 'compute_vm_fee', 0)\n",
    "\n",
    "# {0: {'compute_vm_fee': [None,\n",
    "#    UnboundLocalError(\"cannot access local variable 'graph' where it is not associated with a value\")]},\n",
    "#  1: {'public_ip_fee': [None, ValueError('Unknown node type: None')],\n",
    "#   'load_balancer_fee': [None, ValueError('Unknown node type: None')],\n",
    "#   'aks_cluster_fee':"
   ]
  },
  {
   "cell_type": "code",
   "execution_count": 26,
   "id": "0f123e77",
   "metadata": {},
   "outputs": [],
   "source": [
    "with open(path, \"r\", encoding=\"utf-8\") as f:\n",
    "    records = [json.loads(line) for line in f if line.strip()]\n",
    "    "
   ]
  },
  {
   "cell_type": "code",
   "execution_count": 37,
   "id": "9de8faf1",
   "metadata": {},
   "outputs": [
    {
     "data": {
      "text/plain": [
       "{'description': 'data_egress_fee conditions by geo_region and egress_gb:\\n\\nfor uk_south the following charges apply:\\n  - if egress_gb in [53347.4, 100000.0), charge is 1.0 × egress_gb\\n  - if egress_gb in [32312.1, 53347.4), charge is 2.0 × egress_gb\\n  - if egress_gb in [0.0, 32312.1), charge is 3.0 × egress_gb\\nfor uk_west the following charges apply:\\n  - if egress_gb in [53347.4, 100000.0), charge is 1.1 × egress_gb\\n  - if egress_gb in [32312.1, 53347.4), charge is 2.2 × egress_gb\\n  - if egress_gb in [0.0, 32312.1), charge is 3.3 × egress_gb\\nfor westeurope the following charges apply:\\n  - if egress_gb in [53347.4, 100000.0), charge is 1.2 × egress_gb\\n  - if egress_gb in [32312.1, 53347.4), charge is 2.4 × egress_gb\\n  - if egress_gb in [0.0, 32312.1), charge is 3.6 × egress_gb\\nfor northeurope the following charges apply:\\n  - if egress_gb in [53347.4, 100000.0), charge is 1.3 × egress_gb\\n  - if egress_gb in [32312.1, 53347.4), charge is 2.6 × egress_gb\\n  - if egress_gb in [0.0, 32312.1), charge is 3.9 × egress_gb\\nfor eastus the following charges apply:\\n  - if egress_gb in [53347.4, 100000.0), charge is 1.4 × egress_gb\\n  - if egress_gb in [32312.1, 53347.4), charge is 2.8 × egress_gb\\n  - if egress_gb in [0.0, 32312.1), charge is 4.2 × egress_gb\\nfor westus2 the following charges apply:\\n  - if egress_gb in [53347.4, 100000.0), charge is 1.5 × egress_gb\\n  - if egress_gb in [32312.1, 53347.4), charge is 3.0 × egress_gb\\n  - if egress_gb in [0.0, 32312.1), charge is 4.5 × egress_gb',\n",
       " 'code': \"def compute_charge(region, data_egress_gb):\\n    if region == 'uk_south' and 53347.4 <= data_egress_gb < 100000.0: return 1 * data_egress_gb * 1.0\\n    elif region == 'uk_south' and 32312.1 <= data_egress_gb < 53347.4: return 2 * data_egress_gb * 1.0\\n    elif region == 'uk_south' and 0.0 <= data_egress_gb < 32312.1: return 3 * data_egress_gb * 1.0\\n    elif region == 'uk_west' and 53347.4 <= data_egress_gb < 100000.0: return 1 * data_egress_gb * 1.1\\n    elif region == 'uk_west' and 32312.1 <= data_egress_gb < 53347.4: return 2 * data_egress_gb * 1.1\\n    elif region == 'uk_west' and 0.0 <= data_egress_gb < 32312.1: return 3 * data_egress_gb * 1.1\\n    elif region == 'westeurope' and 53347.4 <= data_egress_gb < 100000.0: return 1 * data_egress_gb * 1.2\\n    elif region == 'westeurope' and 32312.1 <= data_egress_gb < 53347.4: return 2 * data_egress_gb * 1.2\\n    elif region == 'westeurope' and 0.0 <= data_egress_gb < 32312.1: return 3 * data_egress_gb * 1.2\\n    elif region == 'northeurope' and 53347.4 <= data_egress_gb < 100000.0: return 1 * data_egress_gb * 1.3\\n    elif region == 'northeurope' and 32312.1 <= data_egress_gb < 53347.4: return 2 * data_egress_gb * 1.3\\n    elif region == 'northeurope' and 0.0 <= data_egress_gb < 32312.1: return 3 * data_egress_gb * 1.3\\n    elif region == 'eastus' and 53347.4 <= data_egress_gb < 100000.0: return 1 * data_egress_gb * 1.4\\n    elif region == 'eastus' and 32312.1 <= data_egress_gb < 53347.4: return 2 * data_egress_gb * 1.4\\n    elif region == 'eastus' and 0.0 <= data_egress_gb < 32312.1: return 3 * data_egress_gb * 1.4\\n    elif region == 'westus2' and 53347.4 <= data_egress_gb < 100000.0: return 1 * data_egress_gb * 1.5\\n    elif region == 'westus2' and 32312.1 <= data_egress_gb < 53347.4: return 2 * data_egress_gb * 1.5\\n    elif region == 'westus2' and 0.0 <= data_egress_gb < 32312.1: return 3 * data_egress_gb * 1.5\\n    else: raise ValueError(f'region or data_egress_gb is out of expected range')\",\n",
       " 'variables_used': {'region': {'unit': 'region',\n",
       "   'description': 'Azure region where resources are deployed',\n",
       "   'dtype': 'str'},\n",
       "  'data_egress_gb': {'unit': 'GB',\n",
       "   'description': 'Outbound data transferred from Azure',\n",
       "   'dtype': 'float'}},\n",
       " 'synonyms': ['egress charge', 'outbound data fee', 'data transfer out'],\n",
       " 'charge_description': 'Charge for data leaving Azure regions.'}"
      ]
     },
     "execution_count": 37,
     "metadata": {},
     "output_type": "execute_result"
    }
   ],
   "source": [
    "records[3][1]['data_egress_fee']"
   ]
  },
  {
   "cell_type": "code",
   "execution_count": 38,
   "id": "23488e8e",
   "metadata": {},
   "outputs": [
    {
     "data": {
      "text/plain": [
       "'# Microsoft Azure Cloud Pricing Policy Document\\n\\nMicrosoft Azure is pleased to present its official Cloud Pricing Policy document, which provides a comprehensive outline of our fee structure and pricing guidelines for cloud services in USD. This document serves as a definitive guide for understanding the costs associated with utilizing Microsoft Azure\\'s cloud offerings.\\n\\n## Virtual Machine Usage Fees\\n\\n<table border=\"1\" cellspacing=\"0\" cellpadding=\"6\">\\n  <thead>\\n    <tr>\\n      <th>VM Series</th>\\n      <th>Billable Hours Range</th>\\n      <th>Charge Multiplier</th>\\n    </tr>\\n  </thead>\\n  <tbody>\\n    <tr>\\n      <td rowspan=\"3\">Dsv5</td>\\n      <td>0.0 - 194.9 hours</td>\\n      <td>3.0 × billable hours</td>\\n    </tr>\\n    <tr>\\n      <td>194.9 - 725.5 hours</td>\\n      <td>2.0 × billable hours</td>\\n    </tr>\\n    <tr>\\n      <td>725.5 - 744.0 hours</td>\\n      <td>1.0 × billable hours</td>\\n    </tr>\\n    <tr>\\n      <td rowspan=\"3\">Esv5</td>\\n      <td>0.0 - 194.9 hours</td>\\n      <td>3.3 × billable hours</td>\\n    </tr>\\n    <tr>\\n      <td>194.9 - 725.5 hours</td>\\n      <td>2.2 × billable hours</td>\\n    </tr>\\n    <tr>\\n      <td>725.5 - 744.0 hours</td>\\n      <td>1.1 × billable hours</td>\\n    </tr>\\n    <tr>\\n      <td rowspan=\"3\">Fsv2</td>\\n      <td>0.0 - 194.9 hours</td>\\n      <td>3.6 × billable hours</td>\\n    </tr>\\n    <tr>\\n      <td>194.9 - 725.5 hours</td>\\n      <td>2.4 × billable hours</td>\\n    </tr>\\n    <tr>\\n      <td>725.5 - 744.0 hours</td>\\n      <td>1.2 × billable hours</td>\\n    </tr>\\n    <tr>\\n      <td rowspan=\"3\">Lsv3</td>\\n      <td>0.0 - 194.9 hours</td>\\n      <td>3.9 × billable hours</td>\\n    </tr>\\n    <tr>\\n      <td>194.9 - 725.5 hours</td>\\n      <td>2.6 × billable hours</td>\\n    </tr>\\n    <tr>\\n      <td>725.5 - 744.0 hours</td>\\n      <td>1.3 × billable hours</td>\\n    </tr>\\n    <tr>\\n      <td rowspan=\"3\">NCasT4_v3</td>\\n      <td>0.0 - 194.9 hours</td>\\n      <td>4.2 × billable hours</td>\\n    </tr>\\n    <tr>\\n      <td>194.9 - 725.5 hours</td>\\n      <td>2.8 × billable hours</td>\\n    </tr>\\n    <tr>\\n      <td>725.5 - 744.0 hours</td>\\n      <td>1.4 × billable hours</td>\\n    </tr>\\n  </tbody>\\n</table>\\n\\n## GPU Accelerated Virtual Machines and Container Instances Pricing\\n\\n<table border=\"1\" cellspacing=\"0\" cellpadding=\"6\">\\n  <thead>\\n    <tr>\\n      <th>Accelerator Type</th>\\n      <th>Billable Hours Range</th>\\n      <th>Charge Multiplier</th>\\n    </tr>\\n  </thead>\\n  <tbody>\\n    <tr>\\n      <td>T4</td>\\n      <td>0 – 413.9</td>\\n      <td>1.0×</td>\\n    </tr>\\n    <tr>\\n      <td>T4</td>\\n      <td>413.9 – 636.9</td>\\n      <td>2.0×</td>\\n    </tr>\\n    <tr>\\n      <td>T4</td>\\n      <td>636.9 – 744.0</td>\\n      <td>3.0×</td>\\n    </tr>\\n    <tr>\\n      <td>A10</td>\\n      <td>0 – 413.9</td>\\n      <td>1.1×</td>\\n    </tr>\\n    <tr>\\n      <td>A10</td>\\n      <td>413.9 – 636.9</td>\\n      <td>2.2×</td>\\n    </tr>\\n    <tr>\\n      <td>A10</td>\\n      <td>636.9 – 744.0</td>\\n      <td>3.3×</td>\\n    </tr>\\n    <tr>\\n      <td>A100</td>\\n      <td>0 – 413.9</td>\\n      <td>1.2×</td>\\n    </tr>\\n    <tr>\\n      <td>A100</td>\\n      <td>413.9 – 636.9</td>\\n      <td>2.4×</td>\\n    </tr>\\n    <tr>\\n      <td>A100</td>\\n      <td>636.9 – 744.0</td>\\n      <td>3.6×</td>\\n    </tr>\\n    <tr>\\n      <td>MI300X</td>\\n      <td>0 – 413.9</td>\\n      <td>1.3×</td>\\n    </tr>\\n    <tr>\\n      <td>MI300X</td>\\n      <td>413.9 – 636.9</td>\\n      <td>2.6×</td>\\n    </tr>\\n    <tr>\\n      <td>MI300X</td>\\n      <td>636.9 – 744.0</td>\\n      <td>3.9×</td>\\n    </tr>\\n  </tbody>\\n</table>\\n\\n## Managed Disk Pricing: Usage-Based Charges for Provisioned Storage Capacity\\n\\nThis charge category applies to resources deployed in specific locations. The charge amount varies based on the location of the resource, measured in geographic regions. In USD, the charge amounts are as follows: 1 unit for resources located in West Europe, 2 units for resources in North Europe, 3 units for resources in East US, 4 units for resources in West US 2, 5 units for resources in UK West, and 6 units for resources in UK South.\\n\\nThe purpose of this charge is to account for varying operational costs associated with resource deployment across different regions. By assigning a distinct charge amount to each location, this category ensures accurate cost attribution and billing for resources utilized in diverse geographic areas.\\n\\n## Data Transfer Pricing - Outbound Data Egress Fees\\n\\n<table border=\"1\" cellspacing=\"0\" cellpadding=\"6\">\\n  <thead>\\n    <tr>\\n      <th rowspan=\"2\">Geo Region</th>\\n      <th colspan=\"3\">Egress GB Ranges (USD per GB)</th>\\n    </tr>\\n    <tr>\\n      <th>0.0 - 32,312.1</th>\\n      <th>32,312.1 - 53,347.4</th>\\n      <th>53,347.4 - 100,000.0</th>\\n    </tr>\\n  </thead>\\n  <tbody>\\n    <tr>\\n      <td>UK South</td>\\n      <td>$3.0</td>\\n      <td>$2.0</td>\\n      <td>$1.0</td>\\n    </tr>\\n    <tr>\\n      <td>UK West</td>\\n      <td>$3.3</td>\\n      <td>$2.2</td>\\n      <td>$1.1</td>\\n    </tr>\\n    <tr>\\n      <td>West Europe</td>\\n      <td>$3.6</td>\\n      <td>$2.4</td>\\n      <td>$1.2</td>\\n    </tr>\\n    <tr>\\n      <td>North Europe</td>\\n      <td>$3.9</td>\\n      <td>$2.6</td>\\n      <td>$1.3</td>\\n    </tr>\\n    <tr>\\n      <td>East US</td>\\n      <td>$4.2</td>\\n      <td>$2.8</td>\\n      <td>$1.4</td>\\n    </tr>\\n    <tr>\\n      <td>West US 2</td>\\n      <td>$4.5</td>\\n      <td>$3.0</td>\\n      <td>$1.5</td>\\n    </tr>\\n  </tbody>\\n</table>\\n\\n## Data Ingress Fees for Azure Services\\n\\nData Ingress Fee (USD) \\n\\nThe Data Ingress Fee is a charge applied to inbound data transfers into Microsoft Azure services within specific geographic regions. This fee is calculated based on the total amount of ingested data measured in gigabytes (GB). The charge rate varies depending on the region and the volume of ingested data. \\n\\nIn each region, the charge is tiered, with different rates applying to different ranges of ingested GB. For example, in the UK South region, the charge rate starts at 1.0 USD per GB for the first 17,860.5 GB, then increases to 2.0 USD per GB for the next range up to 68,389.6 GB, and so on. Similar tiered structures apply to other regions, including UK West, West Europe, North Europe, East US, and West US 2, each with distinct charge rates per GB for different ranges of ingested data.\\n\\n## Storage Transaction Fees\\n\\n<table border=\"1\" cellspacing=\"0\" cellpadding=\"6\">\\n  <thead>\\n    <tr>\\n      <th>Geo Region</th>\\n      <th>Charge</th>\\n    </tr>\\n  </thead>\\n  <tbody>\\n    <tr>\\n      <td>UK South</td>\\n      <td>1</td>\\n    </tr>\\n    <tr>\\n      <td>UK West</td>\\n      <td>2</td>\\n    </tr>\\n    <tr>\\n      <td>North Europe</td>\\n      <td>3</td>\\n    </tr>\\n    <tr>\\n      <td>West US 2</td>\\n      <td>4</td>\\n    </tr>\\n    <tr>\\n      <td>West Europe</td>\\n      <td>5</td>\\n    </tr>\\n    <tr>\\n      <td>East US</td>\\n      <td>6</td>\\n    </tr>\\n  </tbody>\\n</table>\\n\\n## Public IP Addresses and Standard Load Balancers Fee Schedule\\n\\n<table border=\"1\" cellspacing=\"0\" cellpadding=\"6\">\\n  <thead>\\n    <tr>\\n      <th>Geo Region</th>\\n      <th>Public IPs (0-26)</th>\\n      <th>Public IPs (27-71)</th>\\n      <th>Public IPs (72-97)</th>\\n      <th>Public IPs (98-100)</th>\\n    </tr>\\n  </thead>\\n  <tbody>\\n    <tr>\\n      <td>UK South</td>\\n      <td>$4 per IP</td>\\n      <td>$3 per IP</td>\\n      <td>$2 per IP</td>\\n      <td>$1 per IP</td>\\n    </tr>\\n    <tr>\\n      <td>UK West</td>\\n      <td>$8 per IP</td>\\n      <td>$6 per IP</td>\\n      <td>$4 per IP</td>\\n      <td>$2 per IP</td>\\n    </tr>\\n    <tr>\\n      <td>West Europe</td>\\n      <td>$12 per IP</td>\\n      <td>$9 per IP</td>\\n      <td>$6 per IP</td>\\n      <td>$3 per IP</td>\\n    </tr>\\n    <tr>\\n      <td>North Europe</td>\\n      <td>$16 per IP</td>\\n      <td>$12 per IP</td>\\n      <td>$8 per IP</td>\\n      <td>$4 per IP</td>\\n    </tr>\\n    <tr>\\n      <td>East US</td>\\n      <td>$20 per IP</td>\\n      <td>$15 per IP</td>\\n      <td>$10 per IP</td>\\n      <td>$5 per IP</td>\\n    </tr>\\n    <tr>\\n      <td>West US 2</td>\\n      <td>$24 per IP</td>\\n      <td>$18 per IP</td>\\n      <td>$12 per IP</td>\\n      <td>$6 per IP</td>\\n    </tr>\\n  </tbody>\\n</table>\\n\\n## Load Balancer Pricing: Data Processing and Distribution Charges\\n\\n<table border=\"1\" cellspacing=\"0\" cellpadding=\"6\">\\n  <thead>\\n    <tr>\\n      <th>GPU Type</th>\\n      <th>GPU Count</th>\\n      <th>Charge (USD per GPU / hour)</th>\\n    </tr>\\n  </thead>\\n  <tbody>\\n    <tr>\\n      <td rowspan=\"3\">T4</td>\\n      <td>1</td>\\n      <td>$0.35</td>\\n    </tr>\\n    <tr>\\n      <td>2 – 3</td>\\n      <td>$0.32</td>\\n    </tr>\\n    <tr>\\n      <td>4 – 7</td>\\n      <td>$0.30</td>\\n    </tr>\\n    <tr>\\n      <td rowspan=\"3\">A100</td>\\n      <td>1</td>\\n      <td>$1.20</td>\\n    </tr>\\n    <tr>\\n      <td>2 – 3</td>\\n      <td>$1.10</td>\\n    </tr>\\n    <tr>\\n      <td>4 – 7</td>\\n      <td>$1.00</td>\\n    </tr>\\n    <tr>\\n      <td rowspan=\"3\">MI300X</td>\\n      <td>1</td>\\n      <td>$2.00</td>\\n    </tr>\\n    <tr>\\n      <td>2 – 3</td>\\n      <td>$1.80</td>\\n    </tr>\\n    <tr>\\n      <td>4 – 7</td>\\n      <td>$1.60</td>\\n    </tr>\\n  </tbody>\\n</table>\\n\\n## AKS Cluster Fee: Charges for Managed Kubernetes Cluster Deployment and Management Services\\n\\n<table border=\"1\" cellspacing=\"0\" cellpadding=\"6\">\\n  <thead>\\n    <tr>\\n      <th>Geo Region</th>\\n      <th>AKS Nodes 1-23</th>\\n      <th>AKS Nodes 24-89</th>\\n      <th>AKS Nodes 90-135</th>\\n      <th>AKS Nodes 136+</th>\\n    </tr>\\n  </thead>\\n  <tbody>\\n    <tr>\\n      <td>UK South</td>\\n      <td>$1 per node</td>\\n      <td>$2 per node</td>\\n      <td>$3 per node</td>\\n      <td>$4 per node</td>\\n    </tr>\\n    <tr>\\n      <td>UK West</td>\\n      <td>$2 per node</td>\\n      <td>$4 per node</td>\\n      <td>$6 per node</td>\\n      <td>$8 per node</td>\\n    </tr>\\n    <tr>\\n      <td>West Europe</td>\\n      <td>$3 per node</td>\\n      <td>$6 per node</td>\\n      <td>$9 per node</td>\\n      <td>$12 per node</td>\\n    </tr>\\n    <tr>\\n      <td>North Europe</td>\\n      <td>$4 per node</td>\\n      <td>$8 per node</td>\\n      <td>$12 per node</td>\\n      <td>$16 per node</td>\\n    </tr>\\n    <tr>\\n      <td>East US</td>\\n      <td>$5 per node</td>\\n      <td>$10 per node</td>\\n      <td>$15 per node</td>\\n      <td>$20 per node</td>\\n    </tr>\\n    <tr>\\n      <td>West US 2</td>\\n      <td>$6 per node</td>\\n      <td>$12 per node</td>\\n      <td>$18 per node</td>\\n      <td>$24 per node</td>\\n    </tr>\\n  </tbody>\\n</table>\\n\\n## \"Function App Pricing - Execution and Storage Charges\"\\n\\n<table border=\"1\" cellspacing=\"0\" cellpadding=\"6\">\\n  <thead>\\n    <tr>\\n      <th>Duration Range (ms)</th>\\n      <th>Charge Multiplier</th>\\n    </tr>\\n  </thead>\\n  <tbody>\\n    <tr>\\n      <td>0.1 – 564167.6</td>\\n      <td>2×</td>\\n    </tr>\\n    <tr>\\n      <td>564167.6 – 600000.0</td>\\n      <td>1×</td>\\n    </tr>\\n  </tbody>\\n</table>\\n\\n## \"SQL Database Fees: Compute, Storage, and Data Transfer Charges\"\\n\\n<table border=\"1\" cellspacing=\"0\" cellpadding=\"6\">\\n  <thead>\\n    <tr>\\n      <th>Pricing Tier</th>\\n      <th>SQL Capacity (GB)</th>\\n      <th>Charge Multiplier</th>\\n    </tr>\\n  </thead>\\n  <tbody>\\n    <tr>\\n      <td rowspan=\"3\">Basic</td>\\n      <td>0 - 2579</td>\\n      <td>3 × SQL Capacity (GB)</td>\\n    </tr>\\n    <tr>\\n      <td>2579 - 5080</td>\\n      <td>2 × SQL Capacity (GB)</td>\\n    </tr>\\n    <tr>\\n      <td>5080 - 8192</td>\\n      <td>1 × SQL Capacity (GB)</td>\\n    </tr>\\n    <tr>\\n      <td rowspan=\"3\">Standard</td>\\n      <td>0 - 2579</td>\\n      <td>6 × SQL Capacity (GB)</td>\\n    </tr>\\n    <tr>\\n      <td>2579 - 5080</td>\\n      <td>4 × SQL Capacity (GB)</td>\\n    </tr>\\n    <tr>\\n      <td>5080 - 8192</td>\\n      <td>2 × SQL Capacity (GB)</td>\\n    </tr>\\n    <tr>\\n      <td rowspan=\"3\">Premium</td>\\n      <td>0 - 2579</td>\\n      <td>9 × SQL Capacity (GB)</td>\\n    </tr>\\n    <tr>\\n      <td>2579 - 5080</td>\\n      <td>6 × SQL Capacity (GB)</td>\\n    </tr>\\n    <tr>\\n      <td>5080 - 8192</td>\\n      <td>3 × SQL Capacity (GB)</td>\\n    </tr>\\n    <tr>\\n      <td rowspan=\"3\">Isolated</td>\\n      <td>0 - 2579</td>\\n      <td>12 × SQL Capacity (GB)</td>\\n    </tr>\\n    <tr>\\n      <td>2579 - 5080</td>\\n      <td>8 × SQL Capacity (GB)</td>\\n    </tr>\\n    <tr>\\n      <td>5080 - 8192</td>\\n      <td>4 × SQL Capacity (GB)</td>\\n    </tr>\\n  </tbody>\\n</table>\\n\\n## Snapshot Storage Fee\\n\\n<table border=\"1\" cellspacing=\"0\" cellpadding=\"6\">\\n  <thead>\\n    <tr>\\n      <th>Location</th>\\n      <th>Image Snapshot Size (GB)</th>\\n      <th>Charge Multiplier (USD per GB)</th>\\n    </tr>\\n  </thead>\\n  <tbody>\\n    <tr>\\n      <td>UK South</td>\\n      <td>0.0 - 58,403.4</td>\\n      <td>2.0</td>\\n    </tr>\\n    <tr>\\n      <td>UK South</td>\\n      <td>58,403.4 - 100,000.0</td>\\n      <td>1.0</td>\\n    </tr>\\n    <tr>\\n      <td>UK West</td>\\n      <td>0.0 - 58,403.4</td>\\n      <td>2.2</td>\\n    </tr>\\n    <tr>\\n      <td>UK West</td>\\n      <td>58,403.4 - 100,000.0</td>\\n      <td>1.1</td>\\n    </tr>\\n    <tr>\\n      <td>West Europe</td>\\n      <td>0.0 - 58,403.4</td>\\n      <td>2.4</td>\\n    </tr>\\n    <tr>\\n      <td>West Europe</td>\\n      <td>58,403.4 - 100,000.0</td>\\n      <td>1.2</td>\\n    </tr>\\n    <tr>\\n      <td>North Europe</td>\\n      <td>0.0 - 58,403.4</td>\\n      <td>2.6</td>\\n    </tr>\\n    <tr>\\n      <td>North Europe</td>\\n      <td>58,403.4 - 100,000.0</td>\\n      <td>1.3</td>\\n    </tr>\\n    <tr>\\n      <td>East US</td>\\n      <td>0.0 - 58,403.4</td>\\n      <td>2.8</td>\\n    </tr>\\n    <tr>\\n      <td>East US</td>\\n      <td>58,403.4 - 100,000.0</td>\\n      <td>1.4</td>\\n    </tr>\\n    <tr>\\n      <td>West US 2</td>\\n      <td>0.0 - 58,403.4</td>\\n      <td>3.0</td>\\n    </tr>\\n    <tr>\\n      <td>West US 2</td>\\n      <td>58,403.4 - 100,000.0</td>\\n      <td>1.5</td>\\n    </tr>\\n  </tbody>\\n</table>\\n\\n## App Service Fees - Usage-Based Charges for Web Apps, Mobile Apps, and API Apps\\n\\nThe Web App Instances charge applies to the number of web app instances utilized within a given billing period. This charge is calculated based on the total number of web app instances used, with tiered pricing rates applied according to the instance count.\\n\\nFor 0-22 instances, the charge is $1 per instance. For 23-125 instances, the charge is $2 per instance. For 126-138 instances, the charge is $3 per instance. For 139-199 instances, the charge is $4 per instance. All charges are billed in USD. By applying these tiered rates, this charge incentivizes efficient resource utilization while accommodating varying workloads.\\n\\nMicrosoft Azure\\'s cloud pricing policy outlines the terms and conditions governing the use of our cloud services, providing transparent and predictable cost structures for customers worldwide. All prices are quoted in United States Dollars (USD) and are subject to change. For any questions or concerns regarding this policy, please contact Microsoft Azure Support via our official website or through your designated account manager.\\n\\n**Policy Effective Date:** August 22, 2025\\n\\n'"
      ]
     },
     "execution_count": 38,
     "metadata": {},
     "output_type": "execute_result"
    }
   ],
   "source": [
    "records[3][0]"
   ]
  },
  {
   "cell_type": "code",
   "execution_count": 53,
   "id": "871b22af",
   "metadata": {},
   "outputs": [
    {
     "data": {
      "text/plain": [
       "'Calculate the total compute_vm_fee. Charge description - Charge for running virtual machines based on vCPU, memory, OS, and commitment.'"
      ]
     },
     "execution_count": 53,
     "metadata": {},
     "output_type": "execute_result"
    }
   ],
   "source": [
    "result['0']['compute_vm_fee']['compute_vm_fee']['query']"
   ]
  },
  {
   "cell_type": "code",
   "execution_count": null,
   "id": "a6656ab9",
   "metadata": {},
   "outputs": [
    {
     "data": {
      "text/plain": [
       "{'3': {'gpu_compute_fee': {'gpu_compute_fee': {'query': 'Calculate the total gpu_compute_fee. Charge description - Charge for GPU-enabled compute usage.',\n",
       "    'thought2': {'identified_constants_and_rules': ['The GPU compute fee is determined by the GPU type and the total usage hours.',\n",
       "      'For each GPU type (T4, A100, MI300X), there are tiered charge multipliers based on usage hours:',\n",
       "      '  - T4: 1.0× for 0–413.9 hours, 2.0× for 413.9–636.9 hours, 3.0× for 636.9–744.0 hours',\n",
       "      '  - A100: 1.2× for 0–413.9 hours, 2.4× for 413.9–636.9 hours, 3.6× for 636.9–744.0 hours',\n",
       "      '  - MI300X: 1.3× for 0–413.9 hours, 2.6× for 413.9–636.9 hours, 3.9× for 636.9–744.0 hours',\n",
       "      'The fee is calculated as: gpu_compute_fee = usage_hours × charge_multiplier',\n",
       "      'The charge_multiplier is selected based on the GPU type and the usage hours range.',\n",
       "      'The ranges are exclusive of the upper bound (e.g., 413.9 is not included in the first tier for T4).',\n",
       "      'The charge multipliers are fixed and do not depend on any other variables.']},\n",
       "    'thought3': {'synthesis_plan': \"To compute the total gpu_compute_fee, I will create a conditional expression tree that first checks the gpu_type to determine which set of multipliers to apply. For each GPU type, I will use nested CONDITIONAL nodes to evaluate the usage_hours against the three tiered ranges (0–413.9, 413.9–636.9, 636.9–744.0). The charge_multiplier is determined by the matching range. Finally, the fee is computed as usage_hours multiplied by the selected charge_multiplier. Since both gpu_type and usage_hours are symbolic (not fixed), the entire expression must support all possible values of these variables. The structure will use COMPARISON nodes with 'LESS_THAN' and 'LESS_THAN_EQUAL_TO' operators, and each branch will return the correct multiplier based on the GPU type and usage hours. The final output is a multiplication of usage_hours and the computed multiplier.\"},\n",
       "    'thought4': {'rethink': \"I have reviewed the query and the document. The goal is to compute the total gpu_compute_fee based on a symbolic usage_hours and symbolic gpu_type. The pricing structure for GPU compute usage is explicitly defined in the 'GPU Accelerated Virtual Machines and Container Instances Pricing' table with three tiers per GPU type. The logic depends on both the GPU type (categorical) and the usage hours (numeric), so the expression must conditionally branch on both. I must ensure that:\\n\\n- The gpu_type is checked using a COMPARISON with EQUAL_TO, using CATEGORICAL_VALUE_NODE for each GPU type (T4, A100, MI300X).\\n- For each GPU type, the usage_hours are evaluated against three mutually exclusive ranges using COMPARISON nodes with 'LESS_THAN' and 'LESS_THAN_EQUAL_TO' operators.\\n- The charge_multiplier is selected correctly for each combination.\\n- The final fee is usage_hours × charge_multiplier.\\n- All branches are covered, and no default assumptions are made.\\n\\nThe expression tree will be structured as a top-level CONDITIONAL that first checks gpu_type, then for each type, uses nested CONDITIONALS for the hour ranges. The values 413.9, 636.9, and 744.0 are exact thresholds from the document and must be used precisely. The final output is a numeric expression that evaluates to the fee in USD.\\n\\nThis approach fully satisfies Crucial Rules 2 and 3: it handles symbolic variables without assuming defaults, and uses proper CATEGORICAL_VALUE_NODE for GPU types. Numeric comparisons are against VALUE nodes with numeric values. The logic is complete and accurate for all valid inputs.\\n\\nFinal decision: proceed to generate the JSON expression tree as specified.\"},\n",
       "    'computation_graph': {'type': 'BINARY_OPERATION',\n",
       "     'operator': 'MULTIPLY',\n",
       "     'left': {'type': 'VARIABLE',\n",
       "      'name': 'usage_hours',\n",
       "      'description': 'Total runtime in hours over the billing window',\n",
       "      'unit': 'USD'},\n",
       "     'right': {'type': 'CONDITIONAL',\n",
       "      'condition': {'type': 'COMPARISON',\n",
       "       'operator': 'EQUAL_TO',\n",
       "       'left': {'type': 'VARIABLE',\n",
       "        'name': 'gpu_type',\n",
       "        'description': 'Type of GPU accelerator',\n",
       "        'unit': 'NANOSECONDS'},\n",
       "       'right': {'type': 'CATEGORICAL_VALUE',\n",
       "        'value': 'T4',\n",
       "        'description': 'GPU accelerator type: T4'}},\n",
       "      'if_true': {'type': 'CONDITIONAL',\n",
       "       'condition': {'type': 'COMPARISON',\n",
       "        'operator': 'LESS_THAN',\n",
       "        'left': {'type': 'VARIABLE',\n",
       "         'name': 'usage_hours',\n",
       "         'description': 'Total runtime in hours over the billing window',\n",
       "         'unit': 'USD'},\n",
       "        'right': {'type': 'VALUE',\n",
       "         'value': 413.9,\n",
       "         'description': 'Upper bound of first usage range for T4 GPU',\n",
       "         'unit': 'HOURS'}},\n",
       "       'if_true': {'type': 'VALUE',\n",
       "        'value': 1.0,\n",
       "        'description': 'Charge multiplier for T4 GPU: 0 - 413.9 hours',\n",
       "        'unit': 'UNITLESS'},\n",
       "       'if_false': {'type': 'CONDITIONAL',\n",
       "        'condition': {'type': 'COMPARISON',\n",
       "         'operator': 'LESS_THAN',\n",
       "         'left': {'type': 'VARIABLE',\n",
       "          'name': 'usage_hours',\n",
       "          'description': 'Total runtime in hours over the billing window',\n",
       "          'unit': 'USD'},\n",
       "         'right': {'type': 'VALUE',\n",
       "          'value': 636.9,\n",
       "          'description': 'Upper bound of second usage range for T4 GPU',\n",
       "          'unit': 'HOURS'}},\n",
       "        'if_true': {'type': 'VALUE',\n",
       "         'value': 2.0,\n",
       "         'description': 'Charge multiplier for T4 GPU: 413.9 - 636.9 hours',\n",
       "         'unit': 'UNITLESS'},\n",
       "        'if_false': {'type': 'VALUE',\n",
       "         'value': 3.0,\n",
       "         'description': 'Charge multiplier for T4 GPU: 636.9 - 744.0 hours',\n",
       "         'unit': 'UNITLESS'}}},\n",
       "      'if_false': {'type': 'CONDITIONAL',\n",
       "       'condition': {'type': 'COMPARISON',\n",
       "        'operator': 'EQUAL_TO',\n",
       "        'left': {'type': 'VARIABLE',\n",
       "         'name': 'gpu_type',\n",
       "         'description': 'Type of GPU accelerator',\n",
       "         'unit': 'NANOSECONDS'},\n",
       "        'right': {'type': 'CATEGORICAL_VALUE',\n",
       "         'value': 'A100',\n",
       "         'description': 'GPU accelerator type: A100'}},\n",
       "       'if_true': {'type': 'CONDITIONAL',\n",
       "        'condition': {'type': 'COMPARISON',\n",
       "         'operator': 'LESS_THAN',\n",
       "         'left': {'type': 'VARIABLE',\n",
       "          'name': 'usage_hours',\n",
       "          'description': 'Total runtime in hours over the billing window',\n",
       "          'unit': 'USD'},\n",
       "         'right': {'type': 'VALUE',\n",
       "          'value': 413.9,\n",
       "          'description': 'Upper bound of first usage range for A100 GPU',\n",
       "          'unit': 'HOURS'}},\n",
       "        'if_true': {'type': 'VALUE',\n",
       "         'value': 1.2,\n",
       "         'description': 'Charge multiplier for A100 GPU: 0 - 413.9 hours',\n",
       "         'unit': 'UNITLESS'},\n",
       "        'if_false': {'type': 'CONDITIONAL',\n",
       "         'condition': {'type': 'COMPARISON',\n",
       "          'operator': 'LESS_THAN',\n",
       "          'left': {'type': 'VARIABLE',\n",
       "           'name': 'usage_hours',\n",
       "           'description': 'Total runtime in hours over the billing window',\n",
       "           'unit': 'USD'},\n",
       "          'right': {'type': 'VALUE',\n",
       "           'value': 636.9,\n",
       "           'description': 'Upper bound of second usage range for A100 GPU',\n",
       "           'unit': 'HOURS'}},\n",
       "         'if_true': {'type': 'VALUE',\n",
       "          'value': 2.4,\n",
       "          'description': 'Charge multiplier for A100 GPU: 413.9 - 636.9 hours',\n",
       "          'unit': 'UNITLESS'},\n",
       "         'if_false': {'type': 'VALUE',\n",
       "          'value': 3.6,\n",
       "          'description': 'Charge multiplier for A100 GPU: 636.9 - 744.0 hours',\n",
       "          'unit': 'UNITLESS'}}},\n",
       "       'if_false': {'type': 'CONDITIONAL',\n",
       "        'condition': {'type': 'COMPARISON',\n",
       "         'operator': 'EQUAL_TO',\n",
       "         'left': {'type': 'VARIABLE',\n",
       "          'name': 'gpu_type',\n",
       "          'description': 'Type of GPU accelerator',\n",
       "          'unit': 'NANOSECONDS'},\n",
       "         'right': {'type': 'CATEGORICAL_VALUE',\n",
       "          'value': 'MI300X',\n",
       "          'description': 'GPU accelerator type: MI300X'}},\n",
       "        'if_true': {'type': 'CONDITIONAL',\n",
       "         'condition': {'type': 'COMPARISON',\n",
       "          'operator': 'LESS_THAN',\n",
       "          'left': {'type': 'VARIABLE',\n",
       "           'name': 'usage_hours',\n",
       "           'description': 'Total runtime in hours over the billing window',\n",
       "           'unit': 'USD'},\n",
       "          'right': {'type': 'VALUE',\n",
       "           'value': 413.9,\n",
       "           'description': 'Upper bound of first usage range for MI300X GPU',\n",
       "           'unit': 'HOURS'}},\n",
       "         'if_true': {'type': 'VALUE',\n",
       "          'value': 1.3,\n",
       "          'description': 'Charge multiplier for MI300X GPU: 0 - 413.9 hours',\n",
       "          'unit': 'UNITLESS'},\n",
       "         'if_false': {'type': 'CONDITIONAL',\n",
       "          'condition': {'type': 'COMPARISON',\n",
       "           'operator': 'LESS_THAN',\n",
       "           'left': {'type': 'VARIABLE',\n",
       "            'name': 'usage_hours',\n",
       "            'description': 'Total runtime in hours over the billing window',\n",
       "            'unit': 'USD'},\n",
       "           'right': {'type': 'VALUE',\n",
       "            'value': 636.9,\n",
       "            'description': 'Upper bound of second usage range for MI300X GPU',\n",
       "            'unit': 'HOURS'}},\n",
       "          'if_true': {'type': 'VALUE',\n",
       "           'value': 2.6,\n",
       "           'description': 'Charge multiplier for MI300X GPU: 413.9 - 636.9 hours',\n",
       "           'unit': 'UNITLESS'},\n",
       "          'if_false': {'type': 'VALUE',\n",
       "           'value': 3.9,\n",
       "           'description': 'Charge multiplier for MI300X GPU: 636.9 - 744.0 hours',\n",
       "           'unit': 'UNITLESS'}}},\n",
       "        'if_false': {'type': 'VALUE',\n",
       "         'value': 0.0,\n",
       "         'description': 'Default charge multiplier when gpu_type is not recognized',\n",
       "         'unit': 'UNITLESS'}}}}},\n",
       "    'execution_time': 37.096919583156705,\n",
       "    'status': 'SUCCESS'}}}}"
      ]
     },
     "execution_count": 89,
     "metadata": {},
     "output_type": "execute_result"
    }
   ],
   "source": [
    "missing_result['3']['gpu_compute_fee']"
   ]
  },
  {
   "cell_type": "code",
   "execution_count": 46,
   "id": "8684c153",
   "metadata": {},
   "outputs": [
    {
     "ename": "KeyError",
     "evalue": "'data_ingress_fee'",
     "output_type": "error",
     "traceback": [
      "\u001b[31m---------------------------------------------------------------------------\u001b[39m",
      "\u001b[31mKeyError\u001b[39m                                  Traceback (most recent call last)",
      "\u001b[36mCell\u001b[39m\u001b[36m \u001b[39m\u001b[32mIn[46]\u001b[39m\u001b[32m, line 1\u001b[39m\n\u001b[32m----> \u001b[39m\u001b[32m1\u001b[39m \u001b[43mresult\u001b[49m\u001b[43m[\u001b[49m\u001b[33;43m'\u001b[39;49m\u001b[33;43m0\u001b[39;49m\u001b[33;43m'\u001b[39;49m\u001b[43m]\u001b[49m\u001b[43m[\u001b[49m\u001b[33;43m'\u001b[39;49m\u001b[33;43mdata_ingress_fee\u001b[39;49m\u001b[33;43m'\u001b[39;49m\u001b[43m]\u001b[49m\n",
      "\u001b[31mKeyError\u001b[39m: 'data_ingress_fee'"
     ]
    }
   ],
   "source": [
    "result['0']['data_ingress_fee']"
   ]
  },
  {
   "cell_type": "code",
   "execution_count": 92,
   "id": "825cfb0f",
   "metadata": {},
   "outputs": [],
   "source": [
    "result['3']['gpu_compute_fee'] =  missing_result['3']['gpu_compute_fee']"
   ]
  },
  {
   "cell_type": "code",
   "execution_count": 39,
   "id": "e0bf73bd",
   "metadata": {},
   "outputs": [
    {
     "ename": "KeyError",
     "evalue": "'data_ingress_fee'",
     "output_type": "error",
     "traceback": [
      "\u001b[31m---------------------------------------------------------------------------\u001b[39m",
      "\u001b[31mKeyError\u001b[39m                                  Traceback (most recent call last)",
      "\u001b[36mCell\u001b[39m\u001b[36m \u001b[39m\u001b[32mIn[39]\u001b[39m\u001b[32m, line 1\u001b[39m\n\u001b[32m----> \u001b[39m\u001b[32m1\u001b[39m \u001b[43mresult\u001b[49m\u001b[43m[\u001b[49m\u001b[33;43m'\u001b[39;49m\u001b[33;43m0\u001b[39;49m\u001b[33;43m'\u001b[39;49m\u001b[43m]\u001b[49m\u001b[43m[\u001b[49m\u001b[33;43m'\u001b[39;49m\u001b[33;43mdata_ingress_fee\u001b[39;49m\u001b[33;43m'\u001b[39;49m\u001b[43m]\u001b[49m\n\u001b[32m      2\u001b[39m \u001b[38;5;66;03m# 0 data_ingress_fee\u001b[39;00m\n\u001b[32m      3\u001b[39m \u001b[38;5;66;03m# 3 data_egress_fee\u001b[39;00m\n\u001b[32m      4\u001b[39m \u001b[38;5;66;03m# 3 public_ip_fee\u001b[39;00m\n",
      "\u001b[31mKeyError\u001b[39m: 'data_ingress_fee'"
     ]
    }
   ],
   "source": [
    "result['0']['data_ingress_fee']\n",
    "# 0 data_ingress_fee\n",
    "# 3 data_egress_fee\n",
    "# 3 public_ip_fee"
   ]
  },
  {
   "cell_type": "code",
   "execution_count": 44,
   "id": "1a2d9200",
   "metadata": {},
   "outputs": [],
   "source": [
    "import pickle \n",
    "\n",
    "# with open('result_70b_5.pkl', 'wb') as f:\n",
    "#     pickle.dump(result, f)\n",
    "\n",
    "with open('result_70b_5.pkl', 'rb') as f:\n",
    "    result = pickle.load(f)"
   ]
  },
  {
   "cell_type": "markdown",
   "id": "7051a50d",
   "metadata": {},
   "source": [
    "# Testing"
   ]
  },
  {
   "cell_type": "code",
   "execution_count": 49,
   "id": "2220f222",
   "metadata": {},
   "outputs": [],
   "source": [
    "\n",
    "def get_symbolic_groundtruth_functions(path, result_path):\n",
    "    master_function_list = {}\n",
    "    error_list = {}\n",
    "    with open(path, \"r\", encoding=\"utf-8\") as f:\n",
    "            records = [json.loads(line) for line in f if line.strip()]\n",
    "    with open(result_path, 'rb') as f:\n",
    "        result = pickle.load(f)\n",
    "    for record_id, record in enumerate(records):\n",
    "        if record_id >= 5:\n",
    "            continue\n",
    "        content, charges = record\n",
    "        markdown_content = content\n",
    "        charge_category_variables = {k: v['variables_used'] for k, v in charges.items()}\n",
    "        master_function_list[record_id] = {}\n",
    "        error_list[record_id] = {}\n",
    "        import builtins\n",
    "        def to_built_in_type(type_str: str):\n",
    "            t = getattr(builtins, type_str, None)\n",
    "            if isinstance(t, type):\n",
    "                return t\n",
    "            raise ValueError(f\"{type_str} is not a valid built-in type\")\n",
    "\n",
    "        charge_variables = {}\n",
    "        all_variables = {}\n",
    "        for charge, variables in charge_category_variables.items():\n",
    "            charge_variables[charge] = list(variables.keys())\n",
    "            for var, details in variables.items():\n",
    "                all_variables[var] = DomainVariable(name=var,\n",
    "                    description=details['description'],\n",
    "                    unit=details['unit'],\n",
    "                    data_type=to_built_in_type(details['dtype']))\n",
    "            try:\n",
    "                graph = result[str(record_id)][charge][charge]['computation_graph']\n",
    "                code_str = charges[charge]['code']\n",
    "            except KeyError as e:\n",
    "                print(record_id, charge, result[str(record_id)].keys(), )\n",
    "            try:\n",
    "                symbolic_func, ground_truth_func = evaluate(graph, (charge, charge_variables[charge]), code_str)\n",
    "                master_function_list[record_id][charge] = (symbolic_func, ground_truth_func, graph)\n",
    "            except Exception as e:\n",
    "                \n",
    "                error_list[record_id][charge] = [None, e]\n",
    "            \n",
    "    return master_function_list, error_list"
   ]
  },
  {
   "cell_type": "code",
   "execution_count": 45,
   "id": "e1489372",
   "metadata": {},
   "outputs": [
    {
     "data": {
      "text/plain": [
       "dict_keys(['gpu_compute_fee', 'managed_disk_fee', 'data_egress_fee', 'data_ingress_fee', 'load_balancer_fee', 'aks_cluster_fee'])"
      ]
     },
     "execution_count": 45,
     "metadata": {},
     "output_type": "execute_result"
    }
   ],
   "source": [
    "result['0'].keys()"
   ]
  },
  {
   "cell_type": "code",
   "execution_count": 50,
   "id": "3d892ffe",
   "metadata": {},
   "outputs": [
    {
     "name": "stdout",
     "output_type": "stream",
     "text": [
      "0 compute_vm_fee dict_keys(['gpu_compute_fee', 'managed_disk_fee', 'data_egress_fee', 'data_ingress_fee', 'load_balancer_fee', 'aks_cluster_fee'])\n",
      "0 storage_transaction_fee dict_keys(['gpu_compute_fee', 'managed_disk_fee', 'data_egress_fee', 'data_ingress_fee', 'load_balancer_fee', 'aks_cluster_fee'])\n",
      "0 public_ip_fee dict_keys(['gpu_compute_fee', 'managed_disk_fee', 'data_egress_fee', 'data_ingress_fee', 'load_balancer_fee', 'aks_cluster_fee'])\n",
      "0 function_app_fee dict_keys(['gpu_compute_fee', 'managed_disk_fee', 'data_egress_fee', 'data_ingress_fee', 'load_balancer_fee', 'aks_cluster_fee'])\n",
      "0 sql_database_fee dict_keys(['gpu_compute_fee', 'managed_disk_fee', 'data_egress_fee', 'data_ingress_fee', 'load_balancer_fee', 'aks_cluster_fee'])\n",
      "0 snapshot_storage_fee dict_keys(['gpu_compute_fee', 'managed_disk_fee', 'data_egress_fee', 'data_ingress_fee', 'load_balancer_fee', 'aks_cluster_fee'])\n",
      "0 app_service_fee dict_keys(['gpu_compute_fee', 'managed_disk_fee', 'data_egress_fee', 'data_ingress_fee', 'load_balancer_fee', 'aks_cluster_fee'])\n",
      "1 compute_vm_fee dict_keys(['gpu_compute_fee', 'data_egress_fee', 'data_ingress_fee', 'storage_transaction_fee', 'public_ip_fee', 'function_app_fee', 'snapshot_storage_fee'])\n",
      "1 managed_disk_fee dict_keys(['gpu_compute_fee', 'data_egress_fee', 'data_ingress_fee', 'storage_transaction_fee', 'public_ip_fee', 'function_app_fee', 'snapshot_storage_fee'])\n",
      "1 load_balancer_fee dict_keys(['gpu_compute_fee', 'data_egress_fee', 'data_ingress_fee', 'storage_transaction_fee', 'public_ip_fee', 'function_app_fee', 'snapshot_storage_fee'])\n",
      "1 aks_cluster_fee dict_keys(['gpu_compute_fee', 'data_egress_fee', 'data_ingress_fee', 'storage_transaction_fee', 'public_ip_fee', 'function_app_fee', 'snapshot_storage_fee'])\n",
      "1 sql_database_fee dict_keys(['gpu_compute_fee', 'data_egress_fee', 'data_ingress_fee', 'storage_transaction_fee', 'public_ip_fee', 'function_app_fee', 'snapshot_storage_fee'])\n",
      "1 app_service_fee dict_keys(['gpu_compute_fee', 'data_egress_fee', 'data_ingress_fee', 'storage_transaction_fee', 'public_ip_fee', 'function_app_fee', 'snapshot_storage_fee'])\n",
      "2 compute_vm_fee dict_keys(['storage_transaction_fee', 'function_app_fee', 'sql_database_fee'])\n",
      "2 gpu_compute_fee dict_keys(['storage_transaction_fee', 'function_app_fee', 'sql_database_fee'])\n",
      "2 managed_disk_fee dict_keys(['storage_transaction_fee', 'function_app_fee', 'sql_database_fee'])\n",
      "2 data_egress_fee dict_keys(['storage_transaction_fee', 'function_app_fee', 'sql_database_fee'])\n",
      "2 data_ingress_fee dict_keys(['storage_transaction_fee', 'function_app_fee', 'sql_database_fee'])\n",
      "2 public_ip_fee dict_keys(['storage_transaction_fee', 'function_app_fee', 'sql_database_fee'])\n",
      "2 load_balancer_fee dict_keys(['storage_transaction_fee', 'function_app_fee', 'sql_database_fee'])\n",
      "2 aks_cluster_fee dict_keys(['storage_transaction_fee', 'function_app_fee', 'sql_database_fee'])\n",
      "2 snapshot_storage_fee dict_keys(['storage_transaction_fee', 'function_app_fee', 'sql_database_fee'])\n",
      "2 app_service_fee dict_keys(['storage_transaction_fee', 'function_app_fee', 'sql_database_fee'])\n",
      "3 managed_disk_fee dict_keys(['compute_vm_fee', 'gpu_compute_fee', 'load_balancer_fee', 'snapshot_storage_fee', 'app_service_fee'])\n",
      "3 data_egress_fee dict_keys(['compute_vm_fee', 'gpu_compute_fee', 'load_balancer_fee', 'snapshot_storage_fee', 'app_service_fee'])\n",
      "3 data_ingress_fee dict_keys(['compute_vm_fee', 'gpu_compute_fee', 'load_balancer_fee', 'snapshot_storage_fee', 'app_service_fee'])\n",
      "3 storage_transaction_fee dict_keys(['compute_vm_fee', 'gpu_compute_fee', 'load_balancer_fee', 'snapshot_storage_fee', 'app_service_fee'])\n",
      "3 public_ip_fee dict_keys(['compute_vm_fee', 'gpu_compute_fee', 'load_balancer_fee', 'snapshot_storage_fee', 'app_service_fee'])\n",
      "3 aks_cluster_fee dict_keys(['compute_vm_fee', 'gpu_compute_fee', 'load_balancer_fee', 'snapshot_storage_fee', 'app_service_fee'])\n",
      "3 function_app_fee dict_keys(['compute_vm_fee', 'gpu_compute_fee', 'load_balancer_fee', 'snapshot_storage_fee', 'app_service_fee'])\n",
      "3 sql_database_fee dict_keys(['compute_vm_fee', 'gpu_compute_fee', 'load_balancer_fee', 'snapshot_storage_fee', 'app_service_fee'])\n",
      "4 compute_vm_fee dict_keys(['gpu_compute_fee', 'data_egress_fee', 'data_ingress_fee', 'snapshot_storage_fee'])\n",
      "4 managed_disk_fee dict_keys(['gpu_compute_fee', 'data_egress_fee', 'data_ingress_fee', 'snapshot_storage_fee'])\n",
      "4 storage_transaction_fee dict_keys(['gpu_compute_fee', 'data_egress_fee', 'data_ingress_fee', 'snapshot_storage_fee'])\n",
      "4 public_ip_fee dict_keys(['gpu_compute_fee', 'data_egress_fee', 'data_ingress_fee', 'snapshot_storage_fee'])\n",
      "4 load_balancer_fee dict_keys(['gpu_compute_fee', 'data_egress_fee', 'data_ingress_fee', 'snapshot_storage_fee'])\n",
      "4 aks_cluster_fee dict_keys(['gpu_compute_fee', 'data_egress_fee', 'data_ingress_fee', 'snapshot_storage_fee'])\n",
      "4 function_app_fee dict_keys(['gpu_compute_fee', 'data_egress_fee', 'data_ingress_fee', 'snapshot_storage_fee'])\n",
      "4 sql_database_fee dict_keys(['gpu_compute_fee', 'data_egress_fee', 'data_ingress_fee', 'snapshot_storage_fee'])\n",
      "4 app_service_fee dict_keys(['gpu_compute_fee', 'data_egress_fee', 'data_ingress_fee', 'snapshot_storage_fee'])\n"
     ]
    }
   ],
   "source": [
    "path = \"/gpfs01/home/ppxac9/MLiS-Placement-Thesis/LLM_generated_data/synthetic_dataset/datapoints_8B.jsonl\"\n",
    "result_path='result_8b_30bthink_1.pkl'\n",
    "functions, errors = get_symbolic_groundtruth_functions(path, result_path)"
   ]
  },
  {
   "cell_type": "code",
   "execution_count": 51,
   "id": "280b0d54",
   "metadata": {},
   "outputs": [
    {
     "data": {
      "text/plain": [
       "{0: {'compute_vm_fee': [None,\n",
       "   UnboundLocalError(\"cannot access local variable 'graph' where it is not associated with a value\")]},\n",
       " 1: {'public_ip_fee': [None, ValueError('Unknown node type: None')],\n",
       "  'load_balancer_fee': [None, ValueError('Unknown node type: None')],\n",
       "  'aks_cluster_fee': [None, ValueError('Unknown node type: None')]},\n",
       " 2: {},\n",
       " 3: {},\n",
       " 4: {}}"
      ]
     },
     "execution_count": 51,
     "metadata": {},
     "output_type": "execute_result"
    }
   ],
   "source": [
    "errors"
   ]
  },
  {
   "cell_type": "code",
   "execution_count": null,
   "id": "fc08f301",
   "metadata": {},
   "outputs": [],
   "source": [
    "# with open(path, \"r\", encoding=\"utf-8\") as f:\n",
    "#     records = [json.loads(line) for line in f if line.strip()]\n"
   ]
  },
  {
   "cell_type": "code",
   "execution_count": null,
   "id": "404f7e09",
   "metadata": {},
   "outputs": [
    {
     "name": "stdout",
     "output_type": "stream",
     "text": [
      "0 compute_vm_fee 1.0 1753.0\n",
      "0 compute_vm_fee 2.0 3914.0\n",
      "0 compute_vm_fee 1.1 74.80000000000001\n",
      "0 compute_vm_fee 2.2 4404.400000000001\n",
      "0 compute_vm_fee 1.2 260.4\n",
      "0 compute_vm_fee 2.4 4708.8\n",
      "0 compute_vm_fee 1.3 1859.0\n",
      "0 compute_vm_fee 2.6 4836.0\n",
      "0 compute_vm_fee 1.4 1038.8\n",
      "0 compute_vm_fee 2.8 5065.2\n",
      "0 gpu_compute_fee 0 1\n",
      "0 gpu_compute_fee 0 2\n",
      "0 public_ip_fee 0.0 34\n",
      "0 public_ip_fee 0.0 134\n",
      "0 public_ip_fee 0.0 222\n",
      "0 public_ip_fee 0.0 32\n",
      "0 public_ip_fee 0.0 268\n",
      "0 public_ip_fee 0.0 504\n",
      "0 public_ip_fee 0.0 39\n",
      "0 public_ip_fee 0.0 270\n",
      "0 public_ip_fee 0.0 756\n",
      "0 public_ip_fee 0.0 96\n",
      "0 public_ip_fee 0.0 344\n",
      "0 public_ip_fee 0.0 924\n",
      "0 public_ip_fee 0.0 125\n",
      "0 public_ip_fee 0.0 600\n",
      "0 public_ip_fee 0.0 1395\n",
      "0 public_ip_fee 0.0 198\n",
      "0 public_ip_fee 0.0 756\n",
      "0 public_ip_fee 0.0 1602\n",
      "0 load_balancer_fee 0.192 192\n",
      "0 load_balancer_fee 0.164 164\n",
      "0 load_balancer_fee 0.126 126\n",
      "0 load_balancer_fee 0.34800000000000003 348\n",
      "0 load_balancer_fee 0.332 332\n",
      "0 load_balancer_fee 0.21 210\n",
      "0 load_balancer_fee 0.525 525\n",
      "0 load_balancer_fee 0.47400000000000003 474\n",
      "0 load_balancer_fee 0.11699999999999999 117\n",
      "0 load_balancer_fee 0.736 736\n",
      "0 load_balancer_fee 0.632 632\n",
      "0 load_balancer_fee 0.492 492\n",
      "0 load_balancer_fee 0.865 865\n",
      "0 load_balancer_fee 0.8 800\n",
      "0 load_balancer_fee 0.39 390\n",
      "0 load_balancer_fee 1.116 1116\n",
      "0 load_balancer_fee 0.6960000000000001 696\n",
      "0 load_balancer_fee 0.72 720\n",
      "0 aks_cluster_fee 1.996*billing_hours 998\n",
      "0 aks_cluster_fee 1.14*billing_hours 570\n",
      "0 aks_cluster_fee 3.996*billing_hours 1998\n",
      "0 aks_cluster_fee 6.448*billing_hours 3224\n",
      "0 aks_cluster_fee 5.988*billing_hours 2994\n",
      "0 aks_cluster_fee 2.328*billing_hours 1164\n",
      "0 aks_cluster_fee 7.992*billing_hours 3996\n",
      "0 aks_cluster_fee 12.816*billing_hours 6408\n",
      "0 aks_cluster_fee 9.98*billing_hours 4990\n",
      "0 aks_cluster_fee 7.38*billing_hours 3690\n",
      "0 aks_cluster_fee 11.988*billing_hours 5994\n",
      "0 aks_cluster_fee 0.216*billing_hours 108\n",
      "1 snapshot_storage_fee 87.712 87712.0\n",
      "1 snapshot_storage_fee 133.578 133578.0\n",
      "1 snapshot_storage_fee 125.25 125250.0\n",
      "1 snapshot_storage_fee 51.532000000000004 51532.0\n",
      "1 snapshot_storage_fee 104.0468 104046.8\n",
      "1 snapshot_storage_fee 173.8924 173892.40000000002\n",
      "1 snapshot_storage_fee 151.7571 151757.1\n",
      "1 snapshot_storage_fee 108.09920000000001 108099.20000000001\n",
      "1 snapshot_storage_fee 105.84719999999999 105847.2\n",
      "1 snapshot_storage_fee 162.7824 162782.4\n",
      "1 snapshot_storage_fee 129.4056 129405.59999999999\n",
      "1 snapshot_storage_fee 16.243199999999998 16243.199999999999\n",
      "1 snapshot_storage_fee 117.2483 117248.3\n",
      "1 snapshot_storage_fee 195.403 195403.0\n",
      "1 snapshot_storage_fee 185.8506 185850.6\n",
      "1 snapshot_storage_fee 51.0588 51058.8\n",
      "1 app_service_fee 0.062 62\n",
      "1 app_service_fee 0.076 76\n",
      "1 app_service_fee 0.075 75\n",
      "1 app_service_fee 0.16 160\n",
      "1 app_service_fee 0.16 160\n",
      "1 app_service_fee 0.216 216\n",
      "1 app_service_fee 0.45 450\n",
      "1 app_service_fee 0.228 228\n",
      "1 app_service_fee 0.32399999999999995 324\n",
      "1 app_service_fee 0.672 672\n",
      "1 app_service_fee 0.304 304\n",
      "1 app_service_fee 0.24 240\n",
      "2 data_ingress_fee data_amount_gb 1\n",
      "2 data_ingress_fee 2*data_amount_gb 2\n",
      "2 data_ingress_fee 3*data_amount_gb 3\n",
      "2 data_ingress_fee 4*data_amount_gb 4\n",
      "2 data_ingress_fee 5*data_amount_gb 5\n",
      "2 data_ingress_fee 6*data_amount_gb 6\n",
      "2 aks_cluster_fee node_count 1\n",
      "2 aks_cluster_fee 2*node_count 2\n",
      "2 aks_cluster_fee 3*node_count 3\n",
      "3 gpu_compute_fee 0.0 183.70000000000002\n",
      "3 gpu_compute_fee 0.0 1122.0\n",
      "3 gpu_compute_fee 0.0 2220.9\n",
      "3 managed_disk_fee disk_count*disk_size_gb 1\n",
      "3 managed_disk_fee 2*disk_count*disk_size_gb 2\n",
      "3 managed_disk_fee 3*disk_count*disk_size_gb 3\n",
      "3 managed_disk_fee 4*disk_count*disk_size_gb 4\n",
      "3 managed_disk_fee 5*disk_count*disk_size_gb 5\n",
      "3 managed_disk_fee 6*disk_count*disk_size_gb 6\n",
      "3 data_egress_fee 148390.5 62731.0\n",
      "3 data_egress_fee 117502.09999999999 85190.0\n",
      "3 data_egress_fee 182412.45 88187.0\n",
      "3 data_egress_fee 129327.11 93783.8\n",
      "3 data_egress_fee 172924.2 70132.8\n",
      "3 data_egress_fee 122959.32 84184.8\n",
      "3 data_egress_fee 191126.64999999997 79769.3\n",
      "3 data_egress_fee 178939.93 136934.2\n",
      "3 data_egress_fee 232696.1 112772.79999999999\n",
      "3 data_egress_fee 181580.14 136343.19999999998\n",
      "3 data_egress_fee 271583.25 143094.0\n",
      "3 data_egress_fee 201414.15 152946.0\n",
      "3 data_ingress_fee 39695.5 57556.0\n",
      "3 data_ingress_fee 127892.9 214143.0\n",
      "3 data_ingress_fee 196946.9 377596.0\n",
      "3 data_ingress_fee 30282.450000000004 49929.00000000001\n",
      "3 data_ingress_fee 167494.69 262369.80000000005\n",
      "3 data_ingress_fee 231402.49 435036.80000000005\n",
      "3 data_ingress_fee 47601.0 69033.59999999999\n",
      "3 data_ingress_fee 146642.27999999997 250142.4\n",
      "3 data_ingress_fee 230698.68 445598.39999999997\n",
      "3 data_ingress_fee 92790.75 116009.40000000001\n",
      "3 data_ingress_fee 241382.57 353507.7\n",
      "3 data_ingress_fee 250333.07 483277.60000000003\n",
      "3 data_ingress_fee 157070.89999999997 182075.59999999998\n",
      "3 data_ingress_fee 216694.65999999997 337444.8\n",
      "3 data_ingress_fee 287506.66 544342.4\n",
      "3 data_ingress_fee 109727.25 136518.0\n",
      "3 data_ingress_fee 280327.35 409702.5\n",
      "3 data_ingress_fee 303488.85 577152.0\n",
      "3 load_balancer_fee 0 1\n",
      "3 load_balancer_fee 0 2\n",
      "3 load_balancer_fee 0 3\n",
      "3 load_balancer_fee 0 4\n",
      "3 load_balancer_fee 0 5\n",
      "3 load_balancer_fee 0 6\n",
      "4 managed_disk_fee 29780.0*count 29780\n",
      "4 managed_disk_fee 36164.0*count 36164\n",
      "4 managed_disk_fee 63490.0*count 63490\n",
      "4 managed_disk_fee 35308.0*count 35308\n",
      "4 managed_disk_fee 85815.0*count 85815\n",
      "4 managed_disk_fee 80382.0*count 80382\n",
      "4 managed_disk_fee 96000.0*count 96000\n",
      "4 managed_disk_fee 161056.0*count 161056\n"
     ]
    }
   ],
   "source": [
    "with open(path, \"r\", encoding=\"utf-8\") as f:\n",
    "    records = [json.loads(line) for line in f if line.strip()]\n",
    "\n",
    "master_evals = {}\n",
    "for record_id, record in enumerate(records):\n",
    "    if record_id >= 5:\n",
    "        continue\n",
    "    content, charges = record\n",
    "    charge_category_variables = {k: v['variables_used'] for k, v in charges.items()}\n",
    "    master_evals[record_id] = {}\n",
    "    charge_variables = {}\n",
    "    all_variables = {}\n",
    "    for charge, variables in charge_category_variables.items():\n",
    "        master_evals[record_id][charge] = []\n",
    "        generated_func, ground_truth_func, graph = functions[record_id][charge]\n",
    "        code_str = charges[charge]['code']\n",
    "        tests = create_tests(code_str)\n",
    "        ground_truth_func_evals = {}\n",
    "        generated_func_test_evals = {}\n",
    "        for condition_no, test in enumerate(tests):\n",
    "            ground_truth_func_evals[condition_no] = [coerce_literals(test) for test in cartesian_combine_lists(*test)]\n",
    "            generated_func_test_evals[condition_no] = symbolize_records([coerce_literals(test) for test in cartesian_combine_lists(*test)])\n",
    "\n",
    "        ground_truth_computed_result = []\n",
    "        symbolic_func_computed_result = []\n",
    "        for i, condition in ground_truth_func_evals.items():\n",
    "            for test in condition:\n",
    "                try:\n",
    "                    result = ground_truth_func(**test)\n",
    "                except Exception as e:\n",
    "                    print(record_id, charge, test, e)\n",
    "                # if charge == 'gpu_compute_fee' and record_id == 3:\n",
    "                #     print('-',test, result)\n",
    "                ground_truth_computed_result.append(result)\n",
    "\n",
    "        for i, condition in generated_func_test_evals.items():\n",
    "            for test in condition:\n",
    "                try:\n",
    "                    result = generated_func(**test)\n",
    "                except Exception as e:\n",
    "                    print(record_id, charge, test, e)\n",
    "                # if charge == 'gpu_compute_fee' and record_id == 3:\n",
    "                #     print(\">\",test, result)\n",
    "                symbolic_func_computed_result.append(result)\n",
    "        exception_list = [(0, 'compute_vm_fee'), \n",
    "                        # (0, 'data_ingress_fee'), \n",
    "                        # (1, 'storage_transaction_fee'),\n",
    "                        # (2, 'public_ip_fee'),\n",
    "                        # (2, 'function_app_fee'),\n",
    "                        # (4, 'data_ingress_fee'),\n",
    "                        # (1, 'data_ingress_fee'),\n",
    "                        # (1, 'compute_vm_fee'),\n",
    "                        # (1, 'gpu_compute_fee'),\n",
    "                        # (1, 'public_ip_fee'),\n",
    "                        # (2, 'data_egress_fee'),\n",
    "                        # (3, 'aks_cluster_fee'),\n",
    "                        # (4, 'function_app_fee')\n",
    "                    ]\n",
    "        for symr, gtr in zip(symbolic_func_computed_result, ground_truth_computed_result):\n",
    "            if isinstance(symr, float):\n",
    "                master_evals[record_id][charge].append([symr, gtr, round(symr, 6) == round(gtr, 6)])\n",
    "            else:\n",
    "                master_evals[record_id][charge].append([symr, gtr, symr == gtr])\n",
    "            # if (record_id, charge) not in exception_list:    \n",
    "            if isinstance(symr, float):\n",
    "                if round(symr, 6) != round(gtr, 6):\n",
    "                    print(record_id, charge, symr, gtr)\n",
    "            elif symr != gtr:\n",
    "                print(record_id, charge, symr, gtr)\n"
   ]
  },
  {
   "cell_type": "code",
   "execution_count": null,
   "id": "e8238cd8",
   "metadata": {},
   "outputs": [],
   "source": []
  },
  {
   "cell_type": "code",
   "execution_count": 45,
   "id": "6b243daf",
   "metadata": {},
   "outputs": [
    {
     "data": {
      "text/latex": [
       "$\\displaystyle 1 \\left(\\begin{cases} \\begin{cases} 1.0 & \\text{for}\\: memory_{gb} \\leq 1764 \\\\2.0 & \\text{otherwise} \\end{cases} & \\text{for}\\: dsv_{5} = vm_{family} \\\\\\begin{cases} \\begin{cases} 1.1 & \\text{for}\\: memory_{gb} \\leq 1764 \\\\2.2 & \\text{otherwise} \\end{cases} & \\text{for}\\: esv_{5} = vm_{family} \\\\\\begin{cases} \\begin{cases} 1.2 & \\text{for}\\: memory_{gb} \\leq 1764 \\\\2.4 & \\text{otherwise} \\end{cases} & \\text{for}\\: fsv_{2} = vm_{family} \\\\\\begin{cases} \\begin{cases} 1.3 & \\text{for}\\: memory_{gb} \\leq 1764 \\\\2.6 & \\text{otherwise} \\end{cases} & \\text{for}\\: lsv_{3} = vm_{family} \\\\\\begin{cases} \\begin{cases} 1.4 & \\text{for}\\: memory_{gb} \\leq 1764 \\\\2.8 & \\text{otherwise} \\end{cases} & \\text{for}\\: ncast4v3 = vm_{family} \\\\1.0 & \\text{otherwise} \\end{cases} & \\text{otherwise} \\end{cases} & \\text{otherwise} \\end{cases} & \\text{otherwise} \\end{cases} & \\text{otherwise} \\end{cases}\\right)$"
      ],
      "text/plain": [
       "1*Piecewise((Piecewise((1.0, memory_gb <= 1764), (2.0, True)), Eq(dsv5, vm_family)), (Piecewise((Piecewise((1.1, memory_gb <= 1764), (2.2, True)), Eq(esv5, vm_family)), (Piecewise((Piecewise((1.2, memory_gb <= 1764), (2.4, True)), Eq(fsv2, vm_family)), (Piecewise((Piecewise((1.3, memory_gb <= 1764), (2.6, True)), Eq(lsv3, vm_family)), (Piecewise((Piecewise((1.4, memory_gb <= 1764), (2.8, True)), Eq(ncast4v3, vm_family)), (1.0, True)), True)), True)), True)), True))"
      ]
     },
     "execution_count": 45,
     "metadata": {},
     "output_type": "execute_result"
    }
   ],
   "source": [
    "compose_expression(result['0']['compute_vm_fee']['compute_vm_fee']['computation_graph'])"
   ]
  },
  {
   "cell_type": "code",
   "execution_count": 46,
   "id": "fe3e0c0e",
   "metadata": {},
   "outputs": [
    {
     "data": {
      "text/plain": [
       "<function _lambdifygenerated(vm_family, memory_gb)>"
      ]
     },
     "execution_count": 46,
     "metadata": {},
     "output_type": "execute_result"
    }
   ],
   "source": [
    "functions[0]['compute_vm_fee'][0]"
   ]
  },
  {
   "cell_type": "code",
   "execution_count": null,
   "id": "1daa48f8",
   "metadata": {},
   "outputs": [
    {
     "data": {
      "text/plain": [
       "<function _lambdifygenerated(region, function_exec_ms)>"
      ]
     },
     "execution_count": 136,
     "metadata": {},
     "output_type": "execute_result"
    }
   ],
   "source": [
    "functions[0]['function_app_fee'][0]"
   ]
  },
  {
   "cell_type": "code",
   "execution_count": null,
   "id": "87c6d55f",
   "metadata": {},
   "outputs": [
    {
     "data": {
      "text/latex": [
       "$\\displaystyle storage_{volume} \\left(\\begin{cases} 1 & \\text{for}\\: lrs = redundancy \\\\\\begin{cases} 2 & \\text{for}\\: gzrs = redundancy \\\\\\begin{cases} 3 & \\text{for}\\: grs = redundancy \\\\\\begin{cases} 4 & \\text{for}\\: redundancy = zrs \\\\0 & \\text{otherwise} \\end{cases} & \\text{otherwise} \\end{cases} & \\text{otherwise} \\end{cases} & \\text{otherwise} \\end{cases}\\right)$"
      ],
      "text/plain": [
       "storage_volume*Piecewise((1, Eq(lrs, redundancy)), (Piecewise((2, Eq(gzrs, redundancy)), (Piecewise((3, Eq(grs, redundancy)), (Piecewise((4, Eq(redundancy, zrs)), (0, True)), True)), True)), True))"
      ]
     },
     "execution_count": 141,
     "metadata": {},
     "output_type": "execute_result"
    }
   ],
   "source": [
    "# import pickle \n",
    "\n",
    "# with open('result_4.pkl', 'wb') as f:\n",
    "#     pickle.dump(result, f)\n",
    "\n",
    "# with open('result_4.pkl', 'rb') as f:\n",
    "#     result = pickle.load(f)\n",
    "# compose_expression(result['4']['snapshot_storage_fee']['snapshot_storage_fee']['computation_graph'])"
   ]
  },
  {
   "cell_type": "code",
   "execution_count": 40,
   "id": "b4b047b1",
   "metadata": {},
   "outputs": [
    {
     "data": {
      "text/plain": [
       "<function _lambdifygenerated(os_type)>"
      ]
     },
     "execution_count": 40,
     "metadata": {},
     "output_type": "execute_result"
    }
   ],
   "source": [
    "functions[0]['gpu_compute_fee'][0]"
   ]
  },
  {
   "cell_type": "code",
   "execution_count": 81,
   "id": "1573ee07",
   "metadata": {},
   "outputs": [
    {
     "data": {
      "text/plain": [
       "{'gpu_type': {'unit': 'gpu type',\n",
       "  'description': 'Type of GPU accelerator',\n",
       "  'dtype': 'str'},\n",
       " 'usage_hours': {'unit': 'hours',\n",
       "  'description': 'Total runtime in hours over the billing window',\n",
       "  'dtype': 'float'}}"
      ]
     },
     "execution_count": 81,
     "metadata": {},
     "output_type": "execute_result"
    }
   ],
   "source": [
    "records[3][1]['gpu_compute_fee']['variables_used']"
   ]
  },
  {
   "cell_type": "code",
   "execution_count": 39,
   "id": "5d31ce86",
   "metadata": {},
   "outputs": [
    {
     "data": {
      "text/plain": [
       "'# Microsoft Azure Cloud Pricing Policy Document\\n\\nMicrosoft Azure is pleased to provide this official cloud pricing policy document, outlining the fee structure and pricing policies for our comprehensive suite of cloud services in British Pounds (GBP). This document serves as a definitive guide to understanding the costs associated with utilizing Azure\\'s innovative and scalable cloud solutions. By referencing this policy, customers can make informed decisions about their cloud investments and optimize their resource utilization.\\n\\n## Virtual Machine Fees for Linux and Windows Instances\\n\\n<table border=\"1\" cellspacing=\"0\" cellpadding=\"6\">\\n  <thead>\\n    <tr>\\n      <th>Instance Family</th>\\n      <th>RAM Range (GB)</th>\\n      <th>Charge Multiplier</th>\\n    </tr>\\n  </thead>\\n  <tbody>\\n    <tr>\\n      <td>Dsv5</td>\\n      <td>1 – 1764</td>\\n      <td>1.0×</td>\\n    </tr>\\n    <tr>\\n      <td>Dsv5</td>\\n      <td>1764 – 2048</td>\\n      <td>2.0×</td>\\n    </tr>\\n    <tr>\\n      <td>Esv5</td>\\n      <td>1 – 1764</td>\\n      <td>1.1×</td>\\n    </tr>\\n    <tr>\\n      <td>Esv5</td>\\n      <td>1764 – 2048</td>\\n      <td>2.2×</td>\\n    </tr>\\n    <tr>\\n      <td>Fsv2</td>\\n      <td>1 – 1764</td>\\n      <td>1.2×</td>\\n    </tr>\\n    <tr>\\n      <td>Fsv2</td>\\n      <td>1764 – 2048</td>\\n      <td>2.4×</td>\\n    </tr>\\n    <tr>\\n      <td>Lsv3</td>\\n      <td>1 – 1764</td>\\n      <td>1.3×</td>\\n    </tr>\\n    <tr>\\n      <td>Lsv3</td>\\n      <td>1764 – 2048</td>\\n      <td>2.6×</td>\\n    </tr>\\n    <tr>\\n      <td>NCasT4_v3</td>\\n      <td>1 – 1764</td>\\n      <td>1.4×</td>\\n    </tr>\\n    <tr>\\n      <td>NCasT4_v3</td>\\n      <td>1764 – 2048</td>\\n      <td>2.8×</td>\\n    </tr>\\n  </tbody>\\n</table>\\n\\n## GPU Accelerated Virtual Machines Pricing - Hourly and Monthly GPU Compute Fee Rates\\n\\n<table border=\"1\" cellspacing=\"0\" cellpadding=\"6\">\\n  <thead>\\n    <tr>\\n      <th>GPU Type</th>\\n      <th>GPU Count</th>\\n      <th>Charge (GBP per GPU / hour)</th>\\n    </tr>\\n  </thead>\\n  <tbody>\\n    <tr>\\n      <td rowspan=\"3\">T4</td>\\n      <td>1</td>\\n      <td>&pound;0.29 per GPU / hour</td>\\n    </tr>\\n    <tr>\\n      <td>2 – 3</td>\\n      <td>&pound;0.26 per GPU / hour</td>\\n    </tr>\\n    <tr>\\n      <td>4 – 7</td>\\n      <td>&pound;0.24 per GPU / hour</td>\\n    </tr>\\n    <tr>\\n      <td rowspan=\"3\">A100</td>\\n      <td>1</td>\\n      <td>&pound;0.98 per GPU / hour</td>\\n    </tr>\\n    <tr>\\n      <td>2 – 3</td>\\n      <td>&pound;0.90 per GPU / hour</td>\\n    </tr>\\n    <tr>\\n      <td>4 – 7</td>\\n      <td>&pound;0.82 per GPU / hour</td>\\n    </tr>\\n    <tr>\\n      <td rowspan=\"3\">MI300X</td>\\n      <td>1</td>\\n      <td>&pound;1.64 per GPU / hour</td>\\n    </tr>\\n    <tr>\\n      <td>2 – 3</td>\\n      <td>&pound;1.47 per GPU / hour</td>\\n    </tr>\\n    <tr>\\n      <td>4 – 7</td>\\n      <td>&pound;1.31 per GPU / hour</td>\\n    </tr>\\n  </tbody>\\n</table>\\n\\n## Managed Disk Pricing and Charges\\n\\n<table border=\"1\" cellspacing=\"0\" cellpadding=\"6\">\\n  <thead>\\n    <tr>\\n      <th>Volume Size Range (GB)</th>\\n      <th>Charge Multiplier</th>\\n    </tr>\\n  </thead>\\n  <tbody>\\n    <tr>\\n      <td>30 – 6,315</td>\\n      <td>4 × Volume Size</td>\\n    </tr>\\n    <tr>\\n      <td>6,316 – 26,559</td>\\n      <td>3 × Volume Size</td>\\n    </tr>\\n    <tr>\\n      <td>26,560 – 29,172</td>\\n      <td>2 × Volume Size</td>\\n    </tr>\\n    <tr>\\n      <td>29,173 – 32,768</td>\\n      <td>1 × Volume Size</td>\\n    </tr>\\n  </tbody>\\n</table>\\n\\n## Data Transfer Pricing - Outbound Data Transfers (Data Egress)\\n\\nData Transfer Out is a charge category that applies to outbound data transfers from Azure services to external destinations. This charge is calculated based on the total amount of data transferred out of Azure, measured in gigabytes (GB). The Data Transfer Out charge is tiered, with different rates applying to different ranges of data transfer volumes.\\n\\nFor data transfer volumes up to 5,711.7 GB, the charge is £1 per GB. For volumes between 5,711.7 GB and 12,985.2 GB, the charge is £2 per GB. For volumes between 12,985.2 GB and 61,072.9 GB, the charge is £3 per GB. For volumes exceeding 61,072.9 GB but not exceeding 100,000.0 GB, the charge is £4 per GB. All charges are in British Pounds (GBP) and are calculated based on the total amount of data transferred out of Azure during the billing period.\\n\\n## Data Ingress Fees for Azure Services\\n\\n<table border=\"1\" cellspacing=\"0\" cellpadding=\"6\">\\n  <thead>\\n    <tr>\\n      <th>Location</th>\\n      <th>Ingress Range (GB)</th>\\n      <th>Charge Multiplier</th>\\n    </tr>\\n  </thead>\\n  <tbody>\\n    <tr>\\n      <td>UK South</td>\\n      <td>0 - 47,886</td>\\n      <td>2.0 × ingress_gb</td>\\n    </tr>\\n    <tr>\\n      <td>UK South</td>\\n      <td>47,886.1 - 100,000</td>\\n      <td>1.0 × ingress_gb</td>\\n    </tr>\\n    <tr>\\n      <td>UK West</td>\\n      <td>0 - 47,886</td>\\n      <td>2.2 × ingress_gb</td>\\n    </tr>\\n    <tr>\\n      <td>UK West</td>\\n      <td>47,886.1 - 100,000</td>\\n      <td>1.1 × ingress_gb</td>\\n    </tr>\\n    <tr>\\n      <td>West Europe</td>\\n      <td>0 - 47,886</td>\\n      <td>2.4 × ingress_gb</td>\\n    </tr>\\n    <tr>\\n      <td>West Europe</td>\\n      <td>47,886.1 - 100,000</td>\\n      <td>1.2 × ingress_gb</td>\\n    </tr>\\n    <tr>\\n      <td>North Europe</td>\\n      <td>0 - 47,886</td>\\n      <td>2.6 × ingress_gb</td>\\n    </tr>\\n    <tr>\\n      <td>North Europe</td>\\n      <td>47,886.1 - 100,000</td>\\n      <td>1.3 × ingress_gb</td>\\n    </tr>\\n    <tr>\\n      <td>East US</td>\\n      <td>0 - 47,886</td>\\n      <td>2.8 × ingress_gb</td>\\n    </tr>\\n    <tr>\\n      <td>East US</td>\\n      <td>47,886.1 - 100,000</td>\\n      <td>1.4 × ingress_gb</td>\\n    </tr>\\n    <tr>\\n      <td>West US 2</td>\\n      <td>0 - 47,886</td>\\n      <td>3.0 × ingress_gb</td>\\n    </tr>\\n    <tr>\\n      <td>West US 2</td>\\n      <td>47,886.1 - 100,000</td>\\n      <td>1.5 × ingress_gb</td>\\n    </tr>\\n  </tbody>\\n</table>\\n\\n## Storage Transaction Fees\\n\\n<table border=\"1\" cellspacing=\"0\" cellpadding=\"6\">\\n  <thead>\\n    <tr>\\n      <th>Location</th>\\n      <th>Transaction Range (Millions)</th>\\n      <th>Charge Multiplier</th>\\n    </tr>\\n  </thead>\\n  <tbody>\\n    <tr>\\n      <td rowspan=\"3\">uk_south</td>\\n      <td>0 - 373.99</td>\\n      <td>1.00</td>\\n    </tr>\\n    <tr>\\n      <td>374 - 398.59</td>\\n      <td>2.00</td>\\n    </tr>\\n    <tr>\\n      <td>398.60 - 500</td>\\n      <td>3.00</td>\\n    </tr>\\n    <tr>\\n      <td rowspan=\"3\">uk_west</td>\\n      <td>0 - 373.99</td>\\n      <td>1.10</td>\\n    </tr>\\n    <tr>\\n      <td>374 - 398.59</td>\\n      <td>2.20</td>\\n    </tr>\\n    <tr>\\n      <td>398.60 - 500</td>\\n      <td>3.30</td>\\n    </tr>\\n    <tr>\\n      <td rowspan=\"3\">westeurope</td>\\n      <td>0 - 373.99</td>\\n      <td>1.20</td>\\n    </tr>\\n    <tr>\\n      <td>374 - 398.59</td>\\n      <td>2.40</td>\\n    </tr>\\n    <tr>\\n      <td>398.60 - 500</td>\\n      <td>3.60</td>\\n    </tr>\\n    <tr>\\n      <td rowspan=\"3\">northeurope</td>\\n      <td>0 - 373.99</td>\\n      <td>1.30</td>\\n    </tr>\\n    <tr>\\n      <td>374 - 398.59</td>\\n      <td>2.60</td>\\n    </tr>\\n    <tr>\\n      <td>398.60 - 500</td>\\n      <td>3.90</td>\\n    </tr>\\n    <tr>\\n      <td rowspan=\"3\">eastus</td>\\n      <td>0 - 373.99</td>\\n      <td>1.40</td>\\n    </tr>\\n    <tr>\\n      <td>374 - 398.59</td>\\n      <td>2.80</td>\\n    </tr>\\n    <tr>\\n      <td>398.60 - 500</td>\\n      <td>4.20</td>\\n    </tr>\\n    <tr>\\n      <td rowspan=\"3\">westus2</td>\\n      <td>0 - 373.99</td>\\n      <td>1.50</td>\\n    </tr>\\n    <tr>\\n      <td>374 - 398.59</td>\\n      <td>3.00</td>\\n    </tr>\\n    <tr>\\n      <td>398.60 - 500</td>\\n      <td>4.50</td>\\n    </tr>\\n  </tbody>\\n</table>\\n\\n## Public IP Addresses Pricing and Charges\\n\\n<table border=\"1\" cellspacing=\"0\" cellpadding=\"6\">\\n  <thead>\\n    <tr>\\n      <th>Location</th>\\n      <th>Public IPs (0-37)</th>\\n      <th>Public IPs (38-67)</th>\\n      <th>Public IPs (68-100)</th>\\n    </tr>\\n  </thead>\\n  <tbody>\\n    <tr>\\n      <td>UK South</td>\\n      <td>1 x £0.00 per IP</td>\\n      <td>2 x £0.00 per IP</td>\\n      <td>3 x £0.00 per IP</td>\\n    </tr>\\n    <tr>\\n      <td>UK West</td>\\n      <td>2 x £0.00 per IP</td>\\n      <td>4 x £0.00 per IP</td>\\n      <td>6 x £0.00 per IP</td>\\n    </tr>\\n    <tr>\\n      <td>West Europe</td>\\n      <td>3 x £0.00 per IP</td>\\n      <td>6 x £0.00 per IP</td>\\n      <td>9 x £0.00 per IP</td>\\n    </tr>\\n    <tr>\\n      <td>North Europe</td>\\n      <td>4 x £0.00 per IP</td>\\n      <td>8 x £0.00 per IP</td>\\n      <td>12 x £0.00 per IP</td>\\n    </tr>\\n    <tr>\\n      <td>East US</td>\\n      <td>5 x £0.00 per IP</td>\\n      <td>10 x £0.00 per IP</td>\\n      <td>15 x £0.00 per IP</td>\\n    </tr>\\n    <tr>\\n      <td>West US 2</td>\\n      <td>6 x £0.00 per IP</td>\\n      <td>12 x £0.00 per IP</td>\\n      <td>18 x £0.00 per IP</td>\\n    </tr>\\n  </tbody>\\n</table>\\n\\n## Load Balancer Pricing - Data Transfer and Hourly Instance Charges\\n\\n<table border=\"1\" cellspacing=\"0\" cellpadding=\"6\">\\n  <thead>\\n    <tr>\\n      <th>Geo Region</th>\\n      <th>0-42 Rules</th>\\n      <th>43-171 Rules</th>\\n      <th>172-200 Rules</th>\\n    </tr>\\n  </thead>\\n  <tbody>\\n    <tr>\\n      <td>UK South</td>\\n      <td>£0.003 per rule / hour</td>\\n      <td>£0.002 per rule / hour</td>\\n      <td>£0.001 per rule / hour</td>\\n    </tr>\\n    <tr>\\n      <td>UK West</td>\\n      <td>£0.006 per rule / hour</td>\\n      <td>£0.004 per rule / hour</td>\\n      <td>£0.002 per rule / hour</td>\\n    </tr>\\n    <tr>\\n      <td>West Europe</td>\\n      <td>£0.009 per rule / hour</td>\\n      <td>£0.006 per rule / hour</td>\\n      <td>£0.003 per rule / hour</td>\\n    </tr>\\n    <tr>\\n      <td>North Europe</td>\\n      <td>£0.012 per rule / hour</td>\\n      <td>£0.008 per rule / hour</td>\\n      <td>£0.004 per rule / hour</td>\\n    </tr>\\n    <tr>\\n      <td>East US</td>\\n      <td>£0.015 per rule / hour</td>\\n      <td>£0.010 per rule / hour</td>\\n      <td>£0.005 per rule / hour</td>\\n    </tr>\\n    <tr>\\n      <td>West US 2</td>\\n      <td>£0.018 per rule / hour</td>\\n      <td>£0.012 per rule / hour</td>\\n      <td>£0.006 per rule / hour</td>\\n    </tr>\\n  </tbody>\\n</table>\\n\\n## Managed Kubernetes Cluster Fees\\n\\n<table border=\"1\" cellspacing=\"0\" cellpadding=\"6\">\\n  <thead>\\n    <tr>\\n      <th>Geo Region</th>\\n      <th>Cluster Nodes 0-997</th>\\n      <th>Cluster Nodes 998-1000</th>\\n    </tr>\\n  </thead>\\n  <tbody>\\n    <tr>\\n      <td>UK South</td>\\n      <td>£0.004 per node / hour</td>\\n      <td>£0.002 per node / hour</td>\\n    </tr>\\n    <tr>\\n      <td>UK West</td>\\n      <td>£0.008 per node / hour</td>\\n      <td>£0.004 per node / hour</td>\\n    </tr>\\n    <tr>\\n      <td>West Europe</td>\\n      <td>£0.012 per node / hour</td>\\n      <td>£0.006 per node / hour</td>\\n    </tr>\\n    <tr>\\n      <td>North Europe</td>\\n      <td>£0.016 per node / hour</td>\\n      <td>£0.008 per node / hour</td>\\n    </tr>\\n    <tr>\\n      <td>East US</td>\\n      <td>£0.020 per node / hour</td>\\n      <td>£0.010 per node / hour</td>\\n    </tr>\\n    <tr>\\n      <td>West US 2</td>\\n      <td>£0.024 per node / hour</td>\\n      <td>£0.012 per node / hour</td>\\n    </tr>\\n  </tbody>\\n</table>\\n\\n## Function App Pricing: Execution and Storage Charges\\n\\n<table border=\"1\" cellspacing=\"0\" cellpadding=\"6\">\\n  <thead>\\n    <tr>\\n      <th>Invocations (Function Calls)</th>\\n      <th>Charge (GBP per Invocation)</th>\\n    </tr>\\n  </thead>\\n  <tbody>\\n    <tr>\\n      <td>0 - 266,891,706</td>\\n      <td>£2.00 per invocation</td>\\n    </tr>\\n    <tr>\\n      <td>266,891,707 - 1,000,000,000+</td>\\n      <td>£1.00 per invocation</td>\\n    </tr>\\n  </tbody>\\n</table>\\n\\n## SQL Database Fees\\n\\n<table border=\"1\" cellspacing=\"0\" cellpadding=\"6\">\\n  <thead>\\n    <tr>\\n      <th>SQL Capacity (GB)</th>\\n      <th>Charge (GBP per GB per hour)</th>\\n    </tr>\\n  </thead>\\n  <tbody>\\n    <tr>\\n      <td>0 - 352</td>\\n      <td>£2.00</td>\\n    </tr>\\n    <tr>\\n      <td>353 - 8192</td>\\n      <td>£1.00</td>\\n    </tr>\\n  </tbody>\\n</table>\\n\\n## Snapshot Storage Fee - Managed Disks and Unmanaged Disks Pricing\\n\\n<table border=\"1\" cellspacing=\"0\" cellpadding=\"6\">\\n  <thead>\\n    <tr>\\n      <th>Image Snapshot Size Range (GB)</th>\\n      <th>Charge Multiplier</th>\\n    </tr>\\n  </thead>\\n  <tbody>\\n    <tr>\\n      <td>0 – 78508.19</td>\\n      <td>1 × Image Snapshot Size</td>\\n    </tr>\\n    <tr>\\n      <td>78508.20 – 79278.79</td>\\n      <td>2 × Image Snapshot Size</td>\\n    </tr>\\n    <tr>\\n      <td>79278.80 – 100000.00</td>\\n      <td>3 × Image Snapshot Size</td>\\n    </tr>\\n  </tbody>\\n</table>\\n\\n## App Service Fees\\n\\nThe Tier-Based Compute Charge is a variable fee applied to compute resources based on the selected pricing tier. This charge is measured in tiers and is applicable to customers utilising premium, basic, isolated, or standard pricing tiers.\\n\\nThe Tier-Based Compute Charge is calculated as follows: customers on the premium pricing tier will incur a charge of 1, those on the basic pricing tier will incur a charge of 2, isolated pricing tier customers will incur a charge of 3, and standard pricing tier customers will incur a charge of 4. All charges are denominated in British Pounds (GBP) and will be billed accordingly.\\n\\nMicrosoft Azure\\'s cloud pricing policy provides a transparent and comprehensive framework for customers to understand the costs associated with our various cloud services in GBP. This policy is designed to ensure clarity and predictability, enabling customers to make informed decisions about their cloud investments. For any questions or concerns regarding this policy, please contact Azure Support through the Azure portal or visit our support website for assistance.\\n\\n**Policy Effective Date:** August 22, 2025\\n\\n'"
      ]
     },
     "execution_count": 39,
     "metadata": {},
     "output_type": "execute_result"
    }
   ],
   "source": [
    "records[0][0]"
   ]
  },
  {
   "cell_type": "code",
   "execution_count": 47,
   "id": "4cbdc30f",
   "metadata": {},
   "outputs": [
    {
     "data": {
      "text/plain": [
       "{'vm_family': {'unit': 'family',\n",
       "  'description': 'Virtual machine family that defines CPU and memory profile',\n",
       "  'dtype': 'str'},\n",
       " 'memory_gb': {'unit': 'GiB',\n",
       "  'description': 'Amount of memory allocated to the instance',\n",
       "  'dtype': 'float'}}"
      ]
     },
     "execution_count": 47,
     "metadata": {},
     "output_type": "execute_result"
    }
   ],
   "source": [
    "records[0][1]['compute_vm_fee']['variables_used']"
   ]
  },
  {
   "cell_type": "code",
   "execution_count": 48,
   "id": "6e88ded0",
   "metadata": {},
   "outputs": [
    {
     "data": {
      "text/plain": [
       "'compute_vm_fee conditions by instance family and ram_gb:\\n\\nfor Dsv5 the following charges apply:\\n  - if ram_gb in [1.0, 1764.4), charge is 1.0 × ram_gb\\n  - if ram_gb in [1764.4, 2048.0), charge is 2.0 × ram_gb\\nfor Esv5 the following charges apply:\\n  - if ram_gb in [1.0, 1764.4), charge is 1.1 × ram_gb\\n  - if ram_gb in [1764.4, 2048.0), charge is 2.2 × ram_gb\\nfor Fsv2 the following charges apply:\\n  - if ram_gb in [1.0, 1764.4), charge is 1.2 × ram_gb\\n  - if ram_gb in [1764.4, 2048.0), charge is 2.4 × ram_gb\\nfor Lsv3 the following charges apply:\\n  - if ram_gb in [1.0, 1764.4), charge is 1.3 × ram_gb\\n  - if ram_gb in [1764.4, 2048.0), charge is 2.6 × ram_gb\\nfor NCasT4_v3 the following charges apply:\\n  - if ram_gb in [1.0, 1764.4), charge is 1.4 × ram_gb\\n  - if ram_gb in [1764.4, 2048.0), charge is 2.8 × ram_gb'"
      ]
     },
     "execution_count": 48,
     "metadata": {},
     "output_type": "execute_result"
    }
   ],
   "source": [
    "records[0][1]['compute_vm_fee']['description']"
   ]
  },
  {
   "cell_type": "code",
   "execution_count": 128,
   "id": "c5e0f969",
   "metadata": {},
   "outputs": [
    {
     "data": {
      "text/plain": [
       "\"def compute_charge(region, data_egress_gb):\\n    if region == 'uk_south' and 16366.2 <= data_egress_gb < 100000.0: return 1 * data_egress_gb * 1.0\\n    elif region == 'uk_south' and 0.0 <= data_egress_gb < 16366.2: return 2 * data_egress_gb * 1.0\\n    elif region == 'uk_west' and 16366.2 <= data_egress_gb < 100000.0: return 1 * data_egress_gb * 1.1\\n    elif region == 'uk_west' and 0.0 <= data_egress_gb < 16366.2: return 2 * data_egress_gb * 1.1\\n    elif region == 'westeurope' and 16366.2 <= data_egress_gb < 100000.0: return 1 * data_egress_gb * 1.2\\n    elif region == 'westeurope' and 0.0 <= data_egress_gb < 16366.2: return 2 * data_egress_gb * 1.2\\n    elif region == 'northeurope' and 16366.2 <= data_egress_gb < 100000.0: return 1 * data_egress_gb * 1.3\\n    elif region == 'northeurope' and 0.0 <= data_egress_gb < 16366.2: return 2 * data_egress_gb * 1.3\\n    elif region == 'eastus' and 16366.2 <= data_egress_gb < 100000.0: return 1 * data_egress_gb * 1.4\\n    elif region == 'eastus' and 0.0 <= data_egress_gb < 16366.2: return 2 * data_egress_gb * 1.4\\n    elif region == 'westus2' and 16366.2 <= data_egress_gb < 100000.0: return 1 * data_egress_gb * 1.5\\n    elif region == 'westus2' and 0.0 <= data_egress_gb < 16366.2: return 2 * data_egress_gb * 1.5\\n    else: raise ValueError(f'region or data_egress_gb is out of expected range')\""
      ]
     },
     "execution_count": 128,
     "metadata": {},
     "output_type": "execute_result"
    }
   ],
   "source": [
    "records[3][1]['data_egress_fee']['code']"
   ]
  },
  {
   "cell_type": "code",
   "execution_count": 126,
   "id": "ac7526e1",
   "metadata": {},
   "outputs": [
    {
     "data": {
      "text/plain": [
       "{'rethink': 'The plan is sound and fully compliant with the rules. The region is symbolic, so all six regions must be handled explicitly using conditional logic. The data_egress_gb is also symbolic, so the tiered pricing logic must be applied conditionally based on its value relative to 16,366.2 GB. The structure will use a top-level CATEGORICAL_VALUE_NODE for region comparison, with each branch leading to a nested NUMERIC_CONDITIONAL for the data volume threshold. The base and discounted rates for each region are fixed and derived directly from the document. The expression must be structured to compute the correct fee for any combination of region and data volume. No assumptions are made about defaults. All values are correctly encoded: region comparisons use CATEGORICAL_VALUE_NODE, numeric comparisons use VALUE nodes with numeric values. The final output will be a single JSON expression tree that evaluates to the total data_egress_fee in GBP. No simplifications or omissions are made. The approach is finalized and ready for JSON generation.'}"
      ]
     },
     "execution_count": 126,
     "metadata": {},
     "output_type": "execute_result"
    }
   ],
   "source": [
    "result['3']['data_egress_fee']['data_egress_fee']['thought4']"
   ]
  },
  {
   "cell_type": "code",
   "execution_count": 31,
   "id": "bf4a93d4",
   "metadata": {},
   "outputs": [],
   "source": [
    "import ast\n",
    "\n",
    "def extract_if_conditions(code_str):\n",
    "    \"\"\"\n",
    "    Extracts conditions from if-else statements in a Python function string.\n",
    "    \n",
    "    Args:\n",
    "    code_str (str): The source code of the function as a string.\n",
    "    \n",
    "    Returns:\n",
    "    list[str]: A list of condition strings (e.g., \"x > 0\" or \"else\").\n",
    "    \"\"\"\n",
    "    try:\n",
    "        tree = ast.parse(code_str)\n",
    "    except SyntaxError as e:\n",
    "        raise ValueError(f\"Invalid Python code: {e}\")\n",
    "    \n",
    "    class IfConditionVisitor(ast.NodeVisitor):\n",
    "        def __init__(self):\n",
    "            self.conditions = []\n",
    "        \n",
    "        def visit_If(self, node):\n",
    "            current = node\n",
    "            while True:\n",
    "                self.conditions.append(ast.unparse(current.test).strip())\n",
    "                \n",
    "                # Visit statements in the body for nested structures\n",
    "                for stmt in current.body:\n",
    "                    self.visit(stmt)\n",
    "                \n",
    "                if current.orelse:\n",
    "                    if len(current.orelse) == 1 and isinstance(current.orelse[0], ast.If):\n",
    "                        # Handle elif by continuing the loop\n",
    "                        current = current.orelse[0]\n",
    "                        continue\n",
    "                    else:\n",
    "                        # Handle else\n",
    "                        self.conditions.append(\"else\")\n",
    "                        # Visit statements in the else body\n",
    "                        for stmt in current.orelse:\n",
    "                            self.visit(stmt)\n",
    "                \n",
    "                # End of chain\n",
    "                break\n",
    "    \n",
    "    visitor = IfConditionVisitor()\n",
    "    visitor.visit(tree)\n",
    "    \n",
    "    return visitor.conditions"
   ]
  },
  {
   "cell_type": "code",
   "execution_count": 32,
   "id": "5c14d7c0",
   "metadata": {},
   "outputs": [],
   "source": [
    "import re\n",
    "\n",
    "def create_tests(ground_truth_code_string):\n",
    "    binray_conditionals = ['and']\n",
    "    numeric_conditionals = ['>=', \"<=\", \"==\", '<', '>']\n",
    "    ops_pat = '|'.join(map(re.escape, numeric_conditionals))\n",
    "    test_cases = []\n",
    "\n",
    "    if_conditions = extract_if_conditions(ground_truth_code_string)\n",
    "    \n",
    "    for condition in if_conditions:\n",
    "        condition_level_test = []\n",
    "        expressions = [t.strip() for t in re.split(rf'\\s*({'|'.join(binray_conditionals)})\\b\\s*', condition, flags=re.IGNORECASE)]\n",
    "    \n",
    "        for expression in expressions:\n",
    "            \n",
    "            if expression == 'else':\n",
    "                continue    \n",
    "            if expression == 'and':\n",
    "                continue\n",
    "            expression_components = [t.strip() for t in re.split(rf'\\s*({ops_pat})\\s*', expression)]\n",
    "            # print(expression_components)\n",
    "            test = parse_expression(expression_components)\n",
    "            condition_level_test.append(test)\n",
    "        if condition_level_test != []:\n",
    "            test_cases.append(condition_level_test)\n",
    "    return test_cases"
   ]
  },
  {
   "cell_type": "code",
   "execution_count": 33,
   "id": "4fa7d892",
   "metadata": {},
   "outputs": [],
   "source": [
    "import random\n",
    "import math\n",
    "\n",
    "def sample_values(tokens, n=5, seed=None, domain=None, integer=False):\n",
    "    \"\"\"\n",
    "    tokens:\n",
    "      - 5 tokens: [L, op1, var, op2, R]\n",
    "      - 3 tokens: [var, op, value] OR [value, op, var]\n",
    "    operators: <, <=, >, >=, ==\n",
    "    Returns n samples satisfying the constraint. Floats by default; ints if integer=True.\n",
    "    For single-sided constraints (3 tokens), pass domain=(lo, hi) to bound the other side.\n",
    "    \"\"\"\n",
    "    if seed is not None:\n",
    "        random.seed(seed)\n",
    "\n",
    "    def is_number(s):\n",
    "        try:\n",
    "            float(s)\n",
    "            return True\n",
    "        except Exception:\n",
    "            return False\n",
    "\n",
    "    # Collect bounds as (value, inclusive) or None\n",
    "    lower = None   # (lo_val, lo_inclusive)\n",
    "    upper = None   # (hi_val, hi_inclusive)\n",
    "    eq_value = None\n",
    "\n",
    "    if len(tokens) == 5:\n",
    "        L, op1, var, op2, R = tokens\n",
    "        a = float(L)\n",
    "        b = float(R)\n",
    "\n",
    "        # Left comparison: L op1 var  -> constraint on var\n",
    "        if op1 == '<':\n",
    "            # L < var  => var > L  (lower, open)\n",
    "            lower = (a, False)\n",
    "        elif op1 == '<=':\n",
    "            # L <= var => var >= L (lower, closed)\n",
    "            lower = (a, True)\n",
    "        elif op1 == '>':\n",
    "            # L > var  => var < L  (upper, open)\n",
    "            upper = (a, False)\n",
    "        elif op1 == '>=':\n",
    "            # L >= var => var <= L (upper, closed)\n",
    "            upper = (a, True)\n",
    "        elif op1 == '==':\n",
    "            eq_value = a\n",
    "        else:\n",
    "            raise ValueError(f\"Unsupported operator: {op1}\")\n",
    "\n",
    "        # Right comparison: var op2 R -> constraint on var\n",
    "        if op2 == '<':\n",
    "            # var < R  (upper, open)\n",
    "            upper = (b, False) if upper is None else min(upper, (b, False), key=lambda t:(t[0], t[1]==False))\n",
    "        elif op2 == '<=':\n",
    "            # var <= R (upper, closed)\n",
    "            upper = (b, True) if upper is None else min(upper, (b, True), key=lambda t:(t[0], t[1]==False))\n",
    "        elif op2 == '>':\n",
    "            # var > R  (lower, open)\n",
    "            lower = (b, False) if lower is None else max(lower, (b, False), key=lambda t:(t[0], t[1]==True))\n",
    "        elif op2 == '>=':\n",
    "            # var >= R (lower, closed)\n",
    "            lower = (b, True) if lower is None else max(lower, (b, True), key=lambda t:(t[0], t[1]==True))\n",
    "        elif op2 == '==':\n",
    "            if eq_value is not None and abs(eq_value - b) > 0:\n",
    "                # contradictory equals\n",
    "                return []\n",
    "            eq_value = b\n",
    "        else:\n",
    "            raise ValueError(f\"Unsupported operator: {op2}\")\n",
    "\n",
    "    elif len(tokens) == 3:\n",
    "        x, op, y = tokens\n",
    "\n",
    "        # Normalize to \"var ? value\" direction\n",
    "        if is_number(x) and not is_number(y):\n",
    "            # pattern: value op var  -> flip to var flip(op) value\n",
    "            val = float(x)\n",
    "            var = y\n",
    "            flip = {'<': '>', '<=': '>=', '>': '<', '>=': '<=', '==': '=='}\n",
    "            op = flip.get(op)\n",
    "            if op is None:\n",
    "                raise ValueError(\"Unsupported operator\")\n",
    "        elif not is_number(x) and is_number(y):\n",
    "            # pattern: var op value (already normalized)\n",
    "            var = x\n",
    "            val = float(y)\n",
    "        else:\n",
    "            raise ValueError(\"Ambiguous tokens: need exactly one numeric and one variable\")\n",
    "\n",
    "        # Single-sided constraint -> set a bound\n",
    "        if op == '<':\n",
    "            upper = (val, False)\n",
    "        elif op == '<=':\n",
    "            upper = (val, True)\n",
    "        elif op == '>':\n",
    "            lower = (val, False)\n",
    "        elif op == '>=':\n",
    "            lower = (val, True)\n",
    "        elif op == '==':\n",
    "            eq_value = val\n",
    "        else:\n",
    "            raise ValueError(f\"Unsupported operator: {op}\")\n",
    "    else:\n",
    "        raise ValueError(\"Unexpected number of tokens\")\n",
    "\n",
    "    # Handle equality (must also satisfy other bounds if present)\n",
    "    if eq_value is not None:\n",
    "        v = float(eq_value)\n",
    "        if lower is not None:\n",
    "            lo, lo_inc = lower\n",
    "            if not (v > lo or (lo_inc and v == lo)):\n",
    "                return []\n",
    "        if upper is not None:\n",
    "            hi, hi_inc = upper\n",
    "            if not (v < hi or (hi_inc and v == hi)):\n",
    "                return []\n",
    "        if integer:\n",
    "            if abs(v - round(v)) > 1e-12:\n",
    "                return []  # equality to a non-integer but integer requested\n",
    "            v = int(round(v))\n",
    "        return [v for _ in range(n)]\n",
    "\n",
    "    # Fill missing side from domain (if needed)\n",
    "    if lower is None or upper is None:\n",
    "        if domain is None:\n",
    "            raise ValueError(\"Single-sided constraint: please provide domain=(lo, hi)\")\n",
    "        dom_lo, dom_hi = map(float, domain)\n",
    "        if lower is None:\n",
    "            lower = (dom_lo, True)\n",
    "        if upper is None:\n",
    "            upper = (dom_hi, True)\n",
    "\n",
    "    lo, lo_inc = lower\n",
    "    hi, hi_inc = upper\n",
    "\n",
    "    # Empty interval check\n",
    "    if hi < lo or (hi == lo and (not lo_inc or not hi_inc)):\n",
    "        return []\n",
    "\n",
    "    if integer:\n",
    "        # Convert to integer inclusive bounds\n",
    "        lo_i = (math.floor(lo) + 1) if not lo_inc else math.ceil(lo)\n",
    "        hi_i = (math.ceil(hi) - 1) if not hi_inc else math.floor(hi)\n",
    "        if lo_i > hi_i:\n",
    "            return []\n",
    "        return [random.randint(lo_i, hi_i) for _ in range(n)]\n",
    "\n",
    "    # Float sampling; nudge for open bounds\n",
    "    eps = 1e-12 * max(1.0, abs(lo), abs(hi))\n",
    "    lo_f = lo if lo_inc else lo + eps\n",
    "    hi_f = hi if hi_inc else hi - eps\n",
    "    if hi_f < lo_f:\n",
    "        return []\n",
    "\n",
    "    return [random.uniform(lo_f, hi_f) for _ in range(n)]"
   ]
  },
  {
   "cell_type": "code",
   "execution_count": 34,
   "id": "fccdb004",
   "metadata": {},
   "outputs": [],
   "source": [
    "import itertools\n",
    "\n",
    "def cartesian_combine_lists(*lists_of_dicts):\n",
    "    \"\"\"\n",
    "    Each arg is a list[dict]. Returns list[dict] for the Cartesian product.\n",
    "    If any list is empty -> returns [].\n",
    "    \"\"\"\n",
    "    out = []\n",
    "    for prod in itertools.product(*lists_of_dicts):\n",
    "        d = {}\n",
    "        for part in prod:\n",
    "            d.update(part)  # later lists override earlier on key conflicts\n",
    "        out.append(d)\n",
    "    return out"
   ]
  },
  {
   "cell_type": "code",
   "execution_count": 35,
   "id": "c4130052",
   "metadata": {},
   "outputs": [],
   "source": [
    "import ast\n",
    "\n",
    "def coerce_literals(rec):\n",
    "    out = {}\n",
    "    for k, v in rec.items():\n",
    "        if isinstance(v, str):\n",
    "            try:\n",
    "                v = ast.literal_eval(v)  # \"'linux'\" -> \"linux\", \"598.4\" -> 598.4\n",
    "            except Exception:\n",
    "                pass\n",
    "        out[k] = v\n",
    "    return out\n",
    "\n",
    "# results = [compute_charge(**coerce_literals(rec)) for rec in records]"
   ]
  },
  {
   "cell_type": "code",
   "execution_count": 36,
   "id": "decaef77",
   "metadata": {},
   "outputs": [],
   "source": [
    "from sympy import Symbol\n",
    "\n",
    "def symbolize_records(records, only_keys=None, skip_numeric_like=True, in_place=False):\n",
    "    \"\"\"\n",
    "    records: list of dicts\n",
    "    only_keys: set/iterable of keys to convert; if None => convert all str values\n",
    "    skip_numeric_like: don't convert strings that parse as numbers (e.g. \"123.4\")\n",
    "    in_place: mutate input list if True; otherwise return a new list\n",
    "    \"\"\"\n",
    "    def is_numlike(s):\n",
    "        try:\n",
    "            float(s)\n",
    "            return True\n",
    "        except Exception:\n",
    "            return False\n",
    "\n",
    "    target = records if in_place else [dict(r) for r in records]\n",
    "    for rec in target:\n",
    "        for k, v in list(rec.items()):\n",
    "            if isinstance(v, str) and (only_keys is None or k in only_keys):\n",
    "                if skip_numeric_like and is_numlike(v):\n",
    "                    continue\n",
    "                rec[k] = Symbol(_sanitize_symbol_name(v))\n",
    "    return target"
   ]
  },
  {
   "cell_type": "code",
   "execution_count": 37,
   "id": "41d7390b",
   "metadata": {},
   "outputs": [],
   "source": [
    "from typing import List\n",
    "\n",
    "def parse_expression(expression: List):\n",
    "    if '==' in expression:\n",
    "        return [{expression[0]: expression[2]}]\n",
    "    else:\n",
    "        values = sample_values(expression, n=1, integer=True)\n",
    "\n",
    "        if len(expression) == 5:\n",
    "            cases = [{expression[2]: v} for v in values]\n",
    "            return cases\n",
    "        elif len(expression) == 3:\n",
    "            cases = [{expression[0]: v} for v in values]\n",
    "            return cases\n",
    "        else:\n",
    "            raise('Unexpected Expression Length')"
   ]
  },
  {
   "cell_type": "code",
   "execution_count": 64,
   "id": "c4867de1",
   "metadata": {},
   "outputs": [
    {
     "name": "stdout",
     "output_type": "stream",
     "text": [
      "440.00000000000006\n"
     ]
    },
    {
     "ename": "NameError",
     "evalue": "name 'symbolic_func' is not defined",
     "output_type": "error",
     "traceback": [
      "\u001b[31m---------------------------------------------------------------------------\u001b[39m",
      "\u001b[31mNameError\u001b[39m                                 Traceback (most recent call last)",
      "\u001b[36mCell\u001b[39m\u001b[36m \u001b[39m\u001b[32mIn[64]\u001b[39m\u001b[32m, line 2\u001b[39m\n\u001b[32m      1\u001b[39m \u001b[38;5;28mprint\u001b[39m(ground_truth_func(\u001b[33m'\u001b[39m\u001b[33mwindows\u001b[39m\u001b[33m'\u001b[39m, \u001b[32m100.0\u001b[39m))\n\u001b[32m----> \u001b[39m\u001b[32m2\u001b[39m \u001b[38;5;28mprint\u001b[39m(\u001b[43msymbolic_func\u001b[49m(Symbol(\u001b[33m'\u001b[39m\u001b[33mWindows\u001b[39m\u001b[33m'\u001b[39m), \u001b[32m100.0\u001b[39m))\n",
      "\u001b[31mNameError\u001b[39m: name 'symbolic_func' is not defined"
     ]
    }
   ],
   "source": [
    "print(ground_truth_func('windows', 100.0))\n",
    "print(symbolic_func(Symbol('Windows'), 100.0))\n"
   ]
  },
  {
   "cell_type": "code",
   "execution_count": null,
   "id": "897c0d75",
   "metadata": {},
   "outputs": [],
   "source": []
  },
  {
   "cell_type": "code",
   "execution_count": 65,
   "id": "9840baa0",
   "metadata": {},
   "outputs": [],
   "source": [
    "tests = create_tests(code_str)\n",
    "\n",
    "final_test_list = {}\n",
    "final_test_list_symbolic = {}\n",
    "for condition_no, test in enumerate(tests):\n",
    "    \n",
    "    final_test_list[condition_no] = [coerce_literals(test) for test in cartesian_combine_lists(*test)]\n",
    "    final_test_list_symbolic[condition_no] = symbolize_records([coerce_literals(test) for test in cartesian_combine_lists(*test)])"
   ]
  },
  {
   "cell_type": "code",
   "execution_count": 66,
   "id": "a0bbcc49",
   "metadata": {},
   "outputs": [
    {
     "ename": "NameError",
     "evalue": "name 'symbolic_func' is not defined",
     "output_type": "error",
     "traceback": [
      "\u001b[31m---------------------------------------------------------------------------\u001b[39m",
      "\u001b[31mNameError\u001b[39m                                 Traceback (most recent call last)",
      "\u001b[36mCell\u001b[39m\u001b[36m \u001b[39m\u001b[32mIn[66]\u001b[39m\u001b[32m, line 10\u001b[39m\n\u001b[32m      8\u001b[39m \u001b[38;5;28;01mfor\u001b[39;00m i, condition \u001b[38;5;129;01min\u001b[39;00m final_test_list_symbolic.items():\n\u001b[32m      9\u001b[39m     \u001b[38;5;28;01mfor\u001b[39;00m test \u001b[38;5;129;01min\u001b[39;00m condition:\n\u001b[32m---> \u001b[39m\u001b[32m10\u001b[39m         symbolic_func_result.append(\u001b[43msymbolic_func\u001b[49m(**test))\n",
      "\u001b[31mNameError\u001b[39m: name 'symbolic_func' is not defined"
     ]
    }
   ],
   "source": [
    "ground_truth_result = []\n",
    "symbolic_func_result = []\n",
    "for i, condition in final_test_list.items():\n",
    "    for test in condition:\n",
    "        ground_truth_result.append(ground_truth_func(**test))\n",
    "        \n",
    "\n",
    "for i, condition in final_test_list_symbolic.items():\n",
    "    for test in condition:\n",
    "        symbolic_func_result.append(symbolic_func(**test))\n",
    "        \n"
   ]
  },
  {
   "cell_type": "code",
   "execution_count": 67,
   "id": "d3f5f7d8",
   "metadata": {},
   "outputs": [],
   "source": [
    "for symr, gtr in zip(symbolic_func_result, ground_truth_result):\n",
    "    print(symr, gtr, symr == gtr)"
   ]
  },
  {
   "cell_type": "code",
   "execution_count": 32,
   "id": "ebeea863",
   "metadata": {},
   "outputs": [
    {
     "data": {
      "text/plain": [
       "{0: [{'os_type': Linux, 'usage_hours': 665.3248833178142}],\n",
       " 1: [{'os_type': Linux, 'usage_hours': 432.13550835119906}],\n",
       " 2: [{'os_type': Linux, 'usage_hours': 350.7458075164126}],\n",
       " 3: [{'os_type': Linux, 'usage_hours': 171.49853195365063}],\n",
       " 4: [{'os_type': Windows, 'usage_hours': 690.057889740819}],\n",
       " 5: [{'os_type': Windows, 'usage_hours': 554.5396517677665}],\n",
       " 6: [{'os_type': Windows, 'usage_hours': 403.4211129037155}],\n",
       " 7: [{'os_type': Windows, 'usage_hours': 113.57826201135656}]}"
      ]
     },
     "execution_count": 32,
     "metadata": {},
     "output_type": "execute_result"
    }
   ],
   "source": [
    "final_test_list_symbolic"
   ]
  },
  {
   "cell_type": "code",
   "execution_count": 43,
   "id": "21c849d2",
   "metadata": {},
   "outputs": [
    {
     "data": {
      "text/latex": [
       "$\\displaystyle usage_{hours} \\left(\\begin{cases} \\begin{cases} 4.0 & \\text{for}\\: usage_{hours} < 216.5 \\\\\\begin{cases} 3.0 & \\text{for}\\: usage_{hours} < 408.7 \\\\\\begin{cases} 2.0 & \\text{for}\\: usage_{hours} < 598.4 \\\\1.0 & \\text{otherwise} \\end{cases} & \\text{otherwise} \\end{cases} & \\text{otherwise} \\end{cases} & \\text{for}\\: Linux = os_{type} \\\\\\begin{cases} \\begin{cases} 4.8 & \\text{for}\\: usage_{hours} < 216.5 \\\\\\begin{cases} 3.9 & \\text{for}\\: usage_{hours} < 408.7 \\\\\\begin{cases} 2.2 & \\text{for}\\: usage_{hours} < 598.4 \\\\1.1 & \\text{otherwise} \\end{cases} & \\text{otherwise} \\end{cases} & \\text{otherwise} \\end{cases} & \\text{for}\\: Windows = os_{type} \\\\0.0 & \\text{otherwise} \\end{cases} & \\text{otherwise} \\end{cases}\\right)$"
      ],
      "text/plain": [
       "usage_hours*Piecewise((Piecewise((4.0, usage_hours < 216.5), (Piecewise((3.0, usage_hours < 408.7), (Piecewise((2.0, usage_hours < 598.4), (1.0, True)), True)), True)), Eq(Linux, os_type)), (Piecewise((Piecewise((4.8, usage_hours < 216.5), (Piecewise((3.9, usage_hours < 408.7), (Piecewise((2.2, usage_hours < 598.4), (1.1, True)), True)), True)), Eq(Windows, os_type)), (0.0, True)), True))"
      ]
     },
     "execution_count": 43,
     "metadata": {},
     "output_type": "execute_result"
    }
   ],
   "source": [
    "compose_expression(result['0']['compute_vm_fee']['compute_vm_fee']['computation_graph'])"
   ]
  },
  {
   "cell_type": "code",
   "execution_count": 53,
   "id": "53087566",
   "metadata": {},
   "outputs": [
    {
     "data": {
      "text/plain": [
       "\"def compute_charge(os_type, usage_hours):\\n    if os_type == 'linux' and 598.4 <= usage_hours < 744.0: return 1 * usage_hours * 1.0\\n    elif os_type == 'linux' and 408.7 <= usage_hours < 598.4: return 2 * usage_hours * 1.0\\n    elif os_type == 'linux' and 216.5 <= usage_hours < 408.7: return 3 * usage_hours * 1.0\\n    elif os_type == 'linux' and 0.0 <= usage_hours < 216.5: return 4 * usage_hours * 1.0\\n    elif os_type == 'windows' and 598.4 <= usage_hours < 744.0: return 1 * usage_hours * 1.1\\n    elif os_type == 'windows' and 408.7 <= usage_hours < 598.4: return 2 * usage_hours * 1.1\\n    elif os_type == 'windows' and 216.5 <= usage_hours < 408.7: return 3 * usage_hours * 1.1\\n    elif os_type == 'windows' and 0.0 <= usage_hours < 216.5: return 4 * usage_hours * 1.1\\n    else: raise ValueError(f'os_type or usage_hours is out of expected range')\""
      ]
     },
     "execution_count": 53,
     "metadata": {},
     "output_type": "execute_result"
    }
   ],
   "source": [
    "records[0][1]['compute_vm_fee']['code']"
   ]
  },
  {
   "cell_type": "code",
   "execution_count": null,
   "id": "be729455",
   "metadata": {},
   "outputs": [],
   "source": []
  },
  {
   "cell_type": "code",
   "execution_count": null,
   "id": "28d158b3",
   "metadata": {},
   "outputs": [],
   "source": []
  },
  {
   "cell_type": "code",
   "execution_count": null,
   "id": "c66bd98c",
   "metadata": {},
   "outputs": [],
   "source": []
  },
  {
   "cell_type": "code",
   "execution_count": null,
   "id": "0c457bd0",
   "metadata": {},
   "outputs": [],
   "source": [
    "# import builtins\n",
    "# def to_built_in_type(type_str: str):\n",
    "#     t = getattr(builtins, type_str, None)\n",
    "#     if isinstance(t, type):\n",
    "#         return t\n",
    "#     raise ValueError(f\"{type_str} is not a valid built-in type\")"
   ]
  },
  {
   "cell_type": "code",
   "execution_count": null,
   "id": "895393b4",
   "metadata": {},
   "outputs": [],
   "source": [
    "# charge_variables = {}\n",
    "# all_variables = {}\n",
    "# for charge, variables in charge_category_variables.items():\n",
    "#     charge_variables[charge] = list(variables.keys())\n",
    "#     for var, details in variables.items():\n",
    "#         all_variables[var] = DomainVariable(name=var,\n",
    "#             description=details['description'],\n",
    "#             unit=details['unit'],\n",
    "#             data_type=to_built_in_type(details['dtype']))\n",
    "    \n",
    "    "
   ]
  },
  {
   "cell_type": "code",
   "execution_count": null,
   "id": "2cd35a27",
   "metadata": {},
   "outputs": [
    {
     "data": {
      "text/plain": [
       "{'compute_vm_fee': ['os_type', 'usage_hours'],\n",
       " 'gpu_compute_fee': ['gpu_type'],\n",
       " 'managed_disk_fee': ['managed_disk_count'],\n",
       " 'data_egress_fee': ['region'],\n",
       " 'data_ingress_fee': ['region', 'data_ingress_gb'],\n",
       " 'storage_transaction_fee': ['redundancy', 'storage_transactions_millions'],\n",
       " 'public_ip_fee': ['region', 'public_ip_count'],\n",
       " 'load_balancer_fee': ['load_balancer_rules'],\n",
       " 'aks_cluster_fee': ['region'],\n",
       " 'function_app_fee': ['region', 'function_exec_ms'],\n",
       " 'sql_database_fee': ['region', 'backup_retention_days'],\n",
       " 'snapshot_storage_fee': ['redundancy'],\n",
       " 'app_service_fee': ['service_tier', 'app_service_instances']}"
      ]
     },
     "execution_count": 126,
     "metadata": {},
     "output_type": "execute_result"
    }
   ],
   "source": [
    "# charge_variables"
   ]
  },
  {
   "cell_type": "code",
   "execution_count": null,
   "id": "347bee44",
   "metadata": {},
   "outputs": [
    {
     "data": {
      "text/plain": [
       "{'os_type': DomainVariable(name='os_type', description='Operating system for the compute workload', unit='os', data_type=<class 'str'>),\n",
       " 'usage_hours': DomainVariable(name='usage_hours', description='Total runtime in hours over the billing window', unit='hours', data_type=<class 'float'>),\n",
       " 'gpu_type': DomainVariable(name='gpu_type', description='Type of GPU accelerator', unit='gpu type', data_type=<class 'str'>),\n",
       " 'managed_disk_count': DomainVariable(name='managed_disk_count', description='Count of managed disks attached', unit='disks', data_type=<class 'int'>),\n",
       " 'region': DomainVariable(name='region', description='Azure region where resources are deployed', unit='region', data_type=<class 'str'>),\n",
       " 'data_ingress_gb': DomainVariable(name='data_ingress_gb', description='Inbound data transferred to Azure', unit='GB', data_type=<class 'float'>),\n",
       " 'redundancy': DomainVariable(name='redundancy', description='Storage redundancy configuration', unit='redundancy', data_type=<class 'str'>),\n",
       " 'storage_transactions_millions': DomainVariable(name='storage_transactions_millions', description='Number of storage account operations in millions', unit='million tx', data_type=<class 'float'>),\n",
       " 'public_ip_count': DomainVariable(name='public_ip_count', description='Number of public IP addresses allocated', unit='IPs', data_type=<class 'int'>),\n",
       " 'load_balancer_rules': DomainVariable(name='load_balancer_rules', description='Configured load balancer rules', unit='rules', data_type=<class 'int'>),\n",
       " 'function_exec_ms': DomainVariable(name='function_exec_ms', description='Average or billed execution time per invocation', unit='ms', data_type=<class 'float'>),\n",
       " 'backup_retention_days': DomainVariable(name='backup_retention_days', description='Backup retention period for databases', unit='days', data_type=<class 'int'>),\n",
       " 'service_tier': DomainVariable(name='service_tier', description='Service tier for managed services', unit='tier', data_type=<class 'str'>),\n",
       " 'app_service_instances': DomainVariable(name='app_service_instances', description='Count of App Service instances', unit='instances', data_type=<class 'int'>)}"
      ]
     },
     "execution_count": 127,
     "metadata": {},
     "output_type": "execute_result"
    }
   ],
   "source": [
    "# all_variables"
   ]
  },
  {
   "cell_type": "markdown",
   "id": "64357ebb",
   "metadata": {},
   "source": [
    "## Computation Graph Creation [OLD]"
   ]
  },
  {
   "cell_type": "code",
   "execution_count": null,
   "id": "40bd1c82",
   "metadata": {},
   "outputs": [
    {
     "data": {
      "text/plain": [
       "'compute_vm_fee'"
      ]
     },
     "execution_count": 128,
     "metadata": {},
     "output_type": "execute_result"
    }
   ],
   "source": [
    "# list(charge_variables.keys())[0]"
   ]
  },
  {
   "cell_type": "code",
   "execution_count": null,
   "id": "0c6d0460",
   "metadata": {},
   "outputs": [
    {
     "data": {
      "text/plain": [
       "'Charge for running virtual machines based on vCPU, memory, OS, and commitment.'"
      ]
     },
     "execution_count": 129,
     "metadata": {},
     "output_type": "execute_result"
    }
   ],
   "source": [
    "# charges[list(charge_variables.keys())[0]]['charge_description']"
   ]
  },
  {
   "cell_type": "code",
   "execution_count": null,
   "id": "8f5cae4d",
   "metadata": {},
   "outputs": [
    {
     "name": "stdout",
     "output_type": "stream",
     "text": [
      "--- Building graph for charge category: 'compute_vm_fee' ---\n"
     ]
    },
    {
     "data": {
      "application/vnd.jupyter.widget-view+json": {
       "model_id": "297bb878330148cfae43d3a47f7f938d",
       "version_major": 2,
       "version_minor": 0
      },
      "text/plain": [
       "StitchWidget(initial_height='auto', initial_width='100%', srcdoc='<!doctype html>\\n<html lang=\"en\">\\n<head>\\n …"
      ]
     },
     "metadata": {},
     "output_type": "display_data"
    },
    {
     "name": "stdout",
     "output_type": "stream",
     "text": [
      "Execution time for 'build': 116.5014 seconds\n"
     ]
    }
   ],
   "source": [
    "# query = f\"Calculate the total {list(charge_variables.keys())[0]}. Charge description - {charges[list(charge_variables.keys())[0]]['charge_description']}\"\n",
    "# charge_category = list(charge_variables.keys())[0]\n",
    "# markdown_content = content\n",
    "# result = create_computation_graph(base_lm, query, charge_category, markdown_content, charge_variables, all_variables)\n"
   ]
  },
  {
   "cell_type": "markdown",
   "id": "87e60bc3",
   "metadata": {},
   "source": [
    "## Lookthrough [OLD]"
   ]
  },
  {
   "cell_type": "code",
   "execution_count": null,
   "id": "5c93a72c",
   "metadata": {},
   "outputs": [
    {
     "name": "stdout",
     "output_type": "stream",
     "text": [
      "{\n",
      "    \"query_parameters\": [\n",
      "        {\n",
      "            \"name\": \"os_type\",\n",
      "            \"status\": \"SYMBOLIC\",\n",
      "            \"type_of_variable\": \"CATEGORICAL\",\n",
      "            \"value\": null\n",
      "        },\n",
      "        {\n",
      "            \"name\": \"usage_hours\",\n",
      "            \"status\": \"SYMBOLIC\",\n",
      "            \"type_of_variable\": \"NUMERIC\",\n",
      "            \"value\": null\n",
      "        }\n",
      "    ]\n",
      "}\n"
     ]
    }
   ],
   "source": [
    "# print(json.dumps(json.loads(result[0][\"thought1\"]), indent=4))"
   ]
  },
  {
   "cell_type": "code",
   "execution_count": null,
   "id": "b01d18da",
   "metadata": {},
   "outputs": [
    {
     "name": "stdout",
     "output_type": "stream",
     "text": [
      "{\n",
      "    \"identified_constants_and_rules\": [\n",
      "        \"The compute VM pricing is based on the operating system (OS) and the number of usage hours.\",\n",
      "        \"For Linux VMs, the hourly rate depends on the usage hours as follows: $4.00 per hour for 0 \\u2013 216.5 hours, $3.00 per hour for 216.5 \\u2013 408.7 hours, $2.00 per hour for 408.7 \\u2013 598.4 hours, and $1.00 per hour for 598.4 \\u2013 744.0 hours.\",\n",
      "        \"For Windows VMs, the hourly rate depends on the usage hours as follows: $4.80 per hour for 0 \\u2013 216.5 hours, $3.90 per hour for 216.5 \\u2013 408.7 hours, $2.20 per hour for 408.7 \\u2013 598.4 hours, and $1.10 per hour for 598.4 \\u2013 744.0 hours.\",\n",
      "        \"The compute_vm_fee is calculated as the product of the usage_hours and the applicable hourly rate based on the OS and the usage_hours range.\",\n",
      "        \"The hourly rates are tiered and non-overlapping, with each tier applying to a specific range of usage_hours.\",\n",
      "        \"The total compute_vm_fee is determined by selecting the correct hourly rate based on the OS and the usage_hours, then multiplying that rate by the usage_hours.\"\n",
      "    ]\n",
      "}\n"
     ]
    }
   ],
   "source": [
    "# print(json.dumps(json.loads(result[0][\"thought2\"]), indent=4))"
   ]
  },
  {
   "cell_type": "code",
   "execution_count": null,
   "id": "8554b9ad",
   "metadata": {},
   "outputs": [
    {
     "name": "stdout",
     "output_type": "stream",
     "text": [
      "{\n",
      "    \"synthesis_plan\": \"To compute the total compute_vm_fee, we need to determine the applicable hourly rate based on the OS type (Linux or Windows) and the usage_hours. Since both os_type and usage_hours are symbolic (not provided with specific values), we must create a conditional expression tree that handles all possible combinations. The logic will first check the OS type using a CONDITIONAL node. For each OS (Linux and Windows), we will evaluate the usage_hours against the tiered ranges (0\\u2013216.5, 216.5\\u2013408.7, 408.7\\u2013598.4, 598.4\\u2013744.0) using nested CONDITIONAL nodes. Each range will return the corresponding hourly rate. The final result is the product of the selected hourly rate and the usage_hours. The expression tree will use COMPARISON nodes with appropriate operators (LESS_THAN_EQUAL, GREATER_THAN) and VALUE nodes for numeric thresholds. CATEGORICAL_VALUE_NODE will be used for OS comparisons.\"\n",
      "}\n"
     ]
    }
   ],
   "source": [
    "# print(json.dumps(json.loads(result[0][\"thought3\"]), indent=4))"
   ]
  },
  {
   "cell_type": "code",
   "execution_count": null,
   "id": "dd9ee1c5",
   "metadata": {},
   "outputs": [
    {
     "name": "stdout",
     "output_type": "stream",
     "text": [
      "{\n",
      "    \"rethink\": \"The plan is sound and aligns with all crucial rules. Both 'os_type' and 'usage_hours' are symbolic, so we must not assume default values. The logic must cover all OS types (Linux/Windows) and all usage hour tiers. The tiered pricing is non-overlapping and cumulative, so we use a cascading conditional structure: first check OS, then check usage_hours against the increasing thresholds. The comparison for numeric ranges uses proper VALUE nodes (with numeric values), and categorical comparisons use CATEGORICAL_VALUE_NODE. The final multiplication is applied only after selecting the correct rate. No assumptions about defaults are made. The expression tree will correctly represent the full conditional logic required for any input. Finalization complete.\"\n",
      "}\n"
     ]
    }
   ],
   "source": [
    "# print(json.dumps(json.loads(result[0][\"thought4\"]), indent=4))"
   ]
  },
  {
   "cell_type": "code",
   "execution_count": null,
   "id": "20c63993",
   "metadata": {},
   "outputs": [
    {
     "name": "stdout",
     "output_type": "stream",
     "text": [
      "{\n",
      "    \"type\": \"BINARY_OPERATION\",\n",
      "    \"operator\": \"MULTIPLY\",\n",
      "    \"left\": {\n",
      "        \"type\": \"VARIABLE\",\n",
      "        \"name\": \"usage_hours\",\n",
      "        \"description\": \"Total runtime in hours over the billing window\",\n",
      "        \"unit\": \"HOURS\"\n",
      "    },\n",
      "    \"right\": {\n",
      "        \"type\": \"CONDITIONAL\",\n",
      "        \"condition\": {\n",
      "            \"type\": \"COMPARISON\",\n",
      "            \"operator\": \"EQUAL_TO\",\n",
      "            \"left\": {\n",
      "                \"type\": \"VARIABLE\",\n",
      "                \"name\": \"os_type\",\n",
      "                \"description\": \"Operating system for the compute workload\",\n",
      "                \"unit\": \"COUNT\"\n",
      "            },\n",
      "            \"right\": {\n",
      "                \"type\": \"CATEGORICAL_VALUE\",\n",
      "                \"value\": \"Linux\",\n",
      "                \"description\": \"Operating system type: Linux\"\n",
      "            }\n",
      "        },\n",
      "        \"if_true\": {\n",
      "            \"type\": \"CONDITIONAL\",\n",
      "            \"condition\": {\n",
      "                \"type\": \"COMPARISON\",\n",
      "                \"operator\": \"LESS_THAN\",\n",
      "                \"left\": {\n",
      "                    \"type\": \"VARIABLE\",\n",
      "                    \"name\": \"usage_hours\",\n",
      "                    \"description\": \"Total runtime in hours over the billing window\",\n",
      "                    \"unit\": \"HOURS\"\n",
      "                },\n",
      "                \"right\": {\n",
      "                    \"type\": \"VALUE\",\n",
      "                    \"value\": 216.5,\n",
      "                    \"description\": \"Upper bound of first tier for Linux VMs\",\n",
      "                    \"unit\": \"HOURS\"\n",
      "                }\n",
      "            },\n",
      "            \"if_true\": {\n",
      "                \"type\": \"VALUE\",\n",
      "                \"value\": 4.0,\n",
      "                \"description\": \"Hourly rate for Linux VMs in first tier (0\\u2013216.5 hours)\",\n",
      "                \"unit\": \"EUROS\"\n",
      "            },\n",
      "            \"if_false\": {\n",
      "                \"type\": \"CONDITIONAL\",\n",
      "                \"condition\": {\n",
      "                    \"type\": \"COMPARISON\",\n",
      "                    \"operator\": \"LESS_THAN\",\n",
      "                    \"left\": {\n",
      "                        \"type\": \"VARIABLE\",\n",
      "                        \"name\": \"usage_hours\",\n",
      "                        \"description\": \"Total runtime in hours over the billing window\",\n",
      "                        \"unit\": \"HOURS\"\n",
      "                    },\n",
      "                    \"right\": {\n",
      "                        \"type\": \"VALUE\",\n",
      "                        \"value\": 408.7,\n",
      "                        \"description\": \"Upper bound of second tier for Linux VMs\",\n",
      "                        \"unit\": \"HOURS\"\n",
      "                    }\n",
      "                },\n",
      "                \"if_true\": {\n",
      "                    \"type\": \"VALUE\",\n",
      "                    \"value\": 3.0,\n",
      "                    \"description\": \"Hourly rate for Linux VMs in second tier (216.5\\u2013408.7 hours)\",\n",
      "                    \"unit\": \"EUROS\"\n",
      "                },\n",
      "                \"if_false\": {\n",
      "                    \"type\": \"CONDITIONAL\",\n",
      "                    \"condition\": {\n",
      "                        \"type\": \"COMPARISON\",\n",
      "                        \"operator\": \"LESS_THAN\",\n",
      "                        \"left\": {\n",
      "                            \"type\": \"VARIABLE\",\n",
      "                            \"name\": \"usage_hours\",\n",
      "                            \"description\": \"Total runtime in hours over the billing window\",\n",
      "                            \"unit\": \"HOURS\"\n",
      "                        },\n",
      "                        \"right\": {\n",
      "                            \"type\": \"VALUE\",\n",
      "                            \"value\": 598.4,\n",
      "                            \"description\": \"Upper bound of third tier for Linux VMs\",\n",
      "                            \"unit\": \"HOURS\"\n",
      "                        }\n",
      "                    },\n",
      "                    \"if_true\": {\n",
      "                        \"type\": \"VALUE\",\n",
      "                        \"value\": 2.0,\n",
      "                        \"description\": \"Hourly rate for Linux VMs in third tier (408.7\\u2013598.4 hours)\",\n",
      "                        \"unit\": \"EUROS\"\n",
      "                    },\n",
      "                    \"if_false\": {\n",
      "                        \"type\": \"VALUE\",\n",
      "                        \"value\": 1.0,\n",
      "                        \"description\": \"Hourly rate for Linux VMs in fourth tier (598.4\\u2013744.0 hours)\",\n",
      "                        \"unit\": \"EUROS\"\n",
      "                    }\n",
      "                }\n",
      "            }\n",
      "        },\n",
      "        \"if_false\": {\n",
      "            \"type\": \"CONDITIONAL\",\n",
      "            \"condition\": {\n",
      "                \"type\": \"COMPARISON\",\n",
      "                \"operator\": \"EQUAL_TO\",\n",
      "                \"left\": {\n",
      "                    \"type\": \"VARIABLE\",\n",
      "                    \"name\": \"os_type\",\n",
      "                    \"description\": \"Operating system for the compute workload\",\n",
      "                    \"unit\": \"UNITLESS\"\n",
      "                },\n",
      "                \"right\": {\n",
      "                    \"type\": \"CATEGORICAL_VALUE\",\n",
      "                    \"value\": \"Windows\",\n",
      "                    \"description\": \"Operating system type: Windows\"\n",
      "                }\n",
      "            },\n",
      "            \"if_true\": {\n",
      "                \"type\": \"CONDITIONAL\",\n",
      "                \"condition\": {\n",
      "                    \"type\": \"COMPARISON\",\n",
      "                    \"operator\": \"LESS_THAN\",\n",
      "                    \"left\": {\n",
      "                        \"type\": \"VARIABLE\",\n",
      "                        \"name\": \"usage_hours\",\n",
      "                        \"description\": \"Total runtime in hours over the billing window\",\n",
      "                        \"unit\": \"HOURS\"\n",
      "                    },\n",
      "                    \"right\": {\n",
      "                        \"type\": \"VALUE\",\n",
      "                        \"value\": 216.5,\n",
      "                        \"description\": \"Upper bound of first tier for Windows VMs\",\n",
      "                        \"unit\": \"HOURS\"\n",
      "                    }\n",
      "                },\n",
      "                \"if_true\": {\n",
      "                    \"type\": \"VALUE\",\n",
      "                    \"value\": 4.8,\n",
      "                    \"description\": \"Hourly rate for Windows VMs in first tier (0\\u2013216.5 hours)\",\n",
      "                    \"unit\": \"EUROS\"\n",
      "                },\n",
      "                \"if_false\": {\n",
      "                    \"type\": \"CONDITIONAL\",\n",
      "                    \"condition\": {\n",
      "                        \"type\": \"COMPARISON\",\n",
      "                        \"operator\": \"LESS_THAN\",\n",
      "                        \"left\": {\n",
      "                            \"type\": \"VARIABLE\",\n",
      "                            \"name\": \"usage_hours\",\n",
      "                            \"description\": \"Total runtime in hours over the billing window\",\n",
      "                            \"unit\": \"HOURS\"\n",
      "                        },\n",
      "                        \"right\": {\n",
      "                            \"type\": \"VALUE\",\n",
      "                            \"value\": 408.7,\n",
      "                            \"description\": \"Upper bound of second tier for Windows VMs\",\n",
      "                            \"unit\": \"HOURS\"\n",
      "                        }\n",
      "                    },\n",
      "                    \"if_true\": {\n",
      "                        \"type\": \"VALUE\",\n",
      "                        \"value\": 3.9,\n",
      "                        \"description\": \"Hourly rate for Windows VMs in second tier (216.5\\u2013408.7 hours)\",\n",
      "                        \"unit\": \"EUROS\"\n",
      "                    },\n",
      "                    \"if_false\": {\n",
      "                        \"type\": \"CONDITIONAL\",\n",
      "                        \"condition\": {\n",
      "                            \"type\": \"COMPARISON\",\n",
      "                            \"operator\": \"LESS_THAN\",\n",
      "                            \"left\": {\n",
      "                                \"type\": \"VARIABLE\",\n",
      "                                \"name\": \"usage_hours\",\n",
      "                                \"description\": \"Total runtime in hours over the billing window\",\n",
      "                                \"unit\": \"HOURS\"\n",
      "                            },\n",
      "                            \"right\": {\n",
      "                                \"type\": \"VALUE\",\n",
      "                                \"value\": 598.4,\n",
      "                                \"description\": \"Upper bound of third tier for Windows VMs\",\n",
      "                                \"unit\": \"HOURS\"\n",
      "                            }\n",
      "                        },\n",
      "                        \"if_true\": {\n",
      "                            \"type\": \"VALUE\",\n",
      "                            \"value\": 2.2,\n",
      "                            \"description\": \"Hourly rate for Windows VMs in third tier (408.7\\u2013598.4 hours)\",\n",
      "                            \"unit\": \"EUROS\"\n",
      "                        },\n",
      "                        \"if_false\": {\n",
      "                            \"type\": \"VALUE\",\n",
      "                            \"value\": 1.1,\n",
      "                            \"description\": \"Hourly rate for Windows VMs in fourth tier (598.4\\u2013744.0 hours)\",\n",
      "                            \"unit\": \"EUROS\"\n",
      "                        }\n",
      "                    }\n",
      "                }\n",
      "            },\n",
      "            \"if_false\": {\n",
      "                \"type\": \"VALUE\",\n",
      "                \"value\": 0.0,\n",
      "                \"description\": \"Default rate when OS type is neither Linux nor Windows (should not occur in valid input)\",\n",
      "                \"unit\": \"EUROS\"\n",
      "            }\n",
      "        }\n",
      "    }\n",
      "}\n"
     ]
    }
   ],
   "source": [
    "# print(json.dumps(json.loads(result[0][\"result_graph\"]), indent=4))"
   ]
  },
  {
   "cell_type": "code",
   "execution_count": null,
   "id": "3516a8ef",
   "metadata": {},
   "outputs": [
    {
     "data": {
      "text/plain": [
       "dict_keys(['compute_vm_fee', 'gpu_compute_fee', 'managed_disk_fee', 'data_egress_fee', 'data_ingress_fee', 'storage_transaction_fee', 'public_ip_fee', 'load_balancer_fee', 'aks_cluster_fee', 'function_app_fee', 'sql_database_fee', 'snapshot_storage_fee', 'app_service_fee'])"
      ]
     },
     "execution_count": 49,
     "metadata": {},
     "output_type": "execute_result"
    }
   ],
   "source": []
  },
  {
   "cell_type": "code",
   "execution_count": 154,
   "id": "937ed307",
   "metadata": {},
   "outputs": [],
   "source": [
    "symbolic_expr = compose_expression(json.loads(result[0][\"result_graph\"]))\n",
    "\n",
    "# Define the symbol that you want to replace\n",
    "# variable_to_replace = Symbol('os_type')\n",
    "\n",
    "# # Define the value you want to substitute\n",
    "# value_to_substitute = 60\n",
    "\n",
    "# final_charge_cost = symbolic_expr.subs(variable_to_replace, value_to_substitute)\n",
    "# print(f\"The parking cost for {value_to_substitute} hours is: {final_charge_cost} EUR\") "
   ]
  },
  {
   "cell_type": "code",
   "execution_count": 156,
   "id": "a30540ee",
   "metadata": {},
   "outputs": [
    {
     "data": {
      "text/latex": [
       "$\\displaystyle usage_{hours} \\left(\\begin{cases} \\begin{cases} 4.0 & \\text{for}\\: usage_{hours} < 216.5 \\\\\\begin{cases} 3.0 & \\text{for}\\: usage_{hours} < 408.7 \\\\\\begin{cases} 2.0 & \\text{for}\\: usage_{hours} < 598.4 \\\\1.0 & \\text{otherwise} \\end{cases} & \\text{otherwise} \\end{cases} & \\text{otherwise} \\end{cases} & \\text{for}\\: Linux = os_{type} \\\\\\begin{cases} \\begin{cases} 4.8 & \\text{for}\\: usage_{hours} < 216.5 \\\\\\begin{cases} 3.9 & \\text{for}\\: usage_{hours} < 408.7 \\\\\\begin{cases} 2.2 & \\text{for}\\: usage_{hours} < 598.4 \\\\1.1 & \\text{otherwise} \\end{cases} & \\text{otherwise} \\end{cases} & \\text{otherwise} \\end{cases} & \\text{for}\\: Windows = os_{type} \\\\0.0 & \\text{otherwise} \\end{cases} & \\text{otherwise} \\end{cases}\\right)$"
      ],
      "text/plain": [
       "usage_hours*Piecewise((Piecewise((4.0, usage_hours < 216.5), (Piecewise((3.0, usage_hours < 408.7), (Piecewise((2.0, usage_hours < 598.4), (1.0, True)), True)), True)), Eq(Linux, os_type)), (Piecewise((Piecewise((4.8, usage_hours < 216.5), (Piecewise((3.9, usage_hours < 408.7), (Piecewise((2.2, usage_hours < 598.4), (1.1, True)), True)), True)), Eq(Windows, os_type)), (0.0, True)), True))"
      ]
     },
     "execution_count": 156,
     "metadata": {},
     "output_type": "execute_result"
    }
   ],
   "source": [
    "symbolic_expr"
   ]
  },
  {
   "cell_type": "code",
   "execution_count": 162,
   "id": "10b03162",
   "metadata": {},
   "outputs": [
    {
     "name": "stdout",
     "output_type": "stream",
     "text": [
      "858.0\n"
     ]
    }
   ],
   "source": [
    "from sympy import lambdify, Symbol\n",
    "os_type     = Symbol('os_type')\n",
    "usage_hours = Symbol('usage_hours')\n",
    "\n",
    "\n",
    "f = lambdify((os_type, usage_hours), symbolic_expr, 'sympy')\n",
    "\n",
    "print(f(Symbol('Windows'), 220.0))\n"
   ]
  },
  {
   "cell_type": "code",
   "execution_count": null,
   "id": "138339f7",
   "metadata": {},
   "outputs": [],
   "source": []
  },
  {
   "cell_type": "code",
   "execution_count": 163,
   "id": "b33b4a69",
   "metadata": {},
   "outputs": [
    {
     "data": {
      "text/plain": [
       "\"def compute_charge(os_type, usage_hours):\\n    if os_type == 'linux' and 598.4 <= usage_hours < 744.0: return 1 * usage_hours * 1.0\\n    elif os_type == 'linux' and 408.7 <= usage_hours < 598.4: return 2 * usage_hours * 1.0\\n    elif os_type == 'linux' and 216.5 <= usage_hours < 408.7: return 3 * usage_hours * 1.0\\n    elif os_type == 'linux' and 0.0 <= usage_hours < 216.5: return 4 * usage_hours * 1.0\\n    elif os_type == 'windows' and 598.4 <= usage_hours < 744.0: return 1 * usage_hours * 1.1\\n    elif os_type == 'windows' and 408.7 <= usage_hours < 598.4: return 2 * usage_hours * 1.1\\n    elif os_type == 'windows' and 216.5 <= usage_hours < 408.7: return 3 * usage_hours * 1.1\\n    elif os_type == 'windows' and 0.0 <= usage_hours < 216.5: return 4 * usage_hours * 1.1\\n    else: raise ValueError(f'os_type or usage_hours is out of expected range')\""
      ]
     },
     "execution_count": 163,
     "metadata": {},
     "output_type": "execute_result"
    }
   ],
   "source": [
    "code_str"
   ]
  },
  {
   "cell_type": "code",
   "execution_count": 144,
   "id": "4b83350d",
   "metadata": {},
   "outputs": [
    {
     "name": "stdout",
     "output_type": "stream",
     "text": [
      "900.0\n",
      "726.0000000000001\n"
     ]
    }
   ],
   "source": [
    "code_str = charges[list(charge_variables.keys())[0]]['code']\n",
    "\n",
    "ns = {}\n",
    "exec(code_str, ns)                 # defines compute_charge in ns\n",
    "compute_charge = ns['compute_charge']\n",
    "\n",
    "# use it\n",
    "print(compute_charge('linux', 300.0))      # example\n",
    "print(compute_charge('windows', 220.0)) "
   ]
  },
  {
   "cell_type": "code",
   "execution_count": null,
   "id": "b680889b",
   "metadata": {},
   "outputs": [],
   "source": []
  },
  {
   "cell_type": "code",
   "execution_count": null,
   "id": "34b59920",
   "metadata": {},
   "outputs": [
    {
     "data": {
      "text/plain": [
       "{'compute_vm_fee': ['os_type', 'usage_hours'],\n",
       " 'gpu_compute_fee': ['gpu_type'],\n",
       " 'managed_disk_fee': ['managed_disk_count'],\n",
       " 'data_egress_fee': ['region'],\n",
       " 'data_ingress_fee': ['region', 'data_ingress_gb'],\n",
       " 'storage_transaction_fee': ['redundancy', 'storage_transactions_millions'],\n",
       " 'public_ip_fee': ['region', 'public_ip_count'],\n",
       " 'load_balancer_fee': ['load_balancer_rules'],\n",
       " 'aks_cluster_fee': ['region'],\n",
       " 'function_app_fee': ['region', 'function_exec_ms'],\n",
       " 'sql_database_fee': ['region', 'backup_retention_days'],\n",
       " 'snapshot_storage_fee': ['redundancy'],\n",
       " 'app_service_fee': ['service_tier', 'app_service_instances']}"
      ]
     },
     "execution_count": 108,
     "metadata": {},
     "output_type": "execute_result"
    }
   ],
   "source": [
    "charge_variables"
   ]
  },
  {
   "cell_type": "code",
   "execution_count": null,
   "id": "f86b2626",
   "metadata": {},
   "outputs": [
    {
     "data": {
      "text/plain": [
       "['os_type', 'usage_hours']"
      ]
     },
     "execution_count": 106,
     "metadata": {},
     "output_type": "execute_result"
    }
   ],
   "source": [
    "charge_variables['compute_vm_fee']"
   ]
  },
  {
   "cell_type": "code",
   "execution_count": null,
   "id": "7ff95ea2",
   "metadata": {},
   "outputs": [],
   "source": []
  },
  {
   "cell_type": "markdown",
   "id": "e13c68fd",
   "metadata": {},
   "source": [
    "# Archive"
   ]
  },
  {
   "cell_type": "code",
   "execution_count": 20,
   "id": "cddd29e5-1a7c-4e1a-b9c6-7657589ca788",
   "metadata": {},
   "outputs": [
    {
     "name": "stdout",
     "output_type": "stream",
     "text": [
      "--- Building graph for charge category: 'east_aerodrome_parking_charge' ---\n"
     ]
    },
    {
     "name": "stderr",
     "output_type": "stream",
     "text": [
      "/gpfs01/home/ppxac9/MLiS-Placement-Thesis/pipeline/.venv/lib/python3.11/site-packages/guidance/models/_transformers.py:522: UserWarning: Cache is too small. Resetting cache (no method implemented to resize cache for type <class 'transformers.cache_utils.DynamicCache'>).\n",
      "  warnings.warn(\n"
     ]
    },
    {
     "ename": "KeyboardInterrupt",
     "evalue": "",
     "output_type": "error",
     "traceback": [
      "\u001b[31m---------------------------------------------------------------------------\u001b[39m",
      "\u001b[31mKeyboardInterrupt\u001b[39m                         Traceback (most recent call last)",
      "\u001b[36mCell\u001b[39m\u001b[36m \u001b[39m\u001b[32mIn[20]\u001b[39m\u001b[32m, line 4\u001b[39m\n\u001b[32m      1\u001b[39m query = \u001b[33m\"\u001b[39m\u001b[33mCalculate the total parking charge for a Narrow Satellite stand type at East Aerodrome Parking with no overnight parking. The parking duration is a variable with unit hours.\u001b[39m\u001b[33m\"\u001b[39m\n\u001b[32m      2\u001b[39m charge_category = \u001b[33m\"\u001b[39m\u001b[33meast_aerodrome_parking_charge\u001b[39m\u001b[33m\"\u001b[39m\n\u001b[32m----> \u001b[39m\u001b[32m4\u001b[39m result = \u001b[43mcreate_computation_graph\u001b[49m\u001b[43m(\u001b[49m\u001b[43mmodel\u001b[49m\u001b[43m,\u001b[49m\u001b[43m \u001b[49m\u001b[43mquery\u001b[49m\u001b[43m,\u001b[49m\u001b[43m \u001b[49m\u001b[43mcharge_category\u001b[49m\u001b[43m,\u001b[49m\u001b[43m \u001b[49m\u001b[43mmarkdown_content\u001b[49m\u001b[43m,\u001b[49m\u001b[43m \u001b[49m\u001b[43mCHARGE_CATEGORY_VARIABLES\u001b[49m\u001b[43m,\u001b[49m\u001b[43m \u001b[49m\u001b[43mALL_VARIABLES\u001b[49m\u001b[43m)\u001b[49m\n",
      "\u001b[36mCell\u001b[39m\u001b[36m \u001b[39m\u001b[32mIn[19]\u001b[39m\u001b[32m, line 9\u001b[39m, in \u001b[36mcreate_computation_graph\u001b[39m\u001b[34m(model, query, charge_category, markdown_content, charge_category_variables, all_variables)\u001b[39m\n\u001b[32m      6\u001b[39m graph_builder = ComputationGraphBuilder(model=model)\n\u001b[32m      8\u001b[39m start_time = time.perf_counter()\n\u001b[32m----> \u001b[39m\u001b[32m9\u001b[39m llm_structured_response = \u001b[43mgraph_builder\u001b[49m\u001b[43m.\u001b[49m\u001b[43mbuild\u001b[49m\u001b[43m(\u001b[49m\n\u001b[32m     10\u001b[39m \u001b[43m    \u001b[49m\u001b[43mdocument_content\u001b[49m\u001b[43m=\u001b[49m\u001b[43mmarkdown_content\u001b[49m\u001b[43m,\u001b[49m\n\u001b[32m     11\u001b[39m \u001b[43m    \u001b[49m\u001b[43mquery\u001b[49m\u001b[43m=\u001b[49m\u001b[43mquery\u001b[49m\u001b[43m,\u001b[49m\n\u001b[32m     12\u001b[39m \u001b[43m    \u001b[49m\u001b[43mcharge_category\u001b[49m\u001b[43m=\u001b[49m\u001b[43mcharge_category\u001b[49m\u001b[43m,\u001b[49m\n\u001b[32m     13\u001b[39m \u001b[43m    \u001b[49m\u001b[43mcharge_category_variables\u001b[49m\u001b[43m=\u001b[49m\u001b[43mcharge_category_variables\u001b[49m\u001b[43m,\u001b[49m\n\u001b[32m     14\u001b[39m \u001b[43m    \u001b[49m\u001b[43mall_variables\u001b[49m\u001b[43m=\u001b[49m\u001b[43mall_variables\u001b[49m\n\u001b[32m     15\u001b[39m \u001b[43m\u001b[49m\u001b[43m)\u001b[49m\n\u001b[32m     16\u001b[39m end_time = time.perf_counter()\n\u001b[32m     17\u001b[39m build_time = end_time - start_time\n",
      "\u001b[36mFile \u001b[39m\u001b[32m~/MLiS-Placement-Thesis/pipeline/experiments/utils.py:11\u001b[39m, in \u001b[36mtiming_decorator.<locals>.wrapper\u001b[39m\u001b[34m(*args, **kwargs)\u001b[39m\n\u001b[32m      8\u001b[39m \u001b[38;5;129m@functools\u001b[39m.wraps(func)\n\u001b[32m      9\u001b[39m \u001b[38;5;28;01mdef\u001b[39;00m\u001b[38;5;250m \u001b[39m\u001b[34mwrapper\u001b[39m(*args, **kwargs):\n\u001b[32m     10\u001b[39m     start_time = time.perf_counter()  \u001b[38;5;66;03m# Start the clock\u001b[39;00m\n\u001b[32m---> \u001b[39m\u001b[32m11\u001b[39m     result = \u001b[43mfunc\u001b[49m\u001b[43m(\u001b[49m\u001b[43m*\u001b[49m\u001b[43margs\u001b[49m\u001b[43m,\u001b[49m\u001b[43m \u001b[49m\u001b[43m*\u001b[49m\u001b[43m*\u001b[49m\u001b[43mkwargs\u001b[49m\u001b[43m)\u001b[49m    \u001b[38;5;66;03m# Call the original function\u001b[39;00m\n\u001b[32m     12\u001b[39m     end_time = time.perf_counter()    \u001b[38;5;66;03m# Stop the clock\u001b[39;00m\n\u001b[32m     14\u001b[39m     execution_time = end_time - start_time\n",
      "\u001b[36mCell\u001b[39m\u001b[36m \u001b[39m\u001b[32mIn[17]\u001b[39m\u001b[32m, line 44\u001b[39m, in \u001b[36mComputationGraphBuilder.build\u001b[39m\u001b[34m(self, document_content, query, charge_category, charge_category_variables, all_variables)\u001b[39m\n\u001b[32m     38\u001b[39m allowed_variables_prompt = \u001b[33m\"\u001b[39m\u001b[38;5;130;01m\\n\u001b[39;00m\u001b[33m\"\u001b[39m.join(\n\u001b[32m     39\u001b[39m     [\u001b[33mf\u001b[39m\u001b[33m\"\u001b[39m\u001b[33m- **\u001b[39m\u001b[38;5;132;01m{\u001b[39;00mv.name\u001b[38;5;132;01m}\u001b[39;00m\u001b[33m**: \u001b[39m\u001b[38;5;132;01m{\u001b[39;00mv.description\u001b[38;5;132;01m}\u001b[39;00m\u001b[33m\"\u001b[39m \u001b[38;5;28;01mfor\u001b[39;00m name, v \u001b[38;5;129;01min\u001b[39;00m all_variables.items() \u001b[38;5;28;01mif\u001b[39;00m name \u001b[38;5;129;01min\u001b[39;00m allowed_variables]\n\u001b[32m     40\u001b[39m )\n\u001b[32m     42\u001b[39m \u001b[38;5;28;01mtry\u001b[39;00m:\n\u001b[32m     43\u001b[39m     \u001b[38;5;66;03m# 4. Execute the guidance program with all dynamic components\u001b[39;00m\n\u001b[32m---> \u001b[39m\u001b[32m44\u001b[39m     result_lm = \u001b[38;5;28;43mself\u001b[39;49m\u001b[43m.\u001b[49m\u001b[43mmodel\u001b[49m\u001b[43m \u001b[49m\u001b[43m+\u001b[49m\u001b[43m \u001b[49m\u001b[43mcreate_graph_with_cot\u001b[49m\u001b[43m(\u001b[49m\n\u001b[32m     45\u001b[39m \u001b[43m        \u001b[49m\u001b[43mallowed_variables_prompt\u001b[49m\u001b[43m=\u001b[49m\u001b[43mallowed_variables_prompt\u001b[49m\u001b[43m,\u001b[49m\n\u001b[32m     46\u001b[39m \u001b[43m        \u001b[49m\u001b[43mdocument\u001b[49m\u001b[43m=\u001b[49m\u001b[43mdocument_content\u001b[49m\u001b[43m,\u001b[49m\n\u001b[32m     47\u001b[39m \u001b[43m        \u001b[49m\u001b[43mquery\u001b[49m\u001b[43m=\u001b[49m\u001b[43mquery\u001b[49m\u001b[43m,\u001b[49m\n\u001b[32m     48\u001b[39m \u001b[43m        \u001b[49m\u001b[43moutput_schema\u001b[49m\u001b[43m=\u001b[49m\u001b[43mNode\u001b[49m\n\u001b[32m     49\u001b[39m \u001b[43m    \u001b[49m\u001b[43m)\u001b[49m\n\u001b[32m     52\u001b[39m     \u001b[38;5;66;03m# print(\"\\nSuccessfully generated graph:\")\u001b[39;00m\n\u001b[32m     53\u001b[39m     \u001b[38;5;66;03m# # Use model_dump_json for Pydantic v2\u001b[39;00m\n\u001b[32m     54\u001b[39m     \u001b[38;5;66;03m# print(pydantic_graph.model_dump_json(indent=2)) \u001b[39;00m\n\u001b[32m     55\u001b[39m     \u001b[38;5;28;01mreturn\u001b[39;00m result_lm\n",
      "\u001b[36mFile \u001b[39m\u001b[32m~/MLiS-Placement-Thesis/pipeline/.venv/lib/python3.11/site-packages/guidance/models/_base/_model.py:108\u001b[39m, in \u001b[36mModel.__add__\u001b[39m\u001b[34m(self, other)\u001b[39m\n\u001b[32m    106\u001b[39m     other = _parse_tags(other)\n\u001b[32m    107\u001b[39m \u001b[38;5;28;01mif\u001b[39;00m \u001b[38;5;28misinstance\u001b[39m(other, Function):\n\u001b[32m--> \u001b[39m\u001b[32m108\u001b[39m     \u001b[38;5;28;01mreturn\u001b[39;00m \u001b[43mother\u001b[49m\u001b[43m(\u001b[49m\u001b[38;5;28;43mself\u001b[39;49m\u001b[43m)\u001b[49m\n\u001b[32m    109\u001b[39m \u001b[38;5;28;01mif\u001b[39;00m \u001b[38;5;28misinstance\u001b[39m(other, ASTNode):\n\u001b[32m    110\u001b[39m     \u001b[38;5;28mself\u001b[39m = \u001b[38;5;28mself\u001b[39m._apply_node(other)\n",
      "\u001b[36mFile \u001b[39m\u001b[32m~/MLiS-Placement-Thesis/pipeline/.venv/lib/python3.11/site-packages/guidance/_ast.py:108\u001b[39m, in \u001b[36mFunction.__call__\u001b[39m\u001b[34m(self, model)\u001b[39m\n\u001b[32m    107\u001b[39m \u001b[38;5;28;01mdef\u001b[39;00m\u001b[38;5;250m \u001b[39m\u001b[34m__call__\u001b[39m(\u001b[38;5;28mself\u001b[39m, model):\n\u001b[32m--> \u001b[39m\u001b[32m108\u001b[39m     model = \u001b[38;5;28;43mself\u001b[39;49m\u001b[43m.\u001b[49m\u001b[43mf\u001b[49m\u001b[43m(\u001b[49m\u001b[43mmodel\u001b[49m\u001b[43m,\u001b[49m\u001b[43m \u001b[49m\u001b[43m*\u001b[49m\u001b[38;5;28;43mself\u001b[39;49m\u001b[43m.\u001b[49m\u001b[43margs\u001b[49m\u001b[43m,\u001b[49m\u001b[43m \u001b[49m\u001b[43m*\u001b[49m\u001b[43m*\u001b[49m\u001b[38;5;28;43mself\u001b[39;49m\u001b[43m.\u001b[49m\u001b[43mkwargs\u001b[49m\u001b[43m)\u001b[49m\n\u001b[32m    109\u001b[39m     \u001b[38;5;28;01mif\u001b[39;00m model \u001b[38;5;129;01mis\u001b[39;00m \u001b[38;5;28;01mNone\u001b[39;00m:\n\u001b[32m    110\u001b[39m         \u001b[38;5;28;01mraise\u001b[39;00m \u001b[38;5;167;01mException\u001b[39;00m(\n\u001b[32m    111\u001b[39m             \u001b[33mf\u001b[39m\u001b[33m\"\u001b[39m\u001b[33mThe guidance function `\u001b[39m\u001b[38;5;132;01m{\u001b[39;00m\u001b[38;5;28mself\u001b[39m.f.\u001b[34m__name__\u001b[39m\u001b[38;5;132;01m}\u001b[39;00m\u001b[33m` did not return a model object! You need to return an updated model object at the end of your guidance function.\u001b[39m\u001b[33m\"\u001b[39m\n\u001b[32m    112\u001b[39m         )\n",
      "\u001b[36mCell\u001b[39m\u001b[36m \u001b[39m\u001b[32mIn[16]\u001b[39m\u001b[32m, line 50\u001b[39m, in \u001b[36mcreate_graph_with_cot\u001b[39m\u001b[34m(llm, allowed_variables_prompt, document, query, output_schema)\u001b[39m\n\u001b[32m     44\u001b[39m llm += gen_json(\n\u001b[32m     45\u001b[39m     name=\u001b[33m\"\u001b[39m\u001b[33mthought1\u001b[39m\u001b[33m\"\u001b[39m, \n\u001b[32m     46\u001b[39m     schema=ReasoningSchemaStep1, \n\u001b[32m     47\u001b[39m     max_tokens=\u001b[32m600\u001b[39m)\n\u001b[32m     49\u001b[39m llm += \u001b[33m\"\u001b[39m\u001b[33mStep2. Identify All Relevant Information:\u001b[39m\u001b[38;5;130;01m\\n\u001b[39;00m\u001b[33m\"\u001b[39m\n\u001b[32m---> \u001b[39m\u001b[32m50\u001b[39m \u001b[43mllm\u001b[49m\u001b[43m \u001b[49m\u001b[43m+\u001b[49m\u001b[43m=\u001b[49m\u001b[43m \u001b[49m\u001b[43mgen_json\u001b[49m\u001b[43m(\u001b[49m\n\u001b[32m     51\u001b[39m \u001b[43m    \u001b[49m\u001b[43mname\u001b[49m\u001b[43m=\u001b[49m\u001b[33;43m\"\u001b[39;49m\u001b[33;43mthought2\u001b[39;49m\u001b[33;43m\"\u001b[39;49m\u001b[43m,\u001b[49m\u001b[43m \u001b[49m\n\u001b[32m     52\u001b[39m \u001b[43m    \u001b[49m\u001b[43mschema\u001b[49m\u001b[43m=\u001b[49m\u001b[43mReasoningSchemaStep2\u001b[49m\u001b[43m,\u001b[49m\u001b[43m \u001b[49m\n\u001b[32m     53\u001b[39m \u001b[43m    \u001b[49m\u001b[43mmax_tokens\u001b[49m\u001b[43m=\u001b[49m\u001b[32;43m600\u001b[39;49m\u001b[43m)\u001b[49m\n\u001b[32m     55\u001b[39m llm += \u001b[33m\"\u001b[39m\u001b[33mStep3. Synthesize Plan:\u001b[39m\u001b[38;5;130;01m\\n\u001b[39;00m\u001b[33m\"\u001b[39m\n\u001b[32m     56\u001b[39m llm += gen_json(\n\u001b[32m     57\u001b[39m     name=\u001b[33m\"\u001b[39m\u001b[33mthought3\u001b[39m\u001b[33m\"\u001b[39m, \n\u001b[32m     58\u001b[39m     schema=ReasoningSchemaStep3, \n\u001b[32m     59\u001b[39m     max_tokens=\u001b[32m600\u001b[39m)\n",
      "\u001b[36mFile \u001b[39m\u001b[32m~/MLiS-Placement-Thesis/pipeline/.venv/lib/python3.11/site-packages/guidance/models/_base/_model.py:110\u001b[39m, in \u001b[36mModel.__add__\u001b[39m\u001b[34m(self, other)\u001b[39m\n\u001b[32m    108\u001b[39m     \u001b[38;5;28;01mreturn\u001b[39;00m other(\u001b[38;5;28mself\u001b[39m)\n\u001b[32m    109\u001b[39m \u001b[38;5;28;01mif\u001b[39;00m \u001b[38;5;28misinstance\u001b[39m(other, ASTNode):\n\u001b[32m--> \u001b[39m\u001b[32m110\u001b[39m     \u001b[38;5;28mself\u001b[39m = \u001b[38;5;28;43mself\u001b[39;49m\u001b[43m.\u001b[49m\u001b[43m_apply_node\u001b[49m\u001b[43m(\u001b[49m\u001b[43mother\u001b[49m\u001b[43m)\u001b[49m\n\u001b[32m    111\u001b[39m     \u001b[38;5;28mself\u001b[39m = \u001b[38;5;28mself\u001b[39m._update_open_block_captures()\n\u001b[32m    112\u001b[39m     \u001b[38;5;28;01mreturn\u001b[39;00m \u001b[38;5;28mself\u001b[39m\n",
      "\u001b[36mFile \u001b[39m\u001b[32m~/MLiS-Placement-Thesis/pipeline/.venv/lib/python3.11/site-packages/guidance/models/_base/_model.py:139\u001b[39m, in \u001b[36mModel._apply_node\u001b[39m\u001b[34m(self, node)\u001b[39m\n\u001b[32m    136\u001b[39m     \u001b[38;5;28mself\u001b[39m._update_trace_node(\u001b[38;5;28mself\u001b[39m._id, \u001b[38;5;28mself\u001b[39m._parent_id, StatelessGuidanceInput(value=node), \u001b[38;5;28mself\u001b[39m.echo)\n\u001b[32m    138\u001b[39m \u001b[38;5;66;03m# NOTE: passing a copy of the sampling parameters to avoid modifying the original\u001b[39;00m\n\u001b[32m--> \u001b[39m\u001b[32m139\u001b[39m \u001b[43m\u001b[49m\u001b[38;5;28;43;01mfor\u001b[39;49;00m\u001b[43m \u001b[49m\u001b[43mi\u001b[49m\u001b[43m,\u001b[49m\u001b[43m \u001b[49m\u001b[43moutput_attr\u001b[49m\u001b[43m \u001b[49m\u001b[38;5;129;43;01min\u001b[39;49;00m\u001b[43m \u001b[49m\u001b[38;5;28;43menumerate\u001b[39;49m\u001b[43m(\u001b[49m\u001b[38;5;28;43mself\u001b[39;49m\u001b[43m.\u001b[49m\u001b[43m_interpreter\u001b[49m\u001b[43m.\u001b[49m\u001b[43mrun\u001b[49m\u001b[43m(\u001b[49m\u001b[43mnode\u001b[49m\u001b[43m,\u001b[49m\u001b[43m \u001b[49m\u001b[43msampling_params\u001b[49m\u001b[43m=\u001b[49m\u001b[38;5;28;43mself\u001b[39;49m\u001b[43m.\u001b[49m\u001b[43msampling_params\u001b[49m\u001b[43m.\u001b[49m\u001b[43mcopy\u001b[49m\u001b[43m(\u001b[49m\u001b[43m)\u001b[49m\u001b[43m)\u001b[49m\u001b[43m)\u001b[49m\u001b[43m:\u001b[49m\n\u001b[32m    140\u001b[39m \u001b[43m    \u001b[49m\u001b[38;5;28;43;01mif\u001b[39;49;00m\u001b[43m \u001b[49m\u001b[43mi\u001b[49m\u001b[43m \u001b[49m\u001b[43m!=\u001b[49m\u001b[43m \u001b[49m\u001b[32;43m0\u001b[39;49m\u001b[43m:\u001b[49m\n\u001b[32m    141\u001b[39m \u001b[43m        \u001b[49m\u001b[38;5;66;43;03m# On the first iteration, we already have a fresh trace node\u001b[39;49;00m\n\u001b[32m    142\u001b[39m \u001b[43m        \u001b[49m\u001b[38;5;66;43;03m# TODO: should be allowed to associate multiple output_attrs with a single input node?\u001b[39;49;00m\n\u001b[32m    143\u001b[39m \u001b[43m        \u001b[49m\u001b[38;5;66;43;03m# TODO: put this responsibility on the client in the case that it breaks a single input\u001b[39;49;00m\n\u001b[32m    144\u001b[39m \u001b[43m        \u001b[49m\u001b[38;5;66;43;03m# node into multiple input nodes to be handled sequentially?\u001b[39;49;00m\n\u001b[32m    145\u001b[39m \u001b[43m        \u001b[49m\u001b[38;5;28;43mself\u001b[39;49m\u001b[43m.\u001b[49m\u001b[43m_parent_id\u001b[49m\u001b[43m \u001b[49m\u001b[43m=\u001b[49m\u001b[43m \u001b[49m\u001b[38;5;28;43mself\u001b[39;49m\u001b[43m.\u001b[49m\u001b[43m_id\u001b[49m\n",
      "\u001b[36mFile \u001b[39m\u001b[32m~/MLiS-Placement-Thesis/pipeline/.venv/lib/python3.11/site-packages/guidance/models/_base/_interpreter.py:36\u001b[39m, in \u001b[36mInterpreter.run\u001b[39m\u001b[34m(self, node, **kwargs)\u001b[39m\n\u001b[32m     35\u001b[39m \u001b[38;5;28;01mdef\u001b[39;00m\u001b[38;5;250m \u001b[39m\u001b[34mrun\u001b[39m(\u001b[38;5;28mself\u001b[39m, node: ASTNode, **kwargs) -> Iterator[OutputAttr]:\n\u001b[32m---> \u001b[39m\u001b[32m36\u001b[39m     \u001b[38;5;28;01myield from\u001b[39;00m node.simplify()._run(\u001b[38;5;28mself\u001b[39m, **kwargs)\n",
      "\u001b[36mFile \u001b[39m\u001b[32m~/MLiS-Placement-Thesis/pipeline/.venv/lib/python3.11/site-packages/guidance/models/_engine/_interpreter.py:75\u001b[39m, in \u001b[36mEngineInterpreter.grammar\u001b[39m\u001b[34m(self, node, **kwargs)\u001b[39m\n\u001b[32m     73\u001b[39m \u001b[38;5;28;01mwhile\u001b[39;00m \u001b[38;5;28;01mTrue\u001b[39;00m:\n\u001b[32m     74\u001b[39m     \u001b[38;5;28;01mtry\u001b[39;00m:\n\u001b[32m---> \u001b[39m\u001b[32m75\u001b[39m         chunk = \u001b[38;5;28mnext\u001b[39m(engine_gen)\n\u001b[32m     76\u001b[39m     \u001b[38;5;28;01mexcept\u001b[39;00m \u001b[38;5;167;01mStopIteration\u001b[39;00m \u001b[38;5;28;01mas\u001b[39;00m e:\n\u001b[32m     77\u001b[39m         \u001b[38;5;28;01mif\u001b[39;00m \u001b[38;5;129;01mnot\u001b[39;00m \u001b[38;5;28misinstance\u001b[39m(e.value, TokenUsage):\n",
      "\u001b[36mFile \u001b[39m\u001b[32m~/MLiS-Placement-Thesis/pipeline/.venv/lib/python3.11/site-packages/guidance/models/_engine/_engine.py:179\u001b[39m, in \u001b[36mEngine.__call__\u001b[39m\u001b[34m(self, state, grammar, ensure_bos_token, sampling_params)\u001b[39m\n\u001b[32m    177\u001b[39m \u001b[38;5;28;01melse\u001b[39;00m:\n\u001b[32m    178\u001b[39m     t1 = time.time()\n\u001b[32m--> \u001b[39m\u001b[32m179\u001b[39m     logits_output = \u001b[38;5;28;43mself\u001b[39;49m\u001b[43m.\u001b[49m\u001b[43mget_logits\u001b[49m\u001b[43m(\u001b[49m\n\u001b[32m    180\u001b[39m \u001b[43m        \u001b[49m\u001b[43mtoken_ids\u001b[49m\u001b[43m=\u001b[49m\u001b[43mtokens\u001b[49m\u001b[43m,\u001b[49m\u001b[43m \u001b[49m\u001b[43minclude_all_uncached_tokens\u001b[49m\u001b[43m=\u001b[49m\u001b[38;5;28;43mself\u001b[39;49m\u001b[43m.\u001b[49m\u001b[43m_enable_token_probabilities\u001b[49m\n\u001b[32m    181\u001b[39m \u001b[43m    \u001b[49m\u001b[43m)\u001b[49m\n\u001b[32m    182\u001b[39m     logits = logits_output[\u001b[33m\"\u001b[39m\u001b[33mlogits\u001b[39m\u001b[33m\"\u001b[39m]\n\u001b[32m    183\u001b[39m     usage.input_tokens += logits_output[\u001b[33m\"\u001b[39m\u001b[33mn_tokens\u001b[39m\u001b[33m\"\u001b[39m]\n",
      "\u001b[36mFile \u001b[39m\u001b[32m~/MLiS-Placement-Thesis/pipeline/.venv/lib/python3.11/site-packages/guidance/models/_transformers.py:562\u001b[39m, in \u001b[36mTransformersEngine.get_logits\u001b[39m\u001b[34m(self, token_ids, include_all_uncached_tokens)\u001b[39m\n\u001b[32m    559\u001b[39m \u001b[38;5;28;01mwith\u001b[39;00m torch.no_grad():\n\u001b[32m    560\u001b[39m     \u001b[38;5;66;03m# Not all models support batched tokens for some reason\u001b[39;00m\n\u001b[32m    561\u001b[39m     \u001b[38;5;28;01mtry\u001b[39;00m:\n\u001b[32m--> \u001b[39m\u001b[32m562\u001b[39m         model_out = \u001b[38;5;28;43mself\u001b[39;49m\u001b[43m.\u001b[49m\u001b[43mmodel_obj\u001b[49m\u001b[43m(\u001b[49m\n\u001b[32m    563\u001b[39m \u001b[43m            \u001b[49m\u001b[43minput_ids\u001b[49m\u001b[43m=\u001b[49m\u001b[43mtorch\u001b[49m\u001b[43m.\u001b[49m\u001b[43mtensor\u001b[49m\u001b[43m(\u001b[49m\u001b[43mnew_token_ids\u001b[49m\u001b[43m)\u001b[49m\u001b[43m.\u001b[49m\u001b[43munsqueeze\u001b[49m\u001b[43m(\u001b[49m\u001b[32;43m0\u001b[39;49m\u001b[43m)\u001b[49m\u001b[43m.\u001b[49m\u001b[43mto\u001b[49m\u001b[43m(\u001b[49m\u001b[38;5;28;43mself\u001b[39;49m\u001b[43m.\u001b[49m\u001b[43mdevice\u001b[49m\u001b[43m)\u001b[49m\u001b[43m,\u001b[49m\n\u001b[32m    564\u001b[39m \u001b[43m            \u001b[49m\u001b[43mpast_key_values\u001b[49m\u001b[43m=\u001b[49m\u001b[38;5;28;43mself\u001b[39;49m\u001b[43m.\u001b[49m\u001b[43m_past_key_values\u001b[49m\u001b[43m,\u001b[49m\n\u001b[32m    565\u001b[39m \u001b[43m            \u001b[49m\u001b[43muse_cache\u001b[49m\u001b[43m=\u001b[49m\u001b[38;5;28;43;01mTrue\u001b[39;49;00m\u001b[43m,\u001b[49m\n\u001b[32m    566\u001b[39m \u001b[43m            \u001b[49m\u001b[43mposition_ids\u001b[49m\u001b[43m=\u001b[49m\u001b[43mtorch\u001b[49m\u001b[43m.\u001b[49m\u001b[43marange\u001b[49m\u001b[43m(\u001b[49m\u001b[43mpast_length\u001b[49m\u001b[43m,\u001b[49m\u001b[43m \u001b[49m\u001b[43mpast_length\u001b[49m\u001b[43m \u001b[49m\u001b[43m+\u001b[49m\u001b[43m \u001b[49m\u001b[38;5;28;43mlen\u001b[39;49m\u001b[43m(\u001b[49m\u001b[43mnew_token_ids\u001b[49m\u001b[43m)\u001b[49m\u001b[43m)\u001b[49m\n\u001b[32m    567\u001b[39m \u001b[43m            \u001b[49m\u001b[43m.\u001b[49m\u001b[43munsqueeze\u001b[49m\u001b[43m(\u001b[49m\u001b[32;43m0\u001b[39;49m\u001b[43m)\u001b[49m\n\u001b[32m    568\u001b[39m \u001b[43m            \u001b[49m\u001b[43m.\u001b[49m\u001b[43mto\u001b[49m\u001b[43m(\u001b[49m\u001b[38;5;28;43mself\u001b[39;49m\u001b[43m.\u001b[49m\u001b[43mdevice\u001b[49m\u001b[43m)\u001b[49m\u001b[43m,\u001b[49m\n\u001b[32m    569\u001b[39m \u001b[43m            \u001b[49m\u001b[43mattention_mask\u001b[49m\u001b[43m=\u001b[49m\u001b[43mtorch\u001b[49m\u001b[43m.\u001b[49m\u001b[43mones\u001b[49m\u001b[43m(\u001b[49m\u001b[32;43m1\u001b[39;49m\u001b[43m,\u001b[49m\u001b[43m \u001b[49m\u001b[43mpast_length\u001b[49m\u001b[43m \u001b[49m\u001b[43m+\u001b[49m\u001b[43m \u001b[49m\u001b[38;5;28;43mlen\u001b[39;49m\u001b[43m(\u001b[49m\u001b[43mnew_token_ids\u001b[49m\u001b[43m)\u001b[49m\u001b[43m)\u001b[49m\u001b[43m.\u001b[49m\u001b[43mto\u001b[49m\u001b[43m(\u001b[49m\u001b[38;5;28;43mself\u001b[39;49m\u001b[43m.\u001b[49m\u001b[43mdevice\u001b[49m\u001b[43m)\u001b[49m\u001b[43m,\u001b[49m\n\u001b[32m    570\u001b[39m \u001b[43m            \u001b[49m\u001b[43mreturn_dict\u001b[49m\u001b[43m=\u001b[49m\u001b[38;5;28;43;01mTrue\u001b[39;49;00m\u001b[43m,\u001b[49m\n\u001b[32m    571\u001b[39m \u001b[43m            \u001b[49m\u001b[43moutput_attentions\u001b[49m\u001b[43m=\u001b[49m\u001b[38;5;28;43;01mFalse\u001b[39;49;00m\u001b[43m,\u001b[49m\n\u001b[32m    572\u001b[39m \u001b[43m            \u001b[49m\u001b[43moutput_hidden_states\u001b[49m\u001b[43m=\u001b[49m\u001b[38;5;28;43;01mFalse\u001b[39;49;00m\u001b[43m,\u001b[49m\n\u001b[32m    573\u001b[39m \u001b[43m        \u001b[49m\u001b[43m)\u001b[49m\n\u001b[32m    574\u001b[39m         \u001b[38;5;66;03m# Need to add special truncating logic here for weird models that have a different output size than tokenizer vocab\u001b[39;00m\n\u001b[32m    575\u001b[39m         logits_for_each_batch.append(model_out.logits[\u001b[32m0\u001b[39m, :, : \u001b[38;5;28mself\u001b[39m.tokenizer._vocab_size].float().cpu().numpy())\n",
      "\u001b[36mFile \u001b[39m\u001b[32m~/MLiS-Placement-Thesis/pipeline/.venv/lib/python3.11/site-packages/torch/nn/modules/module.py:1751\u001b[39m, in \u001b[36mModule._wrapped_call_impl\u001b[39m\u001b[34m(self, *args, **kwargs)\u001b[39m\n\u001b[32m   1749\u001b[39m     \u001b[38;5;28;01mreturn\u001b[39;00m \u001b[38;5;28mself\u001b[39m._compiled_call_impl(*args, **kwargs)  \u001b[38;5;66;03m# type: ignore[misc]\u001b[39;00m\n\u001b[32m   1750\u001b[39m \u001b[38;5;28;01melse\u001b[39;00m:\n\u001b[32m-> \u001b[39m\u001b[32m1751\u001b[39m     \u001b[38;5;28;01mreturn\u001b[39;00m \u001b[38;5;28;43mself\u001b[39;49m\u001b[43m.\u001b[49m\u001b[43m_call_impl\u001b[49m\u001b[43m(\u001b[49m\u001b[43m*\u001b[49m\u001b[43margs\u001b[49m\u001b[43m,\u001b[49m\u001b[43m \u001b[49m\u001b[43m*\u001b[49m\u001b[43m*\u001b[49m\u001b[43mkwargs\u001b[49m\u001b[43m)\u001b[49m\n",
      "\u001b[36mFile \u001b[39m\u001b[32m~/MLiS-Placement-Thesis/pipeline/.venv/lib/python3.11/site-packages/torch/nn/modules/module.py:1762\u001b[39m, in \u001b[36mModule._call_impl\u001b[39m\u001b[34m(self, *args, **kwargs)\u001b[39m\n\u001b[32m   1757\u001b[39m \u001b[38;5;66;03m# If we don't have any hooks, we want to skip the rest of the logic in\u001b[39;00m\n\u001b[32m   1758\u001b[39m \u001b[38;5;66;03m# this function, and just call forward.\u001b[39;00m\n\u001b[32m   1759\u001b[39m \u001b[38;5;28;01mif\u001b[39;00m \u001b[38;5;129;01mnot\u001b[39;00m (\u001b[38;5;28mself\u001b[39m._backward_hooks \u001b[38;5;129;01mor\u001b[39;00m \u001b[38;5;28mself\u001b[39m._backward_pre_hooks \u001b[38;5;129;01mor\u001b[39;00m \u001b[38;5;28mself\u001b[39m._forward_hooks \u001b[38;5;129;01mor\u001b[39;00m \u001b[38;5;28mself\u001b[39m._forward_pre_hooks\n\u001b[32m   1760\u001b[39m         \u001b[38;5;129;01mor\u001b[39;00m _global_backward_pre_hooks \u001b[38;5;129;01mor\u001b[39;00m _global_backward_hooks\n\u001b[32m   1761\u001b[39m         \u001b[38;5;129;01mor\u001b[39;00m _global_forward_hooks \u001b[38;5;129;01mor\u001b[39;00m _global_forward_pre_hooks):\n\u001b[32m-> \u001b[39m\u001b[32m1762\u001b[39m     \u001b[38;5;28;01mreturn\u001b[39;00m \u001b[43mforward_call\u001b[49m\u001b[43m(\u001b[49m\u001b[43m*\u001b[49m\u001b[43margs\u001b[49m\u001b[43m,\u001b[49m\u001b[43m \u001b[49m\u001b[43m*\u001b[49m\u001b[43m*\u001b[49m\u001b[43mkwargs\u001b[49m\u001b[43m)\u001b[49m\n\u001b[32m   1764\u001b[39m result = \u001b[38;5;28;01mNone\u001b[39;00m\n\u001b[32m   1765\u001b[39m called_always_called_hooks = \u001b[38;5;28mset\u001b[39m()\n",
      "\u001b[36mFile \u001b[39m\u001b[32m~/MLiS-Placement-Thesis/pipeline/.venv/lib/python3.11/site-packages/accelerate/hooks.py:175\u001b[39m, in \u001b[36madd_hook_to_module.<locals>.new_forward\u001b[39m\u001b[34m(module, *args, **kwargs)\u001b[39m\n\u001b[32m    173\u001b[39m         output = module._old_forward(*args, **kwargs)\n\u001b[32m    174\u001b[39m \u001b[38;5;28;01melse\u001b[39;00m:\n\u001b[32m--> \u001b[39m\u001b[32m175\u001b[39m     output = \u001b[43mmodule\u001b[49m\u001b[43m.\u001b[49m\u001b[43m_old_forward\u001b[49m\u001b[43m(\u001b[49m\u001b[43m*\u001b[49m\u001b[43margs\u001b[49m\u001b[43m,\u001b[49m\u001b[43m \u001b[49m\u001b[43m*\u001b[49m\u001b[43m*\u001b[49m\u001b[43mkwargs\u001b[49m\u001b[43m)\u001b[49m\n\u001b[32m    176\u001b[39m \u001b[38;5;28;01mreturn\u001b[39;00m module._hf_hook.post_forward(module, output)\n",
      "\u001b[36mFile \u001b[39m\u001b[32m~/MLiS-Placement-Thesis/pipeline/.venv/lib/python3.11/site-packages/transformers/utils/generic.py:961\u001b[39m, in \u001b[36mcan_return_tuple.<locals>.wrapper\u001b[39m\u001b[34m(self, *args, **kwargs)\u001b[39m\n\u001b[32m    959\u001b[39m \u001b[38;5;28;01mif\u001b[39;00m return_dict_passed \u001b[38;5;129;01mis\u001b[39;00m \u001b[38;5;129;01mnot\u001b[39;00m \u001b[38;5;28;01mNone\u001b[39;00m:\n\u001b[32m    960\u001b[39m     return_dict = return_dict_passed\n\u001b[32m--> \u001b[39m\u001b[32m961\u001b[39m output = \u001b[43mfunc\u001b[49m\u001b[43m(\u001b[49m\u001b[38;5;28;43mself\u001b[39;49m\u001b[43m,\u001b[49m\u001b[43m \u001b[49m\u001b[43m*\u001b[49m\u001b[43margs\u001b[49m\u001b[43m,\u001b[49m\u001b[43m \u001b[49m\u001b[43m*\u001b[49m\u001b[43m*\u001b[49m\u001b[43mkwargs\u001b[49m\u001b[43m)\u001b[49m\n\u001b[32m    962\u001b[39m \u001b[38;5;28;01mif\u001b[39;00m \u001b[38;5;129;01mnot\u001b[39;00m return_dict \u001b[38;5;129;01mand\u001b[39;00m \u001b[38;5;129;01mnot\u001b[39;00m \u001b[38;5;28misinstance\u001b[39m(output, \u001b[38;5;28mtuple\u001b[39m):\n\u001b[32m    963\u001b[39m     output = output.to_tuple()\n",
      "\u001b[36mFile \u001b[39m\u001b[32m~/MLiS-Placement-Thesis/pipeline/.venv/lib/python3.11/site-packages/transformers/models/qwen3_moe/modeling_qwen3_moe.py:651\u001b[39m, in \u001b[36mQwen3MoeForCausalLM.forward\u001b[39m\u001b[34m(self, input_ids, attention_mask, position_ids, past_key_values, inputs_embeds, labels, use_cache, output_router_logits, cache_position, logits_to_keep, **kwargs)\u001b[39m\n\u001b[32m    646\u001b[39m output_router_logits = (\n\u001b[32m    647\u001b[39m     output_router_logits \u001b[38;5;28;01mif\u001b[39;00m output_router_logits \u001b[38;5;129;01mis\u001b[39;00m \u001b[38;5;129;01mnot\u001b[39;00m \u001b[38;5;28;01mNone\u001b[39;00m \u001b[38;5;28;01melse\u001b[39;00m \u001b[38;5;28mself\u001b[39m.config.output_router_logits\n\u001b[32m    648\u001b[39m )\n\u001b[32m    650\u001b[39m \u001b[38;5;66;03m# decoder outputs consists of (dec_features, layer_state, dec_hidden, dec_attn)\u001b[39;00m\n\u001b[32m--> \u001b[39m\u001b[32m651\u001b[39m outputs: MoeModelOutputWithPast = \u001b[38;5;28;43mself\u001b[39;49m\u001b[43m.\u001b[49m\u001b[43mmodel\u001b[49m\u001b[43m(\u001b[49m\n\u001b[32m    652\u001b[39m \u001b[43m    \u001b[49m\u001b[43minput_ids\u001b[49m\u001b[43m=\u001b[49m\u001b[43minput_ids\u001b[49m\u001b[43m,\u001b[49m\n\u001b[32m    653\u001b[39m \u001b[43m    \u001b[49m\u001b[43mattention_mask\u001b[49m\u001b[43m=\u001b[49m\u001b[43mattention_mask\u001b[49m\u001b[43m,\u001b[49m\n\u001b[32m    654\u001b[39m \u001b[43m    \u001b[49m\u001b[43mposition_ids\u001b[49m\u001b[43m=\u001b[49m\u001b[43mposition_ids\u001b[49m\u001b[43m,\u001b[49m\n\u001b[32m    655\u001b[39m \u001b[43m    \u001b[49m\u001b[43mpast_key_values\u001b[49m\u001b[43m=\u001b[49m\u001b[43mpast_key_values\u001b[49m\u001b[43m,\u001b[49m\n\u001b[32m    656\u001b[39m \u001b[43m    \u001b[49m\u001b[43minputs_embeds\u001b[49m\u001b[43m=\u001b[49m\u001b[43minputs_embeds\u001b[49m\u001b[43m,\u001b[49m\n\u001b[32m    657\u001b[39m \u001b[43m    \u001b[49m\u001b[43muse_cache\u001b[49m\u001b[43m=\u001b[49m\u001b[43muse_cache\u001b[49m\u001b[43m,\u001b[49m\n\u001b[32m    658\u001b[39m \u001b[43m    \u001b[49m\u001b[43moutput_router_logits\u001b[49m\u001b[43m=\u001b[49m\u001b[43moutput_router_logits\u001b[49m\u001b[43m,\u001b[49m\n\u001b[32m    659\u001b[39m \u001b[43m    \u001b[49m\u001b[43mcache_position\u001b[49m\u001b[43m=\u001b[49m\u001b[43mcache_position\u001b[49m\u001b[43m,\u001b[49m\n\u001b[32m    660\u001b[39m \u001b[43m    \u001b[49m\u001b[43m*\u001b[49m\u001b[43m*\u001b[49m\u001b[43mkwargs\u001b[49m\u001b[43m,\u001b[49m\n\u001b[32m    661\u001b[39m \u001b[43m\u001b[49m\u001b[43m)\u001b[49m\n\u001b[32m    663\u001b[39m hidden_states = outputs.last_hidden_state\n\u001b[32m    664\u001b[39m \u001b[38;5;66;03m# Only compute necessary logits, and do not upcast them to float if we are not computing the loss\u001b[39;00m\n",
      "\u001b[36mFile \u001b[39m\u001b[32m~/MLiS-Placement-Thesis/pipeline/.venv/lib/python3.11/site-packages/torch/nn/modules/module.py:1751\u001b[39m, in \u001b[36mModule._wrapped_call_impl\u001b[39m\u001b[34m(self, *args, **kwargs)\u001b[39m\n\u001b[32m   1749\u001b[39m     \u001b[38;5;28;01mreturn\u001b[39;00m \u001b[38;5;28mself\u001b[39m._compiled_call_impl(*args, **kwargs)  \u001b[38;5;66;03m# type: ignore[misc]\u001b[39;00m\n\u001b[32m   1750\u001b[39m \u001b[38;5;28;01melse\u001b[39;00m:\n\u001b[32m-> \u001b[39m\u001b[32m1751\u001b[39m     \u001b[38;5;28;01mreturn\u001b[39;00m \u001b[38;5;28;43mself\u001b[39;49m\u001b[43m.\u001b[49m\u001b[43m_call_impl\u001b[49m\u001b[43m(\u001b[49m\u001b[43m*\u001b[49m\u001b[43margs\u001b[49m\u001b[43m,\u001b[49m\u001b[43m \u001b[49m\u001b[43m*\u001b[49m\u001b[43m*\u001b[49m\u001b[43mkwargs\u001b[49m\u001b[43m)\u001b[49m\n",
      "\u001b[36mFile \u001b[39m\u001b[32m~/MLiS-Placement-Thesis/pipeline/.venv/lib/python3.11/site-packages/torch/nn/modules/module.py:1762\u001b[39m, in \u001b[36mModule._call_impl\u001b[39m\u001b[34m(self, *args, **kwargs)\u001b[39m\n\u001b[32m   1757\u001b[39m \u001b[38;5;66;03m# If we don't have any hooks, we want to skip the rest of the logic in\u001b[39;00m\n\u001b[32m   1758\u001b[39m \u001b[38;5;66;03m# this function, and just call forward.\u001b[39;00m\n\u001b[32m   1759\u001b[39m \u001b[38;5;28;01mif\u001b[39;00m \u001b[38;5;129;01mnot\u001b[39;00m (\u001b[38;5;28mself\u001b[39m._backward_hooks \u001b[38;5;129;01mor\u001b[39;00m \u001b[38;5;28mself\u001b[39m._backward_pre_hooks \u001b[38;5;129;01mor\u001b[39;00m \u001b[38;5;28mself\u001b[39m._forward_hooks \u001b[38;5;129;01mor\u001b[39;00m \u001b[38;5;28mself\u001b[39m._forward_pre_hooks\n\u001b[32m   1760\u001b[39m         \u001b[38;5;129;01mor\u001b[39;00m _global_backward_pre_hooks \u001b[38;5;129;01mor\u001b[39;00m _global_backward_hooks\n\u001b[32m   1761\u001b[39m         \u001b[38;5;129;01mor\u001b[39;00m _global_forward_hooks \u001b[38;5;129;01mor\u001b[39;00m _global_forward_pre_hooks):\n\u001b[32m-> \u001b[39m\u001b[32m1762\u001b[39m     \u001b[38;5;28;01mreturn\u001b[39;00m \u001b[43mforward_call\u001b[49m\u001b[43m(\u001b[49m\u001b[43m*\u001b[49m\u001b[43margs\u001b[49m\u001b[43m,\u001b[49m\u001b[43m \u001b[49m\u001b[43m*\u001b[49m\u001b[43m*\u001b[49m\u001b[43mkwargs\u001b[49m\u001b[43m)\u001b[49m\n\u001b[32m   1764\u001b[39m result = \u001b[38;5;28;01mNone\u001b[39;00m\n\u001b[32m   1765\u001b[39m called_always_called_hooks = \u001b[38;5;28mset\u001b[39m()\n",
      "\u001b[36mFile \u001b[39m\u001b[32m~/MLiS-Placement-Thesis/pipeline/.venv/lib/python3.11/site-packages/transformers/utils/generic.py:1069\u001b[39m, in \u001b[36mcheck_model_inputs.<locals>.wrapper\u001b[39m\u001b[34m(self, *args, **kwargs)\u001b[39m\n\u001b[32m   1066\u001b[39m                 module.forward = make_capture_wrapper(module, original_forward, key, specs.index)\n\u001b[32m   1067\u001b[39m                 monkey_patched_layers.append((module, original_forward))\n\u001b[32m-> \u001b[39m\u001b[32m1069\u001b[39m outputs = \u001b[43mfunc\u001b[49m\u001b[43m(\u001b[49m\u001b[38;5;28;43mself\u001b[39;49m\u001b[43m,\u001b[49m\u001b[43m \u001b[49m\u001b[43m*\u001b[49m\u001b[43margs\u001b[49m\u001b[43m,\u001b[49m\u001b[43m \u001b[49m\u001b[43m*\u001b[49m\u001b[43m*\u001b[49m\u001b[43mkwargs\u001b[49m\u001b[43m)\u001b[49m\n\u001b[32m   1070\u001b[39m \u001b[38;5;66;03m# Restore original forward methods\u001b[39;00m\n\u001b[32m   1071\u001b[39m \u001b[38;5;28;01mfor\u001b[39;00m module, original_forward \u001b[38;5;129;01min\u001b[39;00m monkey_patched_layers:\n",
      "\u001b[36mFile \u001b[39m\u001b[32m~/MLiS-Placement-Thesis/pipeline/.venv/lib/python3.11/site-packages/transformers/models/qwen3_moe/modeling_qwen3_moe.py:482\u001b[39m, in \u001b[36mQwen3MoeModel.forward\u001b[39m\u001b[34m(self, input_ids, attention_mask, position_ids, past_key_values, inputs_embeds, use_cache, cache_position, **kwargs)\u001b[39m\n\u001b[32m    479\u001b[39m position_embeddings = \u001b[38;5;28mself\u001b[39m.rotary_emb(hidden_states, position_ids)\n\u001b[32m    481\u001b[39m \u001b[38;5;28;01mfor\u001b[39;00m decoder_layer \u001b[38;5;129;01min\u001b[39;00m \u001b[38;5;28mself\u001b[39m.layers[: \u001b[38;5;28mself\u001b[39m.config.num_hidden_layers]:\n\u001b[32m--> \u001b[39m\u001b[32m482\u001b[39m     hidden_states = \u001b[43mdecoder_layer\u001b[49m\u001b[43m(\u001b[49m\n\u001b[32m    483\u001b[39m \u001b[43m        \u001b[49m\u001b[43mhidden_states\u001b[49m\u001b[43m,\u001b[49m\n\u001b[32m    484\u001b[39m \u001b[43m        \u001b[49m\u001b[43mposition_embeddings\u001b[49m\u001b[43m=\u001b[49m\u001b[43mposition_embeddings\u001b[49m\u001b[43m,\u001b[49m\n\u001b[32m    485\u001b[39m \u001b[43m        \u001b[49m\u001b[43mattention_mask\u001b[49m\u001b[43m=\u001b[49m\u001b[43mcausal_mask\u001b[49m\u001b[43m,\u001b[49m\n\u001b[32m    486\u001b[39m \u001b[43m        \u001b[49m\u001b[43mposition_ids\u001b[49m\u001b[43m=\u001b[49m\u001b[43mposition_ids\u001b[49m\u001b[43m,\u001b[49m\n\u001b[32m    487\u001b[39m \u001b[43m        \u001b[49m\u001b[43mpast_key_value\u001b[49m\u001b[43m=\u001b[49m\u001b[43mpast_key_values\u001b[49m\u001b[43m,\u001b[49m\n\u001b[32m    488\u001b[39m \u001b[43m        \u001b[49m\u001b[43muse_cache\u001b[49m\u001b[43m=\u001b[49m\u001b[43muse_cache\u001b[49m\u001b[43m,\u001b[49m\n\u001b[32m    489\u001b[39m \u001b[43m        \u001b[49m\u001b[43mcache_position\u001b[49m\u001b[43m=\u001b[49m\u001b[43mcache_position\u001b[49m\u001b[43m,\u001b[49m\n\u001b[32m    490\u001b[39m \u001b[43m        \u001b[49m\u001b[43m*\u001b[49m\u001b[43m*\u001b[49m\u001b[43mkwargs\u001b[49m\u001b[43m,\u001b[49m\n\u001b[32m    491\u001b[39m \u001b[43m    \u001b[49m\u001b[43m)\u001b[49m\n\u001b[32m    493\u001b[39m hidden_states = \u001b[38;5;28mself\u001b[39m.norm(hidden_states)\n\u001b[32m    495\u001b[39m \u001b[38;5;28;01mreturn\u001b[39;00m MoeModelOutputWithPast(  \u001b[38;5;66;03m# only diff with Mistral is the output type, we need MoE\u001b[39;00m\n\u001b[32m    496\u001b[39m     last_hidden_state=hidden_states,\n\u001b[32m    497\u001b[39m     past_key_values=past_key_values,\n\u001b[32m    498\u001b[39m )\n",
      "\u001b[36mFile \u001b[39m\u001b[32m~/MLiS-Placement-Thesis/pipeline/.venv/lib/python3.11/site-packages/transformers/modeling_layers.py:94\u001b[39m, in \u001b[36mGradientCheckpointingLayer.__call__\u001b[39m\u001b[34m(self, *args, **kwargs)\u001b[39m\n\u001b[32m     91\u001b[39m         logger.warning(message)\n\u001b[32m     93\u001b[39m     \u001b[38;5;28;01mreturn\u001b[39;00m \u001b[38;5;28mself\u001b[39m._gradient_checkpointing_func(partial(\u001b[38;5;28msuper\u001b[39m().\u001b[34m__call__\u001b[39m, **kwargs), *args)\n\u001b[32m---> \u001b[39m\u001b[32m94\u001b[39m \u001b[38;5;28;01mreturn\u001b[39;00m \u001b[38;5;28;43msuper\u001b[39;49m\u001b[43m(\u001b[49m\u001b[43m)\u001b[49m\u001b[43m.\u001b[49m\u001b[34;43m__call__\u001b[39;49m\u001b[43m(\u001b[49m\u001b[43m*\u001b[49m\u001b[43margs\u001b[49m\u001b[43m,\u001b[49m\u001b[43m \u001b[49m\u001b[43m*\u001b[49m\u001b[43m*\u001b[49m\u001b[43mkwargs\u001b[49m\u001b[43m)\u001b[49m\n",
      "\u001b[36mFile \u001b[39m\u001b[32m~/MLiS-Placement-Thesis/pipeline/.venv/lib/python3.11/site-packages/torch/nn/modules/module.py:1751\u001b[39m, in \u001b[36mModule._wrapped_call_impl\u001b[39m\u001b[34m(self, *args, **kwargs)\u001b[39m\n\u001b[32m   1749\u001b[39m     \u001b[38;5;28;01mreturn\u001b[39;00m \u001b[38;5;28mself\u001b[39m._compiled_call_impl(*args, **kwargs)  \u001b[38;5;66;03m# type: ignore[misc]\u001b[39;00m\n\u001b[32m   1750\u001b[39m \u001b[38;5;28;01melse\u001b[39;00m:\n\u001b[32m-> \u001b[39m\u001b[32m1751\u001b[39m     \u001b[38;5;28;01mreturn\u001b[39;00m \u001b[38;5;28;43mself\u001b[39;49m\u001b[43m.\u001b[49m\u001b[43m_call_impl\u001b[49m\u001b[43m(\u001b[49m\u001b[43m*\u001b[49m\u001b[43margs\u001b[49m\u001b[43m,\u001b[49m\u001b[43m \u001b[49m\u001b[43m*\u001b[49m\u001b[43m*\u001b[49m\u001b[43mkwargs\u001b[49m\u001b[43m)\u001b[49m\n",
      "\u001b[36mFile \u001b[39m\u001b[32m~/MLiS-Placement-Thesis/pipeline/.venv/lib/python3.11/site-packages/torch/nn/modules/module.py:1762\u001b[39m, in \u001b[36mModule._call_impl\u001b[39m\u001b[34m(self, *args, **kwargs)\u001b[39m\n\u001b[32m   1757\u001b[39m \u001b[38;5;66;03m# If we don't have any hooks, we want to skip the rest of the logic in\u001b[39;00m\n\u001b[32m   1758\u001b[39m \u001b[38;5;66;03m# this function, and just call forward.\u001b[39;00m\n\u001b[32m   1759\u001b[39m \u001b[38;5;28;01mif\u001b[39;00m \u001b[38;5;129;01mnot\u001b[39;00m (\u001b[38;5;28mself\u001b[39m._backward_hooks \u001b[38;5;129;01mor\u001b[39;00m \u001b[38;5;28mself\u001b[39m._backward_pre_hooks \u001b[38;5;129;01mor\u001b[39;00m \u001b[38;5;28mself\u001b[39m._forward_hooks \u001b[38;5;129;01mor\u001b[39;00m \u001b[38;5;28mself\u001b[39m._forward_pre_hooks\n\u001b[32m   1760\u001b[39m         \u001b[38;5;129;01mor\u001b[39;00m _global_backward_pre_hooks \u001b[38;5;129;01mor\u001b[39;00m _global_backward_hooks\n\u001b[32m   1761\u001b[39m         \u001b[38;5;129;01mor\u001b[39;00m _global_forward_hooks \u001b[38;5;129;01mor\u001b[39;00m _global_forward_pre_hooks):\n\u001b[32m-> \u001b[39m\u001b[32m1762\u001b[39m     \u001b[38;5;28;01mreturn\u001b[39;00m \u001b[43mforward_call\u001b[49m\u001b[43m(\u001b[49m\u001b[43m*\u001b[49m\u001b[43margs\u001b[49m\u001b[43m,\u001b[49m\u001b[43m \u001b[49m\u001b[43m*\u001b[49m\u001b[43m*\u001b[49m\u001b[43mkwargs\u001b[49m\u001b[43m)\u001b[49m\n\u001b[32m   1764\u001b[39m result = \u001b[38;5;28;01mNone\u001b[39;00m\n\u001b[32m   1765\u001b[39m called_always_called_hooks = \u001b[38;5;28mset\u001b[39m()\n",
      "\u001b[36mFile \u001b[39m\u001b[32m~/MLiS-Placement-Thesis/pipeline/.venv/lib/python3.11/site-packages/accelerate/hooks.py:175\u001b[39m, in \u001b[36madd_hook_to_module.<locals>.new_forward\u001b[39m\u001b[34m(module, *args, **kwargs)\u001b[39m\n\u001b[32m    173\u001b[39m         output = module._old_forward(*args, **kwargs)\n\u001b[32m    174\u001b[39m \u001b[38;5;28;01melse\u001b[39;00m:\n\u001b[32m--> \u001b[39m\u001b[32m175\u001b[39m     output = \u001b[43mmodule\u001b[49m\u001b[43m.\u001b[49m\u001b[43m_old_forward\u001b[49m\u001b[43m(\u001b[49m\u001b[43m*\u001b[49m\u001b[43margs\u001b[49m\u001b[43m,\u001b[49m\u001b[43m \u001b[49m\u001b[43m*\u001b[49m\u001b[43m*\u001b[49m\u001b[43mkwargs\u001b[49m\u001b[43m)\u001b[49m\n\u001b[32m    176\u001b[39m \u001b[38;5;28;01mreturn\u001b[39;00m module._hf_hook.post_forward(module, output)\n",
      "\u001b[36mFile \u001b[39m\u001b[32m~/MLiS-Placement-Thesis/pipeline/.venv/lib/python3.11/site-packages/transformers/models/qwen3_moe/modeling_qwen3_moe.py:356\u001b[39m, in \u001b[36mQwen3MoeDecoderLayer.forward\u001b[39m\u001b[34m(self, hidden_states, position_embeddings, attention_mask, position_ids, past_key_value, cache_position, **kwargs)\u001b[39m\n\u001b[32m    354\u001b[39m residual = hidden_states\n\u001b[32m    355\u001b[39m hidden_states = \u001b[38;5;28mself\u001b[39m.post_attention_layernorm(hidden_states)\n\u001b[32m--> \u001b[39m\u001b[32m356\u001b[39m hidden_states = \u001b[38;5;28;43mself\u001b[39;49m\u001b[43m.\u001b[49m\u001b[43mmlp\u001b[49m\u001b[43m(\u001b[49m\u001b[43mhidden_states\u001b[49m\u001b[43m)\u001b[49m\n\u001b[32m    357\u001b[39m \u001b[38;5;66;03m# For the MoE layers, we need to unpack\u001b[39;00m\n\u001b[32m    358\u001b[39m \u001b[38;5;28;01mif\u001b[39;00m \u001b[38;5;28misinstance\u001b[39m(hidden_states, \u001b[38;5;28mtuple\u001b[39m):\n",
      "\u001b[36mFile \u001b[39m\u001b[32m~/MLiS-Placement-Thesis/pipeline/.venv/lib/python3.11/site-packages/torch/nn/modules/module.py:1751\u001b[39m, in \u001b[36mModule._wrapped_call_impl\u001b[39m\u001b[34m(self, *args, **kwargs)\u001b[39m\n\u001b[32m   1749\u001b[39m     \u001b[38;5;28;01mreturn\u001b[39;00m \u001b[38;5;28mself\u001b[39m._compiled_call_impl(*args, **kwargs)  \u001b[38;5;66;03m# type: ignore[misc]\u001b[39;00m\n\u001b[32m   1750\u001b[39m \u001b[38;5;28;01melse\u001b[39;00m:\n\u001b[32m-> \u001b[39m\u001b[32m1751\u001b[39m     \u001b[38;5;28;01mreturn\u001b[39;00m \u001b[38;5;28;43mself\u001b[39;49m\u001b[43m.\u001b[49m\u001b[43m_call_impl\u001b[49m\u001b[43m(\u001b[49m\u001b[43m*\u001b[49m\u001b[43margs\u001b[49m\u001b[43m,\u001b[49m\u001b[43m \u001b[49m\u001b[43m*\u001b[49m\u001b[43m*\u001b[49m\u001b[43mkwargs\u001b[49m\u001b[43m)\u001b[49m\n",
      "\u001b[36mFile \u001b[39m\u001b[32m~/MLiS-Placement-Thesis/pipeline/.venv/lib/python3.11/site-packages/torch/nn/modules/module.py:1762\u001b[39m, in \u001b[36mModule._call_impl\u001b[39m\u001b[34m(self, *args, **kwargs)\u001b[39m\n\u001b[32m   1757\u001b[39m \u001b[38;5;66;03m# If we don't have any hooks, we want to skip the rest of the logic in\u001b[39;00m\n\u001b[32m   1758\u001b[39m \u001b[38;5;66;03m# this function, and just call forward.\u001b[39;00m\n\u001b[32m   1759\u001b[39m \u001b[38;5;28;01mif\u001b[39;00m \u001b[38;5;129;01mnot\u001b[39;00m (\u001b[38;5;28mself\u001b[39m._backward_hooks \u001b[38;5;129;01mor\u001b[39;00m \u001b[38;5;28mself\u001b[39m._backward_pre_hooks \u001b[38;5;129;01mor\u001b[39;00m \u001b[38;5;28mself\u001b[39m._forward_hooks \u001b[38;5;129;01mor\u001b[39;00m \u001b[38;5;28mself\u001b[39m._forward_pre_hooks\n\u001b[32m   1760\u001b[39m         \u001b[38;5;129;01mor\u001b[39;00m _global_backward_pre_hooks \u001b[38;5;129;01mor\u001b[39;00m _global_backward_hooks\n\u001b[32m   1761\u001b[39m         \u001b[38;5;129;01mor\u001b[39;00m _global_forward_hooks \u001b[38;5;129;01mor\u001b[39;00m _global_forward_pre_hooks):\n\u001b[32m-> \u001b[39m\u001b[32m1762\u001b[39m     \u001b[38;5;28;01mreturn\u001b[39;00m \u001b[43mforward_call\u001b[49m\u001b[43m(\u001b[49m\u001b[43m*\u001b[49m\u001b[43margs\u001b[49m\u001b[43m,\u001b[49m\u001b[43m \u001b[49m\u001b[43m*\u001b[49m\u001b[43m*\u001b[49m\u001b[43mkwargs\u001b[49m\u001b[43m)\u001b[49m\n\u001b[32m   1764\u001b[39m result = \u001b[38;5;28;01mNone\u001b[39;00m\n\u001b[32m   1765\u001b[39m called_always_called_hooks = \u001b[38;5;28mset\u001b[39m()\n",
      "\u001b[36mFile \u001b[39m\u001b[32m~/MLiS-Placement-Thesis/pipeline/.venv/lib/python3.11/site-packages/accelerate/hooks.py:175\u001b[39m, in \u001b[36madd_hook_to_module.<locals>.new_forward\u001b[39m\u001b[34m(module, *args, **kwargs)\u001b[39m\n\u001b[32m    173\u001b[39m         output = module._old_forward(*args, **kwargs)\n\u001b[32m    174\u001b[39m \u001b[38;5;28;01melse\u001b[39;00m:\n\u001b[32m--> \u001b[39m\u001b[32m175\u001b[39m     output = \u001b[43mmodule\u001b[49m\u001b[43m.\u001b[49m\u001b[43m_old_forward\u001b[49m\u001b[43m(\u001b[49m\u001b[43m*\u001b[49m\u001b[43margs\u001b[49m\u001b[43m,\u001b[49m\u001b[43m \u001b[49m\u001b[43m*\u001b[49m\u001b[43m*\u001b[49m\u001b[43mkwargs\u001b[49m\u001b[43m)\u001b[49m\n\u001b[32m    176\u001b[39m \u001b[38;5;28;01mreturn\u001b[39;00m module._hf_hook.post_forward(module, output)\n",
      "\u001b[36mFile \u001b[39m\u001b[32m~/MLiS-Placement-Thesis/pipeline/.venv/lib/python3.11/site-packages/transformers/models/qwen3_moe/modeling_qwen3_moe.py:247\u001b[39m, in \u001b[36mQwen3MoeSparseMoeBlock.forward\u001b[39m\u001b[34m(self, hidden_states)\u001b[39m\n\u001b[32m    244\u001b[39m expert_mask = torch.nn.functional.one_hot(selected_experts, num_classes=\u001b[38;5;28mself\u001b[39m.num_experts).permute(\u001b[32m2\u001b[39m, \u001b[32m1\u001b[39m, \u001b[32m0\u001b[39m)\n\u001b[32m    246\u001b[39m \u001b[38;5;66;03m# Loop over all available experts in the model and perform the computation on each expert\u001b[39;00m\n\u001b[32m--> \u001b[39m\u001b[32m247\u001b[39m expert_hitted = \u001b[43mtorch\u001b[49m\u001b[43m.\u001b[49m\u001b[43mgreater\u001b[49m\u001b[43m(\u001b[49m\u001b[43mexpert_mask\u001b[49m\u001b[43m.\u001b[49m\u001b[43msum\u001b[49m\u001b[43m(\u001b[49m\u001b[43mdim\u001b[49m\u001b[43m=\u001b[49m\u001b[43m(\u001b[49m\u001b[43m-\u001b[49m\u001b[32;43m1\u001b[39;49m\u001b[43m,\u001b[49m\u001b[43m \u001b[49m\u001b[43m-\u001b[49m\u001b[32;43m2\u001b[39;49m\u001b[43m)\u001b[49m\u001b[43m)\u001b[49m\u001b[43m,\u001b[49m\u001b[43m \u001b[49m\u001b[32;43m0\u001b[39;49m\u001b[43m)\u001b[49m\u001b[43m.\u001b[49m\u001b[43mnonzero\u001b[49m\u001b[43m(\u001b[49m\u001b[43m)\u001b[49m\n\u001b[32m    248\u001b[39m \u001b[38;5;28;01mfor\u001b[39;00m expert_idx \u001b[38;5;129;01min\u001b[39;00m expert_hitted:\n\u001b[32m    249\u001b[39m     expert_layer = \u001b[38;5;28mself\u001b[39m.experts[expert_idx]\n",
      "\u001b[31mKeyboardInterrupt\u001b[39m: "
     ]
    }
   ],
   "source": [
    "query = \"Calculate the total parking charge for a Narrow Satellite stand type at East Aerodrome Parking with no overnight parking. The parking duration is a variable with unit hours.\"\n",
    "charge_category = \"east_aerodrome_parking_charge\"\n",
    "\n",
    "result = create_computation_graph(model, query, charge_category, markdown_content, CHARGE_CATEGORY_VARIABLES, ALL_VARIABLES)\n",
    "\n"
   ]
  },
  {
   "cell_type": "code",
   "execution_count": 71,
   "id": "cb364002-343c-4b2e-bd7a-d72c8dded581",
   "metadata": {},
   "outputs": [
    {
     "name": "stdout",
     "output_type": "stream",
     "text": [
      "{\n",
      "    \"query_parameters\": [\n",
      "        {\n",
      "            \"name\": \"aircraft_stand_type\",\n",
      "            \"status\": \"KNOWN\",\n",
      "            \"value\": \"Narrow Satellite\"\n",
      "        },\n",
      "        {\n",
      "            \"name\": \"parking_duration_hours\",\n",
      "            \"status\": \"SYMBOLIC\",\n",
      "            \"value\": null\n",
      "        },\n",
      "        {\n",
      "            \"name\": \"is_overnight_parking\",\n",
      "            \"status\": \"KNOWN\",\n",
      "            \"value\": false\n",
      "        }\n",
      "    ]\n",
      "}\n"
     ]
    }
   ],
   "source": [
    "print(json.dumps(json.loads(result[0][\"thought1\"]), indent=4))"
   ]
  },
  {
   "cell_type": "code",
   "execution_count": 72,
   "id": "e40a706e-298d-4d40-8c68-cb0868be9f3b",
   "metadata": {},
   "outputs": [
    {
     "name": "stdout",
     "output_type": "stream",
     "text": [
      "{\n",
      "    \"identified_constants_and_rules\": [\n",
      "        \"The standard charge per aircraft/stand type for Narrow Satellite at East Aerodrome Parking (EAP) is \\u20ac32.90 per 15 minutes or part thereof.\",\n",
      "        \"Parking surcharges apply for extended periods at EAP: 48 hours up to 72 hours (including night-time) attract a surcharge of Standard rate +100%, and 72 hours and over (including night-time) attract a surcharge of Standard rate +200%.\",\n",
      "        \"Overnight parking from 2300-0600hrs is free of charge. The query specifies no overnight parking (is_overnight_parking = false).\",\n",
      "        \"The parking duration is a variable with unit hours, meaning the calculation must account for all possible values of parking_duration_hours.\"\n",
      "    ]\n",
      "}\n"
     ]
    }
   ],
   "source": [
    "print(json.dumps(json.loads(result[0][\"thought2\"]), indent=4))"
   ]
  },
  {
   "cell_type": "code",
   "execution_count": 73,
   "id": "7bffc2fe-eff2-4522-af61-6356c65ae686",
   "metadata": {},
   "outputs": [
    {
     "name": "stdout",
     "output_type": "stream",
     "text": [
      "{\n",
      "    \"synthesis_plan\": \"The total parking charge calculation for a Narrow Satellite stand at EAP involves: 1. Determining the base rate (\\u20ac32.90 per 15 minutes or part thereof). 2. Calculating the number of 15-minute intervals in the parking duration. 3. Applying surcharges based on the duration: - If parking_duration_hours < 48: no surcharge. - If 48 \\u2264 parking_duration_hours < 72: add 100% surcharge. - If parking_duration_hours \\u2265 72: add 200% surcharge. 4. Since the duration is symbolic, the expression tree must include conditional logic for all possible duration ranges.\"\n",
      "}\n"
     ]
    }
   ],
   "source": [
    "print(json.dumps(json.loads(result[0][\"thought3\"]), indent=4))"
   ]
  },
  {
   "cell_type": "code",
   "execution_count": 74,
   "id": "f5c7c4ea-3d33-472f-8c5f-07fd2796b368",
   "metadata": {},
   "outputs": [
    {
     "name": "stdout",
     "output_type": "stream",
     "text": [
      "{\n",
      "    \"rethink\": \"The approach correctly identifies the base rate, the surcharge conditions based on duration, and the need for conditional logic due to the symbolic duration. The is_overnight_parking parameter is set to false, so no adjustment for free overnight parking is needed. The expression tree will accurately represent the calculation logic for any given parking duration.\"\n",
      "}\n"
     ]
    }
   ],
   "source": [
    "print(json.dumps(json.loads(result[0][\"thought4\"]), indent=4))"
   ]
  },
  {
   "cell_type": "code",
   "execution_count": 75,
   "id": "5c637787-89d3-4f87-bb7c-bb70ac809bb8",
   "metadata": {},
   "outputs": [
    {
     "name": "stdout",
     "output_type": "stream",
     "text": [
      "{\n",
      "    \"type\": \"BINARY_OPERATION\",\n",
      "    \"operator\": \"ADD\",\n",
      "    \"left\": {\n",
      "        \"type\": \"CONDITIONAL\",\n",
      "        \"condition\": {\n",
      "            \"type\": \"COMPARISON\",\n",
      "            \"operator\": \"LESS_THAN\",\n",
      "            \"left\": {\n",
      "                \"type\": \"VARIABLE\",\n",
      "                \"name\": \"parking_duration_hours\",\n",
      "                \"description\": \"Total duration of parking in hours. Surcharges apply at 48 and 72 hours.\",\n",
      "                \"unit\": \"HOURS\"\n",
      "            },\n",
      "            \"right\": {\n",
      "                \"type\": \"VALUE\",\n",
      "                \"value\": 48,\n",
      "                \"description\": \"Threshold for 48-hour surcharge.\",\n",
      "                \"unit\": \"HOURS\"\n",
      "            }\n",
      "        },\n",
      "        \"if_true\": {\n",
      "            \"type\": \"BINARY_OPERATION\",\n",
      "            \"operator\": \"MULTIPLY\",\n",
      "            \"left\": {\n",
      "                \"type\": \"VALUE\",\n",
      "                \"value\": 32.9,\n",
      "                \"description\": \"Standard charge per aircraft/stand type for Narrow Satellite at East Aerodrome Parking (EAP).\",\n",
      "                \"unit\": \"EUROS\"\n",
      "            },\n",
      "            \"right\": {\n",
      "                \"type\": \"BINARY_OPERATION\",\n",
      "                \"operator\": \"DIVIDE\",\n",
      "                \"left\": {\n",
      "                    \"type\": \"VARIABLE\",\n",
      "                    \"name\": \"parking_duration_hours\",\n",
      "                    \"description\": \"Total duration of parking in hours. Surcharges apply at 48 and 72 hours.\",\n",
      "                    \"unit\": \"HOURS\"\n",
      "                },\n",
      "                \"right\": {\n",
      "                    \"type\": \"VALUE\",\n",
      "                    \"value\": 0.25,\n",
      "                    \"description\": \"Conversion factor from hours to 15-minute intervals (1 hour = 4 intervals).\",\n",
      "                    \"unit\": \"HOURS\"\n",
      "                }\n",
      "            }\n",
      "        },\n",
      "        \"if_false\": {\n",
      "            \"type\": \"CONDITIONAL\",\n",
      "            \"condition\": {\n",
      "                \"type\": \"COMPARISON\",\n",
      "                \"operator\": \"LESS_THAN\",\n",
      "                \"left\": {\n",
      "                    \"type\": \"VARIABLE\",\n",
      "                    \"name\": \"parking_duration_hours\",\n",
      "                    \"description\": \"Total duration of parking in hours. Surcharges apply at 48 and 72 hours.\",\n",
      "                    \"unit\": \"HOURS\"\n",
      "                },\n",
      "                \"right\": {\n",
      "                    \"type\": \"VALUE\",\n",
      "                    \"value\": 72,\n",
      "                    \"description\": \"Threshold for 72-hour surcharge.\",\n",
      "                    \"unit\": \"HOURS\"\n",
      "                }\n",
      "            },\n",
      "            \"if_true\": {\n",
      "                \"type\": \"BINARY_OPERATION\",\n",
      "                \"operator\": \"MULTIPLY\",\n",
      "                \"left\": {\n",
      "                    \"type\": \"BINARY_OPERATION\",\n",
      "                    \"operator\": \"MULTIPLY\",\n",
      "                    \"left\": {\n",
      "                        \"type\": \"VALUE\",\n",
      "                        \"value\": 32.9,\n",
      "                        \"description\": \"Standard charge per aircraft/stand type for Narrow Satellite at East Aerodrome Parking (EAP).\",\n",
      "                        \"unit\": \"EUROS\"\n",
      "                    },\n",
      "                    \"right\": {\n",
      "                        \"type\": \"VALUE\",\n",
      "                        \"value\": 2,\n",
      "                        \"description\": \"Surcharge multiplier for 48-72 hour period (100% surcharge).\",\n",
      "                        \"unit\": \"UNITLESS\"\n",
      "                    }\n",
      "                },\n",
      "                \"right\": {\n",
      "                    \"type\": \"BINARY_OPERATION\",\n",
      "                    \"operator\": \"DIVIDE\",\n",
      "                    \"left\": {\n",
      "                        \"type\": \"VARIABLE\",\n",
      "                        \"name\": \"parking_duration_hours\",\n",
      "                        \"description\": \"Total duration of parking in hours. Surcharges apply at 48 and 72 hours.\",\n",
      "                        \"unit\": \"HOURS\"\n",
      "                    },\n",
      "                    \"right\": {\n",
      "                        \"type\": \"VALUE\",\n",
      "                        \"value\": 0.25,\n",
      "                        \"description\": \"Conversion factor from hours to 15-minute intervals (1 hour = 4 intervals).\",\n",
      "                        \"unit\": \"HOURS\"\n",
      "                    }\n",
      "                }\n",
      "            },\n",
      "            \"if_false\": {\n",
      "                \"type\": \"BINARY_OPERATION\",\n",
      "                \"operator\": \"MULTIPLY\",\n",
      "                \"left\": {\n",
      "                    \"type\": \"BINARY_OPERATION\",\n",
      "                    \"operator\": \"MULTIPLY\",\n",
      "                    \"left\": {\n",
      "                        \"type\": \"VALUE\",\n",
      "                        \"value\": 32.9,\n",
      "                        \"description\": \"Standard charge per aircraft/stand type for Narrow Satellite at East Aerodrome Parking (EAP).\",\n",
      "                        \"unit\": \"EUROS\"\n",
      "                    },\n",
      "                    \"right\": {\n",
      "                        \"type\": \"VALUE\",\n",
      "                        \"value\": 3,\n",
      "                        \"description\": \"Surcharge multiplier for 72+ hour period (200% surcharge).\",\n",
      "                        \"unit\": \"UNITLESS\"\n",
      "                    }\n",
      "                },\n",
      "                \"right\": {\n",
      "                    \"type\": \"BINARY_OPERATION\",\n",
      "                    \"operator\": \"DIVIDE\",\n",
      "                    \"left\": {\n",
      "                        \"type\": \"VARIABLE\",\n",
      "                        \"name\": \"parking_duration_hours\",\n",
      "                        \"description\": \"Total duration of parking in hours. Surcharges apply at 48 and 72 hours.\",\n",
      "                        \"unit\": \"HOURS\"\n",
      "                    },\n",
      "                    \"right\": {\n",
      "                        \"type\": \"VALUE\",\n",
      "                        \"value\": 0.25,\n",
      "                        \"description\": \"Conversion factor from hours to 15-minute intervals (1 hour = 4 intervals).\",\n",
      "                        \"unit\": \"HOURS\"\n",
      "                    }\n",
      "                }\n",
      "            }\n",
      "        }\n",
      "    },\n",
      "    \"right\": {\n",
      "        \"type\": \"VALUE\",\n",
      "        \"value\": 0,\n",
      "        \"description\": \"No additional charges for overnight parking (is_overnight_parking = false).\",\n",
      "        \"unit\": \"EUROS\"\n",
      "    }\n",
      "}\n"
     ]
    }
   ],
   "source": [
    "print(json.dumps(json.loads(result[0][\"result_graph\"]), indent=4))"
   ]
  },
  {
   "cell_type": "code",
   "execution_count": 76,
   "id": "34cbd0e8-a7e2-413c-ac7f-95997f8657e6",
   "metadata": {},
   "outputs": [
    {
     "data": {
      "text/plain": [
       "352.01867974799825"
      ]
     },
     "execution_count": 76,
     "metadata": {},
     "output_type": "execute_result"
    }
   ],
   "source": [
    "result[1]"
   ]
  },
  {
   "cell_type": "code",
   "execution_count": 79,
   "id": "8432868a-02e6-4fba-9221-4e8338791617",
   "metadata": {},
   "outputs": [
    {
     "name": "stdout",
     "output_type": "stream",
     "text": [
      "Sympy Expression: Piecewise((32.9*(parking_duration_hours/0.25), parking_duration_hours < 48), (Piecewise(((32.9*2)*(parking_duration_hours/0.25), parking_duration_hours < 72), ((32.9*3)*(parking_duration_hours/0.25), True)), True)) + 0\n"
     ]
    }
   ],
   "source": [
    "\n",
    "\n",
    "\n",
    "# Print the resulting expression\n",
    "loaded_json = json.loads(result[0]['result_graph'])\n",
    "symbolic_expr = compose_expression(loaded_json)\n",
    "print(f\"Sympy Expression: {symbolic_expr}\")"
   ]
  },
  {
   "cell_type": "markdown",
   "id": "b2e28adb-5d76-4be1-b45f-4084aa537299",
   "metadata": {},
   "source": [
    "\n",
    "## Changes: \n",
    "- Tried on a new problem\n",
    "\n",
    "## Observations: \n",
    "- The reasoning traces are decent, except that I may need to add a ceil function to account for cases when one may need to round up.\n",
    "- The graph produced is not perfect. It makes a potential mistake in computing surcharge, however, at this point, it is not clear whether this is a mistake as the document is quite confusing by itself. It does not clarify whether the surcharge is applicable for Long Term Remote, and whether that is on a per day basis.\n",
    "- The left hand side branch does not use the variable parking hours to compute the surcharge even in cases where the hours are > 24. One potential reason for this could be that I mentioned there is no overnight parking, which may have led it to assume that the hours would be less than 24.\n",
    "- The overnight parking charges also have ambiguity in their application. It is not clear, whether one has to discount the free period from the computed total fees or whether the surcharges are still applicable during that period, or it could be that aircrafts which strictly use the airport services starting and ending strictly during this period are exempt from any fees? \n",
    "\n",
    "## Discussion:\n",
    "- More testing is required to understand where the model may be making mistakes.\n",
    "- Larger models may perform better, as we currently only use the humble 32B A3B parameter MoE model.\n",
    "\n",
    "## Next Steps:\n",
    "- Continue testing"
   ]
  },
  {
   "cell_type": "code",
   "execution_count": 16,
   "id": "c624a0cb-21fb-4485-b164-78c9109c25df",
   "metadata": {},
   "outputs": [
    {
     "name": "stdout",
     "output_type": "stream",
     "text": [
      "--- Building graph for charge category: 'east_aerodrome_parking_charge' ---\n"
     ]
    },
    {
     "data": {
      "application/vnd.jupyter.widget-view+json": {
       "model_id": "8aacbd49772f4f3499128e06ae128e1e",
       "version_major": 2,
       "version_minor": 0
      },
      "text/plain": [
       "StitchWidget(initial_height='auto', initial_width='100%', srcdoc='<!doctype html>\\n<html lang=\"en\">\\n<head>\\n …"
      ]
     },
     "metadata": {},
     "output_type": "display_data"
    },
    {
     "name": "stdout",
     "output_type": "stream",
     "text": [
      "Execution time for 'build': 213.9923 seconds\n"
     ]
    },
    {
     "name": "stderr",
     "output_type": "stream",
     "text": [
      "IOPub message rate exceeded.\n",
      "The Jupyter server will temporarily stop sending output\n",
      "to the client in order to avoid crashing it.\n",
      "To change this limit, set the config variable\n",
      "`--ServerApp.iopub_msg_rate_limit`.\n",
      "\n",
      "Current values:\n",
      "ServerApp.iopub_msg_rate_limit=1000.0 (msgs/sec)\n",
      "ServerApp.rate_limit_window=3.0 (secs)\n",
      "\n"
     ]
    }
   ],
   "source": [
    "query = \"Calculate the total parking charge for a Long Term Remote stand type at East Aerodrome Parking with no overnight parking. The parking duration is a variable with unit hours.\"\n",
    "charge_category = \"east_aerodrome_parking_charge\"\n",
    "\n",
    "result = create_computation_graph(model, query, charge_category)\n"
   ]
  },
  {
   "cell_type": "code",
   "execution_count": 17,
   "id": "20224065-5ef2-4083-b4d7-317531c27cf5",
   "metadata": {},
   "outputs": [
    {
     "name": "stdout",
     "output_type": "stream",
     "text": [
      "{\n",
      "    \"query_parameters\": [\n",
      "        {\n",
      "            \"name\": \"aircraft_stand_type\",\n",
      "            \"status\": \"KNOWN\",\n",
      "            \"value\": \"Long Term Remote\"\n",
      "        },\n",
      "        {\n",
      "            \"name\": \"parking_duration_hours\",\n",
      "            \"status\": \"SYMBOLIC\",\n",
      "            \"value\": null\n",
      "        },\n",
      "        {\n",
      "            \"name\": \"is_overnight_parking\",\n",
      "            \"status\": \"KNOWN\",\n",
      "            \"value\": false\n",
      "        }\n",
      "    ]\n",
      "}\n"
     ]
    }
   ],
   "source": [
    "print(json.dumps(json.loads(result[0][\"thought1\"]), indent=4))"
   ]
  },
  {
   "cell_type": "code",
   "execution_count": 18,
   "id": "b20f1e76-162f-4dcd-92c8-70eecaf2fbb4",
   "metadata": {},
   "outputs": [
    {
     "name": "stdout",
     "output_type": "stream",
     "text": [
      "{\n",
      "    \"identified_constants_and_rules\": [\n",
      "        \"The standard charge per aircraft/stand type for Long Term Remote at East Aerodrome Parking (EAP) is \\u20ac234.50 per day or part thereof.\",\n",
      "        \"Aircraft parking for extended periods in EAP attract surcharges based on duration: 48-72 hours (including night-time) is standard rate +100%, 72 hours and over is standard rate +200%.\",\n",
      "        \"Overnight parking from 2300-0600hrs is free of charge.\",\n",
      "        \"The parking duration is a variable with unit hours.\",\n",
      "        \"The parking duration is not during overnight hours (is_overnight_parking = false).\",\n",
      "        \"The parking is at East Aerodrome Parking (EAP).\",\n",
      "        \"The stand type is Long Term Remote.\"\n",
      "    ]\n",
      "}\n"
     ]
    }
   ],
   "source": [
    "print(json.dumps(json.loads(result[0][\"thought2\"]), indent=4))"
   ]
  },
  {
   "cell_type": "code",
   "execution_count": 19,
   "id": "08b46aa2-339a-4ad4-9c72-3b560ac48d1f",
   "metadata": {},
   "outputs": [
    {
     "name": "stdout",
     "output_type": "stream",
     "text": [
      "{\n",
      "    \"synthesis_plan\": \"The total parking charge calculation will start with the standard rate for Long Term Remote at EAP (\\u20ac234.50/day). Since the duration is variable, we need to create conditional branches based on the duration in hours. The surcharge percentages depend on whether the duration is between 48-72 hours or over 72 hours. We'll convert the duration from hours to days (considering part thereof) and apply the appropriate surcharge. Since it's not overnight parking, we don't need to adjust for free night-time periods.\"\n",
      "}\n"
     ]
    }
   ],
   "source": [
    "print(json.dumps(json.loads(result[0][\"thought3\"]), indent=4))"
   ]
  },
  {
   "cell_type": "code",
   "execution_count": 20,
   "id": "eb5abbf4-8b90-43aa-a41c-1651cebb1948",
   "metadata": {},
   "outputs": [
    {
     "name": "stdout",
     "output_type": "stream",
     "text": [
      "{\n",
      "    \"rethink\": \"The approach correctly identifies the standard rate and the surcharge conditions based on duration. The conversion from hours to days needs to be handled as 'per day or part thereof' which means any fraction of a day counts as a full day. The surcharge conditions are correctly identified as dependent on the duration. The is_overnight_parking parameter is correctly set to false so no adjustments for free overnight periods are needed.\"\n",
      "}\n"
     ]
    }
   ],
   "source": [
    "print(json.dumps(json.loads(result[0][\"thought4\"]), indent=4))"
   ]
  },
  {
   "cell_type": "code",
   "execution_count": 21,
   "id": "1684586e-521c-4a60-ab4f-fb499b4324a2",
   "metadata": {},
   "outputs": [
    {
     "name": "stdout",
     "output_type": "stream",
     "text": [
      "{\n",
      "    \"type\": \"BINARY_OPERATION\",\n",
      "    \"operator\": \"ADD\",\n",
      "    \"left\": {\n",
      "        \"type\": \"CONDITIONAL\",\n",
      "        \"condition\": {\n",
      "            \"type\": \"COMPARISON\",\n",
      "            \"operator\": \"GREATER_THAN\",\n",
      "            \"left\": {\n",
      "                \"type\": \"VARIABLE\",\n",
      "                \"name\": \"parking_duration_hours\",\n",
      "                \"description\": \"Total duration of parking in hours. Surcharges apply at 48 and 72 hours.\",\n",
      "                \"unit\": \"HOURS\"\n",
      "            },\n",
      "            \"right\": {\n",
      "                \"type\": \"VALUE\",\n",
      "                \"value\": 72,\n",
      "                \"description\": \"Threshold for 200% surcharge\",\n",
      "                \"unit\": \"HOURS\"\n",
      "            }\n",
      "        },\n",
      "        \"if_true\": {\n",
      "            \"type\": \"BINARY_OPERATION\",\n",
      "            \"operator\": \"MULTIPLY\",\n",
      "            \"left\": {\n",
      "                \"type\": \"VALUE\",\n",
      "                \"value\": 234.5,\n",
      "                \"description\": \"Standard charge per day for Long Term Remote at East Aerodrome Parking\",\n",
      "                \"unit\": \"EUROS\"\n",
      "            },\n",
      "            \"right\": {\n",
      "                \"type\": \"VALUE\",\n",
      "                \"value\": 3,\n",
      "                \"description\": \"200% surcharge multiplier\",\n",
      "                \"unit\": \"PERCENT\"\n",
      "            }\n",
      "        },\n",
      "        \"if_false\": {\n",
      "            \"type\": \"CONDITIONAL\",\n",
      "            \"condition\": {\n",
      "                \"type\": \"COMPARISON\",\n",
      "                \"operator\": \"GREATER_THAN\",\n",
      "                \"left\": {\n",
      "                    \"type\": \"VARIABLE\",\n",
      "                    \"name\": \"parking_duration_hours\",\n",
      "                    \"description\": \"Total duration of parking in hours. Surcharges apply at 48 and 72 hours.\",\n",
      "                    \"unit\": \"HOURS\"\n",
      "                },\n",
      "                \"right\": {\n",
      "                    \"type\": \"VALUE\",\n",
      "                    \"value\": 48,\n",
      "                    \"description\": \"Threshold for 100% surcharge\",\n",
      "                    \"unit\": \"HOURS\"\n",
      "                }\n",
      "            },\n",
      "            \"if_true\": {\n",
      "                \"type\": \"BINARY_OPERATION\",\n",
      "                \"operator\": \"MULTIPLY\",\n",
      "                \"left\": {\n",
      "                    \"type\": \"VALUE\",\n",
      "                    \"value\": 234.5,\n",
      "                    \"description\": \"Standard charge per day for Long Term Remote at East Aerodrome Parking\",\n",
      "                    \"unit\": \"EUROS\"\n",
      "                },\n",
      "                \"right\": {\n",
      "                    \"type\": \"VALUE\",\n",
      "                    \"value\": 2,\n",
      "                    \"description\": \"100% surcharge multiplier\",\n",
      "                    \"unit\": \"PERCENT\"\n",
      "                }\n",
      "            },\n",
      "            \"if_false\": {\n",
      "                \"type\": \"VALUE\",\n",
      "                \"value\": 234.5,\n",
      "                \"description\": \"Standard charge per day for Long Term Remote at East Aerodrome Parking\",\n",
      "                \"unit\": \"EUROS\"\n",
      "            }\n",
      "        }\n",
      "    },\n",
      "    \"right\": {\n",
      "        \"type\": \"BINARY_OPERATION\",\n",
      "        \"operator\": \"MULTIPLY\",\n",
      "        \"left\": {\n",
      "            \"type\": \"VARIABLE\",\n",
      "            \"name\": \"parking_duration_hours\",\n",
      "            \"description\": \"Total duration of parking in hours. Surcharges apply at 48 and 72 hours.\",\n",
      "            \"unit\": \"HOURS\"\n",
      "        },\n",
      "        \"right\": {\n",
      "            \"type\": \"BINARY_OPERATION\",\n",
      "            \"operator\": \"DIVIDE\",\n",
      "            \"left\": {\n",
      "                \"type\": \"VALUE\",\n",
      "                \"value\": 234.5,\n",
      "                \"description\": \"Standard charge per day for Long Term Remote at East Aerodrome Parking\",\n",
      "                \"unit\": \"EUROS\"\n",
      "            },\n",
      "            \"right\": {\n",
      "                \"type\": \"VALUE\",\n",
      "                \"value\": 24,\n",
      "                \"description\": \"Hours per day\",\n",
      "                \"unit\": \"HOURS\"\n",
      "            }\n",
      "        }\n",
      "    }\n",
      "}\n"
     ]
    }
   ],
   "source": [
    "print(json.dumps(json.loads(result[0][\"result_graph\"]), indent=4))"
   ]
  },
  {
   "cell_type": "markdown",
   "id": "2fc6205d-b897-4a65-af60-1f22d9e46f32",
   "metadata": {},
   "source": [
    "\n",
    "## Changes: \n",
    "- Tried on a new problem\n",
    "\n",
    "## Observations: \n",
    "\n",
    "## Discussion:\n",
    "\n",
    "## Next Steps:\n"
   ]
  },
  {
   "cell_type": "code",
   "execution_count": 22,
   "id": "f0e2289f-dedf-46d5-8796-9047b424d2ef",
   "metadata": {},
   "outputs": [
    {
     "name": "stdout",
     "output_type": "stream",
     "text": [
      "--- Building graph for charge category: 'east_aerodrome_parking_charge' ---\n"
     ]
    },
    {
     "data": {
      "application/vnd.jupyter.widget-view+json": {
       "model_id": "75a233b705ad4e5998934e810a1af4ef",
       "version_major": 2,
       "version_minor": 0
      },
      "text/plain": [
       "StitchWidget(initial_height='auto', initial_width='100%', srcdoc='<!doctype html>\\n<html lang=\"en\">\\n<head>\\n …"
      ]
     },
     "metadata": {},
     "output_type": "display_data"
    },
    {
     "name": "stdout",
     "output_type": "stream",
     "text": [
      "Execution time for 'build': 298.1813 seconds\n"
     ]
    }
   ],
   "source": [
    "query = \"Calculate the total parking charge for a Wide Satellite stand type at East Aerodrome Parking with no overnight parking. The parking duration is a variable with unit hours.\"\n",
    "charge_category = \"east_aerodrome_parking_charge\"\n",
    "\n",
    "result = create_computation_graph(model, query, charge_category)\n"
   ]
  },
  {
   "cell_type": "code",
   "execution_count": 23,
   "id": "7ca0d418-ba93-402d-8f86-1e220a4bbf71",
   "metadata": {},
   "outputs": [
    {
     "name": "stdout",
     "output_type": "stream",
     "text": [
      "{\n",
      "    \"query_parameters\": [\n",
      "        {\n",
      "            \"name\": \"aircraft_stand_type\",\n",
      "            \"status\": \"KNOWN\",\n",
      "            \"value\": \"Wide Satellite\"\n",
      "        },\n",
      "        {\n",
      "            \"name\": \"parking_duration_hours\",\n",
      "            \"status\": \"SYMBOLIC\",\n",
      "            \"value\": null\n",
      "        },\n",
      "        {\n",
      "            \"name\": \"is_overnight_parking\",\n",
      "            \"status\": \"KNOWN\",\n",
      "            \"value\": false\n",
      "        }\n",
      "    ]\n",
      "}\n"
     ]
    }
   ],
   "source": [
    "print(json.dumps(json.loads(result[0][\"thought1\"]), indent=4))"
   ]
  },
  {
   "cell_type": "code",
   "execution_count": 24,
   "id": "f584f45c-a89b-482e-acc8-daf2d221fd1c",
   "metadata": {},
   "outputs": [
    {
     "name": "stdout",
     "output_type": "stream",
     "text": [
      "{\n",
      "    \"identified_constants_and_rules\": [\n",
      "        \"The standard charge per aircraft/stand type for Wide Satellite at East Aerodrome Parking (EAP) is \\u20ac42.00 per 15 minutes or part thereof.\",\n",
      "        \"Parking surcharges apply for extended periods at EAP: 48 hours up to 72 hours (including night-time) attract a surcharge of Standard rate +100%, and 72 hours and over (including night-time) attract Standard rate +200%.\",\n",
      "        \"Overnight parking from 2300-0600hrs is free of charge, but the query specifies no overnight parking (is_overnight_parking = false).\",\n",
      "        \"The parking duration is a variable with unit hours, meaning the calculation must account for all possible values of parking_duration_hours.\",\n",
      "        \"The parking charge is calculated based on the number of 15-minute intervals in the parking duration, with each interval charged at the standard rate or surcharged rate depending on duration.\",\n",
      "        \"The minimum charge for light aircraft is \\u20ac3.20, but this does not apply to Wide Satellite stands.\",\n",
      "        \"The parking duration is measured from the actual time of arrival (landed time) to the actual time of departure (airborne time) minus 30 minutes, but this detail is not needed as the duration is given as a variable.\"\n",
      "    ]\n",
      "}\n"
     ]
    }
   ],
   "source": [
    "print(json.dumps(json.loads(result[0][\"thought2\"]), indent=4))"
   ]
  },
  {
   "cell_type": "code",
   "execution_count": 25,
   "id": "be714675-1d24-47eb-86d8-72492706aa33",
   "metadata": {},
   "outputs": [
    {
     "name": "stdout",
     "output_type": "stream",
     "text": [
      "{\n",
      "    \"synthesis_plan\": \"The total parking charge for a Wide Satellite stand at EAP depends on the parking duration. The base rate is \\u20ac42.00 per 15 minutes or part thereof. For durations between 48 and 72 hours, the rate is doubled (100% surcharge), and for durations over 72 hours, the rate is tripled (200% surcharge). Since the parking duration is symbolic, the calculation must include conditional logic to handle all possible values of parking_duration_hours. The formula will calculate the number of 15-minute intervals, apply the appropriate rate based on duration, and sum the charges.\"\n",
      "}\n"
     ]
    }
   ],
   "source": [
    "print(json.dumps(json.loads(result[0][\"thought3\"]), indent=4))"
   ]
  },
  {
   "cell_type": "code",
   "execution_count": 26,
   "id": "ecfe3920-c23f-4a52-a5d3-5b9ecb144e95",
   "metadata": {},
   "outputs": [
    {
     "name": "stdout",
     "output_type": "stream",
     "text": [
      "{\n",
      "    \"rethink\": \"The approach correctly identifies the base rate, surcharge conditions, and the need for conditional logic due to the symbolic parking duration. The calculation must account for the number of 15-minute intervals, apply surcharges based on duration, and handle all possible values of parking_duration_hours. The final expression tree will include conditional nodes for the surcharge tiers and a calculation for the total charge.\"\n",
      "}\n"
     ]
    }
   ],
   "source": [
    "print(json.dumps(json.loads(result[0][\"thought4\"]), indent=4))"
   ]
  },
  {
   "cell_type": "code",
   "execution_count": 27,
   "id": "b1754fc2-5829-45c0-8758-b40084119f41",
   "metadata": {},
   "outputs": [
    {
     "name": "stdout",
     "output_type": "stream",
     "text": [
      "{\n",
      "    \"type\": \"BINARY_OPERATION\",\n",
      "    \"operator\": \"ADD\",\n",
      "    \"left\": {\n",
      "        \"type\": \"CONDITIONAL\",\n",
      "        \"condition\": {\n",
      "            \"type\": \"COMPARISON\",\n",
      "            \"operator\": \"LESS_THAN\",\n",
      "            \"left\": {\n",
      "                \"type\": \"VARIABLE\",\n",
      "                \"name\": \"parking_duration_hours\",\n",
      "                \"description\": \"Total duration of parking in hours. Surcharges apply at 48 and 72 hours.\",\n",
      "                \"unit\": \"HOURS\"\n",
      "            },\n",
      "            \"right\": {\n",
      "                \"type\": \"VALUE\",\n",
      "                \"value\": 48,\n",
      "                \"description\": \"Threshold for 100% surcharge on parking duration.\",\n",
      "                \"unit\": \"HOURS\"\n",
      "            }\n",
      "        },\n",
      "        \"if_true\": {\n",
      "            \"type\": \"BINARY_OPERATION\",\n",
      "            \"operator\": \"MULTIPLY\",\n",
      "            \"left\": {\n",
      "                \"type\": \"BINARY_OPERATION\",\n",
      "                \"operator\": \"DIVIDE\",\n",
      "                \"left\": {\n",
      "                    \"type\": \"VARIABLE\",\n",
      "                    \"name\": \"parking_duration_hours\",\n",
      "                    \"description\": \"Total duration of parking in hours. Surcharges apply at 48 and 72 hours.\",\n",
      "                    \"unit\": \"HOURS\"\n",
      "                },\n",
      "                \"right\": {\n",
      "                    \"type\": \"VALUE\",\n",
      "                    \"value\": 0.25,\n",
      "                    \"description\": \"Conversion factor from hours to 15-minute intervals (1 hour = 4 intervals).\",\n",
      "                    \"unit\": \"HOURS\"\n",
      "                }\n",
      "            },\n",
      "            \"right\": {\n",
      "                \"type\": \"VALUE\",\n",
      "                \"value\": 42.0,\n",
      "                \"description\": \"Standard charge per 15 minutes or part thereof for Wide Satellite stand at East Aerodrome Parking.\",\n",
      "                \"unit\": \"EUROS\"\n",
      "            }\n",
      "        },\n",
      "        \"if_false\": {\n",
      "            \"type\": \"CONDITIONAL\",\n",
      "            \"condition\": {\n",
      "                \"type\": \"COMPARISON\",\n",
      "                \"operator\": \"LESS_THAN\",\n",
      "                \"left\": {\n",
      "                    \"type\": \"VARIABLE\",\n",
      "                    \"name\": \"parking_duration_hours\",\n",
      "                    \"description\": \"Total duration of parking in hours. Surcharges apply at 48 and 72 hours.\",\n",
      "                    \"unit\": \"HOURS\"\n",
      "                },\n",
      "                \"right\": {\n",
      "                    \"type\": \"VALUE\",\n",
      "                    \"value\": 72,\n",
      "                    \"description\": \"Threshold for 200% surcharge on parking duration.\",\n",
      "                    \"unit\": \"HOURS\"\n",
      "                }\n",
      "            },\n",
      "            \"if_true\": {\n",
      "                \"type\": \"BINARY_OPERATION\",\n",
      "                \"operator\": \"MULTIPLY\",\n",
      "                \"left\": {\n",
      "                    \"type\": \"BINARY_OPERATION\",\n",
      "                    \"operator\": \"DIVIDE\",\n",
      "                    \"left\": {\n",
      "                        \"type\": \"VARIABLE\",\n",
      "                        \"name\": \"parking_duration_hours\",\n",
      "                        \"description\": \"Total duration of parking in hours. Surcharges apply at 48 and 72 hours.\",\n",
      "                        \"unit\": \"HOURS\"\n",
      "                    },\n",
      "                    \"right\": {\n",
      "                        \"type\": \"VALUE\",\n",
      "                        \"value\": 0.25,\n",
      "                        \"description\": \"Conversion factor from hours to 15-minute intervals (1 hour = 4 intervals).\",\n",
      "                        \"unit\": \"HOURS\"\n",
      "                    }\n",
      "                },\n",
      "                \"right\": {\n",
      "                    \"type\": \"BINARY_OPERATION\",\n",
      "                    \"operator\": \"MULTIPLY\",\n",
      "                    \"left\": {\n",
      "                        \"type\": \"VALUE\",\n",
      "                        \"value\": 42.0,\n",
      "                        \"description\": \"Standard charge per 15 minutes or part thereof for Wide Satellite stand at East Aerodrome Parking.\",\n",
      "                        \"unit\": \"EUROS\"\n",
      "                    },\n",
      "                    \"right\": {\n",
      "                        \"type\": \"VALUE\",\n",
      "                        \"value\": 2,\n",
      "                        \"description\": \"100% surcharge multiplier for parking durations between 48 and 72 hours.\",\n",
      "                        \"unit\": \"UNITLESS\"\n",
      "                    }\n",
      "                }\n",
      "            },\n",
      "            \"if_false\": {\n",
      "                \"type\": \"BINARY_OPERATION\",\n",
      "                \"operator\": \"MULTIPLY\",\n",
      "                \"left\": {\n",
      "                    \"type\": \"BINARY_OPERATION\",\n",
      "                    \"operator\": \"DIVIDE\",\n",
      "                    \"left\": {\n",
      "                        \"type\": \"VARIABLE\",\n",
      "                        \"name\": \"parking_duration_hours\",\n",
      "                        \"description\": \"Total duration of parking in hours. Surcharges apply at 48 and 72 hours.\",\n",
      "                        \"unit\": \"HOURS\"\n",
      "                    },\n",
      "                    \"right\": {\n",
      "                        \"type\": \"VALUE\",\n",
      "                        \"value\": 0.25,\n",
      "                        \"description\": \"Conversion factor from hours to 15-minute intervals (1 hour = 4 intervals).\",\n",
      "                        \"unit\": \"HOURS\"\n",
      "                    }\n",
      "                },\n",
      "                \"right\": {\n",
      "                    \"type\": \"BINARY_OPERATION\",\n",
      "                    \"operator\": \"MULTIPLY\",\n",
      "                    \"left\": {\n",
      "                        \"type\": \"VALUE\",\n",
      "                        \"value\": 42.0,\n",
      "                        \"description\": \"Standard charge per 15 minutes or part thereof for Wide Satellite stand at East Aerodrome Parking.\",\n",
      "                        \"unit\": \"EUROS\"\n",
      "                    },\n",
      "                    \"right\": {\n",
      "                        \"type\": \"VALUE\",\n",
      "                        \"value\": 3,\n",
      "                        \"description\": \"200% surcharge multiplier for parking durations over 72 hours.\",\n",
      "                        \"unit\": \"UNITLESS\"\n",
      "                    }\n",
      "                }\n",
      "            }\n",
      "        }\n",
      "    },\n",
      "    \"right\": {\n",
      "        \"type\": \"VALUE\",\n",
      "        \"value\": 0,\n",
      "        \"description\": \"Overnight parking is free, but the query specifies no overnight parking (is_overnight_parking = false).\",\n",
      "        \"unit\": \"EUROS\"\n",
      "    }\n",
      "}\n"
     ]
    }
   ],
   "source": [
    "print(json.dumps(json.loads(result[0][\"result_graph\"]), indent=4))"
   ]
  },
  {
   "cell_type": "code",
   "execution_count": null,
   "id": "cc372f46-4d17-4f02-9991-dec0be556319",
   "metadata": {},
   "outputs": [
    {
     "name": "stdout",
     "output_type": "stream",
     "text": [
      "--- Building graph for charge category: 'east_aerodrome_parking_charge' ---\n"
     ]
    },
    {
     "data": {
      "application/vnd.jupyter.widget-view+json": {
       "model_id": "8684fc70e7d34f23969473f09f3aad41",
       "version_major": 2,
       "version_minor": 0
      },
      "text/plain": [
       "StitchWidget(initial_height='auto', initial_width='100%', srcdoc='<!doctype html>\\n<html lang=\"en\">\\n<head>\\n …"
      ]
     },
     "metadata": {},
     "output_type": "display_data"
    },
    {
     "name": "stdout",
     "output_type": "stream",
     "text": [
      "Execution time for 'build': 839.8929 seconds\n"
     ]
    },
    {
     "name": "stderr",
     "output_type": "stream",
     "text": [
      "IOPub message rate exceeded.\n",
      "The Jupyter server will temporarily stop sending output\n",
      "to the client in order to avoid crashing it.\n",
      "To change this limit, set the config variable\n",
      "`--ServerApp.iopub_msg_rate_limit`.\n",
      "\n",
      "Current values:\n",
      "ServerApp.iopub_msg_rate_limit=1000.0 (msgs/sec)\n",
      "ServerApp.rate_limit_window=3.0 (secs)\n",
      "\n"
     ]
    }
   ],
   "source": [
    "query = \"Calculate the total parking charge for a Light Aircraft Parking (LAP) stand type at East Aerodrome Parking with no overnight parking. The parking duration is a variable with unit hours.\"\n",
    "charge_category = \"east_aerodrome_parking_charge\"\n",
    "\n",
    "result = create_computation_graph(model, query, charge_category)\n"
   ]
  },
  {
   "cell_type": "code",
   "execution_count": 20,
   "id": "8522ac6a-b707-46c5-a162-b308215dc1b8",
   "metadata": {},
   "outputs": [
    {
     "name": "stdout",
     "output_type": "stream",
     "text": [
      "{\n",
      "    \"query_parameters\": [\n",
      "        {\n",
      "            \"name\": \"aircraft_stand_type\",\n",
      "            \"status\": \"KNOWN\",\n",
      "            \"value\": \"Light Aircraft Parking (LAP)\"\n",
      "        },\n",
      "        {\n",
      "            \"name\": \"parking_duration_hours\",\n",
      "            \"status\": \"SYMBOLIC\",\n",
      "            \"value\": null\n",
      "        },\n",
      "        {\n",
      "            \"name\": \"is_overnight_parking\",\n",
      "            \"status\": \"KNOWN\",\n",
      "            \"value\": false\n",
      "        }\n",
      "    ]\n",
      "}\n"
     ]
    }
   ],
   "source": [
    "print(json.dumps(json.loads(result[0][\"thought1\"]), indent=4))"
   ]
  },
  {
   "cell_type": "code",
   "execution_count": 21,
   "id": "8db45b5d-9731-4568-8aaf-8b3a068e3252",
   "metadata": {},
   "outputs": [
    {
     "name": "stdout",
     "output_type": "stream",
     "text": [
      "{\n",
      "    \"identified_constants_and_rules\": [\n",
      "        \"The parking charge for Light Aircraft Parking (LAP) at East Aerodrome Parking (EAP) is \\u20ac3.50 per 15 minutes or part thereof.\",\n",
      "        \"The parking duration is a variable with unit hours.\",\n",
      "        \"Overnight parking from 2300-0600hrs is free of charge, but the query specifies no overnight parking.\",\n",
      "        \"Aircraft parking for extended periods in EAP attract surcharges: 48 hours up to 72 hours (including night-time) has a surcharge of Standard rate +100%, and 72 hours and over has Standard rate +200%.\",\n",
      "        \"The parking charge is calculated from the actual time of arrival to the actual time of departure minus 30 minutes.\",\n",
      "        \"The minimum charge of \\u20ac3.20 applies for light aircraft.\",\n",
      "        \"The parking duration is a variable, so we need to account for all possible values.\"\n",
      "    ]\n",
      "}\n"
     ]
    }
   ],
   "source": [
    "print(json.dumps(json.loads(result[0][\"thought2\"]), indent=4))"
   ]
  },
  {
   "cell_type": "code",
   "execution_count": 22,
   "id": "c794e731-248a-4100-ad00-ab913fb91ed5",
   "metadata": {},
   "outputs": [
    {
     "name": "stdout",
     "output_type": "stream",
     "text": [
      "{\n",
      "    \"synthesis_plan\": \"The total parking charge for LAP at EAP is calculated by first determining the base rate of \\u20ac3.50 per 15 minutes or part thereof. Since the parking duration is a variable, we need to calculate the number of 15-minute intervals. However, we must also consider the surcharges for durations over 48 and 72 hours. The calculation should include a conditional check for the duration: if it's less than 48 hours, use the base rate; if between 48-72 hours, apply 100% surcharge; if over 72 hours, apply 200% surcharge. Additionally, the minimum charge of \\u20ac3.20 must be considered, but since the base rate is already higher than this, it may not affect the calculation. The overnight parking is not applicable here as per the query.\"\n",
      "}\n"
     ]
    }
   ],
   "source": [
    "print(json.dumps(json.loads(result[0][\"thought3\"]), indent=4))"
   ]
  },
  {
   "cell_type": "code",
   "execution_count": 23,
   "id": "ecddce59-93ed-4be2-ada3-ec9252d3f1ef",
   "metadata": {},
   "outputs": [
    {
     "name": "stdout",
     "output_type": "stream",
     "text": [
      "{\n",
      "    \"rethink\": \"The approach is correct, but I need to ensure that the surcharge conditions are properly represented as conditional nodes in the expression tree. Also, the calculation of 15-minute intervals needs to be accurately represented. The minimum charge of \\u20ac3.20 is lower than the base rate, so it should be considered as a minimum floor in the calculation.\"\n",
      "}\n"
     ]
    }
   ],
   "source": [
    "print(json.dumps(json.loads(result[0][\"thought4\"]), indent=4))"
   ]
  },
  {
   "cell_type": "code",
   "execution_count": 25,
   "id": "1b3d3a2a-219d-4ee5-ab1d-f487b085cc71",
   "metadata": {},
   "outputs": [
    {
     "data": {
      "text/plain": [
       "'{\"type\": \"BINARY_OPERATION\", \"operator\": \"ADD\", \"left\": {\"type\": \"CONDITIONAL\", \"condition\": {\"type\": \"COMPARISON\", \"operator\": \"GREATER_THAN\", \"left\": {\"type\": \"VARIABLE\", \"name\": \"parking_duration_hours\", \"description\": \"Total duration of parking in hours. Surcharges apply at 48 and 72 hours.\", \"unit\": \"HOURS\"}, \"right\": {\"type\": \"VALUE\", \"value\": 72, \"description\": \"Threshold for 200% surcharge on parking duration.\", \"unit\": \"HOURS\"}}, \"if_true\": {\"type\": \"BINARY_OPERATION\", \"operator\": \"MULTIPLY\", \"left\": {\"type\": \"VALUE\", \"value\": 3.50, \"description\": \"Standard charge per 15 minutes or part thereof for Light Aircraft Parking (LAP) at East Aerodrome Parking (EAP).\", \"unit\": \"EUROS\"}, \"right\": {\"type\": \"BINARY_OPERATION\", \"operator\": \"DIVIDE\", \"left\": {\"type\": \"VARIABLE\", \"name\": \"parking_duration_hours\", \"description\": \"Total duration of parking in hours. Surcharges apply at 48 and 72 hours.\", \"unit\": \"HOURS\"}, \"right\": {\"type\": \"VALUE\", \"value\": 0.25, \"description\": \"Conversion factor from hours to 15-minute intervals (1 hour = 4 intervals).\", \"unit\": \"HOURS\"}}, \"description\": \"Calculate the base charge for parking duration with 200% surcharge applied.\"}, \"if_false\": {\"type\": \"CONDITIONAL\", \"condition\": {\"type\": \"COMPARISON\", \"operator\": \"GREATER_THAN\", \"left\": {\"type\": \"VARIABLE\", \"name\": \"parking_duration_hours\", \"description\": \"Total duration of parking in hours. Surcharges apply at 48 and 72 hours.\", \"unit\": \"HOURS\"}, \"right\": {\"type\": \"VALUE\", \"value\": 48, \"description\": \"Threshold for 100% surcharge on parking duration.\", \"unit\": \"HOURS\"}}, \"if_true\": {\"type\": \"BINARY_OPERATION\", \"operator\": \"MULTIPLY\", \"left\": {\"type\": \"VALUE\", \"value\": 3.50, \"description\": \"Standard charge per 15 minutes or part thereof for Light Aircraft Parking (LAP) at East Aerodrome Parking (EAP).\", \"unit\": \"EUROS\"}, \"right\": {\"type\": \"BINARY_OPERATION\", \"operator\": \"DIVIDE\", \"left\": {\"type\": \"VARIABLE\", \"name\": \"parking_duration_hours\", \"description\": \"Total duration of parking in hours. Surcharges apply at 48 and 72 hours.\", \"unit\": \"HOURS\"}, \"right\": {\"type\": \"VALUE\", \"value\": 0.25, \"description\": \"Conversion factor from hours to 15-minute intervals (1 hour = 4 intervals).\", \"unit\": \"HOURS\"}}, \"description\": \"Calculate the base charge for parking duration with 100% surcharge applied.\"}, \"if_false\": {\"type\": \"BINARY_OPERATION\", \"operator\": \"MULTIPLY\", \"left\": {\"type\": \"VALUE\", \"value\": 3.50, \"description\": \"Standard charge per 15 minutes or part thereof for Light Aircraft Parking (LAP) at East Aerodrome Parking (EAP).\", \"unit\": \"EUROS\"}, \"right\": {\"type\": \"BINARY_OPERATION\", \"operator\": \"DIVIDE\", \"left\": {\"type\": \"VARIABLE\", \"name\": \"parking_duration_hours\", \"description\": \"Total duration of parking in hours. Surcharges apply at 48 and 72 hours.\", \"unit\": \"HOURS\"}, \"right\": {\"type\": \"VALUE\", \"value\": 0.25, \"description\": \"Conversion factor from hours to 15-minute intervals (1 hour = 4 intervals).\", \"unit\": \"HOURS\"}}, \"description\": \"Calculate the base charge for parking duration without surcharge.\"}}, \"description\": \"Calculate the total parking charge for Light Aircraft Parking (LAP) at East Aerodrome Parking (EAP) with surcharges applied based on duration.\"}, \"right\": {\"type\": \"CONDITIONAL\", \"condition\": {\"type\": \"COMPARISON\", \"operator\": \"LESS_THAN\", \"left\": {\"type\": \"BINARY_OPERATION\", \"operator\": \"MULTIPLY\", \"left\": {\"type\": \"VALUE\", \"value\": 3.50, \"description\": \"Standard charge per 15 minutes or part thereof for Light Aircraft Parking (LAP) at East Aerodrome Parking (EAP).\", \"unit\": \"EUROS\"}, \"right\": {\"type\": \"BINARY_OPERATION\", \"operator\": \"DIVIDE\", \"left\": {\"type\": \"VARIABLE\", \"name\": \"parking_duration_hours\", \"description\": \"Total duration of parking in hours. Surcharges apply at 48 and 72 hours.\", \"unit\": \"HOURS\"}, \"right\": {\"type\": \"VALUE\", \"value\": 0.25, \"description\": \"Conversion factor from hours to 15-minute intervals (1 hour = 4 intervals).\", \"unit\": \"HOURS\"}}, \"right\\\\\": \\\\\"3.20\\\\\"}, \\\\\"if_true\\\\\": \\\\\"3.20\\\\\", \\\\\"if_false\\\\\": \\\\\"the calculated charge\\\\\"}, \\\\\"description\\\\\": \\\\\"Ensure the minimum charge of €3.20 is applied if the calculated charge is lower.\\\\\"}”}”}”}”}”}”}”}”}”}”}”}”}”}”}”}”}”}”}”}”}”}”}”}”}”}”}”}”}”}”}”}”}”}”}”}”}”}”}”}”}”}”}”}”}”}”}”}”}”}”}”}”}”}”}”}”}”}”}”}”}”}”}”}”}”}”}”}”}”}”}”}”}”}”}”}”}”}”}”}”}”}”}”}”}”}”}”}”}”}”}”}”}”}”}”}”}”}”}”}”}”}”}”}”}”}”}”}”}”}”}”}”}”}”}”}”}”}”}”}”}”}”}”}”}”}”}”}”}”}”}”}”}”}”}”}”}”}”}”}”}”}”}”}”}”}”}”}”}”}”}”}”}”}”}”}”}”}”}”}”}”}”}”}”}”}”}”}”}”}”}”}”}”}”}”}”}”}”}”}”}”}”}”}”}”}”}”}”}”}”}”}”}”}”}”}”}”}”}”}”}”}”}”}”}”}”}”}”}”}”}”}”}”}”}”}”}”}”}”}”}”}”}”}”}”}”}”}”}”}”}”}”}”}”}”}”}”}”}”}”}”}”}”}”}”}”}”}”}”}”}”}”}”}”}”}”}”}”}”}”}”}”}”}”}”}”}”}”}”}”}”}”}”}”}”}”}”}”}”}”}”}”}”}”}”}”}”}”}”}”}”}”}”}”}”}”}”}”}”}”}”}”}”}”}”}”}”}”}”}”}”}”}”}”}”}”}”}”}”}”}”}”}”}”}”}”}”}”}”}”}”}”}”}”}”}”}”}”}”}”}”}”}”}”}”}”}”}”}”}”}”}”}”}”}”}”}”}”}”}”}”}”}”}”}”}”}”}”}”}”}”}”}”}”}”}”}”}”}”}”}”}”}”}”}”}”}”}”}”}”}: '"
      ]
     },
     "execution_count": 25,
     "metadata": {},
     "output_type": "execute_result"
    }
   ],
   "source": [
    "result[0][\"result_graph\"]"
   ]
  },
  {
   "cell_type": "code",
   "execution_count": 50,
   "id": "59758a08-a660-4b29-8a45-4be01e2f74cd",
   "metadata": {},
   "outputs": [
    {
     "name": "stdout",
     "output_type": "stream",
     "text": [
      "--- Building graph for charge category: 'east_aerodrome_parking_charge' ---\n"
     ]
    },
    {
     "data": {
      "application/vnd.jupyter.widget-view+json": {
       "model_id": "03cbddef239f4cfda4e12d21d6401d1a",
       "version_major": 2,
       "version_minor": 0
      },
      "text/plain": [
       "StitchWidget(initial_height='auto', initial_width='100%', srcdoc='<!doctype html>\\n<html lang=\"en\">\\n<head>\\n …"
      ]
     },
     "metadata": {},
     "output_type": "display_data"
    },
    {
     "name": "stdout",
     "output_type": "stream",
     "text": [
      "Execution time for 'build': 404.2457 seconds\n"
     ]
    },
    {
     "name": "stderr",
     "output_type": "stream",
     "text": [
      "IOPub message rate exceeded.\n",
      "The Jupyter server will temporarily stop sending output\n",
      "to the client in order to avoid crashing it.\n",
      "To change this limit, set the config variable\n",
      "`--ServerApp.iopub_msg_rate_limit`.\n",
      "\n",
      "Current values:\n",
      "ServerApp.iopub_msg_rate_limit=1000.0 (msgs/sec)\n",
      "ServerApp.rate_limit_window=3.0 (secs)\n",
      "\n"
     ]
    }
   ],
   "source": [
    "query = \"Calculate the total parking charge for a Light Aircraft Parking (LAP) stand type at East Aerodrome Parking with no overnight parking. The parking duration is a variable with unit hours.\"\n",
    "charge_category = \"east_aerodrome_parking_charge\"\n",
    "\n",
    "result = create_computation_graph(model, query, charge_category)\n"
   ]
  },
  {
   "cell_type": "code",
   "execution_count": 53,
   "id": "a2bf399c-0bb8-4cbb-8d9a-ed7e50267da6",
   "metadata": {},
   "outputs": [
    {
     "name": "stdout",
     "output_type": "stream",
     "text": [
      "{\n",
      "    \"rethink\": \"The query specifies that the parking duration is a variable with unit hours, and we must account for all possible values. The surcharge rules are based on duration thresholds (48 and 72 hours), so we must use conditional logic to handle these cases. The base rate is \\u20ac3.50 per 15 minutes, and since the charge is per 15 minutes or part thereof, we must round up the duration to the next 15-minute interval. The minimum charge of \\u20ac3.20 is already covered by the base rate, so it does not need to be explicitly applied. The 'no overnight parking' condition means we do not apply the free overnight period, so the full duration is charged. The final expression tree must include:\\n- A function to convert hours to 15-minute intervals (ceiling division by 0.25)\\n- Conditional logic for surcharges based on duration thresholds\\n- Multiplication of the base rate by the number of intervals and the surcharge factor\\nAll of this must be structured as a JSON expression tree with proper node types.\"\n",
      "}\n"
     ]
    }
   ],
   "source": [
    "print(json.dumps(json.loads(result[0][\"thought4\"]), indent=4))"
   ]
  },
  {
   "cell_type": "code",
   "execution_count": 54,
   "id": "0fe27295-9b59-4ed3-857f-e153d0e0f92c",
   "metadata": {},
   "outputs": [
    {
     "name": "stdout",
     "output_type": "stream",
     "text": [
      "{\n",
      "    \"synthesis_plan\": \"1. Start with the base rate for LAP at EAP: \\u20ac3.50 per 15 minutes or part thereof.\\n2. Convert the variable parking_duration_hours into number of 15-minute intervals (each interval counts as 1 unit).\\n3. Apply a minimum charge of \\u20ac3.20, but since the base rate is already \\u20ac3.50, this is automatically satisfied.\\n4. Since the query specifies 'no overnight parking', we do not subtract any free time.\\n5. Check if the parking duration exceeds 48 or 72 hours, and apply surcharges accordingly:\\n   - If parking_duration_hours \\u2264 48: no surcharge\\n   - If 48 < parking_duration_hours \\u2264 72: surcharge of +100% (i.e., double the rate)\\n   - If parking_duration_hours > 72: surcharge of +200% (i.e., triple the rate)\\n6. The final charge is the base rate multiplied by the number of 15-minute intervals, adjusted by the applicable surcharge factor.\\n7. Represent this logic using a conditional expression tree with branching on the value of parking_duration_hours.\"\n",
      "}\n"
     ]
    }
   ],
   "source": [
    "print(json.dumps(json.loads(result[0][\"thought3\"]), indent=4))"
   ]
  },
  {
   "cell_type": "code",
   "execution_count": 55,
   "id": "645fbdf7-dffd-4569-8d8b-70b214053c94",
   "metadata": {},
   "outputs": [
    {
     "name": "stdout",
     "output_type": "stream",
     "text": [
      "{\n",
      "    \"identified_constants_and_rules\": [\n",
      "        \"The standard charge for Light Aircraft Parking (LAP) at East Aerodrome Parking (EAP) is \\u20ac3.50 per 15 minutes or part thereof.\",\n",
      "        \"Overnight parking from 2300-0600hrs is free of charge.\",\n",
      "        \"Parking charges are calculated from the actual time of arrival (landed time) to the actual time of departure (airborne time) minus 30 minutes.\",\n",
      "        \"For extended parking periods, surcharges apply: 48 hours up to 72 hours (including night-time) \\u2192 Standard rate +100%; 72 hours and over \\u2192 Standard rate +200%.\",\n",
      "        \"However, since the query specifies 'no overnight parking', the overnight free period does not apply.\",\n",
      "        \"The parking duration is a variable in hours, and the charge is per 15 minutes or part thereof.\",\n",
      "        \"A minimum charge of \\u20ac3.20 applies for light aircraft.\",\n",
      "        \"Surcharges outlined in Table 1 apply for light aircraft parked in the designated parking zone and/or in any other EAP area.\",\n",
      "        \"The query specifies 'no overnight parking', so the free overnight period is not applicable.\",\n",
      "        \"The parking duration is a variable, so we must account for all possible durations using conditional logic.\"\n",
      "    ]\n",
      "}\n"
     ]
    }
   ],
   "source": [
    "print(json.dumps(json.loads(result[0][\"thought2\"]), indent=4))"
   ]
  },
  {
   "cell_type": "code",
   "execution_count": 56,
   "id": "cb6cb952-b187-42e6-ad21-463df6fa7078",
   "metadata": {},
   "outputs": [
    {
     "name": "stdout",
     "output_type": "stream",
     "text": [
      "{\n",
      "    \"query_parameters\": [\n",
      "        {\n",
      "            \"name\": \"aircraft_stand_type\",\n",
      "            \"status\": \"KNOWN\",\n",
      "            \"value\": \"Light Aircraft Parking (LAP)\"\n",
      "        },\n",
      "        {\n",
      "            \"name\": \"parking_duration_hours\",\n",
      "            \"status\": \"SYMBOLIC\",\n",
      "            \"value\": null\n",
      "        },\n",
      "        {\n",
      "            \"name\": \"is_overnight_parking\",\n",
      "            \"status\": \"KNOWN\",\n",
      "            \"value\": false\n",
      "        },\n",
      "        {\n",
      "            \"name\": \"sector\",\n",
      "            \"status\": \"KNOWN\",\n",
      "            \"value\": \"East Aerodrome Parking (EAP)\"\n",
      "        }\n",
      "    ]\n",
      "}\n"
     ]
    }
   ],
   "source": [
    "print(json.dumps(json.loads(result[0][\"thought1\"]), indent=4))"
   ]
  },
  {
   "cell_type": "code",
   "execution_count": 57,
   "id": "1c5f167a-bfa4-4d48-9e2f-7801103d9ae3",
   "metadata": {},
   "outputs": [
    {
     "name": "stdout",
     "output_type": "stream",
     "text": [
      "{\n",
      "    \"type\": \"BINARY_OPERATION\",\n",
      "    \"operator\": \"ADD\",\n",
      "    \"left\": {\n",
      "        \"type\": \"CONDITIONAL\",\n",
      "        \"condition\": {\n",
      "            \"type\": \"COMPARISON\",\n",
      "            \"operator\": \"LESS_THAN\",\n",
      "            \"left\": {\n",
      "                \"type\": \"VARIABLE\",\n",
      "                \"name\": \"parking_duration_hours\",\n",
      "                \"description\": \"Total duration of parking in hours.\",\n",
      "                \"unit\": \"HOURS\"\n",
      "            },\n",
      "            \"right\": {\n",
      "                \"type\": \"VALUE\",\n",
      "                \"value\": 48,\n",
      "                \"description\": \"Threshold for first surcharge.\",\n",
      "                \"unit\": \"HOURS\"\n",
      "            }\n",
      "        },\n",
      "        \"if_true\": {\n",
      "            \"type\": \"BINARY_OPERATION\",\n",
      "            \"operator\": \"MULTIPLY\",\n",
      "            \"left\": {\n",
      "                \"type\": \"VALUE\",\n",
      "                \"value\": 3.5,\n",
      "                \"description\": \"Standard charge per 15 minutes for LAP at EAP.\",\n",
      "                \"unit\": \"EUROS\"\n",
      "            },\n",
      "            \"right\": {\n",
      "                \"type\": \"BINARY_OPERATION\",\n",
      "                \"operator\": \"DIVIDE\",\n",
      "                \"left\": {\n",
      "                    \"type\": \"BINARY_OPERATION\",\n",
      "                    \"operator\": \"ADD\",\n",
      "                    \"left\": {\n",
      "                        \"type\": \"VARIABLE\",\n",
      "                        \"name\": \"parking_duration_hours\",\n",
      "                        \"description\": \"Total duration of parking in hours.\",\n",
      "                        \"unit\": \"HOURS\"\n",
      "                    },\n",
      "                    \"right\": {\n",
      "                        \"type\": \"VALUE\",\n",
      "                        \"value\": 0.25,\n",
      "                        \"description\": \"15 minutes in hours.\",\n",
      "                        \"unit\": \"HOURS\"\n",
      "                    }\n",
      "                },\n",
      "                \"right\": {\n",
      "                    \"type\": \"VALUE\",\n",
      "                    \"value\": 0.25,\n",
      "                    \"description\": \"15 minutes in hours.\",\n",
      "                    \"unit\": \"HOURS\"\n",
      "                }\n",
      "            }\n",
      "        },\n",
      "        \"if_false\": {\n",
      "            \"type\": \"CONDITIONAL\",\n",
      "            \"condition\": {\n",
      "                \"type\": \"COMPARISON\",\n",
      "                \"operator\": \"LESS_THAN\",\n",
      "                \"left\": {\n",
      "                    \"type\": \"VARIABLE\",\n",
      "                    \"name\": \"parking_duration_hours\",\n",
      "                    \"description\": \"Total duration of parking in hours.\",\n",
      "                    \"unit\": \"HOURS\"\n",
      "                },\n",
      "                \"right\": {\n",
      "                    \"type\": \"VALUE\",\n",
      "                    \"value\": 72,\n",
      "                    \"description\": \"Threshold for second surcharge.\",\n",
      "                    \"unit\": \"HOURS\"\n",
      "                }\n",
      "            },\n",
      "            \"if_true\": {\n",
      "                \"type\": \"BINARY_OPERATION\",\n",
      "                \"operator\": \"MULTIPLY\",\n",
      "                \"left\": {\n",
      "                    \"type\": \"VALUE\",\n",
      "                    \"value\": 3.5,\n",
      "                    \"description\": \"Standard charge per 15 minutes for LAP at EAP.\",\n",
      "                    \"unit\": \"EUROS\"\n",
      "                },\n",
      "                \"right\": {\n",
      "                    \"type\": \"BINARY_OPERATION\",\n",
      "                    \"operator\": \"DIVIDE\",\n",
      "                    \"left\": {\n",
      "                        \"type\": \"BINARY_OPERATION\",\n",
      "                        \"operator\": \"ADD\",\n",
      "                        \"left\": {\n",
      "                            \"type\": \"VARIABLE\",\n",
      "                            \"name\": \"parking_duration_hours\",\n",
      "                            \"description\": \"Total duration of parking in hours.\",\n",
      "                            \"unit\": \"HOURS\"\n",
      "                        },\n",
      "                        \"right\": {\n",
      "                            \"type\": \"VALUE\",\n",
      "                            \"value\": 0.25,\n",
      "                            \"description\": \"15 minutes in hours.\",\n",
      "                            \"unit\": \"HOURS\"\n",
      "                        }\n",
      "                    },\n",
      "                    \"right\": {\n",
      "                        \"type\": \"VALUE\",\n",
      "                        \"value\": 0.25,\n",
      "                        \"description\": \"15 minutes in hours.\",\n",
      "                        \"unit\": \"HOURS\"\n",
      "                    }\n",
      "                },\n",
      "                \"right_multiplier\": {\n",
      "                    \"type\": \"VALUE\",\n",
      "                    \"value\": 2,\n",
      "                    \"description\": \"Surcharges: 48 to 72 hours \\u2192 +100% (double the rate).\",\n",
      "                    \"unit\": \"UNIT\"\n",
      "                }\n",
      "            },\n",
      "            \"if_false\": {\n",
      "                \"type\": \"BINARY_OPERATION\",\n",
      "                \"operator\": \"MULTIPLY\",\n",
      "                \"left\": {\n",
      "                    \"type\": \"VALUE\",\n",
      "                    \"value\": 3.5,\n",
      "                    \"description\": \"Standard charge per 15 minutes for LAP at EAP.\",\n",
      "                    \"unit\": \"EUROS\"\n",
      "                },\n",
      "                \"right\": {\n",
      "                    \"type\": \"BINARY_OPERATION\",\n",
      "                    \"operator\": \"DIVIDE\",\n",
      "                    \"left\": {\n",
      "                        \"type\": \"BINARY_OPERATION\",\n",
      "                        \"operator\": \"ADD\",\n",
      "                        \"left\": {\n",
      "                            \"type\": \"VARIABLE\",\n",
      "                            \"name\": \"parking_duration_hours\",\n",
      "                            \"description\": \"Total duration of parking in hours.\",\n",
      "                            \"unit\": \"HOURS\"\n",
      "                        },\n",
      "                        \"right\": {\n",
      "                            \"type\": \"VALUE\",\n",
      "                            \"value\": 0.25,\n",
      "                            \"description\": \"15 minutes in hours.\",\n",
      "                            \"unit\": \"HOURS\"\n",
      "                        }\n",
      "                    },\n",
      "                    \"right\": {\n",
      "                        \"type\": \"VALUE\",\n",
      "                        \"value\": 0.25,\n",
      "                        \"description\": \"15 minutes in hours.\",\n",
      "                        \"unit\": \"HOURS\"\n",
      "                    }\n",
      "                },\n",
      "                \"right_multiplier\": {\n",
      "                    \"type\": \"VALUE\",\n",
      "                    \"value\": 3,\n",
      "                    \"description\": \"Surcharges: over 72 hours \\u2192 +200% (triple the rate).\",\n",
      "                    \"unit\": \"UNIT\"\n",
      "                }\n",
      "            }\n",
      "        }\n",
      "    },\n",
      "    \"right\": {\n",
      "        \"type\": \"VALUE\",\n",
      "        \"value\": 0,\n",
      "        \"description\": \"No additional charges beyond the base and surcharge.\",\n",
      "        \"unit\": \"EUROS\"\n",
      "    }\n",
      "}\n"
     ]
    }
   ],
   "source": [
    "print(json.dumps(json.loads(result[0][\"result_graph\"]), indent=4))"
   ]
  },
  {
   "cell_type": "code",
   "execution_count": null,
   "id": "b891215c-2ddb-40fd-9844-9b75dd72c510",
   "metadata": {},
   "outputs": [],
   "source": [
    "query = \"Calculate the total parking charge for a Light Aircraft Parking (LAP) stand type at East Aerodrome Parking with no overnight parking. The parking duration is a variable with unit hours.\"\n",
    "charge_category = \"east_aerodrome_parking_charge\"\n",
    "\n",
    "result = create_computation_graph(model, query, charge_category)\n"
   ]
  },
  {
   "cell_type": "code",
   "execution_count": null,
   "id": "b1dfa68c-cec6-464a-835c-a2d0056f9d49",
   "metadata": {},
   "outputs": [],
   "source": []
  },
  {
   "cell_type": "code",
   "execution_count": null,
   "id": "d58da993-cd69-48d0-ba02-2dbd036cf8e1",
   "metadata": {},
   "outputs": [],
   "source": []
  },
  {
   "cell_type": "code",
   "execution_count": null,
   "id": "35085749",
   "metadata": {},
   "outputs": [],
   "source": []
  }
 ],
 "metadata": {
  "kernelspec": {
   "display_name": ".venv",
   "language": "python",
   "name": "python3"
  },
  "language_info": {
   "codemirror_mode": {
    "name": "ipython",
    "version": 3
   },
   "file_extension": ".py",
   "mimetype": "text/x-python",
   "name": "python",
   "nbconvert_exporter": "python",
   "pygments_lexer": "ipython3",
   "version": "3.12.11"
  }
 },
 "nbformat": 4,
 "nbformat_minor": 5
}
