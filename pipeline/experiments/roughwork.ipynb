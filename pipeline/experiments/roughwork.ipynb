{
 "cells": [
  {
   "cell_type": "code",
   "execution_count": 2,
   "id": "71aab260-f26c-4adc-b70d-8b6158621da7",
   "metadata": {},
   "outputs": [],
   "source": [
    "import pydantic"
   ]
  },
  {
   "cell_type": "code",
   "execution_count": 32,
   "id": "8aa4791a-3ea8-4a95-87e3-62aba7ad9b9f",
   "metadata": {},
   "outputs": [],
   "source": [
    "from enum import Enum\n",
    "\n",
    "# class syntax\n",
    "class Color(str, Enum):\n",
    "    RED = 1\n",
    "    GREEN = 2\n",
    "    BLUE = 3\n",
    "\n",
    "# functional syntax\n",
    "# Color = Enum('Color', [('RED', 1), ('GREEN', 2), ('BLUE', 3)])"
   ]
  },
  {
   "cell_type": "code",
   "execution_count": 23,
   "id": "d0a57722-eaf0-4c00-9906-49fc7a3fb2ef",
   "metadata": {},
   "outputs": [
    {
     "name": "stdout",
     "output_type": "stream",
     "text": [
      "Color.RED\n",
      "Color.GREEN\n",
      "Color.BLUE\n"
     ]
    }
   ],
   "source": [
    "for i in Color:\n",
    "    print(i)"
   ]
  },
  {
   "cell_type": "code",
   "execution_count": 24,
   "id": "2af82f47-8439-4a7d-bf4b-8977ce5f17ef",
   "metadata": {},
   "outputs": [
    {
     "data": {
      "text/plain": [
       "<Color.RED: '1'>"
      ]
     },
     "execution_count": 24,
     "metadata": {},
     "output_type": "execute_result"
    }
   ],
   "source": [
    "Color['RED']"
   ]
  },
  {
   "cell_type": "code",
   "execution_count": 34,
   "id": "3b4bd09d-bc17-426e-82c5-baa849501e03",
   "metadata": {},
   "outputs": [
    {
     "data": {
      "text/plain": [
       "<Color.GREEN: '2'>"
      ]
     },
     "execution_count": 34,
     "metadata": {},
     "output_type": "execute_result"
    }
   ],
   "source": [
    "Color('2')"
   ]
  },
  {
   "cell_type": "code",
   "execution_count": 36,
   "id": "51308529-2669-4a75-9074-e70693d319b9",
   "metadata": {},
   "outputs": [
    {
     "data": {
      "text/plain": [
       "[<Color.RED: '1'>, <Color.GREEN: '2'>, <Color.BLUE: '3'>]"
      ]
     },
     "execution_count": 36,
     "metadata": {},
     "output_type": "execute_result"
    }
   ],
   "source": [
    "\n",
    "list(Color)"
   ]
  },
  {
   "cell_type": "code",
   "execution_count": 43,
   "id": "ed89c1ab-53e8-4ea8-b4a0-759b75d4d226",
   "metadata": {},
   "outputs": [
    {
     "data": {
      "text/plain": [
       "3"
      ]
     },
     "execution_count": 43,
     "metadata": {},
     "output_type": "execute_result"
    }
   ],
   "source": [
    "len(Color)"
   ]
  },
  {
   "cell_type": "code",
   "execution_count": 44,
   "id": "a65569a8-2458-4247-b88b-41980dcca341",
   "metadata": {},
   "outputs": [],
   "source": [
    "from enum import Enum\n",
    "\n",
    "class Op(str, Enum):\n",
    "    ADD = \"ADD\"\n",
    "    MULTIPLY = \"MULTIPLY\"\n"
   ]
  },
  {
   "cell_type": "code",
   "execution_count": 46,
   "id": "ad75fefd-3f83-43fd-8819-da8630ccff10",
   "metadata": {},
   "outputs": [
    {
     "data": {
      "text/plain": [
       "<Op.ADD: 'ADD'>"
      ]
     },
     "execution_count": 46,
     "metadata": {},
     "output_type": "execute_result"
    }
   ],
   "source": [
    "Op.ADD"
   ]
  },
  {
   "cell_type": "code",
   "execution_count": 47,
   "id": "c2ae9028-6eb4-4de2-8683-4862de98587d",
   "metadata": {},
   "outputs": [
    {
     "data": {
      "text/plain": [
       "'ADDITION'"
      ]
     },
     "execution_count": 47,
     "metadata": {},
     "output_type": "execute_result"
    }
   ],
   "source": [
    "Op.ADD + 'ITION'"
   ]
  },
  {
   "cell_type": "code",
   "execution_count": 49,
   "id": "458d51a9-b463-4daa-904f-c5d7943a34dc",
   "metadata": {},
   "outputs": [
    {
     "data": {
      "text/plain": [
       "(<enum 'Op'>, str, <enum 'Enum'>, object)"
      ]
     },
     "execution_count": 49,
     "metadata": {},
     "output_type": "execute_result"
    }
   ],
   "source": [
    "import inspect\n",
    "inspect.getmro(Op)\n",
    "# (<enum 'Op'>, <enum 'Enum'>, <class 'str'>, <class 'object'>)\n"
   ]
  },
  {
   "cell_type": "code",
   "execution_count": 51,
   "id": "7bdfb13e-4c43-4243-9e61-8625868ac3c0",
   "metadata": {},
   "outputs": [
    {
     "data": {
      "text/plain": [
       "True"
      ]
     },
     "execution_count": 51,
     "metadata": {},
     "output_type": "execute_result"
    }
   ],
   "source": [
    "issubclass(Op, Enum)"
   ]
  },
  {
   "cell_type": "code",
   "execution_count": 52,
   "id": "efec6612-a9db-4d1b-9182-027a1c410899",
   "metadata": {},
   "outputs": [
    {
     "data": {
      "text/plain": [
       "'{\"op\": \"ADD\"}'"
      ]
     },
     "execution_count": 52,
     "metadata": {},
     "output_type": "execute_result"
    }
   ],
   "source": [
    "import json\n",
    "json.dumps({\"op\": Op.ADD})\n"
   ]
  }
 ],
 "metadata": {
  "kernelspec": {
   "display_name": "Python 3 (ipykernel)",
   "language": "python",
   "name": "python3"
  },
  "language_info": {
   "codemirror_mode": {
    "name": "ipython",
    "version": 3
   },
   "file_extension": ".py",
   "mimetype": "text/x-python",
   "name": "python",
   "nbconvert_exporter": "python",
   "pygments_lexer": "ipython3",
   "version": "3.11.5"
  }
 },
 "nbformat": 4,
 "nbformat_minor": 5
}
