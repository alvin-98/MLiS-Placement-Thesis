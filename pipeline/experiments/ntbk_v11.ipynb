{
 "cells": [
  {
   "cell_type": "markdown",
   "id": "bf199f17",
   "metadata": {},
   "source": [
    "NOTES\n",
    "\n",
    "1. Serve the model using vLLM like so - vllm serve Qwen/Qwen3-30B-A3B-Thinking-2507 --tensor-parallel-size 4 --port 8000 \n",
    "2. "
   ]
  },
  {
   "cell_type": "code",
   "execution_count": 1,
   "id": "9208a35d",
   "metadata": {},
   "outputs": [],
   "source": [
    "import os\n",
    "from pydantic import BaseModel\n",
    "import guidance"
   ]
  },
  {
   "cell_type": "code",
   "execution_count": 193,
   "id": "f2f7705d",
   "metadata": {},
   "outputs": [],
   "source": [
    "litellm_desc = {\n",
    "    \"model_name\": \"Qwen/Qwen3-30B-A3B-Instruct-2507\",\n",
    "    \"litellm_params\": {  # params for litellm completion/embedding call\n",
    "        \"model\": \"hosted_vllm/Qwen/Qwen3-30B-A3B-Instruct-2507\",\n",
    "        \"api_key\": os.environ.get(\"VLLM_API_KEY\", \"NO_KEY\"), # set your vLLM API key if needed\n",
    "        \"api_base\": \"http://localhost:8000/v1\", # change to your vLLM API base URL\n",
    "    },\n",
    "}\n",
    "base_lm = guidance.models.experimental.LiteLLM(model_description=litellm_desc, echo=True)"
   ]
  },
  {
   "cell_type": "code",
   "execution_count": 194,
   "id": "af344fea",
   "metadata": {},
   "outputs": [
    {
     "data": {
      "application/vnd.jupyter.widget-view+json": {
       "model_id": "a0f0ba08d3ce46c5b3bf8271f7c5d525",
       "version_major": 2,
       "version_minor": 0
      },
      "text/plain": [
       "StitchWidget(initial_height='auto', initial_width='100%', srcdoc='<!doctype html>\\n<html lang=\"en\">\\n<head>\\n …"
      ]
     },
     "metadata": {},
     "output_type": "display_data"
    },
    {
     "name": "stdout",
     "output_type": "stream",
     "text": [
      "Capital: Paris, Population: 2,161,000\n"
     ]
    }
   ],
   "source": [
    "def run_gen_test(lm):\n",
    "    with guidance.user():\n",
    "        lm += \"What is the capital of France? and its population?\"\n",
    "        lm += \"Format your answer as follows: Capital: <capital>, Population: <population>\"\n",
    "\n",
    "    with guidance.assistant():\n",
    "        lm += guidance.gen(max_tokens=1024, temperature=0.7, name=\"answer\")\n",
    "        print(lm[\"answer\"])\n",
    "\n",
    "run_gen_test(base_lm)"
   ]
  },
  {
   "cell_type": "code",
   "execution_count": 195,
   "id": "ae2c15f8",
   "metadata": {},
   "outputs": [],
   "source": [
    "# def run_gen_test(lm):\n",
    "#     with guidance.user():\n",
    "#         lm += \"What is the capital of France? and its population?\"\n",
    "#         lm += \"Format your answer as follows: Capital: <capital>, Population: <population>\"\n",
    "\n",
    "#     with guidance.assistant():\n",
    "#         lm += guidance.gen(max_tokens=1024, temperature=0.7, name=\"answer\")\n",
    "#         print(lm[\"answer\"])\n",
    "\n",
    "# run_gen_test(base_lm)"
   ]
  },
  {
   "cell_type": "code",
   "execution_count": null,
   "id": "1ada56a9",
   "metadata": {},
   "outputs": [],
   "source": []
  },
  {
   "cell_type": "code",
   "execution_count": 196,
   "id": "441f722c",
   "metadata": {},
   "outputs": [],
   "source": [
    "# %%bash\n",
    "\n",
    "# module purge\n",
    "# module load gcc-uoneasy/12.3.0\n",
    "# module load CUDA/12.4.0\n",
    "# export CC=gcc\n",
    "# export CXX=g++\n",
    "# # Remove TRITON_BUILD_WITH_CLANG_LLD=1 as it's Clang-specific; GCC may not need it\n",
    "# rm -rf ~/.triton ~/.cache/triton\n",
    "# export VLLM_WORKER_MULTIPROC_METHOD=spawn\n",
    "# module load anaconda-uoneasy/2023.09-0\n",
    "# source /gpfs01/home/ppxac9/.zshrc\n",
    "# conda activate envname"
   ]
  },
  {
   "cell_type": "code",
   "execution_count": 197,
   "id": "8e958171-f099-4301-9fa7-c6c012cad4f1",
   "metadata": {},
   "outputs": [],
   "source": [
    "import torch\n",
    "torch.cuda.empty_cache()\n",
    "\n",
    "import time\n",
    "import json\n",
    "from transformers import AutoTokenizer, AutoModelForCausalLM\n",
    "from pydantic import BaseModel, Field, RootModel\n",
    "from typing import Optional, Union, Literal, ForwardRef, List, Any\n",
    "from enum import Enum\n",
    "from guidance import models, system, user, assistant, json as gen_json, gen\n",
    "import torch\n",
    "from transformers import AutoModelForCausalLM, AutoTokenizer\n",
    "import json\n",
    "import torch\n",
    "from transformers import AutoTokenizer, AutoModelForCausalLM\n",
    "from pydantic import BaseModel, Field, RootModel\n",
    "from typing import Optional, Union\n",
    "from enum import Enum\n",
    "from guidance import models, system, user, assistant, json as gen_json\n",
    "import guidance\n",
    "from utils import timing_decorator"
   ]
  },
  {
   "cell_type": "code",
   "execution_count": null,
   "id": "eefc8c54",
   "metadata": {},
   "outputs": [],
   "source": []
  },
  {
   "cell_type": "code",
   "execution_count": 198,
   "id": "61020788-eeea-4d08-8416-f3658f754d54",
   "metadata": {},
   "outputs": [],
   "source": [
    "\n",
    "with open(\"../output/2025-airport-charges-terms-and-conditions/tinychargesmarkdown.md\", \"r\") as f:\n",
    "    markdown_content = f.read()\n",
    "# with open(\"../output/2025-airport-charges-terms-and-conditions/2025-airport-charges-terms-and-conditions.md\", \"r\") as f:\n",
    "#     markdown_content = f.read()    \n"
   ]
  },
  {
   "cell_type": "code",
   "execution_count": 199,
   "id": "e6630d98-68f2-4e0e-aae1-200df638fe4a",
   "metadata": {},
   "outputs": [],
   "source": [
    "# import os\n",
    "# os.environ[\"CUDA_VISIBLE_DEVICES\"] = \"3,4,5,6\""
   ]
  },
  {
   "cell_type": "code",
   "execution_count": 200,
   "id": "18612e87-e1a8-4861-9ad4-3b38207554ba",
   "metadata": {},
   "outputs": [],
   "source": [
    "\n",
    "# # MODEL_ID = \"Qwen/Qwen3-30B-A3B\"\n",
    "# MODEL_ID = \"Qwen/Qwen3-30B-A3B-Instruct-2507\"\n",
    "# hf_model = AutoModelForCausalLM.from_pretrained(\n",
    "#     MODEL_ID,\n",
    "#     device_map=\"auto\",       \n",
    "#     low_cpu_mem_usage=True,          \n",
    "# )\n",
    "\n",
    "\n",
    "# tok        = AutoTokenizer.from_pretrained(MODEL_ID)\n"
   ]
  },
  {
   "cell_type": "code",
   "execution_count": 201,
   "id": "1577363e-4e81-46f0-9015-89e97f664a70",
   "metadata": {},
   "outputs": [],
   "source": [
    "# from guidance.chat import ChatTemplate\n",
    "# class QwenChatTemplate(ChatTemplate):\n",
    "#     template_str = tok.chat_template\n",
    "#     def get_role_start(self, role_name):\n",
    "#         # adjust tokens if you use a derivative model with different tags\n",
    "#         if role_name == \"system\":\n",
    "#             return \"<|im_start|>system\\n\"\n",
    "#         elif role_name == \"user\":\n",
    "#             return \"<|im_start|>user\\n\"\n",
    "#         elif role_name == \"assistant\":\n",
    "#             return \"<|im_start|>assistant\\n\"\n",
    "#         else:\n",
    "#             raise UnsupportedRoleException(role_name, self)\n",
    "\n",
    "#     def get_role_end(self, role_name=None):\n",
    "#         # same token for every role in Qwen‑3\n",
    "#         return \"<|im_end|>\\n\""
   ]
  },
  {
   "cell_type": "code",
   "execution_count": 202,
   "id": "0302e424-a63e-4fad-ad0e-799cc798c0f8",
   "metadata": {},
   "outputs": [],
   "source": [
    "\n",
    "# model = guidance.models.Transformers(hf_model, tok, chat_template=QwenChatTemplate, echo=False)"
   ]
  },
  {
   "cell_type": "code",
   "execution_count": 203,
   "id": "e1cc4350-69c3-4f66-ba4e-1403b77e1aa4",
   "metadata": {},
   "outputs": [],
   "source": [
    "from pydantic import BaseModel, Field\n",
    "from typing import List, Any\n",
    "\n",
    "class DomainVariable(BaseModel):\n",
    "    \"\"\"Defines a single variable the LLM can use in the computation graph.\"\"\"\n",
    "    name: str = Field(..., description=\"The unique identifier for the variable.\")\n",
    "    description: str = Field(..., description=\"A detailed explanation of what this variable represents.\")\n",
    "    # Optional: You could add type hints, units, etc. for more advanced validation\n",
    "    unit: Optional[str] = Field(..., description=\"The unit of the variable\")\n",
    "    data_type : type = Field(..., description=\"The data type of the variable\")\n"
   ]
  },
  {
   "cell_type": "code",
   "execution_count": 204,
   "id": "9bfd994f-7310-4b5b-8946-72c0204efd63",
   "metadata": {},
   "outputs": [],
   "source": [
    "ALL_VARIABLES = {\n",
    "    \n",
    "    'transfer_passenger_count': DomainVariable(name='transfer_passenger_count', description='Total number of transferring passengers.', unit=None, data_type=float),\n",
    "    'airline_scheduling_season': DomainVariable(name='airline_scheduling_season', description='Whether summer/winter airline scheduling season.', unit=None, data_type=float),\n",
    "    'takeoff_aircraft_mtow_tonnes': DomainVariable(name='takeoff_aircraft_mtow_tonnes', description='The Maximum Take-Off Weight in tonnes.', unit='tonne', data_type=float),\n",
    "    'landing_aircraft_mtow_tonnes': DomainVariable(name='landing_aircraft_mtow_tonnes', description='The Maximum Landing Weight in tonnes.', unit='tonne', data_type=float),\n",
    "    \n",
    "    'parking_duration_hours': DomainVariable(\n",
    "        name='parking_duration_hours',\n",
    "        description='Total duration of parking in hours. Surcharges apply at 48 and 72 hours.',\n",
    "        unit='hours',\n",
    "        data_type=float\n",
    "    ),\n",
    "    'aircraft_stand_type': DomainVariable(\n",
    "        name='aircraft_stand_type',\n",
    "        description='The type of aircraft stand used for parking. E.g., \"Wide Contact\", \"Narrow Remote\", \"LAP\", \"Long Term Remote\".',\n",
    "        unit=None,\n",
    "        data_type=str\n",
    "    ),\n",
    "    'parking_location': DomainVariable(\n",
    "        name='parking_location',\n",
    "        description='The location of the parking stand, either \"EAP\" (East Aerodrome Parking) or \"WAP\" (West Aerodrome Parking).',\n",
    "        unit=None,\n",
    "        data_type=str\n",
    "    ),\n",
    "    'is_overnight_parking': DomainVariable(\n",
    "        name='is_overnight_parking',\n",
    "        description='True if the parking occurs during the free overnight period (2300-0600hrs).',\n",
    "        unit=None,\n",
    "        data_type=bool\n",
    "    )\n",
    "}\n",
    "# 2. Map charge types to the variable names they are allowed to use\n",
    "CHARGE_CATEGORY_VARIABLES = {\n",
    "    # --- Existing Categories ---\n",
    "    \"transfer_passenger_charge\": [\n",
    "        'transfer_passenger_count', \n",
    "        'airline_scheduling_season'\n",
    "    ],\n",
    "    \"runway_landing_charge\": [\n",
    "        'landing_aircraft_mtow_tonnes', \n",
    "        'airline_scheduling_season'\n",
    "    ],\n",
    "    \"runway_takeoff_charge\": [\n",
    "        'takeoff_aircraft_mtow_tonnes', \n",
    "        'airline_scheduling_season'\n",
    "    ],\n",
    "\n",
    "    # --- New Categories for Parking Charges ---\n",
    "    \"east_aerodrome_parking_charge\": [\n",
    "        'parking_duration_hours',\n",
    "        'aircraft_stand_type',\n",
    "        'is_overnight_parking'\n",
    "        # 'parking_location' is implicitly 'EAP' for this category\n",
    "    ],\n",
    "    \"west_aerodrome_parking_charge\": [\n",
    "        'parking_duration_hours',\n",
    "        'aircraft_stand_type',\n",
    "        'is_overnight_parking'\n",
    "        # 'parking_location' is implicitly 'WAP' for this category\n",
    "    ]\n",
    "}\n",
    "\n"
   ]
  },
  {
   "cell_type": "code",
   "execution_count": 205,
   "id": "7bb3f643-b891-4d32-a5ab-b143bd224d54",
   "metadata": {},
   "outputs": [
    {
     "name": "stdout",
     "output_type": "stream",
     "text": [
      "transfer_passenger_count\n"
     ]
    }
   ],
   "source": [
    "def create_dynamic_variable_enum(charge_category: str, charge_category_variables: dict) -> type(Enum):\n",
    "    \"\"\"\n",
    "    Creates a new Enum class containing only the variables relevant\n",
    "    to the specified charge category.\n",
    "    \"\"\"\n",
    "    variable_names = charge_category_variables.get(charge_category)\n",
    "    if not variable_names:\n",
    "        raise ValueError(f\"Unknown charge category: {charge_category}\")\n",
    "    \n",
    "    # The dictionary for the Enum must have {MEMBER_NAME: value}\n",
    "    # We'll use uppercase for the member name for convention.\n",
    "    enum_dict = {name.upper(): name for name in variable_names}\n",
    "    \n",
    "    # Create the Enum class dynamically\n",
    "    return Enum(\"Var\", enum_dict)\n",
    "\n",
    "Var = create_dynamic_variable_enum(\"transfer_passenger_charge\", CHARGE_CATEGORY_VARIABLES)\n",
    "print(Var.TRANSFER_PASSENGER_COUNT.value)"
   ]
  },
  {
   "cell_type": "code",
   "execution_count": 206,
   "id": "a76f7bde-494c-4106-bb5b-3bb5518e7cbf",
   "metadata": {},
   "outputs": [
    {
     "data": {
      "text/plain": [
       "['transfer_passenger_count', 'airline_scheduling_season']"
      ]
     },
     "execution_count": 206,
     "metadata": {},
     "output_type": "execute_result"
    }
   ],
   "source": [
    "allowed_variables = [el.value for el in list(Var)]\n",
    "allowed_variables"
   ]
  },
  {
   "cell_type": "code",
   "execution_count": 207,
   "id": "e377eb17-3b9e-4dd9-a99f-361990a05925",
   "metadata": {},
   "outputs": [],
   "source": [
    "from pydantic import BaseModel, Field, RootModel\n",
    "from typing import Union, Literal\n",
    "from enum import Enum\n",
    "\n",
    "# Separate enums for clarity and type safety\n",
    "class MathOperator(str, Enum):\n",
    "    ADD = \"ADD\"\n",
    "    MULTIPLY = \"MULTIPLY\"\n",
    "    DIVIDE = \"DIVIDE\"\n",
    "    CEIL = \"CEIL\"\n",
    "    \n",
    "class Comparator(str, Enum):\n",
    "    GREATER_THAN = \"GREATER_THAN\"\n",
    "    LESS_THAN = \"LESS_THAN\"\n",
    "    EQUAL_TO = \"EQUAL_TO\"\n",
    "\n",
    "class Units(str, Enum):\n",
    "    HOURS = \"HOURS\"\n",
    "    MINUTES = \"MINUTES\"\n",
    "    EUROS = \"EUROS\"\n",
    "    PERCENT = \"PERCENT\"\n",
    "    UNITLESS = \"UNITLESS\"\n",
    "    \n",
    "# --- Node Definitions ---\n",
    "\n",
    "class ValueNode(BaseModel):\n",
    "    type: Literal[\"VALUE\"] = \"VALUE\"\n",
    "    value: float\n",
    "    description: str\n",
    "    unit: Units\n",
    "\n",
    "class VariableNode(BaseModel):\n",
    "    type: Literal[\"VARIABLE\"] = \"VARIABLE\"\n",
    "    name: str \n",
    "    description: str\n",
    "    unit: Units\n",
    "\n",
    "class BinaryOpNode(BaseModel):\n",
    "    \"\"\"Node for mathematical operations that produce a number.\"\"\"\n",
    "    type: Literal[\"BINARY_OPERATION\"] = \"BINARY_OPERATION\"\n",
    "    operator: MathOperator\n",
    "    left: 'AnyNode'\n",
    "    right: 'AnyNode'\n",
    "\n",
    "class ComparisonNode(BaseModel):\n",
    "    \"\"\"Node for comparison operations that produce a boolean.\"\"\"\n",
    "    type: Literal[\"COMPARISON\"] = \"COMPARISON\"\n",
    "    operator: Comparator\n",
    "    left: 'AnyNode'\n",
    "    right: 'AnyNode'\n",
    "\n",
    "class ConditionalNode(BaseModel):\n",
    "    \"\"\"Node for if-then-else logic.\"\"\"\n",
    "    type: Literal[\"CONDITIONAL\"] = \"CONDITIONAL\"\n",
    "    condition: ComparisonNode # Condition must be a comparison\n",
    "    if_true: 'AnyNode'\n",
    "    if_false: 'AnyNode'\n",
    "\n",
    "# --- Recursive Setup ---\n",
    "\n",
    "AnyNode = Union[\n",
    "    ValueNode, \n",
    "    VariableNode, \n",
    "    BinaryOpNode, \n",
    "    ConditionalNode\n",
    "]\n",
    "\n",
    "# Use model_rebuild() to safely resolve all forward references\n",
    "BinaryOpNode.model_rebuild()\n",
    "ConditionalNode.model_rebuild()\n",
    "ComparisonNode.model_rebuild()\n",
    "\n",
    "class Node(RootModel):\n",
    "    root: BinaryOpNode"
   ]
  },
  {
   "cell_type": "code",
   "execution_count": 208,
   "id": "e33228fd-369c-4df3-9122-6c93d57d7053",
   "metadata": {},
   "outputs": [],
   "source": [
    "from pydantic import BaseModel, Field, field_validator\n",
    "from typing import List, Dict, Any, Optional\n",
    "from enum import Enum\n",
    "\n",
    "\n",
    "class ParameterStatus(str, Enum):\n",
    "    \"\"\"An enumeration for clear, explicit parameter statuses.\"\"\"\n",
    "    KNOWN = \"KNOWN\"\n",
    "    SYMBOLIC = \"SYMBOLIC\"\n",
    "\n",
    "class ParameterDetail(BaseModel):\n",
    "    \"\"\"A structured model to describe each parameter identified from the query.\"\"\"\n",
    "    name: str = Field(..., description=\"The name of the parameter.\")\n",
    "    status: ParameterStatus = Field(..., description=\"Whether the parameter's value is known from the query or is a symbolic variable.\")\n",
    "    value: Optional[Any] = Field(None, description=\"The actual value of the parameter, if its status is 'KNOWN'. Must be null if status is 'SYMBOLIC'.\")\n",
    "\n",
    "\n",
    "class ReasoningSchemaStep1(BaseModel):\n",
    "    query_parameters: List[ParameterDetail] = Field(\n",
    "        ...,\n",
    "        description=\"A structured list of all parameters identified from the query and their status.\"\n",
    "    )\n",
    "class ReasoningSchemaStep2(BaseModel):\n",
    "    \"\"\"\n",
    "    A simplified schema for Step 2 that captures all constants and rules as a simple list of descriptive strings.\n",
    "    \"\"\"\n",
    "    identified_constants_and_rules: List[str] = Field(\n",
    "        ...,\n",
    "        description=\"A comprehensive list of all facts, constants, and conditional rules extracted from the document that are necessary for the final calculation. Each string in the list should be a self-contained, clear statement. For example: 'The rate for a Narrow Satellite stand is €32.90 per 15 minutes' or 'A 100% surcharge is applied if parking duration is between 48 and 72 hours'.\"\n",
    "    )\n",
    "class ReasoningSchemaStep3(BaseModel):\n",
    "    synthesis_plan: str = Field(\n",
    "        ...,\n",
    "        description=\"A concise, step-by-step plan describing how the variables and constants are combined into the final computation graph.\"\n",
    "    )\n",
    "class ReasoningSchemaStep4(BaseModel):\n",
    "    rethink: str = Field(\n",
    "        ...,\n",
    "        description=\"Final check to ensure the plan correctly uses variables and constants and handles all logic from the document.\"\n",
    "    )\n"
   ]
  },
  {
   "cell_type": "code",
   "execution_count": 209,
   "id": "4f9e75d4-47b6-41b3-820f-2b3dbcb825c8",
   "metadata": {},
   "outputs": [],
   "source": [
    "@guidance\n",
    "def create_graph_with_cot(llm, allowed_variables_prompt, document, query, output_schema):\n",
    "    \n",
    "    with system():\n",
    "        llm += f\"\"\"You are an expert system that converts textual calculation rules into structured JSON expression trees.\n",
    "        You MUST think step-by-step and reason before generating the final JSON.\n",
    "        \n",
    "        **Reasoning Guidelines:**\n",
    "        1.  **Analyze Query Parameters:** Identify all relevant parameters from the user's query. For each parameter, create a structured object specifying its 'name', its 'status' ('KNOWN' if the value is given, or 'SYMBOLIC' if it's a variable), and its 'value' (or null if symbolic). For example: `[ {{\"name\": \"aircraft_stand_type\", \"status\": \"KNOWN\", \"value\": \"Wide Remote\"}}, {{\"name\": \"parking_duration_hours\", \"status\": \"SYMBOLIC\", \"value\": null}} ]`\n",
    "        **Allowed Variables for this Task:**\n",
    "        ---\n",
    "        {allowed_variables_prompt}\n",
    "        ---\n",
    "        2. **Identify All Relevant Information**: Review the document and extract every fact, constant, and conditional rule needed for the calculation. Each piece of information should be written as a clear, self-contained sentence and collected into a list of strings.\n",
    "        3.  **Synthesize Plan:** Briefly describe how you will combine these pieces into a final expression tree.\n",
    "        4. **Rethink and Finalize Approach**: Before processing with generation, rethink your progress so far and make adjustments if necessary, then finalize and proceed to generate the expression tree.\n",
    "\n",
    "        **Crucial Rule 1:** If a parameter from the 'Allowed Variables' list is given a specific value in the query, you MUST treat it as a fixed value to find constants. You MUST NOT include it as a `VARIABLE` node in the final JSON.\n",
    "        **Crucial Rule 2**: If a calculation path or value depends on the value of a symbolic variable, you MUST capture the rules for all possible values and represent this logic using CONDITIONAL nodes in the final expression tree. You MUST NOT assume a default value for the variable to simplify the logic.\n",
    "        \n",
    "        After writing your reasoning, you WILL generate the JSON object.\n",
    "\n",
    "\n",
    "        \"\"\"\n",
    "\n",
    "    with user():\n",
    "        llm += f\"\"\"\n",
    "        **Document:**\n",
    "        ---\n",
    "        {document}\n",
    "        ---\n",
    "\n",
    "        **Query:**\n",
    "        \n",
    "        Based on the document, construct the computation graph for the following request:\n",
    "        \n",
    "        \"{query}\"\n",
    "        \n",
    "        I will now follow the reasoning guidelines step-by-step before generating the final JSON.\\n\n",
    "        Step1. Analyze Query Parameters:\\n\n",
    "        \"\"\"\n",
    "\n",
    "    with assistant():\n",
    "        # llm += \"I will now follow the reasoning guidelines step-by-step before generating the final JSON.\\n\"\n",
    "        # llm += \"Step1. Analyze Query Parameters:\\n\"\n",
    "        llm += guidance.json(\n",
    "            name=\"thought1\", \n",
    "            schema=ReasoningSchemaStep1, \n",
    "            max_tokens=600)\n",
    "    \n",
    "    with user():\n",
    "        llm += \"Step2. Identify All Relevant Information:\\n\"\n",
    "\n",
    "    with assistant():\n",
    "        # llm += \"Step2. Identify All Relevant Information:\\n\"\n",
    "        llm += guidance.json(\n",
    "            name=\"thought2\", \n",
    "            schema=ReasoningSchemaStep2, \n",
    "            max_tokens=600)\n",
    "\n",
    "    with user():\n",
    "        llm += \"Step3. Synthesize Plan:\\n\"\n",
    "\n",
    "    with assistant():\n",
    "        # llm += \"Step3. Synthesize Plan:\\n\"\n",
    "        llm += guidance.json(\n",
    "            name=\"thought3\", \n",
    "            schema=ReasoningSchemaStep3, \n",
    "            max_tokens=600)\n",
    "\n",
    "    with user():\n",
    "        llm += \"Step4. Rethink and Finalize Approach:\\n\"\n",
    "\n",
    "    with assistant():\n",
    "        # llm += \"Step4. Rethink and Finalize Approach:\\n\"\n",
    "        llm += guidance.json(\n",
    "            name=\"thought4\", \n",
    "            schema=ReasoningSchemaStep4, \n",
    "            max_tokens=600)\n",
    "\n",
    "    with user():\n",
    "        llm += \"Step5. Generate the JSON object:\\n\"\n",
    "        # After thinking, it generates the JSON.\n",
    "        # llm += \"\\n\\nFinal JSON object:\\n\"\n",
    "        \n",
    "    with assistant():\n",
    "        llm += gen_json(\n",
    "            name=\"result_graph\", \n",
    "            schema=output_schema,\n",
    "            max_tokens=2000 \n",
    "        )\n",
    "        \n",
    "    return llm"
   ]
  },
  {
   "cell_type": "code",
   "execution_count": 210,
   "id": "4d910e07-d59b-480d-b317-440939d7566d",
   "metadata": {},
   "outputs": [],
   "source": [
    "\n",
    "class ComputationGraphBuilder:\n",
    "    \"\"\"\n",
    "    Orchestrates the creation of a computation graph by preparing dynamic\n",
    "    constraints and prompting the LLM.\n",
    "    \"\"\"\n",
    "    \n",
    "    def __init__(self, model):\n",
    "        \"\"\"\n",
    "        Initializes the builder with a guidance model.\n",
    "        \"\"\"\n",
    "        self.model = model\n",
    "        # Set the default LLM for all guidance programs\n",
    "        # guidance.llm = self.model\n",
    "    @timing_decorator\n",
    "    def build(self, document_content: str, query: str, charge_category: str, charge_category_variables: dict, all_variables: dict) -> dict:\n",
    "        \"\"\"\n",
    "        Generates a computation graph for a given query and document.\n",
    "\n",
    "        Args:\n",
    "            document_content: The text containing the rules.\n",
    "            query: A natural language question about what to calculate.\n",
    "            charge_category: The specific charge context used to filter variables.\n",
    "\n",
    "        Returns:\n",
    "            A dictionary representing the computation graph or an error.\n",
    "        \"\"\"\n",
    "        print(f\"--- Building graph for charge category: '{charge_category}' ---\")\n",
    "        \n",
    "        # 1. Dynamically create the filtered Enum for this specific task\n",
    "        try:\n",
    "            Var = create_dynamic_variable_enum(charge_category, charge_category_variables)\n",
    "        except ValueError as e:\n",
    "            print(f\"Error: {e}\")\n",
    "            return {\"error\": str(e)}\n",
    "\n",
    "        # 3. Create a formatted prompt string of allowed variables for the LLM\n",
    "        allowed_variables = [el.value for el in list(Var)]\n",
    "        allowed_variables_prompt = \"\\n\".join(\n",
    "            [f\"- **{v.name}**: {v.description}\" for name, v in all_variables.items() if name in allowed_variables]\n",
    "        )\n",
    "\n",
    "        try:\n",
    "            # 4. Execute the guidance program with all dynamic components\n",
    "            result_lm = self.model + create_graph_with_cot(\n",
    "                allowed_variables_prompt=allowed_variables_prompt,\n",
    "                document=document_content,\n",
    "                query=query,\n",
    "                output_schema=Node\n",
    "            )\n",
    "            \n",
    "            \n",
    "            # print(\"\\nSuccessfully generated graph:\")\n",
    "            # # Use model_dump_json for Pydantic v2\n",
    "            # print(pydantic_graph.model_dump_json(indent=2)) \n",
    "            return result_lm\n",
    "            \n",
    "        except Exception as e:\n",
    "            print(f\"\\nAn error occurred while building the graph for '{query}': {e}\")\n",
    "            return {\"error\": str(e)}"
   ]
  },
  {
   "cell_type": "code",
   "execution_count": 211,
   "id": "e0c2b98c-68d6-41f5-a262-3e0d42d7d11c",
   "metadata": {},
   "outputs": [],
   "source": [
    "import sympy\n",
    "from sympy import Symbol, Piecewise, sympify, Add, Mul, Pow\n",
    "\n",
    "def compose_expression(node: dict):\n",
    "    \"\"\"\n",
    "    Recursively parses a JSON graph into a SymPy expression,\n",
    "    preventing automatic simplification.\n",
    "\n",
    "    Args:\n",
    "        node: A dictionary representing a node in the computation graph.\n",
    "\n",
    "    Returns:\n",
    "        A non-evaluated sympy expression representing the computation.\n",
    "    \"\"\"\n",
    "\n",
    "    node_type = node.get('type')\n",
    "\n",
    "    if node_type == \"VALUE\":\n",
    "        return sympify(node['value'])\n",
    "\n",
    "    elif node_type == \"VARIABLE\":\n",
    "        return Symbol(node['name'])\n",
    "\n",
    "    elif node_type == \"BINARY_OPERATION\":\n",
    "        left = compose_expression(node['left'])\n",
    "        right = compose_expression(node['right'])\n",
    "        operator = node['operator']\n",
    "        \n",
    "        # Use class constructors with evaluate=False to prevent simplification\n",
    "        if operator == \"ADD\":\n",
    "            return Add(left, right, evaluate=False)\n",
    "        elif operator == \"MULTIPLY\":\n",
    "            return Mul(left, right, evaluate=False)\n",
    "        elif operator == \"DIVIDE\":\n",
    "            # Division (a/b) is represented as a * (b**-1)\n",
    "            power = Pow(right, -1, evaluate=False)\n",
    "            return Mul(left, power, evaluate=False)\n",
    "        else:\n",
    "            raise ValueError(f\"Unsupported binary operator: {operator}\")\n",
    "\n",
    "    elif node_type == \"COMPARISON\":\n",
    "        left = compose_expression(node['left'])\n",
    "        right = compose_expression(node['right'])\n",
    "        operator = node['operator']\n",
    "\n",
    "        if operator == \"GREATER_THAN\":\n",
    "            return left > right\n",
    "        if operator == \"LESS_THAN\":\n",
    "            return left < right\n",
    "        else:\n",
    "            raise ValueError(f\"Unsupported comparison operator: {operator}\")\n",
    "\n",
    "    elif node_type == \"CONDITIONAL\":\n",
    "        condition = compose_expression(node['condition'])\n",
    "        if_true_expr = compose_expression(node['if_true'])\n",
    "        if_false_expr = compose_expression(node['if_false'])\n",
    "        \n",
    "        return Piecewise((if_true_expr, condition), (if_false_expr, True))\n",
    "\n",
    "    else:\n",
    "        raise ValueError(f\"Unknown node type: {node_type}\")"
   ]
  },
  {
   "cell_type": "code",
   "execution_count": 212,
   "id": "c32f9032-14c4-4108-8c7e-89cd4a826589",
   "metadata": {},
   "outputs": [],
   "source": [
    "import json\n",
    "import traceback\n",
    "\n",
    "\n",
    "def create_computation_graph(model, query, charge_category, markdown_content, charge_category_variables, all_variables):\n",
    "    graph_builder = ComputationGraphBuilder(model=model)\n",
    "\n",
    "    start_time = time.perf_counter()\n",
    "    llm_structured_response = graph_builder.build(\n",
    "        document_content=markdown_content,\n",
    "        query=query,\n",
    "        charge_category=charge_category,\n",
    "        charge_category_variables=charge_category_variables,\n",
    "        all_variables=all_variables\n",
    "    )\n",
    "    end_time = time.perf_counter()\n",
    "    build_time = end_time - start_time\n",
    "\n",
    "    return llm_structured_response, build_time\n",
    "    "
   ]
  },
  {
   "cell_type": "code",
   "execution_count": 213,
   "id": "728fccaf-9a82-4e40-866a-4b7a7c8c2f2b",
   "metadata": {},
   "outputs": [],
   "source": [
    "# from sympy import Symbol\n",
    "\n",
    "# # Define the symbol that you want to replace\n",
    "# variable_to_replace = Symbol('parking_duration_hours')\n",
    "\n",
    "# # Define the value you want to substitute\n",
    "# value_to_substitute = 60\n",
    "\n",
    "# final_charge_cost = symbolic_expr.subs(variable_to_replace, value_to_substitute)\n",
    "# print(f\"The parking cost for {value_to_substitute} hours is: {final_charge_cost} EUR\") "
   ]
  },
  {
   "cell_type": "markdown",
   "id": "0be5dfa1",
   "metadata": {},
   "source": [
    "# Tyler's Evals Trial 1"
   ]
  },
  {
   "cell_type": "markdown",
   "id": "7b4e4d3e",
   "metadata": {},
   "source": [
    "## Pre-Processing"
   ]
  },
  {
   "cell_type": "code",
   "execution_count": 214,
   "id": "579e5ce7",
   "metadata": {},
   "outputs": [],
   "source": [
    "#/gpfs01/home/ppxac9/MLiS-Placement-Thesis/LLM_generated_data/synthetic_dataset/document_20250808_123124.md\n",
    "#/gpfs01/home/ppxac9/MLiS-Placement-Thesis/LLM_generated_data/synthetic_dataset/output_structure_2025-08-08_11-47-52.json\n",
    "\n",
    "with open(\"/gpfs01/home/ppxac9/MLiS-Placement-Thesis/LLM_generated_data/synthetic_dataset/document_20250808_123124.md\", \"r\") as f:\n",
    "    markdown_content = f.read()\n",
    "\n",
    "with open(\"/gpfs01/home/ppxac9/MLiS-Placement-Thesis/LLM_generated_data/synthetic_dataset/output_structure_2025-08-08_11-47-52.json\", \"r\") as f:\n",
    "    output_structure = json.load(f)\n",
    "\n",
    "# print(markdown_content)\n",
    "# print(output_structure)\n"
   ]
  },
  {
   "cell_type": "code",
   "execution_count": 215,
   "id": "2902f532",
   "metadata": {},
   "outputs": [
    {
     "data": {
      "text/plain": [
       "('run_id', '2025-08-08_11-47-52')"
      ]
     },
     "execution_count": 215,
     "metadata": {},
     "output_type": "execute_result"
    }
   ],
   "source": [
    "output_structure.popitem()"
   ]
  },
  {
   "cell_type": "code",
   "execution_count": 216,
   "id": "67c75bf4",
   "metadata": {},
   "outputs": [
    {
     "data": {
      "text/plain": [
       "dict_keys(['security_fee', 'landing_fee', 'fuel_tax', 'baggage_fee', 'passenger_service_fee', 'airport_facility_fee'])"
      ]
     },
     "execution_count": 216,
     "metadata": {},
     "output_type": "execute_result"
    }
   ],
   "source": [
    "output_structure.keys()"
   ]
  },
  {
   "cell_type": "code",
   "execution_count": 217,
   "id": "6bce291a",
   "metadata": {},
   "outputs": [],
   "source": [
    "\n",
    "charge_category_variables = {k: v['variables_used'] for k, v in output_structure.items()}"
   ]
  },
  {
   "cell_type": "code",
   "execution_count": 218,
   "id": "895393b4",
   "metadata": {},
   "outputs": [
    {
     "data": {
      "text/plain": [
       "{'security_fee': ['baggage_weight'],\n",
       " 'landing_fee': ['flight_type', 'fuel_consumption'],\n",
       " 'fuel_tax': ['flight_type', 'aircraft_weight'],\n",
       " 'baggage_fee': ['baggage_weight'],\n",
       " 'passenger_service_fee': ['aircraft_type'],\n",
       " 'airport_facility_fee': ['aircraft_type']}"
      ]
     },
     "execution_count": 218,
     "metadata": {},
     "output_type": "execute_result"
    }
   ],
   "source": [
    "charge_category_variables"
   ]
  },
  {
   "cell_type": "code",
   "execution_count": 219,
   "id": "2cd35a27",
   "metadata": {},
   "outputs": [
    {
     "data": {
      "text/plain": [
       "['aircraft_weight',\n",
       " 'baggage_weight',\n",
       " 'flight_type',\n",
       " 'aircraft_type',\n",
       " 'fuel_consumption']"
      ]
     },
     "execution_count": 219,
     "metadata": {},
     "output_type": "execute_result"
    }
   ],
   "source": [
    "list(set([i for v in output_structure.values() for i in v['variables_used'] ]))"
   ]
  },
  {
   "cell_type": "code",
   "execution_count": 220,
   "id": "5280fdfd",
   "metadata": {},
   "outputs": [],
   "source": [
    "all_variables = {\n",
    "    'aircraft_weight': DomainVariable(\n",
    "        name='aircraft_weight',\n",
    "        description='Weight of the aircraft in pounds.',\n",
    "        unit='pounds',\n",
    "        data_type=float\n",
    "    ),\n",
    "    'flight_type': DomainVariable(\n",
    "        name='flight_type',\n",
    "        description='Type of flight (e.g., Domestic, International, Charter).',\n",
    "        unit='none',\n",
    "        data_type=str\n",
    "    ),\n",
    "    'baggage_weight': DomainVariable(\n",
    "        name='baggage_weight',\n",
    "        description='Weight of baggage in kilograms.',\n",
    "        unit='kilograms',\n",
    "        data_type=float\n",
    "    ),\n",
    "    'fuel_consumption': DomainVariable(\n",
    "        name='fuel_consumption',\n",
    "        description='Fuel consumption in gallons.',\n",
    "        unit='gallons',\n",
    "        data_type=float\n",
    "    ),\n",
    "    'aircraft_type': DomainVariable(\n",
    "        name='aircraft_type',\n",
    "        description='Type of aircraft (e.g., Military, Passenger, Cargo, Private).',\n",
    "        unit='none',\n",
    "        data_type=str\n",
    "    )\n",
    "}"
   ]
  },
  {
   "cell_type": "markdown",
   "id": "64357ebb",
   "metadata": {},
   "source": [
    "## Computation Graph Creation"
   ]
  },
  {
   "cell_type": "code",
   "execution_count": 221,
   "id": "8f5cae4d",
   "metadata": {},
   "outputs": [
    {
     "name": "stdout",
     "output_type": "stream",
     "text": [
      "--- Building graph for charge category: 'security_fee' ---\n"
     ]
    },
    {
     "data": {
      "application/vnd.jupyter.widget-view+json": {
       "model_id": "815a8eb7b81f41f7ad4c1e8591eb7358",
       "version_major": 2,
       "version_minor": 0
      },
      "text/plain": [
       "StitchWidget(initial_height='auto', initial_width='100%', srcdoc='<!doctype html>\\n<html lang=\"en\">\\n<head>\\n …"
      ]
     },
     "metadata": {},
     "output_type": "display_data"
    }
   ],
   "source": [
    "query = \"Calculate the total security fee.\"\n",
    "charge_category = \"security_fee\"\n",
    "\n",
    "\n",
    "\n",
    "result = create_computation_graph(base_lm, query, charge_category, markdown_content, charge_category_variables, all_variables)\n",
    "\n"
   ]
  },
  {
   "cell_type": "markdown",
   "id": "87e60bc3",
   "metadata": {},
   "source": [
    "## Lookthrough"
   ]
  },
  {
   "cell_type": "code",
   "execution_count": 222,
   "id": "5c93a72c",
   "metadata": {},
   "outputs": [
    {
     "name": "stdout",
     "output_type": "stream",
     "text": [
      "{\n",
      "    \"query_parameters\": [\n",
      "        {\n",
      "            \"name\": \"baggage_weight\",\n",
      "            \"status\": \"SYMBOLIC\",\n",
      "            \"value\": null\n",
      "        }\n",
      "    ]\n",
      "}\n"
     ]
    }
   ],
   "source": [
    "print(json.dumps(json.loads(result[0][\"thought1\"]), indent=4))"
   ]
  },
  {
   "cell_type": "code",
   "execution_count": 223,
   "id": "b01d18da",
   "metadata": {},
   "outputs": [
    {
     "name": "stdout",
     "output_type": "stream",
     "text": [
      "{\n",
      "    \"identified_constants_and_rules\": [\n",
      "        \"The Excess Luggage Charge is applied to checked and unchecked luggage exceeding the standard weight allowance.\",\n",
      "        \"The charge is calculated based on the weight of the luggage in kilograms.\",\n",
      "        \"For a luggage weight of 5.0 to 12.0 kilograms, the charge is equal to twice the weight (i.e., 2 \\u00d7 baggage_weight).\",\n",
      "        \"For a luggage weight of 12.0 to 45.3 kilograms, the charge is equal to the weight (i.e., 1 \\u00d7 baggage_weight).\",\n",
      "        \"For any luggage weight above 45.3 kilograms, the charge is zero (i.e., 0).\",\n",
      "        \"The charge is tiered and depends on the baggage_weight range.\",\n",
      "        \"The total security fee is the Excess Luggage Charge, which is computed using the above tiered rules based on baggage_weight.\"\n",
      "    ]\n",
      "}\n"
     ]
    }
   ],
   "source": [
    "print(json.dumps(json.loads(result[0][\"thought2\"]), indent=4))"
   ]
  },
  {
   "cell_type": "code",
   "execution_count": 224,
   "id": "8554b9ad",
   "metadata": {},
   "outputs": [
    {
     "name": "stdout",
     "output_type": "stream",
     "text": [
      "{\n",
      "    \"synthesis_plan\": \"To compute the total security fee, we must evaluate the baggage_weight against the tiered charge rules specified in the 'Security Fee Charges for Passengers and Airlines' section. The logic is conditional on the value of baggage_weight: if it falls in [5.0, 12.0), the fee is 2 \\u00d7 baggage_weight; if it falls in [12.0, 45.3), the fee is 1 \\u00d7 baggage_weight; otherwise (i.e., > 45.3), the fee is 0. Since baggage_weight is symbolic (not provided with a specific value), we must represent the full conditional logic using a nested CONDITIONAL structure in the expression tree. This ensures the computation graph correctly handles all possible values of baggage_weight without assuming a default.\"\n",
      "}\n"
     ]
    }
   ],
   "source": [
    "print(json.dumps(json.loads(result[0][\"thought3\"]), indent=4))"
   ]
  },
  {
   "cell_type": "code",
   "execution_count": 225,
   "id": "dd9ee1c5",
   "metadata": {},
   "outputs": [
    {
     "name": "stdout",
     "output_type": "stream",
     "text": [
      "{\n",
      "    \"rethink\": \"The analysis correctly identifies baggage_weight as a symbolic variable, meaning its value is not fixed and must be handled generically. The charge rules are strictly tiered and mutually exclusive, so the logic must be structured as a series of nested conditionals to ensure correct evaluation across all ranges. No assumptions about baggage_weight\\u2019s value are made. The final expression tree must reflect the full conditional branching based on the three weight ranges. The charge for each range is a simple arithmetic operation (multiplication by 2, 1, or 0), which can be directly encoded. The final structure will use a CONDITIONAL node with three branches, ordered from lowest to highest threshold, ensuring correct evaluation. This approach fully complies with Crucial Rule 2: the logic is preserved for all possible values of the symbolic variable, and no simplification is applied based on assumed values. The plan is finalized and ready for JSON generation.\"\n",
      "}\n"
     ]
    }
   ],
   "source": [
    "print(json.dumps(json.loads(result[0][\"thought4\"]), indent=4))"
   ]
  },
  {
   "cell_type": "code",
   "execution_count": 227,
   "id": "20c63993",
   "metadata": {},
   "outputs": [
    {
     "name": "stdout",
     "output_type": "stream",
     "text": [
      "{\n",
      "    \"type\": \"BINARY_OPERATION\",\n",
      "    \"operator\": \"ADD\",\n",
      "    \"left\": {\n",
      "        \"type\": \"CONDITIONAL\",\n",
      "        \"condition\": {\n",
      "            \"type\": \"COMPARISON\",\n",
      "            \"operator\": \"LESS_THAN\",\n",
      "            \"left\": {\n",
      "                \"type\": \"VARIABLE\",\n",
      "                \"name\": \"baggage_weight\",\n",
      "                \"description\": \"Weight of baggage in kilograms\",\n",
      "                \"unit\": \"PERCENT\"\n",
      "            },\n",
      "            \"right\": {\n",
      "                \"type\": \"VALUE\",\n",
      "                \"value\": 5.0,\n",
      "                \"description\": \"Lower bound of first tier\",\n",
      "                \"unit\": \"PERCENT\"\n",
      "            }\n",
      "        },\n",
      "        \"if_true\": {\n",
      "            \"type\": \"VALUE\",\n",
      "            \"value\": 0,\n",
      "            \"description\": \"No charge for baggage weight below 5.0 kg\",\n",
      "            \"unit\": \"PERCENT\"\n",
      "        },\n",
      "        \"if_false\": {\n",
      "            \"type\": \"CONDITIONAL\",\n",
      "            \"condition\": {\n",
      "                \"type\": \"COMPARISON\",\n",
      "                \"operator\": \"LESS_THAN\",\n",
      "                \"left\": {\n",
      "                    \"type\": \"VARIABLE\",\n",
      "                    \"name\": \"baggage_weight\",\n",
      "                    \"description\": \"Weight of baggage in kilograms\",\n",
      "                    \"unit\": \"PERCENT\"\n",
      "                },\n",
      "                \"right\": {\n",
      "                    \"type\": \"VALUE\",\n",
      "                    \"value\": 12.0,\n",
      "                    \"description\": \"Upper bound of second tier\",\n",
      "                    \"unit\": \"PERCENT\"\n",
      "                }\n",
      "            },\n",
      "            \"if_true\": {\n",
      "                \"type\": \"BINARY_OPERATION\",\n",
      "                \"operator\": \"MULTIPLY\",\n",
      "                \"left\": {\n",
      "                    \"type\": \"VALUE\",\n",
      "                    \"value\": 2.0,\n",
      "                    \"description\": \"Multiplier for 5.0\\u201312.0 kg tier\",\n",
      "                    \"unit\": \"PERCENT\"\n",
      "                },\n",
      "                \"right\": {\n",
      "                    \"type\": \"VARIABLE\",\n",
      "                    \"name\": \"baggage_weight\",\n",
      "                    \"description\": \"Weight of baggage in kilograms\",\n",
      "                    \"unit\": \"PERCENT\"\n",
      "                }\n",
      "            },\n",
      "            \"if_false\": {\n",
      "                \"type\": \"CONDITIONAL\",\n",
      "                \"condition\": {\n",
      "                    \"type\": \"COMPARISON\",\n",
      "                    \"operator\": \"LESS_THAN\",\n",
      "                    \"left\": {\n",
      "                        \"type\": \"VARIABLE\",\n",
      "                        \"name\": \"baggage_weight\",\n",
      "                        \"description\": \"Weight of baggage in kilograms\",\n",
      "                        \"unit\": \"PERCENT\"\n",
      "                    },\n",
      "                    \"right\": {\n",
      "                        \"type\": \"VALUE\",\n",
      "                        \"value\": 45.3,\n",
      "                        \"description\": \"Upper bound of third tier\",\n",
      "                        \"unit\": \"PERCENT\"\n",
      "                    }\n",
      "                },\n",
      "                \"if_true\": {\n",
      "                    \"type\": \"BINARY_OPERATION\",\n",
      "                    \"operator\": \"MULTIPLY\",\n",
      "                    \"left\": {\n",
      "                        \"type\": \"VALUE\",\n",
      "                        \"value\": 1.0,\n",
      "                        \"description\": \"Multiplier for 12.0\\u201345.3 kg tier\",\n",
      "                        \"unit\": \"PERCENT\"\n",
      "                    },\n",
      "                    \"right\": {\n",
      "                        \"type\": \"VARIABLE\",\n",
      "                        \"name\": \"baggage_weight\",\n",
      "                        \"description\": \"Weight of baggage in kilograms\",\n",
      "                        \"unit\": \"PERCENT\"\n",
      "                    }\n",
      "                },\n",
      "                \"if_false\": {\n",
      "                    \"type\": \"VALUE\",\n",
      "                    \"value\": 0,\n",
      "                    \"description\": \"No charge for baggage weight above 45.3 kg\",\n",
      "                    \"unit\": \"PERCENT\"\n",
      "                }\n",
      "            }\n",
      "        }\n",
      "    },\n",
      "    \"right\": {\n",
      "        \"type\": \"VALUE\",\n",
      "        \"value\": 0,\n",
      "        \"description\": \"No additional base fee\",\n",
      "        \"unit\": \"PERCENT\"\n",
      "    }\n",
      "}\n"
     ]
    }
   ],
   "source": [
    "print(json.dumps(json.loads(result[0][\"result_graph\"]), indent=4))"
   ]
  },
  {
   "cell_type": "markdown",
   "id": "e13c68fd",
   "metadata": {},
   "source": [
    "# Archive"
   ]
  },
  {
   "cell_type": "code",
   "execution_count": 20,
   "id": "cddd29e5-1a7c-4e1a-b9c6-7657589ca788",
   "metadata": {},
   "outputs": [
    {
     "name": "stdout",
     "output_type": "stream",
     "text": [
      "--- Building graph for charge category: 'east_aerodrome_parking_charge' ---\n"
     ]
    },
    {
     "name": "stderr",
     "output_type": "stream",
     "text": [
      "/gpfs01/home/ppxac9/MLiS-Placement-Thesis/pipeline/.venv/lib/python3.11/site-packages/guidance/models/_transformers.py:522: UserWarning: Cache is too small. Resetting cache (no method implemented to resize cache for type <class 'transformers.cache_utils.DynamicCache'>).\n",
      "  warnings.warn(\n"
     ]
    },
    {
     "ename": "KeyboardInterrupt",
     "evalue": "",
     "output_type": "error",
     "traceback": [
      "\u001b[31m---------------------------------------------------------------------------\u001b[39m",
      "\u001b[31mKeyboardInterrupt\u001b[39m                         Traceback (most recent call last)",
      "\u001b[36mCell\u001b[39m\u001b[36m \u001b[39m\u001b[32mIn[20]\u001b[39m\u001b[32m, line 4\u001b[39m\n\u001b[32m      1\u001b[39m query = \u001b[33m\"\u001b[39m\u001b[33mCalculate the total parking charge for a Narrow Satellite stand type at East Aerodrome Parking with no overnight parking. The parking duration is a variable with unit hours.\u001b[39m\u001b[33m\"\u001b[39m\n\u001b[32m      2\u001b[39m charge_category = \u001b[33m\"\u001b[39m\u001b[33meast_aerodrome_parking_charge\u001b[39m\u001b[33m\"\u001b[39m\n\u001b[32m----> \u001b[39m\u001b[32m4\u001b[39m result = \u001b[43mcreate_computation_graph\u001b[49m\u001b[43m(\u001b[49m\u001b[43mmodel\u001b[49m\u001b[43m,\u001b[49m\u001b[43m \u001b[49m\u001b[43mquery\u001b[49m\u001b[43m,\u001b[49m\u001b[43m \u001b[49m\u001b[43mcharge_category\u001b[49m\u001b[43m,\u001b[49m\u001b[43m \u001b[49m\u001b[43mmarkdown_content\u001b[49m\u001b[43m,\u001b[49m\u001b[43m \u001b[49m\u001b[43mCHARGE_CATEGORY_VARIABLES\u001b[49m\u001b[43m,\u001b[49m\u001b[43m \u001b[49m\u001b[43mALL_VARIABLES\u001b[49m\u001b[43m)\u001b[49m\n",
      "\u001b[36mCell\u001b[39m\u001b[36m \u001b[39m\u001b[32mIn[19]\u001b[39m\u001b[32m, line 9\u001b[39m, in \u001b[36mcreate_computation_graph\u001b[39m\u001b[34m(model, query, charge_category, markdown_content, charge_category_variables, all_variables)\u001b[39m\n\u001b[32m      6\u001b[39m graph_builder = ComputationGraphBuilder(model=model)\n\u001b[32m      8\u001b[39m start_time = time.perf_counter()\n\u001b[32m----> \u001b[39m\u001b[32m9\u001b[39m llm_structured_response = \u001b[43mgraph_builder\u001b[49m\u001b[43m.\u001b[49m\u001b[43mbuild\u001b[49m\u001b[43m(\u001b[49m\n\u001b[32m     10\u001b[39m \u001b[43m    \u001b[49m\u001b[43mdocument_content\u001b[49m\u001b[43m=\u001b[49m\u001b[43mmarkdown_content\u001b[49m\u001b[43m,\u001b[49m\n\u001b[32m     11\u001b[39m \u001b[43m    \u001b[49m\u001b[43mquery\u001b[49m\u001b[43m=\u001b[49m\u001b[43mquery\u001b[49m\u001b[43m,\u001b[49m\n\u001b[32m     12\u001b[39m \u001b[43m    \u001b[49m\u001b[43mcharge_category\u001b[49m\u001b[43m=\u001b[49m\u001b[43mcharge_category\u001b[49m\u001b[43m,\u001b[49m\n\u001b[32m     13\u001b[39m \u001b[43m    \u001b[49m\u001b[43mcharge_category_variables\u001b[49m\u001b[43m=\u001b[49m\u001b[43mcharge_category_variables\u001b[49m\u001b[43m,\u001b[49m\n\u001b[32m     14\u001b[39m \u001b[43m    \u001b[49m\u001b[43mall_variables\u001b[49m\u001b[43m=\u001b[49m\u001b[43mall_variables\u001b[49m\n\u001b[32m     15\u001b[39m \u001b[43m\u001b[49m\u001b[43m)\u001b[49m\n\u001b[32m     16\u001b[39m end_time = time.perf_counter()\n\u001b[32m     17\u001b[39m build_time = end_time - start_time\n",
      "\u001b[36mFile \u001b[39m\u001b[32m~/MLiS-Placement-Thesis/pipeline/experiments/utils.py:11\u001b[39m, in \u001b[36mtiming_decorator.<locals>.wrapper\u001b[39m\u001b[34m(*args, **kwargs)\u001b[39m\n\u001b[32m      8\u001b[39m \u001b[38;5;129m@functools\u001b[39m.wraps(func)\n\u001b[32m      9\u001b[39m \u001b[38;5;28;01mdef\u001b[39;00m\u001b[38;5;250m \u001b[39m\u001b[34mwrapper\u001b[39m(*args, **kwargs):\n\u001b[32m     10\u001b[39m     start_time = time.perf_counter()  \u001b[38;5;66;03m# Start the clock\u001b[39;00m\n\u001b[32m---> \u001b[39m\u001b[32m11\u001b[39m     result = \u001b[43mfunc\u001b[49m\u001b[43m(\u001b[49m\u001b[43m*\u001b[49m\u001b[43margs\u001b[49m\u001b[43m,\u001b[49m\u001b[43m \u001b[49m\u001b[43m*\u001b[49m\u001b[43m*\u001b[49m\u001b[43mkwargs\u001b[49m\u001b[43m)\u001b[49m    \u001b[38;5;66;03m# Call the original function\u001b[39;00m\n\u001b[32m     12\u001b[39m     end_time = time.perf_counter()    \u001b[38;5;66;03m# Stop the clock\u001b[39;00m\n\u001b[32m     14\u001b[39m     execution_time = end_time - start_time\n",
      "\u001b[36mCell\u001b[39m\u001b[36m \u001b[39m\u001b[32mIn[17]\u001b[39m\u001b[32m, line 44\u001b[39m, in \u001b[36mComputationGraphBuilder.build\u001b[39m\u001b[34m(self, document_content, query, charge_category, charge_category_variables, all_variables)\u001b[39m\n\u001b[32m     38\u001b[39m allowed_variables_prompt = \u001b[33m\"\u001b[39m\u001b[38;5;130;01m\\n\u001b[39;00m\u001b[33m\"\u001b[39m.join(\n\u001b[32m     39\u001b[39m     [\u001b[33mf\u001b[39m\u001b[33m\"\u001b[39m\u001b[33m- **\u001b[39m\u001b[38;5;132;01m{\u001b[39;00mv.name\u001b[38;5;132;01m}\u001b[39;00m\u001b[33m**: \u001b[39m\u001b[38;5;132;01m{\u001b[39;00mv.description\u001b[38;5;132;01m}\u001b[39;00m\u001b[33m\"\u001b[39m \u001b[38;5;28;01mfor\u001b[39;00m name, v \u001b[38;5;129;01min\u001b[39;00m all_variables.items() \u001b[38;5;28;01mif\u001b[39;00m name \u001b[38;5;129;01min\u001b[39;00m allowed_variables]\n\u001b[32m     40\u001b[39m )\n\u001b[32m     42\u001b[39m \u001b[38;5;28;01mtry\u001b[39;00m:\n\u001b[32m     43\u001b[39m     \u001b[38;5;66;03m# 4. Execute the guidance program with all dynamic components\u001b[39;00m\n\u001b[32m---> \u001b[39m\u001b[32m44\u001b[39m     result_lm = \u001b[38;5;28;43mself\u001b[39;49m\u001b[43m.\u001b[49m\u001b[43mmodel\u001b[49m\u001b[43m \u001b[49m\u001b[43m+\u001b[49m\u001b[43m \u001b[49m\u001b[43mcreate_graph_with_cot\u001b[49m\u001b[43m(\u001b[49m\n\u001b[32m     45\u001b[39m \u001b[43m        \u001b[49m\u001b[43mallowed_variables_prompt\u001b[49m\u001b[43m=\u001b[49m\u001b[43mallowed_variables_prompt\u001b[49m\u001b[43m,\u001b[49m\n\u001b[32m     46\u001b[39m \u001b[43m        \u001b[49m\u001b[43mdocument\u001b[49m\u001b[43m=\u001b[49m\u001b[43mdocument_content\u001b[49m\u001b[43m,\u001b[49m\n\u001b[32m     47\u001b[39m \u001b[43m        \u001b[49m\u001b[43mquery\u001b[49m\u001b[43m=\u001b[49m\u001b[43mquery\u001b[49m\u001b[43m,\u001b[49m\n\u001b[32m     48\u001b[39m \u001b[43m        \u001b[49m\u001b[43moutput_schema\u001b[49m\u001b[43m=\u001b[49m\u001b[43mNode\u001b[49m\n\u001b[32m     49\u001b[39m \u001b[43m    \u001b[49m\u001b[43m)\u001b[49m\n\u001b[32m     52\u001b[39m     \u001b[38;5;66;03m# print(\"\\nSuccessfully generated graph:\")\u001b[39;00m\n\u001b[32m     53\u001b[39m     \u001b[38;5;66;03m# # Use model_dump_json for Pydantic v2\u001b[39;00m\n\u001b[32m     54\u001b[39m     \u001b[38;5;66;03m# print(pydantic_graph.model_dump_json(indent=2)) \u001b[39;00m\n\u001b[32m     55\u001b[39m     \u001b[38;5;28;01mreturn\u001b[39;00m result_lm\n",
      "\u001b[36mFile \u001b[39m\u001b[32m~/MLiS-Placement-Thesis/pipeline/.venv/lib/python3.11/site-packages/guidance/models/_base/_model.py:108\u001b[39m, in \u001b[36mModel.__add__\u001b[39m\u001b[34m(self, other)\u001b[39m\n\u001b[32m    106\u001b[39m     other = _parse_tags(other)\n\u001b[32m    107\u001b[39m \u001b[38;5;28;01mif\u001b[39;00m \u001b[38;5;28misinstance\u001b[39m(other, Function):\n\u001b[32m--> \u001b[39m\u001b[32m108\u001b[39m     \u001b[38;5;28;01mreturn\u001b[39;00m \u001b[43mother\u001b[49m\u001b[43m(\u001b[49m\u001b[38;5;28;43mself\u001b[39;49m\u001b[43m)\u001b[49m\n\u001b[32m    109\u001b[39m \u001b[38;5;28;01mif\u001b[39;00m \u001b[38;5;28misinstance\u001b[39m(other, ASTNode):\n\u001b[32m    110\u001b[39m     \u001b[38;5;28mself\u001b[39m = \u001b[38;5;28mself\u001b[39m._apply_node(other)\n",
      "\u001b[36mFile \u001b[39m\u001b[32m~/MLiS-Placement-Thesis/pipeline/.venv/lib/python3.11/site-packages/guidance/_ast.py:108\u001b[39m, in \u001b[36mFunction.__call__\u001b[39m\u001b[34m(self, model)\u001b[39m\n\u001b[32m    107\u001b[39m \u001b[38;5;28;01mdef\u001b[39;00m\u001b[38;5;250m \u001b[39m\u001b[34m__call__\u001b[39m(\u001b[38;5;28mself\u001b[39m, model):\n\u001b[32m--> \u001b[39m\u001b[32m108\u001b[39m     model = \u001b[38;5;28;43mself\u001b[39;49m\u001b[43m.\u001b[49m\u001b[43mf\u001b[49m\u001b[43m(\u001b[49m\u001b[43mmodel\u001b[49m\u001b[43m,\u001b[49m\u001b[43m \u001b[49m\u001b[43m*\u001b[49m\u001b[38;5;28;43mself\u001b[39;49m\u001b[43m.\u001b[49m\u001b[43margs\u001b[49m\u001b[43m,\u001b[49m\u001b[43m \u001b[49m\u001b[43m*\u001b[49m\u001b[43m*\u001b[49m\u001b[38;5;28;43mself\u001b[39;49m\u001b[43m.\u001b[49m\u001b[43mkwargs\u001b[49m\u001b[43m)\u001b[49m\n\u001b[32m    109\u001b[39m     \u001b[38;5;28;01mif\u001b[39;00m model \u001b[38;5;129;01mis\u001b[39;00m \u001b[38;5;28;01mNone\u001b[39;00m:\n\u001b[32m    110\u001b[39m         \u001b[38;5;28;01mraise\u001b[39;00m \u001b[38;5;167;01mException\u001b[39;00m(\n\u001b[32m    111\u001b[39m             \u001b[33mf\u001b[39m\u001b[33m\"\u001b[39m\u001b[33mThe guidance function `\u001b[39m\u001b[38;5;132;01m{\u001b[39;00m\u001b[38;5;28mself\u001b[39m.f.\u001b[34m__name__\u001b[39m\u001b[38;5;132;01m}\u001b[39;00m\u001b[33m` did not return a model object! You need to return an updated model object at the end of your guidance function.\u001b[39m\u001b[33m\"\u001b[39m\n\u001b[32m    112\u001b[39m         )\n",
      "\u001b[36mCell\u001b[39m\u001b[36m \u001b[39m\u001b[32mIn[16]\u001b[39m\u001b[32m, line 50\u001b[39m, in \u001b[36mcreate_graph_with_cot\u001b[39m\u001b[34m(llm, allowed_variables_prompt, document, query, output_schema)\u001b[39m\n\u001b[32m     44\u001b[39m llm += gen_json(\n\u001b[32m     45\u001b[39m     name=\u001b[33m\"\u001b[39m\u001b[33mthought1\u001b[39m\u001b[33m\"\u001b[39m, \n\u001b[32m     46\u001b[39m     schema=ReasoningSchemaStep1, \n\u001b[32m     47\u001b[39m     max_tokens=\u001b[32m600\u001b[39m)\n\u001b[32m     49\u001b[39m llm += \u001b[33m\"\u001b[39m\u001b[33mStep2. Identify All Relevant Information:\u001b[39m\u001b[38;5;130;01m\\n\u001b[39;00m\u001b[33m\"\u001b[39m\n\u001b[32m---> \u001b[39m\u001b[32m50\u001b[39m \u001b[43mllm\u001b[49m\u001b[43m \u001b[49m\u001b[43m+\u001b[49m\u001b[43m=\u001b[49m\u001b[43m \u001b[49m\u001b[43mgen_json\u001b[49m\u001b[43m(\u001b[49m\n\u001b[32m     51\u001b[39m \u001b[43m    \u001b[49m\u001b[43mname\u001b[49m\u001b[43m=\u001b[49m\u001b[33;43m\"\u001b[39;49m\u001b[33;43mthought2\u001b[39;49m\u001b[33;43m\"\u001b[39;49m\u001b[43m,\u001b[49m\u001b[43m \u001b[49m\n\u001b[32m     52\u001b[39m \u001b[43m    \u001b[49m\u001b[43mschema\u001b[49m\u001b[43m=\u001b[49m\u001b[43mReasoningSchemaStep2\u001b[49m\u001b[43m,\u001b[49m\u001b[43m \u001b[49m\n\u001b[32m     53\u001b[39m \u001b[43m    \u001b[49m\u001b[43mmax_tokens\u001b[49m\u001b[43m=\u001b[49m\u001b[32;43m600\u001b[39;49m\u001b[43m)\u001b[49m\n\u001b[32m     55\u001b[39m llm += \u001b[33m\"\u001b[39m\u001b[33mStep3. Synthesize Plan:\u001b[39m\u001b[38;5;130;01m\\n\u001b[39;00m\u001b[33m\"\u001b[39m\n\u001b[32m     56\u001b[39m llm += gen_json(\n\u001b[32m     57\u001b[39m     name=\u001b[33m\"\u001b[39m\u001b[33mthought3\u001b[39m\u001b[33m\"\u001b[39m, \n\u001b[32m     58\u001b[39m     schema=ReasoningSchemaStep3, \n\u001b[32m     59\u001b[39m     max_tokens=\u001b[32m600\u001b[39m)\n",
      "\u001b[36mFile \u001b[39m\u001b[32m~/MLiS-Placement-Thesis/pipeline/.venv/lib/python3.11/site-packages/guidance/models/_base/_model.py:110\u001b[39m, in \u001b[36mModel.__add__\u001b[39m\u001b[34m(self, other)\u001b[39m\n\u001b[32m    108\u001b[39m     \u001b[38;5;28;01mreturn\u001b[39;00m other(\u001b[38;5;28mself\u001b[39m)\n\u001b[32m    109\u001b[39m \u001b[38;5;28;01mif\u001b[39;00m \u001b[38;5;28misinstance\u001b[39m(other, ASTNode):\n\u001b[32m--> \u001b[39m\u001b[32m110\u001b[39m     \u001b[38;5;28mself\u001b[39m = \u001b[38;5;28;43mself\u001b[39;49m\u001b[43m.\u001b[49m\u001b[43m_apply_node\u001b[49m\u001b[43m(\u001b[49m\u001b[43mother\u001b[49m\u001b[43m)\u001b[49m\n\u001b[32m    111\u001b[39m     \u001b[38;5;28mself\u001b[39m = \u001b[38;5;28mself\u001b[39m._update_open_block_captures()\n\u001b[32m    112\u001b[39m     \u001b[38;5;28;01mreturn\u001b[39;00m \u001b[38;5;28mself\u001b[39m\n",
      "\u001b[36mFile \u001b[39m\u001b[32m~/MLiS-Placement-Thesis/pipeline/.venv/lib/python3.11/site-packages/guidance/models/_base/_model.py:139\u001b[39m, in \u001b[36mModel._apply_node\u001b[39m\u001b[34m(self, node)\u001b[39m\n\u001b[32m    136\u001b[39m     \u001b[38;5;28mself\u001b[39m._update_trace_node(\u001b[38;5;28mself\u001b[39m._id, \u001b[38;5;28mself\u001b[39m._parent_id, StatelessGuidanceInput(value=node), \u001b[38;5;28mself\u001b[39m.echo)\n\u001b[32m    138\u001b[39m \u001b[38;5;66;03m# NOTE: passing a copy of the sampling parameters to avoid modifying the original\u001b[39;00m\n\u001b[32m--> \u001b[39m\u001b[32m139\u001b[39m \u001b[43m\u001b[49m\u001b[38;5;28;43;01mfor\u001b[39;49;00m\u001b[43m \u001b[49m\u001b[43mi\u001b[49m\u001b[43m,\u001b[49m\u001b[43m \u001b[49m\u001b[43moutput_attr\u001b[49m\u001b[43m \u001b[49m\u001b[38;5;129;43;01min\u001b[39;49;00m\u001b[43m \u001b[49m\u001b[38;5;28;43menumerate\u001b[39;49m\u001b[43m(\u001b[49m\u001b[38;5;28;43mself\u001b[39;49m\u001b[43m.\u001b[49m\u001b[43m_interpreter\u001b[49m\u001b[43m.\u001b[49m\u001b[43mrun\u001b[49m\u001b[43m(\u001b[49m\u001b[43mnode\u001b[49m\u001b[43m,\u001b[49m\u001b[43m \u001b[49m\u001b[43msampling_params\u001b[49m\u001b[43m=\u001b[49m\u001b[38;5;28;43mself\u001b[39;49m\u001b[43m.\u001b[49m\u001b[43msampling_params\u001b[49m\u001b[43m.\u001b[49m\u001b[43mcopy\u001b[49m\u001b[43m(\u001b[49m\u001b[43m)\u001b[49m\u001b[43m)\u001b[49m\u001b[43m)\u001b[49m\u001b[43m:\u001b[49m\n\u001b[32m    140\u001b[39m \u001b[43m    \u001b[49m\u001b[38;5;28;43;01mif\u001b[39;49;00m\u001b[43m \u001b[49m\u001b[43mi\u001b[49m\u001b[43m \u001b[49m\u001b[43m!=\u001b[49m\u001b[43m \u001b[49m\u001b[32;43m0\u001b[39;49m\u001b[43m:\u001b[49m\n\u001b[32m    141\u001b[39m \u001b[43m        \u001b[49m\u001b[38;5;66;43;03m# On the first iteration, we already have a fresh trace node\u001b[39;49;00m\n\u001b[32m    142\u001b[39m \u001b[43m        \u001b[49m\u001b[38;5;66;43;03m# TODO: should be allowed to associate multiple output_attrs with a single input node?\u001b[39;49;00m\n\u001b[32m    143\u001b[39m \u001b[43m        \u001b[49m\u001b[38;5;66;43;03m# TODO: put this responsibility on the client in the case that it breaks a single input\u001b[39;49;00m\n\u001b[32m    144\u001b[39m \u001b[43m        \u001b[49m\u001b[38;5;66;43;03m# node into multiple input nodes to be handled sequentially?\u001b[39;49;00m\n\u001b[32m    145\u001b[39m \u001b[43m        \u001b[49m\u001b[38;5;28;43mself\u001b[39;49m\u001b[43m.\u001b[49m\u001b[43m_parent_id\u001b[49m\u001b[43m \u001b[49m\u001b[43m=\u001b[49m\u001b[43m \u001b[49m\u001b[38;5;28;43mself\u001b[39;49m\u001b[43m.\u001b[49m\u001b[43m_id\u001b[49m\n",
      "\u001b[36mFile \u001b[39m\u001b[32m~/MLiS-Placement-Thesis/pipeline/.venv/lib/python3.11/site-packages/guidance/models/_base/_interpreter.py:36\u001b[39m, in \u001b[36mInterpreter.run\u001b[39m\u001b[34m(self, node, **kwargs)\u001b[39m\n\u001b[32m     35\u001b[39m \u001b[38;5;28;01mdef\u001b[39;00m\u001b[38;5;250m \u001b[39m\u001b[34mrun\u001b[39m(\u001b[38;5;28mself\u001b[39m, node: ASTNode, **kwargs) -> Iterator[OutputAttr]:\n\u001b[32m---> \u001b[39m\u001b[32m36\u001b[39m     \u001b[38;5;28;01myield from\u001b[39;00m node.simplify()._run(\u001b[38;5;28mself\u001b[39m, **kwargs)\n",
      "\u001b[36mFile \u001b[39m\u001b[32m~/MLiS-Placement-Thesis/pipeline/.venv/lib/python3.11/site-packages/guidance/models/_engine/_interpreter.py:75\u001b[39m, in \u001b[36mEngineInterpreter.grammar\u001b[39m\u001b[34m(self, node, **kwargs)\u001b[39m\n\u001b[32m     73\u001b[39m \u001b[38;5;28;01mwhile\u001b[39;00m \u001b[38;5;28;01mTrue\u001b[39;00m:\n\u001b[32m     74\u001b[39m     \u001b[38;5;28;01mtry\u001b[39;00m:\n\u001b[32m---> \u001b[39m\u001b[32m75\u001b[39m         chunk = \u001b[38;5;28mnext\u001b[39m(engine_gen)\n\u001b[32m     76\u001b[39m     \u001b[38;5;28;01mexcept\u001b[39;00m \u001b[38;5;167;01mStopIteration\u001b[39;00m \u001b[38;5;28;01mas\u001b[39;00m e:\n\u001b[32m     77\u001b[39m         \u001b[38;5;28;01mif\u001b[39;00m \u001b[38;5;129;01mnot\u001b[39;00m \u001b[38;5;28misinstance\u001b[39m(e.value, TokenUsage):\n",
      "\u001b[36mFile \u001b[39m\u001b[32m~/MLiS-Placement-Thesis/pipeline/.venv/lib/python3.11/site-packages/guidance/models/_engine/_engine.py:179\u001b[39m, in \u001b[36mEngine.__call__\u001b[39m\u001b[34m(self, state, grammar, ensure_bos_token, sampling_params)\u001b[39m\n\u001b[32m    177\u001b[39m \u001b[38;5;28;01melse\u001b[39;00m:\n\u001b[32m    178\u001b[39m     t1 = time.time()\n\u001b[32m--> \u001b[39m\u001b[32m179\u001b[39m     logits_output = \u001b[38;5;28;43mself\u001b[39;49m\u001b[43m.\u001b[49m\u001b[43mget_logits\u001b[49m\u001b[43m(\u001b[49m\n\u001b[32m    180\u001b[39m \u001b[43m        \u001b[49m\u001b[43mtoken_ids\u001b[49m\u001b[43m=\u001b[49m\u001b[43mtokens\u001b[49m\u001b[43m,\u001b[49m\u001b[43m \u001b[49m\u001b[43minclude_all_uncached_tokens\u001b[49m\u001b[43m=\u001b[49m\u001b[38;5;28;43mself\u001b[39;49m\u001b[43m.\u001b[49m\u001b[43m_enable_token_probabilities\u001b[49m\n\u001b[32m    181\u001b[39m \u001b[43m    \u001b[49m\u001b[43m)\u001b[49m\n\u001b[32m    182\u001b[39m     logits = logits_output[\u001b[33m\"\u001b[39m\u001b[33mlogits\u001b[39m\u001b[33m\"\u001b[39m]\n\u001b[32m    183\u001b[39m     usage.input_tokens += logits_output[\u001b[33m\"\u001b[39m\u001b[33mn_tokens\u001b[39m\u001b[33m\"\u001b[39m]\n",
      "\u001b[36mFile \u001b[39m\u001b[32m~/MLiS-Placement-Thesis/pipeline/.venv/lib/python3.11/site-packages/guidance/models/_transformers.py:562\u001b[39m, in \u001b[36mTransformersEngine.get_logits\u001b[39m\u001b[34m(self, token_ids, include_all_uncached_tokens)\u001b[39m\n\u001b[32m    559\u001b[39m \u001b[38;5;28;01mwith\u001b[39;00m torch.no_grad():\n\u001b[32m    560\u001b[39m     \u001b[38;5;66;03m# Not all models support batched tokens for some reason\u001b[39;00m\n\u001b[32m    561\u001b[39m     \u001b[38;5;28;01mtry\u001b[39;00m:\n\u001b[32m--> \u001b[39m\u001b[32m562\u001b[39m         model_out = \u001b[38;5;28;43mself\u001b[39;49m\u001b[43m.\u001b[49m\u001b[43mmodel_obj\u001b[49m\u001b[43m(\u001b[49m\n\u001b[32m    563\u001b[39m \u001b[43m            \u001b[49m\u001b[43minput_ids\u001b[49m\u001b[43m=\u001b[49m\u001b[43mtorch\u001b[49m\u001b[43m.\u001b[49m\u001b[43mtensor\u001b[49m\u001b[43m(\u001b[49m\u001b[43mnew_token_ids\u001b[49m\u001b[43m)\u001b[49m\u001b[43m.\u001b[49m\u001b[43munsqueeze\u001b[49m\u001b[43m(\u001b[49m\u001b[32;43m0\u001b[39;49m\u001b[43m)\u001b[49m\u001b[43m.\u001b[49m\u001b[43mto\u001b[49m\u001b[43m(\u001b[49m\u001b[38;5;28;43mself\u001b[39;49m\u001b[43m.\u001b[49m\u001b[43mdevice\u001b[49m\u001b[43m)\u001b[49m\u001b[43m,\u001b[49m\n\u001b[32m    564\u001b[39m \u001b[43m            \u001b[49m\u001b[43mpast_key_values\u001b[49m\u001b[43m=\u001b[49m\u001b[38;5;28;43mself\u001b[39;49m\u001b[43m.\u001b[49m\u001b[43m_past_key_values\u001b[49m\u001b[43m,\u001b[49m\n\u001b[32m    565\u001b[39m \u001b[43m            \u001b[49m\u001b[43muse_cache\u001b[49m\u001b[43m=\u001b[49m\u001b[38;5;28;43;01mTrue\u001b[39;49;00m\u001b[43m,\u001b[49m\n\u001b[32m    566\u001b[39m \u001b[43m            \u001b[49m\u001b[43mposition_ids\u001b[49m\u001b[43m=\u001b[49m\u001b[43mtorch\u001b[49m\u001b[43m.\u001b[49m\u001b[43marange\u001b[49m\u001b[43m(\u001b[49m\u001b[43mpast_length\u001b[49m\u001b[43m,\u001b[49m\u001b[43m \u001b[49m\u001b[43mpast_length\u001b[49m\u001b[43m \u001b[49m\u001b[43m+\u001b[49m\u001b[43m \u001b[49m\u001b[38;5;28;43mlen\u001b[39;49m\u001b[43m(\u001b[49m\u001b[43mnew_token_ids\u001b[49m\u001b[43m)\u001b[49m\u001b[43m)\u001b[49m\n\u001b[32m    567\u001b[39m \u001b[43m            \u001b[49m\u001b[43m.\u001b[49m\u001b[43munsqueeze\u001b[49m\u001b[43m(\u001b[49m\u001b[32;43m0\u001b[39;49m\u001b[43m)\u001b[49m\n\u001b[32m    568\u001b[39m \u001b[43m            \u001b[49m\u001b[43m.\u001b[49m\u001b[43mto\u001b[49m\u001b[43m(\u001b[49m\u001b[38;5;28;43mself\u001b[39;49m\u001b[43m.\u001b[49m\u001b[43mdevice\u001b[49m\u001b[43m)\u001b[49m\u001b[43m,\u001b[49m\n\u001b[32m    569\u001b[39m \u001b[43m            \u001b[49m\u001b[43mattention_mask\u001b[49m\u001b[43m=\u001b[49m\u001b[43mtorch\u001b[49m\u001b[43m.\u001b[49m\u001b[43mones\u001b[49m\u001b[43m(\u001b[49m\u001b[32;43m1\u001b[39;49m\u001b[43m,\u001b[49m\u001b[43m \u001b[49m\u001b[43mpast_length\u001b[49m\u001b[43m \u001b[49m\u001b[43m+\u001b[49m\u001b[43m \u001b[49m\u001b[38;5;28;43mlen\u001b[39;49m\u001b[43m(\u001b[49m\u001b[43mnew_token_ids\u001b[49m\u001b[43m)\u001b[49m\u001b[43m)\u001b[49m\u001b[43m.\u001b[49m\u001b[43mto\u001b[49m\u001b[43m(\u001b[49m\u001b[38;5;28;43mself\u001b[39;49m\u001b[43m.\u001b[49m\u001b[43mdevice\u001b[49m\u001b[43m)\u001b[49m\u001b[43m,\u001b[49m\n\u001b[32m    570\u001b[39m \u001b[43m            \u001b[49m\u001b[43mreturn_dict\u001b[49m\u001b[43m=\u001b[49m\u001b[38;5;28;43;01mTrue\u001b[39;49;00m\u001b[43m,\u001b[49m\n\u001b[32m    571\u001b[39m \u001b[43m            \u001b[49m\u001b[43moutput_attentions\u001b[49m\u001b[43m=\u001b[49m\u001b[38;5;28;43;01mFalse\u001b[39;49;00m\u001b[43m,\u001b[49m\n\u001b[32m    572\u001b[39m \u001b[43m            \u001b[49m\u001b[43moutput_hidden_states\u001b[49m\u001b[43m=\u001b[49m\u001b[38;5;28;43;01mFalse\u001b[39;49;00m\u001b[43m,\u001b[49m\n\u001b[32m    573\u001b[39m \u001b[43m        \u001b[49m\u001b[43m)\u001b[49m\n\u001b[32m    574\u001b[39m         \u001b[38;5;66;03m# Need to add special truncating logic here for weird models that have a different output size than tokenizer vocab\u001b[39;00m\n\u001b[32m    575\u001b[39m         logits_for_each_batch.append(model_out.logits[\u001b[32m0\u001b[39m, :, : \u001b[38;5;28mself\u001b[39m.tokenizer._vocab_size].float().cpu().numpy())\n",
      "\u001b[36mFile \u001b[39m\u001b[32m~/MLiS-Placement-Thesis/pipeline/.venv/lib/python3.11/site-packages/torch/nn/modules/module.py:1751\u001b[39m, in \u001b[36mModule._wrapped_call_impl\u001b[39m\u001b[34m(self, *args, **kwargs)\u001b[39m\n\u001b[32m   1749\u001b[39m     \u001b[38;5;28;01mreturn\u001b[39;00m \u001b[38;5;28mself\u001b[39m._compiled_call_impl(*args, **kwargs)  \u001b[38;5;66;03m# type: ignore[misc]\u001b[39;00m\n\u001b[32m   1750\u001b[39m \u001b[38;5;28;01melse\u001b[39;00m:\n\u001b[32m-> \u001b[39m\u001b[32m1751\u001b[39m     \u001b[38;5;28;01mreturn\u001b[39;00m \u001b[38;5;28;43mself\u001b[39;49m\u001b[43m.\u001b[49m\u001b[43m_call_impl\u001b[49m\u001b[43m(\u001b[49m\u001b[43m*\u001b[49m\u001b[43margs\u001b[49m\u001b[43m,\u001b[49m\u001b[43m \u001b[49m\u001b[43m*\u001b[49m\u001b[43m*\u001b[49m\u001b[43mkwargs\u001b[49m\u001b[43m)\u001b[49m\n",
      "\u001b[36mFile \u001b[39m\u001b[32m~/MLiS-Placement-Thesis/pipeline/.venv/lib/python3.11/site-packages/torch/nn/modules/module.py:1762\u001b[39m, in \u001b[36mModule._call_impl\u001b[39m\u001b[34m(self, *args, **kwargs)\u001b[39m\n\u001b[32m   1757\u001b[39m \u001b[38;5;66;03m# If we don't have any hooks, we want to skip the rest of the logic in\u001b[39;00m\n\u001b[32m   1758\u001b[39m \u001b[38;5;66;03m# this function, and just call forward.\u001b[39;00m\n\u001b[32m   1759\u001b[39m \u001b[38;5;28;01mif\u001b[39;00m \u001b[38;5;129;01mnot\u001b[39;00m (\u001b[38;5;28mself\u001b[39m._backward_hooks \u001b[38;5;129;01mor\u001b[39;00m \u001b[38;5;28mself\u001b[39m._backward_pre_hooks \u001b[38;5;129;01mor\u001b[39;00m \u001b[38;5;28mself\u001b[39m._forward_hooks \u001b[38;5;129;01mor\u001b[39;00m \u001b[38;5;28mself\u001b[39m._forward_pre_hooks\n\u001b[32m   1760\u001b[39m         \u001b[38;5;129;01mor\u001b[39;00m _global_backward_pre_hooks \u001b[38;5;129;01mor\u001b[39;00m _global_backward_hooks\n\u001b[32m   1761\u001b[39m         \u001b[38;5;129;01mor\u001b[39;00m _global_forward_hooks \u001b[38;5;129;01mor\u001b[39;00m _global_forward_pre_hooks):\n\u001b[32m-> \u001b[39m\u001b[32m1762\u001b[39m     \u001b[38;5;28;01mreturn\u001b[39;00m \u001b[43mforward_call\u001b[49m\u001b[43m(\u001b[49m\u001b[43m*\u001b[49m\u001b[43margs\u001b[49m\u001b[43m,\u001b[49m\u001b[43m \u001b[49m\u001b[43m*\u001b[49m\u001b[43m*\u001b[49m\u001b[43mkwargs\u001b[49m\u001b[43m)\u001b[49m\n\u001b[32m   1764\u001b[39m result = \u001b[38;5;28;01mNone\u001b[39;00m\n\u001b[32m   1765\u001b[39m called_always_called_hooks = \u001b[38;5;28mset\u001b[39m()\n",
      "\u001b[36mFile \u001b[39m\u001b[32m~/MLiS-Placement-Thesis/pipeline/.venv/lib/python3.11/site-packages/accelerate/hooks.py:175\u001b[39m, in \u001b[36madd_hook_to_module.<locals>.new_forward\u001b[39m\u001b[34m(module, *args, **kwargs)\u001b[39m\n\u001b[32m    173\u001b[39m         output = module._old_forward(*args, **kwargs)\n\u001b[32m    174\u001b[39m \u001b[38;5;28;01melse\u001b[39;00m:\n\u001b[32m--> \u001b[39m\u001b[32m175\u001b[39m     output = \u001b[43mmodule\u001b[49m\u001b[43m.\u001b[49m\u001b[43m_old_forward\u001b[49m\u001b[43m(\u001b[49m\u001b[43m*\u001b[49m\u001b[43margs\u001b[49m\u001b[43m,\u001b[49m\u001b[43m \u001b[49m\u001b[43m*\u001b[49m\u001b[43m*\u001b[49m\u001b[43mkwargs\u001b[49m\u001b[43m)\u001b[49m\n\u001b[32m    176\u001b[39m \u001b[38;5;28;01mreturn\u001b[39;00m module._hf_hook.post_forward(module, output)\n",
      "\u001b[36mFile \u001b[39m\u001b[32m~/MLiS-Placement-Thesis/pipeline/.venv/lib/python3.11/site-packages/transformers/utils/generic.py:961\u001b[39m, in \u001b[36mcan_return_tuple.<locals>.wrapper\u001b[39m\u001b[34m(self, *args, **kwargs)\u001b[39m\n\u001b[32m    959\u001b[39m \u001b[38;5;28;01mif\u001b[39;00m return_dict_passed \u001b[38;5;129;01mis\u001b[39;00m \u001b[38;5;129;01mnot\u001b[39;00m \u001b[38;5;28;01mNone\u001b[39;00m:\n\u001b[32m    960\u001b[39m     return_dict = return_dict_passed\n\u001b[32m--> \u001b[39m\u001b[32m961\u001b[39m output = \u001b[43mfunc\u001b[49m\u001b[43m(\u001b[49m\u001b[38;5;28;43mself\u001b[39;49m\u001b[43m,\u001b[49m\u001b[43m \u001b[49m\u001b[43m*\u001b[49m\u001b[43margs\u001b[49m\u001b[43m,\u001b[49m\u001b[43m \u001b[49m\u001b[43m*\u001b[49m\u001b[43m*\u001b[49m\u001b[43mkwargs\u001b[49m\u001b[43m)\u001b[49m\n\u001b[32m    962\u001b[39m \u001b[38;5;28;01mif\u001b[39;00m \u001b[38;5;129;01mnot\u001b[39;00m return_dict \u001b[38;5;129;01mand\u001b[39;00m \u001b[38;5;129;01mnot\u001b[39;00m \u001b[38;5;28misinstance\u001b[39m(output, \u001b[38;5;28mtuple\u001b[39m):\n\u001b[32m    963\u001b[39m     output = output.to_tuple()\n",
      "\u001b[36mFile \u001b[39m\u001b[32m~/MLiS-Placement-Thesis/pipeline/.venv/lib/python3.11/site-packages/transformers/models/qwen3_moe/modeling_qwen3_moe.py:651\u001b[39m, in \u001b[36mQwen3MoeForCausalLM.forward\u001b[39m\u001b[34m(self, input_ids, attention_mask, position_ids, past_key_values, inputs_embeds, labels, use_cache, output_router_logits, cache_position, logits_to_keep, **kwargs)\u001b[39m\n\u001b[32m    646\u001b[39m output_router_logits = (\n\u001b[32m    647\u001b[39m     output_router_logits \u001b[38;5;28;01mif\u001b[39;00m output_router_logits \u001b[38;5;129;01mis\u001b[39;00m \u001b[38;5;129;01mnot\u001b[39;00m \u001b[38;5;28;01mNone\u001b[39;00m \u001b[38;5;28;01melse\u001b[39;00m \u001b[38;5;28mself\u001b[39m.config.output_router_logits\n\u001b[32m    648\u001b[39m )\n\u001b[32m    650\u001b[39m \u001b[38;5;66;03m# decoder outputs consists of (dec_features, layer_state, dec_hidden, dec_attn)\u001b[39;00m\n\u001b[32m--> \u001b[39m\u001b[32m651\u001b[39m outputs: MoeModelOutputWithPast = \u001b[38;5;28;43mself\u001b[39;49m\u001b[43m.\u001b[49m\u001b[43mmodel\u001b[49m\u001b[43m(\u001b[49m\n\u001b[32m    652\u001b[39m \u001b[43m    \u001b[49m\u001b[43minput_ids\u001b[49m\u001b[43m=\u001b[49m\u001b[43minput_ids\u001b[49m\u001b[43m,\u001b[49m\n\u001b[32m    653\u001b[39m \u001b[43m    \u001b[49m\u001b[43mattention_mask\u001b[49m\u001b[43m=\u001b[49m\u001b[43mattention_mask\u001b[49m\u001b[43m,\u001b[49m\n\u001b[32m    654\u001b[39m \u001b[43m    \u001b[49m\u001b[43mposition_ids\u001b[49m\u001b[43m=\u001b[49m\u001b[43mposition_ids\u001b[49m\u001b[43m,\u001b[49m\n\u001b[32m    655\u001b[39m \u001b[43m    \u001b[49m\u001b[43mpast_key_values\u001b[49m\u001b[43m=\u001b[49m\u001b[43mpast_key_values\u001b[49m\u001b[43m,\u001b[49m\n\u001b[32m    656\u001b[39m \u001b[43m    \u001b[49m\u001b[43minputs_embeds\u001b[49m\u001b[43m=\u001b[49m\u001b[43minputs_embeds\u001b[49m\u001b[43m,\u001b[49m\n\u001b[32m    657\u001b[39m \u001b[43m    \u001b[49m\u001b[43muse_cache\u001b[49m\u001b[43m=\u001b[49m\u001b[43muse_cache\u001b[49m\u001b[43m,\u001b[49m\n\u001b[32m    658\u001b[39m \u001b[43m    \u001b[49m\u001b[43moutput_router_logits\u001b[49m\u001b[43m=\u001b[49m\u001b[43moutput_router_logits\u001b[49m\u001b[43m,\u001b[49m\n\u001b[32m    659\u001b[39m \u001b[43m    \u001b[49m\u001b[43mcache_position\u001b[49m\u001b[43m=\u001b[49m\u001b[43mcache_position\u001b[49m\u001b[43m,\u001b[49m\n\u001b[32m    660\u001b[39m \u001b[43m    \u001b[49m\u001b[43m*\u001b[49m\u001b[43m*\u001b[49m\u001b[43mkwargs\u001b[49m\u001b[43m,\u001b[49m\n\u001b[32m    661\u001b[39m \u001b[43m\u001b[49m\u001b[43m)\u001b[49m\n\u001b[32m    663\u001b[39m hidden_states = outputs.last_hidden_state\n\u001b[32m    664\u001b[39m \u001b[38;5;66;03m# Only compute necessary logits, and do not upcast them to float if we are not computing the loss\u001b[39;00m\n",
      "\u001b[36mFile \u001b[39m\u001b[32m~/MLiS-Placement-Thesis/pipeline/.venv/lib/python3.11/site-packages/torch/nn/modules/module.py:1751\u001b[39m, in \u001b[36mModule._wrapped_call_impl\u001b[39m\u001b[34m(self, *args, **kwargs)\u001b[39m\n\u001b[32m   1749\u001b[39m     \u001b[38;5;28;01mreturn\u001b[39;00m \u001b[38;5;28mself\u001b[39m._compiled_call_impl(*args, **kwargs)  \u001b[38;5;66;03m# type: ignore[misc]\u001b[39;00m\n\u001b[32m   1750\u001b[39m \u001b[38;5;28;01melse\u001b[39;00m:\n\u001b[32m-> \u001b[39m\u001b[32m1751\u001b[39m     \u001b[38;5;28;01mreturn\u001b[39;00m \u001b[38;5;28;43mself\u001b[39;49m\u001b[43m.\u001b[49m\u001b[43m_call_impl\u001b[49m\u001b[43m(\u001b[49m\u001b[43m*\u001b[49m\u001b[43margs\u001b[49m\u001b[43m,\u001b[49m\u001b[43m \u001b[49m\u001b[43m*\u001b[49m\u001b[43m*\u001b[49m\u001b[43mkwargs\u001b[49m\u001b[43m)\u001b[49m\n",
      "\u001b[36mFile \u001b[39m\u001b[32m~/MLiS-Placement-Thesis/pipeline/.venv/lib/python3.11/site-packages/torch/nn/modules/module.py:1762\u001b[39m, in \u001b[36mModule._call_impl\u001b[39m\u001b[34m(self, *args, **kwargs)\u001b[39m\n\u001b[32m   1757\u001b[39m \u001b[38;5;66;03m# If we don't have any hooks, we want to skip the rest of the logic in\u001b[39;00m\n\u001b[32m   1758\u001b[39m \u001b[38;5;66;03m# this function, and just call forward.\u001b[39;00m\n\u001b[32m   1759\u001b[39m \u001b[38;5;28;01mif\u001b[39;00m \u001b[38;5;129;01mnot\u001b[39;00m (\u001b[38;5;28mself\u001b[39m._backward_hooks \u001b[38;5;129;01mor\u001b[39;00m \u001b[38;5;28mself\u001b[39m._backward_pre_hooks \u001b[38;5;129;01mor\u001b[39;00m \u001b[38;5;28mself\u001b[39m._forward_hooks \u001b[38;5;129;01mor\u001b[39;00m \u001b[38;5;28mself\u001b[39m._forward_pre_hooks\n\u001b[32m   1760\u001b[39m         \u001b[38;5;129;01mor\u001b[39;00m _global_backward_pre_hooks \u001b[38;5;129;01mor\u001b[39;00m _global_backward_hooks\n\u001b[32m   1761\u001b[39m         \u001b[38;5;129;01mor\u001b[39;00m _global_forward_hooks \u001b[38;5;129;01mor\u001b[39;00m _global_forward_pre_hooks):\n\u001b[32m-> \u001b[39m\u001b[32m1762\u001b[39m     \u001b[38;5;28;01mreturn\u001b[39;00m \u001b[43mforward_call\u001b[49m\u001b[43m(\u001b[49m\u001b[43m*\u001b[49m\u001b[43margs\u001b[49m\u001b[43m,\u001b[49m\u001b[43m \u001b[49m\u001b[43m*\u001b[49m\u001b[43m*\u001b[49m\u001b[43mkwargs\u001b[49m\u001b[43m)\u001b[49m\n\u001b[32m   1764\u001b[39m result = \u001b[38;5;28;01mNone\u001b[39;00m\n\u001b[32m   1765\u001b[39m called_always_called_hooks = \u001b[38;5;28mset\u001b[39m()\n",
      "\u001b[36mFile \u001b[39m\u001b[32m~/MLiS-Placement-Thesis/pipeline/.venv/lib/python3.11/site-packages/transformers/utils/generic.py:1069\u001b[39m, in \u001b[36mcheck_model_inputs.<locals>.wrapper\u001b[39m\u001b[34m(self, *args, **kwargs)\u001b[39m\n\u001b[32m   1066\u001b[39m                 module.forward = make_capture_wrapper(module, original_forward, key, specs.index)\n\u001b[32m   1067\u001b[39m                 monkey_patched_layers.append((module, original_forward))\n\u001b[32m-> \u001b[39m\u001b[32m1069\u001b[39m outputs = \u001b[43mfunc\u001b[49m\u001b[43m(\u001b[49m\u001b[38;5;28;43mself\u001b[39;49m\u001b[43m,\u001b[49m\u001b[43m \u001b[49m\u001b[43m*\u001b[49m\u001b[43margs\u001b[49m\u001b[43m,\u001b[49m\u001b[43m \u001b[49m\u001b[43m*\u001b[49m\u001b[43m*\u001b[49m\u001b[43mkwargs\u001b[49m\u001b[43m)\u001b[49m\n\u001b[32m   1070\u001b[39m \u001b[38;5;66;03m# Restore original forward methods\u001b[39;00m\n\u001b[32m   1071\u001b[39m \u001b[38;5;28;01mfor\u001b[39;00m module, original_forward \u001b[38;5;129;01min\u001b[39;00m monkey_patched_layers:\n",
      "\u001b[36mFile \u001b[39m\u001b[32m~/MLiS-Placement-Thesis/pipeline/.venv/lib/python3.11/site-packages/transformers/models/qwen3_moe/modeling_qwen3_moe.py:482\u001b[39m, in \u001b[36mQwen3MoeModel.forward\u001b[39m\u001b[34m(self, input_ids, attention_mask, position_ids, past_key_values, inputs_embeds, use_cache, cache_position, **kwargs)\u001b[39m\n\u001b[32m    479\u001b[39m position_embeddings = \u001b[38;5;28mself\u001b[39m.rotary_emb(hidden_states, position_ids)\n\u001b[32m    481\u001b[39m \u001b[38;5;28;01mfor\u001b[39;00m decoder_layer \u001b[38;5;129;01min\u001b[39;00m \u001b[38;5;28mself\u001b[39m.layers[: \u001b[38;5;28mself\u001b[39m.config.num_hidden_layers]:\n\u001b[32m--> \u001b[39m\u001b[32m482\u001b[39m     hidden_states = \u001b[43mdecoder_layer\u001b[49m\u001b[43m(\u001b[49m\n\u001b[32m    483\u001b[39m \u001b[43m        \u001b[49m\u001b[43mhidden_states\u001b[49m\u001b[43m,\u001b[49m\n\u001b[32m    484\u001b[39m \u001b[43m        \u001b[49m\u001b[43mposition_embeddings\u001b[49m\u001b[43m=\u001b[49m\u001b[43mposition_embeddings\u001b[49m\u001b[43m,\u001b[49m\n\u001b[32m    485\u001b[39m \u001b[43m        \u001b[49m\u001b[43mattention_mask\u001b[49m\u001b[43m=\u001b[49m\u001b[43mcausal_mask\u001b[49m\u001b[43m,\u001b[49m\n\u001b[32m    486\u001b[39m \u001b[43m        \u001b[49m\u001b[43mposition_ids\u001b[49m\u001b[43m=\u001b[49m\u001b[43mposition_ids\u001b[49m\u001b[43m,\u001b[49m\n\u001b[32m    487\u001b[39m \u001b[43m        \u001b[49m\u001b[43mpast_key_value\u001b[49m\u001b[43m=\u001b[49m\u001b[43mpast_key_values\u001b[49m\u001b[43m,\u001b[49m\n\u001b[32m    488\u001b[39m \u001b[43m        \u001b[49m\u001b[43muse_cache\u001b[49m\u001b[43m=\u001b[49m\u001b[43muse_cache\u001b[49m\u001b[43m,\u001b[49m\n\u001b[32m    489\u001b[39m \u001b[43m        \u001b[49m\u001b[43mcache_position\u001b[49m\u001b[43m=\u001b[49m\u001b[43mcache_position\u001b[49m\u001b[43m,\u001b[49m\n\u001b[32m    490\u001b[39m \u001b[43m        \u001b[49m\u001b[43m*\u001b[49m\u001b[43m*\u001b[49m\u001b[43mkwargs\u001b[49m\u001b[43m,\u001b[49m\n\u001b[32m    491\u001b[39m \u001b[43m    \u001b[49m\u001b[43m)\u001b[49m\n\u001b[32m    493\u001b[39m hidden_states = \u001b[38;5;28mself\u001b[39m.norm(hidden_states)\n\u001b[32m    495\u001b[39m \u001b[38;5;28;01mreturn\u001b[39;00m MoeModelOutputWithPast(  \u001b[38;5;66;03m# only diff with Mistral is the output type, we need MoE\u001b[39;00m\n\u001b[32m    496\u001b[39m     last_hidden_state=hidden_states,\n\u001b[32m    497\u001b[39m     past_key_values=past_key_values,\n\u001b[32m    498\u001b[39m )\n",
      "\u001b[36mFile \u001b[39m\u001b[32m~/MLiS-Placement-Thesis/pipeline/.venv/lib/python3.11/site-packages/transformers/modeling_layers.py:94\u001b[39m, in \u001b[36mGradientCheckpointingLayer.__call__\u001b[39m\u001b[34m(self, *args, **kwargs)\u001b[39m\n\u001b[32m     91\u001b[39m         logger.warning(message)\n\u001b[32m     93\u001b[39m     \u001b[38;5;28;01mreturn\u001b[39;00m \u001b[38;5;28mself\u001b[39m._gradient_checkpointing_func(partial(\u001b[38;5;28msuper\u001b[39m().\u001b[34m__call__\u001b[39m, **kwargs), *args)\n\u001b[32m---> \u001b[39m\u001b[32m94\u001b[39m \u001b[38;5;28;01mreturn\u001b[39;00m \u001b[38;5;28;43msuper\u001b[39;49m\u001b[43m(\u001b[49m\u001b[43m)\u001b[49m\u001b[43m.\u001b[49m\u001b[34;43m__call__\u001b[39;49m\u001b[43m(\u001b[49m\u001b[43m*\u001b[49m\u001b[43margs\u001b[49m\u001b[43m,\u001b[49m\u001b[43m \u001b[49m\u001b[43m*\u001b[49m\u001b[43m*\u001b[49m\u001b[43mkwargs\u001b[49m\u001b[43m)\u001b[49m\n",
      "\u001b[36mFile \u001b[39m\u001b[32m~/MLiS-Placement-Thesis/pipeline/.venv/lib/python3.11/site-packages/torch/nn/modules/module.py:1751\u001b[39m, in \u001b[36mModule._wrapped_call_impl\u001b[39m\u001b[34m(self, *args, **kwargs)\u001b[39m\n\u001b[32m   1749\u001b[39m     \u001b[38;5;28;01mreturn\u001b[39;00m \u001b[38;5;28mself\u001b[39m._compiled_call_impl(*args, **kwargs)  \u001b[38;5;66;03m# type: ignore[misc]\u001b[39;00m\n\u001b[32m   1750\u001b[39m \u001b[38;5;28;01melse\u001b[39;00m:\n\u001b[32m-> \u001b[39m\u001b[32m1751\u001b[39m     \u001b[38;5;28;01mreturn\u001b[39;00m \u001b[38;5;28;43mself\u001b[39;49m\u001b[43m.\u001b[49m\u001b[43m_call_impl\u001b[49m\u001b[43m(\u001b[49m\u001b[43m*\u001b[49m\u001b[43margs\u001b[49m\u001b[43m,\u001b[49m\u001b[43m \u001b[49m\u001b[43m*\u001b[49m\u001b[43m*\u001b[49m\u001b[43mkwargs\u001b[49m\u001b[43m)\u001b[49m\n",
      "\u001b[36mFile \u001b[39m\u001b[32m~/MLiS-Placement-Thesis/pipeline/.venv/lib/python3.11/site-packages/torch/nn/modules/module.py:1762\u001b[39m, in \u001b[36mModule._call_impl\u001b[39m\u001b[34m(self, *args, **kwargs)\u001b[39m\n\u001b[32m   1757\u001b[39m \u001b[38;5;66;03m# If we don't have any hooks, we want to skip the rest of the logic in\u001b[39;00m\n\u001b[32m   1758\u001b[39m \u001b[38;5;66;03m# this function, and just call forward.\u001b[39;00m\n\u001b[32m   1759\u001b[39m \u001b[38;5;28;01mif\u001b[39;00m \u001b[38;5;129;01mnot\u001b[39;00m (\u001b[38;5;28mself\u001b[39m._backward_hooks \u001b[38;5;129;01mor\u001b[39;00m \u001b[38;5;28mself\u001b[39m._backward_pre_hooks \u001b[38;5;129;01mor\u001b[39;00m \u001b[38;5;28mself\u001b[39m._forward_hooks \u001b[38;5;129;01mor\u001b[39;00m \u001b[38;5;28mself\u001b[39m._forward_pre_hooks\n\u001b[32m   1760\u001b[39m         \u001b[38;5;129;01mor\u001b[39;00m _global_backward_pre_hooks \u001b[38;5;129;01mor\u001b[39;00m _global_backward_hooks\n\u001b[32m   1761\u001b[39m         \u001b[38;5;129;01mor\u001b[39;00m _global_forward_hooks \u001b[38;5;129;01mor\u001b[39;00m _global_forward_pre_hooks):\n\u001b[32m-> \u001b[39m\u001b[32m1762\u001b[39m     \u001b[38;5;28;01mreturn\u001b[39;00m \u001b[43mforward_call\u001b[49m\u001b[43m(\u001b[49m\u001b[43m*\u001b[49m\u001b[43margs\u001b[49m\u001b[43m,\u001b[49m\u001b[43m \u001b[49m\u001b[43m*\u001b[49m\u001b[43m*\u001b[49m\u001b[43mkwargs\u001b[49m\u001b[43m)\u001b[49m\n\u001b[32m   1764\u001b[39m result = \u001b[38;5;28;01mNone\u001b[39;00m\n\u001b[32m   1765\u001b[39m called_always_called_hooks = \u001b[38;5;28mset\u001b[39m()\n",
      "\u001b[36mFile \u001b[39m\u001b[32m~/MLiS-Placement-Thesis/pipeline/.venv/lib/python3.11/site-packages/accelerate/hooks.py:175\u001b[39m, in \u001b[36madd_hook_to_module.<locals>.new_forward\u001b[39m\u001b[34m(module, *args, **kwargs)\u001b[39m\n\u001b[32m    173\u001b[39m         output = module._old_forward(*args, **kwargs)\n\u001b[32m    174\u001b[39m \u001b[38;5;28;01melse\u001b[39;00m:\n\u001b[32m--> \u001b[39m\u001b[32m175\u001b[39m     output = \u001b[43mmodule\u001b[49m\u001b[43m.\u001b[49m\u001b[43m_old_forward\u001b[49m\u001b[43m(\u001b[49m\u001b[43m*\u001b[49m\u001b[43margs\u001b[49m\u001b[43m,\u001b[49m\u001b[43m \u001b[49m\u001b[43m*\u001b[49m\u001b[43m*\u001b[49m\u001b[43mkwargs\u001b[49m\u001b[43m)\u001b[49m\n\u001b[32m    176\u001b[39m \u001b[38;5;28;01mreturn\u001b[39;00m module._hf_hook.post_forward(module, output)\n",
      "\u001b[36mFile \u001b[39m\u001b[32m~/MLiS-Placement-Thesis/pipeline/.venv/lib/python3.11/site-packages/transformers/models/qwen3_moe/modeling_qwen3_moe.py:356\u001b[39m, in \u001b[36mQwen3MoeDecoderLayer.forward\u001b[39m\u001b[34m(self, hidden_states, position_embeddings, attention_mask, position_ids, past_key_value, cache_position, **kwargs)\u001b[39m\n\u001b[32m    354\u001b[39m residual = hidden_states\n\u001b[32m    355\u001b[39m hidden_states = \u001b[38;5;28mself\u001b[39m.post_attention_layernorm(hidden_states)\n\u001b[32m--> \u001b[39m\u001b[32m356\u001b[39m hidden_states = \u001b[38;5;28;43mself\u001b[39;49m\u001b[43m.\u001b[49m\u001b[43mmlp\u001b[49m\u001b[43m(\u001b[49m\u001b[43mhidden_states\u001b[49m\u001b[43m)\u001b[49m\n\u001b[32m    357\u001b[39m \u001b[38;5;66;03m# For the MoE layers, we need to unpack\u001b[39;00m\n\u001b[32m    358\u001b[39m \u001b[38;5;28;01mif\u001b[39;00m \u001b[38;5;28misinstance\u001b[39m(hidden_states, \u001b[38;5;28mtuple\u001b[39m):\n",
      "\u001b[36mFile \u001b[39m\u001b[32m~/MLiS-Placement-Thesis/pipeline/.venv/lib/python3.11/site-packages/torch/nn/modules/module.py:1751\u001b[39m, in \u001b[36mModule._wrapped_call_impl\u001b[39m\u001b[34m(self, *args, **kwargs)\u001b[39m\n\u001b[32m   1749\u001b[39m     \u001b[38;5;28;01mreturn\u001b[39;00m \u001b[38;5;28mself\u001b[39m._compiled_call_impl(*args, **kwargs)  \u001b[38;5;66;03m# type: ignore[misc]\u001b[39;00m\n\u001b[32m   1750\u001b[39m \u001b[38;5;28;01melse\u001b[39;00m:\n\u001b[32m-> \u001b[39m\u001b[32m1751\u001b[39m     \u001b[38;5;28;01mreturn\u001b[39;00m \u001b[38;5;28;43mself\u001b[39;49m\u001b[43m.\u001b[49m\u001b[43m_call_impl\u001b[49m\u001b[43m(\u001b[49m\u001b[43m*\u001b[49m\u001b[43margs\u001b[49m\u001b[43m,\u001b[49m\u001b[43m \u001b[49m\u001b[43m*\u001b[49m\u001b[43m*\u001b[49m\u001b[43mkwargs\u001b[49m\u001b[43m)\u001b[49m\n",
      "\u001b[36mFile \u001b[39m\u001b[32m~/MLiS-Placement-Thesis/pipeline/.venv/lib/python3.11/site-packages/torch/nn/modules/module.py:1762\u001b[39m, in \u001b[36mModule._call_impl\u001b[39m\u001b[34m(self, *args, **kwargs)\u001b[39m\n\u001b[32m   1757\u001b[39m \u001b[38;5;66;03m# If we don't have any hooks, we want to skip the rest of the logic in\u001b[39;00m\n\u001b[32m   1758\u001b[39m \u001b[38;5;66;03m# this function, and just call forward.\u001b[39;00m\n\u001b[32m   1759\u001b[39m \u001b[38;5;28;01mif\u001b[39;00m \u001b[38;5;129;01mnot\u001b[39;00m (\u001b[38;5;28mself\u001b[39m._backward_hooks \u001b[38;5;129;01mor\u001b[39;00m \u001b[38;5;28mself\u001b[39m._backward_pre_hooks \u001b[38;5;129;01mor\u001b[39;00m \u001b[38;5;28mself\u001b[39m._forward_hooks \u001b[38;5;129;01mor\u001b[39;00m \u001b[38;5;28mself\u001b[39m._forward_pre_hooks\n\u001b[32m   1760\u001b[39m         \u001b[38;5;129;01mor\u001b[39;00m _global_backward_pre_hooks \u001b[38;5;129;01mor\u001b[39;00m _global_backward_hooks\n\u001b[32m   1761\u001b[39m         \u001b[38;5;129;01mor\u001b[39;00m _global_forward_hooks \u001b[38;5;129;01mor\u001b[39;00m _global_forward_pre_hooks):\n\u001b[32m-> \u001b[39m\u001b[32m1762\u001b[39m     \u001b[38;5;28;01mreturn\u001b[39;00m \u001b[43mforward_call\u001b[49m\u001b[43m(\u001b[49m\u001b[43m*\u001b[49m\u001b[43margs\u001b[49m\u001b[43m,\u001b[49m\u001b[43m \u001b[49m\u001b[43m*\u001b[49m\u001b[43m*\u001b[49m\u001b[43mkwargs\u001b[49m\u001b[43m)\u001b[49m\n\u001b[32m   1764\u001b[39m result = \u001b[38;5;28;01mNone\u001b[39;00m\n\u001b[32m   1765\u001b[39m called_always_called_hooks = \u001b[38;5;28mset\u001b[39m()\n",
      "\u001b[36mFile \u001b[39m\u001b[32m~/MLiS-Placement-Thesis/pipeline/.venv/lib/python3.11/site-packages/accelerate/hooks.py:175\u001b[39m, in \u001b[36madd_hook_to_module.<locals>.new_forward\u001b[39m\u001b[34m(module, *args, **kwargs)\u001b[39m\n\u001b[32m    173\u001b[39m         output = module._old_forward(*args, **kwargs)\n\u001b[32m    174\u001b[39m \u001b[38;5;28;01melse\u001b[39;00m:\n\u001b[32m--> \u001b[39m\u001b[32m175\u001b[39m     output = \u001b[43mmodule\u001b[49m\u001b[43m.\u001b[49m\u001b[43m_old_forward\u001b[49m\u001b[43m(\u001b[49m\u001b[43m*\u001b[49m\u001b[43margs\u001b[49m\u001b[43m,\u001b[49m\u001b[43m \u001b[49m\u001b[43m*\u001b[49m\u001b[43m*\u001b[49m\u001b[43mkwargs\u001b[49m\u001b[43m)\u001b[49m\n\u001b[32m    176\u001b[39m \u001b[38;5;28;01mreturn\u001b[39;00m module._hf_hook.post_forward(module, output)\n",
      "\u001b[36mFile \u001b[39m\u001b[32m~/MLiS-Placement-Thesis/pipeline/.venv/lib/python3.11/site-packages/transformers/models/qwen3_moe/modeling_qwen3_moe.py:247\u001b[39m, in \u001b[36mQwen3MoeSparseMoeBlock.forward\u001b[39m\u001b[34m(self, hidden_states)\u001b[39m\n\u001b[32m    244\u001b[39m expert_mask = torch.nn.functional.one_hot(selected_experts, num_classes=\u001b[38;5;28mself\u001b[39m.num_experts).permute(\u001b[32m2\u001b[39m, \u001b[32m1\u001b[39m, \u001b[32m0\u001b[39m)\n\u001b[32m    246\u001b[39m \u001b[38;5;66;03m# Loop over all available experts in the model and perform the computation on each expert\u001b[39;00m\n\u001b[32m--> \u001b[39m\u001b[32m247\u001b[39m expert_hitted = \u001b[43mtorch\u001b[49m\u001b[43m.\u001b[49m\u001b[43mgreater\u001b[49m\u001b[43m(\u001b[49m\u001b[43mexpert_mask\u001b[49m\u001b[43m.\u001b[49m\u001b[43msum\u001b[49m\u001b[43m(\u001b[49m\u001b[43mdim\u001b[49m\u001b[43m=\u001b[49m\u001b[43m(\u001b[49m\u001b[43m-\u001b[49m\u001b[32;43m1\u001b[39;49m\u001b[43m,\u001b[49m\u001b[43m \u001b[49m\u001b[43m-\u001b[49m\u001b[32;43m2\u001b[39;49m\u001b[43m)\u001b[49m\u001b[43m)\u001b[49m\u001b[43m,\u001b[49m\u001b[43m \u001b[49m\u001b[32;43m0\u001b[39;49m\u001b[43m)\u001b[49m\u001b[43m.\u001b[49m\u001b[43mnonzero\u001b[49m\u001b[43m(\u001b[49m\u001b[43m)\u001b[49m\n\u001b[32m    248\u001b[39m \u001b[38;5;28;01mfor\u001b[39;00m expert_idx \u001b[38;5;129;01min\u001b[39;00m expert_hitted:\n\u001b[32m    249\u001b[39m     expert_layer = \u001b[38;5;28mself\u001b[39m.experts[expert_idx]\n",
      "\u001b[31mKeyboardInterrupt\u001b[39m: "
     ]
    }
   ],
   "source": [
    "query = \"Calculate the total parking charge for a Narrow Satellite stand type at East Aerodrome Parking with no overnight parking. The parking duration is a variable with unit hours.\"\n",
    "charge_category = \"east_aerodrome_parking_charge\"\n",
    "\n",
    "result = create_computation_graph(model, query, charge_category, markdown_content, CHARGE_CATEGORY_VARIABLES, ALL_VARIABLES)\n",
    "\n"
   ]
  },
  {
   "cell_type": "code",
   "execution_count": 71,
   "id": "cb364002-343c-4b2e-bd7a-d72c8dded581",
   "metadata": {},
   "outputs": [
    {
     "name": "stdout",
     "output_type": "stream",
     "text": [
      "{\n",
      "    \"query_parameters\": [\n",
      "        {\n",
      "            \"name\": \"aircraft_stand_type\",\n",
      "            \"status\": \"KNOWN\",\n",
      "            \"value\": \"Narrow Satellite\"\n",
      "        },\n",
      "        {\n",
      "            \"name\": \"parking_duration_hours\",\n",
      "            \"status\": \"SYMBOLIC\",\n",
      "            \"value\": null\n",
      "        },\n",
      "        {\n",
      "            \"name\": \"is_overnight_parking\",\n",
      "            \"status\": \"KNOWN\",\n",
      "            \"value\": false\n",
      "        }\n",
      "    ]\n",
      "}\n"
     ]
    }
   ],
   "source": [
    "print(json.dumps(json.loads(result[0][\"thought1\"]), indent=4))"
   ]
  },
  {
   "cell_type": "code",
   "execution_count": 72,
   "id": "e40a706e-298d-4d40-8c68-cb0868be9f3b",
   "metadata": {},
   "outputs": [
    {
     "name": "stdout",
     "output_type": "stream",
     "text": [
      "{\n",
      "    \"identified_constants_and_rules\": [\n",
      "        \"The standard charge per aircraft/stand type for Narrow Satellite at East Aerodrome Parking (EAP) is \\u20ac32.90 per 15 minutes or part thereof.\",\n",
      "        \"Parking surcharges apply for extended periods at EAP: 48 hours up to 72 hours (including night-time) attract a surcharge of Standard rate +100%, and 72 hours and over (including night-time) attract a surcharge of Standard rate +200%.\",\n",
      "        \"Overnight parking from 2300-0600hrs is free of charge. The query specifies no overnight parking (is_overnight_parking = false).\",\n",
      "        \"The parking duration is a variable with unit hours, meaning the calculation must account for all possible values of parking_duration_hours.\"\n",
      "    ]\n",
      "}\n"
     ]
    }
   ],
   "source": [
    "print(json.dumps(json.loads(result[0][\"thought2\"]), indent=4))"
   ]
  },
  {
   "cell_type": "code",
   "execution_count": 73,
   "id": "7bffc2fe-eff2-4522-af61-6356c65ae686",
   "metadata": {},
   "outputs": [
    {
     "name": "stdout",
     "output_type": "stream",
     "text": [
      "{\n",
      "    \"synthesis_plan\": \"The total parking charge calculation for a Narrow Satellite stand at EAP involves: 1. Determining the base rate (\\u20ac32.90 per 15 minutes or part thereof). 2. Calculating the number of 15-minute intervals in the parking duration. 3. Applying surcharges based on the duration: - If parking_duration_hours < 48: no surcharge. - If 48 \\u2264 parking_duration_hours < 72: add 100% surcharge. - If parking_duration_hours \\u2265 72: add 200% surcharge. 4. Since the duration is symbolic, the expression tree must include conditional logic for all possible duration ranges.\"\n",
      "}\n"
     ]
    }
   ],
   "source": [
    "print(json.dumps(json.loads(result[0][\"thought3\"]), indent=4))"
   ]
  },
  {
   "cell_type": "code",
   "execution_count": 74,
   "id": "f5c7c4ea-3d33-472f-8c5f-07fd2796b368",
   "metadata": {},
   "outputs": [
    {
     "name": "stdout",
     "output_type": "stream",
     "text": [
      "{\n",
      "    \"rethink\": \"The approach correctly identifies the base rate, the surcharge conditions based on duration, and the need for conditional logic due to the symbolic duration. The is_overnight_parking parameter is set to false, so no adjustment for free overnight parking is needed. The expression tree will accurately represent the calculation logic for any given parking duration.\"\n",
      "}\n"
     ]
    }
   ],
   "source": [
    "print(json.dumps(json.loads(result[0][\"thought4\"]), indent=4))"
   ]
  },
  {
   "cell_type": "code",
   "execution_count": 75,
   "id": "5c637787-89d3-4f87-bb7c-bb70ac809bb8",
   "metadata": {},
   "outputs": [
    {
     "name": "stdout",
     "output_type": "stream",
     "text": [
      "{\n",
      "    \"type\": \"BINARY_OPERATION\",\n",
      "    \"operator\": \"ADD\",\n",
      "    \"left\": {\n",
      "        \"type\": \"CONDITIONAL\",\n",
      "        \"condition\": {\n",
      "            \"type\": \"COMPARISON\",\n",
      "            \"operator\": \"LESS_THAN\",\n",
      "            \"left\": {\n",
      "                \"type\": \"VARIABLE\",\n",
      "                \"name\": \"parking_duration_hours\",\n",
      "                \"description\": \"Total duration of parking in hours. Surcharges apply at 48 and 72 hours.\",\n",
      "                \"unit\": \"HOURS\"\n",
      "            },\n",
      "            \"right\": {\n",
      "                \"type\": \"VALUE\",\n",
      "                \"value\": 48,\n",
      "                \"description\": \"Threshold for 48-hour surcharge.\",\n",
      "                \"unit\": \"HOURS\"\n",
      "            }\n",
      "        },\n",
      "        \"if_true\": {\n",
      "            \"type\": \"BINARY_OPERATION\",\n",
      "            \"operator\": \"MULTIPLY\",\n",
      "            \"left\": {\n",
      "                \"type\": \"VALUE\",\n",
      "                \"value\": 32.9,\n",
      "                \"description\": \"Standard charge per aircraft/stand type for Narrow Satellite at East Aerodrome Parking (EAP).\",\n",
      "                \"unit\": \"EUROS\"\n",
      "            },\n",
      "            \"right\": {\n",
      "                \"type\": \"BINARY_OPERATION\",\n",
      "                \"operator\": \"DIVIDE\",\n",
      "                \"left\": {\n",
      "                    \"type\": \"VARIABLE\",\n",
      "                    \"name\": \"parking_duration_hours\",\n",
      "                    \"description\": \"Total duration of parking in hours. Surcharges apply at 48 and 72 hours.\",\n",
      "                    \"unit\": \"HOURS\"\n",
      "                },\n",
      "                \"right\": {\n",
      "                    \"type\": \"VALUE\",\n",
      "                    \"value\": 0.25,\n",
      "                    \"description\": \"Conversion factor from hours to 15-minute intervals (1 hour = 4 intervals).\",\n",
      "                    \"unit\": \"HOURS\"\n",
      "                }\n",
      "            }\n",
      "        },\n",
      "        \"if_false\": {\n",
      "            \"type\": \"CONDITIONAL\",\n",
      "            \"condition\": {\n",
      "                \"type\": \"COMPARISON\",\n",
      "                \"operator\": \"LESS_THAN\",\n",
      "                \"left\": {\n",
      "                    \"type\": \"VARIABLE\",\n",
      "                    \"name\": \"parking_duration_hours\",\n",
      "                    \"description\": \"Total duration of parking in hours. Surcharges apply at 48 and 72 hours.\",\n",
      "                    \"unit\": \"HOURS\"\n",
      "                },\n",
      "                \"right\": {\n",
      "                    \"type\": \"VALUE\",\n",
      "                    \"value\": 72,\n",
      "                    \"description\": \"Threshold for 72-hour surcharge.\",\n",
      "                    \"unit\": \"HOURS\"\n",
      "                }\n",
      "            },\n",
      "            \"if_true\": {\n",
      "                \"type\": \"BINARY_OPERATION\",\n",
      "                \"operator\": \"MULTIPLY\",\n",
      "                \"left\": {\n",
      "                    \"type\": \"BINARY_OPERATION\",\n",
      "                    \"operator\": \"MULTIPLY\",\n",
      "                    \"left\": {\n",
      "                        \"type\": \"VALUE\",\n",
      "                        \"value\": 32.9,\n",
      "                        \"description\": \"Standard charge per aircraft/stand type for Narrow Satellite at East Aerodrome Parking (EAP).\",\n",
      "                        \"unit\": \"EUROS\"\n",
      "                    },\n",
      "                    \"right\": {\n",
      "                        \"type\": \"VALUE\",\n",
      "                        \"value\": 2,\n",
      "                        \"description\": \"Surcharge multiplier for 48-72 hour period (100% surcharge).\",\n",
      "                        \"unit\": \"UNITLESS\"\n",
      "                    }\n",
      "                },\n",
      "                \"right\": {\n",
      "                    \"type\": \"BINARY_OPERATION\",\n",
      "                    \"operator\": \"DIVIDE\",\n",
      "                    \"left\": {\n",
      "                        \"type\": \"VARIABLE\",\n",
      "                        \"name\": \"parking_duration_hours\",\n",
      "                        \"description\": \"Total duration of parking in hours. Surcharges apply at 48 and 72 hours.\",\n",
      "                        \"unit\": \"HOURS\"\n",
      "                    },\n",
      "                    \"right\": {\n",
      "                        \"type\": \"VALUE\",\n",
      "                        \"value\": 0.25,\n",
      "                        \"description\": \"Conversion factor from hours to 15-minute intervals (1 hour = 4 intervals).\",\n",
      "                        \"unit\": \"HOURS\"\n",
      "                    }\n",
      "                }\n",
      "            },\n",
      "            \"if_false\": {\n",
      "                \"type\": \"BINARY_OPERATION\",\n",
      "                \"operator\": \"MULTIPLY\",\n",
      "                \"left\": {\n",
      "                    \"type\": \"BINARY_OPERATION\",\n",
      "                    \"operator\": \"MULTIPLY\",\n",
      "                    \"left\": {\n",
      "                        \"type\": \"VALUE\",\n",
      "                        \"value\": 32.9,\n",
      "                        \"description\": \"Standard charge per aircraft/stand type for Narrow Satellite at East Aerodrome Parking (EAP).\",\n",
      "                        \"unit\": \"EUROS\"\n",
      "                    },\n",
      "                    \"right\": {\n",
      "                        \"type\": \"VALUE\",\n",
      "                        \"value\": 3,\n",
      "                        \"description\": \"Surcharge multiplier for 72+ hour period (200% surcharge).\",\n",
      "                        \"unit\": \"UNITLESS\"\n",
      "                    }\n",
      "                },\n",
      "                \"right\": {\n",
      "                    \"type\": \"BINARY_OPERATION\",\n",
      "                    \"operator\": \"DIVIDE\",\n",
      "                    \"left\": {\n",
      "                        \"type\": \"VARIABLE\",\n",
      "                        \"name\": \"parking_duration_hours\",\n",
      "                        \"description\": \"Total duration of parking in hours. Surcharges apply at 48 and 72 hours.\",\n",
      "                        \"unit\": \"HOURS\"\n",
      "                    },\n",
      "                    \"right\": {\n",
      "                        \"type\": \"VALUE\",\n",
      "                        \"value\": 0.25,\n",
      "                        \"description\": \"Conversion factor from hours to 15-minute intervals (1 hour = 4 intervals).\",\n",
      "                        \"unit\": \"HOURS\"\n",
      "                    }\n",
      "                }\n",
      "            }\n",
      "        }\n",
      "    },\n",
      "    \"right\": {\n",
      "        \"type\": \"VALUE\",\n",
      "        \"value\": 0,\n",
      "        \"description\": \"No additional charges for overnight parking (is_overnight_parking = false).\",\n",
      "        \"unit\": \"EUROS\"\n",
      "    }\n",
      "}\n"
     ]
    }
   ],
   "source": [
    "print(json.dumps(json.loads(result[0][\"result_graph\"]), indent=4))"
   ]
  },
  {
   "cell_type": "code",
   "execution_count": 76,
   "id": "34cbd0e8-a7e2-413c-ac7f-95997f8657e6",
   "metadata": {},
   "outputs": [
    {
     "data": {
      "text/plain": [
       "352.01867974799825"
      ]
     },
     "execution_count": 76,
     "metadata": {},
     "output_type": "execute_result"
    }
   ],
   "source": [
    "result[1]"
   ]
  },
  {
   "cell_type": "code",
   "execution_count": 79,
   "id": "8432868a-02e6-4fba-9221-4e8338791617",
   "metadata": {},
   "outputs": [
    {
     "name": "stdout",
     "output_type": "stream",
     "text": [
      "Sympy Expression: Piecewise((32.9*(parking_duration_hours/0.25), parking_duration_hours < 48), (Piecewise(((32.9*2)*(parking_duration_hours/0.25), parking_duration_hours < 72), ((32.9*3)*(parking_duration_hours/0.25), True)), True)) + 0\n"
     ]
    }
   ],
   "source": [
    "\n",
    "\n",
    "\n",
    "# Print the resulting expression\n",
    "loaded_json = json.loads(result[0]['result_graph'])\n",
    "symbolic_expr = compose_expression(loaded_json)\n",
    "print(f\"Sympy Expression: {symbolic_expr}\")"
   ]
  },
  {
   "cell_type": "markdown",
   "id": "b2e28adb-5d76-4be1-b45f-4084aa537299",
   "metadata": {},
   "source": [
    "\n",
    "## Changes: \n",
    "- Tried on a new problem\n",
    "\n",
    "## Observations: \n",
    "- The reasoning traces are decent, except that I may need to add a ceil function to account for cases when one may need to round up.\n",
    "- The graph produced is not perfect. It makes a potential mistake in computing surcharge, however, at this point, it is not clear whether this is a mistake as the document is quite confusing by itself. It does not clarify whether the surcharge is applicable for Long Term Remote, and whether that is on a per day basis.\n",
    "- The left hand side branch does not use the variable parking hours to compute the surcharge even in cases where the hours are > 24. One potential reason for this could be that I mentioned there is no overnight parking, which may have led it to assume that the hours would be less than 24.\n",
    "- The overnight parking charges also have ambiguity in their application. It is not clear, whether one has to discount the free period from the computed total fees or whether the surcharges are still applicable during that period, or it could be that aircrafts which strictly use the airport services starting and ending strictly during this period are exempt from any fees? \n",
    "\n",
    "## Discussion:\n",
    "- More testing is required to understand where the model may be making mistakes.\n",
    "- Larger models may perform better, as we currently only use the humble 32B A3B parameter MoE model.\n",
    "\n",
    "## Next Steps:\n",
    "- Continue testing"
   ]
  },
  {
   "cell_type": "code",
   "execution_count": 16,
   "id": "c624a0cb-21fb-4485-b164-78c9109c25df",
   "metadata": {},
   "outputs": [
    {
     "name": "stdout",
     "output_type": "stream",
     "text": [
      "--- Building graph for charge category: 'east_aerodrome_parking_charge' ---\n"
     ]
    },
    {
     "data": {
      "application/vnd.jupyter.widget-view+json": {
       "model_id": "8aacbd49772f4f3499128e06ae128e1e",
       "version_major": 2,
       "version_minor": 0
      },
      "text/plain": [
       "StitchWidget(initial_height='auto', initial_width='100%', srcdoc='<!doctype html>\\n<html lang=\"en\">\\n<head>\\n …"
      ]
     },
     "metadata": {},
     "output_type": "display_data"
    },
    {
     "name": "stdout",
     "output_type": "stream",
     "text": [
      "Execution time for 'build': 213.9923 seconds\n"
     ]
    },
    {
     "name": "stderr",
     "output_type": "stream",
     "text": [
      "IOPub message rate exceeded.\n",
      "The Jupyter server will temporarily stop sending output\n",
      "to the client in order to avoid crashing it.\n",
      "To change this limit, set the config variable\n",
      "`--ServerApp.iopub_msg_rate_limit`.\n",
      "\n",
      "Current values:\n",
      "ServerApp.iopub_msg_rate_limit=1000.0 (msgs/sec)\n",
      "ServerApp.rate_limit_window=3.0 (secs)\n",
      "\n"
     ]
    }
   ],
   "source": [
    "query = \"Calculate the total parking charge for a Long Term Remote stand type at East Aerodrome Parking with no overnight parking. The parking duration is a variable with unit hours.\"\n",
    "charge_category = \"east_aerodrome_parking_charge\"\n",
    "\n",
    "result = create_computation_graph(model, query, charge_category)\n"
   ]
  },
  {
   "cell_type": "code",
   "execution_count": 17,
   "id": "20224065-5ef2-4083-b4d7-317531c27cf5",
   "metadata": {},
   "outputs": [
    {
     "name": "stdout",
     "output_type": "stream",
     "text": [
      "{\n",
      "    \"query_parameters\": [\n",
      "        {\n",
      "            \"name\": \"aircraft_stand_type\",\n",
      "            \"status\": \"KNOWN\",\n",
      "            \"value\": \"Long Term Remote\"\n",
      "        },\n",
      "        {\n",
      "            \"name\": \"parking_duration_hours\",\n",
      "            \"status\": \"SYMBOLIC\",\n",
      "            \"value\": null\n",
      "        },\n",
      "        {\n",
      "            \"name\": \"is_overnight_parking\",\n",
      "            \"status\": \"KNOWN\",\n",
      "            \"value\": false\n",
      "        }\n",
      "    ]\n",
      "}\n"
     ]
    }
   ],
   "source": [
    "print(json.dumps(json.loads(result[0][\"thought1\"]), indent=4))"
   ]
  },
  {
   "cell_type": "code",
   "execution_count": 18,
   "id": "b20f1e76-162f-4dcd-92c8-70eecaf2fbb4",
   "metadata": {},
   "outputs": [
    {
     "name": "stdout",
     "output_type": "stream",
     "text": [
      "{\n",
      "    \"identified_constants_and_rules\": [\n",
      "        \"The standard charge per aircraft/stand type for Long Term Remote at East Aerodrome Parking (EAP) is \\u20ac234.50 per day or part thereof.\",\n",
      "        \"Aircraft parking for extended periods in EAP attract surcharges based on duration: 48-72 hours (including night-time) is standard rate +100%, 72 hours and over is standard rate +200%.\",\n",
      "        \"Overnight parking from 2300-0600hrs is free of charge.\",\n",
      "        \"The parking duration is a variable with unit hours.\",\n",
      "        \"The parking duration is not during overnight hours (is_overnight_parking = false).\",\n",
      "        \"The parking is at East Aerodrome Parking (EAP).\",\n",
      "        \"The stand type is Long Term Remote.\"\n",
      "    ]\n",
      "}\n"
     ]
    }
   ],
   "source": [
    "print(json.dumps(json.loads(result[0][\"thought2\"]), indent=4))"
   ]
  },
  {
   "cell_type": "code",
   "execution_count": 19,
   "id": "08b46aa2-339a-4ad4-9c72-3b560ac48d1f",
   "metadata": {},
   "outputs": [
    {
     "name": "stdout",
     "output_type": "stream",
     "text": [
      "{\n",
      "    \"synthesis_plan\": \"The total parking charge calculation will start with the standard rate for Long Term Remote at EAP (\\u20ac234.50/day). Since the duration is variable, we need to create conditional branches based on the duration in hours. The surcharge percentages depend on whether the duration is between 48-72 hours or over 72 hours. We'll convert the duration from hours to days (considering part thereof) and apply the appropriate surcharge. Since it's not overnight parking, we don't need to adjust for free night-time periods.\"\n",
      "}\n"
     ]
    }
   ],
   "source": [
    "print(json.dumps(json.loads(result[0][\"thought3\"]), indent=4))"
   ]
  },
  {
   "cell_type": "code",
   "execution_count": 20,
   "id": "eb5abbf4-8b90-43aa-a41c-1651cebb1948",
   "metadata": {},
   "outputs": [
    {
     "name": "stdout",
     "output_type": "stream",
     "text": [
      "{\n",
      "    \"rethink\": \"The approach correctly identifies the standard rate and the surcharge conditions based on duration. The conversion from hours to days needs to be handled as 'per day or part thereof' which means any fraction of a day counts as a full day. The surcharge conditions are correctly identified as dependent on the duration. The is_overnight_parking parameter is correctly set to false so no adjustments for free overnight periods are needed.\"\n",
      "}\n"
     ]
    }
   ],
   "source": [
    "print(json.dumps(json.loads(result[0][\"thought4\"]), indent=4))"
   ]
  },
  {
   "cell_type": "code",
   "execution_count": 21,
   "id": "1684586e-521c-4a60-ab4f-fb499b4324a2",
   "metadata": {},
   "outputs": [
    {
     "name": "stdout",
     "output_type": "stream",
     "text": [
      "{\n",
      "    \"type\": \"BINARY_OPERATION\",\n",
      "    \"operator\": \"ADD\",\n",
      "    \"left\": {\n",
      "        \"type\": \"CONDITIONAL\",\n",
      "        \"condition\": {\n",
      "            \"type\": \"COMPARISON\",\n",
      "            \"operator\": \"GREATER_THAN\",\n",
      "            \"left\": {\n",
      "                \"type\": \"VARIABLE\",\n",
      "                \"name\": \"parking_duration_hours\",\n",
      "                \"description\": \"Total duration of parking in hours. Surcharges apply at 48 and 72 hours.\",\n",
      "                \"unit\": \"HOURS\"\n",
      "            },\n",
      "            \"right\": {\n",
      "                \"type\": \"VALUE\",\n",
      "                \"value\": 72,\n",
      "                \"description\": \"Threshold for 200% surcharge\",\n",
      "                \"unit\": \"HOURS\"\n",
      "            }\n",
      "        },\n",
      "        \"if_true\": {\n",
      "            \"type\": \"BINARY_OPERATION\",\n",
      "            \"operator\": \"MULTIPLY\",\n",
      "            \"left\": {\n",
      "                \"type\": \"VALUE\",\n",
      "                \"value\": 234.5,\n",
      "                \"description\": \"Standard charge per day for Long Term Remote at East Aerodrome Parking\",\n",
      "                \"unit\": \"EUROS\"\n",
      "            },\n",
      "            \"right\": {\n",
      "                \"type\": \"VALUE\",\n",
      "                \"value\": 3,\n",
      "                \"description\": \"200% surcharge multiplier\",\n",
      "                \"unit\": \"PERCENT\"\n",
      "            }\n",
      "        },\n",
      "        \"if_false\": {\n",
      "            \"type\": \"CONDITIONAL\",\n",
      "            \"condition\": {\n",
      "                \"type\": \"COMPARISON\",\n",
      "                \"operator\": \"GREATER_THAN\",\n",
      "                \"left\": {\n",
      "                    \"type\": \"VARIABLE\",\n",
      "                    \"name\": \"parking_duration_hours\",\n",
      "                    \"description\": \"Total duration of parking in hours. Surcharges apply at 48 and 72 hours.\",\n",
      "                    \"unit\": \"HOURS\"\n",
      "                },\n",
      "                \"right\": {\n",
      "                    \"type\": \"VALUE\",\n",
      "                    \"value\": 48,\n",
      "                    \"description\": \"Threshold for 100% surcharge\",\n",
      "                    \"unit\": \"HOURS\"\n",
      "                }\n",
      "            },\n",
      "            \"if_true\": {\n",
      "                \"type\": \"BINARY_OPERATION\",\n",
      "                \"operator\": \"MULTIPLY\",\n",
      "                \"left\": {\n",
      "                    \"type\": \"VALUE\",\n",
      "                    \"value\": 234.5,\n",
      "                    \"description\": \"Standard charge per day for Long Term Remote at East Aerodrome Parking\",\n",
      "                    \"unit\": \"EUROS\"\n",
      "                },\n",
      "                \"right\": {\n",
      "                    \"type\": \"VALUE\",\n",
      "                    \"value\": 2,\n",
      "                    \"description\": \"100% surcharge multiplier\",\n",
      "                    \"unit\": \"PERCENT\"\n",
      "                }\n",
      "            },\n",
      "            \"if_false\": {\n",
      "                \"type\": \"VALUE\",\n",
      "                \"value\": 234.5,\n",
      "                \"description\": \"Standard charge per day for Long Term Remote at East Aerodrome Parking\",\n",
      "                \"unit\": \"EUROS\"\n",
      "            }\n",
      "        }\n",
      "    },\n",
      "    \"right\": {\n",
      "        \"type\": \"BINARY_OPERATION\",\n",
      "        \"operator\": \"MULTIPLY\",\n",
      "        \"left\": {\n",
      "            \"type\": \"VARIABLE\",\n",
      "            \"name\": \"parking_duration_hours\",\n",
      "            \"description\": \"Total duration of parking in hours. Surcharges apply at 48 and 72 hours.\",\n",
      "            \"unit\": \"HOURS\"\n",
      "        },\n",
      "        \"right\": {\n",
      "            \"type\": \"BINARY_OPERATION\",\n",
      "            \"operator\": \"DIVIDE\",\n",
      "            \"left\": {\n",
      "                \"type\": \"VALUE\",\n",
      "                \"value\": 234.5,\n",
      "                \"description\": \"Standard charge per day for Long Term Remote at East Aerodrome Parking\",\n",
      "                \"unit\": \"EUROS\"\n",
      "            },\n",
      "            \"right\": {\n",
      "                \"type\": \"VALUE\",\n",
      "                \"value\": 24,\n",
      "                \"description\": \"Hours per day\",\n",
      "                \"unit\": \"HOURS\"\n",
      "            }\n",
      "        }\n",
      "    }\n",
      "}\n"
     ]
    }
   ],
   "source": [
    "print(json.dumps(json.loads(result[0][\"result_graph\"]), indent=4))"
   ]
  },
  {
   "cell_type": "markdown",
   "id": "2fc6205d-b897-4a65-af60-1f22d9e46f32",
   "metadata": {},
   "source": [
    "\n",
    "## Changes: \n",
    "- Tried on a new problem\n",
    "\n",
    "## Observations: \n",
    "\n",
    "## Discussion:\n",
    "\n",
    "## Next Steps:\n"
   ]
  },
  {
   "cell_type": "code",
   "execution_count": 22,
   "id": "f0e2289f-dedf-46d5-8796-9047b424d2ef",
   "metadata": {},
   "outputs": [
    {
     "name": "stdout",
     "output_type": "stream",
     "text": [
      "--- Building graph for charge category: 'east_aerodrome_parking_charge' ---\n"
     ]
    },
    {
     "data": {
      "application/vnd.jupyter.widget-view+json": {
       "model_id": "75a233b705ad4e5998934e810a1af4ef",
       "version_major": 2,
       "version_minor": 0
      },
      "text/plain": [
       "StitchWidget(initial_height='auto', initial_width='100%', srcdoc='<!doctype html>\\n<html lang=\"en\">\\n<head>\\n …"
      ]
     },
     "metadata": {},
     "output_type": "display_data"
    },
    {
     "name": "stdout",
     "output_type": "stream",
     "text": [
      "Execution time for 'build': 298.1813 seconds\n"
     ]
    }
   ],
   "source": [
    "query = \"Calculate the total parking charge for a Wide Satellite stand type at East Aerodrome Parking with no overnight parking. The parking duration is a variable with unit hours.\"\n",
    "charge_category = \"east_aerodrome_parking_charge\"\n",
    "\n",
    "result = create_computation_graph(model, query, charge_category)\n"
   ]
  },
  {
   "cell_type": "code",
   "execution_count": 23,
   "id": "7ca0d418-ba93-402d-8f86-1e220a4bbf71",
   "metadata": {},
   "outputs": [
    {
     "name": "stdout",
     "output_type": "stream",
     "text": [
      "{\n",
      "    \"query_parameters\": [\n",
      "        {\n",
      "            \"name\": \"aircraft_stand_type\",\n",
      "            \"status\": \"KNOWN\",\n",
      "            \"value\": \"Wide Satellite\"\n",
      "        },\n",
      "        {\n",
      "            \"name\": \"parking_duration_hours\",\n",
      "            \"status\": \"SYMBOLIC\",\n",
      "            \"value\": null\n",
      "        },\n",
      "        {\n",
      "            \"name\": \"is_overnight_parking\",\n",
      "            \"status\": \"KNOWN\",\n",
      "            \"value\": false\n",
      "        }\n",
      "    ]\n",
      "}\n"
     ]
    }
   ],
   "source": [
    "print(json.dumps(json.loads(result[0][\"thought1\"]), indent=4))"
   ]
  },
  {
   "cell_type": "code",
   "execution_count": 24,
   "id": "f584f45c-a89b-482e-acc8-daf2d221fd1c",
   "metadata": {},
   "outputs": [
    {
     "name": "stdout",
     "output_type": "stream",
     "text": [
      "{\n",
      "    \"identified_constants_and_rules\": [\n",
      "        \"The standard charge per aircraft/stand type for Wide Satellite at East Aerodrome Parking (EAP) is \\u20ac42.00 per 15 minutes or part thereof.\",\n",
      "        \"Parking surcharges apply for extended periods at EAP: 48 hours up to 72 hours (including night-time) attract a surcharge of Standard rate +100%, and 72 hours and over (including night-time) attract Standard rate +200%.\",\n",
      "        \"Overnight parking from 2300-0600hrs is free of charge, but the query specifies no overnight parking (is_overnight_parking = false).\",\n",
      "        \"The parking duration is a variable with unit hours, meaning the calculation must account for all possible values of parking_duration_hours.\",\n",
      "        \"The parking charge is calculated based on the number of 15-minute intervals in the parking duration, with each interval charged at the standard rate or surcharged rate depending on duration.\",\n",
      "        \"The minimum charge for light aircraft is \\u20ac3.20, but this does not apply to Wide Satellite stands.\",\n",
      "        \"The parking duration is measured from the actual time of arrival (landed time) to the actual time of departure (airborne time) minus 30 minutes, but this detail is not needed as the duration is given as a variable.\"\n",
      "    ]\n",
      "}\n"
     ]
    }
   ],
   "source": [
    "print(json.dumps(json.loads(result[0][\"thought2\"]), indent=4))"
   ]
  },
  {
   "cell_type": "code",
   "execution_count": 25,
   "id": "be714675-1d24-47eb-86d8-72492706aa33",
   "metadata": {},
   "outputs": [
    {
     "name": "stdout",
     "output_type": "stream",
     "text": [
      "{\n",
      "    \"synthesis_plan\": \"The total parking charge for a Wide Satellite stand at EAP depends on the parking duration. The base rate is \\u20ac42.00 per 15 minutes or part thereof. For durations between 48 and 72 hours, the rate is doubled (100% surcharge), and for durations over 72 hours, the rate is tripled (200% surcharge). Since the parking duration is symbolic, the calculation must include conditional logic to handle all possible values of parking_duration_hours. The formula will calculate the number of 15-minute intervals, apply the appropriate rate based on duration, and sum the charges.\"\n",
      "}\n"
     ]
    }
   ],
   "source": [
    "print(json.dumps(json.loads(result[0][\"thought3\"]), indent=4))"
   ]
  },
  {
   "cell_type": "code",
   "execution_count": 26,
   "id": "ecfe3920-c23f-4a52-a5d3-5b9ecb144e95",
   "metadata": {},
   "outputs": [
    {
     "name": "stdout",
     "output_type": "stream",
     "text": [
      "{\n",
      "    \"rethink\": \"The approach correctly identifies the base rate, surcharge conditions, and the need for conditional logic due to the symbolic parking duration. The calculation must account for the number of 15-minute intervals, apply surcharges based on duration, and handle all possible values of parking_duration_hours. The final expression tree will include conditional nodes for the surcharge tiers and a calculation for the total charge.\"\n",
      "}\n"
     ]
    }
   ],
   "source": [
    "print(json.dumps(json.loads(result[0][\"thought4\"]), indent=4))"
   ]
  },
  {
   "cell_type": "code",
   "execution_count": 27,
   "id": "b1754fc2-5829-45c0-8758-b40084119f41",
   "metadata": {},
   "outputs": [
    {
     "name": "stdout",
     "output_type": "stream",
     "text": [
      "{\n",
      "    \"type\": \"BINARY_OPERATION\",\n",
      "    \"operator\": \"ADD\",\n",
      "    \"left\": {\n",
      "        \"type\": \"CONDITIONAL\",\n",
      "        \"condition\": {\n",
      "            \"type\": \"COMPARISON\",\n",
      "            \"operator\": \"LESS_THAN\",\n",
      "            \"left\": {\n",
      "                \"type\": \"VARIABLE\",\n",
      "                \"name\": \"parking_duration_hours\",\n",
      "                \"description\": \"Total duration of parking in hours. Surcharges apply at 48 and 72 hours.\",\n",
      "                \"unit\": \"HOURS\"\n",
      "            },\n",
      "            \"right\": {\n",
      "                \"type\": \"VALUE\",\n",
      "                \"value\": 48,\n",
      "                \"description\": \"Threshold for 100% surcharge on parking duration.\",\n",
      "                \"unit\": \"HOURS\"\n",
      "            }\n",
      "        },\n",
      "        \"if_true\": {\n",
      "            \"type\": \"BINARY_OPERATION\",\n",
      "            \"operator\": \"MULTIPLY\",\n",
      "            \"left\": {\n",
      "                \"type\": \"BINARY_OPERATION\",\n",
      "                \"operator\": \"DIVIDE\",\n",
      "                \"left\": {\n",
      "                    \"type\": \"VARIABLE\",\n",
      "                    \"name\": \"parking_duration_hours\",\n",
      "                    \"description\": \"Total duration of parking in hours. Surcharges apply at 48 and 72 hours.\",\n",
      "                    \"unit\": \"HOURS\"\n",
      "                },\n",
      "                \"right\": {\n",
      "                    \"type\": \"VALUE\",\n",
      "                    \"value\": 0.25,\n",
      "                    \"description\": \"Conversion factor from hours to 15-minute intervals (1 hour = 4 intervals).\",\n",
      "                    \"unit\": \"HOURS\"\n",
      "                }\n",
      "            },\n",
      "            \"right\": {\n",
      "                \"type\": \"VALUE\",\n",
      "                \"value\": 42.0,\n",
      "                \"description\": \"Standard charge per 15 minutes or part thereof for Wide Satellite stand at East Aerodrome Parking.\",\n",
      "                \"unit\": \"EUROS\"\n",
      "            }\n",
      "        },\n",
      "        \"if_false\": {\n",
      "            \"type\": \"CONDITIONAL\",\n",
      "            \"condition\": {\n",
      "                \"type\": \"COMPARISON\",\n",
      "                \"operator\": \"LESS_THAN\",\n",
      "                \"left\": {\n",
      "                    \"type\": \"VARIABLE\",\n",
      "                    \"name\": \"parking_duration_hours\",\n",
      "                    \"description\": \"Total duration of parking in hours. Surcharges apply at 48 and 72 hours.\",\n",
      "                    \"unit\": \"HOURS\"\n",
      "                },\n",
      "                \"right\": {\n",
      "                    \"type\": \"VALUE\",\n",
      "                    \"value\": 72,\n",
      "                    \"description\": \"Threshold for 200% surcharge on parking duration.\",\n",
      "                    \"unit\": \"HOURS\"\n",
      "                }\n",
      "            },\n",
      "            \"if_true\": {\n",
      "                \"type\": \"BINARY_OPERATION\",\n",
      "                \"operator\": \"MULTIPLY\",\n",
      "                \"left\": {\n",
      "                    \"type\": \"BINARY_OPERATION\",\n",
      "                    \"operator\": \"DIVIDE\",\n",
      "                    \"left\": {\n",
      "                        \"type\": \"VARIABLE\",\n",
      "                        \"name\": \"parking_duration_hours\",\n",
      "                        \"description\": \"Total duration of parking in hours. Surcharges apply at 48 and 72 hours.\",\n",
      "                        \"unit\": \"HOURS\"\n",
      "                    },\n",
      "                    \"right\": {\n",
      "                        \"type\": \"VALUE\",\n",
      "                        \"value\": 0.25,\n",
      "                        \"description\": \"Conversion factor from hours to 15-minute intervals (1 hour = 4 intervals).\",\n",
      "                        \"unit\": \"HOURS\"\n",
      "                    }\n",
      "                },\n",
      "                \"right\": {\n",
      "                    \"type\": \"BINARY_OPERATION\",\n",
      "                    \"operator\": \"MULTIPLY\",\n",
      "                    \"left\": {\n",
      "                        \"type\": \"VALUE\",\n",
      "                        \"value\": 42.0,\n",
      "                        \"description\": \"Standard charge per 15 minutes or part thereof for Wide Satellite stand at East Aerodrome Parking.\",\n",
      "                        \"unit\": \"EUROS\"\n",
      "                    },\n",
      "                    \"right\": {\n",
      "                        \"type\": \"VALUE\",\n",
      "                        \"value\": 2,\n",
      "                        \"description\": \"100% surcharge multiplier for parking durations between 48 and 72 hours.\",\n",
      "                        \"unit\": \"UNITLESS\"\n",
      "                    }\n",
      "                }\n",
      "            },\n",
      "            \"if_false\": {\n",
      "                \"type\": \"BINARY_OPERATION\",\n",
      "                \"operator\": \"MULTIPLY\",\n",
      "                \"left\": {\n",
      "                    \"type\": \"BINARY_OPERATION\",\n",
      "                    \"operator\": \"DIVIDE\",\n",
      "                    \"left\": {\n",
      "                        \"type\": \"VARIABLE\",\n",
      "                        \"name\": \"parking_duration_hours\",\n",
      "                        \"description\": \"Total duration of parking in hours. Surcharges apply at 48 and 72 hours.\",\n",
      "                        \"unit\": \"HOURS\"\n",
      "                    },\n",
      "                    \"right\": {\n",
      "                        \"type\": \"VALUE\",\n",
      "                        \"value\": 0.25,\n",
      "                        \"description\": \"Conversion factor from hours to 15-minute intervals (1 hour = 4 intervals).\",\n",
      "                        \"unit\": \"HOURS\"\n",
      "                    }\n",
      "                },\n",
      "                \"right\": {\n",
      "                    \"type\": \"BINARY_OPERATION\",\n",
      "                    \"operator\": \"MULTIPLY\",\n",
      "                    \"left\": {\n",
      "                        \"type\": \"VALUE\",\n",
      "                        \"value\": 42.0,\n",
      "                        \"description\": \"Standard charge per 15 minutes or part thereof for Wide Satellite stand at East Aerodrome Parking.\",\n",
      "                        \"unit\": \"EUROS\"\n",
      "                    },\n",
      "                    \"right\": {\n",
      "                        \"type\": \"VALUE\",\n",
      "                        \"value\": 3,\n",
      "                        \"description\": \"200% surcharge multiplier for parking durations over 72 hours.\",\n",
      "                        \"unit\": \"UNITLESS\"\n",
      "                    }\n",
      "                }\n",
      "            }\n",
      "        }\n",
      "    },\n",
      "    \"right\": {\n",
      "        \"type\": \"VALUE\",\n",
      "        \"value\": 0,\n",
      "        \"description\": \"Overnight parking is free, but the query specifies no overnight parking (is_overnight_parking = false).\",\n",
      "        \"unit\": \"EUROS\"\n",
      "    }\n",
      "}\n"
     ]
    }
   ],
   "source": [
    "print(json.dumps(json.loads(result[0][\"result_graph\"]), indent=4))"
   ]
  },
  {
   "cell_type": "code",
   "execution_count": null,
   "id": "cc372f46-4d17-4f02-9991-dec0be556319",
   "metadata": {},
   "outputs": [
    {
     "name": "stdout",
     "output_type": "stream",
     "text": [
      "--- Building graph for charge category: 'east_aerodrome_parking_charge' ---\n"
     ]
    },
    {
     "data": {
      "application/vnd.jupyter.widget-view+json": {
       "model_id": "8684fc70e7d34f23969473f09f3aad41",
       "version_major": 2,
       "version_minor": 0
      },
      "text/plain": [
       "StitchWidget(initial_height='auto', initial_width='100%', srcdoc='<!doctype html>\\n<html lang=\"en\">\\n<head>\\n …"
      ]
     },
     "metadata": {},
     "output_type": "display_data"
    },
    {
     "name": "stdout",
     "output_type": "stream",
     "text": [
      "Execution time for 'build': 839.8929 seconds\n"
     ]
    },
    {
     "name": "stderr",
     "output_type": "stream",
     "text": [
      "IOPub message rate exceeded.\n",
      "The Jupyter server will temporarily stop sending output\n",
      "to the client in order to avoid crashing it.\n",
      "To change this limit, set the config variable\n",
      "`--ServerApp.iopub_msg_rate_limit`.\n",
      "\n",
      "Current values:\n",
      "ServerApp.iopub_msg_rate_limit=1000.0 (msgs/sec)\n",
      "ServerApp.rate_limit_window=3.0 (secs)\n",
      "\n"
     ]
    }
   ],
   "source": [
    "query = \"Calculate the total parking charge for a Light Aircraft Parking (LAP) stand type at East Aerodrome Parking with no overnight parking. The parking duration is a variable with unit hours.\"\n",
    "charge_category = \"east_aerodrome_parking_charge\"\n",
    "\n",
    "result = create_computation_graph(model, query, charge_category)\n"
   ]
  },
  {
   "cell_type": "code",
   "execution_count": 20,
   "id": "8522ac6a-b707-46c5-a162-b308215dc1b8",
   "metadata": {},
   "outputs": [
    {
     "name": "stdout",
     "output_type": "stream",
     "text": [
      "{\n",
      "    \"query_parameters\": [\n",
      "        {\n",
      "            \"name\": \"aircraft_stand_type\",\n",
      "            \"status\": \"KNOWN\",\n",
      "            \"value\": \"Light Aircraft Parking (LAP)\"\n",
      "        },\n",
      "        {\n",
      "            \"name\": \"parking_duration_hours\",\n",
      "            \"status\": \"SYMBOLIC\",\n",
      "            \"value\": null\n",
      "        },\n",
      "        {\n",
      "            \"name\": \"is_overnight_parking\",\n",
      "            \"status\": \"KNOWN\",\n",
      "            \"value\": false\n",
      "        }\n",
      "    ]\n",
      "}\n"
     ]
    }
   ],
   "source": [
    "print(json.dumps(json.loads(result[0][\"thought1\"]), indent=4))"
   ]
  },
  {
   "cell_type": "code",
   "execution_count": 21,
   "id": "8db45b5d-9731-4568-8aaf-8b3a068e3252",
   "metadata": {},
   "outputs": [
    {
     "name": "stdout",
     "output_type": "stream",
     "text": [
      "{\n",
      "    \"identified_constants_and_rules\": [\n",
      "        \"The parking charge for Light Aircraft Parking (LAP) at East Aerodrome Parking (EAP) is \\u20ac3.50 per 15 minutes or part thereof.\",\n",
      "        \"The parking duration is a variable with unit hours.\",\n",
      "        \"Overnight parking from 2300-0600hrs is free of charge, but the query specifies no overnight parking.\",\n",
      "        \"Aircraft parking for extended periods in EAP attract surcharges: 48 hours up to 72 hours (including night-time) has a surcharge of Standard rate +100%, and 72 hours and over has Standard rate +200%.\",\n",
      "        \"The parking charge is calculated from the actual time of arrival to the actual time of departure minus 30 minutes.\",\n",
      "        \"The minimum charge of \\u20ac3.20 applies for light aircraft.\",\n",
      "        \"The parking duration is a variable, so we need to account for all possible values.\"\n",
      "    ]\n",
      "}\n"
     ]
    }
   ],
   "source": [
    "print(json.dumps(json.loads(result[0][\"thought2\"]), indent=4))"
   ]
  },
  {
   "cell_type": "code",
   "execution_count": 22,
   "id": "c794e731-248a-4100-ad00-ab913fb91ed5",
   "metadata": {},
   "outputs": [
    {
     "name": "stdout",
     "output_type": "stream",
     "text": [
      "{\n",
      "    \"synthesis_plan\": \"The total parking charge for LAP at EAP is calculated by first determining the base rate of \\u20ac3.50 per 15 minutes or part thereof. Since the parking duration is a variable, we need to calculate the number of 15-minute intervals. However, we must also consider the surcharges for durations over 48 and 72 hours. The calculation should include a conditional check for the duration: if it's less than 48 hours, use the base rate; if between 48-72 hours, apply 100% surcharge; if over 72 hours, apply 200% surcharge. Additionally, the minimum charge of \\u20ac3.20 must be considered, but since the base rate is already higher than this, it may not affect the calculation. The overnight parking is not applicable here as per the query.\"\n",
      "}\n"
     ]
    }
   ],
   "source": [
    "print(json.dumps(json.loads(result[0][\"thought3\"]), indent=4))"
   ]
  },
  {
   "cell_type": "code",
   "execution_count": 23,
   "id": "ecddce59-93ed-4be2-ada3-ec9252d3f1ef",
   "metadata": {},
   "outputs": [
    {
     "name": "stdout",
     "output_type": "stream",
     "text": [
      "{\n",
      "    \"rethink\": \"The approach is correct, but I need to ensure that the surcharge conditions are properly represented as conditional nodes in the expression tree. Also, the calculation of 15-minute intervals needs to be accurately represented. The minimum charge of \\u20ac3.20 is lower than the base rate, so it should be considered as a minimum floor in the calculation.\"\n",
      "}\n"
     ]
    }
   ],
   "source": [
    "print(json.dumps(json.loads(result[0][\"thought4\"]), indent=4))"
   ]
  },
  {
   "cell_type": "code",
   "execution_count": 25,
   "id": "1b3d3a2a-219d-4ee5-ab1d-f487b085cc71",
   "metadata": {},
   "outputs": [
    {
     "data": {
      "text/plain": [
       "'{\"type\": \"BINARY_OPERATION\", \"operator\": \"ADD\", \"left\": {\"type\": \"CONDITIONAL\", \"condition\": {\"type\": \"COMPARISON\", \"operator\": \"GREATER_THAN\", \"left\": {\"type\": \"VARIABLE\", \"name\": \"parking_duration_hours\", \"description\": \"Total duration of parking in hours. Surcharges apply at 48 and 72 hours.\", \"unit\": \"HOURS\"}, \"right\": {\"type\": \"VALUE\", \"value\": 72, \"description\": \"Threshold for 200% surcharge on parking duration.\", \"unit\": \"HOURS\"}}, \"if_true\": {\"type\": \"BINARY_OPERATION\", \"operator\": \"MULTIPLY\", \"left\": {\"type\": \"VALUE\", \"value\": 3.50, \"description\": \"Standard charge per 15 minutes or part thereof for Light Aircraft Parking (LAP) at East Aerodrome Parking (EAP).\", \"unit\": \"EUROS\"}, \"right\": {\"type\": \"BINARY_OPERATION\", \"operator\": \"DIVIDE\", \"left\": {\"type\": \"VARIABLE\", \"name\": \"parking_duration_hours\", \"description\": \"Total duration of parking in hours. Surcharges apply at 48 and 72 hours.\", \"unit\": \"HOURS\"}, \"right\": {\"type\": \"VALUE\", \"value\": 0.25, \"description\": \"Conversion factor from hours to 15-minute intervals (1 hour = 4 intervals).\", \"unit\": \"HOURS\"}}, \"description\": \"Calculate the base charge for parking duration with 200% surcharge applied.\"}, \"if_false\": {\"type\": \"CONDITIONAL\", \"condition\": {\"type\": \"COMPARISON\", \"operator\": \"GREATER_THAN\", \"left\": {\"type\": \"VARIABLE\", \"name\": \"parking_duration_hours\", \"description\": \"Total duration of parking in hours. Surcharges apply at 48 and 72 hours.\", \"unit\": \"HOURS\"}, \"right\": {\"type\": \"VALUE\", \"value\": 48, \"description\": \"Threshold for 100% surcharge on parking duration.\", \"unit\": \"HOURS\"}}, \"if_true\": {\"type\": \"BINARY_OPERATION\", \"operator\": \"MULTIPLY\", \"left\": {\"type\": \"VALUE\", \"value\": 3.50, \"description\": \"Standard charge per 15 minutes or part thereof for Light Aircraft Parking (LAP) at East Aerodrome Parking (EAP).\", \"unit\": \"EUROS\"}, \"right\": {\"type\": \"BINARY_OPERATION\", \"operator\": \"DIVIDE\", \"left\": {\"type\": \"VARIABLE\", \"name\": \"parking_duration_hours\", \"description\": \"Total duration of parking in hours. Surcharges apply at 48 and 72 hours.\", \"unit\": \"HOURS\"}, \"right\": {\"type\": \"VALUE\", \"value\": 0.25, \"description\": \"Conversion factor from hours to 15-minute intervals (1 hour = 4 intervals).\", \"unit\": \"HOURS\"}}, \"description\": \"Calculate the base charge for parking duration with 100% surcharge applied.\"}, \"if_false\": {\"type\": \"BINARY_OPERATION\", \"operator\": \"MULTIPLY\", \"left\": {\"type\": \"VALUE\", \"value\": 3.50, \"description\": \"Standard charge per 15 minutes or part thereof for Light Aircraft Parking (LAP) at East Aerodrome Parking (EAP).\", \"unit\": \"EUROS\"}, \"right\": {\"type\": \"BINARY_OPERATION\", \"operator\": \"DIVIDE\", \"left\": {\"type\": \"VARIABLE\", \"name\": \"parking_duration_hours\", \"description\": \"Total duration of parking in hours. Surcharges apply at 48 and 72 hours.\", \"unit\": \"HOURS\"}, \"right\": {\"type\": \"VALUE\", \"value\": 0.25, \"description\": \"Conversion factor from hours to 15-minute intervals (1 hour = 4 intervals).\", \"unit\": \"HOURS\"}}, \"description\": \"Calculate the base charge for parking duration without surcharge.\"}}, \"description\": \"Calculate the total parking charge for Light Aircraft Parking (LAP) at East Aerodrome Parking (EAP) with surcharges applied based on duration.\"}, \"right\": {\"type\": \"CONDITIONAL\", \"condition\": {\"type\": \"COMPARISON\", \"operator\": \"LESS_THAN\", \"left\": {\"type\": \"BINARY_OPERATION\", \"operator\": \"MULTIPLY\", \"left\": {\"type\": \"VALUE\", \"value\": 3.50, \"description\": \"Standard charge per 15 minutes or part thereof for Light Aircraft Parking (LAP) at East Aerodrome Parking (EAP).\", \"unit\": \"EUROS\"}, \"right\": {\"type\": \"BINARY_OPERATION\", \"operator\": \"DIVIDE\", \"left\": {\"type\": \"VARIABLE\", \"name\": \"parking_duration_hours\", \"description\": \"Total duration of parking in hours. Surcharges apply at 48 and 72 hours.\", \"unit\": \"HOURS\"}, \"right\": {\"type\": \"VALUE\", \"value\": 0.25, \"description\": \"Conversion factor from hours to 15-minute intervals (1 hour = 4 intervals).\", \"unit\": \"HOURS\"}}, \"right\\\\\": \\\\\"3.20\\\\\"}, \\\\\"if_true\\\\\": \\\\\"3.20\\\\\", \\\\\"if_false\\\\\": \\\\\"the calculated charge\\\\\"}, \\\\\"description\\\\\": \\\\\"Ensure the minimum charge of €3.20 is applied if the calculated charge is lower.\\\\\"}”}”}”}”}”}”}”}”}”}”}”}”}”}”}”}”}”}”}”}”}”}”}”}”}”}”}”}”}”}”}”}”}”}”}”}”}”}”}”}”}”}”}”}”}”}”}”}”}”}”}”}”}”}”}”}”}”}”}”}”}”}”}”}”}”}”}”}”}”}”}”}”}”}”}”}”}”}”}”}”}”}”}”}”}”}”}”}”}”}”}”}”}”}”}”}”}”}”}”}”}”}”}”}”}”}”}”}”}”}”}”}”}”}”}”}”}”}”}”}”}”}”}”}”}”}”}”}”}”}”}”}”}”}”}”}”}”}”}”}”}”}”}”}”}”}”}”}”}”}”}”}”}”}”}”}”}”}”}”}”}”}”}”}”}”}”}”}”}”}”}”}”}”}”}”}”}”}”}”}”}”}”}”}”}”}”}”}”}”}”}”}”}”}”}”}”}”}”}”}”}”}”}”}”}”}”}”}”}”}”}”}”}”}”}”}”}”}”}”}”}”}”}”}”}”}”}”}”}”}”}”}”}”}”}”}”}”}”}”}”}”}”}”}”}”}”}”}”}”}”}”}”}”}”}”}”}”}”}”}”}”}”}”}”}”}”}”}”}”}”}”}”}”}”}”}”}”}”}”}”}”}”}”}”}”}”}”}”}”}”}”}”}”}”}”}”}”}”}”}”}”}”}”}”}”}”}”}”}”}”}”}”}”}”}”}”}”}”}”}”}”}”}”}”}”}”}”}”}”}”}”}”}”}”}”}”}”}”}”}”}”}”}”}”}”}”}”}”}”}”}”}”}”}”}”}”}”}”}”}”}”}”}”}”}”}”}”}”}”}”}”}”}”}”}”}”}”}”}”}”}”}”}”}”}”}”}”}”}”}”}: '"
      ]
     },
     "execution_count": 25,
     "metadata": {},
     "output_type": "execute_result"
    }
   ],
   "source": [
    "result[0][\"result_graph\"]"
   ]
  },
  {
   "cell_type": "code",
   "execution_count": 50,
   "id": "59758a08-a660-4b29-8a45-4be01e2f74cd",
   "metadata": {},
   "outputs": [
    {
     "name": "stdout",
     "output_type": "stream",
     "text": [
      "--- Building graph for charge category: 'east_aerodrome_parking_charge' ---\n"
     ]
    },
    {
     "data": {
      "application/vnd.jupyter.widget-view+json": {
       "model_id": "03cbddef239f4cfda4e12d21d6401d1a",
       "version_major": 2,
       "version_minor": 0
      },
      "text/plain": [
       "StitchWidget(initial_height='auto', initial_width='100%', srcdoc='<!doctype html>\\n<html lang=\"en\">\\n<head>\\n …"
      ]
     },
     "metadata": {},
     "output_type": "display_data"
    },
    {
     "name": "stdout",
     "output_type": "stream",
     "text": [
      "Execution time for 'build': 404.2457 seconds\n"
     ]
    },
    {
     "name": "stderr",
     "output_type": "stream",
     "text": [
      "IOPub message rate exceeded.\n",
      "The Jupyter server will temporarily stop sending output\n",
      "to the client in order to avoid crashing it.\n",
      "To change this limit, set the config variable\n",
      "`--ServerApp.iopub_msg_rate_limit`.\n",
      "\n",
      "Current values:\n",
      "ServerApp.iopub_msg_rate_limit=1000.0 (msgs/sec)\n",
      "ServerApp.rate_limit_window=3.0 (secs)\n",
      "\n"
     ]
    }
   ],
   "source": [
    "query = \"Calculate the total parking charge for a Light Aircraft Parking (LAP) stand type at East Aerodrome Parking with no overnight parking. The parking duration is a variable with unit hours.\"\n",
    "charge_category = \"east_aerodrome_parking_charge\"\n",
    "\n",
    "result = create_computation_graph(model, query, charge_category)\n"
   ]
  },
  {
   "cell_type": "code",
   "execution_count": 53,
   "id": "a2bf399c-0bb8-4cbb-8d9a-ed7e50267da6",
   "metadata": {},
   "outputs": [
    {
     "name": "stdout",
     "output_type": "stream",
     "text": [
      "{\n",
      "    \"rethink\": \"The query specifies that the parking duration is a variable with unit hours, and we must account for all possible values. The surcharge rules are based on duration thresholds (48 and 72 hours), so we must use conditional logic to handle these cases. The base rate is \\u20ac3.50 per 15 minutes, and since the charge is per 15 minutes or part thereof, we must round up the duration to the next 15-minute interval. The minimum charge of \\u20ac3.20 is already covered by the base rate, so it does not need to be explicitly applied. The 'no overnight parking' condition means we do not apply the free overnight period, so the full duration is charged. The final expression tree must include:\\n- A function to convert hours to 15-minute intervals (ceiling division by 0.25)\\n- Conditional logic for surcharges based on duration thresholds\\n- Multiplication of the base rate by the number of intervals and the surcharge factor\\nAll of this must be structured as a JSON expression tree with proper node types.\"\n",
      "}\n"
     ]
    }
   ],
   "source": [
    "print(json.dumps(json.loads(result[0][\"thought4\"]), indent=4))"
   ]
  },
  {
   "cell_type": "code",
   "execution_count": 54,
   "id": "0fe27295-9b59-4ed3-857f-e153d0e0f92c",
   "metadata": {},
   "outputs": [
    {
     "name": "stdout",
     "output_type": "stream",
     "text": [
      "{\n",
      "    \"synthesis_plan\": \"1. Start with the base rate for LAP at EAP: \\u20ac3.50 per 15 minutes or part thereof.\\n2. Convert the variable parking_duration_hours into number of 15-minute intervals (each interval counts as 1 unit).\\n3. Apply a minimum charge of \\u20ac3.20, but since the base rate is already \\u20ac3.50, this is automatically satisfied.\\n4. Since the query specifies 'no overnight parking', we do not subtract any free time.\\n5. Check if the parking duration exceeds 48 or 72 hours, and apply surcharges accordingly:\\n   - If parking_duration_hours \\u2264 48: no surcharge\\n   - If 48 < parking_duration_hours \\u2264 72: surcharge of +100% (i.e., double the rate)\\n   - If parking_duration_hours > 72: surcharge of +200% (i.e., triple the rate)\\n6. The final charge is the base rate multiplied by the number of 15-minute intervals, adjusted by the applicable surcharge factor.\\n7. Represent this logic using a conditional expression tree with branching on the value of parking_duration_hours.\"\n",
      "}\n"
     ]
    }
   ],
   "source": [
    "print(json.dumps(json.loads(result[0][\"thought3\"]), indent=4))"
   ]
  },
  {
   "cell_type": "code",
   "execution_count": 55,
   "id": "645fbdf7-dffd-4569-8d8b-70b214053c94",
   "metadata": {},
   "outputs": [
    {
     "name": "stdout",
     "output_type": "stream",
     "text": [
      "{\n",
      "    \"identified_constants_and_rules\": [\n",
      "        \"The standard charge for Light Aircraft Parking (LAP) at East Aerodrome Parking (EAP) is \\u20ac3.50 per 15 minutes or part thereof.\",\n",
      "        \"Overnight parking from 2300-0600hrs is free of charge.\",\n",
      "        \"Parking charges are calculated from the actual time of arrival (landed time) to the actual time of departure (airborne time) minus 30 minutes.\",\n",
      "        \"For extended parking periods, surcharges apply: 48 hours up to 72 hours (including night-time) \\u2192 Standard rate +100%; 72 hours and over \\u2192 Standard rate +200%.\",\n",
      "        \"However, since the query specifies 'no overnight parking', the overnight free period does not apply.\",\n",
      "        \"The parking duration is a variable in hours, and the charge is per 15 minutes or part thereof.\",\n",
      "        \"A minimum charge of \\u20ac3.20 applies for light aircraft.\",\n",
      "        \"Surcharges outlined in Table 1 apply for light aircraft parked in the designated parking zone and/or in any other EAP area.\",\n",
      "        \"The query specifies 'no overnight parking', so the free overnight period is not applicable.\",\n",
      "        \"The parking duration is a variable, so we must account for all possible durations using conditional logic.\"\n",
      "    ]\n",
      "}\n"
     ]
    }
   ],
   "source": [
    "print(json.dumps(json.loads(result[0][\"thought2\"]), indent=4))"
   ]
  },
  {
   "cell_type": "code",
   "execution_count": 56,
   "id": "cb6cb952-b187-42e6-ad21-463df6fa7078",
   "metadata": {},
   "outputs": [
    {
     "name": "stdout",
     "output_type": "stream",
     "text": [
      "{\n",
      "    \"query_parameters\": [\n",
      "        {\n",
      "            \"name\": \"aircraft_stand_type\",\n",
      "            \"status\": \"KNOWN\",\n",
      "            \"value\": \"Light Aircraft Parking (LAP)\"\n",
      "        },\n",
      "        {\n",
      "            \"name\": \"parking_duration_hours\",\n",
      "            \"status\": \"SYMBOLIC\",\n",
      "            \"value\": null\n",
      "        },\n",
      "        {\n",
      "            \"name\": \"is_overnight_parking\",\n",
      "            \"status\": \"KNOWN\",\n",
      "            \"value\": false\n",
      "        },\n",
      "        {\n",
      "            \"name\": \"sector\",\n",
      "            \"status\": \"KNOWN\",\n",
      "            \"value\": \"East Aerodrome Parking (EAP)\"\n",
      "        }\n",
      "    ]\n",
      "}\n"
     ]
    }
   ],
   "source": [
    "print(json.dumps(json.loads(result[0][\"thought1\"]), indent=4))"
   ]
  },
  {
   "cell_type": "code",
   "execution_count": 57,
   "id": "1c5f167a-bfa4-4d48-9e2f-7801103d9ae3",
   "metadata": {},
   "outputs": [
    {
     "name": "stdout",
     "output_type": "stream",
     "text": [
      "{\n",
      "    \"type\": \"BINARY_OPERATION\",\n",
      "    \"operator\": \"ADD\",\n",
      "    \"left\": {\n",
      "        \"type\": \"CONDITIONAL\",\n",
      "        \"condition\": {\n",
      "            \"type\": \"COMPARISON\",\n",
      "            \"operator\": \"LESS_THAN\",\n",
      "            \"left\": {\n",
      "                \"type\": \"VARIABLE\",\n",
      "                \"name\": \"parking_duration_hours\",\n",
      "                \"description\": \"Total duration of parking in hours.\",\n",
      "                \"unit\": \"HOURS\"\n",
      "            },\n",
      "            \"right\": {\n",
      "                \"type\": \"VALUE\",\n",
      "                \"value\": 48,\n",
      "                \"description\": \"Threshold for first surcharge.\",\n",
      "                \"unit\": \"HOURS\"\n",
      "            }\n",
      "        },\n",
      "        \"if_true\": {\n",
      "            \"type\": \"BINARY_OPERATION\",\n",
      "            \"operator\": \"MULTIPLY\",\n",
      "            \"left\": {\n",
      "                \"type\": \"VALUE\",\n",
      "                \"value\": 3.5,\n",
      "                \"description\": \"Standard charge per 15 minutes for LAP at EAP.\",\n",
      "                \"unit\": \"EUROS\"\n",
      "            },\n",
      "            \"right\": {\n",
      "                \"type\": \"BINARY_OPERATION\",\n",
      "                \"operator\": \"DIVIDE\",\n",
      "                \"left\": {\n",
      "                    \"type\": \"BINARY_OPERATION\",\n",
      "                    \"operator\": \"ADD\",\n",
      "                    \"left\": {\n",
      "                        \"type\": \"VARIABLE\",\n",
      "                        \"name\": \"parking_duration_hours\",\n",
      "                        \"description\": \"Total duration of parking in hours.\",\n",
      "                        \"unit\": \"HOURS\"\n",
      "                    },\n",
      "                    \"right\": {\n",
      "                        \"type\": \"VALUE\",\n",
      "                        \"value\": 0.25,\n",
      "                        \"description\": \"15 minutes in hours.\",\n",
      "                        \"unit\": \"HOURS\"\n",
      "                    }\n",
      "                },\n",
      "                \"right\": {\n",
      "                    \"type\": \"VALUE\",\n",
      "                    \"value\": 0.25,\n",
      "                    \"description\": \"15 minutes in hours.\",\n",
      "                    \"unit\": \"HOURS\"\n",
      "                }\n",
      "            }\n",
      "        },\n",
      "        \"if_false\": {\n",
      "            \"type\": \"CONDITIONAL\",\n",
      "            \"condition\": {\n",
      "                \"type\": \"COMPARISON\",\n",
      "                \"operator\": \"LESS_THAN\",\n",
      "                \"left\": {\n",
      "                    \"type\": \"VARIABLE\",\n",
      "                    \"name\": \"parking_duration_hours\",\n",
      "                    \"description\": \"Total duration of parking in hours.\",\n",
      "                    \"unit\": \"HOURS\"\n",
      "                },\n",
      "                \"right\": {\n",
      "                    \"type\": \"VALUE\",\n",
      "                    \"value\": 72,\n",
      "                    \"description\": \"Threshold for second surcharge.\",\n",
      "                    \"unit\": \"HOURS\"\n",
      "                }\n",
      "            },\n",
      "            \"if_true\": {\n",
      "                \"type\": \"BINARY_OPERATION\",\n",
      "                \"operator\": \"MULTIPLY\",\n",
      "                \"left\": {\n",
      "                    \"type\": \"VALUE\",\n",
      "                    \"value\": 3.5,\n",
      "                    \"description\": \"Standard charge per 15 minutes for LAP at EAP.\",\n",
      "                    \"unit\": \"EUROS\"\n",
      "                },\n",
      "                \"right\": {\n",
      "                    \"type\": \"BINARY_OPERATION\",\n",
      "                    \"operator\": \"DIVIDE\",\n",
      "                    \"left\": {\n",
      "                        \"type\": \"BINARY_OPERATION\",\n",
      "                        \"operator\": \"ADD\",\n",
      "                        \"left\": {\n",
      "                            \"type\": \"VARIABLE\",\n",
      "                            \"name\": \"parking_duration_hours\",\n",
      "                            \"description\": \"Total duration of parking in hours.\",\n",
      "                            \"unit\": \"HOURS\"\n",
      "                        },\n",
      "                        \"right\": {\n",
      "                            \"type\": \"VALUE\",\n",
      "                            \"value\": 0.25,\n",
      "                            \"description\": \"15 minutes in hours.\",\n",
      "                            \"unit\": \"HOURS\"\n",
      "                        }\n",
      "                    },\n",
      "                    \"right\": {\n",
      "                        \"type\": \"VALUE\",\n",
      "                        \"value\": 0.25,\n",
      "                        \"description\": \"15 minutes in hours.\",\n",
      "                        \"unit\": \"HOURS\"\n",
      "                    }\n",
      "                },\n",
      "                \"right_multiplier\": {\n",
      "                    \"type\": \"VALUE\",\n",
      "                    \"value\": 2,\n",
      "                    \"description\": \"Surcharges: 48 to 72 hours \\u2192 +100% (double the rate).\",\n",
      "                    \"unit\": \"UNIT\"\n",
      "                }\n",
      "            },\n",
      "            \"if_false\": {\n",
      "                \"type\": \"BINARY_OPERATION\",\n",
      "                \"operator\": \"MULTIPLY\",\n",
      "                \"left\": {\n",
      "                    \"type\": \"VALUE\",\n",
      "                    \"value\": 3.5,\n",
      "                    \"description\": \"Standard charge per 15 minutes for LAP at EAP.\",\n",
      "                    \"unit\": \"EUROS\"\n",
      "                },\n",
      "                \"right\": {\n",
      "                    \"type\": \"BINARY_OPERATION\",\n",
      "                    \"operator\": \"DIVIDE\",\n",
      "                    \"left\": {\n",
      "                        \"type\": \"BINARY_OPERATION\",\n",
      "                        \"operator\": \"ADD\",\n",
      "                        \"left\": {\n",
      "                            \"type\": \"VARIABLE\",\n",
      "                            \"name\": \"parking_duration_hours\",\n",
      "                            \"description\": \"Total duration of parking in hours.\",\n",
      "                            \"unit\": \"HOURS\"\n",
      "                        },\n",
      "                        \"right\": {\n",
      "                            \"type\": \"VALUE\",\n",
      "                            \"value\": 0.25,\n",
      "                            \"description\": \"15 minutes in hours.\",\n",
      "                            \"unit\": \"HOURS\"\n",
      "                        }\n",
      "                    },\n",
      "                    \"right\": {\n",
      "                        \"type\": \"VALUE\",\n",
      "                        \"value\": 0.25,\n",
      "                        \"description\": \"15 minutes in hours.\",\n",
      "                        \"unit\": \"HOURS\"\n",
      "                    }\n",
      "                },\n",
      "                \"right_multiplier\": {\n",
      "                    \"type\": \"VALUE\",\n",
      "                    \"value\": 3,\n",
      "                    \"description\": \"Surcharges: over 72 hours \\u2192 +200% (triple the rate).\",\n",
      "                    \"unit\": \"UNIT\"\n",
      "                }\n",
      "            }\n",
      "        }\n",
      "    },\n",
      "    \"right\": {\n",
      "        \"type\": \"VALUE\",\n",
      "        \"value\": 0,\n",
      "        \"description\": \"No additional charges beyond the base and surcharge.\",\n",
      "        \"unit\": \"EUROS\"\n",
      "    }\n",
      "}\n"
     ]
    }
   ],
   "source": [
    "print(json.dumps(json.loads(result[0][\"result_graph\"]), indent=4))"
   ]
  },
  {
   "cell_type": "code",
   "execution_count": null,
   "id": "b891215c-2ddb-40fd-9844-9b75dd72c510",
   "metadata": {},
   "outputs": [],
   "source": [
    "query = \"Calculate the total parking charge for a Light Aircraft Parking (LAP) stand type at East Aerodrome Parking with no overnight parking. The parking duration is a variable with unit hours.\"\n",
    "charge_category = \"east_aerodrome_parking_charge\"\n",
    "\n",
    "result = create_computation_graph(model, query, charge_category)\n"
   ]
  },
  {
   "cell_type": "code",
   "execution_count": null,
   "id": "b1dfa68c-cec6-464a-835c-a2d0056f9d49",
   "metadata": {},
   "outputs": [],
   "source": []
  },
  {
   "cell_type": "code",
   "execution_count": null,
   "id": "d58da993-cd69-48d0-ba02-2dbd036cf8e1",
   "metadata": {},
   "outputs": [],
   "source": []
  },
  {
   "cell_type": "code",
   "execution_count": null,
   "id": "35085749",
   "metadata": {},
   "outputs": [],
   "source": []
  }
 ],
 "metadata": {
  "kernelspec": {
   "display_name": ".venv",
   "language": "python",
   "name": "python3"
  },
  "language_info": {
   "codemirror_mode": {
    "name": "ipython",
    "version": 3
   },
   "file_extension": ".py",
   "mimetype": "text/x-python",
   "name": "python",
   "nbconvert_exporter": "python",
   "pygments_lexer": "ipython3",
   "version": "3.11.5"
  }
 },
 "nbformat": 4,
 "nbformat_minor": 5
}
