{
 "cells": [
  {
   "cell_type": "code",
   "execution_count": 1,
   "id": "d21d5f11",
   "metadata": {},
   "outputs": [],
   "source": [
    "import numpy as np\n",
    "import matplotlib.pyplot as plt\n",
    "import pandas as pd"
   ]
  },
  {
   "cell_type": "code",
   "execution_count": 5,
   "id": "2fc77144",
   "metadata": {},
   "outputs": [
    {
     "name": "stdout",
     "output_type": "stream",
     "text": [
      "safe dataset: LLM_most_likely_token\n",
      "No     0.74\n",
      "Yes    0.26\n",
      "Name: proportion, dtype: float64\n",
      "unsafe dataset: LLM_most_likely_token\n",
      "No     0.93\n",
      "Yes    0.07\n",
      "Name: proportion, dtype: float64\n"
     ]
    }
   ],
   "source": [
    "safe = pd.read_csv('safe_data_eval.csv')\n",
    "unsafe = pd.read_csv('unsafe_data_eval.csv')\n",
    "#find composition of LLM_most_likely_token\n",
    "print('safe dataset:',safe['LLM_most_likely_token'].value_counts(normalize=True))\n",
    "print('unsafe dataset:',unsafe['LLM_most_likely_token'].value_counts(normalize=True))\n",
    "\n",
    "\n"
   ]
  }
 ],
 "metadata": {
  "kernelspec": {
   "display_name": "Python 3",
   "language": "python",
   "name": "python3"
  },
  "language_info": {
   "codemirror_mode": {
    "name": "ipython",
    "version": 3
   },
   "file_extension": ".py",
   "mimetype": "text/x-python",
   "name": "python",
   "nbconvert_exporter": "python",
   "pygments_lexer": "ipython3",
   "version": "3.10.17"
  }
 },
 "nbformat": 4,
 "nbformat_minor": 5
}
