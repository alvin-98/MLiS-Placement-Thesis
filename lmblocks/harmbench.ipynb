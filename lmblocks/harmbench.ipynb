{
 "cells": [
  {
   "cell_type": "code",
   "execution_count": null,
   "id": "6120abc1",
   "metadata": {},
   "outputs": [],
   "source": [
    "from lmblocks.utils.credentials_utils import set_hf_token\n",
    "import lmblocks as lmb\n",
    "from datasets import load_dataset\n",
    "import pandas as pd\n",
    "\n",
    "set_hf_token()"
   ]
  },
  {
   "cell_type": "code",
   "execution_count": null,
   "id": "4b345b06",
   "metadata": {},
   "outputs": [],
   "source": [
    "dataset = load_dataset(\"walledai/HarmBench\",'standard', split=\"train\")"
   ]
  },
  {
   "cell_type": "code",
   "execution_count": null,
   "id": "03ea55bf",
   "metadata": {},
   "outputs": [],
   "source": [
    "# MODEL_NAME = \"deepseek-ai/DeepSeek-R1-Distill-Qwen-7B\"\n",
    "# MODEL_NAME = \"deepcogito/cogito-v1-preview-llama-8B\"\n",
    "MODEL_NAME = \"meta-llama/Llama-3.2-1B-Instruct\"\n",
    "# temperatures = np.linspace(0.2, 1.0, 5)\n",
    "\n",
    "model = lmb.models.HuggingFaceModel(MODEL_NAME, device='cuda')\n",
    "decoder = lmb.TemperatureDecoder(temperature=0.7)"
   ]
  },
  {
   "cell_type": "code",
   "execution_count": null,
   "id": "6e615ea0",
   "metadata": {},
   "outputs": [],
   "source": [
    "dataset[\"prompt\"][0:2]"
   ]
  },
  {
   "cell_type": "code",
   "execution_count": null,
   "id": "2f865778",
   "metadata": {},
   "outputs": [],
   "source": [
    "input_text = dataset['prompt'][0:2] # need to prompt this as a chat/with acceptable system prompt etc"
   ]
  },
  {
   "cell_type": "code",
   "execution_count": null,
   "id": "c9e5edd3",
   "metadata": {},
   "outputs": [],
   "source": [
    "completion = lmb.get_completions(\n",
    "    input_ = input_text,\n",
    "    model=model,\n",
    "    decoding_strategy=decoder,\n",
    "    max_generated_tokens=200,\n",
    "    remove_input_tokens=True\n",
    ")"
   ]
  },
  {
   "cell_type": "code",
   "execution_count": null,
   "id": "ebcbfbce",
   "metadata": {},
   "outputs": [],
   "source": [
    "print(\"Input Text:\")\n",
    "print(\"=\" * 20)\n",
    "print(input_text[0])\n",
    "print(\"\\nGenerated Completion:\")\n",
    "print(\"=\" * 20)\n",
    "print(completion[0])"
   ]
  },
  {
   "cell_type": "code",
   "execution_count": null,
   "id": "ff547a3a",
   "metadata": {},
   "outputs": [],
   "source": [
    "print(\"Input text:\")\n",
    "print(\"=\" * 20)\n",
    "print(input_text[1])\n",
    "print(\"\\nGenerated Completion:\")\n",
    "print(\"=\" * 20)\n",
    "print(completion[1])"
   ]
  },
  {
   "cell_type": "code",
   "execution_count": null,
   "id": "fda3a704",
   "metadata": {},
   "outputs": [],
   "source": [
    "completions = {\"prompt\": [], \"completion\": [], \"decoder\": [], \"model\": []}\n",
    "\n",
    "for i in range(len(input_text)):\n",
    "    completions[\"prompt\"].append(input_text[i])\n",
    "    completions[\"completion\"].append(completion[i])\n",
    "    completions[\"decoder\"].append(decoder.label)\n",
    "    completions[\"model\"].append(model.label)"
   ]
  },
  {
   "cell_type": "code",
   "execution_count": null,
   "id": "86c47b44",
   "metadata": {},
   "outputs": [],
   "source": [
    "completions_df = pd.DataFrame(completions)"
   ]
  },
  {
   "cell_type": "code",
   "execution_count": null,
   "id": "ccbeeeba",
   "metadata": {},
   "outputs": [],
   "source": [
    "completions_df.to_csv(\"harmbench_data/completions/harmbench_completions.csv\", index=False)"
   ]
  },
  {
   "cell_type": "code",
   "execution_count": null,
   "id": "176c2edf",
   "metadata": {},
   "outputs": [],
   "source": []
  }
 ],
 "metadata": {
  "kernelspec": {
   "display_name": "cdb",
   "language": "python",
   "name": "python3"
  },
  "language_info": {
   "codemirror_mode": {
    "name": "ipython",
    "version": 3
   },
   "file_extension": ".py",
   "mimetype": "text/x-python",
   "name": "python",
   "nbconvert_exporter": "python",
   "pygments_lexer": "ipython3",
   "version": "3.11.0"
  }
 },
 "nbformat": 4,
 "nbformat_minor": 5
}
