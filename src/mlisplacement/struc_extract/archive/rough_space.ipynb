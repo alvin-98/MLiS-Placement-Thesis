{
 "cells": [
  {
   "cell_type": "code",
   "execution_count": 20,
   "id": "376f6a1a-aaac-462d-a148-5e2cb3cfdf15",
   "metadata": {},
   "outputs": [],
   "source": [
    "tiny_markdown_path = \"output/2025-airport-charges-terms-and-conditions/tinychargesmarkdown.md\"\n",
    "\n",
    "condition = \"transfer_passenger_count: 30, season: winter airline scheduling season\"\n",
    "with open(tiny_markdown_path, \"r\", encoding=\"utf-8\") as file:\n",
    "    content = file.read()"
   ]
  },
  {
   "cell_type": "code",
   "execution_count": 21,
   "id": "61e0ff5e-f4e2-489e-aa2f-6cbc1603e0f0",
   "metadata": {},
   "outputs": [],
   "source": [
    "prompt = \"\"\"You are an expert aviation cost analyst. Your task is to extract aircraft charging rules from the provided document text.\n",
    "\n",
    "You must then convert each rule into a computation graph represented as a recursive JSON object. \n",
    "The computation graph follows this structure:\n",
    "\n",
    "Node:\n",
    "    - operator (str, optional): one of [\"+\", \"-\", \"*\", \"/\", \"and\", \"or\", \"==\"]\n",
    "    - value (int | float | str, optional): only for leaf nodes\n",
    "    - childA (Node, optional): left operand\n",
    "    - childB (Node, optional): right operand\n",
    "\n",
    "Return only the computation graph as a valid JSON matching this schema. Do not return any explanation.\n",
    "\n",
    "---\n",
    "\n",
    "# EXAMPLE\n",
    "\n",
    "Document Text:\n",
    "# 3.5. Transfer Passenger Charge  \n",
    "<html> <table><thead><tr><th>Charging Basis (€)</th><th>Summer Airline<br>Scheduling Season</th><th>Winter Airline<br>Scheduling Season</th></tr></thead><tbody><tr><td>Transfer Passenger Charge</td><td><span style=\"background-color: yellow;\">3.90</span></td><td><span style=\"background-color: yellow;\">2.80</span></td></tr></tbody></table></html>  \n",
    "• Transfer Passenger information shall be provided via PTM.  \n",
    "• A QRF will have its Transfer Passenger Charge exempted on first departure.  \n",
    "This fee contributes to security and baggage screening.\n",
    "\n",
    "condition: \"transfer_passenger_count: 30, season: winter\"\n",
    "---\n",
    "\n",
    "Computation Graph (JSON):\n",
    "\n",
    "{\n",
    "  \"operator\": \"*\",\n",
    "  \"childA\": {\n",
    "    \"value\": \"30\"\n",
    "  },\n",
    "  \"childB\": {\n",
    "    \"value\": 2.80\n",
    "  },\n",
    "  value=None\n",
    "}\n",
    "\"\"\"\n",
    "prompt += f\"\"\"\n",
    "---\n",
    "\n",
    "Now process the following Document Text:\n",
    "\n",
    "{content}\n",
    "\n",
    "Following the below conditions:\n",
    "\n",
    "{ condition }\n",
    "Return only the computation graph JSON.\n",
    "\"\"\""
   ]
  },
  {
   "cell_type": "code",
   "execution_count": 25,
   "id": "9b35c936-c2b8-4b54-b9c7-2adddfbca99a",
   "metadata": {},
   "outputs": [
    {
     "data": {
      "application/vnd.jupyter.widget-view+json": {
       "model_id": "5961fdf030244dd596eaf68698b0f80c",
       "version_major": 2,
       "version_minor": 0
      },
      "text/plain": [
       "Loading checkpoint shards:   0%|          | 0/16 [00:00<?, ?it/s]"
      ]
     },
     "metadata": {},
     "output_type": "display_data"
    }
   ],
   "source": [
    "from outlines import Generator\n",
    "from outlines.types import JsonSchema\n",
    "from pydantic import BaseModel, Field\n",
    "from typing import Literal, Union, Optional\n",
    "import outlines\n",
    "\n",
    "# 1. Define the Node model (you already have this)\n",
    "class Node(BaseModel):\n",
    "    childA: Optional[\"Node\"] = Field(None)\n",
    "    childB: Optional[\"Node\"] = Field(None)\n",
    "    operator: Optional[Literal[\"+\", \"-\", \"*\", \"/\", \"and\", \"or\", \"==\"]] = None\n",
    "    value: Optional[Union[int, float]] = None\n",
    "\n",
    "Node.model_rebuild()\n",
    "schema = Node.model_json_schema()\n",
    "\n",
    "MODEL_ID = \"Qwen/Qwen3-30B-A3B\"\n",
    "import torch, outlines\n",
    "from transformers import AutoModelForCausalLM, AutoTokenizer\n",
    "\n",
    "# 1️⃣  HF loads & shards the model – ONE LINE does the heavy lifting.\n",
    "hf_model = AutoModelForCausalLM.from_pretrained(\n",
    "    MODEL_ID,\n",
    "    torch_dtype=torch.bfloat16,       # Qwen-3 is bfloat16-friendly\n",
    "    device_map=\"auto\",                # shards across all visible GPUs\n",
    "    low_cpu_mem_usage=True,           # avoids a large RAM peak\n",
    ")\n",
    "\n",
    "# 2️⃣  Wrap in Outlines.\n",
    "tok        = AutoTokenizer.from_pretrained(MODEL_ID)\n",
    "model      = outlines.from_transformers(hf_model, tok)          # note new API\n",
    "json_match = outlines.json_schema(schema)                       # as before\n",
    "\n",
    "# 2. Load model\n",
    "\n",
    "to_node    = JsonSchema(schema)\n",
    "generator  = Generator(model, to_node)   # FSM compiled only once\n",
    "graph_json = generator(prompt, max_new_tokens=512)\n",
    "\n",
    "node_obj = Node.model_validate_json(graph_json)"
   ]
  },
  {
   "cell_type": "code",
   "execution_count": 26,
   "id": "f025ad37-15b4-42e4-8794-305cf328542f",
   "metadata": {},
   "outputs": [
    {
     "data": {
      "text/plain": [
       "Node(childA=None, childB=None, operator='*', value=None)"
      ]
     },
     "execution_count": 26,
     "metadata": {},
     "output_type": "execute_result"
    }
   ],
   "source": [
    "node_obj"
   ]
  },
  {
   "cell_type": "code",
   "execution_count": 24,
   "id": "1b6f2833-4cc6-4d6e-9204-56f033ffd864",
   "metadata": {},
   "outputs": [
    {
     "data": {
      "text/plain": [
       "{'$defs': {'Node': {'properties': {'childA': {'anyOf': [{'$ref': '#/$defs/Node'},\n",
       "      {'type': 'null'}],\n",
       "     'default': None},\n",
       "    'childB': {'anyOf': [{'$ref': '#/$defs/Node'}, {'type': 'null'}],\n",
       "     'default': None},\n",
       "    'operator': {'anyOf': [{'enum': ['+', '-', '*', '/', 'and', 'or', '=='],\n",
       "       'type': 'string'},\n",
       "      {'type': 'null'}],\n",
       "     'default': None,\n",
       "     'title': 'Operator'},\n",
       "    'value': {'anyOf': [{'type': 'integer'},\n",
       "      {'type': 'number'},\n",
       "      {'type': 'null'}],\n",
       "     'default': None,\n",
       "     'title': 'Value'}},\n",
       "   'title': 'Node',\n",
       "   'type': 'object'}},\n",
       " '$ref': '#/$defs/Node'}"
      ]
     },
     "execution_count": 24,
     "metadata": {},
     "output_type": "execute_result"
    }
   ],
   "source": [
    "schema"
   ]
  },
  {
   "cell_type": "code",
   "execution_count": null,
   "id": "e8b70c71-a8e2-47e3-a15a-ccc3ec1e66f7",
   "metadata": {},
   "outputs": [],
   "source": []
  }
 ],
 "metadata": {
  "kernelspec": {
   "display_name": "Python 3 (ipykernel)",
   "language": "python",
   "name": "python3"
  },
  "language_info": {
   "codemirror_mode": {
    "name": "ipython",
    "version": 3
   },
   "file_extension": ".py",
   "mimetype": "text/x-python",
   "name": "python",
   "nbconvert_exporter": "python",
   "pygments_lexer": "ipython3",
   "version": "3.11.5"
  }
 },
 "nbformat": 4,
 "nbformat_minor": 5
}
