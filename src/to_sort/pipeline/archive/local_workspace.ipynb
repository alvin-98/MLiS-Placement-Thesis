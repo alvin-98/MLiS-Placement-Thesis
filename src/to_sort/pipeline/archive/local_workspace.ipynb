{
 "cells": [
  {
   "cell_type": "code",
   "execution_count": 1,
   "id": "ba186eb1-abeb-45e9-a93e-78c8745fa747",
   "metadata": {},
   "outputs": [],
   "source": [
    "markdown_path = \"output/2025-airport-charges-terms-and-conditions/2025-airport-charges-terms-and-conditions.md\"\n",
    "tiny_markdown_path = \"output/2025-airport-charges-terms-and-conditions/tinychargesmarkdown.md\""
   ]
  },
  {
   "cell_type": "code",
   "execution_count": 2,
   "id": "6a7cbac7-4ed6-481f-8582-a17d2d86cce7",
   "metadata": {},
   "outputs": [],
   "source": [
    "from typing import Optional, Literal, Union\n",
    "from pydantic import BaseModel, Field, validator\n",
    "from __future__ import annotations\n",
    "\n",
    "Op     = Literal[\"+\", \"-\", \"*\", \"/\", \"and\", \"or\", \"==\"]\n",
    "Scalar = Union[int, float, bool]  \n",
    "Value  = Union[Scalar, str]"
   ]
  },
  {
   "cell_type": "code",
   "execution_count": 3,
   "id": "57f37fa1-cd13-4cf8-acae-c7954bdf5b10",
   "metadata": {},
   "outputs": [],
   "source": [
    "from pydantic import field_validator\n",
    "\n",
    "class Node(BaseModel):\n",
    "    childA  : Optional[\"Node\"] = Field(None, description=\"left sub-expression\")\n",
    "    childB  : Optional[\"Node\"] = Field(None, description=\"right sub-expression\")\n",
    "    operator: Optional[Op] = None\n",
    "    value   : Optional[Value] = None\n",
    "\n",
    "\n",
    "    @field_validator(\"operator\", mode=\"after\")\n",
    "    @classmethod\n",
    "    def _op_required(cls, v, info):\n",
    "        if info.data.get(\"value\") is None and v is None:\n",
    "            raise ValueError(\"operator required when value is None\")\n",
    "        return v\n",
    "\n",
    "    def is_leaf(self) -> bool:\n",
    "        return self.value is not None\n",
    "\n",
    "    def evaluate(self, env: dict[str, Scalar] | None = None) -> Scalar:\n",
    "        if self.is_leaf():\n",
    "            return env.get(self.value, self.value) if env else self.value\n",
    "        a, b = self.childA.evaluate(env), self.childB.evaluate(env)\n",
    "        match self.operator:\n",
    "            case \"+\":   return a + b\n",
    "            case \"-\":   return a - b\n",
    "            case \"*\":   return a * b\n",
    "            case \"/\":   return a / b\n",
    "            case \"and\": return a and b\n",
    "            case \"or\":  return a or b\n",
    "            case \"==\":  return a == b\n",
    "        raise ValueError(f\"Unsupported operator {self.operator!r}\")\n",
    "\n",
    "Node.model_rebuild()\n"
   ]
  },
  {
   "cell_type": "code",
   "execution_count": 4,
   "id": "7a63cc0e-5cbb-4763-8059-43bbfde717c2",
   "metadata": {},
   "outputs": [
    {
     "name": "stdout",
     "output_type": "stream",
     "text": [
      "✅  Expression tree returns: 11\n"
     ]
    }
   ],
   "source": [
    "\n",
    "# Build the expression: 3 + (4 * 2)\n",
    "tree = Node(\n",
    "    operator=\"+\",\n",
    "    childA=Node(value=3),\n",
    "    childB=Node(\n",
    "        operator=\"*\",\n",
    "        childA=Node(value=4),\n",
    "        childB=Node(value=2),\n",
    "    ),\n",
    ")\n",
    "\n",
    "assert tree.evaluate({}) == 11\n",
    "print(\"✅  Expression tree returns:\", tree.evaluate({}))\n"
   ]
  },
  {
   "cell_type": "code",
   "execution_count": 5,
   "id": "96babab9-4c36-45d5-b257-3d9e6e8ae87b",
   "metadata": {},
   "outputs": [],
   "source": [
    "charges = {\"airport_charges1\": {\"atm\": \"landing\", \"period\": \"summer\", \"mtow\": 10},\n",
    "           \"airport_charges2\": {\"atm\": \"takeoff\", \"period\": \"summer\", \"mtow\": 2}}\n",
    "\n",
    "# does outlines only allow valid json as in it throws away anything else generated or does it fundamentally change the prompt to the model so that the model is told to output in that format"
   ]
  },
  {
   "cell_type": "code",
   "execution_count": 6,
   "id": "1d8d50bf-d83e-4094-ada6-f40174b56b28",
   "metadata": {},
   "outputs": [],
   "source": [
    "from __future__ import annotations\n",
    "from typing import Literal, Optional, Union\n",
    "from pydantic import BaseModel, Field, field_validator\n",
    "\n",
    "Op     = Literal[\"+\", \"-\", \"*\", \"/\", \"and\", \"or\", \"==\"]\n",
    "Scalar = Union[int, float, bool]\n",
    "Value  = Union[Scalar, str]\n",
    "\n",
    "class Node(BaseModel):\n",
    "    childA  : Optional[\"Node\"] = Field(None, description=\"left operand / sub-expression\")\n",
    "    childB  : Optional[\"Node\"] = Field(None, description=\"right operand / sub-expression\")\n",
    "    operator: Optional[Op] = None          # present on internal nodes\n",
    "    value   : Optional[Value] = None       # present on leaves\n",
    "\n",
    "    @field_validator(\"operator\", mode=\"after\")\n",
    "    @classmethod\n",
    "    def _operator_required(cls, v, info):\n",
    "        if info.data.get(\"value\") is None and v is None:\n",
    "            raise ValueError(\"Non-leaf nodes must have an operator\")\n",
    "        return v\n",
    "\n",
    "    def is_leaf(self):            return self.value is not None\n",
    "    def evaluate(self, env=None):               # same logic you already tested\n",
    "        if self.is_leaf():\n",
    "            return env.get(self.value, self.value) if env else self.value\n",
    "        a, b = self.childA.evaluate(env), self.childB.evaluate(env)\n",
    "        return {\"+\": a+b, \"-\": a-b, \"*\": a*b, \"/\": a/b,\n",
    "                \"and\": a and b, \"or\": a or b, \"==\": a == b}[self.operator]\n",
    "\n",
    "Node.model_rebuild()                            # resolves forward refs (v2 syntax) :contentReference[oaicite:0]{index=0}\n",
    "schema = Node.model_json_schema()               # one-liner to JSON-Schema :contentReference[oaicite:1]{index=1}\n"
   ]
  },
  {
   "cell_type": "code",
   "execution_count": 7,
   "id": "65acf9d3-fa18-4514-b576-2a33f88f2fa0",
   "metadata": {},
   "outputs": [],
   "source": [
    "with open(tiny_markdown_path, \"r\", encoding=\"utf-8\") as file:\n",
    "    content = file.read()"
   ]
  },
  {
   "cell_type": "code",
   "execution_count": 8,
   "id": "0bdf0eac-eace-432c-9aa1-60f344e9ca1d",
   "metadata": {},
   "outputs": [],
   "source": [
    "prompt = f\"\"\"\\\n",
    "You are a deterministic parser.\n",
    "\n",
    "**Input Markdown**\n",
    "{content}\n",
    "\n",
    "\n",
    "**Task**\n",
    "1. Identify the arithmetic expression.\n",
    "2. Emit JSON that is a valid `Node` tree *exactly* matching the schema you have been trained on.\n",
    "3. Use numbers as `value` leaves; use '+' and '*' for internal `operator` keys.\n",
    "\n",
    "Return ONLY that JSON.\n",
    "\"\"\"\n"
   ]
  },
  {
   "cell_type": "code",
   "execution_count": 9,
   "id": "7f4f905c-39e8-4248-8ff0-ceab24849ba7",
   "metadata": {},
   "outputs": [],
   "source": [
    "import outlines"
   ]
  },
  {
   "cell_type": "code",
   "execution_count": null,
   "id": "3ab8289f-3132-4045-9f94-697b8dbad056",
   "metadata": {},
   "outputs": [],
   "source": [
    "# @outlines.prompt\n",
    "# def take_order(content):\n",
    "#     \"\"\"You are an expert aviation cost analyst. Your task is to extract all aircraft charging rules from the provided document text.\n",
    "#     Your job is to then convert the rules into a computation graph.\n",
    "\n",
    "#     Document Text to Analyze:\n",
    "#     ---\n",
    "#     {{content}}\n",
    "#     ---\n",
    "\n",
    "#     # EXAMPLE\n",
    "\n",
    "#     content: # 3.5. Transfer Passenger Charge  /n <html> <table><thead><tr><th>Charging Basis (€)</th><th>Summer Airline<br>Scheduling Season</th><th>Winter Airline<br>Scheduling Season</th></tr></thead><tbody><tr><td>Transfer Passenger Charge</td><td><span style=\"background-color: yellow;\">3.90</span></td><td><span style=\"background-color: yellow;\">2.80</span></td></tr></tbody></table></html> bullet Transfer Passenger information shall be provided via passenger transfer messages (PTM). Where valid information is provided in this manner the transfer rate will be charged to the Operator through the normal billing process. \\bullet Airline positioning crews are not exempt from these charges. - A QRF will have its Transfer Passenger Charge exempted. This means that the QRF departing Transfer Passenger Charge will not be raised on the first departure. The subsequent second departure of that flight will attract the standard Transfer Passenger Charge. This Transfer Passenger Charge contributes to airport security, passenger screening and provision of infrastructure for hold baggage screening.  \n",
    " \n",
    "#     RESULT: {\"pizza\": \"Margherita\", \"number\": 1}\n",
    "\n",
    "#     # OUTPUT INSTRUCTIONS\n",
    "\n",
    "#     Answer in valid computation graph. Here are the different objects relevant for the output:\n",
    "\n",
    "#     Order:\n",
    "#         pizza (str): name of the pizza\n",
    "#         number (int): number of pizzas\n",
    "\n",
    "#     Return a valid JSON of type \"Order\"\n",
    "\n",
    "#     # OUTPUT\n",
    "\n",
    "#     ORDER: {{ order }}\n",
    "#     RESULT: \"\"\""
   ]
  },
  {
   "cell_type": "code",
   "execution_count": 11,
   "id": "f23dece6-be3d-44d4-ba3c-ef2ccba9b9f3",
   "metadata": {},
   "outputs": [],
   "source": [
    "from __future__ import annotations\n",
    "from typing import Optional, Literal, Union\n",
    "from pydantic import BaseModel, Field, field_validator\n",
    "\n",
    "Op     = Literal[\"+\", \"-\", \"*\", \"/\", \"and\", \"or\", \"==\"]\n",
    "Scalar = Union[int, float, bool]\n",
    "Value  = Union[Scalar, str]\n",
    "\n",
    "class Node(BaseModel):\n",
    "    childA  : Optional[\"Node\"] = Field(None, description=\"left subtree / operand\")\n",
    "    childB  : Optional[\"Node\"] = Field(None, description=\"right subtree / operand\")\n",
    "    operator: Optional[Op]     = None          # required on internal nodes\n",
    "    value   : Optional[Value]  = None          # present on leaves\n",
    "\n",
    "    @field_validator(\"operator\", mode=\"after\")\n",
    "    @classmethod\n",
    "    def _op_required(cls, v, info):\n",
    "        if info.data.get(\"value\") is None and v is None:\n",
    "            raise ValueError(\"operator required when value is None\")\n",
    "        return v\n",
    "\n",
    "    def evaluate(self, env: dict[str, Scalar] | None = None) -> Scalar:\n",
    "        if self.value is not None:\n",
    "            return env.get(self.value, self.value) if env else self.value\n",
    "        a, b = self.childA.evaluate(env), self.childB.evaluate(env)\n",
    "        return {\"+\": a+b, \"-\": a-b, \"*\": a*b, \"/\": a/b,\n",
    "                \"and\": a and b, \"or\": a or b, \"==\": a == b}[self.operator]\n",
    "\n",
    "Node.model_rebuild()                                  # resolves forward refs :contentReference[oaicite:1]{index=1}\n",
    "schema = Node.model_json_schema()                     # 1-liner to JSON Schema :contentReference[oaicite:2]{index=2}\n"
   ]
  },
  {
   "cell_type": "code",
   "execution_count": 12,
   "id": "0a754ac7-105e-4a01-952b-0f53fb5e1176",
   "metadata": {},
   "outputs": [
    {
     "data": {
      "application/vnd.jupyter.widget-view+json": {
       "model_id": "3a2622ae96e1422aa72404ad9fd987ac",
       "version_major": 2,
       "version_minor": 0
      },
      "text/plain": [
       "Loading checkpoint shards:   0%|          | 0/16 [00:00<?, ?it/s]"
      ]
     },
     "metadata": {},
     "output_type": "display_data"
    }
   ],
   "source": [
    "MODEL_ID = \"Qwen/Qwen3-30B-A3B\"\n",
    "import torch, outlines\n",
    "from transformers import AutoModelForCausalLM, AutoTokenizer\n",
    "\n",
    "# 1️⃣  HF loads & shards the model – ONE LINE does the heavy lifting.\n",
    "hf_model = AutoModelForCausalLM.from_pretrained(\n",
    "    MODEL_ID,\n",
    "    torch_dtype=torch.bfloat16,       # Qwen-3 is bfloat16-friendly\n",
    "    device_map=\"auto\",                # shards across all visible GPUs\n",
    "    low_cpu_mem_usage=True,           # avoids a large RAM peak\n",
    ")\n",
    "\n",
    "# 2️⃣  Wrap in Outlines.\n",
    "tok        = AutoTokenizer.from_pretrained(MODEL_ID)\n",
    "model      = outlines.from_transformers(hf_model, tok)          # note new API\n",
    "json_match = outlines.json_schema(schema)                       # as before\n"
   ]
  },
  {
   "cell_type": "code",
   "execution_count": 17,
   "id": "ddea4ba1-5339-44ea-b0a9-1a30de4828d1",
   "metadata": {},
   "outputs": [
    {
     "data": {
      "text/plain": [
       "'# 3.5. Transfer Passenger Charge  \\n\\n<html>\\n<table><thead><tr><th>Charging Basis (€)</th><th>Summer Airline<br>Scheduling Season</th><th>Winter Airline<br>Scheduling Season</th></tr></thead><tbody><tr><td>Transfer Passenger Charge</td><td><span style=\"background-color: yellow;\">3.90</span></td><td><span style=\"background-color: yellow;\">2.80</span></td></tr></tbody></table>\\n</html>  \\n\\n\\\\bullet Transfer Passenger information shall be provided via passenger transfer messages (PTM). Where valid information is provided in this manner the transfer rate will be charged to the Operator through the normal billing process. \\\\bullet Airline positioning crews are not exempt from these charges.  \\n\\n- A QRF will have its Transfer Passenger Charge exempted. This means that the QRF departing Transfer Passenger Charge will not be raised on the first departure. The subsequent second departure of that flight will attract the standard Transfer Passenger Charge.  \\n\\nThis Transfer Passenger Charge contributes to airport security, passenger screening and provision of infrastructure for hold baggage screening.  \\n'"
      ]
     },
     "execution_count": 17,
     "metadata": {},
     "output_type": "execute_result"
    }
   ],
   "source": [
    "content"
   ]
  },
  {
   "cell_type": "code",
   "execution_count": 31,
   "id": "35a5176b-9991-47be-bf71-eeb874b5d089",
   "metadata": {},
   "outputs": [],
   "source": [
    "conditions = \"season: winter airline scheduling season\"\n"
   ]
  },
  {
   "cell_type": "code",
   "execution_count": 32,
   "id": "ed0e8f9d-faa1-4418-9f21-f92eea10d340",
   "metadata": {},
   "outputs": [],
   "source": [
    "prompt = f\"\"\"You are an **aviation cost analyst**.  \n",
    "Extract every aircraft-charging rule from the supplied *Document Text* based on the *Conditions* and\n",
    "return **one JSON object** that encodes the rule as a recursive `Node`\n",
    "computation graph **AND NOTHING ELSE**.\n",
    "\n",
    "Conditions:\n",
    "{ conditions }\n",
    "\n",
    "Document Text:\n",
    "---\n",
    "{ content }\n",
    "---\n",
    "\"\"\" \n",
    "instructions = \"\"\"\n",
    "# OUTPUT INSTRUCTIONS\n",
    "1. Your output **must** be valid JSON that conforms to the `Node` schema you know.\n",
    "2. The root object represents the final numeric expression for the charge.\n",
    "3. Use numeric literals for constants; use lowercase snake-case strings for variables\n",
    "   (e.g. `\"transfer_pax\"`).  \n",
    "4. Do **not** wrap your JSON in markdown fences or additional keys.\n",
    "\n",
    "# EXAMPLE (for guidance only)\n",
    "Input snippet:  \n",
    "“Fee formula is 3 + (4 × 2).”\n",
    "\n",
    "Expected JSON:\n",
    "{\n",
    "  \"operator\": \"+\",\n",
    "  \"childA\": { \"value\": 3 },\n",
    "  \"childB\": {\n",
    "      \"operator\": \"*\",\n",
    "      \"childA\": { \"value\": 4 },\n",
    "      \"childB\": { \"value\": 2 }\n",
    "  }\n",
    "}\n",
    "\"\"\"\n"
   ]
  },
  {
   "cell_type": "code",
   "execution_count": 33,
   "id": "9d2d71bd-ea60-4fa2-b774-a6fadf87f361",
   "metadata": {},
   "outputs": [
    {
     "data": {
      "text/plain": [
       "'You are an **aviation cost analyst**.  \\nExtract every aircraft-charging rule from the supplied *Document Text* based on the *Conditions* and\\nreturn **one JSON object** that encodes the rule as a recursive `Node`\\ncomputation graph **AND NOTHING ELSE**.\\n\\nConditions:\\nseason: winter airline scheduling season\\n\\nDocument Text:\\n---\\n# 3.5. Transfer Passenger Charge  \\n\\n<html>\\n<table><thead><tr><th>Charging Basis (€)</th><th>Summer Airline<br>Scheduling Season</th><th>Winter Airline<br>Scheduling Season</th></tr></thead><tbody><tr><td>Transfer Passenger Charge</td><td><span style=\"background-color: yellow;\">3.90</span></td><td><span style=\"background-color: yellow;\">2.80</span></td></tr></tbody></table>\\n</html>  \\n\\n\\\\bullet Transfer Passenger information shall be provided via passenger transfer messages (PTM). Where valid information is provided in this manner the transfer rate will be charged to the Operator through the normal billing process. \\\\bullet Airline positioning crews are not exempt from these charges.  \\n\\n- A QRF will have its Transfer Passenger Charge exempted. This means that the QRF departing Transfer Passenger Charge will not be raised on the first departure. The subsequent second departure of that flight will attract the standard Transfer Passenger Charge.  \\n\\nThis Transfer Passenger Charge contributes to airport security, passenger screening and provision of infrastructure for hold baggage screening.  \\n\\n---\\n\\n# OUTPUT INSTRUCTIONS\\n1. Your output **must** be valid JSON that conforms to the `Node` schema you know.\\n2. The root object represents the final numeric expression for the charge.\\n3. Use numeric literals for constants; use lowercase snake-case strings for variables\\n   (e.g. `\"transfer_pax\"`).  \\n4. Do **not** wrap your JSON in markdown fences or additional keys.\\n\\n# EXAMPLE (for guidance only)\\nInput snippet:  \\n“Fee formula is 3 + (4 × 2).”\\n\\nExpected JSON:\\n{\\n  \"operator\": \"+\",\\n  \"childA\": { \"value\": 3 },\\n  \"childB\": {\\n      \"operator\": \"*\",\\n      \"childA\": { \"value\": 4 },\\n      \"childB\": { \"value\": 2 }\\n  }\\n}\\n'"
      ]
     },
     "execution_count": 33,
     "metadata": {},
     "output_type": "execute_result"
    }
   ],
   "source": [
    "prompt = prompt + instructions\n",
    "prompt"
   ]
  },
  {
   "cell_type": "code",
   "execution_count": 34,
   "id": "138ec82b-1220-45e5-a810-770a0db4d253",
   "metadata": {},
   "outputs": [],
   "source": [
    "from outlines import Generator\n",
    "from outlines.types import JsonSchema\n",
    "\n",
    "to_node    = JsonSchema(schema)\n",
    "generator  = Generator(model, to_node)   # FSM compiled only once\n",
    "graph_json = generator(prompt, max_new_tokens=512)\n",
    "\n",
    "node_obj = Node.model_validate_json(graph_json)\n"
   ]
  },
  {
   "cell_type": "code",
   "execution_count": 35,
   "id": "eca8be66-39fb-4283-8235-0ab205eda06b",
   "metadata": {},
   "outputs": [
    {
     "data": {
      "text/plain": [
       "Node(childA=None, childB=None, operator='+', value=3.9)"
      ]
     },
     "execution_count": 35,
     "metadata": {},
     "output_type": "execute_result"
    }
   ],
   "source": [
    "node_obj"
   ]
  },
  {
   "cell_type": "code",
   "execution_count": null,
   "id": "7e7c2f1a-6a69-4844-a8ff-e57ede51affb",
   "metadata": {},
   "outputs": [],
   "source": []
  }
 ],
 "metadata": {
  "kernelspec": {
   "display_name": "Python 3 (ipykernel)",
   "language": "python",
   "name": "python3"
  },
  "language_info": {
   "codemirror_mode": {
    "name": "ipython",
    "version": 3
   },
   "file_extension": ".py",
   "mimetype": "text/x-python",
   "name": "python",
   "nbconvert_exporter": "python",
   "pygments_lexer": "ipython3",
   "version": "3.11.5"
  }
 },
 "nbformat": 4,
 "nbformat_minor": 5
}
