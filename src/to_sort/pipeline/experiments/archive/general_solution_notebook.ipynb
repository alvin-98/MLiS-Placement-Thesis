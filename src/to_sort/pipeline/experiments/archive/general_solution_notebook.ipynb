{
 "cells": [
  {
   "cell_type": "code",
   "execution_count": 1,
   "id": "3c1cf45a-dab5-44bc-9e92-ecc2f4e19133",
   "metadata": {},
   "outputs": [],
   "source": [
    "import torch\n",
    "torch.cuda.empty_cache()\n"
   ]
  },
  {
   "cell_type": "code",
   "execution_count": 2,
   "id": "b5b4ad6b-75d4-46cd-b4e1-6f31db30870a",
   "metadata": {},
   "outputs": [],
   "source": [
    "import time\n",
    "import json\n",
    "from transformers import AutoTokenizer, AutoModelForCausalLM\n",
    "from pydantic import BaseModel, Field, RootModel\n",
    "from typing import Optional, Union, Literal, ForwardRef\n",
    "from enum import Enum\n",
    "from guidance import models, system, user, assistant, json as gen_json, gen\n",
    "import torch, outlines\n",
    "from transformers import AutoModelForCausalLM, AutoTokenizer\n",
    "import json\n",
    "import torch\n",
    "from transformers import AutoTokenizer, AutoModelForCausalLM\n",
    "from pydantic import BaseModel, Field, RootModel\n",
    "from typing import Optional, Union\n",
    "from enum import Enum\n",
    "from guidance import models, system, user, assistant, json as gen_json\n",
    "import guidance\n",
    "from utils import timing_decorator"
   ]
  },
  {
   "cell_type": "code",
   "execution_count": 3,
   "id": "7293c3ec-fc5f-4861-a8e6-22299419e138",
   "metadata": {},
   "outputs": [],
   "source": [
    "\n",
    "with open(\"../output/2025-airport-charges-terms-and-conditions/tinychargesmarkdown.md\", \"r\") as f:\n",
    "    markdown_content = f.read()\n"
   ]
  },
  {
   "cell_type": "code",
   "execution_count": 4,
   "id": "688a5297-ecc2-42c1-87d8-5ed5de533877",
   "metadata": {},
   "outputs": [
    {
     "data": {
      "application/vnd.jupyter.widget-view+json": {
       "model_id": "3667de2418c3465c8e6c9b6ad4ed80a9",
       "version_major": 2,
       "version_minor": 0
      },
      "text/plain": [
       "Loading checkpoint shards:   0%|          | 0/16 [00:00<?, ?it/s]"
      ]
     },
     "metadata": {},
     "output_type": "display_data"
    }
   ],
   "source": [
    "\n",
    "MODEL_ID = \"Qwen/Qwen3-30B-A3B\"\n",
    "\n",
    "hf_model = AutoModelForCausalLM.from_pretrained(\n",
    "    MODEL_ID,\n",
    "    device_map=\"auto\",               \n",
    "    low_cpu_mem_usage=True,          \n",
    ")\n",
    "\n",
    "\n",
    "tok        = AutoTokenizer.from_pretrained(MODEL_ID)\n"
   ]
  },
  {
   "cell_type": "code",
   "execution_count": 5,
   "id": "0f1767ce-5622-4114-a094-0f0ae89b19b7",
   "metadata": {},
   "outputs": [
    {
     "name": "stderr",
     "output_type": "stream",
     "text": [
      "gpustat is not installed, run `pip install gpustat` to collect GPU stats.\n"
     ]
    }
   ],
   "source": [
    "\n",
    "model = guidance.models.Transformers(hf_model, tok)"
   ]
  },
  {
   "cell_type": "code",
   "execution_count": 1,
   "id": "9f0af146-464a-4302-9222-0606f9b51e78",
   "metadata": {},
   "outputs": [
    {
     "ename": "NameError",
     "evalue": "name 'Optional' is not defined",
     "output_type": "error",
     "traceback": [
      "\u001b[31m---------------------------------------------------------------------------\u001b[39m",
      "\u001b[31mNameError\u001b[39m                                 Traceback (most recent call last)",
      "\u001b[36mCell\u001b[39m\u001b[36m \u001b[39m\u001b[32mIn[1]\u001b[39m\u001b[32m, line 4\u001b[39m\n\u001b[32m      1\u001b[39m \u001b[38;5;28;01mfrom\u001b[39;00m\u001b[38;5;250m \u001b[39m\u001b[34;01mpydantic\u001b[39;00m\u001b[38;5;250m \u001b[39m\u001b[38;5;28;01mimport\u001b[39;00m BaseModel, Field\n\u001b[32m      2\u001b[39m \u001b[38;5;28;01mfrom\u001b[39;00m\u001b[38;5;250m \u001b[39m\u001b[34;01mtyping\u001b[39;00m\u001b[38;5;250m \u001b[39m\u001b[38;5;28;01mimport\u001b[39;00m List, Any\n\u001b[32m----> \u001b[39m\u001b[32m4\u001b[39m \u001b[38;5;28;43;01mclass\u001b[39;49;00m\u001b[38;5;250;43m \u001b[39;49m\u001b[34;43;01mDomainVariable\u001b[39;49;00m\u001b[43m(\u001b[49m\u001b[43mBaseModel\u001b[49m\u001b[43m)\u001b[49m\u001b[43m:\u001b[49m\n\u001b[32m      5\u001b[39m \u001b[38;5;250;43m    \u001b[39;49m\u001b[33;43;03m\"\"\"Defines a single variable the LLM can use in the computation graph.\"\"\"\u001b[39;49;00m\n\u001b[32m      6\u001b[39m \u001b[43m    \u001b[49m\u001b[43mname\u001b[49m\u001b[43m:\u001b[49m\u001b[43m \u001b[49m\u001b[38;5;28;43mstr\u001b[39;49m\u001b[43m \u001b[49m\u001b[43m=\u001b[49m\u001b[43m \u001b[49m\u001b[43mField\u001b[49m\u001b[43m(\u001b[49m\u001b[43m.\u001b[49m\u001b[43m.\u001b[49m\u001b[43m.\u001b[49m\u001b[43m,\u001b[49m\u001b[43m \u001b[49m\u001b[43mdescription\u001b[49m\u001b[43m=\u001b[49m\u001b[33;43m\"\u001b[39;49m\u001b[33;43mThe unique identifier for the variable.\u001b[39;49m\u001b[33;43m\"\u001b[39;49m\u001b[43m)\u001b[49m\n",
      "\u001b[36mCell\u001b[39m\u001b[36m \u001b[39m\u001b[32mIn[1]\u001b[39m\u001b[32m, line 9\u001b[39m, in \u001b[36mDomainVariable\u001b[39m\u001b[34m()\u001b[39m\n\u001b[32m      7\u001b[39m description: \u001b[38;5;28mstr\u001b[39m = Field(..., description=\u001b[33m\"\u001b[39m\u001b[33mA detailed explanation of what this variable represents.\u001b[39m\u001b[33m\"\u001b[39m)\n\u001b[32m      8\u001b[39m \u001b[38;5;66;03m# Optional: You could add type hints, units, etc. for more advanced validation\u001b[39;00m\n\u001b[32m----> \u001b[39m\u001b[32m9\u001b[39m unit: \u001b[43mOptional\u001b[49m[\u001b[38;5;28mstr\u001b[39m] = Field(..., description=\u001b[33m\"\u001b[39m\u001b[33mThe unit of the variable\u001b[39m\u001b[33m\"\u001b[39m)\n\u001b[32m     10\u001b[39m data_type : \u001b[38;5;28mtype\u001b[39m = Field(..., description=\u001b[33m\"\u001b[39m\u001b[33mThe data type of the variable\u001b[39m\u001b[33m\"\u001b[39m)\n",
      "\u001b[31mNameError\u001b[39m: name 'Optional' is not defined"
     ]
    }
   ],
   "source": [
    "from pydantic import BaseModel, Field\n",
    "from typing import List, Any\n",
    "\n",
    "class DomainVariable(BaseModel):\n",
    "    \"\"\"Defines a single variable the LLM can use in the computation graph.\"\"\"\n",
    "    name: str = Field(..., description=\"The unique identifier for the variable.\")\n",
    "    description: str = Field(..., description=\"A detailed explanation of what this variable represents.\")\n",
    "    # Optional: You could add type hints, units, etc. for more advanced validation\n",
    "    unit: Optional[str] = Field(..., description=\"The unit of the variable\")\n",
    "    data_type : type = Field(..., description=\"The data type of the variable\")\n"
   ]
  },
  {
   "cell_type": "code",
   "execution_count": 14,
   "id": "2d8a9a8c-a528-4d67-8e20-3cc8f3334f64",
   "metadata": {},
   "outputs": [],
   "source": [
    "# 1. Master registry of ALL possible variables\n",
    "ALL_VARIABLES = {\n",
    "    'transfer_passenger_count': DomainVariable(name='transfer_passenger_count', description='Total number of transferring passengers.', unit = None, data_type=float),\n",
    "    'airline_scheduling_season': DomainVariable(name='airline_scheduling_season', description='Whether summer / winter airline scheduling season.', unit = None, data_type=float),\n",
    "    'takeoff_aircraft_mtow_tonnes': DomainVariable(name='takeoff_aircraft_mtow_tonnes', description='The Maximum Take-Off Weight in tonnes.', unit = 'tonne', data_type=float),\n",
    "    'landing_aircraft_mtow_tonnes': DomainVariable(name='landing_aircraft_mtow_tonnes', description='The Maximum Landing Weight in tonnes.', unit = 'tonne', data_type=float)\n",
    "    \n",
    "}\n",
    "\n",
    "# 2. Map charge types to the variable names they are allowed to use\n",
    "CHARGE_CATEGORY_VARIABLES = {\n",
    "    \"transfer_passenger_charge\": [\n",
    "        'transfer_passenger_count', \n",
    "        'airline_scheduling_season'\n",
    "    ],\n",
    "    \"runway_landing_charge\": [\n",
    "        'landing_aircraft_mtow_tonnes', \n",
    "        'airline_scheduling_season'\n",
    "    ],\n",
    "    \"runway_takeoff_charge\": [\n",
    "        'takeoff_aircraft_mtow_tonnes', \n",
    "        'airline_scheduling_season'\n",
    "    ],\n",
    "}"
   ]
  },
  {
   "cell_type": "code",
   "execution_count": 7,
   "id": "0b58be65-2a26-4ddc-9c5c-e0b2a736c04c",
   "metadata": {},
   "outputs": [
    {
     "ename": "NameError",
     "evalue": "name 'CHARGE_CATEGORY_VARIABLES' is not defined",
     "output_type": "error",
     "traceback": [
      "\u001b[31m---------------------------------------------------------------------------\u001b[39m",
      "\u001b[31mNameError\u001b[39m                                 Traceback (most recent call last)",
      "\u001b[36mCell\u001b[39m\u001b[36m \u001b[39m\u001b[32mIn[7]\u001b[39m\u001b[32m, line 17\u001b[39m\n\u001b[32m     14\u001b[39m     \u001b[38;5;66;03m# Create the Enum class dynamically\u001b[39;00m\n\u001b[32m     15\u001b[39m     \u001b[38;5;28;01mreturn\u001b[39;00m Enum(\u001b[33m\"\u001b[39m\u001b[33mVar\u001b[39m\u001b[33m\"\u001b[39m, enum_dict)\n\u001b[32m---> \u001b[39m\u001b[32m17\u001b[39m Var = \u001b[43mcreate_dynamic_variable_enum\u001b[49m\u001b[43m(\u001b[49m\u001b[33;43m\"\u001b[39;49m\u001b[33;43mtransfer_passenger_charge\u001b[39;49m\u001b[33;43m\"\u001b[39;49m\u001b[43m)\u001b[49m\n\u001b[32m     18\u001b[39m \u001b[38;5;28mprint\u001b[39m(Var.TRANSFER_PASSENGER_COUNT.value)\n",
      "\u001b[36mCell\u001b[39m\u001b[36m \u001b[39m\u001b[32mIn[7]\u001b[39m\u001b[32m, line 6\u001b[39m, in \u001b[36mcreate_dynamic_variable_enum\u001b[39m\u001b[34m(charge_category)\u001b[39m\n\u001b[32m      1\u001b[39m \u001b[38;5;28;01mdef\u001b[39;00m\u001b[38;5;250m \u001b[39m\u001b[34mcreate_dynamic_variable_enum\u001b[39m(charge_category: \u001b[38;5;28mstr\u001b[39m) -> \u001b[38;5;28mtype\u001b[39m(Enum):\n\u001b[32m      2\u001b[39m \u001b[38;5;250m    \u001b[39m\u001b[33;03m\"\"\"\u001b[39;00m\n\u001b[32m      3\u001b[39m \u001b[33;03m    Creates a new Enum class containing only the variables relevant\u001b[39;00m\n\u001b[32m      4\u001b[39m \u001b[33;03m    to the specified charge category.\u001b[39;00m\n\u001b[32m      5\u001b[39m \u001b[33;03m    \"\"\"\u001b[39;00m\n\u001b[32m----> \u001b[39m\u001b[32m6\u001b[39m     variable_names = \u001b[43mCHARGE_CATEGORY_VARIABLES\u001b[49m.get(charge_category)\n\u001b[32m      7\u001b[39m     \u001b[38;5;28;01mif\u001b[39;00m \u001b[38;5;129;01mnot\u001b[39;00m variable_names:\n\u001b[32m      8\u001b[39m         \u001b[38;5;28;01mraise\u001b[39;00m \u001b[38;5;167;01mValueError\u001b[39;00m(\u001b[33mf\u001b[39m\u001b[33m\"\u001b[39m\u001b[33mUnknown charge category: \u001b[39m\u001b[38;5;132;01m{\u001b[39;00mcharge_category\u001b[38;5;132;01m}\u001b[39;00m\u001b[33m\"\u001b[39m)\n",
      "\u001b[31mNameError\u001b[39m: name 'CHARGE_CATEGORY_VARIABLES' is not defined"
     ]
    }
   ],
   "source": [
    "def create_dynamic_variable_enum(charge_category: str) -> type(Enum):\n",
    "    \"\"\"\n",
    "    Creates a new Enum class containing only the variables relevant\n",
    "    to the specified charge category.\n",
    "    \"\"\"\n",
    "    variable_names = CHARGE_CATEGORY_VARIABLES.get(charge_category)\n",
    "    if not variable_names:\n",
    "        raise ValueError(f\"Unknown charge category: {charge_category}\")\n",
    "    \n",
    "    # The dictionary for the Enum must have {MEMBER_NAME: value}\n",
    "    # We'll use uppercase for the member name for convention.\n",
    "    enum_dict = {name.upper(): name for name in variable_names}\n",
    "    \n",
    "    # Create the Enum class dynamically\n",
    "    return Enum(\"Var\", enum_dict)\n",
    "\n",
    "Var = create_dynamic_variable_enum(\"transfer_passenger_charge\")\n",
    "print(Var.TRANSFER_PASSENGER_COUNT.value)"
   ]
  },
  {
   "cell_type": "code",
   "execution_count": 30,
   "id": "96ee55c2-4d13-48c2-a721-838000646933",
   "metadata": {},
   "outputs": [
    {
     "data": {
      "text/plain": [
       "['transfer_passenger_count', 'airline_scheduling_season']"
      ]
     },
     "execution_count": 30,
     "metadata": {},
     "output_type": "execute_result"
    }
   ],
   "source": [
    "allowed_variables = [el.value for el in list(Var)]\n",
    "allowed_variables"
   ]
  },
  {
   "cell_type": "code",
   "execution_count": 22,
   "id": "f4bdff9c-7dfa-4be3-a188-2af86720b5a8",
   "metadata": {},
   "outputs": [],
   "source": [
    "# class VariableNode(BaseModel):\n",
    "#     \"\"\"A leaf node representing a symbolic input variable.\"\"\"\n",
    "#     type: Literal[\"VARIABLE\"] = \"VARIABLE\"\n",
    "#     # The 'name' will be constrained to a dynamic Enum of allowed variables\n",
    "#     name: Var \n",
    "#     description: str = Field(..., description=\"Explanation of what input this variable represents.\")\n",
    "\n",
    "# class Op(str, Enum):\n",
    "#     ADD = \"ADD\"\n",
    "#     MULTIPLY = \"MULTIPLY\"\n",
    "\n",
    "# class ValueNode(BaseModel):\n",
    "#     \"\"\"A leaf node representing a fixed numeric constant.\"\"\"\n",
    "#     type: Literal[\"VALUE\"] = \"VALUE\"\n",
    "#     value: float\n",
    "#     description: str = Field(description=\"Explanation of what this value represents\")\n",
    "#     # unit: \n",
    "\n",
    "# class OpNode(BaseModel):\n",
    "#     \"\"\"An operation node with two children\"\"\"\n",
    "#     type: Literal[\"OPERATION\"] = \"OPERATION\"\n",
    "#     operator: Op\n",
    "#     # The 'left' and 'right' fields will be added dynamically\n",
    "\n",
    "# # the Union for the recursive fields\n",
    "# AnyNode = Union[OpNode, ValueNode, VariableNode]\n",
    "\n",
    "# # Dynamically update the OpNode to add the recursive fields\n",
    "# OpNode.model_fields.update({\n",
    "#     'left': (AnyNode, Field(..., discriminator='type')),\n",
    "#     'right': (AnyNode, Field(..., discriminator='type')),\n",
    "# })\n",
    "\n",
    "# # The root of the expression tree must be an operation.\n",
    "# class Node(RootModel):\n",
    "#     \"\"\"The root of the expression tree, which must be an OpNode.\"\"\"\n",
    "#     root: OpNode\n"
   ]
  },
  {
   "cell_type": "code",
   "execution_count": 76,
   "id": "fd6463a3-5a75-4d61-8433-1407540516fd",
   "metadata": {},
   "outputs": [],
   "source": [
    "from pydantic import BaseModel, Field, RootModel\n",
    "from typing import Union, Literal\n",
    "from enum import Enum\n",
    "\n",
    "# Separate enums for clarity and type safety\n",
    "class MathOperator(str, Enum):\n",
    "    ADD = \"ADD\"\n",
    "    MULTIPLY = \"MULTIPLY\"\n",
    "    DIVIDE = \"DIVIDE\"\n",
    "\n",
    "class Comparator(str, Enum):\n",
    "    GREATER_THAN = \"GREATER_THAN\"\n",
    "    LESS_THAN = \"LESS_THAN\"\n",
    "    EQUAL_TO = \"EQUAL_TO\"\n",
    "\n",
    "# --- Node Definitions ---\n",
    "\n",
    "class ValueNode(BaseModel):\n",
    "    type: Literal[\"VALUE\"] = \"VALUE\"\n",
    "    value: float\n",
    "    description: str\n",
    "\n",
    "class VariableNode(BaseModel):\n",
    "    type: Literal[\"VARIABLE\"] = \"VARIABLE\"\n",
    "    name: str \n",
    "    description: str\n",
    "\n",
    "class BinaryOpNode(BaseModel):\n",
    "    \"\"\"Node for mathematical operations that produce a number.\"\"\"\n",
    "    type: Literal[\"BINARY_OPERATION\"] = \"BINARY_OPERATION\"\n",
    "    operator: MathOperator\n",
    "    left: 'AnyNode'\n",
    "    right: 'AnyNode'\n",
    "\n",
    "class ComparisonNode(BaseModel):\n",
    "    \"\"\"Node for comparison operations that produce a boolean.\"\"\"\n",
    "    type: Literal[\"COMPARISON\"] = \"COMPARISON\"\n",
    "    operator: Comparator\n",
    "    left: 'AnyNode'\n",
    "    right: 'AnyNode'\n",
    "\n",
    "class ConditionalNode(BaseModel):\n",
    "    \"\"\"Node for if-then-else logic.\"\"\"\n",
    "    type: Literal[\"CONDITIONAL\"] = \"CONDITIONAL\"\n",
    "    condition: ComparisonNode # Condition must be a comparison\n",
    "    if_true: 'AnyNode'\n",
    "    if_false: 'AnyNode'\n",
    "\n",
    "# --- Recursive Setup ---\n",
    "\n",
    "AnyNode = Union[\n",
    "    ValueNode, \n",
    "    VariableNode, \n",
    "    BinaryOpNode, \n",
    "    ConditionalNode\n",
    "]\n",
    "\n",
    "# Use model_rebuild() to safely resolve all forward references\n",
    "BinaryOpNode.model_rebuild()\n",
    "ConditionalNode.model_rebuild()\n",
    "ComparisonNode.model_rebuild()\n",
    "\n",
    "class Node(RootModel):\n",
    "    root: BinaryOpNode"
   ]
  },
  {
   "cell_type": "code",
   "execution_count": 95,
   "id": "c62b7adf-12a8-4d08-a8a4-0423820e101a",
   "metadata": {},
   "outputs": [],
   "source": [
    "\n",
    "@guidance\n",
    "def create_expression_tree(llm, allowed_variables_prompt, document, query, output_schema):\n",
    "    \n",
    "    with system():\n",
    "        llm = llm + f\"\"\"You are a world-class algorithm for building expression trees from text. Your goal is to construct a JSON object that represents the calculation logic for a 'charge' based on a document and a set of conditions.\n",
    "        \n",
    "You MUST follow the provided JSON schema exactly. The graph has three types of nodes:\n",
    "1.  `OpNode`: For mathematical operations. The `operator` must be 'ADD' or 'MULTIPLY'.\n",
    "2.  `ValueNode`: Use this as a LEAF NODE AND ONLY for FIXED NUMERIC CONSTANTS found directly in the document (e.g., a fee of £3.90, a rate of 1.5%).\n",
    "3.  `VariableNode`: Use this as a LEAF NODE AND ONLY for SYMBOLIC INPUTS required by the formula. The `name` of the variable MUST be chosen from the 'Allowed Variables' list below.\n",
    "\n",
    "\n",
    "**Allowed Variables for this Task:**\n",
    "---\n",
    "{allowed_variables_prompt}\n",
    "---\n",
    "\"\"\" + \"\"\"\n",
    "\n",
    "Here is an example of valid expression trees:\n",
    "1. Simple multiplication: {\"type\": \"OPERATION\", \"operator\": \"MULTIPLY\", \"left\": {\"type\": \"VALUE\", \"value\": 3.9, \"description\": \"Transfer passenger charge per passenger\"}, \"right\": {\"type\": \"VARIABLE\", \"description\": \"Number of transfer passengers\"}}\n",
    "\"\"\"\n",
    "\n",
    "    with user():\n",
    "        llm += f\"\"\"Here is the document:\n",
    "---\n",
    "{document}\n",
    "---\n",
    "\n",
    "**Query:**\n",
    "Based on the document, construct the computation graph for the following request:\n",
    "\"{query}\"\n",
    "\"\"\"\n",
    "    with assistant():\n",
    "        llm += gen_json(\n",
    "            name=\"expression_tree\", \n",
    "            schema=output_schema,\n",
    "            max_tokens=1000,\n",
    "        )\n",
    "\n",
    "    return llm\n"
   ]
  },
  {
   "cell_type": "code",
   "execution_count": 34,
   "id": "37a121db-53c8-4b59-b27c-05cd948a6073",
   "metadata": {},
   "outputs": [
    {
     "data": {
      "text/plain": [
       "'- **transfer_passenger_count**: Total number of transferring passengers.\\n- **airline_scheduling_season**: Whether summer / winter airline scheduling season.'"
      ]
     },
     "execution_count": 34,
     "metadata": {},
     "output_type": "execute_result"
    }
   ],
   "source": [
    "# allowed_variables_prompt = \"\\n\".join(\n",
    "#             [f\"- **{v.name}**: {v.description}\" for name, v in ALL_VARIABLES.items() if name in allowed_variables]\n",
    "# )\n",
    "\n",
    "# allowed_variables_prompt"
   ]
  },
  {
   "cell_type": "code",
   "execution_count": 96,
   "id": "5fa1587a-a2e3-481c-9fe5-703df5fb8ae1",
   "metadata": {},
   "outputs": [],
   "source": [
    "\n",
    "class ComputationGraphBuilder:\n",
    "    \"\"\"\n",
    "    Orchestrates the creation of a computation graph by preparing dynamic\n",
    "    constraints and prompting the LLM.\n",
    "    \"\"\"\n",
    "    \n",
    "    def __init__(self, model):\n",
    "        \"\"\"\n",
    "        Initializes the builder with a guidance model.\n",
    "        \"\"\"\n",
    "        self.model = model\n",
    "        # Set the default LLM for all guidance programs\n",
    "        # guidance.llm = self.model\n",
    "    @timing_decorator\n",
    "    def build(self, document_content: str, query: str, charge_category: str) -> dict:\n",
    "        \"\"\"\n",
    "        Generates a computation graph for a given query and document.\n",
    "\n",
    "        Args:\n",
    "            document_content: The text containing the rules.\n",
    "            query: A natural language question about what to calculate.\n",
    "            charge_category: The specific charge context used to filter variables.\n",
    "\n",
    "        Returns:\n",
    "            A dictionary representing the computation graph or an error.\n",
    "        \"\"\"\n",
    "        print(f\"--- Building graph for charge category: '{charge_category}' ---\")\n",
    "        \n",
    "        # 1. Dynamically create the filtered Enum for this specific task\n",
    "        try:\n",
    "            Var = create_dynamic_variable_enum(charge_category)\n",
    "        except ValueError as e:\n",
    "            print(f\"Error: {e}\")\n",
    "            return {\"error\": str(e)}\n",
    "\n",
    "        # 3. Create a formatted prompt string of allowed variables for the LLM\n",
    "        allowed_variables = [el.value for el in list(Var)]\n",
    "        allowed_variables_prompt = \"\\n\".join(\n",
    "            [f\"- **{v.name}**: {v.description}\" for name, v in ALL_VARIABLES.items() if name in allowed_variables]\n",
    "        )\n",
    "\n",
    "        try:\n",
    "            # 4. Execute the guidance program with all dynamic components\n",
    "            result_lm = self.model + create_expression_tree(\n",
    "                allowed_variables_prompt=allowed_variables_prompt,\n",
    "                document=document_content,\n",
    "                query=query,\n",
    "                output_schema=Node\n",
    "            )\n",
    "            \n",
    "            pydantic_graph = result_lm[\"expression_tree\"]\n",
    "            # print(\"\\nSuccessfully generated graph:\")\n",
    "            # # Use model_dump_json for Pydantic v2\n",
    "            # print(pydantic_graph.model_dump_json(indent=2)) \n",
    "            return pydantic_graph\n",
    "            \n",
    "        except Exception as e:\n",
    "            print(f\"\\nAn error occurred while building the graph for '{query}': {e}\")\n",
    "            return {\"error\": str(e)}"
   ]
  },
  {
   "cell_type": "code",
   "execution_count": 45,
   "id": "2011aa8d-cf8b-4541-91bf-58b926cd5526",
   "metadata": {},
   "outputs": [
    {
     "name": "stdout",
     "output_type": "stream",
     "text": [
      "--- Building graph for charge category: 'transfer_passenger_charge' ---\n"
     ]
    },
    {
     "data": {
      "application/vnd.jupyter.widget-view+json": {
       "model_id": "b9d68ff70aed48dab151a0c0a4e52677",
       "version_major": 2,
       "version_minor": 0
      },
      "text/plain": [
       "StitchWidget(initial_height='auto', initial_width='100%', srcdoc='<!doctype html>\\n<html lang=\"en\">\\n<head>\\n …"
      ]
     },
     "metadata": {},
     "output_type": "display_data"
    }
   ],
   "source": [
    "# 1. Instantiate the builder\n",
    "graph_builder = ComputationGraphBuilder(model=model)\n",
    "\n",
    "# 2. Define a query and its context\n",
    "my_query = \"Calculate the total transfer passenger charge for the summer scheduling season.\"\n",
    "my_charge_category = \"transfer_passenger_charge\"\n",
    "\n",
    "# 3. Call the build method to generate the graph\n",
    "expression_tree_dict = graph_builder.build(\n",
    "    document_content=markdown_content,\n",
    "    query=my_query,\n",
    "    charge_category=my_charge_category\n",
    ")"
   ]
  },
  {
   "cell_type": "code",
   "execution_count": 46,
   "id": "9df930ce-1cce-4aa4-9cf3-5be01c15b3eb",
   "metadata": {},
   "outputs": [
    {
     "data": {
      "text/plain": [
       "'{\"type\": \"OPERATION\", \"operator\": \"MULTIPLY\", \"left\": {\"type\": \"VALUE\", \"value\": 3.9, \"description\": \"Transfer passenger charge per passenger\"}, \"right\": {\"type\": \"VARIABLE\", \"name\": \"transfer_passenger_count\", \"description\": \"Number of transfer passengers\"}, \"description\": \"Total transfer passenger charge for summer scheduling season.\"}'"
      ]
     },
     "execution_count": 46,
     "metadata": {},
     "output_type": "execute_result"
    }
   ],
   "source": [
    "expression_tree_dict"
   ]
  },
  {
   "cell_type": "code",
   "execution_count": 49,
   "id": "050c1d61-1447-425a-b110-a4ae619b0928",
   "metadata": {},
   "outputs": [],
   "source": [
    "loaded_json = json.loads(expression_tree_dict)"
   ]
  },
  {
   "cell_type": "code",
   "execution_count": 51,
   "id": "61864de3-0a8a-406e-b288-92772fb33273",
   "metadata": {},
   "outputs": [
    {
     "data": {
      "text/plain": [
       "{'type': 'OPERATION',\n",
       " 'operator': 'MULTIPLY',\n",
       " 'left': {'type': 'VALUE',\n",
       "  'value': 3.9,\n",
       "  'description': 'Transfer passenger charge per passenger'},\n",
       " 'right': {'type': 'VARIABLE',\n",
       "  'name': 'transfer_passenger_count',\n",
       "  'description': 'Number of transfer passengers'},\n",
       " 'description': 'Total transfer passenger charge for summer scheduling season.'}"
      ]
     },
     "execution_count": 51,
     "metadata": {},
     "output_type": "execute_result"
    }
   ],
   "source": [
    "loaded_json"
   ]
  },
  {
   "cell_type": "code",
   "execution_count": 53,
   "id": "561a8fd9-b4a2-4479-a0e4-47aa8724dfa1",
   "metadata": {},
   "outputs": [
    {
     "name": "stdout",
     "output_type": "stream",
     "text": [
      "{\n",
      "    \"type\": \"OPERATION\",\n",
      "    \"operator\": \"MULTIPLY\",\n",
      "    \"left\": {\n",
      "        \"type\": \"VALUE\",\n",
      "        \"value\": 3.9,\n",
      "        \"description\": \"Transfer passenger charge per passenger\"\n",
      "    },\n",
      "    \"right\": {\n",
      "        \"type\": \"VARIABLE\",\n",
      "        \"name\": \"transfer_passenger_count\",\n",
      "        \"description\": \"Number of transfer passengers\"\n",
      "    },\n",
      "    \"description\": \"Total transfer passenger charge for summer scheduling season.\"\n",
      "}\n"
     ]
    }
   ],
   "source": [
    "print(json.dumps(loaded_json, indent=4))"
   ]
  },
  {
   "cell_type": "code",
   "execution_count": 56,
   "id": "3354d7f7-3969-498f-a77c-8d33deb60501",
   "metadata": {},
   "outputs": [],
   "source": [
    "result = Node.model_validate_json(expression_tree_dict)"
   ]
  },
  {
   "cell_type": "code",
   "execution_count": 58,
   "id": "3d34d259-a92a-4e0a-a8e1-d874c8e59c1c",
   "metadata": {},
   "outputs": [
    {
     "name": "stdout",
     "output_type": "stream",
     "text": [
      "{\n",
      "        \"type\": \"OPERATION\",\n",
      "        \"operator\": \"MULTIPLY\"\n",
      "}\n"
     ]
    }
   ],
   "source": [
    "print(result.model_dump_json(indent=8))"
   ]
  },
  {
   "cell_type": "code",
   "execution_count": 59,
   "id": "0d293717-0f4d-4e5b-a04e-85079ab9b4b1",
   "metadata": {},
   "outputs": [],
   "source": [
    "import sympy\n",
    "\n",
    "def json_to_sympy_expr(node: dict):\n",
    "    \"\"\"\n",
    "    Recursively converts a JSON expression tree node into a Sympy expression.\n",
    "    \"\"\"\n",
    "    node_type = node.get('type')\n",
    "\n",
    "    if node_type == 'OPERATION':\n",
    "        left_expr = json_to_sympy_expr(node['left'])\n",
    "        right_expr = json_to_sympy_expr(node['right'])\n",
    "        \n",
    "        if node['operator'] == 'MULTIPLY':\n",
    "            return left_expr * right_expr\n",
    "        elif node['operator'] == 'ADD':\n",
    "            return left_expr + right_expr\n",
    "        else:\n",
    "            raise ValueError(f\"Unsupported operator: {node.get('operator')}\")\n",
    "\n",
    "    elif node_type == 'VALUE':\n",
    "        return sympy.Number(node['value'])\n",
    "\n",
    "    elif node_type == 'VARIABLE':\n",
    "        return sympy.Symbol(node['name'])\n",
    "        \n",
    "    raise ValueError(f\"Unknown node type: {node_type}\")"
   ]
  },
  {
   "cell_type": "code",
   "execution_count": 61,
   "id": "6c24ee56-13b7-48ed-8457-3a1f2c07ae06",
   "metadata": {},
   "outputs": [
    {
     "data": {
      "text/plain": [
       "{'type': 'OPERATION',\n",
       " 'operator': 'MULTIPLY',\n",
       " 'left': {'type': 'VALUE',\n",
       "  'value': 3.9,\n",
       "  'description': 'Transfer passenger charge per passenger'},\n",
       " 'right': {'type': 'VARIABLE',\n",
       "  'name': 'transfer_passenger_count',\n",
       "  'description': 'Number of transfer passengers'},\n",
       " 'description': 'Total transfer passenger charge for summer scheduling season.'}"
      ]
     },
     "execution_count": 61,
     "metadata": {},
     "output_type": "execute_result"
    }
   ],
   "source": [
    "loaded_json"
   ]
  },
  {
   "cell_type": "code",
   "execution_count": 62,
   "id": "f13cfe77-4b70-46cb-88c4-3b47dc4c5eb0",
   "metadata": {},
   "outputs": [
    {
     "name": "stdout",
     "output_type": "stream",
     "text": [
      "Generated Sympy Expression: 3.9*transfer_passenger_count\n",
      "Result of substituting {'transfer_passenger_count': 30}: 117.000000000000\n"
     ]
    }
   ],
   "source": [
    "expression = json_to_sympy_expr(loaded_json)\n",
    "print(f\"Generated Sympy Expression: {expression}\")\n",
    "\n",
    "# 3. Evaluate the expression by substituting values for the variables\n",
    "variables = {'transfer_passenger_count': 30}\n",
    "result = expression.subs(variables)\n",
    "\n",
    "print(f\"Result of substituting {variables}: {result}\")"
   ]
  },
  {
   "cell_type": "code",
   "execution_count": 65,
   "id": "76dbdc6d-b72e-4bbb-af47-ce289a761496",
   "metadata": {},
   "outputs": [
    {
     "name": "stdout",
     "output_type": "stream",
     "text": [
      "--- Building graph for charge category: 'transfer_passenger_charge' ---\n"
     ]
    },
    {
     "data": {
      "application/vnd.jupyter.widget-view+json": {
       "model_id": "3d19e06676e149dba8a57a7b845aeb2d",
       "version_major": 2,
       "version_minor": 0
      },
      "text/plain": [
       "StitchWidget(initial_height='auto', initial_width='100%', srcdoc='<!doctype html>\\n<html lang=\"en\">\\n<head>\\n …"
      ]
     },
     "metadata": {},
     "output_type": "display_data"
    }
   ],
   "source": [
    "\n",
    "my_query = \"Calculate the total transfer passenger charge for the winter scheduling season.\"\n",
    "my_charge_category = \"transfer_passenger_charge\"\n",
    "\n",
    "# 3. Call the build method to generate the graph\n",
    "expression_tree_dict = graph_builder.build(\n",
    "    document_content=markdown_content,\n",
    "    query=my_query,\n",
    "    charge_category=my_charge_category\n",
    ")"
   ]
  },
  {
   "cell_type": "code",
   "execution_count": 66,
   "id": "4080a776-956a-49c7-aaf7-1875351d6b2c",
   "metadata": {},
   "outputs": [
    {
     "data": {
      "text/plain": [
       "{'type': 'OPERATION',\n",
       " 'operator': 'MULTIPLY',\n",
       " 'left': {'type': 'VALUE',\n",
       "  'value': 2.8,\n",
       "  'description': 'Transfer passenger charge per passenger'},\n",
       " 'right': {'type': 'VARIABLE',\n",
       "  'name': 'transfer_passenger_count',\n",
       "  'description': 'Number of transfer passengers'},\n",
       " 'description': 'Total transfer passenger charge for winter scheduling season.'}"
      ]
     },
     "execution_count": 66,
     "metadata": {},
     "output_type": "execute_result"
    }
   ],
   "source": [
    "loaded_json = json.loads(expression_tree_dict)\n",
    "loaded_json"
   ]
  },
  {
   "cell_type": "code",
   "execution_count": 67,
   "id": "11477a8e-f800-456c-986c-b7a48b0c2f0a",
   "metadata": {},
   "outputs": [
    {
     "name": "stdout",
     "output_type": "stream",
     "text": [
      "{\n",
      "    \"type\": \"OPERATION\",\n",
      "    \"operator\": \"MULTIPLY\",\n",
      "    \"left\": {\n",
      "        \"type\": \"VALUE\",\n",
      "        \"value\": 2.8,\n",
      "        \"description\": \"Transfer passenger charge per passenger\"\n",
      "    },\n",
      "    \"right\": {\n",
      "        \"type\": \"VARIABLE\",\n",
      "        \"name\": \"transfer_passenger_count\",\n",
      "        \"description\": \"Number of transfer passengers\"\n",
      "    },\n",
      "    \"description\": \"Total transfer passenger charge for winter scheduling season.\"\n",
      "}\n"
     ]
    }
   ],
   "source": [
    "print(json.dumps(loaded_json, indent=4))"
   ]
  },
  {
   "cell_type": "code",
   "execution_count": null,
   "id": "6fa67504-b885-4a76-b967-df4a66aaaab5",
   "metadata": {},
   "outputs": [],
   "source": [
    "\n",
    "my_query = \"Calculate the total transfer passenger charge for the winter scheduling season.\"\n",
    "my_charge_category = \"transfer_passenger_charge\"\n",
    "\n",
    "# 3. Call the build method to generate the graph\n",
    "start_time = time.perf_counter()\n",
    "expression_tree_dict = graph_builder.build(\n",
    "    document_content=markdown_content,\n",
    "    query=my_query,\n",
    "    charge_category=my_charge_category\n",
    ")\n",
    "end_time = time.perf_counter()\n",
    "execution_time = end_time - start_time\n",
    "# print(f\"Execution time for '{func.__name__}': {execution_time:.4f} seconds\")"
   ]
  },
  {
   "cell_type": "code",
   "execution_count": 73,
   "id": "fa892f24-37cb-400b-978e-64e5cc82a104",
   "metadata": {},
   "outputs": [
    {
     "data": {
      "text/plain": [
       "232.55998749099672"
      ]
     },
     "execution_count": 73,
     "metadata": {},
     "output_type": "execute_result"
    }
   ],
   "source": [
    "execution_time"
   ]
  },
  {
   "cell_type": "code",
   "execution_count": 78,
   "id": "0bda70c6-64ab-48ac-86ab-17844fe73de1",
   "metadata": {},
   "outputs": [],
   "source": [
    "ALL_VARIABLES = {\n",
    "    \n",
    "    'transfer_passenger_count': DomainVariable(name='transfer_passenger_count', description='Total number of transferring passengers.', unit=None, data_type=float),\n",
    "    'airline_scheduling_season': DomainVariable(name='airline_scheduling_season', description='Whether summer/winter airline scheduling season.', unit=None, data_type=float),\n",
    "    'takeoff_aircraft_mtow_tonnes': DomainVariable(name='takeoff_aircraft_mtow_tonnes', description='The Maximum Take-Off Weight in tonnes.', unit='tonne', data_type=float),\n",
    "    'landing_aircraft_mtow_tonnes': DomainVariable(name='landing_aircraft_mtow_tonnes', description='The Maximum Landing Weight in tonnes.', unit='tonne', data_type=float),\n",
    "    \n",
    "    'parking_duration_hours': DomainVariable(\n",
    "        name='parking_duration_hours',\n",
    "        description='Total duration of parking in hours. Surcharges apply at 48 and 72 hours.',\n",
    "        unit='hours',\n",
    "        data_type=float\n",
    "    ),\n",
    "    'aircraft_stand_type': DomainVariable(\n",
    "        name='aircraft_stand_type',\n",
    "        description='The type of aircraft stand used for parking. E.g., \"Wide Contact\", \"Narrow Remote\", \"LAP\", \"Long Term Remote\".',\n",
    "        unit=None,\n",
    "        data_type=str\n",
    "    ),\n",
    "    'parking_location': DomainVariable(\n",
    "        name='parking_location',\n",
    "        description='The location of the parking stand, either \"EAP\" (East Aerodrome Parking) or \"WAP\" (West Aerodrome Parking).',\n",
    "        unit=None,\n",
    "        data_type=str\n",
    "    ),\n",
    "    'is_overnight_parking': DomainVariable(\n",
    "        name='is_overnight_parking',\n",
    "        description='True if the parking occurs during the free overnight period (2300-0600hrs).',\n",
    "        unit=None,\n",
    "        data_type=bool\n",
    "    )\n",
    "}\n",
    "# 2. Map charge types to the variable names they are allowed to use\n",
    "CHARGE_CATEGORY_VARIABLES = {\n",
    "    # --- Existing Categories ---\n",
    "    \"transfer_passenger_charge\": [\n",
    "        'transfer_passenger_count', \n",
    "        'airline_scheduling_season'\n",
    "    ],\n",
    "    \"runway_landing_charge\": [\n",
    "        'landing_aircraft_mtow_tonnes', \n",
    "        'airline_scheduling_season'\n",
    "    ],\n",
    "    \"runway_takeoff_charge\": [\n",
    "        'takeoff_aircraft_mtow_tonnes', \n",
    "        'airline_scheduling_season'\n",
    "    ],\n",
    "\n",
    "    # --- New Categories for Parking Charges ---\n",
    "    \"east_aerodrome_parking_charge\": [\n",
    "        'parking_duration_hours',\n",
    "        'aircraft_stand_type',\n",
    "        'is_overnight_parking'\n",
    "        # 'parking_location' is implicitly 'EAP' for this category\n",
    "    ],\n",
    "    \"west_aerodrome_parking_charge\": [\n",
    "        'parking_duration_hours',\n",
    "        'aircraft_stand_type',\n",
    "        'is_overnight_parking'\n",
    "        # 'parking_location' is implicitly 'WAP' for this category\n",
    "    ]\n",
    "}\n",
    "\n"
   ]
  },
  {
   "cell_type": "code",
   "execution_count": 97,
   "id": "ef1f9677-77e9-4b5e-bee9-a59e28a9c751",
   "metadata": {},
   "outputs": [
    {
     "name": "stdout",
     "output_type": "stream",
     "text": [
      "--- Building graph for charge category: 'west_aerodrome_parking_charge' ---\n"
     ]
    },
    {
     "data": {
      "application/vnd.jupyter.widget-view+json": {
       "model_id": "74f31a87b4354a3581b681a231281d08",
       "version_major": 2,
       "version_minor": 0
      },
      "text/plain": [
       "StitchWidget(initial_height='auto', initial_width='100%', srcdoc='<!doctype html>\\n<html lang=\"en\">\\n<head>\\n …"
      ]
     },
     "metadata": {},
     "output_type": "display_data"
    }
   ],
   "source": [
    "\n",
    "my_query = \"Calculate the total parking charge for a wide remote aircraft stand type at West Aerodrome Parking with no overnight parking.\"\n",
    "my_charge_category = \"west_aerodrome_parking_charge\"\n",
    "\n",
    "# 3. Call the build method to generate the graph\n",
    "start_time = time.perf_counter()\n",
    "expression_tree_dict = graph_builder.build(\n",
    "    document_content=markdown_content,\n",
    "    query=my_query,\n",
    "    charge_category=my_charge_category\n",
    ")\n",
    "end_time = time.perf_counter()\n",
    "execution_time = end_time - start_time\n",
    "# print(f\"Execution time for '{func.__name__}': {execution_time:.4f} seconds\")"
   ]
  },
  {
   "cell_type": "code",
   "execution_count": 99,
   "id": "d13ef416-b85e-48cf-8d6f-5260432c8f2f",
   "metadata": {},
   "outputs": [
    {
     "data": {
      "text/plain": [
       "153.85250417119823"
      ]
     },
     "execution_count": 99,
     "metadata": {},
     "output_type": "execute_result"
    }
   ],
   "source": [
    "execution_time"
   ]
  },
  {
   "cell_type": "code",
   "execution_count": 100,
   "id": "21fef1d9-2967-4f50-82d0-355d132d6a7d",
   "metadata": {},
   "outputs": [
    {
     "name": "stdout",
     "output_type": "stream",
     "text": [
      "{\n",
      "    \"type\": \"VARIABLE\",\n",
      "    \"name\": \"parking_duration_hours\",\n",
      "    \"description\": \"Total duration of parking in hours. Surcharges apply at 48 and 72 hours.\"\n",
      "}\n"
     ]
    }
   ],
   "source": [
    "loaded_json = json.loads(expression_tree_dict)\n",
    "print(json.dumps(loaded_json, indent=4))"
   ]
  },
  {
   "cell_type": "code",
   "execution_count": 104,
   "id": "048a48c9-1cd0-4632-b0d3-9ad2b4e23e2f",
   "metadata": {},
   "outputs": [],
   "source": [
    "@guidance\n",
    "def create_graph_with_cot(llm, allowed_variables_prompt, document, query, output_schema):\n",
    "    \n",
    "    with system():\n",
    "        llm += f\"\"\"You are an expert system that converts textual calculation rules into structured JSON expression trees.\n",
    "        You MUST follow a step-by-step reasoning process before generating the final JSON.\n",
    "\n",
    "        **Reasoning Steps:**\n",
    "        1.  **Identify Base Rate:** Find the base numerical rate for the charge described in the user's query from the document.\n",
    "        2.  **Identify Variables:** List the symbolic variables needed for the calculation (e.g., parking_duration_hours).\n",
    "        3.  **Identify Logic:** Find any conditional logic (if-then-else surcharges) or mathematical conversions (e.g., hours to days).\n",
    "        4.  **Synthesize Plan:** Briefly describe how you will combine these pieces into a final expression tree.\n",
    "\n",
    "        After writing your reasoning, you will generate the JSON object.\n",
    "\n",
    "        **Allowed Variables for this Task:**\n",
    "        ---\n",
    "        {domain_variables_prompt}\n",
    "        ---\n",
    "        \"\"\"\n",
    "\n",
    "    with user():\n",
    "        llm += f\"\"\"\n",
    "        **Document:**\n",
    "        ---\n",
    "        {document}\n",
    "        ---\n",
    "\n",
    "        **Query:**\n",
    "        Based on the document, construct the computation graph for the following request:\n",
    "        \"{query}\"\n",
    "        \"\"\"\n",
    "\n",
    "    with assistant():\n",
    "        # This is the new Chain of Thought part. The model must \"think\" first.\n",
    "        llm += \"My step-by-step thinking process:\\n\"\n",
    "        llm += gen(\"thought\", stop=\"\\n\\n\", max_tokens=400)\n",
    "        \n",
    "        # After thinking, it generates the JSON.\n",
    "        llm += \"\\n\\nFinal JSON object:\\n\"\n",
    "        llm += gen_json(\n",
    "            name=\"result_graph\", \n",
    "            schema=output_schema,\n",
    "            max_tokens=1000 \n",
    "        )\n",
    "        \n",
    "    return llm"
   ]
  },
  {
   "cell_type": "code",
   "execution_count": 115,
   "id": "62f43043-1b70-478b-8f45-0301c2ccf118",
   "metadata": {},
   "outputs": [],
   "source": [
    "\n",
    "class ComputationGraphBuilder:\n",
    "    \"\"\"\n",
    "    Orchestrates the creation of a computation graph by preparing dynamic\n",
    "    constraints and prompting the LLM.\n",
    "    \"\"\"\n",
    "    \n",
    "    def __init__(self, model):\n",
    "        \"\"\"\n",
    "        Initializes the builder with a guidance model.\n",
    "        \"\"\"\n",
    "        self.model = model\n",
    "        # Set the default LLM for all guidance programs\n",
    "        # guidance.llm = self.model\n",
    "    @timing_decorator\n",
    "    def build(self, document_content: str, query: str, charge_category: str) -> dict:\n",
    "        \"\"\"\n",
    "        Generates a computation graph for a given query and document.\n",
    "\n",
    "        Args:\n",
    "            document_content: The text containing the rules.\n",
    "            query: A natural language question about what to calculate.\n",
    "            charge_category: The specific charge context used to filter variables.\n",
    "\n",
    "        Returns:\n",
    "            A dictionary representing the computation graph or an error.\n",
    "        \"\"\"\n",
    "        print(f\"--- Building graph for charge category: '{charge_category}' ---\")\n",
    "        \n",
    "        # 1. Dynamically create the filtered Enum for this specific task\n",
    "        try:\n",
    "            Var = create_dynamic_variable_enum(charge_category)\n",
    "        except ValueError as e:\n",
    "            print(f\"Error: {e}\")\n",
    "            return {\"error\": str(e)}\n",
    "\n",
    "        # 3. Create a formatted prompt string of allowed variables for the LLM\n",
    "        allowed_variables = [el.value for el in list(Var)]\n",
    "        allowed_variables_prompt = \"\\n\".join(\n",
    "            [f\"- **{v.name}**: {v.description}\" for name, v in ALL_VARIABLES.items() if name in allowed_variables]\n",
    "        )\n",
    "\n",
    "        try:\n",
    "            # 4. Execute the guidance program with all dynamic components\n",
    "            result_lm = self.model + create_graph_with_cot(\n",
    "                allowed_variables_prompt=allowed_variables_prompt,\n",
    "                document=document_content,\n",
    "                query=query,\n",
    "                output_schema=Node\n",
    "            )\n",
    "            \n",
    "            \n",
    "            # print(\"\\nSuccessfully generated graph:\")\n",
    "            # # Use model_dump_json for Pydantic v2\n",
    "            # print(pydantic_graph.model_dump_json(indent=2)) \n",
    "            return result_lm\n",
    "            \n",
    "        except Exception as e:\n",
    "            print(f\"\\nAn error occurred while building the graph for '{query}': {e}\")\n",
    "            return {\"error\": str(e)}"
   ]
  },
  {
   "cell_type": "code",
   "execution_count": 116,
   "id": "d3c855fe-4193-4c97-8a94-04d369fa6310",
   "metadata": {},
   "outputs": [
    {
     "name": "stdout",
     "output_type": "stream",
     "text": [
      "--- Building graph for charge category: 'west_aerodrome_parking_charge' ---\n"
     ]
    },
    {
     "data": {
      "application/vnd.jupyter.widget-view+json": {
       "model_id": "258bac3b69124ef6b842965817f4e5ed",
       "version_major": 2,
       "version_minor": 0
      },
      "text/plain": [
       "StitchWidget(initial_height='auto', initial_width='100%', srcdoc='<!doctype html>\\n<html lang=\"en\">\\n<head>\\n …"
      ]
     },
     "metadata": {},
     "output_type": "display_data"
    },
    {
     "name": "stderr",
     "output_type": "stream",
     "text": [
      "IOPub message rate exceeded.\n",
      "The Jupyter server will temporarily stop sending output\n",
      "to the client in order to avoid crashing it.\n",
      "To change this limit, set the config variable\n",
      "`--ServerApp.iopub_msg_rate_limit`.\n",
      "\n",
      "Current values:\n",
      "ServerApp.iopub_msg_rate_limit=1000.0 (msgs/sec)\n",
      "ServerApp.rate_limit_window=3.0 (secs)\n",
      "\n"
     ]
    }
   ],
   "source": [
    "graph_builder = ComputationGraphBuilder(model=model)\n",
    "\n",
    "my_query = \"Calculate the total parking charge for a wide remote aircraft stand type at West Aerodrome Parking with no overnight parking.\"\n",
    "my_charge_category = \"west_aerodrome_parking_charge\"\n",
    "\n",
    "# 3. Call the build method to generate the graph\n",
    "start_time = time.perf_counter()\n",
    "expression_tree_dict = graph_builder.build(\n",
    "    document_content=markdown_content,\n",
    "    query=my_query,\n",
    "    charge_category=my_charge_category\n",
    ")\n",
    "end_time = time.perf_counter()\n",
    "execution_time = end_time - start_time\n",
    "# print(f\"Execution time for '{func.__name__}': {execution_time:.4f} seconds\")"
   ]
  },
  {
   "cell_type": "code",
   "execution_count": 117,
   "id": "c91fb909-24ba-4c8f-9127-b56c1bcc0e6e",
   "metadata": {},
   "outputs": [
    {
     "data": {
      "text/plain": [
       "333.471676080022"
      ]
     },
     "execution_count": 117,
     "metadata": {},
     "output_type": "execute_result"
    }
   ],
   "source": [
    "execution_time"
   ]
  },
  {
   "cell_type": "code",
   "execution_count": 123,
   "id": "a50db73b-b155-491f-bad7-31ac10b08fd5",
   "metadata": {},
   "outputs": [
    {
     "name": "stdout",
     "output_type": "stream",
     "text": [
      "{\n",
      "    \"type\": \"COMPARISON\",\n",
      "    \"operator\": \"EQUAL_TO\",\n",
      "    \"left\": {\n",
      "        \"type\": \"VARIABLE\",\n",
      "        \"name\": \"parking_stand_type\",\n",
      "        \"description\": \"Type of aircraft stand (e.g., wide remote, narrow remote, etc.)\"\n",
      "    },\n",
      "    \"right\": {\n",
      "        \"type\": \"VALUE\",\n",
      "        \"value\": 9.6,\n",
      "        \"description\": \"Base rate for wide remote stand at WAP\"\n",
      "    }\n",
      "}\n"
     ]
    }
   ],
   "source": [
    "loaded_json = json.loads(expression_tree_dict['result_graph'])\n",
    "print(json.dumps(loaded_json, indent=4))  "
   ]
  },
  {
   "cell_type": "code",
   "execution_count": 122,
   "id": "0be72479-4dc5-43fc-b6e6-985d6d339bcc",
   "metadata": {},
   "outputs": [
    {
     "data": {
      "text/plain": [
       "'{\"type\": \"COMPARISON\", \"operator\": \"EQUAL_TO\", \"left\": {\"type\": \"VARIABLE\", \"name\": \"parking_stand_type\", \"description\": \"Type of aircraft stand (e.g., wide remote, narrow remote, etc.)\"}, \"right\": {\"type\": \"VALUE\", \"value\": 9.60, \"description\": \"Base rate for wide remote stand at WAP\"}}'"
      ]
     },
     "execution_count": 122,
     "metadata": {},
     "output_type": "execute_result"
    }
   ],
   "source": [
    "expression_tree_dict['result_graph']"
   ]
  }
 ],
 "metadata": {
  "kernelspec": {
   "display_name": "Python 3 (ipykernel)",
   "language": "python",
   "name": "python3"
  },
  "language_info": {
   "codemirror_mode": {
    "name": "ipython",
    "version": 3
   },
   "file_extension": ".py",
   "mimetype": "text/x-python",
   "name": "python",
   "nbconvert_exporter": "python",
   "pygments_lexer": "ipython3",
   "version": "3.11.5"
  }
 },
 "nbformat": 4,
 "nbformat_minor": 5
}
