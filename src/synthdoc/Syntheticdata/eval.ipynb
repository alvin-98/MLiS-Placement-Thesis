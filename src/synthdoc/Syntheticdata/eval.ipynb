{
 "cells": [
  {
   "cell_type": "code",
   "execution_count": 10,
   "id": "23770357",
   "metadata": {},
   "outputs": [],
   "source": [
    "import pandas as pd\n",
    "\n",
    "df=pd.read_csv('llmdata.csv')\n",
    "func_1=[]\n",
    "func_2=[]\n",
    "# would imagine there is a much more efficent way of doing this but works for prototyping\n",
    "for i in range(df.shape[0]):\n",
    "    func_1.append('''calculate_total_fee(1, 10, 'day')''')\n",
    "    func_2.append('''calculate_total_fee( 2, 5, 'night')''')\n",
    "df['func_1']=func_1\n",
    "df['func_2']=func_2\n",
    "\n",
    "\n",
    "outputs = []\n",
    "outputs2=[]\n",
    "for i, row in df.iterrows():\n",
    "    local_vars = {}\n",
    "    exec(row['function'], {}, local_vars)\n",
    "    output = eval(row['func_1'], {}, local_vars)\n",
    "    outputs.append(output)\n",
    "    output2 = eval(row['func_2'], {}, local_vars)\n",
    "    outputs2.append(output2)\n",
    "\n",
    "df['output1'] = outputs\n",
    "df['output2'] = outputs2\n",
    "\n",
    "\n",
    "correct = []\n",
    "for i, row in df.iterrows():\n",
    "    correct.append(row['output1']==row['check1'] and row['output2']==row['check2'])\n",
    "df['llm_correct'] = correct \n",
    "df.to_csv('results.csv')\n",
    "\n",
    "  \n",
    "\n"
   ]
  },
  {
   "cell_type": "code",
   "execution_count": null,
   "id": "e9951b28",
   "metadata": {},
   "outputs": [],
   "source": []
  }
 ],
 "metadata": {
  "kernelspec": {
   "display_name": "Python 3",
   "language": "python",
   "name": "python3"
  },
  "language_info": {
   "codemirror_mode": {
    "name": "ipython",
    "version": 3
   },
   "file_extension": ".py",
   "mimetype": "text/x-python",
   "name": "python",
   "nbconvert_exporter": "python",
   "pygments_lexer": "ipython3",
   "version": "3.10.17"
  }
 },
 "nbformat": 4,
 "nbformat_minor": 5
}
